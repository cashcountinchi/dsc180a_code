{
 "cells": [
  {
   "cell_type": "code",
   "execution_count": 1,
   "metadata": {
    "id": "OO0Fhu9nw_Ti"
   },
   "outputs": [],
   "source": [
    "from funcs import *   # library code\n",
    "\n",
    "import os\n",
    "import json\n",
    "import ee\n",
    "import json\n",
    "import folium\n",
    "import pandas as pd\n",
    "import numpy as np\n",
    "import math\n",
    "import altair as alt\n",
    "import urllib.request\n",
    "from sklearn.linear_model import LinearRegression\n",
    "import warnings\n",
    "\n",
    "warnings.filterwarnings('ignore')\n",
    "\n",
    "import subprocess\n",
    "try:\n",
    "    import geemap\n",
    "except ImportError:\n",
    "    subprocess.check_call([\"python\", '-m', 'pip', 'install', 'geemap'])\n",
    "    import geemap\n",
    "\n",
    "# pip install ipygee\n",
    "# import ipygee as ui"
   ]
  },
  {
   "cell_type": "code",
   "execution_count": 2,
   "metadata": {
    "colab": {
     "base_uri": "https://localhost:8080/"
    },
    "id": "V6Aq9HSexIxx",
    "outputId": "7c949935-3f41-4ebd-c151-59bd567e9c4b"
   },
   "outputs": [
    {
     "data": {
      "text/html": [
       "<p>To authorize access needed by Earth Engine, open the following\n",
       "        URL in a web browser and follow the instructions:</p>\n",
       "        <p><a href=https://accounts.google.com/o/oauth2/auth?client_id=517222506229-vsmmajv00ul0bs7p89v5m89qs8eb9359.apps.googleusercontent.com&scope=https%3A%2F%2Fwww.googleapis.com%2Fauth%2Fearthengine+https%3A%2F%2Fwww.googleapis.com%2Fauth%2Fdevstorage.full_control&redirect_uri=urn%3Aietf%3Awg%3Aoauth%3A2.0%3Aoob&response_type=code&code_challenge=Si6ZTHhXu2T80IDb0gytYLtxMVokIWYpJT12vU6mI6E&code_challenge_method=S256>https://accounts.google.com/o/oauth2/auth?client_id=517222506229-vsmmajv00ul0bs7p89v5m89qs8eb9359.apps.googleusercontent.com&scope=https%3A%2F%2Fwww.googleapis.com%2Fauth%2Fearthengine+https%3A%2F%2Fwww.googleapis.com%2Fauth%2Fdevstorage.full_control&redirect_uri=urn%3Aietf%3Awg%3Aoauth%3A2.0%3Aoob&response_type=code&code_challenge=Si6ZTHhXu2T80IDb0gytYLtxMVokIWYpJT12vU6mI6E&code_challenge_method=S256</a></p>\n",
       "        <p>The authorization workflow will generate a code, which you\n",
       "        should paste in the box below</p>\n",
       "        "
      ],
      "text/plain": [
       "<IPython.core.display.HTML object>"
      ]
     },
     "metadata": {},
     "output_type": "display_data"
    },
    {
     "name": "stdout",
     "output_type": "stream",
     "text": [
      "Enter verification code: 4/1AX4XfWgPK2hbiXgzlzjzjm8_NTVT_NcAKaQMLrT6mNhf6y3JcZFAr9xtHmg\n",
      "\n",
      "Successfully saved authorization token.\n"
     ]
    }
   ],
   "source": [
    "ee.Authenticate()"
   ]
  },
  {
   "cell_type": "code",
   "execution_count": 3,
   "metadata": {
    "id": "71Op7RDbxKUC"
   },
   "outputs": [],
   "source": [
    "ee.Initialize()"
   ]
  },
  {
   "cell_type": "code",
   "execution_count": null,
   "metadata": {},
   "outputs": [],
   "source": [
    "# from google.colab import drive\n",
    "# drive.mount('/content/drive')"
   ]
  },
  {
   "cell_type": "code",
   "execution_count": 4,
   "metadata": {},
   "outputs": [],
   "source": [
    "# Defines date ranges for analysis\n",
    "dateRange, epochs2022 = genDates()\n",
    "\n",
    "observedMonths = dateRange[:34]     # [2019-01, 2021-10]\n",
    "formattedAxisDates = [rangeFormatter(i[0]) for i in dateRange]\n",
    "\n",
    "# Defines regions for analysis\n",
    "madagascar, madagascarCenter, subset, subsetCenter = genEEGeometries()"
   ]
  },
  {
   "cell_type": "code",
   "execution_count": 5,
   "metadata": {},
   "outputs": [],
   "source": [
    "with open(\"config/gifParams.json\") as f:\n",
    "    gifParams_1, gifParams_2 = json.load(f)\n",
    "f.close()\n",
    "\n",
    "gifParams_1[\"region\"] = madagascar\n",
    "gifParams_2[\"region\"] = madagascar"
   ]
  },
  {
   "cell_type": "code",
   "execution_count": 6,
   "metadata": {
    "colab": {
     "base_uri": "https://localhost:8080/",
     "height": 338
    },
    "id": "LQj1z0WsZY6e",
    "outputId": "a0047260-5228-4200-9478-13f90db34f55"
   },
   "outputs": [
    {
     "data": {
      "application/vnd.jupyter.widget-view+json": {
       "model_id": "4f8e233ddeb44cd8a4d5dfa5671df268",
       "version_major": 2,
       "version_minor": 0
      },
      "text/plain": [
       "Output()"
      ]
     },
     "metadata": {},
     "output_type": "display_data"
    },
    {
     "data": {
      "application/vnd.jupyter.widget-view+json": {
       "model_id": "6024b95ad26f493ba3032690ec9d72d3",
       "version_major": 2,
       "version_minor": 0
      },
      "text/plain": [
       "Output()"
      ]
     },
     "metadata": {},
     "output_type": "display_data"
    }
   ],
   "source": [
    "# creates monthly gifs of NDVI, EVI in 2019 using Sentinel 2 images\n",
    "\n",
    "sentinel = ee.ImageCollection(\"COPERNICUS/S2_SR\"\n",
    "            ).filterBounds(madagascar\n",
    "            ).filterDate('2019-01-01', '2020-01-01')\n",
    "         \n",
    "# compute a monthly mosaic over Madagascar using [\"B2\", \"B4\", \"B8\"]\n",
    "monthlyMosaic = ee.List.sequence(1, 12).map(lambda x: sentinel.filter(ee.Filter.calendarRange(x, x, 'month')\n",
    "                                      ).select([\"B2\", \"B4\", \"B8\"]\n",
    "                                      ).mosaic(\n",
    "                                      ).set('month', x))\n",
    "\n",
    "sentinelGifDates = [str(i).zfill(2) + \"-\" + \"19\" for i in range(1, 13)]\n",
    "\n",
    "\n",
    "# use mosaic to compute an image with [NDVI, EVI] bands\n",
    "monthlyVI = ee.ImageCollection(monthlyMosaic).map(lambda x: calcVI(x))\n",
    "\n",
    "sentinelNDVI_url = monthlyVI.select(\"NDVI\").getVideoThumbURL(gifParams_1)\n",
    "sentinelEVI_url = monthlyVI.select(\"EVI\").getVideoThumbURL(gifParams_1)\n",
    "\n",
    "\n",
    "# Download VI gif to drive\n",
    "urllib.request.urlretrieve(sentinelNDVI_url, \"gifs/sentinelNDVI.gif\")\n",
    "urllib.request.urlretrieve(sentinelEVI_url, \"gifs/sentinelEVI.gif\")\n",
    "\n",
    "\n",
    "# Add image dates to gif\n",
    "geemap.add_text_to_gif(in_gif=\"gifs/sentinelNDVI.gif\", out_gif=\"gifs/sentinelNDVI.gif\",\n",
    "                       xy=(\"80%\", \"90%\"), text_sequence=sentinelGifDates, \n",
    "                       duration=500, font_color=\"red\")\n",
    "\n",
    "geemap.add_text_to_gif(in_gif=\"gifs/sentinelEVI.gif\", out_gif=\"gifs/sentinelEVI.gif\",\n",
    "                       xy=(\"80%\", \"90%\"), text_sequence=sentinelGifDates,\n",
    "                       duration=500, font_color=\"red\")\n",
    "\n",
    "\n",
    "# View generated gifs\n",
    "geemap.show_image(\"gifs/sentinelNDVI.gif\")\n",
    "geemap.show_image(\"gifs/sentinelEVI.gif\")"
   ]
  },
  {
   "cell_type": "code",
   "execution_count": 7,
   "metadata": {},
   "outputs": [
    {
     "data": {
      "application/vnd.jupyter.widget-view+json": {
       "model_id": "67e364cc6cd244a085f96bb801e4af54",
       "version_major": 2,
       "version_minor": 0
      },
      "text/plain": [
       "Output()"
      ]
     },
     "metadata": {},
     "output_type": "display_data"
    },
    {
     "data": {
      "application/vnd.jupyter.widget-view+json": {
       "model_id": "a9d4bf0413a949c7bf92bbdb61d6bb01",
       "version_major": 2,
       "version_minor": 0
      },
      "text/plain": [
       "Output()"
      ]
     },
     "metadata": {},
     "output_type": "display_data"
    }
   ],
   "source": [
    "# creates monthly gifs of NDVI, EVI 2019-2021 using MODIS vegetation indices\n",
    "\n",
    "# Loads MODIS VI collection\n",
    "modis = ee.ImageCollection(\"MODIS/006/MOD13Q1\"\n",
    "         ).filterBounds(madagascar\n",
    "         ).filterDate(\"2019-01-01\", \"2021-12-01\")\n",
    "\n",
    "modisMetadata = ee.List(modis.map(lambda x: x.metadata('system:time_start'))).getInfo()\n",
    "modisGifDates = [i[\"properties\"][\"system:index\"] for i in modisMetadata[\"features\"]]\n",
    "\n",
    "\n",
    "# Generate gif with EE\n",
    "modisNDVI_url = modis.select(\"NDVI\").getVideoThumbURL(gifParams_2)\n",
    "modisEVI_url = modis.select(\"EVI\").getVideoThumbURL(gifParams_2)\n",
    "\n",
    "\n",
    "# Download gif to repo\n",
    "urllib.request.urlretrieve(modisNDVI_url, \"gifs/modisNDVI.gif\")\n",
    "urllib.request.urlretrieve(modisEVI_url, \"gifs/modisEVI.gif\")\n",
    "\n",
    "\n",
    "# Add image dates to gifs\n",
    "geemap.add_text_to_gif(in_gif=\"gifs/modisNDVI.gif\", out_gif=\"gifs/modisNDVI.gif\",\n",
    "                       xy=(\"72.5%\", \"90%\"), text_sequence=modisGifDates, \n",
    "                       duration=200, font_color=\"red\")\n",
    "\n",
    "geemap.add_text_to_gif(in_gif=\"gifs/modisEVI.gif\", out_gif=\"gifs/modisEVI.gif\",\n",
    "                       xy=(\"72.5%\", \"90%\"), text_sequence=modisGifDates, \n",
    "                       duration=200, font_color=\"red\")\n",
    "\n",
    "\n",
    "# View generated gifs\n",
    "geemap.show_image(\"gifs/modisNDVI.gif\")\n",
    "geemap.show_image(\"gifs/modisEVI.gif\")"
   ]
  },
  {
   "cell_type": "markdown",
   "metadata": {
    "id": "cvkLmyvc-coz"
   },
   "source": [
    "## Cloud Masking"
   ]
  },
  {
   "cell_type": "code",
   "execution_count": 8,
   "metadata": {
    "colab": {
     "base_uri": "https://localhost:8080/",
     "height": 1000
    },
    "id": "JLpz2jjUiYvg",
    "outputId": "91b44cf0-c595-47f2-b606-01a96c0e33e7"
   },
   "outputs": [
    {
     "name": "stdout",
     "output_type": "stream",
     "text": [
      "2019-01-01 - 2019-02-01\n"
     ]
    },
    {
     "data": {
      "text/html": [
       "<div style=\"width:100%;\"><div style=\"position:relative;width:100%;height:0;padding-bottom:60%;\"><span style=\"color:#565656\">Make this Notebook Trusted to load map: File -> Trust Notebook</span><iframe src=\"about:blank\" style=\"position:absolute;width:100%;height:100%;left:0;top:0;border:none !important;\" data-html=%3C%21DOCTYPE%20html%3E%0A%3Chead%3E%20%20%20%20%0A%20%20%20%20%3Cmeta%20http-equiv%3D%22content-type%22%20content%3D%22text/html%3B%20charset%3DUTF-8%22%20/%3E%0A%20%20%20%20%0A%20%20%20%20%20%20%20%20%3Cscript%3E%0A%20%20%20%20%20%20%20%20%20%20%20%20L_NO_TOUCH%20%3D%20false%3B%0A%20%20%20%20%20%20%20%20%20%20%20%20L_DISABLE_3D%20%3D%20false%3B%0A%20%20%20%20%20%20%20%20%3C/script%3E%0A%20%20%20%20%0A%20%20%20%20%3Cstyle%3Ehtml%2C%20body%20%7Bwidth%3A%20100%25%3Bheight%3A%20100%25%3Bmargin%3A%200%3Bpadding%3A%200%3B%7D%3C/style%3E%0A%20%20%20%20%3Cstyle%3E%23map%20%7Bposition%3Aabsolute%3Btop%3A0%3Bbottom%3A0%3Bright%3A0%3Bleft%3A0%3B%7D%3C/style%3E%0A%20%20%20%20%3Cscript%20src%3D%22https%3A//cdn.jsdelivr.net/npm/leaflet%401.6.0/dist/leaflet.js%22%3E%3C/script%3E%0A%20%20%20%20%3Cscript%20src%3D%22https%3A//code.jquery.com/jquery-1.12.4.min.js%22%3E%3C/script%3E%0A%20%20%20%20%3Cscript%20src%3D%22https%3A//maxcdn.bootstrapcdn.com/bootstrap/3.2.0/js/bootstrap.min.js%22%3E%3C/script%3E%0A%20%20%20%20%3Cscript%20src%3D%22https%3A//cdnjs.cloudflare.com/ajax/libs/Leaflet.awesome-markers/2.0.2/leaflet.awesome-markers.js%22%3E%3C/script%3E%0A%20%20%20%20%3Clink%20rel%3D%22stylesheet%22%20href%3D%22https%3A//cdn.jsdelivr.net/npm/leaflet%401.6.0/dist/leaflet.css%22/%3E%0A%20%20%20%20%3Clink%20rel%3D%22stylesheet%22%20href%3D%22https%3A//maxcdn.bootstrapcdn.com/bootstrap/3.2.0/css/bootstrap.min.css%22/%3E%0A%20%20%20%20%3Clink%20rel%3D%22stylesheet%22%20href%3D%22https%3A//maxcdn.bootstrapcdn.com/bootstrap/3.2.0/css/bootstrap-theme.min.css%22/%3E%0A%20%20%20%20%3Clink%20rel%3D%22stylesheet%22%20href%3D%22https%3A//maxcdn.bootstrapcdn.com/font-awesome/4.6.3/css/font-awesome.min.css%22/%3E%0A%20%20%20%20%3Clink%20rel%3D%22stylesheet%22%20href%3D%22https%3A//cdnjs.cloudflare.com/ajax/libs/Leaflet.awesome-markers/2.0.2/leaflet.awesome-markers.css%22/%3E%0A%20%20%20%20%3Clink%20rel%3D%22stylesheet%22%20href%3D%22https%3A//cdn.jsdelivr.net/gh/python-visualization/folium/folium/templates/leaflet.awesome.rotate.min.css%22/%3E%0A%20%20%20%20%0A%20%20%20%20%20%20%20%20%20%20%20%20%3Cmeta%20name%3D%22viewport%22%20content%3D%22width%3Ddevice-width%2C%0A%20%20%20%20%20%20%20%20%20%20%20%20%20%20%20%20initial-scale%3D1.0%2C%20maximum-scale%3D1.0%2C%20user-scalable%3Dno%22%20/%3E%0A%20%20%20%20%20%20%20%20%20%20%20%20%3Cstyle%3E%0A%20%20%20%20%20%20%20%20%20%20%20%20%20%20%20%20%23map_a50e8350906e478a9c89eced47d3db45%20%7B%0A%20%20%20%20%20%20%20%20%20%20%20%20%20%20%20%20%20%20%20%20position%3A%20relative%3B%0A%20%20%20%20%20%20%20%20%20%20%20%20%20%20%20%20%20%20%20%20width%3A%20100.0%25%3B%0A%20%20%20%20%20%20%20%20%20%20%20%20%20%20%20%20%20%20%20%20height%3A%20100.0%25%3B%0A%20%20%20%20%20%20%20%20%20%20%20%20%20%20%20%20%20%20%20%20left%3A%200.0%25%3B%0A%20%20%20%20%20%20%20%20%20%20%20%20%20%20%20%20%20%20%20%20top%3A%200.0%25%3B%0A%20%20%20%20%20%20%20%20%20%20%20%20%20%20%20%20%7D%0A%20%20%20%20%20%20%20%20%20%20%20%20%3C/style%3E%0A%20%20%20%20%20%20%20%20%0A%3C/head%3E%0A%3Cbody%3E%20%20%20%20%0A%20%20%20%20%0A%20%20%20%20%20%20%20%20%20%20%20%20%3Cdiv%20class%3D%22folium-map%22%20id%3D%22map_a50e8350906e478a9c89eced47d3db45%22%20%3E%3C/div%3E%0A%20%20%20%20%20%20%20%20%0A%3C/body%3E%0A%3Cscript%3E%20%20%20%20%0A%20%20%20%20%0A%20%20%20%20%20%20%20%20%20%20%20%20var%20map_a50e8350906e478a9c89eced47d3db45%20%3D%20L.map%28%0A%20%20%20%20%20%20%20%20%20%20%20%20%20%20%20%20%22map_a50e8350906e478a9c89eced47d3db45%22%2C%0A%20%20%20%20%20%20%20%20%20%20%20%20%20%20%20%20%7B%0A%20%20%20%20%20%20%20%20%20%20%20%20%20%20%20%20%20%20%20%20center%3A%20%5B-19.705570084543737%2C%2044.70292749999976%5D%2C%0A%20%20%20%20%20%20%20%20%20%20%20%20%20%20%20%20%20%20%20%20crs%3A%20L.CRS.EPSG3857%2C%0A%20%20%20%20%20%20%20%20%20%20%20%20%20%20%20%20%20%20%20%20zoom%3A%2010%2C%0A%20%20%20%20%20%20%20%20%20%20%20%20%20%20%20%20%20%20%20%20zoomControl%3A%20true%2C%0A%20%20%20%20%20%20%20%20%20%20%20%20%20%20%20%20%20%20%20%20preferCanvas%3A%20false%2C%0A%20%20%20%20%20%20%20%20%20%20%20%20%20%20%20%20%7D%0A%20%20%20%20%20%20%20%20%20%20%20%20%29%3B%0A%0A%20%20%20%20%20%20%20%20%20%20%20%20%0A%0A%20%20%20%20%20%20%20%20%0A%20%20%20%20%0A%20%20%20%20%20%20%20%20%20%20%20%20var%20tile_layer_57fe2497980f4b9bbe1f3cc390cd8521%20%3D%20L.tileLayer%28%0A%20%20%20%20%20%20%20%20%20%20%20%20%20%20%20%20%22https%3A//%7Bs%7D.tile.openstreetmap.org/%7Bz%7D/%7Bx%7D/%7By%7D.png%22%2C%0A%20%20%20%20%20%20%20%20%20%20%20%20%20%20%20%20%7B%22attribution%22%3A%20%22Data%20by%20%5Cu0026copy%3B%20%5Cu003ca%20href%3D%5C%22http%3A//openstreetmap.org%5C%22%5Cu003eOpenStreetMap%5Cu003c/a%5Cu003e%2C%20under%20%5Cu003ca%20href%3D%5C%22http%3A//www.openstreetmap.org/copyright%5C%22%5Cu003eODbL%5Cu003c/a%5Cu003e.%22%2C%20%22detectRetina%22%3A%20false%2C%20%22maxNativeZoom%22%3A%2018%2C%20%22maxZoom%22%3A%2018%2C%20%22minZoom%22%3A%200%2C%20%22noWrap%22%3A%20false%2C%20%22opacity%22%3A%201%2C%20%22subdomains%22%3A%20%22abc%22%2C%20%22tms%22%3A%20false%7D%0A%20%20%20%20%20%20%20%20%20%20%20%20%29.addTo%28map_a50e8350906e478a9c89eced47d3db45%29%3B%0A%20%20%20%20%20%20%20%20%0A%20%20%20%20%0A%20%20%20%20%20%20%20%20%20%20%20%20var%20tile_layer_ad5e3441d72c4222a37e8453128fde66%20%3D%20L.tileLayer%28%0A%20%20%20%20%20%20%20%20%20%20%20%20%20%20%20%20%22https%3A//earthengine.googleapis.com/v1alpha/projects/earthengine-legacy/maps/9ffe131e8afe002979e9ef26403e33be-c5ea6527a4ff1b651e8cdd4634dbee96/tiles/%7Bz%7D/%7Bx%7D/%7By%7D%22%2C%0A%20%20%20%20%20%20%20%20%20%20%20%20%20%20%20%20%7B%22attribution%22%3A%20%22Map%20Data%20%5Cu0026copy%3B%20%5Cu003ca%20href%3D%5C%22https%3A//earthengine.google.com/%5C%22%5Cu003eGoogle%20Earth%20Engine%5Cu003c/a%5Cu003e%22%2C%20%22detectRetina%22%3A%20false%2C%20%22maxNativeZoom%22%3A%2018%2C%20%22maxZoom%22%3A%2018%2C%20%22minZoom%22%3A%209%2C%20%22noWrap%22%3A%20false%2C%20%22opacity%22%3A%201%2C%20%22subdomains%22%3A%20%22abc%22%2C%20%22tms%22%3A%20false%7D%0A%20%20%20%20%20%20%20%20%20%20%20%20%29.addTo%28map_a50e8350906e478a9c89eced47d3db45%29%3B%0A%20%20%20%20%20%20%20%20%0A%20%20%20%20%0A%20%20%20%20%20%20%20%20%20%20%20%20var%20layer_control_1a779a36aadc4d7e8b7be1791d58d12f%20%3D%20%7B%0A%20%20%20%20%20%20%20%20%20%20%20%20%20%20%20%20base_layers%20%3A%20%7B%0A%20%20%20%20%20%20%20%20%20%20%20%20%20%20%20%20%20%20%20%20%22openstreetmap%22%20%3A%20tile_layer_57fe2497980f4b9bbe1f3cc390cd8521%2C%0A%20%20%20%20%20%20%20%20%20%20%20%20%20%20%20%20%7D%2C%0A%20%20%20%20%20%20%20%20%20%20%20%20%20%20%20%20overlays%20%3A%20%20%7B%0A%20%20%20%20%20%20%20%20%20%20%20%20%20%20%20%20%20%20%20%20%22S2%20cloud-free%20mosaic%22%20%3A%20tile_layer_ad5e3441d72c4222a37e8453128fde66%2C%0A%20%20%20%20%20%20%20%20%20%20%20%20%20%20%20%20%7D%2C%0A%20%20%20%20%20%20%20%20%20%20%20%20%7D%3B%0A%20%20%20%20%20%20%20%20%20%20%20%20L.control.layers%28%0A%20%20%20%20%20%20%20%20%20%20%20%20%20%20%20%20layer_control_1a779a36aadc4d7e8b7be1791d58d12f.base_layers%2C%0A%20%20%20%20%20%20%20%20%20%20%20%20%20%20%20%20layer_control_1a779a36aadc4d7e8b7be1791d58d12f.overlays%2C%0A%20%20%20%20%20%20%20%20%20%20%20%20%20%20%20%20%7B%22autoZIndex%22%3A%20true%2C%20%22collapsed%22%3A%20true%2C%20%22position%22%3A%20%22topright%22%7D%0A%20%20%20%20%20%20%20%20%20%20%20%20%29.addTo%28map_a50e8350906e478a9c89eced47d3db45%29%3B%0A%20%20%20%20%20%20%20%20%0A%3C/script%3E onload=\"this.contentDocument.open();this.contentDocument.write(    decodeURIComponent(this.getAttribute('data-html')));this.contentDocument.close();\" allowfullscreen webkitallowfullscreen mozallowfullscreen></iframe></div></div>"
      ],
      "text/plain": [
       "<folium.folium.Map at 0x148ea7790>"
      ]
     },
     "metadata": {},
     "output_type": "display_data"
    },
    {
     "name": "stdout",
     "output_type": "stream",
     "text": [
      "\n",
      " \n",
      "\n",
      "2019-02-01 - 2019-03-01\n"
     ]
    },
    {
     "data": {
      "text/html": [
       "<div style=\"width:100%;\"><div style=\"position:relative;width:100%;height:0;padding-bottom:60%;\"><span style=\"color:#565656\">Make this Notebook Trusted to load map: File -> Trust Notebook</span><iframe src=\"about:blank\" style=\"position:absolute;width:100%;height:100%;left:0;top:0;border:none !important;\" data-html=%3C%21DOCTYPE%20html%3E%0A%3Chead%3E%20%20%20%20%0A%20%20%20%20%3Cmeta%20http-equiv%3D%22content-type%22%20content%3D%22text/html%3B%20charset%3DUTF-8%22%20/%3E%0A%20%20%20%20%0A%20%20%20%20%20%20%20%20%3Cscript%3E%0A%20%20%20%20%20%20%20%20%20%20%20%20L_NO_TOUCH%20%3D%20false%3B%0A%20%20%20%20%20%20%20%20%20%20%20%20L_DISABLE_3D%20%3D%20false%3B%0A%20%20%20%20%20%20%20%20%3C/script%3E%0A%20%20%20%20%0A%20%20%20%20%3Cstyle%3Ehtml%2C%20body%20%7Bwidth%3A%20100%25%3Bheight%3A%20100%25%3Bmargin%3A%200%3Bpadding%3A%200%3B%7D%3C/style%3E%0A%20%20%20%20%3Cstyle%3E%23map%20%7Bposition%3Aabsolute%3Btop%3A0%3Bbottom%3A0%3Bright%3A0%3Bleft%3A0%3B%7D%3C/style%3E%0A%20%20%20%20%3Cscript%20src%3D%22https%3A//cdn.jsdelivr.net/npm/leaflet%401.6.0/dist/leaflet.js%22%3E%3C/script%3E%0A%20%20%20%20%3Cscript%20src%3D%22https%3A//code.jquery.com/jquery-1.12.4.min.js%22%3E%3C/script%3E%0A%20%20%20%20%3Cscript%20src%3D%22https%3A//maxcdn.bootstrapcdn.com/bootstrap/3.2.0/js/bootstrap.min.js%22%3E%3C/script%3E%0A%20%20%20%20%3Cscript%20src%3D%22https%3A//cdnjs.cloudflare.com/ajax/libs/Leaflet.awesome-markers/2.0.2/leaflet.awesome-markers.js%22%3E%3C/script%3E%0A%20%20%20%20%3Clink%20rel%3D%22stylesheet%22%20href%3D%22https%3A//cdn.jsdelivr.net/npm/leaflet%401.6.0/dist/leaflet.css%22/%3E%0A%20%20%20%20%3Clink%20rel%3D%22stylesheet%22%20href%3D%22https%3A//maxcdn.bootstrapcdn.com/bootstrap/3.2.0/css/bootstrap.min.css%22/%3E%0A%20%20%20%20%3Clink%20rel%3D%22stylesheet%22%20href%3D%22https%3A//maxcdn.bootstrapcdn.com/bootstrap/3.2.0/css/bootstrap-theme.min.css%22/%3E%0A%20%20%20%20%3Clink%20rel%3D%22stylesheet%22%20href%3D%22https%3A//maxcdn.bootstrapcdn.com/font-awesome/4.6.3/css/font-awesome.min.css%22/%3E%0A%20%20%20%20%3Clink%20rel%3D%22stylesheet%22%20href%3D%22https%3A//cdnjs.cloudflare.com/ajax/libs/Leaflet.awesome-markers/2.0.2/leaflet.awesome-markers.css%22/%3E%0A%20%20%20%20%3Clink%20rel%3D%22stylesheet%22%20href%3D%22https%3A//cdn.jsdelivr.net/gh/python-visualization/folium/folium/templates/leaflet.awesome.rotate.min.css%22/%3E%0A%20%20%20%20%0A%20%20%20%20%20%20%20%20%20%20%20%20%3Cmeta%20name%3D%22viewport%22%20content%3D%22width%3Ddevice-width%2C%0A%20%20%20%20%20%20%20%20%20%20%20%20%20%20%20%20initial-scale%3D1.0%2C%20maximum-scale%3D1.0%2C%20user-scalable%3Dno%22%20/%3E%0A%20%20%20%20%20%20%20%20%20%20%20%20%3Cstyle%3E%0A%20%20%20%20%20%20%20%20%20%20%20%20%20%20%20%20%23map_94cd6a83b6d14859882ee772d073ef14%20%7B%0A%20%20%20%20%20%20%20%20%20%20%20%20%20%20%20%20%20%20%20%20position%3A%20relative%3B%0A%20%20%20%20%20%20%20%20%20%20%20%20%20%20%20%20%20%20%20%20width%3A%20100.0%25%3B%0A%20%20%20%20%20%20%20%20%20%20%20%20%20%20%20%20%20%20%20%20height%3A%20100.0%25%3B%0A%20%20%20%20%20%20%20%20%20%20%20%20%20%20%20%20%20%20%20%20left%3A%200.0%25%3B%0A%20%20%20%20%20%20%20%20%20%20%20%20%20%20%20%20%20%20%20%20top%3A%200.0%25%3B%0A%20%20%20%20%20%20%20%20%20%20%20%20%20%20%20%20%7D%0A%20%20%20%20%20%20%20%20%20%20%20%20%3C/style%3E%0A%20%20%20%20%20%20%20%20%0A%3C/head%3E%0A%3Cbody%3E%20%20%20%20%0A%20%20%20%20%0A%20%20%20%20%20%20%20%20%20%20%20%20%3Cdiv%20class%3D%22folium-map%22%20id%3D%22map_94cd6a83b6d14859882ee772d073ef14%22%20%3E%3C/div%3E%0A%20%20%20%20%20%20%20%20%0A%3C/body%3E%0A%3Cscript%3E%20%20%20%20%0A%20%20%20%20%0A%20%20%20%20%20%20%20%20%20%20%20%20var%20map_94cd6a83b6d14859882ee772d073ef14%20%3D%20L.map%28%0A%20%20%20%20%20%20%20%20%20%20%20%20%20%20%20%20%22map_94cd6a83b6d14859882ee772d073ef14%22%2C%0A%20%20%20%20%20%20%20%20%20%20%20%20%20%20%20%20%7B%0A%20%20%20%20%20%20%20%20%20%20%20%20%20%20%20%20%20%20%20%20center%3A%20%5B-19.705570084543737%2C%2044.70292749999976%5D%2C%0A%20%20%20%20%20%20%20%20%20%20%20%20%20%20%20%20%20%20%20%20crs%3A%20L.CRS.EPSG3857%2C%0A%20%20%20%20%20%20%20%20%20%20%20%20%20%20%20%20%20%20%20%20zoom%3A%2010%2C%0A%20%20%20%20%20%20%20%20%20%20%20%20%20%20%20%20%20%20%20%20zoomControl%3A%20true%2C%0A%20%20%20%20%20%20%20%20%20%20%20%20%20%20%20%20%20%20%20%20preferCanvas%3A%20false%2C%0A%20%20%20%20%20%20%20%20%20%20%20%20%20%20%20%20%7D%0A%20%20%20%20%20%20%20%20%20%20%20%20%29%3B%0A%0A%20%20%20%20%20%20%20%20%20%20%20%20%0A%0A%20%20%20%20%20%20%20%20%0A%20%20%20%20%0A%20%20%20%20%20%20%20%20%20%20%20%20var%20tile_layer_517151fed26f4df9a4d781a829d524ee%20%3D%20L.tileLayer%28%0A%20%20%20%20%20%20%20%20%20%20%20%20%20%20%20%20%22https%3A//%7Bs%7D.tile.openstreetmap.org/%7Bz%7D/%7Bx%7D/%7By%7D.png%22%2C%0A%20%20%20%20%20%20%20%20%20%20%20%20%20%20%20%20%7B%22attribution%22%3A%20%22Data%20by%20%5Cu0026copy%3B%20%5Cu003ca%20href%3D%5C%22http%3A//openstreetmap.org%5C%22%5Cu003eOpenStreetMap%5Cu003c/a%5Cu003e%2C%20under%20%5Cu003ca%20href%3D%5C%22http%3A//www.openstreetmap.org/copyright%5C%22%5Cu003eODbL%5Cu003c/a%5Cu003e.%22%2C%20%22detectRetina%22%3A%20false%2C%20%22maxNativeZoom%22%3A%2018%2C%20%22maxZoom%22%3A%2018%2C%20%22minZoom%22%3A%200%2C%20%22noWrap%22%3A%20false%2C%20%22opacity%22%3A%201%2C%20%22subdomains%22%3A%20%22abc%22%2C%20%22tms%22%3A%20false%7D%0A%20%20%20%20%20%20%20%20%20%20%20%20%29.addTo%28map_94cd6a83b6d14859882ee772d073ef14%29%3B%0A%20%20%20%20%20%20%20%20%0A%20%20%20%20%0A%20%20%20%20%20%20%20%20%20%20%20%20var%20tile_layer_65ae8376daec4d7498d26d6614c9643b%20%3D%20L.tileLayer%28%0A%20%20%20%20%20%20%20%20%20%20%20%20%20%20%20%20%22https%3A//earthengine.googleapis.com/v1alpha/projects/earthengine-legacy/maps/ce0a8c3df1dcce5388439eb00bec55bc-08cf2aa16358a9a9b964b6a65feb5526/tiles/%7Bz%7D/%7Bx%7D/%7By%7D%22%2C%0A%20%20%20%20%20%20%20%20%20%20%20%20%20%20%20%20%7B%22attribution%22%3A%20%22Map%20Data%20%5Cu0026copy%3B%20%5Cu003ca%20href%3D%5C%22https%3A//earthengine.google.com/%5C%22%5Cu003eGoogle%20Earth%20Engine%5Cu003c/a%5Cu003e%22%2C%20%22detectRetina%22%3A%20false%2C%20%22maxNativeZoom%22%3A%2018%2C%20%22maxZoom%22%3A%2018%2C%20%22minZoom%22%3A%209%2C%20%22noWrap%22%3A%20false%2C%20%22opacity%22%3A%201%2C%20%22subdomains%22%3A%20%22abc%22%2C%20%22tms%22%3A%20false%7D%0A%20%20%20%20%20%20%20%20%20%20%20%20%29.addTo%28map_94cd6a83b6d14859882ee772d073ef14%29%3B%0A%20%20%20%20%20%20%20%20%0A%20%20%20%20%0A%20%20%20%20%20%20%20%20%20%20%20%20var%20layer_control_3b591c2b6d144a1689c11ffaf29e42f6%20%3D%20%7B%0A%20%20%20%20%20%20%20%20%20%20%20%20%20%20%20%20base_layers%20%3A%20%7B%0A%20%20%20%20%20%20%20%20%20%20%20%20%20%20%20%20%20%20%20%20%22openstreetmap%22%20%3A%20tile_layer_517151fed26f4df9a4d781a829d524ee%2C%0A%20%20%20%20%20%20%20%20%20%20%20%20%20%20%20%20%7D%2C%0A%20%20%20%20%20%20%20%20%20%20%20%20%20%20%20%20overlays%20%3A%20%20%7B%0A%20%20%20%20%20%20%20%20%20%20%20%20%20%20%20%20%20%20%20%20%22S2%20cloud-free%20mosaic%22%20%3A%20tile_layer_65ae8376daec4d7498d26d6614c9643b%2C%0A%20%20%20%20%20%20%20%20%20%20%20%20%20%20%20%20%7D%2C%0A%20%20%20%20%20%20%20%20%20%20%20%20%7D%3B%0A%20%20%20%20%20%20%20%20%20%20%20%20L.control.layers%28%0A%20%20%20%20%20%20%20%20%20%20%20%20%20%20%20%20layer_control_3b591c2b6d144a1689c11ffaf29e42f6.base_layers%2C%0A%20%20%20%20%20%20%20%20%20%20%20%20%20%20%20%20layer_control_3b591c2b6d144a1689c11ffaf29e42f6.overlays%2C%0A%20%20%20%20%20%20%20%20%20%20%20%20%20%20%20%20%7B%22autoZIndex%22%3A%20true%2C%20%22collapsed%22%3A%20true%2C%20%22position%22%3A%20%22topright%22%7D%0A%20%20%20%20%20%20%20%20%20%20%20%20%29.addTo%28map_94cd6a83b6d14859882ee772d073ef14%29%3B%0A%20%20%20%20%20%20%20%20%0A%3C/script%3E onload=\"this.contentDocument.open();this.contentDocument.write(    decodeURIComponent(this.getAttribute('data-html')));this.contentDocument.close();\" allowfullscreen webkitallowfullscreen mozallowfullscreen></iframe></div></div>"
      ],
      "text/plain": [
       "<folium.folium.Map at 0x1482a2f40>"
      ]
     },
     "metadata": {},
     "output_type": "display_data"
    },
    {
     "name": "stdout",
     "output_type": "stream",
     "text": [
      "\n",
      " \n",
      "\n",
      "2019-03-01 - 2019-04-01\n"
     ]
    },
    {
     "data": {
      "text/html": [
       "<div style=\"width:100%;\"><div style=\"position:relative;width:100%;height:0;padding-bottom:60%;\"><span style=\"color:#565656\">Make this Notebook Trusted to load map: File -> Trust Notebook</span><iframe src=\"about:blank\" style=\"position:absolute;width:100%;height:100%;left:0;top:0;border:none !important;\" data-html=%3C%21DOCTYPE%20html%3E%0A%3Chead%3E%20%20%20%20%0A%20%20%20%20%3Cmeta%20http-equiv%3D%22content-type%22%20content%3D%22text/html%3B%20charset%3DUTF-8%22%20/%3E%0A%20%20%20%20%0A%20%20%20%20%20%20%20%20%3Cscript%3E%0A%20%20%20%20%20%20%20%20%20%20%20%20L_NO_TOUCH%20%3D%20false%3B%0A%20%20%20%20%20%20%20%20%20%20%20%20L_DISABLE_3D%20%3D%20false%3B%0A%20%20%20%20%20%20%20%20%3C/script%3E%0A%20%20%20%20%0A%20%20%20%20%3Cstyle%3Ehtml%2C%20body%20%7Bwidth%3A%20100%25%3Bheight%3A%20100%25%3Bmargin%3A%200%3Bpadding%3A%200%3B%7D%3C/style%3E%0A%20%20%20%20%3Cstyle%3E%23map%20%7Bposition%3Aabsolute%3Btop%3A0%3Bbottom%3A0%3Bright%3A0%3Bleft%3A0%3B%7D%3C/style%3E%0A%20%20%20%20%3Cscript%20src%3D%22https%3A//cdn.jsdelivr.net/npm/leaflet%401.6.0/dist/leaflet.js%22%3E%3C/script%3E%0A%20%20%20%20%3Cscript%20src%3D%22https%3A//code.jquery.com/jquery-1.12.4.min.js%22%3E%3C/script%3E%0A%20%20%20%20%3Cscript%20src%3D%22https%3A//maxcdn.bootstrapcdn.com/bootstrap/3.2.0/js/bootstrap.min.js%22%3E%3C/script%3E%0A%20%20%20%20%3Cscript%20src%3D%22https%3A//cdnjs.cloudflare.com/ajax/libs/Leaflet.awesome-markers/2.0.2/leaflet.awesome-markers.js%22%3E%3C/script%3E%0A%20%20%20%20%3Clink%20rel%3D%22stylesheet%22%20href%3D%22https%3A//cdn.jsdelivr.net/npm/leaflet%401.6.0/dist/leaflet.css%22/%3E%0A%20%20%20%20%3Clink%20rel%3D%22stylesheet%22%20href%3D%22https%3A//maxcdn.bootstrapcdn.com/bootstrap/3.2.0/css/bootstrap.min.css%22/%3E%0A%20%20%20%20%3Clink%20rel%3D%22stylesheet%22%20href%3D%22https%3A//maxcdn.bootstrapcdn.com/bootstrap/3.2.0/css/bootstrap-theme.min.css%22/%3E%0A%20%20%20%20%3Clink%20rel%3D%22stylesheet%22%20href%3D%22https%3A//maxcdn.bootstrapcdn.com/font-awesome/4.6.3/css/font-awesome.min.css%22/%3E%0A%20%20%20%20%3Clink%20rel%3D%22stylesheet%22%20href%3D%22https%3A//cdnjs.cloudflare.com/ajax/libs/Leaflet.awesome-markers/2.0.2/leaflet.awesome-markers.css%22/%3E%0A%20%20%20%20%3Clink%20rel%3D%22stylesheet%22%20href%3D%22https%3A//cdn.jsdelivr.net/gh/python-visualization/folium/folium/templates/leaflet.awesome.rotate.min.css%22/%3E%0A%20%20%20%20%0A%20%20%20%20%20%20%20%20%20%20%20%20%3Cmeta%20name%3D%22viewport%22%20content%3D%22width%3Ddevice-width%2C%0A%20%20%20%20%20%20%20%20%20%20%20%20%20%20%20%20initial-scale%3D1.0%2C%20maximum-scale%3D1.0%2C%20user-scalable%3Dno%22%20/%3E%0A%20%20%20%20%20%20%20%20%20%20%20%20%3Cstyle%3E%0A%20%20%20%20%20%20%20%20%20%20%20%20%20%20%20%20%23map_c611c6f12e7c45519e9ddd74037de0c6%20%7B%0A%20%20%20%20%20%20%20%20%20%20%20%20%20%20%20%20%20%20%20%20position%3A%20relative%3B%0A%20%20%20%20%20%20%20%20%20%20%20%20%20%20%20%20%20%20%20%20width%3A%20100.0%25%3B%0A%20%20%20%20%20%20%20%20%20%20%20%20%20%20%20%20%20%20%20%20height%3A%20100.0%25%3B%0A%20%20%20%20%20%20%20%20%20%20%20%20%20%20%20%20%20%20%20%20left%3A%200.0%25%3B%0A%20%20%20%20%20%20%20%20%20%20%20%20%20%20%20%20%20%20%20%20top%3A%200.0%25%3B%0A%20%20%20%20%20%20%20%20%20%20%20%20%20%20%20%20%7D%0A%20%20%20%20%20%20%20%20%20%20%20%20%3C/style%3E%0A%20%20%20%20%20%20%20%20%0A%3C/head%3E%0A%3Cbody%3E%20%20%20%20%0A%20%20%20%20%0A%20%20%20%20%20%20%20%20%20%20%20%20%3Cdiv%20class%3D%22folium-map%22%20id%3D%22map_c611c6f12e7c45519e9ddd74037de0c6%22%20%3E%3C/div%3E%0A%20%20%20%20%20%20%20%20%0A%3C/body%3E%0A%3Cscript%3E%20%20%20%20%0A%20%20%20%20%0A%20%20%20%20%20%20%20%20%20%20%20%20var%20map_c611c6f12e7c45519e9ddd74037de0c6%20%3D%20L.map%28%0A%20%20%20%20%20%20%20%20%20%20%20%20%20%20%20%20%22map_c611c6f12e7c45519e9ddd74037de0c6%22%2C%0A%20%20%20%20%20%20%20%20%20%20%20%20%20%20%20%20%7B%0A%20%20%20%20%20%20%20%20%20%20%20%20%20%20%20%20%20%20%20%20center%3A%20%5B-19.705570084543737%2C%2044.70292749999976%5D%2C%0A%20%20%20%20%20%20%20%20%20%20%20%20%20%20%20%20%20%20%20%20crs%3A%20L.CRS.EPSG3857%2C%0A%20%20%20%20%20%20%20%20%20%20%20%20%20%20%20%20%20%20%20%20zoom%3A%2010%2C%0A%20%20%20%20%20%20%20%20%20%20%20%20%20%20%20%20%20%20%20%20zoomControl%3A%20true%2C%0A%20%20%20%20%20%20%20%20%20%20%20%20%20%20%20%20%20%20%20%20preferCanvas%3A%20false%2C%0A%20%20%20%20%20%20%20%20%20%20%20%20%20%20%20%20%7D%0A%20%20%20%20%20%20%20%20%20%20%20%20%29%3B%0A%0A%20%20%20%20%20%20%20%20%20%20%20%20%0A%0A%20%20%20%20%20%20%20%20%0A%20%20%20%20%0A%20%20%20%20%20%20%20%20%20%20%20%20var%20tile_layer_2861c8db5c7a4eea8182dc6bbbbfea16%20%3D%20L.tileLayer%28%0A%20%20%20%20%20%20%20%20%20%20%20%20%20%20%20%20%22https%3A//%7Bs%7D.tile.openstreetmap.org/%7Bz%7D/%7Bx%7D/%7By%7D.png%22%2C%0A%20%20%20%20%20%20%20%20%20%20%20%20%20%20%20%20%7B%22attribution%22%3A%20%22Data%20by%20%5Cu0026copy%3B%20%5Cu003ca%20href%3D%5C%22http%3A//openstreetmap.org%5C%22%5Cu003eOpenStreetMap%5Cu003c/a%5Cu003e%2C%20under%20%5Cu003ca%20href%3D%5C%22http%3A//www.openstreetmap.org/copyright%5C%22%5Cu003eODbL%5Cu003c/a%5Cu003e.%22%2C%20%22detectRetina%22%3A%20false%2C%20%22maxNativeZoom%22%3A%2018%2C%20%22maxZoom%22%3A%2018%2C%20%22minZoom%22%3A%200%2C%20%22noWrap%22%3A%20false%2C%20%22opacity%22%3A%201%2C%20%22subdomains%22%3A%20%22abc%22%2C%20%22tms%22%3A%20false%7D%0A%20%20%20%20%20%20%20%20%20%20%20%20%29.addTo%28map_c611c6f12e7c45519e9ddd74037de0c6%29%3B%0A%20%20%20%20%20%20%20%20%0A%20%20%20%20%0A%20%20%20%20%20%20%20%20%20%20%20%20var%20tile_layer_90ddd1c082824b9689be255ba442e0ee%20%3D%20L.tileLayer%28%0A%20%20%20%20%20%20%20%20%20%20%20%20%20%20%20%20%22https%3A//earthengine.googleapis.com/v1alpha/projects/earthengine-legacy/maps/4feb09862e08033d93e799d5dd12c01e-2630a5370323895b9f8771629736f472/tiles/%7Bz%7D/%7Bx%7D/%7By%7D%22%2C%0A%20%20%20%20%20%20%20%20%20%20%20%20%20%20%20%20%7B%22attribution%22%3A%20%22Map%20Data%20%5Cu0026copy%3B%20%5Cu003ca%20href%3D%5C%22https%3A//earthengine.google.com/%5C%22%5Cu003eGoogle%20Earth%20Engine%5Cu003c/a%5Cu003e%22%2C%20%22detectRetina%22%3A%20false%2C%20%22maxNativeZoom%22%3A%2018%2C%20%22maxZoom%22%3A%2018%2C%20%22minZoom%22%3A%209%2C%20%22noWrap%22%3A%20false%2C%20%22opacity%22%3A%201%2C%20%22subdomains%22%3A%20%22abc%22%2C%20%22tms%22%3A%20false%7D%0A%20%20%20%20%20%20%20%20%20%20%20%20%29.addTo%28map_c611c6f12e7c45519e9ddd74037de0c6%29%3B%0A%20%20%20%20%20%20%20%20%0A%20%20%20%20%0A%20%20%20%20%20%20%20%20%20%20%20%20var%20layer_control_177d269a42d74be3aaf995637a6e9afd%20%3D%20%7B%0A%20%20%20%20%20%20%20%20%20%20%20%20%20%20%20%20base_layers%20%3A%20%7B%0A%20%20%20%20%20%20%20%20%20%20%20%20%20%20%20%20%20%20%20%20%22openstreetmap%22%20%3A%20tile_layer_2861c8db5c7a4eea8182dc6bbbbfea16%2C%0A%20%20%20%20%20%20%20%20%20%20%20%20%20%20%20%20%7D%2C%0A%20%20%20%20%20%20%20%20%20%20%20%20%20%20%20%20overlays%20%3A%20%20%7B%0A%20%20%20%20%20%20%20%20%20%20%20%20%20%20%20%20%20%20%20%20%22S2%20cloud-free%20mosaic%22%20%3A%20tile_layer_90ddd1c082824b9689be255ba442e0ee%2C%0A%20%20%20%20%20%20%20%20%20%20%20%20%20%20%20%20%7D%2C%0A%20%20%20%20%20%20%20%20%20%20%20%20%7D%3B%0A%20%20%20%20%20%20%20%20%20%20%20%20L.control.layers%28%0A%20%20%20%20%20%20%20%20%20%20%20%20%20%20%20%20layer_control_177d269a42d74be3aaf995637a6e9afd.base_layers%2C%0A%20%20%20%20%20%20%20%20%20%20%20%20%20%20%20%20layer_control_177d269a42d74be3aaf995637a6e9afd.overlays%2C%0A%20%20%20%20%20%20%20%20%20%20%20%20%20%20%20%20%7B%22autoZIndex%22%3A%20true%2C%20%22collapsed%22%3A%20true%2C%20%22position%22%3A%20%22topright%22%7D%0A%20%20%20%20%20%20%20%20%20%20%20%20%29.addTo%28map_c611c6f12e7c45519e9ddd74037de0c6%29%3B%0A%20%20%20%20%20%20%20%20%0A%3C/script%3E onload=\"this.contentDocument.open();this.contentDocument.write(    decodeURIComponent(this.getAttribute('data-html')));this.contentDocument.close();\" allowfullscreen webkitallowfullscreen mozallowfullscreen></iframe></div></div>"
      ],
      "text/plain": [
       "<folium.folium.Map at 0x148ec0220>"
      ]
     },
     "metadata": {},
     "output_type": "display_data"
    },
    {
     "name": "stdout",
     "output_type": "stream",
     "text": [
      "\n",
      " \n",
      "\n",
      "2019-04-01 - 2019-05-01\n"
     ]
    },
    {
     "data": {
      "text/html": [
       "<div style=\"width:100%;\"><div style=\"position:relative;width:100%;height:0;padding-bottom:60%;\"><span style=\"color:#565656\">Make this Notebook Trusted to load map: File -> Trust Notebook</span><iframe src=\"about:blank\" style=\"position:absolute;width:100%;height:100%;left:0;top:0;border:none !important;\" data-html=%3C%21DOCTYPE%20html%3E%0A%3Chead%3E%20%20%20%20%0A%20%20%20%20%3Cmeta%20http-equiv%3D%22content-type%22%20content%3D%22text/html%3B%20charset%3DUTF-8%22%20/%3E%0A%20%20%20%20%0A%20%20%20%20%20%20%20%20%3Cscript%3E%0A%20%20%20%20%20%20%20%20%20%20%20%20L_NO_TOUCH%20%3D%20false%3B%0A%20%20%20%20%20%20%20%20%20%20%20%20L_DISABLE_3D%20%3D%20false%3B%0A%20%20%20%20%20%20%20%20%3C/script%3E%0A%20%20%20%20%0A%20%20%20%20%3Cstyle%3Ehtml%2C%20body%20%7Bwidth%3A%20100%25%3Bheight%3A%20100%25%3Bmargin%3A%200%3Bpadding%3A%200%3B%7D%3C/style%3E%0A%20%20%20%20%3Cstyle%3E%23map%20%7Bposition%3Aabsolute%3Btop%3A0%3Bbottom%3A0%3Bright%3A0%3Bleft%3A0%3B%7D%3C/style%3E%0A%20%20%20%20%3Cscript%20src%3D%22https%3A//cdn.jsdelivr.net/npm/leaflet%401.6.0/dist/leaflet.js%22%3E%3C/script%3E%0A%20%20%20%20%3Cscript%20src%3D%22https%3A//code.jquery.com/jquery-1.12.4.min.js%22%3E%3C/script%3E%0A%20%20%20%20%3Cscript%20src%3D%22https%3A//maxcdn.bootstrapcdn.com/bootstrap/3.2.0/js/bootstrap.min.js%22%3E%3C/script%3E%0A%20%20%20%20%3Cscript%20src%3D%22https%3A//cdnjs.cloudflare.com/ajax/libs/Leaflet.awesome-markers/2.0.2/leaflet.awesome-markers.js%22%3E%3C/script%3E%0A%20%20%20%20%3Clink%20rel%3D%22stylesheet%22%20href%3D%22https%3A//cdn.jsdelivr.net/npm/leaflet%401.6.0/dist/leaflet.css%22/%3E%0A%20%20%20%20%3Clink%20rel%3D%22stylesheet%22%20href%3D%22https%3A//maxcdn.bootstrapcdn.com/bootstrap/3.2.0/css/bootstrap.min.css%22/%3E%0A%20%20%20%20%3Clink%20rel%3D%22stylesheet%22%20href%3D%22https%3A//maxcdn.bootstrapcdn.com/bootstrap/3.2.0/css/bootstrap-theme.min.css%22/%3E%0A%20%20%20%20%3Clink%20rel%3D%22stylesheet%22%20href%3D%22https%3A//maxcdn.bootstrapcdn.com/font-awesome/4.6.3/css/font-awesome.min.css%22/%3E%0A%20%20%20%20%3Clink%20rel%3D%22stylesheet%22%20href%3D%22https%3A//cdnjs.cloudflare.com/ajax/libs/Leaflet.awesome-markers/2.0.2/leaflet.awesome-markers.css%22/%3E%0A%20%20%20%20%3Clink%20rel%3D%22stylesheet%22%20href%3D%22https%3A//cdn.jsdelivr.net/gh/python-visualization/folium/folium/templates/leaflet.awesome.rotate.min.css%22/%3E%0A%20%20%20%20%0A%20%20%20%20%20%20%20%20%20%20%20%20%3Cmeta%20name%3D%22viewport%22%20content%3D%22width%3Ddevice-width%2C%0A%20%20%20%20%20%20%20%20%20%20%20%20%20%20%20%20initial-scale%3D1.0%2C%20maximum-scale%3D1.0%2C%20user-scalable%3Dno%22%20/%3E%0A%20%20%20%20%20%20%20%20%20%20%20%20%3Cstyle%3E%0A%20%20%20%20%20%20%20%20%20%20%20%20%20%20%20%20%23map_2b485ff226e24acda7ceff849681bc08%20%7B%0A%20%20%20%20%20%20%20%20%20%20%20%20%20%20%20%20%20%20%20%20position%3A%20relative%3B%0A%20%20%20%20%20%20%20%20%20%20%20%20%20%20%20%20%20%20%20%20width%3A%20100.0%25%3B%0A%20%20%20%20%20%20%20%20%20%20%20%20%20%20%20%20%20%20%20%20height%3A%20100.0%25%3B%0A%20%20%20%20%20%20%20%20%20%20%20%20%20%20%20%20%20%20%20%20left%3A%200.0%25%3B%0A%20%20%20%20%20%20%20%20%20%20%20%20%20%20%20%20%20%20%20%20top%3A%200.0%25%3B%0A%20%20%20%20%20%20%20%20%20%20%20%20%20%20%20%20%7D%0A%20%20%20%20%20%20%20%20%20%20%20%20%3C/style%3E%0A%20%20%20%20%20%20%20%20%0A%3C/head%3E%0A%3Cbody%3E%20%20%20%20%0A%20%20%20%20%0A%20%20%20%20%20%20%20%20%20%20%20%20%3Cdiv%20class%3D%22folium-map%22%20id%3D%22map_2b485ff226e24acda7ceff849681bc08%22%20%3E%3C/div%3E%0A%20%20%20%20%20%20%20%20%0A%3C/body%3E%0A%3Cscript%3E%20%20%20%20%0A%20%20%20%20%0A%20%20%20%20%20%20%20%20%20%20%20%20var%20map_2b485ff226e24acda7ceff849681bc08%20%3D%20L.map%28%0A%20%20%20%20%20%20%20%20%20%20%20%20%20%20%20%20%22map_2b485ff226e24acda7ceff849681bc08%22%2C%0A%20%20%20%20%20%20%20%20%20%20%20%20%20%20%20%20%7B%0A%20%20%20%20%20%20%20%20%20%20%20%20%20%20%20%20%20%20%20%20center%3A%20%5B-19.705570084543737%2C%2044.70292749999976%5D%2C%0A%20%20%20%20%20%20%20%20%20%20%20%20%20%20%20%20%20%20%20%20crs%3A%20L.CRS.EPSG3857%2C%0A%20%20%20%20%20%20%20%20%20%20%20%20%20%20%20%20%20%20%20%20zoom%3A%2010%2C%0A%20%20%20%20%20%20%20%20%20%20%20%20%20%20%20%20%20%20%20%20zoomControl%3A%20true%2C%0A%20%20%20%20%20%20%20%20%20%20%20%20%20%20%20%20%20%20%20%20preferCanvas%3A%20false%2C%0A%20%20%20%20%20%20%20%20%20%20%20%20%20%20%20%20%7D%0A%20%20%20%20%20%20%20%20%20%20%20%20%29%3B%0A%0A%20%20%20%20%20%20%20%20%20%20%20%20%0A%0A%20%20%20%20%20%20%20%20%0A%20%20%20%20%0A%20%20%20%20%20%20%20%20%20%20%20%20var%20tile_layer_5ab5cb5d35b8490a8054eec086895e1e%20%3D%20L.tileLayer%28%0A%20%20%20%20%20%20%20%20%20%20%20%20%20%20%20%20%22https%3A//%7Bs%7D.tile.openstreetmap.org/%7Bz%7D/%7Bx%7D/%7By%7D.png%22%2C%0A%20%20%20%20%20%20%20%20%20%20%20%20%20%20%20%20%7B%22attribution%22%3A%20%22Data%20by%20%5Cu0026copy%3B%20%5Cu003ca%20href%3D%5C%22http%3A//openstreetmap.org%5C%22%5Cu003eOpenStreetMap%5Cu003c/a%5Cu003e%2C%20under%20%5Cu003ca%20href%3D%5C%22http%3A//www.openstreetmap.org/copyright%5C%22%5Cu003eODbL%5Cu003c/a%5Cu003e.%22%2C%20%22detectRetina%22%3A%20false%2C%20%22maxNativeZoom%22%3A%2018%2C%20%22maxZoom%22%3A%2018%2C%20%22minZoom%22%3A%200%2C%20%22noWrap%22%3A%20false%2C%20%22opacity%22%3A%201%2C%20%22subdomains%22%3A%20%22abc%22%2C%20%22tms%22%3A%20false%7D%0A%20%20%20%20%20%20%20%20%20%20%20%20%29.addTo%28map_2b485ff226e24acda7ceff849681bc08%29%3B%0A%20%20%20%20%20%20%20%20%0A%20%20%20%20%0A%20%20%20%20%20%20%20%20%20%20%20%20var%20tile_layer_f7dceff0954b4244ae8680df94d59d0b%20%3D%20L.tileLayer%28%0A%20%20%20%20%20%20%20%20%20%20%20%20%20%20%20%20%22https%3A//earthengine.googleapis.com/v1alpha/projects/earthengine-legacy/maps/5215a0f969553434785f3ab6712a4c65-2d19b66779c8deaff60c98327c7d8bd6/tiles/%7Bz%7D/%7Bx%7D/%7By%7D%22%2C%0A%20%20%20%20%20%20%20%20%20%20%20%20%20%20%20%20%7B%22attribution%22%3A%20%22Map%20Data%20%5Cu0026copy%3B%20%5Cu003ca%20href%3D%5C%22https%3A//earthengine.google.com/%5C%22%5Cu003eGoogle%20Earth%20Engine%5Cu003c/a%5Cu003e%22%2C%20%22detectRetina%22%3A%20false%2C%20%22maxNativeZoom%22%3A%2018%2C%20%22maxZoom%22%3A%2018%2C%20%22minZoom%22%3A%209%2C%20%22noWrap%22%3A%20false%2C%20%22opacity%22%3A%201%2C%20%22subdomains%22%3A%20%22abc%22%2C%20%22tms%22%3A%20false%7D%0A%20%20%20%20%20%20%20%20%20%20%20%20%29.addTo%28map_2b485ff226e24acda7ceff849681bc08%29%3B%0A%20%20%20%20%20%20%20%20%0A%20%20%20%20%0A%20%20%20%20%20%20%20%20%20%20%20%20var%20layer_control_7046ad73d9e842f29b35856e0dce1f4f%20%3D%20%7B%0A%20%20%20%20%20%20%20%20%20%20%20%20%20%20%20%20base_layers%20%3A%20%7B%0A%20%20%20%20%20%20%20%20%20%20%20%20%20%20%20%20%20%20%20%20%22openstreetmap%22%20%3A%20tile_layer_5ab5cb5d35b8490a8054eec086895e1e%2C%0A%20%20%20%20%20%20%20%20%20%20%20%20%20%20%20%20%7D%2C%0A%20%20%20%20%20%20%20%20%20%20%20%20%20%20%20%20overlays%20%3A%20%20%7B%0A%20%20%20%20%20%20%20%20%20%20%20%20%20%20%20%20%20%20%20%20%22S2%20cloud-free%20mosaic%22%20%3A%20tile_layer_f7dceff0954b4244ae8680df94d59d0b%2C%0A%20%20%20%20%20%20%20%20%20%20%20%20%20%20%20%20%7D%2C%0A%20%20%20%20%20%20%20%20%20%20%20%20%7D%3B%0A%20%20%20%20%20%20%20%20%20%20%20%20L.control.layers%28%0A%20%20%20%20%20%20%20%20%20%20%20%20%20%20%20%20layer_control_7046ad73d9e842f29b35856e0dce1f4f.base_layers%2C%0A%20%20%20%20%20%20%20%20%20%20%20%20%20%20%20%20layer_control_7046ad73d9e842f29b35856e0dce1f4f.overlays%2C%0A%20%20%20%20%20%20%20%20%20%20%20%20%20%20%20%20%7B%22autoZIndex%22%3A%20true%2C%20%22collapsed%22%3A%20true%2C%20%22position%22%3A%20%22topright%22%7D%0A%20%20%20%20%20%20%20%20%20%20%20%20%29.addTo%28map_2b485ff226e24acda7ceff849681bc08%29%3B%0A%20%20%20%20%20%20%20%20%0A%3C/script%3E onload=\"this.contentDocument.open();this.contentDocument.write(    decodeURIComponent(this.getAttribute('data-html')));this.contentDocument.close();\" allowfullscreen webkitallowfullscreen mozallowfullscreen></iframe></div></div>"
      ],
      "text/plain": [
       "<folium.folium.Map at 0x148298820>"
      ]
     },
     "metadata": {},
     "output_type": "display_data"
    },
    {
     "name": "stdout",
     "output_type": "stream",
     "text": [
      "\n",
      " \n",
      "\n",
      "2019-05-01 - 2019-06-01\n"
     ]
    },
    {
     "data": {
      "text/html": [
       "<div style=\"width:100%;\"><div style=\"position:relative;width:100%;height:0;padding-bottom:60%;\"><span style=\"color:#565656\">Make this Notebook Trusted to load map: File -> Trust Notebook</span><iframe src=\"about:blank\" style=\"position:absolute;width:100%;height:100%;left:0;top:0;border:none !important;\" data-html=%3C%21DOCTYPE%20html%3E%0A%3Chead%3E%20%20%20%20%0A%20%20%20%20%3Cmeta%20http-equiv%3D%22content-type%22%20content%3D%22text/html%3B%20charset%3DUTF-8%22%20/%3E%0A%20%20%20%20%0A%20%20%20%20%20%20%20%20%3Cscript%3E%0A%20%20%20%20%20%20%20%20%20%20%20%20L_NO_TOUCH%20%3D%20false%3B%0A%20%20%20%20%20%20%20%20%20%20%20%20L_DISABLE_3D%20%3D%20false%3B%0A%20%20%20%20%20%20%20%20%3C/script%3E%0A%20%20%20%20%0A%20%20%20%20%3Cstyle%3Ehtml%2C%20body%20%7Bwidth%3A%20100%25%3Bheight%3A%20100%25%3Bmargin%3A%200%3Bpadding%3A%200%3B%7D%3C/style%3E%0A%20%20%20%20%3Cstyle%3E%23map%20%7Bposition%3Aabsolute%3Btop%3A0%3Bbottom%3A0%3Bright%3A0%3Bleft%3A0%3B%7D%3C/style%3E%0A%20%20%20%20%3Cscript%20src%3D%22https%3A//cdn.jsdelivr.net/npm/leaflet%401.6.0/dist/leaflet.js%22%3E%3C/script%3E%0A%20%20%20%20%3Cscript%20src%3D%22https%3A//code.jquery.com/jquery-1.12.4.min.js%22%3E%3C/script%3E%0A%20%20%20%20%3Cscript%20src%3D%22https%3A//maxcdn.bootstrapcdn.com/bootstrap/3.2.0/js/bootstrap.min.js%22%3E%3C/script%3E%0A%20%20%20%20%3Cscript%20src%3D%22https%3A//cdnjs.cloudflare.com/ajax/libs/Leaflet.awesome-markers/2.0.2/leaflet.awesome-markers.js%22%3E%3C/script%3E%0A%20%20%20%20%3Clink%20rel%3D%22stylesheet%22%20href%3D%22https%3A//cdn.jsdelivr.net/npm/leaflet%401.6.0/dist/leaflet.css%22/%3E%0A%20%20%20%20%3Clink%20rel%3D%22stylesheet%22%20href%3D%22https%3A//maxcdn.bootstrapcdn.com/bootstrap/3.2.0/css/bootstrap.min.css%22/%3E%0A%20%20%20%20%3Clink%20rel%3D%22stylesheet%22%20href%3D%22https%3A//maxcdn.bootstrapcdn.com/bootstrap/3.2.0/css/bootstrap-theme.min.css%22/%3E%0A%20%20%20%20%3Clink%20rel%3D%22stylesheet%22%20href%3D%22https%3A//maxcdn.bootstrapcdn.com/font-awesome/4.6.3/css/font-awesome.min.css%22/%3E%0A%20%20%20%20%3Clink%20rel%3D%22stylesheet%22%20href%3D%22https%3A//cdnjs.cloudflare.com/ajax/libs/Leaflet.awesome-markers/2.0.2/leaflet.awesome-markers.css%22/%3E%0A%20%20%20%20%3Clink%20rel%3D%22stylesheet%22%20href%3D%22https%3A//cdn.jsdelivr.net/gh/python-visualization/folium/folium/templates/leaflet.awesome.rotate.min.css%22/%3E%0A%20%20%20%20%0A%20%20%20%20%20%20%20%20%20%20%20%20%3Cmeta%20name%3D%22viewport%22%20content%3D%22width%3Ddevice-width%2C%0A%20%20%20%20%20%20%20%20%20%20%20%20%20%20%20%20initial-scale%3D1.0%2C%20maximum-scale%3D1.0%2C%20user-scalable%3Dno%22%20/%3E%0A%20%20%20%20%20%20%20%20%20%20%20%20%3Cstyle%3E%0A%20%20%20%20%20%20%20%20%20%20%20%20%20%20%20%20%23map_afbd9c0a921e4eb6a41e53685dc687d9%20%7B%0A%20%20%20%20%20%20%20%20%20%20%20%20%20%20%20%20%20%20%20%20position%3A%20relative%3B%0A%20%20%20%20%20%20%20%20%20%20%20%20%20%20%20%20%20%20%20%20width%3A%20100.0%25%3B%0A%20%20%20%20%20%20%20%20%20%20%20%20%20%20%20%20%20%20%20%20height%3A%20100.0%25%3B%0A%20%20%20%20%20%20%20%20%20%20%20%20%20%20%20%20%20%20%20%20left%3A%200.0%25%3B%0A%20%20%20%20%20%20%20%20%20%20%20%20%20%20%20%20%20%20%20%20top%3A%200.0%25%3B%0A%20%20%20%20%20%20%20%20%20%20%20%20%20%20%20%20%7D%0A%20%20%20%20%20%20%20%20%20%20%20%20%3C/style%3E%0A%20%20%20%20%20%20%20%20%0A%3C/head%3E%0A%3Cbody%3E%20%20%20%20%0A%20%20%20%20%0A%20%20%20%20%20%20%20%20%20%20%20%20%3Cdiv%20class%3D%22folium-map%22%20id%3D%22map_afbd9c0a921e4eb6a41e53685dc687d9%22%20%3E%3C/div%3E%0A%20%20%20%20%20%20%20%20%0A%3C/body%3E%0A%3Cscript%3E%20%20%20%20%0A%20%20%20%20%0A%20%20%20%20%20%20%20%20%20%20%20%20var%20map_afbd9c0a921e4eb6a41e53685dc687d9%20%3D%20L.map%28%0A%20%20%20%20%20%20%20%20%20%20%20%20%20%20%20%20%22map_afbd9c0a921e4eb6a41e53685dc687d9%22%2C%0A%20%20%20%20%20%20%20%20%20%20%20%20%20%20%20%20%7B%0A%20%20%20%20%20%20%20%20%20%20%20%20%20%20%20%20%20%20%20%20center%3A%20%5B-19.705570084543737%2C%2044.70292749999976%5D%2C%0A%20%20%20%20%20%20%20%20%20%20%20%20%20%20%20%20%20%20%20%20crs%3A%20L.CRS.EPSG3857%2C%0A%20%20%20%20%20%20%20%20%20%20%20%20%20%20%20%20%20%20%20%20zoom%3A%2010%2C%0A%20%20%20%20%20%20%20%20%20%20%20%20%20%20%20%20%20%20%20%20zoomControl%3A%20true%2C%0A%20%20%20%20%20%20%20%20%20%20%20%20%20%20%20%20%20%20%20%20preferCanvas%3A%20false%2C%0A%20%20%20%20%20%20%20%20%20%20%20%20%20%20%20%20%7D%0A%20%20%20%20%20%20%20%20%20%20%20%20%29%3B%0A%0A%20%20%20%20%20%20%20%20%20%20%20%20%0A%0A%20%20%20%20%20%20%20%20%0A%20%20%20%20%0A%20%20%20%20%20%20%20%20%20%20%20%20var%20tile_layer_924834530fe240e7903e3706d96141b4%20%3D%20L.tileLayer%28%0A%20%20%20%20%20%20%20%20%20%20%20%20%20%20%20%20%22https%3A//%7Bs%7D.tile.openstreetmap.org/%7Bz%7D/%7Bx%7D/%7By%7D.png%22%2C%0A%20%20%20%20%20%20%20%20%20%20%20%20%20%20%20%20%7B%22attribution%22%3A%20%22Data%20by%20%5Cu0026copy%3B%20%5Cu003ca%20href%3D%5C%22http%3A//openstreetmap.org%5C%22%5Cu003eOpenStreetMap%5Cu003c/a%5Cu003e%2C%20under%20%5Cu003ca%20href%3D%5C%22http%3A//www.openstreetmap.org/copyright%5C%22%5Cu003eODbL%5Cu003c/a%5Cu003e.%22%2C%20%22detectRetina%22%3A%20false%2C%20%22maxNativeZoom%22%3A%2018%2C%20%22maxZoom%22%3A%2018%2C%20%22minZoom%22%3A%200%2C%20%22noWrap%22%3A%20false%2C%20%22opacity%22%3A%201%2C%20%22subdomains%22%3A%20%22abc%22%2C%20%22tms%22%3A%20false%7D%0A%20%20%20%20%20%20%20%20%20%20%20%20%29.addTo%28map_afbd9c0a921e4eb6a41e53685dc687d9%29%3B%0A%20%20%20%20%20%20%20%20%0A%20%20%20%20%0A%20%20%20%20%20%20%20%20%20%20%20%20var%20tile_layer_825b279d270e4648bce65f0632325766%20%3D%20L.tileLayer%28%0A%20%20%20%20%20%20%20%20%20%20%20%20%20%20%20%20%22https%3A//earthengine.googleapis.com/v1alpha/projects/earthengine-legacy/maps/93b03a9ae608635b87e2d5a416971ecc-b43984dd982ab63cc844e92ccfeb22c2/tiles/%7Bz%7D/%7Bx%7D/%7By%7D%22%2C%0A%20%20%20%20%20%20%20%20%20%20%20%20%20%20%20%20%7B%22attribution%22%3A%20%22Map%20Data%20%5Cu0026copy%3B%20%5Cu003ca%20href%3D%5C%22https%3A//earthengine.google.com/%5C%22%5Cu003eGoogle%20Earth%20Engine%5Cu003c/a%5Cu003e%22%2C%20%22detectRetina%22%3A%20false%2C%20%22maxNativeZoom%22%3A%2018%2C%20%22maxZoom%22%3A%2018%2C%20%22minZoom%22%3A%209%2C%20%22noWrap%22%3A%20false%2C%20%22opacity%22%3A%201%2C%20%22subdomains%22%3A%20%22abc%22%2C%20%22tms%22%3A%20false%7D%0A%20%20%20%20%20%20%20%20%20%20%20%20%29.addTo%28map_afbd9c0a921e4eb6a41e53685dc687d9%29%3B%0A%20%20%20%20%20%20%20%20%0A%20%20%20%20%0A%20%20%20%20%20%20%20%20%20%20%20%20var%20layer_control_04bd672d19d046efbb3f2a0f3a7c18d4%20%3D%20%7B%0A%20%20%20%20%20%20%20%20%20%20%20%20%20%20%20%20base_layers%20%3A%20%7B%0A%20%20%20%20%20%20%20%20%20%20%20%20%20%20%20%20%20%20%20%20%22openstreetmap%22%20%3A%20tile_layer_924834530fe240e7903e3706d96141b4%2C%0A%20%20%20%20%20%20%20%20%20%20%20%20%20%20%20%20%7D%2C%0A%20%20%20%20%20%20%20%20%20%20%20%20%20%20%20%20overlays%20%3A%20%20%7B%0A%20%20%20%20%20%20%20%20%20%20%20%20%20%20%20%20%20%20%20%20%22S2%20cloud-free%20mosaic%22%20%3A%20tile_layer_825b279d270e4648bce65f0632325766%2C%0A%20%20%20%20%20%20%20%20%20%20%20%20%20%20%20%20%7D%2C%0A%20%20%20%20%20%20%20%20%20%20%20%20%7D%3B%0A%20%20%20%20%20%20%20%20%20%20%20%20L.control.layers%28%0A%20%20%20%20%20%20%20%20%20%20%20%20%20%20%20%20layer_control_04bd672d19d046efbb3f2a0f3a7c18d4.base_layers%2C%0A%20%20%20%20%20%20%20%20%20%20%20%20%20%20%20%20layer_control_04bd672d19d046efbb3f2a0f3a7c18d4.overlays%2C%0A%20%20%20%20%20%20%20%20%20%20%20%20%20%20%20%20%7B%22autoZIndex%22%3A%20true%2C%20%22collapsed%22%3A%20true%2C%20%22position%22%3A%20%22topright%22%7D%0A%20%20%20%20%20%20%20%20%20%20%20%20%29.addTo%28map_afbd9c0a921e4eb6a41e53685dc687d9%29%3B%0A%20%20%20%20%20%20%20%20%0A%3C/script%3E onload=\"this.contentDocument.open();this.contentDocument.write(    decodeURIComponent(this.getAttribute('data-html')));this.contentDocument.close();\" allowfullscreen webkitallowfullscreen mozallowfullscreen></iframe></div></div>"
      ],
      "text/plain": [
       "<folium.folium.Map at 0x148ea78b0>"
      ]
     },
     "metadata": {},
     "output_type": "display_data"
    },
    {
     "name": "stdout",
     "output_type": "stream",
     "text": [
      "\n",
      " \n",
      "\n",
      "2019-06-01 - 2019-07-01\n"
     ]
    },
    {
     "data": {
      "text/html": [
       "<div style=\"width:100%;\"><div style=\"position:relative;width:100%;height:0;padding-bottom:60%;\"><span style=\"color:#565656\">Make this Notebook Trusted to load map: File -> Trust Notebook</span><iframe src=\"about:blank\" style=\"position:absolute;width:100%;height:100%;left:0;top:0;border:none !important;\" data-html=%3C%21DOCTYPE%20html%3E%0A%3Chead%3E%20%20%20%20%0A%20%20%20%20%3Cmeta%20http-equiv%3D%22content-type%22%20content%3D%22text/html%3B%20charset%3DUTF-8%22%20/%3E%0A%20%20%20%20%0A%20%20%20%20%20%20%20%20%3Cscript%3E%0A%20%20%20%20%20%20%20%20%20%20%20%20L_NO_TOUCH%20%3D%20false%3B%0A%20%20%20%20%20%20%20%20%20%20%20%20L_DISABLE_3D%20%3D%20false%3B%0A%20%20%20%20%20%20%20%20%3C/script%3E%0A%20%20%20%20%0A%20%20%20%20%3Cstyle%3Ehtml%2C%20body%20%7Bwidth%3A%20100%25%3Bheight%3A%20100%25%3Bmargin%3A%200%3Bpadding%3A%200%3B%7D%3C/style%3E%0A%20%20%20%20%3Cstyle%3E%23map%20%7Bposition%3Aabsolute%3Btop%3A0%3Bbottom%3A0%3Bright%3A0%3Bleft%3A0%3B%7D%3C/style%3E%0A%20%20%20%20%3Cscript%20src%3D%22https%3A//cdn.jsdelivr.net/npm/leaflet%401.6.0/dist/leaflet.js%22%3E%3C/script%3E%0A%20%20%20%20%3Cscript%20src%3D%22https%3A//code.jquery.com/jquery-1.12.4.min.js%22%3E%3C/script%3E%0A%20%20%20%20%3Cscript%20src%3D%22https%3A//maxcdn.bootstrapcdn.com/bootstrap/3.2.0/js/bootstrap.min.js%22%3E%3C/script%3E%0A%20%20%20%20%3Cscript%20src%3D%22https%3A//cdnjs.cloudflare.com/ajax/libs/Leaflet.awesome-markers/2.0.2/leaflet.awesome-markers.js%22%3E%3C/script%3E%0A%20%20%20%20%3Clink%20rel%3D%22stylesheet%22%20href%3D%22https%3A//cdn.jsdelivr.net/npm/leaflet%401.6.0/dist/leaflet.css%22/%3E%0A%20%20%20%20%3Clink%20rel%3D%22stylesheet%22%20href%3D%22https%3A//maxcdn.bootstrapcdn.com/bootstrap/3.2.0/css/bootstrap.min.css%22/%3E%0A%20%20%20%20%3Clink%20rel%3D%22stylesheet%22%20href%3D%22https%3A//maxcdn.bootstrapcdn.com/bootstrap/3.2.0/css/bootstrap-theme.min.css%22/%3E%0A%20%20%20%20%3Clink%20rel%3D%22stylesheet%22%20href%3D%22https%3A//maxcdn.bootstrapcdn.com/font-awesome/4.6.3/css/font-awesome.min.css%22/%3E%0A%20%20%20%20%3Clink%20rel%3D%22stylesheet%22%20href%3D%22https%3A//cdnjs.cloudflare.com/ajax/libs/Leaflet.awesome-markers/2.0.2/leaflet.awesome-markers.css%22/%3E%0A%20%20%20%20%3Clink%20rel%3D%22stylesheet%22%20href%3D%22https%3A//cdn.jsdelivr.net/gh/python-visualization/folium/folium/templates/leaflet.awesome.rotate.min.css%22/%3E%0A%20%20%20%20%0A%20%20%20%20%20%20%20%20%20%20%20%20%3Cmeta%20name%3D%22viewport%22%20content%3D%22width%3Ddevice-width%2C%0A%20%20%20%20%20%20%20%20%20%20%20%20%20%20%20%20initial-scale%3D1.0%2C%20maximum-scale%3D1.0%2C%20user-scalable%3Dno%22%20/%3E%0A%20%20%20%20%20%20%20%20%20%20%20%20%3Cstyle%3E%0A%20%20%20%20%20%20%20%20%20%20%20%20%20%20%20%20%23map_46a1776880be40af92f57d6ce807885e%20%7B%0A%20%20%20%20%20%20%20%20%20%20%20%20%20%20%20%20%20%20%20%20position%3A%20relative%3B%0A%20%20%20%20%20%20%20%20%20%20%20%20%20%20%20%20%20%20%20%20width%3A%20100.0%25%3B%0A%20%20%20%20%20%20%20%20%20%20%20%20%20%20%20%20%20%20%20%20height%3A%20100.0%25%3B%0A%20%20%20%20%20%20%20%20%20%20%20%20%20%20%20%20%20%20%20%20left%3A%200.0%25%3B%0A%20%20%20%20%20%20%20%20%20%20%20%20%20%20%20%20%20%20%20%20top%3A%200.0%25%3B%0A%20%20%20%20%20%20%20%20%20%20%20%20%20%20%20%20%7D%0A%20%20%20%20%20%20%20%20%20%20%20%20%3C/style%3E%0A%20%20%20%20%20%20%20%20%0A%3C/head%3E%0A%3Cbody%3E%20%20%20%20%0A%20%20%20%20%0A%20%20%20%20%20%20%20%20%20%20%20%20%3Cdiv%20class%3D%22folium-map%22%20id%3D%22map_46a1776880be40af92f57d6ce807885e%22%20%3E%3C/div%3E%0A%20%20%20%20%20%20%20%20%0A%3C/body%3E%0A%3Cscript%3E%20%20%20%20%0A%20%20%20%20%0A%20%20%20%20%20%20%20%20%20%20%20%20var%20map_46a1776880be40af92f57d6ce807885e%20%3D%20L.map%28%0A%20%20%20%20%20%20%20%20%20%20%20%20%20%20%20%20%22map_46a1776880be40af92f57d6ce807885e%22%2C%0A%20%20%20%20%20%20%20%20%20%20%20%20%20%20%20%20%7B%0A%20%20%20%20%20%20%20%20%20%20%20%20%20%20%20%20%20%20%20%20center%3A%20%5B-19.705570084543737%2C%2044.70292749999976%5D%2C%0A%20%20%20%20%20%20%20%20%20%20%20%20%20%20%20%20%20%20%20%20crs%3A%20L.CRS.EPSG3857%2C%0A%20%20%20%20%20%20%20%20%20%20%20%20%20%20%20%20%20%20%20%20zoom%3A%2010%2C%0A%20%20%20%20%20%20%20%20%20%20%20%20%20%20%20%20%20%20%20%20zoomControl%3A%20true%2C%0A%20%20%20%20%20%20%20%20%20%20%20%20%20%20%20%20%20%20%20%20preferCanvas%3A%20false%2C%0A%20%20%20%20%20%20%20%20%20%20%20%20%20%20%20%20%7D%0A%20%20%20%20%20%20%20%20%20%20%20%20%29%3B%0A%0A%20%20%20%20%20%20%20%20%20%20%20%20%0A%0A%20%20%20%20%20%20%20%20%0A%20%20%20%20%0A%20%20%20%20%20%20%20%20%20%20%20%20var%20tile_layer_66a2cdd976854258aa49f016519bf83d%20%3D%20L.tileLayer%28%0A%20%20%20%20%20%20%20%20%20%20%20%20%20%20%20%20%22https%3A//%7Bs%7D.tile.openstreetmap.org/%7Bz%7D/%7Bx%7D/%7By%7D.png%22%2C%0A%20%20%20%20%20%20%20%20%20%20%20%20%20%20%20%20%7B%22attribution%22%3A%20%22Data%20by%20%5Cu0026copy%3B%20%5Cu003ca%20href%3D%5C%22http%3A//openstreetmap.org%5C%22%5Cu003eOpenStreetMap%5Cu003c/a%5Cu003e%2C%20under%20%5Cu003ca%20href%3D%5C%22http%3A//www.openstreetmap.org/copyright%5C%22%5Cu003eODbL%5Cu003c/a%5Cu003e.%22%2C%20%22detectRetina%22%3A%20false%2C%20%22maxNativeZoom%22%3A%2018%2C%20%22maxZoom%22%3A%2018%2C%20%22minZoom%22%3A%200%2C%20%22noWrap%22%3A%20false%2C%20%22opacity%22%3A%201%2C%20%22subdomains%22%3A%20%22abc%22%2C%20%22tms%22%3A%20false%7D%0A%20%20%20%20%20%20%20%20%20%20%20%20%29.addTo%28map_46a1776880be40af92f57d6ce807885e%29%3B%0A%20%20%20%20%20%20%20%20%0A%20%20%20%20%0A%20%20%20%20%20%20%20%20%20%20%20%20var%20tile_layer_f02be5bd45d84cc39cc77b764e2f676b%20%3D%20L.tileLayer%28%0A%20%20%20%20%20%20%20%20%20%20%20%20%20%20%20%20%22https%3A//earthengine.googleapis.com/v1alpha/projects/earthengine-legacy/maps/8ca09d602971720b57caf902fca5fb39-38896a733f8b8842652a471f5b39f4d3/tiles/%7Bz%7D/%7Bx%7D/%7By%7D%22%2C%0A%20%20%20%20%20%20%20%20%20%20%20%20%20%20%20%20%7B%22attribution%22%3A%20%22Map%20Data%20%5Cu0026copy%3B%20%5Cu003ca%20href%3D%5C%22https%3A//earthengine.google.com/%5C%22%5Cu003eGoogle%20Earth%20Engine%5Cu003c/a%5Cu003e%22%2C%20%22detectRetina%22%3A%20false%2C%20%22maxNativeZoom%22%3A%2018%2C%20%22maxZoom%22%3A%2018%2C%20%22minZoom%22%3A%209%2C%20%22noWrap%22%3A%20false%2C%20%22opacity%22%3A%201%2C%20%22subdomains%22%3A%20%22abc%22%2C%20%22tms%22%3A%20false%7D%0A%20%20%20%20%20%20%20%20%20%20%20%20%29.addTo%28map_46a1776880be40af92f57d6ce807885e%29%3B%0A%20%20%20%20%20%20%20%20%0A%20%20%20%20%0A%20%20%20%20%20%20%20%20%20%20%20%20var%20layer_control_72131c8ccb634ec2b898e5d1064fcda6%20%3D%20%7B%0A%20%20%20%20%20%20%20%20%20%20%20%20%20%20%20%20base_layers%20%3A%20%7B%0A%20%20%20%20%20%20%20%20%20%20%20%20%20%20%20%20%20%20%20%20%22openstreetmap%22%20%3A%20tile_layer_66a2cdd976854258aa49f016519bf83d%2C%0A%20%20%20%20%20%20%20%20%20%20%20%20%20%20%20%20%7D%2C%0A%20%20%20%20%20%20%20%20%20%20%20%20%20%20%20%20overlays%20%3A%20%20%7B%0A%20%20%20%20%20%20%20%20%20%20%20%20%20%20%20%20%20%20%20%20%22S2%20cloud-free%20mosaic%22%20%3A%20tile_layer_f02be5bd45d84cc39cc77b764e2f676b%2C%0A%20%20%20%20%20%20%20%20%20%20%20%20%20%20%20%20%7D%2C%0A%20%20%20%20%20%20%20%20%20%20%20%20%7D%3B%0A%20%20%20%20%20%20%20%20%20%20%20%20L.control.layers%28%0A%20%20%20%20%20%20%20%20%20%20%20%20%20%20%20%20layer_control_72131c8ccb634ec2b898e5d1064fcda6.base_layers%2C%0A%20%20%20%20%20%20%20%20%20%20%20%20%20%20%20%20layer_control_72131c8ccb634ec2b898e5d1064fcda6.overlays%2C%0A%20%20%20%20%20%20%20%20%20%20%20%20%20%20%20%20%7B%22autoZIndex%22%3A%20true%2C%20%22collapsed%22%3A%20true%2C%20%22position%22%3A%20%22topright%22%7D%0A%20%20%20%20%20%20%20%20%20%20%20%20%29.addTo%28map_46a1776880be40af92f57d6ce807885e%29%3B%0A%20%20%20%20%20%20%20%20%0A%3C/script%3E onload=\"this.contentDocument.open();this.contentDocument.write(    decodeURIComponent(this.getAttribute('data-html')));this.contentDocument.close();\" allowfullscreen webkitallowfullscreen mozallowfullscreen></iframe></div></div>"
      ],
      "text/plain": [
       "<folium.folium.Map at 0x148298eb0>"
      ]
     },
     "metadata": {},
     "output_type": "display_data"
    },
    {
     "name": "stdout",
     "output_type": "stream",
     "text": [
      "\n",
      " \n",
      "\n",
      "2019-07-01 - 2019-08-01\n"
     ]
    },
    {
     "data": {
      "text/html": [
       "<div style=\"width:100%;\"><div style=\"position:relative;width:100%;height:0;padding-bottom:60%;\"><span style=\"color:#565656\">Make this Notebook Trusted to load map: File -> Trust Notebook</span><iframe src=\"about:blank\" style=\"position:absolute;width:100%;height:100%;left:0;top:0;border:none !important;\" data-html=%3C%21DOCTYPE%20html%3E%0A%3Chead%3E%20%20%20%20%0A%20%20%20%20%3Cmeta%20http-equiv%3D%22content-type%22%20content%3D%22text/html%3B%20charset%3DUTF-8%22%20/%3E%0A%20%20%20%20%0A%20%20%20%20%20%20%20%20%3Cscript%3E%0A%20%20%20%20%20%20%20%20%20%20%20%20L_NO_TOUCH%20%3D%20false%3B%0A%20%20%20%20%20%20%20%20%20%20%20%20L_DISABLE_3D%20%3D%20false%3B%0A%20%20%20%20%20%20%20%20%3C/script%3E%0A%20%20%20%20%0A%20%20%20%20%3Cstyle%3Ehtml%2C%20body%20%7Bwidth%3A%20100%25%3Bheight%3A%20100%25%3Bmargin%3A%200%3Bpadding%3A%200%3B%7D%3C/style%3E%0A%20%20%20%20%3Cstyle%3E%23map%20%7Bposition%3Aabsolute%3Btop%3A0%3Bbottom%3A0%3Bright%3A0%3Bleft%3A0%3B%7D%3C/style%3E%0A%20%20%20%20%3Cscript%20src%3D%22https%3A//cdn.jsdelivr.net/npm/leaflet%401.6.0/dist/leaflet.js%22%3E%3C/script%3E%0A%20%20%20%20%3Cscript%20src%3D%22https%3A//code.jquery.com/jquery-1.12.4.min.js%22%3E%3C/script%3E%0A%20%20%20%20%3Cscript%20src%3D%22https%3A//maxcdn.bootstrapcdn.com/bootstrap/3.2.0/js/bootstrap.min.js%22%3E%3C/script%3E%0A%20%20%20%20%3Cscript%20src%3D%22https%3A//cdnjs.cloudflare.com/ajax/libs/Leaflet.awesome-markers/2.0.2/leaflet.awesome-markers.js%22%3E%3C/script%3E%0A%20%20%20%20%3Clink%20rel%3D%22stylesheet%22%20href%3D%22https%3A//cdn.jsdelivr.net/npm/leaflet%401.6.0/dist/leaflet.css%22/%3E%0A%20%20%20%20%3Clink%20rel%3D%22stylesheet%22%20href%3D%22https%3A//maxcdn.bootstrapcdn.com/bootstrap/3.2.0/css/bootstrap.min.css%22/%3E%0A%20%20%20%20%3Clink%20rel%3D%22stylesheet%22%20href%3D%22https%3A//maxcdn.bootstrapcdn.com/bootstrap/3.2.0/css/bootstrap-theme.min.css%22/%3E%0A%20%20%20%20%3Clink%20rel%3D%22stylesheet%22%20href%3D%22https%3A//maxcdn.bootstrapcdn.com/font-awesome/4.6.3/css/font-awesome.min.css%22/%3E%0A%20%20%20%20%3Clink%20rel%3D%22stylesheet%22%20href%3D%22https%3A//cdnjs.cloudflare.com/ajax/libs/Leaflet.awesome-markers/2.0.2/leaflet.awesome-markers.css%22/%3E%0A%20%20%20%20%3Clink%20rel%3D%22stylesheet%22%20href%3D%22https%3A//cdn.jsdelivr.net/gh/python-visualization/folium/folium/templates/leaflet.awesome.rotate.min.css%22/%3E%0A%20%20%20%20%0A%20%20%20%20%20%20%20%20%20%20%20%20%3Cmeta%20name%3D%22viewport%22%20content%3D%22width%3Ddevice-width%2C%0A%20%20%20%20%20%20%20%20%20%20%20%20%20%20%20%20initial-scale%3D1.0%2C%20maximum-scale%3D1.0%2C%20user-scalable%3Dno%22%20/%3E%0A%20%20%20%20%20%20%20%20%20%20%20%20%3Cstyle%3E%0A%20%20%20%20%20%20%20%20%20%20%20%20%20%20%20%20%23map_509ca4c757394f368cbd42a5c5d2fc10%20%7B%0A%20%20%20%20%20%20%20%20%20%20%20%20%20%20%20%20%20%20%20%20position%3A%20relative%3B%0A%20%20%20%20%20%20%20%20%20%20%20%20%20%20%20%20%20%20%20%20width%3A%20100.0%25%3B%0A%20%20%20%20%20%20%20%20%20%20%20%20%20%20%20%20%20%20%20%20height%3A%20100.0%25%3B%0A%20%20%20%20%20%20%20%20%20%20%20%20%20%20%20%20%20%20%20%20left%3A%200.0%25%3B%0A%20%20%20%20%20%20%20%20%20%20%20%20%20%20%20%20%20%20%20%20top%3A%200.0%25%3B%0A%20%20%20%20%20%20%20%20%20%20%20%20%20%20%20%20%7D%0A%20%20%20%20%20%20%20%20%20%20%20%20%3C/style%3E%0A%20%20%20%20%20%20%20%20%0A%3C/head%3E%0A%3Cbody%3E%20%20%20%20%0A%20%20%20%20%0A%20%20%20%20%20%20%20%20%20%20%20%20%3Cdiv%20class%3D%22folium-map%22%20id%3D%22map_509ca4c757394f368cbd42a5c5d2fc10%22%20%3E%3C/div%3E%0A%20%20%20%20%20%20%20%20%0A%3C/body%3E%0A%3Cscript%3E%20%20%20%20%0A%20%20%20%20%0A%20%20%20%20%20%20%20%20%20%20%20%20var%20map_509ca4c757394f368cbd42a5c5d2fc10%20%3D%20L.map%28%0A%20%20%20%20%20%20%20%20%20%20%20%20%20%20%20%20%22map_509ca4c757394f368cbd42a5c5d2fc10%22%2C%0A%20%20%20%20%20%20%20%20%20%20%20%20%20%20%20%20%7B%0A%20%20%20%20%20%20%20%20%20%20%20%20%20%20%20%20%20%20%20%20center%3A%20%5B-19.705570084543737%2C%2044.70292749999976%5D%2C%0A%20%20%20%20%20%20%20%20%20%20%20%20%20%20%20%20%20%20%20%20crs%3A%20L.CRS.EPSG3857%2C%0A%20%20%20%20%20%20%20%20%20%20%20%20%20%20%20%20%20%20%20%20zoom%3A%2010%2C%0A%20%20%20%20%20%20%20%20%20%20%20%20%20%20%20%20%20%20%20%20zoomControl%3A%20true%2C%0A%20%20%20%20%20%20%20%20%20%20%20%20%20%20%20%20%20%20%20%20preferCanvas%3A%20false%2C%0A%20%20%20%20%20%20%20%20%20%20%20%20%20%20%20%20%7D%0A%20%20%20%20%20%20%20%20%20%20%20%20%29%3B%0A%0A%20%20%20%20%20%20%20%20%20%20%20%20%0A%0A%20%20%20%20%20%20%20%20%0A%20%20%20%20%0A%20%20%20%20%20%20%20%20%20%20%20%20var%20tile_layer_4bcecc07a53044ec9bdc278e0198f419%20%3D%20L.tileLayer%28%0A%20%20%20%20%20%20%20%20%20%20%20%20%20%20%20%20%22https%3A//%7Bs%7D.tile.openstreetmap.org/%7Bz%7D/%7Bx%7D/%7By%7D.png%22%2C%0A%20%20%20%20%20%20%20%20%20%20%20%20%20%20%20%20%7B%22attribution%22%3A%20%22Data%20by%20%5Cu0026copy%3B%20%5Cu003ca%20href%3D%5C%22http%3A//openstreetmap.org%5C%22%5Cu003eOpenStreetMap%5Cu003c/a%5Cu003e%2C%20under%20%5Cu003ca%20href%3D%5C%22http%3A//www.openstreetmap.org/copyright%5C%22%5Cu003eODbL%5Cu003c/a%5Cu003e.%22%2C%20%22detectRetina%22%3A%20false%2C%20%22maxNativeZoom%22%3A%2018%2C%20%22maxZoom%22%3A%2018%2C%20%22minZoom%22%3A%200%2C%20%22noWrap%22%3A%20false%2C%20%22opacity%22%3A%201%2C%20%22subdomains%22%3A%20%22abc%22%2C%20%22tms%22%3A%20false%7D%0A%20%20%20%20%20%20%20%20%20%20%20%20%29.addTo%28map_509ca4c757394f368cbd42a5c5d2fc10%29%3B%0A%20%20%20%20%20%20%20%20%0A%20%20%20%20%0A%20%20%20%20%20%20%20%20%20%20%20%20var%20tile_layer_1270b2970dfe4501bd334eab216b580c%20%3D%20L.tileLayer%28%0A%20%20%20%20%20%20%20%20%20%20%20%20%20%20%20%20%22https%3A//earthengine.googleapis.com/v1alpha/projects/earthengine-legacy/maps/a7dee68f0f6fcc3628a0d25d501f039c-0ab5a4b0d40e4013dab711ee3b94d8dd/tiles/%7Bz%7D/%7Bx%7D/%7By%7D%22%2C%0A%20%20%20%20%20%20%20%20%20%20%20%20%20%20%20%20%7B%22attribution%22%3A%20%22Map%20Data%20%5Cu0026copy%3B%20%5Cu003ca%20href%3D%5C%22https%3A//earthengine.google.com/%5C%22%5Cu003eGoogle%20Earth%20Engine%5Cu003c/a%5Cu003e%22%2C%20%22detectRetina%22%3A%20false%2C%20%22maxNativeZoom%22%3A%2018%2C%20%22maxZoom%22%3A%2018%2C%20%22minZoom%22%3A%209%2C%20%22noWrap%22%3A%20false%2C%20%22opacity%22%3A%201%2C%20%22subdomains%22%3A%20%22abc%22%2C%20%22tms%22%3A%20false%7D%0A%20%20%20%20%20%20%20%20%20%20%20%20%29.addTo%28map_509ca4c757394f368cbd42a5c5d2fc10%29%3B%0A%20%20%20%20%20%20%20%20%0A%20%20%20%20%0A%20%20%20%20%20%20%20%20%20%20%20%20var%20layer_control_67df200ef2f9440c85b3ecb837cc322f%20%3D%20%7B%0A%20%20%20%20%20%20%20%20%20%20%20%20%20%20%20%20base_layers%20%3A%20%7B%0A%20%20%20%20%20%20%20%20%20%20%20%20%20%20%20%20%20%20%20%20%22openstreetmap%22%20%3A%20tile_layer_4bcecc07a53044ec9bdc278e0198f419%2C%0A%20%20%20%20%20%20%20%20%20%20%20%20%20%20%20%20%7D%2C%0A%20%20%20%20%20%20%20%20%20%20%20%20%20%20%20%20overlays%20%3A%20%20%7B%0A%20%20%20%20%20%20%20%20%20%20%20%20%20%20%20%20%20%20%20%20%22S2%20cloud-free%20mosaic%22%20%3A%20tile_layer_1270b2970dfe4501bd334eab216b580c%2C%0A%20%20%20%20%20%20%20%20%20%20%20%20%20%20%20%20%7D%2C%0A%20%20%20%20%20%20%20%20%20%20%20%20%7D%3B%0A%20%20%20%20%20%20%20%20%20%20%20%20L.control.layers%28%0A%20%20%20%20%20%20%20%20%20%20%20%20%20%20%20%20layer_control_67df200ef2f9440c85b3ecb837cc322f.base_layers%2C%0A%20%20%20%20%20%20%20%20%20%20%20%20%20%20%20%20layer_control_67df200ef2f9440c85b3ecb837cc322f.overlays%2C%0A%20%20%20%20%20%20%20%20%20%20%20%20%20%20%20%20%7B%22autoZIndex%22%3A%20true%2C%20%22collapsed%22%3A%20true%2C%20%22position%22%3A%20%22topright%22%7D%0A%20%20%20%20%20%20%20%20%20%20%20%20%29.addTo%28map_509ca4c757394f368cbd42a5c5d2fc10%29%3B%0A%20%20%20%20%20%20%20%20%0A%3C/script%3E onload=\"this.contentDocument.open();this.contentDocument.write(    decodeURIComponent(this.getAttribute('data-html')));this.contentDocument.close();\" allowfullscreen webkitallowfullscreen mozallowfullscreen></iframe></div></div>"
      ],
      "text/plain": [
       "<folium.folium.Map at 0x1482924f0>"
      ]
     },
     "metadata": {},
     "output_type": "display_data"
    },
    {
     "name": "stdout",
     "output_type": "stream",
     "text": [
      "\n",
      " \n",
      "\n",
      "2019-08-01 - 2019-09-01\n"
     ]
    },
    {
     "data": {
      "text/html": [
       "<div style=\"width:100%;\"><div style=\"position:relative;width:100%;height:0;padding-bottom:60%;\"><span style=\"color:#565656\">Make this Notebook Trusted to load map: File -> Trust Notebook</span><iframe src=\"about:blank\" style=\"position:absolute;width:100%;height:100%;left:0;top:0;border:none !important;\" data-html=%3C%21DOCTYPE%20html%3E%0A%3Chead%3E%20%20%20%20%0A%20%20%20%20%3Cmeta%20http-equiv%3D%22content-type%22%20content%3D%22text/html%3B%20charset%3DUTF-8%22%20/%3E%0A%20%20%20%20%0A%20%20%20%20%20%20%20%20%3Cscript%3E%0A%20%20%20%20%20%20%20%20%20%20%20%20L_NO_TOUCH%20%3D%20false%3B%0A%20%20%20%20%20%20%20%20%20%20%20%20L_DISABLE_3D%20%3D%20false%3B%0A%20%20%20%20%20%20%20%20%3C/script%3E%0A%20%20%20%20%0A%20%20%20%20%3Cstyle%3Ehtml%2C%20body%20%7Bwidth%3A%20100%25%3Bheight%3A%20100%25%3Bmargin%3A%200%3Bpadding%3A%200%3B%7D%3C/style%3E%0A%20%20%20%20%3Cstyle%3E%23map%20%7Bposition%3Aabsolute%3Btop%3A0%3Bbottom%3A0%3Bright%3A0%3Bleft%3A0%3B%7D%3C/style%3E%0A%20%20%20%20%3Cscript%20src%3D%22https%3A//cdn.jsdelivr.net/npm/leaflet%401.6.0/dist/leaflet.js%22%3E%3C/script%3E%0A%20%20%20%20%3Cscript%20src%3D%22https%3A//code.jquery.com/jquery-1.12.4.min.js%22%3E%3C/script%3E%0A%20%20%20%20%3Cscript%20src%3D%22https%3A//maxcdn.bootstrapcdn.com/bootstrap/3.2.0/js/bootstrap.min.js%22%3E%3C/script%3E%0A%20%20%20%20%3Cscript%20src%3D%22https%3A//cdnjs.cloudflare.com/ajax/libs/Leaflet.awesome-markers/2.0.2/leaflet.awesome-markers.js%22%3E%3C/script%3E%0A%20%20%20%20%3Clink%20rel%3D%22stylesheet%22%20href%3D%22https%3A//cdn.jsdelivr.net/npm/leaflet%401.6.0/dist/leaflet.css%22/%3E%0A%20%20%20%20%3Clink%20rel%3D%22stylesheet%22%20href%3D%22https%3A//maxcdn.bootstrapcdn.com/bootstrap/3.2.0/css/bootstrap.min.css%22/%3E%0A%20%20%20%20%3Clink%20rel%3D%22stylesheet%22%20href%3D%22https%3A//maxcdn.bootstrapcdn.com/bootstrap/3.2.0/css/bootstrap-theme.min.css%22/%3E%0A%20%20%20%20%3Clink%20rel%3D%22stylesheet%22%20href%3D%22https%3A//maxcdn.bootstrapcdn.com/font-awesome/4.6.3/css/font-awesome.min.css%22/%3E%0A%20%20%20%20%3Clink%20rel%3D%22stylesheet%22%20href%3D%22https%3A//cdnjs.cloudflare.com/ajax/libs/Leaflet.awesome-markers/2.0.2/leaflet.awesome-markers.css%22/%3E%0A%20%20%20%20%3Clink%20rel%3D%22stylesheet%22%20href%3D%22https%3A//cdn.jsdelivr.net/gh/python-visualization/folium/folium/templates/leaflet.awesome.rotate.min.css%22/%3E%0A%20%20%20%20%0A%20%20%20%20%20%20%20%20%20%20%20%20%3Cmeta%20name%3D%22viewport%22%20content%3D%22width%3Ddevice-width%2C%0A%20%20%20%20%20%20%20%20%20%20%20%20%20%20%20%20initial-scale%3D1.0%2C%20maximum-scale%3D1.0%2C%20user-scalable%3Dno%22%20/%3E%0A%20%20%20%20%20%20%20%20%20%20%20%20%3Cstyle%3E%0A%20%20%20%20%20%20%20%20%20%20%20%20%20%20%20%20%23map_b01595b1882448498600e9f044965e40%20%7B%0A%20%20%20%20%20%20%20%20%20%20%20%20%20%20%20%20%20%20%20%20position%3A%20relative%3B%0A%20%20%20%20%20%20%20%20%20%20%20%20%20%20%20%20%20%20%20%20width%3A%20100.0%25%3B%0A%20%20%20%20%20%20%20%20%20%20%20%20%20%20%20%20%20%20%20%20height%3A%20100.0%25%3B%0A%20%20%20%20%20%20%20%20%20%20%20%20%20%20%20%20%20%20%20%20left%3A%200.0%25%3B%0A%20%20%20%20%20%20%20%20%20%20%20%20%20%20%20%20%20%20%20%20top%3A%200.0%25%3B%0A%20%20%20%20%20%20%20%20%20%20%20%20%20%20%20%20%7D%0A%20%20%20%20%20%20%20%20%20%20%20%20%3C/style%3E%0A%20%20%20%20%20%20%20%20%0A%3C/head%3E%0A%3Cbody%3E%20%20%20%20%0A%20%20%20%20%0A%20%20%20%20%20%20%20%20%20%20%20%20%3Cdiv%20class%3D%22folium-map%22%20id%3D%22map_b01595b1882448498600e9f044965e40%22%20%3E%3C/div%3E%0A%20%20%20%20%20%20%20%20%0A%3C/body%3E%0A%3Cscript%3E%20%20%20%20%0A%20%20%20%20%0A%20%20%20%20%20%20%20%20%20%20%20%20var%20map_b01595b1882448498600e9f044965e40%20%3D%20L.map%28%0A%20%20%20%20%20%20%20%20%20%20%20%20%20%20%20%20%22map_b01595b1882448498600e9f044965e40%22%2C%0A%20%20%20%20%20%20%20%20%20%20%20%20%20%20%20%20%7B%0A%20%20%20%20%20%20%20%20%20%20%20%20%20%20%20%20%20%20%20%20center%3A%20%5B-19.705570084543737%2C%2044.70292749999976%5D%2C%0A%20%20%20%20%20%20%20%20%20%20%20%20%20%20%20%20%20%20%20%20crs%3A%20L.CRS.EPSG3857%2C%0A%20%20%20%20%20%20%20%20%20%20%20%20%20%20%20%20%20%20%20%20zoom%3A%2010%2C%0A%20%20%20%20%20%20%20%20%20%20%20%20%20%20%20%20%20%20%20%20zoomControl%3A%20true%2C%0A%20%20%20%20%20%20%20%20%20%20%20%20%20%20%20%20%20%20%20%20preferCanvas%3A%20false%2C%0A%20%20%20%20%20%20%20%20%20%20%20%20%20%20%20%20%7D%0A%20%20%20%20%20%20%20%20%20%20%20%20%29%3B%0A%0A%20%20%20%20%20%20%20%20%20%20%20%20%0A%0A%20%20%20%20%20%20%20%20%0A%20%20%20%20%0A%20%20%20%20%20%20%20%20%20%20%20%20var%20tile_layer_b8616f0e5df543f485dc815079e20f81%20%3D%20L.tileLayer%28%0A%20%20%20%20%20%20%20%20%20%20%20%20%20%20%20%20%22https%3A//%7Bs%7D.tile.openstreetmap.org/%7Bz%7D/%7Bx%7D/%7By%7D.png%22%2C%0A%20%20%20%20%20%20%20%20%20%20%20%20%20%20%20%20%7B%22attribution%22%3A%20%22Data%20by%20%5Cu0026copy%3B%20%5Cu003ca%20href%3D%5C%22http%3A//openstreetmap.org%5C%22%5Cu003eOpenStreetMap%5Cu003c/a%5Cu003e%2C%20under%20%5Cu003ca%20href%3D%5C%22http%3A//www.openstreetmap.org/copyright%5C%22%5Cu003eODbL%5Cu003c/a%5Cu003e.%22%2C%20%22detectRetina%22%3A%20false%2C%20%22maxNativeZoom%22%3A%2018%2C%20%22maxZoom%22%3A%2018%2C%20%22minZoom%22%3A%200%2C%20%22noWrap%22%3A%20false%2C%20%22opacity%22%3A%201%2C%20%22subdomains%22%3A%20%22abc%22%2C%20%22tms%22%3A%20false%7D%0A%20%20%20%20%20%20%20%20%20%20%20%20%29.addTo%28map_b01595b1882448498600e9f044965e40%29%3B%0A%20%20%20%20%20%20%20%20%0A%20%20%20%20%0A%20%20%20%20%20%20%20%20%20%20%20%20var%20tile_layer_c0cad7180a87419abce9680ad6280286%20%3D%20L.tileLayer%28%0A%20%20%20%20%20%20%20%20%20%20%20%20%20%20%20%20%22https%3A//earthengine.googleapis.com/v1alpha/projects/earthengine-legacy/maps/5aa3f28d928fd52a809236f6319abdee-1d2ec7144883c2d5291761fa744432d2/tiles/%7Bz%7D/%7Bx%7D/%7By%7D%22%2C%0A%20%20%20%20%20%20%20%20%20%20%20%20%20%20%20%20%7B%22attribution%22%3A%20%22Map%20Data%20%5Cu0026copy%3B%20%5Cu003ca%20href%3D%5C%22https%3A//earthengine.google.com/%5C%22%5Cu003eGoogle%20Earth%20Engine%5Cu003c/a%5Cu003e%22%2C%20%22detectRetina%22%3A%20false%2C%20%22maxNativeZoom%22%3A%2018%2C%20%22maxZoom%22%3A%2018%2C%20%22minZoom%22%3A%209%2C%20%22noWrap%22%3A%20false%2C%20%22opacity%22%3A%201%2C%20%22subdomains%22%3A%20%22abc%22%2C%20%22tms%22%3A%20false%7D%0A%20%20%20%20%20%20%20%20%20%20%20%20%29.addTo%28map_b01595b1882448498600e9f044965e40%29%3B%0A%20%20%20%20%20%20%20%20%0A%20%20%20%20%0A%20%20%20%20%20%20%20%20%20%20%20%20var%20layer_control_a4a656b017da4b1b83487b7f9ee886ca%20%3D%20%7B%0A%20%20%20%20%20%20%20%20%20%20%20%20%20%20%20%20base_layers%20%3A%20%7B%0A%20%20%20%20%20%20%20%20%20%20%20%20%20%20%20%20%20%20%20%20%22openstreetmap%22%20%3A%20tile_layer_b8616f0e5df543f485dc815079e20f81%2C%0A%20%20%20%20%20%20%20%20%20%20%20%20%20%20%20%20%7D%2C%0A%20%20%20%20%20%20%20%20%20%20%20%20%20%20%20%20overlays%20%3A%20%20%7B%0A%20%20%20%20%20%20%20%20%20%20%20%20%20%20%20%20%20%20%20%20%22S2%20cloud-free%20mosaic%22%20%3A%20tile_layer_c0cad7180a87419abce9680ad6280286%2C%0A%20%20%20%20%20%20%20%20%20%20%20%20%20%20%20%20%7D%2C%0A%20%20%20%20%20%20%20%20%20%20%20%20%7D%3B%0A%20%20%20%20%20%20%20%20%20%20%20%20L.control.layers%28%0A%20%20%20%20%20%20%20%20%20%20%20%20%20%20%20%20layer_control_a4a656b017da4b1b83487b7f9ee886ca.base_layers%2C%0A%20%20%20%20%20%20%20%20%20%20%20%20%20%20%20%20layer_control_a4a656b017da4b1b83487b7f9ee886ca.overlays%2C%0A%20%20%20%20%20%20%20%20%20%20%20%20%20%20%20%20%7B%22autoZIndex%22%3A%20true%2C%20%22collapsed%22%3A%20true%2C%20%22position%22%3A%20%22topright%22%7D%0A%20%20%20%20%20%20%20%20%20%20%20%20%29.addTo%28map_b01595b1882448498600e9f044965e40%29%3B%0A%20%20%20%20%20%20%20%20%0A%3C/script%3E onload=\"this.contentDocument.open();this.contentDocument.write(    decodeURIComponent(this.getAttribute('data-html')));this.contentDocument.close();\" allowfullscreen webkitallowfullscreen mozallowfullscreen></iframe></div></div>"
      ],
      "text/plain": [
       "<folium.folium.Map at 0x148181e80>"
      ]
     },
     "metadata": {},
     "output_type": "display_data"
    },
    {
     "name": "stdout",
     "output_type": "stream",
     "text": [
      "\n",
      " \n",
      "\n",
      "2019-09-01 - 2019-10-01\n"
     ]
    },
    {
     "data": {
      "text/html": [
       "<div style=\"width:100%;\"><div style=\"position:relative;width:100%;height:0;padding-bottom:60%;\"><span style=\"color:#565656\">Make this Notebook Trusted to load map: File -> Trust Notebook</span><iframe src=\"about:blank\" style=\"position:absolute;width:100%;height:100%;left:0;top:0;border:none !important;\" data-html=%3C%21DOCTYPE%20html%3E%0A%3Chead%3E%20%20%20%20%0A%20%20%20%20%3Cmeta%20http-equiv%3D%22content-type%22%20content%3D%22text/html%3B%20charset%3DUTF-8%22%20/%3E%0A%20%20%20%20%0A%20%20%20%20%20%20%20%20%3Cscript%3E%0A%20%20%20%20%20%20%20%20%20%20%20%20L_NO_TOUCH%20%3D%20false%3B%0A%20%20%20%20%20%20%20%20%20%20%20%20L_DISABLE_3D%20%3D%20false%3B%0A%20%20%20%20%20%20%20%20%3C/script%3E%0A%20%20%20%20%0A%20%20%20%20%3Cstyle%3Ehtml%2C%20body%20%7Bwidth%3A%20100%25%3Bheight%3A%20100%25%3Bmargin%3A%200%3Bpadding%3A%200%3B%7D%3C/style%3E%0A%20%20%20%20%3Cstyle%3E%23map%20%7Bposition%3Aabsolute%3Btop%3A0%3Bbottom%3A0%3Bright%3A0%3Bleft%3A0%3B%7D%3C/style%3E%0A%20%20%20%20%3Cscript%20src%3D%22https%3A//cdn.jsdelivr.net/npm/leaflet%401.6.0/dist/leaflet.js%22%3E%3C/script%3E%0A%20%20%20%20%3Cscript%20src%3D%22https%3A//code.jquery.com/jquery-1.12.4.min.js%22%3E%3C/script%3E%0A%20%20%20%20%3Cscript%20src%3D%22https%3A//maxcdn.bootstrapcdn.com/bootstrap/3.2.0/js/bootstrap.min.js%22%3E%3C/script%3E%0A%20%20%20%20%3Cscript%20src%3D%22https%3A//cdnjs.cloudflare.com/ajax/libs/Leaflet.awesome-markers/2.0.2/leaflet.awesome-markers.js%22%3E%3C/script%3E%0A%20%20%20%20%3Clink%20rel%3D%22stylesheet%22%20href%3D%22https%3A//cdn.jsdelivr.net/npm/leaflet%401.6.0/dist/leaflet.css%22/%3E%0A%20%20%20%20%3Clink%20rel%3D%22stylesheet%22%20href%3D%22https%3A//maxcdn.bootstrapcdn.com/bootstrap/3.2.0/css/bootstrap.min.css%22/%3E%0A%20%20%20%20%3Clink%20rel%3D%22stylesheet%22%20href%3D%22https%3A//maxcdn.bootstrapcdn.com/bootstrap/3.2.0/css/bootstrap-theme.min.css%22/%3E%0A%20%20%20%20%3Clink%20rel%3D%22stylesheet%22%20href%3D%22https%3A//maxcdn.bootstrapcdn.com/font-awesome/4.6.3/css/font-awesome.min.css%22/%3E%0A%20%20%20%20%3Clink%20rel%3D%22stylesheet%22%20href%3D%22https%3A//cdnjs.cloudflare.com/ajax/libs/Leaflet.awesome-markers/2.0.2/leaflet.awesome-markers.css%22/%3E%0A%20%20%20%20%3Clink%20rel%3D%22stylesheet%22%20href%3D%22https%3A//cdn.jsdelivr.net/gh/python-visualization/folium/folium/templates/leaflet.awesome.rotate.min.css%22/%3E%0A%20%20%20%20%0A%20%20%20%20%20%20%20%20%20%20%20%20%3Cmeta%20name%3D%22viewport%22%20content%3D%22width%3Ddevice-width%2C%0A%20%20%20%20%20%20%20%20%20%20%20%20%20%20%20%20initial-scale%3D1.0%2C%20maximum-scale%3D1.0%2C%20user-scalable%3Dno%22%20/%3E%0A%20%20%20%20%20%20%20%20%20%20%20%20%3Cstyle%3E%0A%20%20%20%20%20%20%20%20%20%20%20%20%20%20%20%20%23map_2f867343cb4b4956b9c13d66cb9416a9%20%7B%0A%20%20%20%20%20%20%20%20%20%20%20%20%20%20%20%20%20%20%20%20position%3A%20relative%3B%0A%20%20%20%20%20%20%20%20%20%20%20%20%20%20%20%20%20%20%20%20width%3A%20100.0%25%3B%0A%20%20%20%20%20%20%20%20%20%20%20%20%20%20%20%20%20%20%20%20height%3A%20100.0%25%3B%0A%20%20%20%20%20%20%20%20%20%20%20%20%20%20%20%20%20%20%20%20left%3A%200.0%25%3B%0A%20%20%20%20%20%20%20%20%20%20%20%20%20%20%20%20%20%20%20%20top%3A%200.0%25%3B%0A%20%20%20%20%20%20%20%20%20%20%20%20%20%20%20%20%7D%0A%20%20%20%20%20%20%20%20%20%20%20%20%3C/style%3E%0A%20%20%20%20%20%20%20%20%0A%3C/head%3E%0A%3Cbody%3E%20%20%20%20%0A%20%20%20%20%0A%20%20%20%20%20%20%20%20%20%20%20%20%3Cdiv%20class%3D%22folium-map%22%20id%3D%22map_2f867343cb4b4956b9c13d66cb9416a9%22%20%3E%3C/div%3E%0A%20%20%20%20%20%20%20%20%0A%3C/body%3E%0A%3Cscript%3E%20%20%20%20%0A%20%20%20%20%0A%20%20%20%20%20%20%20%20%20%20%20%20var%20map_2f867343cb4b4956b9c13d66cb9416a9%20%3D%20L.map%28%0A%20%20%20%20%20%20%20%20%20%20%20%20%20%20%20%20%22map_2f867343cb4b4956b9c13d66cb9416a9%22%2C%0A%20%20%20%20%20%20%20%20%20%20%20%20%20%20%20%20%7B%0A%20%20%20%20%20%20%20%20%20%20%20%20%20%20%20%20%20%20%20%20center%3A%20%5B-19.705570084543737%2C%2044.70292749999976%5D%2C%0A%20%20%20%20%20%20%20%20%20%20%20%20%20%20%20%20%20%20%20%20crs%3A%20L.CRS.EPSG3857%2C%0A%20%20%20%20%20%20%20%20%20%20%20%20%20%20%20%20%20%20%20%20zoom%3A%2010%2C%0A%20%20%20%20%20%20%20%20%20%20%20%20%20%20%20%20%20%20%20%20zoomControl%3A%20true%2C%0A%20%20%20%20%20%20%20%20%20%20%20%20%20%20%20%20%20%20%20%20preferCanvas%3A%20false%2C%0A%20%20%20%20%20%20%20%20%20%20%20%20%20%20%20%20%7D%0A%20%20%20%20%20%20%20%20%20%20%20%20%29%3B%0A%0A%20%20%20%20%20%20%20%20%20%20%20%20%0A%0A%20%20%20%20%20%20%20%20%0A%20%20%20%20%0A%20%20%20%20%20%20%20%20%20%20%20%20var%20tile_layer_6f282171489349319f9380fb5b034f02%20%3D%20L.tileLayer%28%0A%20%20%20%20%20%20%20%20%20%20%20%20%20%20%20%20%22https%3A//%7Bs%7D.tile.openstreetmap.org/%7Bz%7D/%7Bx%7D/%7By%7D.png%22%2C%0A%20%20%20%20%20%20%20%20%20%20%20%20%20%20%20%20%7B%22attribution%22%3A%20%22Data%20by%20%5Cu0026copy%3B%20%5Cu003ca%20href%3D%5C%22http%3A//openstreetmap.org%5C%22%5Cu003eOpenStreetMap%5Cu003c/a%5Cu003e%2C%20under%20%5Cu003ca%20href%3D%5C%22http%3A//www.openstreetmap.org/copyright%5C%22%5Cu003eODbL%5Cu003c/a%5Cu003e.%22%2C%20%22detectRetina%22%3A%20false%2C%20%22maxNativeZoom%22%3A%2018%2C%20%22maxZoom%22%3A%2018%2C%20%22minZoom%22%3A%200%2C%20%22noWrap%22%3A%20false%2C%20%22opacity%22%3A%201%2C%20%22subdomains%22%3A%20%22abc%22%2C%20%22tms%22%3A%20false%7D%0A%20%20%20%20%20%20%20%20%20%20%20%20%29.addTo%28map_2f867343cb4b4956b9c13d66cb9416a9%29%3B%0A%20%20%20%20%20%20%20%20%0A%20%20%20%20%0A%20%20%20%20%20%20%20%20%20%20%20%20var%20tile_layer_4ec3963b189f4e1095f51c520d67cce6%20%3D%20L.tileLayer%28%0A%20%20%20%20%20%20%20%20%20%20%20%20%20%20%20%20%22https%3A//earthengine.googleapis.com/v1alpha/projects/earthengine-legacy/maps/bb2ac230916783635077896436487212-39d0c41bb0bf76cdd9987709c22cfdb6/tiles/%7Bz%7D/%7Bx%7D/%7By%7D%22%2C%0A%20%20%20%20%20%20%20%20%20%20%20%20%20%20%20%20%7B%22attribution%22%3A%20%22Map%20Data%20%5Cu0026copy%3B%20%5Cu003ca%20href%3D%5C%22https%3A//earthengine.google.com/%5C%22%5Cu003eGoogle%20Earth%20Engine%5Cu003c/a%5Cu003e%22%2C%20%22detectRetina%22%3A%20false%2C%20%22maxNativeZoom%22%3A%2018%2C%20%22maxZoom%22%3A%2018%2C%20%22minZoom%22%3A%209%2C%20%22noWrap%22%3A%20false%2C%20%22opacity%22%3A%201%2C%20%22subdomains%22%3A%20%22abc%22%2C%20%22tms%22%3A%20false%7D%0A%20%20%20%20%20%20%20%20%20%20%20%20%29.addTo%28map_2f867343cb4b4956b9c13d66cb9416a9%29%3B%0A%20%20%20%20%20%20%20%20%0A%20%20%20%20%0A%20%20%20%20%20%20%20%20%20%20%20%20var%20layer_control_bccdb72aeb334d85adf8626a0e30af79%20%3D%20%7B%0A%20%20%20%20%20%20%20%20%20%20%20%20%20%20%20%20base_layers%20%3A%20%7B%0A%20%20%20%20%20%20%20%20%20%20%20%20%20%20%20%20%20%20%20%20%22openstreetmap%22%20%3A%20tile_layer_6f282171489349319f9380fb5b034f02%2C%0A%20%20%20%20%20%20%20%20%20%20%20%20%20%20%20%20%7D%2C%0A%20%20%20%20%20%20%20%20%20%20%20%20%20%20%20%20overlays%20%3A%20%20%7B%0A%20%20%20%20%20%20%20%20%20%20%20%20%20%20%20%20%20%20%20%20%22S2%20cloud-free%20mosaic%22%20%3A%20tile_layer_4ec3963b189f4e1095f51c520d67cce6%2C%0A%20%20%20%20%20%20%20%20%20%20%20%20%20%20%20%20%7D%2C%0A%20%20%20%20%20%20%20%20%20%20%20%20%7D%3B%0A%20%20%20%20%20%20%20%20%20%20%20%20L.control.layers%28%0A%20%20%20%20%20%20%20%20%20%20%20%20%20%20%20%20layer_control_bccdb72aeb334d85adf8626a0e30af79.base_layers%2C%0A%20%20%20%20%20%20%20%20%20%20%20%20%20%20%20%20layer_control_bccdb72aeb334d85adf8626a0e30af79.overlays%2C%0A%20%20%20%20%20%20%20%20%20%20%20%20%20%20%20%20%7B%22autoZIndex%22%3A%20true%2C%20%22collapsed%22%3A%20true%2C%20%22position%22%3A%20%22topright%22%7D%0A%20%20%20%20%20%20%20%20%20%20%20%20%29.addTo%28map_2f867343cb4b4956b9c13d66cb9416a9%29%3B%0A%20%20%20%20%20%20%20%20%0A%3C/script%3E onload=\"this.contentDocument.open();this.contentDocument.write(    decodeURIComponent(this.getAttribute('data-html')));this.contentDocument.close();\" allowfullscreen webkitallowfullscreen mozallowfullscreen></iframe></div></div>"
      ],
      "text/plain": [
       "<folium.folium.Map at 0x148ea5580>"
      ]
     },
     "metadata": {},
     "output_type": "display_data"
    },
    {
     "name": "stdout",
     "output_type": "stream",
     "text": [
      "\n",
      " \n",
      "\n",
      "2019-10-01 - 2019-11-01\n"
     ]
    },
    {
     "data": {
      "text/html": [
       "<div style=\"width:100%;\"><div style=\"position:relative;width:100%;height:0;padding-bottom:60%;\"><span style=\"color:#565656\">Make this Notebook Trusted to load map: File -> Trust Notebook</span><iframe src=\"about:blank\" style=\"position:absolute;width:100%;height:100%;left:0;top:0;border:none !important;\" data-html=%3C%21DOCTYPE%20html%3E%0A%3Chead%3E%20%20%20%20%0A%20%20%20%20%3Cmeta%20http-equiv%3D%22content-type%22%20content%3D%22text/html%3B%20charset%3DUTF-8%22%20/%3E%0A%20%20%20%20%0A%20%20%20%20%20%20%20%20%3Cscript%3E%0A%20%20%20%20%20%20%20%20%20%20%20%20L_NO_TOUCH%20%3D%20false%3B%0A%20%20%20%20%20%20%20%20%20%20%20%20L_DISABLE_3D%20%3D%20false%3B%0A%20%20%20%20%20%20%20%20%3C/script%3E%0A%20%20%20%20%0A%20%20%20%20%3Cstyle%3Ehtml%2C%20body%20%7Bwidth%3A%20100%25%3Bheight%3A%20100%25%3Bmargin%3A%200%3Bpadding%3A%200%3B%7D%3C/style%3E%0A%20%20%20%20%3Cstyle%3E%23map%20%7Bposition%3Aabsolute%3Btop%3A0%3Bbottom%3A0%3Bright%3A0%3Bleft%3A0%3B%7D%3C/style%3E%0A%20%20%20%20%3Cscript%20src%3D%22https%3A//cdn.jsdelivr.net/npm/leaflet%401.6.0/dist/leaflet.js%22%3E%3C/script%3E%0A%20%20%20%20%3Cscript%20src%3D%22https%3A//code.jquery.com/jquery-1.12.4.min.js%22%3E%3C/script%3E%0A%20%20%20%20%3Cscript%20src%3D%22https%3A//maxcdn.bootstrapcdn.com/bootstrap/3.2.0/js/bootstrap.min.js%22%3E%3C/script%3E%0A%20%20%20%20%3Cscript%20src%3D%22https%3A//cdnjs.cloudflare.com/ajax/libs/Leaflet.awesome-markers/2.0.2/leaflet.awesome-markers.js%22%3E%3C/script%3E%0A%20%20%20%20%3Clink%20rel%3D%22stylesheet%22%20href%3D%22https%3A//cdn.jsdelivr.net/npm/leaflet%401.6.0/dist/leaflet.css%22/%3E%0A%20%20%20%20%3Clink%20rel%3D%22stylesheet%22%20href%3D%22https%3A//maxcdn.bootstrapcdn.com/bootstrap/3.2.0/css/bootstrap.min.css%22/%3E%0A%20%20%20%20%3Clink%20rel%3D%22stylesheet%22%20href%3D%22https%3A//maxcdn.bootstrapcdn.com/bootstrap/3.2.0/css/bootstrap-theme.min.css%22/%3E%0A%20%20%20%20%3Clink%20rel%3D%22stylesheet%22%20href%3D%22https%3A//maxcdn.bootstrapcdn.com/font-awesome/4.6.3/css/font-awesome.min.css%22/%3E%0A%20%20%20%20%3Clink%20rel%3D%22stylesheet%22%20href%3D%22https%3A//cdnjs.cloudflare.com/ajax/libs/Leaflet.awesome-markers/2.0.2/leaflet.awesome-markers.css%22/%3E%0A%20%20%20%20%3Clink%20rel%3D%22stylesheet%22%20href%3D%22https%3A//cdn.jsdelivr.net/gh/python-visualization/folium/folium/templates/leaflet.awesome.rotate.min.css%22/%3E%0A%20%20%20%20%0A%20%20%20%20%20%20%20%20%20%20%20%20%3Cmeta%20name%3D%22viewport%22%20content%3D%22width%3Ddevice-width%2C%0A%20%20%20%20%20%20%20%20%20%20%20%20%20%20%20%20initial-scale%3D1.0%2C%20maximum-scale%3D1.0%2C%20user-scalable%3Dno%22%20/%3E%0A%20%20%20%20%20%20%20%20%20%20%20%20%3Cstyle%3E%0A%20%20%20%20%20%20%20%20%20%20%20%20%20%20%20%20%23map_844f451b8dd243c58cd7b1f2f3a9ea39%20%7B%0A%20%20%20%20%20%20%20%20%20%20%20%20%20%20%20%20%20%20%20%20position%3A%20relative%3B%0A%20%20%20%20%20%20%20%20%20%20%20%20%20%20%20%20%20%20%20%20width%3A%20100.0%25%3B%0A%20%20%20%20%20%20%20%20%20%20%20%20%20%20%20%20%20%20%20%20height%3A%20100.0%25%3B%0A%20%20%20%20%20%20%20%20%20%20%20%20%20%20%20%20%20%20%20%20left%3A%200.0%25%3B%0A%20%20%20%20%20%20%20%20%20%20%20%20%20%20%20%20%20%20%20%20top%3A%200.0%25%3B%0A%20%20%20%20%20%20%20%20%20%20%20%20%20%20%20%20%7D%0A%20%20%20%20%20%20%20%20%20%20%20%20%3C/style%3E%0A%20%20%20%20%20%20%20%20%0A%3C/head%3E%0A%3Cbody%3E%20%20%20%20%0A%20%20%20%20%0A%20%20%20%20%20%20%20%20%20%20%20%20%3Cdiv%20class%3D%22folium-map%22%20id%3D%22map_844f451b8dd243c58cd7b1f2f3a9ea39%22%20%3E%3C/div%3E%0A%20%20%20%20%20%20%20%20%0A%3C/body%3E%0A%3Cscript%3E%20%20%20%20%0A%20%20%20%20%0A%20%20%20%20%20%20%20%20%20%20%20%20var%20map_844f451b8dd243c58cd7b1f2f3a9ea39%20%3D%20L.map%28%0A%20%20%20%20%20%20%20%20%20%20%20%20%20%20%20%20%22map_844f451b8dd243c58cd7b1f2f3a9ea39%22%2C%0A%20%20%20%20%20%20%20%20%20%20%20%20%20%20%20%20%7B%0A%20%20%20%20%20%20%20%20%20%20%20%20%20%20%20%20%20%20%20%20center%3A%20%5B-19.705570084543737%2C%2044.70292749999976%5D%2C%0A%20%20%20%20%20%20%20%20%20%20%20%20%20%20%20%20%20%20%20%20crs%3A%20L.CRS.EPSG3857%2C%0A%20%20%20%20%20%20%20%20%20%20%20%20%20%20%20%20%20%20%20%20zoom%3A%2010%2C%0A%20%20%20%20%20%20%20%20%20%20%20%20%20%20%20%20%20%20%20%20zoomControl%3A%20true%2C%0A%20%20%20%20%20%20%20%20%20%20%20%20%20%20%20%20%20%20%20%20preferCanvas%3A%20false%2C%0A%20%20%20%20%20%20%20%20%20%20%20%20%20%20%20%20%7D%0A%20%20%20%20%20%20%20%20%20%20%20%20%29%3B%0A%0A%20%20%20%20%20%20%20%20%20%20%20%20%0A%0A%20%20%20%20%20%20%20%20%0A%20%20%20%20%0A%20%20%20%20%20%20%20%20%20%20%20%20var%20tile_layer_4ee893a1957b4c25969c1a3a4c0a5101%20%3D%20L.tileLayer%28%0A%20%20%20%20%20%20%20%20%20%20%20%20%20%20%20%20%22https%3A//%7Bs%7D.tile.openstreetmap.org/%7Bz%7D/%7Bx%7D/%7By%7D.png%22%2C%0A%20%20%20%20%20%20%20%20%20%20%20%20%20%20%20%20%7B%22attribution%22%3A%20%22Data%20by%20%5Cu0026copy%3B%20%5Cu003ca%20href%3D%5C%22http%3A//openstreetmap.org%5C%22%5Cu003eOpenStreetMap%5Cu003c/a%5Cu003e%2C%20under%20%5Cu003ca%20href%3D%5C%22http%3A//www.openstreetmap.org/copyright%5C%22%5Cu003eODbL%5Cu003c/a%5Cu003e.%22%2C%20%22detectRetina%22%3A%20false%2C%20%22maxNativeZoom%22%3A%2018%2C%20%22maxZoom%22%3A%2018%2C%20%22minZoom%22%3A%200%2C%20%22noWrap%22%3A%20false%2C%20%22opacity%22%3A%201%2C%20%22subdomains%22%3A%20%22abc%22%2C%20%22tms%22%3A%20false%7D%0A%20%20%20%20%20%20%20%20%20%20%20%20%29.addTo%28map_844f451b8dd243c58cd7b1f2f3a9ea39%29%3B%0A%20%20%20%20%20%20%20%20%0A%20%20%20%20%0A%20%20%20%20%20%20%20%20%20%20%20%20var%20tile_layer_d379f664e5ab494088afb032d816f2f5%20%3D%20L.tileLayer%28%0A%20%20%20%20%20%20%20%20%20%20%20%20%20%20%20%20%22https%3A//earthengine.googleapis.com/v1alpha/projects/earthengine-legacy/maps/afcf756a81ca1ae0adb51021087495e8-c563923d3ee0230feaa5f7d9878bb4b9/tiles/%7Bz%7D/%7Bx%7D/%7By%7D%22%2C%0A%20%20%20%20%20%20%20%20%20%20%20%20%20%20%20%20%7B%22attribution%22%3A%20%22Map%20Data%20%5Cu0026copy%3B%20%5Cu003ca%20href%3D%5C%22https%3A//earthengine.google.com/%5C%22%5Cu003eGoogle%20Earth%20Engine%5Cu003c/a%5Cu003e%22%2C%20%22detectRetina%22%3A%20false%2C%20%22maxNativeZoom%22%3A%2018%2C%20%22maxZoom%22%3A%2018%2C%20%22minZoom%22%3A%209%2C%20%22noWrap%22%3A%20false%2C%20%22opacity%22%3A%201%2C%20%22subdomains%22%3A%20%22abc%22%2C%20%22tms%22%3A%20false%7D%0A%20%20%20%20%20%20%20%20%20%20%20%20%29.addTo%28map_844f451b8dd243c58cd7b1f2f3a9ea39%29%3B%0A%20%20%20%20%20%20%20%20%0A%20%20%20%20%0A%20%20%20%20%20%20%20%20%20%20%20%20var%20layer_control_7aa46735e33b4ff4aa10941526e0e73b%20%3D%20%7B%0A%20%20%20%20%20%20%20%20%20%20%20%20%20%20%20%20base_layers%20%3A%20%7B%0A%20%20%20%20%20%20%20%20%20%20%20%20%20%20%20%20%20%20%20%20%22openstreetmap%22%20%3A%20tile_layer_4ee893a1957b4c25969c1a3a4c0a5101%2C%0A%20%20%20%20%20%20%20%20%20%20%20%20%20%20%20%20%7D%2C%0A%20%20%20%20%20%20%20%20%20%20%20%20%20%20%20%20overlays%20%3A%20%20%7B%0A%20%20%20%20%20%20%20%20%20%20%20%20%20%20%20%20%20%20%20%20%22S2%20cloud-free%20mosaic%22%20%3A%20tile_layer_d379f664e5ab494088afb032d816f2f5%2C%0A%20%20%20%20%20%20%20%20%20%20%20%20%20%20%20%20%7D%2C%0A%20%20%20%20%20%20%20%20%20%20%20%20%7D%3B%0A%20%20%20%20%20%20%20%20%20%20%20%20L.control.layers%28%0A%20%20%20%20%20%20%20%20%20%20%20%20%20%20%20%20layer_control_7aa46735e33b4ff4aa10941526e0e73b.base_layers%2C%0A%20%20%20%20%20%20%20%20%20%20%20%20%20%20%20%20layer_control_7aa46735e33b4ff4aa10941526e0e73b.overlays%2C%0A%20%20%20%20%20%20%20%20%20%20%20%20%20%20%20%20%7B%22autoZIndex%22%3A%20true%2C%20%22collapsed%22%3A%20true%2C%20%22position%22%3A%20%22topright%22%7D%0A%20%20%20%20%20%20%20%20%20%20%20%20%29.addTo%28map_844f451b8dd243c58cd7b1f2f3a9ea39%29%3B%0A%20%20%20%20%20%20%20%20%0A%3C/script%3E onload=\"this.contentDocument.open();this.contentDocument.write(    decodeURIComponent(this.getAttribute('data-html')));this.contentDocument.close();\" allowfullscreen webkitallowfullscreen mozallowfullscreen></iframe></div></div>"
      ],
      "text/plain": [
       "<folium.folium.Map at 0x148292400>"
      ]
     },
     "metadata": {},
     "output_type": "display_data"
    },
    {
     "name": "stdout",
     "output_type": "stream",
     "text": [
      "\n",
      " \n",
      "\n",
      "2019-11-01 - 2019-12-01\n"
     ]
    },
    {
     "data": {
      "text/html": [
       "<div style=\"width:100%;\"><div style=\"position:relative;width:100%;height:0;padding-bottom:60%;\"><span style=\"color:#565656\">Make this Notebook Trusted to load map: File -> Trust Notebook</span><iframe src=\"about:blank\" style=\"position:absolute;width:100%;height:100%;left:0;top:0;border:none !important;\" data-html=%3C%21DOCTYPE%20html%3E%0A%3Chead%3E%20%20%20%20%0A%20%20%20%20%3Cmeta%20http-equiv%3D%22content-type%22%20content%3D%22text/html%3B%20charset%3DUTF-8%22%20/%3E%0A%20%20%20%20%0A%20%20%20%20%20%20%20%20%3Cscript%3E%0A%20%20%20%20%20%20%20%20%20%20%20%20L_NO_TOUCH%20%3D%20false%3B%0A%20%20%20%20%20%20%20%20%20%20%20%20L_DISABLE_3D%20%3D%20false%3B%0A%20%20%20%20%20%20%20%20%3C/script%3E%0A%20%20%20%20%0A%20%20%20%20%3Cstyle%3Ehtml%2C%20body%20%7Bwidth%3A%20100%25%3Bheight%3A%20100%25%3Bmargin%3A%200%3Bpadding%3A%200%3B%7D%3C/style%3E%0A%20%20%20%20%3Cstyle%3E%23map%20%7Bposition%3Aabsolute%3Btop%3A0%3Bbottom%3A0%3Bright%3A0%3Bleft%3A0%3B%7D%3C/style%3E%0A%20%20%20%20%3Cscript%20src%3D%22https%3A//cdn.jsdelivr.net/npm/leaflet%401.6.0/dist/leaflet.js%22%3E%3C/script%3E%0A%20%20%20%20%3Cscript%20src%3D%22https%3A//code.jquery.com/jquery-1.12.4.min.js%22%3E%3C/script%3E%0A%20%20%20%20%3Cscript%20src%3D%22https%3A//maxcdn.bootstrapcdn.com/bootstrap/3.2.0/js/bootstrap.min.js%22%3E%3C/script%3E%0A%20%20%20%20%3Cscript%20src%3D%22https%3A//cdnjs.cloudflare.com/ajax/libs/Leaflet.awesome-markers/2.0.2/leaflet.awesome-markers.js%22%3E%3C/script%3E%0A%20%20%20%20%3Clink%20rel%3D%22stylesheet%22%20href%3D%22https%3A//cdn.jsdelivr.net/npm/leaflet%401.6.0/dist/leaflet.css%22/%3E%0A%20%20%20%20%3Clink%20rel%3D%22stylesheet%22%20href%3D%22https%3A//maxcdn.bootstrapcdn.com/bootstrap/3.2.0/css/bootstrap.min.css%22/%3E%0A%20%20%20%20%3Clink%20rel%3D%22stylesheet%22%20href%3D%22https%3A//maxcdn.bootstrapcdn.com/bootstrap/3.2.0/css/bootstrap-theme.min.css%22/%3E%0A%20%20%20%20%3Clink%20rel%3D%22stylesheet%22%20href%3D%22https%3A//maxcdn.bootstrapcdn.com/font-awesome/4.6.3/css/font-awesome.min.css%22/%3E%0A%20%20%20%20%3Clink%20rel%3D%22stylesheet%22%20href%3D%22https%3A//cdnjs.cloudflare.com/ajax/libs/Leaflet.awesome-markers/2.0.2/leaflet.awesome-markers.css%22/%3E%0A%20%20%20%20%3Clink%20rel%3D%22stylesheet%22%20href%3D%22https%3A//cdn.jsdelivr.net/gh/python-visualization/folium/folium/templates/leaflet.awesome.rotate.min.css%22/%3E%0A%20%20%20%20%0A%20%20%20%20%20%20%20%20%20%20%20%20%3Cmeta%20name%3D%22viewport%22%20content%3D%22width%3Ddevice-width%2C%0A%20%20%20%20%20%20%20%20%20%20%20%20%20%20%20%20initial-scale%3D1.0%2C%20maximum-scale%3D1.0%2C%20user-scalable%3Dno%22%20/%3E%0A%20%20%20%20%20%20%20%20%20%20%20%20%3Cstyle%3E%0A%20%20%20%20%20%20%20%20%20%20%20%20%20%20%20%20%23map_186c09a9736c4c7483eafac3ba4b764c%20%7B%0A%20%20%20%20%20%20%20%20%20%20%20%20%20%20%20%20%20%20%20%20position%3A%20relative%3B%0A%20%20%20%20%20%20%20%20%20%20%20%20%20%20%20%20%20%20%20%20width%3A%20100.0%25%3B%0A%20%20%20%20%20%20%20%20%20%20%20%20%20%20%20%20%20%20%20%20height%3A%20100.0%25%3B%0A%20%20%20%20%20%20%20%20%20%20%20%20%20%20%20%20%20%20%20%20left%3A%200.0%25%3B%0A%20%20%20%20%20%20%20%20%20%20%20%20%20%20%20%20%20%20%20%20top%3A%200.0%25%3B%0A%20%20%20%20%20%20%20%20%20%20%20%20%20%20%20%20%7D%0A%20%20%20%20%20%20%20%20%20%20%20%20%3C/style%3E%0A%20%20%20%20%20%20%20%20%0A%3C/head%3E%0A%3Cbody%3E%20%20%20%20%0A%20%20%20%20%0A%20%20%20%20%20%20%20%20%20%20%20%20%3Cdiv%20class%3D%22folium-map%22%20id%3D%22map_186c09a9736c4c7483eafac3ba4b764c%22%20%3E%3C/div%3E%0A%20%20%20%20%20%20%20%20%0A%3C/body%3E%0A%3Cscript%3E%20%20%20%20%0A%20%20%20%20%0A%20%20%20%20%20%20%20%20%20%20%20%20var%20map_186c09a9736c4c7483eafac3ba4b764c%20%3D%20L.map%28%0A%20%20%20%20%20%20%20%20%20%20%20%20%20%20%20%20%22map_186c09a9736c4c7483eafac3ba4b764c%22%2C%0A%20%20%20%20%20%20%20%20%20%20%20%20%20%20%20%20%7B%0A%20%20%20%20%20%20%20%20%20%20%20%20%20%20%20%20%20%20%20%20center%3A%20%5B-19.705570084543737%2C%2044.70292749999976%5D%2C%0A%20%20%20%20%20%20%20%20%20%20%20%20%20%20%20%20%20%20%20%20crs%3A%20L.CRS.EPSG3857%2C%0A%20%20%20%20%20%20%20%20%20%20%20%20%20%20%20%20%20%20%20%20zoom%3A%2010%2C%0A%20%20%20%20%20%20%20%20%20%20%20%20%20%20%20%20%20%20%20%20zoomControl%3A%20true%2C%0A%20%20%20%20%20%20%20%20%20%20%20%20%20%20%20%20%20%20%20%20preferCanvas%3A%20false%2C%0A%20%20%20%20%20%20%20%20%20%20%20%20%20%20%20%20%7D%0A%20%20%20%20%20%20%20%20%20%20%20%20%29%3B%0A%0A%20%20%20%20%20%20%20%20%20%20%20%20%0A%0A%20%20%20%20%20%20%20%20%0A%20%20%20%20%0A%20%20%20%20%20%20%20%20%20%20%20%20var%20tile_layer_e786ad24a4c749c58dc8e550095c3e34%20%3D%20L.tileLayer%28%0A%20%20%20%20%20%20%20%20%20%20%20%20%20%20%20%20%22https%3A//%7Bs%7D.tile.openstreetmap.org/%7Bz%7D/%7Bx%7D/%7By%7D.png%22%2C%0A%20%20%20%20%20%20%20%20%20%20%20%20%20%20%20%20%7B%22attribution%22%3A%20%22Data%20by%20%5Cu0026copy%3B%20%5Cu003ca%20href%3D%5C%22http%3A//openstreetmap.org%5C%22%5Cu003eOpenStreetMap%5Cu003c/a%5Cu003e%2C%20under%20%5Cu003ca%20href%3D%5C%22http%3A//www.openstreetmap.org/copyright%5C%22%5Cu003eODbL%5Cu003c/a%5Cu003e.%22%2C%20%22detectRetina%22%3A%20false%2C%20%22maxNativeZoom%22%3A%2018%2C%20%22maxZoom%22%3A%2018%2C%20%22minZoom%22%3A%200%2C%20%22noWrap%22%3A%20false%2C%20%22opacity%22%3A%201%2C%20%22subdomains%22%3A%20%22abc%22%2C%20%22tms%22%3A%20false%7D%0A%20%20%20%20%20%20%20%20%20%20%20%20%29.addTo%28map_186c09a9736c4c7483eafac3ba4b764c%29%3B%0A%20%20%20%20%20%20%20%20%0A%20%20%20%20%0A%20%20%20%20%20%20%20%20%20%20%20%20var%20tile_layer_22164b30a5b44170bfb6efbba180fb8c%20%3D%20L.tileLayer%28%0A%20%20%20%20%20%20%20%20%20%20%20%20%20%20%20%20%22https%3A//earthengine.googleapis.com/v1alpha/projects/earthengine-legacy/maps/5ccb388bc6d4754002c2771d6abf4ecb-6107b8b23a9ff5fe02051e436d05a01b/tiles/%7Bz%7D/%7Bx%7D/%7By%7D%22%2C%0A%20%20%20%20%20%20%20%20%20%20%20%20%20%20%20%20%7B%22attribution%22%3A%20%22Map%20Data%20%5Cu0026copy%3B%20%5Cu003ca%20href%3D%5C%22https%3A//earthengine.google.com/%5C%22%5Cu003eGoogle%20Earth%20Engine%5Cu003c/a%5Cu003e%22%2C%20%22detectRetina%22%3A%20false%2C%20%22maxNativeZoom%22%3A%2018%2C%20%22maxZoom%22%3A%2018%2C%20%22minZoom%22%3A%209%2C%20%22noWrap%22%3A%20false%2C%20%22opacity%22%3A%201%2C%20%22subdomains%22%3A%20%22abc%22%2C%20%22tms%22%3A%20false%7D%0A%20%20%20%20%20%20%20%20%20%20%20%20%29.addTo%28map_186c09a9736c4c7483eafac3ba4b764c%29%3B%0A%20%20%20%20%20%20%20%20%0A%20%20%20%20%0A%20%20%20%20%20%20%20%20%20%20%20%20var%20layer_control_4e6ab576124f440d92bd824a5c93f518%20%3D%20%7B%0A%20%20%20%20%20%20%20%20%20%20%20%20%20%20%20%20base_layers%20%3A%20%7B%0A%20%20%20%20%20%20%20%20%20%20%20%20%20%20%20%20%20%20%20%20%22openstreetmap%22%20%3A%20tile_layer_e786ad24a4c749c58dc8e550095c3e34%2C%0A%20%20%20%20%20%20%20%20%20%20%20%20%20%20%20%20%7D%2C%0A%20%20%20%20%20%20%20%20%20%20%20%20%20%20%20%20overlays%20%3A%20%20%7B%0A%20%20%20%20%20%20%20%20%20%20%20%20%20%20%20%20%20%20%20%20%22S2%20cloud-free%20mosaic%22%20%3A%20tile_layer_22164b30a5b44170bfb6efbba180fb8c%2C%0A%20%20%20%20%20%20%20%20%20%20%20%20%20%20%20%20%7D%2C%0A%20%20%20%20%20%20%20%20%20%20%20%20%7D%3B%0A%20%20%20%20%20%20%20%20%20%20%20%20L.control.layers%28%0A%20%20%20%20%20%20%20%20%20%20%20%20%20%20%20%20layer_control_4e6ab576124f440d92bd824a5c93f518.base_layers%2C%0A%20%20%20%20%20%20%20%20%20%20%20%20%20%20%20%20layer_control_4e6ab576124f440d92bd824a5c93f518.overlays%2C%0A%20%20%20%20%20%20%20%20%20%20%20%20%20%20%20%20%7B%22autoZIndex%22%3A%20true%2C%20%22collapsed%22%3A%20true%2C%20%22position%22%3A%20%22topright%22%7D%0A%20%20%20%20%20%20%20%20%20%20%20%20%29.addTo%28map_186c09a9736c4c7483eafac3ba4b764c%29%3B%0A%20%20%20%20%20%20%20%20%0A%3C/script%3E onload=\"this.contentDocument.open();this.contentDocument.write(    decodeURIComponent(this.getAttribute('data-html')));this.contentDocument.close();\" allowfullscreen webkitallowfullscreen mozallowfullscreen></iframe></div></div>"
      ],
      "text/plain": [
       "<folium.folium.Map at 0x148298fa0>"
      ]
     },
     "metadata": {},
     "output_type": "display_data"
    },
    {
     "name": "stdout",
     "output_type": "stream",
     "text": [
      "\n",
      " \n",
      "\n",
      "2019-12-01 - 2020-01-01\n"
     ]
    },
    {
     "data": {
      "text/html": [
       "<div style=\"width:100%;\"><div style=\"position:relative;width:100%;height:0;padding-bottom:60%;\"><span style=\"color:#565656\">Make this Notebook Trusted to load map: File -> Trust Notebook</span><iframe src=\"about:blank\" style=\"position:absolute;width:100%;height:100%;left:0;top:0;border:none !important;\" data-html=%3C%21DOCTYPE%20html%3E%0A%3Chead%3E%20%20%20%20%0A%20%20%20%20%3Cmeta%20http-equiv%3D%22content-type%22%20content%3D%22text/html%3B%20charset%3DUTF-8%22%20/%3E%0A%20%20%20%20%0A%20%20%20%20%20%20%20%20%3Cscript%3E%0A%20%20%20%20%20%20%20%20%20%20%20%20L_NO_TOUCH%20%3D%20false%3B%0A%20%20%20%20%20%20%20%20%20%20%20%20L_DISABLE_3D%20%3D%20false%3B%0A%20%20%20%20%20%20%20%20%3C/script%3E%0A%20%20%20%20%0A%20%20%20%20%3Cstyle%3Ehtml%2C%20body%20%7Bwidth%3A%20100%25%3Bheight%3A%20100%25%3Bmargin%3A%200%3Bpadding%3A%200%3B%7D%3C/style%3E%0A%20%20%20%20%3Cstyle%3E%23map%20%7Bposition%3Aabsolute%3Btop%3A0%3Bbottom%3A0%3Bright%3A0%3Bleft%3A0%3B%7D%3C/style%3E%0A%20%20%20%20%3Cscript%20src%3D%22https%3A//cdn.jsdelivr.net/npm/leaflet%401.6.0/dist/leaflet.js%22%3E%3C/script%3E%0A%20%20%20%20%3Cscript%20src%3D%22https%3A//code.jquery.com/jquery-1.12.4.min.js%22%3E%3C/script%3E%0A%20%20%20%20%3Cscript%20src%3D%22https%3A//maxcdn.bootstrapcdn.com/bootstrap/3.2.0/js/bootstrap.min.js%22%3E%3C/script%3E%0A%20%20%20%20%3Cscript%20src%3D%22https%3A//cdnjs.cloudflare.com/ajax/libs/Leaflet.awesome-markers/2.0.2/leaflet.awesome-markers.js%22%3E%3C/script%3E%0A%20%20%20%20%3Clink%20rel%3D%22stylesheet%22%20href%3D%22https%3A//cdn.jsdelivr.net/npm/leaflet%401.6.0/dist/leaflet.css%22/%3E%0A%20%20%20%20%3Clink%20rel%3D%22stylesheet%22%20href%3D%22https%3A//maxcdn.bootstrapcdn.com/bootstrap/3.2.0/css/bootstrap.min.css%22/%3E%0A%20%20%20%20%3Clink%20rel%3D%22stylesheet%22%20href%3D%22https%3A//maxcdn.bootstrapcdn.com/bootstrap/3.2.0/css/bootstrap-theme.min.css%22/%3E%0A%20%20%20%20%3Clink%20rel%3D%22stylesheet%22%20href%3D%22https%3A//maxcdn.bootstrapcdn.com/font-awesome/4.6.3/css/font-awesome.min.css%22/%3E%0A%20%20%20%20%3Clink%20rel%3D%22stylesheet%22%20href%3D%22https%3A//cdnjs.cloudflare.com/ajax/libs/Leaflet.awesome-markers/2.0.2/leaflet.awesome-markers.css%22/%3E%0A%20%20%20%20%3Clink%20rel%3D%22stylesheet%22%20href%3D%22https%3A//cdn.jsdelivr.net/gh/python-visualization/folium/folium/templates/leaflet.awesome.rotate.min.css%22/%3E%0A%20%20%20%20%0A%20%20%20%20%20%20%20%20%20%20%20%20%3Cmeta%20name%3D%22viewport%22%20content%3D%22width%3Ddevice-width%2C%0A%20%20%20%20%20%20%20%20%20%20%20%20%20%20%20%20initial-scale%3D1.0%2C%20maximum-scale%3D1.0%2C%20user-scalable%3Dno%22%20/%3E%0A%20%20%20%20%20%20%20%20%20%20%20%20%3Cstyle%3E%0A%20%20%20%20%20%20%20%20%20%20%20%20%20%20%20%20%23map_606b16d58e0b4487b63976ac178870d9%20%7B%0A%20%20%20%20%20%20%20%20%20%20%20%20%20%20%20%20%20%20%20%20position%3A%20relative%3B%0A%20%20%20%20%20%20%20%20%20%20%20%20%20%20%20%20%20%20%20%20width%3A%20100.0%25%3B%0A%20%20%20%20%20%20%20%20%20%20%20%20%20%20%20%20%20%20%20%20height%3A%20100.0%25%3B%0A%20%20%20%20%20%20%20%20%20%20%20%20%20%20%20%20%20%20%20%20left%3A%200.0%25%3B%0A%20%20%20%20%20%20%20%20%20%20%20%20%20%20%20%20%20%20%20%20top%3A%200.0%25%3B%0A%20%20%20%20%20%20%20%20%20%20%20%20%20%20%20%20%7D%0A%20%20%20%20%20%20%20%20%20%20%20%20%3C/style%3E%0A%20%20%20%20%20%20%20%20%0A%3C/head%3E%0A%3Cbody%3E%20%20%20%20%0A%20%20%20%20%0A%20%20%20%20%20%20%20%20%20%20%20%20%3Cdiv%20class%3D%22folium-map%22%20id%3D%22map_606b16d58e0b4487b63976ac178870d9%22%20%3E%3C/div%3E%0A%20%20%20%20%20%20%20%20%0A%3C/body%3E%0A%3Cscript%3E%20%20%20%20%0A%20%20%20%20%0A%20%20%20%20%20%20%20%20%20%20%20%20var%20map_606b16d58e0b4487b63976ac178870d9%20%3D%20L.map%28%0A%20%20%20%20%20%20%20%20%20%20%20%20%20%20%20%20%22map_606b16d58e0b4487b63976ac178870d9%22%2C%0A%20%20%20%20%20%20%20%20%20%20%20%20%20%20%20%20%7B%0A%20%20%20%20%20%20%20%20%20%20%20%20%20%20%20%20%20%20%20%20center%3A%20%5B-19.705570084543737%2C%2044.70292749999976%5D%2C%0A%20%20%20%20%20%20%20%20%20%20%20%20%20%20%20%20%20%20%20%20crs%3A%20L.CRS.EPSG3857%2C%0A%20%20%20%20%20%20%20%20%20%20%20%20%20%20%20%20%20%20%20%20zoom%3A%2010%2C%0A%20%20%20%20%20%20%20%20%20%20%20%20%20%20%20%20%20%20%20%20zoomControl%3A%20true%2C%0A%20%20%20%20%20%20%20%20%20%20%20%20%20%20%20%20%20%20%20%20preferCanvas%3A%20false%2C%0A%20%20%20%20%20%20%20%20%20%20%20%20%20%20%20%20%7D%0A%20%20%20%20%20%20%20%20%20%20%20%20%29%3B%0A%0A%20%20%20%20%20%20%20%20%20%20%20%20%0A%0A%20%20%20%20%20%20%20%20%0A%20%20%20%20%0A%20%20%20%20%20%20%20%20%20%20%20%20var%20tile_layer_0218604d43584f1e82b9d38e60144cc8%20%3D%20L.tileLayer%28%0A%20%20%20%20%20%20%20%20%20%20%20%20%20%20%20%20%22https%3A//%7Bs%7D.tile.openstreetmap.org/%7Bz%7D/%7Bx%7D/%7By%7D.png%22%2C%0A%20%20%20%20%20%20%20%20%20%20%20%20%20%20%20%20%7B%22attribution%22%3A%20%22Data%20by%20%5Cu0026copy%3B%20%5Cu003ca%20href%3D%5C%22http%3A//openstreetmap.org%5C%22%5Cu003eOpenStreetMap%5Cu003c/a%5Cu003e%2C%20under%20%5Cu003ca%20href%3D%5C%22http%3A//www.openstreetmap.org/copyright%5C%22%5Cu003eODbL%5Cu003c/a%5Cu003e.%22%2C%20%22detectRetina%22%3A%20false%2C%20%22maxNativeZoom%22%3A%2018%2C%20%22maxZoom%22%3A%2018%2C%20%22minZoom%22%3A%200%2C%20%22noWrap%22%3A%20false%2C%20%22opacity%22%3A%201%2C%20%22subdomains%22%3A%20%22abc%22%2C%20%22tms%22%3A%20false%7D%0A%20%20%20%20%20%20%20%20%20%20%20%20%29.addTo%28map_606b16d58e0b4487b63976ac178870d9%29%3B%0A%20%20%20%20%20%20%20%20%0A%20%20%20%20%0A%20%20%20%20%20%20%20%20%20%20%20%20var%20tile_layer_34da1f2bef094611b49eaef4febd4f56%20%3D%20L.tileLayer%28%0A%20%20%20%20%20%20%20%20%20%20%20%20%20%20%20%20%22https%3A//earthengine.googleapis.com/v1alpha/projects/earthengine-legacy/maps/7fab04a2d3e04db40f69f30a39b0f711-9088ff2a9b3ed10d55d6503bd763120f/tiles/%7Bz%7D/%7Bx%7D/%7By%7D%22%2C%0A%20%20%20%20%20%20%20%20%20%20%20%20%20%20%20%20%7B%22attribution%22%3A%20%22Map%20Data%20%5Cu0026copy%3B%20%5Cu003ca%20href%3D%5C%22https%3A//earthengine.google.com/%5C%22%5Cu003eGoogle%20Earth%20Engine%5Cu003c/a%5Cu003e%22%2C%20%22detectRetina%22%3A%20false%2C%20%22maxNativeZoom%22%3A%2018%2C%20%22maxZoom%22%3A%2018%2C%20%22minZoom%22%3A%209%2C%20%22noWrap%22%3A%20false%2C%20%22opacity%22%3A%201%2C%20%22subdomains%22%3A%20%22abc%22%2C%20%22tms%22%3A%20false%7D%0A%20%20%20%20%20%20%20%20%20%20%20%20%29.addTo%28map_606b16d58e0b4487b63976ac178870d9%29%3B%0A%20%20%20%20%20%20%20%20%0A%20%20%20%20%0A%20%20%20%20%20%20%20%20%20%20%20%20var%20layer_control_dd837eede4ce4e4b9b2a338be9a4f286%20%3D%20%7B%0A%20%20%20%20%20%20%20%20%20%20%20%20%20%20%20%20base_layers%20%3A%20%7B%0A%20%20%20%20%20%20%20%20%20%20%20%20%20%20%20%20%20%20%20%20%22openstreetmap%22%20%3A%20tile_layer_0218604d43584f1e82b9d38e60144cc8%2C%0A%20%20%20%20%20%20%20%20%20%20%20%20%20%20%20%20%7D%2C%0A%20%20%20%20%20%20%20%20%20%20%20%20%20%20%20%20overlays%20%3A%20%20%7B%0A%20%20%20%20%20%20%20%20%20%20%20%20%20%20%20%20%20%20%20%20%22S2%20cloud-free%20mosaic%22%20%3A%20tile_layer_34da1f2bef094611b49eaef4febd4f56%2C%0A%20%20%20%20%20%20%20%20%20%20%20%20%20%20%20%20%7D%2C%0A%20%20%20%20%20%20%20%20%20%20%20%20%7D%3B%0A%20%20%20%20%20%20%20%20%20%20%20%20L.control.layers%28%0A%20%20%20%20%20%20%20%20%20%20%20%20%20%20%20%20layer_control_dd837eede4ce4e4b9b2a338be9a4f286.base_layers%2C%0A%20%20%20%20%20%20%20%20%20%20%20%20%20%20%20%20layer_control_dd837eede4ce4e4b9b2a338be9a4f286.overlays%2C%0A%20%20%20%20%20%20%20%20%20%20%20%20%20%20%20%20%7B%22autoZIndex%22%3A%20true%2C%20%22collapsed%22%3A%20true%2C%20%22position%22%3A%20%22topright%22%7D%0A%20%20%20%20%20%20%20%20%20%20%20%20%29.addTo%28map_606b16d58e0b4487b63976ac178870d9%29%3B%0A%20%20%20%20%20%20%20%20%0A%3C/script%3E onload=\"this.contentDocument.open();this.contentDocument.write(    decodeURIComponent(this.getAttribute('data-html')));this.contentDocument.close();\" allowfullscreen webkitallowfullscreen mozallowfullscreen></iframe></div></div>"
      ],
      "text/plain": [
       "<folium.folium.Map at 0x148ea5280>"
      ]
     },
     "metadata": {},
     "output_type": "display_data"
    },
    {
     "name": "stdout",
     "output_type": "stream",
     "text": [
      "\n",
      " \n",
      "\n"
     ]
    }
   ],
   "source": [
    "# 2019 monthly sentinel composite images with cloud masking\n",
    "\n",
    "for i in range(len(dateRange[:12])):\n",
    "    startDate, endDate = dateRange[i][0], dateRange[i][1]\n",
    "    s2_sr_collection = get_s2_sr_cld_col(subset, startDate, endDate)\n",
    "    s2_sr_median = s2_sr_collection.map(add_cld_shdw_mask\n",
    "                                ).map(apply_cld_shdw_mask\n",
    "                                ).median()\n",
    "\n",
    "    m = folium.Map(location=subsetCenter, zoom_start=10)\n",
    "    m.add_ee_layer(s2_sr_median,\n",
    "                {'bands': ['B4', 'B3', 'B2'], \n",
    "                 'min': 0, 'max': 2500, 'gamma': 1.1},\n",
    "                 'S2 cloud-free mosaic', True, 1, 9)\n",
    "\n",
    "    m.add_child(folium.LayerControl())\n",
    "    print(startDate + \" - \" + endDate)\n",
    "    display(m)\n",
    "    print(\"\\n \\n\")"
   ]
  },
  {
   "cell_type": "code",
   "execution_count": 9,
   "metadata": {
    "colab": {
     "base_uri": "https://localhost:8080/",
     "height": 1000
    },
    "id": "0zUB7hwriY8n",
    "outputId": "c7e5d492-f202-4af8-9b04-938370a13b99"
   },
   "outputs": [
    {
     "name": "stdout",
     "output_type": "stream",
     "text": [
      "2019-01-01 - 2019-02-01\n"
     ]
    },
    {
     "data": {
      "text/html": [
       "<div style=\"width:100%;\"><div style=\"position:relative;width:100%;height:0;padding-bottom:60%;\"><span style=\"color:#565656\">Make this Notebook Trusted to load map: File -> Trust Notebook</span><iframe src=\"about:blank\" style=\"position:absolute;width:100%;height:100%;left:0;top:0;border:none !important;\" data-html=%3C%21DOCTYPE%20html%3E%0A%3Chead%3E%20%20%20%20%0A%20%20%20%20%3Cmeta%20http-equiv%3D%22content-type%22%20content%3D%22text/html%3B%20charset%3DUTF-8%22%20/%3E%0A%20%20%20%20%0A%20%20%20%20%20%20%20%20%3Cscript%3E%0A%20%20%20%20%20%20%20%20%20%20%20%20L_NO_TOUCH%20%3D%20false%3B%0A%20%20%20%20%20%20%20%20%20%20%20%20L_DISABLE_3D%20%3D%20false%3B%0A%20%20%20%20%20%20%20%20%3C/script%3E%0A%20%20%20%20%0A%20%20%20%20%3Cstyle%3Ehtml%2C%20body%20%7Bwidth%3A%20100%25%3Bheight%3A%20100%25%3Bmargin%3A%200%3Bpadding%3A%200%3B%7D%3C/style%3E%0A%20%20%20%20%3Cstyle%3E%23map%20%7Bposition%3Aabsolute%3Btop%3A0%3Bbottom%3A0%3Bright%3A0%3Bleft%3A0%3B%7D%3C/style%3E%0A%20%20%20%20%3Cscript%20src%3D%22https%3A//cdn.jsdelivr.net/npm/leaflet%401.6.0/dist/leaflet.js%22%3E%3C/script%3E%0A%20%20%20%20%3Cscript%20src%3D%22https%3A//code.jquery.com/jquery-1.12.4.min.js%22%3E%3C/script%3E%0A%20%20%20%20%3Cscript%20src%3D%22https%3A//maxcdn.bootstrapcdn.com/bootstrap/3.2.0/js/bootstrap.min.js%22%3E%3C/script%3E%0A%20%20%20%20%3Cscript%20src%3D%22https%3A//cdnjs.cloudflare.com/ajax/libs/Leaflet.awesome-markers/2.0.2/leaflet.awesome-markers.js%22%3E%3C/script%3E%0A%20%20%20%20%3Clink%20rel%3D%22stylesheet%22%20href%3D%22https%3A//cdn.jsdelivr.net/npm/leaflet%401.6.0/dist/leaflet.css%22/%3E%0A%20%20%20%20%3Clink%20rel%3D%22stylesheet%22%20href%3D%22https%3A//maxcdn.bootstrapcdn.com/bootstrap/3.2.0/css/bootstrap.min.css%22/%3E%0A%20%20%20%20%3Clink%20rel%3D%22stylesheet%22%20href%3D%22https%3A//maxcdn.bootstrapcdn.com/bootstrap/3.2.0/css/bootstrap-theme.min.css%22/%3E%0A%20%20%20%20%3Clink%20rel%3D%22stylesheet%22%20href%3D%22https%3A//maxcdn.bootstrapcdn.com/font-awesome/4.6.3/css/font-awesome.min.css%22/%3E%0A%20%20%20%20%3Clink%20rel%3D%22stylesheet%22%20href%3D%22https%3A//cdnjs.cloudflare.com/ajax/libs/Leaflet.awesome-markers/2.0.2/leaflet.awesome-markers.css%22/%3E%0A%20%20%20%20%3Clink%20rel%3D%22stylesheet%22%20href%3D%22https%3A//cdn.jsdelivr.net/gh/python-visualization/folium/folium/templates/leaflet.awesome.rotate.min.css%22/%3E%0A%20%20%20%20%0A%20%20%20%20%20%20%20%20%20%20%20%20%3Cmeta%20name%3D%22viewport%22%20content%3D%22width%3Ddevice-width%2C%0A%20%20%20%20%20%20%20%20%20%20%20%20%20%20%20%20initial-scale%3D1.0%2C%20maximum-scale%3D1.0%2C%20user-scalable%3Dno%22%20/%3E%0A%20%20%20%20%20%20%20%20%20%20%20%20%3Cstyle%3E%0A%20%20%20%20%20%20%20%20%20%20%20%20%20%20%20%20%23map_66005b89cadf4e6a8fb4276fbddc05c7%20%7B%0A%20%20%20%20%20%20%20%20%20%20%20%20%20%20%20%20%20%20%20%20position%3A%20relative%3B%0A%20%20%20%20%20%20%20%20%20%20%20%20%20%20%20%20%20%20%20%20width%3A%20100.0%25%3B%0A%20%20%20%20%20%20%20%20%20%20%20%20%20%20%20%20%20%20%20%20height%3A%20100.0%25%3B%0A%20%20%20%20%20%20%20%20%20%20%20%20%20%20%20%20%20%20%20%20left%3A%200.0%25%3B%0A%20%20%20%20%20%20%20%20%20%20%20%20%20%20%20%20%20%20%20%20top%3A%200.0%25%3B%0A%20%20%20%20%20%20%20%20%20%20%20%20%20%20%20%20%7D%0A%20%20%20%20%20%20%20%20%20%20%20%20%3C/style%3E%0A%20%20%20%20%20%20%20%20%0A%3C/head%3E%0A%3Cbody%3E%20%20%20%20%0A%20%20%20%20%0A%20%20%20%20%20%20%20%20%20%20%20%20%3Cdiv%20class%3D%22folium-map%22%20id%3D%22map_66005b89cadf4e6a8fb4276fbddc05c7%22%20%3E%3C/div%3E%0A%20%20%20%20%20%20%20%20%0A%3C/body%3E%0A%3Cscript%3E%20%20%20%20%0A%20%20%20%20%0A%20%20%20%20%20%20%20%20%20%20%20%20var%20map_66005b89cadf4e6a8fb4276fbddc05c7%20%3D%20L.map%28%0A%20%20%20%20%20%20%20%20%20%20%20%20%20%20%20%20%22map_66005b89cadf4e6a8fb4276fbddc05c7%22%2C%0A%20%20%20%20%20%20%20%20%20%20%20%20%20%20%20%20%7B%0A%20%20%20%20%20%20%20%20%20%20%20%20%20%20%20%20%20%20%20%20center%3A%20%5B-19.705570084543737%2C%2044.70292749999976%5D%2C%0A%20%20%20%20%20%20%20%20%20%20%20%20%20%20%20%20%20%20%20%20crs%3A%20L.CRS.EPSG3857%2C%0A%20%20%20%20%20%20%20%20%20%20%20%20%20%20%20%20%20%20%20%20zoom%3A%2010%2C%0A%20%20%20%20%20%20%20%20%20%20%20%20%20%20%20%20%20%20%20%20zoomControl%3A%20true%2C%0A%20%20%20%20%20%20%20%20%20%20%20%20%20%20%20%20%20%20%20%20preferCanvas%3A%20false%2C%0A%20%20%20%20%20%20%20%20%20%20%20%20%20%20%20%20%7D%0A%20%20%20%20%20%20%20%20%20%20%20%20%29%3B%0A%0A%20%20%20%20%20%20%20%20%20%20%20%20%0A%0A%20%20%20%20%20%20%20%20%0A%20%20%20%20%0A%20%20%20%20%20%20%20%20%20%20%20%20var%20tile_layer_f451ce4c052d479c8553ccd97bb1a432%20%3D%20L.tileLayer%28%0A%20%20%20%20%20%20%20%20%20%20%20%20%20%20%20%20%22https%3A//%7Bs%7D.tile.openstreetmap.org/%7Bz%7D/%7Bx%7D/%7By%7D.png%22%2C%0A%20%20%20%20%20%20%20%20%20%20%20%20%20%20%20%20%7B%22attribution%22%3A%20%22Data%20by%20%5Cu0026copy%3B%20%5Cu003ca%20href%3D%5C%22http%3A//openstreetmap.org%5C%22%5Cu003eOpenStreetMap%5Cu003c/a%5Cu003e%2C%20under%20%5Cu003ca%20href%3D%5C%22http%3A//www.openstreetmap.org/copyright%5C%22%5Cu003eODbL%5Cu003c/a%5Cu003e.%22%2C%20%22detectRetina%22%3A%20false%2C%20%22maxNativeZoom%22%3A%2018%2C%20%22maxZoom%22%3A%2018%2C%20%22minZoom%22%3A%200%2C%20%22noWrap%22%3A%20false%2C%20%22opacity%22%3A%201%2C%20%22subdomains%22%3A%20%22abc%22%2C%20%22tms%22%3A%20false%7D%0A%20%20%20%20%20%20%20%20%20%20%20%20%29.addTo%28map_66005b89cadf4e6a8fb4276fbddc05c7%29%3B%0A%20%20%20%20%20%20%20%20%0A%20%20%20%20%0A%20%20%20%20%20%20%20%20%20%20%20%20var%20tile_layer_85e637ecf2b14713a67582f3248b4779%20%3D%20L.tileLayer%28%0A%20%20%20%20%20%20%20%20%20%20%20%20%20%20%20%20%22https%3A//earthengine.googleapis.com/v1alpha/projects/earthengine-legacy/maps/9fad840f6373d105b038564f3c09170d-149d041742fec7414ccd8f0cdae65d0c/tiles/%7Bz%7D/%7Bx%7D/%7By%7D%22%2C%0A%20%20%20%20%20%20%20%20%20%20%20%20%20%20%20%20%7B%22attribution%22%3A%20%22Map%20Data%20%5Cu0026copy%3B%20%5Cu003ca%20href%3D%5C%22https%3A//earthengine.google.com/%5C%22%5Cu003eGoogle%20Earth%20Engine%5Cu003c/a%5Cu003e%22%2C%20%22detectRetina%22%3A%20false%2C%20%22maxNativeZoom%22%3A%2018%2C%20%22maxZoom%22%3A%2018%2C%20%22minZoom%22%3A%200%2C%20%22noWrap%22%3A%20false%2C%20%22opacity%22%3A%201%2C%20%22subdomains%22%3A%20%22abc%22%2C%20%22tms%22%3A%20false%7D%0A%20%20%20%20%20%20%20%20%20%20%20%20%29.addTo%28map_66005b89cadf4e6a8fb4276fbddc05c7%29%3B%0A%20%20%20%20%20%20%20%20%0A%20%20%20%20%0A%20%20%20%20%20%20%20%20%20%20%20%20var%20tile_layer_07ba8de86a154e259aec2b77bbb5e8a9%20%3D%20L.tileLayer%28%0A%20%20%20%20%20%20%20%20%20%20%20%20%20%20%20%20%22https%3A//earthengine.googleapis.com/v1alpha/projects/earthengine-legacy/maps/ab4965f3b6c5bca01babde6c2863dc7c-94e9c87a2d840aa7c8dc1be9ea436381/tiles/%7Bz%7D/%7Bx%7D/%7By%7D%22%2C%0A%20%20%20%20%20%20%20%20%20%20%20%20%20%20%20%20%7B%22attribution%22%3A%20%22Map%20Data%20%5Cu0026copy%3B%20%5Cu003ca%20href%3D%5C%22https%3A//earthengine.google.com/%5C%22%5Cu003eGoogle%20Earth%20Engine%5Cu003c/a%5Cu003e%22%2C%20%22detectRetina%22%3A%20false%2C%20%22maxNativeZoom%22%3A%2018%2C%20%22maxZoom%22%3A%2018%2C%20%22minZoom%22%3A%200%2C%20%22noWrap%22%3A%20false%2C%20%22opacity%22%3A%201%2C%20%22subdomains%22%3A%20%22abc%22%2C%20%22tms%22%3A%20false%7D%0A%20%20%20%20%20%20%20%20%20%20%20%20%29.addTo%28map_66005b89cadf4e6a8fb4276fbddc05c7%29%3B%0A%20%20%20%20%20%20%20%20%0A%20%20%20%20%0A%20%20%20%20%20%20%20%20%20%20%20%20var%20tile_layer_dd6e83230fc44e48b473ff9bedd4eb32%20%3D%20L.tileLayer%28%0A%20%20%20%20%20%20%20%20%20%20%20%20%20%20%20%20%22https%3A//earthengine.googleapis.com/v1alpha/projects/earthengine-legacy/maps/2ec1b37274ed2b4646eb79c6246892ae-a057b4ca4e72a352b4d11b82f86adbd0/tiles/%7Bz%7D/%7Bx%7D/%7By%7D%22%2C%0A%20%20%20%20%20%20%20%20%20%20%20%20%20%20%20%20%7B%22attribution%22%3A%20%22Map%20Data%20%5Cu0026copy%3B%20%5Cu003ca%20href%3D%5C%22https%3A//earthengine.google.com/%5C%22%5Cu003eGoogle%20Earth%20Engine%5Cu003c/a%5Cu003e%22%2C%20%22detectRetina%22%3A%20false%2C%20%22maxNativeZoom%22%3A%2018%2C%20%22maxZoom%22%3A%2018%2C%20%22minZoom%22%3A%200%2C%20%22noWrap%22%3A%20false%2C%20%22opacity%22%3A%201%2C%20%22subdomains%22%3A%20%22abc%22%2C%20%22tms%22%3A%20false%7D%0A%20%20%20%20%20%20%20%20%20%20%20%20%29.addTo%28map_66005b89cadf4e6a8fb4276fbddc05c7%29%3B%0A%20%20%20%20%20%20%20%20%0A%20%20%20%20%0A%20%20%20%20%20%20%20%20%20%20%20%20var%20layer_control_c638a4601ef247a28d6a1e6bfce5d7e2%20%3D%20%7B%0A%20%20%20%20%20%20%20%20%20%20%20%20%20%20%20%20base_layers%20%3A%20%7B%0A%20%20%20%20%20%20%20%20%20%20%20%20%20%20%20%20%20%20%20%20%22openstreetmap%22%20%3A%20tile_layer_f451ce4c052d479c8553ccd97bb1a432%2C%0A%20%20%20%20%20%20%20%20%20%20%20%20%20%20%20%20%7D%2C%0A%20%20%20%20%20%20%20%20%20%20%20%20%20%20%20%20overlays%20%3A%20%20%7B%0A%20%20%20%20%20%20%20%20%20%20%20%20%20%20%20%20%20%20%20%20%22Masked%20NDVI%22%20%3A%20tile_layer_85e637ecf2b14713a67582f3248b4779%2C%0A%20%20%20%20%20%20%20%20%20%20%20%20%20%20%20%20%20%20%20%20%22Unmasked%20NDVI%22%20%3A%20tile_layer_07ba8de86a154e259aec2b77bbb5e8a9%2C%0A%20%20%20%20%20%20%20%20%20%20%20%20%20%20%20%20%20%20%20%20%22Normalized%20NDVI%20Difference%22%20%3A%20tile_layer_dd6e83230fc44e48b473ff9bedd4eb32%2C%0A%20%20%20%20%20%20%20%20%20%20%20%20%20%20%20%20%7D%2C%0A%20%20%20%20%20%20%20%20%20%20%20%20%7D%3B%0A%20%20%20%20%20%20%20%20%20%20%20%20L.control.layers%28%0A%20%20%20%20%20%20%20%20%20%20%20%20%20%20%20%20layer_control_c638a4601ef247a28d6a1e6bfce5d7e2.base_layers%2C%0A%20%20%20%20%20%20%20%20%20%20%20%20%20%20%20%20layer_control_c638a4601ef247a28d6a1e6bfce5d7e2.overlays%2C%0A%20%20%20%20%20%20%20%20%20%20%20%20%20%20%20%20%7B%22autoZIndex%22%3A%20true%2C%20%22collapsed%22%3A%20true%2C%20%22position%22%3A%20%22topright%22%7D%0A%20%20%20%20%20%20%20%20%20%20%20%20%29.addTo%28map_66005b89cadf4e6a8fb4276fbddc05c7%29%3B%0A%20%20%20%20%20%20%20%20%0A%3C/script%3E onload=\"this.contentDocument.open();this.contentDocument.write(    decodeURIComponent(this.getAttribute('data-html')));this.contentDocument.close();\" allowfullscreen webkitallowfullscreen mozallowfullscreen></iframe></div></div>"
      ],
      "text/plain": [
       "<folium.folium.Map at 0x148eb2f70>"
      ]
     },
     "metadata": {},
     "output_type": "display_data"
    },
    {
     "name": "stdout",
     "output_type": "stream",
     "text": [
      "\n",
      " \n",
      "\n",
      "2019-02-01 - 2019-03-01\n"
     ]
    },
    {
     "data": {
      "text/html": [
       "<div style=\"width:100%;\"><div style=\"position:relative;width:100%;height:0;padding-bottom:60%;\"><span style=\"color:#565656\">Make this Notebook Trusted to load map: File -> Trust Notebook</span><iframe src=\"about:blank\" style=\"position:absolute;width:100%;height:100%;left:0;top:0;border:none !important;\" data-html=%3C%21DOCTYPE%20html%3E%0A%3Chead%3E%20%20%20%20%0A%20%20%20%20%3Cmeta%20http-equiv%3D%22content-type%22%20content%3D%22text/html%3B%20charset%3DUTF-8%22%20/%3E%0A%20%20%20%20%0A%20%20%20%20%20%20%20%20%3Cscript%3E%0A%20%20%20%20%20%20%20%20%20%20%20%20L_NO_TOUCH%20%3D%20false%3B%0A%20%20%20%20%20%20%20%20%20%20%20%20L_DISABLE_3D%20%3D%20false%3B%0A%20%20%20%20%20%20%20%20%3C/script%3E%0A%20%20%20%20%0A%20%20%20%20%3Cstyle%3Ehtml%2C%20body%20%7Bwidth%3A%20100%25%3Bheight%3A%20100%25%3Bmargin%3A%200%3Bpadding%3A%200%3B%7D%3C/style%3E%0A%20%20%20%20%3Cstyle%3E%23map%20%7Bposition%3Aabsolute%3Btop%3A0%3Bbottom%3A0%3Bright%3A0%3Bleft%3A0%3B%7D%3C/style%3E%0A%20%20%20%20%3Cscript%20src%3D%22https%3A//cdn.jsdelivr.net/npm/leaflet%401.6.0/dist/leaflet.js%22%3E%3C/script%3E%0A%20%20%20%20%3Cscript%20src%3D%22https%3A//code.jquery.com/jquery-1.12.4.min.js%22%3E%3C/script%3E%0A%20%20%20%20%3Cscript%20src%3D%22https%3A//maxcdn.bootstrapcdn.com/bootstrap/3.2.0/js/bootstrap.min.js%22%3E%3C/script%3E%0A%20%20%20%20%3Cscript%20src%3D%22https%3A//cdnjs.cloudflare.com/ajax/libs/Leaflet.awesome-markers/2.0.2/leaflet.awesome-markers.js%22%3E%3C/script%3E%0A%20%20%20%20%3Clink%20rel%3D%22stylesheet%22%20href%3D%22https%3A//cdn.jsdelivr.net/npm/leaflet%401.6.0/dist/leaflet.css%22/%3E%0A%20%20%20%20%3Clink%20rel%3D%22stylesheet%22%20href%3D%22https%3A//maxcdn.bootstrapcdn.com/bootstrap/3.2.0/css/bootstrap.min.css%22/%3E%0A%20%20%20%20%3Clink%20rel%3D%22stylesheet%22%20href%3D%22https%3A//maxcdn.bootstrapcdn.com/bootstrap/3.2.0/css/bootstrap-theme.min.css%22/%3E%0A%20%20%20%20%3Clink%20rel%3D%22stylesheet%22%20href%3D%22https%3A//maxcdn.bootstrapcdn.com/font-awesome/4.6.3/css/font-awesome.min.css%22/%3E%0A%20%20%20%20%3Clink%20rel%3D%22stylesheet%22%20href%3D%22https%3A//cdnjs.cloudflare.com/ajax/libs/Leaflet.awesome-markers/2.0.2/leaflet.awesome-markers.css%22/%3E%0A%20%20%20%20%3Clink%20rel%3D%22stylesheet%22%20href%3D%22https%3A//cdn.jsdelivr.net/gh/python-visualization/folium/folium/templates/leaflet.awesome.rotate.min.css%22/%3E%0A%20%20%20%20%0A%20%20%20%20%20%20%20%20%20%20%20%20%3Cmeta%20name%3D%22viewport%22%20content%3D%22width%3Ddevice-width%2C%0A%20%20%20%20%20%20%20%20%20%20%20%20%20%20%20%20initial-scale%3D1.0%2C%20maximum-scale%3D1.0%2C%20user-scalable%3Dno%22%20/%3E%0A%20%20%20%20%20%20%20%20%20%20%20%20%3Cstyle%3E%0A%20%20%20%20%20%20%20%20%20%20%20%20%20%20%20%20%23map_265f88a03b7f4d25821f8ba14f079c95%20%7B%0A%20%20%20%20%20%20%20%20%20%20%20%20%20%20%20%20%20%20%20%20position%3A%20relative%3B%0A%20%20%20%20%20%20%20%20%20%20%20%20%20%20%20%20%20%20%20%20width%3A%20100.0%25%3B%0A%20%20%20%20%20%20%20%20%20%20%20%20%20%20%20%20%20%20%20%20height%3A%20100.0%25%3B%0A%20%20%20%20%20%20%20%20%20%20%20%20%20%20%20%20%20%20%20%20left%3A%200.0%25%3B%0A%20%20%20%20%20%20%20%20%20%20%20%20%20%20%20%20%20%20%20%20top%3A%200.0%25%3B%0A%20%20%20%20%20%20%20%20%20%20%20%20%20%20%20%20%7D%0A%20%20%20%20%20%20%20%20%20%20%20%20%3C/style%3E%0A%20%20%20%20%20%20%20%20%0A%3C/head%3E%0A%3Cbody%3E%20%20%20%20%0A%20%20%20%20%0A%20%20%20%20%20%20%20%20%20%20%20%20%3Cdiv%20class%3D%22folium-map%22%20id%3D%22map_265f88a03b7f4d25821f8ba14f079c95%22%20%3E%3C/div%3E%0A%20%20%20%20%20%20%20%20%0A%3C/body%3E%0A%3Cscript%3E%20%20%20%20%0A%20%20%20%20%0A%20%20%20%20%20%20%20%20%20%20%20%20var%20map_265f88a03b7f4d25821f8ba14f079c95%20%3D%20L.map%28%0A%20%20%20%20%20%20%20%20%20%20%20%20%20%20%20%20%22map_265f88a03b7f4d25821f8ba14f079c95%22%2C%0A%20%20%20%20%20%20%20%20%20%20%20%20%20%20%20%20%7B%0A%20%20%20%20%20%20%20%20%20%20%20%20%20%20%20%20%20%20%20%20center%3A%20%5B-19.705570084543737%2C%2044.70292749999976%5D%2C%0A%20%20%20%20%20%20%20%20%20%20%20%20%20%20%20%20%20%20%20%20crs%3A%20L.CRS.EPSG3857%2C%0A%20%20%20%20%20%20%20%20%20%20%20%20%20%20%20%20%20%20%20%20zoom%3A%2010%2C%0A%20%20%20%20%20%20%20%20%20%20%20%20%20%20%20%20%20%20%20%20zoomControl%3A%20true%2C%0A%20%20%20%20%20%20%20%20%20%20%20%20%20%20%20%20%20%20%20%20preferCanvas%3A%20false%2C%0A%20%20%20%20%20%20%20%20%20%20%20%20%20%20%20%20%7D%0A%20%20%20%20%20%20%20%20%20%20%20%20%29%3B%0A%0A%20%20%20%20%20%20%20%20%20%20%20%20%0A%0A%20%20%20%20%20%20%20%20%0A%20%20%20%20%0A%20%20%20%20%20%20%20%20%20%20%20%20var%20tile_layer_506dc05c9a1a49ca96482948272ba675%20%3D%20L.tileLayer%28%0A%20%20%20%20%20%20%20%20%20%20%20%20%20%20%20%20%22https%3A//%7Bs%7D.tile.openstreetmap.org/%7Bz%7D/%7Bx%7D/%7By%7D.png%22%2C%0A%20%20%20%20%20%20%20%20%20%20%20%20%20%20%20%20%7B%22attribution%22%3A%20%22Data%20by%20%5Cu0026copy%3B%20%5Cu003ca%20href%3D%5C%22http%3A//openstreetmap.org%5C%22%5Cu003eOpenStreetMap%5Cu003c/a%5Cu003e%2C%20under%20%5Cu003ca%20href%3D%5C%22http%3A//www.openstreetmap.org/copyright%5C%22%5Cu003eODbL%5Cu003c/a%5Cu003e.%22%2C%20%22detectRetina%22%3A%20false%2C%20%22maxNativeZoom%22%3A%2018%2C%20%22maxZoom%22%3A%2018%2C%20%22minZoom%22%3A%200%2C%20%22noWrap%22%3A%20false%2C%20%22opacity%22%3A%201%2C%20%22subdomains%22%3A%20%22abc%22%2C%20%22tms%22%3A%20false%7D%0A%20%20%20%20%20%20%20%20%20%20%20%20%29.addTo%28map_265f88a03b7f4d25821f8ba14f079c95%29%3B%0A%20%20%20%20%20%20%20%20%0A%20%20%20%20%0A%20%20%20%20%20%20%20%20%20%20%20%20var%20tile_layer_f137c21d81384e3ca729367619f5b7d0%20%3D%20L.tileLayer%28%0A%20%20%20%20%20%20%20%20%20%20%20%20%20%20%20%20%22https%3A//earthengine.googleapis.com/v1alpha/projects/earthengine-legacy/maps/4b053dee727388e1502b43ecde45987e-d5be306c7744a0b9c8d45bec3974a12d/tiles/%7Bz%7D/%7Bx%7D/%7By%7D%22%2C%0A%20%20%20%20%20%20%20%20%20%20%20%20%20%20%20%20%7B%22attribution%22%3A%20%22Map%20Data%20%5Cu0026copy%3B%20%5Cu003ca%20href%3D%5C%22https%3A//earthengine.google.com/%5C%22%5Cu003eGoogle%20Earth%20Engine%5Cu003c/a%5Cu003e%22%2C%20%22detectRetina%22%3A%20false%2C%20%22maxNativeZoom%22%3A%2018%2C%20%22maxZoom%22%3A%2018%2C%20%22minZoom%22%3A%200%2C%20%22noWrap%22%3A%20false%2C%20%22opacity%22%3A%201%2C%20%22subdomains%22%3A%20%22abc%22%2C%20%22tms%22%3A%20false%7D%0A%20%20%20%20%20%20%20%20%20%20%20%20%29.addTo%28map_265f88a03b7f4d25821f8ba14f079c95%29%3B%0A%20%20%20%20%20%20%20%20%0A%20%20%20%20%0A%20%20%20%20%20%20%20%20%20%20%20%20var%20tile_layer_466cccf9cc17444b8c5cd4d58f65927e%20%3D%20L.tileLayer%28%0A%20%20%20%20%20%20%20%20%20%20%20%20%20%20%20%20%22https%3A//earthengine.googleapis.com/v1alpha/projects/earthengine-legacy/maps/92fcccf7acd763a4c974e04fd3dcb3fc-53ac17ed12b3393718d8bd01cb119090/tiles/%7Bz%7D/%7Bx%7D/%7By%7D%22%2C%0A%20%20%20%20%20%20%20%20%20%20%20%20%20%20%20%20%7B%22attribution%22%3A%20%22Map%20Data%20%5Cu0026copy%3B%20%5Cu003ca%20href%3D%5C%22https%3A//earthengine.google.com/%5C%22%5Cu003eGoogle%20Earth%20Engine%5Cu003c/a%5Cu003e%22%2C%20%22detectRetina%22%3A%20false%2C%20%22maxNativeZoom%22%3A%2018%2C%20%22maxZoom%22%3A%2018%2C%20%22minZoom%22%3A%200%2C%20%22noWrap%22%3A%20false%2C%20%22opacity%22%3A%201%2C%20%22subdomains%22%3A%20%22abc%22%2C%20%22tms%22%3A%20false%7D%0A%20%20%20%20%20%20%20%20%20%20%20%20%29.addTo%28map_265f88a03b7f4d25821f8ba14f079c95%29%3B%0A%20%20%20%20%20%20%20%20%0A%20%20%20%20%0A%20%20%20%20%20%20%20%20%20%20%20%20var%20tile_layer_1e9737847375426fb2360bb04fbcd3fd%20%3D%20L.tileLayer%28%0A%20%20%20%20%20%20%20%20%20%20%20%20%20%20%20%20%22https%3A//earthengine.googleapis.com/v1alpha/projects/earthengine-legacy/maps/ff000830b2007d6eb8afb8404441c61d-e590aa90e9a10bc2cba5b5f2299016ed/tiles/%7Bz%7D/%7Bx%7D/%7By%7D%22%2C%0A%20%20%20%20%20%20%20%20%20%20%20%20%20%20%20%20%7B%22attribution%22%3A%20%22Map%20Data%20%5Cu0026copy%3B%20%5Cu003ca%20href%3D%5C%22https%3A//earthengine.google.com/%5C%22%5Cu003eGoogle%20Earth%20Engine%5Cu003c/a%5Cu003e%22%2C%20%22detectRetina%22%3A%20false%2C%20%22maxNativeZoom%22%3A%2018%2C%20%22maxZoom%22%3A%2018%2C%20%22minZoom%22%3A%200%2C%20%22noWrap%22%3A%20false%2C%20%22opacity%22%3A%201%2C%20%22subdomains%22%3A%20%22abc%22%2C%20%22tms%22%3A%20false%7D%0A%20%20%20%20%20%20%20%20%20%20%20%20%29.addTo%28map_265f88a03b7f4d25821f8ba14f079c95%29%3B%0A%20%20%20%20%20%20%20%20%0A%20%20%20%20%0A%20%20%20%20%20%20%20%20%20%20%20%20var%20layer_control_b023753b554b40b599e8e461338d13e8%20%3D%20%7B%0A%20%20%20%20%20%20%20%20%20%20%20%20%20%20%20%20base_layers%20%3A%20%7B%0A%20%20%20%20%20%20%20%20%20%20%20%20%20%20%20%20%20%20%20%20%22openstreetmap%22%20%3A%20tile_layer_506dc05c9a1a49ca96482948272ba675%2C%0A%20%20%20%20%20%20%20%20%20%20%20%20%20%20%20%20%7D%2C%0A%20%20%20%20%20%20%20%20%20%20%20%20%20%20%20%20overlays%20%3A%20%20%7B%0A%20%20%20%20%20%20%20%20%20%20%20%20%20%20%20%20%20%20%20%20%22Masked%20NDVI%22%20%3A%20tile_layer_f137c21d81384e3ca729367619f5b7d0%2C%0A%20%20%20%20%20%20%20%20%20%20%20%20%20%20%20%20%20%20%20%20%22Unmasked%20NDVI%22%20%3A%20tile_layer_466cccf9cc17444b8c5cd4d58f65927e%2C%0A%20%20%20%20%20%20%20%20%20%20%20%20%20%20%20%20%20%20%20%20%22Normalized%20NDVI%20Difference%22%20%3A%20tile_layer_1e9737847375426fb2360bb04fbcd3fd%2C%0A%20%20%20%20%20%20%20%20%20%20%20%20%20%20%20%20%7D%2C%0A%20%20%20%20%20%20%20%20%20%20%20%20%7D%3B%0A%20%20%20%20%20%20%20%20%20%20%20%20L.control.layers%28%0A%20%20%20%20%20%20%20%20%20%20%20%20%20%20%20%20layer_control_b023753b554b40b599e8e461338d13e8.base_layers%2C%0A%20%20%20%20%20%20%20%20%20%20%20%20%20%20%20%20layer_control_b023753b554b40b599e8e461338d13e8.overlays%2C%0A%20%20%20%20%20%20%20%20%20%20%20%20%20%20%20%20%7B%22autoZIndex%22%3A%20true%2C%20%22collapsed%22%3A%20true%2C%20%22position%22%3A%20%22topright%22%7D%0A%20%20%20%20%20%20%20%20%20%20%20%20%29.addTo%28map_265f88a03b7f4d25821f8ba14f079c95%29%3B%0A%20%20%20%20%20%20%20%20%0A%3C/script%3E onload=\"this.contentDocument.open();this.contentDocument.write(    decodeURIComponent(this.getAttribute('data-html')));this.contentDocument.close();\" allowfullscreen webkitallowfullscreen mozallowfullscreen></iframe></div></div>"
      ],
      "text/plain": [
       "<folium.folium.Map at 0x148298130>"
      ]
     },
     "metadata": {},
     "output_type": "display_data"
    },
    {
     "name": "stdout",
     "output_type": "stream",
     "text": [
      "\n",
      " \n",
      "\n",
      "2019-03-01 - 2019-04-01\n"
     ]
    },
    {
     "data": {
      "text/html": [
       "<div style=\"width:100%;\"><div style=\"position:relative;width:100%;height:0;padding-bottom:60%;\"><span style=\"color:#565656\">Make this Notebook Trusted to load map: File -> Trust Notebook</span><iframe src=\"about:blank\" style=\"position:absolute;width:100%;height:100%;left:0;top:0;border:none !important;\" data-html=%3C%21DOCTYPE%20html%3E%0A%3Chead%3E%20%20%20%20%0A%20%20%20%20%3Cmeta%20http-equiv%3D%22content-type%22%20content%3D%22text/html%3B%20charset%3DUTF-8%22%20/%3E%0A%20%20%20%20%0A%20%20%20%20%20%20%20%20%3Cscript%3E%0A%20%20%20%20%20%20%20%20%20%20%20%20L_NO_TOUCH%20%3D%20false%3B%0A%20%20%20%20%20%20%20%20%20%20%20%20L_DISABLE_3D%20%3D%20false%3B%0A%20%20%20%20%20%20%20%20%3C/script%3E%0A%20%20%20%20%0A%20%20%20%20%3Cstyle%3Ehtml%2C%20body%20%7Bwidth%3A%20100%25%3Bheight%3A%20100%25%3Bmargin%3A%200%3Bpadding%3A%200%3B%7D%3C/style%3E%0A%20%20%20%20%3Cstyle%3E%23map%20%7Bposition%3Aabsolute%3Btop%3A0%3Bbottom%3A0%3Bright%3A0%3Bleft%3A0%3B%7D%3C/style%3E%0A%20%20%20%20%3Cscript%20src%3D%22https%3A//cdn.jsdelivr.net/npm/leaflet%401.6.0/dist/leaflet.js%22%3E%3C/script%3E%0A%20%20%20%20%3Cscript%20src%3D%22https%3A//code.jquery.com/jquery-1.12.4.min.js%22%3E%3C/script%3E%0A%20%20%20%20%3Cscript%20src%3D%22https%3A//maxcdn.bootstrapcdn.com/bootstrap/3.2.0/js/bootstrap.min.js%22%3E%3C/script%3E%0A%20%20%20%20%3Cscript%20src%3D%22https%3A//cdnjs.cloudflare.com/ajax/libs/Leaflet.awesome-markers/2.0.2/leaflet.awesome-markers.js%22%3E%3C/script%3E%0A%20%20%20%20%3Clink%20rel%3D%22stylesheet%22%20href%3D%22https%3A//cdn.jsdelivr.net/npm/leaflet%401.6.0/dist/leaflet.css%22/%3E%0A%20%20%20%20%3Clink%20rel%3D%22stylesheet%22%20href%3D%22https%3A//maxcdn.bootstrapcdn.com/bootstrap/3.2.0/css/bootstrap.min.css%22/%3E%0A%20%20%20%20%3Clink%20rel%3D%22stylesheet%22%20href%3D%22https%3A//maxcdn.bootstrapcdn.com/bootstrap/3.2.0/css/bootstrap-theme.min.css%22/%3E%0A%20%20%20%20%3Clink%20rel%3D%22stylesheet%22%20href%3D%22https%3A//maxcdn.bootstrapcdn.com/font-awesome/4.6.3/css/font-awesome.min.css%22/%3E%0A%20%20%20%20%3Clink%20rel%3D%22stylesheet%22%20href%3D%22https%3A//cdnjs.cloudflare.com/ajax/libs/Leaflet.awesome-markers/2.0.2/leaflet.awesome-markers.css%22/%3E%0A%20%20%20%20%3Clink%20rel%3D%22stylesheet%22%20href%3D%22https%3A//cdn.jsdelivr.net/gh/python-visualization/folium/folium/templates/leaflet.awesome.rotate.min.css%22/%3E%0A%20%20%20%20%0A%20%20%20%20%20%20%20%20%20%20%20%20%3Cmeta%20name%3D%22viewport%22%20content%3D%22width%3Ddevice-width%2C%0A%20%20%20%20%20%20%20%20%20%20%20%20%20%20%20%20initial-scale%3D1.0%2C%20maximum-scale%3D1.0%2C%20user-scalable%3Dno%22%20/%3E%0A%20%20%20%20%20%20%20%20%20%20%20%20%3Cstyle%3E%0A%20%20%20%20%20%20%20%20%20%20%20%20%20%20%20%20%23map_e4118aea248c49b7b1d309a5695118d3%20%7B%0A%20%20%20%20%20%20%20%20%20%20%20%20%20%20%20%20%20%20%20%20position%3A%20relative%3B%0A%20%20%20%20%20%20%20%20%20%20%20%20%20%20%20%20%20%20%20%20width%3A%20100.0%25%3B%0A%20%20%20%20%20%20%20%20%20%20%20%20%20%20%20%20%20%20%20%20height%3A%20100.0%25%3B%0A%20%20%20%20%20%20%20%20%20%20%20%20%20%20%20%20%20%20%20%20left%3A%200.0%25%3B%0A%20%20%20%20%20%20%20%20%20%20%20%20%20%20%20%20%20%20%20%20top%3A%200.0%25%3B%0A%20%20%20%20%20%20%20%20%20%20%20%20%20%20%20%20%7D%0A%20%20%20%20%20%20%20%20%20%20%20%20%3C/style%3E%0A%20%20%20%20%20%20%20%20%0A%3C/head%3E%0A%3Cbody%3E%20%20%20%20%0A%20%20%20%20%0A%20%20%20%20%20%20%20%20%20%20%20%20%3Cdiv%20class%3D%22folium-map%22%20id%3D%22map_e4118aea248c49b7b1d309a5695118d3%22%20%3E%3C/div%3E%0A%20%20%20%20%20%20%20%20%0A%3C/body%3E%0A%3Cscript%3E%20%20%20%20%0A%20%20%20%20%0A%20%20%20%20%20%20%20%20%20%20%20%20var%20map_e4118aea248c49b7b1d309a5695118d3%20%3D%20L.map%28%0A%20%20%20%20%20%20%20%20%20%20%20%20%20%20%20%20%22map_e4118aea248c49b7b1d309a5695118d3%22%2C%0A%20%20%20%20%20%20%20%20%20%20%20%20%20%20%20%20%7B%0A%20%20%20%20%20%20%20%20%20%20%20%20%20%20%20%20%20%20%20%20center%3A%20%5B-19.705570084543737%2C%2044.70292749999976%5D%2C%0A%20%20%20%20%20%20%20%20%20%20%20%20%20%20%20%20%20%20%20%20crs%3A%20L.CRS.EPSG3857%2C%0A%20%20%20%20%20%20%20%20%20%20%20%20%20%20%20%20%20%20%20%20zoom%3A%2010%2C%0A%20%20%20%20%20%20%20%20%20%20%20%20%20%20%20%20%20%20%20%20zoomControl%3A%20true%2C%0A%20%20%20%20%20%20%20%20%20%20%20%20%20%20%20%20%20%20%20%20preferCanvas%3A%20false%2C%0A%20%20%20%20%20%20%20%20%20%20%20%20%20%20%20%20%7D%0A%20%20%20%20%20%20%20%20%20%20%20%20%29%3B%0A%0A%20%20%20%20%20%20%20%20%20%20%20%20%0A%0A%20%20%20%20%20%20%20%20%0A%20%20%20%20%0A%20%20%20%20%20%20%20%20%20%20%20%20var%20tile_layer_f87632a5119d4116a72ece2ed3e55967%20%3D%20L.tileLayer%28%0A%20%20%20%20%20%20%20%20%20%20%20%20%20%20%20%20%22https%3A//%7Bs%7D.tile.openstreetmap.org/%7Bz%7D/%7Bx%7D/%7By%7D.png%22%2C%0A%20%20%20%20%20%20%20%20%20%20%20%20%20%20%20%20%7B%22attribution%22%3A%20%22Data%20by%20%5Cu0026copy%3B%20%5Cu003ca%20href%3D%5C%22http%3A//openstreetmap.org%5C%22%5Cu003eOpenStreetMap%5Cu003c/a%5Cu003e%2C%20under%20%5Cu003ca%20href%3D%5C%22http%3A//www.openstreetmap.org/copyright%5C%22%5Cu003eODbL%5Cu003c/a%5Cu003e.%22%2C%20%22detectRetina%22%3A%20false%2C%20%22maxNativeZoom%22%3A%2018%2C%20%22maxZoom%22%3A%2018%2C%20%22minZoom%22%3A%200%2C%20%22noWrap%22%3A%20false%2C%20%22opacity%22%3A%201%2C%20%22subdomains%22%3A%20%22abc%22%2C%20%22tms%22%3A%20false%7D%0A%20%20%20%20%20%20%20%20%20%20%20%20%29.addTo%28map_e4118aea248c49b7b1d309a5695118d3%29%3B%0A%20%20%20%20%20%20%20%20%0A%20%20%20%20%0A%20%20%20%20%20%20%20%20%20%20%20%20var%20tile_layer_5d1077d850644f0691f39001fd563d6c%20%3D%20L.tileLayer%28%0A%20%20%20%20%20%20%20%20%20%20%20%20%20%20%20%20%22https%3A//earthengine.googleapis.com/v1alpha/projects/earthengine-legacy/maps/9a13fc908560280abb676c7861d80fc7-1589b35a9799d70869010fc2c78f2a25/tiles/%7Bz%7D/%7Bx%7D/%7By%7D%22%2C%0A%20%20%20%20%20%20%20%20%20%20%20%20%20%20%20%20%7B%22attribution%22%3A%20%22Map%20Data%20%5Cu0026copy%3B%20%5Cu003ca%20href%3D%5C%22https%3A//earthengine.google.com/%5C%22%5Cu003eGoogle%20Earth%20Engine%5Cu003c/a%5Cu003e%22%2C%20%22detectRetina%22%3A%20false%2C%20%22maxNativeZoom%22%3A%2018%2C%20%22maxZoom%22%3A%2018%2C%20%22minZoom%22%3A%200%2C%20%22noWrap%22%3A%20false%2C%20%22opacity%22%3A%201%2C%20%22subdomains%22%3A%20%22abc%22%2C%20%22tms%22%3A%20false%7D%0A%20%20%20%20%20%20%20%20%20%20%20%20%29.addTo%28map_e4118aea248c49b7b1d309a5695118d3%29%3B%0A%20%20%20%20%20%20%20%20%0A%20%20%20%20%0A%20%20%20%20%20%20%20%20%20%20%20%20var%20tile_layer_d636faf8799f4aeb927c90ec294f3658%20%3D%20L.tileLayer%28%0A%20%20%20%20%20%20%20%20%20%20%20%20%20%20%20%20%22https%3A//earthengine.googleapis.com/v1alpha/projects/earthengine-legacy/maps/c252d29dc9efc8670c9ca15305147445-ebfdc98240eb2919dffb2c84225a3b2a/tiles/%7Bz%7D/%7Bx%7D/%7By%7D%22%2C%0A%20%20%20%20%20%20%20%20%20%20%20%20%20%20%20%20%7B%22attribution%22%3A%20%22Map%20Data%20%5Cu0026copy%3B%20%5Cu003ca%20href%3D%5C%22https%3A//earthengine.google.com/%5C%22%5Cu003eGoogle%20Earth%20Engine%5Cu003c/a%5Cu003e%22%2C%20%22detectRetina%22%3A%20false%2C%20%22maxNativeZoom%22%3A%2018%2C%20%22maxZoom%22%3A%2018%2C%20%22minZoom%22%3A%200%2C%20%22noWrap%22%3A%20false%2C%20%22opacity%22%3A%201%2C%20%22subdomains%22%3A%20%22abc%22%2C%20%22tms%22%3A%20false%7D%0A%20%20%20%20%20%20%20%20%20%20%20%20%29.addTo%28map_e4118aea248c49b7b1d309a5695118d3%29%3B%0A%20%20%20%20%20%20%20%20%0A%20%20%20%20%0A%20%20%20%20%20%20%20%20%20%20%20%20var%20tile_layer_8210277f9ca445edbad938a2f13b1faf%20%3D%20L.tileLayer%28%0A%20%20%20%20%20%20%20%20%20%20%20%20%20%20%20%20%22https%3A//earthengine.googleapis.com/v1alpha/projects/earthengine-legacy/maps/89912ccba3b746146e7b63f5d12acdf0-e22e0a3ef7231c32ecbea6c7fbf5742a/tiles/%7Bz%7D/%7Bx%7D/%7By%7D%22%2C%0A%20%20%20%20%20%20%20%20%20%20%20%20%20%20%20%20%7B%22attribution%22%3A%20%22Map%20Data%20%5Cu0026copy%3B%20%5Cu003ca%20href%3D%5C%22https%3A//earthengine.google.com/%5C%22%5Cu003eGoogle%20Earth%20Engine%5Cu003c/a%5Cu003e%22%2C%20%22detectRetina%22%3A%20false%2C%20%22maxNativeZoom%22%3A%2018%2C%20%22maxZoom%22%3A%2018%2C%20%22minZoom%22%3A%200%2C%20%22noWrap%22%3A%20false%2C%20%22opacity%22%3A%201%2C%20%22subdomains%22%3A%20%22abc%22%2C%20%22tms%22%3A%20false%7D%0A%20%20%20%20%20%20%20%20%20%20%20%20%29.addTo%28map_e4118aea248c49b7b1d309a5695118d3%29%3B%0A%20%20%20%20%20%20%20%20%0A%20%20%20%20%0A%20%20%20%20%20%20%20%20%20%20%20%20var%20layer_control_5a13f855f4854286ab02e62df9732b77%20%3D%20%7B%0A%20%20%20%20%20%20%20%20%20%20%20%20%20%20%20%20base_layers%20%3A%20%7B%0A%20%20%20%20%20%20%20%20%20%20%20%20%20%20%20%20%20%20%20%20%22openstreetmap%22%20%3A%20tile_layer_f87632a5119d4116a72ece2ed3e55967%2C%0A%20%20%20%20%20%20%20%20%20%20%20%20%20%20%20%20%7D%2C%0A%20%20%20%20%20%20%20%20%20%20%20%20%20%20%20%20overlays%20%3A%20%20%7B%0A%20%20%20%20%20%20%20%20%20%20%20%20%20%20%20%20%20%20%20%20%22Masked%20NDVI%22%20%3A%20tile_layer_5d1077d850644f0691f39001fd563d6c%2C%0A%20%20%20%20%20%20%20%20%20%20%20%20%20%20%20%20%20%20%20%20%22Unmasked%20NDVI%22%20%3A%20tile_layer_d636faf8799f4aeb927c90ec294f3658%2C%0A%20%20%20%20%20%20%20%20%20%20%20%20%20%20%20%20%20%20%20%20%22Normalized%20NDVI%20Difference%22%20%3A%20tile_layer_8210277f9ca445edbad938a2f13b1faf%2C%0A%20%20%20%20%20%20%20%20%20%20%20%20%20%20%20%20%7D%2C%0A%20%20%20%20%20%20%20%20%20%20%20%20%7D%3B%0A%20%20%20%20%20%20%20%20%20%20%20%20L.control.layers%28%0A%20%20%20%20%20%20%20%20%20%20%20%20%20%20%20%20layer_control_5a13f855f4854286ab02e62df9732b77.base_layers%2C%0A%20%20%20%20%20%20%20%20%20%20%20%20%20%20%20%20layer_control_5a13f855f4854286ab02e62df9732b77.overlays%2C%0A%20%20%20%20%20%20%20%20%20%20%20%20%20%20%20%20%7B%22autoZIndex%22%3A%20true%2C%20%22collapsed%22%3A%20true%2C%20%22position%22%3A%20%22topright%22%7D%0A%20%20%20%20%20%20%20%20%20%20%20%20%29.addTo%28map_e4118aea248c49b7b1d309a5695118d3%29%3B%0A%20%20%20%20%20%20%20%20%0A%3C/script%3E onload=\"this.contentDocument.open();this.contentDocument.write(    decodeURIComponent(this.getAttribute('data-html')));this.contentDocument.close();\" allowfullscreen webkitallowfullscreen mozallowfullscreen></iframe></div></div>"
      ],
      "text/plain": [
       "<folium.folium.Map at 0x1487c0d30>"
      ]
     },
     "metadata": {},
     "output_type": "display_data"
    },
    {
     "name": "stdout",
     "output_type": "stream",
     "text": [
      "\n",
      " \n",
      "\n",
      "2019-04-01 - 2019-05-01\n"
     ]
    },
    {
     "data": {
      "text/html": [
       "<div style=\"width:100%;\"><div style=\"position:relative;width:100%;height:0;padding-bottom:60%;\"><span style=\"color:#565656\">Make this Notebook Trusted to load map: File -> Trust Notebook</span><iframe src=\"about:blank\" style=\"position:absolute;width:100%;height:100%;left:0;top:0;border:none !important;\" data-html=%3C%21DOCTYPE%20html%3E%0A%3Chead%3E%20%20%20%20%0A%20%20%20%20%3Cmeta%20http-equiv%3D%22content-type%22%20content%3D%22text/html%3B%20charset%3DUTF-8%22%20/%3E%0A%20%20%20%20%0A%20%20%20%20%20%20%20%20%3Cscript%3E%0A%20%20%20%20%20%20%20%20%20%20%20%20L_NO_TOUCH%20%3D%20false%3B%0A%20%20%20%20%20%20%20%20%20%20%20%20L_DISABLE_3D%20%3D%20false%3B%0A%20%20%20%20%20%20%20%20%3C/script%3E%0A%20%20%20%20%0A%20%20%20%20%3Cstyle%3Ehtml%2C%20body%20%7Bwidth%3A%20100%25%3Bheight%3A%20100%25%3Bmargin%3A%200%3Bpadding%3A%200%3B%7D%3C/style%3E%0A%20%20%20%20%3Cstyle%3E%23map%20%7Bposition%3Aabsolute%3Btop%3A0%3Bbottom%3A0%3Bright%3A0%3Bleft%3A0%3B%7D%3C/style%3E%0A%20%20%20%20%3Cscript%20src%3D%22https%3A//cdn.jsdelivr.net/npm/leaflet%401.6.0/dist/leaflet.js%22%3E%3C/script%3E%0A%20%20%20%20%3Cscript%20src%3D%22https%3A//code.jquery.com/jquery-1.12.4.min.js%22%3E%3C/script%3E%0A%20%20%20%20%3Cscript%20src%3D%22https%3A//maxcdn.bootstrapcdn.com/bootstrap/3.2.0/js/bootstrap.min.js%22%3E%3C/script%3E%0A%20%20%20%20%3Cscript%20src%3D%22https%3A//cdnjs.cloudflare.com/ajax/libs/Leaflet.awesome-markers/2.0.2/leaflet.awesome-markers.js%22%3E%3C/script%3E%0A%20%20%20%20%3Clink%20rel%3D%22stylesheet%22%20href%3D%22https%3A//cdn.jsdelivr.net/npm/leaflet%401.6.0/dist/leaflet.css%22/%3E%0A%20%20%20%20%3Clink%20rel%3D%22stylesheet%22%20href%3D%22https%3A//maxcdn.bootstrapcdn.com/bootstrap/3.2.0/css/bootstrap.min.css%22/%3E%0A%20%20%20%20%3Clink%20rel%3D%22stylesheet%22%20href%3D%22https%3A//maxcdn.bootstrapcdn.com/bootstrap/3.2.0/css/bootstrap-theme.min.css%22/%3E%0A%20%20%20%20%3Clink%20rel%3D%22stylesheet%22%20href%3D%22https%3A//maxcdn.bootstrapcdn.com/font-awesome/4.6.3/css/font-awesome.min.css%22/%3E%0A%20%20%20%20%3Clink%20rel%3D%22stylesheet%22%20href%3D%22https%3A//cdnjs.cloudflare.com/ajax/libs/Leaflet.awesome-markers/2.0.2/leaflet.awesome-markers.css%22/%3E%0A%20%20%20%20%3Clink%20rel%3D%22stylesheet%22%20href%3D%22https%3A//cdn.jsdelivr.net/gh/python-visualization/folium/folium/templates/leaflet.awesome.rotate.min.css%22/%3E%0A%20%20%20%20%0A%20%20%20%20%20%20%20%20%20%20%20%20%3Cmeta%20name%3D%22viewport%22%20content%3D%22width%3Ddevice-width%2C%0A%20%20%20%20%20%20%20%20%20%20%20%20%20%20%20%20initial-scale%3D1.0%2C%20maximum-scale%3D1.0%2C%20user-scalable%3Dno%22%20/%3E%0A%20%20%20%20%20%20%20%20%20%20%20%20%3Cstyle%3E%0A%20%20%20%20%20%20%20%20%20%20%20%20%20%20%20%20%23map_2c282186737e42b89064bebc535bcea6%20%7B%0A%20%20%20%20%20%20%20%20%20%20%20%20%20%20%20%20%20%20%20%20position%3A%20relative%3B%0A%20%20%20%20%20%20%20%20%20%20%20%20%20%20%20%20%20%20%20%20width%3A%20100.0%25%3B%0A%20%20%20%20%20%20%20%20%20%20%20%20%20%20%20%20%20%20%20%20height%3A%20100.0%25%3B%0A%20%20%20%20%20%20%20%20%20%20%20%20%20%20%20%20%20%20%20%20left%3A%200.0%25%3B%0A%20%20%20%20%20%20%20%20%20%20%20%20%20%20%20%20%20%20%20%20top%3A%200.0%25%3B%0A%20%20%20%20%20%20%20%20%20%20%20%20%20%20%20%20%7D%0A%20%20%20%20%20%20%20%20%20%20%20%20%3C/style%3E%0A%20%20%20%20%20%20%20%20%0A%3C/head%3E%0A%3Cbody%3E%20%20%20%20%0A%20%20%20%20%0A%20%20%20%20%20%20%20%20%20%20%20%20%3Cdiv%20class%3D%22folium-map%22%20id%3D%22map_2c282186737e42b89064bebc535bcea6%22%20%3E%3C/div%3E%0A%20%20%20%20%20%20%20%20%0A%3C/body%3E%0A%3Cscript%3E%20%20%20%20%0A%20%20%20%20%0A%20%20%20%20%20%20%20%20%20%20%20%20var%20map_2c282186737e42b89064bebc535bcea6%20%3D%20L.map%28%0A%20%20%20%20%20%20%20%20%20%20%20%20%20%20%20%20%22map_2c282186737e42b89064bebc535bcea6%22%2C%0A%20%20%20%20%20%20%20%20%20%20%20%20%20%20%20%20%7B%0A%20%20%20%20%20%20%20%20%20%20%20%20%20%20%20%20%20%20%20%20center%3A%20%5B-19.705570084543737%2C%2044.70292749999976%5D%2C%0A%20%20%20%20%20%20%20%20%20%20%20%20%20%20%20%20%20%20%20%20crs%3A%20L.CRS.EPSG3857%2C%0A%20%20%20%20%20%20%20%20%20%20%20%20%20%20%20%20%20%20%20%20zoom%3A%2010%2C%0A%20%20%20%20%20%20%20%20%20%20%20%20%20%20%20%20%20%20%20%20zoomControl%3A%20true%2C%0A%20%20%20%20%20%20%20%20%20%20%20%20%20%20%20%20%20%20%20%20preferCanvas%3A%20false%2C%0A%20%20%20%20%20%20%20%20%20%20%20%20%20%20%20%20%7D%0A%20%20%20%20%20%20%20%20%20%20%20%20%29%3B%0A%0A%20%20%20%20%20%20%20%20%20%20%20%20%0A%0A%20%20%20%20%20%20%20%20%0A%20%20%20%20%0A%20%20%20%20%20%20%20%20%20%20%20%20var%20tile_layer_83296abd7bfe41a58e66b326033273b4%20%3D%20L.tileLayer%28%0A%20%20%20%20%20%20%20%20%20%20%20%20%20%20%20%20%22https%3A//%7Bs%7D.tile.openstreetmap.org/%7Bz%7D/%7Bx%7D/%7By%7D.png%22%2C%0A%20%20%20%20%20%20%20%20%20%20%20%20%20%20%20%20%7B%22attribution%22%3A%20%22Data%20by%20%5Cu0026copy%3B%20%5Cu003ca%20href%3D%5C%22http%3A//openstreetmap.org%5C%22%5Cu003eOpenStreetMap%5Cu003c/a%5Cu003e%2C%20under%20%5Cu003ca%20href%3D%5C%22http%3A//www.openstreetmap.org/copyright%5C%22%5Cu003eODbL%5Cu003c/a%5Cu003e.%22%2C%20%22detectRetina%22%3A%20false%2C%20%22maxNativeZoom%22%3A%2018%2C%20%22maxZoom%22%3A%2018%2C%20%22minZoom%22%3A%200%2C%20%22noWrap%22%3A%20false%2C%20%22opacity%22%3A%201%2C%20%22subdomains%22%3A%20%22abc%22%2C%20%22tms%22%3A%20false%7D%0A%20%20%20%20%20%20%20%20%20%20%20%20%29.addTo%28map_2c282186737e42b89064bebc535bcea6%29%3B%0A%20%20%20%20%20%20%20%20%0A%20%20%20%20%0A%20%20%20%20%20%20%20%20%20%20%20%20var%20tile_layer_bb58a4f2f0744aea88e300e11a212fe2%20%3D%20L.tileLayer%28%0A%20%20%20%20%20%20%20%20%20%20%20%20%20%20%20%20%22https%3A//earthengine.googleapis.com/v1alpha/projects/earthengine-legacy/maps/5d01cc83648e6a435cf9c29f8f9ec476-02f94500ed073e39854bb5b60a067b7a/tiles/%7Bz%7D/%7Bx%7D/%7By%7D%22%2C%0A%20%20%20%20%20%20%20%20%20%20%20%20%20%20%20%20%7B%22attribution%22%3A%20%22Map%20Data%20%5Cu0026copy%3B%20%5Cu003ca%20href%3D%5C%22https%3A//earthengine.google.com/%5C%22%5Cu003eGoogle%20Earth%20Engine%5Cu003c/a%5Cu003e%22%2C%20%22detectRetina%22%3A%20false%2C%20%22maxNativeZoom%22%3A%2018%2C%20%22maxZoom%22%3A%2018%2C%20%22minZoom%22%3A%200%2C%20%22noWrap%22%3A%20false%2C%20%22opacity%22%3A%201%2C%20%22subdomains%22%3A%20%22abc%22%2C%20%22tms%22%3A%20false%7D%0A%20%20%20%20%20%20%20%20%20%20%20%20%29.addTo%28map_2c282186737e42b89064bebc535bcea6%29%3B%0A%20%20%20%20%20%20%20%20%0A%20%20%20%20%0A%20%20%20%20%20%20%20%20%20%20%20%20var%20tile_layer_5be787c60b24490bbbb987b44058e512%20%3D%20L.tileLayer%28%0A%20%20%20%20%20%20%20%20%20%20%20%20%20%20%20%20%22https%3A//earthengine.googleapis.com/v1alpha/projects/earthengine-legacy/maps/4578eae7ba8500b750336e83c692badc-44ca4738f5491febd7bbadd4a3eda902/tiles/%7Bz%7D/%7Bx%7D/%7By%7D%22%2C%0A%20%20%20%20%20%20%20%20%20%20%20%20%20%20%20%20%7B%22attribution%22%3A%20%22Map%20Data%20%5Cu0026copy%3B%20%5Cu003ca%20href%3D%5C%22https%3A//earthengine.google.com/%5C%22%5Cu003eGoogle%20Earth%20Engine%5Cu003c/a%5Cu003e%22%2C%20%22detectRetina%22%3A%20false%2C%20%22maxNativeZoom%22%3A%2018%2C%20%22maxZoom%22%3A%2018%2C%20%22minZoom%22%3A%200%2C%20%22noWrap%22%3A%20false%2C%20%22opacity%22%3A%201%2C%20%22subdomains%22%3A%20%22abc%22%2C%20%22tms%22%3A%20false%7D%0A%20%20%20%20%20%20%20%20%20%20%20%20%29.addTo%28map_2c282186737e42b89064bebc535bcea6%29%3B%0A%20%20%20%20%20%20%20%20%0A%20%20%20%20%0A%20%20%20%20%20%20%20%20%20%20%20%20var%20tile_layer_860afcae0a6943e5b530dc71e744778a%20%3D%20L.tileLayer%28%0A%20%20%20%20%20%20%20%20%20%20%20%20%20%20%20%20%22https%3A//earthengine.googleapis.com/v1alpha/projects/earthengine-legacy/maps/5f266e31b8563f3c7138d20c86509553-e4895f959854984490bcfb1e4ebd2eba/tiles/%7Bz%7D/%7Bx%7D/%7By%7D%22%2C%0A%20%20%20%20%20%20%20%20%20%20%20%20%20%20%20%20%7B%22attribution%22%3A%20%22Map%20Data%20%5Cu0026copy%3B%20%5Cu003ca%20href%3D%5C%22https%3A//earthengine.google.com/%5C%22%5Cu003eGoogle%20Earth%20Engine%5Cu003c/a%5Cu003e%22%2C%20%22detectRetina%22%3A%20false%2C%20%22maxNativeZoom%22%3A%2018%2C%20%22maxZoom%22%3A%2018%2C%20%22minZoom%22%3A%200%2C%20%22noWrap%22%3A%20false%2C%20%22opacity%22%3A%201%2C%20%22subdomains%22%3A%20%22abc%22%2C%20%22tms%22%3A%20false%7D%0A%20%20%20%20%20%20%20%20%20%20%20%20%29.addTo%28map_2c282186737e42b89064bebc535bcea6%29%3B%0A%20%20%20%20%20%20%20%20%0A%20%20%20%20%0A%20%20%20%20%20%20%20%20%20%20%20%20var%20layer_control_9710fdfec9de41ff8280bcd945e960af%20%3D%20%7B%0A%20%20%20%20%20%20%20%20%20%20%20%20%20%20%20%20base_layers%20%3A%20%7B%0A%20%20%20%20%20%20%20%20%20%20%20%20%20%20%20%20%20%20%20%20%22openstreetmap%22%20%3A%20tile_layer_83296abd7bfe41a58e66b326033273b4%2C%0A%20%20%20%20%20%20%20%20%20%20%20%20%20%20%20%20%7D%2C%0A%20%20%20%20%20%20%20%20%20%20%20%20%20%20%20%20overlays%20%3A%20%20%7B%0A%20%20%20%20%20%20%20%20%20%20%20%20%20%20%20%20%20%20%20%20%22Masked%20NDVI%22%20%3A%20tile_layer_bb58a4f2f0744aea88e300e11a212fe2%2C%0A%20%20%20%20%20%20%20%20%20%20%20%20%20%20%20%20%20%20%20%20%22Unmasked%20NDVI%22%20%3A%20tile_layer_5be787c60b24490bbbb987b44058e512%2C%0A%20%20%20%20%20%20%20%20%20%20%20%20%20%20%20%20%20%20%20%20%22Normalized%20NDVI%20Difference%22%20%3A%20tile_layer_860afcae0a6943e5b530dc71e744778a%2C%0A%20%20%20%20%20%20%20%20%20%20%20%20%20%20%20%20%7D%2C%0A%20%20%20%20%20%20%20%20%20%20%20%20%7D%3B%0A%20%20%20%20%20%20%20%20%20%20%20%20L.control.layers%28%0A%20%20%20%20%20%20%20%20%20%20%20%20%20%20%20%20layer_control_9710fdfec9de41ff8280bcd945e960af.base_layers%2C%0A%20%20%20%20%20%20%20%20%20%20%20%20%20%20%20%20layer_control_9710fdfec9de41ff8280bcd945e960af.overlays%2C%0A%20%20%20%20%20%20%20%20%20%20%20%20%20%20%20%20%7B%22autoZIndex%22%3A%20true%2C%20%22collapsed%22%3A%20true%2C%20%22position%22%3A%20%22topright%22%7D%0A%20%20%20%20%20%20%20%20%20%20%20%20%29.addTo%28map_2c282186737e42b89064bebc535bcea6%29%3B%0A%20%20%20%20%20%20%20%20%0A%3C/script%3E onload=\"this.contentDocument.open();this.contentDocument.write(    decodeURIComponent(this.getAttribute('data-html')));this.contentDocument.close();\" allowfullscreen webkitallowfullscreen mozallowfullscreen></iframe></div></div>"
      ],
      "text/plain": [
       "<folium.folium.Map at 0x1487d50a0>"
      ]
     },
     "metadata": {},
     "output_type": "display_data"
    },
    {
     "name": "stdout",
     "output_type": "stream",
     "text": [
      "\n",
      " \n",
      "\n",
      "2019-05-01 - 2019-06-01\n"
     ]
    },
    {
     "data": {
      "text/html": [
       "<div style=\"width:100%;\"><div style=\"position:relative;width:100%;height:0;padding-bottom:60%;\"><span style=\"color:#565656\">Make this Notebook Trusted to load map: File -> Trust Notebook</span><iframe src=\"about:blank\" style=\"position:absolute;width:100%;height:100%;left:0;top:0;border:none !important;\" data-html=%3C%21DOCTYPE%20html%3E%0A%3Chead%3E%20%20%20%20%0A%20%20%20%20%3Cmeta%20http-equiv%3D%22content-type%22%20content%3D%22text/html%3B%20charset%3DUTF-8%22%20/%3E%0A%20%20%20%20%0A%20%20%20%20%20%20%20%20%3Cscript%3E%0A%20%20%20%20%20%20%20%20%20%20%20%20L_NO_TOUCH%20%3D%20false%3B%0A%20%20%20%20%20%20%20%20%20%20%20%20L_DISABLE_3D%20%3D%20false%3B%0A%20%20%20%20%20%20%20%20%3C/script%3E%0A%20%20%20%20%0A%20%20%20%20%3Cstyle%3Ehtml%2C%20body%20%7Bwidth%3A%20100%25%3Bheight%3A%20100%25%3Bmargin%3A%200%3Bpadding%3A%200%3B%7D%3C/style%3E%0A%20%20%20%20%3Cstyle%3E%23map%20%7Bposition%3Aabsolute%3Btop%3A0%3Bbottom%3A0%3Bright%3A0%3Bleft%3A0%3B%7D%3C/style%3E%0A%20%20%20%20%3Cscript%20src%3D%22https%3A//cdn.jsdelivr.net/npm/leaflet%401.6.0/dist/leaflet.js%22%3E%3C/script%3E%0A%20%20%20%20%3Cscript%20src%3D%22https%3A//code.jquery.com/jquery-1.12.4.min.js%22%3E%3C/script%3E%0A%20%20%20%20%3Cscript%20src%3D%22https%3A//maxcdn.bootstrapcdn.com/bootstrap/3.2.0/js/bootstrap.min.js%22%3E%3C/script%3E%0A%20%20%20%20%3Cscript%20src%3D%22https%3A//cdnjs.cloudflare.com/ajax/libs/Leaflet.awesome-markers/2.0.2/leaflet.awesome-markers.js%22%3E%3C/script%3E%0A%20%20%20%20%3Clink%20rel%3D%22stylesheet%22%20href%3D%22https%3A//cdn.jsdelivr.net/npm/leaflet%401.6.0/dist/leaflet.css%22/%3E%0A%20%20%20%20%3Clink%20rel%3D%22stylesheet%22%20href%3D%22https%3A//maxcdn.bootstrapcdn.com/bootstrap/3.2.0/css/bootstrap.min.css%22/%3E%0A%20%20%20%20%3Clink%20rel%3D%22stylesheet%22%20href%3D%22https%3A//maxcdn.bootstrapcdn.com/bootstrap/3.2.0/css/bootstrap-theme.min.css%22/%3E%0A%20%20%20%20%3Clink%20rel%3D%22stylesheet%22%20href%3D%22https%3A//maxcdn.bootstrapcdn.com/font-awesome/4.6.3/css/font-awesome.min.css%22/%3E%0A%20%20%20%20%3Clink%20rel%3D%22stylesheet%22%20href%3D%22https%3A//cdnjs.cloudflare.com/ajax/libs/Leaflet.awesome-markers/2.0.2/leaflet.awesome-markers.css%22/%3E%0A%20%20%20%20%3Clink%20rel%3D%22stylesheet%22%20href%3D%22https%3A//cdn.jsdelivr.net/gh/python-visualization/folium/folium/templates/leaflet.awesome.rotate.min.css%22/%3E%0A%20%20%20%20%0A%20%20%20%20%20%20%20%20%20%20%20%20%3Cmeta%20name%3D%22viewport%22%20content%3D%22width%3Ddevice-width%2C%0A%20%20%20%20%20%20%20%20%20%20%20%20%20%20%20%20initial-scale%3D1.0%2C%20maximum-scale%3D1.0%2C%20user-scalable%3Dno%22%20/%3E%0A%20%20%20%20%20%20%20%20%20%20%20%20%3Cstyle%3E%0A%20%20%20%20%20%20%20%20%20%20%20%20%20%20%20%20%23map_6024e08b97ed492f8783d78d9a6f890e%20%7B%0A%20%20%20%20%20%20%20%20%20%20%20%20%20%20%20%20%20%20%20%20position%3A%20relative%3B%0A%20%20%20%20%20%20%20%20%20%20%20%20%20%20%20%20%20%20%20%20width%3A%20100.0%25%3B%0A%20%20%20%20%20%20%20%20%20%20%20%20%20%20%20%20%20%20%20%20height%3A%20100.0%25%3B%0A%20%20%20%20%20%20%20%20%20%20%20%20%20%20%20%20%20%20%20%20left%3A%200.0%25%3B%0A%20%20%20%20%20%20%20%20%20%20%20%20%20%20%20%20%20%20%20%20top%3A%200.0%25%3B%0A%20%20%20%20%20%20%20%20%20%20%20%20%20%20%20%20%7D%0A%20%20%20%20%20%20%20%20%20%20%20%20%3C/style%3E%0A%20%20%20%20%20%20%20%20%0A%3C/head%3E%0A%3Cbody%3E%20%20%20%20%0A%20%20%20%20%0A%20%20%20%20%20%20%20%20%20%20%20%20%3Cdiv%20class%3D%22folium-map%22%20id%3D%22map_6024e08b97ed492f8783d78d9a6f890e%22%20%3E%3C/div%3E%0A%20%20%20%20%20%20%20%20%0A%3C/body%3E%0A%3Cscript%3E%20%20%20%20%0A%20%20%20%20%0A%20%20%20%20%20%20%20%20%20%20%20%20var%20map_6024e08b97ed492f8783d78d9a6f890e%20%3D%20L.map%28%0A%20%20%20%20%20%20%20%20%20%20%20%20%20%20%20%20%22map_6024e08b97ed492f8783d78d9a6f890e%22%2C%0A%20%20%20%20%20%20%20%20%20%20%20%20%20%20%20%20%7B%0A%20%20%20%20%20%20%20%20%20%20%20%20%20%20%20%20%20%20%20%20center%3A%20%5B-19.705570084543737%2C%2044.70292749999976%5D%2C%0A%20%20%20%20%20%20%20%20%20%20%20%20%20%20%20%20%20%20%20%20crs%3A%20L.CRS.EPSG3857%2C%0A%20%20%20%20%20%20%20%20%20%20%20%20%20%20%20%20%20%20%20%20zoom%3A%2010%2C%0A%20%20%20%20%20%20%20%20%20%20%20%20%20%20%20%20%20%20%20%20zoomControl%3A%20true%2C%0A%20%20%20%20%20%20%20%20%20%20%20%20%20%20%20%20%20%20%20%20preferCanvas%3A%20false%2C%0A%20%20%20%20%20%20%20%20%20%20%20%20%20%20%20%20%7D%0A%20%20%20%20%20%20%20%20%20%20%20%20%29%3B%0A%0A%20%20%20%20%20%20%20%20%20%20%20%20%0A%0A%20%20%20%20%20%20%20%20%0A%20%20%20%20%0A%20%20%20%20%20%20%20%20%20%20%20%20var%20tile_layer_84b64a02f70441e99efc08fc0254414e%20%3D%20L.tileLayer%28%0A%20%20%20%20%20%20%20%20%20%20%20%20%20%20%20%20%22https%3A//%7Bs%7D.tile.openstreetmap.org/%7Bz%7D/%7Bx%7D/%7By%7D.png%22%2C%0A%20%20%20%20%20%20%20%20%20%20%20%20%20%20%20%20%7B%22attribution%22%3A%20%22Data%20by%20%5Cu0026copy%3B%20%5Cu003ca%20href%3D%5C%22http%3A//openstreetmap.org%5C%22%5Cu003eOpenStreetMap%5Cu003c/a%5Cu003e%2C%20under%20%5Cu003ca%20href%3D%5C%22http%3A//www.openstreetmap.org/copyright%5C%22%5Cu003eODbL%5Cu003c/a%5Cu003e.%22%2C%20%22detectRetina%22%3A%20false%2C%20%22maxNativeZoom%22%3A%2018%2C%20%22maxZoom%22%3A%2018%2C%20%22minZoom%22%3A%200%2C%20%22noWrap%22%3A%20false%2C%20%22opacity%22%3A%201%2C%20%22subdomains%22%3A%20%22abc%22%2C%20%22tms%22%3A%20false%7D%0A%20%20%20%20%20%20%20%20%20%20%20%20%29.addTo%28map_6024e08b97ed492f8783d78d9a6f890e%29%3B%0A%20%20%20%20%20%20%20%20%0A%20%20%20%20%0A%20%20%20%20%20%20%20%20%20%20%20%20var%20tile_layer_a14208f5fe00469994c6d8531616251b%20%3D%20L.tileLayer%28%0A%20%20%20%20%20%20%20%20%20%20%20%20%20%20%20%20%22https%3A//earthengine.googleapis.com/v1alpha/projects/earthengine-legacy/maps/63d31448094e74ea04653525796d99d8-b7dd358787bce36943512a2038791fe7/tiles/%7Bz%7D/%7Bx%7D/%7By%7D%22%2C%0A%20%20%20%20%20%20%20%20%20%20%20%20%20%20%20%20%7B%22attribution%22%3A%20%22Map%20Data%20%5Cu0026copy%3B%20%5Cu003ca%20href%3D%5C%22https%3A//earthengine.google.com/%5C%22%5Cu003eGoogle%20Earth%20Engine%5Cu003c/a%5Cu003e%22%2C%20%22detectRetina%22%3A%20false%2C%20%22maxNativeZoom%22%3A%2018%2C%20%22maxZoom%22%3A%2018%2C%20%22minZoom%22%3A%200%2C%20%22noWrap%22%3A%20false%2C%20%22opacity%22%3A%201%2C%20%22subdomains%22%3A%20%22abc%22%2C%20%22tms%22%3A%20false%7D%0A%20%20%20%20%20%20%20%20%20%20%20%20%29.addTo%28map_6024e08b97ed492f8783d78d9a6f890e%29%3B%0A%20%20%20%20%20%20%20%20%0A%20%20%20%20%0A%20%20%20%20%20%20%20%20%20%20%20%20var%20tile_layer_94d45edba8974c428b364480f0e61f90%20%3D%20L.tileLayer%28%0A%20%20%20%20%20%20%20%20%20%20%20%20%20%20%20%20%22https%3A//earthengine.googleapis.com/v1alpha/projects/earthengine-legacy/maps/0da57d1222e386fea816faa2837cf745-a7eb6008a62ead11fd6c5c3c18030f04/tiles/%7Bz%7D/%7Bx%7D/%7By%7D%22%2C%0A%20%20%20%20%20%20%20%20%20%20%20%20%20%20%20%20%7B%22attribution%22%3A%20%22Map%20Data%20%5Cu0026copy%3B%20%5Cu003ca%20href%3D%5C%22https%3A//earthengine.google.com/%5C%22%5Cu003eGoogle%20Earth%20Engine%5Cu003c/a%5Cu003e%22%2C%20%22detectRetina%22%3A%20false%2C%20%22maxNativeZoom%22%3A%2018%2C%20%22maxZoom%22%3A%2018%2C%20%22minZoom%22%3A%200%2C%20%22noWrap%22%3A%20false%2C%20%22opacity%22%3A%201%2C%20%22subdomains%22%3A%20%22abc%22%2C%20%22tms%22%3A%20false%7D%0A%20%20%20%20%20%20%20%20%20%20%20%20%29.addTo%28map_6024e08b97ed492f8783d78d9a6f890e%29%3B%0A%20%20%20%20%20%20%20%20%0A%20%20%20%20%0A%20%20%20%20%20%20%20%20%20%20%20%20var%20tile_layer_5509d375b61b479aaa75d3d23609b461%20%3D%20L.tileLayer%28%0A%20%20%20%20%20%20%20%20%20%20%20%20%20%20%20%20%22https%3A//earthengine.googleapis.com/v1alpha/projects/earthengine-legacy/maps/c49441f63bcd0ded610271f28a666282-ce1b95fbec3f94bdbca287889edf6cb8/tiles/%7Bz%7D/%7Bx%7D/%7By%7D%22%2C%0A%20%20%20%20%20%20%20%20%20%20%20%20%20%20%20%20%7B%22attribution%22%3A%20%22Map%20Data%20%5Cu0026copy%3B%20%5Cu003ca%20href%3D%5C%22https%3A//earthengine.google.com/%5C%22%5Cu003eGoogle%20Earth%20Engine%5Cu003c/a%5Cu003e%22%2C%20%22detectRetina%22%3A%20false%2C%20%22maxNativeZoom%22%3A%2018%2C%20%22maxZoom%22%3A%2018%2C%20%22minZoom%22%3A%200%2C%20%22noWrap%22%3A%20false%2C%20%22opacity%22%3A%201%2C%20%22subdomains%22%3A%20%22abc%22%2C%20%22tms%22%3A%20false%7D%0A%20%20%20%20%20%20%20%20%20%20%20%20%29.addTo%28map_6024e08b97ed492f8783d78d9a6f890e%29%3B%0A%20%20%20%20%20%20%20%20%0A%20%20%20%20%0A%20%20%20%20%20%20%20%20%20%20%20%20var%20layer_control_21cec12c01f34648a21f13bc16c0625b%20%3D%20%7B%0A%20%20%20%20%20%20%20%20%20%20%20%20%20%20%20%20base_layers%20%3A%20%7B%0A%20%20%20%20%20%20%20%20%20%20%20%20%20%20%20%20%20%20%20%20%22openstreetmap%22%20%3A%20tile_layer_84b64a02f70441e99efc08fc0254414e%2C%0A%20%20%20%20%20%20%20%20%20%20%20%20%20%20%20%20%7D%2C%0A%20%20%20%20%20%20%20%20%20%20%20%20%20%20%20%20overlays%20%3A%20%20%7B%0A%20%20%20%20%20%20%20%20%20%20%20%20%20%20%20%20%20%20%20%20%22Masked%20NDVI%22%20%3A%20tile_layer_a14208f5fe00469994c6d8531616251b%2C%0A%20%20%20%20%20%20%20%20%20%20%20%20%20%20%20%20%20%20%20%20%22Unmasked%20NDVI%22%20%3A%20tile_layer_94d45edba8974c428b364480f0e61f90%2C%0A%20%20%20%20%20%20%20%20%20%20%20%20%20%20%20%20%20%20%20%20%22Normalized%20NDVI%20Difference%22%20%3A%20tile_layer_5509d375b61b479aaa75d3d23609b461%2C%0A%20%20%20%20%20%20%20%20%20%20%20%20%20%20%20%20%7D%2C%0A%20%20%20%20%20%20%20%20%20%20%20%20%7D%3B%0A%20%20%20%20%20%20%20%20%20%20%20%20L.control.layers%28%0A%20%20%20%20%20%20%20%20%20%20%20%20%20%20%20%20layer_control_21cec12c01f34648a21f13bc16c0625b.base_layers%2C%0A%20%20%20%20%20%20%20%20%20%20%20%20%20%20%20%20layer_control_21cec12c01f34648a21f13bc16c0625b.overlays%2C%0A%20%20%20%20%20%20%20%20%20%20%20%20%20%20%20%20%7B%22autoZIndex%22%3A%20true%2C%20%22collapsed%22%3A%20true%2C%20%22position%22%3A%20%22topright%22%7D%0A%20%20%20%20%20%20%20%20%20%20%20%20%29.addTo%28map_6024e08b97ed492f8783d78d9a6f890e%29%3B%0A%20%20%20%20%20%20%20%20%0A%3C/script%3E onload=\"this.contentDocument.open();this.contentDocument.write(    decodeURIComponent(this.getAttribute('data-html')));this.contentDocument.close();\" allowfullscreen webkitallowfullscreen mozallowfullscreen></iframe></div></div>"
      ],
      "text/plain": [
       "<folium.folium.Map at 0x13e489130>"
      ]
     },
     "metadata": {},
     "output_type": "display_data"
    },
    {
     "name": "stdout",
     "output_type": "stream",
     "text": [
      "\n",
      " \n",
      "\n",
      "2019-06-01 - 2019-07-01\n"
     ]
    },
    {
     "data": {
      "text/html": [
       "<div style=\"width:100%;\"><div style=\"position:relative;width:100%;height:0;padding-bottom:60%;\"><span style=\"color:#565656\">Make this Notebook Trusted to load map: File -> Trust Notebook</span><iframe src=\"about:blank\" style=\"position:absolute;width:100%;height:100%;left:0;top:0;border:none !important;\" data-html=%3C%21DOCTYPE%20html%3E%0A%3Chead%3E%20%20%20%20%0A%20%20%20%20%3Cmeta%20http-equiv%3D%22content-type%22%20content%3D%22text/html%3B%20charset%3DUTF-8%22%20/%3E%0A%20%20%20%20%0A%20%20%20%20%20%20%20%20%3Cscript%3E%0A%20%20%20%20%20%20%20%20%20%20%20%20L_NO_TOUCH%20%3D%20false%3B%0A%20%20%20%20%20%20%20%20%20%20%20%20L_DISABLE_3D%20%3D%20false%3B%0A%20%20%20%20%20%20%20%20%3C/script%3E%0A%20%20%20%20%0A%20%20%20%20%3Cstyle%3Ehtml%2C%20body%20%7Bwidth%3A%20100%25%3Bheight%3A%20100%25%3Bmargin%3A%200%3Bpadding%3A%200%3B%7D%3C/style%3E%0A%20%20%20%20%3Cstyle%3E%23map%20%7Bposition%3Aabsolute%3Btop%3A0%3Bbottom%3A0%3Bright%3A0%3Bleft%3A0%3B%7D%3C/style%3E%0A%20%20%20%20%3Cscript%20src%3D%22https%3A//cdn.jsdelivr.net/npm/leaflet%401.6.0/dist/leaflet.js%22%3E%3C/script%3E%0A%20%20%20%20%3Cscript%20src%3D%22https%3A//code.jquery.com/jquery-1.12.4.min.js%22%3E%3C/script%3E%0A%20%20%20%20%3Cscript%20src%3D%22https%3A//maxcdn.bootstrapcdn.com/bootstrap/3.2.0/js/bootstrap.min.js%22%3E%3C/script%3E%0A%20%20%20%20%3Cscript%20src%3D%22https%3A//cdnjs.cloudflare.com/ajax/libs/Leaflet.awesome-markers/2.0.2/leaflet.awesome-markers.js%22%3E%3C/script%3E%0A%20%20%20%20%3Clink%20rel%3D%22stylesheet%22%20href%3D%22https%3A//cdn.jsdelivr.net/npm/leaflet%401.6.0/dist/leaflet.css%22/%3E%0A%20%20%20%20%3Clink%20rel%3D%22stylesheet%22%20href%3D%22https%3A//maxcdn.bootstrapcdn.com/bootstrap/3.2.0/css/bootstrap.min.css%22/%3E%0A%20%20%20%20%3Clink%20rel%3D%22stylesheet%22%20href%3D%22https%3A//maxcdn.bootstrapcdn.com/bootstrap/3.2.0/css/bootstrap-theme.min.css%22/%3E%0A%20%20%20%20%3Clink%20rel%3D%22stylesheet%22%20href%3D%22https%3A//maxcdn.bootstrapcdn.com/font-awesome/4.6.3/css/font-awesome.min.css%22/%3E%0A%20%20%20%20%3Clink%20rel%3D%22stylesheet%22%20href%3D%22https%3A//cdnjs.cloudflare.com/ajax/libs/Leaflet.awesome-markers/2.0.2/leaflet.awesome-markers.css%22/%3E%0A%20%20%20%20%3Clink%20rel%3D%22stylesheet%22%20href%3D%22https%3A//cdn.jsdelivr.net/gh/python-visualization/folium/folium/templates/leaflet.awesome.rotate.min.css%22/%3E%0A%20%20%20%20%0A%20%20%20%20%20%20%20%20%20%20%20%20%3Cmeta%20name%3D%22viewport%22%20content%3D%22width%3Ddevice-width%2C%0A%20%20%20%20%20%20%20%20%20%20%20%20%20%20%20%20initial-scale%3D1.0%2C%20maximum-scale%3D1.0%2C%20user-scalable%3Dno%22%20/%3E%0A%20%20%20%20%20%20%20%20%20%20%20%20%3Cstyle%3E%0A%20%20%20%20%20%20%20%20%20%20%20%20%20%20%20%20%23map_a501a4f3d5194fa1a2f90ad8acb4949f%20%7B%0A%20%20%20%20%20%20%20%20%20%20%20%20%20%20%20%20%20%20%20%20position%3A%20relative%3B%0A%20%20%20%20%20%20%20%20%20%20%20%20%20%20%20%20%20%20%20%20width%3A%20100.0%25%3B%0A%20%20%20%20%20%20%20%20%20%20%20%20%20%20%20%20%20%20%20%20height%3A%20100.0%25%3B%0A%20%20%20%20%20%20%20%20%20%20%20%20%20%20%20%20%20%20%20%20left%3A%200.0%25%3B%0A%20%20%20%20%20%20%20%20%20%20%20%20%20%20%20%20%20%20%20%20top%3A%200.0%25%3B%0A%20%20%20%20%20%20%20%20%20%20%20%20%20%20%20%20%7D%0A%20%20%20%20%20%20%20%20%20%20%20%20%3C/style%3E%0A%20%20%20%20%20%20%20%20%0A%3C/head%3E%0A%3Cbody%3E%20%20%20%20%0A%20%20%20%20%0A%20%20%20%20%20%20%20%20%20%20%20%20%3Cdiv%20class%3D%22folium-map%22%20id%3D%22map_a501a4f3d5194fa1a2f90ad8acb4949f%22%20%3E%3C/div%3E%0A%20%20%20%20%20%20%20%20%0A%3C/body%3E%0A%3Cscript%3E%20%20%20%20%0A%20%20%20%20%0A%20%20%20%20%20%20%20%20%20%20%20%20var%20map_a501a4f3d5194fa1a2f90ad8acb4949f%20%3D%20L.map%28%0A%20%20%20%20%20%20%20%20%20%20%20%20%20%20%20%20%22map_a501a4f3d5194fa1a2f90ad8acb4949f%22%2C%0A%20%20%20%20%20%20%20%20%20%20%20%20%20%20%20%20%7B%0A%20%20%20%20%20%20%20%20%20%20%20%20%20%20%20%20%20%20%20%20center%3A%20%5B-19.705570084543737%2C%2044.70292749999976%5D%2C%0A%20%20%20%20%20%20%20%20%20%20%20%20%20%20%20%20%20%20%20%20crs%3A%20L.CRS.EPSG3857%2C%0A%20%20%20%20%20%20%20%20%20%20%20%20%20%20%20%20%20%20%20%20zoom%3A%2010%2C%0A%20%20%20%20%20%20%20%20%20%20%20%20%20%20%20%20%20%20%20%20zoomControl%3A%20true%2C%0A%20%20%20%20%20%20%20%20%20%20%20%20%20%20%20%20%20%20%20%20preferCanvas%3A%20false%2C%0A%20%20%20%20%20%20%20%20%20%20%20%20%20%20%20%20%7D%0A%20%20%20%20%20%20%20%20%20%20%20%20%29%3B%0A%0A%20%20%20%20%20%20%20%20%20%20%20%20%0A%0A%20%20%20%20%20%20%20%20%0A%20%20%20%20%0A%20%20%20%20%20%20%20%20%20%20%20%20var%20tile_layer_6ac8cb60e398463d94000c81806ece41%20%3D%20L.tileLayer%28%0A%20%20%20%20%20%20%20%20%20%20%20%20%20%20%20%20%22https%3A//%7Bs%7D.tile.openstreetmap.org/%7Bz%7D/%7Bx%7D/%7By%7D.png%22%2C%0A%20%20%20%20%20%20%20%20%20%20%20%20%20%20%20%20%7B%22attribution%22%3A%20%22Data%20by%20%5Cu0026copy%3B%20%5Cu003ca%20href%3D%5C%22http%3A//openstreetmap.org%5C%22%5Cu003eOpenStreetMap%5Cu003c/a%5Cu003e%2C%20under%20%5Cu003ca%20href%3D%5C%22http%3A//www.openstreetmap.org/copyright%5C%22%5Cu003eODbL%5Cu003c/a%5Cu003e.%22%2C%20%22detectRetina%22%3A%20false%2C%20%22maxNativeZoom%22%3A%2018%2C%20%22maxZoom%22%3A%2018%2C%20%22minZoom%22%3A%200%2C%20%22noWrap%22%3A%20false%2C%20%22opacity%22%3A%201%2C%20%22subdomains%22%3A%20%22abc%22%2C%20%22tms%22%3A%20false%7D%0A%20%20%20%20%20%20%20%20%20%20%20%20%29.addTo%28map_a501a4f3d5194fa1a2f90ad8acb4949f%29%3B%0A%20%20%20%20%20%20%20%20%0A%20%20%20%20%0A%20%20%20%20%20%20%20%20%20%20%20%20var%20tile_layer_736694c5fec84d96a495ce659705c144%20%3D%20L.tileLayer%28%0A%20%20%20%20%20%20%20%20%20%20%20%20%20%20%20%20%22https%3A//earthengine.googleapis.com/v1alpha/projects/earthengine-legacy/maps/6de6e48f211eb7eff8ad94f09b9f6b22-c02cf642704cf0d942b7c6ed63e332dc/tiles/%7Bz%7D/%7Bx%7D/%7By%7D%22%2C%0A%20%20%20%20%20%20%20%20%20%20%20%20%20%20%20%20%7B%22attribution%22%3A%20%22Map%20Data%20%5Cu0026copy%3B%20%5Cu003ca%20href%3D%5C%22https%3A//earthengine.google.com/%5C%22%5Cu003eGoogle%20Earth%20Engine%5Cu003c/a%5Cu003e%22%2C%20%22detectRetina%22%3A%20false%2C%20%22maxNativeZoom%22%3A%2018%2C%20%22maxZoom%22%3A%2018%2C%20%22minZoom%22%3A%200%2C%20%22noWrap%22%3A%20false%2C%20%22opacity%22%3A%201%2C%20%22subdomains%22%3A%20%22abc%22%2C%20%22tms%22%3A%20false%7D%0A%20%20%20%20%20%20%20%20%20%20%20%20%29.addTo%28map_a501a4f3d5194fa1a2f90ad8acb4949f%29%3B%0A%20%20%20%20%20%20%20%20%0A%20%20%20%20%0A%20%20%20%20%20%20%20%20%20%20%20%20var%20tile_layer_3939aeec17d948e1b7914b57c64db9b9%20%3D%20L.tileLayer%28%0A%20%20%20%20%20%20%20%20%20%20%20%20%20%20%20%20%22https%3A//earthengine.googleapis.com/v1alpha/projects/earthengine-legacy/maps/8a3d400bfab9b2021a6e97fd35d8997c-83941f5fb5869dbcf31eae37d6f4dad8/tiles/%7Bz%7D/%7Bx%7D/%7By%7D%22%2C%0A%20%20%20%20%20%20%20%20%20%20%20%20%20%20%20%20%7B%22attribution%22%3A%20%22Map%20Data%20%5Cu0026copy%3B%20%5Cu003ca%20href%3D%5C%22https%3A//earthengine.google.com/%5C%22%5Cu003eGoogle%20Earth%20Engine%5Cu003c/a%5Cu003e%22%2C%20%22detectRetina%22%3A%20false%2C%20%22maxNativeZoom%22%3A%2018%2C%20%22maxZoom%22%3A%2018%2C%20%22minZoom%22%3A%200%2C%20%22noWrap%22%3A%20false%2C%20%22opacity%22%3A%201%2C%20%22subdomains%22%3A%20%22abc%22%2C%20%22tms%22%3A%20false%7D%0A%20%20%20%20%20%20%20%20%20%20%20%20%29.addTo%28map_a501a4f3d5194fa1a2f90ad8acb4949f%29%3B%0A%20%20%20%20%20%20%20%20%0A%20%20%20%20%0A%20%20%20%20%20%20%20%20%20%20%20%20var%20tile_layer_ad6a35befd984780bc98c5128c3671e7%20%3D%20L.tileLayer%28%0A%20%20%20%20%20%20%20%20%20%20%20%20%20%20%20%20%22https%3A//earthengine.googleapis.com/v1alpha/projects/earthengine-legacy/maps/c575e5ac9b8df4247f0980903ca3c4c6-f055bde113df0db040dd5985578efffd/tiles/%7Bz%7D/%7Bx%7D/%7By%7D%22%2C%0A%20%20%20%20%20%20%20%20%20%20%20%20%20%20%20%20%7B%22attribution%22%3A%20%22Map%20Data%20%5Cu0026copy%3B%20%5Cu003ca%20href%3D%5C%22https%3A//earthengine.google.com/%5C%22%5Cu003eGoogle%20Earth%20Engine%5Cu003c/a%5Cu003e%22%2C%20%22detectRetina%22%3A%20false%2C%20%22maxNativeZoom%22%3A%2018%2C%20%22maxZoom%22%3A%2018%2C%20%22minZoom%22%3A%200%2C%20%22noWrap%22%3A%20false%2C%20%22opacity%22%3A%201%2C%20%22subdomains%22%3A%20%22abc%22%2C%20%22tms%22%3A%20false%7D%0A%20%20%20%20%20%20%20%20%20%20%20%20%29.addTo%28map_a501a4f3d5194fa1a2f90ad8acb4949f%29%3B%0A%20%20%20%20%20%20%20%20%0A%20%20%20%20%0A%20%20%20%20%20%20%20%20%20%20%20%20var%20layer_control_1ffc629021c54701a4ca1b9cd81eee04%20%3D%20%7B%0A%20%20%20%20%20%20%20%20%20%20%20%20%20%20%20%20base_layers%20%3A%20%7B%0A%20%20%20%20%20%20%20%20%20%20%20%20%20%20%20%20%20%20%20%20%22openstreetmap%22%20%3A%20tile_layer_6ac8cb60e398463d94000c81806ece41%2C%0A%20%20%20%20%20%20%20%20%20%20%20%20%20%20%20%20%7D%2C%0A%20%20%20%20%20%20%20%20%20%20%20%20%20%20%20%20overlays%20%3A%20%20%7B%0A%20%20%20%20%20%20%20%20%20%20%20%20%20%20%20%20%20%20%20%20%22Masked%20NDVI%22%20%3A%20tile_layer_736694c5fec84d96a495ce659705c144%2C%0A%20%20%20%20%20%20%20%20%20%20%20%20%20%20%20%20%20%20%20%20%22Unmasked%20NDVI%22%20%3A%20tile_layer_3939aeec17d948e1b7914b57c64db9b9%2C%0A%20%20%20%20%20%20%20%20%20%20%20%20%20%20%20%20%20%20%20%20%22Normalized%20NDVI%20Difference%22%20%3A%20tile_layer_ad6a35befd984780bc98c5128c3671e7%2C%0A%20%20%20%20%20%20%20%20%20%20%20%20%20%20%20%20%7D%2C%0A%20%20%20%20%20%20%20%20%20%20%20%20%7D%3B%0A%20%20%20%20%20%20%20%20%20%20%20%20L.control.layers%28%0A%20%20%20%20%20%20%20%20%20%20%20%20%20%20%20%20layer_control_1ffc629021c54701a4ca1b9cd81eee04.base_layers%2C%0A%20%20%20%20%20%20%20%20%20%20%20%20%20%20%20%20layer_control_1ffc629021c54701a4ca1b9cd81eee04.overlays%2C%0A%20%20%20%20%20%20%20%20%20%20%20%20%20%20%20%20%7B%22autoZIndex%22%3A%20true%2C%20%22collapsed%22%3A%20true%2C%20%22position%22%3A%20%22topright%22%7D%0A%20%20%20%20%20%20%20%20%20%20%20%20%29.addTo%28map_a501a4f3d5194fa1a2f90ad8acb4949f%29%3B%0A%20%20%20%20%20%20%20%20%0A%3C/script%3E onload=\"this.contentDocument.open();this.contentDocument.write(    decodeURIComponent(this.getAttribute('data-html')));this.contentDocument.close();\" allowfullscreen webkitallowfullscreen mozallowfullscreen></iframe></div></div>"
      ],
      "text/plain": [
       "<folium.folium.Map at 0x1487d5400>"
      ]
     },
     "metadata": {},
     "output_type": "display_data"
    },
    {
     "name": "stdout",
     "output_type": "stream",
     "text": [
      "\n",
      " \n",
      "\n",
      "2019-07-01 - 2019-08-01\n"
     ]
    },
    {
     "data": {
      "text/html": [
       "<div style=\"width:100%;\"><div style=\"position:relative;width:100%;height:0;padding-bottom:60%;\"><span style=\"color:#565656\">Make this Notebook Trusted to load map: File -> Trust Notebook</span><iframe src=\"about:blank\" style=\"position:absolute;width:100%;height:100%;left:0;top:0;border:none !important;\" data-html=%3C%21DOCTYPE%20html%3E%0A%3Chead%3E%20%20%20%20%0A%20%20%20%20%3Cmeta%20http-equiv%3D%22content-type%22%20content%3D%22text/html%3B%20charset%3DUTF-8%22%20/%3E%0A%20%20%20%20%0A%20%20%20%20%20%20%20%20%3Cscript%3E%0A%20%20%20%20%20%20%20%20%20%20%20%20L_NO_TOUCH%20%3D%20false%3B%0A%20%20%20%20%20%20%20%20%20%20%20%20L_DISABLE_3D%20%3D%20false%3B%0A%20%20%20%20%20%20%20%20%3C/script%3E%0A%20%20%20%20%0A%20%20%20%20%3Cstyle%3Ehtml%2C%20body%20%7Bwidth%3A%20100%25%3Bheight%3A%20100%25%3Bmargin%3A%200%3Bpadding%3A%200%3B%7D%3C/style%3E%0A%20%20%20%20%3Cstyle%3E%23map%20%7Bposition%3Aabsolute%3Btop%3A0%3Bbottom%3A0%3Bright%3A0%3Bleft%3A0%3B%7D%3C/style%3E%0A%20%20%20%20%3Cscript%20src%3D%22https%3A//cdn.jsdelivr.net/npm/leaflet%401.6.0/dist/leaflet.js%22%3E%3C/script%3E%0A%20%20%20%20%3Cscript%20src%3D%22https%3A//code.jquery.com/jquery-1.12.4.min.js%22%3E%3C/script%3E%0A%20%20%20%20%3Cscript%20src%3D%22https%3A//maxcdn.bootstrapcdn.com/bootstrap/3.2.0/js/bootstrap.min.js%22%3E%3C/script%3E%0A%20%20%20%20%3Cscript%20src%3D%22https%3A//cdnjs.cloudflare.com/ajax/libs/Leaflet.awesome-markers/2.0.2/leaflet.awesome-markers.js%22%3E%3C/script%3E%0A%20%20%20%20%3Clink%20rel%3D%22stylesheet%22%20href%3D%22https%3A//cdn.jsdelivr.net/npm/leaflet%401.6.0/dist/leaflet.css%22/%3E%0A%20%20%20%20%3Clink%20rel%3D%22stylesheet%22%20href%3D%22https%3A//maxcdn.bootstrapcdn.com/bootstrap/3.2.0/css/bootstrap.min.css%22/%3E%0A%20%20%20%20%3Clink%20rel%3D%22stylesheet%22%20href%3D%22https%3A//maxcdn.bootstrapcdn.com/bootstrap/3.2.0/css/bootstrap-theme.min.css%22/%3E%0A%20%20%20%20%3Clink%20rel%3D%22stylesheet%22%20href%3D%22https%3A//maxcdn.bootstrapcdn.com/font-awesome/4.6.3/css/font-awesome.min.css%22/%3E%0A%20%20%20%20%3Clink%20rel%3D%22stylesheet%22%20href%3D%22https%3A//cdnjs.cloudflare.com/ajax/libs/Leaflet.awesome-markers/2.0.2/leaflet.awesome-markers.css%22/%3E%0A%20%20%20%20%3Clink%20rel%3D%22stylesheet%22%20href%3D%22https%3A//cdn.jsdelivr.net/gh/python-visualization/folium/folium/templates/leaflet.awesome.rotate.min.css%22/%3E%0A%20%20%20%20%0A%20%20%20%20%20%20%20%20%20%20%20%20%3Cmeta%20name%3D%22viewport%22%20content%3D%22width%3Ddevice-width%2C%0A%20%20%20%20%20%20%20%20%20%20%20%20%20%20%20%20initial-scale%3D1.0%2C%20maximum-scale%3D1.0%2C%20user-scalable%3Dno%22%20/%3E%0A%20%20%20%20%20%20%20%20%20%20%20%20%3Cstyle%3E%0A%20%20%20%20%20%20%20%20%20%20%20%20%20%20%20%20%23map_d43d490821ed4482a0e99632efa99980%20%7B%0A%20%20%20%20%20%20%20%20%20%20%20%20%20%20%20%20%20%20%20%20position%3A%20relative%3B%0A%20%20%20%20%20%20%20%20%20%20%20%20%20%20%20%20%20%20%20%20width%3A%20100.0%25%3B%0A%20%20%20%20%20%20%20%20%20%20%20%20%20%20%20%20%20%20%20%20height%3A%20100.0%25%3B%0A%20%20%20%20%20%20%20%20%20%20%20%20%20%20%20%20%20%20%20%20left%3A%200.0%25%3B%0A%20%20%20%20%20%20%20%20%20%20%20%20%20%20%20%20%20%20%20%20top%3A%200.0%25%3B%0A%20%20%20%20%20%20%20%20%20%20%20%20%20%20%20%20%7D%0A%20%20%20%20%20%20%20%20%20%20%20%20%3C/style%3E%0A%20%20%20%20%20%20%20%20%0A%3C/head%3E%0A%3Cbody%3E%20%20%20%20%0A%20%20%20%20%0A%20%20%20%20%20%20%20%20%20%20%20%20%3Cdiv%20class%3D%22folium-map%22%20id%3D%22map_d43d490821ed4482a0e99632efa99980%22%20%3E%3C/div%3E%0A%20%20%20%20%20%20%20%20%0A%3C/body%3E%0A%3Cscript%3E%20%20%20%20%0A%20%20%20%20%0A%20%20%20%20%20%20%20%20%20%20%20%20var%20map_d43d490821ed4482a0e99632efa99980%20%3D%20L.map%28%0A%20%20%20%20%20%20%20%20%20%20%20%20%20%20%20%20%22map_d43d490821ed4482a0e99632efa99980%22%2C%0A%20%20%20%20%20%20%20%20%20%20%20%20%20%20%20%20%7B%0A%20%20%20%20%20%20%20%20%20%20%20%20%20%20%20%20%20%20%20%20center%3A%20%5B-19.705570084543737%2C%2044.70292749999976%5D%2C%0A%20%20%20%20%20%20%20%20%20%20%20%20%20%20%20%20%20%20%20%20crs%3A%20L.CRS.EPSG3857%2C%0A%20%20%20%20%20%20%20%20%20%20%20%20%20%20%20%20%20%20%20%20zoom%3A%2010%2C%0A%20%20%20%20%20%20%20%20%20%20%20%20%20%20%20%20%20%20%20%20zoomControl%3A%20true%2C%0A%20%20%20%20%20%20%20%20%20%20%20%20%20%20%20%20%20%20%20%20preferCanvas%3A%20false%2C%0A%20%20%20%20%20%20%20%20%20%20%20%20%20%20%20%20%7D%0A%20%20%20%20%20%20%20%20%20%20%20%20%29%3B%0A%0A%20%20%20%20%20%20%20%20%20%20%20%20%0A%0A%20%20%20%20%20%20%20%20%0A%20%20%20%20%0A%20%20%20%20%20%20%20%20%20%20%20%20var%20tile_layer_9487fab218cf4f8f8bbc36301ab292b2%20%3D%20L.tileLayer%28%0A%20%20%20%20%20%20%20%20%20%20%20%20%20%20%20%20%22https%3A//%7Bs%7D.tile.openstreetmap.org/%7Bz%7D/%7Bx%7D/%7By%7D.png%22%2C%0A%20%20%20%20%20%20%20%20%20%20%20%20%20%20%20%20%7B%22attribution%22%3A%20%22Data%20by%20%5Cu0026copy%3B%20%5Cu003ca%20href%3D%5C%22http%3A//openstreetmap.org%5C%22%5Cu003eOpenStreetMap%5Cu003c/a%5Cu003e%2C%20under%20%5Cu003ca%20href%3D%5C%22http%3A//www.openstreetmap.org/copyright%5C%22%5Cu003eODbL%5Cu003c/a%5Cu003e.%22%2C%20%22detectRetina%22%3A%20false%2C%20%22maxNativeZoom%22%3A%2018%2C%20%22maxZoom%22%3A%2018%2C%20%22minZoom%22%3A%200%2C%20%22noWrap%22%3A%20false%2C%20%22opacity%22%3A%201%2C%20%22subdomains%22%3A%20%22abc%22%2C%20%22tms%22%3A%20false%7D%0A%20%20%20%20%20%20%20%20%20%20%20%20%29.addTo%28map_d43d490821ed4482a0e99632efa99980%29%3B%0A%20%20%20%20%20%20%20%20%0A%20%20%20%20%0A%20%20%20%20%20%20%20%20%20%20%20%20var%20tile_layer_d557a5e4f83d48ab89518af011627f37%20%3D%20L.tileLayer%28%0A%20%20%20%20%20%20%20%20%20%20%20%20%20%20%20%20%22https%3A//earthengine.googleapis.com/v1alpha/projects/earthengine-legacy/maps/f7f765cf11c729c8db704cd27904a173-edec9c1fef08d3ba10afae70d6776679/tiles/%7Bz%7D/%7Bx%7D/%7By%7D%22%2C%0A%20%20%20%20%20%20%20%20%20%20%20%20%20%20%20%20%7B%22attribution%22%3A%20%22Map%20Data%20%5Cu0026copy%3B%20%5Cu003ca%20href%3D%5C%22https%3A//earthengine.google.com/%5C%22%5Cu003eGoogle%20Earth%20Engine%5Cu003c/a%5Cu003e%22%2C%20%22detectRetina%22%3A%20false%2C%20%22maxNativeZoom%22%3A%2018%2C%20%22maxZoom%22%3A%2018%2C%20%22minZoom%22%3A%200%2C%20%22noWrap%22%3A%20false%2C%20%22opacity%22%3A%201%2C%20%22subdomains%22%3A%20%22abc%22%2C%20%22tms%22%3A%20false%7D%0A%20%20%20%20%20%20%20%20%20%20%20%20%29.addTo%28map_d43d490821ed4482a0e99632efa99980%29%3B%0A%20%20%20%20%20%20%20%20%0A%20%20%20%20%0A%20%20%20%20%20%20%20%20%20%20%20%20var%20tile_layer_5e2fe7482c6f456a8376df5f811c2d8f%20%3D%20L.tileLayer%28%0A%20%20%20%20%20%20%20%20%20%20%20%20%20%20%20%20%22https%3A//earthengine.googleapis.com/v1alpha/projects/earthengine-legacy/maps/9351f3b2c0e9d1f8d4e8c36c331cde0b-1c131c9d14b0eac4ab23d3f238213c0b/tiles/%7Bz%7D/%7Bx%7D/%7By%7D%22%2C%0A%20%20%20%20%20%20%20%20%20%20%20%20%20%20%20%20%7B%22attribution%22%3A%20%22Map%20Data%20%5Cu0026copy%3B%20%5Cu003ca%20href%3D%5C%22https%3A//earthengine.google.com/%5C%22%5Cu003eGoogle%20Earth%20Engine%5Cu003c/a%5Cu003e%22%2C%20%22detectRetina%22%3A%20false%2C%20%22maxNativeZoom%22%3A%2018%2C%20%22maxZoom%22%3A%2018%2C%20%22minZoom%22%3A%200%2C%20%22noWrap%22%3A%20false%2C%20%22opacity%22%3A%201%2C%20%22subdomains%22%3A%20%22abc%22%2C%20%22tms%22%3A%20false%7D%0A%20%20%20%20%20%20%20%20%20%20%20%20%29.addTo%28map_d43d490821ed4482a0e99632efa99980%29%3B%0A%20%20%20%20%20%20%20%20%0A%20%20%20%20%0A%20%20%20%20%20%20%20%20%20%20%20%20var%20tile_layer_57456e27017f4859a287855ce22836c7%20%3D%20L.tileLayer%28%0A%20%20%20%20%20%20%20%20%20%20%20%20%20%20%20%20%22https%3A//earthengine.googleapis.com/v1alpha/projects/earthengine-legacy/maps/e53db747718fbebbd8233adba11e7cd7-7c30eee074bf87759004590e0449757b/tiles/%7Bz%7D/%7Bx%7D/%7By%7D%22%2C%0A%20%20%20%20%20%20%20%20%20%20%20%20%20%20%20%20%7B%22attribution%22%3A%20%22Map%20Data%20%5Cu0026copy%3B%20%5Cu003ca%20href%3D%5C%22https%3A//earthengine.google.com/%5C%22%5Cu003eGoogle%20Earth%20Engine%5Cu003c/a%5Cu003e%22%2C%20%22detectRetina%22%3A%20false%2C%20%22maxNativeZoom%22%3A%2018%2C%20%22maxZoom%22%3A%2018%2C%20%22minZoom%22%3A%200%2C%20%22noWrap%22%3A%20false%2C%20%22opacity%22%3A%201%2C%20%22subdomains%22%3A%20%22abc%22%2C%20%22tms%22%3A%20false%7D%0A%20%20%20%20%20%20%20%20%20%20%20%20%29.addTo%28map_d43d490821ed4482a0e99632efa99980%29%3B%0A%20%20%20%20%20%20%20%20%0A%20%20%20%20%0A%20%20%20%20%20%20%20%20%20%20%20%20var%20layer_control_59e85c4b7636442f832b0d7144a000df%20%3D%20%7B%0A%20%20%20%20%20%20%20%20%20%20%20%20%20%20%20%20base_layers%20%3A%20%7B%0A%20%20%20%20%20%20%20%20%20%20%20%20%20%20%20%20%20%20%20%20%22openstreetmap%22%20%3A%20tile_layer_9487fab218cf4f8f8bbc36301ab292b2%2C%0A%20%20%20%20%20%20%20%20%20%20%20%20%20%20%20%20%7D%2C%0A%20%20%20%20%20%20%20%20%20%20%20%20%20%20%20%20overlays%20%3A%20%20%7B%0A%20%20%20%20%20%20%20%20%20%20%20%20%20%20%20%20%20%20%20%20%22Masked%20NDVI%22%20%3A%20tile_layer_d557a5e4f83d48ab89518af011627f37%2C%0A%20%20%20%20%20%20%20%20%20%20%20%20%20%20%20%20%20%20%20%20%22Unmasked%20NDVI%22%20%3A%20tile_layer_5e2fe7482c6f456a8376df5f811c2d8f%2C%0A%20%20%20%20%20%20%20%20%20%20%20%20%20%20%20%20%20%20%20%20%22Normalized%20NDVI%20Difference%22%20%3A%20tile_layer_57456e27017f4859a287855ce22836c7%2C%0A%20%20%20%20%20%20%20%20%20%20%20%20%20%20%20%20%7D%2C%0A%20%20%20%20%20%20%20%20%20%20%20%20%7D%3B%0A%20%20%20%20%20%20%20%20%20%20%20%20L.control.layers%28%0A%20%20%20%20%20%20%20%20%20%20%20%20%20%20%20%20layer_control_59e85c4b7636442f832b0d7144a000df.base_layers%2C%0A%20%20%20%20%20%20%20%20%20%20%20%20%20%20%20%20layer_control_59e85c4b7636442f832b0d7144a000df.overlays%2C%0A%20%20%20%20%20%20%20%20%20%20%20%20%20%20%20%20%7B%22autoZIndex%22%3A%20true%2C%20%22collapsed%22%3A%20true%2C%20%22position%22%3A%20%22topright%22%7D%0A%20%20%20%20%20%20%20%20%20%20%20%20%29.addTo%28map_d43d490821ed4482a0e99632efa99980%29%3B%0A%20%20%20%20%20%20%20%20%0A%3C/script%3E onload=\"this.contentDocument.open();this.contentDocument.write(    decodeURIComponent(this.getAttribute('data-html')));this.contentDocument.close();\" allowfullscreen webkitallowfullscreen mozallowfullscreen></iframe></div></div>"
      ],
      "text/plain": [
       "<folium.folium.Map at 0x148ea7ca0>"
      ]
     },
     "metadata": {},
     "output_type": "display_data"
    },
    {
     "name": "stdout",
     "output_type": "stream",
     "text": [
      "\n",
      " \n",
      "\n",
      "2019-08-01 - 2019-09-01\n"
     ]
    },
    {
     "data": {
      "text/html": [
       "<div style=\"width:100%;\"><div style=\"position:relative;width:100%;height:0;padding-bottom:60%;\"><span style=\"color:#565656\">Make this Notebook Trusted to load map: File -> Trust Notebook</span><iframe src=\"about:blank\" style=\"position:absolute;width:100%;height:100%;left:0;top:0;border:none !important;\" data-html=%3C%21DOCTYPE%20html%3E%0A%3Chead%3E%20%20%20%20%0A%20%20%20%20%3Cmeta%20http-equiv%3D%22content-type%22%20content%3D%22text/html%3B%20charset%3DUTF-8%22%20/%3E%0A%20%20%20%20%0A%20%20%20%20%20%20%20%20%3Cscript%3E%0A%20%20%20%20%20%20%20%20%20%20%20%20L_NO_TOUCH%20%3D%20false%3B%0A%20%20%20%20%20%20%20%20%20%20%20%20L_DISABLE_3D%20%3D%20false%3B%0A%20%20%20%20%20%20%20%20%3C/script%3E%0A%20%20%20%20%0A%20%20%20%20%3Cstyle%3Ehtml%2C%20body%20%7Bwidth%3A%20100%25%3Bheight%3A%20100%25%3Bmargin%3A%200%3Bpadding%3A%200%3B%7D%3C/style%3E%0A%20%20%20%20%3Cstyle%3E%23map%20%7Bposition%3Aabsolute%3Btop%3A0%3Bbottom%3A0%3Bright%3A0%3Bleft%3A0%3B%7D%3C/style%3E%0A%20%20%20%20%3Cscript%20src%3D%22https%3A//cdn.jsdelivr.net/npm/leaflet%401.6.0/dist/leaflet.js%22%3E%3C/script%3E%0A%20%20%20%20%3Cscript%20src%3D%22https%3A//code.jquery.com/jquery-1.12.4.min.js%22%3E%3C/script%3E%0A%20%20%20%20%3Cscript%20src%3D%22https%3A//maxcdn.bootstrapcdn.com/bootstrap/3.2.0/js/bootstrap.min.js%22%3E%3C/script%3E%0A%20%20%20%20%3Cscript%20src%3D%22https%3A//cdnjs.cloudflare.com/ajax/libs/Leaflet.awesome-markers/2.0.2/leaflet.awesome-markers.js%22%3E%3C/script%3E%0A%20%20%20%20%3Clink%20rel%3D%22stylesheet%22%20href%3D%22https%3A//cdn.jsdelivr.net/npm/leaflet%401.6.0/dist/leaflet.css%22/%3E%0A%20%20%20%20%3Clink%20rel%3D%22stylesheet%22%20href%3D%22https%3A//maxcdn.bootstrapcdn.com/bootstrap/3.2.0/css/bootstrap.min.css%22/%3E%0A%20%20%20%20%3Clink%20rel%3D%22stylesheet%22%20href%3D%22https%3A//maxcdn.bootstrapcdn.com/bootstrap/3.2.0/css/bootstrap-theme.min.css%22/%3E%0A%20%20%20%20%3Clink%20rel%3D%22stylesheet%22%20href%3D%22https%3A//maxcdn.bootstrapcdn.com/font-awesome/4.6.3/css/font-awesome.min.css%22/%3E%0A%20%20%20%20%3Clink%20rel%3D%22stylesheet%22%20href%3D%22https%3A//cdnjs.cloudflare.com/ajax/libs/Leaflet.awesome-markers/2.0.2/leaflet.awesome-markers.css%22/%3E%0A%20%20%20%20%3Clink%20rel%3D%22stylesheet%22%20href%3D%22https%3A//cdn.jsdelivr.net/gh/python-visualization/folium/folium/templates/leaflet.awesome.rotate.min.css%22/%3E%0A%20%20%20%20%0A%20%20%20%20%20%20%20%20%20%20%20%20%3Cmeta%20name%3D%22viewport%22%20content%3D%22width%3Ddevice-width%2C%0A%20%20%20%20%20%20%20%20%20%20%20%20%20%20%20%20initial-scale%3D1.0%2C%20maximum-scale%3D1.0%2C%20user-scalable%3Dno%22%20/%3E%0A%20%20%20%20%20%20%20%20%20%20%20%20%3Cstyle%3E%0A%20%20%20%20%20%20%20%20%20%20%20%20%20%20%20%20%23map_d915116d81bc49e6bbf1a50ad383301c%20%7B%0A%20%20%20%20%20%20%20%20%20%20%20%20%20%20%20%20%20%20%20%20position%3A%20relative%3B%0A%20%20%20%20%20%20%20%20%20%20%20%20%20%20%20%20%20%20%20%20width%3A%20100.0%25%3B%0A%20%20%20%20%20%20%20%20%20%20%20%20%20%20%20%20%20%20%20%20height%3A%20100.0%25%3B%0A%20%20%20%20%20%20%20%20%20%20%20%20%20%20%20%20%20%20%20%20left%3A%200.0%25%3B%0A%20%20%20%20%20%20%20%20%20%20%20%20%20%20%20%20%20%20%20%20top%3A%200.0%25%3B%0A%20%20%20%20%20%20%20%20%20%20%20%20%20%20%20%20%7D%0A%20%20%20%20%20%20%20%20%20%20%20%20%3C/style%3E%0A%20%20%20%20%20%20%20%20%0A%3C/head%3E%0A%3Cbody%3E%20%20%20%20%0A%20%20%20%20%0A%20%20%20%20%20%20%20%20%20%20%20%20%3Cdiv%20class%3D%22folium-map%22%20id%3D%22map_d915116d81bc49e6bbf1a50ad383301c%22%20%3E%3C/div%3E%0A%20%20%20%20%20%20%20%20%0A%3C/body%3E%0A%3Cscript%3E%20%20%20%20%0A%20%20%20%20%0A%20%20%20%20%20%20%20%20%20%20%20%20var%20map_d915116d81bc49e6bbf1a50ad383301c%20%3D%20L.map%28%0A%20%20%20%20%20%20%20%20%20%20%20%20%20%20%20%20%22map_d915116d81bc49e6bbf1a50ad383301c%22%2C%0A%20%20%20%20%20%20%20%20%20%20%20%20%20%20%20%20%7B%0A%20%20%20%20%20%20%20%20%20%20%20%20%20%20%20%20%20%20%20%20center%3A%20%5B-19.705570084543737%2C%2044.70292749999976%5D%2C%0A%20%20%20%20%20%20%20%20%20%20%20%20%20%20%20%20%20%20%20%20crs%3A%20L.CRS.EPSG3857%2C%0A%20%20%20%20%20%20%20%20%20%20%20%20%20%20%20%20%20%20%20%20zoom%3A%2010%2C%0A%20%20%20%20%20%20%20%20%20%20%20%20%20%20%20%20%20%20%20%20zoomControl%3A%20true%2C%0A%20%20%20%20%20%20%20%20%20%20%20%20%20%20%20%20%20%20%20%20preferCanvas%3A%20false%2C%0A%20%20%20%20%20%20%20%20%20%20%20%20%20%20%20%20%7D%0A%20%20%20%20%20%20%20%20%20%20%20%20%29%3B%0A%0A%20%20%20%20%20%20%20%20%20%20%20%20%0A%0A%20%20%20%20%20%20%20%20%0A%20%20%20%20%0A%20%20%20%20%20%20%20%20%20%20%20%20var%20tile_layer_f2220a997fe14664b67499f4c6a23500%20%3D%20L.tileLayer%28%0A%20%20%20%20%20%20%20%20%20%20%20%20%20%20%20%20%22https%3A//%7Bs%7D.tile.openstreetmap.org/%7Bz%7D/%7Bx%7D/%7By%7D.png%22%2C%0A%20%20%20%20%20%20%20%20%20%20%20%20%20%20%20%20%7B%22attribution%22%3A%20%22Data%20by%20%5Cu0026copy%3B%20%5Cu003ca%20href%3D%5C%22http%3A//openstreetmap.org%5C%22%5Cu003eOpenStreetMap%5Cu003c/a%5Cu003e%2C%20under%20%5Cu003ca%20href%3D%5C%22http%3A//www.openstreetmap.org/copyright%5C%22%5Cu003eODbL%5Cu003c/a%5Cu003e.%22%2C%20%22detectRetina%22%3A%20false%2C%20%22maxNativeZoom%22%3A%2018%2C%20%22maxZoom%22%3A%2018%2C%20%22minZoom%22%3A%200%2C%20%22noWrap%22%3A%20false%2C%20%22opacity%22%3A%201%2C%20%22subdomains%22%3A%20%22abc%22%2C%20%22tms%22%3A%20false%7D%0A%20%20%20%20%20%20%20%20%20%20%20%20%29.addTo%28map_d915116d81bc49e6bbf1a50ad383301c%29%3B%0A%20%20%20%20%20%20%20%20%0A%20%20%20%20%0A%20%20%20%20%20%20%20%20%20%20%20%20var%20tile_layer_ef9bb359d5524bd883246df2221f1e6a%20%3D%20L.tileLayer%28%0A%20%20%20%20%20%20%20%20%20%20%20%20%20%20%20%20%22https%3A//earthengine.googleapis.com/v1alpha/projects/earthengine-legacy/maps/e98732790b9bcf73382068b9af236b21-161953aaf4167470ce8d061ac9c2a902/tiles/%7Bz%7D/%7Bx%7D/%7By%7D%22%2C%0A%20%20%20%20%20%20%20%20%20%20%20%20%20%20%20%20%7B%22attribution%22%3A%20%22Map%20Data%20%5Cu0026copy%3B%20%5Cu003ca%20href%3D%5C%22https%3A//earthengine.google.com/%5C%22%5Cu003eGoogle%20Earth%20Engine%5Cu003c/a%5Cu003e%22%2C%20%22detectRetina%22%3A%20false%2C%20%22maxNativeZoom%22%3A%2018%2C%20%22maxZoom%22%3A%2018%2C%20%22minZoom%22%3A%200%2C%20%22noWrap%22%3A%20false%2C%20%22opacity%22%3A%201%2C%20%22subdomains%22%3A%20%22abc%22%2C%20%22tms%22%3A%20false%7D%0A%20%20%20%20%20%20%20%20%20%20%20%20%29.addTo%28map_d915116d81bc49e6bbf1a50ad383301c%29%3B%0A%20%20%20%20%20%20%20%20%0A%20%20%20%20%0A%20%20%20%20%20%20%20%20%20%20%20%20var%20tile_layer_68d907afc40145b0b9d4abae070611cf%20%3D%20L.tileLayer%28%0A%20%20%20%20%20%20%20%20%20%20%20%20%20%20%20%20%22https%3A//earthengine.googleapis.com/v1alpha/projects/earthengine-legacy/maps/c3f7893a11677387274dccbfe50958e3-460b416c56e04f43abe7e3bb6eb39c2f/tiles/%7Bz%7D/%7Bx%7D/%7By%7D%22%2C%0A%20%20%20%20%20%20%20%20%20%20%20%20%20%20%20%20%7B%22attribution%22%3A%20%22Map%20Data%20%5Cu0026copy%3B%20%5Cu003ca%20href%3D%5C%22https%3A//earthengine.google.com/%5C%22%5Cu003eGoogle%20Earth%20Engine%5Cu003c/a%5Cu003e%22%2C%20%22detectRetina%22%3A%20false%2C%20%22maxNativeZoom%22%3A%2018%2C%20%22maxZoom%22%3A%2018%2C%20%22minZoom%22%3A%200%2C%20%22noWrap%22%3A%20false%2C%20%22opacity%22%3A%201%2C%20%22subdomains%22%3A%20%22abc%22%2C%20%22tms%22%3A%20false%7D%0A%20%20%20%20%20%20%20%20%20%20%20%20%29.addTo%28map_d915116d81bc49e6bbf1a50ad383301c%29%3B%0A%20%20%20%20%20%20%20%20%0A%20%20%20%20%0A%20%20%20%20%20%20%20%20%20%20%20%20var%20tile_layer_ebb0ad7865824c178dd981455467c4cc%20%3D%20L.tileLayer%28%0A%20%20%20%20%20%20%20%20%20%20%20%20%20%20%20%20%22https%3A//earthengine.googleapis.com/v1alpha/projects/earthengine-legacy/maps/837d4bd6efb41f735152eaa92bd5913a-329d225db0a286a6386eebaf26246cdb/tiles/%7Bz%7D/%7Bx%7D/%7By%7D%22%2C%0A%20%20%20%20%20%20%20%20%20%20%20%20%20%20%20%20%7B%22attribution%22%3A%20%22Map%20Data%20%5Cu0026copy%3B%20%5Cu003ca%20href%3D%5C%22https%3A//earthengine.google.com/%5C%22%5Cu003eGoogle%20Earth%20Engine%5Cu003c/a%5Cu003e%22%2C%20%22detectRetina%22%3A%20false%2C%20%22maxNativeZoom%22%3A%2018%2C%20%22maxZoom%22%3A%2018%2C%20%22minZoom%22%3A%200%2C%20%22noWrap%22%3A%20false%2C%20%22opacity%22%3A%201%2C%20%22subdomains%22%3A%20%22abc%22%2C%20%22tms%22%3A%20false%7D%0A%20%20%20%20%20%20%20%20%20%20%20%20%29.addTo%28map_d915116d81bc49e6bbf1a50ad383301c%29%3B%0A%20%20%20%20%20%20%20%20%0A%20%20%20%20%0A%20%20%20%20%20%20%20%20%20%20%20%20var%20layer_control_fec5a8c9c2554e72b3662adff073e20b%20%3D%20%7B%0A%20%20%20%20%20%20%20%20%20%20%20%20%20%20%20%20base_layers%20%3A%20%7B%0A%20%20%20%20%20%20%20%20%20%20%20%20%20%20%20%20%20%20%20%20%22openstreetmap%22%20%3A%20tile_layer_f2220a997fe14664b67499f4c6a23500%2C%0A%20%20%20%20%20%20%20%20%20%20%20%20%20%20%20%20%7D%2C%0A%20%20%20%20%20%20%20%20%20%20%20%20%20%20%20%20overlays%20%3A%20%20%7B%0A%20%20%20%20%20%20%20%20%20%20%20%20%20%20%20%20%20%20%20%20%22Masked%20NDVI%22%20%3A%20tile_layer_ef9bb359d5524bd883246df2221f1e6a%2C%0A%20%20%20%20%20%20%20%20%20%20%20%20%20%20%20%20%20%20%20%20%22Unmasked%20NDVI%22%20%3A%20tile_layer_68d907afc40145b0b9d4abae070611cf%2C%0A%20%20%20%20%20%20%20%20%20%20%20%20%20%20%20%20%20%20%20%20%22Normalized%20NDVI%20Difference%22%20%3A%20tile_layer_ebb0ad7865824c178dd981455467c4cc%2C%0A%20%20%20%20%20%20%20%20%20%20%20%20%20%20%20%20%7D%2C%0A%20%20%20%20%20%20%20%20%20%20%20%20%7D%3B%0A%20%20%20%20%20%20%20%20%20%20%20%20L.control.layers%28%0A%20%20%20%20%20%20%20%20%20%20%20%20%20%20%20%20layer_control_fec5a8c9c2554e72b3662adff073e20b.base_layers%2C%0A%20%20%20%20%20%20%20%20%20%20%20%20%20%20%20%20layer_control_fec5a8c9c2554e72b3662adff073e20b.overlays%2C%0A%20%20%20%20%20%20%20%20%20%20%20%20%20%20%20%20%7B%22autoZIndex%22%3A%20true%2C%20%22collapsed%22%3A%20true%2C%20%22position%22%3A%20%22topright%22%7D%0A%20%20%20%20%20%20%20%20%20%20%20%20%29.addTo%28map_d915116d81bc49e6bbf1a50ad383301c%29%3B%0A%20%20%20%20%20%20%20%20%0A%3C/script%3E onload=\"this.contentDocument.open();this.contentDocument.write(    decodeURIComponent(this.getAttribute('data-html')));this.contentDocument.close();\" allowfullscreen webkitallowfullscreen mozallowfullscreen></iframe></div></div>"
      ],
      "text/plain": [
       "<folium.folium.Map at 0x148ec0ac0>"
      ]
     },
     "metadata": {},
     "output_type": "display_data"
    },
    {
     "name": "stdout",
     "output_type": "stream",
     "text": [
      "\n",
      " \n",
      "\n",
      "2019-09-01 - 2019-10-01\n"
     ]
    },
    {
     "data": {
      "text/html": [
       "<div style=\"width:100%;\"><div style=\"position:relative;width:100%;height:0;padding-bottom:60%;\"><span style=\"color:#565656\">Make this Notebook Trusted to load map: File -> Trust Notebook</span><iframe src=\"about:blank\" style=\"position:absolute;width:100%;height:100%;left:0;top:0;border:none !important;\" data-html=%3C%21DOCTYPE%20html%3E%0A%3Chead%3E%20%20%20%20%0A%20%20%20%20%3Cmeta%20http-equiv%3D%22content-type%22%20content%3D%22text/html%3B%20charset%3DUTF-8%22%20/%3E%0A%20%20%20%20%0A%20%20%20%20%20%20%20%20%3Cscript%3E%0A%20%20%20%20%20%20%20%20%20%20%20%20L_NO_TOUCH%20%3D%20false%3B%0A%20%20%20%20%20%20%20%20%20%20%20%20L_DISABLE_3D%20%3D%20false%3B%0A%20%20%20%20%20%20%20%20%3C/script%3E%0A%20%20%20%20%0A%20%20%20%20%3Cstyle%3Ehtml%2C%20body%20%7Bwidth%3A%20100%25%3Bheight%3A%20100%25%3Bmargin%3A%200%3Bpadding%3A%200%3B%7D%3C/style%3E%0A%20%20%20%20%3Cstyle%3E%23map%20%7Bposition%3Aabsolute%3Btop%3A0%3Bbottom%3A0%3Bright%3A0%3Bleft%3A0%3B%7D%3C/style%3E%0A%20%20%20%20%3Cscript%20src%3D%22https%3A//cdn.jsdelivr.net/npm/leaflet%401.6.0/dist/leaflet.js%22%3E%3C/script%3E%0A%20%20%20%20%3Cscript%20src%3D%22https%3A//code.jquery.com/jquery-1.12.4.min.js%22%3E%3C/script%3E%0A%20%20%20%20%3Cscript%20src%3D%22https%3A//maxcdn.bootstrapcdn.com/bootstrap/3.2.0/js/bootstrap.min.js%22%3E%3C/script%3E%0A%20%20%20%20%3Cscript%20src%3D%22https%3A//cdnjs.cloudflare.com/ajax/libs/Leaflet.awesome-markers/2.0.2/leaflet.awesome-markers.js%22%3E%3C/script%3E%0A%20%20%20%20%3Clink%20rel%3D%22stylesheet%22%20href%3D%22https%3A//cdn.jsdelivr.net/npm/leaflet%401.6.0/dist/leaflet.css%22/%3E%0A%20%20%20%20%3Clink%20rel%3D%22stylesheet%22%20href%3D%22https%3A//maxcdn.bootstrapcdn.com/bootstrap/3.2.0/css/bootstrap.min.css%22/%3E%0A%20%20%20%20%3Clink%20rel%3D%22stylesheet%22%20href%3D%22https%3A//maxcdn.bootstrapcdn.com/bootstrap/3.2.0/css/bootstrap-theme.min.css%22/%3E%0A%20%20%20%20%3Clink%20rel%3D%22stylesheet%22%20href%3D%22https%3A//maxcdn.bootstrapcdn.com/font-awesome/4.6.3/css/font-awesome.min.css%22/%3E%0A%20%20%20%20%3Clink%20rel%3D%22stylesheet%22%20href%3D%22https%3A//cdnjs.cloudflare.com/ajax/libs/Leaflet.awesome-markers/2.0.2/leaflet.awesome-markers.css%22/%3E%0A%20%20%20%20%3Clink%20rel%3D%22stylesheet%22%20href%3D%22https%3A//cdn.jsdelivr.net/gh/python-visualization/folium/folium/templates/leaflet.awesome.rotate.min.css%22/%3E%0A%20%20%20%20%0A%20%20%20%20%20%20%20%20%20%20%20%20%3Cmeta%20name%3D%22viewport%22%20content%3D%22width%3Ddevice-width%2C%0A%20%20%20%20%20%20%20%20%20%20%20%20%20%20%20%20initial-scale%3D1.0%2C%20maximum-scale%3D1.0%2C%20user-scalable%3Dno%22%20/%3E%0A%20%20%20%20%20%20%20%20%20%20%20%20%3Cstyle%3E%0A%20%20%20%20%20%20%20%20%20%20%20%20%20%20%20%20%23map_97fdc74a68ce443babcb20afbf8c9157%20%7B%0A%20%20%20%20%20%20%20%20%20%20%20%20%20%20%20%20%20%20%20%20position%3A%20relative%3B%0A%20%20%20%20%20%20%20%20%20%20%20%20%20%20%20%20%20%20%20%20width%3A%20100.0%25%3B%0A%20%20%20%20%20%20%20%20%20%20%20%20%20%20%20%20%20%20%20%20height%3A%20100.0%25%3B%0A%20%20%20%20%20%20%20%20%20%20%20%20%20%20%20%20%20%20%20%20left%3A%200.0%25%3B%0A%20%20%20%20%20%20%20%20%20%20%20%20%20%20%20%20%20%20%20%20top%3A%200.0%25%3B%0A%20%20%20%20%20%20%20%20%20%20%20%20%20%20%20%20%7D%0A%20%20%20%20%20%20%20%20%20%20%20%20%3C/style%3E%0A%20%20%20%20%20%20%20%20%0A%3C/head%3E%0A%3Cbody%3E%20%20%20%20%0A%20%20%20%20%0A%20%20%20%20%20%20%20%20%20%20%20%20%3Cdiv%20class%3D%22folium-map%22%20id%3D%22map_97fdc74a68ce443babcb20afbf8c9157%22%20%3E%3C/div%3E%0A%20%20%20%20%20%20%20%20%0A%3C/body%3E%0A%3Cscript%3E%20%20%20%20%0A%20%20%20%20%0A%20%20%20%20%20%20%20%20%20%20%20%20var%20map_97fdc74a68ce443babcb20afbf8c9157%20%3D%20L.map%28%0A%20%20%20%20%20%20%20%20%20%20%20%20%20%20%20%20%22map_97fdc74a68ce443babcb20afbf8c9157%22%2C%0A%20%20%20%20%20%20%20%20%20%20%20%20%20%20%20%20%7B%0A%20%20%20%20%20%20%20%20%20%20%20%20%20%20%20%20%20%20%20%20center%3A%20%5B-19.705570084543737%2C%2044.70292749999976%5D%2C%0A%20%20%20%20%20%20%20%20%20%20%20%20%20%20%20%20%20%20%20%20crs%3A%20L.CRS.EPSG3857%2C%0A%20%20%20%20%20%20%20%20%20%20%20%20%20%20%20%20%20%20%20%20zoom%3A%2010%2C%0A%20%20%20%20%20%20%20%20%20%20%20%20%20%20%20%20%20%20%20%20zoomControl%3A%20true%2C%0A%20%20%20%20%20%20%20%20%20%20%20%20%20%20%20%20%20%20%20%20preferCanvas%3A%20false%2C%0A%20%20%20%20%20%20%20%20%20%20%20%20%20%20%20%20%7D%0A%20%20%20%20%20%20%20%20%20%20%20%20%29%3B%0A%0A%20%20%20%20%20%20%20%20%20%20%20%20%0A%0A%20%20%20%20%20%20%20%20%0A%20%20%20%20%0A%20%20%20%20%20%20%20%20%20%20%20%20var%20tile_layer_afa8c470103d412fba21ae9290b026e5%20%3D%20L.tileLayer%28%0A%20%20%20%20%20%20%20%20%20%20%20%20%20%20%20%20%22https%3A//%7Bs%7D.tile.openstreetmap.org/%7Bz%7D/%7Bx%7D/%7By%7D.png%22%2C%0A%20%20%20%20%20%20%20%20%20%20%20%20%20%20%20%20%7B%22attribution%22%3A%20%22Data%20by%20%5Cu0026copy%3B%20%5Cu003ca%20href%3D%5C%22http%3A//openstreetmap.org%5C%22%5Cu003eOpenStreetMap%5Cu003c/a%5Cu003e%2C%20under%20%5Cu003ca%20href%3D%5C%22http%3A//www.openstreetmap.org/copyright%5C%22%5Cu003eODbL%5Cu003c/a%5Cu003e.%22%2C%20%22detectRetina%22%3A%20false%2C%20%22maxNativeZoom%22%3A%2018%2C%20%22maxZoom%22%3A%2018%2C%20%22minZoom%22%3A%200%2C%20%22noWrap%22%3A%20false%2C%20%22opacity%22%3A%201%2C%20%22subdomains%22%3A%20%22abc%22%2C%20%22tms%22%3A%20false%7D%0A%20%20%20%20%20%20%20%20%20%20%20%20%29.addTo%28map_97fdc74a68ce443babcb20afbf8c9157%29%3B%0A%20%20%20%20%20%20%20%20%0A%20%20%20%20%0A%20%20%20%20%20%20%20%20%20%20%20%20var%20tile_layer_40b973109b9846c697efdddcf6fa6bdc%20%3D%20L.tileLayer%28%0A%20%20%20%20%20%20%20%20%20%20%20%20%20%20%20%20%22https%3A//earthengine.googleapis.com/v1alpha/projects/earthengine-legacy/maps/db343fbb78bd6c75ba2bc1f1af51743d-1c0dc5544257e802fd93ef370cc0de94/tiles/%7Bz%7D/%7Bx%7D/%7By%7D%22%2C%0A%20%20%20%20%20%20%20%20%20%20%20%20%20%20%20%20%7B%22attribution%22%3A%20%22Map%20Data%20%5Cu0026copy%3B%20%5Cu003ca%20href%3D%5C%22https%3A//earthengine.google.com/%5C%22%5Cu003eGoogle%20Earth%20Engine%5Cu003c/a%5Cu003e%22%2C%20%22detectRetina%22%3A%20false%2C%20%22maxNativeZoom%22%3A%2018%2C%20%22maxZoom%22%3A%2018%2C%20%22minZoom%22%3A%200%2C%20%22noWrap%22%3A%20false%2C%20%22opacity%22%3A%201%2C%20%22subdomains%22%3A%20%22abc%22%2C%20%22tms%22%3A%20false%7D%0A%20%20%20%20%20%20%20%20%20%20%20%20%29.addTo%28map_97fdc74a68ce443babcb20afbf8c9157%29%3B%0A%20%20%20%20%20%20%20%20%0A%20%20%20%20%0A%20%20%20%20%20%20%20%20%20%20%20%20var%20tile_layer_90ee246a646043d285996b225ec52efa%20%3D%20L.tileLayer%28%0A%20%20%20%20%20%20%20%20%20%20%20%20%20%20%20%20%22https%3A//earthengine.googleapis.com/v1alpha/projects/earthengine-legacy/maps/7e7dfa3a03370d0e25659aa01019bb0e-2163a8c575dc0035193c94eca054e835/tiles/%7Bz%7D/%7Bx%7D/%7By%7D%22%2C%0A%20%20%20%20%20%20%20%20%20%20%20%20%20%20%20%20%7B%22attribution%22%3A%20%22Map%20Data%20%5Cu0026copy%3B%20%5Cu003ca%20href%3D%5C%22https%3A//earthengine.google.com/%5C%22%5Cu003eGoogle%20Earth%20Engine%5Cu003c/a%5Cu003e%22%2C%20%22detectRetina%22%3A%20false%2C%20%22maxNativeZoom%22%3A%2018%2C%20%22maxZoom%22%3A%2018%2C%20%22minZoom%22%3A%200%2C%20%22noWrap%22%3A%20false%2C%20%22opacity%22%3A%201%2C%20%22subdomains%22%3A%20%22abc%22%2C%20%22tms%22%3A%20false%7D%0A%20%20%20%20%20%20%20%20%20%20%20%20%29.addTo%28map_97fdc74a68ce443babcb20afbf8c9157%29%3B%0A%20%20%20%20%20%20%20%20%0A%20%20%20%20%0A%20%20%20%20%20%20%20%20%20%20%20%20var%20tile_layer_f6847b93c343480cb46e378bfd0aa5df%20%3D%20L.tileLayer%28%0A%20%20%20%20%20%20%20%20%20%20%20%20%20%20%20%20%22https%3A//earthengine.googleapis.com/v1alpha/projects/earthengine-legacy/maps/fc048710092696a20170e05da48c8052-10538416a232d4e4351940196d2bd390/tiles/%7Bz%7D/%7Bx%7D/%7By%7D%22%2C%0A%20%20%20%20%20%20%20%20%20%20%20%20%20%20%20%20%7B%22attribution%22%3A%20%22Map%20Data%20%5Cu0026copy%3B%20%5Cu003ca%20href%3D%5C%22https%3A//earthengine.google.com/%5C%22%5Cu003eGoogle%20Earth%20Engine%5Cu003c/a%5Cu003e%22%2C%20%22detectRetina%22%3A%20false%2C%20%22maxNativeZoom%22%3A%2018%2C%20%22maxZoom%22%3A%2018%2C%20%22minZoom%22%3A%200%2C%20%22noWrap%22%3A%20false%2C%20%22opacity%22%3A%201%2C%20%22subdomains%22%3A%20%22abc%22%2C%20%22tms%22%3A%20false%7D%0A%20%20%20%20%20%20%20%20%20%20%20%20%29.addTo%28map_97fdc74a68ce443babcb20afbf8c9157%29%3B%0A%20%20%20%20%20%20%20%20%0A%20%20%20%20%0A%20%20%20%20%20%20%20%20%20%20%20%20var%20layer_control_b5b43fc0cf2749a7b044fe13aa562916%20%3D%20%7B%0A%20%20%20%20%20%20%20%20%20%20%20%20%20%20%20%20base_layers%20%3A%20%7B%0A%20%20%20%20%20%20%20%20%20%20%20%20%20%20%20%20%20%20%20%20%22openstreetmap%22%20%3A%20tile_layer_afa8c470103d412fba21ae9290b026e5%2C%0A%20%20%20%20%20%20%20%20%20%20%20%20%20%20%20%20%7D%2C%0A%20%20%20%20%20%20%20%20%20%20%20%20%20%20%20%20overlays%20%3A%20%20%7B%0A%20%20%20%20%20%20%20%20%20%20%20%20%20%20%20%20%20%20%20%20%22Masked%20NDVI%22%20%3A%20tile_layer_40b973109b9846c697efdddcf6fa6bdc%2C%0A%20%20%20%20%20%20%20%20%20%20%20%20%20%20%20%20%20%20%20%20%22Unmasked%20NDVI%22%20%3A%20tile_layer_90ee246a646043d285996b225ec52efa%2C%0A%20%20%20%20%20%20%20%20%20%20%20%20%20%20%20%20%20%20%20%20%22Normalized%20NDVI%20Difference%22%20%3A%20tile_layer_f6847b93c343480cb46e378bfd0aa5df%2C%0A%20%20%20%20%20%20%20%20%20%20%20%20%20%20%20%20%7D%2C%0A%20%20%20%20%20%20%20%20%20%20%20%20%7D%3B%0A%20%20%20%20%20%20%20%20%20%20%20%20L.control.layers%28%0A%20%20%20%20%20%20%20%20%20%20%20%20%20%20%20%20layer_control_b5b43fc0cf2749a7b044fe13aa562916.base_layers%2C%0A%20%20%20%20%20%20%20%20%20%20%20%20%20%20%20%20layer_control_b5b43fc0cf2749a7b044fe13aa562916.overlays%2C%0A%20%20%20%20%20%20%20%20%20%20%20%20%20%20%20%20%7B%22autoZIndex%22%3A%20true%2C%20%22collapsed%22%3A%20true%2C%20%22position%22%3A%20%22topright%22%7D%0A%20%20%20%20%20%20%20%20%20%20%20%20%29.addTo%28map_97fdc74a68ce443babcb20afbf8c9157%29%3B%0A%20%20%20%20%20%20%20%20%0A%3C/script%3E onload=\"this.contentDocument.open();this.contentDocument.write(    decodeURIComponent(this.getAttribute('data-html')));this.contentDocument.close();\" allowfullscreen webkitallowfullscreen mozallowfullscreen></iframe></div></div>"
      ],
      "text/plain": [
       "<folium.folium.Map at 0x148ec0ca0>"
      ]
     },
     "metadata": {},
     "output_type": "display_data"
    },
    {
     "name": "stdout",
     "output_type": "stream",
     "text": [
      "\n",
      " \n",
      "\n",
      "2019-10-01 - 2019-11-01\n"
     ]
    },
    {
     "data": {
      "text/html": [
       "<div style=\"width:100%;\"><div style=\"position:relative;width:100%;height:0;padding-bottom:60%;\"><span style=\"color:#565656\">Make this Notebook Trusted to load map: File -> Trust Notebook</span><iframe src=\"about:blank\" style=\"position:absolute;width:100%;height:100%;left:0;top:0;border:none !important;\" data-html=%3C%21DOCTYPE%20html%3E%0A%3Chead%3E%20%20%20%20%0A%20%20%20%20%3Cmeta%20http-equiv%3D%22content-type%22%20content%3D%22text/html%3B%20charset%3DUTF-8%22%20/%3E%0A%20%20%20%20%0A%20%20%20%20%20%20%20%20%3Cscript%3E%0A%20%20%20%20%20%20%20%20%20%20%20%20L_NO_TOUCH%20%3D%20false%3B%0A%20%20%20%20%20%20%20%20%20%20%20%20L_DISABLE_3D%20%3D%20false%3B%0A%20%20%20%20%20%20%20%20%3C/script%3E%0A%20%20%20%20%0A%20%20%20%20%3Cstyle%3Ehtml%2C%20body%20%7Bwidth%3A%20100%25%3Bheight%3A%20100%25%3Bmargin%3A%200%3Bpadding%3A%200%3B%7D%3C/style%3E%0A%20%20%20%20%3Cstyle%3E%23map%20%7Bposition%3Aabsolute%3Btop%3A0%3Bbottom%3A0%3Bright%3A0%3Bleft%3A0%3B%7D%3C/style%3E%0A%20%20%20%20%3Cscript%20src%3D%22https%3A//cdn.jsdelivr.net/npm/leaflet%401.6.0/dist/leaflet.js%22%3E%3C/script%3E%0A%20%20%20%20%3Cscript%20src%3D%22https%3A//code.jquery.com/jquery-1.12.4.min.js%22%3E%3C/script%3E%0A%20%20%20%20%3Cscript%20src%3D%22https%3A//maxcdn.bootstrapcdn.com/bootstrap/3.2.0/js/bootstrap.min.js%22%3E%3C/script%3E%0A%20%20%20%20%3Cscript%20src%3D%22https%3A//cdnjs.cloudflare.com/ajax/libs/Leaflet.awesome-markers/2.0.2/leaflet.awesome-markers.js%22%3E%3C/script%3E%0A%20%20%20%20%3Clink%20rel%3D%22stylesheet%22%20href%3D%22https%3A//cdn.jsdelivr.net/npm/leaflet%401.6.0/dist/leaflet.css%22/%3E%0A%20%20%20%20%3Clink%20rel%3D%22stylesheet%22%20href%3D%22https%3A//maxcdn.bootstrapcdn.com/bootstrap/3.2.0/css/bootstrap.min.css%22/%3E%0A%20%20%20%20%3Clink%20rel%3D%22stylesheet%22%20href%3D%22https%3A//maxcdn.bootstrapcdn.com/bootstrap/3.2.0/css/bootstrap-theme.min.css%22/%3E%0A%20%20%20%20%3Clink%20rel%3D%22stylesheet%22%20href%3D%22https%3A//maxcdn.bootstrapcdn.com/font-awesome/4.6.3/css/font-awesome.min.css%22/%3E%0A%20%20%20%20%3Clink%20rel%3D%22stylesheet%22%20href%3D%22https%3A//cdnjs.cloudflare.com/ajax/libs/Leaflet.awesome-markers/2.0.2/leaflet.awesome-markers.css%22/%3E%0A%20%20%20%20%3Clink%20rel%3D%22stylesheet%22%20href%3D%22https%3A//cdn.jsdelivr.net/gh/python-visualization/folium/folium/templates/leaflet.awesome.rotate.min.css%22/%3E%0A%20%20%20%20%0A%20%20%20%20%20%20%20%20%20%20%20%20%3Cmeta%20name%3D%22viewport%22%20content%3D%22width%3Ddevice-width%2C%0A%20%20%20%20%20%20%20%20%20%20%20%20%20%20%20%20initial-scale%3D1.0%2C%20maximum-scale%3D1.0%2C%20user-scalable%3Dno%22%20/%3E%0A%20%20%20%20%20%20%20%20%20%20%20%20%3Cstyle%3E%0A%20%20%20%20%20%20%20%20%20%20%20%20%20%20%20%20%23map_132db77dfc5a45b5af7f284a43518ca6%20%7B%0A%20%20%20%20%20%20%20%20%20%20%20%20%20%20%20%20%20%20%20%20position%3A%20relative%3B%0A%20%20%20%20%20%20%20%20%20%20%20%20%20%20%20%20%20%20%20%20width%3A%20100.0%25%3B%0A%20%20%20%20%20%20%20%20%20%20%20%20%20%20%20%20%20%20%20%20height%3A%20100.0%25%3B%0A%20%20%20%20%20%20%20%20%20%20%20%20%20%20%20%20%20%20%20%20left%3A%200.0%25%3B%0A%20%20%20%20%20%20%20%20%20%20%20%20%20%20%20%20%20%20%20%20top%3A%200.0%25%3B%0A%20%20%20%20%20%20%20%20%20%20%20%20%20%20%20%20%7D%0A%20%20%20%20%20%20%20%20%20%20%20%20%3C/style%3E%0A%20%20%20%20%20%20%20%20%0A%3C/head%3E%0A%3Cbody%3E%20%20%20%20%0A%20%20%20%20%0A%20%20%20%20%20%20%20%20%20%20%20%20%3Cdiv%20class%3D%22folium-map%22%20id%3D%22map_132db77dfc5a45b5af7f284a43518ca6%22%20%3E%3C/div%3E%0A%20%20%20%20%20%20%20%20%0A%3C/body%3E%0A%3Cscript%3E%20%20%20%20%0A%20%20%20%20%0A%20%20%20%20%20%20%20%20%20%20%20%20var%20map_132db77dfc5a45b5af7f284a43518ca6%20%3D%20L.map%28%0A%20%20%20%20%20%20%20%20%20%20%20%20%20%20%20%20%22map_132db77dfc5a45b5af7f284a43518ca6%22%2C%0A%20%20%20%20%20%20%20%20%20%20%20%20%20%20%20%20%7B%0A%20%20%20%20%20%20%20%20%20%20%20%20%20%20%20%20%20%20%20%20center%3A%20%5B-19.705570084543737%2C%2044.70292749999976%5D%2C%0A%20%20%20%20%20%20%20%20%20%20%20%20%20%20%20%20%20%20%20%20crs%3A%20L.CRS.EPSG3857%2C%0A%20%20%20%20%20%20%20%20%20%20%20%20%20%20%20%20%20%20%20%20zoom%3A%2010%2C%0A%20%20%20%20%20%20%20%20%20%20%20%20%20%20%20%20%20%20%20%20zoomControl%3A%20true%2C%0A%20%20%20%20%20%20%20%20%20%20%20%20%20%20%20%20%20%20%20%20preferCanvas%3A%20false%2C%0A%20%20%20%20%20%20%20%20%20%20%20%20%20%20%20%20%7D%0A%20%20%20%20%20%20%20%20%20%20%20%20%29%3B%0A%0A%20%20%20%20%20%20%20%20%20%20%20%20%0A%0A%20%20%20%20%20%20%20%20%0A%20%20%20%20%0A%20%20%20%20%20%20%20%20%20%20%20%20var%20tile_layer_b76509b26d44487fb7fd2fc59201682a%20%3D%20L.tileLayer%28%0A%20%20%20%20%20%20%20%20%20%20%20%20%20%20%20%20%22https%3A//%7Bs%7D.tile.openstreetmap.org/%7Bz%7D/%7Bx%7D/%7By%7D.png%22%2C%0A%20%20%20%20%20%20%20%20%20%20%20%20%20%20%20%20%7B%22attribution%22%3A%20%22Data%20by%20%5Cu0026copy%3B%20%5Cu003ca%20href%3D%5C%22http%3A//openstreetmap.org%5C%22%5Cu003eOpenStreetMap%5Cu003c/a%5Cu003e%2C%20under%20%5Cu003ca%20href%3D%5C%22http%3A//www.openstreetmap.org/copyright%5C%22%5Cu003eODbL%5Cu003c/a%5Cu003e.%22%2C%20%22detectRetina%22%3A%20false%2C%20%22maxNativeZoom%22%3A%2018%2C%20%22maxZoom%22%3A%2018%2C%20%22minZoom%22%3A%200%2C%20%22noWrap%22%3A%20false%2C%20%22opacity%22%3A%201%2C%20%22subdomains%22%3A%20%22abc%22%2C%20%22tms%22%3A%20false%7D%0A%20%20%20%20%20%20%20%20%20%20%20%20%29.addTo%28map_132db77dfc5a45b5af7f284a43518ca6%29%3B%0A%20%20%20%20%20%20%20%20%0A%20%20%20%20%0A%20%20%20%20%20%20%20%20%20%20%20%20var%20tile_layer_9abf643456a54639bf7ed623777aaceb%20%3D%20L.tileLayer%28%0A%20%20%20%20%20%20%20%20%20%20%20%20%20%20%20%20%22https%3A//earthengine.googleapis.com/v1alpha/projects/earthengine-legacy/maps/f72e26d81cc2978f823aef63939121e6-f0b7dcf97fb1abf3be6ca1892c5bcb5e/tiles/%7Bz%7D/%7Bx%7D/%7By%7D%22%2C%0A%20%20%20%20%20%20%20%20%20%20%20%20%20%20%20%20%7B%22attribution%22%3A%20%22Map%20Data%20%5Cu0026copy%3B%20%5Cu003ca%20href%3D%5C%22https%3A//earthengine.google.com/%5C%22%5Cu003eGoogle%20Earth%20Engine%5Cu003c/a%5Cu003e%22%2C%20%22detectRetina%22%3A%20false%2C%20%22maxNativeZoom%22%3A%2018%2C%20%22maxZoom%22%3A%2018%2C%20%22minZoom%22%3A%200%2C%20%22noWrap%22%3A%20false%2C%20%22opacity%22%3A%201%2C%20%22subdomains%22%3A%20%22abc%22%2C%20%22tms%22%3A%20false%7D%0A%20%20%20%20%20%20%20%20%20%20%20%20%29.addTo%28map_132db77dfc5a45b5af7f284a43518ca6%29%3B%0A%20%20%20%20%20%20%20%20%0A%20%20%20%20%0A%20%20%20%20%20%20%20%20%20%20%20%20var%20tile_layer_bbae083097984169954a847aee8701e8%20%3D%20L.tileLayer%28%0A%20%20%20%20%20%20%20%20%20%20%20%20%20%20%20%20%22https%3A//earthengine.googleapis.com/v1alpha/projects/earthengine-legacy/maps/b95d6314721339e602a0ff7e29310588-576d09e2a6d73e6162c19a79e9d34581/tiles/%7Bz%7D/%7Bx%7D/%7By%7D%22%2C%0A%20%20%20%20%20%20%20%20%20%20%20%20%20%20%20%20%7B%22attribution%22%3A%20%22Map%20Data%20%5Cu0026copy%3B%20%5Cu003ca%20href%3D%5C%22https%3A//earthengine.google.com/%5C%22%5Cu003eGoogle%20Earth%20Engine%5Cu003c/a%5Cu003e%22%2C%20%22detectRetina%22%3A%20false%2C%20%22maxNativeZoom%22%3A%2018%2C%20%22maxZoom%22%3A%2018%2C%20%22minZoom%22%3A%200%2C%20%22noWrap%22%3A%20false%2C%20%22opacity%22%3A%201%2C%20%22subdomains%22%3A%20%22abc%22%2C%20%22tms%22%3A%20false%7D%0A%20%20%20%20%20%20%20%20%20%20%20%20%29.addTo%28map_132db77dfc5a45b5af7f284a43518ca6%29%3B%0A%20%20%20%20%20%20%20%20%0A%20%20%20%20%0A%20%20%20%20%20%20%20%20%20%20%20%20var%20tile_layer_3e261100088541fa8c606920beacc19f%20%3D%20L.tileLayer%28%0A%20%20%20%20%20%20%20%20%20%20%20%20%20%20%20%20%22https%3A//earthengine.googleapis.com/v1alpha/projects/earthengine-legacy/maps/c06c1dba4a9e23184ced6d4ffafb21cb-0f334313a9561b0983c2717459af87d7/tiles/%7Bz%7D/%7Bx%7D/%7By%7D%22%2C%0A%20%20%20%20%20%20%20%20%20%20%20%20%20%20%20%20%7B%22attribution%22%3A%20%22Map%20Data%20%5Cu0026copy%3B%20%5Cu003ca%20href%3D%5C%22https%3A//earthengine.google.com/%5C%22%5Cu003eGoogle%20Earth%20Engine%5Cu003c/a%5Cu003e%22%2C%20%22detectRetina%22%3A%20false%2C%20%22maxNativeZoom%22%3A%2018%2C%20%22maxZoom%22%3A%2018%2C%20%22minZoom%22%3A%200%2C%20%22noWrap%22%3A%20false%2C%20%22opacity%22%3A%201%2C%20%22subdomains%22%3A%20%22abc%22%2C%20%22tms%22%3A%20false%7D%0A%20%20%20%20%20%20%20%20%20%20%20%20%29.addTo%28map_132db77dfc5a45b5af7f284a43518ca6%29%3B%0A%20%20%20%20%20%20%20%20%0A%20%20%20%20%0A%20%20%20%20%20%20%20%20%20%20%20%20var%20layer_control_010ce96060ca4a01a41842e8e0c60a1f%20%3D%20%7B%0A%20%20%20%20%20%20%20%20%20%20%20%20%20%20%20%20base_layers%20%3A%20%7B%0A%20%20%20%20%20%20%20%20%20%20%20%20%20%20%20%20%20%20%20%20%22openstreetmap%22%20%3A%20tile_layer_b76509b26d44487fb7fd2fc59201682a%2C%0A%20%20%20%20%20%20%20%20%20%20%20%20%20%20%20%20%7D%2C%0A%20%20%20%20%20%20%20%20%20%20%20%20%20%20%20%20overlays%20%3A%20%20%7B%0A%20%20%20%20%20%20%20%20%20%20%20%20%20%20%20%20%20%20%20%20%22Masked%20NDVI%22%20%3A%20tile_layer_9abf643456a54639bf7ed623777aaceb%2C%0A%20%20%20%20%20%20%20%20%20%20%20%20%20%20%20%20%20%20%20%20%22Unmasked%20NDVI%22%20%3A%20tile_layer_bbae083097984169954a847aee8701e8%2C%0A%20%20%20%20%20%20%20%20%20%20%20%20%20%20%20%20%20%20%20%20%22Normalized%20NDVI%20Difference%22%20%3A%20tile_layer_3e261100088541fa8c606920beacc19f%2C%0A%20%20%20%20%20%20%20%20%20%20%20%20%20%20%20%20%7D%2C%0A%20%20%20%20%20%20%20%20%20%20%20%20%7D%3B%0A%20%20%20%20%20%20%20%20%20%20%20%20L.control.layers%28%0A%20%20%20%20%20%20%20%20%20%20%20%20%20%20%20%20layer_control_010ce96060ca4a01a41842e8e0c60a1f.base_layers%2C%0A%20%20%20%20%20%20%20%20%20%20%20%20%20%20%20%20layer_control_010ce96060ca4a01a41842e8e0c60a1f.overlays%2C%0A%20%20%20%20%20%20%20%20%20%20%20%20%20%20%20%20%7B%22autoZIndex%22%3A%20true%2C%20%22collapsed%22%3A%20true%2C%20%22position%22%3A%20%22topright%22%7D%0A%20%20%20%20%20%20%20%20%20%20%20%20%29.addTo%28map_132db77dfc5a45b5af7f284a43518ca6%29%3B%0A%20%20%20%20%20%20%20%20%0A%3C/script%3E onload=\"this.contentDocument.open();this.contentDocument.write(    decodeURIComponent(this.getAttribute('data-html')));this.contentDocument.close();\" allowfullscreen webkitallowfullscreen mozallowfullscreen></iframe></div></div>"
      ],
      "text/plain": [
       "<folium.folium.Map at 0x13e489f70>"
      ]
     },
     "metadata": {},
     "output_type": "display_data"
    },
    {
     "name": "stdout",
     "output_type": "stream",
     "text": [
      "\n",
      " \n",
      "\n",
      "2019-11-01 - 2019-12-01\n"
     ]
    },
    {
     "data": {
      "text/html": [
       "<div style=\"width:100%;\"><div style=\"position:relative;width:100%;height:0;padding-bottom:60%;\"><span style=\"color:#565656\">Make this Notebook Trusted to load map: File -> Trust Notebook</span><iframe src=\"about:blank\" style=\"position:absolute;width:100%;height:100%;left:0;top:0;border:none !important;\" data-html=%3C%21DOCTYPE%20html%3E%0A%3Chead%3E%20%20%20%20%0A%20%20%20%20%3Cmeta%20http-equiv%3D%22content-type%22%20content%3D%22text/html%3B%20charset%3DUTF-8%22%20/%3E%0A%20%20%20%20%0A%20%20%20%20%20%20%20%20%3Cscript%3E%0A%20%20%20%20%20%20%20%20%20%20%20%20L_NO_TOUCH%20%3D%20false%3B%0A%20%20%20%20%20%20%20%20%20%20%20%20L_DISABLE_3D%20%3D%20false%3B%0A%20%20%20%20%20%20%20%20%3C/script%3E%0A%20%20%20%20%0A%20%20%20%20%3Cstyle%3Ehtml%2C%20body%20%7Bwidth%3A%20100%25%3Bheight%3A%20100%25%3Bmargin%3A%200%3Bpadding%3A%200%3B%7D%3C/style%3E%0A%20%20%20%20%3Cstyle%3E%23map%20%7Bposition%3Aabsolute%3Btop%3A0%3Bbottom%3A0%3Bright%3A0%3Bleft%3A0%3B%7D%3C/style%3E%0A%20%20%20%20%3Cscript%20src%3D%22https%3A//cdn.jsdelivr.net/npm/leaflet%401.6.0/dist/leaflet.js%22%3E%3C/script%3E%0A%20%20%20%20%3Cscript%20src%3D%22https%3A//code.jquery.com/jquery-1.12.4.min.js%22%3E%3C/script%3E%0A%20%20%20%20%3Cscript%20src%3D%22https%3A//maxcdn.bootstrapcdn.com/bootstrap/3.2.0/js/bootstrap.min.js%22%3E%3C/script%3E%0A%20%20%20%20%3Cscript%20src%3D%22https%3A//cdnjs.cloudflare.com/ajax/libs/Leaflet.awesome-markers/2.0.2/leaflet.awesome-markers.js%22%3E%3C/script%3E%0A%20%20%20%20%3Clink%20rel%3D%22stylesheet%22%20href%3D%22https%3A//cdn.jsdelivr.net/npm/leaflet%401.6.0/dist/leaflet.css%22/%3E%0A%20%20%20%20%3Clink%20rel%3D%22stylesheet%22%20href%3D%22https%3A//maxcdn.bootstrapcdn.com/bootstrap/3.2.0/css/bootstrap.min.css%22/%3E%0A%20%20%20%20%3Clink%20rel%3D%22stylesheet%22%20href%3D%22https%3A//maxcdn.bootstrapcdn.com/bootstrap/3.2.0/css/bootstrap-theme.min.css%22/%3E%0A%20%20%20%20%3Clink%20rel%3D%22stylesheet%22%20href%3D%22https%3A//maxcdn.bootstrapcdn.com/font-awesome/4.6.3/css/font-awesome.min.css%22/%3E%0A%20%20%20%20%3Clink%20rel%3D%22stylesheet%22%20href%3D%22https%3A//cdnjs.cloudflare.com/ajax/libs/Leaflet.awesome-markers/2.0.2/leaflet.awesome-markers.css%22/%3E%0A%20%20%20%20%3Clink%20rel%3D%22stylesheet%22%20href%3D%22https%3A//cdn.jsdelivr.net/gh/python-visualization/folium/folium/templates/leaflet.awesome.rotate.min.css%22/%3E%0A%20%20%20%20%0A%20%20%20%20%20%20%20%20%20%20%20%20%3Cmeta%20name%3D%22viewport%22%20content%3D%22width%3Ddevice-width%2C%0A%20%20%20%20%20%20%20%20%20%20%20%20%20%20%20%20initial-scale%3D1.0%2C%20maximum-scale%3D1.0%2C%20user-scalable%3Dno%22%20/%3E%0A%20%20%20%20%20%20%20%20%20%20%20%20%3Cstyle%3E%0A%20%20%20%20%20%20%20%20%20%20%20%20%20%20%20%20%23map_9b4f95cdfd7440a19d07549544e6d9b6%20%7B%0A%20%20%20%20%20%20%20%20%20%20%20%20%20%20%20%20%20%20%20%20position%3A%20relative%3B%0A%20%20%20%20%20%20%20%20%20%20%20%20%20%20%20%20%20%20%20%20width%3A%20100.0%25%3B%0A%20%20%20%20%20%20%20%20%20%20%20%20%20%20%20%20%20%20%20%20height%3A%20100.0%25%3B%0A%20%20%20%20%20%20%20%20%20%20%20%20%20%20%20%20%20%20%20%20left%3A%200.0%25%3B%0A%20%20%20%20%20%20%20%20%20%20%20%20%20%20%20%20%20%20%20%20top%3A%200.0%25%3B%0A%20%20%20%20%20%20%20%20%20%20%20%20%20%20%20%20%7D%0A%20%20%20%20%20%20%20%20%20%20%20%20%3C/style%3E%0A%20%20%20%20%20%20%20%20%0A%3C/head%3E%0A%3Cbody%3E%20%20%20%20%0A%20%20%20%20%0A%20%20%20%20%20%20%20%20%20%20%20%20%3Cdiv%20class%3D%22folium-map%22%20id%3D%22map_9b4f95cdfd7440a19d07549544e6d9b6%22%20%3E%3C/div%3E%0A%20%20%20%20%20%20%20%20%0A%3C/body%3E%0A%3Cscript%3E%20%20%20%20%0A%20%20%20%20%0A%20%20%20%20%20%20%20%20%20%20%20%20var%20map_9b4f95cdfd7440a19d07549544e6d9b6%20%3D%20L.map%28%0A%20%20%20%20%20%20%20%20%20%20%20%20%20%20%20%20%22map_9b4f95cdfd7440a19d07549544e6d9b6%22%2C%0A%20%20%20%20%20%20%20%20%20%20%20%20%20%20%20%20%7B%0A%20%20%20%20%20%20%20%20%20%20%20%20%20%20%20%20%20%20%20%20center%3A%20%5B-19.705570084543737%2C%2044.70292749999976%5D%2C%0A%20%20%20%20%20%20%20%20%20%20%20%20%20%20%20%20%20%20%20%20crs%3A%20L.CRS.EPSG3857%2C%0A%20%20%20%20%20%20%20%20%20%20%20%20%20%20%20%20%20%20%20%20zoom%3A%2010%2C%0A%20%20%20%20%20%20%20%20%20%20%20%20%20%20%20%20%20%20%20%20zoomControl%3A%20true%2C%0A%20%20%20%20%20%20%20%20%20%20%20%20%20%20%20%20%20%20%20%20preferCanvas%3A%20false%2C%0A%20%20%20%20%20%20%20%20%20%20%20%20%20%20%20%20%7D%0A%20%20%20%20%20%20%20%20%20%20%20%20%29%3B%0A%0A%20%20%20%20%20%20%20%20%20%20%20%20%0A%0A%20%20%20%20%20%20%20%20%0A%20%20%20%20%0A%20%20%20%20%20%20%20%20%20%20%20%20var%20tile_layer_dec5979104d84597b41cbc4b36daaa5c%20%3D%20L.tileLayer%28%0A%20%20%20%20%20%20%20%20%20%20%20%20%20%20%20%20%22https%3A//%7Bs%7D.tile.openstreetmap.org/%7Bz%7D/%7Bx%7D/%7By%7D.png%22%2C%0A%20%20%20%20%20%20%20%20%20%20%20%20%20%20%20%20%7B%22attribution%22%3A%20%22Data%20by%20%5Cu0026copy%3B%20%5Cu003ca%20href%3D%5C%22http%3A//openstreetmap.org%5C%22%5Cu003eOpenStreetMap%5Cu003c/a%5Cu003e%2C%20under%20%5Cu003ca%20href%3D%5C%22http%3A//www.openstreetmap.org/copyright%5C%22%5Cu003eODbL%5Cu003c/a%5Cu003e.%22%2C%20%22detectRetina%22%3A%20false%2C%20%22maxNativeZoom%22%3A%2018%2C%20%22maxZoom%22%3A%2018%2C%20%22minZoom%22%3A%200%2C%20%22noWrap%22%3A%20false%2C%20%22opacity%22%3A%201%2C%20%22subdomains%22%3A%20%22abc%22%2C%20%22tms%22%3A%20false%7D%0A%20%20%20%20%20%20%20%20%20%20%20%20%29.addTo%28map_9b4f95cdfd7440a19d07549544e6d9b6%29%3B%0A%20%20%20%20%20%20%20%20%0A%20%20%20%20%0A%20%20%20%20%20%20%20%20%20%20%20%20var%20tile_layer_b2dee343243c4590a94600836c77fd28%20%3D%20L.tileLayer%28%0A%20%20%20%20%20%20%20%20%20%20%20%20%20%20%20%20%22https%3A//earthengine.googleapis.com/v1alpha/projects/earthengine-legacy/maps/d215ca6623e4505c73b6e466e0144bb9-ce8888e0fb67f5a08d51aa1f07881f31/tiles/%7Bz%7D/%7Bx%7D/%7By%7D%22%2C%0A%20%20%20%20%20%20%20%20%20%20%20%20%20%20%20%20%7B%22attribution%22%3A%20%22Map%20Data%20%5Cu0026copy%3B%20%5Cu003ca%20href%3D%5C%22https%3A//earthengine.google.com/%5C%22%5Cu003eGoogle%20Earth%20Engine%5Cu003c/a%5Cu003e%22%2C%20%22detectRetina%22%3A%20false%2C%20%22maxNativeZoom%22%3A%2018%2C%20%22maxZoom%22%3A%2018%2C%20%22minZoom%22%3A%200%2C%20%22noWrap%22%3A%20false%2C%20%22opacity%22%3A%201%2C%20%22subdomains%22%3A%20%22abc%22%2C%20%22tms%22%3A%20false%7D%0A%20%20%20%20%20%20%20%20%20%20%20%20%29.addTo%28map_9b4f95cdfd7440a19d07549544e6d9b6%29%3B%0A%20%20%20%20%20%20%20%20%0A%20%20%20%20%0A%20%20%20%20%20%20%20%20%20%20%20%20var%20tile_layer_4e3f7bc0b94e4f5994d360760e5e6789%20%3D%20L.tileLayer%28%0A%20%20%20%20%20%20%20%20%20%20%20%20%20%20%20%20%22https%3A//earthengine.googleapis.com/v1alpha/projects/earthengine-legacy/maps/049cb6369ba89bad42088b44da75f0a0-1cf3b88b224d5b78ebe439aed1add0ab/tiles/%7Bz%7D/%7Bx%7D/%7By%7D%22%2C%0A%20%20%20%20%20%20%20%20%20%20%20%20%20%20%20%20%7B%22attribution%22%3A%20%22Map%20Data%20%5Cu0026copy%3B%20%5Cu003ca%20href%3D%5C%22https%3A//earthengine.google.com/%5C%22%5Cu003eGoogle%20Earth%20Engine%5Cu003c/a%5Cu003e%22%2C%20%22detectRetina%22%3A%20false%2C%20%22maxNativeZoom%22%3A%2018%2C%20%22maxZoom%22%3A%2018%2C%20%22minZoom%22%3A%200%2C%20%22noWrap%22%3A%20false%2C%20%22opacity%22%3A%201%2C%20%22subdomains%22%3A%20%22abc%22%2C%20%22tms%22%3A%20false%7D%0A%20%20%20%20%20%20%20%20%20%20%20%20%29.addTo%28map_9b4f95cdfd7440a19d07549544e6d9b6%29%3B%0A%20%20%20%20%20%20%20%20%0A%20%20%20%20%0A%20%20%20%20%20%20%20%20%20%20%20%20var%20tile_layer_9e5d1acd787c4fb68fcaccba53e426a0%20%3D%20L.tileLayer%28%0A%20%20%20%20%20%20%20%20%20%20%20%20%20%20%20%20%22https%3A//earthengine.googleapis.com/v1alpha/projects/earthengine-legacy/maps/ed3e7691016a86f1aa4e6fcd80023cb5-2c317aad645c1746849ded2dfc1e888f/tiles/%7Bz%7D/%7Bx%7D/%7By%7D%22%2C%0A%20%20%20%20%20%20%20%20%20%20%20%20%20%20%20%20%7B%22attribution%22%3A%20%22Map%20Data%20%5Cu0026copy%3B%20%5Cu003ca%20href%3D%5C%22https%3A//earthengine.google.com/%5C%22%5Cu003eGoogle%20Earth%20Engine%5Cu003c/a%5Cu003e%22%2C%20%22detectRetina%22%3A%20false%2C%20%22maxNativeZoom%22%3A%2018%2C%20%22maxZoom%22%3A%2018%2C%20%22minZoom%22%3A%200%2C%20%22noWrap%22%3A%20false%2C%20%22opacity%22%3A%201%2C%20%22subdomains%22%3A%20%22abc%22%2C%20%22tms%22%3A%20false%7D%0A%20%20%20%20%20%20%20%20%20%20%20%20%29.addTo%28map_9b4f95cdfd7440a19d07549544e6d9b6%29%3B%0A%20%20%20%20%20%20%20%20%0A%20%20%20%20%0A%20%20%20%20%20%20%20%20%20%20%20%20var%20layer_control_1b6626ed7db645fc916446387aeb499d%20%3D%20%7B%0A%20%20%20%20%20%20%20%20%20%20%20%20%20%20%20%20base_layers%20%3A%20%7B%0A%20%20%20%20%20%20%20%20%20%20%20%20%20%20%20%20%20%20%20%20%22openstreetmap%22%20%3A%20tile_layer_dec5979104d84597b41cbc4b36daaa5c%2C%0A%20%20%20%20%20%20%20%20%20%20%20%20%20%20%20%20%7D%2C%0A%20%20%20%20%20%20%20%20%20%20%20%20%20%20%20%20overlays%20%3A%20%20%7B%0A%20%20%20%20%20%20%20%20%20%20%20%20%20%20%20%20%20%20%20%20%22Masked%20NDVI%22%20%3A%20tile_layer_b2dee343243c4590a94600836c77fd28%2C%0A%20%20%20%20%20%20%20%20%20%20%20%20%20%20%20%20%20%20%20%20%22Unmasked%20NDVI%22%20%3A%20tile_layer_4e3f7bc0b94e4f5994d360760e5e6789%2C%0A%20%20%20%20%20%20%20%20%20%20%20%20%20%20%20%20%20%20%20%20%22Normalized%20NDVI%20Difference%22%20%3A%20tile_layer_9e5d1acd787c4fb68fcaccba53e426a0%2C%0A%20%20%20%20%20%20%20%20%20%20%20%20%20%20%20%20%7D%2C%0A%20%20%20%20%20%20%20%20%20%20%20%20%7D%3B%0A%20%20%20%20%20%20%20%20%20%20%20%20L.control.layers%28%0A%20%20%20%20%20%20%20%20%20%20%20%20%20%20%20%20layer_control_1b6626ed7db645fc916446387aeb499d.base_layers%2C%0A%20%20%20%20%20%20%20%20%20%20%20%20%20%20%20%20layer_control_1b6626ed7db645fc916446387aeb499d.overlays%2C%0A%20%20%20%20%20%20%20%20%20%20%20%20%20%20%20%20%7B%22autoZIndex%22%3A%20true%2C%20%22collapsed%22%3A%20true%2C%20%22position%22%3A%20%22topright%22%7D%0A%20%20%20%20%20%20%20%20%20%20%20%20%29.addTo%28map_9b4f95cdfd7440a19d07549544e6d9b6%29%3B%0A%20%20%20%20%20%20%20%20%0A%3C/script%3E onload=\"this.contentDocument.open();this.contentDocument.write(    decodeURIComponent(this.getAttribute('data-html')));this.contentDocument.close();\" allowfullscreen webkitallowfullscreen mozallowfullscreen></iframe></div></div>"
      ],
      "text/plain": [
       "<folium.folium.Map at 0x148ec07c0>"
      ]
     },
     "metadata": {},
     "output_type": "display_data"
    },
    {
     "name": "stdout",
     "output_type": "stream",
     "text": [
      "\n",
      " \n",
      "\n",
      "2019-12-01 - 2020-01-01\n"
     ]
    },
    {
     "data": {
      "text/html": [
       "<div style=\"width:100%;\"><div style=\"position:relative;width:100%;height:0;padding-bottom:60%;\"><span style=\"color:#565656\">Make this Notebook Trusted to load map: File -> Trust Notebook</span><iframe src=\"about:blank\" style=\"position:absolute;width:100%;height:100%;left:0;top:0;border:none !important;\" data-html=%3C%21DOCTYPE%20html%3E%0A%3Chead%3E%20%20%20%20%0A%20%20%20%20%3Cmeta%20http-equiv%3D%22content-type%22%20content%3D%22text/html%3B%20charset%3DUTF-8%22%20/%3E%0A%20%20%20%20%0A%20%20%20%20%20%20%20%20%3Cscript%3E%0A%20%20%20%20%20%20%20%20%20%20%20%20L_NO_TOUCH%20%3D%20false%3B%0A%20%20%20%20%20%20%20%20%20%20%20%20L_DISABLE_3D%20%3D%20false%3B%0A%20%20%20%20%20%20%20%20%3C/script%3E%0A%20%20%20%20%0A%20%20%20%20%3Cstyle%3Ehtml%2C%20body%20%7Bwidth%3A%20100%25%3Bheight%3A%20100%25%3Bmargin%3A%200%3Bpadding%3A%200%3B%7D%3C/style%3E%0A%20%20%20%20%3Cstyle%3E%23map%20%7Bposition%3Aabsolute%3Btop%3A0%3Bbottom%3A0%3Bright%3A0%3Bleft%3A0%3B%7D%3C/style%3E%0A%20%20%20%20%3Cscript%20src%3D%22https%3A//cdn.jsdelivr.net/npm/leaflet%401.6.0/dist/leaflet.js%22%3E%3C/script%3E%0A%20%20%20%20%3Cscript%20src%3D%22https%3A//code.jquery.com/jquery-1.12.4.min.js%22%3E%3C/script%3E%0A%20%20%20%20%3Cscript%20src%3D%22https%3A//maxcdn.bootstrapcdn.com/bootstrap/3.2.0/js/bootstrap.min.js%22%3E%3C/script%3E%0A%20%20%20%20%3Cscript%20src%3D%22https%3A//cdnjs.cloudflare.com/ajax/libs/Leaflet.awesome-markers/2.0.2/leaflet.awesome-markers.js%22%3E%3C/script%3E%0A%20%20%20%20%3Clink%20rel%3D%22stylesheet%22%20href%3D%22https%3A//cdn.jsdelivr.net/npm/leaflet%401.6.0/dist/leaflet.css%22/%3E%0A%20%20%20%20%3Clink%20rel%3D%22stylesheet%22%20href%3D%22https%3A//maxcdn.bootstrapcdn.com/bootstrap/3.2.0/css/bootstrap.min.css%22/%3E%0A%20%20%20%20%3Clink%20rel%3D%22stylesheet%22%20href%3D%22https%3A//maxcdn.bootstrapcdn.com/bootstrap/3.2.0/css/bootstrap-theme.min.css%22/%3E%0A%20%20%20%20%3Clink%20rel%3D%22stylesheet%22%20href%3D%22https%3A//maxcdn.bootstrapcdn.com/font-awesome/4.6.3/css/font-awesome.min.css%22/%3E%0A%20%20%20%20%3Clink%20rel%3D%22stylesheet%22%20href%3D%22https%3A//cdnjs.cloudflare.com/ajax/libs/Leaflet.awesome-markers/2.0.2/leaflet.awesome-markers.css%22/%3E%0A%20%20%20%20%3Clink%20rel%3D%22stylesheet%22%20href%3D%22https%3A//cdn.jsdelivr.net/gh/python-visualization/folium/folium/templates/leaflet.awesome.rotate.min.css%22/%3E%0A%20%20%20%20%0A%20%20%20%20%20%20%20%20%20%20%20%20%3Cmeta%20name%3D%22viewport%22%20content%3D%22width%3Ddevice-width%2C%0A%20%20%20%20%20%20%20%20%20%20%20%20%20%20%20%20initial-scale%3D1.0%2C%20maximum-scale%3D1.0%2C%20user-scalable%3Dno%22%20/%3E%0A%20%20%20%20%20%20%20%20%20%20%20%20%3Cstyle%3E%0A%20%20%20%20%20%20%20%20%20%20%20%20%20%20%20%20%23map_5016c86b144f4d1f8c88897321235e62%20%7B%0A%20%20%20%20%20%20%20%20%20%20%20%20%20%20%20%20%20%20%20%20position%3A%20relative%3B%0A%20%20%20%20%20%20%20%20%20%20%20%20%20%20%20%20%20%20%20%20width%3A%20100.0%25%3B%0A%20%20%20%20%20%20%20%20%20%20%20%20%20%20%20%20%20%20%20%20height%3A%20100.0%25%3B%0A%20%20%20%20%20%20%20%20%20%20%20%20%20%20%20%20%20%20%20%20left%3A%200.0%25%3B%0A%20%20%20%20%20%20%20%20%20%20%20%20%20%20%20%20%20%20%20%20top%3A%200.0%25%3B%0A%20%20%20%20%20%20%20%20%20%20%20%20%20%20%20%20%7D%0A%20%20%20%20%20%20%20%20%20%20%20%20%3C/style%3E%0A%20%20%20%20%20%20%20%20%0A%3C/head%3E%0A%3Cbody%3E%20%20%20%20%0A%20%20%20%20%0A%20%20%20%20%20%20%20%20%20%20%20%20%3Cdiv%20class%3D%22folium-map%22%20id%3D%22map_5016c86b144f4d1f8c88897321235e62%22%20%3E%3C/div%3E%0A%20%20%20%20%20%20%20%20%0A%3C/body%3E%0A%3Cscript%3E%20%20%20%20%0A%20%20%20%20%0A%20%20%20%20%20%20%20%20%20%20%20%20var%20map_5016c86b144f4d1f8c88897321235e62%20%3D%20L.map%28%0A%20%20%20%20%20%20%20%20%20%20%20%20%20%20%20%20%22map_5016c86b144f4d1f8c88897321235e62%22%2C%0A%20%20%20%20%20%20%20%20%20%20%20%20%20%20%20%20%7B%0A%20%20%20%20%20%20%20%20%20%20%20%20%20%20%20%20%20%20%20%20center%3A%20%5B-19.705570084543737%2C%2044.70292749999976%5D%2C%0A%20%20%20%20%20%20%20%20%20%20%20%20%20%20%20%20%20%20%20%20crs%3A%20L.CRS.EPSG3857%2C%0A%20%20%20%20%20%20%20%20%20%20%20%20%20%20%20%20%20%20%20%20zoom%3A%2010%2C%0A%20%20%20%20%20%20%20%20%20%20%20%20%20%20%20%20%20%20%20%20zoomControl%3A%20true%2C%0A%20%20%20%20%20%20%20%20%20%20%20%20%20%20%20%20%20%20%20%20preferCanvas%3A%20false%2C%0A%20%20%20%20%20%20%20%20%20%20%20%20%20%20%20%20%7D%0A%20%20%20%20%20%20%20%20%20%20%20%20%29%3B%0A%0A%20%20%20%20%20%20%20%20%20%20%20%20%0A%0A%20%20%20%20%20%20%20%20%0A%20%20%20%20%0A%20%20%20%20%20%20%20%20%20%20%20%20var%20tile_layer_0e432808d15c4ed88633bba9ec453d7a%20%3D%20L.tileLayer%28%0A%20%20%20%20%20%20%20%20%20%20%20%20%20%20%20%20%22https%3A//%7Bs%7D.tile.openstreetmap.org/%7Bz%7D/%7Bx%7D/%7By%7D.png%22%2C%0A%20%20%20%20%20%20%20%20%20%20%20%20%20%20%20%20%7B%22attribution%22%3A%20%22Data%20by%20%5Cu0026copy%3B%20%5Cu003ca%20href%3D%5C%22http%3A//openstreetmap.org%5C%22%5Cu003eOpenStreetMap%5Cu003c/a%5Cu003e%2C%20under%20%5Cu003ca%20href%3D%5C%22http%3A//www.openstreetmap.org/copyright%5C%22%5Cu003eODbL%5Cu003c/a%5Cu003e.%22%2C%20%22detectRetina%22%3A%20false%2C%20%22maxNativeZoom%22%3A%2018%2C%20%22maxZoom%22%3A%2018%2C%20%22minZoom%22%3A%200%2C%20%22noWrap%22%3A%20false%2C%20%22opacity%22%3A%201%2C%20%22subdomains%22%3A%20%22abc%22%2C%20%22tms%22%3A%20false%7D%0A%20%20%20%20%20%20%20%20%20%20%20%20%29.addTo%28map_5016c86b144f4d1f8c88897321235e62%29%3B%0A%20%20%20%20%20%20%20%20%0A%20%20%20%20%0A%20%20%20%20%20%20%20%20%20%20%20%20var%20tile_layer_870be755cf2346d4a9fd8f54b6fcfd78%20%3D%20L.tileLayer%28%0A%20%20%20%20%20%20%20%20%20%20%20%20%20%20%20%20%22https%3A//earthengine.googleapis.com/v1alpha/projects/earthengine-legacy/maps/c9d82e21b677863bc246c0e4b7301986-093b5729835b23cb2e5832af7982e0ba/tiles/%7Bz%7D/%7Bx%7D/%7By%7D%22%2C%0A%20%20%20%20%20%20%20%20%20%20%20%20%20%20%20%20%7B%22attribution%22%3A%20%22Map%20Data%20%5Cu0026copy%3B%20%5Cu003ca%20href%3D%5C%22https%3A//earthengine.google.com/%5C%22%5Cu003eGoogle%20Earth%20Engine%5Cu003c/a%5Cu003e%22%2C%20%22detectRetina%22%3A%20false%2C%20%22maxNativeZoom%22%3A%2018%2C%20%22maxZoom%22%3A%2018%2C%20%22minZoom%22%3A%200%2C%20%22noWrap%22%3A%20false%2C%20%22opacity%22%3A%201%2C%20%22subdomains%22%3A%20%22abc%22%2C%20%22tms%22%3A%20false%7D%0A%20%20%20%20%20%20%20%20%20%20%20%20%29.addTo%28map_5016c86b144f4d1f8c88897321235e62%29%3B%0A%20%20%20%20%20%20%20%20%0A%20%20%20%20%0A%20%20%20%20%20%20%20%20%20%20%20%20var%20tile_layer_d4a4b73963574427a936248ef9d22a7c%20%3D%20L.tileLayer%28%0A%20%20%20%20%20%20%20%20%20%20%20%20%20%20%20%20%22https%3A//earthengine.googleapis.com/v1alpha/projects/earthengine-legacy/maps/b1eb852d23586fcc8205e7bd7e719639-5d297eca7708b21ace6bd62b59927783/tiles/%7Bz%7D/%7Bx%7D/%7By%7D%22%2C%0A%20%20%20%20%20%20%20%20%20%20%20%20%20%20%20%20%7B%22attribution%22%3A%20%22Map%20Data%20%5Cu0026copy%3B%20%5Cu003ca%20href%3D%5C%22https%3A//earthengine.google.com/%5C%22%5Cu003eGoogle%20Earth%20Engine%5Cu003c/a%5Cu003e%22%2C%20%22detectRetina%22%3A%20false%2C%20%22maxNativeZoom%22%3A%2018%2C%20%22maxZoom%22%3A%2018%2C%20%22minZoom%22%3A%200%2C%20%22noWrap%22%3A%20false%2C%20%22opacity%22%3A%201%2C%20%22subdomains%22%3A%20%22abc%22%2C%20%22tms%22%3A%20false%7D%0A%20%20%20%20%20%20%20%20%20%20%20%20%29.addTo%28map_5016c86b144f4d1f8c88897321235e62%29%3B%0A%20%20%20%20%20%20%20%20%0A%20%20%20%20%0A%20%20%20%20%20%20%20%20%20%20%20%20var%20tile_layer_2e6d1b8d8a664571a2157e1e0d65d705%20%3D%20L.tileLayer%28%0A%20%20%20%20%20%20%20%20%20%20%20%20%20%20%20%20%22https%3A//earthengine.googleapis.com/v1alpha/projects/earthengine-legacy/maps/23957be2915b184e80ec710882d45638-93696fc3499f732655040512c27a5fef/tiles/%7Bz%7D/%7Bx%7D/%7By%7D%22%2C%0A%20%20%20%20%20%20%20%20%20%20%20%20%20%20%20%20%7B%22attribution%22%3A%20%22Map%20Data%20%5Cu0026copy%3B%20%5Cu003ca%20href%3D%5C%22https%3A//earthengine.google.com/%5C%22%5Cu003eGoogle%20Earth%20Engine%5Cu003c/a%5Cu003e%22%2C%20%22detectRetina%22%3A%20false%2C%20%22maxNativeZoom%22%3A%2018%2C%20%22maxZoom%22%3A%2018%2C%20%22minZoom%22%3A%200%2C%20%22noWrap%22%3A%20false%2C%20%22opacity%22%3A%201%2C%20%22subdomains%22%3A%20%22abc%22%2C%20%22tms%22%3A%20false%7D%0A%20%20%20%20%20%20%20%20%20%20%20%20%29.addTo%28map_5016c86b144f4d1f8c88897321235e62%29%3B%0A%20%20%20%20%20%20%20%20%0A%20%20%20%20%0A%20%20%20%20%20%20%20%20%20%20%20%20var%20layer_control_6b9040369c504952ab48fc78f0116301%20%3D%20%7B%0A%20%20%20%20%20%20%20%20%20%20%20%20%20%20%20%20base_layers%20%3A%20%7B%0A%20%20%20%20%20%20%20%20%20%20%20%20%20%20%20%20%20%20%20%20%22openstreetmap%22%20%3A%20tile_layer_0e432808d15c4ed88633bba9ec453d7a%2C%0A%20%20%20%20%20%20%20%20%20%20%20%20%20%20%20%20%7D%2C%0A%20%20%20%20%20%20%20%20%20%20%20%20%20%20%20%20overlays%20%3A%20%20%7B%0A%20%20%20%20%20%20%20%20%20%20%20%20%20%20%20%20%20%20%20%20%22Masked%20NDVI%22%20%3A%20tile_layer_870be755cf2346d4a9fd8f54b6fcfd78%2C%0A%20%20%20%20%20%20%20%20%20%20%20%20%20%20%20%20%20%20%20%20%22Unmasked%20NDVI%22%20%3A%20tile_layer_d4a4b73963574427a936248ef9d22a7c%2C%0A%20%20%20%20%20%20%20%20%20%20%20%20%20%20%20%20%20%20%20%20%22Normalized%20NDVI%20Difference%22%20%3A%20tile_layer_2e6d1b8d8a664571a2157e1e0d65d705%2C%0A%20%20%20%20%20%20%20%20%20%20%20%20%20%20%20%20%7D%2C%0A%20%20%20%20%20%20%20%20%20%20%20%20%7D%3B%0A%20%20%20%20%20%20%20%20%20%20%20%20L.control.layers%28%0A%20%20%20%20%20%20%20%20%20%20%20%20%20%20%20%20layer_control_6b9040369c504952ab48fc78f0116301.base_layers%2C%0A%20%20%20%20%20%20%20%20%20%20%20%20%20%20%20%20layer_control_6b9040369c504952ab48fc78f0116301.overlays%2C%0A%20%20%20%20%20%20%20%20%20%20%20%20%20%20%20%20%7B%22autoZIndex%22%3A%20true%2C%20%22collapsed%22%3A%20true%2C%20%22position%22%3A%20%22topright%22%7D%0A%20%20%20%20%20%20%20%20%20%20%20%20%29.addTo%28map_5016c86b144f4d1f8c88897321235e62%29%3B%0A%20%20%20%20%20%20%20%20%0A%3C/script%3E onload=\"this.contentDocument.open();this.contentDocument.write(    decodeURIComponent(this.getAttribute('data-html')));this.contentDocument.close();\" allowfullscreen webkitallowfullscreen mozallowfullscreen></iframe></div></div>"
      ],
      "text/plain": [
       "<folium.folium.Map at 0x148ea5fa0>"
      ]
     },
     "metadata": {},
     "output_type": "display_data"
    },
    {
     "name": "stdout",
     "output_type": "stream",
     "text": [
      "\n",
      " \n",
      "\n"
     ]
    }
   ],
   "source": [
    "# layer 1: NDVI with cloud masking\n",
    "# layer 2: NDVI without cloud masking\n",
    "# layer 3: normalized difference between layers 1, 2\n",
    "\n",
    "\n",
    "for i in range(len(dateRange[:12])):\n",
    "    startDate, endDate = dateRange[i][0], dateRange[i][1]\n",
    "\n",
    "    s2_mask, s2_noMask = get_s2_Modified(subset, startDate, endDate)  \n",
    "    maskedNdvi = s2_mask.map(add_cld_shdw_mask\n",
    "                     ).map(apply_cld_shdw_mask\n",
    "                     ).median(\n",
    "                     ).normalizedDifference([\"B8\", \"B4\"])\n",
    "\n",
    "    unmaskedNdvi = s2_noMask.median().normalizedDifference([\"B8\", \"B4\"])\n",
    "\n",
    "    ndviDifference = (maskedNdvi.select(\"nd\").subtract(unmaskedNdvi.select(\"nd\"))).divide(maskedNdvi.select(\"nd\").add(unmaskedNdvi.select(\"nd\")))\n",
    "\n",
    "    m = folium.Map(location=subsetCenter, zoom_start=10)\n",
    "\n",
    "    m.add_ee_layer(maskedNdvi,\n",
    "                {\"bands\": [\"nd\"],\n",
    "                 \"palette\": [\"white\", \"green\"]\n",
    "               }, \"Masked NDVI\")\n",
    "\n",
    "    m.add_ee_layer(unmaskedNdvi,\n",
    "                {\"bands\": [\"nd\"],\n",
    "                 \"palette\": [\"white\", \"green\"]\n",
    "               }, \"Unmasked NDVI\")\n",
    "\n",
    "    m.add_ee_layer(ndviDifference,\n",
    "                {\"bands\": [\"nd\"],\n",
    "                 \"min\": -0.25, \"max\": 0.25,\n",
    "                 \"palette\": [\"red\", \"white\", \"green\"]\n",
    "               }, \"Normalized NDVI Difference\")\n",
    "\n",
    "    m.add_child(folium.LayerControl())\n",
    "\n",
    "    print(startDate + \" - \" + endDate)\n",
    "    display(m)\n",
    "    print(\"\\n \\n\")"
   ]
  },
  {
   "cell_type": "markdown",
   "metadata": {
    "id": "tpecYM5--jHi"
   },
   "source": [
    "## Feature Collections/Spatial Summaries"
   ]
  },
  {
   "cell_type": "code",
   "execution_count": 10,
   "metadata": {
    "id": "reFPf-mKiZSZ"
   },
   "outputs": [],
   "source": [
    "# Madagascar national parks\n",
    "feats = ee.FeatureCollection([ee.Feature(ee.Geometry.Rectangle(46.942241, -24.839532, 46.702881, -24.636228),\n",
    "                                         {\"name\": \"d'Andohahela\"}),\n",
    "                              ee.Feature(ee.Geometry.Rectangle(47.223358, -23.723450, 46.852087, -23.550140),\n",
    "                                         {\"name\": \"Midongy Betofaka\"}),\n",
    "                              ee.Feature(ee.Geometry.Rectangle(44.002508, -24.390880, 43.697637, -23.974152),\n",
    "                                         {\"name\": \"Tsimanampetsotsa\"}),\n",
    "                              ee.Feature(ee.Geometry.Rectangle(46.753229, -16.165182, 47.087402, -16.259739),\n",
    "                                         {\"name\": \"d'Ankarafantsika\"}),\n",
    "                              ee.Feature(ee.Geometry.Rectangle(50.497992, -15.882093, 49.815574, -15.183482),\n",
    "                                         {\"name\": \"Masoala\"}),\n",
    "                              ee.Feature(ee.Geometry.Rectangle(44.554812, -20.091821, 44.767227, -19.703976),\n",
    "                                         {\"name\": \"Alan'Ankirisa\"})])"
   ]
  },
  {
   "cell_type": "code",
   "execution_count": 11,
   "metadata": {
    "id": "N4lEQs4sifdB"
   },
   "outputs": [],
   "source": [
    "# def ndviReducer(image, collection=feats):\n",
    "#   \"\"\"\n",
    "#   Reduces an image over multiple ee.Geometries and returns an ee.FeatureCollection with aggregated band statistics\n",
    "#   \"\"\"\n",
    "#   reducer = ee.Reducer.mean(\n",
    "#                      ).combine(reducer2 = ee.Reducer.max(),\n",
    "#                                sharedInputs = True\n",
    "#                      ).combine(reducer2 = ee.Reducer.min(),\n",
    "#                                sharedInputs = True)  \n",
    "  \n",
    "#   return image.reduceRegions(collection = feats,\n",
    "#                              reducer = reducer,\n",
    "#                              scale = 10,\n",
    "#                              tileScale = 3).getInfo()[\"features\"]"
   ]
  },
  {
   "cell_type": "code",
   "execution_count": null,
   "metadata": {
    "id": "XzSilFabBymM"
   },
   "outputs": [],
   "source": [
    "### RUN ONCE ###\n",
    "\n",
    "# dfLst = []\n",
    "# for i in range(len(trainMonths)):\n",
    "#   start, end = trainMonths[i]\n",
    "#   sentinel = get_s2_sr_cld_col(madagascar, \n",
    "#                                start, end).map(add_cld_shdw_mask\n",
    "#                                          ).map(apply_cld_shdw_mask\n",
    "#                                          ).mosaic()\n",
    "#   yearsSinceEpoch = ee.Date(start[:-2]+\"15\").difference(ee.Date('1970-01-01'), 'year').getInfo()  # defined at middle of month\n",
    "#   ndvi = sentinel.normalizedDifference([\"B8\", \"B4\"]).rename(\"NDVI\")\n",
    "#   regionStats = ndviReducer(ndvi)\n",
    "#   dfLst += list(map(lambda x: [rangeFormatter(start), yearsSinceEpoch] + list(x[\"properties\"].values()),\n",
    "#                     regionStats))\n",
    "  \n",
    "# df = pd.DataFrame(dfLst)\n",
    "# df.columns = [\"Month\", \"Years Since Epoch (t)\", \"Max NDVI\", \"Mean NDVI\", \"Min NDVI\", \"Region\"]\n",
    "# df = df.round(3)\n",
    "# df\n",
    "# df.to_csv(\"/content/drive/MyDrive/Colab Notebooks/regionalNDVI.csv\", index=False)"
   ]
  },
  {
   "cell_type": "code",
   "execution_count": 12,
   "metadata": {
    "colab": {
     "base_uri": "https://localhost:8080/",
     "height": 423
    },
    "id": "CFOXDqoMifZ-",
    "outputId": "651425b0-9653-4467-a917-2a6f3221b6c9",
    "scrolled": true
   },
   "outputs": [
    {
     "data": {
      "text/html": [
       "<div>\n",
       "<style scoped>\n",
       "    .dataframe tbody tr th:only-of-type {\n",
       "        vertical-align: middle;\n",
       "    }\n",
       "\n",
       "    .dataframe tbody tr th {\n",
       "        vertical-align: top;\n",
       "    }\n",
       "\n",
       "    .dataframe thead th {\n",
       "        text-align: right;\n",
       "    }\n",
       "</style>\n",
       "<table border=\"1\" class=\"dataframe\">\n",
       "  <thead>\n",
       "    <tr style=\"text-align: right;\">\n",
       "      <th></th>\n",
       "      <th>Month</th>\n",
       "      <th>Years Since Epoch (t)</th>\n",
       "      <th>Max NDVI</th>\n",
       "      <th>Mean NDVI</th>\n",
       "      <th>Min NDVI</th>\n",
       "      <th>Region</th>\n",
       "    </tr>\n",
       "  </thead>\n",
       "  <tbody>\n",
       "    <tr>\n",
       "      <th>0</th>\n",
       "      <td>01/19</td>\n",
       "      <td>49.039</td>\n",
       "      <td>0.977</td>\n",
       "      <td>0.764</td>\n",
       "      <td>-0.472</td>\n",
       "      <td>d'Andohahela</td>\n",
       "    </tr>\n",
       "    <tr>\n",
       "      <th>1</th>\n",
       "      <td>01/19</td>\n",
       "      <td>49.039</td>\n",
       "      <td>0.999</td>\n",
       "      <td>0.791</td>\n",
       "      <td>-0.869</td>\n",
       "      <td>Midongy Betofaka</td>\n",
       "    </tr>\n",
       "    <tr>\n",
       "      <th>2</th>\n",
       "      <td>01/19</td>\n",
       "      <td>49.039</td>\n",
       "      <td>0.905</td>\n",
       "      <td>0.503</td>\n",
       "      <td>-0.861</td>\n",
       "      <td>Tsimanampetsotsa</td>\n",
       "    </tr>\n",
       "    <tr>\n",
       "      <th>3</th>\n",
       "      <td>01/19</td>\n",
       "      <td>49.039</td>\n",
       "      <td>0.999</td>\n",
       "      <td>0.737</td>\n",
       "      <td>-0.386</td>\n",
       "      <td>d'Ankarafantsika</td>\n",
       "    </tr>\n",
       "    <tr>\n",
       "      <th>4</th>\n",
       "      <td>01/19</td>\n",
       "      <td>49.039</td>\n",
       "      <td>1.000</td>\n",
       "      <td>0.550</td>\n",
       "      <td>-0.998</td>\n",
       "      <td>Masoala</td>\n",
       "    </tr>\n",
       "    <tr>\n",
       "      <th>...</th>\n",
       "      <td>...</td>\n",
       "      <td>...</td>\n",
       "      <td>...</td>\n",
       "      <td>...</td>\n",
       "      <td>...</td>\n",
       "      <td>...</td>\n",
       "    </tr>\n",
       "    <tr>\n",
       "      <th>199</th>\n",
       "      <td>10/21</td>\n",
       "      <td>51.788</td>\n",
       "      <td>0.914</td>\n",
       "      <td>0.701</td>\n",
       "      <td>-0.984</td>\n",
       "      <td>Midongy Betofaka</td>\n",
       "    </tr>\n",
       "    <tr>\n",
       "      <th>200</th>\n",
       "      <td>10/21</td>\n",
       "      <td>51.788</td>\n",
       "      <td>0.934</td>\n",
       "      <td>0.196</td>\n",
       "      <td>-0.999</td>\n",
       "      <td>Tsimanampetsotsa</td>\n",
       "    </tr>\n",
       "    <tr>\n",
       "      <th>201</th>\n",
       "      <td>10/21</td>\n",
       "      <td>51.788</td>\n",
       "      <td>0.954</td>\n",
       "      <td>0.448</td>\n",
       "      <td>-0.248</td>\n",
       "      <td>d'Ankarafantsika</td>\n",
       "    </tr>\n",
       "    <tr>\n",
       "      <th>202</th>\n",
       "      <td>10/21</td>\n",
       "      <td>51.788</td>\n",
       "      <td>0.995</td>\n",
       "      <td>0.587</td>\n",
       "      <td>-0.995</td>\n",
       "      <td>Masoala</td>\n",
       "    </tr>\n",
       "    <tr>\n",
       "      <th>203</th>\n",
       "      <td>10/21</td>\n",
       "      <td>51.788</td>\n",
       "      <td>0.869</td>\n",
       "      <td>0.283</td>\n",
       "      <td>-0.700</td>\n",
       "      <td>Alan'Ankirisa</td>\n",
       "    </tr>\n",
       "  </tbody>\n",
       "</table>\n",
       "<p>204 rows × 6 columns</p>\n",
       "</div>"
      ],
      "text/plain": [
       "     Month  Years Since Epoch (t)  Max NDVI  Mean NDVI  Min NDVI  \\\n",
       "0    01/19                 49.039     0.977      0.764    -0.472   \n",
       "1    01/19                 49.039     0.999      0.791    -0.869   \n",
       "2    01/19                 49.039     0.905      0.503    -0.861   \n",
       "3    01/19                 49.039     0.999      0.737    -0.386   \n",
       "4    01/19                 49.039     1.000      0.550    -0.998   \n",
       "..     ...                    ...       ...        ...       ...   \n",
       "199  10/21                 51.788     0.914      0.701    -0.984   \n",
       "200  10/21                 51.788     0.934      0.196    -0.999   \n",
       "201  10/21                 51.788     0.954      0.448    -0.248   \n",
       "202  10/21                 51.788     0.995      0.587    -0.995   \n",
       "203  10/21                 51.788     0.869      0.283    -0.700   \n",
       "\n",
       "               Region  \n",
       "0        d'Andohahela  \n",
       "1    Midongy Betofaka  \n",
       "2    Tsimanampetsotsa  \n",
       "3    d'Ankarafantsika  \n",
       "4             Masoala  \n",
       "..                ...  \n",
       "199  Midongy Betofaka  \n",
       "200  Tsimanampetsotsa  \n",
       "201  d'Ankarafantsika  \n",
       "202           Masoala  \n",
       "203     Alan'Ankirisa  \n",
       "\n",
       "[204 rows x 6 columns]"
      ]
     },
     "execution_count": 12,
     "metadata": {},
     "output_type": "execute_result"
    }
   ],
   "source": [
    "df = pd.read_csv(\"regionalNDVI.csv\")\n",
    "df"
   ]
  },
  {
   "cell_type": "code",
   "execution_count": 13,
   "metadata": {
    "colab": {
     "base_uri": "https://localhost:8080/",
     "height": 785
    },
    "id": "yv6sOLeRifN-",
    "outputId": "00e1411e-236a-4d46-e894-2ab652f875c6"
   },
   "outputs": [
    {
     "data": {
      "text/html": [
       "\n",
       "<div id=\"altair-viz-c5d70af89473432ca26c9c7042506d7c\"></div>\n",
       "<script type=\"text/javascript\">\n",
       "  (function(spec, embedOpt){\n",
       "    let outputDiv = document.currentScript.previousElementSibling;\n",
       "    if (outputDiv.id !== \"altair-viz-c5d70af89473432ca26c9c7042506d7c\") {\n",
       "      outputDiv = document.getElementById(\"altair-viz-c5d70af89473432ca26c9c7042506d7c\");\n",
       "    }\n",
       "    const paths = {\n",
       "      \"vega\": \"https://cdn.jsdelivr.net/npm//vega@5?noext\",\n",
       "      \"vega-lib\": \"https://cdn.jsdelivr.net/npm//vega-lib?noext\",\n",
       "      \"vega-lite\": \"https://cdn.jsdelivr.net/npm//vega-lite@4.8.1?noext\",\n",
       "      \"vega-embed\": \"https://cdn.jsdelivr.net/npm//vega-embed@6?noext\",\n",
       "    };\n",
       "\n",
       "    function loadScript(lib) {\n",
       "      return new Promise(function(resolve, reject) {\n",
       "        var s = document.createElement('script');\n",
       "        s.src = paths[lib];\n",
       "        s.async = true;\n",
       "        s.onload = () => resolve(paths[lib]);\n",
       "        s.onerror = () => reject(`Error loading script: ${paths[lib]}`);\n",
       "        document.getElementsByTagName(\"head\")[0].appendChild(s);\n",
       "      });\n",
       "    }\n",
       "\n",
       "    function showError(err) {\n",
       "      outputDiv.innerHTML = `<div class=\"error\" style=\"color:red;\">${err}</div>`;\n",
       "      throw err;\n",
       "    }\n",
       "\n",
       "    function displayChart(vegaEmbed) {\n",
       "      vegaEmbed(outputDiv, spec, embedOpt)\n",
       "        .catch(err => showError(`Javascript Error: ${err.message}<br>This usually means there's a typo in your chart specification. See the javascript console for the full traceback.`));\n",
       "    }\n",
       "\n",
       "    if(typeof define === \"function\" && define.amd) {\n",
       "      requirejs.config({paths});\n",
       "      require([\"vega-embed\"], displayChart, err => showError(`Error loading script: ${err.message}`));\n",
       "    } else if (typeof vegaEmbed === \"function\") {\n",
       "      displayChart(vegaEmbed);\n",
       "    } else {\n",
       "      loadScript(\"vega\")\n",
       "        .then(() => loadScript(\"vega-lite\"))\n",
       "        .then(() => loadScript(\"vega-embed\"))\n",
       "        .catch(showError)\n",
       "        .then(() => displayChart(vegaEmbed));\n",
       "    }\n",
       "  })({\"config\": {\"view\": {\"continuousWidth\": 400, \"continuousHeight\": 300}}, \"data\": {\"name\": \"data-8b4080baa770fa3c077bf675e847ec9a\"}, \"facet\": {\"type\": \"nominal\", \"field\": \"Region\"}, \"spec\": {\"layer\": [{\"mark\": \"line\", \"encoding\": {\"color\": {\"type\": \"nominal\", \"field\": \"Region\"}, \"x\": {\"type\": \"ordinal\", \"field\": \"Month\", \"sort\": [\"01/19\", \"02/19\", \"03/19\", \"04/19\", \"05/19\", \"06/19\", \"07/19\", \"08/19\", \"09/19\", \"10/19\", \"11/19\", \"12/19\", \"01/20\", \"02/20\", \"03/20\", \"04/20\", \"05/20\", \"06/20\", \"07/20\", \"08/20\", \"09/20\", \"10/20\", \"11/20\", \"12/20\", \"01/21\", \"02/21\", \"03/21\", \"04/21\", \"05/21\", \"06/21\", \"07/21\", \"08/21\", \"09/21\", \"10/21\"]}, \"y\": {\"type\": \"quantitative\", \"field\": \"Mean NDVI\"}}}, {\"mark\": {\"type\": \"circle\", \"size\": 45}, \"encoding\": {\"color\": {\"type\": \"nominal\", \"field\": \"Region\"}, \"tooltip\": [{\"type\": \"nominal\", \"field\": \"Month\"}, {\"type\": \"nominal\", \"field\": \"Region\"}, {\"type\": \"quantitative\", \"field\": \"Mean NDVI\"}], \"x\": {\"type\": \"ordinal\", \"field\": \"Month\", \"sort\": [\"01/19\", \"02/19\", \"03/19\", \"04/19\", \"05/19\", \"06/19\", \"07/19\", \"08/19\", \"09/19\", \"10/19\", \"11/19\", \"12/19\", \"01/20\", \"02/20\", \"03/20\", \"04/20\", \"05/20\", \"06/20\", \"07/20\", \"08/20\", \"09/20\", \"10/20\", \"11/20\", \"12/20\", \"01/21\", \"02/21\", \"03/21\", \"04/21\", \"05/21\", \"06/21\", \"07/21\", \"08/21\", \"09/21\", \"10/21\"]}, \"y\": {\"type\": \"quantitative\", \"field\": \"Mean NDVI\"}}}], \"height\": 300, \"title\": \"Quarterly Mean NDVI in Madagascar\", \"width\": 300}, \"columns\": 3, \"$schema\": \"https://vega.github.io/schema/vega-lite/v4.8.1.json\", \"datasets\": {\"data-8b4080baa770fa3c077bf675e847ec9a\": [{\"Month\": \"01/19\", \"Years Since Epoch (t)\": 49.039, \"Max NDVI\": 0.977, \"Mean NDVI\": 0.764, \"Min NDVI\": -0.472, \"Region\": \"d'Andohahela\"}, {\"Month\": \"01/19\", \"Years Since Epoch (t)\": 49.039, \"Max NDVI\": 0.999, \"Mean NDVI\": 0.791, \"Min NDVI\": -0.869, \"Region\": \"Midongy Betofaka\"}, {\"Month\": \"01/19\", \"Years Since Epoch (t)\": 49.039, \"Max NDVI\": 0.905, \"Mean NDVI\": 0.503, \"Min NDVI\": -0.861, \"Region\": \"Tsimanampetsotsa\"}, {\"Month\": \"01/19\", \"Years Since Epoch (t)\": 49.039, \"Max NDVI\": 0.999, \"Mean NDVI\": 0.737, \"Min NDVI\": -0.386, \"Region\": \"d'Ankarafantsika\"}, {\"Month\": \"01/19\", \"Years Since Epoch (t)\": 49.039, \"Max NDVI\": 1.0, \"Mean NDVI\": 0.55, \"Min NDVI\": -0.998, \"Region\": \"Masoala\"}, {\"Month\": \"01/19\", \"Years Since Epoch (t)\": 49.039, \"Max NDVI\": 0.938, \"Mean NDVI\": 0.577, \"Min NDVI\": -0.89, \"Region\": \"Alan'Ankirisa\"}, {\"Month\": \"02/19\", \"Years Since Epoch (t)\": 49.124, \"Max NDVI\": 0.998, \"Mean NDVI\": 0.766, \"Min NDVI\": -0.673, \"Region\": \"d'Andohahela\"}, {\"Month\": \"02/19\", \"Years Since Epoch (t)\": 49.124, \"Max NDVI\": 0.997, \"Mean NDVI\": 0.774, \"Min NDVI\": -0.614, \"Region\": \"Midongy Betofaka\"}, {\"Month\": \"02/19\", \"Years Since Epoch (t)\": 49.124, \"Max NDVI\": 0.921, \"Mean NDVI\": 0.52, \"Min NDVI\": -0.999, \"Region\": \"Tsimanampetsotsa\"}, {\"Month\": \"02/19\", \"Years Since Epoch (t)\": 49.124, \"Max NDVI\": 0.985, \"Mean NDVI\": 0.77, \"Min NDVI\": -0.386, \"Region\": \"d'Ankarafantsika\"}, {\"Month\": \"02/19\", \"Years Since Epoch (t)\": 49.124, \"Max NDVI\": 0.977, \"Mean NDVI\": 0.469, \"Min NDVI\": -0.995, \"Region\": \"Masoala\"}, {\"Month\": \"02/19\", \"Years Since Epoch (t)\": 49.124, \"Max NDVI\": 0.965, \"Mean NDVI\": 0.638, \"Min NDVI\": -0.731, \"Region\": \"Alan'Ankirisa\"}, {\"Month\": \"03/19\", \"Years Since Epoch (t)\": 49.2, \"Max NDVI\": 0.999, \"Mean NDVI\": 0.803, \"Min NDVI\": -0.544, \"Region\": \"d'Andohahela\"}, {\"Month\": \"03/19\", \"Years Since Epoch (t)\": 49.2, \"Max NDVI\": 0.995, \"Mean NDVI\": 0.815, \"Min NDVI\": -0.996, \"Region\": \"Midongy Betofaka\"}, {\"Month\": \"03/19\", \"Years Since Epoch (t)\": 49.2, \"Max NDVI\": 0.92, \"Mean NDVI\": 0.516, \"Min NDVI\": -0.998, \"Region\": \"Tsimanampetsotsa\"}, {\"Month\": \"03/19\", \"Years Since Epoch (t)\": 49.2, \"Max NDVI\": 0.999, \"Mean NDVI\": 0.777, \"Min NDVI\": -0.663, \"Region\": \"d'Ankarafantsika\"}, {\"Month\": \"03/19\", \"Years Since Epoch (t)\": 49.2, \"Max NDVI\": 0.999, \"Mean NDVI\": 0.578, \"Min NDVI\": -0.994, \"Region\": \"Masoala\"}, {\"Month\": \"03/19\", \"Years Since Epoch (t)\": 49.2, \"Max NDVI\": 0.937, \"Mean NDVI\": 0.661, \"Min NDVI\": -0.636, \"Region\": \"Alan'Ankirisa\"}, {\"Month\": \"04/19\", \"Years Since Epoch (t)\": 49.285, \"Max NDVI\": 0.999, \"Mean NDVI\": 0.781, \"Min NDVI\": -0.543, \"Region\": \"d'Andohahela\"}, {\"Month\": \"04/19\", \"Years Since Epoch (t)\": 49.285, \"Max NDVI\": 0.996, \"Mean NDVI\": 0.825, \"Min NDVI\": -0.705, \"Region\": \"Midongy Betofaka\"}, {\"Month\": \"04/19\", \"Years Since Epoch (t)\": 49.285, \"Max NDVI\": 0.937, \"Mean NDVI\": 0.459, \"Min NDVI\": -0.891, \"Region\": \"Tsimanampetsotsa\"}, {\"Month\": \"04/19\", \"Years Since Epoch (t)\": 49.285, \"Max NDVI\": 0.999, \"Mean NDVI\": 0.768, \"Min NDVI\": -0.614, \"Region\": \"d'Ankarafantsika\"}, {\"Month\": \"04/19\", \"Years Since Epoch (t)\": 49.285, \"Max NDVI\": 0.999, \"Mean NDVI\": 0.451, \"Min NDVI\": -0.997, \"Region\": \"Masoala\"}, {\"Month\": \"04/19\", \"Years Since Epoch (t)\": 49.285, \"Max NDVI\": 0.958, \"Mean NDVI\": 0.582, \"Min NDVI\": -0.534, \"Region\": \"Alan'Ankirisa\"}, {\"Month\": \"05/19\", \"Years Since Epoch (t)\": 49.367, \"Max NDVI\": 1.0, \"Mean NDVI\": 0.797, \"Min NDVI\": -0.722, \"Region\": \"d'Andohahela\"}, {\"Month\": \"05/19\", \"Years Since Epoch (t)\": 49.367, \"Max NDVI\": 0.999, \"Mean NDVI\": 0.835, \"Min NDVI\": -0.98, \"Region\": \"Midongy Betofaka\"}, {\"Month\": \"05/19\", \"Years Since Epoch (t)\": 49.367, \"Max NDVI\": 0.925, \"Mean NDVI\": 0.436, \"Min NDVI\": -0.998, \"Region\": \"Tsimanampetsotsa\"}, {\"Month\": \"05/19\", \"Years Since Epoch (t)\": 49.367, \"Max NDVI\": 0.993, \"Mean NDVI\": 0.732, \"Min NDVI\": -0.499, \"Region\": \"d'Ankarafantsika\"}, {\"Month\": \"05/19\", \"Years Since Epoch (t)\": 49.367, \"Max NDVI\": 0.999, \"Mean NDVI\": 0.566, \"Min NDVI\": -0.994, \"Region\": \"Masoala\"}, {\"Month\": \"05/19\", \"Years Since Epoch (t)\": 49.367, \"Max NDVI\": 0.999, \"Mean NDVI\": 0.493, \"Min NDVI\": -0.601, \"Region\": \"Alan'Ankirisa\"}, {\"Month\": \"06/19\", \"Years Since Epoch (t)\": 49.452, \"Max NDVI\": 0.999, \"Mean NDVI\": 0.757, \"Min NDVI\": -0.951, \"Region\": \"d'Andohahela\"}, {\"Month\": \"06/19\", \"Years Since Epoch (t)\": 49.452, \"Max NDVI\": 0.999, \"Mean NDVI\": 0.813, \"Min NDVI\": -0.976, \"Region\": \"Midongy Betofaka\"}, {\"Month\": \"06/19\", \"Years Since Epoch (t)\": 49.452, \"Max NDVI\": 0.999, \"Mean NDVI\": 0.412, \"Min NDVI\": -0.999, \"Region\": \"Tsimanampetsotsa\"}, {\"Month\": \"06/19\", \"Years Since Epoch (t)\": 49.452, \"Max NDVI\": 0.999, \"Mean NDVI\": 0.677, \"Min NDVI\": -0.526, \"Region\": \"d'Ankarafantsika\"}, {\"Month\": \"06/19\", \"Years Since Epoch (t)\": 49.452, \"Max NDVI\": 1.0, \"Mean NDVI\": 0.443, \"Min NDVI\": -0.997, \"Region\": \"Masoala\"}, {\"Month\": \"06/19\", \"Years Since Epoch (t)\": 49.452, \"Max NDVI\": 0.959, \"Mean NDVI\": 0.477, \"Min NDVI\": -0.658, \"Region\": \"Alan'Ankirisa\"}, {\"Month\": \"07/19\", \"Years Since Epoch (t)\": 49.534, \"Max NDVI\": 0.999, \"Mean NDVI\": 0.771, \"Min NDVI\": -0.675, \"Region\": \"d'Andohahela\"}, {\"Month\": \"07/19\", \"Years Since Epoch (t)\": 49.534, \"Max NDVI\": 0.999, \"Mean NDVI\": 0.826, \"Min NDVI\": -0.99, \"Region\": \"Midongy Betofaka\"}, {\"Month\": \"07/19\", \"Years Since Epoch (t)\": 49.534, \"Max NDVI\": 1.0, \"Mean NDVI\": 0.403, \"Min NDVI\": -0.999, \"Region\": \"Tsimanampetsotsa\"}, {\"Month\": \"07/19\", \"Years Since Epoch (t)\": 49.534, \"Max NDVI\": 0.988, \"Mean NDVI\": 0.628, \"Min NDVI\": -0.345, \"Region\": \"d'Ankarafantsika\"}, {\"Month\": \"07/19\", \"Years Since Epoch (t)\": 49.534, \"Max NDVI\": 0.999, \"Mean NDVI\": 0.35, \"Min NDVI\": -0.996, \"Region\": \"Masoala\"}, {\"Month\": \"07/19\", \"Years Since Epoch (t)\": 49.534, \"Max NDVI\": 0.893, \"Mean NDVI\": 0.421, \"Min NDVI\": -0.639, \"Region\": \"Alan'Ankirisa\"}, {\"Month\": \"08/19\", \"Years Since Epoch (t)\": 49.619, \"Max NDVI\": 0.997, \"Mean NDVI\": 0.726, \"Min NDVI\": -0.521, \"Region\": \"d'Andohahela\"}, {\"Month\": \"08/19\", \"Years Since Epoch (t)\": 49.619, \"Max NDVI\": 0.962, \"Mean NDVI\": 0.778, \"Min NDVI\": -0.632, \"Region\": \"Midongy Betofaka\"}, {\"Month\": \"08/19\", \"Years Since Epoch (t)\": 49.619, \"Max NDVI\": 0.999, \"Mean NDVI\": 0.314, \"Min NDVI\": -0.999, \"Region\": \"Tsimanampetsotsa\"}, {\"Month\": \"08/19\", \"Years Since Epoch (t)\": 49.619, \"Max NDVI\": 0.994, \"Mean NDVI\": 0.574, \"Min NDVI\": -0.328, \"Region\": \"d'Ankarafantsika\"}, {\"Month\": \"08/19\", \"Years Since Epoch (t)\": 49.619, \"Max NDVI\": 0.973, \"Mean NDVI\": 0.439, \"Min NDVI\": -0.995, \"Region\": \"Masoala\"}, {\"Month\": \"08/19\", \"Years Since Epoch (t)\": 49.619, \"Max NDVI\": 0.916, \"Mean NDVI\": 0.376, \"Min NDVI\": -0.999, \"Region\": \"Alan'Ankirisa\"}, {\"Month\": \"09/19\", \"Years Since Epoch (t)\": 49.704, \"Max NDVI\": 0.948, \"Mean NDVI\": 0.71, \"Min NDVI\": -0.371, \"Region\": \"d'Andohahela\"}, {\"Month\": \"09/19\", \"Years Since Epoch (t)\": 49.704, \"Max NDVI\": 0.911, \"Mean NDVI\": 0.721, \"Min NDVI\": -0.648, \"Region\": \"Midongy Betofaka\"}, {\"Month\": \"09/19\", \"Years Since Epoch (t)\": 49.704, \"Max NDVI\": 0.911, \"Mean NDVI\": 0.271, \"Min NDVI\": -0.942, \"Region\": \"Tsimanampetsotsa\"}, {\"Month\": \"09/19\", \"Years Since Epoch (t)\": 49.704, \"Max NDVI\": 0.909, \"Mean NDVI\": 0.508, \"Min NDVI\": -0.32, \"Region\": \"d'Ankarafantsika\"}, {\"Month\": \"09/19\", \"Years Since Epoch (t)\": 49.704, \"Max NDVI\": 0.999, \"Mean NDVI\": 0.515, \"Min NDVI\": -0.997, \"Region\": \"Masoala\"}, {\"Month\": \"09/19\", \"Years Since Epoch (t)\": 49.704, \"Max NDVI\": 0.878, \"Mean NDVI\": 0.327, \"Min NDVI\": -0.657, \"Region\": \"Alan'Ankirisa\"}, {\"Month\": \"10/19\", \"Years Since Epoch (t)\": 49.786, \"Max NDVI\": 0.925, \"Mean NDVI\": 0.687, \"Min NDVI\": -0.453, \"Region\": \"d'Andohahela\"}, {\"Month\": \"10/19\", \"Years Since Epoch (t)\": 49.786, \"Max NDVI\": 0.919, \"Mean NDVI\": 0.738, \"Min NDVI\": -0.87, \"Region\": \"Midongy Betofaka\"}, {\"Month\": \"10/19\", \"Years Since Epoch (t)\": 49.786, \"Max NDVI\": 0.925, \"Mean NDVI\": 0.253, \"Min NDVI\": -0.999, \"Region\": \"Tsimanampetsotsa\"}, {\"Month\": \"10/19\", \"Years Since Epoch (t)\": 49.786, \"Max NDVI\": 0.877, \"Mean NDVI\": 0.489, \"Min NDVI\": -0.175, \"Region\": \"d'Ankarafantsika\"}, {\"Month\": \"10/19\", \"Years Since Epoch (t)\": 49.786, \"Max NDVI\": 0.999, \"Mean NDVI\": 0.477, \"Min NDVI\": -0.997, \"Region\": \"Masoala\"}, {\"Month\": \"10/19\", \"Years Since Epoch (t)\": 49.786, \"Max NDVI\": 0.863, \"Mean NDVI\": 0.257, \"Min NDVI\": -0.504, \"Region\": \"Alan'Ankirisa\"}, {\"Month\": \"11/19\", \"Years Since Epoch (t)\": 49.871, \"Max NDVI\": 0.933, \"Mean NDVI\": 0.704, \"Min NDVI\": -0.448, \"Region\": \"d'Andohahela\"}, {\"Month\": \"11/19\", \"Years Since Epoch (t)\": 49.871, \"Max NDVI\": 0.944, \"Mean NDVI\": 0.757, \"Min NDVI\": -0.974, \"Region\": \"Midongy Betofaka\"}, {\"Month\": \"11/19\", \"Years Since Epoch (t)\": 49.871, \"Max NDVI\": 0.921, \"Mean NDVI\": 0.359, \"Min NDVI\": -0.999, \"Region\": \"Tsimanampetsotsa\"}, {\"Month\": \"11/19\", \"Years Since Epoch (t)\": 49.871, \"Max NDVI\": 0.999, \"Mean NDVI\": 0.562, \"Min NDVI\": -0.345, \"Region\": \"d'Ankarafantsika\"}, {\"Month\": \"11/19\", \"Years Since Epoch (t)\": 49.871, \"Max NDVI\": 0.984, \"Mean NDVI\": 0.5, \"Min NDVI\": -0.998, \"Region\": \"Masoala\"}, {\"Month\": \"11/19\", \"Years Since Epoch (t)\": 49.871, \"Max NDVI\": 0.98, \"Mean NDVI\": 0.317, \"Min NDVI\": -0.513, \"Region\": \"Alan'Ankirisa\"}, {\"Month\": \"12/19\", \"Years Since Epoch (t)\": 49.953, \"Max NDVI\": 0.951, \"Mean NDVI\": 0.74, \"Min NDVI\": -0.491, \"Region\": \"d'Andohahela\"}, {\"Month\": \"12/19\", \"Years Since Epoch (t)\": 49.953, \"Max NDVI\": 0.999, \"Mean NDVI\": 0.735, \"Min NDVI\": -0.768, \"Region\": \"Midongy Betofaka\"}, {\"Month\": \"12/19\", \"Years Since Epoch (t)\": 49.953, \"Max NDVI\": 0.957, \"Mean NDVI\": 0.371, \"Min NDVI\": -0.999, \"Region\": \"Tsimanampetsotsa\"}, {\"Month\": \"12/19\", \"Years Since Epoch (t)\": 49.953, \"Max NDVI\": 0.962, \"Mean NDVI\": 0.705, \"Min NDVI\": -0.338, \"Region\": \"d'Ankarafantsika\"}, {\"Month\": \"12/19\", \"Years Since Epoch (t)\": 49.953, \"Max NDVI\": 1.0, \"Mean NDVI\": 0.474, \"Min NDVI\": -1.0, \"Region\": \"Masoala\"}, {\"Month\": \"12/19\", \"Years Since Epoch (t)\": 49.953, \"Max NDVI\": 0.943, \"Mean NDVI\": 0.506, \"Min NDVI\": -0.662, \"Region\": \"Alan'Ankirisa\"}, {\"Month\": \"01/20\", \"Years Since Epoch (t)\": 50.038, \"Max NDVI\": 0.945, \"Mean NDVI\": 0.709, \"Min NDVI\": -0.402, \"Region\": \"d'Andohahela\"}, {\"Month\": \"01/20\", \"Years Since Epoch (t)\": 50.038, \"Max NDVI\": 0.998, \"Mean NDVI\": 0.766, \"Min NDVI\": -0.56, \"Region\": \"Midongy Betofaka\"}, {\"Month\": \"01/20\", \"Years Since Epoch (t)\": 50.038, \"Max NDVI\": 0.925, \"Mean NDVI\": 0.379, \"Min NDVI\": -0.999, \"Region\": \"Tsimanampetsotsa\"}, {\"Month\": \"01/20\", \"Years Since Epoch (t)\": 50.038, \"Max NDVI\": 0.921, \"Mean NDVI\": 0.734, \"Min NDVI\": -0.373, \"Region\": \"d'Ankarafantsika\"}, {\"Month\": \"01/20\", \"Years Since Epoch (t)\": 50.038, \"Max NDVI\": 0.992, \"Mean NDVI\": 0.4, \"Min NDVI\": -0.997, \"Region\": \"Masoala\"}, {\"Month\": \"01/20\", \"Years Since Epoch (t)\": 50.038, \"Max NDVI\": 0.968, \"Mean NDVI\": 0.671, \"Min NDVI\": -0.803, \"Region\": \"Alan'Ankirisa\"}, {\"Month\": \"02/20\", \"Years Since Epoch (t)\": 50.123, \"Max NDVI\": 0.995, \"Mean NDVI\": 0.7, \"Min NDVI\": -0.984, \"Region\": \"d'Andohahela\"}, {\"Month\": \"02/20\", \"Years Since Epoch (t)\": 50.123, \"Max NDVI\": 0.972, \"Mean NDVI\": 0.78, \"Min NDVI\": -0.979, \"Region\": \"Midongy Betofaka\"}, {\"Month\": \"02/20\", \"Years Since Epoch (t)\": 50.123, \"Max NDVI\": 0.909, \"Mean NDVI\": 0.437, \"Min NDVI\": -0.999, \"Region\": \"Tsimanampetsotsa\"}, {\"Month\": \"02/20\", \"Years Since Epoch (t)\": 50.123, \"Max NDVI\": 0.998, \"Mean NDVI\": 0.804, \"Min NDVI\": -0.54, \"Region\": \"d'Ankarafantsika\"}, {\"Month\": \"02/20\", \"Years Since Epoch (t)\": 50.123, \"Max NDVI\": 0.999, \"Mean NDVI\": 0.549, \"Min NDVI\": -0.998, \"Region\": \"Masoala\"}, {\"Month\": \"02/20\", \"Years Since Epoch (t)\": 50.123, \"Max NDVI\": 0.999, \"Mean NDVI\": 0.698, \"Min NDVI\": -0.996, \"Region\": \"Alan'Ankirisa\"}, {\"Month\": \"03/20\", \"Years Since Epoch (t)\": 50.202, \"Max NDVI\": 0.965, \"Mean NDVI\": 0.719, \"Min NDVI\": -0.603, \"Region\": \"d'Andohahela\"}, {\"Month\": \"03/20\", \"Years Since Epoch (t)\": 50.202, \"Max NDVI\": 1.0, \"Mean NDVI\": 0.809, \"Min NDVI\": -0.996, \"Region\": \"Midongy Betofaka\"}, {\"Month\": \"03/20\", \"Years Since Epoch (t)\": 50.202, \"Max NDVI\": 0.884, \"Mean NDVI\": 0.394, \"Min NDVI\": -0.971, \"Region\": \"Tsimanampetsotsa\"}, {\"Month\": \"03/20\", \"Years Since Epoch (t)\": 50.202, \"Max NDVI\": 0.999, \"Mean NDVI\": 0.804, \"Min NDVI\": -0.68, \"Region\": \"d'Ankarafantsika\"}, {\"Month\": \"03/20\", \"Years Since Epoch (t)\": 50.202, \"Max NDVI\": 0.999, \"Mean NDVI\": 0.456, \"Min NDVI\": -0.998, \"Region\": \"Masoala\"}, {\"Month\": \"03/20\", \"Years Since Epoch (t)\": 50.202, \"Max NDVI\": 0.942, \"Mean NDVI\": 0.658, \"Min NDVI\": -0.784, \"Region\": \"Alan'Ankirisa\"}, {\"Month\": \"04/20\", \"Years Since Epoch (t)\": 50.287, \"Max NDVI\": 0.999, \"Mean NDVI\": 0.801, \"Min NDVI\": -0.58, \"Region\": \"d'Andohahela\"}, {\"Month\": \"04/20\", \"Years Since Epoch (t)\": 50.287, \"Max NDVI\": 0.999, \"Mean NDVI\": 0.788, \"Min NDVI\": -0.992, \"Region\": \"Midongy Betofaka\"}, {\"Month\": \"04/20\", \"Years Since Epoch (t)\": 50.287, \"Max NDVI\": 0.944, \"Mean NDVI\": 0.403, \"Min NDVI\": -0.986, \"Region\": \"Tsimanampetsotsa\"}, {\"Month\": \"04/20\", \"Years Since Epoch (t)\": 50.287, \"Max NDVI\": 0.955, \"Mean NDVI\": 0.759, \"Min NDVI\": -0.431, \"Region\": \"d'Ankarafantsika\"}, {\"Month\": \"04/20\", \"Years Since Epoch (t)\": 50.287, \"Max NDVI\": 0.998, \"Mean NDVI\": 0.349, \"Min NDVI\": -0.998, \"Region\": \"Masoala\"}, {\"Month\": \"04/20\", \"Years Since Epoch (t)\": 50.287, \"Max NDVI\": 0.924, \"Mean NDVI\": 0.599, \"Min NDVI\": -0.547, \"Region\": \"Alan'Ankirisa\"}, {\"Month\": \"05/20\", \"Years Since Epoch (t)\": 50.369, \"Max NDVI\": 0.999, \"Mean NDVI\": 0.778, \"Min NDVI\": -0.487, \"Region\": \"d'Andohahela\"}, {\"Month\": \"05/20\", \"Years Since Epoch (t)\": 50.369, \"Max NDVI\": 0.999, \"Mean NDVI\": 0.819, \"Min NDVI\": -0.866, \"Region\": \"Midongy Betofaka\"}, {\"Month\": \"05/20\", \"Years Since Epoch (t)\": 50.369, \"Max NDVI\": 0.999, \"Mean NDVI\": 0.394, \"Min NDVI\": -0.999, \"Region\": \"Tsimanampetsotsa\"}, {\"Month\": \"05/20\", \"Years Since Epoch (t)\": 50.369, \"Max NDVI\": 0.942, \"Mean NDVI\": 0.712, \"Min NDVI\": -0.458, \"Region\": \"d'Ankarafantsika\"}, {\"Month\": \"05/20\", \"Years Since Epoch (t)\": 50.369, \"Max NDVI\": 0.999, \"Mean NDVI\": 0.539, \"Min NDVI\": -0.997, \"Region\": \"Masoala\"}, {\"Month\": \"05/20\", \"Years Since Epoch (t)\": 50.369, \"Max NDVI\": 0.999, \"Mean NDVI\": 0.555, \"Min NDVI\": -0.732, \"Region\": \"Alan'Ankirisa\"}, {\"Month\": \"06/20\", \"Years Since Epoch (t)\": 50.454, \"Max NDVI\": 0.999, \"Mean NDVI\": 0.758, \"Min NDVI\": -0.48, \"Region\": \"d'Andohahela\"}, {\"Month\": \"06/20\", \"Years Since Epoch (t)\": 50.454, \"Max NDVI\": 0.999, \"Mean NDVI\": 0.801, \"Min NDVI\": -0.606, \"Region\": \"Midongy Betofaka\"}, {\"Month\": \"06/20\", \"Years Since Epoch (t)\": 50.454, \"Max NDVI\": 0.999, \"Mean NDVI\": 0.368, \"Min NDVI\": -0.999, \"Region\": \"Tsimanampetsotsa\"}, {\"Month\": \"06/20\", \"Years Since Epoch (t)\": 50.454, \"Max NDVI\": 0.982, \"Mean NDVI\": 0.677, \"Min NDVI\": -0.388, \"Region\": \"d'Ankarafantsika\"}, {\"Month\": \"06/20\", \"Years Since Epoch (t)\": 50.454, \"Max NDVI\": 0.998, \"Mean NDVI\": 0.45, \"Min NDVI\": -0.974, \"Region\": \"Masoala\"}, {\"Month\": \"06/20\", \"Years Since Epoch (t)\": 50.454, \"Max NDVI\": 0.94, \"Mean NDVI\": 0.502, \"Min NDVI\": -0.742, \"Region\": \"Alan'Ankirisa\"}, {\"Month\": \"07/20\", \"Years Since Epoch (t)\": 50.536, \"Max NDVI\": 0.999, \"Mean NDVI\": 0.744, \"Min NDVI\": -0.427, \"Region\": \"d'Andohahela\"}, {\"Month\": \"07/20\", \"Years Since Epoch (t)\": 50.536, \"Max NDVI\": 0.999, \"Mean NDVI\": 0.797, \"Min NDVI\": -0.92, \"Region\": \"Midongy Betofaka\"}, {\"Month\": \"07/20\", \"Years Since Epoch (t)\": 50.536, \"Max NDVI\": 0.999, \"Mean NDVI\": 0.318, \"Min NDVI\": -0.999, \"Region\": \"Tsimanampetsotsa\"}, {\"Month\": \"07/20\", \"Years Since Epoch (t)\": 50.536, \"Max NDVI\": 0.955, \"Mean NDVI\": 0.648, \"Min NDVI\": -0.387, \"Region\": \"d'Ankarafantsika\"}, {\"Month\": \"07/20\", \"Years Since Epoch (t)\": 50.536, \"Max NDVI\": 1.0, \"Mean NDVI\": 0.446, \"Min NDVI\": -0.992, \"Region\": \"Masoala\"}, {\"Month\": \"07/20\", \"Years Since Epoch (t)\": 50.536, \"Max NDVI\": 0.94, \"Mean NDVI\": 0.424, \"Min NDVI\": -0.999, \"Region\": \"Alan'Ankirisa\"}, {\"Month\": \"08/20\", \"Years Since Epoch (t)\": 50.621, \"Max NDVI\": 0.998, \"Mean NDVI\": 0.69, \"Min NDVI\": -0.405, \"Region\": \"d'Andohahela\"}, {\"Month\": \"08/20\", \"Years Since Epoch (t)\": 50.621, \"Max NDVI\": 0.999, \"Mean NDVI\": 0.765, \"Min NDVI\": -0.993, \"Region\": \"Midongy Betofaka\"}, {\"Month\": \"08/20\", \"Years Since Epoch (t)\": 50.621, \"Max NDVI\": 0.946, \"Mean NDVI\": 0.24, \"Min NDVI\": -0.999, \"Region\": \"Tsimanampetsotsa\"}, {\"Month\": \"08/20\", \"Years Since Epoch (t)\": 50.621, \"Max NDVI\": 0.956, \"Mean NDVI\": 0.579, \"Min NDVI\": -0.527, \"Region\": \"d'Ankarafantsika\"}, {\"Month\": \"08/20\", \"Years Since Epoch (t)\": 50.621, \"Max NDVI\": 0.999, \"Mean NDVI\": 0.294, \"Min NDVI\": -0.998, \"Region\": \"Masoala\"}, {\"Month\": \"08/20\", \"Years Since Epoch (t)\": 50.621, \"Max NDVI\": 0.894, \"Mean NDVI\": 0.358, \"Min NDVI\": -0.604, \"Region\": \"Alan'Ankirisa\"}, {\"Month\": \"09/20\", \"Years Since Epoch (t)\": 50.706, \"Max NDVI\": 0.932, \"Mean NDVI\": 0.671, \"Min NDVI\": -0.427, \"Region\": \"d'Andohahela\"}, {\"Month\": \"09/20\", \"Years Since Epoch (t)\": 50.706, \"Max NDVI\": 0.905, \"Mean NDVI\": 0.714, \"Min NDVI\": -0.855, \"Region\": \"Midongy Betofaka\"}, {\"Month\": \"09/20\", \"Years Since Epoch (t)\": 50.706, \"Max NDVI\": 0.916, \"Mean NDVI\": 0.225, \"Min NDVI\": -0.999, \"Region\": \"Tsimanampetsotsa\"}, {\"Month\": \"09/20\", \"Years Since Epoch (t)\": 50.706, \"Max NDVI\": 0.894, \"Mean NDVI\": 0.496, \"Min NDVI\": -0.24, \"Region\": \"d'Ankarafantsika\"}, {\"Month\": \"09/20\", \"Years Since Epoch (t)\": 50.706, \"Max NDVI\": 0.999, \"Mean NDVI\": 0.441, \"Min NDVI\": -0.998, \"Region\": \"Masoala\"}, {\"Month\": \"09/20\", \"Years Since Epoch (t)\": 50.706, \"Max NDVI\": 0.862, \"Mean NDVI\": 0.305, \"Min NDVI\": -0.587, \"Region\": \"Alan'Ankirisa\"}, {\"Month\": \"10/20\", \"Years Since Epoch (t)\": 50.788, \"Max NDVI\": 0.916, \"Mean NDVI\": 0.655, \"Min NDVI\": -0.378, \"Region\": \"d'Andohahela\"}, {\"Month\": \"10/20\", \"Years Since Epoch (t)\": 50.788, \"Max NDVI\": 0.915, \"Mean NDVI\": 0.729, \"Min NDVI\": -0.64, \"Region\": \"Midongy Betofaka\"}, {\"Month\": \"10/20\", \"Years Since Epoch (t)\": 50.788, \"Max NDVI\": 0.907, \"Mean NDVI\": 0.197, \"Min NDVI\": -0.999, \"Region\": \"Tsimanampetsotsa\"}, {\"Month\": \"10/20\", \"Years Since Epoch (t)\": 50.788, \"Max NDVI\": 0.998, \"Mean NDVI\": 0.646, \"Min NDVI\": -0.322, \"Region\": \"d'Ankarafantsika\"}, {\"Month\": \"10/20\", \"Years Since Epoch (t)\": 50.788, \"Max NDVI\": 0.996, \"Mean NDVI\": 0.51, \"Min NDVI\": -0.997, \"Region\": \"Masoala\"}, {\"Month\": \"10/20\", \"Years Since Epoch (t)\": 50.788, \"Max NDVI\": 0.873, \"Mean NDVI\": 0.306, \"Min NDVI\": -0.463, \"Region\": \"Alan'Ankirisa\"}, {\"Month\": \"11/20\", \"Years Since Epoch (t)\": 50.873, \"Max NDVI\": 0.939, \"Mean NDVI\": 0.673, \"Min NDVI\": -0.306, \"Region\": \"d'Andohahela\"}, {\"Month\": \"11/20\", \"Years Since Epoch (t)\": 50.873, \"Max NDVI\": 0.92, \"Mean NDVI\": 0.718, \"Min NDVI\": -0.979, \"Region\": \"Midongy Betofaka\"}, {\"Month\": \"11/20\", \"Years Since Epoch (t)\": 50.873, \"Max NDVI\": 0.916, \"Mean NDVI\": 0.193, \"Min NDVI\": -0.999, \"Region\": \"Tsimanampetsotsa\"}, {\"Month\": \"11/20\", \"Years Since Epoch (t)\": 50.873, \"Max NDVI\": 0.903, \"Mean NDVI\": 0.596, \"Min NDVI\": -0.282, \"Region\": \"d'Ankarafantsika\"}, {\"Month\": \"11/20\", \"Years Since Epoch (t)\": 50.873, \"Max NDVI\": 0.997, \"Mean NDVI\": 0.561, \"Min NDVI\": -0.998, \"Region\": \"Masoala\"}, {\"Month\": \"11/20\", \"Years Since Epoch (t)\": 50.873, \"Max NDVI\": 0.863, \"Mean NDVI\": 0.297, \"Min NDVI\": -0.433, \"Region\": \"Alan'Ankirisa\"}, {\"Month\": \"12/20\", \"Years Since Epoch (t)\": 50.955, \"Max NDVI\": 0.956, \"Mean NDVI\": 0.679, \"Min NDVI\": -0.269, \"Region\": \"d'Andohahela\"}, {\"Month\": \"12/20\", \"Years Since Epoch (t)\": 50.955, \"Max NDVI\": 0.929, \"Mean NDVI\": 0.727, \"Min NDVI\": -0.605, \"Region\": \"Midongy Betofaka\"}, {\"Month\": \"12/20\", \"Years Since Epoch (t)\": 50.955, \"Max NDVI\": 0.996, \"Mean NDVI\": 0.211, \"Min NDVI\": -0.999, \"Region\": \"Tsimanampetsotsa\"}, {\"Month\": \"12/20\", \"Years Since Epoch (t)\": 50.955, \"Max NDVI\": 0.999, \"Mean NDVI\": 0.686, \"Min NDVI\": -0.501, \"Region\": \"d'Ankarafantsika\"}, {\"Month\": \"12/20\", \"Years Since Epoch (t)\": 50.955, \"Max NDVI\": 0.996, \"Mean NDVI\": 0.491, \"Min NDVI\": -0.998, \"Region\": \"Masoala\"}, {\"Month\": \"12/20\", \"Years Since Epoch (t)\": 50.955, \"Max NDVI\": 0.982, \"Mean NDVI\": 0.425, \"Min NDVI\": -0.479, \"Region\": \"Alan'Ankirisa\"}, {\"Month\": \"01/21\", \"Years Since Epoch (t)\": 51.04, \"Max NDVI\": 0.989, \"Mean NDVI\": 0.696, \"Min NDVI\": -0.471, \"Region\": \"d'Andohahela\"}, {\"Month\": \"01/21\", \"Years Since Epoch (t)\": 51.04, \"Max NDVI\": 0.96, \"Mean NDVI\": 0.786, \"Min NDVI\": -0.65, \"Region\": \"Midongy Betofaka\"}, {\"Month\": \"01/21\", \"Years Since Epoch (t)\": 51.04, \"Max NDVI\": 0.964, \"Mean NDVI\": 0.257, \"Min NDVI\": -0.999, \"Region\": \"Tsimanampetsotsa\"}, {\"Month\": \"01/21\", \"Years Since Epoch (t)\": 51.04, \"Max NDVI\": 0.999, \"Mean NDVI\": 0.716, \"Min NDVI\": -0.513, \"Region\": \"d'Ankarafantsika\"}, {\"Month\": \"01/21\", \"Years Since Epoch (t)\": 51.04, \"Max NDVI\": 0.999, \"Mean NDVI\": 0.487, \"Min NDVI\": -0.996, \"Region\": \"Masoala\"}, {\"Month\": \"01/21\", \"Years Since Epoch (t)\": 51.04, \"Max NDVI\": 0.952, \"Mean NDVI\": 0.635, \"Min NDVI\": -0.824, \"Region\": \"Alan'Ankirisa\"}, {\"Month\": \"02/21\", \"Years Since Epoch (t)\": 51.125, \"Max NDVI\": 0.975, \"Mean NDVI\": 0.714, \"Min NDVI\": -0.435, \"Region\": \"d'Andohahela\"}, {\"Month\": \"02/21\", \"Years Since Epoch (t)\": 51.125, \"Max NDVI\": 0.999, \"Mean NDVI\": 0.782, \"Min NDVI\": -0.646, \"Region\": \"Midongy Betofaka\"}, {\"Month\": \"02/21\", \"Years Since Epoch (t)\": 51.125, \"Max NDVI\": 0.93, \"Mean NDVI\": 0.304, \"Min NDVI\": -0.999, \"Region\": \"Tsimanampetsotsa\"}, {\"Month\": \"02/21\", \"Years Since Epoch (t)\": 51.125, \"Max NDVI\": 0.999, \"Mean NDVI\": 0.707, \"Min NDVI\": -0.42, \"Region\": \"d'Ankarafantsika\"}, {\"Month\": \"02/21\", \"Years Since Epoch (t)\": 51.125, \"Max NDVI\": 0.999, \"Mean NDVI\": 0.422, \"Min NDVI\": -0.998, \"Region\": \"Masoala\"}, {\"Month\": \"02/21\", \"Years Since Epoch (t)\": 51.125, \"Max NDVI\": 0.931, \"Mean NDVI\": 0.711, \"Min NDVI\": -0.554, \"Region\": \"Alan'Ankirisa\"}, {\"Month\": \"03/21\", \"Years Since Epoch (t)\": 51.202, \"Max NDVI\": 0.999, \"Mean NDVI\": 0.762, \"Min NDVI\": -0.491, \"Region\": \"d'Andohahela\"}, {\"Month\": \"03/21\", \"Years Since Epoch (t)\": 51.202, \"Max NDVI\": 0.999, \"Mean NDVI\": 0.792, \"Min NDVI\": -0.995, \"Region\": \"Midongy Betofaka\"}, {\"Month\": \"03/21\", \"Years Since Epoch (t)\": 51.202, \"Max NDVI\": 0.901, \"Mean NDVI\": 0.425, \"Min NDVI\": -0.947, \"Region\": \"Tsimanampetsotsa\"}, {\"Month\": \"03/21\", \"Years Since Epoch (t)\": 51.202, \"Max NDVI\": 0.998, \"Mean NDVI\": 0.771, \"Min NDVI\": -0.511, \"Region\": \"d'Ankarafantsika\"}, {\"Month\": \"03/21\", \"Years Since Epoch (t)\": 51.202, \"Max NDVI\": 1.0, \"Mean NDVI\": 0.523, \"Min NDVI\": -0.997, \"Region\": \"Masoala\"}, {\"Month\": \"03/21\", \"Years Since Epoch (t)\": 51.202, \"Max NDVI\": 0.984, \"Mean NDVI\": 0.702, \"Min NDVI\": -0.768, \"Region\": \"Alan'Ankirisa\"}, {\"Month\": \"04/21\", \"Years Since Epoch (t)\": 51.286, \"Max NDVI\": 0.999, \"Mean NDVI\": 0.773, \"Min NDVI\": -0.507, \"Region\": \"d'Andohahela\"}, {\"Month\": \"04/21\", \"Years Since Epoch (t)\": 51.286, \"Max NDVI\": 0.998, \"Mean NDVI\": 0.815, \"Min NDVI\": -0.754, \"Region\": \"Midongy Betofaka\"}, {\"Month\": \"04/21\", \"Years Since Epoch (t)\": 51.286, \"Max NDVI\": 1.0, \"Mean NDVI\": 0.41, \"Min NDVI\": -0.999, \"Region\": \"Tsimanampetsotsa\"}, {\"Month\": \"04/21\", \"Years Since Epoch (t)\": 51.286, \"Max NDVI\": 0.962, \"Mean NDVI\": 0.749, \"Min NDVI\": -0.459, \"Region\": \"d'Ankarafantsika\"}, {\"Month\": \"04/21\", \"Years Since Epoch (t)\": 51.286, \"Max NDVI\": 0.999, \"Mean NDVI\": 0.531, \"Min NDVI\": -0.997, \"Region\": \"Masoala\"}, {\"Month\": \"04/21\", \"Years Since Epoch (t)\": 51.286, \"Max NDVI\": 0.927, \"Mean NDVI\": 0.62, \"Min NDVI\": -0.68, \"Region\": \"Alan'Ankirisa\"}, {\"Month\": \"05/21\", \"Years Since Epoch (t)\": 51.369, \"Max NDVI\": 0.999, \"Mean NDVI\": 0.751, \"Min NDVI\": -0.459, \"Region\": \"d'Andohahela\"}, {\"Month\": \"05/21\", \"Years Since Epoch (t)\": 51.369, \"Max NDVI\": 0.999, \"Mean NDVI\": 0.806, \"Min NDVI\": -0.991, \"Region\": \"Midongy Betofaka\"}, {\"Month\": \"05/21\", \"Years Since Epoch (t)\": 51.369, \"Max NDVI\": 1.0, \"Mean NDVI\": 0.405, \"Min NDVI\": -0.999, \"Region\": \"Tsimanampetsotsa\"}, {\"Month\": \"05/21\", \"Years Since Epoch (t)\": 51.369, \"Max NDVI\": 0.924, \"Mean NDVI\": 0.689, \"Min NDVI\": -0.501, \"Region\": \"d'Ankarafantsika\"}, {\"Month\": \"05/21\", \"Years Since Epoch (t)\": 51.369, \"Max NDVI\": 0.999, \"Mean NDVI\": 0.549, \"Min NDVI\": -0.997, \"Region\": \"Masoala\"}, {\"Month\": \"05/21\", \"Years Since Epoch (t)\": 51.369, \"Max NDVI\": 0.931, \"Mean NDVI\": 0.54, \"Min NDVI\": -0.614, \"Region\": \"Alan'Ankirisa\"}, {\"Month\": \"06/21\", \"Years Since Epoch (t)\": 51.453, \"Max NDVI\": 1.0, \"Mean NDVI\": 0.768, \"Min NDVI\": -0.958, \"Region\": \"d'Andohahela\"}, {\"Month\": \"06/21\", \"Years Since Epoch (t)\": 51.453, \"Max NDVI\": 1.0, \"Mean NDVI\": 0.815, \"Min NDVI\": -0.992, \"Region\": \"Midongy Betofaka\"}, {\"Month\": \"06/21\", \"Years Since Epoch (t)\": 51.453, \"Max NDVI\": 1.0, \"Mean NDVI\": 0.373, \"Min NDVI\": -0.999, \"Region\": \"Tsimanampetsotsa\"}, {\"Month\": \"06/21\", \"Years Since Epoch (t)\": 51.453, \"Max NDVI\": 0.949, \"Mean NDVI\": 0.664, \"Min NDVI\": -0.449, \"Region\": \"d'Ankarafantsika\"}, {\"Month\": \"06/21\", \"Years Since Epoch (t)\": 51.453, \"Max NDVI\": 1.0, \"Mean NDVI\": 0.368, \"Min NDVI\": -0.997, \"Region\": \"Masoala\"}, {\"Month\": \"06/21\", \"Years Since Epoch (t)\": 51.453, \"Max NDVI\": 0.931, \"Mean NDVI\": 0.489, \"Min NDVI\": -0.657, \"Region\": \"Alan'Ankirisa\"}, {\"Month\": \"07/21\", \"Years Since Epoch (t)\": 51.536, \"Max NDVI\": 1.0, \"Mean NDVI\": 0.758, \"Min NDVI\": -0.99, \"Region\": \"d'Andohahela\"}, {\"Month\": \"07/21\", \"Years Since Epoch (t)\": 51.536, \"Max NDVI\": 0.999, \"Mean NDVI\": 0.787, \"Min NDVI\": -0.98, \"Region\": \"Midongy Betofaka\"}, {\"Month\": \"07/21\", \"Years Since Epoch (t)\": 51.536, \"Max NDVI\": 1.0, \"Mean NDVI\": 0.321, \"Min NDVI\": -0.999, \"Region\": \"Tsimanampetsotsa\"}, {\"Month\": \"07/21\", \"Years Since Epoch (t)\": 51.536, \"Max NDVI\": 0.993, \"Mean NDVI\": 0.616, \"Min NDVI\": -0.311, \"Region\": \"d'Ankarafantsika\"}, {\"Month\": \"07/21\", \"Years Since Epoch (t)\": 51.536, \"Max NDVI\": 1.0, \"Mean NDVI\": 0.477, \"Min NDVI\": -0.998, \"Region\": \"Masoala\"}, {\"Month\": \"07/21\", \"Years Since Epoch (t)\": 51.536, \"Max NDVI\": 0.938, \"Mean NDVI\": 0.439, \"Min NDVI\": -0.998, \"Region\": \"Alan'Ankirisa\"}, {\"Month\": \"08/21\", \"Years Since Epoch (t)\": 51.62, \"Max NDVI\": 0.962, \"Mean NDVI\": 0.7, \"Min NDVI\": -0.4, \"Region\": \"d'Andohahela\"}, {\"Month\": \"08/21\", \"Years Since Epoch (t)\": 51.62, \"Max NDVI\": 0.99, \"Mean NDVI\": 0.752, \"Min NDVI\": -0.864, \"Region\": \"Midongy Betofaka\"}, {\"Month\": \"08/21\", \"Years Since Epoch (t)\": 51.62, \"Max NDVI\": 0.999, \"Mean NDVI\": 0.244, \"Min NDVI\": -0.999, \"Region\": \"Tsimanampetsotsa\"}, {\"Month\": \"08/21\", \"Years Since Epoch (t)\": 51.62, \"Max NDVI\": 0.946, \"Mean NDVI\": 0.54, \"Min NDVI\": -0.336, \"Region\": \"d'Ankarafantsika\"}, {\"Month\": \"08/21\", \"Years Since Epoch (t)\": 51.62, \"Max NDVI\": 0.999, \"Mean NDVI\": 0.481, \"Min NDVI\": -0.997, \"Region\": \"Masoala\"}, {\"Month\": \"08/21\", \"Years Since Epoch (t)\": 51.62, \"Max NDVI\": 0.884, \"Mean NDVI\": 0.343, \"Min NDVI\": -0.648, \"Region\": \"Alan'Ankirisa\"}, {\"Month\": \"09/21\", \"Years Since Epoch (t)\": 51.705, \"Max NDVI\": 0.938, \"Mean NDVI\": 0.68, \"Min NDVI\": -0.396, \"Region\": \"d'Andohahela\"}, {\"Month\": \"09/21\", \"Years Since Epoch (t)\": 51.705, \"Max NDVI\": 0.922, \"Mean NDVI\": 0.724, \"Min NDVI\": -0.924, \"Region\": \"Midongy Betofaka\"}, {\"Month\": \"09/21\", \"Years Since Epoch (t)\": 51.705, \"Max NDVI\": 0.926, \"Mean NDVI\": 0.209, \"Min NDVI\": -0.968, \"Region\": \"Tsimanampetsotsa\"}, {\"Month\": \"09/21\", \"Years Since Epoch (t)\": 51.705, \"Max NDVI\": 0.954, \"Mean NDVI\": 0.473, \"Min NDVI\": -0.357, \"Region\": \"d'Ankarafantsika\"}, {\"Month\": \"09/21\", \"Years Since Epoch (t)\": 51.705, \"Max NDVI\": 0.999, \"Mean NDVI\": 0.454, \"Min NDVI\": -0.997, \"Region\": \"Masoala\"}, {\"Month\": \"09/21\", \"Years Since Epoch (t)\": 51.705, \"Max NDVI\": 0.901, \"Mean NDVI\": 0.312, \"Min NDVI\": -0.734, \"Region\": \"Alan'Ankirisa\"}, {\"Month\": \"10/21\", \"Years Since Epoch (t)\": 51.788, \"Max NDVI\": 0.934, \"Mean NDVI\": 0.632, \"Min NDVI\": -0.252, \"Region\": \"d'Andohahela\"}, {\"Month\": \"10/21\", \"Years Since Epoch (t)\": 51.788, \"Max NDVI\": 0.914, \"Mean NDVI\": 0.701, \"Min NDVI\": -0.984, \"Region\": \"Midongy Betofaka\"}, {\"Month\": \"10/21\", \"Years Since Epoch (t)\": 51.788, \"Max NDVI\": 0.934, \"Mean NDVI\": 0.196, \"Min NDVI\": -0.999, \"Region\": \"Tsimanampetsotsa\"}, {\"Month\": \"10/21\", \"Years Since Epoch (t)\": 51.788, \"Max NDVI\": 0.954, \"Mean NDVI\": 0.448, \"Min NDVI\": -0.248, \"Region\": \"d'Ankarafantsika\"}, {\"Month\": \"10/21\", \"Years Since Epoch (t)\": 51.788, \"Max NDVI\": 0.995, \"Mean NDVI\": 0.587, \"Min NDVI\": -0.995, \"Region\": \"Masoala\"}, {\"Month\": \"10/21\", \"Years Since Epoch (t)\": 51.788, \"Max NDVI\": 0.869, \"Mean NDVI\": 0.283, \"Min NDVI\": -0.7, \"Region\": \"Alan'Ankirisa\"}]}}, {\"mode\": \"vega-lite\"});\n",
       "</script>"
      ],
      "text/plain": [
       "alt.FacetChart(...)"
      ]
     },
     "execution_count": 13,
     "metadata": {},
     "output_type": "execute_result"
    }
   ],
   "source": [
    "alt.layer(alt.Chart(df\n",
    "            ).mark_line(\n",
    "            ).encode(x=alt.X(\"Month:O\", sort=df[\"Month\"].unique()),\n",
    "                     y=\"Mean NDVI:Q\",\n",
    "                     color=\"Region:N\"), \n",
    "          alt.Chart(df\n",
    "            ).mark_circle(size=45\n",
    "            ).encode(x=alt.X(\"Month:O\", sort=df[\"Month\"].unique()),\n",
    "                     y=\"Mean NDVI:Q\",\n",
    "                     color=\"Region:N\",\n",
    "                     tooltip=[\"Month\", \"Region\", \"Mean NDVI\"])\n",
    "  ).properties(title=\"Quarterly Mean NDVI in Madagascar\",\n",
    "               height=300, width=300\n",
    "  ).facet(facet=\"Region:N\", columns=3)"
   ]
  },
  {
   "cell_type": "markdown",
   "metadata": {
    "id": "2tmQ-tL70PGh"
   },
   "source": [
    "## Trend Analysis"
   ]
  },
  {
   "cell_type": "code",
   "execution_count": 14,
   "metadata": {
    "id": "b-AQZ1mF81Ds"
   },
   "outputs": [],
   "source": [
    "def plotCharts(df_1, df_2, color, region):\n",
    "  \"\"\"\n",
    "  Returns two charts where the first displays observed mean ndvi and fitted values.\n",
    "  A vertical line at 11/21 seperates fitted values from predicted values.\n",
    "  The second chart displays detrended mean NDVI by plotting a model's residuals.\n",
    "\n",
    "  \"\"\"\n",
    "  plot_1 = alt.layer(alt.Chart(df_1).mark_line(color=color              # observed ndvi line chart\n",
    "                                   ).encode(x=alt.X(\"Month:O\",\n",
    "                                                     sort=formattedAxisDates),\n",
    "                                            y=\"Mean NDVI:Q\"),\n",
    "                     alt.Chart(df_1).mark_circle(size=50, color=color  # observed ndvi scatterplot\n",
    "                                   ).encode(x=alt.X(\"Month:O\",\n",
    "                                                     sort=formattedAxisDates),\n",
    "                                            y=\"Mean NDVI:Q\",\n",
    "                                            tooltip=[\"Month\", \"Region\", \"Mean NDVI\"]),\n",
    "                     alt.Chart(df_1).mark_line(color=\"red\"              # fitted ndvi line chart\n",
    "                                   ).encode(x=alt.X(\"Month:O\",\n",
    "                                                     sort=formattedAxisDates),\n",
    "                                            y=alt.Y(\"Fitted Mean NDVI:Q\", title=\"Mean NDVI\")),\n",
    "                     alt.Chart(df_1).mark_circle(size=50, color=\"red\"   # fitted ndvi scatterplot\n",
    "                                   ).encode(x=alt.X(\"Month:O\",\n",
    "                                                     sort=formattedAxisDates),\n",
    "                                            y=alt.Y(\"Fitted Mean NDVI:Q\", title=\"Mean NDVI\"),\n",
    "                                            tooltip=[\"Month\", \"Region\", \"Fitted Mean NDVI\", \"Residual\"]),\n",
    "                     alt.Chart(pd.DataFrame({'Month': ['11/21']})\n",
    "                       ).mark_rule().encode(x=alt.X(\"Month:O\",\n",
    "                                                     sort=formattedAxisDates)),\n",
    "                     alt.Chart(df_2).mark_line(color=\"red\"              # predicted ndvi line chart\n",
    "                                   ).encode(x=alt.X(\"Month:O\",\n",
    "                                                     sort=formattedAxisDates),\n",
    "                                            y=alt.Y(\"Predicted Mean NDVI:Q\", title=\"Mean NDVI\")),\n",
    "                     alt.Chart(df_2).mark_circle(size=50, color=\"red\"  # predicted ndvi scatterplot\n",
    "                                   ).encode(x=alt.X(\"Month:O\",\n",
    "                                                     sort=formattedAxisDates),\n",
    "                                            y=alt.Y(\"Predicted Mean NDVI:Q\", title=\"Mean NDVI\"),\n",
    "                                            tooltip=[\"Month\", \"Region\", \"Predicted Mean NDVI\"]))\n",
    "  \n",
    "  plot_2 = alt.layer(alt.Chart(df_1).mark_line(color=color\n",
    "                                   ).encode(x=alt.X(\"Month:O\",\n",
    "                                                     sort=df_1[\"Month\"].unique()),\n",
    "                                            y=\"Residual:Q\"),\n",
    "                     alt.Chart(df_1).mark_circle(size=50, color=color\n",
    "                                   ).encode(x=alt.X(\"Month:O\",\n",
    "                                                     sort=df_1[\"Month\"].unique()),\n",
    "                                            y=\"Residual:Q\",\n",
    "                                            tooltip=[\"Month\", \"Region\", \"Residual\"]))\n",
    "  \n",
    "  return alt.hconcat(plot_1.properties(title=\"{} Monthly Mean NDVI\".format(region),\n",
    "                                       height=250, width=400),\n",
    "                     plot_2.properties(title=\"{} Detrended Monthly Mean NDVI\".format(region),\n",
    "                                       height=250, width=400))"
   ]
  },
  {
   "cell_type": "code",
   "execution_count": 15,
   "metadata": {
    "colab": {
     "base_uri": "https://localhost:8080/",
     "height": 1000
    },
    "id": "3h4yz5awaiWb",
    "outputId": "7726ac7b-85dc-47b9-ab7b-71033272b5d6"
   },
   "outputs": [
    {
     "data": {
      "text/html": [
       "\n",
       "<div id=\"altair-viz-69711f6cf76545819b2511ce16368863\"></div>\n",
       "<script type=\"text/javascript\">\n",
       "  (function(spec, embedOpt){\n",
       "    let outputDiv = document.currentScript.previousElementSibling;\n",
       "    if (outputDiv.id !== \"altair-viz-69711f6cf76545819b2511ce16368863\") {\n",
       "      outputDiv = document.getElementById(\"altair-viz-69711f6cf76545819b2511ce16368863\");\n",
       "    }\n",
       "    const paths = {\n",
       "      \"vega\": \"https://cdn.jsdelivr.net/npm//vega@5?noext\",\n",
       "      \"vega-lib\": \"https://cdn.jsdelivr.net/npm//vega-lib?noext\",\n",
       "      \"vega-lite\": \"https://cdn.jsdelivr.net/npm//vega-lite@4.8.1?noext\",\n",
       "      \"vega-embed\": \"https://cdn.jsdelivr.net/npm//vega-embed@6?noext\",\n",
       "    };\n",
       "\n",
       "    function loadScript(lib) {\n",
       "      return new Promise(function(resolve, reject) {\n",
       "        var s = document.createElement('script');\n",
       "        s.src = paths[lib];\n",
       "        s.async = true;\n",
       "        s.onload = () => resolve(paths[lib]);\n",
       "        s.onerror = () => reject(`Error loading script: ${paths[lib]}`);\n",
       "        document.getElementsByTagName(\"head\")[0].appendChild(s);\n",
       "      });\n",
       "    }\n",
       "\n",
       "    function showError(err) {\n",
       "      outputDiv.innerHTML = `<div class=\"error\" style=\"color:red;\">${err}</div>`;\n",
       "      throw err;\n",
       "    }\n",
       "\n",
       "    function displayChart(vegaEmbed) {\n",
       "      vegaEmbed(outputDiv, spec, embedOpt)\n",
       "        .catch(err => showError(`Javascript Error: ${err.message}<br>This usually means there's a typo in your chart specification. See the javascript console for the full traceback.`));\n",
       "    }\n",
       "\n",
       "    if(typeof define === \"function\" && define.amd) {\n",
       "      requirejs.config({paths});\n",
       "      require([\"vega-embed\"], displayChart, err => showError(`Error loading script: ${err.message}`));\n",
       "    } else if (typeof vegaEmbed === \"function\") {\n",
       "      displayChart(vegaEmbed);\n",
       "    } else {\n",
       "      loadScript(\"vega\")\n",
       "        .then(() => loadScript(\"vega-lite\"))\n",
       "        .then(() => loadScript(\"vega-embed\"))\n",
       "        .catch(showError)\n",
       "        .then(() => displayChart(vegaEmbed));\n",
       "    }\n",
       "  })({\"config\": {\"view\": {\"continuousWidth\": 400, \"continuousHeight\": 300}}, \"vconcat\": [{\"hconcat\": [{\"layer\": [{\"data\": {\"name\": \"data-b124232c54d6063de72db85893def138\"}, \"mark\": {\"type\": \"line\", \"color\": \"#FFD13C\"}, \"encoding\": {\"x\": {\"type\": \"ordinal\", \"field\": \"Month\", \"sort\": [\"01/19\", \"02/19\", \"03/19\", \"04/19\", \"05/19\", \"06/19\", \"07/19\", \"08/19\", \"09/19\", \"10/19\", \"11/19\", \"12/19\", \"01/20\", \"02/20\", \"03/20\", \"04/20\", \"05/20\", \"06/20\", \"07/20\", \"08/20\", \"09/20\", \"10/20\", \"11/20\", \"12/20\", \"01/21\", \"02/21\", \"03/21\", \"04/21\", \"05/21\", \"06/21\", \"07/21\", \"08/21\", \"09/21\", \"10/21\", \"11/21\", \"12/21\", \"01/22\", \"02/22\", \"03/22\", \"04/22\", \"05/22\", \"06/22\", \"07/22\", \"08/22\", \"09/22\", \"10/22\", \"11/22\", \"12/22\"]}, \"y\": {\"type\": \"quantitative\", \"field\": \"Mean NDVI\"}}}, {\"data\": {\"name\": \"data-b124232c54d6063de72db85893def138\"}, \"mark\": {\"type\": \"circle\", \"color\": \"#FFD13C\", \"size\": 50}, \"encoding\": {\"tooltip\": [{\"type\": \"nominal\", \"field\": \"Month\"}, {\"type\": \"nominal\", \"field\": \"Region\"}, {\"type\": \"quantitative\", \"field\": \"Mean NDVI\"}], \"x\": {\"type\": \"ordinal\", \"field\": \"Month\", \"sort\": [\"01/19\", \"02/19\", \"03/19\", \"04/19\", \"05/19\", \"06/19\", \"07/19\", \"08/19\", \"09/19\", \"10/19\", \"11/19\", \"12/19\", \"01/20\", \"02/20\", \"03/20\", \"04/20\", \"05/20\", \"06/20\", \"07/20\", \"08/20\", \"09/20\", \"10/20\", \"11/20\", \"12/20\", \"01/21\", \"02/21\", \"03/21\", \"04/21\", \"05/21\", \"06/21\", \"07/21\", \"08/21\", \"09/21\", \"10/21\", \"11/21\", \"12/21\", \"01/22\", \"02/22\", \"03/22\", \"04/22\", \"05/22\", \"06/22\", \"07/22\", \"08/22\", \"09/22\", \"10/22\", \"11/22\", \"12/22\"]}, \"y\": {\"type\": \"quantitative\", \"field\": \"Mean NDVI\"}}}, {\"data\": {\"name\": \"data-b124232c54d6063de72db85893def138\"}, \"mark\": {\"type\": \"line\", \"color\": \"red\"}, \"encoding\": {\"x\": {\"type\": \"ordinal\", \"field\": \"Month\", \"sort\": [\"01/19\", \"02/19\", \"03/19\", \"04/19\", \"05/19\", \"06/19\", \"07/19\", \"08/19\", \"09/19\", \"10/19\", \"11/19\", \"12/19\", \"01/20\", \"02/20\", \"03/20\", \"04/20\", \"05/20\", \"06/20\", \"07/20\", \"08/20\", \"09/20\", \"10/20\", \"11/20\", \"12/20\", \"01/21\", \"02/21\", \"03/21\", \"04/21\", \"05/21\", \"06/21\", \"07/21\", \"08/21\", \"09/21\", \"10/21\", \"11/21\", \"12/21\", \"01/22\", \"02/22\", \"03/22\", \"04/22\", \"05/22\", \"06/22\", \"07/22\", \"08/22\", \"09/22\", \"10/22\", \"11/22\", \"12/22\"]}, \"y\": {\"type\": \"quantitative\", \"field\": \"Fitted Mean NDVI\", \"title\": \"Mean NDVI\"}}}, {\"data\": {\"name\": \"data-b124232c54d6063de72db85893def138\"}, \"mark\": {\"type\": \"circle\", \"color\": \"red\", \"size\": 50}, \"encoding\": {\"tooltip\": [{\"type\": \"nominal\", \"field\": \"Month\"}, {\"type\": \"nominal\", \"field\": \"Region\"}, {\"type\": \"quantitative\", \"field\": \"Fitted Mean NDVI\"}, {\"type\": \"quantitative\", \"field\": \"Residual\"}], \"x\": {\"type\": \"ordinal\", \"field\": \"Month\", \"sort\": [\"01/19\", \"02/19\", \"03/19\", \"04/19\", \"05/19\", \"06/19\", \"07/19\", \"08/19\", \"09/19\", \"10/19\", \"11/19\", \"12/19\", \"01/20\", \"02/20\", \"03/20\", \"04/20\", \"05/20\", \"06/20\", \"07/20\", \"08/20\", \"09/20\", \"10/20\", \"11/20\", \"12/20\", \"01/21\", \"02/21\", \"03/21\", \"04/21\", \"05/21\", \"06/21\", \"07/21\", \"08/21\", \"09/21\", \"10/21\", \"11/21\", \"12/21\", \"01/22\", \"02/22\", \"03/22\", \"04/22\", \"05/22\", \"06/22\", \"07/22\", \"08/22\", \"09/22\", \"10/22\", \"11/22\", \"12/22\"]}, \"y\": {\"type\": \"quantitative\", \"field\": \"Fitted Mean NDVI\", \"title\": \"Mean NDVI\"}}}, {\"data\": {\"name\": \"data-af17fb00603506eec0702e5630e096ed\"}, \"mark\": \"rule\", \"encoding\": {\"x\": {\"type\": \"ordinal\", \"field\": \"Month\", \"sort\": [\"01/19\", \"02/19\", \"03/19\", \"04/19\", \"05/19\", \"06/19\", \"07/19\", \"08/19\", \"09/19\", \"10/19\", \"11/19\", \"12/19\", \"01/20\", \"02/20\", \"03/20\", \"04/20\", \"05/20\", \"06/20\", \"07/20\", \"08/20\", \"09/20\", \"10/20\", \"11/20\", \"12/20\", \"01/21\", \"02/21\", \"03/21\", \"04/21\", \"05/21\", \"06/21\", \"07/21\", \"08/21\", \"09/21\", \"10/21\", \"11/21\", \"12/21\", \"01/22\", \"02/22\", \"03/22\", \"04/22\", \"05/22\", \"06/22\", \"07/22\", \"08/22\", \"09/22\", \"10/22\", \"11/22\", \"12/22\"]}}}, {\"data\": {\"name\": \"data-e731b9d66df6db3e9a48555d0c701a07\"}, \"mark\": {\"type\": \"line\", \"color\": \"red\"}, \"encoding\": {\"x\": {\"type\": \"ordinal\", \"field\": \"Month\", \"sort\": [\"01/19\", \"02/19\", \"03/19\", \"04/19\", \"05/19\", \"06/19\", \"07/19\", \"08/19\", \"09/19\", \"10/19\", \"11/19\", \"12/19\", \"01/20\", \"02/20\", \"03/20\", \"04/20\", \"05/20\", \"06/20\", \"07/20\", \"08/20\", \"09/20\", \"10/20\", \"11/20\", \"12/20\", \"01/21\", \"02/21\", \"03/21\", \"04/21\", \"05/21\", \"06/21\", \"07/21\", \"08/21\", \"09/21\", \"10/21\", \"11/21\", \"12/21\", \"01/22\", \"02/22\", \"03/22\", \"04/22\", \"05/22\", \"06/22\", \"07/22\", \"08/22\", \"09/22\", \"10/22\", \"11/22\", \"12/22\"]}, \"y\": {\"type\": \"quantitative\", \"field\": \"Predicted Mean NDVI\", \"title\": \"Mean NDVI\"}}}, {\"data\": {\"name\": \"data-e731b9d66df6db3e9a48555d0c701a07\"}, \"mark\": {\"type\": \"circle\", \"color\": \"red\", \"size\": 50}, \"encoding\": {\"tooltip\": [{\"type\": \"nominal\", \"field\": \"Month\"}, {\"type\": \"nominal\", \"field\": \"Region\"}, {\"type\": \"quantitative\", \"field\": \"Predicted Mean NDVI\"}], \"x\": {\"type\": \"ordinal\", \"field\": \"Month\", \"sort\": [\"01/19\", \"02/19\", \"03/19\", \"04/19\", \"05/19\", \"06/19\", \"07/19\", \"08/19\", \"09/19\", \"10/19\", \"11/19\", \"12/19\", \"01/20\", \"02/20\", \"03/20\", \"04/20\", \"05/20\", \"06/20\", \"07/20\", \"08/20\", \"09/20\", \"10/20\", \"11/20\", \"12/20\", \"01/21\", \"02/21\", \"03/21\", \"04/21\", \"05/21\", \"06/21\", \"07/21\", \"08/21\", \"09/21\", \"10/21\", \"11/21\", \"12/21\", \"01/22\", \"02/22\", \"03/22\", \"04/22\", \"05/22\", \"06/22\", \"07/22\", \"08/22\", \"09/22\", \"10/22\", \"11/22\", \"12/22\"]}, \"y\": {\"type\": \"quantitative\", \"field\": \"Predicted Mean NDVI\", \"title\": \"Mean NDVI\"}}}], \"height\": 250, \"title\": \"d'Andohahela Monthly Mean NDVI\", \"width\": 400}, {\"layer\": [{\"mark\": {\"type\": \"line\", \"color\": \"#FFD13C\"}, \"encoding\": {\"x\": {\"type\": \"ordinal\", \"field\": \"Month\", \"sort\": [\"01/19\", \"02/19\", \"03/19\", \"04/19\", \"05/19\", \"06/19\", \"07/19\", \"08/19\", \"09/19\", \"10/19\", \"11/19\", \"12/19\", \"01/20\", \"02/20\", \"03/20\", \"04/20\", \"05/20\", \"06/20\", \"07/20\", \"08/20\", \"09/20\", \"10/20\", \"11/20\", \"12/20\", \"01/21\", \"02/21\", \"03/21\", \"04/21\", \"05/21\", \"06/21\", \"07/21\", \"08/21\", \"09/21\", \"10/21\"]}, \"y\": {\"type\": \"quantitative\", \"field\": \"Residual\"}}}, {\"mark\": {\"type\": \"circle\", \"color\": \"#FFD13C\", \"size\": 50}, \"encoding\": {\"tooltip\": [{\"type\": \"nominal\", \"field\": \"Month\"}, {\"type\": \"nominal\", \"field\": \"Region\"}, {\"type\": \"quantitative\", \"field\": \"Residual\"}], \"x\": {\"type\": \"ordinal\", \"field\": \"Month\", \"sort\": [\"01/19\", \"02/19\", \"03/19\", \"04/19\", \"05/19\", \"06/19\", \"07/19\", \"08/19\", \"09/19\", \"10/19\", \"11/19\", \"12/19\", \"01/20\", \"02/20\", \"03/20\", \"04/20\", \"05/20\", \"06/20\", \"07/20\", \"08/20\", \"09/20\", \"10/20\", \"11/20\", \"12/20\", \"01/21\", \"02/21\", \"03/21\", \"04/21\", \"05/21\", \"06/21\", \"07/21\", \"08/21\", \"09/21\", \"10/21\"]}, \"y\": {\"type\": \"quantitative\", \"field\": \"Residual\"}}}], \"data\": {\"name\": \"data-b124232c54d6063de72db85893def138\"}, \"height\": 250, \"title\": \"d'Andohahela Detrended Monthly Mean NDVI\", \"width\": 400}]}, {\"hconcat\": [{\"layer\": [{\"data\": {\"name\": \"data-ce0a92ecc63b9043436c366976336457\"}, \"mark\": {\"type\": \"line\", \"color\": \"#61ECB6\"}, \"encoding\": {\"x\": {\"type\": \"ordinal\", \"field\": \"Month\", \"sort\": [\"01/19\", \"02/19\", \"03/19\", \"04/19\", \"05/19\", \"06/19\", \"07/19\", \"08/19\", \"09/19\", \"10/19\", \"11/19\", \"12/19\", \"01/20\", \"02/20\", \"03/20\", \"04/20\", \"05/20\", \"06/20\", \"07/20\", \"08/20\", \"09/20\", \"10/20\", \"11/20\", \"12/20\", \"01/21\", \"02/21\", \"03/21\", \"04/21\", \"05/21\", \"06/21\", \"07/21\", \"08/21\", \"09/21\", \"10/21\", \"11/21\", \"12/21\", \"01/22\", \"02/22\", \"03/22\", \"04/22\", \"05/22\", \"06/22\", \"07/22\", \"08/22\", \"09/22\", \"10/22\", \"11/22\", \"12/22\"]}, \"y\": {\"type\": \"quantitative\", \"field\": \"Mean NDVI\"}}}, {\"data\": {\"name\": \"data-ce0a92ecc63b9043436c366976336457\"}, \"mark\": {\"type\": \"circle\", \"color\": \"#61ECB6\", \"size\": 50}, \"encoding\": {\"tooltip\": [{\"type\": \"nominal\", \"field\": \"Month\"}, {\"type\": \"nominal\", \"field\": \"Region\"}, {\"type\": \"quantitative\", \"field\": \"Mean NDVI\"}], \"x\": {\"type\": \"ordinal\", \"field\": \"Month\", \"sort\": [\"01/19\", \"02/19\", \"03/19\", \"04/19\", \"05/19\", \"06/19\", \"07/19\", \"08/19\", \"09/19\", \"10/19\", \"11/19\", \"12/19\", \"01/20\", \"02/20\", \"03/20\", \"04/20\", \"05/20\", \"06/20\", \"07/20\", \"08/20\", \"09/20\", \"10/20\", \"11/20\", \"12/20\", \"01/21\", \"02/21\", \"03/21\", \"04/21\", \"05/21\", \"06/21\", \"07/21\", \"08/21\", \"09/21\", \"10/21\", \"11/21\", \"12/21\", \"01/22\", \"02/22\", \"03/22\", \"04/22\", \"05/22\", \"06/22\", \"07/22\", \"08/22\", \"09/22\", \"10/22\", \"11/22\", \"12/22\"]}, \"y\": {\"type\": \"quantitative\", \"field\": \"Mean NDVI\"}}}, {\"data\": {\"name\": \"data-ce0a92ecc63b9043436c366976336457\"}, \"mark\": {\"type\": \"line\", \"color\": \"red\"}, \"encoding\": {\"x\": {\"type\": \"ordinal\", \"field\": \"Month\", \"sort\": [\"01/19\", \"02/19\", \"03/19\", \"04/19\", \"05/19\", \"06/19\", \"07/19\", \"08/19\", \"09/19\", \"10/19\", \"11/19\", \"12/19\", \"01/20\", \"02/20\", \"03/20\", \"04/20\", \"05/20\", \"06/20\", \"07/20\", \"08/20\", \"09/20\", \"10/20\", \"11/20\", \"12/20\", \"01/21\", \"02/21\", \"03/21\", \"04/21\", \"05/21\", \"06/21\", \"07/21\", \"08/21\", \"09/21\", \"10/21\", \"11/21\", \"12/21\", \"01/22\", \"02/22\", \"03/22\", \"04/22\", \"05/22\", \"06/22\", \"07/22\", \"08/22\", \"09/22\", \"10/22\", \"11/22\", \"12/22\"]}, \"y\": {\"type\": \"quantitative\", \"field\": \"Fitted Mean NDVI\", \"title\": \"Mean NDVI\"}}}, {\"data\": {\"name\": \"data-ce0a92ecc63b9043436c366976336457\"}, \"mark\": {\"type\": \"circle\", \"color\": \"red\", \"size\": 50}, \"encoding\": {\"tooltip\": [{\"type\": \"nominal\", \"field\": \"Month\"}, {\"type\": \"nominal\", \"field\": \"Region\"}, {\"type\": \"quantitative\", \"field\": \"Fitted Mean NDVI\"}, {\"type\": \"quantitative\", \"field\": \"Residual\"}], \"x\": {\"type\": \"ordinal\", \"field\": \"Month\", \"sort\": [\"01/19\", \"02/19\", \"03/19\", \"04/19\", \"05/19\", \"06/19\", \"07/19\", \"08/19\", \"09/19\", \"10/19\", \"11/19\", \"12/19\", \"01/20\", \"02/20\", \"03/20\", \"04/20\", \"05/20\", \"06/20\", \"07/20\", \"08/20\", \"09/20\", \"10/20\", \"11/20\", \"12/20\", \"01/21\", \"02/21\", \"03/21\", \"04/21\", \"05/21\", \"06/21\", \"07/21\", \"08/21\", \"09/21\", \"10/21\", \"11/21\", \"12/21\", \"01/22\", \"02/22\", \"03/22\", \"04/22\", \"05/22\", \"06/22\", \"07/22\", \"08/22\", \"09/22\", \"10/22\", \"11/22\", \"12/22\"]}, \"y\": {\"type\": \"quantitative\", \"field\": \"Fitted Mean NDVI\", \"title\": \"Mean NDVI\"}}}, {\"data\": {\"name\": \"data-af17fb00603506eec0702e5630e096ed\"}, \"mark\": \"rule\", \"encoding\": {\"x\": {\"type\": \"ordinal\", \"field\": \"Month\", \"sort\": [\"01/19\", \"02/19\", \"03/19\", \"04/19\", \"05/19\", \"06/19\", \"07/19\", \"08/19\", \"09/19\", \"10/19\", \"11/19\", \"12/19\", \"01/20\", \"02/20\", \"03/20\", \"04/20\", \"05/20\", \"06/20\", \"07/20\", \"08/20\", \"09/20\", \"10/20\", \"11/20\", \"12/20\", \"01/21\", \"02/21\", \"03/21\", \"04/21\", \"05/21\", \"06/21\", \"07/21\", \"08/21\", \"09/21\", \"10/21\", \"11/21\", \"12/21\", \"01/22\", \"02/22\", \"03/22\", \"04/22\", \"05/22\", \"06/22\", \"07/22\", \"08/22\", \"09/22\", \"10/22\", \"11/22\", \"12/22\"]}}}, {\"data\": {\"name\": \"data-07625e840c56bb94031e6e34837afbc5\"}, \"mark\": {\"type\": \"line\", \"color\": \"red\"}, \"encoding\": {\"x\": {\"type\": \"ordinal\", \"field\": \"Month\", \"sort\": [\"01/19\", \"02/19\", \"03/19\", \"04/19\", \"05/19\", \"06/19\", \"07/19\", \"08/19\", \"09/19\", \"10/19\", \"11/19\", \"12/19\", \"01/20\", \"02/20\", \"03/20\", \"04/20\", \"05/20\", \"06/20\", \"07/20\", \"08/20\", \"09/20\", \"10/20\", \"11/20\", \"12/20\", \"01/21\", \"02/21\", \"03/21\", \"04/21\", \"05/21\", \"06/21\", \"07/21\", \"08/21\", \"09/21\", \"10/21\", \"11/21\", \"12/21\", \"01/22\", \"02/22\", \"03/22\", \"04/22\", \"05/22\", \"06/22\", \"07/22\", \"08/22\", \"09/22\", \"10/22\", \"11/22\", \"12/22\"]}, \"y\": {\"type\": \"quantitative\", \"field\": \"Predicted Mean NDVI\", \"title\": \"Mean NDVI\"}}}, {\"data\": {\"name\": \"data-07625e840c56bb94031e6e34837afbc5\"}, \"mark\": {\"type\": \"circle\", \"color\": \"red\", \"size\": 50}, \"encoding\": {\"tooltip\": [{\"type\": \"nominal\", \"field\": \"Month\"}, {\"type\": \"nominal\", \"field\": \"Region\"}, {\"type\": \"quantitative\", \"field\": \"Predicted Mean NDVI\"}], \"x\": {\"type\": \"ordinal\", \"field\": \"Month\", \"sort\": [\"01/19\", \"02/19\", \"03/19\", \"04/19\", \"05/19\", \"06/19\", \"07/19\", \"08/19\", \"09/19\", \"10/19\", \"11/19\", \"12/19\", \"01/20\", \"02/20\", \"03/20\", \"04/20\", \"05/20\", \"06/20\", \"07/20\", \"08/20\", \"09/20\", \"10/20\", \"11/20\", \"12/20\", \"01/21\", \"02/21\", \"03/21\", \"04/21\", \"05/21\", \"06/21\", \"07/21\", \"08/21\", \"09/21\", \"10/21\", \"11/21\", \"12/21\", \"01/22\", \"02/22\", \"03/22\", \"04/22\", \"05/22\", \"06/22\", \"07/22\", \"08/22\", \"09/22\", \"10/22\", \"11/22\", \"12/22\"]}, \"y\": {\"type\": \"quantitative\", \"field\": \"Predicted Mean NDVI\", \"title\": \"Mean NDVI\"}}}], \"height\": 250, \"title\": \"Midongy Betofaka Monthly Mean NDVI\", \"width\": 400}, {\"layer\": [{\"mark\": {\"type\": \"line\", \"color\": \"#61ECB6\"}, \"encoding\": {\"x\": {\"type\": \"ordinal\", \"field\": \"Month\", \"sort\": [\"01/19\", \"02/19\", \"03/19\", \"04/19\", \"05/19\", \"06/19\", \"07/19\", \"08/19\", \"09/19\", \"10/19\", \"11/19\", \"12/19\", \"01/20\", \"02/20\", \"03/20\", \"04/20\", \"05/20\", \"06/20\", \"07/20\", \"08/20\", \"09/20\", \"10/20\", \"11/20\", \"12/20\", \"01/21\", \"02/21\", \"03/21\", \"04/21\", \"05/21\", \"06/21\", \"07/21\", \"08/21\", \"09/21\", \"10/21\"]}, \"y\": {\"type\": \"quantitative\", \"field\": \"Residual\"}}}, {\"mark\": {\"type\": \"circle\", \"color\": \"#61ECB6\", \"size\": 50}, \"encoding\": {\"tooltip\": [{\"type\": \"nominal\", \"field\": \"Month\"}, {\"type\": \"nominal\", \"field\": \"Region\"}, {\"type\": \"quantitative\", \"field\": \"Residual\"}], \"x\": {\"type\": \"ordinal\", \"field\": \"Month\", \"sort\": [\"01/19\", \"02/19\", \"03/19\", \"04/19\", \"05/19\", \"06/19\", \"07/19\", \"08/19\", \"09/19\", \"10/19\", \"11/19\", \"12/19\", \"01/20\", \"02/20\", \"03/20\", \"04/20\", \"05/20\", \"06/20\", \"07/20\", \"08/20\", \"09/20\", \"10/20\", \"11/20\", \"12/20\", \"01/21\", \"02/21\", \"03/21\", \"04/21\", \"05/21\", \"06/21\", \"07/21\", \"08/21\", \"09/21\", \"10/21\"]}, \"y\": {\"type\": \"quantitative\", \"field\": \"Residual\"}}}], \"data\": {\"name\": \"data-ce0a92ecc63b9043436c366976336457\"}, \"height\": 250, \"title\": \"Midongy Betofaka Detrended Monthly Mean NDVI\", \"width\": 400}]}, {\"hconcat\": [{\"layer\": [{\"data\": {\"name\": \"data-987c710a6a6a6061ff3e26a4c3315c5e\"}, \"mark\": {\"type\": \"line\", \"color\": \"#2ca02c\"}, \"encoding\": {\"x\": {\"type\": \"ordinal\", \"field\": \"Month\", \"sort\": [\"01/19\", \"02/19\", \"03/19\", \"04/19\", \"05/19\", \"06/19\", \"07/19\", \"08/19\", \"09/19\", \"10/19\", \"11/19\", \"12/19\", \"01/20\", \"02/20\", \"03/20\", \"04/20\", \"05/20\", \"06/20\", \"07/20\", \"08/20\", \"09/20\", \"10/20\", \"11/20\", \"12/20\", \"01/21\", \"02/21\", \"03/21\", \"04/21\", \"05/21\", \"06/21\", \"07/21\", \"08/21\", \"09/21\", \"10/21\", \"11/21\", \"12/21\", \"01/22\", \"02/22\", \"03/22\", \"04/22\", \"05/22\", \"06/22\", \"07/22\", \"08/22\", \"09/22\", \"10/22\", \"11/22\", \"12/22\"]}, \"y\": {\"type\": \"quantitative\", \"field\": \"Mean NDVI\"}}}, {\"data\": {\"name\": \"data-987c710a6a6a6061ff3e26a4c3315c5e\"}, \"mark\": {\"type\": \"circle\", \"color\": \"#2ca02c\", \"size\": 50}, \"encoding\": {\"tooltip\": [{\"type\": \"nominal\", \"field\": \"Month\"}, {\"type\": \"nominal\", \"field\": \"Region\"}, {\"type\": \"quantitative\", \"field\": \"Mean NDVI\"}], \"x\": {\"type\": \"ordinal\", \"field\": \"Month\", \"sort\": [\"01/19\", \"02/19\", \"03/19\", \"04/19\", \"05/19\", \"06/19\", \"07/19\", \"08/19\", \"09/19\", \"10/19\", \"11/19\", \"12/19\", \"01/20\", \"02/20\", \"03/20\", \"04/20\", \"05/20\", \"06/20\", \"07/20\", \"08/20\", \"09/20\", \"10/20\", \"11/20\", \"12/20\", \"01/21\", \"02/21\", \"03/21\", \"04/21\", \"05/21\", \"06/21\", \"07/21\", \"08/21\", \"09/21\", \"10/21\", \"11/21\", \"12/21\", \"01/22\", \"02/22\", \"03/22\", \"04/22\", \"05/22\", \"06/22\", \"07/22\", \"08/22\", \"09/22\", \"10/22\", \"11/22\", \"12/22\"]}, \"y\": {\"type\": \"quantitative\", \"field\": \"Mean NDVI\"}}}, {\"data\": {\"name\": \"data-987c710a6a6a6061ff3e26a4c3315c5e\"}, \"mark\": {\"type\": \"line\", \"color\": \"red\"}, \"encoding\": {\"x\": {\"type\": \"ordinal\", \"field\": \"Month\", \"sort\": [\"01/19\", \"02/19\", \"03/19\", \"04/19\", \"05/19\", \"06/19\", \"07/19\", \"08/19\", \"09/19\", \"10/19\", \"11/19\", \"12/19\", \"01/20\", \"02/20\", \"03/20\", \"04/20\", \"05/20\", \"06/20\", \"07/20\", \"08/20\", \"09/20\", \"10/20\", \"11/20\", \"12/20\", \"01/21\", \"02/21\", \"03/21\", \"04/21\", \"05/21\", \"06/21\", \"07/21\", \"08/21\", \"09/21\", \"10/21\", \"11/21\", \"12/21\", \"01/22\", \"02/22\", \"03/22\", \"04/22\", \"05/22\", \"06/22\", \"07/22\", \"08/22\", \"09/22\", \"10/22\", \"11/22\", \"12/22\"]}, \"y\": {\"type\": \"quantitative\", \"field\": \"Fitted Mean NDVI\", \"title\": \"Mean NDVI\"}}}, {\"data\": {\"name\": \"data-987c710a6a6a6061ff3e26a4c3315c5e\"}, \"mark\": {\"type\": \"circle\", \"color\": \"red\", \"size\": 50}, \"encoding\": {\"tooltip\": [{\"type\": \"nominal\", \"field\": \"Month\"}, {\"type\": \"nominal\", \"field\": \"Region\"}, {\"type\": \"quantitative\", \"field\": \"Fitted Mean NDVI\"}, {\"type\": \"quantitative\", \"field\": \"Residual\"}], \"x\": {\"type\": \"ordinal\", \"field\": \"Month\", \"sort\": [\"01/19\", \"02/19\", \"03/19\", \"04/19\", \"05/19\", \"06/19\", \"07/19\", \"08/19\", \"09/19\", \"10/19\", \"11/19\", \"12/19\", \"01/20\", \"02/20\", \"03/20\", \"04/20\", \"05/20\", \"06/20\", \"07/20\", \"08/20\", \"09/20\", \"10/20\", \"11/20\", \"12/20\", \"01/21\", \"02/21\", \"03/21\", \"04/21\", \"05/21\", \"06/21\", \"07/21\", \"08/21\", \"09/21\", \"10/21\", \"11/21\", \"12/21\", \"01/22\", \"02/22\", \"03/22\", \"04/22\", \"05/22\", \"06/22\", \"07/22\", \"08/22\", \"09/22\", \"10/22\", \"11/22\", \"12/22\"]}, \"y\": {\"type\": \"quantitative\", \"field\": \"Fitted Mean NDVI\", \"title\": \"Mean NDVI\"}}}, {\"data\": {\"name\": \"data-af17fb00603506eec0702e5630e096ed\"}, \"mark\": \"rule\", \"encoding\": {\"x\": {\"type\": \"ordinal\", \"field\": \"Month\", \"sort\": [\"01/19\", \"02/19\", \"03/19\", \"04/19\", \"05/19\", \"06/19\", \"07/19\", \"08/19\", \"09/19\", \"10/19\", \"11/19\", \"12/19\", \"01/20\", \"02/20\", \"03/20\", \"04/20\", \"05/20\", \"06/20\", \"07/20\", \"08/20\", \"09/20\", \"10/20\", \"11/20\", \"12/20\", \"01/21\", \"02/21\", \"03/21\", \"04/21\", \"05/21\", \"06/21\", \"07/21\", \"08/21\", \"09/21\", \"10/21\", \"11/21\", \"12/21\", \"01/22\", \"02/22\", \"03/22\", \"04/22\", \"05/22\", \"06/22\", \"07/22\", \"08/22\", \"09/22\", \"10/22\", \"11/22\", \"12/22\"]}}}, {\"data\": {\"name\": \"data-6c402e904ae3e56e24f2f9fe906b2ce1\"}, \"mark\": {\"type\": \"line\", \"color\": \"red\"}, \"encoding\": {\"x\": {\"type\": \"ordinal\", \"field\": \"Month\", \"sort\": [\"01/19\", \"02/19\", \"03/19\", \"04/19\", \"05/19\", \"06/19\", \"07/19\", \"08/19\", \"09/19\", \"10/19\", \"11/19\", \"12/19\", \"01/20\", \"02/20\", \"03/20\", \"04/20\", \"05/20\", \"06/20\", \"07/20\", \"08/20\", \"09/20\", \"10/20\", \"11/20\", \"12/20\", \"01/21\", \"02/21\", \"03/21\", \"04/21\", \"05/21\", \"06/21\", \"07/21\", \"08/21\", \"09/21\", \"10/21\", \"11/21\", \"12/21\", \"01/22\", \"02/22\", \"03/22\", \"04/22\", \"05/22\", \"06/22\", \"07/22\", \"08/22\", \"09/22\", \"10/22\", \"11/22\", \"12/22\"]}, \"y\": {\"type\": \"quantitative\", \"field\": \"Predicted Mean NDVI\", \"title\": \"Mean NDVI\"}}}, {\"data\": {\"name\": \"data-6c402e904ae3e56e24f2f9fe906b2ce1\"}, \"mark\": {\"type\": \"circle\", \"color\": \"red\", \"size\": 50}, \"encoding\": {\"tooltip\": [{\"type\": \"nominal\", \"field\": \"Month\"}, {\"type\": \"nominal\", \"field\": \"Region\"}, {\"type\": \"quantitative\", \"field\": \"Predicted Mean NDVI\"}], \"x\": {\"type\": \"ordinal\", \"field\": \"Month\", \"sort\": [\"01/19\", \"02/19\", \"03/19\", \"04/19\", \"05/19\", \"06/19\", \"07/19\", \"08/19\", \"09/19\", \"10/19\", \"11/19\", \"12/19\", \"01/20\", \"02/20\", \"03/20\", \"04/20\", \"05/20\", \"06/20\", \"07/20\", \"08/20\", \"09/20\", \"10/20\", \"11/20\", \"12/20\", \"01/21\", \"02/21\", \"03/21\", \"04/21\", \"05/21\", \"06/21\", \"07/21\", \"08/21\", \"09/21\", \"10/21\", \"11/21\", \"12/21\", \"01/22\", \"02/22\", \"03/22\", \"04/22\", \"05/22\", \"06/22\", \"07/22\", \"08/22\", \"09/22\", \"10/22\", \"11/22\", \"12/22\"]}, \"y\": {\"type\": \"quantitative\", \"field\": \"Predicted Mean NDVI\", \"title\": \"Mean NDVI\"}}}], \"height\": 250, \"title\": \"Tsimanampetsotsa Monthly Mean NDVI\", \"width\": 400}, {\"layer\": [{\"mark\": {\"type\": \"line\", \"color\": \"#2ca02c\"}, \"encoding\": {\"x\": {\"type\": \"ordinal\", \"field\": \"Month\", \"sort\": [\"01/19\", \"02/19\", \"03/19\", \"04/19\", \"05/19\", \"06/19\", \"07/19\", \"08/19\", \"09/19\", \"10/19\", \"11/19\", \"12/19\", \"01/20\", \"02/20\", \"03/20\", \"04/20\", \"05/20\", \"06/20\", \"07/20\", \"08/20\", \"09/20\", \"10/20\", \"11/20\", \"12/20\", \"01/21\", \"02/21\", \"03/21\", \"04/21\", \"05/21\", \"06/21\", \"07/21\", \"08/21\", \"09/21\", \"10/21\"]}, \"y\": {\"type\": \"quantitative\", \"field\": \"Residual\"}}}, {\"mark\": {\"type\": \"circle\", \"color\": \"#2ca02c\", \"size\": 50}, \"encoding\": {\"tooltip\": [{\"type\": \"nominal\", \"field\": \"Month\"}, {\"type\": \"nominal\", \"field\": \"Region\"}, {\"type\": \"quantitative\", \"field\": \"Residual\"}], \"x\": {\"type\": \"ordinal\", \"field\": \"Month\", \"sort\": [\"01/19\", \"02/19\", \"03/19\", \"04/19\", \"05/19\", \"06/19\", \"07/19\", \"08/19\", \"09/19\", \"10/19\", \"11/19\", \"12/19\", \"01/20\", \"02/20\", \"03/20\", \"04/20\", \"05/20\", \"06/20\", \"07/20\", \"08/20\", \"09/20\", \"10/20\", \"11/20\", \"12/20\", \"01/21\", \"02/21\", \"03/21\", \"04/21\", \"05/21\", \"06/21\", \"07/21\", \"08/21\", \"09/21\", \"10/21\"]}, \"y\": {\"type\": \"quantitative\", \"field\": \"Residual\"}}}], \"data\": {\"name\": \"data-987c710a6a6a6061ff3e26a4c3315c5e\"}, \"height\": 250, \"title\": \"Tsimanampetsotsa Detrended Monthly Mean NDVI\", \"width\": 400}]}, {\"hconcat\": [{\"layer\": [{\"data\": {\"name\": \"data-3dbf636f6c7cc8c1b5a32bf997d1ed3c\"}, \"mark\": {\"type\": \"line\", \"color\": \"#9467bd\"}, \"encoding\": {\"x\": {\"type\": \"ordinal\", \"field\": \"Month\", \"sort\": [\"01/19\", \"02/19\", \"03/19\", \"04/19\", \"05/19\", \"06/19\", \"07/19\", \"08/19\", \"09/19\", \"10/19\", \"11/19\", \"12/19\", \"01/20\", \"02/20\", \"03/20\", \"04/20\", \"05/20\", \"06/20\", \"07/20\", \"08/20\", \"09/20\", \"10/20\", \"11/20\", \"12/20\", \"01/21\", \"02/21\", \"03/21\", \"04/21\", \"05/21\", \"06/21\", \"07/21\", \"08/21\", \"09/21\", \"10/21\", \"11/21\", \"12/21\", \"01/22\", \"02/22\", \"03/22\", \"04/22\", \"05/22\", \"06/22\", \"07/22\", \"08/22\", \"09/22\", \"10/22\", \"11/22\", \"12/22\"]}, \"y\": {\"type\": \"quantitative\", \"field\": \"Mean NDVI\"}}}, {\"data\": {\"name\": \"data-3dbf636f6c7cc8c1b5a32bf997d1ed3c\"}, \"mark\": {\"type\": \"circle\", \"color\": \"#9467bd\", \"size\": 50}, \"encoding\": {\"tooltip\": [{\"type\": \"nominal\", \"field\": \"Month\"}, {\"type\": \"nominal\", \"field\": \"Region\"}, {\"type\": \"quantitative\", \"field\": \"Mean NDVI\"}], \"x\": {\"type\": \"ordinal\", \"field\": \"Month\", \"sort\": [\"01/19\", \"02/19\", \"03/19\", \"04/19\", \"05/19\", \"06/19\", \"07/19\", \"08/19\", \"09/19\", \"10/19\", \"11/19\", \"12/19\", \"01/20\", \"02/20\", \"03/20\", \"04/20\", \"05/20\", \"06/20\", \"07/20\", \"08/20\", \"09/20\", \"10/20\", \"11/20\", \"12/20\", \"01/21\", \"02/21\", \"03/21\", \"04/21\", \"05/21\", \"06/21\", \"07/21\", \"08/21\", \"09/21\", \"10/21\", \"11/21\", \"12/21\", \"01/22\", \"02/22\", \"03/22\", \"04/22\", \"05/22\", \"06/22\", \"07/22\", \"08/22\", \"09/22\", \"10/22\", \"11/22\", \"12/22\"]}, \"y\": {\"type\": \"quantitative\", \"field\": \"Mean NDVI\"}}}, {\"data\": {\"name\": \"data-3dbf636f6c7cc8c1b5a32bf997d1ed3c\"}, \"mark\": {\"type\": \"line\", \"color\": \"red\"}, \"encoding\": {\"x\": {\"type\": \"ordinal\", \"field\": \"Month\", \"sort\": [\"01/19\", \"02/19\", \"03/19\", \"04/19\", \"05/19\", \"06/19\", \"07/19\", \"08/19\", \"09/19\", \"10/19\", \"11/19\", \"12/19\", \"01/20\", \"02/20\", \"03/20\", \"04/20\", \"05/20\", \"06/20\", \"07/20\", \"08/20\", \"09/20\", \"10/20\", \"11/20\", \"12/20\", \"01/21\", \"02/21\", \"03/21\", \"04/21\", \"05/21\", \"06/21\", \"07/21\", \"08/21\", \"09/21\", \"10/21\", \"11/21\", \"12/21\", \"01/22\", \"02/22\", \"03/22\", \"04/22\", \"05/22\", \"06/22\", \"07/22\", \"08/22\", \"09/22\", \"10/22\", \"11/22\", \"12/22\"]}, \"y\": {\"type\": \"quantitative\", \"field\": \"Fitted Mean NDVI\", \"title\": \"Mean NDVI\"}}}, {\"data\": {\"name\": \"data-3dbf636f6c7cc8c1b5a32bf997d1ed3c\"}, \"mark\": {\"type\": \"circle\", \"color\": \"red\", \"size\": 50}, \"encoding\": {\"tooltip\": [{\"type\": \"nominal\", \"field\": \"Month\"}, {\"type\": \"nominal\", \"field\": \"Region\"}, {\"type\": \"quantitative\", \"field\": \"Fitted Mean NDVI\"}, {\"type\": \"quantitative\", \"field\": \"Residual\"}], \"x\": {\"type\": \"ordinal\", \"field\": \"Month\", \"sort\": [\"01/19\", \"02/19\", \"03/19\", \"04/19\", \"05/19\", \"06/19\", \"07/19\", \"08/19\", \"09/19\", \"10/19\", \"11/19\", \"12/19\", \"01/20\", \"02/20\", \"03/20\", \"04/20\", \"05/20\", \"06/20\", \"07/20\", \"08/20\", \"09/20\", \"10/20\", \"11/20\", \"12/20\", \"01/21\", \"02/21\", \"03/21\", \"04/21\", \"05/21\", \"06/21\", \"07/21\", \"08/21\", \"09/21\", \"10/21\", \"11/21\", \"12/21\", \"01/22\", \"02/22\", \"03/22\", \"04/22\", \"05/22\", \"06/22\", \"07/22\", \"08/22\", \"09/22\", \"10/22\", \"11/22\", \"12/22\"]}, \"y\": {\"type\": \"quantitative\", \"field\": \"Fitted Mean NDVI\", \"title\": \"Mean NDVI\"}}}, {\"data\": {\"name\": \"data-af17fb00603506eec0702e5630e096ed\"}, \"mark\": \"rule\", \"encoding\": {\"x\": {\"type\": \"ordinal\", \"field\": \"Month\", \"sort\": [\"01/19\", \"02/19\", \"03/19\", \"04/19\", \"05/19\", \"06/19\", \"07/19\", \"08/19\", \"09/19\", \"10/19\", \"11/19\", \"12/19\", \"01/20\", \"02/20\", \"03/20\", \"04/20\", \"05/20\", \"06/20\", \"07/20\", \"08/20\", \"09/20\", \"10/20\", \"11/20\", \"12/20\", \"01/21\", \"02/21\", \"03/21\", \"04/21\", \"05/21\", \"06/21\", \"07/21\", \"08/21\", \"09/21\", \"10/21\", \"11/21\", \"12/21\", \"01/22\", \"02/22\", \"03/22\", \"04/22\", \"05/22\", \"06/22\", \"07/22\", \"08/22\", \"09/22\", \"10/22\", \"11/22\", \"12/22\"]}}}, {\"data\": {\"name\": \"data-a33f1d2524e9bf089cb43a8e67bfbba7\"}, \"mark\": {\"type\": \"line\", \"color\": \"red\"}, \"encoding\": {\"x\": {\"type\": \"ordinal\", \"field\": \"Month\", \"sort\": [\"01/19\", \"02/19\", \"03/19\", \"04/19\", \"05/19\", \"06/19\", \"07/19\", \"08/19\", \"09/19\", \"10/19\", \"11/19\", \"12/19\", \"01/20\", \"02/20\", \"03/20\", \"04/20\", \"05/20\", \"06/20\", \"07/20\", \"08/20\", \"09/20\", \"10/20\", \"11/20\", \"12/20\", \"01/21\", \"02/21\", \"03/21\", \"04/21\", \"05/21\", \"06/21\", \"07/21\", \"08/21\", \"09/21\", \"10/21\", \"11/21\", \"12/21\", \"01/22\", \"02/22\", \"03/22\", \"04/22\", \"05/22\", \"06/22\", \"07/22\", \"08/22\", \"09/22\", \"10/22\", \"11/22\", \"12/22\"]}, \"y\": {\"type\": \"quantitative\", \"field\": \"Predicted Mean NDVI\", \"title\": \"Mean NDVI\"}}}, {\"data\": {\"name\": \"data-a33f1d2524e9bf089cb43a8e67bfbba7\"}, \"mark\": {\"type\": \"circle\", \"color\": \"red\", \"size\": 50}, \"encoding\": {\"tooltip\": [{\"type\": \"nominal\", \"field\": \"Month\"}, {\"type\": \"nominal\", \"field\": \"Region\"}, {\"type\": \"quantitative\", \"field\": \"Predicted Mean NDVI\"}], \"x\": {\"type\": \"ordinal\", \"field\": \"Month\", \"sort\": [\"01/19\", \"02/19\", \"03/19\", \"04/19\", \"05/19\", \"06/19\", \"07/19\", \"08/19\", \"09/19\", \"10/19\", \"11/19\", \"12/19\", \"01/20\", \"02/20\", \"03/20\", \"04/20\", \"05/20\", \"06/20\", \"07/20\", \"08/20\", \"09/20\", \"10/20\", \"11/20\", \"12/20\", \"01/21\", \"02/21\", \"03/21\", \"04/21\", \"05/21\", \"06/21\", \"07/21\", \"08/21\", \"09/21\", \"10/21\", \"11/21\", \"12/21\", \"01/22\", \"02/22\", \"03/22\", \"04/22\", \"05/22\", \"06/22\", \"07/22\", \"08/22\", \"09/22\", \"10/22\", \"11/22\", \"12/22\"]}, \"y\": {\"type\": \"quantitative\", \"field\": \"Predicted Mean NDVI\", \"title\": \"Mean NDVI\"}}}], \"height\": 250, \"title\": \"d'Ankarafantsika Monthly Mean NDVI\", \"width\": 400}, {\"layer\": [{\"mark\": {\"type\": \"line\", \"color\": \"#9467bd\"}, \"encoding\": {\"x\": {\"type\": \"ordinal\", \"field\": \"Month\", \"sort\": [\"01/19\", \"02/19\", \"03/19\", \"04/19\", \"05/19\", \"06/19\", \"07/19\", \"08/19\", \"09/19\", \"10/19\", \"11/19\", \"12/19\", \"01/20\", \"02/20\", \"03/20\", \"04/20\", \"05/20\", \"06/20\", \"07/20\", \"08/20\", \"09/20\", \"10/20\", \"11/20\", \"12/20\", \"01/21\", \"02/21\", \"03/21\", \"04/21\", \"05/21\", \"06/21\", \"07/21\", \"08/21\", \"09/21\", \"10/21\"]}, \"y\": {\"type\": \"quantitative\", \"field\": \"Residual\"}}}, {\"mark\": {\"type\": \"circle\", \"color\": \"#9467bd\", \"size\": 50}, \"encoding\": {\"tooltip\": [{\"type\": \"nominal\", \"field\": \"Month\"}, {\"type\": \"nominal\", \"field\": \"Region\"}, {\"type\": \"quantitative\", \"field\": \"Residual\"}], \"x\": {\"type\": \"ordinal\", \"field\": \"Month\", \"sort\": [\"01/19\", \"02/19\", \"03/19\", \"04/19\", \"05/19\", \"06/19\", \"07/19\", \"08/19\", \"09/19\", \"10/19\", \"11/19\", \"12/19\", \"01/20\", \"02/20\", \"03/20\", \"04/20\", \"05/20\", \"06/20\", \"07/20\", \"08/20\", \"09/20\", \"10/20\", \"11/20\", \"12/20\", \"01/21\", \"02/21\", \"03/21\", \"04/21\", \"05/21\", \"06/21\", \"07/21\", \"08/21\", \"09/21\", \"10/21\"]}, \"y\": {\"type\": \"quantitative\", \"field\": \"Residual\"}}}], \"data\": {\"name\": \"data-3dbf636f6c7cc8c1b5a32bf997d1ed3c\"}, \"height\": 250, \"title\": \"d'Ankarafantsika Detrended Monthly Mean NDVI\", \"width\": 400}]}, {\"hconcat\": [{\"layer\": [{\"data\": {\"name\": \"data-d3eca1934bbeb9a5bdf112fb44ae1254\"}, \"mark\": {\"type\": \"line\", \"color\": \"#17becf\"}, \"encoding\": {\"x\": {\"type\": \"ordinal\", \"field\": \"Month\", \"sort\": [\"01/19\", \"02/19\", \"03/19\", \"04/19\", \"05/19\", \"06/19\", \"07/19\", \"08/19\", \"09/19\", \"10/19\", \"11/19\", \"12/19\", \"01/20\", \"02/20\", \"03/20\", \"04/20\", \"05/20\", \"06/20\", \"07/20\", \"08/20\", \"09/20\", \"10/20\", \"11/20\", \"12/20\", \"01/21\", \"02/21\", \"03/21\", \"04/21\", \"05/21\", \"06/21\", \"07/21\", \"08/21\", \"09/21\", \"10/21\", \"11/21\", \"12/21\", \"01/22\", \"02/22\", \"03/22\", \"04/22\", \"05/22\", \"06/22\", \"07/22\", \"08/22\", \"09/22\", \"10/22\", \"11/22\", \"12/22\"]}, \"y\": {\"type\": \"quantitative\", \"field\": \"Mean NDVI\"}}}, {\"data\": {\"name\": \"data-d3eca1934bbeb9a5bdf112fb44ae1254\"}, \"mark\": {\"type\": \"circle\", \"color\": \"#17becf\", \"size\": 50}, \"encoding\": {\"tooltip\": [{\"type\": \"nominal\", \"field\": \"Month\"}, {\"type\": \"nominal\", \"field\": \"Region\"}, {\"type\": \"quantitative\", \"field\": \"Mean NDVI\"}], \"x\": {\"type\": \"ordinal\", \"field\": \"Month\", \"sort\": [\"01/19\", \"02/19\", \"03/19\", \"04/19\", \"05/19\", \"06/19\", \"07/19\", \"08/19\", \"09/19\", \"10/19\", \"11/19\", \"12/19\", \"01/20\", \"02/20\", \"03/20\", \"04/20\", \"05/20\", \"06/20\", \"07/20\", \"08/20\", \"09/20\", \"10/20\", \"11/20\", \"12/20\", \"01/21\", \"02/21\", \"03/21\", \"04/21\", \"05/21\", \"06/21\", \"07/21\", \"08/21\", \"09/21\", \"10/21\", \"11/21\", \"12/21\", \"01/22\", \"02/22\", \"03/22\", \"04/22\", \"05/22\", \"06/22\", \"07/22\", \"08/22\", \"09/22\", \"10/22\", \"11/22\", \"12/22\"]}, \"y\": {\"type\": \"quantitative\", \"field\": \"Mean NDVI\"}}}, {\"data\": {\"name\": \"data-d3eca1934bbeb9a5bdf112fb44ae1254\"}, \"mark\": {\"type\": \"line\", \"color\": \"red\"}, \"encoding\": {\"x\": {\"type\": \"ordinal\", \"field\": \"Month\", \"sort\": [\"01/19\", \"02/19\", \"03/19\", \"04/19\", \"05/19\", \"06/19\", \"07/19\", \"08/19\", \"09/19\", \"10/19\", \"11/19\", \"12/19\", \"01/20\", \"02/20\", \"03/20\", \"04/20\", \"05/20\", \"06/20\", \"07/20\", \"08/20\", \"09/20\", \"10/20\", \"11/20\", \"12/20\", \"01/21\", \"02/21\", \"03/21\", \"04/21\", \"05/21\", \"06/21\", \"07/21\", \"08/21\", \"09/21\", \"10/21\", \"11/21\", \"12/21\", \"01/22\", \"02/22\", \"03/22\", \"04/22\", \"05/22\", \"06/22\", \"07/22\", \"08/22\", \"09/22\", \"10/22\", \"11/22\", \"12/22\"]}, \"y\": {\"type\": \"quantitative\", \"field\": \"Fitted Mean NDVI\", \"title\": \"Mean NDVI\"}}}, {\"data\": {\"name\": \"data-d3eca1934bbeb9a5bdf112fb44ae1254\"}, \"mark\": {\"type\": \"circle\", \"color\": \"red\", \"size\": 50}, \"encoding\": {\"tooltip\": [{\"type\": \"nominal\", \"field\": \"Month\"}, {\"type\": \"nominal\", \"field\": \"Region\"}, {\"type\": \"quantitative\", \"field\": \"Fitted Mean NDVI\"}, {\"type\": \"quantitative\", \"field\": \"Residual\"}], \"x\": {\"type\": \"ordinal\", \"field\": \"Month\", \"sort\": [\"01/19\", \"02/19\", \"03/19\", \"04/19\", \"05/19\", \"06/19\", \"07/19\", \"08/19\", \"09/19\", \"10/19\", \"11/19\", \"12/19\", \"01/20\", \"02/20\", \"03/20\", \"04/20\", \"05/20\", \"06/20\", \"07/20\", \"08/20\", \"09/20\", \"10/20\", \"11/20\", \"12/20\", \"01/21\", \"02/21\", \"03/21\", \"04/21\", \"05/21\", \"06/21\", \"07/21\", \"08/21\", \"09/21\", \"10/21\", \"11/21\", \"12/21\", \"01/22\", \"02/22\", \"03/22\", \"04/22\", \"05/22\", \"06/22\", \"07/22\", \"08/22\", \"09/22\", \"10/22\", \"11/22\", \"12/22\"]}, \"y\": {\"type\": \"quantitative\", \"field\": \"Fitted Mean NDVI\", \"title\": \"Mean NDVI\"}}}, {\"data\": {\"name\": \"data-af17fb00603506eec0702e5630e096ed\"}, \"mark\": \"rule\", \"encoding\": {\"x\": {\"type\": \"ordinal\", \"field\": \"Month\", \"sort\": [\"01/19\", \"02/19\", \"03/19\", \"04/19\", \"05/19\", \"06/19\", \"07/19\", \"08/19\", \"09/19\", \"10/19\", \"11/19\", \"12/19\", \"01/20\", \"02/20\", \"03/20\", \"04/20\", \"05/20\", \"06/20\", \"07/20\", \"08/20\", \"09/20\", \"10/20\", \"11/20\", \"12/20\", \"01/21\", \"02/21\", \"03/21\", \"04/21\", \"05/21\", \"06/21\", \"07/21\", \"08/21\", \"09/21\", \"10/21\", \"11/21\", \"12/21\", \"01/22\", \"02/22\", \"03/22\", \"04/22\", \"05/22\", \"06/22\", \"07/22\", \"08/22\", \"09/22\", \"10/22\", \"11/22\", \"12/22\"]}}}, {\"data\": {\"name\": \"data-fe6c4a64522f5e0ae1308b95edc04629\"}, \"mark\": {\"type\": \"line\", \"color\": \"red\"}, \"encoding\": {\"x\": {\"type\": \"ordinal\", \"field\": \"Month\", \"sort\": [\"01/19\", \"02/19\", \"03/19\", \"04/19\", \"05/19\", \"06/19\", \"07/19\", \"08/19\", \"09/19\", \"10/19\", \"11/19\", \"12/19\", \"01/20\", \"02/20\", \"03/20\", \"04/20\", \"05/20\", \"06/20\", \"07/20\", \"08/20\", \"09/20\", \"10/20\", \"11/20\", \"12/20\", \"01/21\", \"02/21\", \"03/21\", \"04/21\", \"05/21\", \"06/21\", \"07/21\", \"08/21\", \"09/21\", \"10/21\", \"11/21\", \"12/21\", \"01/22\", \"02/22\", \"03/22\", \"04/22\", \"05/22\", \"06/22\", \"07/22\", \"08/22\", \"09/22\", \"10/22\", \"11/22\", \"12/22\"]}, \"y\": {\"type\": \"quantitative\", \"field\": \"Predicted Mean NDVI\", \"title\": \"Mean NDVI\"}}}, {\"data\": {\"name\": \"data-fe6c4a64522f5e0ae1308b95edc04629\"}, \"mark\": {\"type\": \"circle\", \"color\": \"red\", \"size\": 50}, \"encoding\": {\"tooltip\": [{\"type\": \"nominal\", \"field\": \"Month\"}, {\"type\": \"nominal\", \"field\": \"Region\"}, {\"type\": \"quantitative\", \"field\": \"Predicted Mean NDVI\"}], \"x\": {\"type\": \"ordinal\", \"field\": \"Month\", \"sort\": [\"01/19\", \"02/19\", \"03/19\", \"04/19\", \"05/19\", \"06/19\", \"07/19\", \"08/19\", \"09/19\", \"10/19\", \"11/19\", \"12/19\", \"01/20\", \"02/20\", \"03/20\", \"04/20\", \"05/20\", \"06/20\", \"07/20\", \"08/20\", \"09/20\", \"10/20\", \"11/20\", \"12/20\", \"01/21\", \"02/21\", \"03/21\", \"04/21\", \"05/21\", \"06/21\", \"07/21\", \"08/21\", \"09/21\", \"10/21\", \"11/21\", \"12/21\", \"01/22\", \"02/22\", \"03/22\", \"04/22\", \"05/22\", \"06/22\", \"07/22\", \"08/22\", \"09/22\", \"10/22\", \"11/22\", \"12/22\"]}, \"y\": {\"type\": \"quantitative\", \"field\": \"Predicted Mean NDVI\", \"title\": \"Mean NDVI\"}}}], \"height\": 250, \"title\": \"Masoala Monthly Mean NDVI\", \"width\": 400}, {\"layer\": [{\"mark\": {\"type\": \"line\", \"color\": \"#17becf\"}, \"encoding\": {\"x\": {\"type\": \"ordinal\", \"field\": \"Month\", \"sort\": [\"01/19\", \"02/19\", \"03/19\", \"04/19\", \"05/19\", \"06/19\", \"07/19\", \"08/19\", \"09/19\", \"10/19\", \"11/19\", \"12/19\", \"01/20\", \"02/20\", \"03/20\", \"04/20\", \"05/20\", \"06/20\", \"07/20\", \"08/20\", \"09/20\", \"10/20\", \"11/20\", \"12/20\", \"01/21\", \"02/21\", \"03/21\", \"04/21\", \"05/21\", \"06/21\", \"07/21\", \"08/21\", \"09/21\", \"10/21\"]}, \"y\": {\"type\": \"quantitative\", \"field\": \"Residual\"}}}, {\"mark\": {\"type\": \"circle\", \"color\": \"#17becf\", \"size\": 50}, \"encoding\": {\"tooltip\": [{\"type\": \"nominal\", \"field\": \"Month\"}, {\"type\": \"nominal\", \"field\": \"Region\"}, {\"type\": \"quantitative\", \"field\": \"Residual\"}], \"x\": {\"type\": \"ordinal\", \"field\": \"Month\", \"sort\": [\"01/19\", \"02/19\", \"03/19\", \"04/19\", \"05/19\", \"06/19\", \"07/19\", \"08/19\", \"09/19\", \"10/19\", \"11/19\", \"12/19\", \"01/20\", \"02/20\", \"03/20\", \"04/20\", \"05/20\", \"06/20\", \"07/20\", \"08/20\", \"09/20\", \"10/20\", \"11/20\", \"12/20\", \"01/21\", \"02/21\", \"03/21\", \"04/21\", \"05/21\", \"06/21\", \"07/21\", \"08/21\", \"09/21\", \"10/21\"]}, \"y\": {\"type\": \"quantitative\", \"field\": \"Residual\"}}}], \"data\": {\"name\": \"data-d3eca1934bbeb9a5bdf112fb44ae1254\"}, \"height\": 250, \"title\": \"Masoala Detrended Monthly Mean NDVI\", \"width\": 400}]}, {\"hconcat\": [{\"layer\": [{\"data\": {\"name\": \"data-d2037e9ab11da11d3af8c4c6916c96ec\"}, \"mark\": {\"type\": \"line\", \"color\": \"#D159F2\"}, \"encoding\": {\"x\": {\"type\": \"ordinal\", \"field\": \"Month\", \"sort\": [\"01/19\", \"02/19\", \"03/19\", \"04/19\", \"05/19\", \"06/19\", \"07/19\", \"08/19\", \"09/19\", \"10/19\", \"11/19\", \"12/19\", \"01/20\", \"02/20\", \"03/20\", \"04/20\", \"05/20\", \"06/20\", \"07/20\", \"08/20\", \"09/20\", \"10/20\", \"11/20\", \"12/20\", \"01/21\", \"02/21\", \"03/21\", \"04/21\", \"05/21\", \"06/21\", \"07/21\", \"08/21\", \"09/21\", \"10/21\", \"11/21\", \"12/21\", \"01/22\", \"02/22\", \"03/22\", \"04/22\", \"05/22\", \"06/22\", \"07/22\", \"08/22\", \"09/22\", \"10/22\", \"11/22\", \"12/22\"]}, \"y\": {\"type\": \"quantitative\", \"field\": \"Mean NDVI\"}}}, {\"data\": {\"name\": \"data-d2037e9ab11da11d3af8c4c6916c96ec\"}, \"mark\": {\"type\": \"circle\", \"color\": \"#D159F2\", \"size\": 50}, \"encoding\": {\"tooltip\": [{\"type\": \"nominal\", \"field\": \"Month\"}, {\"type\": \"nominal\", \"field\": \"Region\"}, {\"type\": \"quantitative\", \"field\": \"Mean NDVI\"}], \"x\": {\"type\": \"ordinal\", \"field\": \"Month\", \"sort\": [\"01/19\", \"02/19\", \"03/19\", \"04/19\", \"05/19\", \"06/19\", \"07/19\", \"08/19\", \"09/19\", \"10/19\", \"11/19\", \"12/19\", \"01/20\", \"02/20\", \"03/20\", \"04/20\", \"05/20\", \"06/20\", \"07/20\", \"08/20\", \"09/20\", \"10/20\", \"11/20\", \"12/20\", \"01/21\", \"02/21\", \"03/21\", \"04/21\", \"05/21\", \"06/21\", \"07/21\", \"08/21\", \"09/21\", \"10/21\", \"11/21\", \"12/21\", \"01/22\", \"02/22\", \"03/22\", \"04/22\", \"05/22\", \"06/22\", \"07/22\", \"08/22\", \"09/22\", \"10/22\", \"11/22\", \"12/22\"]}, \"y\": {\"type\": \"quantitative\", \"field\": \"Mean NDVI\"}}}, {\"data\": {\"name\": \"data-d2037e9ab11da11d3af8c4c6916c96ec\"}, \"mark\": {\"type\": \"line\", \"color\": \"red\"}, \"encoding\": {\"x\": {\"type\": \"ordinal\", \"field\": \"Month\", \"sort\": [\"01/19\", \"02/19\", \"03/19\", \"04/19\", \"05/19\", \"06/19\", \"07/19\", \"08/19\", \"09/19\", \"10/19\", \"11/19\", \"12/19\", \"01/20\", \"02/20\", \"03/20\", \"04/20\", \"05/20\", \"06/20\", \"07/20\", \"08/20\", \"09/20\", \"10/20\", \"11/20\", \"12/20\", \"01/21\", \"02/21\", \"03/21\", \"04/21\", \"05/21\", \"06/21\", \"07/21\", \"08/21\", \"09/21\", \"10/21\", \"11/21\", \"12/21\", \"01/22\", \"02/22\", \"03/22\", \"04/22\", \"05/22\", \"06/22\", \"07/22\", \"08/22\", \"09/22\", \"10/22\", \"11/22\", \"12/22\"]}, \"y\": {\"type\": \"quantitative\", \"field\": \"Fitted Mean NDVI\", \"title\": \"Mean NDVI\"}}}, {\"data\": {\"name\": \"data-d2037e9ab11da11d3af8c4c6916c96ec\"}, \"mark\": {\"type\": \"circle\", \"color\": \"red\", \"size\": 50}, \"encoding\": {\"tooltip\": [{\"type\": \"nominal\", \"field\": \"Month\"}, {\"type\": \"nominal\", \"field\": \"Region\"}, {\"type\": \"quantitative\", \"field\": \"Fitted Mean NDVI\"}, {\"type\": \"quantitative\", \"field\": \"Residual\"}], \"x\": {\"type\": \"ordinal\", \"field\": \"Month\", \"sort\": [\"01/19\", \"02/19\", \"03/19\", \"04/19\", \"05/19\", \"06/19\", \"07/19\", \"08/19\", \"09/19\", \"10/19\", \"11/19\", \"12/19\", \"01/20\", \"02/20\", \"03/20\", \"04/20\", \"05/20\", \"06/20\", \"07/20\", \"08/20\", \"09/20\", \"10/20\", \"11/20\", \"12/20\", \"01/21\", \"02/21\", \"03/21\", \"04/21\", \"05/21\", \"06/21\", \"07/21\", \"08/21\", \"09/21\", \"10/21\", \"11/21\", \"12/21\", \"01/22\", \"02/22\", \"03/22\", \"04/22\", \"05/22\", \"06/22\", \"07/22\", \"08/22\", \"09/22\", \"10/22\", \"11/22\", \"12/22\"]}, \"y\": {\"type\": \"quantitative\", \"field\": \"Fitted Mean NDVI\", \"title\": \"Mean NDVI\"}}}, {\"data\": {\"name\": \"data-af17fb00603506eec0702e5630e096ed\"}, \"mark\": \"rule\", \"encoding\": {\"x\": {\"type\": \"ordinal\", \"field\": \"Month\", \"sort\": [\"01/19\", \"02/19\", \"03/19\", \"04/19\", \"05/19\", \"06/19\", \"07/19\", \"08/19\", \"09/19\", \"10/19\", \"11/19\", \"12/19\", \"01/20\", \"02/20\", \"03/20\", \"04/20\", \"05/20\", \"06/20\", \"07/20\", \"08/20\", \"09/20\", \"10/20\", \"11/20\", \"12/20\", \"01/21\", \"02/21\", \"03/21\", \"04/21\", \"05/21\", \"06/21\", \"07/21\", \"08/21\", \"09/21\", \"10/21\", \"11/21\", \"12/21\", \"01/22\", \"02/22\", \"03/22\", \"04/22\", \"05/22\", \"06/22\", \"07/22\", \"08/22\", \"09/22\", \"10/22\", \"11/22\", \"12/22\"]}}}, {\"data\": {\"name\": \"data-dbc0ba2d637ccbc6ba1366d8c84e82ba\"}, \"mark\": {\"type\": \"line\", \"color\": \"red\"}, \"encoding\": {\"x\": {\"type\": \"ordinal\", \"field\": \"Month\", \"sort\": [\"01/19\", \"02/19\", \"03/19\", \"04/19\", \"05/19\", \"06/19\", \"07/19\", \"08/19\", \"09/19\", \"10/19\", \"11/19\", \"12/19\", \"01/20\", \"02/20\", \"03/20\", \"04/20\", \"05/20\", \"06/20\", \"07/20\", \"08/20\", \"09/20\", \"10/20\", \"11/20\", \"12/20\", \"01/21\", \"02/21\", \"03/21\", \"04/21\", \"05/21\", \"06/21\", \"07/21\", \"08/21\", \"09/21\", \"10/21\", \"11/21\", \"12/21\", \"01/22\", \"02/22\", \"03/22\", \"04/22\", \"05/22\", \"06/22\", \"07/22\", \"08/22\", \"09/22\", \"10/22\", \"11/22\", \"12/22\"]}, \"y\": {\"type\": \"quantitative\", \"field\": \"Predicted Mean NDVI\", \"title\": \"Mean NDVI\"}}}, {\"data\": {\"name\": \"data-dbc0ba2d637ccbc6ba1366d8c84e82ba\"}, \"mark\": {\"type\": \"circle\", \"color\": \"red\", \"size\": 50}, \"encoding\": {\"tooltip\": [{\"type\": \"nominal\", \"field\": \"Month\"}, {\"type\": \"nominal\", \"field\": \"Region\"}, {\"type\": \"quantitative\", \"field\": \"Predicted Mean NDVI\"}], \"x\": {\"type\": \"ordinal\", \"field\": \"Month\", \"sort\": [\"01/19\", \"02/19\", \"03/19\", \"04/19\", \"05/19\", \"06/19\", \"07/19\", \"08/19\", \"09/19\", \"10/19\", \"11/19\", \"12/19\", \"01/20\", \"02/20\", \"03/20\", \"04/20\", \"05/20\", \"06/20\", \"07/20\", \"08/20\", \"09/20\", \"10/20\", \"11/20\", \"12/20\", \"01/21\", \"02/21\", \"03/21\", \"04/21\", \"05/21\", \"06/21\", \"07/21\", \"08/21\", \"09/21\", \"10/21\", \"11/21\", \"12/21\", \"01/22\", \"02/22\", \"03/22\", \"04/22\", \"05/22\", \"06/22\", \"07/22\", \"08/22\", \"09/22\", \"10/22\", \"11/22\", \"12/22\"]}, \"y\": {\"type\": \"quantitative\", \"field\": \"Predicted Mean NDVI\", \"title\": \"Mean NDVI\"}}}], \"height\": 250, \"title\": \"Alan'Ankirisa Monthly Mean NDVI\", \"width\": 400}, {\"layer\": [{\"mark\": {\"type\": \"line\", \"color\": \"#D159F2\"}, \"encoding\": {\"x\": {\"type\": \"ordinal\", \"field\": \"Month\", \"sort\": [\"01/19\", \"02/19\", \"03/19\", \"04/19\", \"05/19\", \"06/19\", \"07/19\", \"08/19\", \"09/19\", \"10/19\", \"11/19\", \"12/19\", \"01/20\", \"02/20\", \"03/20\", \"04/20\", \"05/20\", \"06/20\", \"07/20\", \"08/20\", \"09/20\", \"10/20\", \"11/20\", \"12/20\", \"01/21\", \"02/21\", \"03/21\", \"04/21\", \"05/21\", \"06/21\", \"07/21\", \"08/21\", \"09/21\", \"10/21\"]}, \"y\": {\"type\": \"quantitative\", \"field\": \"Residual\"}}}, {\"mark\": {\"type\": \"circle\", \"color\": \"#D159F2\", \"size\": 50}, \"encoding\": {\"tooltip\": [{\"type\": \"nominal\", \"field\": \"Month\"}, {\"type\": \"nominal\", \"field\": \"Region\"}, {\"type\": \"quantitative\", \"field\": \"Residual\"}], \"x\": {\"type\": \"ordinal\", \"field\": \"Month\", \"sort\": [\"01/19\", \"02/19\", \"03/19\", \"04/19\", \"05/19\", \"06/19\", \"07/19\", \"08/19\", \"09/19\", \"10/19\", \"11/19\", \"12/19\", \"01/20\", \"02/20\", \"03/20\", \"04/20\", \"05/20\", \"06/20\", \"07/20\", \"08/20\", \"09/20\", \"10/20\", \"11/20\", \"12/20\", \"01/21\", \"02/21\", \"03/21\", \"04/21\", \"05/21\", \"06/21\", \"07/21\", \"08/21\", \"09/21\", \"10/21\"]}, \"y\": {\"type\": \"quantitative\", \"field\": \"Residual\"}}}], \"data\": {\"name\": \"data-d2037e9ab11da11d3af8c4c6916c96ec\"}, \"height\": 250, \"title\": \"Alan'Ankirisa Detrended Monthly Mean NDVI\", \"width\": 400}]}], \"$schema\": \"https://vega.github.io/schema/vega-lite/v4.8.1.json\", \"datasets\": {\"data-b124232c54d6063de72db85893def138\": [{\"Month\": \"01/19\", \"Years Since Epoch (t)\": 49.039, \"Max NDVI\": 0.977, \"Mean NDVI\": 0.764, \"Min NDVI\": -0.472, \"Region\": \"d'Andohahela\", \"Fitted Mean NDVI\": 0.762, \"Residual\": 0.002}, {\"Month\": \"02/19\", \"Years Since Epoch (t)\": 49.124, \"Max NDVI\": 0.998, \"Mean NDVI\": 0.766, \"Min NDVI\": -0.673, \"Region\": \"d'Andohahela\", \"Fitted Mean NDVI\": 0.76, \"Residual\": 0.006}, {\"Month\": \"03/19\", \"Years Since Epoch (t)\": 49.2, \"Max NDVI\": 0.999, \"Mean NDVI\": 0.803, \"Min NDVI\": -0.544, \"Region\": \"d'Andohahela\", \"Fitted Mean NDVI\": 0.758, \"Residual\": 0.045}, {\"Month\": \"04/19\", \"Years Since Epoch (t)\": 49.285, \"Max NDVI\": 0.999, \"Mean NDVI\": 0.781, \"Min NDVI\": -0.543, \"Region\": \"d'Andohahela\", \"Fitted Mean NDVI\": 0.756, \"Residual\": 0.025}, {\"Month\": \"05/19\", \"Years Since Epoch (t)\": 49.367, \"Max NDVI\": 1.0, \"Mean NDVI\": 0.797, \"Min NDVI\": -0.722, \"Region\": \"d'Andohahela\", \"Fitted Mean NDVI\": 0.754, \"Residual\": 0.043}, {\"Month\": \"06/19\", \"Years Since Epoch (t)\": 49.452, \"Max NDVI\": 0.999, \"Mean NDVI\": 0.757, \"Min NDVI\": -0.951, \"Region\": \"d'Andohahela\", \"Fitted Mean NDVI\": 0.752, \"Residual\": 0.005}, {\"Month\": \"07/19\", \"Years Since Epoch (t)\": 49.534, \"Max NDVI\": 0.999, \"Mean NDVI\": 0.771, \"Min NDVI\": -0.675, \"Region\": \"d'Andohahela\", \"Fitted Mean NDVI\": 0.75, \"Residual\": 0.021}, {\"Month\": \"08/19\", \"Years Since Epoch (t)\": 49.619, \"Max NDVI\": 0.997, \"Mean NDVI\": 0.726, \"Min NDVI\": -0.521, \"Region\": \"d'Andohahela\", \"Fitted Mean NDVI\": 0.748, \"Residual\": -0.022}, {\"Month\": \"09/19\", \"Years Since Epoch (t)\": 49.704, \"Max NDVI\": 0.948, \"Mean NDVI\": 0.71, \"Min NDVI\": -0.371, \"Region\": \"d'Andohahela\", \"Fitted Mean NDVI\": 0.746, \"Residual\": -0.036}, {\"Month\": \"10/19\", \"Years Since Epoch (t)\": 49.786, \"Max NDVI\": 0.925, \"Mean NDVI\": 0.687, \"Min NDVI\": -0.453, \"Region\": \"d'Andohahela\", \"Fitted Mean NDVI\": 0.744, \"Residual\": -0.057}, {\"Month\": \"11/19\", \"Years Since Epoch (t)\": 49.871, \"Max NDVI\": 0.933, \"Mean NDVI\": 0.704, \"Min NDVI\": -0.448, \"Region\": \"d'Andohahela\", \"Fitted Mean NDVI\": 0.742, \"Residual\": -0.038}, {\"Month\": \"12/19\", \"Years Since Epoch (t)\": 49.953, \"Max NDVI\": 0.951, \"Mean NDVI\": 0.74, \"Min NDVI\": -0.491, \"Region\": \"d'Andohahela\", \"Fitted Mean NDVI\": 0.741, \"Residual\": -0.001}, {\"Month\": \"01/20\", \"Years Since Epoch (t)\": 50.038, \"Max NDVI\": 0.945, \"Mean NDVI\": 0.709, \"Min NDVI\": -0.402, \"Region\": \"d'Andohahela\", \"Fitted Mean NDVI\": 0.739, \"Residual\": -0.03}, {\"Month\": \"02/20\", \"Years Since Epoch (t)\": 50.123, \"Max NDVI\": 0.995, \"Mean NDVI\": 0.7, \"Min NDVI\": -0.984, \"Region\": \"d'Andohahela\", \"Fitted Mean NDVI\": 0.737, \"Residual\": -0.037}, {\"Month\": \"03/20\", \"Years Since Epoch (t)\": 50.202, \"Max NDVI\": 0.965, \"Mean NDVI\": 0.719, \"Min NDVI\": -0.603, \"Region\": \"d'Andohahela\", \"Fitted Mean NDVI\": 0.735, \"Residual\": -0.016}, {\"Month\": \"04/20\", \"Years Since Epoch (t)\": 50.287, \"Max NDVI\": 0.999, \"Mean NDVI\": 0.801, \"Min NDVI\": -0.58, \"Region\": \"d'Andohahela\", \"Fitted Mean NDVI\": 0.733, \"Residual\": 0.068}, {\"Month\": \"05/20\", \"Years Since Epoch (t)\": 50.369, \"Max NDVI\": 0.999, \"Mean NDVI\": 0.778, \"Min NDVI\": -0.487, \"Region\": \"d'Andohahela\", \"Fitted Mean NDVI\": 0.731, \"Residual\": 0.047}, {\"Month\": \"06/20\", \"Years Since Epoch (t)\": 50.454, \"Max NDVI\": 0.999, \"Mean NDVI\": 0.758, \"Min NDVI\": -0.48, \"Region\": \"d'Andohahela\", \"Fitted Mean NDVI\": 0.729, \"Residual\": 0.029}, {\"Month\": \"07/20\", \"Years Since Epoch (t)\": 50.536, \"Max NDVI\": 0.999, \"Mean NDVI\": 0.744, \"Min NDVI\": -0.427, \"Region\": \"d'Andohahela\", \"Fitted Mean NDVI\": 0.727, \"Residual\": 0.017}, {\"Month\": \"08/20\", \"Years Since Epoch (t)\": 50.621, \"Max NDVI\": 0.998, \"Mean NDVI\": 0.69, \"Min NDVI\": -0.405, \"Region\": \"d'Andohahela\", \"Fitted Mean NDVI\": 0.725, \"Residual\": -0.035}, {\"Month\": \"09/20\", \"Years Since Epoch (t)\": 50.706, \"Max NDVI\": 0.932, \"Mean NDVI\": 0.671, \"Min NDVI\": -0.427, \"Region\": \"d'Andohahela\", \"Fitted Mean NDVI\": 0.723, \"Residual\": -0.052}, {\"Month\": \"10/20\", \"Years Since Epoch (t)\": 50.788, \"Max NDVI\": 0.916, \"Mean NDVI\": 0.655, \"Min NDVI\": -0.378, \"Region\": \"d'Andohahela\", \"Fitted Mean NDVI\": 0.721, \"Residual\": -0.066}, {\"Month\": \"11/20\", \"Years Since Epoch (t)\": 50.873, \"Max NDVI\": 0.939, \"Mean NDVI\": 0.673, \"Min NDVI\": -0.306, \"Region\": \"d'Andohahela\", \"Fitted Mean NDVI\": 0.719, \"Residual\": -0.046}, {\"Month\": \"12/20\", \"Years Since Epoch (t)\": 50.955, \"Max NDVI\": 0.956, \"Mean NDVI\": 0.679, \"Min NDVI\": -0.269, \"Region\": \"d'Andohahela\", \"Fitted Mean NDVI\": 0.717, \"Residual\": -0.038}, {\"Month\": \"01/21\", \"Years Since Epoch (t)\": 51.04, \"Max NDVI\": 0.989, \"Mean NDVI\": 0.696, \"Min NDVI\": -0.471, \"Region\": \"d'Andohahela\", \"Fitted Mean NDVI\": 0.715, \"Residual\": -0.019}, {\"Month\": \"02/21\", \"Years Since Epoch (t)\": 51.125, \"Max NDVI\": 0.975, \"Mean NDVI\": 0.714, \"Min NDVI\": -0.435, \"Region\": \"d'Andohahela\", \"Fitted Mean NDVI\": 0.713, \"Residual\": 0.001}, {\"Month\": \"03/21\", \"Years Since Epoch (t)\": 51.202, \"Max NDVI\": 0.999, \"Mean NDVI\": 0.762, \"Min NDVI\": -0.491, \"Region\": \"d'Andohahela\", \"Fitted Mean NDVI\": 0.712, \"Residual\": 0.05}, {\"Month\": \"04/21\", \"Years Since Epoch (t)\": 51.286, \"Max NDVI\": 0.999, \"Mean NDVI\": 0.773, \"Min NDVI\": -0.507, \"Region\": \"d'Andohahela\", \"Fitted Mean NDVI\": 0.71, \"Residual\": 0.063}, {\"Month\": \"05/21\", \"Years Since Epoch (t)\": 51.369, \"Max NDVI\": 0.999, \"Mean NDVI\": 0.751, \"Min NDVI\": -0.459, \"Region\": \"d'Andohahela\", \"Fitted Mean NDVI\": 0.708, \"Residual\": 0.043}, {\"Month\": \"06/21\", \"Years Since Epoch (t)\": 51.453, \"Max NDVI\": 1.0, \"Mean NDVI\": 0.768, \"Min NDVI\": -0.958, \"Region\": \"d'Andohahela\", \"Fitted Mean NDVI\": 0.706, \"Residual\": 0.062}, {\"Month\": \"07/21\", \"Years Since Epoch (t)\": 51.536, \"Max NDVI\": 1.0, \"Mean NDVI\": 0.758, \"Min NDVI\": -0.99, \"Region\": \"d'Andohahela\", \"Fitted Mean NDVI\": 0.704, \"Residual\": 0.054}, {\"Month\": \"08/21\", \"Years Since Epoch (t)\": 51.62, \"Max NDVI\": 0.962, \"Mean NDVI\": 0.7, \"Min NDVI\": -0.4, \"Region\": \"d'Andohahela\", \"Fitted Mean NDVI\": 0.702, \"Residual\": -0.002}, {\"Month\": \"09/21\", \"Years Since Epoch (t)\": 51.705, \"Max NDVI\": 0.938, \"Mean NDVI\": 0.68, \"Min NDVI\": -0.396, \"Region\": \"d'Andohahela\", \"Fitted Mean NDVI\": 0.7, \"Residual\": -0.02}, {\"Month\": \"10/21\", \"Years Since Epoch (t)\": 51.788, \"Max NDVI\": 0.934, \"Mean NDVI\": 0.632, \"Min NDVI\": -0.252, \"Region\": \"d'Andohahela\", \"Fitted Mean NDVI\": 0.698, \"Residual\": -0.066}], \"data-af17fb00603506eec0702e5630e096ed\": [{\"Month\": \"11/21\"}], \"data-e731b9d66df6db3e9a48555d0c701a07\": [{\"Month\": \"11/21\", \"Region\": \"d'Andohahela\", \"Predicted Mean NDVI\": 0.696}, {\"Month\": \"12/21\", \"Region\": \"d'Andohahela\", \"Predicted Mean NDVI\": 0.694}, {\"Month\": \"01/22\", \"Region\": \"d'Andohahela\", \"Predicted Mean NDVI\": 0.692}, {\"Month\": \"02/22\", \"Region\": \"d'Andohahela\", \"Predicted Mean NDVI\": 0.69}, {\"Month\": \"03/22\", \"Region\": \"d'Andohahela\", \"Predicted Mean NDVI\": 0.688}, {\"Month\": \"04/22\", \"Region\": \"d'Andohahela\", \"Predicted Mean NDVI\": 0.686}, {\"Month\": \"05/22\", \"Region\": \"d'Andohahela\", \"Predicted Mean NDVI\": 0.684}, {\"Month\": \"06/22\", \"Region\": \"d'Andohahela\", \"Predicted Mean NDVI\": 0.682}, {\"Month\": \"07/22\", \"Region\": \"d'Andohahela\", \"Predicted Mean NDVI\": 0.681}, {\"Month\": \"08/22\", \"Region\": \"d'Andohahela\", \"Predicted Mean NDVI\": 0.679}, {\"Month\": \"09/22\", \"Region\": \"d'Andohahela\", \"Predicted Mean NDVI\": 0.677}, {\"Month\": \"10/22\", \"Region\": \"d'Andohahela\", \"Predicted Mean NDVI\": 0.675}, {\"Month\": \"11/22\", \"Region\": \"d'Andohahela\", \"Predicted Mean NDVI\": 0.673}, {\"Month\": \"12/22\", \"Region\": \"d'Andohahela\", \"Predicted Mean NDVI\": 0.671}], \"data-ce0a92ecc63b9043436c366976336457\": [{\"Month\": \"01/19\", \"Years Since Epoch (t)\": 49.039, \"Max NDVI\": 0.999, \"Mean NDVI\": 0.791, \"Min NDVI\": -0.869, \"Region\": \"Midongy Betofaka\", \"Fitted Mean NDVI\": 0.796, \"Residual\": -0.005}, {\"Month\": \"02/19\", \"Years Since Epoch (t)\": 49.124, \"Max NDVI\": 0.997, \"Mean NDVI\": 0.774, \"Min NDVI\": -0.614, \"Region\": \"Midongy Betofaka\", \"Fitted Mean NDVI\": 0.794, \"Residual\": -0.02}, {\"Month\": \"03/19\", \"Years Since Epoch (t)\": 49.2, \"Max NDVI\": 0.995, \"Mean NDVI\": 0.815, \"Min NDVI\": -0.996, \"Region\": \"Midongy Betofaka\", \"Fitted Mean NDVI\": 0.793, \"Residual\": 0.022}, {\"Month\": \"04/19\", \"Years Since Epoch (t)\": 49.285, \"Max NDVI\": 0.996, \"Mean NDVI\": 0.825, \"Min NDVI\": -0.705, \"Region\": \"Midongy Betofaka\", \"Fitted Mean NDVI\": 0.792, \"Residual\": 0.033}, {\"Month\": \"05/19\", \"Years Since Epoch (t)\": 49.367, \"Max NDVI\": 0.999, \"Mean NDVI\": 0.835, \"Min NDVI\": -0.98, \"Region\": \"Midongy Betofaka\", \"Fitted Mean NDVI\": 0.791, \"Residual\": 0.044}, {\"Month\": \"06/19\", \"Years Since Epoch (t)\": 49.452, \"Max NDVI\": 0.999, \"Mean NDVI\": 0.813, \"Min NDVI\": -0.976, \"Region\": \"Midongy Betofaka\", \"Fitted Mean NDVI\": 0.79, \"Residual\": 0.023}, {\"Month\": \"07/19\", \"Years Since Epoch (t)\": 49.534, \"Max NDVI\": 0.999, \"Mean NDVI\": 0.826, \"Min NDVI\": -0.99, \"Region\": \"Midongy Betofaka\", \"Fitted Mean NDVI\": 0.789, \"Residual\": 0.037}, {\"Month\": \"08/19\", \"Years Since Epoch (t)\": 49.619, \"Max NDVI\": 0.962, \"Mean NDVI\": 0.778, \"Min NDVI\": -0.632, \"Region\": \"Midongy Betofaka\", \"Fitted Mean NDVI\": 0.787, \"Residual\": -0.009}, {\"Month\": \"09/19\", \"Years Since Epoch (t)\": 49.704, \"Max NDVI\": 0.911, \"Mean NDVI\": 0.721, \"Min NDVI\": -0.648, \"Region\": \"Midongy Betofaka\", \"Fitted Mean NDVI\": 0.786, \"Residual\": -0.065}, {\"Month\": \"10/19\", \"Years Since Epoch (t)\": 49.786, \"Max NDVI\": 0.919, \"Mean NDVI\": 0.738, \"Min NDVI\": -0.87, \"Region\": \"Midongy Betofaka\", \"Fitted Mean NDVI\": 0.785, \"Residual\": -0.047}, {\"Month\": \"11/19\", \"Years Since Epoch (t)\": 49.871, \"Max NDVI\": 0.944, \"Mean NDVI\": 0.757, \"Min NDVI\": -0.974, \"Region\": \"Midongy Betofaka\", \"Fitted Mean NDVI\": 0.784, \"Residual\": -0.027}, {\"Month\": \"12/19\", \"Years Since Epoch (t)\": 49.953, \"Max NDVI\": 0.999, \"Mean NDVI\": 0.735, \"Min NDVI\": -0.768, \"Region\": \"Midongy Betofaka\", \"Fitted Mean NDVI\": 0.783, \"Residual\": -0.048}, {\"Month\": \"01/20\", \"Years Since Epoch (t)\": 50.038, \"Max NDVI\": 0.998, \"Mean NDVI\": 0.766, \"Min NDVI\": -0.56, \"Region\": \"Midongy Betofaka\", \"Fitted Mean NDVI\": 0.781, \"Residual\": -0.015}, {\"Month\": \"02/20\", \"Years Since Epoch (t)\": 50.123, \"Max NDVI\": 0.972, \"Mean NDVI\": 0.78, \"Min NDVI\": -0.979, \"Region\": \"Midongy Betofaka\", \"Fitted Mean NDVI\": 0.78, \"Residual\": -0.0}, {\"Month\": \"03/20\", \"Years Since Epoch (t)\": 50.202, \"Max NDVI\": 1.0, \"Mean NDVI\": 0.809, \"Min NDVI\": -0.996, \"Region\": \"Midongy Betofaka\", \"Fitted Mean NDVI\": 0.779, \"Residual\": 0.03}, {\"Month\": \"04/20\", \"Years Since Epoch (t)\": 50.287, \"Max NDVI\": 0.999, \"Mean NDVI\": 0.788, \"Min NDVI\": -0.992, \"Region\": \"Midongy Betofaka\", \"Fitted Mean NDVI\": 0.778, \"Residual\": 0.01}, {\"Month\": \"05/20\", \"Years Since Epoch (t)\": 50.369, \"Max NDVI\": 0.999, \"Mean NDVI\": 0.819, \"Min NDVI\": -0.866, \"Region\": \"Midongy Betofaka\", \"Fitted Mean NDVI\": 0.777, \"Residual\": 0.042}, {\"Month\": \"06/20\", \"Years Since Epoch (t)\": 50.454, \"Max NDVI\": 0.999, \"Mean NDVI\": 0.801, \"Min NDVI\": -0.606, \"Region\": \"Midongy Betofaka\", \"Fitted Mean NDVI\": 0.775, \"Residual\": 0.026}, {\"Month\": \"07/20\", \"Years Since Epoch (t)\": 50.536, \"Max NDVI\": 0.999, \"Mean NDVI\": 0.797, \"Min NDVI\": -0.92, \"Region\": \"Midongy Betofaka\", \"Fitted Mean NDVI\": 0.774, \"Residual\": 0.023}, {\"Month\": \"08/20\", \"Years Since Epoch (t)\": 50.621, \"Max NDVI\": 0.999, \"Mean NDVI\": 0.765, \"Min NDVI\": -0.993, \"Region\": \"Midongy Betofaka\", \"Fitted Mean NDVI\": 0.773, \"Residual\": -0.008}, {\"Month\": \"09/20\", \"Years Since Epoch (t)\": 50.706, \"Max NDVI\": 0.905, \"Mean NDVI\": 0.714, \"Min NDVI\": -0.855, \"Region\": \"Midongy Betofaka\", \"Fitted Mean NDVI\": 0.772, \"Residual\": -0.058}, {\"Month\": \"10/20\", \"Years Since Epoch (t)\": 50.788, \"Max NDVI\": 0.915, \"Mean NDVI\": 0.729, \"Min NDVI\": -0.64, \"Region\": \"Midongy Betofaka\", \"Fitted Mean NDVI\": 0.771, \"Residual\": -0.042}, {\"Month\": \"11/20\", \"Years Since Epoch (t)\": 50.873, \"Max NDVI\": 0.92, \"Mean NDVI\": 0.718, \"Min NDVI\": -0.979, \"Region\": \"Midongy Betofaka\", \"Fitted Mean NDVI\": 0.769, \"Residual\": -0.051}, {\"Month\": \"12/20\", \"Years Since Epoch (t)\": 50.955, \"Max NDVI\": 0.929, \"Mean NDVI\": 0.727, \"Min NDVI\": -0.605, \"Region\": \"Midongy Betofaka\", \"Fitted Mean NDVI\": 0.768, \"Residual\": -0.041}, {\"Month\": \"01/21\", \"Years Since Epoch (t)\": 51.04, \"Max NDVI\": 0.96, \"Mean NDVI\": 0.786, \"Min NDVI\": -0.65, \"Region\": \"Midongy Betofaka\", \"Fitted Mean NDVI\": 0.767, \"Residual\": 0.019}, {\"Month\": \"02/21\", \"Years Since Epoch (t)\": 51.125, \"Max NDVI\": 0.999, \"Mean NDVI\": 0.782, \"Min NDVI\": -0.646, \"Region\": \"Midongy Betofaka\", \"Fitted Mean NDVI\": 0.766, \"Residual\": 0.016}, {\"Month\": \"03/21\", \"Years Since Epoch (t)\": 51.202, \"Max NDVI\": 0.999, \"Mean NDVI\": 0.792, \"Min NDVI\": -0.995, \"Region\": \"Midongy Betofaka\", \"Fitted Mean NDVI\": 0.765, \"Residual\": 0.027}, {\"Month\": \"04/21\", \"Years Since Epoch (t)\": 51.286, \"Max NDVI\": 0.998, \"Mean NDVI\": 0.815, \"Min NDVI\": -0.754, \"Region\": \"Midongy Betofaka\", \"Fitted Mean NDVI\": 0.763, \"Residual\": 0.052}, {\"Month\": \"05/21\", \"Years Since Epoch (t)\": 51.369, \"Max NDVI\": 0.999, \"Mean NDVI\": 0.806, \"Min NDVI\": -0.991, \"Region\": \"Midongy Betofaka\", \"Fitted Mean NDVI\": 0.762, \"Residual\": 0.044}, {\"Month\": \"06/21\", \"Years Since Epoch (t)\": 51.453, \"Max NDVI\": 1.0, \"Mean NDVI\": 0.815, \"Min NDVI\": -0.992, \"Region\": \"Midongy Betofaka\", \"Fitted Mean NDVI\": 0.761, \"Residual\": 0.054}, {\"Month\": \"07/21\", \"Years Since Epoch (t)\": 51.536, \"Max NDVI\": 0.999, \"Mean NDVI\": 0.787, \"Min NDVI\": -0.98, \"Region\": \"Midongy Betofaka\", \"Fitted Mean NDVI\": 0.76, \"Residual\": 0.027}, {\"Month\": \"08/21\", \"Years Since Epoch (t)\": 51.62, \"Max NDVI\": 0.99, \"Mean NDVI\": 0.752, \"Min NDVI\": -0.864, \"Region\": \"Midongy Betofaka\", \"Fitted Mean NDVI\": 0.759, \"Residual\": -0.007}, {\"Month\": \"09/21\", \"Years Since Epoch (t)\": 51.705, \"Max NDVI\": 0.922, \"Mean NDVI\": 0.724, \"Min NDVI\": -0.924, \"Region\": \"Midongy Betofaka\", \"Fitted Mean NDVI\": 0.757, \"Residual\": -0.033}, {\"Month\": \"10/21\", \"Years Since Epoch (t)\": 51.788, \"Max NDVI\": 0.914, \"Mean NDVI\": 0.701, \"Min NDVI\": -0.984, \"Region\": \"Midongy Betofaka\", \"Fitted Mean NDVI\": 0.756, \"Residual\": -0.055}], \"data-07625e840c56bb94031e6e34837afbc5\": [{\"Month\": \"11/21\", \"Region\": \"Midongy Betofaka\", \"Predicted Mean NDVI\": 0.755}, {\"Month\": \"12/21\", \"Region\": \"Midongy Betofaka\", \"Predicted Mean NDVI\": 0.754}, {\"Month\": \"01/22\", \"Region\": \"Midongy Betofaka\", \"Predicted Mean NDVI\": 0.753}, {\"Month\": \"02/22\", \"Region\": \"Midongy Betofaka\", \"Predicted Mean NDVI\": 0.751}, {\"Month\": \"03/22\", \"Region\": \"Midongy Betofaka\", \"Predicted Mean NDVI\": 0.75}, {\"Month\": \"04/22\", \"Region\": \"Midongy Betofaka\", \"Predicted Mean NDVI\": 0.749}, {\"Month\": \"05/22\", \"Region\": \"Midongy Betofaka\", \"Predicted Mean NDVI\": 0.748}, {\"Month\": \"06/22\", \"Region\": \"Midongy Betofaka\", \"Predicted Mean NDVI\": 0.747}, {\"Month\": \"07/22\", \"Region\": \"Midongy Betofaka\", \"Predicted Mean NDVI\": 0.745}, {\"Month\": \"08/22\", \"Region\": \"Midongy Betofaka\", \"Predicted Mean NDVI\": 0.744}, {\"Month\": \"09/22\", \"Region\": \"Midongy Betofaka\", \"Predicted Mean NDVI\": 0.743}, {\"Month\": \"10/22\", \"Region\": \"Midongy Betofaka\", \"Predicted Mean NDVI\": 0.742}, {\"Month\": \"11/22\", \"Region\": \"Midongy Betofaka\", \"Predicted Mean NDVI\": 0.741}, {\"Month\": \"12/22\", \"Region\": \"Midongy Betofaka\", \"Predicted Mean NDVI\": 0.739}], \"data-987c710a6a6a6061ff3e26a4c3315c5e\": [{\"Month\": \"01/19\", \"Years Since Epoch (t)\": 49.039, \"Max NDVI\": 0.905, \"Mean NDVI\": 0.503, \"Min NDVI\": -0.861, \"Region\": \"Tsimanampetsotsa\", \"Fitted Mean NDVI\": 0.441, \"Residual\": 0.062}, {\"Month\": \"02/19\", \"Years Since Epoch (t)\": 49.124, \"Max NDVI\": 0.921, \"Mean NDVI\": 0.52, \"Min NDVI\": -0.999, \"Region\": \"Tsimanampetsotsa\", \"Fitted Mean NDVI\": 0.435, \"Residual\": 0.085}, {\"Month\": \"03/19\", \"Years Since Epoch (t)\": 49.2, \"Max NDVI\": 0.92, \"Mean NDVI\": 0.516, \"Min NDVI\": -0.998, \"Region\": \"Tsimanampetsotsa\", \"Fitted Mean NDVI\": 0.43, \"Residual\": 0.086}, {\"Month\": \"04/19\", \"Years Since Epoch (t)\": 49.285, \"Max NDVI\": 0.937, \"Mean NDVI\": 0.459, \"Min NDVI\": -0.891, \"Region\": \"Tsimanampetsotsa\", \"Fitted Mean NDVI\": 0.424, \"Residual\": 0.035}, {\"Month\": \"05/19\", \"Years Since Epoch (t)\": 49.367, \"Max NDVI\": 0.925, \"Mean NDVI\": 0.436, \"Min NDVI\": -0.998, \"Region\": \"Tsimanampetsotsa\", \"Fitted Mean NDVI\": 0.418, \"Residual\": 0.018}, {\"Month\": \"06/19\", \"Years Since Epoch (t)\": 49.452, \"Max NDVI\": 0.999, \"Mean NDVI\": 0.412, \"Min NDVI\": -0.999, \"Region\": \"Tsimanampetsotsa\", \"Fitted Mean NDVI\": 0.412, \"Residual\": -0.0}, {\"Month\": \"07/19\", \"Years Since Epoch (t)\": 49.534, \"Max NDVI\": 1.0, \"Mean NDVI\": 0.403, \"Min NDVI\": -0.999, \"Region\": \"Tsimanampetsotsa\", \"Fitted Mean NDVI\": 0.406, \"Residual\": -0.003}, {\"Month\": \"08/19\", \"Years Since Epoch (t)\": 49.619, \"Max NDVI\": 0.999, \"Mean NDVI\": 0.314, \"Min NDVI\": -0.999, \"Region\": \"Tsimanampetsotsa\", \"Fitted Mean NDVI\": 0.4, \"Residual\": -0.086}, {\"Month\": \"09/19\", \"Years Since Epoch (t)\": 49.704, \"Max NDVI\": 0.911, \"Mean NDVI\": 0.271, \"Min NDVI\": -0.942, \"Region\": \"Tsimanampetsotsa\", \"Fitted Mean NDVI\": 0.394, \"Residual\": -0.123}, {\"Month\": \"10/19\", \"Years Since Epoch (t)\": 49.786, \"Max NDVI\": 0.925, \"Mean NDVI\": 0.253, \"Min NDVI\": -0.999, \"Region\": \"Tsimanampetsotsa\", \"Fitted Mean NDVI\": 0.389, \"Residual\": -0.136}, {\"Month\": \"11/19\", \"Years Since Epoch (t)\": 49.871, \"Max NDVI\": 0.921, \"Mean NDVI\": 0.359, \"Min NDVI\": -0.999, \"Region\": \"Tsimanampetsotsa\", \"Fitted Mean NDVI\": 0.383, \"Residual\": -0.024}, {\"Month\": \"12/19\", \"Years Since Epoch (t)\": 49.953, \"Max NDVI\": 0.957, \"Mean NDVI\": 0.371, \"Min NDVI\": -0.999, \"Region\": \"Tsimanampetsotsa\", \"Fitted Mean NDVI\": 0.377, \"Residual\": -0.006}, {\"Month\": \"01/20\", \"Years Since Epoch (t)\": 50.038, \"Max NDVI\": 0.925, \"Mean NDVI\": 0.379, \"Min NDVI\": -0.999, \"Region\": \"Tsimanampetsotsa\", \"Fitted Mean NDVI\": 0.371, \"Residual\": 0.008}, {\"Month\": \"02/20\", \"Years Since Epoch (t)\": 50.123, \"Max NDVI\": 0.909, \"Mean NDVI\": 0.437, \"Min NDVI\": -0.999, \"Region\": \"Tsimanampetsotsa\", \"Fitted Mean NDVI\": 0.365, \"Residual\": 0.072}, {\"Month\": \"03/20\", \"Years Since Epoch (t)\": 50.202, \"Max NDVI\": 0.884, \"Mean NDVI\": 0.394, \"Min NDVI\": -0.971, \"Region\": \"Tsimanampetsotsa\", \"Fitted Mean NDVI\": 0.359, \"Residual\": 0.035}, {\"Month\": \"04/20\", \"Years Since Epoch (t)\": 50.287, \"Max NDVI\": 0.944, \"Mean NDVI\": 0.403, \"Min NDVI\": -0.986, \"Region\": \"Tsimanampetsotsa\", \"Fitted Mean NDVI\": 0.353, \"Residual\": 0.05}, {\"Month\": \"05/20\", \"Years Since Epoch (t)\": 50.369, \"Max NDVI\": 0.999, \"Mean NDVI\": 0.394, \"Min NDVI\": -0.999, \"Region\": \"Tsimanampetsotsa\", \"Fitted Mean NDVI\": 0.348, \"Residual\": 0.046}, {\"Month\": \"06/20\", \"Years Since Epoch (t)\": 50.454, \"Max NDVI\": 0.999, \"Mean NDVI\": 0.368, \"Min NDVI\": -0.999, \"Region\": \"Tsimanampetsotsa\", \"Fitted Mean NDVI\": 0.342, \"Residual\": 0.026}, {\"Month\": \"07/20\", \"Years Since Epoch (t)\": 50.536, \"Max NDVI\": 0.999, \"Mean NDVI\": 0.318, \"Min NDVI\": -0.999, \"Region\": \"Tsimanampetsotsa\", \"Fitted Mean NDVI\": 0.336, \"Residual\": -0.018}, {\"Month\": \"08/20\", \"Years Since Epoch (t)\": 50.621, \"Max NDVI\": 0.946, \"Mean NDVI\": 0.24, \"Min NDVI\": -0.999, \"Region\": \"Tsimanampetsotsa\", \"Fitted Mean NDVI\": 0.33, \"Residual\": -0.09}, {\"Month\": \"09/20\", \"Years Since Epoch (t)\": 50.706, \"Max NDVI\": 0.916, \"Mean NDVI\": 0.225, \"Min NDVI\": -0.999, \"Region\": \"Tsimanampetsotsa\", \"Fitted Mean NDVI\": 0.324, \"Residual\": -0.099}, {\"Month\": \"10/20\", \"Years Since Epoch (t)\": 50.788, \"Max NDVI\": 0.907, \"Mean NDVI\": 0.197, \"Min NDVI\": -0.999, \"Region\": \"Tsimanampetsotsa\", \"Fitted Mean NDVI\": 0.318, \"Residual\": -0.121}, {\"Month\": \"11/20\", \"Years Since Epoch (t)\": 50.873, \"Max NDVI\": 0.916, \"Mean NDVI\": 0.193, \"Min NDVI\": -0.999, \"Region\": \"Tsimanampetsotsa\", \"Fitted Mean NDVI\": 0.312, \"Residual\": -0.119}, {\"Month\": \"12/20\", \"Years Since Epoch (t)\": 50.955, \"Max NDVI\": 0.996, \"Mean NDVI\": 0.211, \"Min NDVI\": -0.999, \"Region\": \"Tsimanampetsotsa\", \"Fitted Mean NDVI\": 0.307, \"Residual\": -0.096}, {\"Month\": \"01/21\", \"Years Since Epoch (t)\": 51.04, \"Max NDVI\": 0.964, \"Mean NDVI\": 0.257, \"Min NDVI\": -0.999, \"Region\": \"Tsimanampetsotsa\", \"Fitted Mean NDVI\": 0.301, \"Residual\": -0.044}, {\"Month\": \"02/21\", \"Years Since Epoch (t)\": 51.125, \"Max NDVI\": 0.93, \"Mean NDVI\": 0.304, \"Min NDVI\": -0.999, \"Region\": \"Tsimanampetsotsa\", \"Fitted Mean NDVI\": 0.295, \"Residual\": 0.009}, {\"Month\": \"03/21\", \"Years Since Epoch (t)\": 51.202, \"Max NDVI\": 0.901, \"Mean NDVI\": 0.425, \"Min NDVI\": -0.947, \"Region\": \"Tsimanampetsotsa\", \"Fitted Mean NDVI\": 0.289, \"Residual\": 0.136}, {\"Month\": \"04/21\", \"Years Since Epoch (t)\": 51.286, \"Max NDVI\": 1.0, \"Mean NDVI\": 0.41, \"Min NDVI\": -0.999, \"Region\": \"Tsimanampetsotsa\", \"Fitted Mean NDVI\": 0.283, \"Residual\": 0.127}, {\"Month\": \"05/21\", \"Years Since Epoch (t)\": 51.369, \"Max NDVI\": 1.0, \"Mean NDVI\": 0.405, \"Min NDVI\": -0.999, \"Region\": \"Tsimanampetsotsa\", \"Fitted Mean NDVI\": 0.277, \"Residual\": 0.128}, {\"Month\": \"06/21\", \"Years Since Epoch (t)\": 51.453, \"Max NDVI\": 1.0, \"Mean NDVI\": 0.373, \"Min NDVI\": -0.999, \"Region\": \"Tsimanampetsotsa\", \"Fitted Mean NDVI\": 0.272, \"Residual\": 0.101}, {\"Month\": \"07/21\", \"Years Since Epoch (t)\": 51.536, \"Max NDVI\": 1.0, \"Mean NDVI\": 0.321, \"Min NDVI\": -0.999, \"Region\": \"Tsimanampetsotsa\", \"Fitted Mean NDVI\": 0.266, \"Residual\": 0.055}, {\"Month\": \"08/21\", \"Years Since Epoch (t)\": 51.62, \"Max NDVI\": 0.999, \"Mean NDVI\": 0.244, \"Min NDVI\": -0.999, \"Region\": \"Tsimanampetsotsa\", \"Fitted Mean NDVI\": 0.26, \"Residual\": -0.016}, {\"Month\": \"09/21\", \"Years Since Epoch (t)\": 51.705, \"Max NDVI\": 0.926, \"Mean NDVI\": 0.209, \"Min NDVI\": -0.968, \"Region\": \"Tsimanampetsotsa\", \"Fitted Mean NDVI\": 0.254, \"Residual\": -0.045}, {\"Month\": \"10/21\", \"Years Since Epoch (t)\": 51.788, \"Max NDVI\": 0.934, \"Mean NDVI\": 0.196, \"Min NDVI\": -0.999, \"Region\": \"Tsimanampetsotsa\", \"Fitted Mean NDVI\": 0.248, \"Residual\": -0.052}], \"data-6c402e904ae3e56e24f2f9fe906b2ce1\": [{\"Month\": \"11/21\", \"Region\": \"Tsimanampetsotsa\", \"Predicted Mean NDVI\": 0.242}, {\"Month\": \"12/21\", \"Region\": \"Tsimanampetsotsa\", \"Predicted Mean NDVI\": 0.236}, {\"Month\": \"01/22\", \"Region\": \"Tsimanampetsotsa\", \"Predicted Mean NDVI\": 0.23}, {\"Month\": \"02/22\", \"Region\": \"Tsimanampetsotsa\", \"Predicted Mean NDVI\": 0.224}, {\"Month\": \"03/22\", \"Region\": \"Tsimanampetsotsa\", \"Predicted Mean NDVI\": 0.219}, {\"Month\": \"04/22\", \"Region\": \"Tsimanampetsotsa\", \"Predicted Mean NDVI\": 0.213}, {\"Month\": \"05/22\", \"Region\": \"Tsimanampetsotsa\", \"Predicted Mean NDVI\": 0.207}, {\"Month\": \"06/22\", \"Region\": \"Tsimanampetsotsa\", \"Predicted Mean NDVI\": 0.201}, {\"Month\": \"07/22\", \"Region\": \"Tsimanampetsotsa\", \"Predicted Mean NDVI\": 0.196}, {\"Month\": \"08/22\", \"Region\": \"Tsimanampetsotsa\", \"Predicted Mean NDVI\": 0.19}, {\"Month\": \"09/22\", \"Region\": \"Tsimanampetsotsa\", \"Predicted Mean NDVI\": 0.184}, {\"Month\": \"10/22\", \"Region\": \"Tsimanampetsotsa\", \"Predicted Mean NDVI\": 0.178}, {\"Month\": \"11/22\", \"Region\": \"Tsimanampetsotsa\", \"Predicted Mean NDVI\": 0.172}, {\"Month\": \"12/22\", \"Region\": \"Tsimanampetsotsa\", \"Predicted Mean NDVI\": 0.166}], \"data-3dbf636f6c7cc8c1b5a32bf997d1ed3c\": [{\"Month\": \"01/19\", \"Years Since Epoch (t)\": 49.039, \"Max NDVI\": 0.999, \"Mean NDVI\": 0.737, \"Min NDVI\": -0.386, \"Region\": \"d'Ankarafantsika\", \"Fitted Mean NDVI\": 0.716, \"Residual\": 0.021}, {\"Month\": \"02/19\", \"Years Since Epoch (t)\": 49.124, \"Max NDVI\": 0.985, \"Mean NDVI\": 0.77, \"Min NDVI\": -0.386, \"Region\": \"d'Ankarafantsika\", \"Fitted Mean NDVI\": 0.712, \"Residual\": 0.058}, {\"Month\": \"03/19\", \"Years Since Epoch (t)\": 49.2, \"Max NDVI\": 0.999, \"Mean NDVI\": 0.777, \"Min NDVI\": -0.663, \"Region\": \"d'Ankarafantsika\", \"Fitted Mean NDVI\": 0.709, \"Residual\": 0.068}, {\"Month\": \"04/19\", \"Years Since Epoch (t)\": 49.285, \"Max NDVI\": 0.999, \"Mean NDVI\": 0.768, \"Min NDVI\": -0.614, \"Region\": \"d'Ankarafantsika\", \"Fitted Mean NDVI\": 0.706, \"Residual\": 0.062}, {\"Month\": \"05/19\", \"Years Since Epoch (t)\": 49.367, \"Max NDVI\": 0.993, \"Mean NDVI\": 0.732, \"Min NDVI\": -0.499, \"Region\": \"d'Ankarafantsika\", \"Fitted Mean NDVI\": 0.702, \"Residual\": 0.03}, {\"Month\": \"06/19\", \"Years Since Epoch (t)\": 49.452, \"Max NDVI\": 0.999, \"Mean NDVI\": 0.677, \"Min NDVI\": -0.526, \"Region\": \"d'Ankarafantsika\", \"Fitted Mean NDVI\": 0.699, \"Residual\": -0.022}, {\"Month\": \"07/19\", \"Years Since Epoch (t)\": 49.534, \"Max NDVI\": 0.988, \"Mean NDVI\": 0.628, \"Min NDVI\": -0.345, \"Region\": \"d'Ankarafantsika\", \"Fitted Mean NDVI\": 0.696, \"Residual\": -0.068}, {\"Month\": \"08/19\", \"Years Since Epoch (t)\": 49.619, \"Max NDVI\": 0.994, \"Mean NDVI\": 0.574, \"Min NDVI\": -0.328, \"Region\": \"d'Ankarafantsika\", \"Fitted Mean NDVI\": 0.692, \"Residual\": -0.118}, {\"Month\": \"09/19\", \"Years Since Epoch (t)\": 49.704, \"Max NDVI\": 0.909, \"Mean NDVI\": 0.508, \"Min NDVI\": -0.32, \"Region\": \"d'Ankarafantsika\", \"Fitted Mean NDVI\": 0.689, \"Residual\": -0.181}, {\"Month\": \"10/19\", \"Years Since Epoch (t)\": 49.786, \"Max NDVI\": 0.877, \"Mean NDVI\": 0.489, \"Min NDVI\": -0.175, \"Region\": \"d'Ankarafantsika\", \"Fitted Mean NDVI\": 0.685, \"Residual\": -0.196}, {\"Month\": \"11/19\", \"Years Since Epoch (t)\": 49.871, \"Max NDVI\": 0.999, \"Mean NDVI\": 0.562, \"Min NDVI\": -0.345, \"Region\": \"d'Ankarafantsika\", \"Fitted Mean NDVI\": 0.682, \"Residual\": -0.12}, {\"Month\": \"12/19\", \"Years Since Epoch (t)\": 49.953, \"Max NDVI\": 0.962, \"Mean NDVI\": 0.705, \"Min NDVI\": -0.338, \"Region\": \"d'Ankarafantsika\", \"Fitted Mean NDVI\": 0.679, \"Residual\": 0.026}, {\"Month\": \"01/20\", \"Years Since Epoch (t)\": 50.038, \"Max NDVI\": 0.921, \"Mean NDVI\": 0.734, \"Min NDVI\": -0.373, \"Region\": \"d'Ankarafantsika\", \"Fitted Mean NDVI\": 0.675, \"Residual\": 0.059}, {\"Month\": \"02/20\", \"Years Since Epoch (t)\": 50.123, \"Max NDVI\": 0.998, \"Mean NDVI\": 0.804, \"Min NDVI\": -0.54, \"Region\": \"d'Ankarafantsika\", \"Fitted Mean NDVI\": 0.672, \"Residual\": 0.132}, {\"Month\": \"03/20\", \"Years Since Epoch (t)\": 50.202, \"Max NDVI\": 0.999, \"Mean NDVI\": 0.804, \"Min NDVI\": -0.68, \"Region\": \"d'Ankarafantsika\", \"Fitted Mean NDVI\": 0.669, \"Residual\": 0.135}, {\"Month\": \"04/20\", \"Years Since Epoch (t)\": 50.287, \"Max NDVI\": 0.955, \"Mean NDVI\": 0.759, \"Min NDVI\": -0.431, \"Region\": \"d'Ankarafantsika\", \"Fitted Mean NDVI\": 0.665, \"Residual\": 0.094}, {\"Month\": \"05/20\", \"Years Since Epoch (t)\": 50.369, \"Max NDVI\": 0.942, \"Mean NDVI\": 0.712, \"Min NDVI\": -0.458, \"Region\": \"d'Ankarafantsika\", \"Fitted Mean NDVI\": 0.662, \"Residual\": 0.05}, {\"Month\": \"06/20\", \"Years Since Epoch (t)\": 50.454, \"Max NDVI\": 0.982, \"Mean NDVI\": 0.677, \"Min NDVI\": -0.388, \"Region\": \"d'Ankarafantsika\", \"Fitted Mean NDVI\": 0.658, \"Residual\": 0.019}, {\"Month\": \"07/20\", \"Years Since Epoch (t)\": 50.536, \"Max NDVI\": 0.955, \"Mean NDVI\": 0.648, \"Min NDVI\": -0.387, \"Region\": \"d'Ankarafantsika\", \"Fitted Mean NDVI\": 0.655, \"Residual\": -0.007}, {\"Month\": \"08/20\", \"Years Since Epoch (t)\": 50.621, \"Max NDVI\": 0.956, \"Mean NDVI\": 0.579, \"Min NDVI\": -0.527, \"Region\": \"d'Ankarafantsika\", \"Fitted Mean NDVI\": 0.652, \"Residual\": -0.073}, {\"Month\": \"09/20\", \"Years Since Epoch (t)\": 50.706, \"Max NDVI\": 0.894, \"Mean NDVI\": 0.496, \"Min NDVI\": -0.24, \"Region\": \"d'Ankarafantsika\", \"Fitted Mean NDVI\": 0.648, \"Residual\": -0.152}, {\"Month\": \"10/20\", \"Years Since Epoch (t)\": 50.788, \"Max NDVI\": 0.998, \"Mean NDVI\": 0.646, \"Min NDVI\": -0.322, \"Region\": \"d'Ankarafantsika\", \"Fitted Mean NDVI\": 0.645, \"Residual\": 0.001}, {\"Month\": \"11/20\", \"Years Since Epoch (t)\": 50.873, \"Max NDVI\": 0.903, \"Mean NDVI\": 0.596, \"Min NDVI\": -0.282, \"Region\": \"d'Ankarafantsika\", \"Fitted Mean NDVI\": 0.641, \"Residual\": -0.045}, {\"Month\": \"12/20\", \"Years Since Epoch (t)\": 50.955, \"Max NDVI\": 0.999, \"Mean NDVI\": 0.686, \"Min NDVI\": -0.501, \"Region\": \"d'Ankarafantsika\", \"Fitted Mean NDVI\": 0.638, \"Residual\": 0.048}, {\"Month\": \"01/21\", \"Years Since Epoch (t)\": 51.04, \"Max NDVI\": 0.999, \"Mean NDVI\": 0.716, \"Min NDVI\": -0.513, \"Region\": \"d'Ankarafantsika\", \"Fitted Mean NDVI\": 0.635, \"Residual\": 0.081}, {\"Month\": \"02/21\", \"Years Since Epoch (t)\": 51.125, \"Max NDVI\": 0.999, \"Mean NDVI\": 0.707, \"Min NDVI\": -0.42, \"Region\": \"d'Ankarafantsika\", \"Fitted Mean NDVI\": 0.631, \"Residual\": 0.076}, {\"Month\": \"03/21\", \"Years Since Epoch (t)\": 51.202, \"Max NDVI\": 0.998, \"Mean NDVI\": 0.771, \"Min NDVI\": -0.511, \"Region\": \"d'Ankarafantsika\", \"Fitted Mean NDVI\": 0.628, \"Residual\": 0.143}, {\"Month\": \"04/21\", \"Years Since Epoch (t)\": 51.286, \"Max NDVI\": 0.962, \"Mean NDVI\": 0.749, \"Min NDVI\": -0.459, \"Region\": \"d'Ankarafantsika\", \"Fitted Mean NDVI\": 0.625, \"Residual\": 0.124}, {\"Month\": \"05/21\", \"Years Since Epoch (t)\": 51.369, \"Max NDVI\": 0.924, \"Mean NDVI\": 0.689, \"Min NDVI\": -0.501, \"Region\": \"d'Ankarafantsika\", \"Fitted Mean NDVI\": 0.621, \"Residual\": 0.068}, {\"Month\": \"06/21\", \"Years Since Epoch (t)\": 51.453, \"Max NDVI\": 0.949, \"Mean NDVI\": 0.664, \"Min NDVI\": -0.449, \"Region\": \"d'Ankarafantsika\", \"Fitted Mean NDVI\": 0.618, \"Residual\": 0.046}, {\"Month\": \"07/21\", \"Years Since Epoch (t)\": 51.536, \"Max NDVI\": 0.993, \"Mean NDVI\": 0.616, \"Min NDVI\": -0.311, \"Region\": \"d'Ankarafantsika\", \"Fitted Mean NDVI\": 0.614, \"Residual\": 0.002}, {\"Month\": \"08/21\", \"Years Since Epoch (t)\": 51.62, \"Max NDVI\": 0.946, \"Mean NDVI\": 0.54, \"Min NDVI\": -0.336, \"Region\": \"d'Ankarafantsika\", \"Fitted Mean NDVI\": 0.611, \"Residual\": -0.071}, {\"Month\": \"09/21\", \"Years Since Epoch (t)\": 51.705, \"Max NDVI\": 0.954, \"Mean NDVI\": 0.473, \"Min NDVI\": -0.357, \"Region\": \"d'Ankarafantsika\", \"Fitted Mean NDVI\": 0.608, \"Residual\": -0.135}, {\"Month\": \"10/21\", \"Years Since Epoch (t)\": 51.788, \"Max NDVI\": 0.954, \"Mean NDVI\": 0.448, \"Min NDVI\": -0.248, \"Region\": \"d'Ankarafantsika\", \"Fitted Mean NDVI\": 0.604, \"Residual\": -0.156}], \"data-a33f1d2524e9bf089cb43a8e67bfbba7\": [{\"Month\": \"11/21\", \"Region\": \"d'Ankarafantsika\", \"Predicted Mean NDVI\": 0.601}, {\"Month\": \"12/21\", \"Region\": \"d'Ankarafantsika\", \"Predicted Mean NDVI\": 0.598}, {\"Month\": \"01/22\", \"Region\": \"d'Ankarafantsika\", \"Predicted Mean NDVI\": 0.594}, {\"Month\": \"02/22\", \"Region\": \"d'Ankarafantsika\", \"Predicted Mean NDVI\": 0.591}, {\"Month\": \"03/22\", \"Region\": \"d'Ankarafantsika\", \"Predicted Mean NDVI\": 0.588}, {\"Month\": \"04/22\", \"Region\": \"d'Ankarafantsika\", \"Predicted Mean NDVI\": 0.584}, {\"Month\": \"05/22\", \"Region\": \"d'Ankarafantsika\", \"Predicted Mean NDVI\": 0.581}, {\"Month\": \"06/22\", \"Region\": \"d'Ankarafantsika\", \"Predicted Mean NDVI\": 0.577}, {\"Month\": \"07/22\", \"Region\": \"d'Ankarafantsika\", \"Predicted Mean NDVI\": 0.574}, {\"Month\": \"08/22\", \"Region\": \"d'Ankarafantsika\", \"Predicted Mean NDVI\": 0.571}, {\"Month\": \"09/22\", \"Region\": \"d'Ankarafantsika\", \"Predicted Mean NDVI\": 0.567}, {\"Month\": \"10/22\", \"Region\": \"d'Ankarafantsika\", \"Predicted Mean NDVI\": 0.564}, {\"Month\": \"11/22\", \"Region\": \"d'Ankarafantsika\", \"Predicted Mean NDVI\": 0.56}, {\"Month\": \"12/22\", \"Region\": \"d'Ankarafantsika\", \"Predicted Mean NDVI\": 0.557}], \"data-d3eca1934bbeb9a5bdf112fb44ae1254\": [{\"Month\": \"01/19\", \"Years Since Epoch (t)\": 49.039, \"Max NDVI\": 1.0, \"Mean NDVI\": 0.55, \"Min NDVI\": -0.998, \"Region\": \"Masoala\", \"Fitted Mean NDVI\": 0.474, \"Residual\": 0.076}, {\"Month\": \"02/19\", \"Years Since Epoch (t)\": 49.124, \"Max NDVI\": 0.977, \"Mean NDVI\": 0.469, \"Min NDVI\": -0.995, \"Region\": \"Masoala\", \"Fitted Mean NDVI\": 0.474, \"Residual\": -0.005}, {\"Month\": \"03/19\", \"Years Since Epoch (t)\": 49.2, \"Max NDVI\": 0.999, \"Mean NDVI\": 0.578, \"Min NDVI\": -0.994, \"Region\": \"Masoala\", \"Fitted Mean NDVI\": 0.475, \"Residual\": 0.103}, {\"Month\": \"04/19\", \"Years Since Epoch (t)\": 49.285, \"Max NDVI\": 0.999, \"Mean NDVI\": 0.451, \"Min NDVI\": -0.997, \"Region\": \"Masoala\", \"Fitted Mean NDVI\": 0.475, \"Residual\": -0.024}, {\"Month\": \"05/19\", \"Years Since Epoch (t)\": 49.367, \"Max NDVI\": 0.999, \"Mean NDVI\": 0.566, \"Min NDVI\": -0.994, \"Region\": \"Masoala\", \"Fitted Mean NDVI\": 0.475, \"Residual\": 0.091}, {\"Month\": \"06/19\", \"Years Since Epoch (t)\": 49.452, \"Max NDVI\": 1.0, \"Mean NDVI\": 0.443, \"Min NDVI\": -0.997, \"Region\": \"Masoala\", \"Fitted Mean NDVI\": 0.475, \"Residual\": -0.032}, {\"Month\": \"07/19\", \"Years Since Epoch (t)\": 49.534, \"Max NDVI\": 0.999, \"Mean NDVI\": 0.35, \"Min NDVI\": -0.996, \"Region\": \"Masoala\", \"Fitted Mean NDVI\": 0.475, \"Residual\": -0.125}, {\"Month\": \"08/19\", \"Years Since Epoch (t)\": 49.619, \"Max NDVI\": 0.973, \"Mean NDVI\": 0.439, \"Min NDVI\": -0.995, \"Region\": \"Masoala\", \"Fitted Mean NDVI\": 0.475, \"Residual\": -0.036}, {\"Month\": \"09/19\", \"Years Since Epoch (t)\": 49.704, \"Max NDVI\": 0.999, \"Mean NDVI\": 0.515, \"Min NDVI\": -0.997, \"Region\": \"Masoala\", \"Fitted Mean NDVI\": 0.475, \"Residual\": 0.04}, {\"Month\": \"10/19\", \"Years Since Epoch (t)\": 49.786, \"Max NDVI\": 0.999, \"Mean NDVI\": 0.477, \"Min NDVI\": -0.997, \"Region\": \"Masoala\", \"Fitted Mean NDVI\": 0.475, \"Residual\": 0.002}, {\"Month\": \"11/19\", \"Years Since Epoch (t)\": 49.871, \"Max NDVI\": 0.984, \"Mean NDVI\": 0.5, \"Min NDVI\": -0.998, \"Region\": \"Masoala\", \"Fitted Mean NDVI\": 0.475, \"Residual\": 0.025}, {\"Month\": \"12/19\", \"Years Since Epoch (t)\": 49.953, \"Max NDVI\": 1.0, \"Mean NDVI\": 0.474, \"Min NDVI\": -1.0, \"Region\": \"Masoala\", \"Fitted Mean NDVI\": 0.475, \"Residual\": -0.001}, {\"Month\": \"01/20\", \"Years Since Epoch (t)\": 50.038, \"Max NDVI\": 0.992, \"Mean NDVI\": 0.4, \"Min NDVI\": -0.997, \"Region\": \"Masoala\", \"Fitted Mean NDVI\": 0.475, \"Residual\": -0.075}, {\"Month\": \"02/20\", \"Years Since Epoch (t)\": 50.123, \"Max NDVI\": 0.999, \"Mean NDVI\": 0.549, \"Min NDVI\": -0.998, \"Region\": \"Masoala\", \"Fitted Mean NDVI\": 0.475, \"Residual\": 0.074}, {\"Month\": \"03/20\", \"Years Since Epoch (t)\": 50.202, \"Max NDVI\": 0.999, \"Mean NDVI\": 0.456, \"Min NDVI\": -0.998, \"Region\": \"Masoala\", \"Fitted Mean NDVI\": 0.476, \"Residual\": -0.02}, {\"Month\": \"04/20\", \"Years Since Epoch (t)\": 50.287, \"Max NDVI\": 0.998, \"Mean NDVI\": 0.349, \"Min NDVI\": -0.998, \"Region\": \"Masoala\", \"Fitted Mean NDVI\": 0.476, \"Residual\": -0.127}, {\"Month\": \"05/20\", \"Years Since Epoch (t)\": 50.369, \"Max NDVI\": 0.999, \"Mean NDVI\": 0.539, \"Min NDVI\": -0.997, \"Region\": \"Masoala\", \"Fitted Mean NDVI\": 0.476, \"Residual\": 0.063}, {\"Month\": \"06/20\", \"Years Since Epoch (t)\": 50.454, \"Max NDVI\": 0.998, \"Mean NDVI\": 0.45, \"Min NDVI\": -0.974, \"Region\": \"Masoala\", \"Fitted Mean NDVI\": 0.476, \"Residual\": -0.026}, {\"Month\": \"07/20\", \"Years Since Epoch (t)\": 50.536, \"Max NDVI\": 1.0, \"Mean NDVI\": 0.446, \"Min NDVI\": -0.992, \"Region\": \"Masoala\", \"Fitted Mean NDVI\": 0.476, \"Residual\": -0.03}, {\"Month\": \"08/20\", \"Years Since Epoch (t)\": 50.621, \"Max NDVI\": 0.999, \"Mean NDVI\": 0.294, \"Min NDVI\": -0.998, \"Region\": \"Masoala\", \"Fitted Mean NDVI\": 0.476, \"Residual\": -0.182}, {\"Month\": \"09/20\", \"Years Since Epoch (t)\": 50.706, \"Max NDVI\": 0.999, \"Mean NDVI\": 0.441, \"Min NDVI\": -0.998, \"Region\": \"Masoala\", \"Fitted Mean NDVI\": 0.476, \"Residual\": -0.035}, {\"Month\": \"10/20\", \"Years Since Epoch (t)\": 50.788, \"Max NDVI\": 0.996, \"Mean NDVI\": 0.51, \"Min NDVI\": -0.997, \"Region\": \"Masoala\", \"Fitted Mean NDVI\": 0.476, \"Residual\": 0.034}, {\"Month\": \"11/20\", \"Years Since Epoch (t)\": 50.873, \"Max NDVI\": 0.997, \"Mean NDVI\": 0.561, \"Min NDVI\": -0.998, \"Region\": \"Masoala\", \"Fitted Mean NDVI\": 0.476, \"Residual\": 0.085}, {\"Month\": \"12/20\", \"Years Since Epoch (t)\": 50.955, \"Max NDVI\": 0.996, \"Mean NDVI\": 0.491, \"Min NDVI\": -0.998, \"Region\": \"Masoala\", \"Fitted Mean NDVI\": 0.476, \"Residual\": 0.015}, {\"Month\": \"01/21\", \"Years Since Epoch (t)\": 51.04, \"Max NDVI\": 0.999, \"Mean NDVI\": 0.487, \"Min NDVI\": -0.996, \"Region\": \"Masoala\", \"Fitted Mean NDVI\": 0.476, \"Residual\": 0.011}, {\"Month\": \"02/21\", \"Years Since Epoch (t)\": 51.125, \"Max NDVI\": 0.999, \"Mean NDVI\": 0.422, \"Min NDVI\": -0.998, \"Region\": \"Masoala\", \"Fitted Mean NDVI\": 0.477, \"Residual\": -0.055}, {\"Month\": \"03/21\", \"Years Since Epoch (t)\": 51.202, \"Max NDVI\": 1.0, \"Mean NDVI\": 0.523, \"Min NDVI\": -0.997, \"Region\": \"Masoala\", \"Fitted Mean NDVI\": 0.477, \"Residual\": 0.046}, {\"Month\": \"04/21\", \"Years Since Epoch (t)\": 51.286, \"Max NDVI\": 0.999, \"Mean NDVI\": 0.531, \"Min NDVI\": -0.997, \"Region\": \"Masoala\", \"Fitted Mean NDVI\": 0.477, \"Residual\": 0.054}, {\"Month\": \"05/21\", \"Years Since Epoch (t)\": 51.369, \"Max NDVI\": 0.999, \"Mean NDVI\": 0.549, \"Min NDVI\": -0.997, \"Region\": \"Masoala\", \"Fitted Mean NDVI\": 0.477, \"Residual\": 0.072}, {\"Month\": \"06/21\", \"Years Since Epoch (t)\": 51.453, \"Max NDVI\": 1.0, \"Mean NDVI\": 0.368, \"Min NDVI\": -0.997, \"Region\": \"Masoala\", \"Fitted Mean NDVI\": 0.477, \"Residual\": -0.109}, {\"Month\": \"07/21\", \"Years Since Epoch (t)\": 51.536, \"Max NDVI\": 1.0, \"Mean NDVI\": 0.477, \"Min NDVI\": -0.998, \"Region\": \"Masoala\", \"Fitted Mean NDVI\": 0.477, \"Residual\": 0.0}, {\"Month\": \"08/21\", \"Years Since Epoch (t)\": 51.62, \"Max NDVI\": 0.999, \"Mean NDVI\": 0.481, \"Min NDVI\": -0.997, \"Region\": \"Masoala\", \"Fitted Mean NDVI\": 0.477, \"Residual\": 0.004}, {\"Month\": \"09/21\", \"Years Since Epoch (t)\": 51.705, \"Max NDVI\": 0.999, \"Mean NDVI\": 0.454, \"Min NDVI\": -0.997, \"Region\": \"Masoala\", \"Fitted Mean NDVI\": 0.477, \"Residual\": -0.023}, {\"Month\": \"10/21\", \"Years Since Epoch (t)\": 51.788, \"Max NDVI\": 0.995, \"Mean NDVI\": 0.587, \"Min NDVI\": -0.995, \"Region\": \"Masoala\", \"Fitted Mean NDVI\": 0.477, \"Residual\": 0.11}], \"data-fe6c4a64522f5e0ae1308b95edc04629\": [{\"Month\": \"11/21\", \"Region\": \"Masoala\", \"Predicted Mean NDVI\": 0.477}, {\"Month\": \"12/21\", \"Region\": \"Masoala\", \"Predicted Mean NDVI\": 0.477}, {\"Month\": \"01/22\", \"Region\": \"Masoala\", \"Predicted Mean NDVI\": 0.477}, {\"Month\": \"02/22\", \"Region\": \"Masoala\", \"Predicted Mean NDVI\": 0.478}, {\"Month\": \"03/22\", \"Region\": \"Masoala\", \"Predicted Mean NDVI\": 0.478}, {\"Month\": \"04/22\", \"Region\": \"Masoala\", \"Predicted Mean NDVI\": 0.478}, {\"Month\": \"05/22\", \"Region\": \"Masoala\", \"Predicted Mean NDVI\": 0.478}, {\"Month\": \"06/22\", \"Region\": \"Masoala\", \"Predicted Mean NDVI\": 0.478}, {\"Month\": \"07/22\", \"Region\": \"Masoala\", \"Predicted Mean NDVI\": 0.478}, {\"Month\": \"08/22\", \"Region\": \"Masoala\", \"Predicted Mean NDVI\": 0.478}, {\"Month\": \"09/22\", \"Region\": \"Masoala\", \"Predicted Mean NDVI\": 0.478}, {\"Month\": \"10/22\", \"Region\": \"Masoala\", \"Predicted Mean NDVI\": 0.478}, {\"Month\": \"11/22\", \"Region\": \"Masoala\", \"Predicted Mean NDVI\": 0.478}, {\"Month\": \"12/22\", \"Region\": \"Masoala\", \"Predicted Mean NDVI\": 0.478}], \"data-d2037e9ab11da11d3af8c4c6916c96ec\": [{\"Month\": \"01/19\", \"Years Since Epoch (t)\": 49.039, \"Max NDVI\": 0.938, \"Mean NDVI\": 0.577, \"Min NDVI\": -0.89, \"Region\": \"Alan'Ankirisa\", \"Fitted Mean NDVI\": 0.531, \"Residual\": 0.046}, {\"Month\": \"02/19\", \"Years Since Epoch (t)\": 49.124, \"Max NDVI\": 0.965, \"Mean NDVI\": 0.638, \"Min NDVI\": -0.731, \"Region\": \"Alan'Ankirisa\", \"Fitted Mean NDVI\": 0.528, \"Residual\": 0.11}, {\"Month\": \"03/19\", \"Years Since Epoch (t)\": 49.2, \"Max NDVI\": 0.937, \"Mean NDVI\": 0.661, \"Min NDVI\": -0.636, \"Region\": \"Alan'Ankirisa\", \"Fitted Mean NDVI\": 0.525, \"Residual\": 0.136}, {\"Month\": \"04/19\", \"Years Since Epoch (t)\": 49.285, \"Max NDVI\": 0.958, \"Mean NDVI\": 0.582, \"Min NDVI\": -0.534, \"Region\": \"Alan'Ankirisa\", \"Fitted Mean NDVI\": 0.523, \"Residual\": 0.059}, {\"Month\": \"05/19\", \"Years Since Epoch (t)\": 49.367, \"Max NDVI\": 0.999, \"Mean NDVI\": 0.493, \"Min NDVI\": -0.601, \"Region\": \"Alan'Ankirisa\", \"Fitted Mean NDVI\": 0.52, \"Residual\": -0.027}, {\"Month\": \"06/19\", \"Years Since Epoch (t)\": 49.452, \"Max NDVI\": 0.959, \"Mean NDVI\": 0.477, \"Min NDVI\": -0.658, \"Region\": \"Alan'Ankirisa\", \"Fitted Mean NDVI\": 0.517, \"Residual\": -0.04}, {\"Month\": \"07/19\", \"Years Since Epoch (t)\": 49.534, \"Max NDVI\": 0.893, \"Mean NDVI\": 0.421, \"Min NDVI\": -0.639, \"Region\": \"Alan'Ankirisa\", \"Fitted Mean NDVI\": 0.514, \"Residual\": -0.093}, {\"Month\": \"08/19\", \"Years Since Epoch (t)\": 49.619, \"Max NDVI\": 0.916, \"Mean NDVI\": 0.376, \"Min NDVI\": -0.999, \"Region\": \"Alan'Ankirisa\", \"Fitted Mean NDVI\": 0.512, \"Residual\": -0.136}, {\"Month\": \"09/19\", \"Years Since Epoch (t)\": 49.704, \"Max NDVI\": 0.878, \"Mean NDVI\": 0.327, \"Min NDVI\": -0.657, \"Region\": \"Alan'Ankirisa\", \"Fitted Mean NDVI\": 0.509, \"Residual\": -0.182}, {\"Month\": \"10/19\", \"Years Since Epoch (t)\": 49.786, \"Max NDVI\": 0.863, \"Mean NDVI\": 0.257, \"Min NDVI\": -0.504, \"Region\": \"Alan'Ankirisa\", \"Fitted Mean NDVI\": 0.506, \"Residual\": -0.249}, {\"Month\": \"11/19\", \"Years Since Epoch (t)\": 49.871, \"Max NDVI\": 0.98, \"Mean NDVI\": 0.317, \"Min NDVI\": -0.513, \"Region\": \"Alan'Ankirisa\", \"Fitted Mean NDVI\": 0.503, \"Residual\": -0.186}, {\"Month\": \"12/19\", \"Years Since Epoch (t)\": 49.953, \"Max NDVI\": 0.943, \"Mean NDVI\": 0.506, \"Min NDVI\": -0.662, \"Region\": \"Alan'Ankirisa\", \"Fitted Mean NDVI\": 0.501, \"Residual\": 0.005}, {\"Month\": \"01/20\", \"Years Since Epoch (t)\": 50.038, \"Max NDVI\": 0.968, \"Mean NDVI\": 0.671, \"Min NDVI\": -0.803, \"Region\": \"Alan'Ankirisa\", \"Fitted Mean NDVI\": 0.498, \"Residual\": 0.173}, {\"Month\": \"02/20\", \"Years Since Epoch (t)\": 50.123, \"Max NDVI\": 0.999, \"Mean NDVI\": 0.698, \"Min NDVI\": -0.996, \"Region\": \"Alan'Ankirisa\", \"Fitted Mean NDVI\": 0.495, \"Residual\": 0.203}, {\"Month\": \"03/20\", \"Years Since Epoch (t)\": 50.202, \"Max NDVI\": 0.942, \"Mean NDVI\": 0.658, \"Min NDVI\": -0.784, \"Region\": \"Alan'Ankirisa\", \"Fitted Mean NDVI\": 0.492, \"Residual\": 0.166}, {\"Month\": \"04/20\", \"Years Since Epoch (t)\": 50.287, \"Max NDVI\": 0.924, \"Mean NDVI\": 0.599, \"Min NDVI\": -0.547, \"Region\": \"Alan'Ankirisa\", \"Fitted Mean NDVI\": 0.49, \"Residual\": 0.109}, {\"Month\": \"05/20\", \"Years Since Epoch (t)\": 50.369, \"Max NDVI\": 0.999, \"Mean NDVI\": 0.555, \"Min NDVI\": -0.732, \"Region\": \"Alan'Ankirisa\", \"Fitted Mean NDVI\": 0.487, \"Residual\": 0.068}, {\"Month\": \"06/20\", \"Years Since Epoch (t)\": 50.454, \"Max NDVI\": 0.94, \"Mean NDVI\": 0.502, \"Min NDVI\": -0.742, \"Region\": \"Alan'Ankirisa\", \"Fitted Mean NDVI\": 0.484, \"Residual\": 0.018}, {\"Month\": \"07/20\", \"Years Since Epoch (t)\": 50.536, \"Max NDVI\": 0.94, \"Mean NDVI\": 0.424, \"Min NDVI\": -0.999, \"Region\": \"Alan'Ankirisa\", \"Fitted Mean NDVI\": 0.481, \"Residual\": -0.057}, {\"Month\": \"08/20\", \"Years Since Epoch (t)\": 50.621, \"Max NDVI\": 0.894, \"Mean NDVI\": 0.358, \"Min NDVI\": -0.604, \"Region\": \"Alan'Ankirisa\", \"Fitted Mean NDVI\": 0.479, \"Residual\": -0.121}, {\"Month\": \"09/20\", \"Years Since Epoch (t)\": 50.706, \"Max NDVI\": 0.862, \"Mean NDVI\": 0.305, \"Min NDVI\": -0.587, \"Region\": \"Alan'Ankirisa\", \"Fitted Mean NDVI\": 0.476, \"Residual\": -0.171}, {\"Month\": \"10/20\", \"Years Since Epoch (t)\": 50.788, \"Max NDVI\": 0.873, \"Mean NDVI\": 0.306, \"Min NDVI\": -0.463, \"Region\": \"Alan'Ankirisa\", \"Fitted Mean NDVI\": 0.473, \"Residual\": -0.167}, {\"Month\": \"11/20\", \"Years Since Epoch (t)\": 50.873, \"Max NDVI\": 0.863, \"Mean NDVI\": 0.297, \"Min NDVI\": -0.433, \"Region\": \"Alan'Ankirisa\", \"Fitted Mean NDVI\": 0.47, \"Residual\": -0.173}, {\"Month\": \"12/20\", \"Years Since Epoch (t)\": 50.955, \"Max NDVI\": 0.982, \"Mean NDVI\": 0.425, \"Min NDVI\": -0.479, \"Region\": \"Alan'Ankirisa\", \"Fitted Mean NDVI\": 0.468, \"Residual\": -0.043}, {\"Month\": \"01/21\", \"Years Since Epoch (t)\": 51.04, \"Max NDVI\": 0.952, \"Mean NDVI\": 0.635, \"Min NDVI\": -0.824, \"Region\": \"Alan'Ankirisa\", \"Fitted Mean NDVI\": 0.465, \"Residual\": 0.17}, {\"Month\": \"02/21\", \"Years Since Epoch (t)\": 51.125, \"Max NDVI\": 0.931, \"Mean NDVI\": 0.711, \"Min NDVI\": -0.554, \"Region\": \"Alan'Ankirisa\", \"Fitted Mean NDVI\": 0.462, \"Residual\": 0.249}, {\"Month\": \"03/21\", \"Years Since Epoch (t)\": 51.202, \"Max NDVI\": 0.984, \"Mean NDVI\": 0.702, \"Min NDVI\": -0.768, \"Region\": \"Alan'Ankirisa\", \"Fitted Mean NDVI\": 0.459, \"Residual\": 0.243}, {\"Month\": \"04/21\", \"Years Since Epoch (t)\": 51.286, \"Max NDVI\": 0.927, \"Mean NDVI\": 0.62, \"Min NDVI\": -0.68, \"Region\": \"Alan'Ankirisa\", \"Fitted Mean NDVI\": 0.457, \"Residual\": 0.163}, {\"Month\": \"05/21\", \"Years Since Epoch (t)\": 51.369, \"Max NDVI\": 0.931, \"Mean NDVI\": 0.54, \"Min NDVI\": -0.614, \"Region\": \"Alan'Ankirisa\", \"Fitted Mean NDVI\": 0.454, \"Residual\": 0.086}, {\"Month\": \"06/21\", \"Years Since Epoch (t)\": 51.453, \"Max NDVI\": 0.931, \"Mean NDVI\": 0.489, \"Min NDVI\": -0.657, \"Region\": \"Alan'Ankirisa\", \"Fitted Mean NDVI\": 0.451, \"Residual\": 0.038}, {\"Month\": \"07/21\", \"Years Since Epoch (t)\": 51.536, \"Max NDVI\": 0.938, \"Mean NDVI\": 0.439, \"Min NDVI\": -0.998, \"Region\": \"Alan'Ankirisa\", \"Fitted Mean NDVI\": 0.448, \"Residual\": -0.009}, {\"Month\": \"08/21\", \"Years Since Epoch (t)\": 51.62, \"Max NDVI\": 0.884, \"Mean NDVI\": 0.343, \"Min NDVI\": -0.648, \"Region\": \"Alan'Ankirisa\", \"Fitted Mean NDVI\": 0.446, \"Residual\": -0.103}, {\"Month\": \"09/21\", \"Years Since Epoch (t)\": 51.705, \"Max NDVI\": 0.901, \"Mean NDVI\": 0.312, \"Min NDVI\": -0.734, \"Region\": \"Alan'Ankirisa\", \"Fitted Mean NDVI\": 0.443, \"Residual\": -0.131}, {\"Month\": \"10/21\", \"Years Since Epoch (t)\": 51.788, \"Max NDVI\": 0.869, \"Mean NDVI\": 0.283, \"Min NDVI\": -0.7, \"Region\": \"Alan'Ankirisa\", \"Fitted Mean NDVI\": 0.44, \"Residual\": -0.157}], \"data-dbc0ba2d637ccbc6ba1366d8c84e82ba\": [{\"Month\": \"11/21\", \"Region\": \"Alan'Ankirisa\", \"Predicted Mean NDVI\": 0.437}, {\"Month\": \"12/21\", \"Region\": \"Alan'Ankirisa\", \"Predicted Mean NDVI\": 0.435}, {\"Month\": \"01/22\", \"Region\": \"Alan'Ankirisa\", \"Predicted Mean NDVI\": 0.432}, {\"Month\": \"02/22\", \"Region\": \"Alan'Ankirisa\", \"Predicted Mean NDVI\": 0.429}, {\"Month\": \"03/22\", \"Region\": \"Alan'Ankirisa\", \"Predicted Mean NDVI\": 0.427}, {\"Month\": \"04/22\", \"Region\": \"Alan'Ankirisa\", \"Predicted Mean NDVI\": 0.424}, {\"Month\": \"05/22\", \"Region\": \"Alan'Ankirisa\", \"Predicted Mean NDVI\": 0.421}, {\"Month\": \"06/22\", \"Region\": \"Alan'Ankirisa\", \"Predicted Mean NDVI\": 0.418}, {\"Month\": \"07/22\", \"Region\": \"Alan'Ankirisa\", \"Predicted Mean NDVI\": 0.416}, {\"Month\": \"08/22\", \"Region\": \"Alan'Ankirisa\", \"Predicted Mean NDVI\": 0.413}, {\"Month\": \"09/22\", \"Region\": \"Alan'Ankirisa\", \"Predicted Mean NDVI\": 0.41}, {\"Month\": \"10/22\", \"Region\": \"Alan'Ankirisa\", \"Predicted Mean NDVI\": 0.407}, {\"Month\": \"11/22\", \"Region\": \"Alan'Ankirisa\", \"Predicted Mean NDVI\": 0.404}, {\"Month\": \"12/22\", \"Region\": \"Alan'Ankirisa\", \"Predicted Mean NDVI\": 0.402}]}}, {\"mode\": \"vega-lite\"});\n",
       "</script>"
      ],
      "text/plain": [
       "alt.VConcatChart(...)"
      ]
     },
     "execution_count": 15,
     "metadata": {},
     "output_type": "execute_result"
    }
   ],
   "source": [
    "# linear regression\n",
    "\n",
    "charts_1, mseLinearMod = [], dict()\n",
    "colors = [\"#FFD13C\", \"#61ECB6\", \"#2ca02c\", \"#9467bd\", \"#17becf\", \"#D159F2\"]\n",
    "\n",
    "for i in list(zip(df[\"Region\"].unique(), colors)):\n",
    "  dfSubset = df[df[\"Region\"] == i[0]]\n",
    "  trainFeatures, target = dfSubset[\"Years Since Epoch (t)\"].values.reshape(34,1), dfSubset[\"Mean NDVI\"].values.reshape(34,1)\n",
    "  predFeatures = np.reshape(epochs2022, (14, 1))\n",
    "\n",
    "  linearMod = LinearRegression().fit(trainFeatures, target)\n",
    "  dfSubset[\"Fitted Mean NDVI\"] = np.round(linearMod.predict(trainFeatures), 3)\n",
    "  dfSubset[\"Residual\"] = np.round(target - linearMod.predict(trainFeatures), 3)\n",
    "  mseLinearMod[i[0]] = np.mean(np.square(dfSubset[\"Residual\"]))\n",
    "\n",
    "  predDf = pd.DataFrame({\"Month\": formattedAxisDates[34:],\n",
    "                         \"Region\": [i[0]] * 14,\n",
    "                         \"Predicted Mean NDVI\": linearMod.predict(predFeatures).flatten()}).round(3)\n",
    "\n",
    "  charts_1.append(plotCharts(df_1=dfSubset, df_2=predDf,\n",
    "                             color=i[1], region=i[0]))\n",
    "\n",
    "alt.vconcat(*charts_1)"
   ]
  },
  {
   "cell_type": "code",
   "execution_count": 16,
   "metadata": {
    "colab": {
     "base_uri": "https://localhost:8080/",
     "height": 1000
    },
    "id": "nSz-4qo7W4GA",
    "outputId": "36619b59-248a-4e3c-8aab-ffeab7a520a5"
   },
   "outputs": [
    {
     "data": {
      "text/html": [
       "\n",
       "<div id=\"altair-viz-2a6f7156dc0f4a62a8d87086d4f82242\"></div>\n",
       "<script type=\"text/javascript\">\n",
       "  (function(spec, embedOpt){\n",
       "    let outputDiv = document.currentScript.previousElementSibling;\n",
       "    if (outputDiv.id !== \"altair-viz-2a6f7156dc0f4a62a8d87086d4f82242\") {\n",
       "      outputDiv = document.getElementById(\"altair-viz-2a6f7156dc0f4a62a8d87086d4f82242\");\n",
       "    }\n",
       "    const paths = {\n",
       "      \"vega\": \"https://cdn.jsdelivr.net/npm//vega@5?noext\",\n",
       "      \"vega-lib\": \"https://cdn.jsdelivr.net/npm//vega-lib?noext\",\n",
       "      \"vega-lite\": \"https://cdn.jsdelivr.net/npm//vega-lite@4.8.1?noext\",\n",
       "      \"vega-embed\": \"https://cdn.jsdelivr.net/npm//vega-embed@6?noext\",\n",
       "    };\n",
       "\n",
       "    function loadScript(lib) {\n",
       "      return new Promise(function(resolve, reject) {\n",
       "        var s = document.createElement('script');\n",
       "        s.src = paths[lib];\n",
       "        s.async = true;\n",
       "        s.onload = () => resolve(paths[lib]);\n",
       "        s.onerror = () => reject(`Error loading script: ${paths[lib]}`);\n",
       "        document.getElementsByTagName(\"head\")[0].appendChild(s);\n",
       "      });\n",
       "    }\n",
       "\n",
       "    function showError(err) {\n",
       "      outputDiv.innerHTML = `<div class=\"error\" style=\"color:red;\">${err}</div>`;\n",
       "      throw err;\n",
       "    }\n",
       "\n",
       "    function displayChart(vegaEmbed) {\n",
       "      vegaEmbed(outputDiv, spec, embedOpt)\n",
       "        .catch(err => showError(`Javascript Error: ${err.message}<br>This usually means there's a typo in your chart specification. See the javascript console for the full traceback.`));\n",
       "    }\n",
       "\n",
       "    if(typeof define === \"function\" && define.amd) {\n",
       "      requirejs.config({paths});\n",
       "      require([\"vega-embed\"], displayChart, err => showError(`Error loading script: ${err.message}`));\n",
       "    } else if (typeof vegaEmbed === \"function\") {\n",
       "      displayChart(vegaEmbed);\n",
       "    } else {\n",
       "      loadScript(\"vega\")\n",
       "        .then(() => loadScript(\"vega-lite\"))\n",
       "        .then(() => loadScript(\"vega-embed\"))\n",
       "        .catch(showError)\n",
       "        .then(() => displayChart(vegaEmbed));\n",
       "    }\n",
       "  })({\"config\": {\"view\": {\"continuousWidth\": 400, \"continuousHeight\": 300}}, \"vconcat\": [{\"hconcat\": [{\"layer\": [{\"data\": {\"name\": \"data-2371ec1942c2fc9d0e1642eef5afec80\"}, \"mark\": {\"type\": \"line\", \"color\": \"#FFD13C\"}, \"encoding\": {\"x\": {\"type\": \"ordinal\", \"field\": \"Month\", \"sort\": [\"01/19\", \"02/19\", \"03/19\", \"04/19\", \"05/19\", \"06/19\", \"07/19\", \"08/19\", \"09/19\", \"10/19\", \"11/19\", \"12/19\", \"01/20\", \"02/20\", \"03/20\", \"04/20\", \"05/20\", \"06/20\", \"07/20\", \"08/20\", \"09/20\", \"10/20\", \"11/20\", \"12/20\", \"01/21\", \"02/21\", \"03/21\", \"04/21\", \"05/21\", \"06/21\", \"07/21\", \"08/21\", \"09/21\", \"10/21\", \"11/21\", \"12/21\", \"01/22\", \"02/22\", \"03/22\", \"04/22\", \"05/22\", \"06/22\", \"07/22\", \"08/22\", \"09/22\", \"10/22\", \"11/22\", \"12/22\"]}, \"y\": {\"type\": \"quantitative\", \"field\": \"Mean NDVI\"}}}, {\"data\": {\"name\": \"data-2371ec1942c2fc9d0e1642eef5afec80\"}, \"mark\": {\"type\": \"circle\", \"color\": \"#FFD13C\", \"size\": 50}, \"encoding\": {\"tooltip\": [{\"type\": \"nominal\", \"field\": \"Month\"}, {\"type\": \"nominal\", \"field\": \"Region\"}, {\"type\": \"quantitative\", \"field\": \"Mean NDVI\"}], \"x\": {\"type\": \"ordinal\", \"field\": \"Month\", \"sort\": [\"01/19\", \"02/19\", \"03/19\", \"04/19\", \"05/19\", \"06/19\", \"07/19\", \"08/19\", \"09/19\", \"10/19\", \"11/19\", \"12/19\", \"01/20\", \"02/20\", \"03/20\", \"04/20\", \"05/20\", \"06/20\", \"07/20\", \"08/20\", \"09/20\", \"10/20\", \"11/20\", \"12/20\", \"01/21\", \"02/21\", \"03/21\", \"04/21\", \"05/21\", \"06/21\", \"07/21\", \"08/21\", \"09/21\", \"10/21\", \"11/21\", \"12/21\", \"01/22\", \"02/22\", \"03/22\", \"04/22\", \"05/22\", \"06/22\", \"07/22\", \"08/22\", \"09/22\", \"10/22\", \"11/22\", \"12/22\"]}, \"y\": {\"type\": \"quantitative\", \"field\": \"Mean NDVI\"}}}, {\"data\": {\"name\": \"data-2371ec1942c2fc9d0e1642eef5afec80\"}, \"mark\": {\"type\": \"line\", \"color\": \"red\"}, \"encoding\": {\"x\": {\"type\": \"ordinal\", \"field\": \"Month\", \"sort\": [\"01/19\", \"02/19\", \"03/19\", \"04/19\", \"05/19\", \"06/19\", \"07/19\", \"08/19\", \"09/19\", \"10/19\", \"11/19\", \"12/19\", \"01/20\", \"02/20\", \"03/20\", \"04/20\", \"05/20\", \"06/20\", \"07/20\", \"08/20\", \"09/20\", \"10/20\", \"11/20\", \"12/20\", \"01/21\", \"02/21\", \"03/21\", \"04/21\", \"05/21\", \"06/21\", \"07/21\", \"08/21\", \"09/21\", \"10/21\", \"11/21\", \"12/21\", \"01/22\", \"02/22\", \"03/22\", \"04/22\", \"05/22\", \"06/22\", \"07/22\", \"08/22\", \"09/22\", \"10/22\", \"11/22\", \"12/22\"]}, \"y\": {\"type\": \"quantitative\", \"field\": \"Fitted Mean NDVI\", \"title\": \"Mean NDVI\"}}}, {\"data\": {\"name\": \"data-2371ec1942c2fc9d0e1642eef5afec80\"}, \"mark\": {\"type\": \"circle\", \"color\": \"red\", \"size\": 50}, \"encoding\": {\"tooltip\": [{\"type\": \"nominal\", \"field\": \"Month\"}, {\"type\": \"nominal\", \"field\": \"Region\"}, {\"type\": \"quantitative\", \"field\": \"Fitted Mean NDVI\"}, {\"type\": \"quantitative\", \"field\": \"Residual\"}], \"x\": {\"type\": \"ordinal\", \"field\": \"Month\", \"sort\": [\"01/19\", \"02/19\", \"03/19\", \"04/19\", \"05/19\", \"06/19\", \"07/19\", \"08/19\", \"09/19\", \"10/19\", \"11/19\", \"12/19\", \"01/20\", \"02/20\", \"03/20\", \"04/20\", \"05/20\", \"06/20\", \"07/20\", \"08/20\", \"09/20\", \"10/20\", \"11/20\", \"12/20\", \"01/21\", \"02/21\", \"03/21\", \"04/21\", \"05/21\", \"06/21\", \"07/21\", \"08/21\", \"09/21\", \"10/21\", \"11/21\", \"12/21\", \"01/22\", \"02/22\", \"03/22\", \"04/22\", \"05/22\", \"06/22\", \"07/22\", \"08/22\", \"09/22\", \"10/22\", \"11/22\", \"12/22\"]}, \"y\": {\"type\": \"quantitative\", \"field\": \"Fitted Mean NDVI\", \"title\": \"Mean NDVI\"}}}, {\"data\": {\"name\": \"data-af17fb00603506eec0702e5630e096ed\"}, \"mark\": \"rule\", \"encoding\": {\"x\": {\"type\": \"ordinal\", \"field\": \"Month\", \"sort\": [\"01/19\", \"02/19\", \"03/19\", \"04/19\", \"05/19\", \"06/19\", \"07/19\", \"08/19\", \"09/19\", \"10/19\", \"11/19\", \"12/19\", \"01/20\", \"02/20\", \"03/20\", \"04/20\", \"05/20\", \"06/20\", \"07/20\", \"08/20\", \"09/20\", \"10/20\", \"11/20\", \"12/20\", \"01/21\", \"02/21\", \"03/21\", \"04/21\", \"05/21\", \"06/21\", \"07/21\", \"08/21\", \"09/21\", \"10/21\", \"11/21\", \"12/21\", \"01/22\", \"02/22\", \"03/22\", \"04/22\", \"05/22\", \"06/22\", \"07/22\", \"08/22\", \"09/22\", \"10/22\", \"11/22\", \"12/22\"]}}}, {\"data\": {\"name\": \"data-b0fff6dbddc827b21943abb1b03046a9\"}, \"mark\": {\"type\": \"line\", \"color\": \"red\"}, \"encoding\": {\"x\": {\"type\": \"ordinal\", \"field\": \"Month\", \"sort\": [\"01/19\", \"02/19\", \"03/19\", \"04/19\", \"05/19\", \"06/19\", \"07/19\", \"08/19\", \"09/19\", \"10/19\", \"11/19\", \"12/19\", \"01/20\", \"02/20\", \"03/20\", \"04/20\", \"05/20\", \"06/20\", \"07/20\", \"08/20\", \"09/20\", \"10/20\", \"11/20\", \"12/20\", \"01/21\", \"02/21\", \"03/21\", \"04/21\", \"05/21\", \"06/21\", \"07/21\", \"08/21\", \"09/21\", \"10/21\", \"11/21\", \"12/21\", \"01/22\", \"02/22\", \"03/22\", \"04/22\", \"05/22\", \"06/22\", \"07/22\", \"08/22\", \"09/22\", \"10/22\", \"11/22\", \"12/22\"]}, \"y\": {\"type\": \"quantitative\", \"field\": \"Predicted Mean NDVI\", \"title\": \"Mean NDVI\"}}}, {\"data\": {\"name\": \"data-b0fff6dbddc827b21943abb1b03046a9\"}, \"mark\": {\"type\": \"circle\", \"color\": \"red\", \"size\": 50}, \"encoding\": {\"tooltip\": [{\"type\": \"nominal\", \"field\": \"Month\"}, {\"type\": \"nominal\", \"field\": \"Region\"}, {\"type\": \"quantitative\", \"field\": \"Predicted Mean NDVI\"}], \"x\": {\"type\": \"ordinal\", \"field\": \"Month\", \"sort\": [\"01/19\", \"02/19\", \"03/19\", \"04/19\", \"05/19\", \"06/19\", \"07/19\", \"08/19\", \"09/19\", \"10/19\", \"11/19\", \"12/19\", \"01/20\", \"02/20\", \"03/20\", \"04/20\", \"05/20\", \"06/20\", \"07/20\", \"08/20\", \"09/20\", \"10/20\", \"11/20\", \"12/20\", \"01/21\", \"02/21\", \"03/21\", \"04/21\", \"05/21\", \"06/21\", \"07/21\", \"08/21\", \"09/21\", \"10/21\", \"11/21\", \"12/21\", \"01/22\", \"02/22\", \"03/22\", \"04/22\", \"05/22\", \"06/22\", \"07/22\", \"08/22\", \"09/22\", \"10/22\", \"11/22\", \"12/22\"]}, \"y\": {\"type\": \"quantitative\", \"field\": \"Predicted Mean NDVI\", \"title\": \"Mean NDVI\"}}}], \"height\": 250, \"title\": \"d'Andohahela Monthly Mean NDVI\", \"width\": 400}, {\"layer\": [{\"mark\": {\"type\": \"line\", \"color\": \"#FFD13C\"}, \"encoding\": {\"x\": {\"type\": \"ordinal\", \"field\": \"Month\", \"sort\": [\"01/19\", \"02/19\", \"03/19\", \"04/19\", \"05/19\", \"06/19\", \"07/19\", \"08/19\", \"09/19\", \"10/19\", \"11/19\", \"12/19\", \"01/20\", \"02/20\", \"03/20\", \"04/20\", \"05/20\", \"06/20\", \"07/20\", \"08/20\", \"09/20\", \"10/20\", \"11/20\", \"12/20\", \"01/21\", \"02/21\", \"03/21\", \"04/21\", \"05/21\", \"06/21\", \"07/21\", \"08/21\", \"09/21\", \"10/21\"]}, \"y\": {\"type\": \"quantitative\", \"field\": \"Residual\"}}}, {\"mark\": {\"type\": \"circle\", \"color\": \"#FFD13C\", \"size\": 50}, \"encoding\": {\"tooltip\": [{\"type\": \"nominal\", \"field\": \"Month\"}, {\"type\": \"nominal\", \"field\": \"Region\"}, {\"type\": \"quantitative\", \"field\": \"Residual\"}], \"x\": {\"type\": \"ordinal\", \"field\": \"Month\", \"sort\": [\"01/19\", \"02/19\", \"03/19\", \"04/19\", \"05/19\", \"06/19\", \"07/19\", \"08/19\", \"09/19\", \"10/19\", \"11/19\", \"12/19\", \"01/20\", \"02/20\", \"03/20\", \"04/20\", \"05/20\", \"06/20\", \"07/20\", \"08/20\", \"09/20\", \"10/20\", \"11/20\", \"12/20\", \"01/21\", \"02/21\", \"03/21\", \"04/21\", \"05/21\", \"06/21\", \"07/21\", \"08/21\", \"09/21\", \"10/21\"]}, \"y\": {\"type\": \"quantitative\", \"field\": \"Residual\"}}}], \"data\": {\"name\": \"data-2371ec1942c2fc9d0e1642eef5afec80\"}, \"height\": 250, \"title\": \"d'Andohahela Detrended Monthly Mean NDVI\", \"width\": 400}]}, {\"hconcat\": [{\"layer\": [{\"data\": {\"name\": \"data-7e849118305a3476d90c41f65eca46a1\"}, \"mark\": {\"type\": \"line\", \"color\": \"#61ECB6\"}, \"encoding\": {\"x\": {\"type\": \"ordinal\", \"field\": \"Month\", \"sort\": [\"01/19\", \"02/19\", \"03/19\", \"04/19\", \"05/19\", \"06/19\", \"07/19\", \"08/19\", \"09/19\", \"10/19\", \"11/19\", \"12/19\", \"01/20\", \"02/20\", \"03/20\", \"04/20\", \"05/20\", \"06/20\", \"07/20\", \"08/20\", \"09/20\", \"10/20\", \"11/20\", \"12/20\", \"01/21\", \"02/21\", \"03/21\", \"04/21\", \"05/21\", \"06/21\", \"07/21\", \"08/21\", \"09/21\", \"10/21\", \"11/21\", \"12/21\", \"01/22\", \"02/22\", \"03/22\", \"04/22\", \"05/22\", \"06/22\", \"07/22\", \"08/22\", \"09/22\", \"10/22\", \"11/22\", \"12/22\"]}, \"y\": {\"type\": \"quantitative\", \"field\": \"Mean NDVI\"}}}, {\"data\": {\"name\": \"data-7e849118305a3476d90c41f65eca46a1\"}, \"mark\": {\"type\": \"circle\", \"color\": \"#61ECB6\", \"size\": 50}, \"encoding\": {\"tooltip\": [{\"type\": \"nominal\", \"field\": \"Month\"}, {\"type\": \"nominal\", \"field\": \"Region\"}, {\"type\": \"quantitative\", \"field\": \"Mean NDVI\"}], \"x\": {\"type\": \"ordinal\", \"field\": \"Month\", \"sort\": [\"01/19\", \"02/19\", \"03/19\", \"04/19\", \"05/19\", \"06/19\", \"07/19\", \"08/19\", \"09/19\", \"10/19\", \"11/19\", \"12/19\", \"01/20\", \"02/20\", \"03/20\", \"04/20\", \"05/20\", \"06/20\", \"07/20\", \"08/20\", \"09/20\", \"10/20\", \"11/20\", \"12/20\", \"01/21\", \"02/21\", \"03/21\", \"04/21\", \"05/21\", \"06/21\", \"07/21\", \"08/21\", \"09/21\", \"10/21\", \"11/21\", \"12/21\", \"01/22\", \"02/22\", \"03/22\", \"04/22\", \"05/22\", \"06/22\", \"07/22\", \"08/22\", \"09/22\", \"10/22\", \"11/22\", \"12/22\"]}, \"y\": {\"type\": \"quantitative\", \"field\": \"Mean NDVI\"}}}, {\"data\": {\"name\": \"data-7e849118305a3476d90c41f65eca46a1\"}, \"mark\": {\"type\": \"line\", \"color\": \"red\"}, \"encoding\": {\"x\": {\"type\": \"ordinal\", \"field\": \"Month\", \"sort\": [\"01/19\", \"02/19\", \"03/19\", \"04/19\", \"05/19\", \"06/19\", \"07/19\", \"08/19\", \"09/19\", \"10/19\", \"11/19\", \"12/19\", \"01/20\", \"02/20\", \"03/20\", \"04/20\", \"05/20\", \"06/20\", \"07/20\", \"08/20\", \"09/20\", \"10/20\", \"11/20\", \"12/20\", \"01/21\", \"02/21\", \"03/21\", \"04/21\", \"05/21\", \"06/21\", \"07/21\", \"08/21\", \"09/21\", \"10/21\", \"11/21\", \"12/21\", \"01/22\", \"02/22\", \"03/22\", \"04/22\", \"05/22\", \"06/22\", \"07/22\", \"08/22\", \"09/22\", \"10/22\", \"11/22\", \"12/22\"]}, \"y\": {\"type\": \"quantitative\", \"field\": \"Fitted Mean NDVI\", \"title\": \"Mean NDVI\"}}}, {\"data\": {\"name\": \"data-7e849118305a3476d90c41f65eca46a1\"}, \"mark\": {\"type\": \"circle\", \"color\": \"red\", \"size\": 50}, \"encoding\": {\"tooltip\": [{\"type\": \"nominal\", \"field\": \"Month\"}, {\"type\": \"nominal\", \"field\": \"Region\"}, {\"type\": \"quantitative\", \"field\": \"Fitted Mean NDVI\"}, {\"type\": \"quantitative\", \"field\": \"Residual\"}], \"x\": {\"type\": \"ordinal\", \"field\": \"Month\", \"sort\": [\"01/19\", \"02/19\", \"03/19\", \"04/19\", \"05/19\", \"06/19\", \"07/19\", \"08/19\", \"09/19\", \"10/19\", \"11/19\", \"12/19\", \"01/20\", \"02/20\", \"03/20\", \"04/20\", \"05/20\", \"06/20\", \"07/20\", \"08/20\", \"09/20\", \"10/20\", \"11/20\", \"12/20\", \"01/21\", \"02/21\", \"03/21\", \"04/21\", \"05/21\", \"06/21\", \"07/21\", \"08/21\", \"09/21\", \"10/21\", \"11/21\", \"12/21\", \"01/22\", \"02/22\", \"03/22\", \"04/22\", \"05/22\", \"06/22\", \"07/22\", \"08/22\", \"09/22\", \"10/22\", \"11/22\", \"12/22\"]}, \"y\": {\"type\": \"quantitative\", \"field\": \"Fitted Mean NDVI\", \"title\": \"Mean NDVI\"}}}, {\"data\": {\"name\": \"data-af17fb00603506eec0702e5630e096ed\"}, \"mark\": \"rule\", \"encoding\": {\"x\": {\"type\": \"ordinal\", \"field\": \"Month\", \"sort\": [\"01/19\", \"02/19\", \"03/19\", \"04/19\", \"05/19\", \"06/19\", \"07/19\", \"08/19\", \"09/19\", \"10/19\", \"11/19\", \"12/19\", \"01/20\", \"02/20\", \"03/20\", \"04/20\", \"05/20\", \"06/20\", \"07/20\", \"08/20\", \"09/20\", \"10/20\", \"11/20\", \"12/20\", \"01/21\", \"02/21\", \"03/21\", \"04/21\", \"05/21\", \"06/21\", \"07/21\", \"08/21\", \"09/21\", \"10/21\", \"11/21\", \"12/21\", \"01/22\", \"02/22\", \"03/22\", \"04/22\", \"05/22\", \"06/22\", \"07/22\", \"08/22\", \"09/22\", \"10/22\", \"11/22\", \"12/22\"]}}}, {\"data\": {\"name\": \"data-e18beb9cdfd967a4497fef78071260ba\"}, \"mark\": {\"type\": \"line\", \"color\": \"red\"}, \"encoding\": {\"x\": {\"type\": \"ordinal\", \"field\": \"Month\", \"sort\": [\"01/19\", \"02/19\", \"03/19\", \"04/19\", \"05/19\", \"06/19\", \"07/19\", \"08/19\", \"09/19\", \"10/19\", \"11/19\", \"12/19\", \"01/20\", \"02/20\", \"03/20\", \"04/20\", \"05/20\", \"06/20\", \"07/20\", \"08/20\", \"09/20\", \"10/20\", \"11/20\", \"12/20\", \"01/21\", \"02/21\", \"03/21\", \"04/21\", \"05/21\", \"06/21\", \"07/21\", \"08/21\", \"09/21\", \"10/21\", \"11/21\", \"12/21\", \"01/22\", \"02/22\", \"03/22\", \"04/22\", \"05/22\", \"06/22\", \"07/22\", \"08/22\", \"09/22\", \"10/22\", \"11/22\", \"12/22\"]}, \"y\": {\"type\": \"quantitative\", \"field\": \"Predicted Mean NDVI\", \"title\": \"Mean NDVI\"}}}, {\"data\": {\"name\": \"data-e18beb9cdfd967a4497fef78071260ba\"}, \"mark\": {\"type\": \"circle\", \"color\": \"red\", \"size\": 50}, \"encoding\": {\"tooltip\": [{\"type\": \"nominal\", \"field\": \"Month\"}, {\"type\": \"nominal\", \"field\": \"Region\"}, {\"type\": \"quantitative\", \"field\": \"Predicted Mean NDVI\"}], \"x\": {\"type\": \"ordinal\", \"field\": \"Month\", \"sort\": [\"01/19\", \"02/19\", \"03/19\", \"04/19\", \"05/19\", \"06/19\", \"07/19\", \"08/19\", \"09/19\", \"10/19\", \"11/19\", \"12/19\", \"01/20\", \"02/20\", \"03/20\", \"04/20\", \"05/20\", \"06/20\", \"07/20\", \"08/20\", \"09/20\", \"10/20\", \"11/20\", \"12/20\", \"01/21\", \"02/21\", \"03/21\", \"04/21\", \"05/21\", \"06/21\", \"07/21\", \"08/21\", \"09/21\", \"10/21\", \"11/21\", \"12/21\", \"01/22\", \"02/22\", \"03/22\", \"04/22\", \"05/22\", \"06/22\", \"07/22\", \"08/22\", \"09/22\", \"10/22\", \"11/22\", \"12/22\"]}, \"y\": {\"type\": \"quantitative\", \"field\": \"Predicted Mean NDVI\", \"title\": \"Mean NDVI\"}}}], \"height\": 250, \"title\": \"Midongy Betofaka Monthly Mean NDVI\", \"width\": 400}, {\"layer\": [{\"mark\": {\"type\": \"line\", \"color\": \"#61ECB6\"}, \"encoding\": {\"x\": {\"type\": \"ordinal\", \"field\": \"Month\", \"sort\": [\"01/19\", \"02/19\", \"03/19\", \"04/19\", \"05/19\", \"06/19\", \"07/19\", \"08/19\", \"09/19\", \"10/19\", \"11/19\", \"12/19\", \"01/20\", \"02/20\", \"03/20\", \"04/20\", \"05/20\", \"06/20\", \"07/20\", \"08/20\", \"09/20\", \"10/20\", \"11/20\", \"12/20\", \"01/21\", \"02/21\", \"03/21\", \"04/21\", \"05/21\", \"06/21\", \"07/21\", \"08/21\", \"09/21\", \"10/21\"]}, \"y\": {\"type\": \"quantitative\", \"field\": \"Residual\"}}}, {\"mark\": {\"type\": \"circle\", \"color\": \"#61ECB6\", \"size\": 50}, \"encoding\": {\"tooltip\": [{\"type\": \"nominal\", \"field\": \"Month\"}, {\"type\": \"nominal\", \"field\": \"Region\"}, {\"type\": \"quantitative\", \"field\": \"Residual\"}], \"x\": {\"type\": \"ordinal\", \"field\": \"Month\", \"sort\": [\"01/19\", \"02/19\", \"03/19\", \"04/19\", \"05/19\", \"06/19\", \"07/19\", \"08/19\", \"09/19\", \"10/19\", \"11/19\", \"12/19\", \"01/20\", \"02/20\", \"03/20\", \"04/20\", \"05/20\", \"06/20\", \"07/20\", \"08/20\", \"09/20\", \"10/20\", \"11/20\", \"12/20\", \"01/21\", \"02/21\", \"03/21\", \"04/21\", \"05/21\", \"06/21\", \"07/21\", \"08/21\", \"09/21\", \"10/21\"]}, \"y\": {\"type\": \"quantitative\", \"field\": \"Residual\"}}}], \"data\": {\"name\": \"data-7e849118305a3476d90c41f65eca46a1\"}, \"height\": 250, \"title\": \"Midongy Betofaka Detrended Monthly Mean NDVI\", \"width\": 400}]}, {\"hconcat\": [{\"layer\": [{\"data\": {\"name\": \"data-f9000aff718105717a6f739c40b41bee\"}, \"mark\": {\"type\": \"line\", \"color\": \"#2ca02c\"}, \"encoding\": {\"x\": {\"type\": \"ordinal\", \"field\": \"Month\", \"sort\": [\"01/19\", \"02/19\", \"03/19\", \"04/19\", \"05/19\", \"06/19\", \"07/19\", \"08/19\", \"09/19\", \"10/19\", \"11/19\", \"12/19\", \"01/20\", \"02/20\", \"03/20\", \"04/20\", \"05/20\", \"06/20\", \"07/20\", \"08/20\", \"09/20\", \"10/20\", \"11/20\", \"12/20\", \"01/21\", \"02/21\", \"03/21\", \"04/21\", \"05/21\", \"06/21\", \"07/21\", \"08/21\", \"09/21\", \"10/21\", \"11/21\", \"12/21\", \"01/22\", \"02/22\", \"03/22\", \"04/22\", \"05/22\", \"06/22\", \"07/22\", \"08/22\", \"09/22\", \"10/22\", \"11/22\", \"12/22\"]}, \"y\": {\"type\": \"quantitative\", \"field\": \"Mean NDVI\"}}}, {\"data\": {\"name\": \"data-f9000aff718105717a6f739c40b41bee\"}, \"mark\": {\"type\": \"circle\", \"color\": \"#2ca02c\", \"size\": 50}, \"encoding\": {\"tooltip\": [{\"type\": \"nominal\", \"field\": \"Month\"}, {\"type\": \"nominal\", \"field\": \"Region\"}, {\"type\": \"quantitative\", \"field\": \"Mean NDVI\"}], \"x\": {\"type\": \"ordinal\", \"field\": \"Month\", \"sort\": [\"01/19\", \"02/19\", \"03/19\", \"04/19\", \"05/19\", \"06/19\", \"07/19\", \"08/19\", \"09/19\", \"10/19\", \"11/19\", \"12/19\", \"01/20\", \"02/20\", \"03/20\", \"04/20\", \"05/20\", \"06/20\", \"07/20\", \"08/20\", \"09/20\", \"10/20\", \"11/20\", \"12/20\", \"01/21\", \"02/21\", \"03/21\", \"04/21\", \"05/21\", \"06/21\", \"07/21\", \"08/21\", \"09/21\", \"10/21\", \"11/21\", \"12/21\", \"01/22\", \"02/22\", \"03/22\", \"04/22\", \"05/22\", \"06/22\", \"07/22\", \"08/22\", \"09/22\", \"10/22\", \"11/22\", \"12/22\"]}, \"y\": {\"type\": \"quantitative\", \"field\": \"Mean NDVI\"}}}, {\"data\": {\"name\": \"data-f9000aff718105717a6f739c40b41bee\"}, \"mark\": {\"type\": \"line\", \"color\": \"red\"}, \"encoding\": {\"x\": {\"type\": \"ordinal\", \"field\": \"Month\", \"sort\": [\"01/19\", \"02/19\", \"03/19\", \"04/19\", \"05/19\", \"06/19\", \"07/19\", \"08/19\", \"09/19\", \"10/19\", \"11/19\", \"12/19\", \"01/20\", \"02/20\", \"03/20\", \"04/20\", \"05/20\", \"06/20\", \"07/20\", \"08/20\", \"09/20\", \"10/20\", \"11/20\", \"12/20\", \"01/21\", \"02/21\", \"03/21\", \"04/21\", \"05/21\", \"06/21\", \"07/21\", \"08/21\", \"09/21\", \"10/21\", \"11/21\", \"12/21\", \"01/22\", \"02/22\", \"03/22\", \"04/22\", \"05/22\", \"06/22\", \"07/22\", \"08/22\", \"09/22\", \"10/22\", \"11/22\", \"12/22\"]}, \"y\": {\"type\": \"quantitative\", \"field\": \"Fitted Mean NDVI\", \"title\": \"Mean NDVI\"}}}, {\"data\": {\"name\": \"data-f9000aff718105717a6f739c40b41bee\"}, \"mark\": {\"type\": \"circle\", \"color\": \"red\", \"size\": 50}, \"encoding\": {\"tooltip\": [{\"type\": \"nominal\", \"field\": \"Month\"}, {\"type\": \"nominal\", \"field\": \"Region\"}, {\"type\": \"quantitative\", \"field\": \"Fitted Mean NDVI\"}, {\"type\": \"quantitative\", \"field\": \"Residual\"}], \"x\": {\"type\": \"ordinal\", \"field\": \"Month\", \"sort\": [\"01/19\", \"02/19\", \"03/19\", \"04/19\", \"05/19\", \"06/19\", \"07/19\", \"08/19\", \"09/19\", \"10/19\", \"11/19\", \"12/19\", \"01/20\", \"02/20\", \"03/20\", \"04/20\", \"05/20\", \"06/20\", \"07/20\", \"08/20\", \"09/20\", \"10/20\", \"11/20\", \"12/20\", \"01/21\", \"02/21\", \"03/21\", \"04/21\", \"05/21\", \"06/21\", \"07/21\", \"08/21\", \"09/21\", \"10/21\", \"11/21\", \"12/21\", \"01/22\", \"02/22\", \"03/22\", \"04/22\", \"05/22\", \"06/22\", \"07/22\", \"08/22\", \"09/22\", \"10/22\", \"11/22\", \"12/22\"]}, \"y\": {\"type\": \"quantitative\", \"field\": \"Fitted Mean NDVI\", \"title\": \"Mean NDVI\"}}}, {\"data\": {\"name\": \"data-af17fb00603506eec0702e5630e096ed\"}, \"mark\": \"rule\", \"encoding\": {\"x\": {\"type\": \"ordinal\", \"field\": \"Month\", \"sort\": [\"01/19\", \"02/19\", \"03/19\", \"04/19\", \"05/19\", \"06/19\", \"07/19\", \"08/19\", \"09/19\", \"10/19\", \"11/19\", \"12/19\", \"01/20\", \"02/20\", \"03/20\", \"04/20\", \"05/20\", \"06/20\", \"07/20\", \"08/20\", \"09/20\", \"10/20\", \"11/20\", \"12/20\", \"01/21\", \"02/21\", \"03/21\", \"04/21\", \"05/21\", \"06/21\", \"07/21\", \"08/21\", \"09/21\", \"10/21\", \"11/21\", \"12/21\", \"01/22\", \"02/22\", \"03/22\", \"04/22\", \"05/22\", \"06/22\", \"07/22\", \"08/22\", \"09/22\", \"10/22\", \"11/22\", \"12/22\"]}}}, {\"data\": {\"name\": \"data-1971b94c32969da57c2d40f7be7d4d23\"}, \"mark\": {\"type\": \"line\", \"color\": \"red\"}, \"encoding\": {\"x\": {\"type\": \"ordinal\", \"field\": \"Month\", \"sort\": [\"01/19\", \"02/19\", \"03/19\", \"04/19\", \"05/19\", \"06/19\", \"07/19\", \"08/19\", \"09/19\", \"10/19\", \"11/19\", \"12/19\", \"01/20\", \"02/20\", \"03/20\", \"04/20\", \"05/20\", \"06/20\", \"07/20\", \"08/20\", \"09/20\", \"10/20\", \"11/20\", \"12/20\", \"01/21\", \"02/21\", \"03/21\", \"04/21\", \"05/21\", \"06/21\", \"07/21\", \"08/21\", \"09/21\", \"10/21\", \"11/21\", \"12/21\", \"01/22\", \"02/22\", \"03/22\", \"04/22\", \"05/22\", \"06/22\", \"07/22\", \"08/22\", \"09/22\", \"10/22\", \"11/22\", \"12/22\"]}, \"y\": {\"type\": \"quantitative\", \"field\": \"Predicted Mean NDVI\", \"title\": \"Mean NDVI\"}}}, {\"data\": {\"name\": \"data-1971b94c32969da57c2d40f7be7d4d23\"}, \"mark\": {\"type\": \"circle\", \"color\": \"red\", \"size\": 50}, \"encoding\": {\"tooltip\": [{\"type\": \"nominal\", \"field\": \"Month\"}, {\"type\": \"nominal\", \"field\": \"Region\"}, {\"type\": \"quantitative\", \"field\": \"Predicted Mean NDVI\"}], \"x\": {\"type\": \"ordinal\", \"field\": \"Month\", \"sort\": [\"01/19\", \"02/19\", \"03/19\", \"04/19\", \"05/19\", \"06/19\", \"07/19\", \"08/19\", \"09/19\", \"10/19\", \"11/19\", \"12/19\", \"01/20\", \"02/20\", \"03/20\", \"04/20\", \"05/20\", \"06/20\", \"07/20\", \"08/20\", \"09/20\", \"10/20\", \"11/20\", \"12/20\", \"01/21\", \"02/21\", \"03/21\", \"04/21\", \"05/21\", \"06/21\", \"07/21\", \"08/21\", \"09/21\", \"10/21\", \"11/21\", \"12/21\", \"01/22\", \"02/22\", \"03/22\", \"04/22\", \"05/22\", \"06/22\", \"07/22\", \"08/22\", \"09/22\", \"10/22\", \"11/22\", \"12/22\"]}, \"y\": {\"type\": \"quantitative\", \"field\": \"Predicted Mean NDVI\", \"title\": \"Mean NDVI\"}}}], \"height\": 250, \"title\": \"Tsimanampetsotsa Monthly Mean NDVI\", \"width\": 400}, {\"layer\": [{\"mark\": {\"type\": \"line\", \"color\": \"#2ca02c\"}, \"encoding\": {\"x\": {\"type\": \"ordinal\", \"field\": \"Month\", \"sort\": [\"01/19\", \"02/19\", \"03/19\", \"04/19\", \"05/19\", \"06/19\", \"07/19\", \"08/19\", \"09/19\", \"10/19\", \"11/19\", \"12/19\", \"01/20\", \"02/20\", \"03/20\", \"04/20\", \"05/20\", \"06/20\", \"07/20\", \"08/20\", \"09/20\", \"10/20\", \"11/20\", \"12/20\", \"01/21\", \"02/21\", \"03/21\", \"04/21\", \"05/21\", \"06/21\", \"07/21\", \"08/21\", \"09/21\", \"10/21\"]}, \"y\": {\"type\": \"quantitative\", \"field\": \"Residual\"}}}, {\"mark\": {\"type\": \"circle\", \"color\": \"#2ca02c\", \"size\": 50}, \"encoding\": {\"tooltip\": [{\"type\": \"nominal\", \"field\": \"Month\"}, {\"type\": \"nominal\", \"field\": \"Region\"}, {\"type\": \"quantitative\", \"field\": \"Residual\"}], \"x\": {\"type\": \"ordinal\", \"field\": \"Month\", \"sort\": [\"01/19\", \"02/19\", \"03/19\", \"04/19\", \"05/19\", \"06/19\", \"07/19\", \"08/19\", \"09/19\", \"10/19\", \"11/19\", \"12/19\", \"01/20\", \"02/20\", \"03/20\", \"04/20\", \"05/20\", \"06/20\", \"07/20\", \"08/20\", \"09/20\", \"10/20\", \"11/20\", \"12/20\", \"01/21\", \"02/21\", \"03/21\", \"04/21\", \"05/21\", \"06/21\", \"07/21\", \"08/21\", \"09/21\", \"10/21\"]}, \"y\": {\"type\": \"quantitative\", \"field\": \"Residual\"}}}], \"data\": {\"name\": \"data-f9000aff718105717a6f739c40b41bee\"}, \"height\": 250, \"title\": \"Tsimanampetsotsa Detrended Monthly Mean NDVI\", \"width\": 400}]}, {\"hconcat\": [{\"layer\": [{\"data\": {\"name\": \"data-ffdbea83afc4e8b19fdde57e82980b83\"}, \"mark\": {\"type\": \"line\", \"color\": \"#9467bd\"}, \"encoding\": {\"x\": {\"type\": \"ordinal\", \"field\": \"Month\", \"sort\": [\"01/19\", \"02/19\", \"03/19\", \"04/19\", \"05/19\", \"06/19\", \"07/19\", \"08/19\", \"09/19\", \"10/19\", \"11/19\", \"12/19\", \"01/20\", \"02/20\", \"03/20\", \"04/20\", \"05/20\", \"06/20\", \"07/20\", \"08/20\", \"09/20\", \"10/20\", \"11/20\", \"12/20\", \"01/21\", \"02/21\", \"03/21\", \"04/21\", \"05/21\", \"06/21\", \"07/21\", \"08/21\", \"09/21\", \"10/21\", \"11/21\", \"12/21\", \"01/22\", \"02/22\", \"03/22\", \"04/22\", \"05/22\", \"06/22\", \"07/22\", \"08/22\", \"09/22\", \"10/22\", \"11/22\", \"12/22\"]}, \"y\": {\"type\": \"quantitative\", \"field\": \"Mean NDVI\"}}}, {\"data\": {\"name\": \"data-ffdbea83afc4e8b19fdde57e82980b83\"}, \"mark\": {\"type\": \"circle\", \"color\": \"#9467bd\", \"size\": 50}, \"encoding\": {\"tooltip\": [{\"type\": \"nominal\", \"field\": \"Month\"}, {\"type\": \"nominal\", \"field\": \"Region\"}, {\"type\": \"quantitative\", \"field\": \"Mean NDVI\"}], \"x\": {\"type\": \"ordinal\", \"field\": \"Month\", \"sort\": [\"01/19\", \"02/19\", \"03/19\", \"04/19\", \"05/19\", \"06/19\", \"07/19\", \"08/19\", \"09/19\", \"10/19\", \"11/19\", \"12/19\", \"01/20\", \"02/20\", \"03/20\", \"04/20\", \"05/20\", \"06/20\", \"07/20\", \"08/20\", \"09/20\", \"10/20\", \"11/20\", \"12/20\", \"01/21\", \"02/21\", \"03/21\", \"04/21\", \"05/21\", \"06/21\", \"07/21\", \"08/21\", \"09/21\", \"10/21\", \"11/21\", \"12/21\", \"01/22\", \"02/22\", \"03/22\", \"04/22\", \"05/22\", \"06/22\", \"07/22\", \"08/22\", \"09/22\", \"10/22\", \"11/22\", \"12/22\"]}, \"y\": {\"type\": \"quantitative\", \"field\": \"Mean NDVI\"}}}, {\"data\": {\"name\": \"data-ffdbea83afc4e8b19fdde57e82980b83\"}, \"mark\": {\"type\": \"line\", \"color\": \"red\"}, \"encoding\": {\"x\": {\"type\": \"ordinal\", \"field\": \"Month\", \"sort\": [\"01/19\", \"02/19\", \"03/19\", \"04/19\", \"05/19\", \"06/19\", \"07/19\", \"08/19\", \"09/19\", \"10/19\", \"11/19\", \"12/19\", \"01/20\", \"02/20\", \"03/20\", \"04/20\", \"05/20\", \"06/20\", \"07/20\", \"08/20\", \"09/20\", \"10/20\", \"11/20\", \"12/20\", \"01/21\", \"02/21\", \"03/21\", \"04/21\", \"05/21\", \"06/21\", \"07/21\", \"08/21\", \"09/21\", \"10/21\", \"11/21\", \"12/21\", \"01/22\", \"02/22\", \"03/22\", \"04/22\", \"05/22\", \"06/22\", \"07/22\", \"08/22\", \"09/22\", \"10/22\", \"11/22\", \"12/22\"]}, \"y\": {\"type\": \"quantitative\", \"field\": \"Fitted Mean NDVI\", \"title\": \"Mean NDVI\"}}}, {\"data\": {\"name\": \"data-ffdbea83afc4e8b19fdde57e82980b83\"}, \"mark\": {\"type\": \"circle\", \"color\": \"red\", \"size\": 50}, \"encoding\": {\"tooltip\": [{\"type\": \"nominal\", \"field\": \"Month\"}, {\"type\": \"nominal\", \"field\": \"Region\"}, {\"type\": \"quantitative\", \"field\": \"Fitted Mean NDVI\"}, {\"type\": \"quantitative\", \"field\": \"Residual\"}], \"x\": {\"type\": \"ordinal\", \"field\": \"Month\", \"sort\": [\"01/19\", \"02/19\", \"03/19\", \"04/19\", \"05/19\", \"06/19\", \"07/19\", \"08/19\", \"09/19\", \"10/19\", \"11/19\", \"12/19\", \"01/20\", \"02/20\", \"03/20\", \"04/20\", \"05/20\", \"06/20\", \"07/20\", \"08/20\", \"09/20\", \"10/20\", \"11/20\", \"12/20\", \"01/21\", \"02/21\", \"03/21\", \"04/21\", \"05/21\", \"06/21\", \"07/21\", \"08/21\", \"09/21\", \"10/21\", \"11/21\", \"12/21\", \"01/22\", \"02/22\", \"03/22\", \"04/22\", \"05/22\", \"06/22\", \"07/22\", \"08/22\", \"09/22\", \"10/22\", \"11/22\", \"12/22\"]}, \"y\": {\"type\": \"quantitative\", \"field\": \"Fitted Mean NDVI\", \"title\": \"Mean NDVI\"}}}, {\"data\": {\"name\": \"data-af17fb00603506eec0702e5630e096ed\"}, \"mark\": \"rule\", \"encoding\": {\"x\": {\"type\": \"ordinal\", \"field\": \"Month\", \"sort\": [\"01/19\", \"02/19\", \"03/19\", \"04/19\", \"05/19\", \"06/19\", \"07/19\", \"08/19\", \"09/19\", \"10/19\", \"11/19\", \"12/19\", \"01/20\", \"02/20\", \"03/20\", \"04/20\", \"05/20\", \"06/20\", \"07/20\", \"08/20\", \"09/20\", \"10/20\", \"11/20\", \"12/20\", \"01/21\", \"02/21\", \"03/21\", \"04/21\", \"05/21\", \"06/21\", \"07/21\", \"08/21\", \"09/21\", \"10/21\", \"11/21\", \"12/21\", \"01/22\", \"02/22\", \"03/22\", \"04/22\", \"05/22\", \"06/22\", \"07/22\", \"08/22\", \"09/22\", \"10/22\", \"11/22\", \"12/22\"]}}}, {\"data\": {\"name\": \"data-dd776f213aa6b9763be9ced67c440f17\"}, \"mark\": {\"type\": \"line\", \"color\": \"red\"}, \"encoding\": {\"x\": {\"type\": \"ordinal\", \"field\": \"Month\", \"sort\": [\"01/19\", \"02/19\", \"03/19\", \"04/19\", \"05/19\", \"06/19\", \"07/19\", \"08/19\", \"09/19\", \"10/19\", \"11/19\", \"12/19\", \"01/20\", \"02/20\", \"03/20\", \"04/20\", \"05/20\", \"06/20\", \"07/20\", \"08/20\", \"09/20\", \"10/20\", \"11/20\", \"12/20\", \"01/21\", \"02/21\", \"03/21\", \"04/21\", \"05/21\", \"06/21\", \"07/21\", \"08/21\", \"09/21\", \"10/21\", \"11/21\", \"12/21\", \"01/22\", \"02/22\", \"03/22\", \"04/22\", \"05/22\", \"06/22\", \"07/22\", \"08/22\", \"09/22\", \"10/22\", \"11/22\", \"12/22\"]}, \"y\": {\"type\": \"quantitative\", \"field\": \"Predicted Mean NDVI\", \"title\": \"Mean NDVI\"}}}, {\"data\": {\"name\": \"data-dd776f213aa6b9763be9ced67c440f17\"}, \"mark\": {\"type\": \"circle\", \"color\": \"red\", \"size\": 50}, \"encoding\": {\"tooltip\": [{\"type\": \"nominal\", \"field\": \"Month\"}, {\"type\": \"nominal\", \"field\": \"Region\"}, {\"type\": \"quantitative\", \"field\": \"Predicted Mean NDVI\"}], \"x\": {\"type\": \"ordinal\", \"field\": \"Month\", \"sort\": [\"01/19\", \"02/19\", \"03/19\", \"04/19\", \"05/19\", \"06/19\", \"07/19\", \"08/19\", \"09/19\", \"10/19\", \"11/19\", \"12/19\", \"01/20\", \"02/20\", \"03/20\", \"04/20\", \"05/20\", \"06/20\", \"07/20\", \"08/20\", \"09/20\", \"10/20\", \"11/20\", \"12/20\", \"01/21\", \"02/21\", \"03/21\", \"04/21\", \"05/21\", \"06/21\", \"07/21\", \"08/21\", \"09/21\", \"10/21\", \"11/21\", \"12/21\", \"01/22\", \"02/22\", \"03/22\", \"04/22\", \"05/22\", \"06/22\", \"07/22\", \"08/22\", \"09/22\", \"10/22\", \"11/22\", \"12/22\"]}, \"y\": {\"type\": \"quantitative\", \"field\": \"Predicted Mean NDVI\", \"title\": \"Mean NDVI\"}}}], \"height\": 250, \"title\": \"d'Ankarafantsika Monthly Mean NDVI\", \"width\": 400}, {\"layer\": [{\"mark\": {\"type\": \"line\", \"color\": \"#9467bd\"}, \"encoding\": {\"x\": {\"type\": \"ordinal\", \"field\": \"Month\", \"sort\": [\"01/19\", \"02/19\", \"03/19\", \"04/19\", \"05/19\", \"06/19\", \"07/19\", \"08/19\", \"09/19\", \"10/19\", \"11/19\", \"12/19\", \"01/20\", \"02/20\", \"03/20\", \"04/20\", \"05/20\", \"06/20\", \"07/20\", \"08/20\", \"09/20\", \"10/20\", \"11/20\", \"12/20\", \"01/21\", \"02/21\", \"03/21\", \"04/21\", \"05/21\", \"06/21\", \"07/21\", \"08/21\", \"09/21\", \"10/21\"]}, \"y\": {\"type\": \"quantitative\", \"field\": \"Residual\"}}}, {\"mark\": {\"type\": \"circle\", \"color\": \"#9467bd\", \"size\": 50}, \"encoding\": {\"tooltip\": [{\"type\": \"nominal\", \"field\": \"Month\"}, {\"type\": \"nominal\", \"field\": \"Region\"}, {\"type\": \"quantitative\", \"field\": \"Residual\"}], \"x\": {\"type\": \"ordinal\", \"field\": \"Month\", \"sort\": [\"01/19\", \"02/19\", \"03/19\", \"04/19\", \"05/19\", \"06/19\", \"07/19\", \"08/19\", \"09/19\", \"10/19\", \"11/19\", \"12/19\", \"01/20\", \"02/20\", \"03/20\", \"04/20\", \"05/20\", \"06/20\", \"07/20\", \"08/20\", \"09/20\", \"10/20\", \"11/20\", \"12/20\", \"01/21\", \"02/21\", \"03/21\", \"04/21\", \"05/21\", \"06/21\", \"07/21\", \"08/21\", \"09/21\", \"10/21\"]}, \"y\": {\"type\": \"quantitative\", \"field\": \"Residual\"}}}], \"data\": {\"name\": \"data-ffdbea83afc4e8b19fdde57e82980b83\"}, \"height\": 250, \"title\": \"d'Ankarafantsika Detrended Monthly Mean NDVI\", \"width\": 400}]}, {\"hconcat\": [{\"layer\": [{\"data\": {\"name\": \"data-913d645df6d7cb04fafa924542122ce3\"}, \"mark\": {\"type\": \"line\", \"color\": \"#17becf\"}, \"encoding\": {\"x\": {\"type\": \"ordinal\", \"field\": \"Month\", \"sort\": [\"01/19\", \"02/19\", \"03/19\", \"04/19\", \"05/19\", \"06/19\", \"07/19\", \"08/19\", \"09/19\", \"10/19\", \"11/19\", \"12/19\", \"01/20\", \"02/20\", \"03/20\", \"04/20\", \"05/20\", \"06/20\", \"07/20\", \"08/20\", \"09/20\", \"10/20\", \"11/20\", \"12/20\", \"01/21\", \"02/21\", \"03/21\", \"04/21\", \"05/21\", \"06/21\", \"07/21\", \"08/21\", \"09/21\", \"10/21\", \"11/21\", \"12/21\", \"01/22\", \"02/22\", \"03/22\", \"04/22\", \"05/22\", \"06/22\", \"07/22\", \"08/22\", \"09/22\", \"10/22\", \"11/22\", \"12/22\"]}, \"y\": {\"type\": \"quantitative\", \"field\": \"Mean NDVI\"}}}, {\"data\": {\"name\": \"data-913d645df6d7cb04fafa924542122ce3\"}, \"mark\": {\"type\": \"circle\", \"color\": \"#17becf\", \"size\": 50}, \"encoding\": {\"tooltip\": [{\"type\": \"nominal\", \"field\": \"Month\"}, {\"type\": \"nominal\", \"field\": \"Region\"}, {\"type\": \"quantitative\", \"field\": \"Mean NDVI\"}], \"x\": {\"type\": \"ordinal\", \"field\": \"Month\", \"sort\": [\"01/19\", \"02/19\", \"03/19\", \"04/19\", \"05/19\", \"06/19\", \"07/19\", \"08/19\", \"09/19\", \"10/19\", \"11/19\", \"12/19\", \"01/20\", \"02/20\", \"03/20\", \"04/20\", \"05/20\", \"06/20\", \"07/20\", \"08/20\", \"09/20\", \"10/20\", \"11/20\", \"12/20\", \"01/21\", \"02/21\", \"03/21\", \"04/21\", \"05/21\", \"06/21\", \"07/21\", \"08/21\", \"09/21\", \"10/21\", \"11/21\", \"12/21\", \"01/22\", \"02/22\", \"03/22\", \"04/22\", \"05/22\", \"06/22\", \"07/22\", \"08/22\", \"09/22\", \"10/22\", \"11/22\", \"12/22\"]}, \"y\": {\"type\": \"quantitative\", \"field\": \"Mean NDVI\"}}}, {\"data\": {\"name\": \"data-913d645df6d7cb04fafa924542122ce3\"}, \"mark\": {\"type\": \"line\", \"color\": \"red\"}, \"encoding\": {\"x\": {\"type\": \"ordinal\", \"field\": \"Month\", \"sort\": [\"01/19\", \"02/19\", \"03/19\", \"04/19\", \"05/19\", \"06/19\", \"07/19\", \"08/19\", \"09/19\", \"10/19\", \"11/19\", \"12/19\", \"01/20\", \"02/20\", \"03/20\", \"04/20\", \"05/20\", \"06/20\", \"07/20\", \"08/20\", \"09/20\", \"10/20\", \"11/20\", \"12/20\", \"01/21\", \"02/21\", \"03/21\", \"04/21\", \"05/21\", \"06/21\", \"07/21\", \"08/21\", \"09/21\", \"10/21\", \"11/21\", \"12/21\", \"01/22\", \"02/22\", \"03/22\", \"04/22\", \"05/22\", \"06/22\", \"07/22\", \"08/22\", \"09/22\", \"10/22\", \"11/22\", \"12/22\"]}, \"y\": {\"type\": \"quantitative\", \"field\": \"Fitted Mean NDVI\", \"title\": \"Mean NDVI\"}}}, {\"data\": {\"name\": \"data-913d645df6d7cb04fafa924542122ce3\"}, \"mark\": {\"type\": \"circle\", \"color\": \"red\", \"size\": 50}, \"encoding\": {\"tooltip\": [{\"type\": \"nominal\", \"field\": \"Month\"}, {\"type\": \"nominal\", \"field\": \"Region\"}, {\"type\": \"quantitative\", \"field\": \"Fitted Mean NDVI\"}, {\"type\": \"quantitative\", \"field\": \"Residual\"}], \"x\": {\"type\": \"ordinal\", \"field\": \"Month\", \"sort\": [\"01/19\", \"02/19\", \"03/19\", \"04/19\", \"05/19\", \"06/19\", \"07/19\", \"08/19\", \"09/19\", \"10/19\", \"11/19\", \"12/19\", \"01/20\", \"02/20\", \"03/20\", \"04/20\", \"05/20\", \"06/20\", \"07/20\", \"08/20\", \"09/20\", \"10/20\", \"11/20\", \"12/20\", \"01/21\", \"02/21\", \"03/21\", \"04/21\", \"05/21\", \"06/21\", \"07/21\", \"08/21\", \"09/21\", \"10/21\", \"11/21\", \"12/21\", \"01/22\", \"02/22\", \"03/22\", \"04/22\", \"05/22\", \"06/22\", \"07/22\", \"08/22\", \"09/22\", \"10/22\", \"11/22\", \"12/22\"]}, \"y\": {\"type\": \"quantitative\", \"field\": \"Fitted Mean NDVI\", \"title\": \"Mean NDVI\"}}}, {\"data\": {\"name\": \"data-af17fb00603506eec0702e5630e096ed\"}, \"mark\": \"rule\", \"encoding\": {\"x\": {\"type\": \"ordinal\", \"field\": \"Month\", \"sort\": [\"01/19\", \"02/19\", \"03/19\", \"04/19\", \"05/19\", \"06/19\", \"07/19\", \"08/19\", \"09/19\", \"10/19\", \"11/19\", \"12/19\", \"01/20\", \"02/20\", \"03/20\", \"04/20\", \"05/20\", \"06/20\", \"07/20\", \"08/20\", \"09/20\", \"10/20\", \"11/20\", \"12/20\", \"01/21\", \"02/21\", \"03/21\", \"04/21\", \"05/21\", \"06/21\", \"07/21\", \"08/21\", \"09/21\", \"10/21\", \"11/21\", \"12/21\", \"01/22\", \"02/22\", \"03/22\", \"04/22\", \"05/22\", \"06/22\", \"07/22\", \"08/22\", \"09/22\", \"10/22\", \"11/22\", \"12/22\"]}}}, {\"data\": {\"name\": \"data-579f69c590188c87ad94e04f14f605c0\"}, \"mark\": {\"type\": \"line\", \"color\": \"red\"}, \"encoding\": {\"x\": {\"type\": \"ordinal\", \"field\": \"Month\", \"sort\": [\"01/19\", \"02/19\", \"03/19\", \"04/19\", \"05/19\", \"06/19\", \"07/19\", \"08/19\", \"09/19\", \"10/19\", \"11/19\", \"12/19\", \"01/20\", \"02/20\", \"03/20\", \"04/20\", \"05/20\", \"06/20\", \"07/20\", \"08/20\", \"09/20\", \"10/20\", \"11/20\", \"12/20\", \"01/21\", \"02/21\", \"03/21\", \"04/21\", \"05/21\", \"06/21\", \"07/21\", \"08/21\", \"09/21\", \"10/21\", \"11/21\", \"12/21\", \"01/22\", \"02/22\", \"03/22\", \"04/22\", \"05/22\", \"06/22\", \"07/22\", \"08/22\", \"09/22\", \"10/22\", \"11/22\", \"12/22\"]}, \"y\": {\"type\": \"quantitative\", \"field\": \"Predicted Mean NDVI\", \"title\": \"Mean NDVI\"}}}, {\"data\": {\"name\": \"data-579f69c590188c87ad94e04f14f605c0\"}, \"mark\": {\"type\": \"circle\", \"color\": \"red\", \"size\": 50}, \"encoding\": {\"tooltip\": [{\"type\": \"nominal\", \"field\": \"Month\"}, {\"type\": \"nominal\", \"field\": \"Region\"}, {\"type\": \"quantitative\", \"field\": \"Predicted Mean NDVI\"}], \"x\": {\"type\": \"ordinal\", \"field\": \"Month\", \"sort\": [\"01/19\", \"02/19\", \"03/19\", \"04/19\", \"05/19\", \"06/19\", \"07/19\", \"08/19\", \"09/19\", \"10/19\", \"11/19\", \"12/19\", \"01/20\", \"02/20\", \"03/20\", \"04/20\", \"05/20\", \"06/20\", \"07/20\", \"08/20\", \"09/20\", \"10/20\", \"11/20\", \"12/20\", \"01/21\", \"02/21\", \"03/21\", \"04/21\", \"05/21\", \"06/21\", \"07/21\", \"08/21\", \"09/21\", \"10/21\", \"11/21\", \"12/21\", \"01/22\", \"02/22\", \"03/22\", \"04/22\", \"05/22\", \"06/22\", \"07/22\", \"08/22\", \"09/22\", \"10/22\", \"11/22\", \"12/22\"]}, \"y\": {\"type\": \"quantitative\", \"field\": \"Predicted Mean NDVI\", \"title\": \"Mean NDVI\"}}}], \"height\": 250, \"title\": \"Masoala Monthly Mean NDVI\", \"width\": 400}, {\"layer\": [{\"mark\": {\"type\": \"line\", \"color\": \"#17becf\"}, \"encoding\": {\"x\": {\"type\": \"ordinal\", \"field\": \"Month\", \"sort\": [\"01/19\", \"02/19\", \"03/19\", \"04/19\", \"05/19\", \"06/19\", \"07/19\", \"08/19\", \"09/19\", \"10/19\", \"11/19\", \"12/19\", \"01/20\", \"02/20\", \"03/20\", \"04/20\", \"05/20\", \"06/20\", \"07/20\", \"08/20\", \"09/20\", \"10/20\", \"11/20\", \"12/20\", \"01/21\", \"02/21\", \"03/21\", \"04/21\", \"05/21\", \"06/21\", \"07/21\", \"08/21\", \"09/21\", \"10/21\"]}, \"y\": {\"type\": \"quantitative\", \"field\": \"Residual\"}}}, {\"mark\": {\"type\": \"circle\", \"color\": \"#17becf\", \"size\": 50}, \"encoding\": {\"tooltip\": [{\"type\": \"nominal\", \"field\": \"Month\"}, {\"type\": \"nominal\", \"field\": \"Region\"}, {\"type\": \"quantitative\", \"field\": \"Residual\"}], \"x\": {\"type\": \"ordinal\", \"field\": \"Month\", \"sort\": [\"01/19\", \"02/19\", \"03/19\", \"04/19\", \"05/19\", \"06/19\", \"07/19\", \"08/19\", \"09/19\", \"10/19\", \"11/19\", \"12/19\", \"01/20\", \"02/20\", \"03/20\", \"04/20\", \"05/20\", \"06/20\", \"07/20\", \"08/20\", \"09/20\", \"10/20\", \"11/20\", \"12/20\", \"01/21\", \"02/21\", \"03/21\", \"04/21\", \"05/21\", \"06/21\", \"07/21\", \"08/21\", \"09/21\", \"10/21\"]}, \"y\": {\"type\": \"quantitative\", \"field\": \"Residual\"}}}], \"data\": {\"name\": \"data-913d645df6d7cb04fafa924542122ce3\"}, \"height\": 250, \"title\": \"Masoala Detrended Monthly Mean NDVI\", \"width\": 400}]}, {\"hconcat\": [{\"layer\": [{\"data\": {\"name\": \"data-3333cc86a4353d3e6fba7a857d549bfa\"}, \"mark\": {\"type\": \"line\", \"color\": \"#D159F2\"}, \"encoding\": {\"x\": {\"type\": \"ordinal\", \"field\": \"Month\", \"sort\": [\"01/19\", \"02/19\", \"03/19\", \"04/19\", \"05/19\", \"06/19\", \"07/19\", \"08/19\", \"09/19\", \"10/19\", \"11/19\", \"12/19\", \"01/20\", \"02/20\", \"03/20\", \"04/20\", \"05/20\", \"06/20\", \"07/20\", \"08/20\", \"09/20\", \"10/20\", \"11/20\", \"12/20\", \"01/21\", \"02/21\", \"03/21\", \"04/21\", \"05/21\", \"06/21\", \"07/21\", \"08/21\", \"09/21\", \"10/21\", \"11/21\", \"12/21\", \"01/22\", \"02/22\", \"03/22\", \"04/22\", \"05/22\", \"06/22\", \"07/22\", \"08/22\", \"09/22\", \"10/22\", \"11/22\", \"12/22\"]}, \"y\": {\"type\": \"quantitative\", \"field\": \"Mean NDVI\"}}}, {\"data\": {\"name\": \"data-3333cc86a4353d3e6fba7a857d549bfa\"}, \"mark\": {\"type\": \"circle\", \"color\": \"#D159F2\", \"size\": 50}, \"encoding\": {\"tooltip\": [{\"type\": \"nominal\", \"field\": \"Month\"}, {\"type\": \"nominal\", \"field\": \"Region\"}, {\"type\": \"quantitative\", \"field\": \"Mean NDVI\"}], \"x\": {\"type\": \"ordinal\", \"field\": \"Month\", \"sort\": [\"01/19\", \"02/19\", \"03/19\", \"04/19\", \"05/19\", \"06/19\", \"07/19\", \"08/19\", \"09/19\", \"10/19\", \"11/19\", \"12/19\", \"01/20\", \"02/20\", \"03/20\", \"04/20\", \"05/20\", \"06/20\", \"07/20\", \"08/20\", \"09/20\", \"10/20\", \"11/20\", \"12/20\", \"01/21\", \"02/21\", \"03/21\", \"04/21\", \"05/21\", \"06/21\", \"07/21\", \"08/21\", \"09/21\", \"10/21\", \"11/21\", \"12/21\", \"01/22\", \"02/22\", \"03/22\", \"04/22\", \"05/22\", \"06/22\", \"07/22\", \"08/22\", \"09/22\", \"10/22\", \"11/22\", \"12/22\"]}, \"y\": {\"type\": \"quantitative\", \"field\": \"Mean NDVI\"}}}, {\"data\": {\"name\": \"data-3333cc86a4353d3e6fba7a857d549bfa\"}, \"mark\": {\"type\": \"line\", \"color\": \"red\"}, \"encoding\": {\"x\": {\"type\": \"ordinal\", \"field\": \"Month\", \"sort\": [\"01/19\", \"02/19\", \"03/19\", \"04/19\", \"05/19\", \"06/19\", \"07/19\", \"08/19\", \"09/19\", \"10/19\", \"11/19\", \"12/19\", \"01/20\", \"02/20\", \"03/20\", \"04/20\", \"05/20\", \"06/20\", \"07/20\", \"08/20\", \"09/20\", \"10/20\", \"11/20\", \"12/20\", \"01/21\", \"02/21\", \"03/21\", \"04/21\", \"05/21\", \"06/21\", \"07/21\", \"08/21\", \"09/21\", \"10/21\", \"11/21\", \"12/21\", \"01/22\", \"02/22\", \"03/22\", \"04/22\", \"05/22\", \"06/22\", \"07/22\", \"08/22\", \"09/22\", \"10/22\", \"11/22\", \"12/22\"]}, \"y\": {\"type\": \"quantitative\", \"field\": \"Fitted Mean NDVI\", \"title\": \"Mean NDVI\"}}}, {\"data\": {\"name\": \"data-3333cc86a4353d3e6fba7a857d549bfa\"}, \"mark\": {\"type\": \"circle\", \"color\": \"red\", \"size\": 50}, \"encoding\": {\"tooltip\": [{\"type\": \"nominal\", \"field\": \"Month\"}, {\"type\": \"nominal\", \"field\": \"Region\"}, {\"type\": \"quantitative\", \"field\": \"Fitted Mean NDVI\"}, {\"type\": \"quantitative\", \"field\": \"Residual\"}], \"x\": {\"type\": \"ordinal\", \"field\": \"Month\", \"sort\": [\"01/19\", \"02/19\", \"03/19\", \"04/19\", \"05/19\", \"06/19\", \"07/19\", \"08/19\", \"09/19\", \"10/19\", \"11/19\", \"12/19\", \"01/20\", \"02/20\", \"03/20\", \"04/20\", \"05/20\", \"06/20\", \"07/20\", \"08/20\", \"09/20\", \"10/20\", \"11/20\", \"12/20\", \"01/21\", \"02/21\", \"03/21\", \"04/21\", \"05/21\", \"06/21\", \"07/21\", \"08/21\", \"09/21\", \"10/21\", \"11/21\", \"12/21\", \"01/22\", \"02/22\", \"03/22\", \"04/22\", \"05/22\", \"06/22\", \"07/22\", \"08/22\", \"09/22\", \"10/22\", \"11/22\", \"12/22\"]}, \"y\": {\"type\": \"quantitative\", \"field\": \"Fitted Mean NDVI\", \"title\": \"Mean NDVI\"}}}, {\"data\": {\"name\": \"data-af17fb00603506eec0702e5630e096ed\"}, \"mark\": \"rule\", \"encoding\": {\"x\": {\"type\": \"ordinal\", \"field\": \"Month\", \"sort\": [\"01/19\", \"02/19\", \"03/19\", \"04/19\", \"05/19\", \"06/19\", \"07/19\", \"08/19\", \"09/19\", \"10/19\", \"11/19\", \"12/19\", \"01/20\", \"02/20\", \"03/20\", \"04/20\", \"05/20\", \"06/20\", \"07/20\", \"08/20\", \"09/20\", \"10/20\", \"11/20\", \"12/20\", \"01/21\", \"02/21\", \"03/21\", \"04/21\", \"05/21\", \"06/21\", \"07/21\", \"08/21\", \"09/21\", \"10/21\", \"11/21\", \"12/21\", \"01/22\", \"02/22\", \"03/22\", \"04/22\", \"05/22\", \"06/22\", \"07/22\", \"08/22\", \"09/22\", \"10/22\", \"11/22\", \"12/22\"]}}}, {\"data\": {\"name\": \"data-94ab03db8efda0c7db69f59ba18d0205\"}, \"mark\": {\"type\": \"line\", \"color\": \"red\"}, \"encoding\": {\"x\": {\"type\": \"ordinal\", \"field\": \"Month\", \"sort\": [\"01/19\", \"02/19\", \"03/19\", \"04/19\", \"05/19\", \"06/19\", \"07/19\", \"08/19\", \"09/19\", \"10/19\", \"11/19\", \"12/19\", \"01/20\", \"02/20\", \"03/20\", \"04/20\", \"05/20\", \"06/20\", \"07/20\", \"08/20\", \"09/20\", \"10/20\", \"11/20\", \"12/20\", \"01/21\", \"02/21\", \"03/21\", \"04/21\", \"05/21\", \"06/21\", \"07/21\", \"08/21\", \"09/21\", \"10/21\", \"11/21\", \"12/21\", \"01/22\", \"02/22\", \"03/22\", \"04/22\", \"05/22\", \"06/22\", \"07/22\", \"08/22\", \"09/22\", \"10/22\", \"11/22\", \"12/22\"]}, \"y\": {\"type\": \"quantitative\", \"field\": \"Predicted Mean NDVI\", \"title\": \"Mean NDVI\"}}}, {\"data\": {\"name\": \"data-94ab03db8efda0c7db69f59ba18d0205\"}, \"mark\": {\"type\": \"circle\", \"color\": \"red\", \"size\": 50}, \"encoding\": {\"tooltip\": [{\"type\": \"nominal\", \"field\": \"Month\"}, {\"type\": \"nominal\", \"field\": \"Region\"}, {\"type\": \"quantitative\", \"field\": \"Predicted Mean NDVI\"}], \"x\": {\"type\": \"ordinal\", \"field\": \"Month\", \"sort\": [\"01/19\", \"02/19\", \"03/19\", \"04/19\", \"05/19\", \"06/19\", \"07/19\", \"08/19\", \"09/19\", \"10/19\", \"11/19\", \"12/19\", \"01/20\", \"02/20\", \"03/20\", \"04/20\", \"05/20\", \"06/20\", \"07/20\", \"08/20\", \"09/20\", \"10/20\", \"11/20\", \"12/20\", \"01/21\", \"02/21\", \"03/21\", \"04/21\", \"05/21\", \"06/21\", \"07/21\", \"08/21\", \"09/21\", \"10/21\", \"11/21\", \"12/21\", \"01/22\", \"02/22\", \"03/22\", \"04/22\", \"05/22\", \"06/22\", \"07/22\", \"08/22\", \"09/22\", \"10/22\", \"11/22\", \"12/22\"]}, \"y\": {\"type\": \"quantitative\", \"field\": \"Predicted Mean NDVI\", \"title\": \"Mean NDVI\"}}}], \"height\": 250, \"title\": \"Alan'Ankirisa Monthly Mean NDVI\", \"width\": 400}, {\"layer\": [{\"mark\": {\"type\": \"line\", \"color\": \"#D159F2\"}, \"encoding\": {\"x\": {\"type\": \"ordinal\", \"field\": \"Month\", \"sort\": [\"01/19\", \"02/19\", \"03/19\", \"04/19\", \"05/19\", \"06/19\", \"07/19\", \"08/19\", \"09/19\", \"10/19\", \"11/19\", \"12/19\", \"01/20\", \"02/20\", \"03/20\", \"04/20\", \"05/20\", \"06/20\", \"07/20\", \"08/20\", \"09/20\", \"10/20\", \"11/20\", \"12/20\", \"01/21\", \"02/21\", \"03/21\", \"04/21\", \"05/21\", \"06/21\", \"07/21\", \"08/21\", \"09/21\", \"10/21\"]}, \"y\": {\"type\": \"quantitative\", \"field\": \"Residual\"}}}, {\"mark\": {\"type\": \"circle\", \"color\": \"#D159F2\", \"size\": 50}, \"encoding\": {\"tooltip\": [{\"type\": \"nominal\", \"field\": \"Month\"}, {\"type\": \"nominal\", \"field\": \"Region\"}, {\"type\": \"quantitative\", \"field\": \"Residual\"}], \"x\": {\"type\": \"ordinal\", \"field\": \"Month\", \"sort\": [\"01/19\", \"02/19\", \"03/19\", \"04/19\", \"05/19\", \"06/19\", \"07/19\", \"08/19\", \"09/19\", \"10/19\", \"11/19\", \"12/19\", \"01/20\", \"02/20\", \"03/20\", \"04/20\", \"05/20\", \"06/20\", \"07/20\", \"08/20\", \"09/20\", \"10/20\", \"11/20\", \"12/20\", \"01/21\", \"02/21\", \"03/21\", \"04/21\", \"05/21\", \"06/21\", \"07/21\", \"08/21\", \"09/21\", \"10/21\"]}, \"y\": {\"type\": \"quantitative\", \"field\": \"Residual\"}}}], \"data\": {\"name\": \"data-3333cc86a4353d3e6fba7a857d549bfa\"}, \"height\": 250, \"title\": \"Alan'Ankirisa Detrended Monthly Mean NDVI\", \"width\": 400}]}], \"$schema\": \"https://vega.github.io/schema/vega-lite/v4.8.1.json\", \"datasets\": {\"data-2371ec1942c2fc9d0e1642eef5afec80\": [{\"Month\": \"01/19\", \"Years Since Epoch (t)\": 49.039, \"Max NDVI\": 0.977, \"Mean NDVI\": 0.764, \"Min NDVI\": -0.472, \"Region\": \"d'Andohahela\", \"cos\": 0.9701265964901047, \"sin\": 0.242599230795412, \"Fitted Mean NDVI\": 0.737, \"Residual\": 0.027}, {\"Month\": \"02/19\", \"Years Since Epoch (t)\": 49.124, \"Max NDVI\": 0.998, \"Mean NDVI\": 0.766, \"Min NDVI\": -0.673, \"Region\": \"d'Andohahela\", \"cos\": 0.7115356772092729, \"sin\": 0.7026499697988617, \"Fitted Mean NDVI\": 0.762, \"Residual\": 0.004}, {\"Month\": \"03/19\", \"Years Since Epoch (t)\": 49.2, \"Max NDVI\": 0.999, \"Mean NDVI\": 0.803, \"Min NDVI\": -0.544, \"Region\": \"d'Andohahela\", \"cos\": 0.3090169943749183, \"sin\": 0.9510565162951631, \"Fitted Mean NDVI\": 0.782, \"Residual\": 0.021}, {\"Month\": \"04/19\", \"Years Since Epoch (t)\": 49.285, \"Max NDVI\": 0.999, \"Mean NDVI\": 0.781, \"Min NDVI\": -0.543, \"Region\": \"d'Andohahela\", \"cos\": -0.21814324139652955, \"sin\": 0.9759167619387503, \"Fitted Mean NDVI\": 0.795, \"Residual\": -0.014}, {\"Month\": \"05/19\", \"Years Since Epoch (t)\": 49.367, \"Max NDVI\": 1.0, \"Mean NDVI\": 0.797, \"Min NDVI\": -0.722, \"Region\": \"d'Andohahela\", \"cos\": -0.6706855765366916, \"sin\": 0.741741772738765, \"Fitted Mean NDVI\": 0.796, \"Residual\": 0.001}, {\"Month\": \"06/19\", \"Years Since Epoch (t)\": 49.452, \"Max NDVI\": 0.999, \"Mean NDVI\": 0.757, \"Min NDVI\": -0.951, \"Region\": \"d'Andohahela\", \"cos\": -0.9548645447466354, \"sin\": 0.29704158157705907, \"Fitted Mean NDVI\": 0.783, \"Residual\": -0.026}, {\"Month\": \"07/19\", \"Years Since Epoch (t)\": 49.534, \"Max NDVI\": 0.999, \"Mean NDVI\": 0.771, \"Min NDVI\": -0.675, \"Region\": \"d'Andohahela\", \"cos\": -0.977268123568192, \"sin\": -0.21200710992206104, \"Fitted Mean NDVI\": 0.76, \"Residual\": 0.011}, {\"Month\": \"08/19\", \"Years Since Epoch (t)\": 49.619, \"Max NDVI\": 0.997, \"Mean NDVI\": 0.726, \"Min NDVI\": -0.521, \"Region\": \"d'Andohahela\", \"cos\": -0.7332553462225855, \"sin\": -0.6799533787223918, \"Fitted Mean NDVI\": 0.732, \"Residual\": -0.006}, {\"Month\": \"09/19\", \"Years Since Epoch (t)\": 49.704, \"Max NDVI\": 0.948, \"Mean NDVI\": 0.71, \"Min NDVI\": -0.371, \"Region\": \"d'Andohahela\", \"cos\": -0.28501926246999953, \"sin\": -0.958521789017369, \"Fitted Mean NDVI\": 0.707, \"Residual\": 0.003}, {\"Month\": \"10/19\", \"Years Since Epoch (t)\": 49.786, \"Max NDVI\": 0.925, \"Mean NDVI\": 0.687, \"Min NDVI\": -0.453, \"Region\": \"d'Andohahela\", \"cos\": 0.22427076094938847, \"sin\": -0.9745268727865755, \"Fitted Mean NDVI\": 0.691, \"Residual\": -0.004}, {\"Month\": \"11/19\", \"Years Since Epoch (t)\": 49.871, \"Max NDVI\": 0.933, \"Mean NDVI\": 0.704, \"Min NDVI\": -0.448, \"Region\": \"d'Andohahela\", \"cos\": 0.6891138083873632, \"sin\": -0.7246531301870326, \"Fitted Mean NDVI\": 0.687, \"Residual\": 0.017}, {\"Month\": \"12/19\", \"Years Since Epoch (t)\": 49.953, \"Max NDVI\": 0.951, \"Mean NDVI\": 0.74, \"Min NDVI\": -0.491, \"Region\": \"d'Andohahela\", \"cos\": 0.9567120515588292, \"sin\": -0.2910361668282762, \"Fitted Mean NDVI\": 0.697, \"Residual\": 0.043}, {\"Month\": \"01/20\", \"Years Since Epoch (t)\": 50.038, \"Max NDVI\": 0.945, \"Mean NDVI\": 0.709, \"Min NDVI\": -0.402, \"Region\": \"d'Andohahela\", \"cos\": 0.9716317329146854, \"sin\": 0.23649899702367763, \"Fitted Mean NDVI\": 0.718, \"Residual\": -0.009}, {\"Month\": \"02/20\", \"Years Since Epoch (t)\": 50.123, \"Max NDVI\": 0.995, \"Mean NDVI\": 0.7, \"Min NDVI\": -0.984, \"Region\": \"d'Andohahela\", \"cos\": 0.715936483021856, \"sin\": 0.6981654189934473, \"Fitted Mean NDVI\": 0.743, \"Residual\": -0.043}, {\"Month\": \"03/20\", \"Years Since Epoch (t)\": 50.202, \"Max NDVI\": 0.965, \"Mean NDVI\": 0.719, \"Min NDVI\": -0.603, \"Region\": \"d'Andohahela\", \"cos\": 0.29704158157707455, \"sin\": 0.9548645447466306, \"Fitted Mean NDVI\": 0.764, \"Residual\": -0.045}, {\"Month\": \"04/20\", \"Years Since Epoch (t)\": 50.287, \"Max NDVI\": 0.999, \"Mean NDVI\": 0.801, \"Min NDVI\": -0.58, \"Region\": \"d'Andohahela\", \"cos\": -0.23038942667656281, \"sin\": 0.9730985109821332, \"Fitted Mean NDVI\": 0.777, \"Residual\": 0.024}, {\"Month\": \"05/20\", \"Years Since Epoch (t)\": 50.369, \"Max NDVI\": 0.999, \"Mean NDVI\": 0.778, \"Min NDVI\": -0.487, \"Region\": \"d'Andohahela\", \"cos\": -0.6799533787224217, \"sin\": 0.7332553462225577, \"Fitted Mean NDVI\": 0.778, \"Residual\": 0.0}, {\"Month\": \"06/20\", \"Years Since Epoch (t)\": 50.454, \"Max NDVI\": 0.999, \"Mean NDVI\": 0.758, \"Min NDVI\": -0.48, \"Region\": \"d'Andohahela\", \"cos\": -0.9585217890173805, \"sin\": 0.28501926246996057, \"Fitted Mean NDVI\": 0.764, \"Residual\": -0.006}, {\"Month\": \"07/20\", \"Years Since Epoch (t)\": 50.536, \"Max NDVI\": 0.999, \"Mean NDVI\": 0.744, \"Min NDVI\": -0.427, \"Region\": \"d'Andohahela\", \"cos\": -0.9745268727865791, \"sin\": -0.2242707609493727, \"Fitted Mean NDVI\": 0.741, \"Residual\": 0.003}, {\"Month\": \"08/20\", \"Years Since Epoch (t)\": 50.621, \"Max NDVI\": 0.998, \"Mean NDVI\": 0.69, \"Min NDVI\": -0.405, \"Region\": \"d'Andohahela\", \"cos\": -0.7246531301870436, \"sin\": -0.6891138083873516, \"Fitted Mean NDVI\": 0.713, \"Residual\": -0.023}, {\"Month\": \"09/20\", \"Years Since Epoch (t)\": 50.706, \"Max NDVI\": 0.932, \"Mean NDVI\": 0.671, \"Min NDVI\": -0.427, \"Region\": \"d'Andohahela\", \"cos\": -0.2729519355173087, \"sin\": -0.9620276715860906, \"Fitted Mean NDVI\": 0.688, \"Residual\": -0.017}, {\"Month\": \"10/20\", \"Years Since Epoch (t)\": 50.788, \"Max NDVI\": 0.916, \"Mean NDVI\": 0.655, \"Min NDVI\": -0.378, \"Region\": \"d'Andohahela\", \"cos\": 0.23649899702371716, \"sin\": -0.9716317329146757, \"Fitted Mean NDVI\": 0.672, \"Residual\": -0.017}, {\"Month\": \"11/20\", \"Years Since Epoch (t)\": 50.873, \"Max NDVI\": 0.939, \"Mean NDVI\": 0.673, \"Min NDVI\": -0.306, \"Region\": \"d'Andohahela\", \"cos\": 0.6981654189934356, \"sin\": -0.7159364830218673, \"Fitted Mean NDVI\": 0.669, \"Residual\": 0.004}, {\"Month\": \"12/20\", \"Years Since Epoch (t)\": 50.955, \"Max NDVI\": 0.956, \"Mean NDVI\": 0.679, \"Min NDVI\": -0.269, \"Region\": \"d'Andohahela\", \"cos\": 0.9602936856769375, \"sin\": -0.2789911060392482, \"Fitted Mean NDVI\": 0.68, \"Residual\": -0.001}, {\"Month\": \"01/21\", \"Years Since Epoch (t)\": 51.04, \"Max NDVI\": 0.989, \"Mean NDVI\": 0.696, \"Min NDVI\": -0.471, \"Region\": \"d'Andohahela\", \"cos\": 0.9685831611286329, \"sin\": 0.2486898871648482, \"Fitted Mean NDVI\": 0.701, \"Residual\": -0.005}, {\"Month\": \"02/21\", \"Years Since Epoch (t)\": 51.125, \"Max NDVI\": 0.975, \"Mean NDVI\": 0.714, \"Min NDVI\": -0.435, \"Region\": \"d'Andohahela\", \"cos\": 0.7071067811865432, \"sin\": 0.7071067811865519, \"Fitted Mean NDVI\": 0.726, \"Residual\": -0.012}, {\"Month\": \"03/21\", \"Years Since Epoch (t)\": 51.202, \"Max NDVI\": 0.999, \"Mean NDVI\": 0.762, \"Min NDVI\": -0.491, \"Region\": \"d'Andohahela\", \"cos\": 0.29704158157704086, \"sin\": 0.9548645447466411, \"Fitted Mean NDVI\": 0.746, \"Residual\": 0.016}, {\"Month\": \"04/21\", \"Years Since Epoch (t)\": 51.286, \"Max NDVI\": 0.999, \"Mean NDVI\": 0.773, \"Min NDVI\": -0.507, \"Region\": \"d'Andohahela\", \"cos\": -0.22427076094935697, \"sin\": 0.9745268727865827, \"Fitted Mean NDVI\": 0.759, \"Residual\": 0.014}, {\"Month\": \"05/21\", \"Years Since Epoch (t)\": 51.369, \"Max NDVI\": 0.999, \"Mean NDVI\": 0.751, \"Min NDVI\": -0.459, \"Region\": \"d'Andohahela\", \"cos\": -0.6799533787224058, \"sin\": 0.7332553462225724, \"Fitted Mean NDVI\": 0.759, \"Residual\": -0.008}, {\"Month\": \"06/21\", \"Years Since Epoch (t)\": 51.453, \"Max NDVI\": 1.0, \"Mean NDVI\": 0.768, \"Min NDVI\": -0.958, \"Region\": \"d'Andohahela\", \"cos\": -0.9567120515588363, \"sin\": 0.29103616682825273, \"Fitted Mean NDVI\": 0.746, \"Residual\": 0.022}, {\"Month\": \"07/21\", \"Years Since Epoch (t)\": 51.536, \"Max NDVI\": 1.0, \"Mean NDVI\": 0.758, \"Min NDVI\": -0.99, \"Region\": \"d'Andohahela\", \"cos\": -0.9745268727865839, \"sin\": -0.22427076094935172, \"Fitted Mean NDVI\": 0.723, \"Residual\": 0.035}, {\"Month\": \"08/21\", \"Years Since Epoch (t)\": 51.62, \"Max NDVI\": 0.962, \"Mean NDVI\": 0.7, \"Min NDVI\": -0.4, \"Region\": \"d'Andohahela\", \"cos\": -0.7289686274214451, \"sin\": -0.684547105928653, \"Fitted Mean NDVI\": 0.695, \"Residual\": 0.005}, {\"Month\": \"09/21\", \"Years Since Epoch (t)\": 51.705, \"Max NDVI\": 0.938, \"Mean NDVI\": 0.68, \"Min NDVI\": -0.396, \"Region\": \"d'Andohahela\", \"cos\": -0.27899110603926375, \"sin\": -0.9602936856769331, \"Fitted Mean NDVI\": 0.67, \"Residual\": 0.01}, {\"Month\": \"10/21\", \"Years Since Epoch (t)\": 51.788, \"Max NDVI\": 0.934, \"Mean NDVI\": 0.632, \"Min NDVI\": -0.252, \"Region\": \"d'Andohahela\", \"cos\": 0.2364989970236962, \"sin\": -0.9716317329146809, \"Fitted Mean NDVI\": 0.654, \"Residual\": -0.022}], \"data-af17fb00603506eec0702e5630e096ed\": [{\"Month\": \"11/21\"}], \"data-b0fff6dbddc827b21943abb1b03046a9\": [{\"Month\": \"11/21\", \"Region\": \"d'Andohahela\", \"Predicted Mean NDVI\": 0.651}, {\"Month\": \"12/21\", \"Region\": \"d'Andohahela\", \"Predicted Mean NDVI\": 0.662}, {\"Month\": \"01/22\", \"Region\": \"d'Andohahela\", \"Predicted Mean NDVI\": 0.682}, {\"Month\": \"02/22\", \"Region\": \"d'Andohahela\", \"Predicted Mean NDVI\": 0.707}, {\"Month\": \"03/22\", \"Region\": \"d'Andohahela\", \"Predicted Mean NDVI\": 0.727}, {\"Month\": \"04/22\", \"Region\": \"d'Andohahela\", \"Predicted Mean NDVI\": 0.741}, {\"Month\": \"05/22\", \"Region\": \"d'Andohahela\", \"Predicted Mean NDVI\": 0.741}, {\"Month\": \"06/22\", \"Region\": \"d'Andohahela\", \"Predicted Mean NDVI\": 0.728}, {\"Month\": \"07/22\", \"Region\": \"d'Andohahela\", \"Predicted Mean NDVI\": 0.705}, {\"Month\": \"08/22\", \"Region\": \"d'Andohahela\", \"Predicted Mean NDVI\": 0.677}, {\"Month\": \"09/22\", \"Region\": \"d'Andohahela\", \"Predicted Mean NDVI\": 0.652}, {\"Month\": \"10/22\", \"Region\": \"d'Andohahela\", \"Predicted Mean NDVI\": 0.636}, {\"Month\": \"11/22\", \"Region\": \"d'Andohahela\", \"Predicted Mean NDVI\": 0.633}, {\"Month\": \"12/22\", \"Region\": \"d'Andohahela\", \"Predicted Mean NDVI\": 0.643}], \"data-7e849118305a3476d90c41f65eca46a1\": [{\"Month\": \"01/19\", \"Years Since Epoch (t)\": 49.039, \"Max NDVI\": 0.999, \"Mean NDVI\": 0.791, \"Min NDVI\": -0.869, \"Region\": \"Midongy Betofaka\", \"cos\": 0.9701265964901047, \"sin\": 0.242599230795412, \"Fitted Mean NDVI\": 0.772, \"Residual\": 0.019}, {\"Month\": \"02/19\", \"Years Since Epoch (t)\": 49.124, \"Max NDVI\": 0.997, \"Mean NDVI\": 0.774, \"Min NDVI\": -0.614, \"Region\": \"Midongy Betofaka\", \"cos\": 0.7115356772092729, \"sin\": 0.7026499697988617, \"Fitted Mean NDVI\": 0.796, \"Residual\": -0.022}, {\"Month\": \"03/19\", \"Years Since Epoch (t)\": 49.2, \"Max NDVI\": 0.995, \"Mean NDVI\": 0.815, \"Min NDVI\": -0.996, \"Region\": \"Midongy Betofaka\", \"cos\": 0.3090169943749183, \"sin\": 0.9510565162951631, \"Fitted Mean NDVI\": 0.816, \"Residual\": -0.001}, {\"Month\": \"04/19\", \"Years Since Epoch (t)\": 49.285, \"Max NDVI\": 0.996, \"Mean NDVI\": 0.825, \"Min NDVI\": -0.705, \"Region\": \"Midongy Betofaka\", \"cos\": -0.21814324139652955, \"sin\": 0.9759167619387503, \"Fitted Mean NDVI\": 0.829, \"Residual\": -0.004}, {\"Month\": \"05/19\", \"Years Since Epoch (t)\": 49.367, \"Max NDVI\": 0.999, \"Mean NDVI\": 0.835, \"Min NDVI\": -0.98, \"Region\": \"Midongy Betofaka\", \"cos\": -0.6706855765366916, \"sin\": 0.741741772738765, \"Fitted Mean NDVI\": 0.83, \"Residual\": 0.005}, {\"Month\": \"06/19\", \"Years Since Epoch (t)\": 49.452, \"Max NDVI\": 0.999, \"Mean NDVI\": 0.813, \"Min NDVI\": -0.976, \"Region\": \"Midongy Betofaka\", \"cos\": -0.9548645447466354, \"sin\": 0.29704158157705907, \"Fitted Mean NDVI\": 0.818, \"Residual\": -0.005}, {\"Month\": \"07/19\", \"Years Since Epoch (t)\": 49.534, \"Max NDVI\": 0.999, \"Mean NDVI\": 0.826, \"Min NDVI\": -0.99, \"Region\": \"Midongy Betofaka\", \"cos\": -0.977268123568192, \"sin\": -0.21200710992206104, \"Fitted Mean NDVI\": 0.797, \"Residual\": 0.029}, {\"Month\": \"08/19\", \"Years Since Epoch (t)\": 49.619, \"Max NDVI\": 0.962, \"Mean NDVI\": 0.778, \"Min NDVI\": -0.632, \"Region\": \"Midongy Betofaka\", \"cos\": -0.7332553462225855, \"sin\": -0.6799533787223918, \"Fitted Mean NDVI\": 0.772, \"Residual\": 0.006}, {\"Month\": \"09/19\", \"Years Since Epoch (t)\": 49.704, \"Max NDVI\": 0.911, \"Mean NDVI\": 0.721, \"Min NDVI\": -0.648, \"Region\": \"Midongy Betofaka\", \"cos\": -0.28501926246999953, \"sin\": -0.958521789017369, \"Fitted Mean NDVI\": 0.749, \"Residual\": -0.028}, {\"Month\": \"10/19\", \"Years Since Epoch (t)\": 49.786, \"Max NDVI\": 0.919, \"Mean NDVI\": 0.738, \"Min NDVI\": -0.87, \"Region\": \"Midongy Betofaka\", \"cos\": 0.22427076094938847, \"sin\": -0.9745268727865755, \"Fitted Mean NDVI\": 0.735, \"Residual\": 0.003}, {\"Month\": \"11/19\", \"Years Since Epoch (t)\": 49.871, \"Max NDVI\": 0.944, \"Mean NDVI\": 0.757, \"Min NDVI\": -0.974, \"Region\": \"Midongy Betofaka\", \"cos\": 0.6891138083873632, \"sin\": -0.7246531301870326, \"Fitted Mean NDVI\": 0.732, \"Residual\": 0.025}, {\"Month\": \"12/19\", \"Years Since Epoch (t)\": 49.953, \"Max NDVI\": 0.999, \"Mean NDVI\": 0.735, \"Min NDVI\": -0.768, \"Region\": \"Midongy Betofaka\", \"cos\": 0.9567120515588292, \"sin\": -0.2910361668282762, \"Fitted Mean NDVI\": 0.742, \"Residual\": -0.007}, {\"Month\": \"01/20\", \"Years Since Epoch (t)\": 50.038, \"Max NDVI\": 0.998, \"Mean NDVI\": 0.766, \"Min NDVI\": -0.56, \"Region\": \"Midongy Betofaka\", \"cos\": 0.9716317329146854, \"sin\": 0.23649899702367763, \"Fitted Mean NDVI\": 0.762, \"Residual\": 0.004}, {\"Month\": \"02/20\", \"Years Since Epoch (t)\": 50.123, \"Max NDVI\": 0.972, \"Mean NDVI\": 0.78, \"Min NDVI\": -0.979, \"Region\": \"Midongy Betofaka\", \"cos\": 0.715936483021856, \"sin\": 0.6981654189934473, \"Fitted Mean NDVI\": 0.787, \"Residual\": -0.007}, {\"Month\": \"03/20\", \"Years Since Epoch (t)\": 50.202, \"Max NDVI\": 1.0, \"Mean NDVI\": 0.809, \"Min NDVI\": -0.996, \"Region\": \"Midongy Betofaka\", \"cos\": 0.29704158157707455, \"sin\": 0.9548645447466306, \"Fitted Mean NDVI\": 0.806, \"Residual\": 0.003}, {\"Month\": \"04/20\", \"Years Since Epoch (t)\": 50.287, \"Max NDVI\": 0.999, \"Mean NDVI\": 0.788, \"Min NDVI\": -0.992, \"Region\": \"Midongy Betofaka\", \"cos\": -0.23038942667656281, \"sin\": 0.9730985109821332, \"Fitted Mean NDVI\": 0.819, \"Residual\": -0.031}, {\"Month\": \"05/20\", \"Years Since Epoch (t)\": 50.369, \"Max NDVI\": 0.999, \"Mean NDVI\": 0.819, \"Min NDVI\": -0.866, \"Region\": \"Midongy Betofaka\", \"cos\": -0.6799533787224217, \"sin\": 0.7332553462225577, \"Fitted Mean NDVI\": 0.82, \"Residual\": -0.001}, {\"Month\": \"06/20\", \"Years Since Epoch (t)\": 50.454, \"Max NDVI\": 0.999, \"Mean NDVI\": 0.801, \"Min NDVI\": -0.606, \"Region\": \"Midongy Betofaka\", \"cos\": -0.9585217890173805, \"sin\": 0.28501926246996057, \"Fitted Mean NDVI\": 0.808, \"Residual\": -0.007}, {\"Month\": \"07/20\", \"Years Since Epoch (t)\": 50.536, \"Max NDVI\": 0.999, \"Mean NDVI\": 0.797, \"Min NDVI\": -0.92, \"Region\": \"Midongy Betofaka\", \"cos\": -0.9745268727865791, \"sin\": -0.2242707609493727, \"Fitted Mean NDVI\": 0.787, \"Residual\": 0.01}, {\"Month\": \"08/20\", \"Years Since Epoch (t)\": 50.621, \"Max NDVI\": 0.999, \"Mean NDVI\": 0.765, \"Min NDVI\": -0.993, \"Region\": \"Midongy Betofaka\", \"cos\": -0.7246531301870436, \"sin\": -0.6891138083873516, \"Fitted Mean NDVI\": 0.762, \"Residual\": 0.003}, {\"Month\": \"09/20\", \"Years Since Epoch (t)\": 50.706, \"Max NDVI\": 0.905, \"Mean NDVI\": 0.714, \"Min NDVI\": -0.855, \"Region\": \"Midongy Betofaka\", \"cos\": -0.2729519355173087, \"sin\": -0.9620276715860906, \"Fitted Mean NDVI\": 0.739, \"Residual\": -0.025}, {\"Month\": \"10/20\", \"Years Since Epoch (t)\": 50.788, \"Max NDVI\": 0.915, \"Mean NDVI\": 0.729, \"Min NDVI\": -0.64, \"Region\": \"Midongy Betofaka\", \"cos\": 0.23649899702371716, \"sin\": -0.9716317329146757, \"Fitted Mean NDVI\": 0.725, \"Residual\": 0.004}, {\"Month\": \"11/20\", \"Years Since Epoch (t)\": 50.873, \"Max NDVI\": 0.92, \"Mean NDVI\": 0.718, \"Min NDVI\": -0.979, \"Region\": \"Midongy Betofaka\", \"cos\": 0.6981654189934356, \"sin\": -0.7159364830218673, \"Fitted Mean NDVI\": 0.723, \"Residual\": -0.005}, {\"Month\": \"12/20\", \"Years Since Epoch (t)\": 50.955, \"Max NDVI\": 0.929, \"Mean NDVI\": 0.727, \"Min NDVI\": -0.605, \"Region\": \"Midongy Betofaka\", \"cos\": 0.9602936856769375, \"sin\": -0.2789911060392482, \"Fitted Mean NDVI\": 0.733, \"Residual\": -0.006}, {\"Month\": \"01/21\", \"Years Since Epoch (t)\": 51.04, \"Max NDVI\": 0.96, \"Mean NDVI\": 0.786, \"Min NDVI\": -0.65, \"Region\": \"Midongy Betofaka\", \"cos\": 0.9685831611286329, \"sin\": 0.2486898871648482, \"Fitted Mean NDVI\": 0.753, \"Residual\": 0.033}, {\"Month\": \"02/21\", \"Years Since Epoch (t)\": 51.125, \"Max NDVI\": 0.999, \"Mean NDVI\": 0.782, \"Min NDVI\": -0.646, \"Region\": \"Midongy Betofaka\", \"cos\": 0.7071067811865432, \"sin\": 0.7071067811865519, \"Fitted Mean NDVI\": 0.777, \"Residual\": 0.005}, {\"Month\": \"03/21\", \"Years Since Epoch (t)\": 51.202, \"Max NDVI\": 0.999, \"Mean NDVI\": 0.792, \"Min NDVI\": -0.995, \"Region\": \"Midongy Betofaka\", \"cos\": 0.29704158157704086, \"sin\": 0.9548645447466411, \"Fitted Mean NDVI\": 0.797, \"Residual\": -0.005}, {\"Month\": \"04/21\", \"Years Since Epoch (t)\": 51.286, \"Max NDVI\": 0.998, \"Mean NDVI\": 0.815, \"Min NDVI\": -0.754, \"Region\": \"Midongy Betofaka\", \"cos\": -0.22427076094935697, \"sin\": 0.9745268727865827, \"Fitted Mean NDVI\": 0.81, \"Residual\": 0.005}, {\"Month\": \"05/21\", \"Years Since Epoch (t)\": 51.369, \"Max NDVI\": 0.999, \"Mean NDVI\": 0.806, \"Min NDVI\": -0.991, \"Region\": \"Midongy Betofaka\", \"cos\": -0.6799533787224058, \"sin\": 0.7332553462225724, \"Fitted Mean NDVI\": 0.811, \"Residual\": -0.005}, {\"Month\": \"06/21\", \"Years Since Epoch (t)\": 51.453, \"Max NDVI\": 1.0, \"Mean NDVI\": 0.815, \"Min NDVI\": -0.992, \"Region\": \"Midongy Betofaka\", \"cos\": -0.9567120515588363, \"sin\": 0.29103616682825273, \"Fitted Mean NDVI\": 0.799, \"Residual\": 0.016}, {\"Month\": \"07/21\", \"Years Since Epoch (t)\": 51.536, \"Max NDVI\": 0.999, \"Mean NDVI\": 0.787, \"Min NDVI\": -0.98, \"Region\": \"Midongy Betofaka\", \"cos\": -0.9745268727865839, \"sin\": -0.22427076094935172, \"Fitted Mean NDVI\": 0.778, \"Residual\": 0.009}, {\"Month\": \"08/21\", \"Years Since Epoch (t)\": 51.62, \"Max NDVI\": 0.99, \"Mean NDVI\": 0.752, \"Min NDVI\": -0.864, \"Region\": \"Midongy Betofaka\", \"cos\": -0.7289686274214451, \"sin\": -0.684547105928653, \"Fitted Mean NDVI\": 0.752, \"Residual\": -0.0}, {\"Month\": \"09/21\", \"Years Since Epoch (t)\": 51.705, \"Max NDVI\": 0.922, \"Mean NDVI\": 0.724, \"Min NDVI\": -0.924, \"Region\": \"Midongy Betofaka\", \"cos\": -0.27899110603926375, \"sin\": -0.9602936856769331, \"Fitted Mean NDVI\": 0.729, \"Residual\": -0.005}, {\"Month\": \"10/21\", \"Years Since Epoch (t)\": 51.788, \"Max NDVI\": 0.914, \"Mean NDVI\": 0.701, \"Min NDVI\": -0.984, \"Region\": \"Midongy Betofaka\", \"cos\": 0.2364989970236962, \"sin\": -0.9716317329146809, \"Fitted Mean NDVI\": 0.715, \"Residual\": -0.014}], \"data-e18beb9cdfd967a4497fef78071260ba\": [{\"Month\": \"11/21\", \"Region\": \"Midongy Betofaka\", \"Predicted Mean NDVI\": 0.713}, {\"Month\": \"12/21\", \"Region\": \"Midongy Betofaka\", \"Predicted Mean NDVI\": 0.724}, {\"Month\": \"01/22\", \"Region\": \"Midongy Betofaka\", \"Predicted Mean NDVI\": 0.744}, {\"Month\": \"02/22\", \"Region\": \"Midongy Betofaka\", \"Predicted Mean NDVI\": 0.768}, {\"Month\": \"03/22\", \"Region\": \"Midongy Betofaka\", \"Predicted Mean NDVI\": 0.787}, {\"Month\": \"04/22\", \"Region\": \"Midongy Betofaka\", \"Predicted Mean NDVI\": 0.8}, {\"Month\": \"05/22\", \"Region\": \"Midongy Betofaka\", \"Predicted Mean NDVI\": 0.801}, {\"Month\": \"06/22\", \"Region\": \"Midongy Betofaka\", \"Predicted Mean NDVI\": 0.789}, {\"Month\": \"07/22\", \"Region\": \"Midongy Betofaka\", \"Predicted Mean NDVI\": 0.768}, {\"Month\": \"08/22\", \"Region\": \"Midongy Betofaka\", \"Predicted Mean NDVI\": 0.743}, {\"Month\": \"09/22\", \"Region\": \"Midongy Betofaka\", \"Predicted Mean NDVI\": 0.72}, {\"Month\": \"10/22\", \"Region\": \"Midongy Betofaka\", \"Predicted Mean NDVI\": 0.706}, {\"Month\": \"11/22\", \"Region\": \"Midongy Betofaka\", \"Predicted Mean NDVI\": 0.704}, {\"Month\": \"12/22\", \"Region\": \"Midongy Betofaka\", \"Predicted Mean NDVI\": 0.714}], \"data-f9000aff718105717a6f739c40b41bee\": [{\"Month\": \"01/19\", \"Years Since Epoch (t)\": 49.039, \"Max NDVI\": 0.905, \"Mean NDVI\": 0.503, \"Min NDVI\": -0.861, \"Region\": \"Tsimanampetsotsa\", \"cos\": 0.9701265964901047, \"sin\": 0.242599230795412, \"Fitted Mean NDVI\": 0.426, \"Residual\": 0.077}, {\"Month\": \"02/19\", \"Years Since Epoch (t)\": 49.124, \"Max NDVI\": 0.921, \"Mean NDVI\": 0.52, \"Min NDVI\": -0.999, \"Region\": \"Tsimanampetsotsa\", \"cos\": 0.7115356772092729, \"sin\": 0.7026499697988617, \"Fitted Mean NDVI\": 0.468, \"Residual\": 0.052}, {\"Month\": \"03/19\", \"Years Since Epoch (t)\": 49.2, \"Max NDVI\": 0.92, \"Mean NDVI\": 0.516, \"Min NDVI\": -0.998, \"Region\": \"Tsimanampetsotsa\", \"cos\": 0.3090169943749183, \"sin\": 0.9510565162951631, \"Fitted Mean NDVI\": 0.492, \"Residual\": 0.024}, {\"Month\": \"04/19\", \"Years Since Epoch (t)\": 49.285, \"Max NDVI\": 0.937, \"Mean NDVI\": 0.459, \"Min NDVI\": -0.891, \"Region\": \"Tsimanampetsotsa\", \"cos\": -0.21814324139652955, \"sin\": 0.9759167619387503, \"Fitted Mean NDVI\": 0.496, \"Residual\": -0.037}, {\"Month\": \"05/19\", \"Years Since Epoch (t)\": 49.367, \"Max NDVI\": 0.925, \"Mean NDVI\": 0.436, \"Min NDVI\": -0.998, \"Region\": \"Tsimanampetsotsa\", \"cos\": -0.6706855765366916, \"sin\": 0.741741772738765, \"Fitted Mean NDVI\": 0.475, \"Residual\": -0.039}, {\"Month\": \"06/19\", \"Years Since Epoch (t)\": 49.452, \"Max NDVI\": 0.999, \"Mean NDVI\": 0.412, \"Min NDVI\": -0.999, \"Region\": \"Tsimanampetsotsa\", \"cos\": -0.9548645447466354, \"sin\": 0.29704158157705907, \"Fitted Mean NDVI\": 0.432, \"Residual\": -0.02}, {\"Month\": \"07/19\", \"Years Since Epoch (t)\": 49.534, \"Max NDVI\": 1.0, \"Mean NDVI\": 0.403, \"Min NDVI\": -0.999, \"Region\": \"Tsimanampetsotsa\", \"cos\": -0.977268123568192, \"sin\": -0.21200710992206104, \"Fitted Mean NDVI\": 0.38, \"Residual\": 0.023}, {\"Month\": \"08/19\", \"Years Since Epoch (t)\": 49.619, \"Max NDVI\": 0.999, \"Mean NDVI\": 0.314, \"Min NDVI\": -0.999, \"Region\": \"Tsimanampetsotsa\", \"cos\": -0.7332553462225855, \"sin\": -0.6799533787223918, \"Fitted Mean NDVI\": 0.328, \"Residual\": -0.014}, {\"Month\": \"09/19\", \"Years Since Epoch (t)\": 49.704, \"Max NDVI\": 0.911, \"Mean NDVI\": 0.271, \"Min NDVI\": -0.942, \"Region\": \"Tsimanampetsotsa\", \"cos\": -0.28501926246999953, \"sin\": -0.958521789017369, \"Fitted Mean NDVI\": 0.292, \"Residual\": -0.021}, {\"Month\": \"10/19\", \"Years Since Epoch (t)\": 49.786, \"Max NDVI\": 0.925, \"Mean NDVI\": 0.253, \"Min NDVI\": -0.999, \"Region\": \"Tsimanampetsotsa\", \"cos\": 0.22427076094938847, \"sin\": -0.9745268727865755, \"Fitted Mean NDVI\": 0.28, \"Residual\": -0.027}, {\"Month\": \"11/19\", \"Years Since Epoch (t)\": 49.871, \"Max NDVI\": 0.921, \"Mean NDVI\": 0.359, \"Min NDVI\": -0.999, \"Region\": \"Tsimanampetsotsa\", \"cos\": 0.6891138083873632, \"sin\": -0.7246531301870326, \"Fitted Mean NDVI\": 0.293, \"Residual\": 0.066}, {\"Month\": \"12/19\", \"Years Since Epoch (t)\": 49.953, \"Max NDVI\": 0.957, \"Mean NDVI\": 0.371, \"Min NDVI\": -0.999, \"Region\": \"Tsimanampetsotsa\", \"cos\": 0.9567120515588292, \"sin\": -0.2910361668282762, \"Fitted Mean NDVI\": 0.326, \"Residual\": 0.045}, {\"Month\": \"01/20\", \"Years Since Epoch (t)\": 50.038, \"Max NDVI\": 0.925, \"Mean NDVI\": 0.379, \"Min NDVI\": -0.999, \"Region\": \"Tsimanampetsotsa\", \"cos\": 0.9716317329146854, \"sin\": 0.23649899702367763, \"Fitted Mean NDVI\": 0.371, \"Residual\": 0.008}, {\"Month\": \"02/20\", \"Years Since Epoch (t)\": 50.123, \"Max NDVI\": 0.909, \"Mean NDVI\": 0.437, \"Min NDVI\": -0.999, \"Region\": \"Tsimanampetsotsa\", \"cos\": 0.715936483021856, \"sin\": 0.6981654189934473, \"Fitted Mean NDVI\": 0.413, \"Residual\": 0.024}, {\"Month\": \"03/20\", \"Years Since Epoch (t)\": 50.202, \"Max NDVI\": 0.884, \"Mean NDVI\": 0.394, \"Min NDVI\": -0.971, \"Region\": \"Tsimanampetsotsa\", \"cos\": 0.29704158157707455, \"sin\": 0.9548645447466306, \"Fitted Mean NDVI\": 0.439, \"Residual\": -0.045}, {\"Month\": \"04/20\", \"Years Since Epoch (t)\": 50.287, \"Max NDVI\": 0.944, \"Mean NDVI\": 0.403, \"Min NDVI\": -0.986, \"Region\": \"Tsimanampetsotsa\", \"cos\": -0.23038942667656281, \"sin\": 0.9730985109821332, \"Fitted Mean NDVI\": 0.442, \"Residual\": -0.039}, {\"Month\": \"05/20\", \"Years Since Epoch (t)\": 50.369, \"Max NDVI\": 0.999, \"Mean NDVI\": 0.394, \"Min NDVI\": -0.999, \"Region\": \"Tsimanampetsotsa\", \"cos\": -0.6799533787224217, \"sin\": 0.7332553462225577, \"Fitted Mean NDVI\": 0.421, \"Residual\": -0.027}, {\"Month\": \"06/20\", \"Years Since Epoch (t)\": 50.454, \"Max NDVI\": 0.999, \"Mean NDVI\": 0.368, \"Min NDVI\": -0.999, \"Region\": \"Tsimanampetsotsa\", \"cos\": -0.9585217890173805, \"sin\": 0.28501926246996057, \"Fitted Mean NDVI\": 0.377, \"Residual\": -0.009}, {\"Month\": \"07/20\", \"Years Since Epoch (t)\": 50.536, \"Max NDVI\": 0.999, \"Mean NDVI\": 0.318, \"Min NDVI\": -0.999, \"Region\": \"Tsimanampetsotsa\", \"cos\": -0.9745268727865791, \"sin\": -0.2242707609493727, \"Fitted Mean NDVI\": 0.325, \"Residual\": -0.007}, {\"Month\": \"08/20\", \"Years Since Epoch (t)\": 50.621, \"Max NDVI\": 0.946, \"Mean NDVI\": 0.24, \"Min NDVI\": -0.999, \"Region\": \"Tsimanampetsotsa\", \"cos\": -0.7246531301870436, \"sin\": -0.6891138083873516, \"Fitted Mean NDVI\": 0.274, \"Residual\": -0.034}, {\"Month\": \"09/20\", \"Years Since Epoch (t)\": 50.706, \"Max NDVI\": 0.916, \"Mean NDVI\": 0.225, \"Min NDVI\": -0.999, \"Region\": \"Tsimanampetsotsa\", \"cos\": -0.2729519355173087, \"sin\": -0.9620276715860906, \"Fitted Mean NDVI\": 0.238, \"Residual\": -0.013}, {\"Month\": \"10/20\", \"Years Since Epoch (t)\": 50.788, \"Max NDVI\": 0.907, \"Mean NDVI\": 0.197, \"Min NDVI\": -0.999, \"Region\": \"Tsimanampetsotsa\", \"cos\": 0.23649899702371716, \"sin\": -0.9716317329146757, \"Fitted Mean NDVI\": 0.226, \"Residual\": -0.029}, {\"Month\": \"11/20\", \"Years Since Epoch (t)\": 50.873, \"Max NDVI\": 0.916, \"Mean NDVI\": 0.193, \"Min NDVI\": -0.999, \"Region\": \"Tsimanampetsotsa\", \"cos\": 0.6981654189934356, \"sin\": -0.7159364830218673, \"Fitted Mean NDVI\": 0.24, \"Residual\": -0.047}, {\"Month\": \"12/20\", \"Years Since Epoch (t)\": 50.955, \"Max NDVI\": 0.996, \"Mean NDVI\": 0.211, \"Min NDVI\": -0.999, \"Region\": \"Tsimanampetsotsa\", \"cos\": 0.9602936856769375, \"sin\": -0.2789911060392482, \"Fitted Mean NDVI\": 0.274, \"Residual\": -0.063}, {\"Month\": \"01/21\", \"Years Since Epoch (t)\": 51.04, \"Max NDVI\": 0.964, \"Mean NDVI\": 0.257, \"Min NDVI\": -0.999, \"Region\": \"Tsimanampetsotsa\", \"cos\": 0.9685831611286329, \"sin\": 0.2486898871648482, \"Fitted Mean NDVI\": 0.319, \"Residual\": -0.062}, {\"Month\": \"02/21\", \"Years Since Epoch (t)\": 51.125, \"Max NDVI\": 0.93, \"Mean NDVI\": 0.304, \"Min NDVI\": -0.999, \"Region\": \"Tsimanampetsotsa\", \"cos\": 0.7071067811865432, \"sin\": 0.7071067811865519, \"Fitted Mean NDVI\": 0.361, \"Residual\": -0.057}, {\"Month\": \"03/21\", \"Years Since Epoch (t)\": 51.202, \"Max NDVI\": 0.901, \"Mean NDVI\": 0.425, \"Min NDVI\": -0.947, \"Region\": \"Tsimanampetsotsa\", \"cos\": 0.29704158157704086, \"sin\": 0.9548645447466411, \"Fitted Mean NDVI\": 0.385, \"Residual\": 0.04}, {\"Month\": \"04/21\", \"Years Since Epoch (t)\": 51.286, \"Max NDVI\": 1.0, \"Mean NDVI\": 0.41, \"Min NDVI\": -0.999, \"Region\": \"Tsimanampetsotsa\", \"cos\": -0.22427076094935697, \"sin\": 0.9745268727865827, \"Fitted Mean NDVI\": 0.389, \"Residual\": 0.021}, {\"Month\": \"05/21\", \"Years Since Epoch (t)\": 51.369, \"Max NDVI\": 1.0, \"Mean NDVI\": 0.405, \"Min NDVI\": -0.999, \"Region\": \"Tsimanampetsotsa\", \"cos\": -0.6799533787224058, \"sin\": 0.7332553462225724, \"Fitted Mean NDVI\": 0.367, \"Residual\": 0.038}, {\"Month\": \"06/21\", \"Years Since Epoch (t)\": 51.453, \"Max NDVI\": 1.0, \"Mean NDVI\": 0.373, \"Min NDVI\": -0.999, \"Region\": \"Tsimanampetsotsa\", \"cos\": -0.9567120515588363, \"sin\": 0.29103616682825273, \"Fitted Mean NDVI\": 0.324, \"Residual\": 0.049}, {\"Month\": \"07/21\", \"Years Since Epoch (t)\": 51.536, \"Max NDVI\": 1.0, \"Mean NDVI\": 0.321, \"Min NDVI\": -0.999, \"Region\": \"Tsimanampetsotsa\", \"cos\": -0.9745268727865839, \"sin\": -0.22427076094935172, \"Fitted Mean NDVI\": 0.271, \"Residual\": 0.05}, {\"Month\": \"08/21\", \"Years Since Epoch (t)\": 51.62, \"Max NDVI\": 0.999, \"Mean NDVI\": 0.244, \"Min NDVI\": -0.999, \"Region\": \"Tsimanampetsotsa\", \"cos\": -0.7289686274214451, \"sin\": -0.684547105928653, \"Fitted Mean NDVI\": 0.22, \"Residual\": 0.024}, {\"Month\": \"09/21\", \"Years Since Epoch (t)\": 51.705, \"Max NDVI\": 0.926, \"Mean NDVI\": 0.209, \"Min NDVI\": -0.968, \"Region\": \"Tsimanampetsotsa\", \"cos\": -0.27899110603926375, \"sin\": -0.9602936856769331, \"Fitted Mean NDVI\": 0.184, \"Residual\": 0.025}, {\"Month\": \"10/21\", \"Years Since Epoch (t)\": 51.788, \"Max NDVI\": 0.934, \"Mean NDVI\": 0.196, \"Min NDVI\": -0.999, \"Region\": \"Tsimanampetsotsa\", \"cos\": 0.2364989970236962, \"sin\": -0.9716317329146809, \"Fitted Mean NDVI\": 0.172, \"Residual\": 0.024}], \"data-1971b94c32969da57c2d40f7be7d4d23\": [{\"Month\": \"11/21\", \"Region\": \"Tsimanampetsotsa\", \"Predicted Mean NDVI\": 0.186}, {\"Month\": \"12/21\", \"Region\": \"Tsimanampetsotsa\", \"Predicted Mean NDVI\": 0.22}, {\"Month\": \"01/22\", \"Region\": \"Tsimanampetsotsa\", \"Predicted Mean NDVI\": 0.264}, {\"Month\": \"02/22\", \"Region\": \"Tsimanampetsotsa\", \"Predicted Mean NDVI\": 0.307}, {\"Month\": \"03/22\", \"Region\": \"Tsimanampetsotsa\", \"Predicted Mean NDVI\": 0.331}, {\"Month\": \"04/22\", \"Region\": \"Tsimanampetsotsa\", \"Predicted Mean NDVI\": 0.335}, {\"Month\": \"05/22\", \"Region\": \"Tsimanampetsotsa\", \"Predicted Mean NDVI\": 0.314}, {\"Month\": \"06/22\", \"Region\": \"Tsimanampetsotsa\", \"Predicted Mean NDVI\": 0.271}, {\"Month\": \"07/22\", \"Region\": \"Tsimanampetsotsa\", \"Predicted Mean NDVI\": 0.218}, {\"Month\": \"08/22\", \"Region\": \"Tsimanampetsotsa\", \"Predicted Mean NDVI\": 0.167}, {\"Month\": \"09/22\", \"Region\": \"Tsimanampetsotsa\", \"Predicted Mean NDVI\": 0.131}, {\"Month\": \"10/22\", \"Region\": \"Tsimanampetsotsa\", \"Predicted Mean NDVI\": 0.119}, {\"Month\": \"11/22\", \"Region\": \"Tsimanampetsotsa\", \"Predicted Mean NDVI\": 0.132}, {\"Month\": \"12/22\", \"Region\": \"Tsimanampetsotsa\", \"Predicted Mean NDVI\": 0.166}], \"data-ffdbea83afc4e8b19fdde57e82980b83\": [{\"Month\": \"01/19\", \"Years Since Epoch (t)\": 49.039, \"Max NDVI\": 0.999, \"Mean NDVI\": 0.737, \"Min NDVI\": -0.386, \"Region\": \"d'Ankarafantsika\", \"cos\": 0.9701265964901047, \"sin\": 0.242599230795412, \"Fitted Mean NDVI\": 0.734, \"Residual\": 0.003}, {\"Month\": \"02/19\", \"Years Since Epoch (t)\": 49.124, \"Max NDVI\": 0.985, \"Mean NDVI\": 0.77, \"Min NDVI\": -0.386, \"Region\": \"d'Ankarafantsika\", \"cos\": 0.7115356772092729, \"sin\": 0.7026499697988617, \"Fitted Mean NDVI\": 0.782, \"Residual\": -0.012}, {\"Month\": \"03/19\", \"Years Since Epoch (t)\": 49.2, \"Max NDVI\": 0.999, \"Mean NDVI\": 0.777, \"Min NDVI\": -0.663, \"Region\": \"d'Ankarafantsika\", \"cos\": 0.3090169943749183, \"sin\": 0.9510565162951631, \"Fitted Mean NDVI\": 0.799, \"Residual\": -0.022}, {\"Month\": \"04/19\", \"Years Since Epoch (t)\": 49.285, \"Max NDVI\": 0.999, \"Mean NDVI\": 0.768, \"Min NDVI\": -0.614, \"Region\": \"d'Ankarafantsika\", \"cos\": -0.21814324139652955, \"sin\": 0.9759167619387503, \"Fitted Mean NDVI\": 0.785, \"Residual\": -0.017}, {\"Month\": \"05/19\", \"Years Since Epoch (t)\": 49.367, \"Max NDVI\": 0.993, \"Mean NDVI\": 0.732, \"Min NDVI\": -0.499, \"Region\": \"d'Ankarafantsika\", \"cos\": -0.6706855765366916, \"sin\": 0.741741772738765, \"Fitted Mean NDVI\": 0.743, \"Residual\": -0.011}, {\"Month\": \"06/19\", \"Years Since Epoch (t)\": 49.452, \"Max NDVI\": 0.999, \"Mean NDVI\": 0.677, \"Min NDVI\": -0.526, \"Region\": \"d'Ankarafantsika\", \"cos\": -0.9548645447466354, \"sin\": 0.29704158157705907, \"Fitted Mean NDVI\": 0.679, \"Residual\": -0.002}, {\"Month\": \"07/19\", \"Years Since Epoch (t)\": 49.534, \"Max NDVI\": 0.988, \"Mean NDVI\": 0.628, \"Min NDVI\": -0.345, \"Region\": \"d'Ankarafantsika\", \"cos\": -0.977268123568192, \"sin\": -0.21200710992206104, \"Fitted Mean NDVI\": 0.615, \"Residual\": 0.013}, {\"Month\": \"08/19\", \"Years Since Epoch (t)\": 49.619, \"Max NDVI\": 0.994, \"Mean NDVI\": 0.574, \"Min NDVI\": -0.328, \"Region\": \"d'Ankarafantsika\", \"cos\": -0.7332553462225855, \"sin\": -0.6799533787223918, \"Fitted Mean NDVI\": 0.564, \"Residual\": 0.01}, {\"Month\": \"09/19\", \"Years Since Epoch (t)\": 49.704, \"Max NDVI\": 0.909, \"Mean NDVI\": 0.508, \"Min NDVI\": -0.32, \"Region\": \"d'Ankarafantsika\", \"cos\": -0.28501926246999953, \"sin\": -0.958521789017369, \"Fitted Mean NDVI\": 0.542, \"Residual\": -0.034}, {\"Month\": \"10/19\", \"Years Since Epoch (t)\": 49.786, \"Max NDVI\": 0.877, \"Mean NDVI\": 0.489, \"Min NDVI\": -0.175, \"Region\": \"d'Ankarafantsika\", \"cos\": 0.22427076094938847, \"sin\": -0.9745268727865755, \"Fitted Mean NDVI\": 0.554, \"Residual\": -0.065}, {\"Month\": \"11/19\", \"Years Since Epoch (t)\": 49.871, \"Max NDVI\": 0.999, \"Mean NDVI\": 0.562, \"Min NDVI\": -0.345, \"Region\": \"d'Ankarafantsika\", \"cos\": 0.6891138083873632, \"sin\": -0.7246531301870326, \"Fitted Mean NDVI\": 0.596, \"Residual\": -0.034}, {\"Month\": \"12/19\", \"Years Since Epoch (t)\": 49.953, \"Max NDVI\": 0.962, \"Mean NDVI\": 0.705, \"Min NDVI\": -0.338, \"Region\": \"d'Ankarafantsika\", \"cos\": 0.9567120515588292, \"sin\": -0.2910361668282762, \"Fitted Mean NDVI\": 0.656, \"Residual\": 0.049}, {\"Month\": \"01/20\", \"Years Since Epoch (t)\": 50.038, \"Max NDVI\": 0.921, \"Mean NDVI\": 0.734, \"Min NDVI\": -0.373, \"Region\": \"d'Ankarafantsika\", \"cos\": 0.9716317329146854, \"sin\": 0.23649899702367763, \"Fitted Mean NDVI\": 0.72, \"Residual\": 0.014}, {\"Month\": \"02/20\", \"Years Since Epoch (t)\": 50.123, \"Max NDVI\": 0.998, \"Mean NDVI\": 0.804, \"Min NDVI\": -0.54, \"Region\": \"d'Ankarafantsika\", \"cos\": 0.715936483021856, \"sin\": 0.6981654189934473, \"Fitted Mean NDVI\": 0.767, \"Residual\": 0.037}, {\"Month\": \"03/20\", \"Years Since Epoch (t)\": 50.202, \"Max NDVI\": 0.999, \"Mean NDVI\": 0.804, \"Min NDVI\": -0.68, \"Region\": \"d'Ankarafantsika\", \"cos\": 0.29704158157707455, \"sin\": 0.9548645447466306, \"Fitted Mean NDVI\": 0.785, \"Residual\": 0.019}, {\"Month\": \"04/20\", \"Years Since Epoch (t)\": 50.287, \"Max NDVI\": 0.955, \"Mean NDVI\": 0.759, \"Min NDVI\": -0.431, \"Region\": \"d'Ankarafantsika\", \"cos\": -0.23038942667656281, \"sin\": 0.9730985109821332, \"Fitted Mean NDVI\": 0.771, \"Residual\": -0.012}, {\"Month\": \"05/20\", \"Years Since Epoch (t)\": 50.369, \"Max NDVI\": 0.942, \"Mean NDVI\": 0.712, \"Min NDVI\": -0.458, \"Region\": \"d'Ankarafantsika\", \"cos\": -0.6799533787224217, \"sin\": 0.7332553462225577, \"Fitted Mean NDVI\": 0.727, \"Residual\": -0.015}, {\"Month\": \"06/20\", \"Years Since Epoch (t)\": 50.454, \"Max NDVI\": 0.982, \"Mean NDVI\": 0.677, \"Min NDVI\": -0.388, \"Region\": \"d'Ankarafantsika\", \"cos\": -0.9585217890173805, \"sin\": 0.28501926246996057, \"Fitted Mean NDVI\": 0.663, \"Residual\": 0.014}, {\"Month\": \"07/20\", \"Years Since Epoch (t)\": 50.536, \"Max NDVI\": 0.955, \"Mean NDVI\": 0.648, \"Min NDVI\": -0.387, \"Region\": \"d'Ankarafantsika\", \"cos\": -0.9745268727865791, \"sin\": -0.2242707609493727, \"Fitted Mean NDVI\": 0.6, \"Residual\": 0.048}, {\"Month\": \"08/20\", \"Years Since Epoch (t)\": 50.621, \"Max NDVI\": 0.956, \"Mean NDVI\": 0.579, \"Min NDVI\": -0.527, \"Region\": \"d'Ankarafantsika\", \"cos\": -0.7246531301870436, \"sin\": -0.6891138083873516, \"Fitted Mean NDVI\": 0.549, \"Residual\": 0.03}, {\"Month\": \"09/20\", \"Years Since Epoch (t)\": 50.706, \"Max NDVI\": 0.894, \"Mean NDVI\": 0.496, \"Min NDVI\": -0.24, \"Region\": \"d'Ankarafantsika\", \"cos\": -0.2729519355173087, \"sin\": -0.9620276715860906, \"Fitted Mean NDVI\": 0.528, \"Residual\": -0.032}, {\"Month\": \"10/20\", \"Years Since Epoch (t)\": 50.788, \"Max NDVI\": 0.998, \"Mean NDVI\": 0.646, \"Min NDVI\": -0.322, \"Region\": \"d'Ankarafantsika\", \"cos\": 0.23649899702371716, \"sin\": -0.9716317329146757, \"Fitted Mean NDVI\": 0.54, \"Residual\": 0.106}, {\"Month\": \"11/20\", \"Years Since Epoch (t)\": 50.873, \"Max NDVI\": 0.903, \"Mean NDVI\": 0.596, \"Min NDVI\": -0.282, \"Region\": \"d'Ankarafantsika\", \"cos\": 0.6981654189934356, \"sin\": -0.7159364830218673, \"Fitted Mean NDVI\": 0.584, \"Residual\": 0.012}, {\"Month\": \"12/20\", \"Years Since Epoch (t)\": 50.955, \"Max NDVI\": 0.999, \"Mean NDVI\": 0.686, \"Min NDVI\": -0.501, \"Region\": \"d'Ankarafantsika\", \"cos\": 0.9602936856769375, \"sin\": -0.2789911060392482, \"Fitted Mean NDVI\": 0.644, \"Residual\": 0.042}, {\"Month\": \"01/21\", \"Years Since Epoch (t)\": 51.04, \"Max NDVI\": 0.999, \"Mean NDVI\": 0.716, \"Min NDVI\": -0.513, \"Region\": \"d'Ankarafantsika\", \"cos\": 0.9685831611286329, \"sin\": 0.2486898871648482, \"Fitted Mean NDVI\": 0.707, \"Residual\": 0.009}, {\"Month\": \"02/21\", \"Years Since Epoch (t)\": 51.125, \"Max NDVI\": 0.999, \"Mean NDVI\": 0.707, \"Min NDVI\": -0.42, \"Region\": \"d'Ankarafantsika\", \"cos\": 0.7071067811865432, \"sin\": 0.7071067811865519, \"Fitted Mean NDVI\": 0.754, \"Residual\": -0.047}, {\"Month\": \"03/21\", \"Years Since Epoch (t)\": 51.202, \"Max NDVI\": 0.998, \"Mean NDVI\": 0.771, \"Min NDVI\": -0.511, \"Region\": \"d'Ankarafantsika\", \"cos\": 0.29704158157704086, \"sin\": 0.9548645447466411, \"Fitted Mean NDVI\": 0.771, \"Residual\": -0.0}, {\"Month\": \"04/21\", \"Years Since Epoch (t)\": 51.286, \"Max NDVI\": 0.962, \"Mean NDVI\": 0.749, \"Min NDVI\": -0.459, \"Region\": \"d'Ankarafantsika\", \"cos\": -0.22427076094935697, \"sin\": 0.9745268727865827, \"Fitted Mean NDVI\": 0.757, \"Residual\": -0.008}, {\"Month\": \"05/21\", \"Years Since Epoch (t)\": 51.369, \"Max NDVI\": 0.924, \"Mean NDVI\": 0.689, \"Min NDVI\": -0.501, \"Region\": \"d'Ankarafantsika\", \"cos\": -0.6799533787224058, \"sin\": 0.7332553462225724, \"Fitted Mean NDVI\": 0.713, \"Residual\": -0.024}, {\"Month\": \"06/21\", \"Years Since Epoch (t)\": 51.453, \"Max NDVI\": 0.949, \"Mean NDVI\": 0.664, \"Min NDVI\": -0.449, \"Region\": \"d'Ankarafantsika\", \"cos\": -0.9567120515588363, \"sin\": 0.29103616682825273, \"Fitted Mean NDVI\": 0.65, \"Residual\": 0.014}, {\"Month\": \"07/21\", \"Years Since Epoch (t)\": 51.536, \"Max NDVI\": 0.993, \"Mean NDVI\": 0.616, \"Min NDVI\": -0.311, \"Region\": \"d'Ankarafantsika\", \"cos\": -0.9745268727865839, \"sin\": -0.22427076094935172, \"Fitted Mean NDVI\": 0.586, \"Residual\": 0.03}, {\"Month\": \"08/21\", \"Years Since Epoch (t)\": 51.62, \"Max NDVI\": 0.946, \"Mean NDVI\": 0.54, \"Min NDVI\": -0.336, \"Region\": \"d'Ankarafantsika\", \"cos\": -0.7289686274214451, \"sin\": -0.684547105928653, \"Fitted Mean NDVI\": 0.536, \"Residual\": 0.004}, {\"Month\": \"09/21\", \"Years Since Epoch (t)\": 51.705, \"Max NDVI\": 0.954, \"Mean NDVI\": 0.473, \"Min NDVI\": -0.357, \"Region\": \"d'Ankarafantsika\", \"cos\": -0.27899110603926375, \"sin\": -0.9602936856769331, \"Fitted Mean NDVI\": 0.514, \"Residual\": -0.041}, {\"Month\": \"10/21\", \"Years Since Epoch (t)\": 51.788, \"Max NDVI\": 0.954, \"Mean NDVI\": 0.448, \"Min NDVI\": -0.248, \"Region\": \"d'Ankarafantsika\", \"cos\": 0.2364989970236962, \"sin\": -0.9716317329146809, \"Fitted Mean NDVI\": 0.526, \"Residual\": -0.078}], \"data-dd776f213aa6b9763be9ced67c440f17\": [{\"Month\": \"11/21\", \"Region\": \"d'Ankarafantsika\", \"Predicted Mean NDVI\": 0.569}, {\"Month\": \"12/21\", \"Region\": \"d'Ankarafantsika\", \"Predicted Mean NDVI\": 0.63}, {\"Month\": \"01/22\", \"Region\": \"d'Ankarafantsika\", \"Predicted Mean NDVI\": 0.692}, {\"Month\": \"02/22\", \"Region\": \"d'Ankarafantsika\", \"Predicted Mean NDVI\": 0.74}, {\"Month\": \"03/22\", \"Region\": \"d'Ankarafantsika\", \"Predicted Mean NDVI\": 0.757}, {\"Month\": \"04/22\", \"Region\": \"d'Ankarafantsika\", \"Predicted Mean NDVI\": 0.743}, {\"Month\": \"05/22\", \"Region\": \"d'Ankarafantsika\", \"Predicted Mean NDVI\": 0.7}, {\"Month\": \"06/22\", \"Region\": \"d'Ankarafantsika\", \"Predicted Mean NDVI\": 0.636}, {\"Month\": \"07/22\", \"Region\": \"d'Ankarafantsika\", \"Predicted Mean NDVI\": 0.572}, {\"Month\": \"08/22\", \"Region\": \"d'Ankarafantsika\", \"Predicted Mean NDVI\": 0.522}, {\"Month\": \"09/22\", \"Region\": \"d'Ankarafantsika\", \"Predicted Mean NDVI\": 0.5}, {\"Month\": \"10/22\", \"Region\": \"d'Ankarafantsika\", \"Predicted Mean NDVI\": 0.512}, {\"Month\": \"11/22\", \"Region\": \"d'Ankarafantsika\", \"Predicted Mean NDVI\": 0.555}, {\"Month\": \"12/22\", \"Region\": \"d'Ankarafantsika\", \"Predicted Mean NDVI\": 0.615}], \"data-913d645df6d7cb04fafa924542122ce3\": [{\"Month\": \"01/19\", \"Years Since Epoch (t)\": 49.039, \"Max NDVI\": 1.0, \"Mean NDVI\": 0.55, \"Min NDVI\": -0.998, \"Region\": \"Masoala\", \"cos\": 0.9701265964901047, \"sin\": 0.242599230795412, \"Fitted Mean NDVI\": 0.502, \"Residual\": 0.048}, {\"Month\": \"02/19\", \"Years Since Epoch (t)\": 49.124, \"Max NDVI\": 0.977, \"Mean NDVI\": 0.469, \"Min NDVI\": -0.995, \"Region\": \"Masoala\", \"cos\": 0.7115356772092729, \"sin\": 0.7026499697988617, \"Fitted Mean NDVI\": 0.497, \"Residual\": -0.028}, {\"Month\": \"03/19\", \"Years Since Epoch (t)\": 49.2, \"Max NDVI\": 0.999, \"Mean NDVI\": 0.578, \"Min NDVI\": -0.994, \"Region\": \"Masoala\", \"cos\": 0.3090169943749183, \"sin\": 0.9510565162951631, \"Fitted Mean NDVI\": 0.487, \"Residual\": 0.091}, {\"Month\": \"04/19\", \"Years Since Epoch (t)\": 49.285, \"Max NDVI\": 0.999, \"Mean NDVI\": 0.451, \"Min NDVI\": -0.997, \"Region\": \"Masoala\", \"cos\": -0.21814324139652955, \"sin\": 0.9759167619387503, \"Fitted Mean NDVI\": 0.47, \"Residual\": -0.019}, {\"Month\": \"05/19\", \"Years Since Epoch (t)\": 49.367, \"Max NDVI\": 0.999, \"Mean NDVI\": 0.566, \"Min NDVI\": -0.994, \"Region\": \"Masoala\", \"cos\": -0.6706855765366916, \"sin\": 0.741741772738765, \"Fitted Mean NDVI\": 0.455, \"Residual\": 0.111}, {\"Month\": \"06/19\", \"Years Since Epoch (t)\": 49.452, \"Max NDVI\": 1.0, \"Mean NDVI\": 0.443, \"Min NDVI\": -0.997, \"Region\": \"Masoala\", \"cos\": -0.9548645447466354, \"sin\": 0.29704158157705907, \"Fitted Mean NDVI\": 0.443, \"Residual\": 0.0}, {\"Month\": \"07/19\", \"Years Since Epoch (t)\": 49.534, \"Max NDVI\": 0.999, \"Mean NDVI\": 0.35, \"Min NDVI\": -0.996, \"Region\": \"Masoala\", \"cos\": -0.977268123568192, \"sin\": -0.21200710992206104, \"Fitted Mean NDVI\": 0.439, \"Residual\": -0.089}, {\"Month\": \"08/19\", \"Years Since Epoch (t)\": 49.619, \"Max NDVI\": 0.973, \"Mean NDVI\": 0.439, \"Min NDVI\": -0.995, \"Region\": \"Masoala\", \"cos\": -0.7332553462225855, \"sin\": -0.6799533787223918, \"Fitted Mean NDVI\": 0.443, \"Residual\": -0.004}, {\"Month\": \"09/19\", \"Years Since Epoch (t)\": 49.704, \"Max NDVI\": 0.999, \"Mean NDVI\": 0.515, \"Min NDVI\": -0.997, \"Region\": \"Masoala\", \"cos\": -0.28501926246999953, \"sin\": -0.958521789017369, \"Fitted Mean NDVI\": 0.456, \"Residual\": 0.059}, {\"Month\": \"10/19\", \"Years Since Epoch (t)\": 49.786, \"Max NDVI\": 0.999, \"Mean NDVI\": 0.477, \"Min NDVI\": -0.997, \"Region\": \"Masoala\", \"cos\": 0.22427076094938847, \"sin\": -0.9745268727865755, \"Fitted Mean NDVI\": 0.473, \"Residual\": 0.004}, {\"Month\": \"11/19\", \"Years Since Epoch (t)\": 49.871, \"Max NDVI\": 0.984, \"Mean NDVI\": 0.5, \"Min NDVI\": -0.998, \"Region\": \"Masoala\", \"cos\": 0.6891138083873632, \"sin\": -0.7246531301870326, \"Fitted Mean NDVI\": 0.49, \"Residual\": 0.01}, {\"Month\": \"12/19\", \"Years Since Epoch (t)\": 49.953, \"Max NDVI\": 1.0, \"Mean NDVI\": 0.474, \"Min NDVI\": -1.0, \"Region\": \"Masoala\", \"cos\": 0.9567120515588292, \"sin\": -0.2910361668282762, \"Fitted Mean NDVI\": 0.503, \"Residual\": -0.029}, {\"Month\": \"01/20\", \"Years Since Epoch (t)\": 50.038, \"Max NDVI\": 0.992, \"Mean NDVI\": 0.4, \"Min NDVI\": -0.997, \"Region\": \"Masoala\", \"cos\": 0.9716317329146854, \"sin\": 0.23649899702367763, \"Fitted Mean NDVI\": 0.508, \"Residual\": -0.108}, {\"Month\": \"02/20\", \"Years Since Epoch (t)\": 50.123, \"Max NDVI\": 0.999, \"Mean NDVI\": 0.549, \"Min NDVI\": -0.998, \"Region\": \"Masoala\", \"cos\": 0.715936483021856, \"sin\": 0.6981654189934473, \"Fitted Mean NDVI\": 0.504, \"Residual\": 0.045}, {\"Month\": \"03/20\", \"Years Since Epoch (t)\": 50.202, \"Max NDVI\": 0.999, \"Mean NDVI\": 0.456, \"Min NDVI\": -0.998, \"Region\": \"Masoala\", \"cos\": 0.29704158157707455, \"sin\": 0.9548645447466306, \"Fitted Mean NDVI\": 0.492, \"Residual\": -0.036}, {\"Month\": \"04/20\", \"Years Since Epoch (t)\": 50.287, \"Max NDVI\": 0.998, \"Mean NDVI\": 0.349, \"Min NDVI\": -0.998, \"Region\": \"Masoala\", \"cos\": -0.23038942667656281, \"sin\": 0.9730985109821332, \"Fitted Mean NDVI\": 0.476, \"Residual\": -0.127}, {\"Month\": \"05/20\", \"Years Since Epoch (t)\": 50.369, \"Max NDVI\": 0.999, \"Mean NDVI\": 0.539, \"Min NDVI\": -0.997, \"Region\": \"Masoala\", \"cos\": -0.6799533787224217, \"sin\": 0.7332553462225577, \"Fitted Mean NDVI\": 0.46, \"Residual\": 0.079}, {\"Month\": \"06/20\", \"Years Since Epoch (t)\": 50.454, \"Max NDVI\": 0.998, \"Mean NDVI\": 0.45, \"Min NDVI\": -0.974, \"Region\": \"Masoala\", \"cos\": -0.9585217890173805, \"sin\": 0.28501926246996057, \"Fitted Mean NDVI\": 0.449, \"Residual\": 0.001}, {\"Month\": \"07/20\", \"Years Since Epoch (t)\": 50.536, \"Max NDVI\": 1.0, \"Mean NDVI\": 0.446, \"Min NDVI\": -0.992, \"Region\": \"Masoala\", \"cos\": -0.9745268727865791, \"sin\": -0.2242707609493727, \"Fitted Mean NDVI\": 0.445, \"Residual\": 0.001}, {\"Month\": \"08/20\", \"Years Since Epoch (t)\": 50.621, \"Max NDVI\": 0.999, \"Mean NDVI\": 0.294, \"Min NDVI\": -0.998, \"Region\": \"Masoala\", \"cos\": -0.7246531301870436, \"sin\": -0.6891138083873516, \"Fitted Mean NDVI\": 0.45, \"Residual\": -0.156}, {\"Month\": \"09/20\", \"Years Since Epoch (t)\": 50.706, \"Max NDVI\": 0.999, \"Mean NDVI\": 0.441, \"Min NDVI\": -0.998, \"Region\": \"Masoala\", \"cos\": -0.2729519355173087, \"sin\": -0.9620276715860906, \"Fitted Mean NDVI\": 0.463, \"Residual\": -0.022}, {\"Month\": \"10/20\", \"Years Since Epoch (t)\": 50.788, \"Max NDVI\": 0.996, \"Mean NDVI\": 0.51, \"Min NDVI\": -0.997, \"Region\": \"Masoala\", \"cos\": 0.23649899702371716, \"sin\": -0.9716317329146757, \"Fitted Mean NDVI\": 0.48, \"Residual\": 0.03}, {\"Month\": \"11/20\", \"Years Since Epoch (t)\": 50.873, \"Max NDVI\": 0.997, \"Mean NDVI\": 0.561, \"Min NDVI\": -0.998, \"Region\": \"Masoala\", \"cos\": 0.6981654189934356, \"sin\": -0.7159364830218673, \"Fitted Mean NDVI\": 0.497, \"Residual\": 0.064}, {\"Month\": \"12/20\", \"Years Since Epoch (t)\": 50.955, \"Max NDVI\": 0.996, \"Mean NDVI\": 0.491, \"Min NDVI\": -0.998, \"Region\": \"Masoala\", \"cos\": 0.9602936856769375, \"sin\": -0.2789911060392482, \"Fitted Mean NDVI\": 0.509, \"Residual\": -0.018}, {\"Month\": \"01/21\", \"Years Since Epoch (t)\": 51.04, \"Max NDVI\": 0.999, \"Mean NDVI\": 0.487, \"Min NDVI\": -0.996, \"Region\": \"Masoala\", \"cos\": 0.9685831611286329, \"sin\": 0.2486898871648482, \"Fitted Mean NDVI\": 0.514, \"Residual\": -0.027}, {\"Month\": \"02/21\", \"Years Since Epoch (t)\": 51.125, \"Max NDVI\": 0.999, \"Mean NDVI\": 0.422, \"Min NDVI\": -0.998, \"Region\": \"Masoala\", \"cos\": 0.7071067811865432, \"sin\": 0.7071067811865519, \"Fitted Mean NDVI\": 0.509, \"Residual\": -0.087}, {\"Month\": \"03/21\", \"Years Since Epoch (t)\": 51.202, \"Max NDVI\": 1.0, \"Mean NDVI\": 0.523, \"Min NDVI\": -0.997, \"Region\": \"Masoala\", \"cos\": 0.29704158157704086, \"sin\": 0.9548645447466411, \"Fitted Mean NDVI\": 0.499, \"Residual\": 0.024}, {\"Month\": \"04/21\", \"Years Since Epoch (t)\": 51.286, \"Max NDVI\": 0.999, \"Mean NDVI\": 0.531, \"Min NDVI\": -0.997, \"Region\": \"Masoala\", \"cos\": -0.22427076094935697, \"sin\": 0.9745268727865827, \"Fitted Mean NDVI\": 0.482, \"Residual\": 0.049}, {\"Month\": \"05/21\", \"Years Since Epoch (t)\": 51.369, \"Max NDVI\": 0.999, \"Mean NDVI\": 0.549, \"Min NDVI\": -0.997, \"Region\": \"Masoala\", \"cos\": -0.6799533787224058, \"sin\": 0.7332553462225724, \"Fitted Mean NDVI\": 0.466, \"Residual\": 0.083}, {\"Month\": \"06/21\", \"Years Since Epoch (t)\": 51.453, \"Max NDVI\": 1.0, \"Mean NDVI\": 0.368, \"Min NDVI\": -0.997, \"Region\": \"Masoala\", \"cos\": -0.9567120515588363, \"sin\": 0.29103616682825273, \"Fitted Mean NDVI\": 0.455, \"Residual\": -0.087}, {\"Month\": \"07/21\", \"Years Since Epoch (t)\": 51.536, \"Max NDVI\": 1.0, \"Mean NDVI\": 0.477, \"Min NDVI\": -0.998, \"Region\": \"Masoala\", \"cos\": -0.9745268727865839, \"sin\": -0.22427076094935172, \"Fitted Mean NDVI\": 0.451, \"Residual\": 0.026}, {\"Month\": \"08/21\", \"Years Since Epoch (t)\": 51.62, \"Max NDVI\": 0.999, \"Mean NDVI\": 0.481, \"Min NDVI\": -0.997, \"Region\": \"Masoala\", \"cos\": -0.7289686274214451, \"sin\": -0.684547105928653, \"Fitted Mean NDVI\": 0.456, \"Residual\": 0.025}, {\"Month\": \"09/21\", \"Years Since Epoch (t)\": 51.705, \"Max NDVI\": 0.999, \"Mean NDVI\": 0.454, \"Min NDVI\": -0.997, \"Region\": \"Masoala\", \"cos\": -0.27899110603926375, \"sin\": -0.9602936856769331, \"Fitted Mean NDVI\": 0.469, \"Residual\": -0.015}, {\"Month\": \"10/21\", \"Years Since Epoch (t)\": 51.788, \"Max NDVI\": 0.995, \"Mean NDVI\": 0.587, \"Min NDVI\": -0.995, \"Region\": \"Masoala\", \"cos\": 0.2364989970236962, \"sin\": -0.9716317329146809, \"Fitted Mean NDVI\": 0.486, \"Residual\": 0.101}], \"data-579f69c590188c87ad94e04f14f605c0\": [{\"Month\": \"11/21\", \"Region\": \"Masoala\", \"Predicted Mean NDVI\": 0.503}, {\"Month\": \"12/21\", \"Region\": \"Masoala\", \"Predicted Mean NDVI\": 0.515}, {\"Month\": \"01/22\", \"Region\": \"Masoala\", \"Predicted Mean NDVI\": 0.52}, {\"Month\": \"02/22\", \"Region\": \"Masoala\", \"Predicted Mean NDVI\": 0.516}, {\"Month\": \"03/22\", \"Region\": \"Masoala\", \"Predicted Mean NDVI\": 0.505}, {\"Month\": \"04/22\", \"Region\": \"Masoala\", \"Predicted Mean NDVI\": 0.489}, {\"Month\": \"05/22\", \"Region\": \"Masoala\", \"Predicted Mean NDVI\": 0.473}, {\"Month\": \"06/22\", \"Region\": \"Masoala\", \"Predicted Mean NDVI\": 0.461}, {\"Month\": \"07/22\", \"Region\": \"Masoala\", \"Predicted Mean NDVI\": 0.457}, {\"Month\": \"08/22\", \"Region\": \"Masoala\", \"Predicted Mean NDVI\": 0.462}, {\"Month\": \"09/22\", \"Region\": \"Masoala\", \"Predicted Mean NDVI\": 0.475}, {\"Month\": \"10/22\", \"Region\": \"Masoala\", \"Predicted Mean NDVI\": 0.492}, {\"Month\": \"11/22\", \"Region\": \"Masoala\", \"Predicted Mean NDVI\": 0.509}, {\"Month\": \"12/22\", \"Region\": \"Masoala\", \"Predicted Mean NDVI\": 0.521}], \"data-3333cc86a4353d3e6fba7a857d549bfa\": [{\"Month\": \"01/19\", \"Years Since Epoch (t)\": 49.039, \"Max NDVI\": 0.938, \"Mean NDVI\": 0.577, \"Min NDVI\": -0.89, \"Region\": \"Alan'Ankirisa\", \"cos\": 0.9701265964901047, \"sin\": 0.242599230795412, \"Fitted Mean NDVI\": 0.565, \"Residual\": 0.012}, {\"Month\": \"02/19\", \"Years Since Epoch (t)\": 49.124, \"Max NDVI\": 0.965, \"Mean NDVI\": 0.638, \"Min NDVI\": -0.731, \"Region\": \"Alan'Ankirisa\", \"cos\": 0.7115356772092729, \"sin\": 0.7026499697988617, \"Fitted Mean NDVI\": 0.635, \"Residual\": 0.003}, {\"Month\": \"03/19\", \"Years Since Epoch (t)\": 49.2, \"Max NDVI\": 0.937, \"Mean NDVI\": 0.661, \"Min NDVI\": -0.636, \"Region\": \"Alan'Ankirisa\", \"cos\": 0.3090169943749183, \"sin\": 0.9510565162951631, \"Fitted Mean NDVI\": 0.66, \"Residual\": 0.001}, {\"Month\": \"04/19\", \"Years Since Epoch (t)\": 49.285, \"Max NDVI\": 0.958, \"Mean NDVI\": 0.582, \"Min NDVI\": -0.534, \"Region\": \"Alan'Ankirisa\", \"cos\": -0.21814324139652955, \"sin\": 0.9759167619387503, \"Fitted Mean NDVI\": 0.637, \"Residual\": -0.055}, {\"Month\": \"05/19\", \"Years Since Epoch (t)\": 49.367, \"Max NDVI\": 0.999, \"Mean NDVI\": 0.493, \"Min NDVI\": -0.601, \"Region\": \"Alan'Ankirisa\", \"cos\": -0.6706855765366916, \"sin\": 0.741741772738765, \"Fitted Mean NDVI\": 0.573, \"Residual\": -0.08}, {\"Month\": \"06/19\", \"Years Since Epoch (t)\": 49.452, \"Max NDVI\": 0.959, \"Mean NDVI\": 0.477, \"Min NDVI\": -0.658, \"Region\": \"Alan'Ankirisa\", \"cos\": -0.9548645447466354, \"sin\": 0.29704158157705907, \"Fitted Mean NDVI\": 0.479, \"Residual\": -0.002}, {\"Month\": \"07/19\", \"Years Since Epoch (t)\": 49.534, \"Max NDVI\": 0.893, \"Mean NDVI\": 0.421, \"Min NDVI\": -0.639, \"Region\": \"Alan'Ankirisa\", \"cos\": -0.977268123568192, \"sin\": -0.21200710992206104, \"Fitted Mean NDVI\": 0.387, \"Residual\": 0.034}, {\"Month\": \"08/19\", \"Years Since Epoch (t)\": 49.619, \"Max NDVI\": 0.916, \"Mean NDVI\": 0.376, \"Min NDVI\": -0.999, \"Region\": \"Alan'Ankirisa\", \"cos\": -0.7332553462225855, \"sin\": -0.6799533787223918, \"Fitted Mean NDVI\": 0.316, \"Residual\": 0.06}, {\"Month\": \"09/19\", \"Years Since Epoch (t)\": 49.704, \"Max NDVI\": 0.878, \"Mean NDVI\": 0.327, \"Min NDVI\": -0.657, \"Region\": \"Alan'Ankirisa\", \"cos\": -0.28501926246999953, \"sin\": -0.958521789017369, \"Fitted Mean NDVI\": 0.29, \"Residual\": 0.037}, {\"Month\": \"10/19\", \"Years Since Epoch (t)\": 49.786, \"Max NDVI\": 0.863, \"Mean NDVI\": 0.257, \"Min NDVI\": -0.504, \"Region\": \"Alan'Ankirisa\", \"cos\": 0.22427076094938847, \"sin\": -0.9745268727865755, \"Fitted Mean NDVI\": 0.314, \"Residual\": -0.057}, {\"Month\": \"11/19\", \"Years Since Epoch (t)\": 49.871, \"Max NDVI\": 0.98, \"Mean NDVI\": 0.317, \"Min NDVI\": -0.513, \"Region\": \"Alan'Ankirisa\", \"cos\": 0.6891138083873632, \"sin\": -0.7246531301870326, \"Fitted Mean NDVI\": 0.383, \"Residual\": -0.066}, {\"Month\": \"12/19\", \"Years Since Epoch (t)\": 49.953, \"Max NDVI\": 0.943, \"Mean NDVI\": 0.506, \"Min NDVI\": -0.662, \"Region\": \"Alan'Ankirisa\", \"cos\": 0.9567120515588292, \"sin\": -0.2910361668282762, \"Fitted Mean NDVI\": 0.475, \"Residual\": 0.031}, {\"Month\": \"01/20\", \"Years Since Epoch (t)\": 50.038, \"Max NDVI\": 0.968, \"Mean NDVI\": 0.671, \"Min NDVI\": -0.803, \"Region\": \"Alan'Ankirisa\", \"cos\": 0.9716317329146854, \"sin\": 0.23649899702367763, \"Fitted Mean NDVI\": 0.572, \"Residual\": 0.099}, {\"Month\": \"02/20\", \"Years Since Epoch (t)\": 50.123, \"Max NDVI\": 0.999, \"Mean NDVI\": 0.698, \"Min NDVI\": -0.996, \"Region\": \"Alan'Ankirisa\", \"cos\": 0.715936483021856, \"sin\": 0.6981654189934473, \"Fitted Mean NDVI\": 0.642, \"Residual\": 0.056}, {\"Month\": \"03/20\", \"Years Since Epoch (t)\": 50.202, \"Max NDVI\": 0.942, \"Mean NDVI\": 0.658, \"Min NDVI\": -0.784, \"Region\": \"Alan'Ankirisa\", \"cos\": 0.29704158157707455, \"sin\": 0.9548645447466306, \"Fitted Mean NDVI\": 0.667, \"Residual\": -0.009}, {\"Month\": \"04/20\", \"Years Since Epoch (t)\": 50.287, \"Max NDVI\": 0.924, \"Mean NDVI\": 0.599, \"Min NDVI\": -0.547, \"Region\": \"Alan'Ankirisa\", \"cos\": -0.23038942667656281, \"sin\": 0.9730985109821332, \"Fitted Mean NDVI\": 0.644, \"Residual\": -0.045}, {\"Month\": \"05/20\", \"Years Since Epoch (t)\": 50.369, \"Max NDVI\": 0.999, \"Mean NDVI\": 0.555, \"Min NDVI\": -0.732, \"Region\": \"Alan'Ankirisa\", \"cos\": -0.6799533787224217, \"sin\": 0.7332553462225577, \"Fitted Mean NDVI\": 0.578, \"Residual\": -0.023}, {\"Month\": \"06/20\", \"Years Since Epoch (t)\": 50.454, \"Max NDVI\": 0.94, \"Mean NDVI\": 0.502, \"Min NDVI\": -0.742, \"Region\": \"Alan'Ankirisa\", \"cos\": -0.9585217890173805, \"sin\": 0.28501926246996057, \"Fitted Mean NDVI\": 0.484, \"Residual\": 0.018}, {\"Month\": \"07/20\", \"Years Since Epoch (t)\": 50.536, \"Max NDVI\": 0.94, \"Mean NDVI\": 0.424, \"Min NDVI\": -0.999, \"Region\": \"Alan'Ankirisa\", \"cos\": -0.9745268727865791, \"sin\": -0.2242707609493727, \"Fitted Mean NDVI\": 0.392, \"Residual\": 0.032}, {\"Month\": \"08/20\", \"Years Since Epoch (t)\": 50.621, \"Max NDVI\": 0.894, \"Mean NDVI\": 0.358, \"Min NDVI\": -0.604, \"Region\": \"Alan'Ankirisa\", \"cos\": -0.7246531301870436, \"sin\": -0.6891138083873516, \"Fitted Mean NDVI\": 0.322, \"Residual\": 0.036}, {\"Month\": \"09/20\", \"Years Since Epoch (t)\": 50.706, \"Max NDVI\": 0.862, \"Mean NDVI\": 0.305, \"Min NDVI\": -0.587, \"Region\": \"Alan'Ankirisa\", \"cos\": -0.2729519355173087, \"sin\": -0.9620276715860906, \"Fitted Mean NDVI\": 0.297, \"Residual\": 0.008}, {\"Month\": \"10/20\", \"Years Since Epoch (t)\": 50.788, \"Max NDVI\": 0.873, \"Mean NDVI\": 0.306, \"Min NDVI\": -0.463, \"Region\": \"Alan'Ankirisa\", \"cos\": 0.23649899702371716, \"sin\": -0.9716317329146757, \"Fitted Mean NDVI\": 0.322, \"Residual\": -0.016}, {\"Month\": \"11/20\", \"Years Since Epoch (t)\": 50.873, \"Max NDVI\": 0.863, \"Mean NDVI\": 0.297, \"Min NDVI\": -0.433, \"Region\": \"Alan'Ankirisa\", \"cos\": 0.6981654189934356, \"sin\": -0.7159364830218673, \"Fitted Mean NDVI\": 0.392, \"Residual\": -0.095}, {\"Month\": \"12/20\", \"Years Since Epoch (t)\": 50.955, \"Max NDVI\": 0.982, \"Mean NDVI\": 0.425, \"Min NDVI\": -0.479, \"Region\": \"Alan'Ankirisa\", \"cos\": 0.9602936856769375, \"sin\": -0.2789911060392482, \"Fitted Mean NDVI\": 0.485, \"Residual\": -0.06}, {\"Month\": \"01/21\", \"Years Since Epoch (t)\": 51.04, \"Max NDVI\": 0.952, \"Mean NDVI\": 0.635, \"Min NDVI\": -0.824, \"Region\": \"Alan'Ankirisa\", \"cos\": 0.9685831611286329, \"sin\": 0.2486898871648482, \"Fitted Mean NDVI\": 0.581, \"Residual\": 0.054}, {\"Month\": \"02/21\", \"Years Since Epoch (t)\": 51.125, \"Max NDVI\": 0.931, \"Mean NDVI\": 0.711, \"Min NDVI\": -0.554, \"Region\": \"Alan'Ankirisa\", \"cos\": 0.7071067811865432, \"sin\": 0.7071067811865519, \"Fitted Mean NDVI\": 0.65, \"Residual\": 0.061}, {\"Month\": \"03/21\", \"Years Since Epoch (t)\": 51.202, \"Max NDVI\": 0.984, \"Mean NDVI\": 0.702, \"Min NDVI\": -0.768, \"Region\": \"Alan'Ankirisa\", \"cos\": 0.29704158157704086, \"sin\": 0.9548645447466411, \"Fitted Mean NDVI\": 0.674, \"Residual\": 0.028}, {\"Month\": \"04/21\", \"Years Since Epoch (t)\": 51.286, \"Max NDVI\": 0.927, \"Mean NDVI\": 0.62, \"Min NDVI\": -0.68, \"Region\": \"Alan'Ankirisa\", \"cos\": -0.22427076094935697, \"sin\": 0.9745268727865827, \"Fitted Mean NDVI\": 0.651, \"Residual\": -0.031}, {\"Month\": \"05/21\", \"Years Since Epoch (t)\": 51.369, \"Max NDVI\": 0.931, \"Mean NDVI\": 0.54, \"Min NDVI\": -0.614, \"Region\": \"Alan'Ankirisa\", \"cos\": -0.6799533787224058, \"sin\": 0.7332553462225724, \"Fitted Mean NDVI\": 0.585, \"Residual\": -0.045}, {\"Month\": \"06/21\", \"Years Since Epoch (t)\": 51.453, \"Max NDVI\": 0.931, \"Mean NDVI\": 0.489, \"Min NDVI\": -0.657, \"Region\": \"Alan'Ankirisa\", \"cos\": -0.9567120515588363, \"sin\": 0.29103616682825273, \"Fitted Mean NDVI\": 0.492, \"Residual\": -0.003}, {\"Month\": \"07/21\", \"Years Since Epoch (t)\": 51.536, \"Max NDVI\": 0.938, \"Mean NDVI\": 0.439, \"Min NDVI\": -0.998, \"Region\": \"Alan'Ankirisa\", \"cos\": -0.9745268727865839, \"sin\": -0.22427076094935172, \"Fitted Mean NDVI\": 0.399, \"Residual\": 0.04}, {\"Month\": \"08/21\", \"Years Since Epoch (t)\": 51.62, \"Max NDVI\": 0.884, \"Mean NDVI\": 0.343, \"Min NDVI\": -0.648, \"Region\": \"Alan'Ankirisa\", \"cos\": -0.7289686274214451, \"sin\": -0.684547105928653, \"Fitted Mean NDVI\": 0.33, \"Residual\": 0.013}, {\"Month\": \"09/21\", \"Years Since Epoch (t)\": 51.705, \"Max NDVI\": 0.901, \"Mean NDVI\": 0.312, \"Min NDVI\": -0.734, \"Region\": \"Alan'Ankirisa\", \"cos\": -0.27899110603926375, \"sin\": -0.9602936856769331, \"Fitted Mean NDVI\": 0.304, \"Residual\": 0.008}, {\"Month\": \"10/21\", \"Years Since Epoch (t)\": 51.788, \"Max NDVI\": 0.869, \"Mean NDVI\": 0.283, \"Min NDVI\": -0.7, \"Region\": \"Alan'Ankirisa\", \"cos\": 0.2364989970236962, \"sin\": -0.9716317329146809, \"Fitted Mean NDVI\": 0.329, \"Residual\": -0.046}], \"data-94ab03db8efda0c7db69f59ba18d0205\": [{\"Month\": \"11/21\", \"Region\": \"Alan'Ankirisa\", \"Predicted Mean NDVI\": 0.399}, {\"Month\": \"12/21\", \"Region\": \"Alan'Ankirisa\", \"Predicted Mean NDVI\": 0.492}, {\"Month\": \"01/22\", \"Region\": \"Alan'Ankirisa\", \"Predicted Mean NDVI\": 0.587}, {\"Month\": \"02/22\", \"Region\": \"Alan'Ankirisa\", \"Predicted Mean NDVI\": 0.657}, {\"Month\": \"03/22\", \"Region\": \"Alan'Ankirisa\", \"Predicted Mean NDVI\": 0.681}, {\"Month\": \"04/22\", \"Region\": \"Alan'Ankirisa\", \"Predicted Mean NDVI\": 0.659}, {\"Month\": \"05/22\", \"Region\": \"Alan'Ankirisa\", \"Predicted Mean NDVI\": 0.593}, {\"Month\": \"06/22\", \"Region\": \"Alan'Ankirisa\", \"Predicted Mean NDVI\": 0.499}, {\"Month\": \"07/22\", \"Region\": \"Alan'Ankirisa\", \"Predicted Mean NDVI\": 0.407}, {\"Month\": \"08/22\", \"Region\": \"Alan'Ankirisa\", \"Predicted Mean NDVI\": 0.337}, {\"Month\": \"09/22\", \"Region\": \"Alan'Ankirisa\", \"Predicted Mean NDVI\": 0.311}, {\"Month\": \"10/22\", \"Region\": \"Alan'Ankirisa\", \"Predicted Mean NDVI\": 0.336}, {\"Month\": \"11/22\", \"Region\": \"Alan'Ankirisa\", \"Predicted Mean NDVI\": 0.406}, {\"Month\": \"12/22\", \"Region\": \"Alan'Ankirisa\", \"Predicted Mean NDVI\": 0.498}]}}, {\"mode\": \"vega-lite\"});\n",
       "</script>"
      ],
      "text/plain": [
       "alt.VConcatChart(...)"
      ]
     },
     "execution_count": 16,
     "metadata": {},
     "output_type": "execute_result"
    }
   ],
   "source": [
    "# harmonic models\n",
    "\n",
    "charts_2, mseHarmonicMod = [], dict()\n",
    "\n",
    "for i in list(zip(df[\"Region\"].unique(), colors)):\n",
    "    dfSubset = df[df[\"Region\"] == i[0]]\n",
    "    timeRadiansTrain = dfSubset[\"Years Since Epoch (t)\"].values * 2 * math.pi\n",
    "    timeRadiansTest = np.array(epochs2022) * 2 * math.pi\n",
    "    dfSubset[[\"cos\", \"sin\"]] = [[math.cos(j), math.sin(j)] for j in timeRadiansTrain]\n",
    "\n",
    "    trainFeatures, target = dfSubset[[\"Years Since Epoch (t)\", \"cos\", \"sin\"]].values, dfSubset[\"Mean NDVI\"].values.reshape(34, 1)\n",
    "\n",
    "    predFeatures = []\n",
    "    for j in epochs2022:\n",
    "        timeRadians = j * 2 * math.pi\n",
    "        predFeatures.append([j, math.cos(timeRadians), math.sin(timeRadians)])\n",
    "\n",
    "    harmonicMod = LinearRegression().fit(trainFeatures, target)  \n",
    "    dfSubset[\"Fitted Mean NDVI\"] = np.round(harmonicMod.predict(trainFeatures), 3)\n",
    "    dfSubset[\"Residual\"] = np.round(target - harmonicMod.predict(trainFeatures), 3)\n",
    "    mseHarmonicMod[i[0]] = np.mean(np.square(dfSubset[\"Residual\"]))\n",
    "\n",
    "    predDf = pd.DataFrame({\"Month\": formattedAxisDates[34:],\n",
    "                           \"Region\": [i[0]] * 14,\n",
    "                           \"Predicted Mean NDVI\": harmonicMod.predict(predFeatures\n",
    "                                                            ).flatten()}\n",
    "              ).round(3)\n",
    "\n",
    "    charts_2.append(plotCharts(df_1=dfSubset, df_2=predDf, \n",
    "                               color=i[1], region=i[0]))\n",
    "\n",
    "alt.vconcat(*charts_2)"
   ]
  },
  {
   "cell_type": "code",
   "execution_count": 17,
   "metadata": {
    "colab": {
     "base_uri": "https://localhost:8080/",
     "height": 1000
    },
    "id": "LR27y2cb-HIw",
    "outputId": "a7efdc8c-15f5-4b8c-a3a6-dbd1cce3f29e"
   },
   "outputs": [
    {
     "data": {
      "text/html": [
       "\n",
       "<div id=\"altair-viz-bf7633542f9d43818f7ffef6df962631\"></div>\n",
       "<script type=\"text/javascript\">\n",
       "  (function(spec, embedOpt){\n",
       "    let outputDiv = document.currentScript.previousElementSibling;\n",
       "    if (outputDiv.id !== \"altair-viz-bf7633542f9d43818f7ffef6df962631\") {\n",
       "      outputDiv = document.getElementById(\"altair-viz-bf7633542f9d43818f7ffef6df962631\");\n",
       "    }\n",
       "    const paths = {\n",
       "      \"vega\": \"https://cdn.jsdelivr.net/npm//vega@5?noext\",\n",
       "      \"vega-lib\": \"https://cdn.jsdelivr.net/npm//vega-lib?noext\",\n",
       "      \"vega-lite\": \"https://cdn.jsdelivr.net/npm//vega-lite@4.8.1?noext\",\n",
       "      \"vega-embed\": \"https://cdn.jsdelivr.net/npm//vega-embed@6?noext\",\n",
       "    };\n",
       "\n",
       "    function loadScript(lib) {\n",
       "      return new Promise(function(resolve, reject) {\n",
       "        var s = document.createElement('script');\n",
       "        s.src = paths[lib];\n",
       "        s.async = true;\n",
       "        s.onload = () => resolve(paths[lib]);\n",
       "        s.onerror = () => reject(`Error loading script: ${paths[lib]}`);\n",
       "        document.getElementsByTagName(\"head\")[0].appendChild(s);\n",
       "      });\n",
       "    }\n",
       "\n",
       "    function showError(err) {\n",
       "      outputDiv.innerHTML = `<div class=\"error\" style=\"color:red;\">${err}</div>`;\n",
       "      throw err;\n",
       "    }\n",
       "\n",
       "    function displayChart(vegaEmbed) {\n",
       "      vegaEmbed(outputDiv, spec, embedOpt)\n",
       "        .catch(err => showError(`Javascript Error: ${err.message}<br>This usually means there's a typo in your chart specification. See the javascript console for the full traceback.`));\n",
       "    }\n",
       "\n",
       "    if(typeof define === \"function\" && define.amd) {\n",
       "      requirejs.config({paths});\n",
       "      require([\"vega-embed\"], displayChart, err => showError(`Error loading script: ${err.message}`));\n",
       "    } else if (typeof vegaEmbed === \"function\") {\n",
       "      displayChart(vegaEmbed);\n",
       "    } else {\n",
       "      loadScript(\"vega\")\n",
       "        .then(() => loadScript(\"vega-lite\"))\n",
       "        .then(() => loadScript(\"vega-embed\"))\n",
       "        .catch(showError)\n",
       "        .then(() => displayChart(vegaEmbed));\n",
       "    }\n",
       "  })({\"config\": {\"view\": {\"continuousWidth\": 400, \"continuousHeight\": 300}}, \"vconcat\": [{\"layer\": [{\"mark\": {\"type\": \"line\", \"color\": \"#FFD13C\"}, \"encoding\": {\"x\": {\"type\": \"ordinal\", \"field\": \"Month\", \"sort\": [\"01/19\", \"02/19\", \"03/19\", \"04/19\", \"05/19\", \"06/19\", \"07/19\", \"08/19\", \"09/19\", \"10/19\", \"11/19\", \"12/19\", \"01/20\", \"02/20\", \"03/20\", \"04/20\", \"05/20\", \"06/20\", \"07/20\", \"08/20\", \"09/20\", \"10/20\", \"11/20\", \"12/20\", \"01/21\", \"02/21\", \"03/21\", \"04/21\", \"05/21\", \"06/21\", \"07/21\", \"08/21\", \"09/21\", \"10/21\", \"11/21\", \"12/21\", \"01/22\", \"02/22\", \"03/22\", \"04/22\", \"05/22\", \"06/22\", \"07/22\", \"08/22\", \"09/22\", \"10/22\", \"11/22\", \"12/22\"]}, \"y\": {\"type\": \"quantitative\", \"field\": \"Mean NDVI (t)\"}}}, {\"mark\": {\"type\": \"circle\", \"color\": \"#FFD13C\", \"size\": 50}, \"encoding\": {\"tooltip\": [{\"type\": \"nominal\", \"field\": \"Month\"}, {\"type\": \"nominal\", \"field\": \"Region\"}, {\"type\": \"quantitative\", \"field\": \"Mean NDVI (t)\"}], \"x\": {\"type\": \"ordinal\", \"field\": \"Month\", \"sort\": [\"01/19\", \"02/19\", \"03/19\", \"04/19\", \"05/19\", \"06/19\", \"07/19\", \"08/19\", \"09/19\", \"10/19\", \"11/19\", \"12/19\", \"01/20\", \"02/20\", \"03/20\", \"04/20\", \"05/20\", \"06/20\", \"07/20\", \"08/20\", \"09/20\", \"10/20\", \"11/20\", \"12/20\", \"01/21\", \"02/21\", \"03/21\", \"04/21\", \"05/21\", \"06/21\", \"07/21\", \"08/21\", \"09/21\", \"10/21\", \"11/21\", \"12/21\", \"01/22\", \"02/22\", \"03/22\", \"04/22\", \"05/22\", \"06/22\", \"07/22\", \"08/22\", \"09/22\", \"10/22\", \"11/22\", \"12/22\"]}, \"y\": {\"type\": \"quantitative\", \"field\": \"Mean NDVI (t)\"}}}, {\"mark\": {\"type\": \"line\", \"color\": \"red\"}, \"encoding\": {\"x\": {\"type\": \"ordinal\", \"field\": \"Month\", \"sort\": [\"01/19\", \"02/19\", \"03/19\", \"04/19\", \"05/19\", \"06/19\", \"07/19\", \"08/19\", \"09/19\", \"10/19\", \"11/19\", \"12/19\", \"01/20\", \"02/20\", \"03/20\", \"04/20\", \"05/20\", \"06/20\", \"07/20\", \"08/20\", \"09/20\", \"10/20\", \"11/20\", \"12/20\", \"01/21\", \"02/21\", \"03/21\", \"04/21\", \"05/21\", \"06/21\", \"07/21\", \"08/21\", \"09/21\", \"10/21\", \"11/21\", \"12/21\", \"01/22\", \"02/22\", \"03/22\", \"04/22\", \"05/22\", \"06/22\", \"07/22\", \"08/22\", \"09/22\", \"10/22\", \"11/22\", \"12/22\"]}, \"y\": {\"type\": \"quantitative\", \"field\": \"Fitted Mean NDVI\"}}}, {\"mark\": {\"type\": \"circle\", \"color\": \"red\", \"size\": 50}, \"encoding\": {\"tooltip\": [{\"type\": \"nominal\", \"field\": \"Month\"}, {\"type\": \"nominal\", \"field\": \"Region\"}, {\"type\": \"quantitative\", \"field\": \"Fitted Mean NDVI\"}, {\"type\": \"quantitative\", \"field\": \"Residual\"}], \"x\": {\"type\": \"ordinal\", \"field\": \"Month\", \"sort\": [\"01/19\", \"02/19\", \"03/19\", \"04/19\", \"05/19\", \"06/19\", \"07/19\", \"08/19\", \"09/19\", \"10/19\", \"11/19\", \"12/19\", \"01/20\", \"02/20\", \"03/20\", \"04/20\", \"05/20\", \"06/20\", \"07/20\", \"08/20\", \"09/20\", \"10/20\", \"11/20\", \"12/20\", \"01/21\", \"02/21\", \"03/21\", \"04/21\", \"05/21\", \"06/21\", \"07/21\", \"08/21\", \"09/21\", \"10/21\", \"11/21\", \"12/21\", \"01/22\", \"02/22\", \"03/22\", \"04/22\", \"05/22\", \"06/22\", \"07/22\", \"08/22\", \"09/22\", \"10/22\", \"11/22\", \"12/22\"]}, \"y\": {\"type\": \"quantitative\", \"field\": \"Fitted Mean NDVI\"}}}], \"data\": {\"name\": \"data-3eafaf9f8bcb2b317d523fdf836f86e7\"}, \"height\": 300, \"title\": \"d'Andohahela Fitted Monthly Mean NDVI\", \"width\": 500}, {\"layer\": [{\"mark\": {\"type\": \"line\", \"color\": \"#61ECB6\"}, \"encoding\": {\"x\": {\"type\": \"ordinal\", \"field\": \"Month\", \"sort\": [\"01/19\", \"02/19\", \"03/19\", \"04/19\", \"05/19\", \"06/19\", \"07/19\", \"08/19\", \"09/19\", \"10/19\", \"11/19\", \"12/19\", \"01/20\", \"02/20\", \"03/20\", \"04/20\", \"05/20\", \"06/20\", \"07/20\", \"08/20\", \"09/20\", \"10/20\", \"11/20\", \"12/20\", \"01/21\", \"02/21\", \"03/21\", \"04/21\", \"05/21\", \"06/21\", \"07/21\", \"08/21\", \"09/21\", \"10/21\", \"11/21\", \"12/21\", \"01/22\", \"02/22\", \"03/22\", \"04/22\", \"05/22\", \"06/22\", \"07/22\", \"08/22\", \"09/22\", \"10/22\", \"11/22\", \"12/22\"]}, \"y\": {\"type\": \"quantitative\", \"field\": \"Mean NDVI (t)\"}}}, {\"mark\": {\"type\": \"circle\", \"color\": \"#61ECB6\", \"size\": 50}, \"encoding\": {\"tooltip\": [{\"type\": \"nominal\", \"field\": \"Month\"}, {\"type\": \"nominal\", \"field\": \"Region\"}, {\"type\": \"quantitative\", \"field\": \"Mean NDVI (t)\"}], \"x\": {\"type\": \"ordinal\", \"field\": \"Month\", \"sort\": [\"01/19\", \"02/19\", \"03/19\", \"04/19\", \"05/19\", \"06/19\", \"07/19\", \"08/19\", \"09/19\", \"10/19\", \"11/19\", \"12/19\", \"01/20\", \"02/20\", \"03/20\", \"04/20\", \"05/20\", \"06/20\", \"07/20\", \"08/20\", \"09/20\", \"10/20\", \"11/20\", \"12/20\", \"01/21\", \"02/21\", \"03/21\", \"04/21\", \"05/21\", \"06/21\", \"07/21\", \"08/21\", \"09/21\", \"10/21\", \"11/21\", \"12/21\", \"01/22\", \"02/22\", \"03/22\", \"04/22\", \"05/22\", \"06/22\", \"07/22\", \"08/22\", \"09/22\", \"10/22\", \"11/22\", \"12/22\"]}, \"y\": {\"type\": \"quantitative\", \"field\": \"Mean NDVI (t)\"}}}, {\"mark\": {\"type\": \"line\", \"color\": \"red\"}, \"encoding\": {\"x\": {\"type\": \"ordinal\", \"field\": \"Month\", \"sort\": [\"01/19\", \"02/19\", \"03/19\", \"04/19\", \"05/19\", \"06/19\", \"07/19\", \"08/19\", \"09/19\", \"10/19\", \"11/19\", \"12/19\", \"01/20\", \"02/20\", \"03/20\", \"04/20\", \"05/20\", \"06/20\", \"07/20\", \"08/20\", \"09/20\", \"10/20\", \"11/20\", \"12/20\", \"01/21\", \"02/21\", \"03/21\", \"04/21\", \"05/21\", \"06/21\", \"07/21\", \"08/21\", \"09/21\", \"10/21\", \"11/21\", \"12/21\", \"01/22\", \"02/22\", \"03/22\", \"04/22\", \"05/22\", \"06/22\", \"07/22\", \"08/22\", \"09/22\", \"10/22\", \"11/22\", \"12/22\"]}, \"y\": {\"type\": \"quantitative\", \"field\": \"Fitted Mean NDVI\"}}}, {\"mark\": {\"type\": \"circle\", \"color\": \"red\", \"size\": 50}, \"encoding\": {\"tooltip\": [{\"type\": \"nominal\", \"field\": \"Month\"}, {\"type\": \"nominal\", \"field\": \"Region\"}, {\"type\": \"quantitative\", \"field\": \"Fitted Mean NDVI\"}, {\"type\": \"quantitative\", \"field\": \"Residual\"}], \"x\": {\"type\": \"ordinal\", \"field\": \"Month\", \"sort\": [\"01/19\", \"02/19\", \"03/19\", \"04/19\", \"05/19\", \"06/19\", \"07/19\", \"08/19\", \"09/19\", \"10/19\", \"11/19\", \"12/19\", \"01/20\", \"02/20\", \"03/20\", \"04/20\", \"05/20\", \"06/20\", \"07/20\", \"08/20\", \"09/20\", \"10/20\", \"11/20\", \"12/20\", \"01/21\", \"02/21\", \"03/21\", \"04/21\", \"05/21\", \"06/21\", \"07/21\", \"08/21\", \"09/21\", \"10/21\", \"11/21\", \"12/21\", \"01/22\", \"02/22\", \"03/22\", \"04/22\", \"05/22\", \"06/22\", \"07/22\", \"08/22\", \"09/22\", \"10/22\", \"11/22\", \"12/22\"]}, \"y\": {\"type\": \"quantitative\", \"field\": \"Fitted Mean NDVI\"}}}], \"data\": {\"name\": \"data-71d20fc1457caab8a8fc86de55361b93\"}, \"height\": 300, \"title\": \"Midongy Betofaka Fitted Monthly Mean NDVI\", \"width\": 500}, {\"layer\": [{\"mark\": {\"type\": \"line\", \"color\": \"#2ca02c\"}, \"encoding\": {\"x\": {\"type\": \"ordinal\", \"field\": \"Month\", \"sort\": [\"01/19\", \"02/19\", \"03/19\", \"04/19\", \"05/19\", \"06/19\", \"07/19\", \"08/19\", \"09/19\", \"10/19\", \"11/19\", \"12/19\", \"01/20\", \"02/20\", \"03/20\", \"04/20\", \"05/20\", \"06/20\", \"07/20\", \"08/20\", \"09/20\", \"10/20\", \"11/20\", \"12/20\", \"01/21\", \"02/21\", \"03/21\", \"04/21\", \"05/21\", \"06/21\", \"07/21\", \"08/21\", \"09/21\", \"10/21\", \"11/21\", \"12/21\", \"01/22\", \"02/22\", \"03/22\", \"04/22\", \"05/22\", \"06/22\", \"07/22\", \"08/22\", \"09/22\", \"10/22\", \"11/22\", \"12/22\"]}, \"y\": {\"type\": \"quantitative\", \"field\": \"Mean NDVI (t)\"}}}, {\"mark\": {\"type\": \"circle\", \"color\": \"#2ca02c\", \"size\": 50}, \"encoding\": {\"tooltip\": [{\"type\": \"nominal\", \"field\": \"Month\"}, {\"type\": \"nominal\", \"field\": \"Region\"}, {\"type\": \"quantitative\", \"field\": \"Mean NDVI (t)\"}], \"x\": {\"type\": \"ordinal\", \"field\": \"Month\", \"sort\": [\"01/19\", \"02/19\", \"03/19\", \"04/19\", \"05/19\", \"06/19\", \"07/19\", \"08/19\", \"09/19\", \"10/19\", \"11/19\", \"12/19\", \"01/20\", \"02/20\", \"03/20\", \"04/20\", \"05/20\", \"06/20\", \"07/20\", \"08/20\", \"09/20\", \"10/20\", \"11/20\", \"12/20\", \"01/21\", \"02/21\", \"03/21\", \"04/21\", \"05/21\", \"06/21\", \"07/21\", \"08/21\", \"09/21\", \"10/21\", \"11/21\", \"12/21\", \"01/22\", \"02/22\", \"03/22\", \"04/22\", \"05/22\", \"06/22\", \"07/22\", \"08/22\", \"09/22\", \"10/22\", \"11/22\", \"12/22\"]}, \"y\": {\"type\": \"quantitative\", \"field\": \"Mean NDVI (t)\"}}}, {\"mark\": {\"type\": \"line\", \"color\": \"red\"}, \"encoding\": {\"x\": {\"type\": \"ordinal\", \"field\": \"Month\", \"sort\": [\"01/19\", \"02/19\", \"03/19\", \"04/19\", \"05/19\", \"06/19\", \"07/19\", \"08/19\", \"09/19\", \"10/19\", \"11/19\", \"12/19\", \"01/20\", \"02/20\", \"03/20\", \"04/20\", \"05/20\", \"06/20\", \"07/20\", \"08/20\", \"09/20\", \"10/20\", \"11/20\", \"12/20\", \"01/21\", \"02/21\", \"03/21\", \"04/21\", \"05/21\", \"06/21\", \"07/21\", \"08/21\", \"09/21\", \"10/21\", \"11/21\", \"12/21\", \"01/22\", \"02/22\", \"03/22\", \"04/22\", \"05/22\", \"06/22\", \"07/22\", \"08/22\", \"09/22\", \"10/22\", \"11/22\", \"12/22\"]}, \"y\": {\"type\": \"quantitative\", \"field\": \"Fitted Mean NDVI\"}}}, {\"mark\": {\"type\": \"circle\", \"color\": \"red\", \"size\": 50}, \"encoding\": {\"tooltip\": [{\"type\": \"nominal\", \"field\": \"Month\"}, {\"type\": \"nominal\", \"field\": \"Region\"}, {\"type\": \"quantitative\", \"field\": \"Fitted Mean NDVI\"}, {\"type\": \"quantitative\", \"field\": \"Residual\"}], \"x\": {\"type\": \"ordinal\", \"field\": \"Month\", \"sort\": [\"01/19\", \"02/19\", \"03/19\", \"04/19\", \"05/19\", \"06/19\", \"07/19\", \"08/19\", \"09/19\", \"10/19\", \"11/19\", \"12/19\", \"01/20\", \"02/20\", \"03/20\", \"04/20\", \"05/20\", \"06/20\", \"07/20\", \"08/20\", \"09/20\", \"10/20\", \"11/20\", \"12/20\", \"01/21\", \"02/21\", \"03/21\", \"04/21\", \"05/21\", \"06/21\", \"07/21\", \"08/21\", \"09/21\", \"10/21\", \"11/21\", \"12/21\", \"01/22\", \"02/22\", \"03/22\", \"04/22\", \"05/22\", \"06/22\", \"07/22\", \"08/22\", \"09/22\", \"10/22\", \"11/22\", \"12/22\"]}, \"y\": {\"type\": \"quantitative\", \"field\": \"Fitted Mean NDVI\"}}}], \"data\": {\"name\": \"data-514ce87b193aa3a65cc5502a4fcd66f3\"}, \"height\": 300, \"title\": \"Tsimanampetsotsa Fitted Monthly Mean NDVI\", \"width\": 500}, {\"layer\": [{\"mark\": {\"type\": \"line\", \"color\": \"#9467bd\"}, \"encoding\": {\"x\": {\"type\": \"ordinal\", \"field\": \"Month\", \"sort\": [\"01/19\", \"02/19\", \"03/19\", \"04/19\", \"05/19\", \"06/19\", \"07/19\", \"08/19\", \"09/19\", \"10/19\", \"11/19\", \"12/19\", \"01/20\", \"02/20\", \"03/20\", \"04/20\", \"05/20\", \"06/20\", \"07/20\", \"08/20\", \"09/20\", \"10/20\", \"11/20\", \"12/20\", \"01/21\", \"02/21\", \"03/21\", \"04/21\", \"05/21\", \"06/21\", \"07/21\", \"08/21\", \"09/21\", \"10/21\", \"11/21\", \"12/21\", \"01/22\", \"02/22\", \"03/22\", \"04/22\", \"05/22\", \"06/22\", \"07/22\", \"08/22\", \"09/22\", \"10/22\", \"11/22\", \"12/22\"]}, \"y\": {\"type\": \"quantitative\", \"field\": \"Mean NDVI (t)\"}}}, {\"mark\": {\"type\": \"circle\", \"color\": \"#9467bd\", \"size\": 50}, \"encoding\": {\"tooltip\": [{\"type\": \"nominal\", \"field\": \"Month\"}, {\"type\": \"nominal\", \"field\": \"Region\"}, {\"type\": \"quantitative\", \"field\": \"Mean NDVI (t)\"}], \"x\": {\"type\": \"ordinal\", \"field\": \"Month\", \"sort\": [\"01/19\", \"02/19\", \"03/19\", \"04/19\", \"05/19\", \"06/19\", \"07/19\", \"08/19\", \"09/19\", \"10/19\", \"11/19\", \"12/19\", \"01/20\", \"02/20\", \"03/20\", \"04/20\", \"05/20\", \"06/20\", \"07/20\", \"08/20\", \"09/20\", \"10/20\", \"11/20\", \"12/20\", \"01/21\", \"02/21\", \"03/21\", \"04/21\", \"05/21\", \"06/21\", \"07/21\", \"08/21\", \"09/21\", \"10/21\", \"11/21\", \"12/21\", \"01/22\", \"02/22\", \"03/22\", \"04/22\", \"05/22\", \"06/22\", \"07/22\", \"08/22\", \"09/22\", \"10/22\", \"11/22\", \"12/22\"]}, \"y\": {\"type\": \"quantitative\", \"field\": \"Mean NDVI (t)\"}}}, {\"mark\": {\"type\": \"line\", \"color\": \"red\"}, \"encoding\": {\"x\": {\"type\": \"ordinal\", \"field\": \"Month\", \"sort\": [\"01/19\", \"02/19\", \"03/19\", \"04/19\", \"05/19\", \"06/19\", \"07/19\", \"08/19\", \"09/19\", \"10/19\", \"11/19\", \"12/19\", \"01/20\", \"02/20\", \"03/20\", \"04/20\", \"05/20\", \"06/20\", \"07/20\", \"08/20\", \"09/20\", \"10/20\", \"11/20\", \"12/20\", \"01/21\", \"02/21\", \"03/21\", \"04/21\", \"05/21\", \"06/21\", \"07/21\", \"08/21\", \"09/21\", \"10/21\", \"11/21\", \"12/21\", \"01/22\", \"02/22\", \"03/22\", \"04/22\", \"05/22\", \"06/22\", \"07/22\", \"08/22\", \"09/22\", \"10/22\", \"11/22\", \"12/22\"]}, \"y\": {\"type\": \"quantitative\", \"field\": \"Fitted Mean NDVI\"}}}, {\"mark\": {\"type\": \"circle\", \"color\": \"red\", \"size\": 50}, \"encoding\": {\"tooltip\": [{\"type\": \"nominal\", \"field\": \"Month\"}, {\"type\": \"nominal\", \"field\": \"Region\"}, {\"type\": \"quantitative\", \"field\": \"Fitted Mean NDVI\"}, {\"type\": \"quantitative\", \"field\": \"Residual\"}], \"x\": {\"type\": \"ordinal\", \"field\": \"Month\", \"sort\": [\"01/19\", \"02/19\", \"03/19\", \"04/19\", \"05/19\", \"06/19\", \"07/19\", \"08/19\", \"09/19\", \"10/19\", \"11/19\", \"12/19\", \"01/20\", \"02/20\", \"03/20\", \"04/20\", \"05/20\", \"06/20\", \"07/20\", \"08/20\", \"09/20\", \"10/20\", \"11/20\", \"12/20\", \"01/21\", \"02/21\", \"03/21\", \"04/21\", \"05/21\", \"06/21\", \"07/21\", \"08/21\", \"09/21\", \"10/21\", \"11/21\", \"12/21\", \"01/22\", \"02/22\", \"03/22\", \"04/22\", \"05/22\", \"06/22\", \"07/22\", \"08/22\", \"09/22\", \"10/22\", \"11/22\", \"12/22\"]}, \"y\": {\"type\": \"quantitative\", \"field\": \"Fitted Mean NDVI\"}}}], \"data\": {\"name\": \"data-5e9feab12ff4251b08f549f9b897067e\"}, \"height\": 300, \"title\": \"d'Ankarafantsika Fitted Monthly Mean NDVI\", \"width\": 500}, {\"layer\": [{\"mark\": {\"type\": \"line\", \"color\": \"#17becf\"}, \"encoding\": {\"x\": {\"type\": \"ordinal\", \"field\": \"Month\", \"sort\": [\"01/19\", \"02/19\", \"03/19\", \"04/19\", \"05/19\", \"06/19\", \"07/19\", \"08/19\", \"09/19\", \"10/19\", \"11/19\", \"12/19\", \"01/20\", \"02/20\", \"03/20\", \"04/20\", \"05/20\", \"06/20\", \"07/20\", \"08/20\", \"09/20\", \"10/20\", \"11/20\", \"12/20\", \"01/21\", \"02/21\", \"03/21\", \"04/21\", \"05/21\", \"06/21\", \"07/21\", \"08/21\", \"09/21\", \"10/21\", \"11/21\", \"12/21\", \"01/22\", \"02/22\", \"03/22\", \"04/22\", \"05/22\", \"06/22\", \"07/22\", \"08/22\", \"09/22\", \"10/22\", \"11/22\", \"12/22\"]}, \"y\": {\"type\": \"quantitative\", \"field\": \"Mean NDVI (t)\"}}}, {\"mark\": {\"type\": \"circle\", \"color\": \"#17becf\", \"size\": 50}, \"encoding\": {\"tooltip\": [{\"type\": \"nominal\", \"field\": \"Month\"}, {\"type\": \"nominal\", \"field\": \"Region\"}, {\"type\": \"quantitative\", \"field\": \"Mean NDVI (t)\"}], \"x\": {\"type\": \"ordinal\", \"field\": \"Month\", \"sort\": [\"01/19\", \"02/19\", \"03/19\", \"04/19\", \"05/19\", \"06/19\", \"07/19\", \"08/19\", \"09/19\", \"10/19\", \"11/19\", \"12/19\", \"01/20\", \"02/20\", \"03/20\", \"04/20\", \"05/20\", \"06/20\", \"07/20\", \"08/20\", \"09/20\", \"10/20\", \"11/20\", \"12/20\", \"01/21\", \"02/21\", \"03/21\", \"04/21\", \"05/21\", \"06/21\", \"07/21\", \"08/21\", \"09/21\", \"10/21\", \"11/21\", \"12/21\", \"01/22\", \"02/22\", \"03/22\", \"04/22\", \"05/22\", \"06/22\", \"07/22\", \"08/22\", \"09/22\", \"10/22\", \"11/22\", \"12/22\"]}, \"y\": {\"type\": \"quantitative\", \"field\": \"Mean NDVI (t)\"}}}, {\"mark\": {\"type\": \"line\", \"color\": \"red\"}, \"encoding\": {\"x\": {\"type\": \"ordinal\", \"field\": \"Month\", \"sort\": [\"01/19\", \"02/19\", \"03/19\", \"04/19\", \"05/19\", \"06/19\", \"07/19\", \"08/19\", \"09/19\", \"10/19\", \"11/19\", \"12/19\", \"01/20\", \"02/20\", \"03/20\", \"04/20\", \"05/20\", \"06/20\", \"07/20\", \"08/20\", \"09/20\", \"10/20\", \"11/20\", \"12/20\", \"01/21\", \"02/21\", \"03/21\", \"04/21\", \"05/21\", \"06/21\", \"07/21\", \"08/21\", \"09/21\", \"10/21\", \"11/21\", \"12/21\", \"01/22\", \"02/22\", \"03/22\", \"04/22\", \"05/22\", \"06/22\", \"07/22\", \"08/22\", \"09/22\", \"10/22\", \"11/22\", \"12/22\"]}, \"y\": {\"type\": \"quantitative\", \"field\": \"Fitted Mean NDVI\"}}}, {\"mark\": {\"type\": \"circle\", \"color\": \"red\", \"size\": 50}, \"encoding\": {\"tooltip\": [{\"type\": \"nominal\", \"field\": \"Month\"}, {\"type\": \"nominal\", \"field\": \"Region\"}, {\"type\": \"quantitative\", \"field\": \"Fitted Mean NDVI\"}, {\"type\": \"quantitative\", \"field\": \"Residual\"}], \"x\": {\"type\": \"ordinal\", \"field\": \"Month\", \"sort\": [\"01/19\", \"02/19\", \"03/19\", \"04/19\", \"05/19\", \"06/19\", \"07/19\", \"08/19\", \"09/19\", \"10/19\", \"11/19\", \"12/19\", \"01/20\", \"02/20\", \"03/20\", \"04/20\", \"05/20\", \"06/20\", \"07/20\", \"08/20\", \"09/20\", \"10/20\", \"11/20\", \"12/20\", \"01/21\", \"02/21\", \"03/21\", \"04/21\", \"05/21\", \"06/21\", \"07/21\", \"08/21\", \"09/21\", \"10/21\", \"11/21\", \"12/21\", \"01/22\", \"02/22\", \"03/22\", \"04/22\", \"05/22\", \"06/22\", \"07/22\", \"08/22\", \"09/22\", \"10/22\", \"11/22\", \"12/22\"]}, \"y\": {\"type\": \"quantitative\", \"field\": \"Fitted Mean NDVI\"}}}], \"data\": {\"name\": \"data-646e9e7d6577ef3631d8a8c233520785\"}, \"height\": 300, \"title\": \"Masoala Fitted Monthly Mean NDVI\", \"width\": 500}, {\"layer\": [{\"mark\": {\"type\": \"line\", \"color\": \"#D159F2\"}, \"encoding\": {\"x\": {\"type\": \"ordinal\", \"field\": \"Month\", \"sort\": [\"01/19\", \"02/19\", \"03/19\", \"04/19\", \"05/19\", \"06/19\", \"07/19\", \"08/19\", \"09/19\", \"10/19\", \"11/19\", \"12/19\", \"01/20\", \"02/20\", \"03/20\", \"04/20\", \"05/20\", \"06/20\", \"07/20\", \"08/20\", \"09/20\", \"10/20\", \"11/20\", \"12/20\", \"01/21\", \"02/21\", \"03/21\", \"04/21\", \"05/21\", \"06/21\", \"07/21\", \"08/21\", \"09/21\", \"10/21\", \"11/21\", \"12/21\", \"01/22\", \"02/22\", \"03/22\", \"04/22\", \"05/22\", \"06/22\", \"07/22\", \"08/22\", \"09/22\", \"10/22\", \"11/22\", \"12/22\"]}, \"y\": {\"type\": \"quantitative\", \"field\": \"Mean NDVI (t)\"}}}, {\"mark\": {\"type\": \"circle\", \"color\": \"#D159F2\", \"size\": 50}, \"encoding\": {\"tooltip\": [{\"type\": \"nominal\", \"field\": \"Month\"}, {\"type\": \"nominal\", \"field\": \"Region\"}, {\"type\": \"quantitative\", \"field\": \"Mean NDVI (t)\"}], \"x\": {\"type\": \"ordinal\", \"field\": \"Month\", \"sort\": [\"01/19\", \"02/19\", \"03/19\", \"04/19\", \"05/19\", \"06/19\", \"07/19\", \"08/19\", \"09/19\", \"10/19\", \"11/19\", \"12/19\", \"01/20\", \"02/20\", \"03/20\", \"04/20\", \"05/20\", \"06/20\", \"07/20\", \"08/20\", \"09/20\", \"10/20\", \"11/20\", \"12/20\", \"01/21\", \"02/21\", \"03/21\", \"04/21\", \"05/21\", \"06/21\", \"07/21\", \"08/21\", \"09/21\", \"10/21\", \"11/21\", \"12/21\", \"01/22\", \"02/22\", \"03/22\", \"04/22\", \"05/22\", \"06/22\", \"07/22\", \"08/22\", \"09/22\", \"10/22\", \"11/22\", \"12/22\"]}, \"y\": {\"type\": \"quantitative\", \"field\": \"Mean NDVI (t)\"}}}, {\"mark\": {\"type\": \"line\", \"color\": \"red\"}, \"encoding\": {\"x\": {\"type\": \"ordinal\", \"field\": \"Month\", \"sort\": [\"01/19\", \"02/19\", \"03/19\", \"04/19\", \"05/19\", \"06/19\", \"07/19\", \"08/19\", \"09/19\", \"10/19\", \"11/19\", \"12/19\", \"01/20\", \"02/20\", \"03/20\", \"04/20\", \"05/20\", \"06/20\", \"07/20\", \"08/20\", \"09/20\", \"10/20\", \"11/20\", \"12/20\", \"01/21\", \"02/21\", \"03/21\", \"04/21\", \"05/21\", \"06/21\", \"07/21\", \"08/21\", \"09/21\", \"10/21\", \"11/21\", \"12/21\", \"01/22\", \"02/22\", \"03/22\", \"04/22\", \"05/22\", \"06/22\", \"07/22\", \"08/22\", \"09/22\", \"10/22\", \"11/22\", \"12/22\"]}, \"y\": {\"type\": \"quantitative\", \"field\": \"Fitted Mean NDVI\"}}}, {\"mark\": {\"type\": \"circle\", \"color\": \"red\", \"size\": 50}, \"encoding\": {\"tooltip\": [{\"type\": \"nominal\", \"field\": \"Month\"}, {\"type\": \"nominal\", \"field\": \"Region\"}, {\"type\": \"quantitative\", \"field\": \"Fitted Mean NDVI\"}, {\"type\": \"quantitative\", \"field\": \"Residual\"}], \"x\": {\"type\": \"ordinal\", \"field\": \"Month\", \"sort\": [\"01/19\", \"02/19\", \"03/19\", \"04/19\", \"05/19\", \"06/19\", \"07/19\", \"08/19\", \"09/19\", \"10/19\", \"11/19\", \"12/19\", \"01/20\", \"02/20\", \"03/20\", \"04/20\", \"05/20\", \"06/20\", \"07/20\", \"08/20\", \"09/20\", \"10/20\", \"11/20\", \"12/20\", \"01/21\", \"02/21\", \"03/21\", \"04/21\", \"05/21\", \"06/21\", \"07/21\", \"08/21\", \"09/21\", \"10/21\", \"11/21\", \"12/21\", \"01/22\", \"02/22\", \"03/22\", \"04/22\", \"05/22\", \"06/22\", \"07/22\", \"08/22\", \"09/22\", \"10/22\", \"11/22\", \"12/22\"]}, \"y\": {\"type\": \"quantitative\", \"field\": \"Fitted Mean NDVI\"}}}], \"data\": {\"name\": \"data-a80bb4de0925677bfeb3ef3643c0488b\"}, \"height\": 300, \"title\": \"Alan'Ankirisa Fitted Monthly Mean NDVI\", \"width\": 500}], \"$schema\": \"https://vega.github.io/schema/vega-lite/v4.8.1.json\", \"datasets\": {\"data-3eafaf9f8bcb2b317d523fdf836f86e7\": [{\"Month\": \"03/19\", \"Years Since Epoch (t)\": 49.2, \"Max NDVI\": 0.999, \"Mean NDVI (t)\": 0.803, \"Min NDVI\": -0.544, \"Region\": \"d'Andohahela\", \"Mean NDVI (t-1)\": 0.766, \"Mean NDVI (t-2)\": 0.764, \"Fitted Mean NDVI\": 0.754, \"Residual\": 0.049}, {\"Month\": \"04/19\", \"Years Since Epoch (t)\": 49.285, \"Max NDVI\": 0.999, \"Mean NDVI (t)\": 0.781, \"Min NDVI\": -0.543, \"Region\": \"d'Andohahela\", \"Mean NDVI (t-1)\": 0.803, \"Mean NDVI (t-2)\": 0.766, \"Fitted Mean NDVI\": 0.789, \"Residual\": -0.008}, {\"Month\": \"05/19\", \"Years Since Epoch (t)\": 49.367, \"Max NDVI\": 1.0, \"Mean NDVI (t)\": 0.797, \"Min NDVI\": -0.722, \"Region\": \"d'Andohahela\", \"Mean NDVI (t-1)\": 0.781, \"Mean NDVI (t-2)\": 0.803, \"Fitted Mean NDVI\": 0.759, \"Residual\": 0.038}, {\"Month\": \"06/19\", \"Years Since Epoch (t)\": 49.452, \"Max NDVI\": 0.999, \"Mean NDVI (t)\": 0.757, \"Min NDVI\": -0.951, \"Region\": \"d'Andohahela\", \"Mean NDVI (t-1)\": 0.797, \"Mean NDVI (t-2)\": 0.781, \"Fitted Mean NDVI\": 0.78, \"Residual\": -0.023}, {\"Month\": \"07/19\", \"Years Since Epoch (t)\": 49.534, \"Max NDVI\": 0.999, \"Mean NDVI (t)\": 0.771, \"Min NDVI\": -0.675, \"Region\": \"d'Andohahela\", \"Mean NDVI (t-1)\": 0.757, \"Mean NDVI (t-2)\": 0.797, \"Fitted Mean NDVI\": 0.737, \"Residual\": 0.034}, {\"Month\": \"08/19\", \"Years Since Epoch (t)\": 49.619, \"Max NDVI\": 0.997, \"Mean NDVI (t)\": 0.726, \"Min NDVI\": -0.521, \"Region\": \"d'Andohahela\", \"Mean NDVI (t-1)\": 0.771, \"Mean NDVI (t-2)\": 0.757, \"Fitted Mean NDVI\": 0.76, \"Residual\": -0.034}, {\"Month\": \"09/19\", \"Years Since Epoch (t)\": 49.704, \"Max NDVI\": 0.948, \"Mean NDVI (t)\": 0.71, \"Min NDVI\": -0.371, \"Region\": \"d'Andohahela\", \"Mean NDVI (t-1)\": 0.726, \"Mean NDVI (t-2)\": 0.771, \"Fitted Mean NDVI\": 0.713, \"Residual\": -0.003}, {\"Month\": \"10/19\", \"Years Since Epoch (t)\": 49.786, \"Max NDVI\": 0.925, \"Mean NDVI (t)\": 0.687, \"Min NDVI\": -0.453, \"Region\": \"d'Andohahela\", \"Mean NDVI (t-1)\": 0.71, \"Mean NDVI (t-2)\": 0.726, \"Fitted Mean NDVI\": 0.708, \"Residual\": -0.021}, {\"Month\": \"11/19\", \"Years Since Epoch (t)\": 49.871, \"Max NDVI\": 0.933, \"Mean NDVI (t)\": 0.704, \"Min NDVI\": -0.448, \"Region\": \"d'Andohahela\", \"Mean NDVI (t-1)\": 0.687, \"Mean NDVI (t-2)\": 0.71, \"Fitted Mean NDVI\": 0.69, \"Residual\": 0.014}, {\"Month\": \"12/19\", \"Years Since Epoch (t)\": 49.953, \"Max NDVI\": 0.951, \"Mean NDVI (t)\": 0.74, \"Min NDVI\": -0.491, \"Region\": \"d'Andohahela\", \"Mean NDVI (t-1)\": 0.704, \"Mean NDVI (t-2)\": 0.687, \"Fitted Mean NDVI\": 0.712, \"Residual\": 0.028}, {\"Month\": \"01/20\", \"Years Since Epoch (t)\": 50.038, \"Max NDVI\": 0.945, \"Mean NDVI (t)\": 0.709, \"Min NDVI\": -0.402, \"Region\": \"d'Andohahela\", \"Mean NDVI (t-1)\": 0.74, \"Mean NDVI (t-2)\": 0.704, \"Fitted Mean NDVI\": 0.743, \"Residual\": -0.034}, {\"Month\": \"02/20\", \"Years Since Epoch (t)\": 50.123, \"Max NDVI\": 0.995, \"Mean NDVI (t)\": 0.7, \"Min NDVI\": -0.984, \"Region\": \"d'Andohahela\", \"Mean NDVI (t-1)\": 0.709, \"Mean NDVI (t-2)\": 0.74, \"Fitted Mean NDVI\": 0.704, \"Residual\": -0.004}, {\"Month\": \"03/20\", \"Years Since Epoch (t)\": 50.202, \"Max NDVI\": 0.965, \"Mean NDVI (t)\": 0.719, \"Min NDVI\": -0.603, \"Region\": \"d'Andohahela\", \"Mean NDVI (t-1)\": 0.7, \"Mean NDVI (t-2)\": 0.709, \"Fitted Mean NDVI\": 0.703, \"Residual\": 0.016}, {\"Month\": \"04/20\", \"Years Since Epoch (t)\": 50.287, \"Max NDVI\": 0.999, \"Mean NDVI (t)\": 0.801, \"Min NDVI\": -0.58, \"Region\": \"d'Andohahela\", \"Mean NDVI (t-1)\": 0.719, \"Mean NDVI (t-2)\": 0.7, \"Fitted Mean NDVI\": 0.724, \"Residual\": 0.077}, {\"Month\": \"05/20\", \"Years Since Epoch (t)\": 50.369, \"Max NDVI\": 0.999, \"Mean NDVI (t)\": 0.778, \"Min NDVI\": -0.487, \"Region\": \"d'Andohahela\", \"Mean NDVI (t-1)\": 0.801, \"Mean NDVI (t-2)\": 0.719, \"Fitted Mean NDVI\": 0.799, \"Residual\": -0.021}, {\"Month\": \"06/20\", \"Years Since Epoch (t)\": 50.454, \"Max NDVI\": 0.999, \"Mean NDVI (t)\": 0.758, \"Min NDVI\": -0.48, \"Region\": \"d'Andohahela\", \"Mean NDVI (t-1)\": 0.778, \"Mean NDVI (t-2)\": 0.801, \"Fitted Mean NDVI\": 0.756, \"Residual\": 0.002}, {\"Month\": \"07/20\", \"Years Since Epoch (t)\": 50.536, \"Max NDVI\": 0.999, \"Mean NDVI (t)\": 0.744, \"Min NDVI\": -0.427, \"Region\": \"d'Andohahela\", \"Mean NDVI (t-1)\": 0.758, \"Mean NDVI (t-2)\": 0.778, \"Fitted Mean NDVI\": 0.742, \"Residual\": 0.002}, {\"Month\": \"08/20\", \"Years Since Epoch (t)\": 50.621, \"Max NDVI\": 0.998, \"Mean NDVI (t)\": 0.69, \"Min NDVI\": -0.405, \"Region\": \"d'Andohahela\", \"Mean NDVI (t-1)\": 0.744, \"Mean NDVI (t-2)\": 0.758, \"Fitted Mean NDVI\": 0.734, \"Residual\": -0.044}, {\"Month\": \"09/20\", \"Years Since Epoch (t)\": 50.706, \"Max NDVI\": 0.932, \"Mean NDVI (t)\": 0.671, \"Min NDVI\": -0.427, \"Region\": \"d'Andohahela\", \"Mean NDVI (t-1)\": 0.69, \"Mean NDVI (t-2)\": 0.744, \"Fitted Mean NDVI\": 0.684, \"Residual\": -0.013}, {\"Month\": \"10/20\", \"Years Since Epoch (t)\": 50.788, \"Max NDVI\": 0.916, \"Mean NDVI (t)\": 0.655, \"Min NDVI\": -0.378, \"Region\": \"d'Andohahela\", \"Mean NDVI (t-1)\": 0.671, \"Mean NDVI (t-2)\": 0.69, \"Fitted Mean NDVI\": 0.679, \"Residual\": -0.024}, {\"Month\": \"11/20\", \"Years Since Epoch (t)\": 50.873, \"Max NDVI\": 0.939, \"Mean NDVI (t)\": 0.673, \"Min NDVI\": -0.306, \"Region\": \"d'Andohahela\", \"Mean NDVI (t-1)\": 0.655, \"Mean NDVI (t-2)\": 0.671, \"Fitted Mean NDVI\": 0.668, \"Residual\": 0.005}, {\"Month\": \"12/20\", \"Years Since Epoch (t)\": 50.955, \"Max NDVI\": 0.956, \"Mean NDVI (t)\": 0.679, \"Min NDVI\": -0.269, \"Region\": \"d'Andohahela\", \"Mean NDVI (t-1)\": 0.673, \"Mean NDVI (t-2)\": 0.655, \"Fitted Mean NDVI\": 0.69, \"Residual\": -0.011}, {\"Month\": \"01/21\", \"Years Since Epoch (t)\": 51.04, \"Max NDVI\": 0.989, \"Mean NDVI (t)\": 0.696, \"Min NDVI\": -0.471, \"Region\": \"d'Andohahela\", \"Mean NDVI (t-1)\": 0.679, \"Mean NDVI (t-2)\": 0.673, \"Fitted Mean NDVI\": 0.691, \"Residual\": 0.005}, {\"Month\": \"02/21\", \"Years Since Epoch (t)\": 51.125, \"Max NDVI\": 0.975, \"Mean NDVI (t)\": 0.714, \"Min NDVI\": -0.435, \"Region\": \"d'Andohahela\", \"Mean NDVI (t-1)\": 0.696, \"Mean NDVI (t-2)\": 0.679, \"Fitted Mean NDVI\": 0.706, \"Residual\": 0.008}, {\"Month\": \"03/21\", \"Years Since Epoch (t)\": 51.202, \"Max NDVI\": 0.999, \"Mean NDVI (t)\": 0.762, \"Min NDVI\": -0.491, \"Region\": \"d'Andohahela\", \"Mean NDVI (t-1)\": 0.714, \"Mean NDVI (t-2)\": 0.696, \"Fitted Mean NDVI\": 0.72, \"Residual\": 0.042}, {\"Month\": \"04/21\", \"Years Since Epoch (t)\": 51.286, \"Max NDVI\": 0.999, \"Mean NDVI (t)\": 0.773, \"Min NDVI\": -0.507, \"Region\": \"d'Andohahela\", \"Mean NDVI (t-1)\": 0.762, \"Mean NDVI (t-2)\": 0.714, \"Fitted Mean NDVI\": 0.762, \"Residual\": 0.011}, {\"Month\": \"05/21\", \"Years Since Epoch (t)\": 51.369, \"Max NDVI\": 0.999, \"Mean NDVI (t)\": 0.751, \"Min NDVI\": -0.459, \"Region\": \"d'Andohahela\", \"Mean NDVI (t-1)\": 0.773, \"Mean NDVI (t-2)\": 0.762, \"Fitted Mean NDVI\": 0.761, \"Residual\": -0.01}, {\"Month\": \"06/21\", \"Years Since Epoch (t)\": 51.453, \"Max NDVI\": 1.0, \"Mean NDVI (t)\": 0.768, \"Min NDVI\": -0.958, \"Region\": \"d'Andohahela\", \"Mean NDVI (t-1)\": 0.751, \"Mean NDVI (t-2)\": 0.773, \"Fitted Mean NDVI\": 0.737, \"Residual\": 0.031}, {\"Month\": \"07/21\", \"Years Since Epoch (t)\": 51.536, \"Max NDVI\": 1.0, \"Mean NDVI (t)\": 0.758, \"Min NDVI\": -0.99, \"Region\": \"d'Andohahela\", \"Mean NDVI (t-1)\": 0.768, \"Mean NDVI (t-2)\": 0.751, \"Fitted Mean NDVI\": 0.759, \"Residual\": -0.001}, {\"Month\": \"08/21\", \"Years Since Epoch (t)\": 51.62, \"Max NDVI\": 0.962, \"Mean NDVI (t)\": 0.7, \"Min NDVI\": -0.4, \"Region\": \"d'Andohahela\", \"Mean NDVI (t-1)\": 0.758, \"Mean NDVI (t-2)\": 0.768, \"Fitted Mean NDVI\": 0.745, \"Residual\": -0.045}, {\"Month\": \"09/21\", \"Years Since Epoch (t)\": 51.705, \"Max NDVI\": 0.938, \"Mean NDVI (t)\": 0.68, \"Min NDVI\": -0.396, \"Region\": \"d'Andohahela\", \"Mean NDVI (t-1)\": 0.7, \"Mean NDVI (t-2)\": 0.758, \"Fitted Mean NDVI\": 0.691, \"Residual\": -0.011}, {\"Month\": \"10/21\", \"Years Since Epoch (t)\": 51.788, \"Max NDVI\": 0.934, \"Mean NDVI (t)\": 0.632, \"Min NDVI\": -0.252, \"Region\": \"d'Andohahela\", \"Mean NDVI (t-1)\": 0.68, \"Mean NDVI (t-2)\": 0.7, \"Fitted Mean NDVI\": 0.686, \"Residual\": -0.054}], \"data-71d20fc1457caab8a8fc86de55361b93\": [{\"Month\": \"03/19\", \"Years Since Epoch (t)\": 49.2, \"Max NDVI\": 0.995, \"Mean NDVI (t)\": 0.815, \"Min NDVI\": -0.996, \"Region\": \"Midongy Betofaka\", \"Mean NDVI (t-1)\": 0.774, \"Mean NDVI (t-2)\": 0.791, \"Fitted Mean NDVI\": 0.769, \"Residual\": 0.046}, {\"Month\": \"04/19\", \"Years Since Epoch (t)\": 49.285, \"Max NDVI\": 0.996, \"Mean NDVI (t)\": 0.825, \"Min NDVI\": -0.705, \"Region\": \"Midongy Betofaka\", \"Mean NDVI (t-1)\": 0.815, \"Mean NDVI (t-2)\": 0.774, \"Fitted Mean NDVI\": 0.812, \"Residual\": 0.013}, {\"Month\": \"05/19\", \"Years Since Epoch (t)\": 49.367, \"Max NDVI\": 0.999, \"Mean NDVI (t)\": 0.835, \"Min NDVI\": -0.98, \"Region\": \"Midongy Betofaka\", \"Mean NDVI (t-1)\": 0.825, \"Mean NDVI (t-2)\": 0.815, \"Fitted Mean NDVI\": 0.811, \"Residual\": 0.024}, {\"Month\": \"06/19\", \"Years Since Epoch (t)\": 49.452, \"Max NDVI\": 0.999, \"Mean NDVI (t)\": 0.813, \"Min NDVI\": -0.976, \"Region\": \"Midongy Betofaka\", \"Mean NDVI (t-1)\": 0.835, \"Mean NDVI (t-2)\": 0.825, \"Fitted Mean NDVI\": 0.818, \"Residual\": -0.005}, {\"Month\": \"07/19\", \"Years Since Epoch (t)\": 49.534, \"Max NDVI\": 0.999, \"Mean NDVI (t)\": 0.826, \"Min NDVI\": -0.99, \"Region\": \"Midongy Betofaka\", \"Mean NDVI (t-1)\": 0.813, \"Mean NDVI (t-2)\": 0.835, \"Fitted Mean NDVI\": 0.795, \"Residual\": 0.031}, {\"Month\": \"08/19\", \"Years Since Epoch (t)\": 49.619, \"Max NDVI\": 0.962, \"Mean NDVI (t)\": 0.778, \"Min NDVI\": -0.632, \"Region\": \"Midongy Betofaka\", \"Mean NDVI (t-1)\": 0.826, \"Mean NDVI (t-2)\": 0.813, \"Fitted Mean NDVI\": 0.813, \"Residual\": -0.035}, {\"Month\": \"09/19\", \"Years Since Epoch (t)\": 49.704, \"Max NDVI\": 0.911, \"Mean NDVI (t)\": 0.721, \"Min NDVI\": -0.648, \"Region\": \"Midongy Betofaka\", \"Mean NDVI (t-1)\": 0.778, \"Mean NDVI (t-2)\": 0.826, \"Fitted Mean NDVI\": 0.764, \"Residual\": -0.043}, {\"Month\": \"10/19\", \"Years Since Epoch (t)\": 49.786, \"Max NDVI\": 0.919, \"Mean NDVI (t)\": 0.738, \"Min NDVI\": -0.87, \"Region\": \"Midongy Betofaka\", \"Mean NDVI (t-1)\": 0.721, \"Mean NDVI (t-2)\": 0.778, \"Fitted Mean NDVI\": 0.722, \"Residual\": 0.016}, {\"Month\": \"11/19\", \"Years Since Epoch (t)\": 49.871, \"Max NDVI\": 0.944, \"Mean NDVI (t)\": 0.757, \"Min NDVI\": -0.974, \"Region\": \"Midongy Betofaka\", \"Mean NDVI (t-1)\": 0.738, \"Mean NDVI (t-2)\": 0.721, \"Fitted Mean NDVI\": 0.753, \"Residual\": 0.004}, {\"Month\": \"12/19\", \"Years Since Epoch (t)\": 49.953, \"Max NDVI\": 0.999, \"Mean NDVI (t)\": 0.735, \"Min NDVI\": -0.768, \"Region\": \"Midongy Betofaka\", \"Mean NDVI (t-1)\": 0.757, \"Mean NDVI (t-2)\": 0.738, \"Fitted Mean NDVI\": 0.766, \"Residual\": -0.031}, {\"Month\": \"01/20\", \"Years Since Epoch (t)\": 50.038, \"Max NDVI\": 0.998, \"Mean NDVI (t)\": 0.766, \"Min NDVI\": -0.56, \"Region\": \"Midongy Betofaka\", \"Mean NDVI (t-1)\": 0.735, \"Mean NDVI (t-2)\": 0.757, \"Fitted Mean NDVI\": 0.741, \"Residual\": 0.025}, {\"Month\": \"02/20\", \"Years Since Epoch (t)\": 50.123, \"Max NDVI\": 0.972, \"Mean NDVI (t)\": 0.78, \"Min NDVI\": -0.979, \"Region\": \"Midongy Betofaka\", \"Mean NDVI (t-1)\": 0.766, \"Mean NDVI (t-2)\": 0.735, \"Fitted Mean NDVI\": 0.776, \"Residual\": 0.004}, {\"Month\": \"03/20\", \"Years Since Epoch (t)\": 50.202, \"Max NDVI\": 1.0, \"Mean NDVI (t)\": 0.809, \"Min NDVI\": -0.996, \"Region\": \"Midongy Betofaka\", \"Mean NDVI (t-1)\": 0.78, \"Mean NDVI (t-2)\": 0.766, \"Fitted Mean NDVI\": 0.781, \"Residual\": 0.028}, {\"Month\": \"04/20\", \"Years Since Epoch (t)\": 50.287, \"Max NDVI\": 0.999, \"Mean NDVI (t)\": 0.788, \"Min NDVI\": -0.992, \"Region\": \"Midongy Betofaka\", \"Mean NDVI (t-1)\": 0.809, \"Mean NDVI (t-2)\": 0.78, \"Fitted Mean NDVI\": 0.805, \"Residual\": -0.017}, {\"Month\": \"05/20\", \"Years Since Epoch (t)\": 50.369, \"Max NDVI\": 0.999, \"Mean NDVI (t)\": 0.819, \"Min NDVI\": -0.866, \"Region\": \"Midongy Betofaka\", \"Mean NDVI (t-1)\": 0.788, \"Mean NDVI (t-2)\": 0.809, \"Fitted Mean NDVI\": 0.778, \"Residual\": 0.041}, {\"Month\": \"06/20\", \"Years Since Epoch (t)\": 50.454, \"Max NDVI\": 0.999, \"Mean NDVI (t)\": 0.801, \"Min NDVI\": -0.606, \"Region\": \"Midongy Betofaka\", \"Mean NDVI (t-1)\": 0.819, \"Mean NDVI (t-2)\": 0.788, \"Fitted Mean NDVI\": 0.812, \"Residual\": -0.011}, {\"Month\": \"07/20\", \"Years Since Epoch (t)\": 50.536, \"Max NDVI\": 0.999, \"Mean NDVI (t)\": 0.797, \"Min NDVI\": -0.92, \"Region\": \"Midongy Betofaka\", \"Mean NDVI (t-1)\": 0.801, \"Mean NDVI (t-2)\": 0.819, \"Fitted Mean NDVI\": 0.788, \"Residual\": 0.009}, {\"Month\": \"08/20\", \"Years Since Epoch (t)\": 50.621, \"Max NDVI\": 0.999, \"Mean NDVI (t)\": 0.765, \"Min NDVI\": -0.993, \"Region\": \"Midongy Betofaka\", \"Mean NDVI (t-1)\": 0.797, \"Mean NDVI (t-2)\": 0.801, \"Fitted Mean NDVI\": 0.788, \"Residual\": -0.023}, {\"Month\": \"09/20\", \"Years Since Epoch (t)\": 50.706, \"Max NDVI\": 0.905, \"Mean NDVI (t)\": 0.714, \"Min NDVI\": -0.855, \"Region\": \"Midongy Betofaka\", \"Mean NDVI (t-1)\": 0.765, \"Mean NDVI (t-2)\": 0.797, \"Fitted Mean NDVI\": 0.759, \"Residual\": -0.045}, {\"Month\": \"10/20\", \"Years Since Epoch (t)\": 50.788, \"Max NDVI\": 0.915, \"Mean NDVI (t)\": 0.729, \"Min NDVI\": -0.64, \"Region\": \"Midongy Betofaka\", \"Mean NDVI (t-1)\": 0.714, \"Mean NDVI (t-2)\": 0.765, \"Fitted Mean NDVI\": 0.719, \"Residual\": 0.01}, {\"Month\": \"11/20\", \"Years Since Epoch (t)\": 50.873, \"Max NDVI\": 0.92, \"Mean NDVI (t)\": 0.718, \"Min NDVI\": -0.979, \"Region\": \"Midongy Betofaka\", \"Mean NDVI (t-1)\": 0.729, \"Mean NDVI (t-2)\": 0.714, \"Fitted Mean NDVI\": 0.746, \"Residual\": -0.028}, {\"Month\": \"12/20\", \"Years Since Epoch (t)\": 50.955, \"Max NDVI\": 0.929, \"Mean NDVI (t)\": 0.727, \"Min NDVI\": -0.605, \"Region\": \"Midongy Betofaka\", \"Mean NDVI (t-1)\": 0.718, \"Mean NDVI (t-2)\": 0.729, \"Fitted Mean NDVI\": 0.732, \"Residual\": -0.005}, {\"Month\": \"01/21\", \"Years Since Epoch (t)\": 51.04, \"Max NDVI\": 0.96, \"Mean NDVI (t)\": 0.786, \"Min NDVI\": -0.65, \"Region\": \"Midongy Betofaka\", \"Mean NDVI (t-1)\": 0.727, \"Mean NDVI (t-2)\": 0.718, \"Fitted Mean NDVI\": 0.743, \"Residual\": 0.043}, {\"Month\": \"02/21\", \"Years Since Epoch (t)\": 51.125, \"Max NDVI\": 0.999, \"Mean NDVI (t)\": 0.782, \"Min NDVI\": -0.646, \"Region\": \"Midongy Betofaka\", \"Mean NDVI (t-1)\": 0.786, \"Mean NDVI (t-2)\": 0.727, \"Fitted Mean NDVI\": 0.796, \"Residual\": -0.014}, {\"Month\": \"03/21\", \"Years Since Epoch (t)\": 51.202, \"Max NDVI\": 0.999, \"Mean NDVI (t)\": 0.792, \"Min NDVI\": -0.995, \"Region\": \"Midongy Betofaka\", \"Mean NDVI (t-1)\": 0.782, \"Mean NDVI (t-2)\": 0.786, \"Fitted Mean NDVI\": 0.778, \"Residual\": 0.014}, {\"Month\": \"04/21\", \"Years Since Epoch (t)\": 51.286, \"Max NDVI\": 0.998, \"Mean NDVI (t)\": 0.815, \"Min NDVI\": -0.754, \"Region\": \"Midongy Betofaka\", \"Mean NDVI (t-1)\": 0.792, \"Mean NDVI (t-2)\": 0.782, \"Fitted Mean NDVI\": 0.788, \"Residual\": 0.027}, {\"Month\": \"05/21\", \"Years Since Epoch (t)\": 51.369, \"Max NDVI\": 0.999, \"Mean NDVI (t)\": 0.806, \"Min NDVI\": -0.991, \"Region\": \"Midongy Betofaka\", \"Mean NDVI (t-1)\": 0.815, \"Mean NDVI (t-2)\": 0.792, \"Fitted Mean NDVI\": 0.808, \"Residual\": -0.002}, {\"Month\": \"06/21\", \"Years Since Epoch (t)\": 51.453, \"Max NDVI\": 1.0, \"Mean NDVI (t)\": 0.815, \"Min NDVI\": -0.992, \"Region\": \"Midongy Betofaka\", \"Mean NDVI (t-1)\": 0.806, \"Mean NDVI (t-2)\": 0.815, \"Fitted Mean NDVI\": 0.793, \"Residual\": 0.022}, {\"Month\": \"07/21\", \"Years Since Epoch (t)\": 51.536, \"Max NDVI\": 0.999, \"Mean NDVI (t)\": 0.787, \"Min NDVI\": -0.98, \"Region\": \"Midongy Betofaka\", \"Mean NDVI (t-1)\": 0.815, \"Mean NDVI (t-2)\": 0.806, \"Fitted Mean NDVI\": 0.804, \"Residual\": -0.017}, {\"Month\": \"08/21\", \"Years Since Epoch (t)\": 51.62, \"Max NDVI\": 0.99, \"Mean NDVI (t)\": 0.752, \"Min NDVI\": -0.864, \"Region\": \"Midongy Betofaka\", \"Mean NDVI (t-1)\": 0.787, \"Mean NDVI (t-2)\": 0.815, \"Fitted Mean NDVI\": 0.775, \"Residual\": -0.023}, {\"Month\": \"09/21\", \"Years Since Epoch (t)\": 51.705, \"Max NDVI\": 0.922, \"Mean NDVI (t)\": 0.724, \"Min NDVI\": -0.924, \"Region\": \"Midongy Betofaka\", \"Mean NDVI (t-1)\": 0.752, \"Mean NDVI (t-2)\": 0.787, \"Fitted Mean NDVI\": 0.749, \"Residual\": -0.025}, {\"Month\": \"10/21\", \"Years Since Epoch (t)\": 51.788, \"Max NDVI\": 0.914, \"Mean NDVI (t)\": 0.701, \"Min NDVI\": -0.984, \"Region\": \"Midongy Betofaka\", \"Mean NDVI (t-1)\": 0.724, \"Mean NDVI (t-2)\": 0.752, \"Fitted Mean NDVI\": 0.732, \"Residual\": -0.031}], \"data-514ce87b193aa3a65cc5502a4fcd66f3\": [{\"Month\": \"03/19\", \"Years Since Epoch (t)\": 49.2, \"Max NDVI\": 0.92, \"Mean NDVI (t)\": 0.516, \"Min NDVI\": -0.998, \"Region\": \"Tsimanampetsotsa\", \"Mean NDVI (t-1)\": 0.52, \"Mean NDVI (t-2)\": 0.503, \"Fitted Mean NDVI\": 0.485, \"Residual\": 0.031}, {\"Month\": \"04/19\", \"Years Since Epoch (t)\": 49.285, \"Max NDVI\": 0.937, \"Mean NDVI (t)\": 0.459, \"Min NDVI\": -0.891, \"Region\": \"Tsimanampetsotsa\", \"Mean NDVI (t-1)\": 0.516, \"Mean NDVI (t-2)\": 0.52, \"Fitted Mean NDVI\": 0.473, \"Residual\": -0.014}, {\"Month\": \"05/19\", \"Years Since Epoch (t)\": 49.367, \"Max NDVI\": 0.925, \"Mean NDVI (t)\": 0.436, \"Min NDVI\": -0.998, \"Region\": \"Tsimanampetsotsa\", \"Mean NDVI (t-1)\": 0.459, \"Mean NDVI (t-2)\": 0.516, \"Fitted Mean NDVI\": 0.403, \"Residual\": 0.033}, {\"Month\": \"06/19\", \"Years Since Epoch (t)\": 49.452, \"Max NDVI\": 0.999, \"Mean NDVI (t)\": 0.412, \"Min NDVI\": -0.999, \"Region\": \"Tsimanampetsotsa\", \"Mean NDVI (t-1)\": 0.436, \"Mean NDVI (t-2)\": 0.459, \"Fitted Mean NDVI\": 0.401, \"Residual\": 0.011}, {\"Month\": \"07/19\", \"Years Since Epoch (t)\": 49.534, \"Max NDVI\": 1.0, \"Mean NDVI (t)\": 0.403, \"Min NDVI\": -0.999, \"Region\": \"Tsimanampetsotsa\", \"Mean NDVI (t-1)\": 0.412, \"Mean NDVI (t-2)\": 0.436, \"Fitted Mean NDVI\": 0.381, \"Residual\": 0.022}, {\"Month\": \"08/19\", \"Years Since Epoch (t)\": 49.619, \"Max NDVI\": 0.999, \"Mean NDVI (t)\": 0.314, \"Min NDVI\": -0.999, \"Region\": \"Tsimanampetsotsa\", \"Mean NDVI (t-1)\": 0.403, \"Mean NDVI (t-2)\": 0.412, \"Fitted Mean NDVI\": 0.381, \"Residual\": -0.067}, {\"Month\": \"09/19\", \"Years Since Epoch (t)\": 49.704, \"Max NDVI\": 0.911, \"Mean NDVI (t)\": 0.271, \"Min NDVI\": -0.942, \"Region\": \"Tsimanampetsotsa\", \"Mean NDVI (t-1)\": 0.314, \"Mean NDVI (t-2)\": 0.403, \"Fitted Mean NDVI\": 0.274, \"Residual\": -0.003}, {\"Month\": \"10/19\", \"Years Since Epoch (t)\": 49.786, \"Max NDVI\": 0.925, \"Mean NDVI (t)\": 0.253, \"Min NDVI\": -0.999, \"Region\": \"Tsimanampetsotsa\", \"Mean NDVI (t-1)\": 0.271, \"Mean NDVI (t-2)\": 0.314, \"Fitted Mean NDVI\": 0.261, \"Residual\": -0.008}, {\"Month\": \"11/19\", \"Years Since Epoch (t)\": 49.871, \"Max NDVI\": 0.921, \"Mean NDVI (t)\": 0.359, \"Min NDVI\": -0.999, \"Region\": \"Tsimanampetsotsa\", \"Mean NDVI (t-1)\": 0.253, \"Mean NDVI (t-2)\": 0.271, \"Fitted Mean NDVI\": 0.258, \"Residual\": 0.101}, {\"Month\": \"12/19\", \"Years Since Epoch (t)\": 49.953, \"Max NDVI\": 0.957, \"Mean NDVI (t)\": 0.371, \"Min NDVI\": -0.999, \"Region\": \"Tsimanampetsotsa\", \"Mean NDVI (t-1)\": 0.359, \"Mean NDVI (t-2)\": 0.253, \"Fitted Mean NDVI\": 0.398, \"Residual\": -0.027}, {\"Month\": \"01/20\", \"Years Since Epoch (t)\": 50.038, \"Max NDVI\": 0.925, \"Mean NDVI (t)\": 0.379, \"Min NDVI\": -0.999, \"Region\": \"Tsimanampetsotsa\", \"Mean NDVI (t-1)\": 0.371, \"Mean NDVI (t-2)\": 0.359, \"Fitted Mean NDVI\": 0.365, \"Residual\": 0.014}, {\"Month\": \"02/20\", \"Years Since Epoch (t)\": 50.123, \"Max NDVI\": 0.909, \"Mean NDVI (t)\": 0.437, \"Min NDVI\": -0.999, \"Region\": \"Tsimanampetsotsa\", \"Mean NDVI (t-1)\": 0.379, \"Mean NDVI (t-2)\": 0.371, \"Fitted Mean NDVI\": 0.369, \"Residual\": 0.068}, {\"Month\": \"03/20\", \"Years Since Epoch (t)\": 50.202, \"Max NDVI\": 0.884, \"Mean NDVI (t)\": 0.394, \"Min NDVI\": -0.971, \"Region\": \"Tsimanampetsotsa\", \"Mean NDVI (t-1)\": 0.437, \"Mean NDVI (t-2)\": 0.379, \"Fitted Mean NDVI\": 0.438, \"Residual\": -0.044}, {\"Month\": \"04/20\", \"Years Since Epoch (t)\": 50.287, \"Max NDVI\": 0.944, \"Mean NDVI (t)\": 0.403, \"Min NDVI\": -0.986, \"Region\": \"Tsimanampetsotsa\", \"Mean NDVI (t-1)\": 0.394, \"Mean NDVI (t-2)\": 0.437, \"Fitted Mean NDVI\": 0.358, \"Residual\": 0.045}, {\"Month\": \"05/20\", \"Years Since Epoch (t)\": 50.369, \"Max NDVI\": 0.999, \"Mean NDVI (t)\": 0.394, \"Min NDVI\": -0.999, \"Region\": \"Tsimanampetsotsa\", \"Mean NDVI (t-1)\": 0.403, \"Mean NDVI (t-2)\": 0.394, \"Fitted Mean NDVI\": 0.389, \"Residual\": 0.005}, {\"Month\": \"06/20\", \"Years Since Epoch (t)\": 50.454, \"Max NDVI\": 0.999, \"Mean NDVI (t)\": 0.368, \"Min NDVI\": -0.999, \"Region\": \"Tsimanampetsotsa\", \"Mean NDVI (t-1)\": 0.394, \"Mean NDVI (t-2)\": 0.403, \"Fitted Mean NDVI\": 0.374, \"Residual\": -0.006}, {\"Month\": \"07/20\", \"Years Since Epoch (t)\": 50.536, \"Max NDVI\": 0.999, \"Mean NDVI (t)\": 0.318, \"Min NDVI\": -0.999, \"Region\": \"Tsimanampetsotsa\", \"Mean NDVI (t-1)\": 0.368, \"Mean NDVI (t-2)\": 0.394, \"Fitted Mean NDVI\": 0.345, \"Residual\": -0.027}, {\"Month\": \"08/20\", \"Years Since Epoch (t)\": 50.621, \"Max NDVI\": 0.946, \"Mean NDVI (t)\": 0.24, \"Min NDVI\": -0.999, \"Region\": \"Tsimanampetsotsa\", \"Mean NDVI (t-1)\": 0.318, \"Mean NDVI (t-2)\": 0.368, \"Fitted Mean NDVI\": 0.295, \"Residual\": -0.055}, {\"Month\": \"09/20\", \"Years Since Epoch (t)\": 50.706, \"Max NDVI\": 0.916, \"Mean NDVI (t)\": 0.225, \"Min NDVI\": -0.999, \"Region\": \"Tsimanampetsotsa\", \"Mean NDVI (t-1)\": 0.24, \"Mean NDVI (t-2)\": 0.318, \"Fitted Mean NDVI\": 0.221, \"Residual\": 0.004}, {\"Month\": \"10/20\", \"Years Since Epoch (t)\": 50.788, \"Max NDVI\": 0.907, \"Mean NDVI (t)\": 0.197, \"Min NDVI\": -0.999, \"Region\": \"Tsimanampetsotsa\", \"Mean NDVI (t-1)\": 0.225, \"Mean NDVI (t-2)\": 0.24, \"Fitted Mean NDVI\": 0.237, \"Residual\": -0.04}, {\"Month\": \"11/20\", \"Years Since Epoch (t)\": 50.873, \"Max NDVI\": 0.916, \"Mean NDVI (t)\": 0.193, \"Min NDVI\": -0.999, \"Region\": \"Tsimanampetsotsa\", \"Mean NDVI (t-1)\": 0.197, \"Mean NDVI (t-2)\": 0.225, \"Fitted Mean NDVI\": 0.209, \"Residual\": -0.016}, {\"Month\": \"12/20\", \"Years Since Epoch (t)\": 50.955, \"Max NDVI\": 0.996, \"Mean NDVI (t)\": 0.211, \"Min NDVI\": -0.999, \"Region\": \"Tsimanampetsotsa\", \"Mean NDVI (t-1)\": 0.193, \"Mean NDVI (t-2)\": 0.197, \"Fitted Mean NDVI\": 0.217, \"Residual\": -0.006}, {\"Month\": \"01/21\", \"Years Since Epoch (t)\": 51.04, \"Max NDVI\": 0.964, \"Mean NDVI (t)\": 0.257, \"Min NDVI\": -0.999, \"Region\": \"Tsimanampetsotsa\", \"Mean NDVI (t-1)\": 0.211, \"Mean NDVI (t-2)\": 0.193, \"Fitted Mean NDVI\": 0.241, \"Residual\": 0.016}, {\"Month\": \"02/21\", \"Years Since Epoch (t)\": 51.125, \"Max NDVI\": 0.93, \"Mean NDVI (t)\": 0.304, \"Min NDVI\": -0.999, \"Region\": \"Tsimanampetsotsa\", \"Mean NDVI (t-1)\": 0.257, \"Mean NDVI (t-2)\": 0.211, \"Fitted Mean NDVI\": 0.29, \"Residual\": 0.014}, {\"Month\": \"03/21\", \"Years Since Epoch (t)\": 51.202, \"Max NDVI\": 0.901, \"Mean NDVI (t)\": 0.425, \"Min NDVI\": -0.947, \"Region\": \"Tsimanampetsotsa\", \"Mean NDVI (t-1)\": 0.304, \"Mean NDVI (t-2)\": 0.257, \"Fitted Mean NDVI\": 0.328, \"Residual\": 0.097}, {\"Month\": \"04/21\", \"Years Since Epoch (t)\": 51.286, \"Max NDVI\": 1.0, \"Mean NDVI (t)\": 0.41, \"Min NDVI\": -0.999, \"Region\": \"Tsimanampetsotsa\", \"Mean NDVI (t-1)\": 0.425, \"Mean NDVI (t-2)\": 0.304, \"Fitted Mean NDVI\": 0.457, \"Residual\": -0.047}, {\"Month\": \"05/21\", \"Years Since Epoch (t)\": 51.369, \"Max NDVI\": 1.0, \"Mean NDVI (t)\": 0.405, \"Min NDVI\": -0.999, \"Region\": \"Tsimanampetsotsa\", \"Mean NDVI (t-1)\": 0.41, \"Mean NDVI (t-2)\": 0.425, \"Fitted Mean NDVI\": 0.384, \"Residual\": 0.021}, {\"Month\": \"06/21\", \"Years Since Epoch (t)\": 51.453, \"Max NDVI\": 1.0, \"Mean NDVI (t)\": 0.373, \"Min NDVI\": -0.999, \"Region\": \"Tsimanampetsotsa\", \"Mean NDVI (t-1)\": 0.405, \"Mean NDVI (t-2)\": 0.41, \"Fitted Mean NDVI\": 0.384, \"Residual\": -0.011}, {\"Month\": \"07/21\", \"Years Since Epoch (t)\": 51.536, \"Max NDVI\": 1.0, \"Mean NDVI (t)\": 0.321, \"Min NDVI\": -0.999, \"Region\": \"Tsimanampetsotsa\", \"Mean NDVI (t-1)\": 0.373, \"Mean NDVI (t-2)\": 0.405, \"Fitted Mean NDVI\": 0.347, \"Residual\": -0.026}, {\"Month\": \"08/21\", \"Years Since Epoch (t)\": 51.62, \"Max NDVI\": 0.999, \"Mean NDVI (t)\": 0.244, \"Min NDVI\": -0.999, \"Region\": \"Tsimanampetsotsa\", \"Mean NDVI (t-1)\": 0.321, \"Mean NDVI (t-2)\": 0.373, \"Fitted Mean NDVI\": 0.296, \"Residual\": -0.052}, {\"Month\": \"09/21\", \"Years Since Epoch (t)\": 51.705, \"Max NDVI\": 0.926, \"Mean NDVI (t)\": 0.209, \"Min NDVI\": -0.968, \"Region\": \"Tsimanampetsotsa\", \"Mean NDVI (t-1)\": 0.244, \"Mean NDVI (t-2)\": 0.321, \"Fitted Mean NDVI\": 0.224, \"Residual\": -0.015}, {\"Month\": \"10/21\", \"Years Since Epoch (t)\": 51.788, \"Max NDVI\": 0.934, \"Mean NDVI (t)\": 0.196, \"Min NDVI\": -0.999, \"Region\": \"Tsimanampetsotsa\", \"Mean NDVI (t-1)\": 0.209, \"Mean NDVI (t-2)\": 0.244, \"Fitted Mean NDVI\": 0.215, \"Residual\": -0.019}], \"data-5e9feab12ff4251b08f549f9b897067e\": [{\"Month\": \"03/19\", \"Years Since Epoch (t)\": 49.2, \"Max NDVI\": 0.999, \"Mean NDVI (t)\": 0.777, \"Min NDVI\": -0.663, \"Region\": \"d'Ankarafantsika\", \"Mean NDVI (t-1)\": 0.77, \"Mean NDVI (t-2)\": 0.737, \"Fitted Mean NDVI\": 0.75, \"Residual\": 0.027}, {\"Month\": \"04/19\", \"Years Since Epoch (t)\": 49.285, \"Max NDVI\": 0.999, \"Mean NDVI (t)\": 0.768, \"Min NDVI\": -0.614, \"Region\": \"d'Ankarafantsika\", \"Mean NDVI (t-1)\": 0.777, \"Mean NDVI (t-2)\": 0.77, \"Fitted Mean NDVI\": 0.745, \"Residual\": 0.023}, {\"Month\": \"05/19\", \"Years Since Epoch (t)\": 49.367, \"Max NDVI\": 0.993, \"Mean NDVI (t)\": 0.732, \"Min NDVI\": -0.499, \"Region\": \"d'Ankarafantsika\", \"Mean NDVI (t-1)\": 0.768, \"Mean NDVI (t-2)\": 0.777, \"Fitted Mean NDVI\": 0.732, \"Residual\": 0.0}, {\"Month\": \"06/19\", \"Years Since Epoch (t)\": 49.452, \"Max NDVI\": 0.999, \"Mean NDVI (t)\": 0.677, \"Min NDVI\": -0.526, \"Region\": \"d'Ankarafantsika\", \"Mean NDVI (t-1)\": 0.732, \"Mean NDVI (t-2)\": 0.768, \"Fitted Mean NDVI\": 0.694, \"Residual\": -0.017}, {\"Month\": \"07/19\", \"Years Since Epoch (t)\": 49.534, \"Max NDVI\": 0.988, \"Mean NDVI (t)\": 0.628, \"Min NDVI\": -0.345, \"Region\": \"d'Ankarafantsika\", \"Mean NDVI (t-1)\": 0.677, \"Mean NDVI (t-2)\": 0.732, \"Fitted Mean NDVI\": 0.645, \"Residual\": -0.017}, {\"Month\": \"08/19\", \"Years Since Epoch (t)\": 49.619, \"Max NDVI\": 0.994, \"Mean NDVI (t)\": 0.574, \"Min NDVI\": -0.328, \"Region\": \"d'Ankarafantsika\", \"Mean NDVI (t-1)\": 0.628, \"Mean NDVI (t-2)\": 0.677, \"Fitted Mean NDVI\": 0.611, \"Residual\": -0.037}, {\"Month\": \"09/19\", \"Years Since Epoch (t)\": 49.704, \"Max NDVI\": 0.909, \"Mean NDVI (t)\": 0.508, \"Min NDVI\": -0.32, \"Region\": \"d'Ankarafantsika\", \"Mean NDVI (t-1)\": 0.574, \"Mean NDVI (t-2)\": 0.628, \"Fitted Mean NDVI\": 0.568, \"Residual\": -0.06}, {\"Month\": \"10/19\", \"Years Since Epoch (t)\": 49.786, \"Max NDVI\": 0.877, \"Mean NDVI (t)\": 0.489, \"Min NDVI\": -0.175, \"Region\": \"d'Ankarafantsika\", \"Mean NDVI (t-1)\": 0.508, \"Mean NDVI (t-2)\": 0.574, \"Fitted Mean NDVI\": 0.514, \"Residual\": -0.025}, {\"Month\": \"11/19\", \"Years Since Epoch (t)\": 49.871, \"Max NDVI\": 0.999, \"Mean NDVI (t)\": 0.562, \"Min NDVI\": -0.345, \"Region\": \"d'Ankarafantsika\", \"Mean NDVI (t-1)\": 0.489, \"Mean NDVI (t-2)\": 0.508, \"Fitted Mean NDVI\": 0.518, \"Residual\": 0.044}, {\"Month\": \"12/19\", \"Years Since Epoch (t)\": 49.953, \"Max NDVI\": 0.962, \"Mean NDVI (t)\": 0.705, \"Min NDVI\": -0.338, \"Region\": \"d'Ankarafantsika\", \"Mean NDVI (t-1)\": 0.562, \"Mean NDVI (t-2)\": 0.489, \"Fitted Mean NDVI\": 0.61, \"Residual\": 0.095}, {\"Month\": \"01/20\", \"Years Since Epoch (t)\": 50.038, \"Max NDVI\": 0.921, \"Mean NDVI (t)\": 0.734, \"Min NDVI\": -0.373, \"Region\": \"d'Ankarafantsika\", \"Mean NDVI (t-1)\": 0.705, \"Mean NDVI (t-2)\": 0.562, \"Fitted Mean NDVI\": 0.745, \"Residual\": -0.011}, {\"Month\": \"02/20\", \"Years Since Epoch (t)\": 50.123, \"Max NDVI\": 0.998, \"Mean NDVI (t)\": 0.804, \"Min NDVI\": -0.54, \"Region\": \"d'Ankarafantsika\", \"Mean NDVI (t-1)\": 0.734, \"Mean NDVI (t-2)\": 0.705, \"Fitted Mean NDVI\": 0.721, \"Residual\": 0.083}, {\"Month\": \"03/20\", \"Years Since Epoch (t)\": 50.202, \"Max NDVI\": 0.999, \"Mean NDVI (t)\": 0.804, \"Min NDVI\": -0.68, \"Region\": \"d'Ankarafantsika\", \"Mean NDVI (t-1)\": 0.804, \"Mean NDVI (t-2)\": 0.734, \"Fitted Mean NDVI\": 0.79, \"Residual\": 0.014}, {\"Month\": \"04/20\", \"Years Since Epoch (t)\": 50.287, \"Max NDVI\": 0.955, \"Mean NDVI (t)\": 0.759, \"Min NDVI\": -0.431, \"Region\": \"d'Ankarafantsika\", \"Mean NDVI (t-1)\": 0.804, \"Mean NDVI (t-2)\": 0.804, \"Fitted Mean NDVI\": 0.762, \"Residual\": -0.003}, {\"Month\": \"05/20\", \"Years Since Epoch (t)\": 50.369, \"Max NDVI\": 0.942, \"Mean NDVI (t)\": 0.712, \"Min NDVI\": -0.458, \"Region\": \"d'Ankarafantsika\", \"Mean NDVI (t-1)\": 0.759, \"Mean NDVI (t-2)\": 0.804, \"Fitted Mean NDVI\": 0.711, \"Residual\": 0.001}, {\"Month\": \"06/20\", \"Years Since Epoch (t)\": 50.454, \"Max NDVI\": 0.982, \"Mean NDVI (t)\": 0.677, \"Min NDVI\": -0.388, \"Region\": \"d'Ankarafantsika\", \"Mean NDVI (t-1)\": 0.712, \"Mean NDVI (t-2)\": 0.759, \"Fitted Mean NDVI\": 0.675, \"Residual\": 0.002}, {\"Month\": \"07/20\", \"Years Since Epoch (t)\": 50.536, \"Max NDVI\": 0.955, \"Mean NDVI (t)\": 0.648, \"Min NDVI\": -0.387, \"Region\": \"d'Ankarafantsika\", \"Mean NDVI (t-1)\": 0.677, \"Mean NDVI (t-2)\": 0.712, \"Fitted Mean NDVI\": 0.653, \"Residual\": -0.005}, {\"Month\": \"08/20\", \"Years Since Epoch (t)\": 50.621, \"Max NDVI\": 0.956, \"Mean NDVI (t)\": 0.579, \"Min NDVI\": -0.527, \"Region\": \"d'Ankarafantsika\", \"Mean NDVI (t-1)\": 0.648, \"Mean NDVI (t-2)\": 0.677, \"Fitted Mean NDVI\": 0.634, \"Residual\": -0.055}, {\"Month\": \"09/20\", \"Years Since Epoch (t)\": 50.706, \"Max NDVI\": 0.894, \"Mean NDVI (t)\": 0.496, \"Min NDVI\": -0.24, \"Region\": \"d'Ankarafantsika\", \"Mean NDVI (t-1)\": 0.579, \"Mean NDVI (t-2)\": 0.648, \"Fitted Mean NDVI\": 0.566, \"Residual\": -0.07}, {\"Month\": \"10/20\", \"Years Since Epoch (t)\": 50.788, \"Max NDVI\": 0.998, \"Mean NDVI (t)\": 0.646, \"Min NDVI\": -0.322, \"Region\": \"d'Ankarafantsika\", \"Mean NDVI (t-1)\": 0.496, \"Mean NDVI (t-2)\": 0.579, \"Fitted Mean NDVI\": 0.498, \"Residual\": 0.148}, {\"Month\": \"11/20\", \"Years Since Epoch (t)\": 50.873, \"Max NDVI\": 0.903, \"Mean NDVI (t)\": 0.596, \"Min NDVI\": -0.282, \"Region\": \"d'Ankarafantsika\", \"Mean NDVI (t-1)\": 0.646, \"Mean NDVI (t-2)\": 0.496, \"Fitted Mean NDVI\": 0.703, \"Residual\": -0.107}, {\"Month\": \"12/20\", \"Years Since Epoch (t)\": 50.955, \"Max NDVI\": 0.999, \"Mean NDVI (t)\": 0.686, \"Min NDVI\": -0.501, \"Region\": \"d'Ankarafantsika\", \"Mean NDVI (t-1)\": 0.596, \"Mean NDVI (t-2)\": 0.646, \"Fitted Mean NDVI\": 0.586, \"Residual\": 0.1}, {\"Month\": \"01/21\", \"Years Since Epoch (t)\": 51.04, \"Max NDVI\": 0.999, \"Mean NDVI (t)\": 0.716, \"Min NDVI\": -0.513, \"Region\": \"d'Ankarafantsika\", \"Mean NDVI (t-1)\": 0.686, \"Mean NDVI (t-2)\": 0.596, \"Fitted Mean NDVI\": 0.71, \"Residual\": 0.006}, {\"Month\": \"02/21\", \"Years Since Epoch (t)\": 51.125, \"Max NDVI\": 0.999, \"Mean NDVI (t)\": 0.707, \"Min NDVI\": -0.42, \"Region\": \"d'Ankarafantsika\", \"Mean NDVI (t-1)\": 0.716, \"Mean NDVI (t-2)\": 0.686, \"Fitted Mean NDVI\": 0.708, \"Residual\": -0.001}, {\"Month\": \"03/21\", \"Years Since Epoch (t)\": 51.202, \"Max NDVI\": 0.998, \"Mean NDVI (t)\": 0.771, \"Min NDVI\": -0.511, \"Region\": \"d'Ankarafantsika\", \"Mean NDVI (t-1)\": 0.707, \"Mean NDVI (t-2)\": 0.716, \"Fitted Mean NDVI\": 0.686, \"Residual\": 0.085}, {\"Month\": \"04/21\", \"Years Since Epoch (t)\": 51.286, \"Max NDVI\": 0.962, \"Mean NDVI (t)\": 0.749, \"Min NDVI\": -0.459, \"Region\": \"d'Ankarafantsika\", \"Mean NDVI (t-1)\": 0.771, \"Mean NDVI (t-2)\": 0.707, \"Fitted Mean NDVI\": 0.763, \"Residual\": -0.014}, {\"Month\": \"05/21\", \"Years Since Epoch (t)\": 51.369, \"Max NDVI\": 0.924, \"Mean NDVI (t)\": 0.689, \"Min NDVI\": -0.501, \"Region\": \"d'Ankarafantsika\", \"Mean NDVI (t-1)\": 0.749, \"Mean NDVI (t-2)\": 0.771, \"Fitted Mean NDVI\": 0.712, \"Residual\": -0.023}, {\"Month\": \"06/21\", \"Years Since Epoch (t)\": 51.453, \"Max NDVI\": 0.949, \"Mean NDVI (t)\": 0.664, \"Min NDVI\": -0.449, \"Region\": \"d'Ankarafantsika\", \"Mean NDVI (t-1)\": 0.689, \"Mean NDVI (t-2)\": 0.749, \"Fitted Mean NDVI\": 0.652, \"Residual\": 0.012}, {\"Month\": \"07/21\", \"Years Since Epoch (t)\": 51.536, \"Max NDVI\": 0.993, \"Mean NDVI (t)\": 0.616, \"Min NDVI\": -0.311, \"Region\": \"d'Ankarafantsika\", \"Mean NDVI (t-1)\": 0.664, \"Mean NDVI (t-2)\": 0.689, \"Fitted Mean NDVI\": 0.647, \"Residual\": -0.031}, {\"Month\": \"08/21\", \"Years Since Epoch (t)\": 51.62, \"Max NDVI\": 0.946, \"Mean NDVI (t)\": 0.54, \"Min NDVI\": -0.336, \"Region\": \"d'Ankarafantsika\", \"Mean NDVI (t-1)\": 0.616, \"Mean NDVI (t-2)\": 0.664, \"Fitted Mean NDVI\": 0.602, \"Residual\": -0.062}, {\"Month\": \"09/21\", \"Years Since Epoch (t)\": 51.705, \"Max NDVI\": 0.954, \"Mean NDVI (t)\": 0.473, \"Min NDVI\": -0.357, \"Region\": \"d'Ankarafantsika\", \"Mean NDVI (t-1)\": 0.54, \"Mean NDVI (t-2)\": 0.616, \"Fitted Mean NDVI\": 0.534, \"Residual\": -0.061}, {\"Month\": \"10/21\", \"Years Since Epoch (t)\": 51.788, \"Max NDVI\": 0.954, \"Mean NDVI (t)\": 0.448, \"Min NDVI\": -0.248, \"Region\": \"d'Ankarafantsika\", \"Mean NDVI (t-1)\": 0.473, \"Mean NDVI (t-2)\": 0.54, \"Fitted Mean NDVI\": 0.487, \"Residual\": -0.039}], \"data-646e9e7d6577ef3631d8a8c233520785\": [{\"Month\": \"03/19\", \"Years Since Epoch (t)\": 49.2, \"Max NDVI\": 0.999, \"Mean NDVI (t)\": 0.578, \"Min NDVI\": -0.994, \"Region\": \"Masoala\", \"Mean NDVI (t-1)\": 0.469, \"Mean NDVI (t-2)\": 0.55, \"Fitted Mean NDVI\": 0.466, \"Residual\": 0.112}, {\"Month\": \"04/19\", \"Years Since Epoch (t)\": 49.285, \"Max NDVI\": 0.999, \"Mean NDVI (t)\": 0.451, \"Min NDVI\": -0.997, \"Region\": \"Masoala\", \"Mean NDVI (t-1)\": 0.578, \"Mean NDVI (t-2)\": 0.469, \"Fitted Mean NDVI\": 0.468, \"Residual\": -0.017}, {\"Month\": \"05/19\", \"Years Since Epoch (t)\": 49.367, \"Max NDVI\": 0.999, \"Mean NDVI (t)\": 0.566, \"Min NDVI\": -0.994, \"Region\": \"Masoala\", \"Mean NDVI (t-1)\": 0.451, \"Mean NDVI (t-2)\": 0.578, \"Fitted Mean NDVI\": 0.465, \"Residual\": 0.101}, {\"Month\": \"06/19\", \"Years Since Epoch (t)\": 49.452, \"Max NDVI\": 1.0, \"Mean NDVI (t)\": 0.443, \"Min NDVI\": -0.997, \"Region\": \"Masoala\", \"Mean NDVI (t-1)\": 0.566, \"Mean NDVI (t-2)\": 0.451, \"Fitted Mean NDVI\": 0.471, \"Residual\": -0.028}, {\"Month\": \"07/19\", \"Years Since Epoch (t)\": 49.534, \"Max NDVI\": 0.999, \"Mean NDVI (t)\": 0.35, \"Min NDVI\": -0.996, \"Region\": \"Masoala\", \"Mean NDVI (t-1)\": 0.443, \"Mean NDVI (t-2)\": 0.566, \"Fitted Mean NDVI\": 0.466, \"Residual\": -0.116}, {\"Month\": \"08/19\", \"Years Since Epoch (t)\": 49.619, \"Max NDVI\": 0.973, \"Mean NDVI (t)\": 0.439, \"Min NDVI\": -0.995, \"Region\": \"Masoala\", \"Mean NDVI (t-1)\": 0.35, \"Mean NDVI (t-2)\": 0.443, \"Fitted Mean NDVI\": 0.483, \"Residual\": -0.044}, {\"Month\": \"09/19\", \"Years Since Epoch (t)\": 49.704, \"Max NDVI\": 0.999, \"Mean NDVI (t)\": 0.515, \"Min NDVI\": -0.997, \"Region\": \"Masoala\", \"Mean NDVI (t-1)\": 0.439, \"Mean NDVI (t-2)\": 0.35, \"Fitted Mean NDVI\": 0.487, \"Residual\": 0.028}, {\"Month\": \"10/19\", \"Years Since Epoch (t)\": 49.786, \"Max NDVI\": 0.999, \"Mean NDVI (t)\": 0.477, \"Min NDVI\": -0.997, \"Region\": \"Masoala\", \"Mean NDVI (t-1)\": 0.515, \"Mean NDVI (t-2)\": 0.439, \"Fitted Mean NDVI\": 0.475, \"Residual\": 0.002}, {\"Month\": \"11/19\", \"Years Since Epoch (t)\": 49.871, \"Max NDVI\": 0.984, \"Mean NDVI (t)\": 0.5, \"Min NDVI\": -0.998, \"Region\": \"Masoala\", \"Mean NDVI (t-1)\": 0.477, \"Mean NDVI (t-2)\": 0.515, \"Fitted Mean NDVI\": 0.469, \"Residual\": 0.031}, {\"Month\": \"12/19\", \"Years Since Epoch (t)\": 49.953, \"Max NDVI\": 1.0, \"Mean NDVI (t)\": 0.474, \"Min NDVI\": -1.0, \"Region\": \"Masoala\", \"Mean NDVI (t-1)\": 0.5, \"Mean NDVI (t-2)\": 0.477, \"Fitted Mean NDVI\": 0.472, \"Residual\": 0.002}, {\"Month\": \"01/20\", \"Years Since Epoch (t)\": 50.038, \"Max NDVI\": 0.992, \"Mean NDVI (t)\": 0.4, \"Min NDVI\": -0.997, \"Region\": \"Masoala\", \"Mean NDVI (t-1)\": 0.474, \"Mean NDVI (t-2)\": 0.5, \"Fitted Mean NDVI\": 0.471, \"Residual\": -0.071}, {\"Month\": \"02/20\", \"Years Since Epoch (t)\": 50.123, \"Max NDVI\": 0.999, \"Mean NDVI (t)\": 0.549, \"Min NDVI\": -0.998, \"Region\": \"Masoala\", \"Mean NDVI (t-1)\": 0.4, \"Mean NDVI (t-2)\": 0.474, \"Fitted Mean NDVI\": 0.477, \"Residual\": 0.072}, {\"Month\": \"03/20\", \"Years Since Epoch (t)\": 50.202, \"Max NDVI\": 0.999, \"Mean NDVI (t)\": 0.456, \"Min NDVI\": -0.998, \"Region\": \"Masoala\", \"Mean NDVI (t-1)\": 0.549, \"Mean NDVI (t-2)\": 0.4, \"Fitted Mean NDVI\": 0.477, \"Residual\": -0.021}, {\"Month\": \"04/20\", \"Years Since Epoch (t)\": 50.287, \"Max NDVI\": 0.998, \"Mean NDVI (t)\": 0.349, \"Min NDVI\": -0.998, \"Region\": \"Masoala\", \"Mean NDVI (t-1)\": 0.456, \"Mean NDVI (t-2)\": 0.549, \"Fitted Mean NDVI\": 0.467, \"Residual\": -0.118}, {\"Month\": \"05/20\", \"Years Since Epoch (t)\": 50.369, \"Max NDVI\": 0.999, \"Mean NDVI (t)\": 0.539, \"Min NDVI\": -0.997, \"Region\": \"Masoala\", \"Mean NDVI (t-1)\": 0.349, \"Mean NDVI (t-2)\": 0.456, \"Fitted Mean NDVI\": 0.482, \"Residual\": 0.057}, {\"Month\": \"06/20\", \"Years Since Epoch (t)\": 50.454, \"Max NDVI\": 0.998, \"Mean NDVI (t)\": 0.45, \"Min NDVI\": -0.974, \"Region\": \"Masoala\", \"Mean NDVI (t-1)\": 0.539, \"Mean NDVI (t-2)\": 0.349, \"Fitted Mean NDVI\": 0.482, \"Residual\": -0.032}, {\"Month\": \"07/20\", \"Years Since Epoch (t)\": 50.536, \"Max NDVI\": 1.0, \"Mean NDVI (t)\": 0.446, \"Min NDVI\": -0.992, \"Region\": \"Masoala\", \"Mean NDVI (t-1)\": 0.45, \"Mean NDVI (t-2)\": 0.539, \"Fitted Mean NDVI\": 0.468, \"Residual\": -0.022}, {\"Month\": \"08/20\", \"Years Since Epoch (t)\": 50.621, \"Max NDVI\": 0.999, \"Mean NDVI (t)\": 0.294, \"Min NDVI\": -0.998, \"Region\": \"Masoala\", \"Mean NDVI (t-1)\": 0.446, \"Mean NDVI (t-2)\": 0.45, \"Fitted Mean NDVI\": 0.477, \"Residual\": -0.183}, {\"Month\": \"09/20\", \"Years Since Epoch (t)\": 50.706, \"Max NDVI\": 0.999, \"Mean NDVI (t)\": 0.441, \"Min NDVI\": -0.998, \"Region\": \"Masoala\", \"Mean NDVI (t-1)\": 0.294, \"Mean NDVI (t-2)\": 0.446, \"Fitted Mean NDVI\": 0.485, \"Residual\": -0.044}, {\"Month\": \"10/20\", \"Years Since Epoch (t)\": 50.788, \"Max NDVI\": 0.996, \"Mean NDVI (t)\": 0.51, \"Min NDVI\": -0.997, \"Region\": \"Masoala\", \"Mean NDVI (t-1)\": 0.441, \"Mean NDVI (t-2)\": 0.294, \"Fitted Mean NDVI\": 0.492, \"Residual\": 0.018}, {\"Month\": \"11/20\", \"Years Since Epoch (t)\": 50.873, \"Max NDVI\": 0.997, \"Mean NDVI (t)\": 0.561, \"Min NDVI\": -0.998, \"Region\": \"Masoala\", \"Mean NDVI (t-1)\": 0.51, \"Mean NDVI (t-2)\": 0.441, \"Fitted Mean NDVI\": 0.475, \"Residual\": 0.086}, {\"Month\": \"12/20\", \"Years Since Epoch (t)\": 50.955, \"Max NDVI\": 0.996, \"Mean NDVI (t)\": 0.491, \"Min NDVI\": -0.998, \"Region\": \"Masoala\", \"Mean NDVI (t-1)\": 0.561, \"Mean NDVI (t-2)\": 0.51, \"Fitted Mean NDVI\": 0.465, \"Residual\": 0.026}, {\"Month\": \"01/21\", \"Years Since Epoch (t)\": 51.04, \"Max NDVI\": 0.999, \"Mean NDVI (t)\": 0.487, \"Min NDVI\": -0.996, \"Region\": \"Masoala\", \"Mean NDVI (t-1)\": 0.491, \"Mean NDVI (t-2)\": 0.561, \"Fitted Mean NDVI\": 0.464, \"Residual\": 0.023}, {\"Month\": \"02/21\", \"Years Since Epoch (t)\": 51.125, \"Max NDVI\": 0.999, \"Mean NDVI (t)\": 0.422, \"Min NDVI\": -0.998, \"Region\": \"Masoala\", \"Mean NDVI (t-1)\": 0.487, \"Mean NDVI (t-2)\": 0.491, \"Fitted Mean NDVI\": 0.471, \"Residual\": -0.049}, {\"Month\": \"03/21\", \"Years Since Epoch (t)\": 51.202, \"Max NDVI\": 1.0, \"Mean NDVI (t)\": 0.523, \"Min NDVI\": -0.997, \"Region\": \"Masoala\", \"Mean NDVI (t-1)\": 0.422, \"Mean NDVI (t-2)\": 0.487, \"Fitted Mean NDVI\": 0.475, \"Residual\": 0.048}, {\"Month\": \"04/21\", \"Years Since Epoch (t)\": 51.286, \"Max NDVI\": 0.999, \"Mean NDVI (t)\": 0.531, \"Min NDVI\": -0.997, \"Region\": \"Masoala\", \"Mean NDVI (t-1)\": 0.523, \"Mean NDVI (t-2)\": 0.422, \"Fitted Mean NDVI\": 0.476, \"Residual\": 0.055}, {\"Month\": \"05/21\", \"Years Since Epoch (t)\": 51.369, \"Max NDVI\": 0.999, \"Mean NDVI (t)\": 0.549, \"Min NDVI\": -0.997, \"Region\": \"Masoala\", \"Mean NDVI (t-1)\": 0.531, \"Mean NDVI (t-2)\": 0.523, \"Fitted Mean NDVI\": 0.466, \"Residual\": 0.083}, {\"Month\": \"06/21\", \"Years Since Epoch (t)\": 51.453, \"Max NDVI\": 1.0, \"Mean NDVI (t)\": 0.368, \"Min NDVI\": -0.997, \"Region\": \"Masoala\", \"Mean NDVI (t-1)\": 0.549, \"Mean NDVI (t-2)\": 0.531, \"Fitted Mean NDVI\": 0.464, \"Residual\": -0.096}, {\"Month\": \"07/21\", \"Years Since Epoch (t)\": 51.536, \"Max NDVI\": 1.0, \"Mean NDVI (t)\": 0.477, \"Min NDVI\": -0.998, \"Region\": \"Masoala\", \"Mean NDVI (t-1)\": 0.368, \"Mean NDVI (t-2)\": 0.549, \"Fitted Mean NDVI\": 0.472, \"Residual\": 0.005}, {\"Month\": \"08/21\", \"Years Since Epoch (t)\": 51.62, \"Max NDVI\": 0.999, \"Mean NDVI (t)\": 0.481, \"Min NDVI\": -0.997, \"Region\": \"Masoala\", \"Mean NDVI (t-1)\": 0.477, \"Mean NDVI (t-2)\": 0.368, \"Fitted Mean NDVI\": 0.483, \"Residual\": -0.002}, {\"Month\": \"09/21\", \"Years Since Epoch (t)\": 51.705, \"Max NDVI\": 0.999, \"Mean NDVI (t)\": 0.454, \"Min NDVI\": -0.997, \"Region\": \"Masoala\", \"Mean NDVI (t-1)\": 0.481, \"Mean NDVI (t-2)\": 0.477, \"Fitted Mean NDVI\": 0.473, \"Residual\": -0.019}, {\"Month\": \"10/21\", \"Years Since Epoch (t)\": 51.788, \"Max NDVI\": 0.995, \"Mean NDVI (t)\": 0.587, \"Min NDVI\": -0.995, \"Region\": \"Masoala\", \"Mean NDVI (t-1)\": 0.454, \"Mean NDVI (t-2)\": 0.481, \"Fitted Mean NDVI\": 0.474, \"Residual\": 0.113}], \"data-a80bb4de0925677bfeb3ef3643c0488b\": [{\"Month\": \"03/19\", \"Years Since Epoch (t)\": 49.2, \"Max NDVI\": 0.937, \"Mean NDVI (t)\": 0.661, \"Min NDVI\": -0.636, \"Region\": \"Alan'Ankirisa\", \"Mean NDVI (t-1)\": 0.638, \"Mean NDVI (t-2)\": 0.577, \"Fitted Mean NDVI\": 0.638, \"Residual\": 0.023}, {\"Month\": \"04/19\", \"Years Since Epoch (t)\": 49.285, \"Max NDVI\": 0.958, \"Mean NDVI (t)\": 0.582, \"Min NDVI\": -0.534, \"Region\": \"Alan'Ankirisa\", \"Mean NDVI (t-1)\": 0.661, \"Mean NDVI (t-2)\": 0.638, \"Fitted Mean NDVI\": 0.622, \"Residual\": -0.04}, {\"Month\": \"05/19\", \"Years Since Epoch (t)\": 49.367, \"Max NDVI\": 0.999, \"Mean NDVI (t)\": 0.493, \"Min NDVI\": -0.601, \"Region\": \"Alan'Ankirisa\", \"Mean NDVI (t-1)\": 0.582, \"Mean NDVI (t-2)\": 0.661, \"Fitted Mean NDVI\": 0.484, \"Residual\": 0.009}, {\"Month\": \"06/19\", \"Years Since Epoch (t)\": 49.452, \"Max NDVI\": 0.959, \"Mean NDVI (t)\": 0.477, \"Min NDVI\": -0.658, \"Region\": \"Alan'Ankirisa\", \"Mean NDVI (t-1)\": 0.493, \"Mean NDVI (t-2)\": 0.582, \"Fitted Mean NDVI\": 0.414, \"Residual\": 0.063}, {\"Month\": \"07/19\", \"Years Since Epoch (t)\": 49.534, \"Max NDVI\": 0.893, \"Mean NDVI (t)\": 0.421, \"Min NDVI\": -0.639, \"Region\": \"Alan'Ankirisa\", \"Mean NDVI (t-1)\": 0.477, \"Mean NDVI (t-2)\": 0.493, \"Fitted Mean NDVI\": 0.463, \"Residual\": -0.042}, {\"Month\": \"08/19\", \"Years Since Epoch (t)\": 49.619, \"Max NDVI\": 0.916, \"Mean NDVI (t)\": 0.376, \"Min NDVI\": -0.999, \"Region\": \"Alan'Ankirisa\", \"Mean NDVI (t-1)\": 0.421, \"Mean NDVI (t-2)\": 0.477, \"Fitted Mean NDVI\": 0.392, \"Residual\": -0.016}, {\"Month\": \"09/19\", \"Years Since Epoch (t)\": 49.704, \"Max NDVI\": 0.878, \"Mean NDVI (t)\": 0.327, \"Min NDVI\": -0.657, \"Region\": \"Alan'Ankirisa\", \"Mean NDVI (t-1)\": 0.376, \"Mean NDVI (t-2)\": 0.421, \"Fitted Mean NDVI\": 0.37, \"Residual\": -0.043}, {\"Month\": \"10/19\", \"Years Since Epoch (t)\": 49.786, \"Max NDVI\": 0.863, \"Mean NDVI (t)\": 0.257, \"Min NDVI\": -0.504, \"Region\": \"Alan'Ankirisa\", \"Mean NDVI (t-1)\": 0.327, \"Mean NDVI (t-2)\": 0.376, \"Fitted Mean NDVI\": 0.333, \"Residual\": -0.076}, {\"Month\": \"11/19\", \"Years Since Epoch (t)\": 49.871, \"Max NDVI\": 0.98, \"Mean NDVI (t)\": 0.317, \"Min NDVI\": -0.513, \"Region\": \"Alan'Ankirisa\", \"Mean NDVI (t-1)\": 0.257, \"Mean NDVI (t-2)\": 0.327, \"Fitted Mean NDVI\": 0.267, \"Residual\": 0.05}, {\"Month\": \"12/19\", \"Years Since Epoch (t)\": 49.953, \"Max NDVI\": 0.943, \"Mean NDVI (t)\": 0.506, \"Min NDVI\": -0.662, \"Region\": \"Alan'Ankirisa\", \"Mean NDVI (t-1)\": 0.317, \"Mean NDVI (t-2)\": 0.257, \"Fitted Mean NDVI\": 0.416, \"Residual\": 0.09}, {\"Month\": \"01/20\", \"Years Since Epoch (t)\": 50.038, \"Max NDVI\": 0.968, \"Mean NDVI (t)\": 0.671, \"Min NDVI\": -0.803, \"Region\": \"Alan'Ankirisa\", \"Mean NDVI (t-1)\": 0.506, \"Mean NDVI (t-2)\": 0.317, \"Fitted Mean NDVI\": 0.652, \"Residual\": 0.019}, {\"Month\": \"02/20\", \"Years Since Epoch (t)\": 50.123, \"Max NDVI\": 0.999, \"Mean NDVI (t)\": 0.698, \"Min NDVI\": -0.996, \"Region\": \"Alan'Ankirisa\", \"Mean NDVI (t-1)\": 0.671, \"Mean NDVI (t-2)\": 0.506, \"Fitted Mean NDVI\": 0.746, \"Residual\": -0.048}, {\"Month\": \"03/20\", \"Years Since Epoch (t)\": 50.202, \"Max NDVI\": 0.942, \"Mean NDVI (t)\": 0.658, \"Min NDVI\": -0.784, \"Region\": \"Alan'Ankirisa\", \"Mean NDVI (t-1)\": 0.698, \"Mean NDVI (t-2)\": 0.671, \"Fitted Mean NDVI\": 0.651, \"Residual\": 0.007}, {\"Month\": \"04/20\", \"Years Since Epoch (t)\": 50.287, \"Max NDVI\": 0.924, \"Mean NDVI (t)\": 0.599, \"Min NDVI\": -0.547, \"Region\": \"Alan'Ankirisa\", \"Mean NDVI (t-1)\": 0.658, \"Mean NDVI (t-2)\": 0.698, \"Fitted Mean NDVI\": 0.568, \"Residual\": 0.031}, {\"Month\": \"05/20\", \"Years Since Epoch (t)\": 50.369, \"Max NDVI\": 0.999, \"Mean NDVI (t)\": 0.555, \"Min NDVI\": -0.732, \"Region\": \"Alan'Ankirisa\", \"Mean NDVI (t-1)\": 0.599, \"Mean NDVI (t-2)\": 0.658, \"Fitted Mean NDVI\": 0.512, \"Residual\": 0.043}, {\"Month\": \"06/20\", \"Years Since Epoch (t)\": 50.454, \"Max NDVI\": 0.94, \"Mean NDVI (t)\": 0.502, \"Min NDVI\": -0.742, \"Region\": \"Alan'Ankirisa\", \"Mean NDVI (t-1)\": 0.555, \"Mean NDVI (t-2)\": 0.599, \"Fitted Mean NDVI\": 0.494, \"Residual\": 0.008}, {\"Month\": \"07/20\", \"Years Since Epoch (t)\": 50.536, \"Max NDVI\": 0.94, \"Mean NDVI (t)\": 0.424, \"Min NDVI\": -0.999, \"Region\": \"Alan'Ankirisa\", \"Mean NDVI (t-1)\": 0.502, \"Mean NDVI (t-2)\": 0.555, \"Fitted Mean NDVI\": 0.45, \"Residual\": -0.026}, {\"Month\": \"08/20\", \"Years Since Epoch (t)\": 50.621, \"Max NDVI\": 0.894, \"Mean NDVI (t)\": 0.358, \"Min NDVI\": -0.604, \"Region\": \"Alan'Ankirisa\", \"Mean NDVI (t-1)\": 0.424, \"Mean NDVI (t-2)\": 0.502, \"Fitted Mean NDVI\": 0.376, \"Residual\": -0.018}, {\"Month\": \"09/20\", \"Years Since Epoch (t)\": 50.706, \"Max NDVI\": 0.862, \"Mean NDVI (t)\": 0.305, \"Min NDVI\": -0.587, \"Region\": \"Alan'Ankirisa\", \"Mean NDVI (t-1)\": 0.358, \"Mean NDVI (t-2)\": 0.424, \"Fitted Mean NDVI\": 0.34, \"Residual\": -0.035}, {\"Month\": \"10/20\", \"Years Since Epoch (t)\": 50.788, \"Max NDVI\": 0.873, \"Mean NDVI (t)\": 0.306, \"Min NDVI\": -0.463, \"Region\": \"Alan'Ankirisa\", \"Mean NDVI (t-1)\": 0.305, \"Mean NDVI (t-2)\": 0.358, \"Fitted Mean NDVI\": 0.314, \"Residual\": -0.008}, {\"Month\": \"11/20\", \"Years Since Epoch (t)\": 50.873, \"Max NDVI\": 0.863, \"Mean NDVI (t)\": 0.297, \"Min NDVI\": -0.433, \"Region\": \"Alan'Ankirisa\", \"Mean NDVI (t-1)\": 0.306, \"Mean NDVI (t-2)\": 0.305, \"Fitted Mean NDVI\": 0.359, \"Residual\": -0.062}, {\"Month\": \"12/20\", \"Years Since Epoch (t)\": 50.955, \"Max NDVI\": 0.982, \"Mean NDVI (t)\": 0.425, \"Min NDVI\": -0.479, \"Region\": \"Alan'Ankirisa\", \"Mean NDVI (t-1)\": 0.297, \"Mean NDVI (t-2)\": 0.306, \"Fitted Mean NDVI\": 0.345, \"Residual\": 0.08}, {\"Month\": \"01/21\", \"Years Since Epoch (t)\": 51.04, \"Max NDVI\": 0.952, \"Mean NDVI (t)\": 0.635, \"Min NDVI\": -0.824, \"Region\": \"Alan'Ankirisa\", \"Mean NDVI (t-1)\": 0.425, \"Mean NDVI (t-2)\": 0.297, \"Fitted Mean NDVI\": 0.546, \"Residual\": 0.089}, {\"Month\": \"02/21\", \"Years Since Epoch (t)\": 51.125, \"Max NDVI\": 0.931, \"Mean NDVI (t)\": 0.711, \"Min NDVI\": -0.554, \"Region\": \"Alan'Ankirisa\", \"Mean NDVI (t-1)\": 0.635, \"Mean NDVI (t-2)\": 0.425, \"Fitted Mean NDVI\": 0.759, \"Residual\": -0.048}, {\"Month\": \"03/21\", \"Years Since Epoch (t)\": 51.202, \"Max NDVI\": 0.984, \"Mean NDVI (t)\": 0.702, \"Min NDVI\": -0.768, \"Region\": \"Alan'Ankirisa\", \"Mean NDVI (t-1)\": 0.711, \"Mean NDVI (t-2)\": 0.635, \"Fitted Mean NDVI\": 0.701, \"Residual\": 0.001}, {\"Month\": \"04/21\", \"Years Since Epoch (t)\": 51.286, \"Max NDVI\": 0.927, \"Mean NDVI (t)\": 0.62, \"Min NDVI\": -0.68, \"Region\": \"Alan'Ankirisa\", \"Mean NDVI (t-1)\": 0.702, \"Mean NDVI (t-2)\": 0.711, \"Fitted Mean NDVI\": 0.624, \"Residual\": -0.004}, {\"Month\": \"05/21\", \"Years Since Epoch (t)\": 51.369, \"Max NDVI\": 0.931, \"Mean NDVI (t)\": 0.54, \"Min NDVI\": -0.614, \"Region\": \"Alan'Ankirisa\", \"Mean NDVI (t-1)\": 0.62, \"Mean NDVI (t-2)\": 0.702, \"Fitted Mean NDVI\": 0.507, \"Residual\": 0.033}, {\"Month\": \"06/21\", \"Years Since Epoch (t)\": 51.453, \"Max NDVI\": 0.931, \"Mean NDVI (t)\": 0.489, \"Min NDVI\": -0.657, \"Region\": \"Alan'Ankirisa\", \"Mean NDVI (t-1)\": 0.54, \"Mean NDVI (t-2)\": 0.62, \"Fitted Mean NDVI\": 0.454, \"Residual\": 0.035}, {\"Month\": \"07/21\", \"Years Since Epoch (t)\": 51.536, \"Max NDVI\": 0.938, \"Mean NDVI (t)\": 0.439, \"Min NDVI\": -0.998, \"Region\": \"Alan'Ankirisa\", \"Mean NDVI (t-1)\": 0.489, \"Mean NDVI (t-2)\": 0.54, \"Fitted Mean NDVI\": 0.443, \"Residual\": -0.004}, {\"Month\": \"08/21\", \"Years Since Epoch (t)\": 51.62, \"Max NDVI\": 0.884, \"Mean NDVI (t)\": 0.343, \"Min NDVI\": -0.648, \"Region\": \"Alan'Ankirisa\", \"Mean NDVI (t-1)\": 0.439, \"Mean NDVI (t-2)\": 0.489, \"Fitted Mean NDVI\": 0.409, \"Residual\": -0.066}, {\"Month\": \"09/21\", \"Years Since Epoch (t)\": 51.705, \"Max NDVI\": 0.901, \"Mean NDVI (t)\": 0.312, \"Min NDVI\": -0.734, \"Region\": \"Alan'Ankirisa\", \"Mean NDVI (t-1)\": 0.343, \"Mean NDVI (t-2)\": 0.439, \"Fitted Mean NDVI\": 0.305, \"Residual\": 0.007}, {\"Month\": \"10/21\", \"Years Since Epoch (t)\": 51.788, \"Max NDVI\": 0.869, \"Mean NDVI (t)\": 0.283, \"Min NDVI\": -0.7, \"Region\": \"Alan'Ankirisa\", \"Mean NDVI (t-1)\": 0.312, \"Mean NDVI (t-2)\": 0.343, \"Fitted Mean NDVI\": 0.337, \"Residual\": -0.054}]}}, {\"mode\": \"vega-lite\"});\n",
       "</script>"
      ],
      "text/plain": [
       "alt.VConcatChart(...)"
      ]
     },
     "execution_count": 17,
     "metadata": {},
     "output_type": "execute_result"
    }
   ],
   "source": [
    "# AR(2) models\n",
    "\n",
    "charts_3, mseAR = [], dict()\n",
    "\n",
    "for i in list(zip(df[\"Region\"].unique(), colors)):\n",
    "    dfSubset = df[df[\"Region\"] == i[0]]\n",
    "\n",
    "    dfSubset[\"Mean NDVI (t-1)\"] = dfSubset[\"Mean NDVI\"].shift(1)\n",
    "    dfSubset[\"Mean NDVI (t-2)\"] = dfSubset[\"Mean NDVI\"].shift(2)\n",
    "    dfSubset = dfSubset.rename(columns={\"Mean NDVI\": \"Mean NDVI (t)\"}  # drop first two observations with NaN's\n",
    "                      ).iloc[2:,].reset_index(drop=True)\n",
    "\n",
    "    trainFeatures = dfSubset[[\"Mean NDVI (t-1)\", \"Mean NDVI (t-2)\"]].values\n",
    "    target = dfSubset[\"Mean NDVI (t)\"].values.reshape(len(dfSubset), 1)\n",
    "\n",
    "    ar_2 = LinearRegression().fit(trainFeatures, target)  # AR(2) model\n",
    "\n",
    "    dfSubset[\"Fitted Mean NDVI\"] = np.round(ar_2.predict(trainFeatures), 3)\n",
    "    dfSubset[\"Residual\"] = np.round(target - ar_2.predict(trainFeatures), 3)\n",
    "    mseAR[i[0]] = np.mean(np.square(dfSubset[\"Residual\"]))\n",
    "\n",
    "    chart = alt.layer(alt.Chart(dfSubset).mark_line(color=i[1]\n",
    "                                        ).encode(x=alt.X(\"Month:O\",\n",
    "                                                          sort=formattedAxisDates),\n",
    "                                                 y=\"Mean NDVI (t)\"),\n",
    "                      alt.Chart(dfSubset).mark_circle(color=i[1], size=50\n",
    "                                        ).encode(x=alt.X(\"Month:O\",\n",
    "                                                          sort=formattedAxisDates),\n",
    "                                                 y=\"Mean NDVI (t)\",\n",
    "                                                 tooltip=[\"Month\", \"Region\", \"Mean NDVI (t)\"]),\n",
    "                      alt.Chart(dfSubset).mark_line(color=\"red\"\n",
    "                                        ).encode(x=alt.X(\"Month:O\",\n",
    "                                                          sort=formattedAxisDates),\n",
    "                                                 y=\"Fitted Mean NDVI\"),\n",
    "                      alt.Chart(dfSubset).mark_circle(color=\"red\", size=50\n",
    "                                        ).encode(x=alt.X(\"Month:O\",\n",
    "                                                          sort=formattedAxisDates),\n",
    "                                                 y=\"Fitted Mean NDVI\",\n",
    "                                                 tooltip=[\"Month\", \"Region\", \"Fitted Mean NDVI\", \"Residual\"]))\n",
    "\n",
    "    charts_3.append(chart.properties(title=\"{} Fitted Monthly Mean NDVI\".format(i[0]),\n",
    "                                     height=300, width=500))\n",
    "\n",
    "alt.vconcat(*charts_3)"
   ]
  },
  {
   "cell_type": "code",
   "execution_count": 18,
   "metadata": {
    "colab": {
     "base_uri": "https://localhost:8080/",
     "height": 237
    },
    "id": "-gpsNXwz1dZ1",
    "outputId": "c1ea76e1-b5c9-4b69-e7d0-e02eda13e7db"
   },
   "outputs": [
    {
     "data": {
      "text/html": [
       "<div>\n",
       "<style scoped>\n",
       "    .dataframe tbody tr th:only-of-type {\n",
       "        vertical-align: middle;\n",
       "    }\n",
       "\n",
       "    .dataframe tbody tr th {\n",
       "        vertical-align: top;\n",
       "    }\n",
       "\n",
       "    .dataframe thead th {\n",
       "        text-align: right;\n",
       "    }\n",
       "</style>\n",
       "<table border=\"1\" class=\"dataframe\">\n",
       "  <thead>\n",
       "    <tr style=\"text-align: right;\">\n",
       "      <th></th>\n",
       "      <th>Regions</th>\n",
       "      <th>Linear MSE</th>\n",
       "      <th>Harmonic MSE</th>\n",
       "      <th>AR(2) MSE</th>\n",
       "    </tr>\n",
       "  </thead>\n",
       "  <tbody>\n",
       "    <tr>\n",
       "      <th>0</th>\n",
       "      <td>d'Andohahela</td>\n",
       "      <td>0.001589</td>\n",
       "      <td>0.000385</td>\n",
       "      <td>0.000841</td>\n",
       "    </tr>\n",
       "    <tr>\n",
       "      <th>1</th>\n",
       "      <td>Midongy Betofaka</td>\n",
       "      <td>0.001260</td>\n",
       "      <td>0.000203</td>\n",
       "      <td>0.000659</td>\n",
       "    </tr>\n",
       "    <tr>\n",
       "      <th>2</th>\n",
       "      <td>Tsimanampetsotsa</td>\n",
       "      <td>0.005909</td>\n",
       "      <td>0.001512</td>\n",
       "      <td>0.001545</td>\n",
       "    </tr>\n",
       "    <tr>\n",
       "      <th>3</th>\n",
       "      <td>d'Ankarafantsika</td>\n",
       "      <td>0.008959</td>\n",
       "      <td>0.001233</td>\n",
       "      <td>0.002972</td>\n",
       "    </tr>\n",
       "    <tr>\n",
       "      <th>4</th>\n",
       "      <td>Masoala</td>\n",
       "      <td>0.004690</td>\n",
       "      <td>0.004158</td>\n",
       "      <td>0.004739</td>\n",
       "    </tr>\n",
       "    <tr>\n",
       "      <th>5</th>\n",
       "      <td>Alan'Ankirisa</td>\n",
       "      <td>0.019282</td>\n",
       "      <td>0.002053</td>\n",
       "      <td>0.002014</td>\n",
       "    </tr>\n",
       "  </tbody>\n",
       "</table>\n",
       "</div>"
      ],
      "text/plain": [
       "            Regions  Linear MSE  Harmonic MSE  AR(2) MSE\n",
       "0      d'Andohahela    0.001589      0.000385   0.000841\n",
       "1  Midongy Betofaka    0.001260      0.000203   0.000659\n",
       "2  Tsimanampetsotsa    0.005909      0.001512   0.001545\n",
       "3  d'Ankarafantsika    0.008959      0.001233   0.002972\n",
       "4           Masoala    0.004690      0.004158   0.004739\n",
       "5     Alan'Ankirisa    0.019282      0.002053   0.002014"
      ]
     },
     "execution_count": 18,
     "metadata": {},
     "output_type": "execute_result"
    }
   ],
   "source": [
    "# MSE for training month\n",
    "pd.DataFrame({\"Regions\": mseLinearMod.keys(),\n",
    "              \"Linear MSE\": mseLinearMod.values(),\n",
    "              \"Harmonic MSE\": mseHarmonicMod.values(),\n",
    "              \"AR(2) MSE\": mseAR.values()})"
   ]
  },
  {
   "cell_type": "code",
   "execution_count": 19,
   "metadata": {
    "id": "90MyyOnDv9iB"
   },
   "outputs": [],
   "source": [
    "regionGeometries = {}\n",
    "\n",
    "for i in feats.getInfo()[\"features\"]:\n",
    "    regionGeometries[i[\"properties\"][\"name\"]] = ee.Geometry(i[\"geometry\"])"
   ]
  },
  {
   "cell_type": "code",
   "execution_count": 20,
   "metadata": {
    "colab": {
     "base_uri": "https://localhost:8080/",
     "height": 1000
    },
    "id": "k2moEUXrYRbC",
    "outputId": "b38989cc-f0c9-4b85-a8f5-352024231ba0"
   },
   "outputs": [
    {
     "name": "stdout",
     "output_type": "stream",
     "text": [
      "2019-01-01 - 2019-02-01\n"
     ]
    },
    {
     "data": {
      "text/html": [
       "<div style=\"width:100%;\"><div style=\"position:relative;width:100%;height:0;padding-bottom:60%;\"><span style=\"color:#565656\">Make this Notebook Trusted to load map: File -> Trust Notebook</span><iframe src=\"about:blank\" style=\"position:absolute;width:100%;height:100%;left:0;top:0;border:none !important;\" data-html=%3C%21DOCTYPE%20html%3E%0A%3Chead%3E%20%20%20%20%0A%20%20%20%20%3Cmeta%20http-equiv%3D%22content-type%22%20content%3D%22text/html%3B%20charset%3DUTF-8%22%20/%3E%0A%20%20%20%20%0A%20%20%20%20%20%20%20%20%3Cscript%3E%0A%20%20%20%20%20%20%20%20%20%20%20%20L_NO_TOUCH%20%3D%20false%3B%0A%20%20%20%20%20%20%20%20%20%20%20%20L_DISABLE_3D%20%3D%20false%3B%0A%20%20%20%20%20%20%20%20%3C/script%3E%0A%20%20%20%20%0A%20%20%20%20%3Cstyle%3Ehtml%2C%20body%20%7Bwidth%3A%20100%25%3Bheight%3A%20100%25%3Bmargin%3A%200%3Bpadding%3A%200%3B%7D%3C/style%3E%0A%20%20%20%20%3Cstyle%3E%23map%20%7Bposition%3Aabsolute%3Btop%3A0%3Bbottom%3A0%3Bright%3A0%3Bleft%3A0%3B%7D%3C/style%3E%0A%20%20%20%20%3Cscript%20src%3D%22https%3A//cdn.jsdelivr.net/npm/leaflet%401.6.0/dist/leaflet.js%22%3E%3C/script%3E%0A%20%20%20%20%3Cscript%20src%3D%22https%3A//code.jquery.com/jquery-1.12.4.min.js%22%3E%3C/script%3E%0A%20%20%20%20%3Cscript%20src%3D%22https%3A//maxcdn.bootstrapcdn.com/bootstrap/3.2.0/js/bootstrap.min.js%22%3E%3C/script%3E%0A%20%20%20%20%3Cscript%20src%3D%22https%3A//cdnjs.cloudflare.com/ajax/libs/Leaflet.awesome-markers/2.0.2/leaflet.awesome-markers.js%22%3E%3C/script%3E%0A%20%20%20%20%3Clink%20rel%3D%22stylesheet%22%20href%3D%22https%3A//cdn.jsdelivr.net/npm/leaflet%401.6.0/dist/leaflet.css%22/%3E%0A%20%20%20%20%3Clink%20rel%3D%22stylesheet%22%20href%3D%22https%3A//maxcdn.bootstrapcdn.com/bootstrap/3.2.0/css/bootstrap.min.css%22/%3E%0A%20%20%20%20%3Clink%20rel%3D%22stylesheet%22%20href%3D%22https%3A//maxcdn.bootstrapcdn.com/bootstrap/3.2.0/css/bootstrap-theme.min.css%22/%3E%0A%20%20%20%20%3Clink%20rel%3D%22stylesheet%22%20href%3D%22https%3A//maxcdn.bootstrapcdn.com/font-awesome/4.6.3/css/font-awesome.min.css%22/%3E%0A%20%20%20%20%3Clink%20rel%3D%22stylesheet%22%20href%3D%22https%3A//cdnjs.cloudflare.com/ajax/libs/Leaflet.awesome-markers/2.0.2/leaflet.awesome-markers.css%22/%3E%0A%20%20%20%20%3Clink%20rel%3D%22stylesheet%22%20href%3D%22https%3A//cdn.jsdelivr.net/gh/python-visualization/folium/folium/templates/leaflet.awesome.rotate.min.css%22/%3E%0A%20%20%20%20%0A%20%20%20%20%20%20%20%20%20%20%20%20%3Cmeta%20name%3D%22viewport%22%20content%3D%22width%3Ddevice-width%2C%0A%20%20%20%20%20%20%20%20%20%20%20%20%20%20%20%20initial-scale%3D1.0%2C%20maximum-scale%3D1.0%2C%20user-scalable%3Dno%22%20/%3E%0A%20%20%20%20%20%20%20%20%20%20%20%20%3Cstyle%3E%0A%20%20%20%20%20%20%20%20%20%20%20%20%20%20%20%20%23map_0981cd8fc1eb466ea55f526f246a8d26%20%7B%0A%20%20%20%20%20%20%20%20%20%20%20%20%20%20%20%20%20%20%20%20position%3A%20relative%3B%0A%20%20%20%20%20%20%20%20%20%20%20%20%20%20%20%20%20%20%20%20width%3A%20100.0%25%3B%0A%20%20%20%20%20%20%20%20%20%20%20%20%20%20%20%20%20%20%20%20height%3A%20100.0%25%3B%0A%20%20%20%20%20%20%20%20%20%20%20%20%20%20%20%20%20%20%20%20left%3A%200.0%25%3B%0A%20%20%20%20%20%20%20%20%20%20%20%20%20%20%20%20%20%20%20%20top%3A%200.0%25%3B%0A%20%20%20%20%20%20%20%20%20%20%20%20%20%20%20%20%7D%0A%20%20%20%20%20%20%20%20%20%20%20%20%3C/style%3E%0A%20%20%20%20%20%20%20%20%0A%3C/head%3E%0A%3Cbody%3E%20%20%20%20%0A%20%20%20%20%0A%20%20%20%20%20%20%20%20%20%20%20%20%3Cdiv%20class%3D%22folium-map%22%20id%3D%22map_0981cd8fc1eb466ea55f526f246a8d26%22%20%3E%3C/div%3E%0A%20%20%20%20%20%20%20%20%0A%3C/body%3E%0A%3Cscript%3E%20%20%20%20%0A%20%20%20%20%0A%20%20%20%20%20%20%20%20%20%20%20%20var%20map_0981cd8fc1eb466ea55f526f246a8d26%20%3D%20L.map%28%0A%20%20%20%20%20%20%20%20%20%20%20%20%20%20%20%20%22map_0981cd8fc1eb466ea55f526f246a8d26%22%2C%0A%20%20%20%20%20%20%20%20%20%20%20%20%20%20%20%20%7B%0A%20%20%20%20%20%20%20%20%20%20%20%20%20%20%20%20%20%20%20%20center%3A%20%5B-18.203199246622674%2C%2046.779785%5D%2C%0A%20%20%20%20%20%20%20%20%20%20%20%20%20%20%20%20%20%20%20%20crs%3A%20L.CRS.EPSG3857%2C%0A%20%20%20%20%20%20%20%20%20%20%20%20%20%20%20%20%20%20%20%20zoom%3A%205.6%2C%0A%20%20%20%20%20%20%20%20%20%20%20%20%20%20%20%20%20%20%20%20zoomControl%3A%20true%2C%0A%20%20%20%20%20%20%20%20%20%20%20%20%20%20%20%20%20%20%20%20preferCanvas%3A%20false%2C%0A%20%20%20%20%20%20%20%20%20%20%20%20%20%20%20%20%7D%0A%20%20%20%20%20%20%20%20%20%20%20%20%29%3B%0A%0A%20%20%20%20%20%20%20%20%20%20%20%20%0A%0A%20%20%20%20%20%20%20%20%0A%20%20%20%20%0A%20%20%20%20%20%20%20%20%20%20%20%20var%20tile_layer_63a879a6e02b4c97b2db02255848ff72%20%3D%20L.tileLayer%28%0A%20%20%20%20%20%20%20%20%20%20%20%20%20%20%20%20%22https%3A//%7Bs%7D.tile.openstreetmap.org/%7Bz%7D/%7Bx%7D/%7By%7D.png%22%2C%0A%20%20%20%20%20%20%20%20%20%20%20%20%20%20%20%20%7B%22attribution%22%3A%20%22Data%20by%20%5Cu0026copy%3B%20%5Cu003ca%20href%3D%5C%22http%3A//openstreetmap.org%5C%22%5Cu003eOpenStreetMap%5Cu003c/a%5Cu003e%2C%20under%20%5Cu003ca%20href%3D%5C%22http%3A//www.openstreetmap.org/copyright%5C%22%5Cu003eODbL%5Cu003c/a%5Cu003e.%22%2C%20%22detectRetina%22%3A%20false%2C%20%22maxNativeZoom%22%3A%2018%2C%20%22maxZoom%22%3A%2018%2C%20%22minZoom%22%3A%200%2C%20%22noWrap%22%3A%20false%2C%20%22opacity%22%3A%201%2C%20%22subdomains%22%3A%20%22abc%22%2C%20%22tms%22%3A%20false%7D%0A%20%20%20%20%20%20%20%20%20%20%20%20%29.addTo%28map_0981cd8fc1eb466ea55f526f246a8d26%29%3B%0A%20%20%20%20%20%20%20%20%0A%20%20%20%20%0A%20%20%20%20%20%20%20%20%20%20%20%20var%20tile_layer_dd701d00b53c47cd962b88b9e1869484%20%3D%20L.tileLayer%28%0A%20%20%20%20%20%20%20%20%20%20%20%20%20%20%20%20%22https%3A//earthengine.googleapis.com/v1alpha/projects/earthengine-legacy/maps/35df845a4c3ec56d97fd72e427a9e906-1fe16ce07844f1b64f7c878a24378861/tiles/%7Bz%7D/%7Bx%7D/%7By%7D%22%2C%0A%20%20%20%20%20%20%20%20%20%20%20%20%20%20%20%20%7B%22attribution%22%3A%20%22Map%20Data%20%5Cu0026copy%3B%20%5Cu003ca%20href%3D%5C%22https%3A//earthengine.google.com/%5C%22%5Cu003eGoogle%20Earth%20Engine%5Cu003c/a%5Cu003e%22%2C%20%22detectRetina%22%3A%20false%2C%20%22maxNativeZoom%22%3A%2018%2C%20%22maxZoom%22%3A%2018%2C%20%22minZoom%22%3A%200%2C%20%22noWrap%22%3A%20false%2C%20%22opacity%22%3A%201%2C%20%22subdomains%22%3A%20%22abc%22%2C%20%22tms%22%3A%20false%7D%0A%20%20%20%20%20%20%20%20%20%20%20%20%29.addTo%28map_0981cd8fc1eb466ea55f526f246a8d26%29%3B%0A%20%20%20%20%20%20%20%20%0A%20%20%20%20%0A%20%20%20%20%20%20%20%20%20%20%20%20var%20tile_layer_2425fa5a11f34b718656b83a911a7d90%20%3D%20L.tileLayer%28%0A%20%20%20%20%20%20%20%20%20%20%20%20%20%20%20%20%22https%3A//earthengine.googleapis.com/v1alpha/projects/earthengine-legacy/maps/d13329190ed6dff4acc7bfc732894a02-60d4ddb975e253e40fcd9ac821a45a1a/tiles/%7Bz%7D/%7Bx%7D/%7By%7D%22%2C%0A%20%20%20%20%20%20%20%20%20%20%20%20%20%20%20%20%7B%22attribution%22%3A%20%22Map%20Data%20%5Cu0026copy%3B%20%5Cu003ca%20href%3D%5C%22https%3A//earthengine.google.com/%5C%22%5Cu003eGoogle%20Earth%20Engine%5Cu003c/a%5Cu003e%22%2C%20%22detectRetina%22%3A%20false%2C%20%22maxNativeZoom%22%3A%2018%2C%20%22maxZoom%22%3A%2018%2C%20%22minZoom%22%3A%200%2C%20%22noWrap%22%3A%20false%2C%20%22opacity%22%3A%201%2C%20%22subdomains%22%3A%20%22abc%22%2C%20%22tms%22%3A%20false%7D%0A%20%20%20%20%20%20%20%20%20%20%20%20%29.addTo%28map_0981cd8fc1eb466ea55f526f246a8d26%29%3B%0A%20%20%20%20%20%20%20%20%0A%20%20%20%20%0A%20%20%20%20%20%20%20%20%20%20%20%20var%20tile_layer_1bd9c2e1860c4b1f99c31dc02e34fecd%20%3D%20L.tileLayer%28%0A%20%20%20%20%20%20%20%20%20%20%20%20%20%20%20%20%22https%3A//earthengine.googleapis.com/v1alpha/projects/earthengine-legacy/maps/e864a6eda6c956f72718b0d4738dfc90-a936c6985918d69c6f3175bf32a2db05/tiles/%7Bz%7D/%7Bx%7D/%7By%7D%22%2C%0A%20%20%20%20%20%20%20%20%20%20%20%20%20%20%20%20%7B%22attribution%22%3A%20%22Map%20Data%20%5Cu0026copy%3B%20%5Cu003ca%20href%3D%5C%22https%3A//earthengine.google.com/%5C%22%5Cu003eGoogle%20Earth%20Engine%5Cu003c/a%5Cu003e%22%2C%20%22detectRetina%22%3A%20false%2C%20%22maxNativeZoom%22%3A%2018%2C%20%22maxZoom%22%3A%2018%2C%20%22minZoom%22%3A%200%2C%20%22noWrap%22%3A%20false%2C%20%22opacity%22%3A%201%2C%20%22subdomains%22%3A%20%22abc%22%2C%20%22tms%22%3A%20false%7D%0A%20%20%20%20%20%20%20%20%20%20%20%20%29.addTo%28map_0981cd8fc1eb466ea55f526f246a8d26%29%3B%0A%20%20%20%20%20%20%20%20%0A%20%20%20%20%0A%20%20%20%20%20%20%20%20%20%20%20%20var%20tile_layer_b53cf2fd37b547f8829457317ca47ae8%20%3D%20L.tileLayer%28%0A%20%20%20%20%20%20%20%20%20%20%20%20%20%20%20%20%22https%3A//earthengine.googleapis.com/v1alpha/projects/earthengine-legacy/maps/1f79c055354e2efeb56f2063af412c9e-64c43bd600a17f33e63905d2e547db76/tiles/%7Bz%7D/%7Bx%7D/%7By%7D%22%2C%0A%20%20%20%20%20%20%20%20%20%20%20%20%20%20%20%20%7B%22attribution%22%3A%20%22Map%20Data%20%5Cu0026copy%3B%20%5Cu003ca%20href%3D%5C%22https%3A//earthengine.google.com/%5C%22%5Cu003eGoogle%20Earth%20Engine%5Cu003c/a%5Cu003e%22%2C%20%22detectRetina%22%3A%20false%2C%20%22maxNativeZoom%22%3A%2018%2C%20%22maxZoom%22%3A%2018%2C%20%22minZoom%22%3A%200%2C%20%22noWrap%22%3A%20false%2C%20%22opacity%22%3A%201%2C%20%22subdomains%22%3A%20%22abc%22%2C%20%22tms%22%3A%20false%7D%0A%20%20%20%20%20%20%20%20%20%20%20%20%29.addTo%28map_0981cd8fc1eb466ea55f526f246a8d26%29%3B%0A%20%20%20%20%20%20%20%20%0A%20%20%20%20%0A%20%20%20%20%20%20%20%20%20%20%20%20var%20tile_layer_df783010d1224f57ad118533093fef2d%20%3D%20L.tileLayer%28%0A%20%20%20%20%20%20%20%20%20%20%20%20%20%20%20%20%22https%3A//earthengine.googleapis.com/v1alpha/projects/earthengine-legacy/maps/1a924c462cae37686eeef1bcbb9802b3-74b6301a44e39d487391082ba885b22d/tiles/%7Bz%7D/%7Bx%7D/%7By%7D%22%2C%0A%20%20%20%20%20%20%20%20%20%20%20%20%20%20%20%20%7B%22attribution%22%3A%20%22Map%20Data%20%5Cu0026copy%3B%20%5Cu003ca%20href%3D%5C%22https%3A//earthengine.google.com/%5C%22%5Cu003eGoogle%20Earth%20Engine%5Cu003c/a%5Cu003e%22%2C%20%22detectRetina%22%3A%20false%2C%20%22maxNativeZoom%22%3A%2018%2C%20%22maxZoom%22%3A%2018%2C%20%22minZoom%22%3A%200%2C%20%22noWrap%22%3A%20false%2C%20%22opacity%22%3A%201%2C%20%22subdomains%22%3A%20%22abc%22%2C%20%22tms%22%3A%20false%7D%0A%20%20%20%20%20%20%20%20%20%20%20%20%29.addTo%28map_0981cd8fc1eb466ea55f526f246a8d26%29%3B%0A%20%20%20%20%20%20%20%20%0A%20%20%20%20%0A%20%20%20%20%20%20%20%20%20%20%20%20var%20tile_layer_be5c08cb915c4f6d8aa7260ddb03a0eb%20%3D%20L.tileLayer%28%0A%20%20%20%20%20%20%20%20%20%20%20%20%20%20%20%20%22https%3A//earthengine.googleapis.com/v1alpha/projects/earthengine-legacy/maps/e57c2b03c0e0747833b4d3e456a2a3cc-5c8a8d251192dca2031aeab9bb5e6fc7/tiles/%7Bz%7D/%7Bx%7D/%7By%7D%22%2C%0A%20%20%20%20%20%20%20%20%20%20%20%20%20%20%20%20%7B%22attribution%22%3A%20%22Map%20Data%20%5Cu0026copy%3B%20%5Cu003ca%20href%3D%5C%22https%3A//earthengine.google.com/%5C%22%5Cu003eGoogle%20Earth%20Engine%5Cu003c/a%5Cu003e%22%2C%20%22detectRetina%22%3A%20false%2C%20%22maxNativeZoom%22%3A%2018%2C%20%22maxZoom%22%3A%2018%2C%20%22minZoom%22%3A%200%2C%20%22noWrap%22%3A%20false%2C%20%22opacity%22%3A%201%2C%20%22subdomains%22%3A%20%22abc%22%2C%20%22tms%22%3A%20false%7D%0A%20%20%20%20%20%20%20%20%20%20%20%20%29.addTo%28map_0981cd8fc1eb466ea55f526f246a8d26%29%3B%0A%20%20%20%20%20%20%20%20%0A%20%20%20%20%0A%20%20%20%20%20%20%20%20%20%20%20%20var%20layer_control_e7e44d9fb42c4486b2c265bdeac7ebf9%20%3D%20%7B%0A%20%20%20%20%20%20%20%20%20%20%20%20%20%20%20%20base_layers%20%3A%20%7B%0A%20%20%20%20%20%20%20%20%20%20%20%20%20%20%20%20%20%20%20%20%22openstreetmap%22%20%3A%20tile_layer_63a879a6e02b4c97b2db02255848ff72%2C%0A%20%20%20%20%20%20%20%20%20%20%20%20%20%20%20%20%7D%2C%0A%20%20%20%20%20%20%20%20%20%20%20%20%20%20%20%20overlays%20%3A%20%20%7B%0A%20%20%20%20%20%20%20%20%20%20%20%20%20%20%20%20%20%20%20%20%22d%5Cu0027Andohahela%20Fitted%20NDVI%22%20%3A%20tile_layer_dd701d00b53c47cd962b88b9e1869484%2C%0A%20%20%20%20%20%20%20%20%20%20%20%20%20%20%20%20%20%20%20%20%22Midongy%20Betofaka%20Fitted%20NDVI%22%20%3A%20tile_layer_2425fa5a11f34b718656b83a911a7d90%2C%0A%20%20%20%20%20%20%20%20%20%20%20%20%20%20%20%20%20%20%20%20%22Tsimanampetsotsa%20Fitted%20NDVI%22%20%3A%20tile_layer_1bd9c2e1860c4b1f99c31dc02e34fecd%2C%0A%20%20%20%20%20%20%20%20%20%20%20%20%20%20%20%20%20%20%20%20%22d%5Cu0027Ankarafantsika%20Fitted%20NDVI%22%20%3A%20tile_layer_b53cf2fd37b547f8829457317ca47ae8%2C%0A%20%20%20%20%20%20%20%20%20%20%20%20%20%20%20%20%20%20%20%20%22Masoala%20Fitted%20NDVI%22%20%3A%20tile_layer_df783010d1224f57ad118533093fef2d%2C%0A%20%20%20%20%20%20%20%20%20%20%20%20%20%20%20%20%20%20%20%20%22Alan%5Cu0027Ankirisa%20Fitted%20NDVI%22%20%3A%20tile_layer_be5c08cb915c4f6d8aa7260ddb03a0eb%2C%0A%20%20%20%20%20%20%20%20%20%20%20%20%20%20%20%20%7D%2C%0A%20%20%20%20%20%20%20%20%20%20%20%20%7D%3B%0A%20%20%20%20%20%20%20%20%20%20%20%20L.control.layers%28%0A%20%20%20%20%20%20%20%20%20%20%20%20%20%20%20%20layer_control_e7e44d9fb42c4486b2c265bdeac7ebf9.base_layers%2C%0A%20%20%20%20%20%20%20%20%20%20%20%20%20%20%20%20layer_control_e7e44d9fb42c4486b2c265bdeac7ebf9.overlays%2C%0A%20%20%20%20%20%20%20%20%20%20%20%20%20%20%20%20%7B%22autoZIndex%22%3A%20true%2C%20%22collapsed%22%3A%20true%2C%20%22position%22%3A%20%22topright%22%7D%0A%20%20%20%20%20%20%20%20%20%20%20%20%29.addTo%28map_0981cd8fc1eb466ea55f526f246a8d26%29%3B%0A%20%20%20%20%20%20%20%20%0A%3C/script%3E onload=\"this.contentDocument.open();this.contentDocument.write(    decodeURIComponent(this.getAttribute('data-html')));this.contentDocument.close();\" allowfullscreen webkitallowfullscreen mozallowfullscreen></iframe></div></div>"
      ],
      "text/plain": [
       "<folium.folium.Map at 0x147da8fd0>"
      ]
     },
     "metadata": {},
     "output_type": "display_data"
    },
    {
     "name": "stdout",
     "output_type": "stream",
     "text": [
      "\n",
      " \n",
      "\n",
      "2019-02-01 - 2019-03-01\n"
     ]
    },
    {
     "data": {
      "text/html": [
       "<div style=\"width:100%;\"><div style=\"position:relative;width:100%;height:0;padding-bottom:60%;\"><span style=\"color:#565656\">Make this Notebook Trusted to load map: File -> Trust Notebook</span><iframe src=\"about:blank\" style=\"position:absolute;width:100%;height:100%;left:0;top:0;border:none !important;\" data-html=%3C%21DOCTYPE%20html%3E%0A%3Chead%3E%20%20%20%20%0A%20%20%20%20%3Cmeta%20http-equiv%3D%22content-type%22%20content%3D%22text/html%3B%20charset%3DUTF-8%22%20/%3E%0A%20%20%20%20%0A%20%20%20%20%20%20%20%20%3Cscript%3E%0A%20%20%20%20%20%20%20%20%20%20%20%20L_NO_TOUCH%20%3D%20false%3B%0A%20%20%20%20%20%20%20%20%20%20%20%20L_DISABLE_3D%20%3D%20false%3B%0A%20%20%20%20%20%20%20%20%3C/script%3E%0A%20%20%20%20%0A%20%20%20%20%3Cstyle%3Ehtml%2C%20body%20%7Bwidth%3A%20100%25%3Bheight%3A%20100%25%3Bmargin%3A%200%3Bpadding%3A%200%3B%7D%3C/style%3E%0A%20%20%20%20%3Cstyle%3E%23map%20%7Bposition%3Aabsolute%3Btop%3A0%3Bbottom%3A0%3Bright%3A0%3Bleft%3A0%3B%7D%3C/style%3E%0A%20%20%20%20%3Cscript%20src%3D%22https%3A//cdn.jsdelivr.net/npm/leaflet%401.6.0/dist/leaflet.js%22%3E%3C/script%3E%0A%20%20%20%20%3Cscript%20src%3D%22https%3A//code.jquery.com/jquery-1.12.4.min.js%22%3E%3C/script%3E%0A%20%20%20%20%3Cscript%20src%3D%22https%3A//maxcdn.bootstrapcdn.com/bootstrap/3.2.0/js/bootstrap.min.js%22%3E%3C/script%3E%0A%20%20%20%20%3Cscript%20src%3D%22https%3A//cdnjs.cloudflare.com/ajax/libs/Leaflet.awesome-markers/2.0.2/leaflet.awesome-markers.js%22%3E%3C/script%3E%0A%20%20%20%20%3Clink%20rel%3D%22stylesheet%22%20href%3D%22https%3A//cdn.jsdelivr.net/npm/leaflet%401.6.0/dist/leaflet.css%22/%3E%0A%20%20%20%20%3Clink%20rel%3D%22stylesheet%22%20href%3D%22https%3A//maxcdn.bootstrapcdn.com/bootstrap/3.2.0/css/bootstrap.min.css%22/%3E%0A%20%20%20%20%3Clink%20rel%3D%22stylesheet%22%20href%3D%22https%3A//maxcdn.bootstrapcdn.com/bootstrap/3.2.0/css/bootstrap-theme.min.css%22/%3E%0A%20%20%20%20%3Clink%20rel%3D%22stylesheet%22%20href%3D%22https%3A//maxcdn.bootstrapcdn.com/font-awesome/4.6.3/css/font-awesome.min.css%22/%3E%0A%20%20%20%20%3Clink%20rel%3D%22stylesheet%22%20href%3D%22https%3A//cdnjs.cloudflare.com/ajax/libs/Leaflet.awesome-markers/2.0.2/leaflet.awesome-markers.css%22/%3E%0A%20%20%20%20%3Clink%20rel%3D%22stylesheet%22%20href%3D%22https%3A//cdn.jsdelivr.net/gh/python-visualization/folium/folium/templates/leaflet.awesome.rotate.min.css%22/%3E%0A%20%20%20%20%0A%20%20%20%20%20%20%20%20%20%20%20%20%3Cmeta%20name%3D%22viewport%22%20content%3D%22width%3Ddevice-width%2C%0A%20%20%20%20%20%20%20%20%20%20%20%20%20%20%20%20initial-scale%3D1.0%2C%20maximum-scale%3D1.0%2C%20user-scalable%3Dno%22%20/%3E%0A%20%20%20%20%20%20%20%20%20%20%20%20%3Cstyle%3E%0A%20%20%20%20%20%20%20%20%20%20%20%20%20%20%20%20%23map_5a56c46d0f974d9e8b9a52e71968412d%20%7B%0A%20%20%20%20%20%20%20%20%20%20%20%20%20%20%20%20%20%20%20%20position%3A%20relative%3B%0A%20%20%20%20%20%20%20%20%20%20%20%20%20%20%20%20%20%20%20%20width%3A%20100.0%25%3B%0A%20%20%20%20%20%20%20%20%20%20%20%20%20%20%20%20%20%20%20%20height%3A%20100.0%25%3B%0A%20%20%20%20%20%20%20%20%20%20%20%20%20%20%20%20%20%20%20%20left%3A%200.0%25%3B%0A%20%20%20%20%20%20%20%20%20%20%20%20%20%20%20%20%20%20%20%20top%3A%200.0%25%3B%0A%20%20%20%20%20%20%20%20%20%20%20%20%20%20%20%20%7D%0A%20%20%20%20%20%20%20%20%20%20%20%20%3C/style%3E%0A%20%20%20%20%20%20%20%20%0A%3C/head%3E%0A%3Cbody%3E%20%20%20%20%0A%20%20%20%20%0A%20%20%20%20%20%20%20%20%20%20%20%20%3Cdiv%20class%3D%22folium-map%22%20id%3D%22map_5a56c46d0f974d9e8b9a52e71968412d%22%20%3E%3C/div%3E%0A%20%20%20%20%20%20%20%20%0A%3C/body%3E%0A%3Cscript%3E%20%20%20%20%0A%20%20%20%20%0A%20%20%20%20%20%20%20%20%20%20%20%20var%20map_5a56c46d0f974d9e8b9a52e71968412d%20%3D%20L.map%28%0A%20%20%20%20%20%20%20%20%20%20%20%20%20%20%20%20%22map_5a56c46d0f974d9e8b9a52e71968412d%22%2C%0A%20%20%20%20%20%20%20%20%20%20%20%20%20%20%20%20%7B%0A%20%20%20%20%20%20%20%20%20%20%20%20%20%20%20%20%20%20%20%20center%3A%20%5B-18.203199246622674%2C%2046.779785%5D%2C%0A%20%20%20%20%20%20%20%20%20%20%20%20%20%20%20%20%20%20%20%20crs%3A%20L.CRS.EPSG3857%2C%0A%20%20%20%20%20%20%20%20%20%20%20%20%20%20%20%20%20%20%20%20zoom%3A%205.6%2C%0A%20%20%20%20%20%20%20%20%20%20%20%20%20%20%20%20%20%20%20%20zoomControl%3A%20true%2C%0A%20%20%20%20%20%20%20%20%20%20%20%20%20%20%20%20%20%20%20%20preferCanvas%3A%20false%2C%0A%20%20%20%20%20%20%20%20%20%20%20%20%20%20%20%20%7D%0A%20%20%20%20%20%20%20%20%20%20%20%20%29%3B%0A%0A%20%20%20%20%20%20%20%20%20%20%20%20%0A%0A%20%20%20%20%20%20%20%20%0A%20%20%20%20%0A%20%20%20%20%20%20%20%20%20%20%20%20var%20tile_layer_7d612686918b477db62451b8a3cac0fc%20%3D%20L.tileLayer%28%0A%20%20%20%20%20%20%20%20%20%20%20%20%20%20%20%20%22https%3A//%7Bs%7D.tile.openstreetmap.org/%7Bz%7D/%7Bx%7D/%7By%7D.png%22%2C%0A%20%20%20%20%20%20%20%20%20%20%20%20%20%20%20%20%7B%22attribution%22%3A%20%22Data%20by%20%5Cu0026copy%3B%20%5Cu003ca%20href%3D%5C%22http%3A//openstreetmap.org%5C%22%5Cu003eOpenStreetMap%5Cu003c/a%5Cu003e%2C%20under%20%5Cu003ca%20href%3D%5C%22http%3A//www.openstreetmap.org/copyright%5C%22%5Cu003eODbL%5Cu003c/a%5Cu003e.%22%2C%20%22detectRetina%22%3A%20false%2C%20%22maxNativeZoom%22%3A%2018%2C%20%22maxZoom%22%3A%2018%2C%20%22minZoom%22%3A%200%2C%20%22noWrap%22%3A%20false%2C%20%22opacity%22%3A%201%2C%20%22subdomains%22%3A%20%22abc%22%2C%20%22tms%22%3A%20false%7D%0A%20%20%20%20%20%20%20%20%20%20%20%20%29.addTo%28map_5a56c46d0f974d9e8b9a52e71968412d%29%3B%0A%20%20%20%20%20%20%20%20%0A%20%20%20%20%0A%20%20%20%20%20%20%20%20%20%20%20%20var%20tile_layer_8cec757b6c3043b4b2c685d207db9114%20%3D%20L.tileLayer%28%0A%20%20%20%20%20%20%20%20%20%20%20%20%20%20%20%20%22https%3A//earthengine.googleapis.com/v1alpha/projects/earthengine-legacy/maps/0cde4f1a614764c93f88505ade93d82a-60d9c39e6ff7bf92108e5aab7aa9df10/tiles/%7Bz%7D/%7Bx%7D/%7By%7D%22%2C%0A%20%20%20%20%20%20%20%20%20%20%20%20%20%20%20%20%7B%22attribution%22%3A%20%22Map%20Data%20%5Cu0026copy%3B%20%5Cu003ca%20href%3D%5C%22https%3A//earthengine.google.com/%5C%22%5Cu003eGoogle%20Earth%20Engine%5Cu003c/a%5Cu003e%22%2C%20%22detectRetina%22%3A%20false%2C%20%22maxNativeZoom%22%3A%2018%2C%20%22maxZoom%22%3A%2018%2C%20%22minZoom%22%3A%200%2C%20%22noWrap%22%3A%20false%2C%20%22opacity%22%3A%201%2C%20%22subdomains%22%3A%20%22abc%22%2C%20%22tms%22%3A%20false%7D%0A%20%20%20%20%20%20%20%20%20%20%20%20%29.addTo%28map_5a56c46d0f974d9e8b9a52e71968412d%29%3B%0A%20%20%20%20%20%20%20%20%0A%20%20%20%20%0A%20%20%20%20%20%20%20%20%20%20%20%20var%20tile_layer_f30ee56793054586ab5a6233180527b8%20%3D%20L.tileLayer%28%0A%20%20%20%20%20%20%20%20%20%20%20%20%20%20%20%20%22https%3A//earthengine.googleapis.com/v1alpha/projects/earthengine-legacy/maps/065a0e6d233f78f3e84d134af700991e-611b01f2161059d12b13a06c89f05739/tiles/%7Bz%7D/%7Bx%7D/%7By%7D%22%2C%0A%20%20%20%20%20%20%20%20%20%20%20%20%20%20%20%20%7B%22attribution%22%3A%20%22Map%20Data%20%5Cu0026copy%3B%20%5Cu003ca%20href%3D%5C%22https%3A//earthengine.google.com/%5C%22%5Cu003eGoogle%20Earth%20Engine%5Cu003c/a%5Cu003e%22%2C%20%22detectRetina%22%3A%20false%2C%20%22maxNativeZoom%22%3A%2018%2C%20%22maxZoom%22%3A%2018%2C%20%22minZoom%22%3A%200%2C%20%22noWrap%22%3A%20false%2C%20%22opacity%22%3A%201%2C%20%22subdomains%22%3A%20%22abc%22%2C%20%22tms%22%3A%20false%7D%0A%20%20%20%20%20%20%20%20%20%20%20%20%29.addTo%28map_5a56c46d0f974d9e8b9a52e71968412d%29%3B%0A%20%20%20%20%20%20%20%20%0A%20%20%20%20%0A%20%20%20%20%20%20%20%20%20%20%20%20var%20tile_layer_368f040175c54cb381d157c3b762e786%20%3D%20L.tileLayer%28%0A%20%20%20%20%20%20%20%20%20%20%20%20%20%20%20%20%22https%3A//earthengine.googleapis.com/v1alpha/projects/earthengine-legacy/maps/cb735ea7805d1d9f648781156dde3814-14edcbde0e5d6c9a739e8b17c0b6bfc5/tiles/%7Bz%7D/%7Bx%7D/%7By%7D%22%2C%0A%20%20%20%20%20%20%20%20%20%20%20%20%20%20%20%20%7B%22attribution%22%3A%20%22Map%20Data%20%5Cu0026copy%3B%20%5Cu003ca%20href%3D%5C%22https%3A//earthengine.google.com/%5C%22%5Cu003eGoogle%20Earth%20Engine%5Cu003c/a%5Cu003e%22%2C%20%22detectRetina%22%3A%20false%2C%20%22maxNativeZoom%22%3A%2018%2C%20%22maxZoom%22%3A%2018%2C%20%22minZoom%22%3A%200%2C%20%22noWrap%22%3A%20false%2C%20%22opacity%22%3A%201%2C%20%22subdomains%22%3A%20%22abc%22%2C%20%22tms%22%3A%20false%7D%0A%20%20%20%20%20%20%20%20%20%20%20%20%29.addTo%28map_5a56c46d0f974d9e8b9a52e71968412d%29%3B%0A%20%20%20%20%20%20%20%20%0A%20%20%20%20%0A%20%20%20%20%20%20%20%20%20%20%20%20var%20tile_layer_240cf565e383434d85c651b4f6c8a54a%20%3D%20L.tileLayer%28%0A%20%20%20%20%20%20%20%20%20%20%20%20%20%20%20%20%22https%3A//earthengine.googleapis.com/v1alpha/projects/earthengine-legacy/maps/345fa649a9276f9382217305efcba410-77272e6071c6336b1511dc7d38053ad8/tiles/%7Bz%7D/%7Bx%7D/%7By%7D%22%2C%0A%20%20%20%20%20%20%20%20%20%20%20%20%20%20%20%20%7B%22attribution%22%3A%20%22Map%20Data%20%5Cu0026copy%3B%20%5Cu003ca%20href%3D%5C%22https%3A//earthengine.google.com/%5C%22%5Cu003eGoogle%20Earth%20Engine%5Cu003c/a%5Cu003e%22%2C%20%22detectRetina%22%3A%20false%2C%20%22maxNativeZoom%22%3A%2018%2C%20%22maxZoom%22%3A%2018%2C%20%22minZoom%22%3A%200%2C%20%22noWrap%22%3A%20false%2C%20%22opacity%22%3A%201%2C%20%22subdomains%22%3A%20%22abc%22%2C%20%22tms%22%3A%20false%7D%0A%20%20%20%20%20%20%20%20%20%20%20%20%29.addTo%28map_5a56c46d0f974d9e8b9a52e71968412d%29%3B%0A%20%20%20%20%20%20%20%20%0A%20%20%20%20%0A%20%20%20%20%20%20%20%20%20%20%20%20var%20tile_layer_c4608d542b1143bdb826b4863d54251e%20%3D%20L.tileLayer%28%0A%20%20%20%20%20%20%20%20%20%20%20%20%20%20%20%20%22https%3A//earthengine.googleapis.com/v1alpha/projects/earthengine-legacy/maps/6a207e6791f414f67b32e83a5e6b8409-44d8530c16a5dbf512d014e500f36ca7/tiles/%7Bz%7D/%7Bx%7D/%7By%7D%22%2C%0A%20%20%20%20%20%20%20%20%20%20%20%20%20%20%20%20%7B%22attribution%22%3A%20%22Map%20Data%20%5Cu0026copy%3B%20%5Cu003ca%20href%3D%5C%22https%3A//earthengine.google.com/%5C%22%5Cu003eGoogle%20Earth%20Engine%5Cu003c/a%5Cu003e%22%2C%20%22detectRetina%22%3A%20false%2C%20%22maxNativeZoom%22%3A%2018%2C%20%22maxZoom%22%3A%2018%2C%20%22minZoom%22%3A%200%2C%20%22noWrap%22%3A%20false%2C%20%22opacity%22%3A%201%2C%20%22subdomains%22%3A%20%22abc%22%2C%20%22tms%22%3A%20false%7D%0A%20%20%20%20%20%20%20%20%20%20%20%20%29.addTo%28map_5a56c46d0f974d9e8b9a52e71968412d%29%3B%0A%20%20%20%20%20%20%20%20%0A%20%20%20%20%0A%20%20%20%20%20%20%20%20%20%20%20%20var%20tile_layer_560b455e2bc44ae881fa5297651bb05d%20%3D%20L.tileLayer%28%0A%20%20%20%20%20%20%20%20%20%20%20%20%20%20%20%20%22https%3A//earthengine.googleapis.com/v1alpha/projects/earthengine-legacy/maps/15dcae25fa46f86cfa14902736e83b7b-38d039ec31bfb2f4ae243e75c4f6059e/tiles/%7Bz%7D/%7Bx%7D/%7By%7D%22%2C%0A%20%20%20%20%20%20%20%20%20%20%20%20%20%20%20%20%7B%22attribution%22%3A%20%22Map%20Data%20%5Cu0026copy%3B%20%5Cu003ca%20href%3D%5C%22https%3A//earthengine.google.com/%5C%22%5Cu003eGoogle%20Earth%20Engine%5Cu003c/a%5Cu003e%22%2C%20%22detectRetina%22%3A%20false%2C%20%22maxNativeZoom%22%3A%2018%2C%20%22maxZoom%22%3A%2018%2C%20%22minZoom%22%3A%200%2C%20%22noWrap%22%3A%20false%2C%20%22opacity%22%3A%201%2C%20%22subdomains%22%3A%20%22abc%22%2C%20%22tms%22%3A%20false%7D%0A%20%20%20%20%20%20%20%20%20%20%20%20%29.addTo%28map_5a56c46d0f974d9e8b9a52e71968412d%29%3B%0A%20%20%20%20%20%20%20%20%0A%20%20%20%20%0A%20%20%20%20%20%20%20%20%20%20%20%20var%20layer_control_4b4c5edb98a544229bae5143773ed326%20%3D%20%7B%0A%20%20%20%20%20%20%20%20%20%20%20%20%20%20%20%20base_layers%20%3A%20%7B%0A%20%20%20%20%20%20%20%20%20%20%20%20%20%20%20%20%20%20%20%20%22openstreetmap%22%20%3A%20tile_layer_7d612686918b477db62451b8a3cac0fc%2C%0A%20%20%20%20%20%20%20%20%20%20%20%20%20%20%20%20%7D%2C%0A%20%20%20%20%20%20%20%20%20%20%20%20%20%20%20%20overlays%20%3A%20%20%7B%0A%20%20%20%20%20%20%20%20%20%20%20%20%20%20%20%20%20%20%20%20%22d%5Cu0027Andohahela%20Fitted%20NDVI%22%20%3A%20tile_layer_8cec757b6c3043b4b2c685d207db9114%2C%0A%20%20%20%20%20%20%20%20%20%20%20%20%20%20%20%20%20%20%20%20%22Midongy%20Betofaka%20Fitted%20NDVI%22%20%3A%20tile_layer_f30ee56793054586ab5a6233180527b8%2C%0A%20%20%20%20%20%20%20%20%20%20%20%20%20%20%20%20%20%20%20%20%22Tsimanampetsotsa%20Fitted%20NDVI%22%20%3A%20tile_layer_368f040175c54cb381d157c3b762e786%2C%0A%20%20%20%20%20%20%20%20%20%20%20%20%20%20%20%20%20%20%20%20%22d%5Cu0027Ankarafantsika%20Fitted%20NDVI%22%20%3A%20tile_layer_240cf565e383434d85c651b4f6c8a54a%2C%0A%20%20%20%20%20%20%20%20%20%20%20%20%20%20%20%20%20%20%20%20%22Masoala%20Fitted%20NDVI%22%20%3A%20tile_layer_c4608d542b1143bdb826b4863d54251e%2C%0A%20%20%20%20%20%20%20%20%20%20%20%20%20%20%20%20%20%20%20%20%22Alan%5Cu0027Ankirisa%20Fitted%20NDVI%22%20%3A%20tile_layer_560b455e2bc44ae881fa5297651bb05d%2C%0A%20%20%20%20%20%20%20%20%20%20%20%20%20%20%20%20%7D%2C%0A%20%20%20%20%20%20%20%20%20%20%20%20%7D%3B%0A%20%20%20%20%20%20%20%20%20%20%20%20L.control.layers%28%0A%20%20%20%20%20%20%20%20%20%20%20%20%20%20%20%20layer_control_4b4c5edb98a544229bae5143773ed326.base_layers%2C%0A%20%20%20%20%20%20%20%20%20%20%20%20%20%20%20%20layer_control_4b4c5edb98a544229bae5143773ed326.overlays%2C%0A%20%20%20%20%20%20%20%20%20%20%20%20%20%20%20%20%7B%22autoZIndex%22%3A%20true%2C%20%22collapsed%22%3A%20true%2C%20%22position%22%3A%20%22topright%22%7D%0A%20%20%20%20%20%20%20%20%20%20%20%20%29.addTo%28map_5a56c46d0f974d9e8b9a52e71968412d%29%3B%0A%20%20%20%20%20%20%20%20%0A%3C/script%3E onload=\"this.contentDocument.open();this.contentDocument.write(    decodeURIComponent(this.getAttribute('data-html')));this.contentDocument.close();\" allowfullscreen webkitallowfullscreen mozallowfullscreen></iframe></div></div>"
      ],
      "text/plain": [
       "<folium.folium.Map at 0x147daf400>"
      ]
     },
     "metadata": {},
     "output_type": "display_data"
    },
    {
     "name": "stdout",
     "output_type": "stream",
     "text": [
      "\n",
      " \n",
      "\n",
      "2019-03-01 - 2019-04-01\n"
     ]
    },
    {
     "data": {
      "text/html": [
       "<div style=\"width:100%;\"><div style=\"position:relative;width:100%;height:0;padding-bottom:60%;\"><span style=\"color:#565656\">Make this Notebook Trusted to load map: File -> Trust Notebook</span><iframe src=\"about:blank\" style=\"position:absolute;width:100%;height:100%;left:0;top:0;border:none !important;\" data-html=%3C%21DOCTYPE%20html%3E%0A%3Chead%3E%20%20%20%20%0A%20%20%20%20%3Cmeta%20http-equiv%3D%22content-type%22%20content%3D%22text/html%3B%20charset%3DUTF-8%22%20/%3E%0A%20%20%20%20%0A%20%20%20%20%20%20%20%20%3Cscript%3E%0A%20%20%20%20%20%20%20%20%20%20%20%20L_NO_TOUCH%20%3D%20false%3B%0A%20%20%20%20%20%20%20%20%20%20%20%20L_DISABLE_3D%20%3D%20false%3B%0A%20%20%20%20%20%20%20%20%3C/script%3E%0A%20%20%20%20%0A%20%20%20%20%3Cstyle%3Ehtml%2C%20body%20%7Bwidth%3A%20100%25%3Bheight%3A%20100%25%3Bmargin%3A%200%3Bpadding%3A%200%3B%7D%3C/style%3E%0A%20%20%20%20%3Cstyle%3E%23map%20%7Bposition%3Aabsolute%3Btop%3A0%3Bbottom%3A0%3Bright%3A0%3Bleft%3A0%3B%7D%3C/style%3E%0A%20%20%20%20%3Cscript%20src%3D%22https%3A//cdn.jsdelivr.net/npm/leaflet%401.6.0/dist/leaflet.js%22%3E%3C/script%3E%0A%20%20%20%20%3Cscript%20src%3D%22https%3A//code.jquery.com/jquery-1.12.4.min.js%22%3E%3C/script%3E%0A%20%20%20%20%3Cscript%20src%3D%22https%3A//maxcdn.bootstrapcdn.com/bootstrap/3.2.0/js/bootstrap.min.js%22%3E%3C/script%3E%0A%20%20%20%20%3Cscript%20src%3D%22https%3A//cdnjs.cloudflare.com/ajax/libs/Leaflet.awesome-markers/2.0.2/leaflet.awesome-markers.js%22%3E%3C/script%3E%0A%20%20%20%20%3Clink%20rel%3D%22stylesheet%22%20href%3D%22https%3A//cdn.jsdelivr.net/npm/leaflet%401.6.0/dist/leaflet.css%22/%3E%0A%20%20%20%20%3Clink%20rel%3D%22stylesheet%22%20href%3D%22https%3A//maxcdn.bootstrapcdn.com/bootstrap/3.2.0/css/bootstrap.min.css%22/%3E%0A%20%20%20%20%3Clink%20rel%3D%22stylesheet%22%20href%3D%22https%3A//maxcdn.bootstrapcdn.com/bootstrap/3.2.0/css/bootstrap-theme.min.css%22/%3E%0A%20%20%20%20%3Clink%20rel%3D%22stylesheet%22%20href%3D%22https%3A//maxcdn.bootstrapcdn.com/font-awesome/4.6.3/css/font-awesome.min.css%22/%3E%0A%20%20%20%20%3Clink%20rel%3D%22stylesheet%22%20href%3D%22https%3A//cdnjs.cloudflare.com/ajax/libs/Leaflet.awesome-markers/2.0.2/leaflet.awesome-markers.css%22/%3E%0A%20%20%20%20%3Clink%20rel%3D%22stylesheet%22%20href%3D%22https%3A//cdn.jsdelivr.net/gh/python-visualization/folium/folium/templates/leaflet.awesome.rotate.min.css%22/%3E%0A%20%20%20%20%0A%20%20%20%20%20%20%20%20%20%20%20%20%3Cmeta%20name%3D%22viewport%22%20content%3D%22width%3Ddevice-width%2C%0A%20%20%20%20%20%20%20%20%20%20%20%20%20%20%20%20initial-scale%3D1.0%2C%20maximum-scale%3D1.0%2C%20user-scalable%3Dno%22%20/%3E%0A%20%20%20%20%20%20%20%20%20%20%20%20%3Cstyle%3E%0A%20%20%20%20%20%20%20%20%20%20%20%20%20%20%20%20%23map_563c4b908fb04ff3a3dcfcdebb3a00ff%20%7B%0A%20%20%20%20%20%20%20%20%20%20%20%20%20%20%20%20%20%20%20%20position%3A%20relative%3B%0A%20%20%20%20%20%20%20%20%20%20%20%20%20%20%20%20%20%20%20%20width%3A%20100.0%25%3B%0A%20%20%20%20%20%20%20%20%20%20%20%20%20%20%20%20%20%20%20%20height%3A%20100.0%25%3B%0A%20%20%20%20%20%20%20%20%20%20%20%20%20%20%20%20%20%20%20%20left%3A%200.0%25%3B%0A%20%20%20%20%20%20%20%20%20%20%20%20%20%20%20%20%20%20%20%20top%3A%200.0%25%3B%0A%20%20%20%20%20%20%20%20%20%20%20%20%20%20%20%20%7D%0A%20%20%20%20%20%20%20%20%20%20%20%20%3C/style%3E%0A%20%20%20%20%20%20%20%20%0A%3C/head%3E%0A%3Cbody%3E%20%20%20%20%0A%20%20%20%20%0A%20%20%20%20%20%20%20%20%20%20%20%20%3Cdiv%20class%3D%22folium-map%22%20id%3D%22map_563c4b908fb04ff3a3dcfcdebb3a00ff%22%20%3E%3C/div%3E%0A%20%20%20%20%20%20%20%20%0A%3C/body%3E%0A%3Cscript%3E%20%20%20%20%0A%20%20%20%20%0A%20%20%20%20%20%20%20%20%20%20%20%20var%20map_563c4b908fb04ff3a3dcfcdebb3a00ff%20%3D%20L.map%28%0A%20%20%20%20%20%20%20%20%20%20%20%20%20%20%20%20%22map_563c4b908fb04ff3a3dcfcdebb3a00ff%22%2C%0A%20%20%20%20%20%20%20%20%20%20%20%20%20%20%20%20%7B%0A%20%20%20%20%20%20%20%20%20%20%20%20%20%20%20%20%20%20%20%20center%3A%20%5B-18.203199246622674%2C%2046.779785%5D%2C%0A%20%20%20%20%20%20%20%20%20%20%20%20%20%20%20%20%20%20%20%20crs%3A%20L.CRS.EPSG3857%2C%0A%20%20%20%20%20%20%20%20%20%20%20%20%20%20%20%20%20%20%20%20zoom%3A%205.6%2C%0A%20%20%20%20%20%20%20%20%20%20%20%20%20%20%20%20%20%20%20%20zoomControl%3A%20true%2C%0A%20%20%20%20%20%20%20%20%20%20%20%20%20%20%20%20%20%20%20%20preferCanvas%3A%20false%2C%0A%20%20%20%20%20%20%20%20%20%20%20%20%20%20%20%20%7D%0A%20%20%20%20%20%20%20%20%20%20%20%20%29%3B%0A%0A%20%20%20%20%20%20%20%20%20%20%20%20%0A%0A%20%20%20%20%20%20%20%20%0A%20%20%20%20%0A%20%20%20%20%20%20%20%20%20%20%20%20var%20tile_layer_6f06f6bab04944309896048fe52f295e%20%3D%20L.tileLayer%28%0A%20%20%20%20%20%20%20%20%20%20%20%20%20%20%20%20%22https%3A//%7Bs%7D.tile.openstreetmap.org/%7Bz%7D/%7Bx%7D/%7By%7D.png%22%2C%0A%20%20%20%20%20%20%20%20%20%20%20%20%20%20%20%20%7B%22attribution%22%3A%20%22Data%20by%20%5Cu0026copy%3B%20%5Cu003ca%20href%3D%5C%22http%3A//openstreetmap.org%5C%22%5Cu003eOpenStreetMap%5Cu003c/a%5Cu003e%2C%20under%20%5Cu003ca%20href%3D%5C%22http%3A//www.openstreetmap.org/copyright%5C%22%5Cu003eODbL%5Cu003c/a%5Cu003e.%22%2C%20%22detectRetina%22%3A%20false%2C%20%22maxNativeZoom%22%3A%2018%2C%20%22maxZoom%22%3A%2018%2C%20%22minZoom%22%3A%200%2C%20%22noWrap%22%3A%20false%2C%20%22opacity%22%3A%201%2C%20%22subdomains%22%3A%20%22abc%22%2C%20%22tms%22%3A%20false%7D%0A%20%20%20%20%20%20%20%20%20%20%20%20%29.addTo%28map_563c4b908fb04ff3a3dcfcdebb3a00ff%29%3B%0A%20%20%20%20%20%20%20%20%0A%20%20%20%20%0A%20%20%20%20%20%20%20%20%20%20%20%20var%20tile_layer_fbd4eb5d260f4db29964e1ce2601c2ff%20%3D%20L.tileLayer%28%0A%20%20%20%20%20%20%20%20%20%20%20%20%20%20%20%20%22https%3A//earthengine.googleapis.com/v1alpha/projects/earthengine-legacy/maps/a1eeb0affc78bdad9668149f88d7252a-46f4a5c5d5d6ecaedae8712b39d728b6/tiles/%7Bz%7D/%7Bx%7D/%7By%7D%22%2C%0A%20%20%20%20%20%20%20%20%20%20%20%20%20%20%20%20%7B%22attribution%22%3A%20%22Map%20Data%20%5Cu0026copy%3B%20%5Cu003ca%20href%3D%5C%22https%3A//earthengine.google.com/%5C%22%5Cu003eGoogle%20Earth%20Engine%5Cu003c/a%5Cu003e%22%2C%20%22detectRetina%22%3A%20false%2C%20%22maxNativeZoom%22%3A%2018%2C%20%22maxZoom%22%3A%2018%2C%20%22minZoom%22%3A%200%2C%20%22noWrap%22%3A%20false%2C%20%22opacity%22%3A%201%2C%20%22subdomains%22%3A%20%22abc%22%2C%20%22tms%22%3A%20false%7D%0A%20%20%20%20%20%20%20%20%20%20%20%20%29.addTo%28map_563c4b908fb04ff3a3dcfcdebb3a00ff%29%3B%0A%20%20%20%20%20%20%20%20%0A%20%20%20%20%0A%20%20%20%20%20%20%20%20%20%20%20%20var%20tile_layer_2c12e7d4e06844d7856cf99a6bb89927%20%3D%20L.tileLayer%28%0A%20%20%20%20%20%20%20%20%20%20%20%20%20%20%20%20%22https%3A//earthengine.googleapis.com/v1alpha/projects/earthengine-legacy/maps/ff943910de092f5f9cf4158cb3a4688a-eaca68fdb4f61ac52170656c155c220f/tiles/%7Bz%7D/%7Bx%7D/%7By%7D%22%2C%0A%20%20%20%20%20%20%20%20%20%20%20%20%20%20%20%20%7B%22attribution%22%3A%20%22Map%20Data%20%5Cu0026copy%3B%20%5Cu003ca%20href%3D%5C%22https%3A//earthengine.google.com/%5C%22%5Cu003eGoogle%20Earth%20Engine%5Cu003c/a%5Cu003e%22%2C%20%22detectRetina%22%3A%20false%2C%20%22maxNativeZoom%22%3A%2018%2C%20%22maxZoom%22%3A%2018%2C%20%22minZoom%22%3A%200%2C%20%22noWrap%22%3A%20false%2C%20%22opacity%22%3A%201%2C%20%22subdomains%22%3A%20%22abc%22%2C%20%22tms%22%3A%20false%7D%0A%20%20%20%20%20%20%20%20%20%20%20%20%29.addTo%28map_563c4b908fb04ff3a3dcfcdebb3a00ff%29%3B%0A%20%20%20%20%20%20%20%20%0A%20%20%20%20%0A%20%20%20%20%20%20%20%20%20%20%20%20var%20tile_layer_262d15f4859e4e6896364f7db8953fbf%20%3D%20L.tileLayer%28%0A%20%20%20%20%20%20%20%20%20%20%20%20%20%20%20%20%22https%3A//earthengine.googleapis.com/v1alpha/projects/earthengine-legacy/maps/64a10690d17ce0e4d0ede3f4817ac8ff-d4d47ca0e9607374f0802ccbfb7d61fd/tiles/%7Bz%7D/%7Bx%7D/%7By%7D%22%2C%0A%20%20%20%20%20%20%20%20%20%20%20%20%20%20%20%20%7B%22attribution%22%3A%20%22Map%20Data%20%5Cu0026copy%3B%20%5Cu003ca%20href%3D%5C%22https%3A//earthengine.google.com/%5C%22%5Cu003eGoogle%20Earth%20Engine%5Cu003c/a%5Cu003e%22%2C%20%22detectRetina%22%3A%20false%2C%20%22maxNativeZoom%22%3A%2018%2C%20%22maxZoom%22%3A%2018%2C%20%22minZoom%22%3A%200%2C%20%22noWrap%22%3A%20false%2C%20%22opacity%22%3A%201%2C%20%22subdomains%22%3A%20%22abc%22%2C%20%22tms%22%3A%20false%7D%0A%20%20%20%20%20%20%20%20%20%20%20%20%29.addTo%28map_563c4b908fb04ff3a3dcfcdebb3a00ff%29%3B%0A%20%20%20%20%20%20%20%20%0A%20%20%20%20%0A%20%20%20%20%20%20%20%20%20%20%20%20var%20tile_layer_d9cda5388be24fa7ba9322ec543e5b2d%20%3D%20L.tileLayer%28%0A%20%20%20%20%20%20%20%20%20%20%20%20%20%20%20%20%22https%3A//earthengine.googleapis.com/v1alpha/projects/earthengine-legacy/maps/32306ee6493b9218368ccce1b691fb03-c96a9e99ac9f81ab427f53c9cc0d55d9/tiles/%7Bz%7D/%7Bx%7D/%7By%7D%22%2C%0A%20%20%20%20%20%20%20%20%20%20%20%20%20%20%20%20%7B%22attribution%22%3A%20%22Map%20Data%20%5Cu0026copy%3B%20%5Cu003ca%20href%3D%5C%22https%3A//earthengine.google.com/%5C%22%5Cu003eGoogle%20Earth%20Engine%5Cu003c/a%5Cu003e%22%2C%20%22detectRetina%22%3A%20false%2C%20%22maxNativeZoom%22%3A%2018%2C%20%22maxZoom%22%3A%2018%2C%20%22minZoom%22%3A%200%2C%20%22noWrap%22%3A%20false%2C%20%22opacity%22%3A%201%2C%20%22subdomains%22%3A%20%22abc%22%2C%20%22tms%22%3A%20false%7D%0A%20%20%20%20%20%20%20%20%20%20%20%20%29.addTo%28map_563c4b908fb04ff3a3dcfcdebb3a00ff%29%3B%0A%20%20%20%20%20%20%20%20%0A%20%20%20%20%0A%20%20%20%20%20%20%20%20%20%20%20%20var%20tile_layer_21d24b1766b84fbda5a021c8f0402931%20%3D%20L.tileLayer%28%0A%20%20%20%20%20%20%20%20%20%20%20%20%20%20%20%20%22https%3A//earthengine.googleapis.com/v1alpha/projects/earthengine-legacy/maps/b321646258f4895eae3c92adc6150613-57ebac2c77c07c7291c19706c2b1b568/tiles/%7Bz%7D/%7Bx%7D/%7By%7D%22%2C%0A%20%20%20%20%20%20%20%20%20%20%20%20%20%20%20%20%7B%22attribution%22%3A%20%22Map%20Data%20%5Cu0026copy%3B%20%5Cu003ca%20href%3D%5C%22https%3A//earthengine.google.com/%5C%22%5Cu003eGoogle%20Earth%20Engine%5Cu003c/a%5Cu003e%22%2C%20%22detectRetina%22%3A%20false%2C%20%22maxNativeZoom%22%3A%2018%2C%20%22maxZoom%22%3A%2018%2C%20%22minZoom%22%3A%200%2C%20%22noWrap%22%3A%20false%2C%20%22opacity%22%3A%201%2C%20%22subdomains%22%3A%20%22abc%22%2C%20%22tms%22%3A%20false%7D%0A%20%20%20%20%20%20%20%20%20%20%20%20%29.addTo%28map_563c4b908fb04ff3a3dcfcdebb3a00ff%29%3B%0A%20%20%20%20%20%20%20%20%0A%20%20%20%20%0A%20%20%20%20%20%20%20%20%20%20%20%20var%20tile_layer_9feb3664382a4dce819a7f21f9050fde%20%3D%20L.tileLayer%28%0A%20%20%20%20%20%20%20%20%20%20%20%20%20%20%20%20%22https%3A//earthengine.googleapis.com/v1alpha/projects/earthengine-legacy/maps/d7cee99aaf28ba1ac5c871edf1ba202f-4694ceb34e2462a417437def0171d874/tiles/%7Bz%7D/%7Bx%7D/%7By%7D%22%2C%0A%20%20%20%20%20%20%20%20%20%20%20%20%20%20%20%20%7B%22attribution%22%3A%20%22Map%20Data%20%5Cu0026copy%3B%20%5Cu003ca%20href%3D%5C%22https%3A//earthengine.google.com/%5C%22%5Cu003eGoogle%20Earth%20Engine%5Cu003c/a%5Cu003e%22%2C%20%22detectRetina%22%3A%20false%2C%20%22maxNativeZoom%22%3A%2018%2C%20%22maxZoom%22%3A%2018%2C%20%22minZoom%22%3A%200%2C%20%22noWrap%22%3A%20false%2C%20%22opacity%22%3A%201%2C%20%22subdomains%22%3A%20%22abc%22%2C%20%22tms%22%3A%20false%7D%0A%20%20%20%20%20%20%20%20%20%20%20%20%29.addTo%28map_563c4b908fb04ff3a3dcfcdebb3a00ff%29%3B%0A%20%20%20%20%20%20%20%20%0A%20%20%20%20%0A%20%20%20%20%20%20%20%20%20%20%20%20var%20layer_control_5a16dbcc31a24e009ffabad460d6ab9c%20%3D%20%7B%0A%20%20%20%20%20%20%20%20%20%20%20%20%20%20%20%20base_layers%20%3A%20%7B%0A%20%20%20%20%20%20%20%20%20%20%20%20%20%20%20%20%20%20%20%20%22openstreetmap%22%20%3A%20tile_layer_6f06f6bab04944309896048fe52f295e%2C%0A%20%20%20%20%20%20%20%20%20%20%20%20%20%20%20%20%7D%2C%0A%20%20%20%20%20%20%20%20%20%20%20%20%20%20%20%20overlays%20%3A%20%20%7B%0A%20%20%20%20%20%20%20%20%20%20%20%20%20%20%20%20%20%20%20%20%22d%5Cu0027Andohahela%20Fitted%20NDVI%22%20%3A%20tile_layer_fbd4eb5d260f4db29964e1ce2601c2ff%2C%0A%20%20%20%20%20%20%20%20%20%20%20%20%20%20%20%20%20%20%20%20%22Midongy%20Betofaka%20Fitted%20NDVI%22%20%3A%20tile_layer_2c12e7d4e06844d7856cf99a6bb89927%2C%0A%20%20%20%20%20%20%20%20%20%20%20%20%20%20%20%20%20%20%20%20%22Tsimanampetsotsa%20Fitted%20NDVI%22%20%3A%20tile_layer_262d15f4859e4e6896364f7db8953fbf%2C%0A%20%20%20%20%20%20%20%20%20%20%20%20%20%20%20%20%20%20%20%20%22d%5Cu0027Ankarafantsika%20Fitted%20NDVI%22%20%3A%20tile_layer_d9cda5388be24fa7ba9322ec543e5b2d%2C%0A%20%20%20%20%20%20%20%20%20%20%20%20%20%20%20%20%20%20%20%20%22Masoala%20Fitted%20NDVI%22%20%3A%20tile_layer_21d24b1766b84fbda5a021c8f0402931%2C%0A%20%20%20%20%20%20%20%20%20%20%20%20%20%20%20%20%20%20%20%20%22Alan%5Cu0027Ankirisa%20Fitted%20NDVI%22%20%3A%20tile_layer_9feb3664382a4dce819a7f21f9050fde%2C%0A%20%20%20%20%20%20%20%20%20%20%20%20%20%20%20%20%7D%2C%0A%20%20%20%20%20%20%20%20%20%20%20%20%7D%3B%0A%20%20%20%20%20%20%20%20%20%20%20%20L.control.layers%28%0A%20%20%20%20%20%20%20%20%20%20%20%20%20%20%20%20layer_control_5a16dbcc31a24e009ffabad460d6ab9c.base_layers%2C%0A%20%20%20%20%20%20%20%20%20%20%20%20%20%20%20%20layer_control_5a16dbcc31a24e009ffabad460d6ab9c.overlays%2C%0A%20%20%20%20%20%20%20%20%20%20%20%20%20%20%20%20%7B%22autoZIndex%22%3A%20true%2C%20%22collapsed%22%3A%20true%2C%20%22position%22%3A%20%22topright%22%7D%0A%20%20%20%20%20%20%20%20%20%20%20%20%29.addTo%28map_563c4b908fb04ff3a3dcfcdebb3a00ff%29%3B%0A%20%20%20%20%20%20%20%20%0A%3C/script%3E onload=\"this.contentDocument.open();this.contentDocument.write(    decodeURIComponent(this.getAttribute('data-html')));this.contentDocument.close();\" allowfullscreen webkitallowfullscreen mozallowfullscreen></iframe></div></div>"
      ],
      "text/plain": [
       "<folium.folium.Map at 0x147da1790>"
      ]
     },
     "metadata": {},
     "output_type": "display_data"
    },
    {
     "name": "stdout",
     "output_type": "stream",
     "text": [
      "\n",
      " \n",
      "\n",
      "2019-04-01 - 2019-05-01\n"
     ]
    },
    {
     "data": {
      "text/html": [
       "<div style=\"width:100%;\"><div style=\"position:relative;width:100%;height:0;padding-bottom:60%;\"><span style=\"color:#565656\">Make this Notebook Trusted to load map: File -> Trust Notebook</span><iframe src=\"about:blank\" style=\"position:absolute;width:100%;height:100%;left:0;top:0;border:none !important;\" data-html=%3C%21DOCTYPE%20html%3E%0A%3Chead%3E%20%20%20%20%0A%20%20%20%20%3Cmeta%20http-equiv%3D%22content-type%22%20content%3D%22text/html%3B%20charset%3DUTF-8%22%20/%3E%0A%20%20%20%20%0A%20%20%20%20%20%20%20%20%3Cscript%3E%0A%20%20%20%20%20%20%20%20%20%20%20%20L_NO_TOUCH%20%3D%20false%3B%0A%20%20%20%20%20%20%20%20%20%20%20%20L_DISABLE_3D%20%3D%20false%3B%0A%20%20%20%20%20%20%20%20%3C/script%3E%0A%20%20%20%20%0A%20%20%20%20%3Cstyle%3Ehtml%2C%20body%20%7Bwidth%3A%20100%25%3Bheight%3A%20100%25%3Bmargin%3A%200%3Bpadding%3A%200%3B%7D%3C/style%3E%0A%20%20%20%20%3Cstyle%3E%23map%20%7Bposition%3Aabsolute%3Btop%3A0%3Bbottom%3A0%3Bright%3A0%3Bleft%3A0%3B%7D%3C/style%3E%0A%20%20%20%20%3Cscript%20src%3D%22https%3A//cdn.jsdelivr.net/npm/leaflet%401.6.0/dist/leaflet.js%22%3E%3C/script%3E%0A%20%20%20%20%3Cscript%20src%3D%22https%3A//code.jquery.com/jquery-1.12.4.min.js%22%3E%3C/script%3E%0A%20%20%20%20%3Cscript%20src%3D%22https%3A//maxcdn.bootstrapcdn.com/bootstrap/3.2.0/js/bootstrap.min.js%22%3E%3C/script%3E%0A%20%20%20%20%3Cscript%20src%3D%22https%3A//cdnjs.cloudflare.com/ajax/libs/Leaflet.awesome-markers/2.0.2/leaflet.awesome-markers.js%22%3E%3C/script%3E%0A%20%20%20%20%3Clink%20rel%3D%22stylesheet%22%20href%3D%22https%3A//cdn.jsdelivr.net/npm/leaflet%401.6.0/dist/leaflet.css%22/%3E%0A%20%20%20%20%3Clink%20rel%3D%22stylesheet%22%20href%3D%22https%3A//maxcdn.bootstrapcdn.com/bootstrap/3.2.0/css/bootstrap.min.css%22/%3E%0A%20%20%20%20%3Clink%20rel%3D%22stylesheet%22%20href%3D%22https%3A//maxcdn.bootstrapcdn.com/bootstrap/3.2.0/css/bootstrap-theme.min.css%22/%3E%0A%20%20%20%20%3Clink%20rel%3D%22stylesheet%22%20href%3D%22https%3A//maxcdn.bootstrapcdn.com/font-awesome/4.6.3/css/font-awesome.min.css%22/%3E%0A%20%20%20%20%3Clink%20rel%3D%22stylesheet%22%20href%3D%22https%3A//cdnjs.cloudflare.com/ajax/libs/Leaflet.awesome-markers/2.0.2/leaflet.awesome-markers.css%22/%3E%0A%20%20%20%20%3Clink%20rel%3D%22stylesheet%22%20href%3D%22https%3A//cdn.jsdelivr.net/gh/python-visualization/folium/folium/templates/leaflet.awesome.rotate.min.css%22/%3E%0A%20%20%20%20%0A%20%20%20%20%20%20%20%20%20%20%20%20%3Cmeta%20name%3D%22viewport%22%20content%3D%22width%3Ddevice-width%2C%0A%20%20%20%20%20%20%20%20%20%20%20%20%20%20%20%20initial-scale%3D1.0%2C%20maximum-scale%3D1.0%2C%20user-scalable%3Dno%22%20/%3E%0A%20%20%20%20%20%20%20%20%20%20%20%20%3Cstyle%3E%0A%20%20%20%20%20%20%20%20%20%20%20%20%20%20%20%20%23map_0b31fb51a75542389611dacbed409fab%20%7B%0A%20%20%20%20%20%20%20%20%20%20%20%20%20%20%20%20%20%20%20%20position%3A%20relative%3B%0A%20%20%20%20%20%20%20%20%20%20%20%20%20%20%20%20%20%20%20%20width%3A%20100.0%25%3B%0A%20%20%20%20%20%20%20%20%20%20%20%20%20%20%20%20%20%20%20%20height%3A%20100.0%25%3B%0A%20%20%20%20%20%20%20%20%20%20%20%20%20%20%20%20%20%20%20%20left%3A%200.0%25%3B%0A%20%20%20%20%20%20%20%20%20%20%20%20%20%20%20%20%20%20%20%20top%3A%200.0%25%3B%0A%20%20%20%20%20%20%20%20%20%20%20%20%20%20%20%20%7D%0A%20%20%20%20%20%20%20%20%20%20%20%20%3C/style%3E%0A%20%20%20%20%20%20%20%20%0A%3C/head%3E%0A%3Cbody%3E%20%20%20%20%0A%20%20%20%20%0A%20%20%20%20%20%20%20%20%20%20%20%20%3Cdiv%20class%3D%22folium-map%22%20id%3D%22map_0b31fb51a75542389611dacbed409fab%22%20%3E%3C/div%3E%0A%20%20%20%20%20%20%20%20%0A%3C/body%3E%0A%3Cscript%3E%20%20%20%20%0A%20%20%20%20%0A%20%20%20%20%20%20%20%20%20%20%20%20var%20map_0b31fb51a75542389611dacbed409fab%20%3D%20L.map%28%0A%20%20%20%20%20%20%20%20%20%20%20%20%20%20%20%20%22map_0b31fb51a75542389611dacbed409fab%22%2C%0A%20%20%20%20%20%20%20%20%20%20%20%20%20%20%20%20%7B%0A%20%20%20%20%20%20%20%20%20%20%20%20%20%20%20%20%20%20%20%20center%3A%20%5B-18.203199246622674%2C%2046.779785%5D%2C%0A%20%20%20%20%20%20%20%20%20%20%20%20%20%20%20%20%20%20%20%20crs%3A%20L.CRS.EPSG3857%2C%0A%20%20%20%20%20%20%20%20%20%20%20%20%20%20%20%20%20%20%20%20zoom%3A%205.6%2C%0A%20%20%20%20%20%20%20%20%20%20%20%20%20%20%20%20%20%20%20%20zoomControl%3A%20true%2C%0A%20%20%20%20%20%20%20%20%20%20%20%20%20%20%20%20%20%20%20%20preferCanvas%3A%20false%2C%0A%20%20%20%20%20%20%20%20%20%20%20%20%20%20%20%20%7D%0A%20%20%20%20%20%20%20%20%20%20%20%20%29%3B%0A%0A%20%20%20%20%20%20%20%20%20%20%20%20%0A%0A%20%20%20%20%20%20%20%20%0A%20%20%20%20%0A%20%20%20%20%20%20%20%20%20%20%20%20var%20tile_layer_1805d458250b4776b25663db4aa03de4%20%3D%20L.tileLayer%28%0A%20%20%20%20%20%20%20%20%20%20%20%20%20%20%20%20%22https%3A//%7Bs%7D.tile.openstreetmap.org/%7Bz%7D/%7Bx%7D/%7By%7D.png%22%2C%0A%20%20%20%20%20%20%20%20%20%20%20%20%20%20%20%20%7B%22attribution%22%3A%20%22Data%20by%20%5Cu0026copy%3B%20%5Cu003ca%20href%3D%5C%22http%3A//openstreetmap.org%5C%22%5Cu003eOpenStreetMap%5Cu003c/a%5Cu003e%2C%20under%20%5Cu003ca%20href%3D%5C%22http%3A//www.openstreetmap.org/copyright%5C%22%5Cu003eODbL%5Cu003c/a%5Cu003e.%22%2C%20%22detectRetina%22%3A%20false%2C%20%22maxNativeZoom%22%3A%2018%2C%20%22maxZoom%22%3A%2018%2C%20%22minZoom%22%3A%200%2C%20%22noWrap%22%3A%20false%2C%20%22opacity%22%3A%201%2C%20%22subdomains%22%3A%20%22abc%22%2C%20%22tms%22%3A%20false%7D%0A%20%20%20%20%20%20%20%20%20%20%20%20%29.addTo%28map_0b31fb51a75542389611dacbed409fab%29%3B%0A%20%20%20%20%20%20%20%20%0A%20%20%20%20%0A%20%20%20%20%20%20%20%20%20%20%20%20var%20tile_layer_dd028fef7c534f30bed8f9f238be6be4%20%3D%20L.tileLayer%28%0A%20%20%20%20%20%20%20%20%20%20%20%20%20%20%20%20%22https%3A//earthengine.googleapis.com/v1alpha/projects/earthengine-legacy/maps/79b6027b85b102cb612a5fef302d8ee2-9889a74c453db8fa926205aa93ef627a/tiles/%7Bz%7D/%7Bx%7D/%7By%7D%22%2C%0A%20%20%20%20%20%20%20%20%20%20%20%20%20%20%20%20%7B%22attribution%22%3A%20%22Map%20Data%20%5Cu0026copy%3B%20%5Cu003ca%20href%3D%5C%22https%3A//earthengine.google.com/%5C%22%5Cu003eGoogle%20Earth%20Engine%5Cu003c/a%5Cu003e%22%2C%20%22detectRetina%22%3A%20false%2C%20%22maxNativeZoom%22%3A%2018%2C%20%22maxZoom%22%3A%2018%2C%20%22minZoom%22%3A%200%2C%20%22noWrap%22%3A%20false%2C%20%22opacity%22%3A%201%2C%20%22subdomains%22%3A%20%22abc%22%2C%20%22tms%22%3A%20false%7D%0A%20%20%20%20%20%20%20%20%20%20%20%20%29.addTo%28map_0b31fb51a75542389611dacbed409fab%29%3B%0A%20%20%20%20%20%20%20%20%0A%20%20%20%20%0A%20%20%20%20%20%20%20%20%20%20%20%20var%20tile_layer_1750dd76b53443abb93449a470ec051e%20%3D%20L.tileLayer%28%0A%20%20%20%20%20%20%20%20%20%20%20%20%20%20%20%20%22https%3A//earthengine.googleapis.com/v1alpha/projects/earthengine-legacy/maps/e9c05549aeeb301cf806f50c942c1a59-84e0bee6a0e62ec91dbc10166b0aa864/tiles/%7Bz%7D/%7Bx%7D/%7By%7D%22%2C%0A%20%20%20%20%20%20%20%20%20%20%20%20%20%20%20%20%7B%22attribution%22%3A%20%22Map%20Data%20%5Cu0026copy%3B%20%5Cu003ca%20href%3D%5C%22https%3A//earthengine.google.com/%5C%22%5Cu003eGoogle%20Earth%20Engine%5Cu003c/a%5Cu003e%22%2C%20%22detectRetina%22%3A%20false%2C%20%22maxNativeZoom%22%3A%2018%2C%20%22maxZoom%22%3A%2018%2C%20%22minZoom%22%3A%200%2C%20%22noWrap%22%3A%20false%2C%20%22opacity%22%3A%201%2C%20%22subdomains%22%3A%20%22abc%22%2C%20%22tms%22%3A%20false%7D%0A%20%20%20%20%20%20%20%20%20%20%20%20%29.addTo%28map_0b31fb51a75542389611dacbed409fab%29%3B%0A%20%20%20%20%20%20%20%20%0A%20%20%20%20%0A%20%20%20%20%20%20%20%20%20%20%20%20var%20tile_layer_bffa887e3ed943f6b85d2792c5855942%20%3D%20L.tileLayer%28%0A%20%20%20%20%20%20%20%20%20%20%20%20%20%20%20%20%22https%3A//earthengine.googleapis.com/v1alpha/projects/earthengine-legacy/maps/9b8449df0fd99536d6084e0b66a6a10a-f7eb27f9bfcc1360dda5adcfc7e20f13/tiles/%7Bz%7D/%7Bx%7D/%7By%7D%22%2C%0A%20%20%20%20%20%20%20%20%20%20%20%20%20%20%20%20%7B%22attribution%22%3A%20%22Map%20Data%20%5Cu0026copy%3B%20%5Cu003ca%20href%3D%5C%22https%3A//earthengine.google.com/%5C%22%5Cu003eGoogle%20Earth%20Engine%5Cu003c/a%5Cu003e%22%2C%20%22detectRetina%22%3A%20false%2C%20%22maxNativeZoom%22%3A%2018%2C%20%22maxZoom%22%3A%2018%2C%20%22minZoom%22%3A%200%2C%20%22noWrap%22%3A%20false%2C%20%22opacity%22%3A%201%2C%20%22subdomains%22%3A%20%22abc%22%2C%20%22tms%22%3A%20false%7D%0A%20%20%20%20%20%20%20%20%20%20%20%20%29.addTo%28map_0b31fb51a75542389611dacbed409fab%29%3B%0A%20%20%20%20%20%20%20%20%0A%20%20%20%20%0A%20%20%20%20%20%20%20%20%20%20%20%20var%20tile_layer_b96e41c925c543e3abaa8ac250111be1%20%3D%20L.tileLayer%28%0A%20%20%20%20%20%20%20%20%20%20%20%20%20%20%20%20%22https%3A//earthengine.googleapis.com/v1alpha/projects/earthengine-legacy/maps/d933923236e3d9c8c7d09555d197cd51-79c0aedf00b8adc7c859df786a907505/tiles/%7Bz%7D/%7Bx%7D/%7By%7D%22%2C%0A%20%20%20%20%20%20%20%20%20%20%20%20%20%20%20%20%7B%22attribution%22%3A%20%22Map%20Data%20%5Cu0026copy%3B%20%5Cu003ca%20href%3D%5C%22https%3A//earthengine.google.com/%5C%22%5Cu003eGoogle%20Earth%20Engine%5Cu003c/a%5Cu003e%22%2C%20%22detectRetina%22%3A%20false%2C%20%22maxNativeZoom%22%3A%2018%2C%20%22maxZoom%22%3A%2018%2C%20%22minZoom%22%3A%200%2C%20%22noWrap%22%3A%20false%2C%20%22opacity%22%3A%201%2C%20%22subdomains%22%3A%20%22abc%22%2C%20%22tms%22%3A%20false%7D%0A%20%20%20%20%20%20%20%20%20%20%20%20%29.addTo%28map_0b31fb51a75542389611dacbed409fab%29%3B%0A%20%20%20%20%20%20%20%20%0A%20%20%20%20%0A%20%20%20%20%20%20%20%20%20%20%20%20var%20tile_layer_5ec83f01d00545d5abba807fdbae6b7b%20%3D%20L.tileLayer%28%0A%20%20%20%20%20%20%20%20%20%20%20%20%20%20%20%20%22https%3A//earthengine.googleapis.com/v1alpha/projects/earthengine-legacy/maps/13dc391c17f84b6d5cc9ff0beb433249-5e6ad583d9db9e8ca4bf9f854f0d68b3/tiles/%7Bz%7D/%7Bx%7D/%7By%7D%22%2C%0A%20%20%20%20%20%20%20%20%20%20%20%20%20%20%20%20%7B%22attribution%22%3A%20%22Map%20Data%20%5Cu0026copy%3B%20%5Cu003ca%20href%3D%5C%22https%3A//earthengine.google.com/%5C%22%5Cu003eGoogle%20Earth%20Engine%5Cu003c/a%5Cu003e%22%2C%20%22detectRetina%22%3A%20false%2C%20%22maxNativeZoom%22%3A%2018%2C%20%22maxZoom%22%3A%2018%2C%20%22minZoom%22%3A%200%2C%20%22noWrap%22%3A%20false%2C%20%22opacity%22%3A%201%2C%20%22subdomains%22%3A%20%22abc%22%2C%20%22tms%22%3A%20false%7D%0A%20%20%20%20%20%20%20%20%20%20%20%20%29.addTo%28map_0b31fb51a75542389611dacbed409fab%29%3B%0A%20%20%20%20%20%20%20%20%0A%20%20%20%20%0A%20%20%20%20%20%20%20%20%20%20%20%20var%20tile_layer_c8aba09f0909451b91068d11ee1d15c6%20%3D%20L.tileLayer%28%0A%20%20%20%20%20%20%20%20%20%20%20%20%20%20%20%20%22https%3A//earthengine.googleapis.com/v1alpha/projects/earthengine-legacy/maps/f7d46c3b76eabf568b524a92d2e51096-be8415825241c929477c26cde8b74c04/tiles/%7Bz%7D/%7Bx%7D/%7By%7D%22%2C%0A%20%20%20%20%20%20%20%20%20%20%20%20%20%20%20%20%7B%22attribution%22%3A%20%22Map%20Data%20%5Cu0026copy%3B%20%5Cu003ca%20href%3D%5C%22https%3A//earthengine.google.com/%5C%22%5Cu003eGoogle%20Earth%20Engine%5Cu003c/a%5Cu003e%22%2C%20%22detectRetina%22%3A%20false%2C%20%22maxNativeZoom%22%3A%2018%2C%20%22maxZoom%22%3A%2018%2C%20%22minZoom%22%3A%200%2C%20%22noWrap%22%3A%20false%2C%20%22opacity%22%3A%201%2C%20%22subdomains%22%3A%20%22abc%22%2C%20%22tms%22%3A%20false%7D%0A%20%20%20%20%20%20%20%20%20%20%20%20%29.addTo%28map_0b31fb51a75542389611dacbed409fab%29%3B%0A%20%20%20%20%20%20%20%20%0A%20%20%20%20%0A%20%20%20%20%20%20%20%20%20%20%20%20var%20layer_control_a9421116b0194caba7ff3a260eff1131%20%3D%20%7B%0A%20%20%20%20%20%20%20%20%20%20%20%20%20%20%20%20base_layers%20%3A%20%7B%0A%20%20%20%20%20%20%20%20%20%20%20%20%20%20%20%20%20%20%20%20%22openstreetmap%22%20%3A%20tile_layer_1805d458250b4776b25663db4aa03de4%2C%0A%20%20%20%20%20%20%20%20%20%20%20%20%20%20%20%20%7D%2C%0A%20%20%20%20%20%20%20%20%20%20%20%20%20%20%20%20overlays%20%3A%20%20%7B%0A%20%20%20%20%20%20%20%20%20%20%20%20%20%20%20%20%20%20%20%20%22d%5Cu0027Andohahela%20Fitted%20NDVI%22%20%3A%20tile_layer_dd028fef7c534f30bed8f9f238be6be4%2C%0A%20%20%20%20%20%20%20%20%20%20%20%20%20%20%20%20%20%20%20%20%22Midongy%20Betofaka%20Fitted%20NDVI%22%20%3A%20tile_layer_1750dd76b53443abb93449a470ec051e%2C%0A%20%20%20%20%20%20%20%20%20%20%20%20%20%20%20%20%20%20%20%20%22Tsimanampetsotsa%20Fitted%20NDVI%22%20%3A%20tile_layer_bffa887e3ed943f6b85d2792c5855942%2C%0A%20%20%20%20%20%20%20%20%20%20%20%20%20%20%20%20%20%20%20%20%22d%5Cu0027Ankarafantsika%20Fitted%20NDVI%22%20%3A%20tile_layer_b96e41c925c543e3abaa8ac250111be1%2C%0A%20%20%20%20%20%20%20%20%20%20%20%20%20%20%20%20%20%20%20%20%22Masoala%20Fitted%20NDVI%22%20%3A%20tile_layer_5ec83f01d00545d5abba807fdbae6b7b%2C%0A%20%20%20%20%20%20%20%20%20%20%20%20%20%20%20%20%20%20%20%20%22Alan%5Cu0027Ankirisa%20Fitted%20NDVI%22%20%3A%20tile_layer_c8aba09f0909451b91068d11ee1d15c6%2C%0A%20%20%20%20%20%20%20%20%20%20%20%20%20%20%20%20%7D%2C%0A%20%20%20%20%20%20%20%20%20%20%20%20%7D%3B%0A%20%20%20%20%20%20%20%20%20%20%20%20L.control.layers%28%0A%20%20%20%20%20%20%20%20%20%20%20%20%20%20%20%20layer_control_a9421116b0194caba7ff3a260eff1131.base_layers%2C%0A%20%20%20%20%20%20%20%20%20%20%20%20%20%20%20%20layer_control_a9421116b0194caba7ff3a260eff1131.overlays%2C%0A%20%20%20%20%20%20%20%20%20%20%20%20%20%20%20%20%7B%22autoZIndex%22%3A%20true%2C%20%22collapsed%22%3A%20true%2C%20%22position%22%3A%20%22topright%22%7D%0A%20%20%20%20%20%20%20%20%20%20%20%20%29.addTo%28map_0b31fb51a75542389611dacbed409fab%29%3B%0A%20%20%20%20%20%20%20%20%0A%3C/script%3E onload=\"this.contentDocument.open();this.contentDocument.write(    decodeURIComponent(this.getAttribute('data-html')));this.contentDocument.close();\" allowfullscreen webkitallowfullscreen mozallowfullscreen></iframe></div></div>"
      ],
      "text/plain": [
       "<folium.folium.Map at 0x147e00e20>"
      ]
     },
     "metadata": {},
     "output_type": "display_data"
    },
    {
     "name": "stdout",
     "output_type": "stream",
     "text": [
      "\n",
      " \n",
      "\n",
      "2019-05-01 - 2019-06-01\n"
     ]
    },
    {
     "data": {
      "text/html": [
       "<div style=\"width:100%;\"><div style=\"position:relative;width:100%;height:0;padding-bottom:60%;\"><span style=\"color:#565656\">Make this Notebook Trusted to load map: File -> Trust Notebook</span><iframe src=\"about:blank\" style=\"position:absolute;width:100%;height:100%;left:0;top:0;border:none !important;\" data-html=%3C%21DOCTYPE%20html%3E%0A%3Chead%3E%20%20%20%20%0A%20%20%20%20%3Cmeta%20http-equiv%3D%22content-type%22%20content%3D%22text/html%3B%20charset%3DUTF-8%22%20/%3E%0A%20%20%20%20%0A%20%20%20%20%20%20%20%20%3Cscript%3E%0A%20%20%20%20%20%20%20%20%20%20%20%20L_NO_TOUCH%20%3D%20false%3B%0A%20%20%20%20%20%20%20%20%20%20%20%20L_DISABLE_3D%20%3D%20false%3B%0A%20%20%20%20%20%20%20%20%3C/script%3E%0A%20%20%20%20%0A%20%20%20%20%3Cstyle%3Ehtml%2C%20body%20%7Bwidth%3A%20100%25%3Bheight%3A%20100%25%3Bmargin%3A%200%3Bpadding%3A%200%3B%7D%3C/style%3E%0A%20%20%20%20%3Cstyle%3E%23map%20%7Bposition%3Aabsolute%3Btop%3A0%3Bbottom%3A0%3Bright%3A0%3Bleft%3A0%3B%7D%3C/style%3E%0A%20%20%20%20%3Cscript%20src%3D%22https%3A//cdn.jsdelivr.net/npm/leaflet%401.6.0/dist/leaflet.js%22%3E%3C/script%3E%0A%20%20%20%20%3Cscript%20src%3D%22https%3A//code.jquery.com/jquery-1.12.4.min.js%22%3E%3C/script%3E%0A%20%20%20%20%3Cscript%20src%3D%22https%3A//maxcdn.bootstrapcdn.com/bootstrap/3.2.0/js/bootstrap.min.js%22%3E%3C/script%3E%0A%20%20%20%20%3Cscript%20src%3D%22https%3A//cdnjs.cloudflare.com/ajax/libs/Leaflet.awesome-markers/2.0.2/leaflet.awesome-markers.js%22%3E%3C/script%3E%0A%20%20%20%20%3Clink%20rel%3D%22stylesheet%22%20href%3D%22https%3A//cdn.jsdelivr.net/npm/leaflet%401.6.0/dist/leaflet.css%22/%3E%0A%20%20%20%20%3Clink%20rel%3D%22stylesheet%22%20href%3D%22https%3A//maxcdn.bootstrapcdn.com/bootstrap/3.2.0/css/bootstrap.min.css%22/%3E%0A%20%20%20%20%3Clink%20rel%3D%22stylesheet%22%20href%3D%22https%3A//maxcdn.bootstrapcdn.com/bootstrap/3.2.0/css/bootstrap-theme.min.css%22/%3E%0A%20%20%20%20%3Clink%20rel%3D%22stylesheet%22%20href%3D%22https%3A//maxcdn.bootstrapcdn.com/font-awesome/4.6.3/css/font-awesome.min.css%22/%3E%0A%20%20%20%20%3Clink%20rel%3D%22stylesheet%22%20href%3D%22https%3A//cdnjs.cloudflare.com/ajax/libs/Leaflet.awesome-markers/2.0.2/leaflet.awesome-markers.css%22/%3E%0A%20%20%20%20%3Clink%20rel%3D%22stylesheet%22%20href%3D%22https%3A//cdn.jsdelivr.net/gh/python-visualization/folium/folium/templates/leaflet.awesome.rotate.min.css%22/%3E%0A%20%20%20%20%0A%20%20%20%20%20%20%20%20%20%20%20%20%3Cmeta%20name%3D%22viewport%22%20content%3D%22width%3Ddevice-width%2C%0A%20%20%20%20%20%20%20%20%20%20%20%20%20%20%20%20initial-scale%3D1.0%2C%20maximum-scale%3D1.0%2C%20user-scalable%3Dno%22%20/%3E%0A%20%20%20%20%20%20%20%20%20%20%20%20%3Cstyle%3E%0A%20%20%20%20%20%20%20%20%20%20%20%20%20%20%20%20%23map_5914cdf9d97a42a597be4479e2164e63%20%7B%0A%20%20%20%20%20%20%20%20%20%20%20%20%20%20%20%20%20%20%20%20position%3A%20relative%3B%0A%20%20%20%20%20%20%20%20%20%20%20%20%20%20%20%20%20%20%20%20width%3A%20100.0%25%3B%0A%20%20%20%20%20%20%20%20%20%20%20%20%20%20%20%20%20%20%20%20height%3A%20100.0%25%3B%0A%20%20%20%20%20%20%20%20%20%20%20%20%20%20%20%20%20%20%20%20left%3A%200.0%25%3B%0A%20%20%20%20%20%20%20%20%20%20%20%20%20%20%20%20%20%20%20%20top%3A%200.0%25%3B%0A%20%20%20%20%20%20%20%20%20%20%20%20%20%20%20%20%7D%0A%20%20%20%20%20%20%20%20%20%20%20%20%3C/style%3E%0A%20%20%20%20%20%20%20%20%0A%3C/head%3E%0A%3Cbody%3E%20%20%20%20%0A%20%20%20%20%0A%20%20%20%20%20%20%20%20%20%20%20%20%3Cdiv%20class%3D%22folium-map%22%20id%3D%22map_5914cdf9d97a42a597be4479e2164e63%22%20%3E%3C/div%3E%0A%20%20%20%20%20%20%20%20%0A%3C/body%3E%0A%3Cscript%3E%20%20%20%20%0A%20%20%20%20%0A%20%20%20%20%20%20%20%20%20%20%20%20var%20map_5914cdf9d97a42a597be4479e2164e63%20%3D%20L.map%28%0A%20%20%20%20%20%20%20%20%20%20%20%20%20%20%20%20%22map_5914cdf9d97a42a597be4479e2164e63%22%2C%0A%20%20%20%20%20%20%20%20%20%20%20%20%20%20%20%20%7B%0A%20%20%20%20%20%20%20%20%20%20%20%20%20%20%20%20%20%20%20%20center%3A%20%5B-18.203199246622674%2C%2046.779785%5D%2C%0A%20%20%20%20%20%20%20%20%20%20%20%20%20%20%20%20%20%20%20%20crs%3A%20L.CRS.EPSG3857%2C%0A%20%20%20%20%20%20%20%20%20%20%20%20%20%20%20%20%20%20%20%20zoom%3A%205.6%2C%0A%20%20%20%20%20%20%20%20%20%20%20%20%20%20%20%20%20%20%20%20zoomControl%3A%20true%2C%0A%20%20%20%20%20%20%20%20%20%20%20%20%20%20%20%20%20%20%20%20preferCanvas%3A%20false%2C%0A%20%20%20%20%20%20%20%20%20%20%20%20%20%20%20%20%7D%0A%20%20%20%20%20%20%20%20%20%20%20%20%29%3B%0A%0A%20%20%20%20%20%20%20%20%20%20%20%20%0A%0A%20%20%20%20%20%20%20%20%0A%20%20%20%20%0A%20%20%20%20%20%20%20%20%20%20%20%20var%20tile_layer_6784748c04c1413d892626e002236227%20%3D%20L.tileLayer%28%0A%20%20%20%20%20%20%20%20%20%20%20%20%20%20%20%20%22https%3A//%7Bs%7D.tile.openstreetmap.org/%7Bz%7D/%7Bx%7D/%7By%7D.png%22%2C%0A%20%20%20%20%20%20%20%20%20%20%20%20%20%20%20%20%7B%22attribution%22%3A%20%22Data%20by%20%5Cu0026copy%3B%20%5Cu003ca%20href%3D%5C%22http%3A//openstreetmap.org%5C%22%5Cu003eOpenStreetMap%5Cu003c/a%5Cu003e%2C%20under%20%5Cu003ca%20href%3D%5C%22http%3A//www.openstreetmap.org/copyright%5C%22%5Cu003eODbL%5Cu003c/a%5Cu003e.%22%2C%20%22detectRetina%22%3A%20false%2C%20%22maxNativeZoom%22%3A%2018%2C%20%22maxZoom%22%3A%2018%2C%20%22minZoom%22%3A%200%2C%20%22noWrap%22%3A%20false%2C%20%22opacity%22%3A%201%2C%20%22subdomains%22%3A%20%22abc%22%2C%20%22tms%22%3A%20false%7D%0A%20%20%20%20%20%20%20%20%20%20%20%20%29.addTo%28map_5914cdf9d97a42a597be4479e2164e63%29%3B%0A%20%20%20%20%20%20%20%20%0A%20%20%20%20%0A%20%20%20%20%20%20%20%20%20%20%20%20var%20tile_layer_1ed19f4f31ab4671b9f1e242e0688fc1%20%3D%20L.tileLayer%28%0A%20%20%20%20%20%20%20%20%20%20%20%20%20%20%20%20%22https%3A//earthengine.googleapis.com/v1alpha/projects/earthengine-legacy/maps/314622d7a7ea8e23d619f32682b6b311-344f2930e99be0532b4e94657b6cd130/tiles/%7Bz%7D/%7Bx%7D/%7By%7D%22%2C%0A%20%20%20%20%20%20%20%20%20%20%20%20%20%20%20%20%7B%22attribution%22%3A%20%22Map%20Data%20%5Cu0026copy%3B%20%5Cu003ca%20href%3D%5C%22https%3A//earthengine.google.com/%5C%22%5Cu003eGoogle%20Earth%20Engine%5Cu003c/a%5Cu003e%22%2C%20%22detectRetina%22%3A%20false%2C%20%22maxNativeZoom%22%3A%2018%2C%20%22maxZoom%22%3A%2018%2C%20%22minZoom%22%3A%200%2C%20%22noWrap%22%3A%20false%2C%20%22opacity%22%3A%201%2C%20%22subdomains%22%3A%20%22abc%22%2C%20%22tms%22%3A%20false%7D%0A%20%20%20%20%20%20%20%20%20%20%20%20%29.addTo%28map_5914cdf9d97a42a597be4479e2164e63%29%3B%0A%20%20%20%20%20%20%20%20%0A%20%20%20%20%0A%20%20%20%20%20%20%20%20%20%20%20%20var%20tile_layer_fae6f2f5f4764e11940a072a2a7467a6%20%3D%20L.tileLayer%28%0A%20%20%20%20%20%20%20%20%20%20%20%20%20%20%20%20%22https%3A//earthengine.googleapis.com/v1alpha/projects/earthengine-legacy/maps/cf066a948e836186b023097ff72c04f2-bd44cdf150428f1effac4cc65ba7f7b3/tiles/%7Bz%7D/%7Bx%7D/%7By%7D%22%2C%0A%20%20%20%20%20%20%20%20%20%20%20%20%20%20%20%20%7B%22attribution%22%3A%20%22Map%20Data%20%5Cu0026copy%3B%20%5Cu003ca%20href%3D%5C%22https%3A//earthengine.google.com/%5C%22%5Cu003eGoogle%20Earth%20Engine%5Cu003c/a%5Cu003e%22%2C%20%22detectRetina%22%3A%20false%2C%20%22maxNativeZoom%22%3A%2018%2C%20%22maxZoom%22%3A%2018%2C%20%22minZoom%22%3A%200%2C%20%22noWrap%22%3A%20false%2C%20%22opacity%22%3A%201%2C%20%22subdomains%22%3A%20%22abc%22%2C%20%22tms%22%3A%20false%7D%0A%20%20%20%20%20%20%20%20%20%20%20%20%29.addTo%28map_5914cdf9d97a42a597be4479e2164e63%29%3B%0A%20%20%20%20%20%20%20%20%0A%20%20%20%20%0A%20%20%20%20%20%20%20%20%20%20%20%20var%20tile_layer_6e7a4309e9da46f8a2a0fa7f080944b0%20%3D%20L.tileLayer%28%0A%20%20%20%20%20%20%20%20%20%20%20%20%20%20%20%20%22https%3A//earthengine.googleapis.com/v1alpha/projects/earthengine-legacy/maps/d38858467eb3e43900f29c509593c88a-0f3c4e67621adb06416f4918259ac15c/tiles/%7Bz%7D/%7Bx%7D/%7By%7D%22%2C%0A%20%20%20%20%20%20%20%20%20%20%20%20%20%20%20%20%7B%22attribution%22%3A%20%22Map%20Data%20%5Cu0026copy%3B%20%5Cu003ca%20href%3D%5C%22https%3A//earthengine.google.com/%5C%22%5Cu003eGoogle%20Earth%20Engine%5Cu003c/a%5Cu003e%22%2C%20%22detectRetina%22%3A%20false%2C%20%22maxNativeZoom%22%3A%2018%2C%20%22maxZoom%22%3A%2018%2C%20%22minZoom%22%3A%200%2C%20%22noWrap%22%3A%20false%2C%20%22opacity%22%3A%201%2C%20%22subdomains%22%3A%20%22abc%22%2C%20%22tms%22%3A%20false%7D%0A%20%20%20%20%20%20%20%20%20%20%20%20%29.addTo%28map_5914cdf9d97a42a597be4479e2164e63%29%3B%0A%20%20%20%20%20%20%20%20%0A%20%20%20%20%0A%20%20%20%20%20%20%20%20%20%20%20%20var%20tile_layer_de9bc1d5e97b45569fe0772a97fe655f%20%3D%20L.tileLayer%28%0A%20%20%20%20%20%20%20%20%20%20%20%20%20%20%20%20%22https%3A//earthengine.googleapis.com/v1alpha/projects/earthengine-legacy/maps/0a25cd23bba1c5633aa39cbc479f4132-318094b4796ba74afc11f9d7e7d43c8f/tiles/%7Bz%7D/%7Bx%7D/%7By%7D%22%2C%0A%20%20%20%20%20%20%20%20%20%20%20%20%20%20%20%20%7B%22attribution%22%3A%20%22Map%20Data%20%5Cu0026copy%3B%20%5Cu003ca%20href%3D%5C%22https%3A//earthengine.google.com/%5C%22%5Cu003eGoogle%20Earth%20Engine%5Cu003c/a%5Cu003e%22%2C%20%22detectRetina%22%3A%20false%2C%20%22maxNativeZoom%22%3A%2018%2C%20%22maxZoom%22%3A%2018%2C%20%22minZoom%22%3A%200%2C%20%22noWrap%22%3A%20false%2C%20%22opacity%22%3A%201%2C%20%22subdomains%22%3A%20%22abc%22%2C%20%22tms%22%3A%20false%7D%0A%20%20%20%20%20%20%20%20%20%20%20%20%29.addTo%28map_5914cdf9d97a42a597be4479e2164e63%29%3B%0A%20%20%20%20%20%20%20%20%0A%20%20%20%20%0A%20%20%20%20%20%20%20%20%20%20%20%20var%20tile_layer_cb23d20640994f89a8df73d5835d13eb%20%3D%20L.tileLayer%28%0A%20%20%20%20%20%20%20%20%20%20%20%20%20%20%20%20%22https%3A//earthengine.googleapis.com/v1alpha/projects/earthengine-legacy/maps/e5f59612f96e9a5f5c2db51bab73d3d6-08c28b66cbc0da1bddb85bc7557f5d8f/tiles/%7Bz%7D/%7Bx%7D/%7By%7D%22%2C%0A%20%20%20%20%20%20%20%20%20%20%20%20%20%20%20%20%7B%22attribution%22%3A%20%22Map%20Data%20%5Cu0026copy%3B%20%5Cu003ca%20href%3D%5C%22https%3A//earthengine.google.com/%5C%22%5Cu003eGoogle%20Earth%20Engine%5Cu003c/a%5Cu003e%22%2C%20%22detectRetina%22%3A%20false%2C%20%22maxNativeZoom%22%3A%2018%2C%20%22maxZoom%22%3A%2018%2C%20%22minZoom%22%3A%200%2C%20%22noWrap%22%3A%20false%2C%20%22opacity%22%3A%201%2C%20%22subdomains%22%3A%20%22abc%22%2C%20%22tms%22%3A%20false%7D%0A%20%20%20%20%20%20%20%20%20%20%20%20%29.addTo%28map_5914cdf9d97a42a597be4479e2164e63%29%3B%0A%20%20%20%20%20%20%20%20%0A%20%20%20%20%0A%20%20%20%20%20%20%20%20%20%20%20%20var%20tile_layer_89490429f8844a83a63a04ddf5d5b632%20%3D%20L.tileLayer%28%0A%20%20%20%20%20%20%20%20%20%20%20%20%20%20%20%20%22https%3A//earthengine.googleapis.com/v1alpha/projects/earthengine-legacy/maps/4b882d1dadc60926b184e91002d899da-29e1118bfd0c9a03773da5a3ad9ef7c5/tiles/%7Bz%7D/%7Bx%7D/%7By%7D%22%2C%0A%20%20%20%20%20%20%20%20%20%20%20%20%20%20%20%20%7B%22attribution%22%3A%20%22Map%20Data%20%5Cu0026copy%3B%20%5Cu003ca%20href%3D%5C%22https%3A//earthengine.google.com/%5C%22%5Cu003eGoogle%20Earth%20Engine%5Cu003c/a%5Cu003e%22%2C%20%22detectRetina%22%3A%20false%2C%20%22maxNativeZoom%22%3A%2018%2C%20%22maxZoom%22%3A%2018%2C%20%22minZoom%22%3A%200%2C%20%22noWrap%22%3A%20false%2C%20%22opacity%22%3A%201%2C%20%22subdomains%22%3A%20%22abc%22%2C%20%22tms%22%3A%20false%7D%0A%20%20%20%20%20%20%20%20%20%20%20%20%29.addTo%28map_5914cdf9d97a42a597be4479e2164e63%29%3B%0A%20%20%20%20%20%20%20%20%0A%20%20%20%20%0A%20%20%20%20%20%20%20%20%20%20%20%20var%20layer_control_68996bb99ac3465db59e4df4da388ba3%20%3D%20%7B%0A%20%20%20%20%20%20%20%20%20%20%20%20%20%20%20%20base_layers%20%3A%20%7B%0A%20%20%20%20%20%20%20%20%20%20%20%20%20%20%20%20%20%20%20%20%22openstreetmap%22%20%3A%20tile_layer_6784748c04c1413d892626e002236227%2C%0A%20%20%20%20%20%20%20%20%20%20%20%20%20%20%20%20%7D%2C%0A%20%20%20%20%20%20%20%20%20%20%20%20%20%20%20%20overlays%20%3A%20%20%7B%0A%20%20%20%20%20%20%20%20%20%20%20%20%20%20%20%20%20%20%20%20%22d%5Cu0027Andohahela%20Fitted%20NDVI%22%20%3A%20tile_layer_1ed19f4f31ab4671b9f1e242e0688fc1%2C%0A%20%20%20%20%20%20%20%20%20%20%20%20%20%20%20%20%20%20%20%20%22Midongy%20Betofaka%20Fitted%20NDVI%22%20%3A%20tile_layer_fae6f2f5f4764e11940a072a2a7467a6%2C%0A%20%20%20%20%20%20%20%20%20%20%20%20%20%20%20%20%20%20%20%20%22Tsimanampetsotsa%20Fitted%20NDVI%22%20%3A%20tile_layer_6e7a4309e9da46f8a2a0fa7f080944b0%2C%0A%20%20%20%20%20%20%20%20%20%20%20%20%20%20%20%20%20%20%20%20%22d%5Cu0027Ankarafantsika%20Fitted%20NDVI%22%20%3A%20tile_layer_de9bc1d5e97b45569fe0772a97fe655f%2C%0A%20%20%20%20%20%20%20%20%20%20%20%20%20%20%20%20%20%20%20%20%22Masoala%20Fitted%20NDVI%22%20%3A%20tile_layer_cb23d20640994f89a8df73d5835d13eb%2C%0A%20%20%20%20%20%20%20%20%20%20%20%20%20%20%20%20%20%20%20%20%22Alan%5Cu0027Ankirisa%20Fitted%20NDVI%22%20%3A%20tile_layer_89490429f8844a83a63a04ddf5d5b632%2C%0A%20%20%20%20%20%20%20%20%20%20%20%20%20%20%20%20%7D%2C%0A%20%20%20%20%20%20%20%20%20%20%20%20%7D%3B%0A%20%20%20%20%20%20%20%20%20%20%20%20L.control.layers%28%0A%20%20%20%20%20%20%20%20%20%20%20%20%20%20%20%20layer_control_68996bb99ac3465db59e4df4da388ba3.base_layers%2C%0A%20%20%20%20%20%20%20%20%20%20%20%20%20%20%20%20layer_control_68996bb99ac3465db59e4df4da388ba3.overlays%2C%0A%20%20%20%20%20%20%20%20%20%20%20%20%20%20%20%20%7B%22autoZIndex%22%3A%20true%2C%20%22collapsed%22%3A%20true%2C%20%22position%22%3A%20%22topright%22%7D%0A%20%20%20%20%20%20%20%20%20%20%20%20%29.addTo%28map_5914cdf9d97a42a597be4479e2164e63%29%3B%0A%20%20%20%20%20%20%20%20%0A%3C/script%3E onload=\"this.contentDocument.open();this.contentDocument.write(    decodeURIComponent(this.getAttribute('data-html')));this.contentDocument.close();\" allowfullscreen webkitallowfullscreen mozallowfullscreen></iframe></div></div>"
      ],
      "text/plain": [
       "<folium.folium.Map at 0x147e00640>"
      ]
     },
     "metadata": {},
     "output_type": "display_data"
    },
    {
     "name": "stdout",
     "output_type": "stream",
     "text": [
      "\n",
      " \n",
      "\n",
      "2019-06-01 - 2019-07-01\n"
     ]
    },
    {
     "data": {
      "text/html": [
       "<div style=\"width:100%;\"><div style=\"position:relative;width:100%;height:0;padding-bottom:60%;\"><span style=\"color:#565656\">Make this Notebook Trusted to load map: File -> Trust Notebook</span><iframe src=\"about:blank\" style=\"position:absolute;width:100%;height:100%;left:0;top:0;border:none !important;\" data-html=%3C%21DOCTYPE%20html%3E%0A%3Chead%3E%20%20%20%20%0A%20%20%20%20%3Cmeta%20http-equiv%3D%22content-type%22%20content%3D%22text/html%3B%20charset%3DUTF-8%22%20/%3E%0A%20%20%20%20%0A%20%20%20%20%20%20%20%20%3Cscript%3E%0A%20%20%20%20%20%20%20%20%20%20%20%20L_NO_TOUCH%20%3D%20false%3B%0A%20%20%20%20%20%20%20%20%20%20%20%20L_DISABLE_3D%20%3D%20false%3B%0A%20%20%20%20%20%20%20%20%3C/script%3E%0A%20%20%20%20%0A%20%20%20%20%3Cstyle%3Ehtml%2C%20body%20%7Bwidth%3A%20100%25%3Bheight%3A%20100%25%3Bmargin%3A%200%3Bpadding%3A%200%3B%7D%3C/style%3E%0A%20%20%20%20%3Cstyle%3E%23map%20%7Bposition%3Aabsolute%3Btop%3A0%3Bbottom%3A0%3Bright%3A0%3Bleft%3A0%3B%7D%3C/style%3E%0A%20%20%20%20%3Cscript%20src%3D%22https%3A//cdn.jsdelivr.net/npm/leaflet%401.6.0/dist/leaflet.js%22%3E%3C/script%3E%0A%20%20%20%20%3Cscript%20src%3D%22https%3A//code.jquery.com/jquery-1.12.4.min.js%22%3E%3C/script%3E%0A%20%20%20%20%3Cscript%20src%3D%22https%3A//maxcdn.bootstrapcdn.com/bootstrap/3.2.0/js/bootstrap.min.js%22%3E%3C/script%3E%0A%20%20%20%20%3Cscript%20src%3D%22https%3A//cdnjs.cloudflare.com/ajax/libs/Leaflet.awesome-markers/2.0.2/leaflet.awesome-markers.js%22%3E%3C/script%3E%0A%20%20%20%20%3Clink%20rel%3D%22stylesheet%22%20href%3D%22https%3A//cdn.jsdelivr.net/npm/leaflet%401.6.0/dist/leaflet.css%22/%3E%0A%20%20%20%20%3Clink%20rel%3D%22stylesheet%22%20href%3D%22https%3A//maxcdn.bootstrapcdn.com/bootstrap/3.2.0/css/bootstrap.min.css%22/%3E%0A%20%20%20%20%3Clink%20rel%3D%22stylesheet%22%20href%3D%22https%3A//maxcdn.bootstrapcdn.com/bootstrap/3.2.0/css/bootstrap-theme.min.css%22/%3E%0A%20%20%20%20%3Clink%20rel%3D%22stylesheet%22%20href%3D%22https%3A//maxcdn.bootstrapcdn.com/font-awesome/4.6.3/css/font-awesome.min.css%22/%3E%0A%20%20%20%20%3Clink%20rel%3D%22stylesheet%22%20href%3D%22https%3A//cdnjs.cloudflare.com/ajax/libs/Leaflet.awesome-markers/2.0.2/leaflet.awesome-markers.css%22/%3E%0A%20%20%20%20%3Clink%20rel%3D%22stylesheet%22%20href%3D%22https%3A//cdn.jsdelivr.net/gh/python-visualization/folium/folium/templates/leaflet.awesome.rotate.min.css%22/%3E%0A%20%20%20%20%0A%20%20%20%20%20%20%20%20%20%20%20%20%3Cmeta%20name%3D%22viewport%22%20content%3D%22width%3Ddevice-width%2C%0A%20%20%20%20%20%20%20%20%20%20%20%20%20%20%20%20initial-scale%3D1.0%2C%20maximum-scale%3D1.0%2C%20user-scalable%3Dno%22%20/%3E%0A%20%20%20%20%20%20%20%20%20%20%20%20%3Cstyle%3E%0A%20%20%20%20%20%20%20%20%20%20%20%20%20%20%20%20%23map_8a10bee0c48c4e18ae949efd27c8744d%20%7B%0A%20%20%20%20%20%20%20%20%20%20%20%20%20%20%20%20%20%20%20%20position%3A%20relative%3B%0A%20%20%20%20%20%20%20%20%20%20%20%20%20%20%20%20%20%20%20%20width%3A%20100.0%25%3B%0A%20%20%20%20%20%20%20%20%20%20%20%20%20%20%20%20%20%20%20%20height%3A%20100.0%25%3B%0A%20%20%20%20%20%20%20%20%20%20%20%20%20%20%20%20%20%20%20%20left%3A%200.0%25%3B%0A%20%20%20%20%20%20%20%20%20%20%20%20%20%20%20%20%20%20%20%20top%3A%200.0%25%3B%0A%20%20%20%20%20%20%20%20%20%20%20%20%20%20%20%20%7D%0A%20%20%20%20%20%20%20%20%20%20%20%20%3C/style%3E%0A%20%20%20%20%20%20%20%20%0A%3C/head%3E%0A%3Cbody%3E%20%20%20%20%0A%20%20%20%20%0A%20%20%20%20%20%20%20%20%20%20%20%20%3Cdiv%20class%3D%22folium-map%22%20id%3D%22map_8a10bee0c48c4e18ae949efd27c8744d%22%20%3E%3C/div%3E%0A%20%20%20%20%20%20%20%20%0A%3C/body%3E%0A%3Cscript%3E%20%20%20%20%0A%20%20%20%20%0A%20%20%20%20%20%20%20%20%20%20%20%20var%20map_8a10bee0c48c4e18ae949efd27c8744d%20%3D%20L.map%28%0A%20%20%20%20%20%20%20%20%20%20%20%20%20%20%20%20%22map_8a10bee0c48c4e18ae949efd27c8744d%22%2C%0A%20%20%20%20%20%20%20%20%20%20%20%20%20%20%20%20%7B%0A%20%20%20%20%20%20%20%20%20%20%20%20%20%20%20%20%20%20%20%20center%3A%20%5B-18.203199246622674%2C%2046.779785%5D%2C%0A%20%20%20%20%20%20%20%20%20%20%20%20%20%20%20%20%20%20%20%20crs%3A%20L.CRS.EPSG3857%2C%0A%20%20%20%20%20%20%20%20%20%20%20%20%20%20%20%20%20%20%20%20zoom%3A%205.6%2C%0A%20%20%20%20%20%20%20%20%20%20%20%20%20%20%20%20%20%20%20%20zoomControl%3A%20true%2C%0A%20%20%20%20%20%20%20%20%20%20%20%20%20%20%20%20%20%20%20%20preferCanvas%3A%20false%2C%0A%20%20%20%20%20%20%20%20%20%20%20%20%20%20%20%20%7D%0A%20%20%20%20%20%20%20%20%20%20%20%20%29%3B%0A%0A%20%20%20%20%20%20%20%20%20%20%20%20%0A%0A%20%20%20%20%20%20%20%20%0A%20%20%20%20%0A%20%20%20%20%20%20%20%20%20%20%20%20var%20tile_layer_cf6de2b2a8e546728e4bfe847b99a41d%20%3D%20L.tileLayer%28%0A%20%20%20%20%20%20%20%20%20%20%20%20%20%20%20%20%22https%3A//%7Bs%7D.tile.openstreetmap.org/%7Bz%7D/%7Bx%7D/%7By%7D.png%22%2C%0A%20%20%20%20%20%20%20%20%20%20%20%20%20%20%20%20%7B%22attribution%22%3A%20%22Data%20by%20%5Cu0026copy%3B%20%5Cu003ca%20href%3D%5C%22http%3A//openstreetmap.org%5C%22%5Cu003eOpenStreetMap%5Cu003c/a%5Cu003e%2C%20under%20%5Cu003ca%20href%3D%5C%22http%3A//www.openstreetmap.org/copyright%5C%22%5Cu003eODbL%5Cu003c/a%5Cu003e.%22%2C%20%22detectRetina%22%3A%20false%2C%20%22maxNativeZoom%22%3A%2018%2C%20%22maxZoom%22%3A%2018%2C%20%22minZoom%22%3A%200%2C%20%22noWrap%22%3A%20false%2C%20%22opacity%22%3A%201%2C%20%22subdomains%22%3A%20%22abc%22%2C%20%22tms%22%3A%20false%7D%0A%20%20%20%20%20%20%20%20%20%20%20%20%29.addTo%28map_8a10bee0c48c4e18ae949efd27c8744d%29%3B%0A%20%20%20%20%20%20%20%20%0A%20%20%20%20%0A%20%20%20%20%20%20%20%20%20%20%20%20var%20tile_layer_4f09835e8b4f440981abee078bb71ccf%20%3D%20L.tileLayer%28%0A%20%20%20%20%20%20%20%20%20%20%20%20%20%20%20%20%22https%3A//earthengine.googleapis.com/v1alpha/projects/earthengine-legacy/maps/686619e0a10c1ba262f320bc714c744a-70e819a11374fd799ab7a602de99046b/tiles/%7Bz%7D/%7Bx%7D/%7By%7D%22%2C%0A%20%20%20%20%20%20%20%20%20%20%20%20%20%20%20%20%7B%22attribution%22%3A%20%22Map%20Data%20%5Cu0026copy%3B%20%5Cu003ca%20href%3D%5C%22https%3A//earthengine.google.com/%5C%22%5Cu003eGoogle%20Earth%20Engine%5Cu003c/a%5Cu003e%22%2C%20%22detectRetina%22%3A%20false%2C%20%22maxNativeZoom%22%3A%2018%2C%20%22maxZoom%22%3A%2018%2C%20%22minZoom%22%3A%200%2C%20%22noWrap%22%3A%20false%2C%20%22opacity%22%3A%201%2C%20%22subdomains%22%3A%20%22abc%22%2C%20%22tms%22%3A%20false%7D%0A%20%20%20%20%20%20%20%20%20%20%20%20%29.addTo%28map_8a10bee0c48c4e18ae949efd27c8744d%29%3B%0A%20%20%20%20%20%20%20%20%0A%20%20%20%20%0A%20%20%20%20%20%20%20%20%20%20%20%20var%20tile_layer_696c50d52bdf46b99d7b2ed4b608f8fc%20%3D%20L.tileLayer%28%0A%20%20%20%20%20%20%20%20%20%20%20%20%20%20%20%20%22https%3A//earthengine.googleapis.com/v1alpha/projects/earthengine-legacy/maps/479027323c23a739149fcd537549b411-6c6cadaf9d6094f7b8ebf10257c14908/tiles/%7Bz%7D/%7Bx%7D/%7By%7D%22%2C%0A%20%20%20%20%20%20%20%20%20%20%20%20%20%20%20%20%7B%22attribution%22%3A%20%22Map%20Data%20%5Cu0026copy%3B%20%5Cu003ca%20href%3D%5C%22https%3A//earthengine.google.com/%5C%22%5Cu003eGoogle%20Earth%20Engine%5Cu003c/a%5Cu003e%22%2C%20%22detectRetina%22%3A%20false%2C%20%22maxNativeZoom%22%3A%2018%2C%20%22maxZoom%22%3A%2018%2C%20%22minZoom%22%3A%200%2C%20%22noWrap%22%3A%20false%2C%20%22opacity%22%3A%201%2C%20%22subdomains%22%3A%20%22abc%22%2C%20%22tms%22%3A%20false%7D%0A%20%20%20%20%20%20%20%20%20%20%20%20%29.addTo%28map_8a10bee0c48c4e18ae949efd27c8744d%29%3B%0A%20%20%20%20%20%20%20%20%0A%20%20%20%20%0A%20%20%20%20%20%20%20%20%20%20%20%20var%20tile_layer_833b6850e3da4704b80bb522b7961b7f%20%3D%20L.tileLayer%28%0A%20%20%20%20%20%20%20%20%20%20%20%20%20%20%20%20%22https%3A//earthengine.googleapis.com/v1alpha/projects/earthengine-legacy/maps/78902973ab0fe94069e1291f148e261f-77ac3fb9f8ec094f368b6abbf8fc313b/tiles/%7Bz%7D/%7Bx%7D/%7By%7D%22%2C%0A%20%20%20%20%20%20%20%20%20%20%20%20%20%20%20%20%7B%22attribution%22%3A%20%22Map%20Data%20%5Cu0026copy%3B%20%5Cu003ca%20href%3D%5C%22https%3A//earthengine.google.com/%5C%22%5Cu003eGoogle%20Earth%20Engine%5Cu003c/a%5Cu003e%22%2C%20%22detectRetina%22%3A%20false%2C%20%22maxNativeZoom%22%3A%2018%2C%20%22maxZoom%22%3A%2018%2C%20%22minZoom%22%3A%200%2C%20%22noWrap%22%3A%20false%2C%20%22opacity%22%3A%201%2C%20%22subdomains%22%3A%20%22abc%22%2C%20%22tms%22%3A%20false%7D%0A%20%20%20%20%20%20%20%20%20%20%20%20%29.addTo%28map_8a10bee0c48c4e18ae949efd27c8744d%29%3B%0A%20%20%20%20%20%20%20%20%0A%20%20%20%20%0A%20%20%20%20%20%20%20%20%20%20%20%20var%20tile_layer_053a289f019c4cba8a51e22a91de6e72%20%3D%20L.tileLayer%28%0A%20%20%20%20%20%20%20%20%20%20%20%20%20%20%20%20%22https%3A//earthengine.googleapis.com/v1alpha/projects/earthengine-legacy/maps/edcf4900c9acc3ebafb58f5338126ac2-7fc0a04fdb75c5aa3f99b300b5e8be9f/tiles/%7Bz%7D/%7Bx%7D/%7By%7D%22%2C%0A%20%20%20%20%20%20%20%20%20%20%20%20%20%20%20%20%7B%22attribution%22%3A%20%22Map%20Data%20%5Cu0026copy%3B%20%5Cu003ca%20href%3D%5C%22https%3A//earthengine.google.com/%5C%22%5Cu003eGoogle%20Earth%20Engine%5Cu003c/a%5Cu003e%22%2C%20%22detectRetina%22%3A%20false%2C%20%22maxNativeZoom%22%3A%2018%2C%20%22maxZoom%22%3A%2018%2C%20%22minZoom%22%3A%200%2C%20%22noWrap%22%3A%20false%2C%20%22opacity%22%3A%201%2C%20%22subdomains%22%3A%20%22abc%22%2C%20%22tms%22%3A%20false%7D%0A%20%20%20%20%20%20%20%20%20%20%20%20%29.addTo%28map_8a10bee0c48c4e18ae949efd27c8744d%29%3B%0A%20%20%20%20%20%20%20%20%0A%20%20%20%20%0A%20%20%20%20%20%20%20%20%20%20%20%20var%20tile_layer_4c6a6c0dec1d4d3d9842ca38909319be%20%3D%20L.tileLayer%28%0A%20%20%20%20%20%20%20%20%20%20%20%20%20%20%20%20%22https%3A//earthengine.googleapis.com/v1alpha/projects/earthengine-legacy/maps/e034217fa39f3854699ed85b50106316-f5351d736825ee3aa814403f505234ae/tiles/%7Bz%7D/%7Bx%7D/%7By%7D%22%2C%0A%20%20%20%20%20%20%20%20%20%20%20%20%20%20%20%20%7B%22attribution%22%3A%20%22Map%20Data%20%5Cu0026copy%3B%20%5Cu003ca%20href%3D%5C%22https%3A//earthengine.google.com/%5C%22%5Cu003eGoogle%20Earth%20Engine%5Cu003c/a%5Cu003e%22%2C%20%22detectRetina%22%3A%20false%2C%20%22maxNativeZoom%22%3A%2018%2C%20%22maxZoom%22%3A%2018%2C%20%22minZoom%22%3A%200%2C%20%22noWrap%22%3A%20false%2C%20%22opacity%22%3A%201%2C%20%22subdomains%22%3A%20%22abc%22%2C%20%22tms%22%3A%20false%7D%0A%20%20%20%20%20%20%20%20%20%20%20%20%29.addTo%28map_8a10bee0c48c4e18ae949efd27c8744d%29%3B%0A%20%20%20%20%20%20%20%20%0A%20%20%20%20%0A%20%20%20%20%20%20%20%20%20%20%20%20var%20tile_layer_10ace9a795644fe9a1a49676b8c917e8%20%3D%20L.tileLayer%28%0A%20%20%20%20%20%20%20%20%20%20%20%20%20%20%20%20%22https%3A//earthengine.googleapis.com/v1alpha/projects/earthengine-legacy/maps/e397be52dc83ec8c2c2530adc2cfc6b4-ddeca0b09cf182b725715aabaadabd9b/tiles/%7Bz%7D/%7Bx%7D/%7By%7D%22%2C%0A%20%20%20%20%20%20%20%20%20%20%20%20%20%20%20%20%7B%22attribution%22%3A%20%22Map%20Data%20%5Cu0026copy%3B%20%5Cu003ca%20href%3D%5C%22https%3A//earthengine.google.com/%5C%22%5Cu003eGoogle%20Earth%20Engine%5Cu003c/a%5Cu003e%22%2C%20%22detectRetina%22%3A%20false%2C%20%22maxNativeZoom%22%3A%2018%2C%20%22maxZoom%22%3A%2018%2C%20%22minZoom%22%3A%200%2C%20%22noWrap%22%3A%20false%2C%20%22opacity%22%3A%201%2C%20%22subdomains%22%3A%20%22abc%22%2C%20%22tms%22%3A%20false%7D%0A%20%20%20%20%20%20%20%20%20%20%20%20%29.addTo%28map_8a10bee0c48c4e18ae949efd27c8744d%29%3B%0A%20%20%20%20%20%20%20%20%0A%20%20%20%20%0A%20%20%20%20%20%20%20%20%20%20%20%20var%20layer_control_5a92697d670a4df19bd3e681ba489171%20%3D%20%7B%0A%20%20%20%20%20%20%20%20%20%20%20%20%20%20%20%20base_layers%20%3A%20%7B%0A%20%20%20%20%20%20%20%20%20%20%20%20%20%20%20%20%20%20%20%20%22openstreetmap%22%20%3A%20tile_layer_cf6de2b2a8e546728e4bfe847b99a41d%2C%0A%20%20%20%20%20%20%20%20%20%20%20%20%20%20%20%20%7D%2C%0A%20%20%20%20%20%20%20%20%20%20%20%20%20%20%20%20overlays%20%3A%20%20%7B%0A%20%20%20%20%20%20%20%20%20%20%20%20%20%20%20%20%20%20%20%20%22d%5Cu0027Andohahela%20Fitted%20NDVI%22%20%3A%20tile_layer_4f09835e8b4f440981abee078bb71ccf%2C%0A%20%20%20%20%20%20%20%20%20%20%20%20%20%20%20%20%20%20%20%20%22Midongy%20Betofaka%20Fitted%20NDVI%22%20%3A%20tile_layer_696c50d52bdf46b99d7b2ed4b608f8fc%2C%0A%20%20%20%20%20%20%20%20%20%20%20%20%20%20%20%20%20%20%20%20%22Tsimanampetsotsa%20Fitted%20NDVI%22%20%3A%20tile_layer_833b6850e3da4704b80bb522b7961b7f%2C%0A%20%20%20%20%20%20%20%20%20%20%20%20%20%20%20%20%20%20%20%20%22d%5Cu0027Ankarafantsika%20Fitted%20NDVI%22%20%3A%20tile_layer_053a289f019c4cba8a51e22a91de6e72%2C%0A%20%20%20%20%20%20%20%20%20%20%20%20%20%20%20%20%20%20%20%20%22Masoala%20Fitted%20NDVI%22%20%3A%20tile_layer_4c6a6c0dec1d4d3d9842ca38909319be%2C%0A%20%20%20%20%20%20%20%20%20%20%20%20%20%20%20%20%20%20%20%20%22Alan%5Cu0027Ankirisa%20Fitted%20NDVI%22%20%3A%20tile_layer_10ace9a795644fe9a1a49676b8c917e8%2C%0A%20%20%20%20%20%20%20%20%20%20%20%20%20%20%20%20%7D%2C%0A%20%20%20%20%20%20%20%20%20%20%20%20%7D%3B%0A%20%20%20%20%20%20%20%20%20%20%20%20L.control.layers%28%0A%20%20%20%20%20%20%20%20%20%20%20%20%20%20%20%20layer_control_5a92697d670a4df19bd3e681ba489171.base_layers%2C%0A%20%20%20%20%20%20%20%20%20%20%20%20%20%20%20%20layer_control_5a92697d670a4df19bd3e681ba489171.overlays%2C%0A%20%20%20%20%20%20%20%20%20%20%20%20%20%20%20%20%7B%22autoZIndex%22%3A%20true%2C%20%22collapsed%22%3A%20true%2C%20%22position%22%3A%20%22topright%22%7D%0A%20%20%20%20%20%20%20%20%20%20%20%20%29.addTo%28map_8a10bee0c48c4e18ae949efd27c8744d%29%3B%0A%20%20%20%20%20%20%20%20%0A%3C/script%3E onload=\"this.contentDocument.open();this.contentDocument.write(    decodeURIComponent(this.getAttribute('data-html')));this.contentDocument.close();\" allowfullscreen webkitallowfullscreen mozallowfullscreen></iframe></div></div>"
      ],
      "text/plain": [
       "<folium.folium.Map at 0x147da1880>"
      ]
     },
     "metadata": {},
     "output_type": "display_data"
    },
    {
     "name": "stdout",
     "output_type": "stream",
     "text": [
      "\n",
      " \n",
      "\n",
      "2019-07-01 - 2019-08-01\n"
     ]
    },
    {
     "data": {
      "text/html": [
       "<div style=\"width:100%;\"><div style=\"position:relative;width:100%;height:0;padding-bottom:60%;\"><span style=\"color:#565656\">Make this Notebook Trusted to load map: File -> Trust Notebook</span><iframe src=\"about:blank\" style=\"position:absolute;width:100%;height:100%;left:0;top:0;border:none !important;\" data-html=%3C%21DOCTYPE%20html%3E%0A%3Chead%3E%20%20%20%20%0A%20%20%20%20%3Cmeta%20http-equiv%3D%22content-type%22%20content%3D%22text/html%3B%20charset%3DUTF-8%22%20/%3E%0A%20%20%20%20%0A%20%20%20%20%20%20%20%20%3Cscript%3E%0A%20%20%20%20%20%20%20%20%20%20%20%20L_NO_TOUCH%20%3D%20false%3B%0A%20%20%20%20%20%20%20%20%20%20%20%20L_DISABLE_3D%20%3D%20false%3B%0A%20%20%20%20%20%20%20%20%3C/script%3E%0A%20%20%20%20%0A%20%20%20%20%3Cstyle%3Ehtml%2C%20body%20%7Bwidth%3A%20100%25%3Bheight%3A%20100%25%3Bmargin%3A%200%3Bpadding%3A%200%3B%7D%3C/style%3E%0A%20%20%20%20%3Cstyle%3E%23map%20%7Bposition%3Aabsolute%3Btop%3A0%3Bbottom%3A0%3Bright%3A0%3Bleft%3A0%3B%7D%3C/style%3E%0A%20%20%20%20%3Cscript%20src%3D%22https%3A//cdn.jsdelivr.net/npm/leaflet%401.6.0/dist/leaflet.js%22%3E%3C/script%3E%0A%20%20%20%20%3Cscript%20src%3D%22https%3A//code.jquery.com/jquery-1.12.4.min.js%22%3E%3C/script%3E%0A%20%20%20%20%3Cscript%20src%3D%22https%3A//maxcdn.bootstrapcdn.com/bootstrap/3.2.0/js/bootstrap.min.js%22%3E%3C/script%3E%0A%20%20%20%20%3Cscript%20src%3D%22https%3A//cdnjs.cloudflare.com/ajax/libs/Leaflet.awesome-markers/2.0.2/leaflet.awesome-markers.js%22%3E%3C/script%3E%0A%20%20%20%20%3Clink%20rel%3D%22stylesheet%22%20href%3D%22https%3A//cdn.jsdelivr.net/npm/leaflet%401.6.0/dist/leaflet.css%22/%3E%0A%20%20%20%20%3Clink%20rel%3D%22stylesheet%22%20href%3D%22https%3A//maxcdn.bootstrapcdn.com/bootstrap/3.2.0/css/bootstrap.min.css%22/%3E%0A%20%20%20%20%3Clink%20rel%3D%22stylesheet%22%20href%3D%22https%3A//maxcdn.bootstrapcdn.com/bootstrap/3.2.0/css/bootstrap-theme.min.css%22/%3E%0A%20%20%20%20%3Clink%20rel%3D%22stylesheet%22%20href%3D%22https%3A//maxcdn.bootstrapcdn.com/font-awesome/4.6.3/css/font-awesome.min.css%22/%3E%0A%20%20%20%20%3Clink%20rel%3D%22stylesheet%22%20href%3D%22https%3A//cdnjs.cloudflare.com/ajax/libs/Leaflet.awesome-markers/2.0.2/leaflet.awesome-markers.css%22/%3E%0A%20%20%20%20%3Clink%20rel%3D%22stylesheet%22%20href%3D%22https%3A//cdn.jsdelivr.net/gh/python-visualization/folium/folium/templates/leaflet.awesome.rotate.min.css%22/%3E%0A%20%20%20%20%0A%20%20%20%20%20%20%20%20%20%20%20%20%3Cmeta%20name%3D%22viewport%22%20content%3D%22width%3Ddevice-width%2C%0A%20%20%20%20%20%20%20%20%20%20%20%20%20%20%20%20initial-scale%3D1.0%2C%20maximum-scale%3D1.0%2C%20user-scalable%3Dno%22%20/%3E%0A%20%20%20%20%20%20%20%20%20%20%20%20%3Cstyle%3E%0A%20%20%20%20%20%20%20%20%20%20%20%20%20%20%20%20%23map_fcd8bc0cb5ab47928cbb4a123959442e%20%7B%0A%20%20%20%20%20%20%20%20%20%20%20%20%20%20%20%20%20%20%20%20position%3A%20relative%3B%0A%20%20%20%20%20%20%20%20%20%20%20%20%20%20%20%20%20%20%20%20width%3A%20100.0%25%3B%0A%20%20%20%20%20%20%20%20%20%20%20%20%20%20%20%20%20%20%20%20height%3A%20100.0%25%3B%0A%20%20%20%20%20%20%20%20%20%20%20%20%20%20%20%20%20%20%20%20left%3A%200.0%25%3B%0A%20%20%20%20%20%20%20%20%20%20%20%20%20%20%20%20%20%20%20%20top%3A%200.0%25%3B%0A%20%20%20%20%20%20%20%20%20%20%20%20%20%20%20%20%7D%0A%20%20%20%20%20%20%20%20%20%20%20%20%3C/style%3E%0A%20%20%20%20%20%20%20%20%0A%3C/head%3E%0A%3Cbody%3E%20%20%20%20%0A%20%20%20%20%0A%20%20%20%20%20%20%20%20%20%20%20%20%3Cdiv%20class%3D%22folium-map%22%20id%3D%22map_fcd8bc0cb5ab47928cbb4a123959442e%22%20%3E%3C/div%3E%0A%20%20%20%20%20%20%20%20%0A%3C/body%3E%0A%3Cscript%3E%20%20%20%20%0A%20%20%20%20%0A%20%20%20%20%20%20%20%20%20%20%20%20var%20map_fcd8bc0cb5ab47928cbb4a123959442e%20%3D%20L.map%28%0A%20%20%20%20%20%20%20%20%20%20%20%20%20%20%20%20%22map_fcd8bc0cb5ab47928cbb4a123959442e%22%2C%0A%20%20%20%20%20%20%20%20%20%20%20%20%20%20%20%20%7B%0A%20%20%20%20%20%20%20%20%20%20%20%20%20%20%20%20%20%20%20%20center%3A%20%5B-18.203199246622674%2C%2046.779785%5D%2C%0A%20%20%20%20%20%20%20%20%20%20%20%20%20%20%20%20%20%20%20%20crs%3A%20L.CRS.EPSG3857%2C%0A%20%20%20%20%20%20%20%20%20%20%20%20%20%20%20%20%20%20%20%20zoom%3A%205.6%2C%0A%20%20%20%20%20%20%20%20%20%20%20%20%20%20%20%20%20%20%20%20zoomControl%3A%20true%2C%0A%20%20%20%20%20%20%20%20%20%20%20%20%20%20%20%20%20%20%20%20preferCanvas%3A%20false%2C%0A%20%20%20%20%20%20%20%20%20%20%20%20%20%20%20%20%7D%0A%20%20%20%20%20%20%20%20%20%20%20%20%29%3B%0A%0A%20%20%20%20%20%20%20%20%20%20%20%20%0A%0A%20%20%20%20%20%20%20%20%0A%20%20%20%20%0A%20%20%20%20%20%20%20%20%20%20%20%20var%20tile_layer_746a05664e3b462781e4bb26dbd8a0ed%20%3D%20L.tileLayer%28%0A%20%20%20%20%20%20%20%20%20%20%20%20%20%20%20%20%22https%3A//%7Bs%7D.tile.openstreetmap.org/%7Bz%7D/%7Bx%7D/%7By%7D.png%22%2C%0A%20%20%20%20%20%20%20%20%20%20%20%20%20%20%20%20%7B%22attribution%22%3A%20%22Data%20by%20%5Cu0026copy%3B%20%5Cu003ca%20href%3D%5C%22http%3A//openstreetmap.org%5C%22%5Cu003eOpenStreetMap%5Cu003c/a%5Cu003e%2C%20under%20%5Cu003ca%20href%3D%5C%22http%3A//www.openstreetmap.org/copyright%5C%22%5Cu003eODbL%5Cu003c/a%5Cu003e.%22%2C%20%22detectRetina%22%3A%20false%2C%20%22maxNativeZoom%22%3A%2018%2C%20%22maxZoom%22%3A%2018%2C%20%22minZoom%22%3A%200%2C%20%22noWrap%22%3A%20false%2C%20%22opacity%22%3A%201%2C%20%22subdomains%22%3A%20%22abc%22%2C%20%22tms%22%3A%20false%7D%0A%20%20%20%20%20%20%20%20%20%20%20%20%29.addTo%28map_fcd8bc0cb5ab47928cbb4a123959442e%29%3B%0A%20%20%20%20%20%20%20%20%0A%20%20%20%20%0A%20%20%20%20%20%20%20%20%20%20%20%20var%20tile_layer_bccd5c6044dc4d01b9dd435f2c10a551%20%3D%20L.tileLayer%28%0A%20%20%20%20%20%20%20%20%20%20%20%20%20%20%20%20%22https%3A//earthengine.googleapis.com/v1alpha/projects/earthengine-legacy/maps/6dc9582fc56a2df05a35053f6477b1db-66abfbb2eb9270e3bd1c9d46d5517e89/tiles/%7Bz%7D/%7Bx%7D/%7By%7D%22%2C%0A%20%20%20%20%20%20%20%20%20%20%20%20%20%20%20%20%7B%22attribution%22%3A%20%22Map%20Data%20%5Cu0026copy%3B%20%5Cu003ca%20href%3D%5C%22https%3A//earthengine.google.com/%5C%22%5Cu003eGoogle%20Earth%20Engine%5Cu003c/a%5Cu003e%22%2C%20%22detectRetina%22%3A%20false%2C%20%22maxNativeZoom%22%3A%2018%2C%20%22maxZoom%22%3A%2018%2C%20%22minZoom%22%3A%200%2C%20%22noWrap%22%3A%20false%2C%20%22opacity%22%3A%201%2C%20%22subdomains%22%3A%20%22abc%22%2C%20%22tms%22%3A%20false%7D%0A%20%20%20%20%20%20%20%20%20%20%20%20%29.addTo%28map_fcd8bc0cb5ab47928cbb4a123959442e%29%3B%0A%20%20%20%20%20%20%20%20%0A%20%20%20%20%0A%20%20%20%20%20%20%20%20%20%20%20%20var%20tile_layer_fc6365e4e8834d1e93c182bc1d5106c2%20%3D%20L.tileLayer%28%0A%20%20%20%20%20%20%20%20%20%20%20%20%20%20%20%20%22https%3A//earthengine.googleapis.com/v1alpha/projects/earthengine-legacy/maps/99568b02852064ed785106be40b357b5-38083b6525af77d764c3c5bffcca8ddf/tiles/%7Bz%7D/%7Bx%7D/%7By%7D%22%2C%0A%20%20%20%20%20%20%20%20%20%20%20%20%20%20%20%20%7B%22attribution%22%3A%20%22Map%20Data%20%5Cu0026copy%3B%20%5Cu003ca%20href%3D%5C%22https%3A//earthengine.google.com/%5C%22%5Cu003eGoogle%20Earth%20Engine%5Cu003c/a%5Cu003e%22%2C%20%22detectRetina%22%3A%20false%2C%20%22maxNativeZoom%22%3A%2018%2C%20%22maxZoom%22%3A%2018%2C%20%22minZoom%22%3A%200%2C%20%22noWrap%22%3A%20false%2C%20%22opacity%22%3A%201%2C%20%22subdomains%22%3A%20%22abc%22%2C%20%22tms%22%3A%20false%7D%0A%20%20%20%20%20%20%20%20%20%20%20%20%29.addTo%28map_fcd8bc0cb5ab47928cbb4a123959442e%29%3B%0A%20%20%20%20%20%20%20%20%0A%20%20%20%20%0A%20%20%20%20%20%20%20%20%20%20%20%20var%20tile_layer_2d6aaaad1fac46e2b8dedfc930d3abfa%20%3D%20L.tileLayer%28%0A%20%20%20%20%20%20%20%20%20%20%20%20%20%20%20%20%22https%3A//earthengine.googleapis.com/v1alpha/projects/earthengine-legacy/maps/fa1d708e64033f77d9be216ea92025f1-152bb889e8687d9babd54a417b782c6e/tiles/%7Bz%7D/%7Bx%7D/%7By%7D%22%2C%0A%20%20%20%20%20%20%20%20%20%20%20%20%20%20%20%20%7B%22attribution%22%3A%20%22Map%20Data%20%5Cu0026copy%3B%20%5Cu003ca%20href%3D%5C%22https%3A//earthengine.google.com/%5C%22%5Cu003eGoogle%20Earth%20Engine%5Cu003c/a%5Cu003e%22%2C%20%22detectRetina%22%3A%20false%2C%20%22maxNativeZoom%22%3A%2018%2C%20%22maxZoom%22%3A%2018%2C%20%22minZoom%22%3A%200%2C%20%22noWrap%22%3A%20false%2C%20%22opacity%22%3A%201%2C%20%22subdomains%22%3A%20%22abc%22%2C%20%22tms%22%3A%20false%7D%0A%20%20%20%20%20%20%20%20%20%20%20%20%29.addTo%28map_fcd8bc0cb5ab47928cbb4a123959442e%29%3B%0A%20%20%20%20%20%20%20%20%0A%20%20%20%20%0A%20%20%20%20%20%20%20%20%20%20%20%20var%20tile_layer_af16a5dfab1f40eaad5d43c2708d968f%20%3D%20L.tileLayer%28%0A%20%20%20%20%20%20%20%20%20%20%20%20%20%20%20%20%22https%3A//earthengine.googleapis.com/v1alpha/projects/earthengine-legacy/maps/3d8dfb9522c1e28568f67cf3f23c04f5-2e845d78386eaadee2e6710ebcc16376/tiles/%7Bz%7D/%7Bx%7D/%7By%7D%22%2C%0A%20%20%20%20%20%20%20%20%20%20%20%20%20%20%20%20%7B%22attribution%22%3A%20%22Map%20Data%20%5Cu0026copy%3B%20%5Cu003ca%20href%3D%5C%22https%3A//earthengine.google.com/%5C%22%5Cu003eGoogle%20Earth%20Engine%5Cu003c/a%5Cu003e%22%2C%20%22detectRetina%22%3A%20false%2C%20%22maxNativeZoom%22%3A%2018%2C%20%22maxZoom%22%3A%2018%2C%20%22minZoom%22%3A%200%2C%20%22noWrap%22%3A%20false%2C%20%22opacity%22%3A%201%2C%20%22subdomains%22%3A%20%22abc%22%2C%20%22tms%22%3A%20false%7D%0A%20%20%20%20%20%20%20%20%20%20%20%20%29.addTo%28map_fcd8bc0cb5ab47928cbb4a123959442e%29%3B%0A%20%20%20%20%20%20%20%20%0A%20%20%20%20%0A%20%20%20%20%20%20%20%20%20%20%20%20var%20tile_layer_f0602e10170f482b8eb1e5cdd6160bac%20%3D%20L.tileLayer%28%0A%20%20%20%20%20%20%20%20%20%20%20%20%20%20%20%20%22https%3A//earthengine.googleapis.com/v1alpha/projects/earthengine-legacy/maps/ad7d79a5623492cf81ddfddc7b53fb53-8bfec594d6700d7fbdb9b81219630a6d/tiles/%7Bz%7D/%7Bx%7D/%7By%7D%22%2C%0A%20%20%20%20%20%20%20%20%20%20%20%20%20%20%20%20%7B%22attribution%22%3A%20%22Map%20Data%20%5Cu0026copy%3B%20%5Cu003ca%20href%3D%5C%22https%3A//earthengine.google.com/%5C%22%5Cu003eGoogle%20Earth%20Engine%5Cu003c/a%5Cu003e%22%2C%20%22detectRetina%22%3A%20false%2C%20%22maxNativeZoom%22%3A%2018%2C%20%22maxZoom%22%3A%2018%2C%20%22minZoom%22%3A%200%2C%20%22noWrap%22%3A%20false%2C%20%22opacity%22%3A%201%2C%20%22subdomains%22%3A%20%22abc%22%2C%20%22tms%22%3A%20false%7D%0A%20%20%20%20%20%20%20%20%20%20%20%20%29.addTo%28map_fcd8bc0cb5ab47928cbb4a123959442e%29%3B%0A%20%20%20%20%20%20%20%20%0A%20%20%20%20%0A%20%20%20%20%20%20%20%20%20%20%20%20var%20tile_layer_6fdc2eabc522432dabca60f0c92bb9e1%20%3D%20L.tileLayer%28%0A%20%20%20%20%20%20%20%20%20%20%20%20%20%20%20%20%22https%3A//earthengine.googleapis.com/v1alpha/projects/earthengine-legacy/maps/65bbd1fc6b6919bf5021d36eed3a0bc3-62e2ceb94ea3e77eb4afb27bc5183433/tiles/%7Bz%7D/%7Bx%7D/%7By%7D%22%2C%0A%20%20%20%20%20%20%20%20%20%20%20%20%20%20%20%20%7B%22attribution%22%3A%20%22Map%20Data%20%5Cu0026copy%3B%20%5Cu003ca%20href%3D%5C%22https%3A//earthengine.google.com/%5C%22%5Cu003eGoogle%20Earth%20Engine%5Cu003c/a%5Cu003e%22%2C%20%22detectRetina%22%3A%20false%2C%20%22maxNativeZoom%22%3A%2018%2C%20%22maxZoom%22%3A%2018%2C%20%22minZoom%22%3A%200%2C%20%22noWrap%22%3A%20false%2C%20%22opacity%22%3A%201%2C%20%22subdomains%22%3A%20%22abc%22%2C%20%22tms%22%3A%20false%7D%0A%20%20%20%20%20%20%20%20%20%20%20%20%29.addTo%28map_fcd8bc0cb5ab47928cbb4a123959442e%29%3B%0A%20%20%20%20%20%20%20%20%0A%20%20%20%20%0A%20%20%20%20%20%20%20%20%20%20%20%20var%20layer_control_0a3b2093f19a494c9972d65b4fb055ed%20%3D%20%7B%0A%20%20%20%20%20%20%20%20%20%20%20%20%20%20%20%20base_layers%20%3A%20%7B%0A%20%20%20%20%20%20%20%20%20%20%20%20%20%20%20%20%20%20%20%20%22openstreetmap%22%20%3A%20tile_layer_746a05664e3b462781e4bb26dbd8a0ed%2C%0A%20%20%20%20%20%20%20%20%20%20%20%20%20%20%20%20%7D%2C%0A%20%20%20%20%20%20%20%20%20%20%20%20%20%20%20%20overlays%20%3A%20%20%7B%0A%20%20%20%20%20%20%20%20%20%20%20%20%20%20%20%20%20%20%20%20%22d%5Cu0027Andohahela%20Fitted%20NDVI%22%20%3A%20tile_layer_bccd5c6044dc4d01b9dd435f2c10a551%2C%0A%20%20%20%20%20%20%20%20%20%20%20%20%20%20%20%20%20%20%20%20%22Midongy%20Betofaka%20Fitted%20NDVI%22%20%3A%20tile_layer_fc6365e4e8834d1e93c182bc1d5106c2%2C%0A%20%20%20%20%20%20%20%20%20%20%20%20%20%20%20%20%20%20%20%20%22Tsimanampetsotsa%20Fitted%20NDVI%22%20%3A%20tile_layer_2d6aaaad1fac46e2b8dedfc930d3abfa%2C%0A%20%20%20%20%20%20%20%20%20%20%20%20%20%20%20%20%20%20%20%20%22d%5Cu0027Ankarafantsika%20Fitted%20NDVI%22%20%3A%20tile_layer_af16a5dfab1f40eaad5d43c2708d968f%2C%0A%20%20%20%20%20%20%20%20%20%20%20%20%20%20%20%20%20%20%20%20%22Masoala%20Fitted%20NDVI%22%20%3A%20tile_layer_f0602e10170f482b8eb1e5cdd6160bac%2C%0A%20%20%20%20%20%20%20%20%20%20%20%20%20%20%20%20%20%20%20%20%22Alan%5Cu0027Ankirisa%20Fitted%20NDVI%22%20%3A%20tile_layer_6fdc2eabc522432dabca60f0c92bb9e1%2C%0A%20%20%20%20%20%20%20%20%20%20%20%20%20%20%20%20%7D%2C%0A%20%20%20%20%20%20%20%20%20%20%20%20%7D%3B%0A%20%20%20%20%20%20%20%20%20%20%20%20L.control.layers%28%0A%20%20%20%20%20%20%20%20%20%20%20%20%20%20%20%20layer_control_0a3b2093f19a494c9972d65b4fb055ed.base_layers%2C%0A%20%20%20%20%20%20%20%20%20%20%20%20%20%20%20%20layer_control_0a3b2093f19a494c9972d65b4fb055ed.overlays%2C%0A%20%20%20%20%20%20%20%20%20%20%20%20%20%20%20%20%7B%22autoZIndex%22%3A%20true%2C%20%22collapsed%22%3A%20true%2C%20%22position%22%3A%20%22topright%22%7D%0A%20%20%20%20%20%20%20%20%20%20%20%20%29.addTo%28map_fcd8bc0cb5ab47928cbb4a123959442e%29%3B%0A%20%20%20%20%20%20%20%20%0A%3C/script%3E onload=\"this.contentDocument.open();this.contentDocument.write(    decodeURIComponent(this.getAttribute('data-html')));this.contentDocument.close();\" allowfullscreen webkitallowfullscreen mozallowfullscreen></iframe></div></div>"
      ],
      "text/plain": [
       "<folium.folium.Map at 0x147d89250>"
      ]
     },
     "metadata": {},
     "output_type": "display_data"
    },
    {
     "name": "stdout",
     "output_type": "stream",
     "text": [
      "\n",
      " \n",
      "\n",
      "2019-08-01 - 2019-09-01\n"
     ]
    },
    {
     "data": {
      "text/html": [
       "<div style=\"width:100%;\"><div style=\"position:relative;width:100%;height:0;padding-bottom:60%;\"><span style=\"color:#565656\">Make this Notebook Trusted to load map: File -> Trust Notebook</span><iframe src=\"about:blank\" style=\"position:absolute;width:100%;height:100%;left:0;top:0;border:none !important;\" data-html=%3C%21DOCTYPE%20html%3E%0A%3Chead%3E%20%20%20%20%0A%20%20%20%20%3Cmeta%20http-equiv%3D%22content-type%22%20content%3D%22text/html%3B%20charset%3DUTF-8%22%20/%3E%0A%20%20%20%20%0A%20%20%20%20%20%20%20%20%3Cscript%3E%0A%20%20%20%20%20%20%20%20%20%20%20%20L_NO_TOUCH%20%3D%20false%3B%0A%20%20%20%20%20%20%20%20%20%20%20%20L_DISABLE_3D%20%3D%20false%3B%0A%20%20%20%20%20%20%20%20%3C/script%3E%0A%20%20%20%20%0A%20%20%20%20%3Cstyle%3Ehtml%2C%20body%20%7Bwidth%3A%20100%25%3Bheight%3A%20100%25%3Bmargin%3A%200%3Bpadding%3A%200%3B%7D%3C/style%3E%0A%20%20%20%20%3Cstyle%3E%23map%20%7Bposition%3Aabsolute%3Btop%3A0%3Bbottom%3A0%3Bright%3A0%3Bleft%3A0%3B%7D%3C/style%3E%0A%20%20%20%20%3Cscript%20src%3D%22https%3A//cdn.jsdelivr.net/npm/leaflet%401.6.0/dist/leaflet.js%22%3E%3C/script%3E%0A%20%20%20%20%3Cscript%20src%3D%22https%3A//code.jquery.com/jquery-1.12.4.min.js%22%3E%3C/script%3E%0A%20%20%20%20%3Cscript%20src%3D%22https%3A//maxcdn.bootstrapcdn.com/bootstrap/3.2.0/js/bootstrap.min.js%22%3E%3C/script%3E%0A%20%20%20%20%3Cscript%20src%3D%22https%3A//cdnjs.cloudflare.com/ajax/libs/Leaflet.awesome-markers/2.0.2/leaflet.awesome-markers.js%22%3E%3C/script%3E%0A%20%20%20%20%3Clink%20rel%3D%22stylesheet%22%20href%3D%22https%3A//cdn.jsdelivr.net/npm/leaflet%401.6.0/dist/leaflet.css%22/%3E%0A%20%20%20%20%3Clink%20rel%3D%22stylesheet%22%20href%3D%22https%3A//maxcdn.bootstrapcdn.com/bootstrap/3.2.0/css/bootstrap.min.css%22/%3E%0A%20%20%20%20%3Clink%20rel%3D%22stylesheet%22%20href%3D%22https%3A//maxcdn.bootstrapcdn.com/bootstrap/3.2.0/css/bootstrap-theme.min.css%22/%3E%0A%20%20%20%20%3Clink%20rel%3D%22stylesheet%22%20href%3D%22https%3A//maxcdn.bootstrapcdn.com/font-awesome/4.6.3/css/font-awesome.min.css%22/%3E%0A%20%20%20%20%3Clink%20rel%3D%22stylesheet%22%20href%3D%22https%3A//cdnjs.cloudflare.com/ajax/libs/Leaflet.awesome-markers/2.0.2/leaflet.awesome-markers.css%22/%3E%0A%20%20%20%20%3Clink%20rel%3D%22stylesheet%22%20href%3D%22https%3A//cdn.jsdelivr.net/gh/python-visualization/folium/folium/templates/leaflet.awesome.rotate.min.css%22/%3E%0A%20%20%20%20%0A%20%20%20%20%20%20%20%20%20%20%20%20%3Cmeta%20name%3D%22viewport%22%20content%3D%22width%3Ddevice-width%2C%0A%20%20%20%20%20%20%20%20%20%20%20%20%20%20%20%20initial-scale%3D1.0%2C%20maximum-scale%3D1.0%2C%20user-scalable%3Dno%22%20/%3E%0A%20%20%20%20%20%20%20%20%20%20%20%20%3Cstyle%3E%0A%20%20%20%20%20%20%20%20%20%20%20%20%20%20%20%20%23map_8302ad8751cb46e6b1ec9c1271475305%20%7B%0A%20%20%20%20%20%20%20%20%20%20%20%20%20%20%20%20%20%20%20%20position%3A%20relative%3B%0A%20%20%20%20%20%20%20%20%20%20%20%20%20%20%20%20%20%20%20%20width%3A%20100.0%25%3B%0A%20%20%20%20%20%20%20%20%20%20%20%20%20%20%20%20%20%20%20%20height%3A%20100.0%25%3B%0A%20%20%20%20%20%20%20%20%20%20%20%20%20%20%20%20%20%20%20%20left%3A%200.0%25%3B%0A%20%20%20%20%20%20%20%20%20%20%20%20%20%20%20%20%20%20%20%20top%3A%200.0%25%3B%0A%20%20%20%20%20%20%20%20%20%20%20%20%20%20%20%20%7D%0A%20%20%20%20%20%20%20%20%20%20%20%20%3C/style%3E%0A%20%20%20%20%20%20%20%20%0A%3C/head%3E%0A%3Cbody%3E%20%20%20%20%0A%20%20%20%20%0A%20%20%20%20%20%20%20%20%20%20%20%20%3Cdiv%20class%3D%22folium-map%22%20id%3D%22map_8302ad8751cb46e6b1ec9c1271475305%22%20%3E%3C/div%3E%0A%20%20%20%20%20%20%20%20%0A%3C/body%3E%0A%3Cscript%3E%20%20%20%20%0A%20%20%20%20%0A%20%20%20%20%20%20%20%20%20%20%20%20var%20map_8302ad8751cb46e6b1ec9c1271475305%20%3D%20L.map%28%0A%20%20%20%20%20%20%20%20%20%20%20%20%20%20%20%20%22map_8302ad8751cb46e6b1ec9c1271475305%22%2C%0A%20%20%20%20%20%20%20%20%20%20%20%20%20%20%20%20%7B%0A%20%20%20%20%20%20%20%20%20%20%20%20%20%20%20%20%20%20%20%20center%3A%20%5B-18.203199246622674%2C%2046.779785%5D%2C%0A%20%20%20%20%20%20%20%20%20%20%20%20%20%20%20%20%20%20%20%20crs%3A%20L.CRS.EPSG3857%2C%0A%20%20%20%20%20%20%20%20%20%20%20%20%20%20%20%20%20%20%20%20zoom%3A%205.6%2C%0A%20%20%20%20%20%20%20%20%20%20%20%20%20%20%20%20%20%20%20%20zoomControl%3A%20true%2C%0A%20%20%20%20%20%20%20%20%20%20%20%20%20%20%20%20%20%20%20%20preferCanvas%3A%20false%2C%0A%20%20%20%20%20%20%20%20%20%20%20%20%20%20%20%20%7D%0A%20%20%20%20%20%20%20%20%20%20%20%20%29%3B%0A%0A%20%20%20%20%20%20%20%20%20%20%20%20%0A%0A%20%20%20%20%20%20%20%20%0A%20%20%20%20%0A%20%20%20%20%20%20%20%20%20%20%20%20var%20tile_layer_104afb38a7c446778022aa4e4cf158bc%20%3D%20L.tileLayer%28%0A%20%20%20%20%20%20%20%20%20%20%20%20%20%20%20%20%22https%3A//%7Bs%7D.tile.openstreetmap.org/%7Bz%7D/%7Bx%7D/%7By%7D.png%22%2C%0A%20%20%20%20%20%20%20%20%20%20%20%20%20%20%20%20%7B%22attribution%22%3A%20%22Data%20by%20%5Cu0026copy%3B%20%5Cu003ca%20href%3D%5C%22http%3A//openstreetmap.org%5C%22%5Cu003eOpenStreetMap%5Cu003c/a%5Cu003e%2C%20under%20%5Cu003ca%20href%3D%5C%22http%3A//www.openstreetmap.org/copyright%5C%22%5Cu003eODbL%5Cu003c/a%5Cu003e.%22%2C%20%22detectRetina%22%3A%20false%2C%20%22maxNativeZoom%22%3A%2018%2C%20%22maxZoom%22%3A%2018%2C%20%22minZoom%22%3A%200%2C%20%22noWrap%22%3A%20false%2C%20%22opacity%22%3A%201%2C%20%22subdomains%22%3A%20%22abc%22%2C%20%22tms%22%3A%20false%7D%0A%20%20%20%20%20%20%20%20%20%20%20%20%29.addTo%28map_8302ad8751cb46e6b1ec9c1271475305%29%3B%0A%20%20%20%20%20%20%20%20%0A%20%20%20%20%0A%20%20%20%20%20%20%20%20%20%20%20%20var%20tile_layer_aff9e644db094c2b9325b93a2f22baff%20%3D%20L.tileLayer%28%0A%20%20%20%20%20%20%20%20%20%20%20%20%20%20%20%20%22https%3A//earthengine.googleapis.com/v1alpha/projects/earthengine-legacy/maps/a8176c17a032c0bbf1f7869d1b808314-eb313b820071fdbb701fd6f4ec10905a/tiles/%7Bz%7D/%7Bx%7D/%7By%7D%22%2C%0A%20%20%20%20%20%20%20%20%20%20%20%20%20%20%20%20%7B%22attribution%22%3A%20%22Map%20Data%20%5Cu0026copy%3B%20%5Cu003ca%20href%3D%5C%22https%3A//earthengine.google.com/%5C%22%5Cu003eGoogle%20Earth%20Engine%5Cu003c/a%5Cu003e%22%2C%20%22detectRetina%22%3A%20false%2C%20%22maxNativeZoom%22%3A%2018%2C%20%22maxZoom%22%3A%2018%2C%20%22minZoom%22%3A%200%2C%20%22noWrap%22%3A%20false%2C%20%22opacity%22%3A%201%2C%20%22subdomains%22%3A%20%22abc%22%2C%20%22tms%22%3A%20false%7D%0A%20%20%20%20%20%20%20%20%20%20%20%20%29.addTo%28map_8302ad8751cb46e6b1ec9c1271475305%29%3B%0A%20%20%20%20%20%20%20%20%0A%20%20%20%20%0A%20%20%20%20%20%20%20%20%20%20%20%20var%20tile_layer_72e53c5f41ca4900b8f2a12403c05d3c%20%3D%20L.tileLayer%28%0A%20%20%20%20%20%20%20%20%20%20%20%20%20%20%20%20%22https%3A//earthengine.googleapis.com/v1alpha/projects/earthengine-legacy/maps/fed442c6a5a80aca1d5dbdd76f31eb57-40e5ebfb37e64a8f58c2a7bf999439e3/tiles/%7Bz%7D/%7Bx%7D/%7By%7D%22%2C%0A%20%20%20%20%20%20%20%20%20%20%20%20%20%20%20%20%7B%22attribution%22%3A%20%22Map%20Data%20%5Cu0026copy%3B%20%5Cu003ca%20href%3D%5C%22https%3A//earthengine.google.com/%5C%22%5Cu003eGoogle%20Earth%20Engine%5Cu003c/a%5Cu003e%22%2C%20%22detectRetina%22%3A%20false%2C%20%22maxNativeZoom%22%3A%2018%2C%20%22maxZoom%22%3A%2018%2C%20%22minZoom%22%3A%200%2C%20%22noWrap%22%3A%20false%2C%20%22opacity%22%3A%201%2C%20%22subdomains%22%3A%20%22abc%22%2C%20%22tms%22%3A%20false%7D%0A%20%20%20%20%20%20%20%20%20%20%20%20%29.addTo%28map_8302ad8751cb46e6b1ec9c1271475305%29%3B%0A%20%20%20%20%20%20%20%20%0A%20%20%20%20%0A%20%20%20%20%20%20%20%20%20%20%20%20var%20tile_layer_eb6913f3255f4112a735af5ac0d7e6f8%20%3D%20L.tileLayer%28%0A%20%20%20%20%20%20%20%20%20%20%20%20%20%20%20%20%22https%3A//earthengine.googleapis.com/v1alpha/projects/earthengine-legacy/maps/86c24e0e87bb0f725b6d03f239f059c6-47d1a88868ac38e16c1c05aba62ad790/tiles/%7Bz%7D/%7Bx%7D/%7By%7D%22%2C%0A%20%20%20%20%20%20%20%20%20%20%20%20%20%20%20%20%7B%22attribution%22%3A%20%22Map%20Data%20%5Cu0026copy%3B%20%5Cu003ca%20href%3D%5C%22https%3A//earthengine.google.com/%5C%22%5Cu003eGoogle%20Earth%20Engine%5Cu003c/a%5Cu003e%22%2C%20%22detectRetina%22%3A%20false%2C%20%22maxNativeZoom%22%3A%2018%2C%20%22maxZoom%22%3A%2018%2C%20%22minZoom%22%3A%200%2C%20%22noWrap%22%3A%20false%2C%20%22opacity%22%3A%201%2C%20%22subdomains%22%3A%20%22abc%22%2C%20%22tms%22%3A%20false%7D%0A%20%20%20%20%20%20%20%20%20%20%20%20%29.addTo%28map_8302ad8751cb46e6b1ec9c1271475305%29%3B%0A%20%20%20%20%20%20%20%20%0A%20%20%20%20%0A%20%20%20%20%20%20%20%20%20%20%20%20var%20tile_layer_b23b2cbfc8fd44adbe4d83959e8b1270%20%3D%20L.tileLayer%28%0A%20%20%20%20%20%20%20%20%20%20%20%20%20%20%20%20%22https%3A//earthengine.googleapis.com/v1alpha/projects/earthengine-legacy/maps/c8e264d3f529202e3073b68835cbfe2b-7e262257b10487098ac8b860ef3ec1e2/tiles/%7Bz%7D/%7Bx%7D/%7By%7D%22%2C%0A%20%20%20%20%20%20%20%20%20%20%20%20%20%20%20%20%7B%22attribution%22%3A%20%22Map%20Data%20%5Cu0026copy%3B%20%5Cu003ca%20href%3D%5C%22https%3A//earthengine.google.com/%5C%22%5Cu003eGoogle%20Earth%20Engine%5Cu003c/a%5Cu003e%22%2C%20%22detectRetina%22%3A%20false%2C%20%22maxNativeZoom%22%3A%2018%2C%20%22maxZoom%22%3A%2018%2C%20%22minZoom%22%3A%200%2C%20%22noWrap%22%3A%20false%2C%20%22opacity%22%3A%201%2C%20%22subdomains%22%3A%20%22abc%22%2C%20%22tms%22%3A%20false%7D%0A%20%20%20%20%20%20%20%20%20%20%20%20%29.addTo%28map_8302ad8751cb46e6b1ec9c1271475305%29%3B%0A%20%20%20%20%20%20%20%20%0A%20%20%20%20%0A%20%20%20%20%20%20%20%20%20%20%20%20var%20tile_layer_2cc1dc14b550459aa2ec9e47b3f6ce75%20%3D%20L.tileLayer%28%0A%20%20%20%20%20%20%20%20%20%20%20%20%20%20%20%20%22https%3A//earthengine.googleapis.com/v1alpha/projects/earthengine-legacy/maps/1b1bb5156020dbb0c6c4405fec12fcb3-f254c1c63067e5f25cc187bf4ba5c78f/tiles/%7Bz%7D/%7Bx%7D/%7By%7D%22%2C%0A%20%20%20%20%20%20%20%20%20%20%20%20%20%20%20%20%7B%22attribution%22%3A%20%22Map%20Data%20%5Cu0026copy%3B%20%5Cu003ca%20href%3D%5C%22https%3A//earthengine.google.com/%5C%22%5Cu003eGoogle%20Earth%20Engine%5Cu003c/a%5Cu003e%22%2C%20%22detectRetina%22%3A%20false%2C%20%22maxNativeZoom%22%3A%2018%2C%20%22maxZoom%22%3A%2018%2C%20%22minZoom%22%3A%200%2C%20%22noWrap%22%3A%20false%2C%20%22opacity%22%3A%201%2C%20%22subdomains%22%3A%20%22abc%22%2C%20%22tms%22%3A%20false%7D%0A%20%20%20%20%20%20%20%20%20%20%20%20%29.addTo%28map_8302ad8751cb46e6b1ec9c1271475305%29%3B%0A%20%20%20%20%20%20%20%20%0A%20%20%20%20%0A%20%20%20%20%20%20%20%20%20%20%20%20var%20tile_layer_087ddd50912c4aa2ada2f74701dbd8f1%20%3D%20L.tileLayer%28%0A%20%20%20%20%20%20%20%20%20%20%20%20%20%20%20%20%22https%3A//earthengine.googleapis.com/v1alpha/projects/earthengine-legacy/maps/87ab2e866e9cb5f4e25bc25ee9defca0-2094f2f63ca0f70093e813ad74f65c87/tiles/%7Bz%7D/%7Bx%7D/%7By%7D%22%2C%0A%20%20%20%20%20%20%20%20%20%20%20%20%20%20%20%20%7B%22attribution%22%3A%20%22Map%20Data%20%5Cu0026copy%3B%20%5Cu003ca%20href%3D%5C%22https%3A//earthengine.google.com/%5C%22%5Cu003eGoogle%20Earth%20Engine%5Cu003c/a%5Cu003e%22%2C%20%22detectRetina%22%3A%20false%2C%20%22maxNativeZoom%22%3A%2018%2C%20%22maxZoom%22%3A%2018%2C%20%22minZoom%22%3A%200%2C%20%22noWrap%22%3A%20false%2C%20%22opacity%22%3A%201%2C%20%22subdomains%22%3A%20%22abc%22%2C%20%22tms%22%3A%20false%7D%0A%20%20%20%20%20%20%20%20%20%20%20%20%29.addTo%28map_8302ad8751cb46e6b1ec9c1271475305%29%3B%0A%20%20%20%20%20%20%20%20%0A%20%20%20%20%0A%20%20%20%20%20%20%20%20%20%20%20%20var%20layer_control_10ce0d50fb6e4cd9bc06e7a23a8ba451%20%3D%20%7B%0A%20%20%20%20%20%20%20%20%20%20%20%20%20%20%20%20base_layers%20%3A%20%7B%0A%20%20%20%20%20%20%20%20%20%20%20%20%20%20%20%20%20%20%20%20%22openstreetmap%22%20%3A%20tile_layer_104afb38a7c446778022aa4e4cf158bc%2C%0A%20%20%20%20%20%20%20%20%20%20%20%20%20%20%20%20%7D%2C%0A%20%20%20%20%20%20%20%20%20%20%20%20%20%20%20%20overlays%20%3A%20%20%7B%0A%20%20%20%20%20%20%20%20%20%20%20%20%20%20%20%20%20%20%20%20%22d%5Cu0027Andohahela%20Fitted%20NDVI%22%20%3A%20tile_layer_aff9e644db094c2b9325b93a2f22baff%2C%0A%20%20%20%20%20%20%20%20%20%20%20%20%20%20%20%20%20%20%20%20%22Midongy%20Betofaka%20Fitted%20NDVI%22%20%3A%20tile_layer_72e53c5f41ca4900b8f2a12403c05d3c%2C%0A%20%20%20%20%20%20%20%20%20%20%20%20%20%20%20%20%20%20%20%20%22Tsimanampetsotsa%20Fitted%20NDVI%22%20%3A%20tile_layer_eb6913f3255f4112a735af5ac0d7e6f8%2C%0A%20%20%20%20%20%20%20%20%20%20%20%20%20%20%20%20%20%20%20%20%22d%5Cu0027Ankarafantsika%20Fitted%20NDVI%22%20%3A%20tile_layer_b23b2cbfc8fd44adbe4d83959e8b1270%2C%0A%20%20%20%20%20%20%20%20%20%20%20%20%20%20%20%20%20%20%20%20%22Masoala%20Fitted%20NDVI%22%20%3A%20tile_layer_2cc1dc14b550459aa2ec9e47b3f6ce75%2C%0A%20%20%20%20%20%20%20%20%20%20%20%20%20%20%20%20%20%20%20%20%22Alan%5Cu0027Ankirisa%20Fitted%20NDVI%22%20%3A%20tile_layer_087ddd50912c4aa2ada2f74701dbd8f1%2C%0A%20%20%20%20%20%20%20%20%20%20%20%20%20%20%20%20%7D%2C%0A%20%20%20%20%20%20%20%20%20%20%20%20%7D%3B%0A%20%20%20%20%20%20%20%20%20%20%20%20L.control.layers%28%0A%20%20%20%20%20%20%20%20%20%20%20%20%20%20%20%20layer_control_10ce0d50fb6e4cd9bc06e7a23a8ba451.base_layers%2C%0A%20%20%20%20%20%20%20%20%20%20%20%20%20%20%20%20layer_control_10ce0d50fb6e4cd9bc06e7a23a8ba451.overlays%2C%0A%20%20%20%20%20%20%20%20%20%20%20%20%20%20%20%20%7B%22autoZIndex%22%3A%20true%2C%20%22collapsed%22%3A%20true%2C%20%22position%22%3A%20%22topright%22%7D%0A%20%20%20%20%20%20%20%20%20%20%20%20%29.addTo%28map_8302ad8751cb46e6b1ec9c1271475305%29%3B%0A%20%20%20%20%20%20%20%20%0A%3C/script%3E onload=\"this.contentDocument.open();this.contentDocument.write(    decodeURIComponent(this.getAttribute('data-html')));this.contentDocument.close();\" allowfullscreen webkitallowfullscreen mozallowfullscreen></iframe></div></div>"
      ],
      "text/plain": [
       "<folium.folium.Map at 0x147d897f0>"
      ]
     },
     "metadata": {},
     "output_type": "display_data"
    },
    {
     "name": "stdout",
     "output_type": "stream",
     "text": [
      "\n",
      " \n",
      "\n",
      "2019-09-01 - 2019-10-01\n"
     ]
    },
    {
     "data": {
      "text/html": [
       "<div style=\"width:100%;\"><div style=\"position:relative;width:100%;height:0;padding-bottom:60%;\"><span style=\"color:#565656\">Make this Notebook Trusted to load map: File -> Trust Notebook</span><iframe src=\"about:blank\" style=\"position:absolute;width:100%;height:100%;left:0;top:0;border:none !important;\" data-html=%3C%21DOCTYPE%20html%3E%0A%3Chead%3E%20%20%20%20%0A%20%20%20%20%3Cmeta%20http-equiv%3D%22content-type%22%20content%3D%22text/html%3B%20charset%3DUTF-8%22%20/%3E%0A%20%20%20%20%0A%20%20%20%20%20%20%20%20%3Cscript%3E%0A%20%20%20%20%20%20%20%20%20%20%20%20L_NO_TOUCH%20%3D%20false%3B%0A%20%20%20%20%20%20%20%20%20%20%20%20L_DISABLE_3D%20%3D%20false%3B%0A%20%20%20%20%20%20%20%20%3C/script%3E%0A%20%20%20%20%0A%20%20%20%20%3Cstyle%3Ehtml%2C%20body%20%7Bwidth%3A%20100%25%3Bheight%3A%20100%25%3Bmargin%3A%200%3Bpadding%3A%200%3B%7D%3C/style%3E%0A%20%20%20%20%3Cstyle%3E%23map%20%7Bposition%3Aabsolute%3Btop%3A0%3Bbottom%3A0%3Bright%3A0%3Bleft%3A0%3B%7D%3C/style%3E%0A%20%20%20%20%3Cscript%20src%3D%22https%3A//cdn.jsdelivr.net/npm/leaflet%401.6.0/dist/leaflet.js%22%3E%3C/script%3E%0A%20%20%20%20%3Cscript%20src%3D%22https%3A//code.jquery.com/jquery-1.12.4.min.js%22%3E%3C/script%3E%0A%20%20%20%20%3Cscript%20src%3D%22https%3A//maxcdn.bootstrapcdn.com/bootstrap/3.2.0/js/bootstrap.min.js%22%3E%3C/script%3E%0A%20%20%20%20%3Cscript%20src%3D%22https%3A//cdnjs.cloudflare.com/ajax/libs/Leaflet.awesome-markers/2.0.2/leaflet.awesome-markers.js%22%3E%3C/script%3E%0A%20%20%20%20%3Clink%20rel%3D%22stylesheet%22%20href%3D%22https%3A//cdn.jsdelivr.net/npm/leaflet%401.6.0/dist/leaflet.css%22/%3E%0A%20%20%20%20%3Clink%20rel%3D%22stylesheet%22%20href%3D%22https%3A//maxcdn.bootstrapcdn.com/bootstrap/3.2.0/css/bootstrap.min.css%22/%3E%0A%20%20%20%20%3Clink%20rel%3D%22stylesheet%22%20href%3D%22https%3A//maxcdn.bootstrapcdn.com/bootstrap/3.2.0/css/bootstrap-theme.min.css%22/%3E%0A%20%20%20%20%3Clink%20rel%3D%22stylesheet%22%20href%3D%22https%3A//maxcdn.bootstrapcdn.com/font-awesome/4.6.3/css/font-awesome.min.css%22/%3E%0A%20%20%20%20%3Clink%20rel%3D%22stylesheet%22%20href%3D%22https%3A//cdnjs.cloudflare.com/ajax/libs/Leaflet.awesome-markers/2.0.2/leaflet.awesome-markers.css%22/%3E%0A%20%20%20%20%3Clink%20rel%3D%22stylesheet%22%20href%3D%22https%3A//cdn.jsdelivr.net/gh/python-visualization/folium/folium/templates/leaflet.awesome.rotate.min.css%22/%3E%0A%20%20%20%20%0A%20%20%20%20%20%20%20%20%20%20%20%20%3Cmeta%20name%3D%22viewport%22%20content%3D%22width%3Ddevice-width%2C%0A%20%20%20%20%20%20%20%20%20%20%20%20%20%20%20%20initial-scale%3D1.0%2C%20maximum-scale%3D1.0%2C%20user-scalable%3Dno%22%20/%3E%0A%20%20%20%20%20%20%20%20%20%20%20%20%3Cstyle%3E%0A%20%20%20%20%20%20%20%20%20%20%20%20%20%20%20%20%23map_ec0c91b2ddf244b1a529d3b031bd7837%20%7B%0A%20%20%20%20%20%20%20%20%20%20%20%20%20%20%20%20%20%20%20%20position%3A%20relative%3B%0A%20%20%20%20%20%20%20%20%20%20%20%20%20%20%20%20%20%20%20%20width%3A%20100.0%25%3B%0A%20%20%20%20%20%20%20%20%20%20%20%20%20%20%20%20%20%20%20%20height%3A%20100.0%25%3B%0A%20%20%20%20%20%20%20%20%20%20%20%20%20%20%20%20%20%20%20%20left%3A%200.0%25%3B%0A%20%20%20%20%20%20%20%20%20%20%20%20%20%20%20%20%20%20%20%20top%3A%200.0%25%3B%0A%20%20%20%20%20%20%20%20%20%20%20%20%20%20%20%20%7D%0A%20%20%20%20%20%20%20%20%20%20%20%20%3C/style%3E%0A%20%20%20%20%20%20%20%20%0A%3C/head%3E%0A%3Cbody%3E%20%20%20%20%0A%20%20%20%20%0A%20%20%20%20%20%20%20%20%20%20%20%20%3Cdiv%20class%3D%22folium-map%22%20id%3D%22map_ec0c91b2ddf244b1a529d3b031bd7837%22%20%3E%3C/div%3E%0A%20%20%20%20%20%20%20%20%0A%3C/body%3E%0A%3Cscript%3E%20%20%20%20%0A%20%20%20%20%0A%20%20%20%20%20%20%20%20%20%20%20%20var%20map_ec0c91b2ddf244b1a529d3b031bd7837%20%3D%20L.map%28%0A%20%20%20%20%20%20%20%20%20%20%20%20%20%20%20%20%22map_ec0c91b2ddf244b1a529d3b031bd7837%22%2C%0A%20%20%20%20%20%20%20%20%20%20%20%20%20%20%20%20%7B%0A%20%20%20%20%20%20%20%20%20%20%20%20%20%20%20%20%20%20%20%20center%3A%20%5B-18.203199246622674%2C%2046.779785%5D%2C%0A%20%20%20%20%20%20%20%20%20%20%20%20%20%20%20%20%20%20%20%20crs%3A%20L.CRS.EPSG3857%2C%0A%20%20%20%20%20%20%20%20%20%20%20%20%20%20%20%20%20%20%20%20zoom%3A%205.6%2C%0A%20%20%20%20%20%20%20%20%20%20%20%20%20%20%20%20%20%20%20%20zoomControl%3A%20true%2C%0A%20%20%20%20%20%20%20%20%20%20%20%20%20%20%20%20%20%20%20%20preferCanvas%3A%20false%2C%0A%20%20%20%20%20%20%20%20%20%20%20%20%20%20%20%20%7D%0A%20%20%20%20%20%20%20%20%20%20%20%20%29%3B%0A%0A%20%20%20%20%20%20%20%20%20%20%20%20%0A%0A%20%20%20%20%20%20%20%20%0A%20%20%20%20%0A%20%20%20%20%20%20%20%20%20%20%20%20var%20tile_layer_428ee57546d14e37ae7bb9b7c8951767%20%3D%20L.tileLayer%28%0A%20%20%20%20%20%20%20%20%20%20%20%20%20%20%20%20%22https%3A//%7Bs%7D.tile.openstreetmap.org/%7Bz%7D/%7Bx%7D/%7By%7D.png%22%2C%0A%20%20%20%20%20%20%20%20%20%20%20%20%20%20%20%20%7B%22attribution%22%3A%20%22Data%20by%20%5Cu0026copy%3B%20%5Cu003ca%20href%3D%5C%22http%3A//openstreetmap.org%5C%22%5Cu003eOpenStreetMap%5Cu003c/a%5Cu003e%2C%20under%20%5Cu003ca%20href%3D%5C%22http%3A//www.openstreetmap.org/copyright%5C%22%5Cu003eODbL%5Cu003c/a%5Cu003e.%22%2C%20%22detectRetina%22%3A%20false%2C%20%22maxNativeZoom%22%3A%2018%2C%20%22maxZoom%22%3A%2018%2C%20%22minZoom%22%3A%200%2C%20%22noWrap%22%3A%20false%2C%20%22opacity%22%3A%201%2C%20%22subdomains%22%3A%20%22abc%22%2C%20%22tms%22%3A%20false%7D%0A%20%20%20%20%20%20%20%20%20%20%20%20%29.addTo%28map_ec0c91b2ddf244b1a529d3b031bd7837%29%3B%0A%20%20%20%20%20%20%20%20%0A%20%20%20%20%0A%20%20%20%20%20%20%20%20%20%20%20%20var%20tile_layer_ba4d92ae905341b4a811317be81f43e8%20%3D%20L.tileLayer%28%0A%20%20%20%20%20%20%20%20%20%20%20%20%20%20%20%20%22https%3A//earthengine.googleapis.com/v1alpha/projects/earthengine-legacy/maps/e5eb1a2d7527209da83bcec56f665c6e-8a9b7009bf3f024ca3c8719fbe6662ca/tiles/%7Bz%7D/%7Bx%7D/%7By%7D%22%2C%0A%20%20%20%20%20%20%20%20%20%20%20%20%20%20%20%20%7B%22attribution%22%3A%20%22Map%20Data%20%5Cu0026copy%3B%20%5Cu003ca%20href%3D%5C%22https%3A//earthengine.google.com/%5C%22%5Cu003eGoogle%20Earth%20Engine%5Cu003c/a%5Cu003e%22%2C%20%22detectRetina%22%3A%20false%2C%20%22maxNativeZoom%22%3A%2018%2C%20%22maxZoom%22%3A%2018%2C%20%22minZoom%22%3A%200%2C%20%22noWrap%22%3A%20false%2C%20%22opacity%22%3A%201%2C%20%22subdomains%22%3A%20%22abc%22%2C%20%22tms%22%3A%20false%7D%0A%20%20%20%20%20%20%20%20%20%20%20%20%29.addTo%28map_ec0c91b2ddf244b1a529d3b031bd7837%29%3B%0A%20%20%20%20%20%20%20%20%0A%20%20%20%20%0A%20%20%20%20%20%20%20%20%20%20%20%20var%20tile_layer_ec9ed41c01c247f2b3d7d1ae1ba4f17b%20%3D%20L.tileLayer%28%0A%20%20%20%20%20%20%20%20%20%20%20%20%20%20%20%20%22https%3A//earthengine.googleapis.com/v1alpha/projects/earthengine-legacy/maps/aa2a0afe5d543b5798dda2c2feb3c3ab-15cdbde6721aeaf534465c008f6b009b/tiles/%7Bz%7D/%7Bx%7D/%7By%7D%22%2C%0A%20%20%20%20%20%20%20%20%20%20%20%20%20%20%20%20%7B%22attribution%22%3A%20%22Map%20Data%20%5Cu0026copy%3B%20%5Cu003ca%20href%3D%5C%22https%3A//earthengine.google.com/%5C%22%5Cu003eGoogle%20Earth%20Engine%5Cu003c/a%5Cu003e%22%2C%20%22detectRetina%22%3A%20false%2C%20%22maxNativeZoom%22%3A%2018%2C%20%22maxZoom%22%3A%2018%2C%20%22minZoom%22%3A%200%2C%20%22noWrap%22%3A%20false%2C%20%22opacity%22%3A%201%2C%20%22subdomains%22%3A%20%22abc%22%2C%20%22tms%22%3A%20false%7D%0A%20%20%20%20%20%20%20%20%20%20%20%20%29.addTo%28map_ec0c91b2ddf244b1a529d3b031bd7837%29%3B%0A%20%20%20%20%20%20%20%20%0A%20%20%20%20%0A%20%20%20%20%20%20%20%20%20%20%20%20var%20tile_layer_f0bee073a76d40dba06af19072e9bdfd%20%3D%20L.tileLayer%28%0A%20%20%20%20%20%20%20%20%20%20%20%20%20%20%20%20%22https%3A//earthengine.googleapis.com/v1alpha/projects/earthengine-legacy/maps/43451dbd9d4ee56d98a44f85d8c41938-d47bbaf212e1d3eab0ece61acfaf1e50/tiles/%7Bz%7D/%7Bx%7D/%7By%7D%22%2C%0A%20%20%20%20%20%20%20%20%20%20%20%20%20%20%20%20%7B%22attribution%22%3A%20%22Map%20Data%20%5Cu0026copy%3B%20%5Cu003ca%20href%3D%5C%22https%3A//earthengine.google.com/%5C%22%5Cu003eGoogle%20Earth%20Engine%5Cu003c/a%5Cu003e%22%2C%20%22detectRetina%22%3A%20false%2C%20%22maxNativeZoom%22%3A%2018%2C%20%22maxZoom%22%3A%2018%2C%20%22minZoom%22%3A%200%2C%20%22noWrap%22%3A%20false%2C%20%22opacity%22%3A%201%2C%20%22subdomains%22%3A%20%22abc%22%2C%20%22tms%22%3A%20false%7D%0A%20%20%20%20%20%20%20%20%20%20%20%20%29.addTo%28map_ec0c91b2ddf244b1a529d3b031bd7837%29%3B%0A%20%20%20%20%20%20%20%20%0A%20%20%20%20%0A%20%20%20%20%20%20%20%20%20%20%20%20var%20tile_layer_901b259200dd4b81bbcfb524306d62bd%20%3D%20L.tileLayer%28%0A%20%20%20%20%20%20%20%20%20%20%20%20%20%20%20%20%22https%3A//earthengine.googleapis.com/v1alpha/projects/earthengine-legacy/maps/b3c46d5253696a9115b1cbdbdb9622ad-914cf79cd45d012bc42758be8a34236e/tiles/%7Bz%7D/%7Bx%7D/%7By%7D%22%2C%0A%20%20%20%20%20%20%20%20%20%20%20%20%20%20%20%20%7B%22attribution%22%3A%20%22Map%20Data%20%5Cu0026copy%3B%20%5Cu003ca%20href%3D%5C%22https%3A//earthengine.google.com/%5C%22%5Cu003eGoogle%20Earth%20Engine%5Cu003c/a%5Cu003e%22%2C%20%22detectRetina%22%3A%20false%2C%20%22maxNativeZoom%22%3A%2018%2C%20%22maxZoom%22%3A%2018%2C%20%22minZoom%22%3A%200%2C%20%22noWrap%22%3A%20false%2C%20%22opacity%22%3A%201%2C%20%22subdomains%22%3A%20%22abc%22%2C%20%22tms%22%3A%20false%7D%0A%20%20%20%20%20%20%20%20%20%20%20%20%29.addTo%28map_ec0c91b2ddf244b1a529d3b031bd7837%29%3B%0A%20%20%20%20%20%20%20%20%0A%20%20%20%20%0A%20%20%20%20%20%20%20%20%20%20%20%20var%20tile_layer_70c951d174ef42f4b64d11bde460a80d%20%3D%20L.tileLayer%28%0A%20%20%20%20%20%20%20%20%20%20%20%20%20%20%20%20%22https%3A//earthengine.googleapis.com/v1alpha/projects/earthengine-legacy/maps/4b53e8383b811947c2245dead6cbc32f-002ce4d8e1204cc31ec91757554b2426/tiles/%7Bz%7D/%7Bx%7D/%7By%7D%22%2C%0A%20%20%20%20%20%20%20%20%20%20%20%20%20%20%20%20%7B%22attribution%22%3A%20%22Map%20Data%20%5Cu0026copy%3B%20%5Cu003ca%20href%3D%5C%22https%3A//earthengine.google.com/%5C%22%5Cu003eGoogle%20Earth%20Engine%5Cu003c/a%5Cu003e%22%2C%20%22detectRetina%22%3A%20false%2C%20%22maxNativeZoom%22%3A%2018%2C%20%22maxZoom%22%3A%2018%2C%20%22minZoom%22%3A%200%2C%20%22noWrap%22%3A%20false%2C%20%22opacity%22%3A%201%2C%20%22subdomains%22%3A%20%22abc%22%2C%20%22tms%22%3A%20false%7D%0A%20%20%20%20%20%20%20%20%20%20%20%20%29.addTo%28map_ec0c91b2ddf244b1a529d3b031bd7837%29%3B%0A%20%20%20%20%20%20%20%20%0A%20%20%20%20%0A%20%20%20%20%20%20%20%20%20%20%20%20var%20tile_layer_3087df2370cf449c8d5b4e53423dc557%20%3D%20L.tileLayer%28%0A%20%20%20%20%20%20%20%20%20%20%20%20%20%20%20%20%22https%3A//earthengine.googleapis.com/v1alpha/projects/earthengine-legacy/maps/7b20f126cdac403738fcc57d7fed712d-592eb7dc92d66291aba19f56216b736e/tiles/%7Bz%7D/%7Bx%7D/%7By%7D%22%2C%0A%20%20%20%20%20%20%20%20%20%20%20%20%20%20%20%20%7B%22attribution%22%3A%20%22Map%20Data%20%5Cu0026copy%3B%20%5Cu003ca%20href%3D%5C%22https%3A//earthengine.google.com/%5C%22%5Cu003eGoogle%20Earth%20Engine%5Cu003c/a%5Cu003e%22%2C%20%22detectRetina%22%3A%20false%2C%20%22maxNativeZoom%22%3A%2018%2C%20%22maxZoom%22%3A%2018%2C%20%22minZoom%22%3A%200%2C%20%22noWrap%22%3A%20false%2C%20%22opacity%22%3A%201%2C%20%22subdomains%22%3A%20%22abc%22%2C%20%22tms%22%3A%20false%7D%0A%20%20%20%20%20%20%20%20%20%20%20%20%29.addTo%28map_ec0c91b2ddf244b1a529d3b031bd7837%29%3B%0A%20%20%20%20%20%20%20%20%0A%20%20%20%20%0A%20%20%20%20%20%20%20%20%20%20%20%20var%20layer_control_9319d7f9e3c24e8e8b2d6ae691581f8d%20%3D%20%7B%0A%20%20%20%20%20%20%20%20%20%20%20%20%20%20%20%20base_layers%20%3A%20%7B%0A%20%20%20%20%20%20%20%20%20%20%20%20%20%20%20%20%20%20%20%20%22openstreetmap%22%20%3A%20tile_layer_428ee57546d14e37ae7bb9b7c8951767%2C%0A%20%20%20%20%20%20%20%20%20%20%20%20%20%20%20%20%7D%2C%0A%20%20%20%20%20%20%20%20%20%20%20%20%20%20%20%20overlays%20%3A%20%20%7B%0A%20%20%20%20%20%20%20%20%20%20%20%20%20%20%20%20%20%20%20%20%22d%5Cu0027Andohahela%20Fitted%20NDVI%22%20%3A%20tile_layer_ba4d92ae905341b4a811317be81f43e8%2C%0A%20%20%20%20%20%20%20%20%20%20%20%20%20%20%20%20%20%20%20%20%22Midongy%20Betofaka%20Fitted%20NDVI%22%20%3A%20tile_layer_ec9ed41c01c247f2b3d7d1ae1ba4f17b%2C%0A%20%20%20%20%20%20%20%20%20%20%20%20%20%20%20%20%20%20%20%20%22Tsimanampetsotsa%20Fitted%20NDVI%22%20%3A%20tile_layer_f0bee073a76d40dba06af19072e9bdfd%2C%0A%20%20%20%20%20%20%20%20%20%20%20%20%20%20%20%20%20%20%20%20%22d%5Cu0027Ankarafantsika%20Fitted%20NDVI%22%20%3A%20tile_layer_901b259200dd4b81bbcfb524306d62bd%2C%0A%20%20%20%20%20%20%20%20%20%20%20%20%20%20%20%20%20%20%20%20%22Masoala%20Fitted%20NDVI%22%20%3A%20tile_layer_70c951d174ef42f4b64d11bde460a80d%2C%0A%20%20%20%20%20%20%20%20%20%20%20%20%20%20%20%20%20%20%20%20%22Alan%5Cu0027Ankirisa%20Fitted%20NDVI%22%20%3A%20tile_layer_3087df2370cf449c8d5b4e53423dc557%2C%0A%20%20%20%20%20%20%20%20%20%20%20%20%20%20%20%20%7D%2C%0A%20%20%20%20%20%20%20%20%20%20%20%20%7D%3B%0A%20%20%20%20%20%20%20%20%20%20%20%20L.control.layers%28%0A%20%20%20%20%20%20%20%20%20%20%20%20%20%20%20%20layer_control_9319d7f9e3c24e8e8b2d6ae691581f8d.base_layers%2C%0A%20%20%20%20%20%20%20%20%20%20%20%20%20%20%20%20layer_control_9319d7f9e3c24e8e8b2d6ae691581f8d.overlays%2C%0A%20%20%20%20%20%20%20%20%20%20%20%20%20%20%20%20%7B%22autoZIndex%22%3A%20true%2C%20%22collapsed%22%3A%20true%2C%20%22position%22%3A%20%22topright%22%7D%0A%20%20%20%20%20%20%20%20%20%20%20%20%29.addTo%28map_ec0c91b2ddf244b1a529d3b031bd7837%29%3B%0A%20%20%20%20%20%20%20%20%0A%3C/script%3E onload=\"this.contentDocument.open();this.contentDocument.write(    decodeURIComponent(this.getAttribute('data-html')));this.contentDocument.close();\" allowfullscreen webkitallowfullscreen mozallowfullscreen></iframe></div></div>"
      ],
      "text/plain": [
       "<folium.folium.Map at 0x147e00dc0>"
      ]
     },
     "metadata": {},
     "output_type": "display_data"
    },
    {
     "name": "stdout",
     "output_type": "stream",
     "text": [
      "\n",
      " \n",
      "\n",
      "2019-10-01 - 2019-11-01\n"
     ]
    },
    {
     "data": {
      "text/html": [
       "<div style=\"width:100%;\"><div style=\"position:relative;width:100%;height:0;padding-bottom:60%;\"><span style=\"color:#565656\">Make this Notebook Trusted to load map: File -> Trust Notebook</span><iframe src=\"about:blank\" style=\"position:absolute;width:100%;height:100%;left:0;top:0;border:none !important;\" data-html=%3C%21DOCTYPE%20html%3E%0A%3Chead%3E%20%20%20%20%0A%20%20%20%20%3Cmeta%20http-equiv%3D%22content-type%22%20content%3D%22text/html%3B%20charset%3DUTF-8%22%20/%3E%0A%20%20%20%20%0A%20%20%20%20%20%20%20%20%3Cscript%3E%0A%20%20%20%20%20%20%20%20%20%20%20%20L_NO_TOUCH%20%3D%20false%3B%0A%20%20%20%20%20%20%20%20%20%20%20%20L_DISABLE_3D%20%3D%20false%3B%0A%20%20%20%20%20%20%20%20%3C/script%3E%0A%20%20%20%20%0A%20%20%20%20%3Cstyle%3Ehtml%2C%20body%20%7Bwidth%3A%20100%25%3Bheight%3A%20100%25%3Bmargin%3A%200%3Bpadding%3A%200%3B%7D%3C/style%3E%0A%20%20%20%20%3Cstyle%3E%23map%20%7Bposition%3Aabsolute%3Btop%3A0%3Bbottom%3A0%3Bright%3A0%3Bleft%3A0%3B%7D%3C/style%3E%0A%20%20%20%20%3Cscript%20src%3D%22https%3A//cdn.jsdelivr.net/npm/leaflet%401.6.0/dist/leaflet.js%22%3E%3C/script%3E%0A%20%20%20%20%3Cscript%20src%3D%22https%3A//code.jquery.com/jquery-1.12.4.min.js%22%3E%3C/script%3E%0A%20%20%20%20%3Cscript%20src%3D%22https%3A//maxcdn.bootstrapcdn.com/bootstrap/3.2.0/js/bootstrap.min.js%22%3E%3C/script%3E%0A%20%20%20%20%3Cscript%20src%3D%22https%3A//cdnjs.cloudflare.com/ajax/libs/Leaflet.awesome-markers/2.0.2/leaflet.awesome-markers.js%22%3E%3C/script%3E%0A%20%20%20%20%3Clink%20rel%3D%22stylesheet%22%20href%3D%22https%3A//cdn.jsdelivr.net/npm/leaflet%401.6.0/dist/leaflet.css%22/%3E%0A%20%20%20%20%3Clink%20rel%3D%22stylesheet%22%20href%3D%22https%3A//maxcdn.bootstrapcdn.com/bootstrap/3.2.0/css/bootstrap.min.css%22/%3E%0A%20%20%20%20%3Clink%20rel%3D%22stylesheet%22%20href%3D%22https%3A//maxcdn.bootstrapcdn.com/bootstrap/3.2.0/css/bootstrap-theme.min.css%22/%3E%0A%20%20%20%20%3Clink%20rel%3D%22stylesheet%22%20href%3D%22https%3A//maxcdn.bootstrapcdn.com/font-awesome/4.6.3/css/font-awesome.min.css%22/%3E%0A%20%20%20%20%3Clink%20rel%3D%22stylesheet%22%20href%3D%22https%3A//cdnjs.cloudflare.com/ajax/libs/Leaflet.awesome-markers/2.0.2/leaflet.awesome-markers.css%22/%3E%0A%20%20%20%20%3Clink%20rel%3D%22stylesheet%22%20href%3D%22https%3A//cdn.jsdelivr.net/gh/python-visualization/folium/folium/templates/leaflet.awesome.rotate.min.css%22/%3E%0A%20%20%20%20%0A%20%20%20%20%20%20%20%20%20%20%20%20%3Cmeta%20name%3D%22viewport%22%20content%3D%22width%3Ddevice-width%2C%0A%20%20%20%20%20%20%20%20%20%20%20%20%20%20%20%20initial-scale%3D1.0%2C%20maximum-scale%3D1.0%2C%20user-scalable%3Dno%22%20/%3E%0A%20%20%20%20%20%20%20%20%20%20%20%20%3Cstyle%3E%0A%20%20%20%20%20%20%20%20%20%20%20%20%20%20%20%20%23map_76610b68ca38410987d7beaff02e95f8%20%7B%0A%20%20%20%20%20%20%20%20%20%20%20%20%20%20%20%20%20%20%20%20position%3A%20relative%3B%0A%20%20%20%20%20%20%20%20%20%20%20%20%20%20%20%20%20%20%20%20width%3A%20100.0%25%3B%0A%20%20%20%20%20%20%20%20%20%20%20%20%20%20%20%20%20%20%20%20height%3A%20100.0%25%3B%0A%20%20%20%20%20%20%20%20%20%20%20%20%20%20%20%20%20%20%20%20left%3A%200.0%25%3B%0A%20%20%20%20%20%20%20%20%20%20%20%20%20%20%20%20%20%20%20%20top%3A%200.0%25%3B%0A%20%20%20%20%20%20%20%20%20%20%20%20%20%20%20%20%7D%0A%20%20%20%20%20%20%20%20%20%20%20%20%3C/style%3E%0A%20%20%20%20%20%20%20%20%0A%3C/head%3E%0A%3Cbody%3E%20%20%20%20%0A%20%20%20%20%0A%20%20%20%20%20%20%20%20%20%20%20%20%3Cdiv%20class%3D%22folium-map%22%20id%3D%22map_76610b68ca38410987d7beaff02e95f8%22%20%3E%3C/div%3E%0A%20%20%20%20%20%20%20%20%0A%3C/body%3E%0A%3Cscript%3E%20%20%20%20%0A%20%20%20%20%0A%20%20%20%20%20%20%20%20%20%20%20%20var%20map_76610b68ca38410987d7beaff02e95f8%20%3D%20L.map%28%0A%20%20%20%20%20%20%20%20%20%20%20%20%20%20%20%20%22map_76610b68ca38410987d7beaff02e95f8%22%2C%0A%20%20%20%20%20%20%20%20%20%20%20%20%20%20%20%20%7B%0A%20%20%20%20%20%20%20%20%20%20%20%20%20%20%20%20%20%20%20%20center%3A%20%5B-18.203199246622674%2C%2046.779785%5D%2C%0A%20%20%20%20%20%20%20%20%20%20%20%20%20%20%20%20%20%20%20%20crs%3A%20L.CRS.EPSG3857%2C%0A%20%20%20%20%20%20%20%20%20%20%20%20%20%20%20%20%20%20%20%20zoom%3A%205.6%2C%0A%20%20%20%20%20%20%20%20%20%20%20%20%20%20%20%20%20%20%20%20zoomControl%3A%20true%2C%0A%20%20%20%20%20%20%20%20%20%20%20%20%20%20%20%20%20%20%20%20preferCanvas%3A%20false%2C%0A%20%20%20%20%20%20%20%20%20%20%20%20%20%20%20%20%7D%0A%20%20%20%20%20%20%20%20%20%20%20%20%29%3B%0A%0A%20%20%20%20%20%20%20%20%20%20%20%20%0A%0A%20%20%20%20%20%20%20%20%0A%20%20%20%20%0A%20%20%20%20%20%20%20%20%20%20%20%20var%20tile_layer_ca3767290d9a40689078e8fadf72a4d2%20%3D%20L.tileLayer%28%0A%20%20%20%20%20%20%20%20%20%20%20%20%20%20%20%20%22https%3A//%7Bs%7D.tile.openstreetmap.org/%7Bz%7D/%7Bx%7D/%7By%7D.png%22%2C%0A%20%20%20%20%20%20%20%20%20%20%20%20%20%20%20%20%7B%22attribution%22%3A%20%22Data%20by%20%5Cu0026copy%3B%20%5Cu003ca%20href%3D%5C%22http%3A//openstreetmap.org%5C%22%5Cu003eOpenStreetMap%5Cu003c/a%5Cu003e%2C%20under%20%5Cu003ca%20href%3D%5C%22http%3A//www.openstreetmap.org/copyright%5C%22%5Cu003eODbL%5Cu003c/a%5Cu003e.%22%2C%20%22detectRetina%22%3A%20false%2C%20%22maxNativeZoom%22%3A%2018%2C%20%22maxZoom%22%3A%2018%2C%20%22minZoom%22%3A%200%2C%20%22noWrap%22%3A%20false%2C%20%22opacity%22%3A%201%2C%20%22subdomains%22%3A%20%22abc%22%2C%20%22tms%22%3A%20false%7D%0A%20%20%20%20%20%20%20%20%20%20%20%20%29.addTo%28map_76610b68ca38410987d7beaff02e95f8%29%3B%0A%20%20%20%20%20%20%20%20%0A%20%20%20%20%0A%20%20%20%20%20%20%20%20%20%20%20%20var%20tile_layer_ef1c141f597f41d88b27007acbf1811a%20%3D%20L.tileLayer%28%0A%20%20%20%20%20%20%20%20%20%20%20%20%20%20%20%20%22https%3A//earthengine.googleapis.com/v1alpha/projects/earthengine-legacy/maps/25dc8f601b2e64dfdf7b3aca485005d5-0e3c2302d5db5ac6eace4e3143af61fc/tiles/%7Bz%7D/%7Bx%7D/%7By%7D%22%2C%0A%20%20%20%20%20%20%20%20%20%20%20%20%20%20%20%20%7B%22attribution%22%3A%20%22Map%20Data%20%5Cu0026copy%3B%20%5Cu003ca%20href%3D%5C%22https%3A//earthengine.google.com/%5C%22%5Cu003eGoogle%20Earth%20Engine%5Cu003c/a%5Cu003e%22%2C%20%22detectRetina%22%3A%20false%2C%20%22maxNativeZoom%22%3A%2018%2C%20%22maxZoom%22%3A%2018%2C%20%22minZoom%22%3A%200%2C%20%22noWrap%22%3A%20false%2C%20%22opacity%22%3A%201%2C%20%22subdomains%22%3A%20%22abc%22%2C%20%22tms%22%3A%20false%7D%0A%20%20%20%20%20%20%20%20%20%20%20%20%29.addTo%28map_76610b68ca38410987d7beaff02e95f8%29%3B%0A%20%20%20%20%20%20%20%20%0A%20%20%20%20%0A%20%20%20%20%20%20%20%20%20%20%20%20var%20tile_layer_d94a87e5631948178c0545e6882a0ba4%20%3D%20L.tileLayer%28%0A%20%20%20%20%20%20%20%20%20%20%20%20%20%20%20%20%22https%3A//earthengine.googleapis.com/v1alpha/projects/earthengine-legacy/maps/bba203011c07249c46543e766ef17850-dcd82304990c79215137ae74d71df86f/tiles/%7Bz%7D/%7Bx%7D/%7By%7D%22%2C%0A%20%20%20%20%20%20%20%20%20%20%20%20%20%20%20%20%7B%22attribution%22%3A%20%22Map%20Data%20%5Cu0026copy%3B%20%5Cu003ca%20href%3D%5C%22https%3A//earthengine.google.com/%5C%22%5Cu003eGoogle%20Earth%20Engine%5Cu003c/a%5Cu003e%22%2C%20%22detectRetina%22%3A%20false%2C%20%22maxNativeZoom%22%3A%2018%2C%20%22maxZoom%22%3A%2018%2C%20%22minZoom%22%3A%200%2C%20%22noWrap%22%3A%20false%2C%20%22opacity%22%3A%201%2C%20%22subdomains%22%3A%20%22abc%22%2C%20%22tms%22%3A%20false%7D%0A%20%20%20%20%20%20%20%20%20%20%20%20%29.addTo%28map_76610b68ca38410987d7beaff02e95f8%29%3B%0A%20%20%20%20%20%20%20%20%0A%20%20%20%20%0A%20%20%20%20%20%20%20%20%20%20%20%20var%20tile_layer_ce06551d446945979e104607c6a7b012%20%3D%20L.tileLayer%28%0A%20%20%20%20%20%20%20%20%20%20%20%20%20%20%20%20%22https%3A//earthengine.googleapis.com/v1alpha/projects/earthengine-legacy/maps/ad2fadfcbff9b0db98631dbe54f3990c-bec9332e81ae5b3772dab9c2f41fbfa9/tiles/%7Bz%7D/%7Bx%7D/%7By%7D%22%2C%0A%20%20%20%20%20%20%20%20%20%20%20%20%20%20%20%20%7B%22attribution%22%3A%20%22Map%20Data%20%5Cu0026copy%3B%20%5Cu003ca%20href%3D%5C%22https%3A//earthengine.google.com/%5C%22%5Cu003eGoogle%20Earth%20Engine%5Cu003c/a%5Cu003e%22%2C%20%22detectRetina%22%3A%20false%2C%20%22maxNativeZoom%22%3A%2018%2C%20%22maxZoom%22%3A%2018%2C%20%22minZoom%22%3A%200%2C%20%22noWrap%22%3A%20false%2C%20%22opacity%22%3A%201%2C%20%22subdomains%22%3A%20%22abc%22%2C%20%22tms%22%3A%20false%7D%0A%20%20%20%20%20%20%20%20%20%20%20%20%29.addTo%28map_76610b68ca38410987d7beaff02e95f8%29%3B%0A%20%20%20%20%20%20%20%20%0A%20%20%20%20%0A%20%20%20%20%20%20%20%20%20%20%20%20var%20tile_layer_9f4d0a2d826045638c59ba6bff686deb%20%3D%20L.tileLayer%28%0A%20%20%20%20%20%20%20%20%20%20%20%20%20%20%20%20%22https%3A//earthengine.googleapis.com/v1alpha/projects/earthengine-legacy/maps/d1eb81e0a689bf11ae7fb7ec8737c3d9-22d15f2d60424eaf4195d71e41af8cb7/tiles/%7Bz%7D/%7Bx%7D/%7By%7D%22%2C%0A%20%20%20%20%20%20%20%20%20%20%20%20%20%20%20%20%7B%22attribution%22%3A%20%22Map%20Data%20%5Cu0026copy%3B%20%5Cu003ca%20href%3D%5C%22https%3A//earthengine.google.com/%5C%22%5Cu003eGoogle%20Earth%20Engine%5Cu003c/a%5Cu003e%22%2C%20%22detectRetina%22%3A%20false%2C%20%22maxNativeZoom%22%3A%2018%2C%20%22maxZoom%22%3A%2018%2C%20%22minZoom%22%3A%200%2C%20%22noWrap%22%3A%20false%2C%20%22opacity%22%3A%201%2C%20%22subdomains%22%3A%20%22abc%22%2C%20%22tms%22%3A%20false%7D%0A%20%20%20%20%20%20%20%20%20%20%20%20%29.addTo%28map_76610b68ca38410987d7beaff02e95f8%29%3B%0A%20%20%20%20%20%20%20%20%0A%20%20%20%20%0A%20%20%20%20%20%20%20%20%20%20%20%20var%20tile_layer_f770acf3b91942d2865fc1fd763a9aaa%20%3D%20L.tileLayer%28%0A%20%20%20%20%20%20%20%20%20%20%20%20%20%20%20%20%22https%3A//earthengine.googleapis.com/v1alpha/projects/earthengine-legacy/maps/f426a134da55e71b1603aba5c6597129-8119d782bfaaf1c02498c828f175ffdd/tiles/%7Bz%7D/%7Bx%7D/%7By%7D%22%2C%0A%20%20%20%20%20%20%20%20%20%20%20%20%20%20%20%20%7B%22attribution%22%3A%20%22Map%20Data%20%5Cu0026copy%3B%20%5Cu003ca%20href%3D%5C%22https%3A//earthengine.google.com/%5C%22%5Cu003eGoogle%20Earth%20Engine%5Cu003c/a%5Cu003e%22%2C%20%22detectRetina%22%3A%20false%2C%20%22maxNativeZoom%22%3A%2018%2C%20%22maxZoom%22%3A%2018%2C%20%22minZoom%22%3A%200%2C%20%22noWrap%22%3A%20false%2C%20%22opacity%22%3A%201%2C%20%22subdomains%22%3A%20%22abc%22%2C%20%22tms%22%3A%20false%7D%0A%20%20%20%20%20%20%20%20%20%20%20%20%29.addTo%28map_76610b68ca38410987d7beaff02e95f8%29%3B%0A%20%20%20%20%20%20%20%20%0A%20%20%20%20%0A%20%20%20%20%20%20%20%20%20%20%20%20var%20tile_layer_16628de8781e479ba12f8953dd75239a%20%3D%20L.tileLayer%28%0A%20%20%20%20%20%20%20%20%20%20%20%20%20%20%20%20%22https%3A//earthengine.googleapis.com/v1alpha/projects/earthengine-legacy/maps/36ab70a644aea40fc3070b6d43ad973c-9c276e10a51d7c15b0a7fa28b9a94f3b/tiles/%7Bz%7D/%7Bx%7D/%7By%7D%22%2C%0A%20%20%20%20%20%20%20%20%20%20%20%20%20%20%20%20%7B%22attribution%22%3A%20%22Map%20Data%20%5Cu0026copy%3B%20%5Cu003ca%20href%3D%5C%22https%3A//earthengine.google.com/%5C%22%5Cu003eGoogle%20Earth%20Engine%5Cu003c/a%5Cu003e%22%2C%20%22detectRetina%22%3A%20false%2C%20%22maxNativeZoom%22%3A%2018%2C%20%22maxZoom%22%3A%2018%2C%20%22minZoom%22%3A%200%2C%20%22noWrap%22%3A%20false%2C%20%22opacity%22%3A%201%2C%20%22subdomains%22%3A%20%22abc%22%2C%20%22tms%22%3A%20false%7D%0A%20%20%20%20%20%20%20%20%20%20%20%20%29.addTo%28map_76610b68ca38410987d7beaff02e95f8%29%3B%0A%20%20%20%20%20%20%20%20%0A%20%20%20%20%0A%20%20%20%20%20%20%20%20%20%20%20%20var%20layer_control_54bc166f184948feaa4c932dc1bec75a%20%3D%20%7B%0A%20%20%20%20%20%20%20%20%20%20%20%20%20%20%20%20base_layers%20%3A%20%7B%0A%20%20%20%20%20%20%20%20%20%20%20%20%20%20%20%20%20%20%20%20%22openstreetmap%22%20%3A%20tile_layer_ca3767290d9a40689078e8fadf72a4d2%2C%0A%20%20%20%20%20%20%20%20%20%20%20%20%20%20%20%20%7D%2C%0A%20%20%20%20%20%20%20%20%20%20%20%20%20%20%20%20overlays%20%3A%20%20%7B%0A%20%20%20%20%20%20%20%20%20%20%20%20%20%20%20%20%20%20%20%20%22d%5Cu0027Andohahela%20Fitted%20NDVI%22%20%3A%20tile_layer_ef1c141f597f41d88b27007acbf1811a%2C%0A%20%20%20%20%20%20%20%20%20%20%20%20%20%20%20%20%20%20%20%20%22Midongy%20Betofaka%20Fitted%20NDVI%22%20%3A%20tile_layer_d94a87e5631948178c0545e6882a0ba4%2C%0A%20%20%20%20%20%20%20%20%20%20%20%20%20%20%20%20%20%20%20%20%22Tsimanampetsotsa%20Fitted%20NDVI%22%20%3A%20tile_layer_ce06551d446945979e104607c6a7b012%2C%0A%20%20%20%20%20%20%20%20%20%20%20%20%20%20%20%20%20%20%20%20%22d%5Cu0027Ankarafantsika%20Fitted%20NDVI%22%20%3A%20tile_layer_9f4d0a2d826045638c59ba6bff686deb%2C%0A%20%20%20%20%20%20%20%20%20%20%20%20%20%20%20%20%20%20%20%20%22Masoala%20Fitted%20NDVI%22%20%3A%20tile_layer_f770acf3b91942d2865fc1fd763a9aaa%2C%0A%20%20%20%20%20%20%20%20%20%20%20%20%20%20%20%20%20%20%20%20%22Alan%5Cu0027Ankirisa%20Fitted%20NDVI%22%20%3A%20tile_layer_16628de8781e479ba12f8953dd75239a%2C%0A%20%20%20%20%20%20%20%20%20%20%20%20%20%20%20%20%7D%2C%0A%20%20%20%20%20%20%20%20%20%20%20%20%7D%3B%0A%20%20%20%20%20%20%20%20%20%20%20%20L.control.layers%28%0A%20%20%20%20%20%20%20%20%20%20%20%20%20%20%20%20layer_control_54bc166f184948feaa4c932dc1bec75a.base_layers%2C%0A%20%20%20%20%20%20%20%20%20%20%20%20%20%20%20%20layer_control_54bc166f184948feaa4c932dc1bec75a.overlays%2C%0A%20%20%20%20%20%20%20%20%20%20%20%20%20%20%20%20%7B%22autoZIndex%22%3A%20true%2C%20%22collapsed%22%3A%20true%2C%20%22position%22%3A%20%22topright%22%7D%0A%20%20%20%20%20%20%20%20%20%20%20%20%29.addTo%28map_76610b68ca38410987d7beaff02e95f8%29%3B%0A%20%20%20%20%20%20%20%20%0A%3C/script%3E onload=\"this.contentDocument.open();this.contentDocument.write(    decodeURIComponent(this.getAttribute('data-html')));this.contentDocument.close();\" allowfullscreen webkitallowfullscreen mozallowfullscreen></iframe></div></div>"
      ],
      "text/plain": [
       "<folium.folium.Map at 0x147df7340>"
      ]
     },
     "metadata": {},
     "output_type": "display_data"
    },
    {
     "name": "stdout",
     "output_type": "stream",
     "text": [
      "\n",
      " \n",
      "\n",
      "2019-11-01 - 2019-12-01\n"
     ]
    },
    {
     "data": {
      "text/html": [
       "<div style=\"width:100%;\"><div style=\"position:relative;width:100%;height:0;padding-bottom:60%;\"><span style=\"color:#565656\">Make this Notebook Trusted to load map: File -> Trust Notebook</span><iframe src=\"about:blank\" style=\"position:absolute;width:100%;height:100%;left:0;top:0;border:none !important;\" data-html=%3C%21DOCTYPE%20html%3E%0A%3Chead%3E%20%20%20%20%0A%20%20%20%20%3Cmeta%20http-equiv%3D%22content-type%22%20content%3D%22text/html%3B%20charset%3DUTF-8%22%20/%3E%0A%20%20%20%20%0A%20%20%20%20%20%20%20%20%3Cscript%3E%0A%20%20%20%20%20%20%20%20%20%20%20%20L_NO_TOUCH%20%3D%20false%3B%0A%20%20%20%20%20%20%20%20%20%20%20%20L_DISABLE_3D%20%3D%20false%3B%0A%20%20%20%20%20%20%20%20%3C/script%3E%0A%20%20%20%20%0A%20%20%20%20%3Cstyle%3Ehtml%2C%20body%20%7Bwidth%3A%20100%25%3Bheight%3A%20100%25%3Bmargin%3A%200%3Bpadding%3A%200%3B%7D%3C/style%3E%0A%20%20%20%20%3Cstyle%3E%23map%20%7Bposition%3Aabsolute%3Btop%3A0%3Bbottom%3A0%3Bright%3A0%3Bleft%3A0%3B%7D%3C/style%3E%0A%20%20%20%20%3Cscript%20src%3D%22https%3A//cdn.jsdelivr.net/npm/leaflet%401.6.0/dist/leaflet.js%22%3E%3C/script%3E%0A%20%20%20%20%3Cscript%20src%3D%22https%3A//code.jquery.com/jquery-1.12.4.min.js%22%3E%3C/script%3E%0A%20%20%20%20%3Cscript%20src%3D%22https%3A//maxcdn.bootstrapcdn.com/bootstrap/3.2.0/js/bootstrap.min.js%22%3E%3C/script%3E%0A%20%20%20%20%3Cscript%20src%3D%22https%3A//cdnjs.cloudflare.com/ajax/libs/Leaflet.awesome-markers/2.0.2/leaflet.awesome-markers.js%22%3E%3C/script%3E%0A%20%20%20%20%3Clink%20rel%3D%22stylesheet%22%20href%3D%22https%3A//cdn.jsdelivr.net/npm/leaflet%401.6.0/dist/leaflet.css%22/%3E%0A%20%20%20%20%3Clink%20rel%3D%22stylesheet%22%20href%3D%22https%3A//maxcdn.bootstrapcdn.com/bootstrap/3.2.0/css/bootstrap.min.css%22/%3E%0A%20%20%20%20%3Clink%20rel%3D%22stylesheet%22%20href%3D%22https%3A//maxcdn.bootstrapcdn.com/bootstrap/3.2.0/css/bootstrap-theme.min.css%22/%3E%0A%20%20%20%20%3Clink%20rel%3D%22stylesheet%22%20href%3D%22https%3A//maxcdn.bootstrapcdn.com/font-awesome/4.6.3/css/font-awesome.min.css%22/%3E%0A%20%20%20%20%3Clink%20rel%3D%22stylesheet%22%20href%3D%22https%3A//cdnjs.cloudflare.com/ajax/libs/Leaflet.awesome-markers/2.0.2/leaflet.awesome-markers.css%22/%3E%0A%20%20%20%20%3Clink%20rel%3D%22stylesheet%22%20href%3D%22https%3A//cdn.jsdelivr.net/gh/python-visualization/folium/folium/templates/leaflet.awesome.rotate.min.css%22/%3E%0A%20%20%20%20%0A%20%20%20%20%20%20%20%20%20%20%20%20%3Cmeta%20name%3D%22viewport%22%20content%3D%22width%3Ddevice-width%2C%0A%20%20%20%20%20%20%20%20%20%20%20%20%20%20%20%20initial-scale%3D1.0%2C%20maximum-scale%3D1.0%2C%20user-scalable%3Dno%22%20/%3E%0A%20%20%20%20%20%20%20%20%20%20%20%20%3Cstyle%3E%0A%20%20%20%20%20%20%20%20%20%20%20%20%20%20%20%20%23map_85196a98130f42d3b04d84f3d349258e%20%7B%0A%20%20%20%20%20%20%20%20%20%20%20%20%20%20%20%20%20%20%20%20position%3A%20relative%3B%0A%20%20%20%20%20%20%20%20%20%20%20%20%20%20%20%20%20%20%20%20width%3A%20100.0%25%3B%0A%20%20%20%20%20%20%20%20%20%20%20%20%20%20%20%20%20%20%20%20height%3A%20100.0%25%3B%0A%20%20%20%20%20%20%20%20%20%20%20%20%20%20%20%20%20%20%20%20left%3A%200.0%25%3B%0A%20%20%20%20%20%20%20%20%20%20%20%20%20%20%20%20%20%20%20%20top%3A%200.0%25%3B%0A%20%20%20%20%20%20%20%20%20%20%20%20%20%20%20%20%7D%0A%20%20%20%20%20%20%20%20%20%20%20%20%3C/style%3E%0A%20%20%20%20%20%20%20%20%0A%3C/head%3E%0A%3Cbody%3E%20%20%20%20%0A%20%20%20%20%0A%20%20%20%20%20%20%20%20%20%20%20%20%3Cdiv%20class%3D%22folium-map%22%20id%3D%22map_85196a98130f42d3b04d84f3d349258e%22%20%3E%3C/div%3E%0A%20%20%20%20%20%20%20%20%0A%3C/body%3E%0A%3Cscript%3E%20%20%20%20%0A%20%20%20%20%0A%20%20%20%20%20%20%20%20%20%20%20%20var%20map_85196a98130f42d3b04d84f3d349258e%20%3D%20L.map%28%0A%20%20%20%20%20%20%20%20%20%20%20%20%20%20%20%20%22map_85196a98130f42d3b04d84f3d349258e%22%2C%0A%20%20%20%20%20%20%20%20%20%20%20%20%20%20%20%20%7B%0A%20%20%20%20%20%20%20%20%20%20%20%20%20%20%20%20%20%20%20%20center%3A%20%5B-18.203199246622674%2C%2046.779785%5D%2C%0A%20%20%20%20%20%20%20%20%20%20%20%20%20%20%20%20%20%20%20%20crs%3A%20L.CRS.EPSG3857%2C%0A%20%20%20%20%20%20%20%20%20%20%20%20%20%20%20%20%20%20%20%20zoom%3A%205.6%2C%0A%20%20%20%20%20%20%20%20%20%20%20%20%20%20%20%20%20%20%20%20zoomControl%3A%20true%2C%0A%20%20%20%20%20%20%20%20%20%20%20%20%20%20%20%20%20%20%20%20preferCanvas%3A%20false%2C%0A%20%20%20%20%20%20%20%20%20%20%20%20%20%20%20%20%7D%0A%20%20%20%20%20%20%20%20%20%20%20%20%29%3B%0A%0A%20%20%20%20%20%20%20%20%20%20%20%20%0A%0A%20%20%20%20%20%20%20%20%0A%20%20%20%20%0A%20%20%20%20%20%20%20%20%20%20%20%20var%20tile_layer_903a61232c554d9db6245d6c53c4babe%20%3D%20L.tileLayer%28%0A%20%20%20%20%20%20%20%20%20%20%20%20%20%20%20%20%22https%3A//%7Bs%7D.tile.openstreetmap.org/%7Bz%7D/%7Bx%7D/%7By%7D.png%22%2C%0A%20%20%20%20%20%20%20%20%20%20%20%20%20%20%20%20%7B%22attribution%22%3A%20%22Data%20by%20%5Cu0026copy%3B%20%5Cu003ca%20href%3D%5C%22http%3A//openstreetmap.org%5C%22%5Cu003eOpenStreetMap%5Cu003c/a%5Cu003e%2C%20under%20%5Cu003ca%20href%3D%5C%22http%3A//www.openstreetmap.org/copyright%5C%22%5Cu003eODbL%5Cu003c/a%5Cu003e.%22%2C%20%22detectRetina%22%3A%20false%2C%20%22maxNativeZoom%22%3A%2018%2C%20%22maxZoom%22%3A%2018%2C%20%22minZoom%22%3A%200%2C%20%22noWrap%22%3A%20false%2C%20%22opacity%22%3A%201%2C%20%22subdomains%22%3A%20%22abc%22%2C%20%22tms%22%3A%20false%7D%0A%20%20%20%20%20%20%20%20%20%20%20%20%29.addTo%28map_85196a98130f42d3b04d84f3d349258e%29%3B%0A%20%20%20%20%20%20%20%20%0A%20%20%20%20%0A%20%20%20%20%20%20%20%20%20%20%20%20var%20tile_layer_4282a0513a0941faa57816d1ddc1e661%20%3D%20L.tileLayer%28%0A%20%20%20%20%20%20%20%20%20%20%20%20%20%20%20%20%22https%3A//earthengine.googleapis.com/v1alpha/projects/earthengine-legacy/maps/61a1b50192dfaa6086480937cd1d374c-14b9a026fc331c07f0d7b5d5dddd42e3/tiles/%7Bz%7D/%7Bx%7D/%7By%7D%22%2C%0A%20%20%20%20%20%20%20%20%20%20%20%20%20%20%20%20%7B%22attribution%22%3A%20%22Map%20Data%20%5Cu0026copy%3B%20%5Cu003ca%20href%3D%5C%22https%3A//earthengine.google.com/%5C%22%5Cu003eGoogle%20Earth%20Engine%5Cu003c/a%5Cu003e%22%2C%20%22detectRetina%22%3A%20false%2C%20%22maxNativeZoom%22%3A%2018%2C%20%22maxZoom%22%3A%2018%2C%20%22minZoom%22%3A%200%2C%20%22noWrap%22%3A%20false%2C%20%22opacity%22%3A%201%2C%20%22subdomains%22%3A%20%22abc%22%2C%20%22tms%22%3A%20false%7D%0A%20%20%20%20%20%20%20%20%20%20%20%20%29.addTo%28map_85196a98130f42d3b04d84f3d349258e%29%3B%0A%20%20%20%20%20%20%20%20%0A%20%20%20%20%0A%20%20%20%20%20%20%20%20%20%20%20%20var%20tile_layer_4c459420445f439f8ee7552c2abeff05%20%3D%20L.tileLayer%28%0A%20%20%20%20%20%20%20%20%20%20%20%20%20%20%20%20%22https%3A//earthengine.googleapis.com/v1alpha/projects/earthengine-legacy/maps/2018a7682875f7dcfdea6adab1111387-1363c352e4c5d057269b4026a6494e66/tiles/%7Bz%7D/%7Bx%7D/%7By%7D%22%2C%0A%20%20%20%20%20%20%20%20%20%20%20%20%20%20%20%20%7B%22attribution%22%3A%20%22Map%20Data%20%5Cu0026copy%3B%20%5Cu003ca%20href%3D%5C%22https%3A//earthengine.google.com/%5C%22%5Cu003eGoogle%20Earth%20Engine%5Cu003c/a%5Cu003e%22%2C%20%22detectRetina%22%3A%20false%2C%20%22maxNativeZoom%22%3A%2018%2C%20%22maxZoom%22%3A%2018%2C%20%22minZoom%22%3A%200%2C%20%22noWrap%22%3A%20false%2C%20%22opacity%22%3A%201%2C%20%22subdomains%22%3A%20%22abc%22%2C%20%22tms%22%3A%20false%7D%0A%20%20%20%20%20%20%20%20%20%20%20%20%29.addTo%28map_85196a98130f42d3b04d84f3d349258e%29%3B%0A%20%20%20%20%20%20%20%20%0A%20%20%20%20%0A%20%20%20%20%20%20%20%20%20%20%20%20var%20tile_layer_91410409d8a94124bcb278e69493fba2%20%3D%20L.tileLayer%28%0A%20%20%20%20%20%20%20%20%20%20%20%20%20%20%20%20%22https%3A//earthengine.googleapis.com/v1alpha/projects/earthengine-legacy/maps/0189d6dc4df4df22f492860a0573266f-64a5ea4855972a233bc17b6f9e31ba44/tiles/%7Bz%7D/%7Bx%7D/%7By%7D%22%2C%0A%20%20%20%20%20%20%20%20%20%20%20%20%20%20%20%20%7B%22attribution%22%3A%20%22Map%20Data%20%5Cu0026copy%3B%20%5Cu003ca%20href%3D%5C%22https%3A//earthengine.google.com/%5C%22%5Cu003eGoogle%20Earth%20Engine%5Cu003c/a%5Cu003e%22%2C%20%22detectRetina%22%3A%20false%2C%20%22maxNativeZoom%22%3A%2018%2C%20%22maxZoom%22%3A%2018%2C%20%22minZoom%22%3A%200%2C%20%22noWrap%22%3A%20false%2C%20%22opacity%22%3A%201%2C%20%22subdomains%22%3A%20%22abc%22%2C%20%22tms%22%3A%20false%7D%0A%20%20%20%20%20%20%20%20%20%20%20%20%29.addTo%28map_85196a98130f42d3b04d84f3d349258e%29%3B%0A%20%20%20%20%20%20%20%20%0A%20%20%20%20%0A%20%20%20%20%20%20%20%20%20%20%20%20var%20tile_layer_ae2b3a0e236148c692407f21431e60cc%20%3D%20L.tileLayer%28%0A%20%20%20%20%20%20%20%20%20%20%20%20%20%20%20%20%22https%3A//earthengine.googleapis.com/v1alpha/projects/earthengine-legacy/maps/56e5be4f3a469227f2ab6a03155715ef-7c310defd6fbbd454fe8bf572adb25fa/tiles/%7Bz%7D/%7Bx%7D/%7By%7D%22%2C%0A%20%20%20%20%20%20%20%20%20%20%20%20%20%20%20%20%7B%22attribution%22%3A%20%22Map%20Data%20%5Cu0026copy%3B%20%5Cu003ca%20href%3D%5C%22https%3A//earthengine.google.com/%5C%22%5Cu003eGoogle%20Earth%20Engine%5Cu003c/a%5Cu003e%22%2C%20%22detectRetina%22%3A%20false%2C%20%22maxNativeZoom%22%3A%2018%2C%20%22maxZoom%22%3A%2018%2C%20%22minZoom%22%3A%200%2C%20%22noWrap%22%3A%20false%2C%20%22opacity%22%3A%201%2C%20%22subdomains%22%3A%20%22abc%22%2C%20%22tms%22%3A%20false%7D%0A%20%20%20%20%20%20%20%20%20%20%20%20%29.addTo%28map_85196a98130f42d3b04d84f3d349258e%29%3B%0A%20%20%20%20%20%20%20%20%0A%20%20%20%20%0A%20%20%20%20%20%20%20%20%20%20%20%20var%20tile_layer_68bd851b35e84230878a0ce846947ffe%20%3D%20L.tileLayer%28%0A%20%20%20%20%20%20%20%20%20%20%20%20%20%20%20%20%22https%3A//earthengine.googleapis.com/v1alpha/projects/earthengine-legacy/maps/65b9a265b8a0462aff240a79cbce40fb-ea7d642be8f43b6eeae72177ca6f46b6/tiles/%7Bz%7D/%7Bx%7D/%7By%7D%22%2C%0A%20%20%20%20%20%20%20%20%20%20%20%20%20%20%20%20%7B%22attribution%22%3A%20%22Map%20Data%20%5Cu0026copy%3B%20%5Cu003ca%20href%3D%5C%22https%3A//earthengine.google.com/%5C%22%5Cu003eGoogle%20Earth%20Engine%5Cu003c/a%5Cu003e%22%2C%20%22detectRetina%22%3A%20false%2C%20%22maxNativeZoom%22%3A%2018%2C%20%22maxZoom%22%3A%2018%2C%20%22minZoom%22%3A%200%2C%20%22noWrap%22%3A%20false%2C%20%22opacity%22%3A%201%2C%20%22subdomains%22%3A%20%22abc%22%2C%20%22tms%22%3A%20false%7D%0A%20%20%20%20%20%20%20%20%20%20%20%20%29.addTo%28map_85196a98130f42d3b04d84f3d349258e%29%3B%0A%20%20%20%20%20%20%20%20%0A%20%20%20%20%0A%20%20%20%20%20%20%20%20%20%20%20%20var%20tile_layer_a2aba1b6c0a84a8b833b9e0bfe42e2b5%20%3D%20L.tileLayer%28%0A%20%20%20%20%20%20%20%20%20%20%20%20%20%20%20%20%22https%3A//earthengine.googleapis.com/v1alpha/projects/earthengine-legacy/maps/1d1979ce5254aa8e10342f7be56329d7-b90f9fda2e6adb6f9648862d4fb1598e/tiles/%7Bz%7D/%7Bx%7D/%7By%7D%22%2C%0A%20%20%20%20%20%20%20%20%20%20%20%20%20%20%20%20%7B%22attribution%22%3A%20%22Map%20Data%20%5Cu0026copy%3B%20%5Cu003ca%20href%3D%5C%22https%3A//earthengine.google.com/%5C%22%5Cu003eGoogle%20Earth%20Engine%5Cu003c/a%5Cu003e%22%2C%20%22detectRetina%22%3A%20false%2C%20%22maxNativeZoom%22%3A%2018%2C%20%22maxZoom%22%3A%2018%2C%20%22minZoom%22%3A%200%2C%20%22noWrap%22%3A%20false%2C%20%22opacity%22%3A%201%2C%20%22subdomains%22%3A%20%22abc%22%2C%20%22tms%22%3A%20false%7D%0A%20%20%20%20%20%20%20%20%20%20%20%20%29.addTo%28map_85196a98130f42d3b04d84f3d349258e%29%3B%0A%20%20%20%20%20%20%20%20%0A%20%20%20%20%0A%20%20%20%20%20%20%20%20%20%20%20%20var%20layer_control_fb44e6bf98e84f4d96220141535a853e%20%3D%20%7B%0A%20%20%20%20%20%20%20%20%20%20%20%20%20%20%20%20base_layers%20%3A%20%7B%0A%20%20%20%20%20%20%20%20%20%20%20%20%20%20%20%20%20%20%20%20%22openstreetmap%22%20%3A%20tile_layer_903a61232c554d9db6245d6c53c4babe%2C%0A%20%20%20%20%20%20%20%20%20%20%20%20%20%20%20%20%7D%2C%0A%20%20%20%20%20%20%20%20%20%20%20%20%20%20%20%20overlays%20%3A%20%20%7B%0A%20%20%20%20%20%20%20%20%20%20%20%20%20%20%20%20%20%20%20%20%22d%5Cu0027Andohahela%20Fitted%20NDVI%22%20%3A%20tile_layer_4282a0513a0941faa57816d1ddc1e661%2C%0A%20%20%20%20%20%20%20%20%20%20%20%20%20%20%20%20%20%20%20%20%22Midongy%20Betofaka%20Fitted%20NDVI%22%20%3A%20tile_layer_4c459420445f439f8ee7552c2abeff05%2C%0A%20%20%20%20%20%20%20%20%20%20%20%20%20%20%20%20%20%20%20%20%22Tsimanampetsotsa%20Fitted%20NDVI%22%20%3A%20tile_layer_91410409d8a94124bcb278e69493fba2%2C%0A%20%20%20%20%20%20%20%20%20%20%20%20%20%20%20%20%20%20%20%20%22d%5Cu0027Ankarafantsika%20Fitted%20NDVI%22%20%3A%20tile_layer_ae2b3a0e236148c692407f21431e60cc%2C%0A%20%20%20%20%20%20%20%20%20%20%20%20%20%20%20%20%20%20%20%20%22Masoala%20Fitted%20NDVI%22%20%3A%20tile_layer_68bd851b35e84230878a0ce846947ffe%2C%0A%20%20%20%20%20%20%20%20%20%20%20%20%20%20%20%20%20%20%20%20%22Alan%5Cu0027Ankirisa%20Fitted%20NDVI%22%20%3A%20tile_layer_a2aba1b6c0a84a8b833b9e0bfe42e2b5%2C%0A%20%20%20%20%20%20%20%20%20%20%20%20%20%20%20%20%7D%2C%0A%20%20%20%20%20%20%20%20%20%20%20%20%7D%3B%0A%20%20%20%20%20%20%20%20%20%20%20%20L.control.layers%28%0A%20%20%20%20%20%20%20%20%20%20%20%20%20%20%20%20layer_control_fb44e6bf98e84f4d96220141535a853e.base_layers%2C%0A%20%20%20%20%20%20%20%20%20%20%20%20%20%20%20%20layer_control_fb44e6bf98e84f4d96220141535a853e.overlays%2C%0A%20%20%20%20%20%20%20%20%20%20%20%20%20%20%20%20%7B%22autoZIndex%22%3A%20true%2C%20%22collapsed%22%3A%20true%2C%20%22position%22%3A%20%22topright%22%7D%0A%20%20%20%20%20%20%20%20%20%20%20%20%29.addTo%28map_85196a98130f42d3b04d84f3d349258e%29%3B%0A%20%20%20%20%20%20%20%20%0A%3C/script%3E onload=\"this.contentDocument.open();this.contentDocument.write(    decodeURIComponent(this.getAttribute('data-html')));this.contentDocument.close();\" allowfullscreen webkitallowfullscreen mozallowfullscreen></iframe></div></div>"
      ],
      "text/plain": [
       "<folium.folium.Map at 0x147e2fd00>"
      ]
     },
     "metadata": {},
     "output_type": "display_data"
    },
    {
     "name": "stdout",
     "output_type": "stream",
     "text": [
      "\n",
      " \n",
      "\n",
      "2019-12-01 - 2020-01-01\n"
     ]
    },
    {
     "data": {
      "text/html": [
       "<div style=\"width:100%;\"><div style=\"position:relative;width:100%;height:0;padding-bottom:60%;\"><span style=\"color:#565656\">Make this Notebook Trusted to load map: File -> Trust Notebook</span><iframe src=\"about:blank\" style=\"position:absolute;width:100%;height:100%;left:0;top:0;border:none !important;\" data-html=%3C%21DOCTYPE%20html%3E%0A%3Chead%3E%20%20%20%20%0A%20%20%20%20%3Cmeta%20http-equiv%3D%22content-type%22%20content%3D%22text/html%3B%20charset%3DUTF-8%22%20/%3E%0A%20%20%20%20%0A%20%20%20%20%20%20%20%20%3Cscript%3E%0A%20%20%20%20%20%20%20%20%20%20%20%20L_NO_TOUCH%20%3D%20false%3B%0A%20%20%20%20%20%20%20%20%20%20%20%20L_DISABLE_3D%20%3D%20false%3B%0A%20%20%20%20%20%20%20%20%3C/script%3E%0A%20%20%20%20%0A%20%20%20%20%3Cstyle%3Ehtml%2C%20body%20%7Bwidth%3A%20100%25%3Bheight%3A%20100%25%3Bmargin%3A%200%3Bpadding%3A%200%3B%7D%3C/style%3E%0A%20%20%20%20%3Cstyle%3E%23map%20%7Bposition%3Aabsolute%3Btop%3A0%3Bbottom%3A0%3Bright%3A0%3Bleft%3A0%3B%7D%3C/style%3E%0A%20%20%20%20%3Cscript%20src%3D%22https%3A//cdn.jsdelivr.net/npm/leaflet%401.6.0/dist/leaflet.js%22%3E%3C/script%3E%0A%20%20%20%20%3Cscript%20src%3D%22https%3A//code.jquery.com/jquery-1.12.4.min.js%22%3E%3C/script%3E%0A%20%20%20%20%3Cscript%20src%3D%22https%3A//maxcdn.bootstrapcdn.com/bootstrap/3.2.0/js/bootstrap.min.js%22%3E%3C/script%3E%0A%20%20%20%20%3Cscript%20src%3D%22https%3A//cdnjs.cloudflare.com/ajax/libs/Leaflet.awesome-markers/2.0.2/leaflet.awesome-markers.js%22%3E%3C/script%3E%0A%20%20%20%20%3Clink%20rel%3D%22stylesheet%22%20href%3D%22https%3A//cdn.jsdelivr.net/npm/leaflet%401.6.0/dist/leaflet.css%22/%3E%0A%20%20%20%20%3Clink%20rel%3D%22stylesheet%22%20href%3D%22https%3A//maxcdn.bootstrapcdn.com/bootstrap/3.2.0/css/bootstrap.min.css%22/%3E%0A%20%20%20%20%3Clink%20rel%3D%22stylesheet%22%20href%3D%22https%3A//maxcdn.bootstrapcdn.com/bootstrap/3.2.0/css/bootstrap-theme.min.css%22/%3E%0A%20%20%20%20%3Clink%20rel%3D%22stylesheet%22%20href%3D%22https%3A//maxcdn.bootstrapcdn.com/font-awesome/4.6.3/css/font-awesome.min.css%22/%3E%0A%20%20%20%20%3Clink%20rel%3D%22stylesheet%22%20href%3D%22https%3A//cdnjs.cloudflare.com/ajax/libs/Leaflet.awesome-markers/2.0.2/leaflet.awesome-markers.css%22/%3E%0A%20%20%20%20%3Clink%20rel%3D%22stylesheet%22%20href%3D%22https%3A//cdn.jsdelivr.net/gh/python-visualization/folium/folium/templates/leaflet.awesome.rotate.min.css%22/%3E%0A%20%20%20%20%0A%20%20%20%20%20%20%20%20%20%20%20%20%3Cmeta%20name%3D%22viewport%22%20content%3D%22width%3Ddevice-width%2C%0A%20%20%20%20%20%20%20%20%20%20%20%20%20%20%20%20initial-scale%3D1.0%2C%20maximum-scale%3D1.0%2C%20user-scalable%3Dno%22%20/%3E%0A%20%20%20%20%20%20%20%20%20%20%20%20%3Cstyle%3E%0A%20%20%20%20%20%20%20%20%20%20%20%20%20%20%20%20%23map_182161cdb5da4fc7a8d9f2b1cf9dcbcc%20%7B%0A%20%20%20%20%20%20%20%20%20%20%20%20%20%20%20%20%20%20%20%20position%3A%20relative%3B%0A%20%20%20%20%20%20%20%20%20%20%20%20%20%20%20%20%20%20%20%20width%3A%20100.0%25%3B%0A%20%20%20%20%20%20%20%20%20%20%20%20%20%20%20%20%20%20%20%20height%3A%20100.0%25%3B%0A%20%20%20%20%20%20%20%20%20%20%20%20%20%20%20%20%20%20%20%20left%3A%200.0%25%3B%0A%20%20%20%20%20%20%20%20%20%20%20%20%20%20%20%20%20%20%20%20top%3A%200.0%25%3B%0A%20%20%20%20%20%20%20%20%20%20%20%20%20%20%20%20%7D%0A%20%20%20%20%20%20%20%20%20%20%20%20%3C/style%3E%0A%20%20%20%20%20%20%20%20%0A%3C/head%3E%0A%3Cbody%3E%20%20%20%20%0A%20%20%20%20%0A%20%20%20%20%20%20%20%20%20%20%20%20%3Cdiv%20class%3D%22folium-map%22%20id%3D%22map_182161cdb5da4fc7a8d9f2b1cf9dcbcc%22%20%3E%3C/div%3E%0A%20%20%20%20%20%20%20%20%0A%3C/body%3E%0A%3Cscript%3E%20%20%20%20%0A%20%20%20%20%0A%20%20%20%20%20%20%20%20%20%20%20%20var%20map_182161cdb5da4fc7a8d9f2b1cf9dcbcc%20%3D%20L.map%28%0A%20%20%20%20%20%20%20%20%20%20%20%20%20%20%20%20%22map_182161cdb5da4fc7a8d9f2b1cf9dcbcc%22%2C%0A%20%20%20%20%20%20%20%20%20%20%20%20%20%20%20%20%7B%0A%20%20%20%20%20%20%20%20%20%20%20%20%20%20%20%20%20%20%20%20center%3A%20%5B-18.203199246622674%2C%2046.779785%5D%2C%0A%20%20%20%20%20%20%20%20%20%20%20%20%20%20%20%20%20%20%20%20crs%3A%20L.CRS.EPSG3857%2C%0A%20%20%20%20%20%20%20%20%20%20%20%20%20%20%20%20%20%20%20%20zoom%3A%205.6%2C%0A%20%20%20%20%20%20%20%20%20%20%20%20%20%20%20%20%20%20%20%20zoomControl%3A%20true%2C%0A%20%20%20%20%20%20%20%20%20%20%20%20%20%20%20%20%20%20%20%20preferCanvas%3A%20false%2C%0A%20%20%20%20%20%20%20%20%20%20%20%20%20%20%20%20%7D%0A%20%20%20%20%20%20%20%20%20%20%20%20%29%3B%0A%0A%20%20%20%20%20%20%20%20%20%20%20%20%0A%0A%20%20%20%20%20%20%20%20%0A%20%20%20%20%0A%20%20%20%20%20%20%20%20%20%20%20%20var%20tile_layer_94391dda1e66472a8f6df03e06869699%20%3D%20L.tileLayer%28%0A%20%20%20%20%20%20%20%20%20%20%20%20%20%20%20%20%22https%3A//%7Bs%7D.tile.openstreetmap.org/%7Bz%7D/%7Bx%7D/%7By%7D.png%22%2C%0A%20%20%20%20%20%20%20%20%20%20%20%20%20%20%20%20%7B%22attribution%22%3A%20%22Data%20by%20%5Cu0026copy%3B%20%5Cu003ca%20href%3D%5C%22http%3A//openstreetmap.org%5C%22%5Cu003eOpenStreetMap%5Cu003c/a%5Cu003e%2C%20under%20%5Cu003ca%20href%3D%5C%22http%3A//www.openstreetmap.org/copyright%5C%22%5Cu003eODbL%5Cu003c/a%5Cu003e.%22%2C%20%22detectRetina%22%3A%20false%2C%20%22maxNativeZoom%22%3A%2018%2C%20%22maxZoom%22%3A%2018%2C%20%22minZoom%22%3A%200%2C%20%22noWrap%22%3A%20false%2C%20%22opacity%22%3A%201%2C%20%22subdomains%22%3A%20%22abc%22%2C%20%22tms%22%3A%20false%7D%0A%20%20%20%20%20%20%20%20%20%20%20%20%29.addTo%28map_182161cdb5da4fc7a8d9f2b1cf9dcbcc%29%3B%0A%20%20%20%20%20%20%20%20%0A%20%20%20%20%0A%20%20%20%20%20%20%20%20%20%20%20%20var%20tile_layer_6190d7c528334a72ba5d7421dde026f2%20%3D%20L.tileLayer%28%0A%20%20%20%20%20%20%20%20%20%20%20%20%20%20%20%20%22https%3A//earthengine.googleapis.com/v1alpha/projects/earthengine-legacy/maps/3c2937e7f7235fb4af21ef892d3ee448-e323e2a986ec06cdc11ff38557672666/tiles/%7Bz%7D/%7Bx%7D/%7By%7D%22%2C%0A%20%20%20%20%20%20%20%20%20%20%20%20%20%20%20%20%7B%22attribution%22%3A%20%22Map%20Data%20%5Cu0026copy%3B%20%5Cu003ca%20href%3D%5C%22https%3A//earthengine.google.com/%5C%22%5Cu003eGoogle%20Earth%20Engine%5Cu003c/a%5Cu003e%22%2C%20%22detectRetina%22%3A%20false%2C%20%22maxNativeZoom%22%3A%2018%2C%20%22maxZoom%22%3A%2018%2C%20%22minZoom%22%3A%200%2C%20%22noWrap%22%3A%20false%2C%20%22opacity%22%3A%201%2C%20%22subdomains%22%3A%20%22abc%22%2C%20%22tms%22%3A%20false%7D%0A%20%20%20%20%20%20%20%20%20%20%20%20%29.addTo%28map_182161cdb5da4fc7a8d9f2b1cf9dcbcc%29%3B%0A%20%20%20%20%20%20%20%20%0A%20%20%20%20%0A%20%20%20%20%20%20%20%20%20%20%20%20var%20tile_layer_608e0b57ad164ef3ae5cc27e189e61bc%20%3D%20L.tileLayer%28%0A%20%20%20%20%20%20%20%20%20%20%20%20%20%20%20%20%22https%3A//earthengine.googleapis.com/v1alpha/projects/earthengine-legacy/maps/ae7c3892e63f630f8c1425d69d8fb925-b927fbc2157d7a9bb20a2aec8315e830/tiles/%7Bz%7D/%7Bx%7D/%7By%7D%22%2C%0A%20%20%20%20%20%20%20%20%20%20%20%20%20%20%20%20%7B%22attribution%22%3A%20%22Map%20Data%20%5Cu0026copy%3B%20%5Cu003ca%20href%3D%5C%22https%3A//earthengine.google.com/%5C%22%5Cu003eGoogle%20Earth%20Engine%5Cu003c/a%5Cu003e%22%2C%20%22detectRetina%22%3A%20false%2C%20%22maxNativeZoom%22%3A%2018%2C%20%22maxZoom%22%3A%2018%2C%20%22minZoom%22%3A%200%2C%20%22noWrap%22%3A%20false%2C%20%22opacity%22%3A%201%2C%20%22subdomains%22%3A%20%22abc%22%2C%20%22tms%22%3A%20false%7D%0A%20%20%20%20%20%20%20%20%20%20%20%20%29.addTo%28map_182161cdb5da4fc7a8d9f2b1cf9dcbcc%29%3B%0A%20%20%20%20%20%20%20%20%0A%20%20%20%20%0A%20%20%20%20%20%20%20%20%20%20%20%20var%20tile_layer_e17f73a6550a4cb3bbe2f84806c49ffa%20%3D%20L.tileLayer%28%0A%20%20%20%20%20%20%20%20%20%20%20%20%20%20%20%20%22https%3A//earthengine.googleapis.com/v1alpha/projects/earthengine-legacy/maps/63d9065be248129d30dce7d056a48233-ff6a80ef1da095adceb0779edf747221/tiles/%7Bz%7D/%7Bx%7D/%7By%7D%22%2C%0A%20%20%20%20%20%20%20%20%20%20%20%20%20%20%20%20%7B%22attribution%22%3A%20%22Map%20Data%20%5Cu0026copy%3B%20%5Cu003ca%20href%3D%5C%22https%3A//earthengine.google.com/%5C%22%5Cu003eGoogle%20Earth%20Engine%5Cu003c/a%5Cu003e%22%2C%20%22detectRetina%22%3A%20false%2C%20%22maxNativeZoom%22%3A%2018%2C%20%22maxZoom%22%3A%2018%2C%20%22minZoom%22%3A%200%2C%20%22noWrap%22%3A%20false%2C%20%22opacity%22%3A%201%2C%20%22subdomains%22%3A%20%22abc%22%2C%20%22tms%22%3A%20false%7D%0A%20%20%20%20%20%20%20%20%20%20%20%20%29.addTo%28map_182161cdb5da4fc7a8d9f2b1cf9dcbcc%29%3B%0A%20%20%20%20%20%20%20%20%0A%20%20%20%20%0A%20%20%20%20%20%20%20%20%20%20%20%20var%20tile_layer_524479018e744f29b8d274c820d9dc4f%20%3D%20L.tileLayer%28%0A%20%20%20%20%20%20%20%20%20%20%20%20%20%20%20%20%22https%3A//earthengine.googleapis.com/v1alpha/projects/earthengine-legacy/maps/068c2476316cfe9d99f9d9c9e4ed3caa-2d42c26dd87f428fda4276c849154ed6/tiles/%7Bz%7D/%7Bx%7D/%7By%7D%22%2C%0A%20%20%20%20%20%20%20%20%20%20%20%20%20%20%20%20%7B%22attribution%22%3A%20%22Map%20Data%20%5Cu0026copy%3B%20%5Cu003ca%20href%3D%5C%22https%3A//earthengine.google.com/%5C%22%5Cu003eGoogle%20Earth%20Engine%5Cu003c/a%5Cu003e%22%2C%20%22detectRetina%22%3A%20false%2C%20%22maxNativeZoom%22%3A%2018%2C%20%22maxZoom%22%3A%2018%2C%20%22minZoom%22%3A%200%2C%20%22noWrap%22%3A%20false%2C%20%22opacity%22%3A%201%2C%20%22subdomains%22%3A%20%22abc%22%2C%20%22tms%22%3A%20false%7D%0A%20%20%20%20%20%20%20%20%20%20%20%20%29.addTo%28map_182161cdb5da4fc7a8d9f2b1cf9dcbcc%29%3B%0A%20%20%20%20%20%20%20%20%0A%20%20%20%20%0A%20%20%20%20%20%20%20%20%20%20%20%20var%20tile_layer_ae5ba92a3e9d4c428f0a3a8d6b489df8%20%3D%20L.tileLayer%28%0A%20%20%20%20%20%20%20%20%20%20%20%20%20%20%20%20%22https%3A//earthengine.googleapis.com/v1alpha/projects/earthengine-legacy/maps/cc45ac5db1002c5400cf547efe120894-1b703108a468cf868c1f4df89ee7a81c/tiles/%7Bz%7D/%7Bx%7D/%7By%7D%22%2C%0A%20%20%20%20%20%20%20%20%20%20%20%20%20%20%20%20%7B%22attribution%22%3A%20%22Map%20Data%20%5Cu0026copy%3B%20%5Cu003ca%20href%3D%5C%22https%3A//earthengine.google.com/%5C%22%5Cu003eGoogle%20Earth%20Engine%5Cu003c/a%5Cu003e%22%2C%20%22detectRetina%22%3A%20false%2C%20%22maxNativeZoom%22%3A%2018%2C%20%22maxZoom%22%3A%2018%2C%20%22minZoom%22%3A%200%2C%20%22noWrap%22%3A%20false%2C%20%22opacity%22%3A%201%2C%20%22subdomains%22%3A%20%22abc%22%2C%20%22tms%22%3A%20false%7D%0A%20%20%20%20%20%20%20%20%20%20%20%20%29.addTo%28map_182161cdb5da4fc7a8d9f2b1cf9dcbcc%29%3B%0A%20%20%20%20%20%20%20%20%0A%20%20%20%20%0A%20%20%20%20%20%20%20%20%20%20%20%20var%20tile_layer_ad5088d1d3a1420e8daa0d156575f66f%20%3D%20L.tileLayer%28%0A%20%20%20%20%20%20%20%20%20%20%20%20%20%20%20%20%22https%3A//earthengine.googleapis.com/v1alpha/projects/earthengine-legacy/maps/8909ab2ca81fcbea2b5d6b17878db273-df57e8b7ff70159c87bcb9bdaac37345/tiles/%7Bz%7D/%7Bx%7D/%7By%7D%22%2C%0A%20%20%20%20%20%20%20%20%20%20%20%20%20%20%20%20%7B%22attribution%22%3A%20%22Map%20Data%20%5Cu0026copy%3B%20%5Cu003ca%20href%3D%5C%22https%3A//earthengine.google.com/%5C%22%5Cu003eGoogle%20Earth%20Engine%5Cu003c/a%5Cu003e%22%2C%20%22detectRetina%22%3A%20false%2C%20%22maxNativeZoom%22%3A%2018%2C%20%22maxZoom%22%3A%2018%2C%20%22minZoom%22%3A%200%2C%20%22noWrap%22%3A%20false%2C%20%22opacity%22%3A%201%2C%20%22subdomains%22%3A%20%22abc%22%2C%20%22tms%22%3A%20false%7D%0A%20%20%20%20%20%20%20%20%20%20%20%20%29.addTo%28map_182161cdb5da4fc7a8d9f2b1cf9dcbcc%29%3B%0A%20%20%20%20%20%20%20%20%0A%20%20%20%20%0A%20%20%20%20%20%20%20%20%20%20%20%20var%20layer_control_0a9077548fc948b9bd11ce29e51bba71%20%3D%20%7B%0A%20%20%20%20%20%20%20%20%20%20%20%20%20%20%20%20base_layers%20%3A%20%7B%0A%20%20%20%20%20%20%20%20%20%20%20%20%20%20%20%20%20%20%20%20%22openstreetmap%22%20%3A%20tile_layer_94391dda1e66472a8f6df03e06869699%2C%0A%20%20%20%20%20%20%20%20%20%20%20%20%20%20%20%20%7D%2C%0A%20%20%20%20%20%20%20%20%20%20%20%20%20%20%20%20overlays%20%3A%20%20%7B%0A%20%20%20%20%20%20%20%20%20%20%20%20%20%20%20%20%20%20%20%20%22d%5Cu0027Andohahela%20Fitted%20NDVI%22%20%3A%20tile_layer_6190d7c528334a72ba5d7421dde026f2%2C%0A%20%20%20%20%20%20%20%20%20%20%20%20%20%20%20%20%20%20%20%20%22Midongy%20Betofaka%20Fitted%20NDVI%22%20%3A%20tile_layer_608e0b57ad164ef3ae5cc27e189e61bc%2C%0A%20%20%20%20%20%20%20%20%20%20%20%20%20%20%20%20%20%20%20%20%22Tsimanampetsotsa%20Fitted%20NDVI%22%20%3A%20tile_layer_e17f73a6550a4cb3bbe2f84806c49ffa%2C%0A%20%20%20%20%20%20%20%20%20%20%20%20%20%20%20%20%20%20%20%20%22d%5Cu0027Ankarafantsika%20Fitted%20NDVI%22%20%3A%20tile_layer_524479018e744f29b8d274c820d9dc4f%2C%0A%20%20%20%20%20%20%20%20%20%20%20%20%20%20%20%20%20%20%20%20%22Masoala%20Fitted%20NDVI%22%20%3A%20tile_layer_ae5ba92a3e9d4c428f0a3a8d6b489df8%2C%0A%20%20%20%20%20%20%20%20%20%20%20%20%20%20%20%20%20%20%20%20%22Alan%5Cu0027Ankirisa%20Fitted%20NDVI%22%20%3A%20tile_layer_ad5088d1d3a1420e8daa0d156575f66f%2C%0A%20%20%20%20%20%20%20%20%20%20%20%20%20%20%20%20%7D%2C%0A%20%20%20%20%20%20%20%20%20%20%20%20%7D%3B%0A%20%20%20%20%20%20%20%20%20%20%20%20L.control.layers%28%0A%20%20%20%20%20%20%20%20%20%20%20%20%20%20%20%20layer_control_0a9077548fc948b9bd11ce29e51bba71.base_layers%2C%0A%20%20%20%20%20%20%20%20%20%20%20%20%20%20%20%20layer_control_0a9077548fc948b9bd11ce29e51bba71.overlays%2C%0A%20%20%20%20%20%20%20%20%20%20%20%20%20%20%20%20%7B%22autoZIndex%22%3A%20true%2C%20%22collapsed%22%3A%20true%2C%20%22position%22%3A%20%22topright%22%7D%0A%20%20%20%20%20%20%20%20%20%20%20%20%29.addTo%28map_182161cdb5da4fc7a8d9f2b1cf9dcbcc%29%3B%0A%20%20%20%20%20%20%20%20%0A%3C/script%3E onload=\"this.contentDocument.open();this.contentDocument.write(    decodeURIComponent(this.getAttribute('data-html')));this.contentDocument.close();\" allowfullscreen webkitallowfullscreen mozallowfullscreen></iframe></div></div>"
      ],
      "text/plain": [
       "<folium.folium.Map at 0x147e1b610>"
      ]
     },
     "metadata": {},
     "output_type": "display_data"
    },
    {
     "name": "stdout",
     "output_type": "stream",
     "text": [
      "\n",
      " \n",
      "\n"
     ]
    }
   ],
   "source": [
    "# Each layer in a map represents the fitted ndvi of a national park's region that\n",
    "# is calculated by fitting a robust linear regression\n",
    "\n",
    "for i in range(len(dateRange[:12])):\n",
    "    start, end = dateRange[i]\n",
    "    bandNames = [['constant', 'time'], [\"NDVI\"]]\n",
    "    m = folium.Map(location=madagascarCenter, zoom_start=5.6)\n",
    "\n",
    "    for region, geometry in regionGeometries.items():     # returns a plot with each park as a layer\n",
    "        collection = ee.ImageCollection(\"COPERNICUS/S2_SR\"\n",
    "                      ).filterBounds(geometry\n",
    "                      ).filterDate(start, end\n",
    "                      ).map(lambda x: x.addBands(x.metadata('system:time_start').divide(1e18).rename(\"t\"))\n",
    "                      ).map(lambda x: x.addBands(ee.Image(1).rename(\"constant\"))\n",
    "                      ).map(lambda x: x.addBands(x.normalizedDifference([\"B8\", \"B4\"]).rename(\"NDVI\"))\n",
    "                      ).map(lambda x: x.select([\"constant\", \"t\", \"NDVI\"]))\n",
    "\n",
    "        # each region has its own fitted model for every month\n",
    "        robustLinearMod = collection.reduce(ee.Reducer.robustLinearRegression(numX = 2, numY = 1))\n",
    "        robustFittedImage = robustLinearMod.select(['coefficients']\n",
    "                                          ).arrayFlatten(bandNames)\n",
    "\n",
    "        m.add_ee_layer(robustFittedImage, {\"bands\": [\"time_NDVI\"],\n",
    "                                           \"palette\": [\"white\", \"green\"]},\n",
    "                                          \"{} Fitted NDVI\".format(region))\n",
    "\n",
    "    m.add_child(folium.LayerControl())\n",
    "    print(start + \" - \" + end)\n",
    "    display(m)\n",
    "    print(\"\\n \\n\")"
   ]
  },
  {
   "cell_type": "markdown",
   "metadata": {
    "id": "my8gxXbn1_WE"
   },
   "source": [
    "### Appendix\n",
    "extra code"
   ]
  },
  {
   "cell_type": "code",
   "execution_count": null,
   "metadata": {
    "id": "fhHcKZPU2Dr5"
   },
   "outputs": [],
   "source": [
    "# # 2019 monthly NDVI, EVI\n",
    "# monthlyVI = monthlyMosaic.map(lambda x: calcVI(ee.Image(x)))\n",
    "# for i in range(1):\n",
    "#   image = ee.Image(monthlyVI.get(i))\n",
    "#   m = folium.Map(location=madagascarCenter, zoom_start=5.6)\n",
    "#   m.add_ee_layer(image, {\"bands\": [\"NDVI\"], \n",
    "#                          \"min\": -0.2, \"max\": 1,\n",
    "#                          \"palette\": [\"white\", \"green\"]},\n",
    "#                  \"NDVI\")\n",
    "\n",
    "#   m.add_ee_layer(image, {\"bands\": [\"EVI\"], \n",
    "#                          \"min\": -0.2, \"max\": 1,\n",
    "#                          \"palette\": [\"white\", \"green\"]},\n",
    "#                  \"EVI\")\n",
    "  \n",
    "#   m.add_child(folium.LayerControl())\n",
    "  \n",
    "#   print(\"{}/19\".format(i+1) + \"\\n\")\n",
    "#   display(m)\n",
    "#   print(\"\\n\")"
   ]
  },
  {
   "cell_type": "code",
   "execution_count": 187,
   "metadata": {
    "id": "md8KoRjy2D6l"
   },
   "outputs": [],
   "source": [
    "# # 2019 monthly sentinel composite images with cloud masking\n",
    "# maskedImages = ee.List([])\n",
    "# for i in range(len(months2019)):\n",
    "#   startDate, endDate = months2019[i][0], months2019[i][1]\n",
    "#   s2_sr_collection = get_s2_sr_cld_col(subset, startDate, endDate)\n",
    "#   maskedImages = maskedImages.add(s2_sr_collection.map(add_cld_shdw_mask\n",
    "#                                 ).map(apply_cld_shdw_mask\n",
    "#                                 ).median())\n",
    "\n",
    "# # gifParams_3 = {\n",
    "# #   'dimensions': 1000,\n",
    "# #   'framesPerSecond': 1,\n",
    "# #   \"region\": madagascar,\n",
    "# #   \"min\": 0, \"max\": 2500,\n",
    "# #   \"gamma\": 1.1\n",
    "# # }\n",
    "\n",
    "# # maskedURL = ee.ImageCollection(maskedImages).select(\"B4\", \"B3\", \"B2\").getVideoThumbURL(gifParams_3)\n",
    "# # urllib.request.urlretrieve(maskedURL, \"gifs/madagascarMaskedImages_2019.gif\")"
   ]
  },
  {
   "cell_type": "code",
   "execution_count": null,
   "metadata": {
    "id": "zNbfkOYFGp2I"
   },
   "outputs": [],
   "source": [
    "# 2019 monthly composite sentinel images with cloud masking and kernel reducer\n",
    "\n",
    "# for i in range(len(months2019)):\n",
    "#   startDate, endDate = months2019[i][0], months2019[i][1]\n",
    "#   s2_sr_collection = get_s2_sr_cld_col(subset, startDate, endDate)\n",
    "#   demo = s2_sr_collection.map(add_cld_shdw_mask\n",
    "#                         ).map(apply_cld_shdw_mask\n",
    "#                         ).map(lambda x: x.reduceNeighborhood(reducer = ee.Reducer.mean(),\n",
    "#                                                              kernel = ee.Kernel.circle(3))\n",
    "#                         ).median()\n",
    "\n",
    "#   m = folium.Map(location=subsetCenter, zoom_start=10)\n",
    "\n",
    "#   m.add_ee_layer(demo,\n",
    "#                 {'bands': ['B4_mean', 'B3_mean', 'B2_mean'],\n",
    "#                  \"min\": -100, \"max\": 2500, \"gamma\": 1.1},\n",
    "#                 #  'gamma': [1.1, 1.3, 0.9]},\n",
    "#                  'S2 cloud-free mosaic', True, 1, 9)\n",
    "\n",
    "#   m.add_child(folium.LayerControl())\n",
    "#   print(startDate + \" - \" + endDate)\n",
    "#   display(m)\n",
    "#   print(\"\\n \\n\")"
   ]
  },
  {
   "cell_type": "code",
   "execution_count": 38,
   "metadata": {
    "colab": {
     "base_uri": "https://localhost:8080/",
     "height": 34
    },
    "id": "xaDfua6gW4Sd",
    "outputId": "51da2f8b-9560-49d8-abf9-08bca47324ec"
   },
   "outputs": [],
   "source": [
    "# import subprocess\n",
    "\n",
    "# try:\n",
    "#     import geemap\n",
    "# except ImportError:\n",
    "#     print('Installing geemap ...')\n",
    "#     subprocess.check_call([\"python\", '-m', 'pip', 'install', 'geemap'])\n",
    "# import geemap\n"
   ]
  },
  {
   "cell_type": "code",
   "execution_count": 39,
   "metadata": {
    "colab": {
     "base_uri": "https://localhost:8080/",
     "height": 621,
     "referenced_widgets": [
      "7fc3f4b956614c3aa63ec75bc7823e70",
      "5f77dd90b829466695bee82c0799a008",
      "4c8f672aa2f84c5ca9055f671204929d",
      "ae522718af2340fc85091339b710c08d",
      "27cb42eff5574197ab594dd29681ac6a",
      "f89eadc5d002483b91f558e62ffe4956",
      "cbf7e9232f7a4cbd9e79c3b3adbeea38",
      "9c6ffed184884399b115ec2fdb7724cf",
      "703d0883fac449ed99575fec170d2b5f",
      "db01cbb6936b4c69a25b261e2b1aee16",
      "801db9db76754e43998b176526ca0624",
      "f38d3a6de8a141669a8c573a13030a73",
      "10a224b90e154bad940b4ca465a46acb",
      "95b449a7d5f84b4994993ec3fcdde704",
      "2e0c2a8c8760486ab96e55aaa114c972",
      "e1662d0099234f50bafb983749014101",
      "894b1f7301614e0ea7cd567dd15686d2",
      "b1237493aefb46e5a2fefa5ad7f804fc",
      "91a89bcc20ba4a85bb14ba2ffb76bd91",
      "79999e39fbc24c37a4741354e3c12fe7",
      "8b30a88bf11c4eeb83df852bfc519667",
      "32d14590388e466581bebb8377b72011",
      "a55d1c8224514e9b916a0e1e9a0b298b",
      "030b80182326479984817b983f938a59",
      "e060267649884d4caa1061ae92785adc",
      "692427dbf23d47edb5ca2e2861f22329"
     ]
    },
    "id": "JjG2ERIWFxd6",
    "outputId": "7eb47846-9b4d-45d5-cf14-f32e1fc5b457"
   },
   "outputs": [],
   "source": [
    "# Map = geemap.Map(center=[40,-100], zoom=4)\n",
    "# Map"
   ]
  },
  {
   "cell_type": "code",
   "execution_count": null,
   "metadata": {
    "id": "AiMvHAKhW4U9"
   },
   "outputs": [],
   "source": [
    "# Add Earth Engine dataset\n",
    "# # Input imagery is a cloud-free Landsat 8 composite.\n",
    "# l8 = ee.ImageCollection('LANDSAT/LC08/C01/T1')\n",
    "\n",
    "# image = ee.Algorithms.Landsat.simpleComposite(**{\n",
    "#   'collection': l8.filterDate('2018-01-01', '2018-12-31'),\n",
    "#   'asFloat': True\n",
    "# })\n",
    "\n",
    "# # Use these bands for prediction.\n",
    "# bands = ['B2', 'B3', 'B4', 'B5', 'B6', 'B7', 'B10', 'B11']\n",
    "\n",
    "# # Load training points. The numeric property 'class' stores known labels.\n",
    "# points = ee.FeatureCollection('GOOGLE/EE/DEMOS/demo_landcover_labels')\n",
    "\n",
    "# # This property of the table stores the land cover labels.\n",
    "# label = 'landcover'\n",
    "\n",
    "# # Overlay the points on the imagery to get training.\n",
    "# training = image.select(bands).sampleRegions(**{\n",
    "#   'collection': points,\n",
    "#   'properties': [label],\n",
    "#   'scale': 30\n",
    "# })\n",
    "\n",
    "# # Train a CART classifier with default parameters.\n",
    "# trained = ee.Classifier.smileCart().train(training, label, bands)\n",
    "\n",
    "# # Classify the image with the same bands used for training.\n",
    "# classified = image.select(bands).classify(trained)\n",
    "\n",
    "# # Display the inputs and the results.\n",
    "# Map.centerObject(points, 11)\n",
    "# Map.addLayer(image, {'bands': ['B4', 'B3', 'B2'], 'max': 0.4}, 'image')\n",
    "# Map.addLayer(classified,\n",
    "#              {'min': 0, 'max': 2, 'palette': ['red', 'green', 'blue']},\n",
    "#              'classification')"
   ]
  },
  {
   "cell_type": "code",
   "execution_count": 40,
   "metadata": {
    "colab": {
     "base_uri": "https://localhost:8080/",
     "height": 621,
     "referenced_widgets": [
      "eff9814426cd4fed832f5f8799a1faee",
      "ca18df0b2e8d4af28fb2d81801733ae1",
      "ca25ac7902c04ba6a29768a6b9fb2ab3",
      "bcdf6e7ad24b427ea2533d3ff436653d",
      "9d685508e1024f2ebe18c569a63b0fe5",
      "7adca48dbacf4be49948e185d4be966d",
      "8a1811cd62f5469bab8e513ffdcadf82",
      "e147f21f46c046f3aa77a7001c0f168b",
      "3dbbff44cee74c09a29874f35522c8fc",
      "add3fa8bfcaa49cd98d3b80edfc21cfc",
      "cc3eea50de4849caadae6e473ed75a6b",
      "a86d9afca100440d8930d19ca9fc4c7f",
      "56b1ae46c4b342c0b0ec798b9d3f3f8e",
      "4092c0e5daab4f0dba638aa54004e3be",
      "ffe16703dea749fbb7f894869ddf5c85",
      "de3a08ec70d4429597bfd609bd45e5f5",
      "c655010128254e2b875860193ff9911b",
      "1d4b6e38743f434aa6fb82fe79d26d0f",
      "2616a6d85dd24147bb07b2a4023752f6",
      "fb115c37e1764f8d9e6b830e82639b51",
      "77c870da07824b2897afa0aa1cbbc9bb",
      "b63f030fc17a4115a09eb8c208de3db6",
      "b433a7ca09504f59bcacefe67fa3a9dd",
      "5f3431c238c647479ec39a0a7113d9a6",
      "a07c027dbf1142c18c31757774ddc9aa"
     ]
    },
    "id": "BKZRrVsozyn2",
    "outputId": "281835d3-8f07-4dcb-8d59-5935e82913f9"
   },
   "outputs": [],
   "source": [
    "# Map = geemap.Map(center=[40,-100], zoom=4)\n",
    "# Map"
   ]
  },
  {
   "cell_type": "code",
   "execution_count": 27,
   "metadata": {
    "colab": {
     "base_uri": "https://localhost:8080/",
     "height": 72
    },
    "id": "_c05z6KO7YIq",
    "outputId": "4c7db467-3432-4675-8cce-66351d8d73d3"
   },
   "outputs": [],
   "source": [
    "# # Add Earth Engine dataset\n",
    "# # This function adds a time band to the image.\n",
    "\n",
    "# def createTimeBand(image):\n",
    "#     return image.addBands(image.metadata('system:time_start').divide(1e18))\n",
    "\n",
    "# # createTimeBand = function(image) {\n",
    "# #   # Scale milliseconds by a large constant.\n",
    "# #   return image.addBands(image.metadata('system:time_start').divide(1e18))\n",
    "# # }\n",
    "\n",
    "# # This function adds a constant band to the image.\n",
    "# def createConstantBand(image):\n",
    "#     return ee.Image(1).addBands(image)\n",
    "# # createConstantBand = function(image) {\n",
    "# #   return ee.Image(1).addBands(image)\n",
    "# # }\n",
    "\n",
    "# # Load the input image 'collection': projected climate data.\n",
    "# collection = ee.ImageCollection('NASA/NEX-DCP30_ENSEMBLE_STATS') \\\n",
    "#   .filterDate(ee.Date('2006-01-01'), ee.Date('2099-01-01')) \\\n",
    "#   .filter(ee.Filter.eq('scenario', 'rcp85')) \\\n",
    "#   .map(createTimeBand) \\\n",
    "#   .map(createConstantBand) \\\n",
    "#   .select(['constant', 'system:time_start', 'pr_mean', 'tasmax_mean'])\n",
    "\n",
    "# # Compute ordinary least squares regression coefficients.\n",
    "# linearRegression = collection.reduce(\n",
    "#   ee.Reducer.linearRegression(**{\n",
    "#     'numX': 2,\n",
    "#     'numY': 2\n",
    "# }))\n",
    "\n",
    "# # Compute robust linear regression coefficients.\n",
    "# robustLinearRegression = collection.reduce(\n",
    "#   ee.Reducer.robustLinearRegression(**{\n",
    "#     'numX': 2,\n",
    "#     'numY': 2\n",
    "# }))\n",
    "\n",
    "# # The results are array images that must be flattened for display.\n",
    "# # These lists label the information along each axis of the arrays.\n",
    "# bandNames = [['constant', 'time'], # 0-axis variation.\n",
    "#                  ['precip', 'temp']] # 1-axis variation.\n",
    "\n",
    "# # Flatten the array images to get multi-band images according to the labels.\n",
    "# lrImage = linearRegression.select(['coefficients']).arrayFlatten(bandNames)\n",
    "# rlrImage = robustLinearRegression.select(['coefficients']).arrayFlatten(bandNames)\n",
    "\n",
    "# # Display the OLS results.\n",
    "# Map.setCenter(-100.11, 40.38, 5)\n",
    "# Map.addLayer(lrImage,\n",
    "#   {'min': 0, 'max': [-0.9, 8e-5, 1], 'bands': ['time_precip', 'constant_precip', 'time_precip']}, 'OLS')\n",
    "\n",
    "# # Compare the results at a specific point:\n",
    "# print('OLS estimates:', lrImage.reduceRegion(**{\n",
    "#   'reducer': ee.Reducer.first(),\n",
    "#   'geometry': ee.Geometry.Point([-96.0, 41.0]),\n",
    "#   'scale': 1000\n",
    "# }).getInfo())\n",
    "\n",
    "# print('Robust estimates:', rlrImage.reduceRegion(**{\n",
    "#   'reducer': ee.Reducer.first(),\n",
    "#   'geometry': ee.Geometry.Point([-96.0, 41.0]),\n",
    "#   'scale': 1000\n",
    "# }).getInfo())"
   ]
  },
  {
   "cell_type": "code",
   "execution_count": 28,
   "metadata": {
    "colab": {
     "base_uri": "https://localhost:8080/",
     "height": 621,
     "referenced_widgets": [
      "3a4c57264ad741a8aa41a533f4f24114",
      "b754450c0d96472fbedc8eeae7f05a27",
      "8742ee1d25ee48fd971a42c93d1e4e52",
      "940e40d01d644e90993fd4a9105a7eae",
      "c019b9908b724dc1bfb08dcf254642e2",
      "46e0a61ec18546a4a384fdb3c343f4df",
      "394fee2a2b984093b3ecd938a9f12879",
      "fd0a95bfbf9649079e32c8f76e4853ed",
      "5ff096a8c86c46098051c19fc84498fd",
      "48bc6fad92f64758a65357f4fbf91a3b",
      "4c41a5cea3ad4d1184b13a435a85c84e",
      "38833b1cec3242bb964ad76fd12d691d",
      "56b1ae46c4b342c0b0ec798b9d3f3f8e",
      "dec06adb1eb8481e9fb82a5829d23163",
      "2ec044c38a8543839c5e580f00c18a13",
      "d63a3dca0c5e47e49642b479f7283bb6",
      "5949cb0ba3de4ec0a1725beff8d1e7ce",
      "afc1312a90794e908887c9169508fb5c",
      "70303c8f6ebf4729b8d4aae4c88a3349",
      "9a03f0470ec54b63bc32cb85f51a543c",
      "47aa463f94784c82a45bfec41773ece7",
      "5874c863d04e416085f17345abfed36b",
      "9f959697872549dd8b1b0b71276550ce",
      "89eb7cc3f1e147f893e1443776cc4a15",
      "f907ee76fdb54bb49c6d7e2bfc10921f",
      "635af4adf1b840d5af324d5c5bf0f6d7"
     ]
    },
    "id": "cp7NwsqQKqDt",
    "outputId": "3bf5127c-cfc4-4957-c955-3c1afe52d63c"
   },
   "outputs": [],
   "source": [
    "# Map = geemap.Map(center=[40,-100], zoom=4)\n",
    "# Map"
   ]
  },
  {
   "cell_type": "code",
   "execution_count": 29,
   "metadata": {
    "colab": {
     "base_uri": "https://localhost:8080/",
     "height": 54
    },
    "id": "rBwiGgCx7YLn",
    "outputId": "23f9bd43-1e15-447e-d64d-5eb621c22a10"
   },
   "outputs": [],
   "source": [
    "\n",
    "\n",
    "# # Add Earth Engine dataset\n",
    "# # Load input imagery: Landsat 7 5-year composite.\n",
    "# image = ee.Image('LANDSAT/LE7_TOA_5YEAR/2008_2012')\n",
    "# # print(image.getInfo())\n",
    "\n",
    "# # Load an input region: Sierra Nevada.\n",
    "# region = ee.Feature(ee.FeatureCollection('EPA/Ecoregions/2013/L3') \\\n",
    "#   .filter(ee.Filter.eq('us_l3name', 'Sierra Nevada')) \\\n",
    "#   .first())\n",
    "\n",
    "# # Reduce the region. The region parameter is the Feature geometry.\n",
    "# meanDictionary = image.reduceRegion(**{\n",
    "#   'reducer': ee.Reducer.mean(),\n",
    "#   'geometry': region.geometry(),\n",
    "#   'scale': 30,\n",
    "#   'maxPixels': 1e9\n",
    "# })\n",
    "\n",
    "# # The result is a Dictionary.  Print it.\n",
    "# Map.centerObject(region, 9)\n",
    "# Map.addLayer(image, {'bands': ['B4', 'B3', 'B2']}, 'Landsat-7')\n",
    "# Map.addLayer(ee.Image().paint(region, 1, 3), {'palette': 'green'}, 'Mean Image')\n",
    "# print(meanDictionary.getInfo())"
   ]
  },
  {
   "cell_type": "code",
   "execution_count": null,
   "metadata": {},
   "outputs": [],
   "source": []
  }
 ],
 "metadata": {
  "colab": {
   "collapsed_sections": [],
   "name": "dsc180EE.ipynb",
   "provenance": []
  },
  "kernelspec": {
   "display_name": "Python 3",
   "language": "python",
   "name": "python3"
  },
  "language_info": {
   "codemirror_mode": {
    "name": "ipython",
    "version": 3
   },
   "file_extension": ".py",
   "mimetype": "text/x-python",
   "name": "python",
   "nbconvert_exporter": "python",
   "pygments_lexer": "ipython3",
   "version": "3.9.2"
  },
  "widgets": {
   "application/vnd.jupyter.widget-state+json": {
    "030b80182326479984817b983f938a59": {
     "model_module": "@jupyter-widgets/controls",
     "model_module_version": "1.5.0",
     "model_name": "DescriptionStyleModel",
     "state": {
      "_model_module": "@jupyter-widgets/controls",
      "_model_module_version": "1.5.0",
      "_model_name": "DescriptionStyleModel",
      "_view_count": null,
      "_view_module": "@jupyter-widgets/base",
      "_view_module_version": "1.2.0",
      "_view_name": "StyleView",
      "description_width": ""
     }
    },
    "10a224b90e154bad940b4ca465a46acb": {
     "model_module": "jupyter-leaflet",
     "model_module_version": "^0.14.0",
     "model_name": "LeafletTileLayerModel",
     "state": {
      "_model_module": "jupyter-leaflet",
      "_model_module_version": "^0.14.0",
      "_model_name": "LeafletTileLayerModel",
      "_view_count": null,
      "_view_module": "jupyter-leaflet",
      "_view_module_version": "^0.14.0",
      "_view_name": "LeafletTileLayerView",
      "attribution": "Google",
      "base": false,
      "bottom": true,
      "detect_retina": false,
      "loading": false,
      "max_native_zoom": 18,
      "max_zoom": 24,
      "min_native_zoom": 0,
      "min_zoom": 0,
      "name": "Google Maps",
      "no_wrap": false,
      "opacity": 1,
      "options": [
       "attribution",
       "detect_retina",
       "max_native_zoom",
       "max_zoom",
       "min_native_zoom",
       "min_zoom",
       "no_wrap",
       "tile_size",
       "tms"
      ],
      "popup": null,
      "popup_max_height": null,
      "popup_max_width": 300,
      "popup_min_width": 50,
      "show_loading": false,
      "tile_size": 256,
      "tms": false,
      "url": "https://mt1.google.com/vt/lyrs=m&x={x}&y={y}&z={z}",
      "visible": true
     }
    },
    "1d4b6e38743f434aa6fb82fe79d26d0f": {
     "model_module": "@jupyter-widgets/controls",
     "model_module_version": "1.5.0",
     "model_name": "ToggleButtonModel",
     "state": {
      "_dom_classes": [],
      "_model_module": "@jupyter-widgets/controls",
      "_model_module_version": "1.5.0",
      "_model_name": "ToggleButtonModel",
      "_view_count": null,
      "_view_module": "@jupyter-widgets/controls",
      "_view_module_version": "1.5.0",
      "_view_name": "ToggleButtonView",
      "button_style": "",
      "description": "",
      "description_tooltip": null,
      "disabled": false,
      "icon": "globe",
      "layout": "IPY_MODEL_b63f030fc17a4115a09eb8c208de3db6",
      "style": "IPY_MODEL_b433a7ca09504f59bcacefe67fa3a9dd",
      "tooltip": "Search location/data",
      "value": false
     }
    },
    "2616a6d85dd24147bb07b2a4023752f6": {
     "model_module": "@jupyter-widgets/base",
     "model_module_version": "1.2.0",
     "model_name": "LayoutModel",
     "state": {
      "_model_module": "@jupyter-widgets/base",
      "_model_module_version": "1.2.0",
      "_model_name": "LayoutModel",
      "_view_count": null,
      "_view_module": "@jupyter-widgets/base",
      "_view_module_version": "1.2.0",
      "_view_name": "LayoutView",
      "align_content": null,
      "align_items": null,
      "align_self": null,
      "border": null,
      "bottom": null,
      "display": null,
      "flex": null,
      "flex_flow": null,
      "grid_area": null,
      "grid_auto_columns": null,
      "grid_auto_flow": null,
      "grid_auto_rows": null,
      "grid_column": null,
      "grid_gap": null,
      "grid_row": null,
      "grid_template_areas": null,
      "grid_template_columns": null,
      "grid_template_rows": null,
      "height": null,
      "justify_content": null,
      "justify_items": null,
      "left": null,
      "margin": null,
      "max_height": null,
      "max_width": null,
      "min_height": null,
      "min_width": null,
      "object_fit": null,
      "object_position": null,
      "order": null,
      "overflow": null,
      "overflow_x": null,
      "overflow_y": null,
      "padding": null,
      "right": null,
      "top": null,
      "visibility": null,
      "width": null
     }
    },
    "27cb42eff5574197ab594dd29681ac6a": {
     "model_module": "jupyter-leaflet",
     "model_module_version": "^0.14.0",
     "model_name": "LeafletFullScreenControlModel",
     "state": {
      "_model_module": "jupyter-leaflet",
      "_model_module_version": "^0.14.0",
      "_model_name": "LeafletFullScreenControlModel",
      "_view_count": null,
      "_view_module": "jupyter-leaflet",
      "_view_module_version": "^0.14.0",
      "_view_name": "LeafletFullScreenControlView",
      "options": [
       "position"
      ],
      "position": "topleft"
     }
    },
    "2e0c2a8c8760486ab96e55aaa114c972": {
     "model_module": "jupyter-leaflet",
     "model_module_version": "^0.14.0",
     "model_name": "LeafletTileLayerModel",
     "state": {
      "_model_module": "jupyter-leaflet",
      "_model_module_version": "^0.14.0",
      "_model_name": "LeafletTileLayerModel",
      "_view_count": null,
      "_view_module": "jupyter-leaflet",
      "_view_module_version": "^0.14.0",
      "_view_name": "LeafletTileLayerView",
      "attribution": "Google Earth Engine",
      "base": false,
      "bottom": true,
      "detect_retina": false,
      "loading": false,
      "max_native_zoom": 18,
      "max_zoom": 24,
      "min_native_zoom": 0,
      "min_zoom": 0,
      "name": "classification",
      "no_wrap": false,
      "opacity": 1,
      "options": [
       "attribution",
       "detect_retina",
       "max_native_zoom",
       "max_zoom",
       "min_native_zoom",
       "min_zoom",
       "no_wrap",
       "tile_size",
       "tms"
      ],
      "popup": null,
      "popup_max_height": null,
      "popup_max_width": 300,
      "popup_min_width": 50,
      "show_loading": false,
      "tile_size": 256,
      "tms": false,
      "url": "https://earthengine.googleapis.com/v1alpha/projects/earthengine-legacy/maps/0b926ecc2c37f5f6de32c65899b4548f-225dd06709fcf7717f2980de84fe6d48/tiles/{z}/{x}/{y}",
      "visible": true
     }
    },
    "2ec044c38a8543839c5e580f00c18a13": {
     "model_module": "jupyter-leaflet",
     "model_module_version": "^0.14.0",
     "model_name": "LeafletTileLayerModel",
     "state": {
      "_model_module": "jupyter-leaflet",
      "_model_module_version": "^0.14.0",
      "_model_name": "LeafletTileLayerModel",
      "_view_count": null,
      "_view_module": "jupyter-leaflet",
      "_view_module_version": "^0.14.0",
      "_view_name": "LeafletTileLayerView",
      "attribution": "Google Earth Engine",
      "base": false,
      "bottom": true,
      "detect_retina": false,
      "loading": false,
      "max_native_zoom": 18,
      "max_zoom": 24,
      "min_native_zoom": 0,
      "min_zoom": 0,
      "name": "Mean Image",
      "no_wrap": false,
      "opacity": 1,
      "options": [
       "attribution",
       "detect_retina",
       "max_native_zoom",
       "max_zoom",
       "min_native_zoom",
       "min_zoom",
       "no_wrap",
       "tile_size",
       "tms"
      ],
      "popup": null,
      "popup_max_height": null,
      "popup_max_width": 300,
      "popup_min_width": 50,
      "show_loading": false,
      "tile_size": 256,
      "tms": false,
      "url": "https://earthengine.googleapis.com/v1alpha/projects/earthengine-legacy/maps/6d9d60d6d5ff2af7b8162cc05ff327a8-aeda7a9b17310f6a80d20e0bc20f0fcb/tiles/{z}/{x}/{y}",
      "visible": true
     }
    },
    "32d14590388e466581bebb8377b72011": {
     "model_module": "@jupyter-widgets/base",
     "model_module_version": "1.2.0",
     "model_name": "LayoutModel",
     "state": {
      "_model_module": "@jupyter-widgets/base",
      "_model_module_version": "1.2.0",
      "_model_name": "LayoutModel",
      "_view_count": null,
      "_view_module": "@jupyter-widgets/base",
      "_view_module_version": "1.2.0",
      "_view_name": "LayoutView",
      "align_content": null,
      "align_items": null,
      "align_self": null,
      "border": null,
      "bottom": null,
      "display": null,
      "flex": null,
      "flex_flow": null,
      "grid_area": null,
      "grid_auto_columns": null,
      "grid_auto_flow": null,
      "grid_auto_rows": null,
      "grid_column": null,
      "grid_gap": null,
      "grid_row": null,
      "grid_template_areas": null,
      "grid_template_columns": null,
      "grid_template_rows": null,
      "height": null,
      "justify_content": null,
      "justify_items": null,
      "left": null,
      "margin": null,
      "max_height": null,
      "max_width": null,
      "min_height": null,
      "min_width": null,
      "object_fit": null,
      "object_position": null,
      "order": null,
      "overflow": null,
      "overflow_x": null,
      "overflow_y": null,
      "padding": null,
      "right": null,
      "top": null,
      "visibility": null,
      "width": null
     }
    },
    "38833b1cec3242bb964ad76fd12d691d": {
     "model_module": "jupyter-leaflet",
     "model_module_version": "^0.14.0",
     "model_name": "LeafletTileLayerModel",
     "state": {
      "_model_module": "jupyter-leaflet",
      "_model_module_version": "^0.14.0",
      "_model_name": "LeafletTileLayerModel",
      "_view_count": null,
      "_view_module": "jupyter-leaflet",
      "_view_module_version": "^0.14.0",
      "_view_name": "LeafletTileLayerView",
      "attribution": "Map data (c) <a href=\"https://openstreetmap.org\">OpenStreetMap</a> contributors",
      "base": true,
      "bottom": true,
      "detect_retina": false,
      "loading": false,
      "max_native_zoom": 18,
      "max_zoom": 19,
      "min_native_zoom": 0,
      "min_zoom": 1,
      "name": "",
      "no_wrap": false,
      "opacity": 1,
      "options": [
       "attribution",
       "detect_retina",
       "max_native_zoom",
       "max_zoom",
       "min_native_zoom",
       "min_zoom",
       "no_wrap",
       "tile_size",
       "tms"
      ],
      "popup": null,
      "popup_max_height": null,
      "popup_max_width": 300,
      "popup_min_width": 50,
      "show_loading": false,
      "tile_size": 256,
      "tms": false,
      "url": "https://{s}.tile.openstreetmap.org/{z}/{x}/{y}.png",
      "visible": true
     }
    },
    "394fee2a2b984093b3ecd938a9f12879": {
     "model_module": "jupyter-leaflet",
     "model_module_version": "^0.14.0",
     "model_name": "LeafletAttributionControlModel",
     "state": {
      "_model_module": "jupyter-leaflet",
      "_model_module_version": "^0.14.0",
      "_model_name": "LeafletAttributionControlModel",
      "_view_count": null,
      "_view_module": "jupyter-leaflet",
      "_view_module_version": "^0.14.0",
      "_view_name": "LeafletAttributionControlView",
      "options": [
       "position",
       "prefix"
      ],
      "position": "bottomright",
      "prefix": "ipyleaflet"
     }
    },
    "3a4c57264ad741a8aa41a533f4f24114": {
     "model_module": "jupyter-leaflet",
     "model_module_version": "^0.14.0",
     "model_name": "LeafletMapModel",
     "state": {
      "_dom_classes": [],
      "_dragging": false,
      "_model_module": "jupyter-leaflet",
      "_model_module_version": "^0.14.0",
      "_model_name": "LeafletMapModel",
      "_view_count": null,
      "_view_module": "jupyter-leaflet",
      "_view_module_version": "^0.14.0",
      "_view_name": "LeafletMapView",
      "bottom": 50870,
      "bounce_at_zoom_limits": true,
      "box_zoom": true,
      "center": [
       37.974369452311166,
       -119.64163774091024
      ],
      "close_popup_on_click": true,
      "controls": [
       "IPY_MODEL_b754450c0d96472fbedc8eeae7f05a27",
       "IPY_MODEL_8742ee1d25ee48fd971a42c93d1e4e52",
       "IPY_MODEL_940e40d01d644e90993fd4a9105a7eae",
       "IPY_MODEL_c019b9908b724dc1bfb08dcf254642e2",
       "IPY_MODEL_46e0a61ec18546a4a384fdb3c343f4df",
       "IPY_MODEL_394fee2a2b984093b3ecd938a9f12879",
       "IPY_MODEL_fd0a95bfbf9649079e32c8f76e4853ed",
       "IPY_MODEL_5ff096a8c86c46098051c19fc84498fd"
      ],
      "crs": {
       "custom": false,
       "name": "EPSG3857"
      },
      "default_style": "IPY_MODEL_48bc6fad92f64758a65357f4fbf91a3b",
      "double_click_zoom": true,
      "dragging": true,
      "dragging_style": "IPY_MODEL_4c41a5cea3ad4d1184b13a435a85c84e",
      "east": -117.94647216796876,
      "fullscreen": false,
      "inertia": true,
      "inertia_deceleration": 3000,
      "inertia_max_speed": 1500,
      "interpolation": "bilinear",
      "keyboard": true,
      "keyboard_pan_offset": 80,
      "keyboard_zoom_offset": 1,
      "layers": [
       "IPY_MODEL_38833b1cec3242bb964ad76fd12d691d",
       "IPY_MODEL_56b1ae46c4b342c0b0ec798b9d3f3f8e",
       "IPY_MODEL_dec06adb1eb8481e9fb82a5829d23163",
       "IPY_MODEL_2ec044c38a8543839c5e580f00c18a13"
      ],
      "layout": "IPY_MODEL_d63a3dca0c5e47e49642b479f7283bb6",
      "left": 21358,
      "max_zoom": 24,
      "min_zoom": 1,
      "modisdate": "yesterday",
      "north": 38.62116234642254,
      "options": [
       "bounce_at_zoom_limits",
       "box_zoom",
       "center",
       "close_popup_on_click",
       "double_click_zoom",
       "dragging",
       "fullscreen",
       "inertia",
       "inertia_deceleration",
       "inertia_max_speed",
       "interpolation",
       "keyboard",
       "keyboard_pan_offset",
       "keyboard_zoom_offset",
       "max_zoom",
       "min_zoom",
       "scroll_wheel_zoom",
       "tap",
       "tap_tolerance",
       "touch_zoom",
       "world_copy_jump",
       "zoom",
       "zoom_animation_threshold",
       "zoom_delta",
       "zoom_snap",
       "zoom_start"
      ],
      "right": 22593,
      "scroll_wheel_zoom": true,
      "south": 37.322120359451766,
      "style": "IPY_MODEL_48bc6fad92f64758a65357f4fbf91a3b",
      "tap": true,
      "tap_tolerance": 15,
      "top": 50270,
      "touch_zoom": true,
      "west": -121.33850097656251,
      "window_url": "https://qzh1kly8xj-496ff2e9c6d22116-0-colab.googleusercontent.com/outputframe.html?vrz=colab-20211119-060052-RC02_411328912",
      "world_copy_jump": false,
      "zoom": 9,
      "zoom_animation_threshold": 4,
      "zoom_delta": 1,
      "zoom_snap": 1,
      "zoom_start": 12
     }
    },
    "3dbbff44cee74c09a29874f35522c8fc": {
     "model_module": "jupyter-leaflet",
     "model_module_version": "^0.14.0",
     "model_name": "LeafletWidgetControlModel",
     "state": {
      "_model_module": "jupyter-leaflet",
      "_model_module_version": "^0.14.0",
      "_model_name": "LeafletWidgetControlModel",
      "_view_count": null,
      "_view_module": "jupyter-leaflet",
      "_view_module_version": "^0.14.0",
      "_view_name": "LeafletWidgetControlView",
      "max_height": null,
      "max_width": null,
      "min_height": null,
      "min_width": null,
      "options": [
       "position",
       "transparent_bg"
      ],
      "position": "topright",
      "transparent_bg": false,
      "widget": "IPY_MODEL_c655010128254e2b875860193ff9911b"
     }
    },
    "4092c0e5daab4f0dba638aa54004e3be": {
     "model_module": "jupyter-leaflet",
     "model_module_version": "^0.14.0",
     "model_name": "LeafletTileLayerModel",
     "state": {
      "_model_module": "jupyter-leaflet",
      "_model_module_version": "^0.14.0",
      "_model_name": "LeafletTileLayerModel",
      "_view_count": null,
      "_view_module": "jupyter-leaflet",
      "_view_module_version": "^0.14.0",
      "_view_name": "LeafletTileLayerView",
      "attribution": "Google Earth Engine",
      "base": false,
      "bottom": true,
      "detect_retina": false,
      "loading": false,
      "max_native_zoom": 18,
      "max_zoom": 24,
      "min_native_zoom": 0,
      "min_zoom": 0,
      "name": "OLS",
      "no_wrap": false,
      "opacity": 1,
      "options": [
       "attribution",
       "detect_retina",
       "max_native_zoom",
       "max_zoom",
       "min_native_zoom",
       "min_zoom",
       "no_wrap",
       "tile_size",
       "tms"
      ],
      "popup": null,
      "popup_max_height": null,
      "popup_max_width": 300,
      "popup_min_width": 50,
      "show_loading": false,
      "tile_size": 256,
      "tms": false,
      "url": "https://earthengine.googleapis.com/v1alpha/projects/earthengine-legacy/maps/05bef5d6d4fe326cc96cb1416c1506a2-1e1d2da2a1881fdf0041e3f5a82e3eee/tiles/{z}/{x}/{y}",
      "visible": true
     }
    },
    "46e0a61ec18546a4a384fdb3c343f4df": {
     "model_module": "jupyter-leaflet",
     "model_module_version": "^0.14.0",
     "model_name": "LeafletMeasureControlModel",
     "state": {
      "_custom_units": {},
      "_model_module": "jupyter-leaflet",
      "_model_module_version": "^0.14.0",
      "_model_name": "LeafletMeasureControlModel",
      "_view_count": null,
      "_view_module": "jupyter-leaflet",
      "_view_module_version": "^0.14.0",
      "_view_name": "LeafletMeasureControlView",
      "active_color": "orange",
      "capture_z_index": 10000,
      "completed_color": "#C8F2BE",
      "options": [
       "active_color",
       "capture_z_index",
       "completed_color",
       "popup_options",
       "position",
       "primary_area_unit",
       "primary_length_unit",
       "secondary_area_unit",
       "secondary_length_unit"
      ],
      "popup_options": {
       "autoPanPadding": [
        10,
        10
       ],
       "className": "leaflet-measure-resultpopup"
      },
      "position": "bottomleft",
      "primary_area_unit": "acres",
      "primary_length_unit": "kilometers",
      "secondary_area_unit": null,
      "secondary_length_unit": null
     }
    },
    "47aa463f94784c82a45bfec41773ece7": {
     "model_module": "@jupyter-widgets/controls",
     "model_module_version": "1.5.0",
     "model_name": "ToggleButtonModel",
     "state": {
      "_dom_classes": [],
      "_model_module": "@jupyter-widgets/controls",
      "_model_module_version": "1.5.0",
      "_model_name": "ToggleButtonModel",
      "_view_count": null,
      "_view_module": "@jupyter-widgets/controls",
      "_view_module_version": "1.5.0",
      "_view_name": "ToggleButtonView",
      "button_style": "",
      "description": "",
      "description_tooltip": null,
      "disabled": false,
      "icon": "wrench",
      "layout": "IPY_MODEL_f907ee76fdb54bb49c6d7e2bfc10921f",
      "style": "IPY_MODEL_635af4adf1b840d5af324d5c5bf0f6d7",
      "tooltip": "Toolbar",
      "value": false
     }
    },
    "48bc6fad92f64758a65357f4fbf91a3b": {
     "model_module": "jupyter-leaflet",
     "model_module_version": "^0.14.0",
     "model_name": "LeafletMapStyleModel",
     "state": {
      "_model_module": "jupyter-leaflet",
      "_model_module_version": "^0.14.0",
      "_model_name": "LeafletMapStyleModel",
      "_view_count": null,
      "_view_module": "@jupyter-widgets/base",
      "_view_module_version": "1.2.0",
      "_view_name": "StyleView",
      "cursor": "grab"
     }
    },
    "4c41a5cea3ad4d1184b13a435a85c84e": {
     "model_module": "jupyter-leaflet",
     "model_module_version": "^0.14.0",
     "model_name": "LeafletMapStyleModel",
     "state": {
      "_model_module": "jupyter-leaflet",
      "_model_module_version": "^0.14.0",
      "_model_name": "LeafletMapStyleModel",
      "_view_count": null,
      "_view_module": "@jupyter-widgets/base",
      "_view_module_version": "1.2.0",
      "_view_name": "StyleView",
      "cursor": "move"
     }
    },
    "4c8f672aa2f84c5ca9055f671204929d": {
     "model_module": "jupyter-leaflet",
     "model_module_version": "^0.14.0",
     "model_name": "LeafletZoomControlModel",
     "state": {
      "_model_module": "jupyter-leaflet",
      "_model_module_version": "^0.14.0",
      "_model_name": "LeafletZoomControlModel",
      "_view_count": null,
      "_view_module": "jupyter-leaflet",
      "_view_module_version": "^0.14.0",
      "_view_name": "LeafletZoomControlView",
      "options": [
       "position",
       "zoom_in_text",
       "zoom_in_title",
       "zoom_out_text",
       "zoom_out_title"
      ],
      "position": "topleft",
      "zoom_in_text": "+",
      "zoom_in_title": "Zoom in",
      "zoom_out_text": "-",
      "zoom_out_title": "Zoom out"
     }
    },
    "56b1ae46c4b342c0b0ec798b9d3f3f8e": {
     "model_module": "jupyter-leaflet",
     "model_module_version": "^0.14.0",
     "model_name": "LeafletTileLayerModel",
     "state": {
      "_model_module": "jupyter-leaflet",
      "_model_module_version": "^0.14.0",
      "_model_name": "LeafletTileLayerModel",
      "_view_count": null,
      "_view_module": "jupyter-leaflet",
      "_view_module_version": "^0.14.0",
      "_view_name": "LeafletTileLayerView",
      "attribution": "Google",
      "base": false,
      "bottom": true,
      "detect_retina": false,
      "loading": false,
      "max_native_zoom": 18,
      "max_zoom": 24,
      "min_native_zoom": 0,
      "min_zoom": 0,
      "name": "Google Maps",
      "no_wrap": false,
      "opacity": 1,
      "options": [
       "attribution",
       "detect_retina",
       "max_native_zoom",
       "max_zoom",
       "min_native_zoom",
       "min_zoom",
       "no_wrap",
       "tile_size",
       "tms"
      ],
      "popup": null,
      "popup_max_height": null,
      "popup_max_width": 300,
      "popup_min_width": 50,
      "show_loading": false,
      "tile_size": 256,
      "tms": false,
      "url": "https://mt1.google.com/vt/lyrs=m&x={x}&y={y}&z={z}",
      "visible": true
     }
    },
    "5874c863d04e416085f17345abfed36b": {
     "model_module": "@jupyter-widgets/base",
     "model_module_version": "1.2.0",
     "model_name": "LayoutModel",
     "state": {
      "_model_module": "@jupyter-widgets/base",
      "_model_module_version": "1.2.0",
      "_model_name": "LayoutModel",
      "_view_count": null,
      "_view_module": "@jupyter-widgets/base",
      "_view_module_version": "1.2.0",
      "_view_name": "LayoutView",
      "align_content": null,
      "align_items": null,
      "align_self": null,
      "border": null,
      "bottom": null,
      "display": null,
      "flex": null,
      "flex_flow": null,
      "grid_area": null,
      "grid_auto_columns": null,
      "grid_auto_flow": null,
      "grid_auto_rows": null,
      "grid_column": null,
      "grid_gap": null,
      "grid_row": null,
      "grid_template_areas": null,
      "grid_template_columns": null,
      "grid_template_rows": null,
      "height": null,
      "justify_content": null,
      "justify_items": null,
      "left": null,
      "margin": null,
      "max_height": null,
      "max_width": null,
      "min_height": null,
      "min_width": null,
      "object_fit": null,
      "object_position": null,
      "order": null,
      "overflow": null,
      "overflow_x": null,
      "overflow_y": null,
      "padding": null,
      "right": null,
      "top": null,
      "visibility": null,
      "width": null
     }
    },
    "5949cb0ba3de4ec0a1725beff8d1e7ce": {
     "model_module": "@jupyter-widgets/controls",
     "model_module_version": "1.5.0",
     "model_name": "HBoxModel",
     "state": {
      "_dom_classes": [],
      "_model_module": "@jupyter-widgets/controls",
      "_model_module_version": "1.5.0",
      "_model_name": "HBoxModel",
      "_view_count": null,
      "_view_module": "@jupyter-widgets/controls",
      "_view_module_version": "1.5.0",
      "_view_name": "HBoxView",
      "box_style": "",
      "children": [
       "IPY_MODEL_70303c8f6ebf4729b8d4aae4c88a3349"
      ],
      "layout": "IPY_MODEL_9a03f0470ec54b63bc32cb85f51a543c"
     }
    },
    "5f3431c238c647479ec39a0a7113d9a6": {
     "model_module": "@jupyter-widgets/base",
     "model_module_version": "1.2.0",
     "model_name": "LayoutModel",
     "state": {
      "_model_module": "@jupyter-widgets/base",
      "_model_module_version": "1.2.0",
      "_model_name": "LayoutModel",
      "_view_count": null,
      "_view_module": "@jupyter-widgets/base",
      "_view_module_version": "1.2.0",
      "_view_name": "LayoutView",
      "align_content": null,
      "align_items": null,
      "align_self": null,
      "border": null,
      "bottom": null,
      "display": null,
      "flex": null,
      "flex_flow": null,
      "grid_area": null,
      "grid_auto_columns": null,
      "grid_auto_flow": null,
      "grid_auto_rows": null,
      "grid_column": null,
      "grid_gap": null,
      "grid_row": null,
      "grid_template_areas": null,
      "grid_template_columns": null,
      "grid_template_rows": null,
      "height": "28px",
      "justify_content": null,
      "justify_items": null,
      "left": null,
      "margin": null,
      "max_height": null,
      "max_width": null,
      "min_height": null,
      "min_width": null,
      "object_fit": null,
      "object_position": null,
      "order": null,
      "overflow": null,
      "overflow_x": null,
      "overflow_y": null,
      "padding": "0px 0px 0px 4px",
      "right": null,
      "top": null,
      "visibility": null,
      "width": "28px"
     }
    },
    "5f77dd90b829466695bee82c0799a008": {
     "model_module": "jupyter-leaflet",
     "model_module_version": "^0.14.0",
     "model_name": "LeafletWidgetControlModel",
     "state": {
      "_model_module": "jupyter-leaflet",
      "_model_module_version": "^0.14.0",
      "_model_name": "LeafletWidgetControlModel",
      "_view_count": null,
      "_view_module": "jupyter-leaflet",
      "_view_module_version": "^0.14.0",
      "_view_name": "LeafletWidgetControlView",
      "max_height": null,
      "max_width": null,
      "min_height": null,
      "min_width": null,
      "options": [
       "position",
       "transparent_bg"
      ],
      "position": "topleft",
      "transparent_bg": false,
      "widget": "IPY_MODEL_894b1f7301614e0ea7cd567dd15686d2"
     }
    },
    "5ff096a8c86c46098051c19fc84498fd": {
     "model_module": "jupyter-leaflet",
     "model_module_version": "^0.14.0",
     "model_name": "LeafletWidgetControlModel",
     "state": {
      "_model_module": "jupyter-leaflet",
      "_model_module_version": "^0.14.0",
      "_model_name": "LeafletWidgetControlModel",
      "_view_count": null,
      "_view_module": "jupyter-leaflet",
      "_view_module_version": "^0.14.0",
      "_view_name": "LeafletWidgetControlView",
      "max_height": null,
      "max_width": null,
      "min_height": null,
      "min_width": null,
      "options": [
       "position",
       "transparent_bg"
      ],
      "position": "topright",
      "transparent_bg": false,
      "widget": "IPY_MODEL_afc1312a90794e908887c9169508fb5c"
     }
    },
    "635af4adf1b840d5af324d5c5bf0f6d7": {
     "model_module": "@jupyter-widgets/controls",
     "model_module_version": "1.5.0",
     "model_name": "DescriptionStyleModel",
     "state": {
      "_model_module": "@jupyter-widgets/controls",
      "_model_module_version": "1.5.0",
      "_model_name": "DescriptionStyleModel",
      "_view_count": null,
      "_view_module": "@jupyter-widgets/base",
      "_view_module_version": "1.2.0",
      "_view_name": "StyleView",
      "description_width": ""
     }
    },
    "692427dbf23d47edb5ca2e2861f22329": {
     "model_module": "@jupyter-widgets/controls",
     "model_module_version": "1.5.0",
     "model_name": "DescriptionStyleModel",
     "state": {
      "_model_module": "@jupyter-widgets/controls",
      "_model_module_version": "1.5.0",
      "_model_name": "DescriptionStyleModel",
      "_view_count": null,
      "_view_module": "@jupyter-widgets/base",
      "_view_module_version": "1.2.0",
      "_view_name": "StyleView",
      "description_width": ""
     }
    },
    "70303c8f6ebf4729b8d4aae4c88a3349": {
     "model_module": "@jupyter-widgets/controls",
     "model_module_version": "1.5.0",
     "model_name": "ToggleButtonModel",
     "state": {
      "_dom_classes": [],
      "_model_module": "@jupyter-widgets/controls",
      "_model_module_version": "1.5.0",
      "_model_name": "ToggleButtonModel",
      "_view_count": null,
      "_view_module": "@jupyter-widgets/controls",
      "_view_module_version": "1.5.0",
      "_view_name": "ToggleButtonView",
      "button_style": "",
      "description": "",
      "description_tooltip": null,
      "disabled": false,
      "icon": "globe",
      "layout": "IPY_MODEL_9f959697872549dd8b1b0b71276550ce",
      "style": "IPY_MODEL_89eb7cc3f1e147f893e1443776cc4a15",
      "tooltip": "Search location/data",
      "value": false
     }
    },
    "703d0883fac449ed99575fec170d2b5f": {
     "model_module": "jupyter-leaflet",
     "model_module_version": "^0.14.0",
     "model_name": "LeafletWidgetControlModel",
     "state": {
      "_model_module": "jupyter-leaflet",
      "_model_module_version": "^0.14.0",
      "_model_name": "LeafletWidgetControlModel",
      "_view_count": null,
      "_view_module": "jupyter-leaflet",
      "_view_module_version": "^0.14.0",
      "_view_name": "LeafletWidgetControlView",
      "max_height": null,
      "max_width": null,
      "min_height": null,
      "min_width": null,
      "options": [
       "position",
       "transparent_bg"
      ],
      "position": "topright",
      "transparent_bg": false,
      "widget": "IPY_MODEL_b1237493aefb46e5a2fefa5ad7f804fc"
     }
    },
    "77c870da07824b2897afa0aa1cbbc9bb": {
     "model_module": "@jupyter-widgets/base",
     "model_module_version": "1.2.0",
     "model_name": "LayoutModel",
     "state": {
      "_model_module": "@jupyter-widgets/base",
      "_model_module_version": "1.2.0",
      "_model_name": "LayoutModel",
      "_view_count": null,
      "_view_module": "@jupyter-widgets/base",
      "_view_module_version": "1.2.0",
      "_view_name": "LayoutView",
      "align_content": null,
      "align_items": null,
      "align_self": null,
      "border": null,
      "bottom": null,
      "display": null,
      "flex": null,
      "flex_flow": null,
      "grid_area": null,
      "grid_auto_columns": null,
      "grid_auto_flow": null,
      "grid_auto_rows": null,
      "grid_column": null,
      "grid_gap": null,
      "grid_row": null,
      "grid_template_areas": null,
      "grid_template_columns": null,
      "grid_template_rows": null,
      "height": null,
      "justify_content": null,
      "justify_items": null,
      "left": null,
      "margin": null,
      "max_height": null,
      "max_width": null,
      "min_height": null,
      "min_width": null,
      "object_fit": null,
      "object_position": null,
      "order": null,
      "overflow": null,
      "overflow_x": null,
      "overflow_y": null,
      "padding": null,
      "right": null,
      "top": null,
      "visibility": null,
      "width": null
     }
    },
    "79999e39fbc24c37a4741354e3c12fe7": {
     "model_module": "@jupyter-widgets/base",
     "model_module_version": "1.2.0",
     "model_name": "LayoutModel",
     "state": {
      "_model_module": "@jupyter-widgets/base",
      "_model_module_version": "1.2.0",
      "_model_name": "LayoutModel",
      "_view_count": null,
      "_view_module": "@jupyter-widgets/base",
      "_view_module_version": "1.2.0",
      "_view_name": "LayoutView",
      "align_content": null,
      "align_items": null,
      "align_self": null,
      "border": null,
      "bottom": null,
      "display": null,
      "flex": null,
      "flex_flow": null,
      "grid_area": null,
      "grid_auto_columns": null,
      "grid_auto_flow": null,
      "grid_auto_rows": null,
      "grid_column": null,
      "grid_gap": null,
      "grid_row": null,
      "grid_template_areas": null,
      "grid_template_columns": null,
      "grid_template_rows": null,
      "height": null,
      "justify_content": null,
      "justify_items": null,
      "left": null,
      "margin": null,
      "max_height": null,
      "max_width": null,
      "min_height": null,
      "min_width": null,
      "object_fit": null,
      "object_position": null,
      "order": null,
      "overflow": null,
      "overflow_x": null,
      "overflow_y": null,
      "padding": null,
      "right": null,
      "top": null,
      "visibility": null,
      "width": null
     }
    },
    "7adca48dbacf4be49948e185d4be966d": {
     "model_module": "jupyter-leaflet",
     "model_module_version": "^0.14.0",
     "model_name": "LeafletMeasureControlModel",
     "state": {
      "_custom_units": {},
      "_model_module": "jupyter-leaflet",
      "_model_module_version": "^0.14.0",
      "_model_name": "LeafletMeasureControlModel",
      "_view_count": null,
      "_view_module": "jupyter-leaflet",
      "_view_module_version": "^0.14.0",
      "_view_name": "LeafletMeasureControlView",
      "active_color": "orange",
      "capture_z_index": 10000,
      "completed_color": "#C8F2BE",
      "options": [
       "active_color",
       "capture_z_index",
       "completed_color",
       "popup_options",
       "position",
       "primary_area_unit",
       "primary_length_unit",
       "secondary_area_unit",
       "secondary_length_unit"
      ],
      "popup_options": {
       "autoPanPadding": [
        10,
        10
       ],
       "className": "leaflet-measure-resultpopup"
      },
      "position": "bottomleft",
      "primary_area_unit": "acres",
      "primary_length_unit": "kilometers",
      "secondary_area_unit": null,
      "secondary_length_unit": null
     }
    },
    "7fc3f4b956614c3aa63ec75bc7823e70": {
     "model_module": "jupyter-leaflet",
     "model_module_version": "^0.14.0",
     "model_name": "LeafletMapModel",
     "state": {
      "_dom_classes": [],
      "_dragging": false,
      "_model_module": "jupyter-leaflet",
      "_model_module_version": "^0.14.0",
      "_model_name": "LeafletMapModel",
      "_view_count": null,
      "_view_module": "jupyter-leaflet",
      "_view_module_version": "^0.14.0",
      "_view_name": "LeafletMapView",
      "bottom": 202970,
      "bounce_at_zoom_limits": true,
      "box_zoom": true,
      "center": [
       37.763115548102924,
       -122.3756790161133
      ],
      "close_popup_on_click": true,
      "controls": [
       "IPY_MODEL_5f77dd90b829466695bee82c0799a008",
       "IPY_MODEL_4c8f672aa2f84c5ca9055f671204929d",
       "IPY_MODEL_ae522718af2340fc85091339b710c08d",
       "IPY_MODEL_27cb42eff5574197ab594dd29681ac6a",
       "IPY_MODEL_f89eadc5d002483b91f558e62ffe4956",
       "IPY_MODEL_cbf7e9232f7a4cbd9e79c3b3adbeea38",
       "IPY_MODEL_9c6ffed184884399b115ec2fdb7724cf",
       "IPY_MODEL_703d0883fac449ed99575fec170d2b5f"
      ],
      "crs": {
       "custom": false,
       "name": "EPSG3857"
      },
      "default_style": "IPY_MODEL_db01cbb6936b4c69a25b261e2b1aee16",
      "double_click_zoom": true,
      "dragging": true,
      "dragging_style": "IPY_MODEL_801db9db76754e43998b176526ca0624",
      "east": -121.95167541503908,
      "fullscreen": false,
      "inertia": true,
      "inertia_deceleration": 3000,
      "inertia_max_speed": 1500,
      "interpolation": "bilinear",
      "keyboard": true,
      "keyboard_pan_offset": 80,
      "keyboard_zoom_offset": 1,
      "layers": [
       "IPY_MODEL_f38d3a6de8a141669a8c573a13030a73",
       "IPY_MODEL_10a224b90e154bad940b4ca465a46acb",
       "IPY_MODEL_95b449a7d5f84b4994993ec3fcdde704",
       "IPY_MODEL_2e0c2a8c8760486ab96e55aaa114c972"
      ],
      "layout": "IPY_MODEL_e1662d0099234f50bafb983749014101",
      "left": 83304,
      "max_zoom": 24,
      "min_zoom": 1,
      "modisdate": "yesterday",
      "north": 37.92578434712103,
      "options": [
       "bounce_at_zoom_limits",
       "box_zoom",
       "center",
       "close_popup_on_click",
       "double_click_zoom",
       "dragging",
       "fullscreen",
       "inertia",
       "inertia_deceleration",
       "inertia_max_speed",
       "interpolation",
       "keyboard",
       "keyboard_pan_offset",
       "keyboard_zoom_offset",
       "max_zoom",
       "min_zoom",
       "scroll_wheel_zoom",
       "tap",
       "tap_tolerance",
       "touch_zoom",
       "world_copy_jump",
       "zoom",
       "zoom_animation_threshold",
       "zoom_delta",
       "zoom_snap",
       "zoom_start"
      ],
      "right": 84539,
      "scroll_wheel_zoom": true,
      "south": 37.6000882015635,
      "style": "IPY_MODEL_db01cbb6936b4c69a25b261e2b1aee16",
      "tap": true,
      "tap_tolerance": 15,
      "top": 202370,
      "touch_zoom": true,
      "west": -122.79968261718751,
      "window_url": "https://qzh1kly8xj-496ff2e9c6d22116-0-colab.googleusercontent.com/outputframe.html?vrz=colab-20211119-060052-RC02_411328912",
      "world_copy_jump": false,
      "zoom": 11,
      "zoom_animation_threshold": 4,
      "zoom_delta": 1,
      "zoom_snap": 1,
      "zoom_start": 12
     }
    },
    "801db9db76754e43998b176526ca0624": {
     "model_module": "jupyter-leaflet",
     "model_module_version": "^0.14.0",
     "model_name": "LeafletMapStyleModel",
     "state": {
      "_model_module": "jupyter-leaflet",
      "_model_module_version": "^0.14.0",
      "_model_name": "LeafletMapStyleModel",
      "_view_count": null,
      "_view_module": "@jupyter-widgets/base",
      "_view_module_version": "1.2.0",
      "_view_name": "StyleView",
      "cursor": "move"
     }
    },
    "8742ee1d25ee48fd971a42c93d1e4e52": {
     "model_module": "jupyter-leaflet",
     "model_module_version": "^0.14.0",
     "model_name": "LeafletZoomControlModel",
     "state": {
      "_model_module": "jupyter-leaflet",
      "_model_module_version": "^0.14.0",
      "_model_name": "LeafletZoomControlModel",
      "_view_count": null,
      "_view_module": "jupyter-leaflet",
      "_view_module_version": "^0.14.0",
      "_view_name": "LeafletZoomControlView",
      "options": [
       "position",
       "zoom_in_text",
       "zoom_in_title",
       "zoom_out_text",
       "zoom_out_title"
      ],
      "position": "topleft",
      "zoom_in_text": "+",
      "zoom_in_title": "Zoom in",
      "zoom_out_text": "-",
      "zoom_out_title": "Zoom out"
     }
    },
    "894b1f7301614e0ea7cd567dd15686d2": {
     "model_module": "@jupyter-widgets/controls",
     "model_module_version": "1.5.0",
     "model_name": "HBoxModel",
     "state": {
      "_dom_classes": [],
      "_model_module": "@jupyter-widgets/controls",
      "_model_module_version": "1.5.0",
      "_model_name": "HBoxModel",
      "_view_count": null,
      "_view_module": "@jupyter-widgets/controls",
      "_view_module_version": "1.5.0",
      "_view_name": "HBoxView",
      "box_style": "",
      "children": [
       "IPY_MODEL_91a89bcc20ba4a85bb14ba2ffb76bd91"
      ],
      "layout": "IPY_MODEL_79999e39fbc24c37a4741354e3c12fe7"
     }
    },
    "89eb7cc3f1e147f893e1443776cc4a15": {
     "model_module": "@jupyter-widgets/controls",
     "model_module_version": "1.5.0",
     "model_name": "DescriptionStyleModel",
     "state": {
      "_model_module": "@jupyter-widgets/controls",
      "_model_module_version": "1.5.0",
      "_model_name": "DescriptionStyleModel",
      "_view_count": null,
      "_view_module": "@jupyter-widgets/base",
      "_view_module_version": "1.2.0",
      "_view_name": "StyleView",
      "description_width": ""
     }
    },
    "8a1811cd62f5469bab8e513ffdcadf82": {
     "model_module": "jupyter-leaflet",
     "model_module_version": "^0.14.0",
     "model_name": "LeafletAttributionControlModel",
     "state": {
      "_model_module": "jupyter-leaflet",
      "_model_module_version": "^0.14.0",
      "_model_name": "LeafletAttributionControlModel",
      "_view_count": null,
      "_view_module": "jupyter-leaflet",
      "_view_module_version": "^0.14.0",
      "_view_name": "LeafletAttributionControlView",
      "options": [
       "position",
       "prefix"
      ],
      "position": "bottomright",
      "prefix": "ipyleaflet"
     }
    },
    "8b30a88bf11c4eeb83df852bfc519667": {
     "model_module": "@jupyter-widgets/controls",
     "model_module_version": "1.5.0",
     "model_name": "ToggleButtonModel",
     "state": {
      "_dom_classes": [],
      "_model_module": "@jupyter-widgets/controls",
      "_model_module_version": "1.5.0",
      "_model_name": "ToggleButtonModel",
      "_view_count": null,
      "_view_module": "@jupyter-widgets/controls",
      "_view_module_version": "1.5.0",
      "_view_name": "ToggleButtonView",
      "button_style": "",
      "description": "",
      "description_tooltip": null,
      "disabled": false,
      "icon": "wrench",
      "layout": "IPY_MODEL_e060267649884d4caa1061ae92785adc",
      "style": "IPY_MODEL_692427dbf23d47edb5ca2e2861f22329",
      "tooltip": "Toolbar",
      "value": false
     }
    },
    "91a89bcc20ba4a85bb14ba2ffb76bd91": {
     "model_module": "@jupyter-widgets/controls",
     "model_module_version": "1.5.0",
     "model_name": "ToggleButtonModel",
     "state": {
      "_dom_classes": [],
      "_model_module": "@jupyter-widgets/controls",
      "_model_module_version": "1.5.0",
      "_model_name": "ToggleButtonModel",
      "_view_count": null,
      "_view_module": "@jupyter-widgets/controls",
      "_view_module_version": "1.5.0",
      "_view_name": "ToggleButtonView",
      "button_style": "",
      "description": "",
      "description_tooltip": null,
      "disabled": false,
      "icon": "globe",
      "layout": "IPY_MODEL_a55d1c8224514e9b916a0e1e9a0b298b",
      "style": "IPY_MODEL_030b80182326479984817b983f938a59",
      "tooltip": "Search location/data",
      "value": false
     }
    },
    "940e40d01d644e90993fd4a9105a7eae": {
     "model_module": "jupyter-leaflet",
     "model_module_version": "^0.14.0",
     "model_name": "LeafletScaleControlModel",
     "state": {
      "_model_module": "jupyter-leaflet",
      "_model_module_version": "^0.14.0",
      "_model_name": "LeafletScaleControlModel",
      "_view_count": null,
      "_view_module": "jupyter-leaflet",
      "_view_module_version": "^0.14.0",
      "_view_name": "LeafletScaleControlView",
      "imperial": true,
      "max_width": 100,
      "metric": true,
      "options": [
       "imperial",
       "max_width",
       "metric",
       "position",
       "update_when_idle"
      ],
      "position": "bottomleft",
      "update_when_idle": false
     }
    },
    "95b449a7d5f84b4994993ec3fcdde704": {
     "model_module": "jupyter-leaflet",
     "model_module_version": "^0.14.0",
     "model_name": "LeafletTileLayerModel",
     "state": {
      "_model_module": "jupyter-leaflet",
      "_model_module_version": "^0.14.0",
      "_model_name": "LeafletTileLayerModel",
      "_view_count": null,
      "_view_module": "jupyter-leaflet",
      "_view_module_version": "^0.14.0",
      "_view_name": "LeafletTileLayerView",
      "attribution": "Google Earth Engine",
      "base": false,
      "bottom": true,
      "detect_retina": false,
      "loading": false,
      "max_native_zoom": 18,
      "max_zoom": 24,
      "min_native_zoom": 0,
      "min_zoom": 0,
      "name": "image",
      "no_wrap": false,
      "opacity": 1,
      "options": [
       "attribution",
       "detect_retina",
       "max_native_zoom",
       "max_zoom",
       "min_native_zoom",
       "min_zoom",
       "no_wrap",
       "tile_size",
       "tms"
      ],
      "popup": null,
      "popup_max_height": null,
      "popup_max_width": 300,
      "popup_min_width": 50,
      "show_loading": false,
      "tile_size": 256,
      "tms": false,
      "url": "https://earthengine.googleapis.com/v1alpha/projects/earthengine-legacy/maps/7223afa6a5fb3513be0711f0f5df7ca6-9c218a47e6483e71202f959c121bf937/tiles/{z}/{x}/{y}",
      "visible": true
     }
    },
    "9a03f0470ec54b63bc32cb85f51a543c": {
     "model_module": "@jupyter-widgets/base",
     "model_module_version": "1.2.0",
     "model_name": "LayoutModel",
     "state": {
      "_model_module": "@jupyter-widgets/base",
      "_model_module_version": "1.2.0",
      "_model_name": "LayoutModel",
      "_view_count": null,
      "_view_module": "@jupyter-widgets/base",
      "_view_module_version": "1.2.0",
      "_view_name": "LayoutView",
      "align_content": null,
      "align_items": null,
      "align_self": null,
      "border": null,
      "bottom": null,
      "display": null,
      "flex": null,
      "flex_flow": null,
      "grid_area": null,
      "grid_auto_columns": null,
      "grid_auto_flow": null,
      "grid_auto_rows": null,
      "grid_column": null,
      "grid_gap": null,
      "grid_row": null,
      "grid_template_areas": null,
      "grid_template_columns": null,
      "grid_template_rows": null,
      "height": null,
      "justify_content": null,
      "justify_items": null,
      "left": null,
      "margin": null,
      "max_height": null,
      "max_width": null,
      "min_height": null,
      "min_width": null,
      "object_fit": null,
      "object_position": null,
      "order": null,
      "overflow": null,
      "overflow_x": null,
      "overflow_y": null,
      "padding": null,
      "right": null,
      "top": null,
      "visibility": null,
      "width": null
     }
    },
    "9c6ffed184884399b115ec2fdb7724cf": {
     "model_module": "jupyter-leaflet",
     "model_module_version": "^0.14.0",
     "model_name": "LeafletDrawControlModel",
     "state": {
      "_model_module": "jupyter-leaflet",
      "_model_module_version": "^0.14.0",
      "_model_name": "LeafletDrawControlModel",
      "_view_count": null,
      "_view_module": "jupyter-leaflet",
      "_view_module_version": "^0.14.0",
      "_view_name": "LeafletDrawControlView",
      "circle": {
       "shapeOptions": {
        "color": "#3388ff"
       }
      },
      "circlemarker": {},
      "data": [],
      "edit": true,
      "marker": {
       "shapeOptions": {
        "color": "#3388ff"
       }
      },
      "options": [
       "position"
      ],
      "polygon": {
       "shapeOptions": {}
      },
      "polyline": {
       "shapeOptions": {}
      },
      "position": "topleft",
      "rectangle": {
       "shapeOptions": {
        "color": "#3388ff"
       }
      },
      "remove": true
     }
    },
    "9d685508e1024f2ebe18c569a63b0fe5": {
     "model_module": "jupyter-leaflet",
     "model_module_version": "^0.14.0",
     "model_name": "LeafletFullScreenControlModel",
     "state": {
      "_model_module": "jupyter-leaflet",
      "_model_module_version": "^0.14.0",
      "_model_name": "LeafletFullScreenControlModel",
      "_view_count": null,
      "_view_module": "jupyter-leaflet",
      "_view_module_version": "^0.14.0",
      "_view_name": "LeafletFullScreenControlView",
      "options": [
       "position"
      ],
      "position": "topleft"
     }
    },
    "9f959697872549dd8b1b0b71276550ce": {
     "model_module": "@jupyter-widgets/base",
     "model_module_version": "1.2.0",
     "model_name": "LayoutModel",
     "state": {
      "_model_module": "@jupyter-widgets/base",
      "_model_module_version": "1.2.0",
      "_model_name": "LayoutModel",
      "_view_count": null,
      "_view_module": "@jupyter-widgets/base",
      "_view_module_version": "1.2.0",
      "_view_name": "LayoutView",
      "align_content": null,
      "align_items": null,
      "align_self": null,
      "border": null,
      "bottom": null,
      "display": null,
      "flex": null,
      "flex_flow": null,
      "grid_area": null,
      "grid_auto_columns": null,
      "grid_auto_flow": null,
      "grid_auto_rows": null,
      "grid_column": null,
      "grid_gap": null,
      "grid_row": null,
      "grid_template_areas": null,
      "grid_template_columns": null,
      "grid_template_rows": null,
      "height": "28px",
      "justify_content": null,
      "justify_items": null,
      "left": null,
      "margin": null,
      "max_height": null,
      "max_width": null,
      "min_height": null,
      "min_width": null,
      "object_fit": null,
      "object_position": null,
      "order": null,
      "overflow": null,
      "overflow_x": null,
      "overflow_y": null,
      "padding": "0px 0px 0px 4px",
      "right": null,
      "top": null,
      "visibility": null,
      "width": "28px"
     }
    },
    "a07c027dbf1142c18c31757774ddc9aa": {
     "model_module": "@jupyter-widgets/controls",
     "model_module_version": "1.5.0",
     "model_name": "DescriptionStyleModel",
     "state": {
      "_model_module": "@jupyter-widgets/controls",
      "_model_module_version": "1.5.0",
      "_model_name": "DescriptionStyleModel",
      "_view_count": null,
      "_view_module": "@jupyter-widgets/base",
      "_view_module_version": "1.2.0",
      "_view_name": "StyleView",
      "description_width": ""
     }
    },
    "a55d1c8224514e9b916a0e1e9a0b298b": {
     "model_module": "@jupyter-widgets/base",
     "model_module_version": "1.2.0",
     "model_name": "LayoutModel",
     "state": {
      "_model_module": "@jupyter-widgets/base",
      "_model_module_version": "1.2.0",
      "_model_name": "LayoutModel",
      "_view_count": null,
      "_view_module": "@jupyter-widgets/base",
      "_view_module_version": "1.2.0",
      "_view_name": "LayoutView",
      "align_content": null,
      "align_items": null,
      "align_self": null,
      "border": null,
      "bottom": null,
      "display": null,
      "flex": null,
      "flex_flow": null,
      "grid_area": null,
      "grid_auto_columns": null,
      "grid_auto_flow": null,
      "grid_auto_rows": null,
      "grid_column": null,
      "grid_gap": null,
      "grid_row": null,
      "grid_template_areas": null,
      "grid_template_columns": null,
      "grid_template_rows": null,
      "height": "28px",
      "justify_content": null,
      "justify_items": null,
      "left": null,
      "margin": null,
      "max_height": null,
      "max_width": null,
      "min_height": null,
      "min_width": null,
      "object_fit": null,
      "object_position": null,
      "order": null,
      "overflow": null,
      "overflow_x": null,
      "overflow_y": null,
      "padding": "0px 0px 0px 4px",
      "right": null,
      "top": null,
      "visibility": null,
      "width": "28px"
     }
    },
    "a86d9afca100440d8930d19ca9fc4c7f": {
     "model_module": "jupyter-leaflet",
     "model_module_version": "^0.14.0",
     "model_name": "LeafletTileLayerModel",
     "state": {
      "_model_module": "jupyter-leaflet",
      "_model_module_version": "^0.14.0",
      "_model_name": "LeafletTileLayerModel",
      "_view_count": null,
      "_view_module": "jupyter-leaflet",
      "_view_module_version": "^0.14.0",
      "_view_name": "LeafletTileLayerView",
      "attribution": "Map data (c) <a href=\"https://openstreetmap.org\">OpenStreetMap</a> contributors",
      "base": true,
      "bottom": true,
      "detect_retina": false,
      "loading": false,
      "max_native_zoom": 18,
      "max_zoom": 19,
      "min_native_zoom": 0,
      "min_zoom": 1,
      "name": "",
      "no_wrap": false,
      "opacity": 1,
      "options": [
       "attribution",
       "detect_retina",
       "max_native_zoom",
       "max_zoom",
       "min_native_zoom",
       "min_zoom",
       "no_wrap",
       "tile_size",
       "tms"
      ],
      "popup": null,
      "popup_max_height": null,
      "popup_max_width": 300,
      "popup_min_width": 50,
      "show_loading": false,
      "tile_size": 256,
      "tms": false,
      "url": "https://{s}.tile.openstreetmap.org/{z}/{x}/{y}.png",
      "visible": true
     }
    },
    "add3fa8bfcaa49cd98d3b80edfc21cfc": {
     "model_module": "jupyter-leaflet",
     "model_module_version": "^0.14.0",
     "model_name": "LeafletMapStyleModel",
     "state": {
      "_model_module": "jupyter-leaflet",
      "_model_module_version": "^0.14.0",
      "_model_name": "LeafletMapStyleModel",
      "_view_count": null,
      "_view_module": "@jupyter-widgets/base",
      "_view_module_version": "1.2.0",
      "_view_name": "StyleView",
      "cursor": "grab"
     }
    },
    "ae522718af2340fc85091339b710c08d": {
     "model_module": "jupyter-leaflet",
     "model_module_version": "^0.14.0",
     "model_name": "LeafletScaleControlModel",
     "state": {
      "_model_module": "jupyter-leaflet",
      "_model_module_version": "^0.14.0",
      "_model_name": "LeafletScaleControlModel",
      "_view_count": null,
      "_view_module": "jupyter-leaflet",
      "_view_module_version": "^0.14.0",
      "_view_name": "LeafletScaleControlView",
      "imperial": true,
      "max_width": 100,
      "metric": true,
      "options": [
       "imperial",
       "max_width",
       "metric",
       "position",
       "update_when_idle"
      ],
      "position": "bottomleft",
      "update_when_idle": false
     }
    },
    "afc1312a90794e908887c9169508fb5c": {
     "model_module": "@jupyter-widgets/controls",
     "model_module_version": "1.5.0",
     "model_name": "VBoxModel",
     "state": {
      "_dom_classes": [],
      "_model_module": "@jupyter-widgets/controls",
      "_model_module_version": "1.5.0",
      "_model_name": "VBoxModel",
      "_view_count": null,
      "_view_module": "@jupyter-widgets/controls",
      "_view_module_version": "1.5.0",
      "_view_name": "VBoxView",
      "box_style": "",
      "children": [
       "IPY_MODEL_47aa463f94784c82a45bfec41773ece7"
      ],
      "layout": "IPY_MODEL_5874c863d04e416085f17345abfed36b"
     }
    },
    "b1237493aefb46e5a2fefa5ad7f804fc": {
     "model_module": "@jupyter-widgets/controls",
     "model_module_version": "1.5.0",
     "model_name": "VBoxModel",
     "state": {
      "_dom_classes": [],
      "_model_module": "@jupyter-widgets/controls",
      "_model_module_version": "1.5.0",
      "_model_name": "VBoxModel",
      "_view_count": null,
      "_view_module": "@jupyter-widgets/controls",
      "_view_module_version": "1.5.0",
      "_view_name": "VBoxView",
      "box_style": "",
      "children": [
       "IPY_MODEL_8b30a88bf11c4eeb83df852bfc519667"
      ],
      "layout": "IPY_MODEL_32d14590388e466581bebb8377b72011"
     }
    },
    "b433a7ca09504f59bcacefe67fa3a9dd": {
     "model_module": "@jupyter-widgets/controls",
     "model_module_version": "1.5.0",
     "model_name": "DescriptionStyleModel",
     "state": {
      "_model_module": "@jupyter-widgets/controls",
      "_model_module_version": "1.5.0",
      "_model_name": "DescriptionStyleModel",
      "_view_count": null,
      "_view_module": "@jupyter-widgets/base",
      "_view_module_version": "1.2.0",
      "_view_name": "StyleView",
      "description_width": ""
     }
    },
    "b63f030fc17a4115a09eb8c208de3db6": {
     "model_module": "@jupyter-widgets/base",
     "model_module_version": "1.2.0",
     "model_name": "LayoutModel",
     "state": {
      "_model_module": "@jupyter-widgets/base",
      "_model_module_version": "1.2.0",
      "_model_name": "LayoutModel",
      "_view_count": null,
      "_view_module": "@jupyter-widgets/base",
      "_view_module_version": "1.2.0",
      "_view_name": "LayoutView",
      "align_content": null,
      "align_items": null,
      "align_self": null,
      "border": null,
      "bottom": null,
      "display": null,
      "flex": null,
      "flex_flow": null,
      "grid_area": null,
      "grid_auto_columns": null,
      "grid_auto_flow": null,
      "grid_auto_rows": null,
      "grid_column": null,
      "grid_gap": null,
      "grid_row": null,
      "grid_template_areas": null,
      "grid_template_columns": null,
      "grid_template_rows": null,
      "height": "28px",
      "justify_content": null,
      "justify_items": null,
      "left": null,
      "margin": null,
      "max_height": null,
      "max_width": null,
      "min_height": null,
      "min_width": null,
      "object_fit": null,
      "object_position": null,
      "order": null,
      "overflow": null,
      "overflow_x": null,
      "overflow_y": null,
      "padding": "0px 0px 0px 4px",
      "right": null,
      "top": null,
      "visibility": null,
      "width": "28px"
     }
    },
    "b754450c0d96472fbedc8eeae7f05a27": {
     "model_module": "jupyter-leaflet",
     "model_module_version": "^0.14.0",
     "model_name": "LeafletWidgetControlModel",
     "state": {
      "_model_module": "jupyter-leaflet",
      "_model_module_version": "^0.14.0",
      "_model_name": "LeafletWidgetControlModel",
      "_view_count": null,
      "_view_module": "jupyter-leaflet",
      "_view_module_version": "^0.14.0",
      "_view_name": "LeafletWidgetControlView",
      "max_height": null,
      "max_width": null,
      "min_height": null,
      "min_width": null,
      "options": [
       "position",
       "transparent_bg"
      ],
      "position": "topleft",
      "transparent_bg": false,
      "widget": "IPY_MODEL_5949cb0ba3de4ec0a1725beff8d1e7ce"
     }
    },
    "bcdf6e7ad24b427ea2533d3ff436653d": {
     "model_module": "jupyter-leaflet",
     "model_module_version": "^0.14.0",
     "model_name": "LeafletScaleControlModel",
     "state": {
      "_model_module": "jupyter-leaflet",
      "_model_module_version": "^0.14.0",
      "_model_name": "LeafletScaleControlModel",
      "_view_count": null,
      "_view_module": "jupyter-leaflet",
      "_view_module_version": "^0.14.0",
      "_view_name": "LeafletScaleControlView",
      "imperial": true,
      "max_width": 100,
      "metric": true,
      "options": [
       "imperial",
       "max_width",
       "metric",
       "position",
       "update_when_idle"
      ],
      "position": "bottomleft",
      "update_when_idle": false
     }
    },
    "c019b9908b724dc1bfb08dcf254642e2": {
     "model_module": "jupyter-leaflet",
     "model_module_version": "^0.14.0",
     "model_name": "LeafletFullScreenControlModel",
     "state": {
      "_model_module": "jupyter-leaflet",
      "_model_module_version": "^0.14.0",
      "_model_name": "LeafletFullScreenControlModel",
      "_view_count": null,
      "_view_module": "jupyter-leaflet",
      "_view_module_version": "^0.14.0",
      "_view_name": "LeafletFullScreenControlView",
      "options": [
       "position"
      ],
      "position": "topleft"
     }
    },
    "c655010128254e2b875860193ff9911b": {
     "model_module": "@jupyter-widgets/controls",
     "model_module_version": "1.5.0",
     "model_name": "VBoxModel",
     "state": {
      "_dom_classes": [],
      "_model_module": "@jupyter-widgets/controls",
      "_model_module_version": "1.5.0",
      "_model_name": "VBoxModel",
      "_view_count": null,
      "_view_module": "@jupyter-widgets/controls",
      "_view_module_version": "1.5.0",
      "_view_name": "VBoxView",
      "box_style": "",
      "children": [
       "IPY_MODEL_fb115c37e1764f8d9e6b830e82639b51"
      ],
      "layout": "IPY_MODEL_77c870da07824b2897afa0aa1cbbc9bb"
     }
    },
    "ca18df0b2e8d4af28fb2d81801733ae1": {
     "model_module": "jupyter-leaflet",
     "model_module_version": "^0.14.0",
     "model_name": "LeafletWidgetControlModel",
     "state": {
      "_model_module": "jupyter-leaflet",
      "_model_module_version": "^0.14.0",
      "_model_name": "LeafletWidgetControlModel",
      "_view_count": null,
      "_view_module": "jupyter-leaflet",
      "_view_module_version": "^0.14.0",
      "_view_name": "LeafletWidgetControlView",
      "max_height": null,
      "max_width": null,
      "min_height": null,
      "min_width": null,
      "options": [
       "position",
       "transparent_bg"
      ],
      "position": "topleft",
      "transparent_bg": false,
      "widget": "IPY_MODEL_de3a08ec70d4429597bfd609bd45e5f5"
     }
    },
    "ca25ac7902c04ba6a29768a6b9fb2ab3": {
     "model_module": "jupyter-leaflet",
     "model_module_version": "^0.14.0",
     "model_name": "LeafletZoomControlModel",
     "state": {
      "_model_module": "jupyter-leaflet",
      "_model_module_version": "^0.14.0",
      "_model_name": "LeafletZoomControlModel",
      "_view_count": null,
      "_view_module": "jupyter-leaflet",
      "_view_module_version": "^0.14.0",
      "_view_name": "LeafletZoomControlView",
      "options": [
       "position",
       "zoom_in_text",
       "zoom_in_title",
       "zoom_out_text",
       "zoom_out_title"
      ],
      "position": "topleft",
      "zoom_in_text": "+",
      "zoom_in_title": "Zoom in",
      "zoom_out_text": "-",
      "zoom_out_title": "Zoom out"
     }
    },
    "cbf7e9232f7a4cbd9e79c3b3adbeea38": {
     "model_module": "jupyter-leaflet",
     "model_module_version": "^0.14.0",
     "model_name": "LeafletAttributionControlModel",
     "state": {
      "_model_module": "jupyter-leaflet",
      "_model_module_version": "^0.14.0",
      "_model_name": "LeafletAttributionControlModel",
      "_view_count": null,
      "_view_module": "jupyter-leaflet",
      "_view_module_version": "^0.14.0",
      "_view_name": "LeafletAttributionControlView",
      "options": [
       "position",
       "prefix"
      ],
      "position": "bottomright",
      "prefix": "ipyleaflet"
     }
    },
    "cc3eea50de4849caadae6e473ed75a6b": {
     "model_module": "jupyter-leaflet",
     "model_module_version": "^0.14.0",
     "model_name": "LeafletMapStyleModel",
     "state": {
      "_model_module": "jupyter-leaflet",
      "_model_module_version": "^0.14.0",
      "_model_name": "LeafletMapStyleModel",
      "_view_count": null,
      "_view_module": "@jupyter-widgets/base",
      "_view_module_version": "1.2.0",
      "_view_name": "StyleView",
      "cursor": "move"
     }
    },
    "d63a3dca0c5e47e49642b479f7283bb6": {
     "model_module": "@jupyter-widgets/base",
     "model_module_version": "1.2.0",
     "model_name": "LayoutModel",
     "state": {
      "_model_module": "@jupyter-widgets/base",
      "_model_module_version": "1.2.0",
      "_model_name": "LayoutModel",
      "_view_count": null,
      "_view_module": "@jupyter-widgets/base",
      "_view_module_version": "1.2.0",
      "_view_name": "LayoutView",
      "align_content": null,
      "align_items": null,
      "align_self": null,
      "border": null,
      "bottom": null,
      "display": null,
      "flex": null,
      "flex_flow": null,
      "grid_area": null,
      "grid_auto_columns": null,
      "grid_auto_flow": null,
      "grid_auto_rows": null,
      "grid_column": null,
      "grid_gap": null,
      "grid_row": null,
      "grid_template_areas": null,
      "grid_template_columns": null,
      "grid_template_rows": null,
      "height": "600px",
      "justify_content": null,
      "justify_items": null,
      "left": null,
      "margin": null,
      "max_height": null,
      "max_width": null,
      "min_height": null,
      "min_width": null,
      "object_fit": null,
      "object_position": null,
      "order": null,
      "overflow": null,
      "overflow_x": null,
      "overflow_y": null,
      "padding": null,
      "right": null,
      "top": null,
      "visibility": null,
      "width": null
     }
    },
    "db01cbb6936b4c69a25b261e2b1aee16": {
     "model_module": "jupyter-leaflet",
     "model_module_version": "^0.14.0",
     "model_name": "LeafletMapStyleModel",
     "state": {
      "_model_module": "jupyter-leaflet",
      "_model_module_version": "^0.14.0",
      "_model_name": "LeafletMapStyleModel",
      "_view_count": null,
      "_view_module": "@jupyter-widgets/base",
      "_view_module_version": "1.2.0",
      "_view_name": "StyleView",
      "cursor": "grab"
     }
    },
    "de3a08ec70d4429597bfd609bd45e5f5": {
     "model_module": "@jupyter-widgets/controls",
     "model_module_version": "1.5.0",
     "model_name": "HBoxModel",
     "state": {
      "_dom_classes": [],
      "_model_module": "@jupyter-widgets/controls",
      "_model_module_version": "1.5.0",
      "_model_name": "HBoxModel",
      "_view_count": null,
      "_view_module": "@jupyter-widgets/controls",
      "_view_module_version": "1.5.0",
      "_view_name": "HBoxView",
      "box_style": "",
      "children": [
       "IPY_MODEL_1d4b6e38743f434aa6fb82fe79d26d0f"
      ],
      "layout": "IPY_MODEL_2616a6d85dd24147bb07b2a4023752f6"
     }
    },
    "dec06adb1eb8481e9fb82a5829d23163": {
     "model_module": "jupyter-leaflet",
     "model_module_version": "^0.14.0",
     "model_name": "LeafletTileLayerModel",
     "state": {
      "_model_module": "jupyter-leaflet",
      "_model_module_version": "^0.14.0",
      "_model_name": "LeafletTileLayerModel",
      "_view_count": null,
      "_view_module": "jupyter-leaflet",
      "_view_module_version": "^0.14.0",
      "_view_name": "LeafletTileLayerView",
      "attribution": "Google Earth Engine",
      "base": false,
      "bottom": true,
      "detect_retina": false,
      "loading": false,
      "max_native_zoom": 18,
      "max_zoom": 24,
      "min_native_zoom": 0,
      "min_zoom": 0,
      "name": "Landsat-7",
      "no_wrap": false,
      "opacity": 1,
      "options": [
       "attribution",
       "detect_retina",
       "max_native_zoom",
       "max_zoom",
       "min_native_zoom",
       "min_zoom",
       "no_wrap",
       "tile_size",
       "tms"
      ],
      "popup": null,
      "popup_max_height": null,
      "popup_max_width": 300,
      "popup_min_width": 50,
      "show_loading": false,
      "tile_size": 256,
      "tms": false,
      "url": "https://earthengine.googleapis.com/v1alpha/projects/earthengine-legacy/maps/625e9c2cea409ab3bf4f0917eb87e6a1-9b6867e21bdfb6bf5154aeda0c87c7e3/tiles/{z}/{x}/{y}",
      "visible": true
     }
    },
    "e060267649884d4caa1061ae92785adc": {
     "model_module": "@jupyter-widgets/base",
     "model_module_version": "1.2.0",
     "model_name": "LayoutModel",
     "state": {
      "_model_module": "@jupyter-widgets/base",
      "_model_module_version": "1.2.0",
      "_model_name": "LayoutModel",
      "_view_count": null,
      "_view_module": "@jupyter-widgets/base",
      "_view_module_version": "1.2.0",
      "_view_name": "LayoutView",
      "align_content": null,
      "align_items": null,
      "align_self": null,
      "border": null,
      "bottom": null,
      "display": null,
      "flex": null,
      "flex_flow": null,
      "grid_area": null,
      "grid_auto_columns": null,
      "grid_auto_flow": null,
      "grid_auto_rows": null,
      "grid_column": null,
      "grid_gap": null,
      "grid_row": null,
      "grid_template_areas": null,
      "grid_template_columns": null,
      "grid_template_rows": null,
      "height": "28px",
      "justify_content": null,
      "justify_items": null,
      "left": null,
      "margin": null,
      "max_height": null,
      "max_width": null,
      "min_height": null,
      "min_width": null,
      "object_fit": null,
      "object_position": null,
      "order": null,
      "overflow": null,
      "overflow_x": null,
      "overflow_y": null,
      "padding": "0px 0px 0px 4px",
      "right": null,
      "top": null,
      "visibility": null,
      "width": "28px"
     }
    },
    "e147f21f46c046f3aa77a7001c0f168b": {
     "model_module": "jupyter-leaflet",
     "model_module_version": "^0.14.0",
     "model_name": "LeafletDrawControlModel",
     "state": {
      "_model_module": "jupyter-leaflet",
      "_model_module_version": "^0.14.0",
      "_model_name": "LeafletDrawControlModel",
      "_view_count": null,
      "_view_module": "jupyter-leaflet",
      "_view_module_version": "^0.14.0",
      "_view_name": "LeafletDrawControlView",
      "circle": {
       "shapeOptions": {
        "color": "#3388ff"
       }
      },
      "circlemarker": {},
      "data": [],
      "edit": true,
      "marker": {
       "shapeOptions": {
        "color": "#3388ff"
       }
      },
      "options": [
       "position"
      ],
      "polygon": {
       "shapeOptions": {}
      },
      "polyline": {
       "shapeOptions": {}
      },
      "position": "topleft",
      "rectangle": {
       "shapeOptions": {
        "color": "#3388ff"
       }
      },
      "remove": true
     }
    },
    "e1662d0099234f50bafb983749014101": {
     "model_module": "@jupyter-widgets/base",
     "model_module_version": "1.2.0",
     "model_name": "LayoutModel",
     "state": {
      "_model_module": "@jupyter-widgets/base",
      "_model_module_version": "1.2.0",
      "_model_name": "LayoutModel",
      "_view_count": null,
      "_view_module": "@jupyter-widgets/base",
      "_view_module_version": "1.2.0",
      "_view_name": "LayoutView",
      "align_content": null,
      "align_items": null,
      "align_self": null,
      "border": null,
      "bottom": null,
      "display": null,
      "flex": null,
      "flex_flow": null,
      "grid_area": null,
      "grid_auto_columns": null,
      "grid_auto_flow": null,
      "grid_auto_rows": null,
      "grid_column": null,
      "grid_gap": null,
      "grid_row": null,
      "grid_template_areas": null,
      "grid_template_columns": null,
      "grid_template_rows": null,
      "height": "600px",
      "justify_content": null,
      "justify_items": null,
      "left": null,
      "margin": null,
      "max_height": null,
      "max_width": null,
      "min_height": null,
      "min_width": null,
      "object_fit": null,
      "object_position": null,
      "order": null,
      "overflow": null,
      "overflow_x": null,
      "overflow_y": null,
      "padding": null,
      "right": null,
      "top": null,
      "visibility": null,
      "width": null
     }
    },
    "eff9814426cd4fed832f5f8799a1faee": {
     "model_module": "jupyter-leaflet",
     "model_module_version": "^0.14.0",
     "model_name": "LeafletMapModel",
     "state": {
      "_dom_classes": [],
      "_dragging": false,
      "_model_module": "jupyter-leaflet",
      "_model_module_version": "^0.14.0",
      "_model_name": "LeafletMapModel",
      "_view_count": null,
      "_view_module": "jupyter-leaflet",
      "_view_module_version": "^0.14.0",
      "_view_name": "LeafletMapView",
      "bottom": 3390,
      "bounce_at_zoom_limits": true,
      "box_zoom": true,
      "center": [
       40.38,
       -100.11
      ],
      "close_popup_on_click": true,
      "controls": [
       "IPY_MODEL_ca18df0b2e8d4af28fb2d81801733ae1",
       "IPY_MODEL_ca25ac7902c04ba6a29768a6b9fb2ab3",
       "IPY_MODEL_bcdf6e7ad24b427ea2533d3ff436653d",
       "IPY_MODEL_9d685508e1024f2ebe18c569a63b0fe5",
       "IPY_MODEL_7adca48dbacf4be49948e185d4be966d",
       "IPY_MODEL_8a1811cd62f5469bab8e513ffdcadf82",
       "IPY_MODEL_e147f21f46c046f3aa77a7001c0f168b",
       "IPY_MODEL_3dbbff44cee74c09a29874f35522c8fc"
      ],
      "crs": {
       "custom": false,
       "name": "EPSG3857"
      },
      "default_style": "IPY_MODEL_add3fa8bfcaa49cd98d3b80edfc21cfc",
      "double_click_zoom": true,
      "dragging": true,
      "dragging_style": "IPY_MODEL_cc3eea50de4849caadae6e473ed75a6b",
      "east": -72.99316406250001,
      "fullscreen": false,
      "inertia": true,
      "inertia_deceleration": 3000,
      "inertia_max_speed": 1500,
      "interpolation": "bilinear",
      "keyboard": true,
      "keyboard_pan_offset": 80,
      "keyboard_zoom_offset": 1,
      "layers": [
       "IPY_MODEL_a86d9afca100440d8930d19ca9fc4c7f",
       "IPY_MODEL_56b1ae46c4b342c0b0ec798b9d3f3f8e",
       "IPY_MODEL_4092c0e5daab4f0dba638aa54004e3be"
      ],
      "layout": "IPY_MODEL_ffe16703dea749fbb7f894869ddf5c85",
      "left": 1200,
      "max_zoom": 24,
      "min_zoom": 1,
      "modisdate": "yesterday",
      "north": 49.66762782262194,
      "options": [
       "bounce_at_zoom_limits",
       "box_zoom",
       "center",
       "close_popup_on_click",
       "double_click_zoom",
       "dragging",
       "fullscreen",
       "inertia",
       "inertia_deceleration",
       "inertia_max_speed",
       "interpolation",
       "keyboard",
       "keyboard_pan_offset",
       "keyboard_zoom_offset",
       "max_zoom",
       "min_zoom",
       "scroll_wheel_zoom",
       "tap",
       "tap_tolerance",
       "touch_zoom",
       "world_copy_jump",
       "zoom",
       "zoom_animation_threshold",
       "zoom_delta",
       "zoom_snap",
       "zoom_start"
      ],
      "right": 2435,
      "scroll_wheel_zoom": true,
      "south": 29.611670115197406,
      "style": "IPY_MODEL_add3fa8bfcaa49cd98d3b80edfc21cfc",
      "tap": true,
      "tap_tolerance": 15,
      "top": 2790,
      "touch_zoom": true,
      "west": -127.26562500000001,
      "window_url": "https://qzh1kly8xj-496ff2e9c6d22116-0-colab.googleusercontent.com/outputframe.html?vrz=colab-20211119-060052-RC02_411328912",
      "world_copy_jump": false,
      "zoom": 5,
      "zoom_animation_threshold": 4,
      "zoom_delta": 1,
      "zoom_snap": 1,
      "zoom_start": 12
     }
    },
    "f38d3a6de8a141669a8c573a13030a73": {
     "model_module": "jupyter-leaflet",
     "model_module_version": "^0.14.0",
     "model_name": "LeafletTileLayerModel",
     "state": {
      "_model_module": "jupyter-leaflet",
      "_model_module_version": "^0.14.0",
      "_model_name": "LeafletTileLayerModel",
      "_view_count": null,
      "_view_module": "jupyter-leaflet",
      "_view_module_version": "^0.14.0",
      "_view_name": "LeafletTileLayerView",
      "attribution": "Map data (c) <a href=\"https://openstreetmap.org\">OpenStreetMap</a> contributors",
      "base": true,
      "bottom": true,
      "detect_retina": false,
      "loading": false,
      "max_native_zoom": 18,
      "max_zoom": 19,
      "min_native_zoom": 0,
      "min_zoom": 1,
      "name": "",
      "no_wrap": false,
      "opacity": 1,
      "options": [
       "attribution",
       "detect_retina",
       "max_native_zoom",
       "max_zoom",
       "min_native_zoom",
       "min_zoom",
       "no_wrap",
       "tile_size",
       "tms"
      ],
      "popup": null,
      "popup_max_height": null,
      "popup_max_width": 300,
      "popup_min_width": 50,
      "show_loading": false,
      "tile_size": 256,
      "tms": false,
      "url": "https://{s}.tile.openstreetmap.org/{z}/{x}/{y}.png",
      "visible": true
     }
    },
    "f89eadc5d002483b91f558e62ffe4956": {
     "model_module": "jupyter-leaflet",
     "model_module_version": "^0.14.0",
     "model_name": "LeafletMeasureControlModel",
     "state": {
      "_custom_units": {},
      "_model_module": "jupyter-leaflet",
      "_model_module_version": "^0.14.0",
      "_model_name": "LeafletMeasureControlModel",
      "_view_count": null,
      "_view_module": "jupyter-leaflet",
      "_view_module_version": "^0.14.0",
      "_view_name": "LeafletMeasureControlView",
      "active_color": "orange",
      "capture_z_index": 10000,
      "completed_color": "#C8F2BE",
      "options": [
       "active_color",
       "capture_z_index",
       "completed_color",
       "popup_options",
       "position",
       "primary_area_unit",
       "primary_length_unit",
       "secondary_area_unit",
       "secondary_length_unit"
      ],
      "popup_options": {
       "autoPanPadding": [
        10,
        10
       ],
       "className": "leaflet-measure-resultpopup"
      },
      "position": "bottomleft",
      "primary_area_unit": "acres",
      "primary_length_unit": "kilometers",
      "secondary_area_unit": null,
      "secondary_length_unit": null
     }
    },
    "f907ee76fdb54bb49c6d7e2bfc10921f": {
     "model_module": "@jupyter-widgets/base",
     "model_module_version": "1.2.0",
     "model_name": "LayoutModel",
     "state": {
      "_model_module": "@jupyter-widgets/base",
      "_model_module_version": "1.2.0",
      "_model_name": "LayoutModel",
      "_view_count": null,
      "_view_module": "@jupyter-widgets/base",
      "_view_module_version": "1.2.0",
      "_view_name": "LayoutView",
      "align_content": null,
      "align_items": null,
      "align_self": null,
      "border": null,
      "bottom": null,
      "display": null,
      "flex": null,
      "flex_flow": null,
      "grid_area": null,
      "grid_auto_columns": null,
      "grid_auto_flow": null,
      "grid_auto_rows": null,
      "grid_column": null,
      "grid_gap": null,
      "grid_row": null,
      "grid_template_areas": null,
      "grid_template_columns": null,
      "grid_template_rows": null,
      "height": "28px",
      "justify_content": null,
      "justify_items": null,
      "left": null,
      "margin": null,
      "max_height": null,
      "max_width": null,
      "min_height": null,
      "min_width": null,
      "object_fit": null,
      "object_position": null,
      "order": null,
      "overflow": null,
      "overflow_x": null,
      "overflow_y": null,
      "padding": "0px 0px 0px 4px",
      "right": null,
      "top": null,
      "visibility": null,
      "width": "28px"
     }
    },
    "fb115c37e1764f8d9e6b830e82639b51": {
     "model_module": "@jupyter-widgets/controls",
     "model_module_version": "1.5.0",
     "model_name": "ToggleButtonModel",
     "state": {
      "_dom_classes": [],
      "_model_module": "@jupyter-widgets/controls",
      "_model_module_version": "1.5.0",
      "_model_name": "ToggleButtonModel",
      "_view_count": null,
      "_view_module": "@jupyter-widgets/controls",
      "_view_module_version": "1.5.0",
      "_view_name": "ToggleButtonView",
      "button_style": "",
      "description": "",
      "description_tooltip": null,
      "disabled": false,
      "icon": "wrench",
      "layout": "IPY_MODEL_5f3431c238c647479ec39a0a7113d9a6",
      "style": "IPY_MODEL_a07c027dbf1142c18c31757774ddc9aa",
      "tooltip": "Toolbar",
      "value": false
     }
    },
    "fd0a95bfbf9649079e32c8f76e4853ed": {
     "model_module": "jupyter-leaflet",
     "model_module_version": "^0.14.0",
     "model_name": "LeafletDrawControlModel",
     "state": {
      "_model_module": "jupyter-leaflet",
      "_model_module_version": "^0.14.0",
      "_model_name": "LeafletDrawControlModel",
      "_view_count": null,
      "_view_module": "jupyter-leaflet",
      "_view_module_version": "^0.14.0",
      "_view_name": "LeafletDrawControlView",
      "circle": {
       "shapeOptions": {
        "color": "#3388ff"
       }
      },
      "circlemarker": {},
      "data": [],
      "edit": true,
      "marker": {
       "shapeOptions": {
        "color": "#3388ff"
       }
      },
      "options": [
       "position"
      ],
      "polygon": {
       "shapeOptions": {}
      },
      "polyline": {
       "shapeOptions": {}
      },
      "position": "topleft",
      "rectangle": {
       "shapeOptions": {
        "color": "#3388ff"
       }
      },
      "remove": true
     }
    },
    "ffe16703dea749fbb7f894869ddf5c85": {
     "model_module": "@jupyter-widgets/base",
     "model_module_version": "1.2.0",
     "model_name": "LayoutModel",
     "state": {
      "_model_module": "@jupyter-widgets/base",
      "_model_module_version": "1.2.0",
      "_model_name": "LayoutModel",
      "_view_count": null,
      "_view_module": "@jupyter-widgets/base",
      "_view_module_version": "1.2.0",
      "_view_name": "LayoutView",
      "align_content": null,
      "align_items": null,
      "align_self": null,
      "border": null,
      "bottom": null,
      "display": null,
      "flex": null,
      "flex_flow": null,
      "grid_area": null,
      "grid_auto_columns": null,
      "grid_auto_flow": null,
      "grid_auto_rows": null,
      "grid_column": null,
      "grid_gap": null,
      "grid_row": null,
      "grid_template_areas": null,
      "grid_template_columns": null,
      "grid_template_rows": null,
      "height": "600px",
      "justify_content": null,
      "justify_items": null,
      "left": null,
      "margin": null,
      "max_height": null,
      "max_width": null,
      "min_height": null,
      "min_width": null,
      "object_fit": null,
      "object_position": null,
      "order": null,
      "overflow": null,
      "overflow_x": null,
      "overflow_y": null,
      "padding": null,
      "right": null,
      "top": null,
      "visibility": null,
      "width": null
     }
    }
   }
  }
 },
 "nbformat": 4,
 "nbformat_minor": 1
}
