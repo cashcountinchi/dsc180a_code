{
 "cells": [
  {
   "cell_type": "code",
   "execution_count": 1,
   "metadata": {
    "id": "OO0Fhu9nw_Ti"
   },
   "outputs": [],
   "source": [
    "import os\n",
    "import ee\n",
    "import json\n",
    "import folium\n",
    "import pandas as pd\n",
    "import numpy as np\n",
    "import math\n",
    "import altair as alt\n",
    "import urllib.request\n",
    "from sklearn.linear_model import LinearRegression\n",
    "import warnings\n",
    "\n",
    "warnings.filterwarnings('ignore')\n",
    "\n",
    "# import subprocess\n",
    "# try:\n",
    "#   import geemap\n",
    "# except ImportError:\n",
    "#   subprocess.check_call([\"python\", '-m', 'pip', 'install', 'geemap'])\n",
    "#   import geemap\n",
    "\n",
    "# pip install ipygee\n",
    "# import ipygee as ui"
   ]
  },
  {
   "cell_type": "code",
   "execution_count": 2,
   "metadata": {
    "colab": {
     "base_uri": "https://localhost:8080/"
    },
    "id": "V6Aq9HSexIxx",
    "outputId": "7c949935-3f41-4ebd-c151-59bd567e9c4b"
   },
   "outputs": [
    {
     "data": {
      "text/html": [
       "<p>To authorize access needed by Earth Engine, open the following\n",
       "        URL in a web browser and follow the instructions:</p>\n",
       "        <p><a href=https://accounts.google.com/o/oauth2/auth?client_id=517222506229-vsmmajv00ul0bs7p89v5m89qs8eb9359.apps.googleusercontent.com&scope=https%3A%2F%2Fwww.googleapis.com%2Fauth%2Fearthengine+https%3A%2F%2Fwww.googleapis.com%2Fauth%2Fdevstorage.full_control&redirect_uri=urn%3Aietf%3Awg%3Aoauth%3A2.0%3Aoob&response_type=code&code_challenge=Islu6GyFhTzBVjzfsqpK2ca6yzulE8vxqyMW9DlXG9Q&code_challenge_method=S256>https://accounts.google.com/o/oauth2/auth?client_id=517222506229-vsmmajv00ul0bs7p89v5m89qs8eb9359.apps.googleusercontent.com&scope=https%3A%2F%2Fwww.googleapis.com%2Fauth%2Fearthengine+https%3A%2F%2Fwww.googleapis.com%2Fauth%2Fdevstorage.full_control&redirect_uri=urn%3Aietf%3Awg%3Aoauth%3A2.0%3Aoob&response_type=code&code_challenge=Islu6GyFhTzBVjzfsqpK2ca6yzulE8vxqyMW9DlXG9Q&code_challenge_method=S256</a></p>\n",
       "        <p>The authorization workflow will generate a code, which you\n",
       "        should paste in the box below</p>\n",
       "        "
      ],
      "text/plain": [
       "<IPython.core.display.HTML object>"
      ]
     },
     "metadata": {},
     "output_type": "display_data"
    },
    {
     "name": "stdout",
     "output_type": "stream",
     "text": [
      "Enter verification code: 4/1AX4XfWiuGFHMhoKlXbI5fcnA2c4uPwqcihbj3CXW9mbd2aFlz_oUTBhekTs\n",
      "\n",
      "Successfully saved authorization token.\n"
     ]
    }
   ],
   "source": [
    "ee.Authenticate()"
   ]
  },
  {
   "cell_type": "code",
   "execution_count": 3,
   "metadata": {
    "id": "71Op7RDbxKUC"
   },
   "outputs": [],
   "source": [
    "ee.Initialize()"
   ]
  },
  {
   "cell_type": "code",
   "execution_count": 4,
   "metadata": {
    "colab": {
     "base_uri": "https://localhost:8080/"
    },
    "id": "JwPR_RgVwcr0",
    "outputId": "45064878-776b-443c-fe07-d04e35b3843b"
   },
   "outputs": [],
   "source": [
    "# from google.colab import drive\n",
    "# drive.mount('/content/drive')"
   ]
  },
  {
   "cell_type": "code",
   "execution_count": 5,
   "metadata": {
    "id": "p9gUzvhoS9im"
   },
   "outputs": [],
   "source": [
    "def Mapdisplay(center, dicc, Tiles=\"OpensTreetMap\",zoom_start=10):\n",
    "    '''\n",
    "    :param center: Center of the map (Latitude and Longitude).\n",
    "    :param dicc: Earth Engine Geometries or Tiles dictionary\n",
    "    :param Tiles: Mapbox Bright,Mapbox Control Room,Stamen Terrain,Stamen Toner,stamenwatercolor,cartodbpositron.\n",
    "    :zoom_start: Initial zoom level for the map.\n",
    "    :return: A folium.Map object.\n",
    "    '''\n",
    "    mapViz = folium.Map(location=center,tiles=Tiles, zoom_start=zoom_start)\n",
    "    for k,v in dicc.items():\n",
    "      if ee.image.Image in [type(x) for x in v.values()]:\n",
    "        folium.TileLayer(\n",
    "            tiles = v[\"tile_fetcher\"].url_format,\n",
    "            attr  = 'Google Earth Engine',\n",
    "            overlay =True,\n",
    "            name  = k\n",
    "          ).add_to(mapViz)\n",
    "      else:\n",
    "        folium.GeoJson(\n",
    "        data = v,\n",
    "        name = k\n",
    "          ).add_to(mapViz)\n",
    "    mapViz.add_child(folium.LayerControl())\n",
    "    return mapViz\n",
    "\n",
    "\n",
    "def add_ee_layer(self, ee_image_object, vis_params, name, show=True, opacity=1, min_zoom=0):\n",
    "    map_id_dict = ee.Image(ee_image_object).getMapId(vis_params)\n",
    "    folium.raster_layers.TileLayer(\n",
    "        tiles=map_id_dict['tile_fetcher'].url_format,\n",
    "        attr='Map Data &copy; <a href=\"https://earthengine.google.com/\">Google Earth Engine</a>',\n",
    "        name=name,\n",
    "        show=show,\n",
    "        opacity=opacity,\n",
    "        min_zoom=min_zoom,\n",
    "        overlay=True,\n",
    "        control=True\n",
    "        ).add_to(self)\n",
    "\n",
    "folium.Map.add_ee_layer = add_ee_layer\n",
    "\n",
    "\n",
    "def get_s2_sr_cld_col(aoi, start_date, end_date):\n",
    "    s2_sr_col = (ee.ImageCollection('COPERNICUS/S2_SR')\n",
    "        .filterBounds(aoi)\n",
    "        .filterDate(start_date, end_date)\n",
    "        .filter(ee.Filter.lte('CLOUDY_PIXEL_PERCENTAGE', CLOUD_FILTER)))\n",
    "\n",
    "    s2_cloudless_col = (ee.ImageCollection('COPERNICUS/S2_CLOUD_PROBABILITY')\n",
    "        .filterBounds(aoi)\n",
    "        .filterDate(start_date, end_date))\n",
    "\n",
    "    return ee.ImageCollection(ee.Join.saveFirst('s2cloudless').apply(**{\n",
    "        'primary': s2_sr_col,\n",
    "        'secondary': s2_cloudless_col,\n",
    "        'condition': ee.Filter.equals(**{\n",
    "            'leftField': 'system:index',\n",
    "            'rightField': 'system:index'\n",
    "        })\n",
    "    }))\n",
    "\n",
    "\n",
    "def add_cloud_bands(img):\n",
    "    cld_prb = ee.Image(img.get('s2cloudless')).select('probability')\n",
    "    is_cloud = cld_prb.gt(CLD_PRB_THRESH).rename('clouds')\n",
    "\n",
    "    return img.addBands(ee.Image([cld_prb, is_cloud]))\n",
    "\n",
    "\n",
    "def add_shadow_bands(img):\n",
    "    not_water = img.select('SCL').neq(6)\n",
    "\n",
    "    SR_BAND_SCALE = 1e4\n",
    "    dark_pixels = img.select('B8').lt(NIR_DRK_THRESH*SR_BAND_SCALE).multiply(not_water).rename('dark_pixels')\n",
    "    shadow_azimuth = ee.Number(90).subtract(ee.Number(img.get('MEAN_SOLAR_AZIMUTH_ANGLE')));\n",
    "\n",
    "    cld_proj = (img.select('clouds').directionalDistanceTransform(shadow_azimuth, CLD_PRJ_DIST*10)\n",
    "        .reproject(**{'crs': img.select(0).projection(), 'scale': 100})\n",
    "        .select('distance')\n",
    "        .mask()\n",
    "        .rename('cloud_transform'))\n",
    "\n",
    "    shadows = cld_proj.multiply(dark_pixels).rename('shadows')\n",
    "\n",
    "    return img.addBands(ee.Image([dark_pixels, cld_proj, shadows]))\n",
    "\n",
    "\n",
    "def add_cld_shdw_mask(img):\n",
    "    img_cloud = add_cloud_bands(img)\n",
    "    img_cloud_shadow = add_shadow_bands(img_cloud)\n",
    "    is_cld_shdw = img_cloud_shadow.select('clouds').add(img_cloud_shadow.select('shadows')).gt(0)\n",
    "\n",
    "    is_cld_shdw = (is_cld_shdw.focal_min(2).focal_max(BUFFER*2/20)\n",
    "        .reproject(**{'crs': img.select([0]).projection(), 'scale': 20})\n",
    "        .rename('cloudmask'))\n",
    "\n",
    "    return img_cloud_shadow.addBands(is_cld_shdw)\n",
    "    # return img.addBands(is_cld_shdw)\n",
    "\n",
    "\n",
    "def apply_cld_shdw_mask(img):\n",
    "    not_cld_shdw = img.select('cloudmask').Not()\n",
    "    return img.select('B.*').updateMask(not_cld_shdw)\n",
    "\n",
    "\n",
    "def calcVI(image):\n",
    "  \"\"\"\n",
    "  Returns an ee.Image with two bands: [\"NDVI\", \"EVI\"]\n",
    "  \"\"\"\n",
    "  ndvi = image.normalizedDifference([\"B8\", \"B4\"]).rename(\"NDVI\")\n",
    "  nir, red, blue = image.select(\"B8\"), image.select(\"B4\"), image.select(\"B2\")\n",
    "  evi = ((nir.subtract(red)).multiply(2.5)).divide((red.multiply(6).subtract(blue.multiply(7.5))).add(nir).add(1)).rename(\"EVI\")\n",
    "  \n",
    "  return ndvi.addBands(evi) "
   ]
  },
  {
   "cell_type": "code",
   "execution_count": 6,
   "metadata": {
    "id": "og6QTN0QS9qM"
   },
   "outputs": [],
   "source": [
    "# Defines date ranges\n",
    "\n",
    "monthSeq = [\"01-01\", \"02-01\", \"03-01\", \"04-01\", \"05-01\", \"06-01\",\n",
    "            \"07-01\", \"08-01\", \"09-01\", \"10-01\", \"11-01\", \"12-01\", \"01-01\"]\n",
    "            \n",
    "yearSeq = [\"2019\", \"2020\", \"2021\", \"2022\", \"2023\"]\n",
    "\n",
    "dateRange = []\n",
    "for i in range(len(yearSeq)-1):\n",
    "  for j in range(len(monthSeq)-1):\n",
    "    if j != 11:\n",
    "      dateRange.append([\"{}-{}\".format(yearSeq[i], monthSeq[j]),\n",
    "                        \"{}-{}\".format(yearSeq[i], monthSeq[j+1])])\n",
    "    else:       # rolls December date range over into next year \n",
    "      dateRange.append([\"{}-{}\".format(yearSeq[i], monthSeq[j]),\n",
    "                        \"{}-{}\".format(yearSeq[i+1], monthSeq[j+1])])\n",
    "    \n",
    "trainMonths = dateRange[:34]     # [2019-01-01, 2021-11-01]\n",
    "months2019 = dateRange[:12]      # [2020-01-01, 2021-01-01]\n",
    "\n",
    "\n",
    "futureMonths = []                # defines years since epoch for 2022\n",
    "for i in dateRange[34:]:\n",
    "  futureMonths.append(np.round(ee.Date(i[0][:-2]+\"15\").difference(ee.Date('1970-01-01'), 'year').getInfo(), 3))"
   ]
  },
  {
   "cell_type": "code",
   "execution_count": 7,
   "metadata": {
    "id": "Zwe1lFj-S9tS"
   },
   "outputs": [],
   "source": [
    "# Defines ee.Geometries\n",
    "\n",
    "madagascar = ee.Geometry.Rectangle(41.264648, -26.259860, \n",
    "                                   52.294922, -10.241276)\n",
    "\n",
    "subset = ee.Geometry.Rectangle(44.529451, -19.837477,     # smaller ee.Geometry of Madagascar to reduce runtime\n",
    "                               44.876404, -19.573569)\n",
    "\n",
    "madagascarCenter = madagascar.centroid().getInfo()[\"coordinates\"][::-1]\n",
    "subsetCenter = subset.centroid().getInfo()['coordinates'][::-1]"
   ]
  },
  {
   "cell_type": "code",
   "execution_count": 9,
   "metadata": {
    "colab": {
     "base_uri": "https://localhost:8080/",
     "height": 338
    },
    "id": "LQj1z0WsZY6e",
    "outputId": "a0047260-5228-4200-9478-13f90db34f55"
   },
   "outputs": [
    {
     "data": {
      "text/plain": [
       "('gifs/madagascarEVI_2019.gif', <http.client.HTTPMessage at 0x13e93eaf0>)"
      ]
     },
     "execution_count": 9,
     "metadata": {},
     "output_type": "execute_result"
    }
   ],
   "source": [
    "# creates monthly gifs of NDVI, EVI in 2019\n",
    "\n",
    "sentinel = ee.ImageCollection(\"COPERNICUS/S2_SR\"\n",
    "            ).filterBounds(madagascar\n",
    "            ).filterDate('2019-01-01', '2020-01-01')\n",
    "         \n",
    "# compute a monthly mosaic over Madagascar using [\"B2\", \"B4\", \"B8\"]\n",
    "monthlyMosaic = ee.List.sequence(1, 12).map(lambda x: sentinel.filter(ee.Filter.calendarRange(x, x, 'month')\n",
    "                                      ).filterBounds(madagascar\n",
    "                                      ).select([\"B2\", \"B4\", \"B8\"]\n",
    "                                      ).mosaic(\n",
    "                                      ).set('month', x))\n",
    "\n",
    "# use mosaic to compute an image with [NDVI, EVI] bands\n",
    "monthlyVI = ee.ImageCollection(monthlyMosaic.map(lambda x: calcVI(ee.Image(x))))\n",
    "\n",
    "gifParams_1 = {\n",
    "  'dimensions': 1000,\n",
    "  'framesPerSecond': 1,\n",
    "  \"region\": madagascar,\n",
    "  \"min\": -0.5, \"max\": 1,\n",
    "  'palette': [\"white\", \"green\"]\n",
    "}\n",
    "\n",
    "ndviURL = monthlyVI.select(\"NDVI\").getVideoThumbURL(gifParams_1)\n",
    "eviURL = monthlyVI.select(\"EVI\").getVideoThumbURL(gifParams_1)\n",
    "\n",
    "# Download VI gif to drive\n",
    "urllib.request.urlretrieve(ndviURL, \"gifs/madagascarNDVI_2019.gif\")\n",
    "urllib.request.urlretrieve(eviURL, \"gifs/madagascarEVI_2019.gif\")"
   ]
  },
  {
   "cell_type": "markdown",
   "metadata": {
    "id": "cvkLmyvc-coz"
   },
   "source": [
    "## Cloud Masking"
   ]
  },
  {
   "cell_type": "code",
   "execution_count": 10,
   "metadata": {
    "id": "zWWXpKdqCBa2"
   },
   "outputs": [],
   "source": [
    "# Cloud masking parameters\n",
    "\n",
    "CLOUD_FILTER = 60\n",
    "CLD_PRB_THRESH = 50\n",
    "NIR_DRK_THRESH = 0.15\n",
    "CLD_PRJ_DIST = 2\n",
    "BUFFER = 100"
   ]
  },
  {
   "cell_type": "code",
   "execution_count": 11,
   "metadata": {
    "colab": {
     "base_uri": "https://localhost:8080/",
     "height": 1000
    },
    "id": "JLpz2jjUiYvg",
    "outputId": "91b44cf0-c595-47f2-b606-01a96c0e33e7"
   },
   "outputs": [
    {
     "name": "stdout",
     "output_type": "stream",
     "text": [
      "2019-01-01 - 2019-02-01\n"
     ]
    },
    {
     "data": {
      "text/html": [
       "<div style=\"width:100%;\"><div style=\"position:relative;width:100%;height:0;padding-bottom:60%;\"><span style=\"color:#565656\">Make this Notebook Trusted to load map: File -> Trust Notebook</span><iframe src=\"about:blank\" style=\"position:absolute;width:100%;height:100%;left:0;top:0;border:none !important;\" data-html=%3C%21DOCTYPE%20html%3E%0A%3Chead%3E%20%20%20%20%0A%20%20%20%20%3Cmeta%20http-equiv%3D%22content-type%22%20content%3D%22text/html%3B%20charset%3DUTF-8%22%20/%3E%0A%20%20%20%20%0A%20%20%20%20%20%20%20%20%3Cscript%3E%0A%20%20%20%20%20%20%20%20%20%20%20%20L_NO_TOUCH%20%3D%20false%3B%0A%20%20%20%20%20%20%20%20%20%20%20%20L_DISABLE_3D%20%3D%20false%3B%0A%20%20%20%20%20%20%20%20%3C/script%3E%0A%20%20%20%20%0A%20%20%20%20%3Cstyle%3Ehtml%2C%20body%20%7Bwidth%3A%20100%25%3Bheight%3A%20100%25%3Bmargin%3A%200%3Bpadding%3A%200%3B%7D%3C/style%3E%0A%20%20%20%20%3Cstyle%3E%23map%20%7Bposition%3Aabsolute%3Btop%3A0%3Bbottom%3A0%3Bright%3A0%3Bleft%3A0%3B%7D%3C/style%3E%0A%20%20%20%20%3Cscript%20src%3D%22https%3A//cdn.jsdelivr.net/npm/leaflet%401.6.0/dist/leaflet.js%22%3E%3C/script%3E%0A%20%20%20%20%3Cscript%20src%3D%22https%3A//code.jquery.com/jquery-1.12.4.min.js%22%3E%3C/script%3E%0A%20%20%20%20%3Cscript%20src%3D%22https%3A//maxcdn.bootstrapcdn.com/bootstrap/3.2.0/js/bootstrap.min.js%22%3E%3C/script%3E%0A%20%20%20%20%3Cscript%20src%3D%22https%3A//cdnjs.cloudflare.com/ajax/libs/Leaflet.awesome-markers/2.0.2/leaflet.awesome-markers.js%22%3E%3C/script%3E%0A%20%20%20%20%3Clink%20rel%3D%22stylesheet%22%20href%3D%22https%3A//cdn.jsdelivr.net/npm/leaflet%401.6.0/dist/leaflet.css%22/%3E%0A%20%20%20%20%3Clink%20rel%3D%22stylesheet%22%20href%3D%22https%3A//maxcdn.bootstrapcdn.com/bootstrap/3.2.0/css/bootstrap.min.css%22/%3E%0A%20%20%20%20%3Clink%20rel%3D%22stylesheet%22%20href%3D%22https%3A//maxcdn.bootstrapcdn.com/bootstrap/3.2.0/css/bootstrap-theme.min.css%22/%3E%0A%20%20%20%20%3Clink%20rel%3D%22stylesheet%22%20href%3D%22https%3A//maxcdn.bootstrapcdn.com/font-awesome/4.6.3/css/font-awesome.min.css%22/%3E%0A%20%20%20%20%3Clink%20rel%3D%22stylesheet%22%20href%3D%22https%3A//cdnjs.cloudflare.com/ajax/libs/Leaflet.awesome-markers/2.0.2/leaflet.awesome-markers.css%22/%3E%0A%20%20%20%20%3Clink%20rel%3D%22stylesheet%22%20href%3D%22https%3A//cdn.jsdelivr.net/gh/python-visualization/folium/folium/templates/leaflet.awesome.rotate.min.css%22/%3E%0A%20%20%20%20%0A%20%20%20%20%20%20%20%20%20%20%20%20%3Cmeta%20name%3D%22viewport%22%20content%3D%22width%3Ddevice-width%2C%0A%20%20%20%20%20%20%20%20%20%20%20%20%20%20%20%20initial-scale%3D1.0%2C%20maximum-scale%3D1.0%2C%20user-scalable%3Dno%22%20/%3E%0A%20%20%20%20%20%20%20%20%20%20%20%20%3Cstyle%3E%0A%20%20%20%20%20%20%20%20%20%20%20%20%20%20%20%20%23map_05f710563d3549ee9c5e41f173caaec0%20%7B%0A%20%20%20%20%20%20%20%20%20%20%20%20%20%20%20%20%20%20%20%20position%3A%20relative%3B%0A%20%20%20%20%20%20%20%20%20%20%20%20%20%20%20%20%20%20%20%20width%3A%20100.0%25%3B%0A%20%20%20%20%20%20%20%20%20%20%20%20%20%20%20%20%20%20%20%20height%3A%20100.0%25%3B%0A%20%20%20%20%20%20%20%20%20%20%20%20%20%20%20%20%20%20%20%20left%3A%200.0%25%3B%0A%20%20%20%20%20%20%20%20%20%20%20%20%20%20%20%20%20%20%20%20top%3A%200.0%25%3B%0A%20%20%20%20%20%20%20%20%20%20%20%20%20%20%20%20%7D%0A%20%20%20%20%20%20%20%20%20%20%20%20%3C/style%3E%0A%20%20%20%20%20%20%20%20%0A%3C/head%3E%0A%3Cbody%3E%20%20%20%20%0A%20%20%20%20%0A%20%20%20%20%20%20%20%20%20%20%20%20%3Cdiv%20class%3D%22folium-map%22%20id%3D%22map_05f710563d3549ee9c5e41f173caaec0%22%20%3E%3C/div%3E%0A%20%20%20%20%20%20%20%20%0A%3C/body%3E%0A%3Cscript%3E%20%20%20%20%0A%20%20%20%20%0A%20%20%20%20%20%20%20%20%20%20%20%20var%20map_05f710563d3549ee9c5e41f173caaec0%20%3D%20L.map%28%0A%20%20%20%20%20%20%20%20%20%20%20%20%20%20%20%20%22map_05f710563d3549ee9c5e41f173caaec0%22%2C%0A%20%20%20%20%20%20%20%20%20%20%20%20%20%20%20%20%7B%0A%20%20%20%20%20%20%20%20%20%20%20%20%20%20%20%20%20%20%20%20center%3A%20%5B-19.705570084543737%2C%2044.70292749999976%5D%2C%0A%20%20%20%20%20%20%20%20%20%20%20%20%20%20%20%20%20%20%20%20crs%3A%20L.CRS.EPSG3857%2C%0A%20%20%20%20%20%20%20%20%20%20%20%20%20%20%20%20%20%20%20%20zoom%3A%2010%2C%0A%20%20%20%20%20%20%20%20%20%20%20%20%20%20%20%20%20%20%20%20zoomControl%3A%20true%2C%0A%20%20%20%20%20%20%20%20%20%20%20%20%20%20%20%20%20%20%20%20preferCanvas%3A%20false%2C%0A%20%20%20%20%20%20%20%20%20%20%20%20%20%20%20%20%7D%0A%20%20%20%20%20%20%20%20%20%20%20%20%29%3B%0A%0A%20%20%20%20%20%20%20%20%20%20%20%20%0A%0A%20%20%20%20%20%20%20%20%0A%20%20%20%20%0A%20%20%20%20%20%20%20%20%20%20%20%20var%20tile_layer_435c18dd63674f099a4daddd0a919e7d%20%3D%20L.tileLayer%28%0A%20%20%20%20%20%20%20%20%20%20%20%20%20%20%20%20%22https%3A//%7Bs%7D.tile.openstreetmap.org/%7Bz%7D/%7Bx%7D/%7By%7D.png%22%2C%0A%20%20%20%20%20%20%20%20%20%20%20%20%20%20%20%20%7B%22attribution%22%3A%20%22Data%20by%20%5Cu0026copy%3B%20%5Cu003ca%20href%3D%5C%22http%3A//openstreetmap.org%5C%22%5Cu003eOpenStreetMap%5Cu003c/a%5Cu003e%2C%20under%20%5Cu003ca%20href%3D%5C%22http%3A//www.openstreetmap.org/copyright%5C%22%5Cu003eODbL%5Cu003c/a%5Cu003e.%22%2C%20%22detectRetina%22%3A%20false%2C%20%22maxNativeZoom%22%3A%2018%2C%20%22maxZoom%22%3A%2018%2C%20%22minZoom%22%3A%200%2C%20%22noWrap%22%3A%20false%2C%20%22opacity%22%3A%201%2C%20%22subdomains%22%3A%20%22abc%22%2C%20%22tms%22%3A%20false%7D%0A%20%20%20%20%20%20%20%20%20%20%20%20%29.addTo%28map_05f710563d3549ee9c5e41f173caaec0%29%3B%0A%20%20%20%20%20%20%20%20%0A%20%20%20%20%0A%20%20%20%20%20%20%20%20%20%20%20%20var%20tile_layer_d6888b279d004ff4bc495caeb0f32af4%20%3D%20L.tileLayer%28%0A%20%20%20%20%20%20%20%20%20%20%20%20%20%20%20%20%22https%3A//earthengine.googleapis.com/v1alpha/projects/earthengine-legacy/maps/cb69d092bc2d7891b8a44cd6e8ede203-43f9f4dcc862e201bbfb065b672ac25c/tiles/%7Bz%7D/%7Bx%7D/%7By%7D%22%2C%0A%20%20%20%20%20%20%20%20%20%20%20%20%20%20%20%20%7B%22attribution%22%3A%20%22Map%20Data%20%5Cu0026copy%3B%20%5Cu003ca%20href%3D%5C%22https%3A//earthengine.google.com/%5C%22%5Cu003eGoogle%20Earth%20Engine%5Cu003c/a%5Cu003e%22%2C%20%22detectRetina%22%3A%20false%2C%20%22maxNativeZoom%22%3A%2018%2C%20%22maxZoom%22%3A%2018%2C%20%22minZoom%22%3A%209%2C%20%22noWrap%22%3A%20false%2C%20%22opacity%22%3A%201%2C%20%22subdomains%22%3A%20%22abc%22%2C%20%22tms%22%3A%20false%7D%0A%20%20%20%20%20%20%20%20%20%20%20%20%29.addTo%28map_05f710563d3549ee9c5e41f173caaec0%29%3B%0A%20%20%20%20%20%20%20%20%0A%20%20%20%20%0A%20%20%20%20%20%20%20%20%20%20%20%20var%20layer_control_95978dd79e5d4dadad746985ae814d45%20%3D%20%7B%0A%20%20%20%20%20%20%20%20%20%20%20%20%20%20%20%20base_layers%20%3A%20%7B%0A%20%20%20%20%20%20%20%20%20%20%20%20%20%20%20%20%20%20%20%20%22openstreetmap%22%20%3A%20tile_layer_435c18dd63674f099a4daddd0a919e7d%2C%0A%20%20%20%20%20%20%20%20%20%20%20%20%20%20%20%20%7D%2C%0A%20%20%20%20%20%20%20%20%20%20%20%20%20%20%20%20overlays%20%3A%20%20%7B%0A%20%20%20%20%20%20%20%20%20%20%20%20%20%20%20%20%20%20%20%20%22S2%20cloud-free%20mosaic%22%20%3A%20tile_layer_d6888b279d004ff4bc495caeb0f32af4%2C%0A%20%20%20%20%20%20%20%20%20%20%20%20%20%20%20%20%7D%2C%0A%20%20%20%20%20%20%20%20%20%20%20%20%7D%3B%0A%20%20%20%20%20%20%20%20%20%20%20%20L.control.layers%28%0A%20%20%20%20%20%20%20%20%20%20%20%20%20%20%20%20layer_control_95978dd79e5d4dadad746985ae814d45.base_layers%2C%0A%20%20%20%20%20%20%20%20%20%20%20%20%20%20%20%20layer_control_95978dd79e5d4dadad746985ae814d45.overlays%2C%0A%20%20%20%20%20%20%20%20%20%20%20%20%20%20%20%20%7B%22autoZIndex%22%3A%20true%2C%20%22collapsed%22%3A%20true%2C%20%22position%22%3A%20%22topright%22%7D%0A%20%20%20%20%20%20%20%20%20%20%20%20%29.addTo%28map_05f710563d3549ee9c5e41f173caaec0%29%3B%0A%20%20%20%20%20%20%20%20%0A%3C/script%3E onload=\"this.contentDocument.open();this.contentDocument.write(    decodeURIComponent(this.getAttribute('data-html')));this.contentDocument.close();\" allowfullscreen webkitallowfullscreen mozallowfullscreen></iframe></div></div>"
      ],
      "text/plain": [
       "<folium.folium.Map at 0x10490cf10>"
      ]
     },
     "metadata": {},
     "output_type": "display_data"
    },
    {
     "name": "stdout",
     "output_type": "stream",
     "text": [
      "\n",
      " \n",
      "\n",
      "2019-02-01 - 2019-03-01\n"
     ]
    },
    {
     "data": {
      "text/html": [
       "<div style=\"width:100%;\"><div style=\"position:relative;width:100%;height:0;padding-bottom:60%;\"><span style=\"color:#565656\">Make this Notebook Trusted to load map: File -> Trust Notebook</span><iframe src=\"about:blank\" style=\"position:absolute;width:100%;height:100%;left:0;top:0;border:none !important;\" data-html=%3C%21DOCTYPE%20html%3E%0A%3Chead%3E%20%20%20%20%0A%20%20%20%20%3Cmeta%20http-equiv%3D%22content-type%22%20content%3D%22text/html%3B%20charset%3DUTF-8%22%20/%3E%0A%20%20%20%20%0A%20%20%20%20%20%20%20%20%3Cscript%3E%0A%20%20%20%20%20%20%20%20%20%20%20%20L_NO_TOUCH%20%3D%20false%3B%0A%20%20%20%20%20%20%20%20%20%20%20%20L_DISABLE_3D%20%3D%20false%3B%0A%20%20%20%20%20%20%20%20%3C/script%3E%0A%20%20%20%20%0A%20%20%20%20%3Cstyle%3Ehtml%2C%20body%20%7Bwidth%3A%20100%25%3Bheight%3A%20100%25%3Bmargin%3A%200%3Bpadding%3A%200%3B%7D%3C/style%3E%0A%20%20%20%20%3Cstyle%3E%23map%20%7Bposition%3Aabsolute%3Btop%3A0%3Bbottom%3A0%3Bright%3A0%3Bleft%3A0%3B%7D%3C/style%3E%0A%20%20%20%20%3Cscript%20src%3D%22https%3A//cdn.jsdelivr.net/npm/leaflet%401.6.0/dist/leaflet.js%22%3E%3C/script%3E%0A%20%20%20%20%3Cscript%20src%3D%22https%3A//code.jquery.com/jquery-1.12.4.min.js%22%3E%3C/script%3E%0A%20%20%20%20%3Cscript%20src%3D%22https%3A//maxcdn.bootstrapcdn.com/bootstrap/3.2.0/js/bootstrap.min.js%22%3E%3C/script%3E%0A%20%20%20%20%3Cscript%20src%3D%22https%3A//cdnjs.cloudflare.com/ajax/libs/Leaflet.awesome-markers/2.0.2/leaflet.awesome-markers.js%22%3E%3C/script%3E%0A%20%20%20%20%3Clink%20rel%3D%22stylesheet%22%20href%3D%22https%3A//cdn.jsdelivr.net/npm/leaflet%401.6.0/dist/leaflet.css%22/%3E%0A%20%20%20%20%3Clink%20rel%3D%22stylesheet%22%20href%3D%22https%3A//maxcdn.bootstrapcdn.com/bootstrap/3.2.0/css/bootstrap.min.css%22/%3E%0A%20%20%20%20%3Clink%20rel%3D%22stylesheet%22%20href%3D%22https%3A//maxcdn.bootstrapcdn.com/bootstrap/3.2.0/css/bootstrap-theme.min.css%22/%3E%0A%20%20%20%20%3Clink%20rel%3D%22stylesheet%22%20href%3D%22https%3A//maxcdn.bootstrapcdn.com/font-awesome/4.6.3/css/font-awesome.min.css%22/%3E%0A%20%20%20%20%3Clink%20rel%3D%22stylesheet%22%20href%3D%22https%3A//cdnjs.cloudflare.com/ajax/libs/Leaflet.awesome-markers/2.0.2/leaflet.awesome-markers.css%22/%3E%0A%20%20%20%20%3Clink%20rel%3D%22stylesheet%22%20href%3D%22https%3A//cdn.jsdelivr.net/gh/python-visualization/folium/folium/templates/leaflet.awesome.rotate.min.css%22/%3E%0A%20%20%20%20%0A%20%20%20%20%20%20%20%20%20%20%20%20%3Cmeta%20name%3D%22viewport%22%20content%3D%22width%3Ddevice-width%2C%0A%20%20%20%20%20%20%20%20%20%20%20%20%20%20%20%20initial-scale%3D1.0%2C%20maximum-scale%3D1.0%2C%20user-scalable%3Dno%22%20/%3E%0A%20%20%20%20%20%20%20%20%20%20%20%20%3Cstyle%3E%0A%20%20%20%20%20%20%20%20%20%20%20%20%20%20%20%20%23map_adda720bd8df4b4d92d110c4c1a5d0c5%20%7B%0A%20%20%20%20%20%20%20%20%20%20%20%20%20%20%20%20%20%20%20%20position%3A%20relative%3B%0A%20%20%20%20%20%20%20%20%20%20%20%20%20%20%20%20%20%20%20%20width%3A%20100.0%25%3B%0A%20%20%20%20%20%20%20%20%20%20%20%20%20%20%20%20%20%20%20%20height%3A%20100.0%25%3B%0A%20%20%20%20%20%20%20%20%20%20%20%20%20%20%20%20%20%20%20%20left%3A%200.0%25%3B%0A%20%20%20%20%20%20%20%20%20%20%20%20%20%20%20%20%20%20%20%20top%3A%200.0%25%3B%0A%20%20%20%20%20%20%20%20%20%20%20%20%20%20%20%20%7D%0A%20%20%20%20%20%20%20%20%20%20%20%20%3C/style%3E%0A%20%20%20%20%20%20%20%20%0A%3C/head%3E%0A%3Cbody%3E%20%20%20%20%0A%20%20%20%20%0A%20%20%20%20%20%20%20%20%20%20%20%20%3Cdiv%20class%3D%22folium-map%22%20id%3D%22map_adda720bd8df4b4d92d110c4c1a5d0c5%22%20%3E%3C/div%3E%0A%20%20%20%20%20%20%20%20%0A%3C/body%3E%0A%3Cscript%3E%20%20%20%20%0A%20%20%20%20%0A%20%20%20%20%20%20%20%20%20%20%20%20var%20map_adda720bd8df4b4d92d110c4c1a5d0c5%20%3D%20L.map%28%0A%20%20%20%20%20%20%20%20%20%20%20%20%20%20%20%20%22map_adda720bd8df4b4d92d110c4c1a5d0c5%22%2C%0A%20%20%20%20%20%20%20%20%20%20%20%20%20%20%20%20%7B%0A%20%20%20%20%20%20%20%20%20%20%20%20%20%20%20%20%20%20%20%20center%3A%20%5B-19.705570084543737%2C%2044.70292749999976%5D%2C%0A%20%20%20%20%20%20%20%20%20%20%20%20%20%20%20%20%20%20%20%20crs%3A%20L.CRS.EPSG3857%2C%0A%20%20%20%20%20%20%20%20%20%20%20%20%20%20%20%20%20%20%20%20zoom%3A%2010%2C%0A%20%20%20%20%20%20%20%20%20%20%20%20%20%20%20%20%20%20%20%20zoomControl%3A%20true%2C%0A%20%20%20%20%20%20%20%20%20%20%20%20%20%20%20%20%20%20%20%20preferCanvas%3A%20false%2C%0A%20%20%20%20%20%20%20%20%20%20%20%20%20%20%20%20%7D%0A%20%20%20%20%20%20%20%20%20%20%20%20%29%3B%0A%0A%20%20%20%20%20%20%20%20%20%20%20%20%0A%0A%20%20%20%20%20%20%20%20%0A%20%20%20%20%0A%20%20%20%20%20%20%20%20%20%20%20%20var%20tile_layer_c01b512ecfe64f449d04c636f931a731%20%3D%20L.tileLayer%28%0A%20%20%20%20%20%20%20%20%20%20%20%20%20%20%20%20%22https%3A//%7Bs%7D.tile.openstreetmap.org/%7Bz%7D/%7Bx%7D/%7By%7D.png%22%2C%0A%20%20%20%20%20%20%20%20%20%20%20%20%20%20%20%20%7B%22attribution%22%3A%20%22Data%20by%20%5Cu0026copy%3B%20%5Cu003ca%20href%3D%5C%22http%3A//openstreetmap.org%5C%22%5Cu003eOpenStreetMap%5Cu003c/a%5Cu003e%2C%20under%20%5Cu003ca%20href%3D%5C%22http%3A//www.openstreetmap.org/copyright%5C%22%5Cu003eODbL%5Cu003c/a%5Cu003e.%22%2C%20%22detectRetina%22%3A%20false%2C%20%22maxNativeZoom%22%3A%2018%2C%20%22maxZoom%22%3A%2018%2C%20%22minZoom%22%3A%200%2C%20%22noWrap%22%3A%20false%2C%20%22opacity%22%3A%201%2C%20%22subdomains%22%3A%20%22abc%22%2C%20%22tms%22%3A%20false%7D%0A%20%20%20%20%20%20%20%20%20%20%20%20%29.addTo%28map_adda720bd8df4b4d92d110c4c1a5d0c5%29%3B%0A%20%20%20%20%20%20%20%20%0A%20%20%20%20%0A%20%20%20%20%20%20%20%20%20%20%20%20var%20tile_layer_edf7150fe0a44ecb84da2591a0644a59%20%3D%20L.tileLayer%28%0A%20%20%20%20%20%20%20%20%20%20%20%20%20%20%20%20%22https%3A//earthengine.googleapis.com/v1alpha/projects/earthengine-legacy/maps/2a37f426bf07838a08484ab55aaf50b0-6c4aa72a30c519e028c5148572f51ea7/tiles/%7Bz%7D/%7Bx%7D/%7By%7D%22%2C%0A%20%20%20%20%20%20%20%20%20%20%20%20%20%20%20%20%7B%22attribution%22%3A%20%22Map%20Data%20%5Cu0026copy%3B%20%5Cu003ca%20href%3D%5C%22https%3A//earthengine.google.com/%5C%22%5Cu003eGoogle%20Earth%20Engine%5Cu003c/a%5Cu003e%22%2C%20%22detectRetina%22%3A%20false%2C%20%22maxNativeZoom%22%3A%2018%2C%20%22maxZoom%22%3A%2018%2C%20%22minZoom%22%3A%209%2C%20%22noWrap%22%3A%20false%2C%20%22opacity%22%3A%201%2C%20%22subdomains%22%3A%20%22abc%22%2C%20%22tms%22%3A%20false%7D%0A%20%20%20%20%20%20%20%20%20%20%20%20%29.addTo%28map_adda720bd8df4b4d92d110c4c1a5d0c5%29%3B%0A%20%20%20%20%20%20%20%20%0A%20%20%20%20%0A%20%20%20%20%20%20%20%20%20%20%20%20var%20layer_control_17cbce640a7d4172b8f6c0f55ab9dc69%20%3D%20%7B%0A%20%20%20%20%20%20%20%20%20%20%20%20%20%20%20%20base_layers%20%3A%20%7B%0A%20%20%20%20%20%20%20%20%20%20%20%20%20%20%20%20%20%20%20%20%22openstreetmap%22%20%3A%20tile_layer_c01b512ecfe64f449d04c636f931a731%2C%0A%20%20%20%20%20%20%20%20%20%20%20%20%20%20%20%20%7D%2C%0A%20%20%20%20%20%20%20%20%20%20%20%20%20%20%20%20overlays%20%3A%20%20%7B%0A%20%20%20%20%20%20%20%20%20%20%20%20%20%20%20%20%20%20%20%20%22S2%20cloud-free%20mosaic%22%20%3A%20tile_layer_edf7150fe0a44ecb84da2591a0644a59%2C%0A%20%20%20%20%20%20%20%20%20%20%20%20%20%20%20%20%7D%2C%0A%20%20%20%20%20%20%20%20%20%20%20%20%7D%3B%0A%20%20%20%20%20%20%20%20%20%20%20%20L.control.layers%28%0A%20%20%20%20%20%20%20%20%20%20%20%20%20%20%20%20layer_control_17cbce640a7d4172b8f6c0f55ab9dc69.base_layers%2C%0A%20%20%20%20%20%20%20%20%20%20%20%20%20%20%20%20layer_control_17cbce640a7d4172b8f6c0f55ab9dc69.overlays%2C%0A%20%20%20%20%20%20%20%20%20%20%20%20%20%20%20%20%7B%22autoZIndex%22%3A%20true%2C%20%22collapsed%22%3A%20true%2C%20%22position%22%3A%20%22topright%22%7D%0A%20%20%20%20%20%20%20%20%20%20%20%20%29.addTo%28map_adda720bd8df4b4d92d110c4c1a5d0c5%29%3B%0A%20%20%20%20%20%20%20%20%0A%3C/script%3E onload=\"this.contentDocument.open();this.contentDocument.write(    decodeURIComponent(this.getAttribute('data-html')));this.contentDocument.close();\" allowfullscreen webkitallowfullscreen mozallowfullscreen></iframe></div></div>"
      ],
      "text/plain": [
       "<folium.folium.Map at 0x104989cd0>"
      ]
     },
     "metadata": {},
     "output_type": "display_data"
    },
    {
     "name": "stdout",
     "output_type": "stream",
     "text": [
      "\n",
      " \n",
      "\n",
      "2019-03-01 - 2019-04-01\n"
     ]
    },
    {
     "data": {
      "text/html": [
       "<div style=\"width:100%;\"><div style=\"position:relative;width:100%;height:0;padding-bottom:60%;\"><span style=\"color:#565656\">Make this Notebook Trusted to load map: File -> Trust Notebook</span><iframe src=\"about:blank\" style=\"position:absolute;width:100%;height:100%;left:0;top:0;border:none !important;\" data-html=%3C%21DOCTYPE%20html%3E%0A%3Chead%3E%20%20%20%20%0A%20%20%20%20%3Cmeta%20http-equiv%3D%22content-type%22%20content%3D%22text/html%3B%20charset%3DUTF-8%22%20/%3E%0A%20%20%20%20%0A%20%20%20%20%20%20%20%20%3Cscript%3E%0A%20%20%20%20%20%20%20%20%20%20%20%20L_NO_TOUCH%20%3D%20false%3B%0A%20%20%20%20%20%20%20%20%20%20%20%20L_DISABLE_3D%20%3D%20false%3B%0A%20%20%20%20%20%20%20%20%3C/script%3E%0A%20%20%20%20%0A%20%20%20%20%3Cstyle%3Ehtml%2C%20body%20%7Bwidth%3A%20100%25%3Bheight%3A%20100%25%3Bmargin%3A%200%3Bpadding%3A%200%3B%7D%3C/style%3E%0A%20%20%20%20%3Cstyle%3E%23map%20%7Bposition%3Aabsolute%3Btop%3A0%3Bbottom%3A0%3Bright%3A0%3Bleft%3A0%3B%7D%3C/style%3E%0A%20%20%20%20%3Cscript%20src%3D%22https%3A//cdn.jsdelivr.net/npm/leaflet%401.6.0/dist/leaflet.js%22%3E%3C/script%3E%0A%20%20%20%20%3Cscript%20src%3D%22https%3A//code.jquery.com/jquery-1.12.4.min.js%22%3E%3C/script%3E%0A%20%20%20%20%3Cscript%20src%3D%22https%3A//maxcdn.bootstrapcdn.com/bootstrap/3.2.0/js/bootstrap.min.js%22%3E%3C/script%3E%0A%20%20%20%20%3Cscript%20src%3D%22https%3A//cdnjs.cloudflare.com/ajax/libs/Leaflet.awesome-markers/2.0.2/leaflet.awesome-markers.js%22%3E%3C/script%3E%0A%20%20%20%20%3Clink%20rel%3D%22stylesheet%22%20href%3D%22https%3A//cdn.jsdelivr.net/npm/leaflet%401.6.0/dist/leaflet.css%22/%3E%0A%20%20%20%20%3Clink%20rel%3D%22stylesheet%22%20href%3D%22https%3A//maxcdn.bootstrapcdn.com/bootstrap/3.2.0/css/bootstrap.min.css%22/%3E%0A%20%20%20%20%3Clink%20rel%3D%22stylesheet%22%20href%3D%22https%3A//maxcdn.bootstrapcdn.com/bootstrap/3.2.0/css/bootstrap-theme.min.css%22/%3E%0A%20%20%20%20%3Clink%20rel%3D%22stylesheet%22%20href%3D%22https%3A//maxcdn.bootstrapcdn.com/font-awesome/4.6.3/css/font-awesome.min.css%22/%3E%0A%20%20%20%20%3Clink%20rel%3D%22stylesheet%22%20href%3D%22https%3A//cdnjs.cloudflare.com/ajax/libs/Leaflet.awesome-markers/2.0.2/leaflet.awesome-markers.css%22/%3E%0A%20%20%20%20%3Clink%20rel%3D%22stylesheet%22%20href%3D%22https%3A//cdn.jsdelivr.net/gh/python-visualization/folium/folium/templates/leaflet.awesome.rotate.min.css%22/%3E%0A%20%20%20%20%0A%20%20%20%20%20%20%20%20%20%20%20%20%3Cmeta%20name%3D%22viewport%22%20content%3D%22width%3Ddevice-width%2C%0A%20%20%20%20%20%20%20%20%20%20%20%20%20%20%20%20initial-scale%3D1.0%2C%20maximum-scale%3D1.0%2C%20user-scalable%3Dno%22%20/%3E%0A%20%20%20%20%20%20%20%20%20%20%20%20%3Cstyle%3E%0A%20%20%20%20%20%20%20%20%20%20%20%20%20%20%20%20%23map_9f87efd52054499e8f92bdce83a6699d%20%7B%0A%20%20%20%20%20%20%20%20%20%20%20%20%20%20%20%20%20%20%20%20position%3A%20relative%3B%0A%20%20%20%20%20%20%20%20%20%20%20%20%20%20%20%20%20%20%20%20width%3A%20100.0%25%3B%0A%20%20%20%20%20%20%20%20%20%20%20%20%20%20%20%20%20%20%20%20height%3A%20100.0%25%3B%0A%20%20%20%20%20%20%20%20%20%20%20%20%20%20%20%20%20%20%20%20left%3A%200.0%25%3B%0A%20%20%20%20%20%20%20%20%20%20%20%20%20%20%20%20%20%20%20%20top%3A%200.0%25%3B%0A%20%20%20%20%20%20%20%20%20%20%20%20%20%20%20%20%7D%0A%20%20%20%20%20%20%20%20%20%20%20%20%3C/style%3E%0A%20%20%20%20%20%20%20%20%0A%3C/head%3E%0A%3Cbody%3E%20%20%20%20%0A%20%20%20%20%0A%20%20%20%20%20%20%20%20%20%20%20%20%3Cdiv%20class%3D%22folium-map%22%20id%3D%22map_9f87efd52054499e8f92bdce83a6699d%22%20%3E%3C/div%3E%0A%20%20%20%20%20%20%20%20%0A%3C/body%3E%0A%3Cscript%3E%20%20%20%20%0A%20%20%20%20%0A%20%20%20%20%20%20%20%20%20%20%20%20var%20map_9f87efd52054499e8f92bdce83a6699d%20%3D%20L.map%28%0A%20%20%20%20%20%20%20%20%20%20%20%20%20%20%20%20%22map_9f87efd52054499e8f92bdce83a6699d%22%2C%0A%20%20%20%20%20%20%20%20%20%20%20%20%20%20%20%20%7B%0A%20%20%20%20%20%20%20%20%20%20%20%20%20%20%20%20%20%20%20%20center%3A%20%5B-19.705570084543737%2C%2044.70292749999976%5D%2C%0A%20%20%20%20%20%20%20%20%20%20%20%20%20%20%20%20%20%20%20%20crs%3A%20L.CRS.EPSG3857%2C%0A%20%20%20%20%20%20%20%20%20%20%20%20%20%20%20%20%20%20%20%20zoom%3A%2010%2C%0A%20%20%20%20%20%20%20%20%20%20%20%20%20%20%20%20%20%20%20%20zoomControl%3A%20true%2C%0A%20%20%20%20%20%20%20%20%20%20%20%20%20%20%20%20%20%20%20%20preferCanvas%3A%20false%2C%0A%20%20%20%20%20%20%20%20%20%20%20%20%20%20%20%20%7D%0A%20%20%20%20%20%20%20%20%20%20%20%20%29%3B%0A%0A%20%20%20%20%20%20%20%20%20%20%20%20%0A%0A%20%20%20%20%20%20%20%20%0A%20%20%20%20%0A%20%20%20%20%20%20%20%20%20%20%20%20var%20tile_layer_2df89ea2244a406fab60dd121c6c7387%20%3D%20L.tileLayer%28%0A%20%20%20%20%20%20%20%20%20%20%20%20%20%20%20%20%22https%3A//%7Bs%7D.tile.openstreetmap.org/%7Bz%7D/%7Bx%7D/%7By%7D.png%22%2C%0A%20%20%20%20%20%20%20%20%20%20%20%20%20%20%20%20%7B%22attribution%22%3A%20%22Data%20by%20%5Cu0026copy%3B%20%5Cu003ca%20href%3D%5C%22http%3A//openstreetmap.org%5C%22%5Cu003eOpenStreetMap%5Cu003c/a%5Cu003e%2C%20under%20%5Cu003ca%20href%3D%5C%22http%3A//www.openstreetmap.org/copyright%5C%22%5Cu003eODbL%5Cu003c/a%5Cu003e.%22%2C%20%22detectRetina%22%3A%20false%2C%20%22maxNativeZoom%22%3A%2018%2C%20%22maxZoom%22%3A%2018%2C%20%22minZoom%22%3A%200%2C%20%22noWrap%22%3A%20false%2C%20%22opacity%22%3A%201%2C%20%22subdomains%22%3A%20%22abc%22%2C%20%22tms%22%3A%20false%7D%0A%20%20%20%20%20%20%20%20%20%20%20%20%29.addTo%28map_9f87efd52054499e8f92bdce83a6699d%29%3B%0A%20%20%20%20%20%20%20%20%0A%20%20%20%20%0A%20%20%20%20%20%20%20%20%20%20%20%20var%20tile_layer_c17c94fd673a44cdb3c8e167383734ed%20%3D%20L.tileLayer%28%0A%20%20%20%20%20%20%20%20%20%20%20%20%20%20%20%20%22https%3A//earthengine.googleapis.com/v1alpha/projects/earthengine-legacy/maps/52862058979912157af237c50186279b-37023b7c271c62c931b163ccbd18be6c/tiles/%7Bz%7D/%7Bx%7D/%7By%7D%22%2C%0A%20%20%20%20%20%20%20%20%20%20%20%20%20%20%20%20%7B%22attribution%22%3A%20%22Map%20Data%20%5Cu0026copy%3B%20%5Cu003ca%20href%3D%5C%22https%3A//earthengine.google.com/%5C%22%5Cu003eGoogle%20Earth%20Engine%5Cu003c/a%5Cu003e%22%2C%20%22detectRetina%22%3A%20false%2C%20%22maxNativeZoom%22%3A%2018%2C%20%22maxZoom%22%3A%2018%2C%20%22minZoom%22%3A%209%2C%20%22noWrap%22%3A%20false%2C%20%22opacity%22%3A%201%2C%20%22subdomains%22%3A%20%22abc%22%2C%20%22tms%22%3A%20false%7D%0A%20%20%20%20%20%20%20%20%20%20%20%20%29.addTo%28map_9f87efd52054499e8f92bdce83a6699d%29%3B%0A%20%20%20%20%20%20%20%20%0A%20%20%20%20%0A%20%20%20%20%20%20%20%20%20%20%20%20var%20layer_control_2528f49b002740828db6fa72670dfe80%20%3D%20%7B%0A%20%20%20%20%20%20%20%20%20%20%20%20%20%20%20%20base_layers%20%3A%20%7B%0A%20%20%20%20%20%20%20%20%20%20%20%20%20%20%20%20%20%20%20%20%22openstreetmap%22%20%3A%20tile_layer_2df89ea2244a406fab60dd121c6c7387%2C%0A%20%20%20%20%20%20%20%20%20%20%20%20%20%20%20%20%7D%2C%0A%20%20%20%20%20%20%20%20%20%20%20%20%20%20%20%20overlays%20%3A%20%20%7B%0A%20%20%20%20%20%20%20%20%20%20%20%20%20%20%20%20%20%20%20%20%22S2%20cloud-free%20mosaic%22%20%3A%20tile_layer_c17c94fd673a44cdb3c8e167383734ed%2C%0A%20%20%20%20%20%20%20%20%20%20%20%20%20%20%20%20%7D%2C%0A%20%20%20%20%20%20%20%20%20%20%20%20%7D%3B%0A%20%20%20%20%20%20%20%20%20%20%20%20L.control.layers%28%0A%20%20%20%20%20%20%20%20%20%20%20%20%20%20%20%20layer_control_2528f49b002740828db6fa72670dfe80.base_layers%2C%0A%20%20%20%20%20%20%20%20%20%20%20%20%20%20%20%20layer_control_2528f49b002740828db6fa72670dfe80.overlays%2C%0A%20%20%20%20%20%20%20%20%20%20%20%20%20%20%20%20%7B%22autoZIndex%22%3A%20true%2C%20%22collapsed%22%3A%20true%2C%20%22position%22%3A%20%22topright%22%7D%0A%20%20%20%20%20%20%20%20%20%20%20%20%29.addTo%28map_9f87efd52054499e8f92bdce83a6699d%29%3B%0A%20%20%20%20%20%20%20%20%0A%3C/script%3E onload=\"this.contentDocument.open();this.contentDocument.write(    decodeURIComponent(this.getAttribute('data-html')));this.contentDocument.close();\" allowfullscreen webkitallowfullscreen mozallowfullscreen></iframe></div></div>"
      ],
      "text/plain": [
       "<folium.folium.Map at 0x104989970>"
      ]
     },
     "metadata": {},
     "output_type": "display_data"
    },
    {
     "name": "stdout",
     "output_type": "stream",
     "text": [
      "\n",
      " \n",
      "\n",
      "2019-04-01 - 2019-05-01\n"
     ]
    },
    {
     "data": {
      "text/html": [
       "<div style=\"width:100%;\"><div style=\"position:relative;width:100%;height:0;padding-bottom:60%;\"><span style=\"color:#565656\">Make this Notebook Trusted to load map: File -> Trust Notebook</span><iframe src=\"about:blank\" style=\"position:absolute;width:100%;height:100%;left:0;top:0;border:none !important;\" data-html=%3C%21DOCTYPE%20html%3E%0A%3Chead%3E%20%20%20%20%0A%20%20%20%20%3Cmeta%20http-equiv%3D%22content-type%22%20content%3D%22text/html%3B%20charset%3DUTF-8%22%20/%3E%0A%20%20%20%20%0A%20%20%20%20%20%20%20%20%3Cscript%3E%0A%20%20%20%20%20%20%20%20%20%20%20%20L_NO_TOUCH%20%3D%20false%3B%0A%20%20%20%20%20%20%20%20%20%20%20%20L_DISABLE_3D%20%3D%20false%3B%0A%20%20%20%20%20%20%20%20%3C/script%3E%0A%20%20%20%20%0A%20%20%20%20%3Cstyle%3Ehtml%2C%20body%20%7Bwidth%3A%20100%25%3Bheight%3A%20100%25%3Bmargin%3A%200%3Bpadding%3A%200%3B%7D%3C/style%3E%0A%20%20%20%20%3Cstyle%3E%23map%20%7Bposition%3Aabsolute%3Btop%3A0%3Bbottom%3A0%3Bright%3A0%3Bleft%3A0%3B%7D%3C/style%3E%0A%20%20%20%20%3Cscript%20src%3D%22https%3A//cdn.jsdelivr.net/npm/leaflet%401.6.0/dist/leaflet.js%22%3E%3C/script%3E%0A%20%20%20%20%3Cscript%20src%3D%22https%3A//code.jquery.com/jquery-1.12.4.min.js%22%3E%3C/script%3E%0A%20%20%20%20%3Cscript%20src%3D%22https%3A//maxcdn.bootstrapcdn.com/bootstrap/3.2.0/js/bootstrap.min.js%22%3E%3C/script%3E%0A%20%20%20%20%3Cscript%20src%3D%22https%3A//cdnjs.cloudflare.com/ajax/libs/Leaflet.awesome-markers/2.0.2/leaflet.awesome-markers.js%22%3E%3C/script%3E%0A%20%20%20%20%3Clink%20rel%3D%22stylesheet%22%20href%3D%22https%3A//cdn.jsdelivr.net/npm/leaflet%401.6.0/dist/leaflet.css%22/%3E%0A%20%20%20%20%3Clink%20rel%3D%22stylesheet%22%20href%3D%22https%3A//maxcdn.bootstrapcdn.com/bootstrap/3.2.0/css/bootstrap.min.css%22/%3E%0A%20%20%20%20%3Clink%20rel%3D%22stylesheet%22%20href%3D%22https%3A//maxcdn.bootstrapcdn.com/bootstrap/3.2.0/css/bootstrap-theme.min.css%22/%3E%0A%20%20%20%20%3Clink%20rel%3D%22stylesheet%22%20href%3D%22https%3A//maxcdn.bootstrapcdn.com/font-awesome/4.6.3/css/font-awesome.min.css%22/%3E%0A%20%20%20%20%3Clink%20rel%3D%22stylesheet%22%20href%3D%22https%3A//cdnjs.cloudflare.com/ajax/libs/Leaflet.awesome-markers/2.0.2/leaflet.awesome-markers.css%22/%3E%0A%20%20%20%20%3Clink%20rel%3D%22stylesheet%22%20href%3D%22https%3A//cdn.jsdelivr.net/gh/python-visualization/folium/folium/templates/leaflet.awesome.rotate.min.css%22/%3E%0A%20%20%20%20%0A%20%20%20%20%20%20%20%20%20%20%20%20%3Cmeta%20name%3D%22viewport%22%20content%3D%22width%3Ddevice-width%2C%0A%20%20%20%20%20%20%20%20%20%20%20%20%20%20%20%20initial-scale%3D1.0%2C%20maximum-scale%3D1.0%2C%20user-scalable%3Dno%22%20/%3E%0A%20%20%20%20%20%20%20%20%20%20%20%20%3Cstyle%3E%0A%20%20%20%20%20%20%20%20%20%20%20%20%20%20%20%20%23map_397e23196e2a4ca08c3eb1ece2af0f2d%20%7B%0A%20%20%20%20%20%20%20%20%20%20%20%20%20%20%20%20%20%20%20%20position%3A%20relative%3B%0A%20%20%20%20%20%20%20%20%20%20%20%20%20%20%20%20%20%20%20%20width%3A%20100.0%25%3B%0A%20%20%20%20%20%20%20%20%20%20%20%20%20%20%20%20%20%20%20%20height%3A%20100.0%25%3B%0A%20%20%20%20%20%20%20%20%20%20%20%20%20%20%20%20%20%20%20%20left%3A%200.0%25%3B%0A%20%20%20%20%20%20%20%20%20%20%20%20%20%20%20%20%20%20%20%20top%3A%200.0%25%3B%0A%20%20%20%20%20%20%20%20%20%20%20%20%20%20%20%20%7D%0A%20%20%20%20%20%20%20%20%20%20%20%20%3C/style%3E%0A%20%20%20%20%20%20%20%20%0A%3C/head%3E%0A%3Cbody%3E%20%20%20%20%0A%20%20%20%20%0A%20%20%20%20%20%20%20%20%20%20%20%20%3Cdiv%20class%3D%22folium-map%22%20id%3D%22map_397e23196e2a4ca08c3eb1ece2af0f2d%22%20%3E%3C/div%3E%0A%20%20%20%20%20%20%20%20%0A%3C/body%3E%0A%3Cscript%3E%20%20%20%20%0A%20%20%20%20%0A%20%20%20%20%20%20%20%20%20%20%20%20var%20map_397e23196e2a4ca08c3eb1ece2af0f2d%20%3D%20L.map%28%0A%20%20%20%20%20%20%20%20%20%20%20%20%20%20%20%20%22map_397e23196e2a4ca08c3eb1ece2af0f2d%22%2C%0A%20%20%20%20%20%20%20%20%20%20%20%20%20%20%20%20%7B%0A%20%20%20%20%20%20%20%20%20%20%20%20%20%20%20%20%20%20%20%20center%3A%20%5B-19.705570084543737%2C%2044.70292749999976%5D%2C%0A%20%20%20%20%20%20%20%20%20%20%20%20%20%20%20%20%20%20%20%20crs%3A%20L.CRS.EPSG3857%2C%0A%20%20%20%20%20%20%20%20%20%20%20%20%20%20%20%20%20%20%20%20zoom%3A%2010%2C%0A%20%20%20%20%20%20%20%20%20%20%20%20%20%20%20%20%20%20%20%20zoomControl%3A%20true%2C%0A%20%20%20%20%20%20%20%20%20%20%20%20%20%20%20%20%20%20%20%20preferCanvas%3A%20false%2C%0A%20%20%20%20%20%20%20%20%20%20%20%20%20%20%20%20%7D%0A%20%20%20%20%20%20%20%20%20%20%20%20%29%3B%0A%0A%20%20%20%20%20%20%20%20%20%20%20%20%0A%0A%20%20%20%20%20%20%20%20%0A%20%20%20%20%0A%20%20%20%20%20%20%20%20%20%20%20%20var%20tile_layer_ae0337a33d6747978e0539e5bc738a61%20%3D%20L.tileLayer%28%0A%20%20%20%20%20%20%20%20%20%20%20%20%20%20%20%20%22https%3A//%7Bs%7D.tile.openstreetmap.org/%7Bz%7D/%7Bx%7D/%7By%7D.png%22%2C%0A%20%20%20%20%20%20%20%20%20%20%20%20%20%20%20%20%7B%22attribution%22%3A%20%22Data%20by%20%5Cu0026copy%3B%20%5Cu003ca%20href%3D%5C%22http%3A//openstreetmap.org%5C%22%5Cu003eOpenStreetMap%5Cu003c/a%5Cu003e%2C%20under%20%5Cu003ca%20href%3D%5C%22http%3A//www.openstreetmap.org/copyright%5C%22%5Cu003eODbL%5Cu003c/a%5Cu003e.%22%2C%20%22detectRetina%22%3A%20false%2C%20%22maxNativeZoom%22%3A%2018%2C%20%22maxZoom%22%3A%2018%2C%20%22minZoom%22%3A%200%2C%20%22noWrap%22%3A%20false%2C%20%22opacity%22%3A%201%2C%20%22subdomains%22%3A%20%22abc%22%2C%20%22tms%22%3A%20false%7D%0A%20%20%20%20%20%20%20%20%20%20%20%20%29.addTo%28map_397e23196e2a4ca08c3eb1ece2af0f2d%29%3B%0A%20%20%20%20%20%20%20%20%0A%20%20%20%20%0A%20%20%20%20%20%20%20%20%20%20%20%20var%20tile_layer_851ca9bdbc4947059a44928647cfefca%20%3D%20L.tileLayer%28%0A%20%20%20%20%20%20%20%20%20%20%20%20%20%20%20%20%22https%3A//earthengine.googleapis.com/v1alpha/projects/earthengine-legacy/maps/788afe16da40ab968e7e2e90b9b29b84-fdc4881e1f85667fe1edcd7ad3f32f11/tiles/%7Bz%7D/%7Bx%7D/%7By%7D%22%2C%0A%20%20%20%20%20%20%20%20%20%20%20%20%20%20%20%20%7B%22attribution%22%3A%20%22Map%20Data%20%5Cu0026copy%3B%20%5Cu003ca%20href%3D%5C%22https%3A//earthengine.google.com/%5C%22%5Cu003eGoogle%20Earth%20Engine%5Cu003c/a%5Cu003e%22%2C%20%22detectRetina%22%3A%20false%2C%20%22maxNativeZoom%22%3A%2018%2C%20%22maxZoom%22%3A%2018%2C%20%22minZoom%22%3A%209%2C%20%22noWrap%22%3A%20false%2C%20%22opacity%22%3A%201%2C%20%22subdomains%22%3A%20%22abc%22%2C%20%22tms%22%3A%20false%7D%0A%20%20%20%20%20%20%20%20%20%20%20%20%29.addTo%28map_397e23196e2a4ca08c3eb1ece2af0f2d%29%3B%0A%20%20%20%20%20%20%20%20%0A%20%20%20%20%0A%20%20%20%20%20%20%20%20%20%20%20%20var%20layer_control_26d38f7434284389b436c58738426774%20%3D%20%7B%0A%20%20%20%20%20%20%20%20%20%20%20%20%20%20%20%20base_layers%20%3A%20%7B%0A%20%20%20%20%20%20%20%20%20%20%20%20%20%20%20%20%20%20%20%20%22openstreetmap%22%20%3A%20tile_layer_ae0337a33d6747978e0539e5bc738a61%2C%0A%20%20%20%20%20%20%20%20%20%20%20%20%20%20%20%20%7D%2C%0A%20%20%20%20%20%20%20%20%20%20%20%20%20%20%20%20overlays%20%3A%20%20%7B%0A%20%20%20%20%20%20%20%20%20%20%20%20%20%20%20%20%20%20%20%20%22S2%20cloud-free%20mosaic%22%20%3A%20tile_layer_851ca9bdbc4947059a44928647cfefca%2C%0A%20%20%20%20%20%20%20%20%20%20%20%20%20%20%20%20%7D%2C%0A%20%20%20%20%20%20%20%20%20%20%20%20%7D%3B%0A%20%20%20%20%20%20%20%20%20%20%20%20L.control.layers%28%0A%20%20%20%20%20%20%20%20%20%20%20%20%20%20%20%20layer_control_26d38f7434284389b436c58738426774.base_layers%2C%0A%20%20%20%20%20%20%20%20%20%20%20%20%20%20%20%20layer_control_26d38f7434284389b436c58738426774.overlays%2C%0A%20%20%20%20%20%20%20%20%20%20%20%20%20%20%20%20%7B%22autoZIndex%22%3A%20true%2C%20%22collapsed%22%3A%20true%2C%20%22position%22%3A%20%22topright%22%7D%0A%20%20%20%20%20%20%20%20%20%20%20%20%29.addTo%28map_397e23196e2a4ca08c3eb1ece2af0f2d%29%3B%0A%20%20%20%20%20%20%20%20%0A%3C/script%3E onload=\"this.contentDocument.open();this.contentDocument.write(    decodeURIComponent(this.getAttribute('data-html')));this.contentDocument.close();\" allowfullscreen webkitallowfullscreen mozallowfullscreen></iframe></div></div>"
      ],
      "text/plain": [
       "<folium.folium.Map at 0x13e9456a0>"
      ]
     },
     "metadata": {},
     "output_type": "display_data"
    },
    {
     "name": "stdout",
     "output_type": "stream",
     "text": [
      "\n",
      " \n",
      "\n",
      "2019-05-01 - 2019-06-01\n"
     ]
    },
    {
     "data": {
      "text/html": [
       "<div style=\"width:100%;\"><div style=\"position:relative;width:100%;height:0;padding-bottom:60%;\"><span style=\"color:#565656\">Make this Notebook Trusted to load map: File -> Trust Notebook</span><iframe src=\"about:blank\" style=\"position:absolute;width:100%;height:100%;left:0;top:0;border:none !important;\" data-html=%3C%21DOCTYPE%20html%3E%0A%3Chead%3E%20%20%20%20%0A%20%20%20%20%3Cmeta%20http-equiv%3D%22content-type%22%20content%3D%22text/html%3B%20charset%3DUTF-8%22%20/%3E%0A%20%20%20%20%0A%20%20%20%20%20%20%20%20%3Cscript%3E%0A%20%20%20%20%20%20%20%20%20%20%20%20L_NO_TOUCH%20%3D%20false%3B%0A%20%20%20%20%20%20%20%20%20%20%20%20L_DISABLE_3D%20%3D%20false%3B%0A%20%20%20%20%20%20%20%20%3C/script%3E%0A%20%20%20%20%0A%20%20%20%20%3Cstyle%3Ehtml%2C%20body%20%7Bwidth%3A%20100%25%3Bheight%3A%20100%25%3Bmargin%3A%200%3Bpadding%3A%200%3B%7D%3C/style%3E%0A%20%20%20%20%3Cstyle%3E%23map%20%7Bposition%3Aabsolute%3Btop%3A0%3Bbottom%3A0%3Bright%3A0%3Bleft%3A0%3B%7D%3C/style%3E%0A%20%20%20%20%3Cscript%20src%3D%22https%3A//cdn.jsdelivr.net/npm/leaflet%401.6.0/dist/leaflet.js%22%3E%3C/script%3E%0A%20%20%20%20%3Cscript%20src%3D%22https%3A//code.jquery.com/jquery-1.12.4.min.js%22%3E%3C/script%3E%0A%20%20%20%20%3Cscript%20src%3D%22https%3A//maxcdn.bootstrapcdn.com/bootstrap/3.2.0/js/bootstrap.min.js%22%3E%3C/script%3E%0A%20%20%20%20%3Cscript%20src%3D%22https%3A//cdnjs.cloudflare.com/ajax/libs/Leaflet.awesome-markers/2.0.2/leaflet.awesome-markers.js%22%3E%3C/script%3E%0A%20%20%20%20%3Clink%20rel%3D%22stylesheet%22%20href%3D%22https%3A//cdn.jsdelivr.net/npm/leaflet%401.6.0/dist/leaflet.css%22/%3E%0A%20%20%20%20%3Clink%20rel%3D%22stylesheet%22%20href%3D%22https%3A//maxcdn.bootstrapcdn.com/bootstrap/3.2.0/css/bootstrap.min.css%22/%3E%0A%20%20%20%20%3Clink%20rel%3D%22stylesheet%22%20href%3D%22https%3A//maxcdn.bootstrapcdn.com/bootstrap/3.2.0/css/bootstrap-theme.min.css%22/%3E%0A%20%20%20%20%3Clink%20rel%3D%22stylesheet%22%20href%3D%22https%3A//maxcdn.bootstrapcdn.com/font-awesome/4.6.3/css/font-awesome.min.css%22/%3E%0A%20%20%20%20%3Clink%20rel%3D%22stylesheet%22%20href%3D%22https%3A//cdnjs.cloudflare.com/ajax/libs/Leaflet.awesome-markers/2.0.2/leaflet.awesome-markers.css%22/%3E%0A%20%20%20%20%3Clink%20rel%3D%22stylesheet%22%20href%3D%22https%3A//cdn.jsdelivr.net/gh/python-visualization/folium/folium/templates/leaflet.awesome.rotate.min.css%22/%3E%0A%20%20%20%20%0A%20%20%20%20%20%20%20%20%20%20%20%20%3Cmeta%20name%3D%22viewport%22%20content%3D%22width%3Ddevice-width%2C%0A%20%20%20%20%20%20%20%20%20%20%20%20%20%20%20%20initial-scale%3D1.0%2C%20maximum-scale%3D1.0%2C%20user-scalable%3Dno%22%20/%3E%0A%20%20%20%20%20%20%20%20%20%20%20%20%3Cstyle%3E%0A%20%20%20%20%20%20%20%20%20%20%20%20%20%20%20%20%23map_71a38f3974464a60baf3aa00ff5d0770%20%7B%0A%20%20%20%20%20%20%20%20%20%20%20%20%20%20%20%20%20%20%20%20position%3A%20relative%3B%0A%20%20%20%20%20%20%20%20%20%20%20%20%20%20%20%20%20%20%20%20width%3A%20100.0%25%3B%0A%20%20%20%20%20%20%20%20%20%20%20%20%20%20%20%20%20%20%20%20height%3A%20100.0%25%3B%0A%20%20%20%20%20%20%20%20%20%20%20%20%20%20%20%20%20%20%20%20left%3A%200.0%25%3B%0A%20%20%20%20%20%20%20%20%20%20%20%20%20%20%20%20%20%20%20%20top%3A%200.0%25%3B%0A%20%20%20%20%20%20%20%20%20%20%20%20%20%20%20%20%7D%0A%20%20%20%20%20%20%20%20%20%20%20%20%3C/style%3E%0A%20%20%20%20%20%20%20%20%0A%3C/head%3E%0A%3Cbody%3E%20%20%20%20%0A%20%20%20%20%0A%20%20%20%20%20%20%20%20%20%20%20%20%3Cdiv%20class%3D%22folium-map%22%20id%3D%22map_71a38f3974464a60baf3aa00ff5d0770%22%20%3E%3C/div%3E%0A%20%20%20%20%20%20%20%20%0A%3C/body%3E%0A%3Cscript%3E%20%20%20%20%0A%20%20%20%20%0A%20%20%20%20%20%20%20%20%20%20%20%20var%20map_71a38f3974464a60baf3aa00ff5d0770%20%3D%20L.map%28%0A%20%20%20%20%20%20%20%20%20%20%20%20%20%20%20%20%22map_71a38f3974464a60baf3aa00ff5d0770%22%2C%0A%20%20%20%20%20%20%20%20%20%20%20%20%20%20%20%20%7B%0A%20%20%20%20%20%20%20%20%20%20%20%20%20%20%20%20%20%20%20%20center%3A%20%5B-19.705570084543737%2C%2044.70292749999976%5D%2C%0A%20%20%20%20%20%20%20%20%20%20%20%20%20%20%20%20%20%20%20%20crs%3A%20L.CRS.EPSG3857%2C%0A%20%20%20%20%20%20%20%20%20%20%20%20%20%20%20%20%20%20%20%20zoom%3A%2010%2C%0A%20%20%20%20%20%20%20%20%20%20%20%20%20%20%20%20%20%20%20%20zoomControl%3A%20true%2C%0A%20%20%20%20%20%20%20%20%20%20%20%20%20%20%20%20%20%20%20%20preferCanvas%3A%20false%2C%0A%20%20%20%20%20%20%20%20%20%20%20%20%20%20%20%20%7D%0A%20%20%20%20%20%20%20%20%20%20%20%20%29%3B%0A%0A%20%20%20%20%20%20%20%20%20%20%20%20%0A%0A%20%20%20%20%20%20%20%20%0A%20%20%20%20%0A%20%20%20%20%20%20%20%20%20%20%20%20var%20tile_layer_5de161c6436644378f92a5c07b364dd8%20%3D%20L.tileLayer%28%0A%20%20%20%20%20%20%20%20%20%20%20%20%20%20%20%20%22https%3A//%7Bs%7D.tile.openstreetmap.org/%7Bz%7D/%7Bx%7D/%7By%7D.png%22%2C%0A%20%20%20%20%20%20%20%20%20%20%20%20%20%20%20%20%7B%22attribution%22%3A%20%22Data%20by%20%5Cu0026copy%3B%20%5Cu003ca%20href%3D%5C%22http%3A//openstreetmap.org%5C%22%5Cu003eOpenStreetMap%5Cu003c/a%5Cu003e%2C%20under%20%5Cu003ca%20href%3D%5C%22http%3A//www.openstreetmap.org/copyright%5C%22%5Cu003eODbL%5Cu003c/a%5Cu003e.%22%2C%20%22detectRetina%22%3A%20false%2C%20%22maxNativeZoom%22%3A%2018%2C%20%22maxZoom%22%3A%2018%2C%20%22minZoom%22%3A%200%2C%20%22noWrap%22%3A%20false%2C%20%22opacity%22%3A%201%2C%20%22subdomains%22%3A%20%22abc%22%2C%20%22tms%22%3A%20false%7D%0A%20%20%20%20%20%20%20%20%20%20%20%20%29.addTo%28map_71a38f3974464a60baf3aa00ff5d0770%29%3B%0A%20%20%20%20%20%20%20%20%0A%20%20%20%20%0A%20%20%20%20%20%20%20%20%20%20%20%20var%20tile_layer_d7fd8ef8d9874c10b3e5f0caa2029ab9%20%3D%20L.tileLayer%28%0A%20%20%20%20%20%20%20%20%20%20%20%20%20%20%20%20%22https%3A//earthengine.googleapis.com/v1alpha/projects/earthengine-legacy/maps/1ef2f48203247601983f1abed4d5dbec-0448fc2ba0fca18b437630c8f86e23ca/tiles/%7Bz%7D/%7Bx%7D/%7By%7D%22%2C%0A%20%20%20%20%20%20%20%20%20%20%20%20%20%20%20%20%7B%22attribution%22%3A%20%22Map%20Data%20%5Cu0026copy%3B%20%5Cu003ca%20href%3D%5C%22https%3A//earthengine.google.com/%5C%22%5Cu003eGoogle%20Earth%20Engine%5Cu003c/a%5Cu003e%22%2C%20%22detectRetina%22%3A%20false%2C%20%22maxNativeZoom%22%3A%2018%2C%20%22maxZoom%22%3A%2018%2C%20%22minZoom%22%3A%209%2C%20%22noWrap%22%3A%20false%2C%20%22opacity%22%3A%201%2C%20%22subdomains%22%3A%20%22abc%22%2C%20%22tms%22%3A%20false%7D%0A%20%20%20%20%20%20%20%20%20%20%20%20%29.addTo%28map_71a38f3974464a60baf3aa00ff5d0770%29%3B%0A%20%20%20%20%20%20%20%20%0A%20%20%20%20%0A%20%20%20%20%20%20%20%20%20%20%20%20var%20layer_control_751ee88eb15c4aca9df0e07242963c99%20%3D%20%7B%0A%20%20%20%20%20%20%20%20%20%20%20%20%20%20%20%20base_layers%20%3A%20%7B%0A%20%20%20%20%20%20%20%20%20%20%20%20%20%20%20%20%20%20%20%20%22openstreetmap%22%20%3A%20tile_layer_5de161c6436644378f92a5c07b364dd8%2C%0A%20%20%20%20%20%20%20%20%20%20%20%20%20%20%20%20%7D%2C%0A%20%20%20%20%20%20%20%20%20%20%20%20%20%20%20%20overlays%20%3A%20%20%7B%0A%20%20%20%20%20%20%20%20%20%20%20%20%20%20%20%20%20%20%20%20%22S2%20cloud-free%20mosaic%22%20%3A%20tile_layer_d7fd8ef8d9874c10b3e5f0caa2029ab9%2C%0A%20%20%20%20%20%20%20%20%20%20%20%20%20%20%20%20%7D%2C%0A%20%20%20%20%20%20%20%20%20%20%20%20%7D%3B%0A%20%20%20%20%20%20%20%20%20%20%20%20L.control.layers%28%0A%20%20%20%20%20%20%20%20%20%20%20%20%20%20%20%20layer_control_751ee88eb15c4aca9df0e07242963c99.base_layers%2C%0A%20%20%20%20%20%20%20%20%20%20%20%20%20%20%20%20layer_control_751ee88eb15c4aca9df0e07242963c99.overlays%2C%0A%20%20%20%20%20%20%20%20%20%20%20%20%20%20%20%20%7B%22autoZIndex%22%3A%20true%2C%20%22collapsed%22%3A%20true%2C%20%22position%22%3A%20%22topright%22%7D%0A%20%20%20%20%20%20%20%20%20%20%20%20%29.addTo%28map_71a38f3974464a60baf3aa00ff5d0770%29%3B%0A%20%20%20%20%20%20%20%20%0A%3C/script%3E onload=\"this.contentDocument.open();this.contentDocument.write(    decodeURIComponent(this.getAttribute('data-html')));this.contentDocument.close();\" allowfullscreen webkitallowfullscreen mozallowfullscreen></iframe></div></div>"
      ],
      "text/plain": [
       "<folium.folium.Map at 0x13e995a00>"
      ]
     },
     "metadata": {},
     "output_type": "display_data"
    },
    {
     "name": "stdout",
     "output_type": "stream",
     "text": [
      "\n",
      " \n",
      "\n",
      "2019-06-01 - 2019-07-01\n"
     ]
    },
    {
     "data": {
      "text/html": [
       "<div style=\"width:100%;\"><div style=\"position:relative;width:100%;height:0;padding-bottom:60%;\"><span style=\"color:#565656\">Make this Notebook Trusted to load map: File -> Trust Notebook</span><iframe src=\"about:blank\" style=\"position:absolute;width:100%;height:100%;left:0;top:0;border:none !important;\" data-html=%3C%21DOCTYPE%20html%3E%0A%3Chead%3E%20%20%20%20%0A%20%20%20%20%3Cmeta%20http-equiv%3D%22content-type%22%20content%3D%22text/html%3B%20charset%3DUTF-8%22%20/%3E%0A%20%20%20%20%0A%20%20%20%20%20%20%20%20%3Cscript%3E%0A%20%20%20%20%20%20%20%20%20%20%20%20L_NO_TOUCH%20%3D%20false%3B%0A%20%20%20%20%20%20%20%20%20%20%20%20L_DISABLE_3D%20%3D%20false%3B%0A%20%20%20%20%20%20%20%20%3C/script%3E%0A%20%20%20%20%0A%20%20%20%20%3Cstyle%3Ehtml%2C%20body%20%7Bwidth%3A%20100%25%3Bheight%3A%20100%25%3Bmargin%3A%200%3Bpadding%3A%200%3B%7D%3C/style%3E%0A%20%20%20%20%3Cstyle%3E%23map%20%7Bposition%3Aabsolute%3Btop%3A0%3Bbottom%3A0%3Bright%3A0%3Bleft%3A0%3B%7D%3C/style%3E%0A%20%20%20%20%3Cscript%20src%3D%22https%3A//cdn.jsdelivr.net/npm/leaflet%401.6.0/dist/leaflet.js%22%3E%3C/script%3E%0A%20%20%20%20%3Cscript%20src%3D%22https%3A//code.jquery.com/jquery-1.12.4.min.js%22%3E%3C/script%3E%0A%20%20%20%20%3Cscript%20src%3D%22https%3A//maxcdn.bootstrapcdn.com/bootstrap/3.2.0/js/bootstrap.min.js%22%3E%3C/script%3E%0A%20%20%20%20%3Cscript%20src%3D%22https%3A//cdnjs.cloudflare.com/ajax/libs/Leaflet.awesome-markers/2.0.2/leaflet.awesome-markers.js%22%3E%3C/script%3E%0A%20%20%20%20%3Clink%20rel%3D%22stylesheet%22%20href%3D%22https%3A//cdn.jsdelivr.net/npm/leaflet%401.6.0/dist/leaflet.css%22/%3E%0A%20%20%20%20%3Clink%20rel%3D%22stylesheet%22%20href%3D%22https%3A//maxcdn.bootstrapcdn.com/bootstrap/3.2.0/css/bootstrap.min.css%22/%3E%0A%20%20%20%20%3Clink%20rel%3D%22stylesheet%22%20href%3D%22https%3A//maxcdn.bootstrapcdn.com/bootstrap/3.2.0/css/bootstrap-theme.min.css%22/%3E%0A%20%20%20%20%3Clink%20rel%3D%22stylesheet%22%20href%3D%22https%3A//maxcdn.bootstrapcdn.com/font-awesome/4.6.3/css/font-awesome.min.css%22/%3E%0A%20%20%20%20%3Clink%20rel%3D%22stylesheet%22%20href%3D%22https%3A//cdnjs.cloudflare.com/ajax/libs/Leaflet.awesome-markers/2.0.2/leaflet.awesome-markers.css%22/%3E%0A%20%20%20%20%3Clink%20rel%3D%22stylesheet%22%20href%3D%22https%3A//cdn.jsdelivr.net/gh/python-visualization/folium/folium/templates/leaflet.awesome.rotate.min.css%22/%3E%0A%20%20%20%20%0A%20%20%20%20%20%20%20%20%20%20%20%20%3Cmeta%20name%3D%22viewport%22%20content%3D%22width%3Ddevice-width%2C%0A%20%20%20%20%20%20%20%20%20%20%20%20%20%20%20%20initial-scale%3D1.0%2C%20maximum-scale%3D1.0%2C%20user-scalable%3Dno%22%20/%3E%0A%20%20%20%20%20%20%20%20%20%20%20%20%3Cstyle%3E%0A%20%20%20%20%20%20%20%20%20%20%20%20%20%20%20%20%23map_d182863b0c0c4d8abf581b563c5aee3b%20%7B%0A%20%20%20%20%20%20%20%20%20%20%20%20%20%20%20%20%20%20%20%20position%3A%20relative%3B%0A%20%20%20%20%20%20%20%20%20%20%20%20%20%20%20%20%20%20%20%20width%3A%20100.0%25%3B%0A%20%20%20%20%20%20%20%20%20%20%20%20%20%20%20%20%20%20%20%20height%3A%20100.0%25%3B%0A%20%20%20%20%20%20%20%20%20%20%20%20%20%20%20%20%20%20%20%20left%3A%200.0%25%3B%0A%20%20%20%20%20%20%20%20%20%20%20%20%20%20%20%20%20%20%20%20top%3A%200.0%25%3B%0A%20%20%20%20%20%20%20%20%20%20%20%20%20%20%20%20%7D%0A%20%20%20%20%20%20%20%20%20%20%20%20%3C/style%3E%0A%20%20%20%20%20%20%20%20%0A%3C/head%3E%0A%3Cbody%3E%20%20%20%20%0A%20%20%20%20%0A%20%20%20%20%20%20%20%20%20%20%20%20%3Cdiv%20class%3D%22folium-map%22%20id%3D%22map_d182863b0c0c4d8abf581b563c5aee3b%22%20%3E%3C/div%3E%0A%20%20%20%20%20%20%20%20%0A%3C/body%3E%0A%3Cscript%3E%20%20%20%20%0A%20%20%20%20%0A%20%20%20%20%20%20%20%20%20%20%20%20var%20map_d182863b0c0c4d8abf581b563c5aee3b%20%3D%20L.map%28%0A%20%20%20%20%20%20%20%20%20%20%20%20%20%20%20%20%22map_d182863b0c0c4d8abf581b563c5aee3b%22%2C%0A%20%20%20%20%20%20%20%20%20%20%20%20%20%20%20%20%7B%0A%20%20%20%20%20%20%20%20%20%20%20%20%20%20%20%20%20%20%20%20center%3A%20%5B-19.705570084543737%2C%2044.70292749999976%5D%2C%0A%20%20%20%20%20%20%20%20%20%20%20%20%20%20%20%20%20%20%20%20crs%3A%20L.CRS.EPSG3857%2C%0A%20%20%20%20%20%20%20%20%20%20%20%20%20%20%20%20%20%20%20%20zoom%3A%2010%2C%0A%20%20%20%20%20%20%20%20%20%20%20%20%20%20%20%20%20%20%20%20zoomControl%3A%20true%2C%0A%20%20%20%20%20%20%20%20%20%20%20%20%20%20%20%20%20%20%20%20preferCanvas%3A%20false%2C%0A%20%20%20%20%20%20%20%20%20%20%20%20%20%20%20%20%7D%0A%20%20%20%20%20%20%20%20%20%20%20%20%29%3B%0A%0A%20%20%20%20%20%20%20%20%20%20%20%20%0A%0A%20%20%20%20%20%20%20%20%0A%20%20%20%20%0A%20%20%20%20%20%20%20%20%20%20%20%20var%20tile_layer_a646ae8e78bd4032becb31c26c9bbb92%20%3D%20L.tileLayer%28%0A%20%20%20%20%20%20%20%20%20%20%20%20%20%20%20%20%22https%3A//%7Bs%7D.tile.openstreetmap.org/%7Bz%7D/%7Bx%7D/%7By%7D.png%22%2C%0A%20%20%20%20%20%20%20%20%20%20%20%20%20%20%20%20%7B%22attribution%22%3A%20%22Data%20by%20%5Cu0026copy%3B%20%5Cu003ca%20href%3D%5C%22http%3A//openstreetmap.org%5C%22%5Cu003eOpenStreetMap%5Cu003c/a%5Cu003e%2C%20under%20%5Cu003ca%20href%3D%5C%22http%3A//www.openstreetmap.org/copyright%5C%22%5Cu003eODbL%5Cu003c/a%5Cu003e.%22%2C%20%22detectRetina%22%3A%20false%2C%20%22maxNativeZoom%22%3A%2018%2C%20%22maxZoom%22%3A%2018%2C%20%22minZoom%22%3A%200%2C%20%22noWrap%22%3A%20false%2C%20%22opacity%22%3A%201%2C%20%22subdomains%22%3A%20%22abc%22%2C%20%22tms%22%3A%20false%7D%0A%20%20%20%20%20%20%20%20%20%20%20%20%29.addTo%28map_d182863b0c0c4d8abf581b563c5aee3b%29%3B%0A%20%20%20%20%20%20%20%20%0A%20%20%20%20%0A%20%20%20%20%20%20%20%20%20%20%20%20var%20tile_layer_9a3abf6e8e5c4f78ba31c75f747d13ed%20%3D%20L.tileLayer%28%0A%20%20%20%20%20%20%20%20%20%20%20%20%20%20%20%20%22https%3A//earthengine.googleapis.com/v1alpha/projects/earthengine-legacy/maps/8bd754819bca7809af64a0f00ac1051f-3d8e1c208bb9b38c626196f44f3f0c1c/tiles/%7Bz%7D/%7Bx%7D/%7By%7D%22%2C%0A%20%20%20%20%20%20%20%20%20%20%20%20%20%20%20%20%7B%22attribution%22%3A%20%22Map%20Data%20%5Cu0026copy%3B%20%5Cu003ca%20href%3D%5C%22https%3A//earthengine.google.com/%5C%22%5Cu003eGoogle%20Earth%20Engine%5Cu003c/a%5Cu003e%22%2C%20%22detectRetina%22%3A%20false%2C%20%22maxNativeZoom%22%3A%2018%2C%20%22maxZoom%22%3A%2018%2C%20%22minZoom%22%3A%209%2C%20%22noWrap%22%3A%20false%2C%20%22opacity%22%3A%201%2C%20%22subdomains%22%3A%20%22abc%22%2C%20%22tms%22%3A%20false%7D%0A%20%20%20%20%20%20%20%20%20%20%20%20%29.addTo%28map_d182863b0c0c4d8abf581b563c5aee3b%29%3B%0A%20%20%20%20%20%20%20%20%0A%20%20%20%20%0A%20%20%20%20%20%20%20%20%20%20%20%20var%20layer_control_74db1cfade654324a9e5bd77f8167852%20%3D%20%7B%0A%20%20%20%20%20%20%20%20%20%20%20%20%20%20%20%20base_layers%20%3A%20%7B%0A%20%20%20%20%20%20%20%20%20%20%20%20%20%20%20%20%20%20%20%20%22openstreetmap%22%20%3A%20tile_layer_a646ae8e78bd4032becb31c26c9bbb92%2C%0A%20%20%20%20%20%20%20%20%20%20%20%20%20%20%20%20%7D%2C%0A%20%20%20%20%20%20%20%20%20%20%20%20%20%20%20%20overlays%20%3A%20%20%7B%0A%20%20%20%20%20%20%20%20%20%20%20%20%20%20%20%20%20%20%20%20%22S2%20cloud-free%20mosaic%22%20%3A%20tile_layer_9a3abf6e8e5c4f78ba31c75f747d13ed%2C%0A%20%20%20%20%20%20%20%20%20%20%20%20%20%20%20%20%7D%2C%0A%20%20%20%20%20%20%20%20%20%20%20%20%7D%3B%0A%20%20%20%20%20%20%20%20%20%20%20%20L.control.layers%28%0A%20%20%20%20%20%20%20%20%20%20%20%20%20%20%20%20layer_control_74db1cfade654324a9e5bd77f8167852.base_layers%2C%0A%20%20%20%20%20%20%20%20%20%20%20%20%20%20%20%20layer_control_74db1cfade654324a9e5bd77f8167852.overlays%2C%0A%20%20%20%20%20%20%20%20%20%20%20%20%20%20%20%20%7B%22autoZIndex%22%3A%20true%2C%20%22collapsed%22%3A%20true%2C%20%22position%22%3A%20%22topright%22%7D%0A%20%20%20%20%20%20%20%20%20%20%20%20%29.addTo%28map_d182863b0c0c4d8abf581b563c5aee3b%29%3B%0A%20%20%20%20%20%20%20%20%0A%3C/script%3E onload=\"this.contentDocument.open();this.contentDocument.write(    decodeURIComponent(this.getAttribute('data-html')));this.contentDocument.close();\" allowfullscreen webkitallowfullscreen mozallowfullscreen></iframe></div></div>"
      ],
      "text/plain": [
       "<folium.folium.Map at 0x13e260910>"
      ]
     },
     "metadata": {},
     "output_type": "display_data"
    },
    {
     "name": "stdout",
     "output_type": "stream",
     "text": [
      "\n",
      " \n",
      "\n",
      "2019-07-01 - 2019-08-01\n"
     ]
    },
    {
     "data": {
      "text/html": [
       "<div style=\"width:100%;\"><div style=\"position:relative;width:100%;height:0;padding-bottom:60%;\"><span style=\"color:#565656\">Make this Notebook Trusted to load map: File -> Trust Notebook</span><iframe src=\"about:blank\" style=\"position:absolute;width:100%;height:100%;left:0;top:0;border:none !important;\" data-html=%3C%21DOCTYPE%20html%3E%0A%3Chead%3E%20%20%20%20%0A%20%20%20%20%3Cmeta%20http-equiv%3D%22content-type%22%20content%3D%22text/html%3B%20charset%3DUTF-8%22%20/%3E%0A%20%20%20%20%0A%20%20%20%20%20%20%20%20%3Cscript%3E%0A%20%20%20%20%20%20%20%20%20%20%20%20L_NO_TOUCH%20%3D%20false%3B%0A%20%20%20%20%20%20%20%20%20%20%20%20L_DISABLE_3D%20%3D%20false%3B%0A%20%20%20%20%20%20%20%20%3C/script%3E%0A%20%20%20%20%0A%20%20%20%20%3Cstyle%3Ehtml%2C%20body%20%7Bwidth%3A%20100%25%3Bheight%3A%20100%25%3Bmargin%3A%200%3Bpadding%3A%200%3B%7D%3C/style%3E%0A%20%20%20%20%3Cstyle%3E%23map%20%7Bposition%3Aabsolute%3Btop%3A0%3Bbottom%3A0%3Bright%3A0%3Bleft%3A0%3B%7D%3C/style%3E%0A%20%20%20%20%3Cscript%20src%3D%22https%3A//cdn.jsdelivr.net/npm/leaflet%401.6.0/dist/leaflet.js%22%3E%3C/script%3E%0A%20%20%20%20%3Cscript%20src%3D%22https%3A//code.jquery.com/jquery-1.12.4.min.js%22%3E%3C/script%3E%0A%20%20%20%20%3Cscript%20src%3D%22https%3A//maxcdn.bootstrapcdn.com/bootstrap/3.2.0/js/bootstrap.min.js%22%3E%3C/script%3E%0A%20%20%20%20%3Cscript%20src%3D%22https%3A//cdnjs.cloudflare.com/ajax/libs/Leaflet.awesome-markers/2.0.2/leaflet.awesome-markers.js%22%3E%3C/script%3E%0A%20%20%20%20%3Clink%20rel%3D%22stylesheet%22%20href%3D%22https%3A//cdn.jsdelivr.net/npm/leaflet%401.6.0/dist/leaflet.css%22/%3E%0A%20%20%20%20%3Clink%20rel%3D%22stylesheet%22%20href%3D%22https%3A//maxcdn.bootstrapcdn.com/bootstrap/3.2.0/css/bootstrap.min.css%22/%3E%0A%20%20%20%20%3Clink%20rel%3D%22stylesheet%22%20href%3D%22https%3A//maxcdn.bootstrapcdn.com/bootstrap/3.2.0/css/bootstrap-theme.min.css%22/%3E%0A%20%20%20%20%3Clink%20rel%3D%22stylesheet%22%20href%3D%22https%3A//maxcdn.bootstrapcdn.com/font-awesome/4.6.3/css/font-awesome.min.css%22/%3E%0A%20%20%20%20%3Clink%20rel%3D%22stylesheet%22%20href%3D%22https%3A//cdnjs.cloudflare.com/ajax/libs/Leaflet.awesome-markers/2.0.2/leaflet.awesome-markers.css%22/%3E%0A%20%20%20%20%3Clink%20rel%3D%22stylesheet%22%20href%3D%22https%3A//cdn.jsdelivr.net/gh/python-visualization/folium/folium/templates/leaflet.awesome.rotate.min.css%22/%3E%0A%20%20%20%20%0A%20%20%20%20%20%20%20%20%20%20%20%20%3Cmeta%20name%3D%22viewport%22%20content%3D%22width%3Ddevice-width%2C%0A%20%20%20%20%20%20%20%20%20%20%20%20%20%20%20%20initial-scale%3D1.0%2C%20maximum-scale%3D1.0%2C%20user-scalable%3Dno%22%20/%3E%0A%20%20%20%20%20%20%20%20%20%20%20%20%3Cstyle%3E%0A%20%20%20%20%20%20%20%20%20%20%20%20%20%20%20%20%23map_64d5dc552d744d0693141d6fd467fcb9%20%7B%0A%20%20%20%20%20%20%20%20%20%20%20%20%20%20%20%20%20%20%20%20position%3A%20relative%3B%0A%20%20%20%20%20%20%20%20%20%20%20%20%20%20%20%20%20%20%20%20width%3A%20100.0%25%3B%0A%20%20%20%20%20%20%20%20%20%20%20%20%20%20%20%20%20%20%20%20height%3A%20100.0%25%3B%0A%20%20%20%20%20%20%20%20%20%20%20%20%20%20%20%20%20%20%20%20left%3A%200.0%25%3B%0A%20%20%20%20%20%20%20%20%20%20%20%20%20%20%20%20%20%20%20%20top%3A%200.0%25%3B%0A%20%20%20%20%20%20%20%20%20%20%20%20%20%20%20%20%7D%0A%20%20%20%20%20%20%20%20%20%20%20%20%3C/style%3E%0A%20%20%20%20%20%20%20%20%0A%3C/head%3E%0A%3Cbody%3E%20%20%20%20%0A%20%20%20%20%0A%20%20%20%20%20%20%20%20%20%20%20%20%3Cdiv%20class%3D%22folium-map%22%20id%3D%22map_64d5dc552d744d0693141d6fd467fcb9%22%20%3E%3C/div%3E%0A%20%20%20%20%20%20%20%20%0A%3C/body%3E%0A%3Cscript%3E%20%20%20%20%0A%20%20%20%20%0A%20%20%20%20%20%20%20%20%20%20%20%20var%20map_64d5dc552d744d0693141d6fd467fcb9%20%3D%20L.map%28%0A%20%20%20%20%20%20%20%20%20%20%20%20%20%20%20%20%22map_64d5dc552d744d0693141d6fd467fcb9%22%2C%0A%20%20%20%20%20%20%20%20%20%20%20%20%20%20%20%20%7B%0A%20%20%20%20%20%20%20%20%20%20%20%20%20%20%20%20%20%20%20%20center%3A%20%5B-19.705570084543737%2C%2044.70292749999976%5D%2C%0A%20%20%20%20%20%20%20%20%20%20%20%20%20%20%20%20%20%20%20%20crs%3A%20L.CRS.EPSG3857%2C%0A%20%20%20%20%20%20%20%20%20%20%20%20%20%20%20%20%20%20%20%20zoom%3A%2010%2C%0A%20%20%20%20%20%20%20%20%20%20%20%20%20%20%20%20%20%20%20%20zoomControl%3A%20true%2C%0A%20%20%20%20%20%20%20%20%20%20%20%20%20%20%20%20%20%20%20%20preferCanvas%3A%20false%2C%0A%20%20%20%20%20%20%20%20%20%20%20%20%20%20%20%20%7D%0A%20%20%20%20%20%20%20%20%20%20%20%20%29%3B%0A%0A%20%20%20%20%20%20%20%20%20%20%20%20%0A%0A%20%20%20%20%20%20%20%20%0A%20%20%20%20%0A%20%20%20%20%20%20%20%20%20%20%20%20var%20tile_layer_419058bc9e2143d6b864c3017b677a06%20%3D%20L.tileLayer%28%0A%20%20%20%20%20%20%20%20%20%20%20%20%20%20%20%20%22https%3A//%7Bs%7D.tile.openstreetmap.org/%7Bz%7D/%7Bx%7D/%7By%7D.png%22%2C%0A%20%20%20%20%20%20%20%20%20%20%20%20%20%20%20%20%7B%22attribution%22%3A%20%22Data%20by%20%5Cu0026copy%3B%20%5Cu003ca%20href%3D%5C%22http%3A//openstreetmap.org%5C%22%5Cu003eOpenStreetMap%5Cu003c/a%5Cu003e%2C%20under%20%5Cu003ca%20href%3D%5C%22http%3A//www.openstreetmap.org/copyright%5C%22%5Cu003eODbL%5Cu003c/a%5Cu003e.%22%2C%20%22detectRetina%22%3A%20false%2C%20%22maxNativeZoom%22%3A%2018%2C%20%22maxZoom%22%3A%2018%2C%20%22minZoom%22%3A%200%2C%20%22noWrap%22%3A%20false%2C%20%22opacity%22%3A%201%2C%20%22subdomains%22%3A%20%22abc%22%2C%20%22tms%22%3A%20false%7D%0A%20%20%20%20%20%20%20%20%20%20%20%20%29.addTo%28map_64d5dc552d744d0693141d6fd467fcb9%29%3B%0A%20%20%20%20%20%20%20%20%0A%20%20%20%20%0A%20%20%20%20%20%20%20%20%20%20%20%20var%20tile_layer_3f2d03355121409fa06be0546e73928c%20%3D%20L.tileLayer%28%0A%20%20%20%20%20%20%20%20%20%20%20%20%20%20%20%20%22https%3A//earthengine.googleapis.com/v1alpha/projects/earthengine-legacy/maps/44a25c3e5f23bff864fb43501e1064f6-2f1c77a87c074405a8dcf83cec7dd30c/tiles/%7Bz%7D/%7Bx%7D/%7By%7D%22%2C%0A%20%20%20%20%20%20%20%20%20%20%20%20%20%20%20%20%7B%22attribution%22%3A%20%22Map%20Data%20%5Cu0026copy%3B%20%5Cu003ca%20href%3D%5C%22https%3A//earthengine.google.com/%5C%22%5Cu003eGoogle%20Earth%20Engine%5Cu003c/a%5Cu003e%22%2C%20%22detectRetina%22%3A%20false%2C%20%22maxNativeZoom%22%3A%2018%2C%20%22maxZoom%22%3A%2018%2C%20%22minZoom%22%3A%209%2C%20%22noWrap%22%3A%20false%2C%20%22opacity%22%3A%201%2C%20%22subdomains%22%3A%20%22abc%22%2C%20%22tms%22%3A%20false%7D%0A%20%20%20%20%20%20%20%20%20%20%20%20%29.addTo%28map_64d5dc552d744d0693141d6fd467fcb9%29%3B%0A%20%20%20%20%20%20%20%20%0A%20%20%20%20%0A%20%20%20%20%20%20%20%20%20%20%20%20var%20layer_control_e4b38bd4fd7e41ed81768048f3e812cf%20%3D%20%7B%0A%20%20%20%20%20%20%20%20%20%20%20%20%20%20%20%20base_layers%20%3A%20%7B%0A%20%20%20%20%20%20%20%20%20%20%20%20%20%20%20%20%20%20%20%20%22openstreetmap%22%20%3A%20tile_layer_419058bc9e2143d6b864c3017b677a06%2C%0A%20%20%20%20%20%20%20%20%20%20%20%20%20%20%20%20%7D%2C%0A%20%20%20%20%20%20%20%20%20%20%20%20%20%20%20%20overlays%20%3A%20%20%7B%0A%20%20%20%20%20%20%20%20%20%20%20%20%20%20%20%20%20%20%20%20%22S2%20cloud-free%20mosaic%22%20%3A%20tile_layer_3f2d03355121409fa06be0546e73928c%2C%0A%20%20%20%20%20%20%20%20%20%20%20%20%20%20%20%20%7D%2C%0A%20%20%20%20%20%20%20%20%20%20%20%20%7D%3B%0A%20%20%20%20%20%20%20%20%20%20%20%20L.control.layers%28%0A%20%20%20%20%20%20%20%20%20%20%20%20%20%20%20%20layer_control_e4b38bd4fd7e41ed81768048f3e812cf.base_layers%2C%0A%20%20%20%20%20%20%20%20%20%20%20%20%20%20%20%20layer_control_e4b38bd4fd7e41ed81768048f3e812cf.overlays%2C%0A%20%20%20%20%20%20%20%20%20%20%20%20%20%20%20%20%7B%22autoZIndex%22%3A%20true%2C%20%22collapsed%22%3A%20true%2C%20%22position%22%3A%20%22topright%22%7D%0A%20%20%20%20%20%20%20%20%20%20%20%20%29.addTo%28map_64d5dc552d744d0693141d6fd467fcb9%29%3B%0A%20%20%20%20%20%20%20%20%0A%3C/script%3E onload=\"this.contentDocument.open();this.contentDocument.write(    decodeURIComponent(this.getAttribute('data-html')));this.contentDocument.close();\" allowfullscreen webkitallowfullscreen mozallowfullscreen></iframe></div></div>"
      ],
      "text/plain": [
       "<folium.folium.Map at 0x13e945790>"
      ]
     },
     "metadata": {},
     "output_type": "display_data"
    },
    {
     "name": "stdout",
     "output_type": "stream",
     "text": [
      "\n",
      " \n",
      "\n",
      "2019-08-01 - 2019-09-01\n"
     ]
    },
    {
     "data": {
      "text/html": [
       "<div style=\"width:100%;\"><div style=\"position:relative;width:100%;height:0;padding-bottom:60%;\"><span style=\"color:#565656\">Make this Notebook Trusted to load map: File -> Trust Notebook</span><iframe src=\"about:blank\" style=\"position:absolute;width:100%;height:100%;left:0;top:0;border:none !important;\" data-html=%3C%21DOCTYPE%20html%3E%0A%3Chead%3E%20%20%20%20%0A%20%20%20%20%3Cmeta%20http-equiv%3D%22content-type%22%20content%3D%22text/html%3B%20charset%3DUTF-8%22%20/%3E%0A%20%20%20%20%0A%20%20%20%20%20%20%20%20%3Cscript%3E%0A%20%20%20%20%20%20%20%20%20%20%20%20L_NO_TOUCH%20%3D%20false%3B%0A%20%20%20%20%20%20%20%20%20%20%20%20L_DISABLE_3D%20%3D%20false%3B%0A%20%20%20%20%20%20%20%20%3C/script%3E%0A%20%20%20%20%0A%20%20%20%20%3Cstyle%3Ehtml%2C%20body%20%7Bwidth%3A%20100%25%3Bheight%3A%20100%25%3Bmargin%3A%200%3Bpadding%3A%200%3B%7D%3C/style%3E%0A%20%20%20%20%3Cstyle%3E%23map%20%7Bposition%3Aabsolute%3Btop%3A0%3Bbottom%3A0%3Bright%3A0%3Bleft%3A0%3B%7D%3C/style%3E%0A%20%20%20%20%3Cscript%20src%3D%22https%3A//cdn.jsdelivr.net/npm/leaflet%401.6.0/dist/leaflet.js%22%3E%3C/script%3E%0A%20%20%20%20%3Cscript%20src%3D%22https%3A//code.jquery.com/jquery-1.12.4.min.js%22%3E%3C/script%3E%0A%20%20%20%20%3Cscript%20src%3D%22https%3A//maxcdn.bootstrapcdn.com/bootstrap/3.2.0/js/bootstrap.min.js%22%3E%3C/script%3E%0A%20%20%20%20%3Cscript%20src%3D%22https%3A//cdnjs.cloudflare.com/ajax/libs/Leaflet.awesome-markers/2.0.2/leaflet.awesome-markers.js%22%3E%3C/script%3E%0A%20%20%20%20%3Clink%20rel%3D%22stylesheet%22%20href%3D%22https%3A//cdn.jsdelivr.net/npm/leaflet%401.6.0/dist/leaflet.css%22/%3E%0A%20%20%20%20%3Clink%20rel%3D%22stylesheet%22%20href%3D%22https%3A//maxcdn.bootstrapcdn.com/bootstrap/3.2.0/css/bootstrap.min.css%22/%3E%0A%20%20%20%20%3Clink%20rel%3D%22stylesheet%22%20href%3D%22https%3A//maxcdn.bootstrapcdn.com/bootstrap/3.2.0/css/bootstrap-theme.min.css%22/%3E%0A%20%20%20%20%3Clink%20rel%3D%22stylesheet%22%20href%3D%22https%3A//maxcdn.bootstrapcdn.com/font-awesome/4.6.3/css/font-awesome.min.css%22/%3E%0A%20%20%20%20%3Clink%20rel%3D%22stylesheet%22%20href%3D%22https%3A//cdnjs.cloudflare.com/ajax/libs/Leaflet.awesome-markers/2.0.2/leaflet.awesome-markers.css%22/%3E%0A%20%20%20%20%3Clink%20rel%3D%22stylesheet%22%20href%3D%22https%3A//cdn.jsdelivr.net/gh/python-visualization/folium/folium/templates/leaflet.awesome.rotate.min.css%22/%3E%0A%20%20%20%20%0A%20%20%20%20%20%20%20%20%20%20%20%20%3Cmeta%20name%3D%22viewport%22%20content%3D%22width%3Ddevice-width%2C%0A%20%20%20%20%20%20%20%20%20%20%20%20%20%20%20%20initial-scale%3D1.0%2C%20maximum-scale%3D1.0%2C%20user-scalable%3Dno%22%20/%3E%0A%20%20%20%20%20%20%20%20%20%20%20%20%3Cstyle%3E%0A%20%20%20%20%20%20%20%20%20%20%20%20%20%20%20%20%23map_d5fb3a3096fb48f2b81f0c8c114be4ce%20%7B%0A%20%20%20%20%20%20%20%20%20%20%20%20%20%20%20%20%20%20%20%20position%3A%20relative%3B%0A%20%20%20%20%20%20%20%20%20%20%20%20%20%20%20%20%20%20%20%20width%3A%20100.0%25%3B%0A%20%20%20%20%20%20%20%20%20%20%20%20%20%20%20%20%20%20%20%20height%3A%20100.0%25%3B%0A%20%20%20%20%20%20%20%20%20%20%20%20%20%20%20%20%20%20%20%20left%3A%200.0%25%3B%0A%20%20%20%20%20%20%20%20%20%20%20%20%20%20%20%20%20%20%20%20top%3A%200.0%25%3B%0A%20%20%20%20%20%20%20%20%20%20%20%20%20%20%20%20%7D%0A%20%20%20%20%20%20%20%20%20%20%20%20%3C/style%3E%0A%20%20%20%20%20%20%20%20%0A%3C/head%3E%0A%3Cbody%3E%20%20%20%20%0A%20%20%20%20%0A%20%20%20%20%20%20%20%20%20%20%20%20%3Cdiv%20class%3D%22folium-map%22%20id%3D%22map_d5fb3a3096fb48f2b81f0c8c114be4ce%22%20%3E%3C/div%3E%0A%20%20%20%20%20%20%20%20%0A%3C/body%3E%0A%3Cscript%3E%20%20%20%20%0A%20%20%20%20%0A%20%20%20%20%20%20%20%20%20%20%20%20var%20map_d5fb3a3096fb48f2b81f0c8c114be4ce%20%3D%20L.map%28%0A%20%20%20%20%20%20%20%20%20%20%20%20%20%20%20%20%22map_d5fb3a3096fb48f2b81f0c8c114be4ce%22%2C%0A%20%20%20%20%20%20%20%20%20%20%20%20%20%20%20%20%7B%0A%20%20%20%20%20%20%20%20%20%20%20%20%20%20%20%20%20%20%20%20center%3A%20%5B-19.705570084543737%2C%2044.70292749999976%5D%2C%0A%20%20%20%20%20%20%20%20%20%20%20%20%20%20%20%20%20%20%20%20crs%3A%20L.CRS.EPSG3857%2C%0A%20%20%20%20%20%20%20%20%20%20%20%20%20%20%20%20%20%20%20%20zoom%3A%2010%2C%0A%20%20%20%20%20%20%20%20%20%20%20%20%20%20%20%20%20%20%20%20zoomControl%3A%20true%2C%0A%20%20%20%20%20%20%20%20%20%20%20%20%20%20%20%20%20%20%20%20preferCanvas%3A%20false%2C%0A%20%20%20%20%20%20%20%20%20%20%20%20%20%20%20%20%7D%0A%20%20%20%20%20%20%20%20%20%20%20%20%29%3B%0A%0A%20%20%20%20%20%20%20%20%20%20%20%20%0A%0A%20%20%20%20%20%20%20%20%0A%20%20%20%20%0A%20%20%20%20%20%20%20%20%20%20%20%20var%20tile_layer_1ea8250689cb4362af66d8a1977bcd8b%20%3D%20L.tileLayer%28%0A%20%20%20%20%20%20%20%20%20%20%20%20%20%20%20%20%22https%3A//%7Bs%7D.tile.openstreetmap.org/%7Bz%7D/%7Bx%7D/%7By%7D.png%22%2C%0A%20%20%20%20%20%20%20%20%20%20%20%20%20%20%20%20%7B%22attribution%22%3A%20%22Data%20by%20%5Cu0026copy%3B%20%5Cu003ca%20href%3D%5C%22http%3A//openstreetmap.org%5C%22%5Cu003eOpenStreetMap%5Cu003c/a%5Cu003e%2C%20under%20%5Cu003ca%20href%3D%5C%22http%3A//www.openstreetmap.org/copyright%5C%22%5Cu003eODbL%5Cu003c/a%5Cu003e.%22%2C%20%22detectRetina%22%3A%20false%2C%20%22maxNativeZoom%22%3A%2018%2C%20%22maxZoom%22%3A%2018%2C%20%22minZoom%22%3A%200%2C%20%22noWrap%22%3A%20false%2C%20%22opacity%22%3A%201%2C%20%22subdomains%22%3A%20%22abc%22%2C%20%22tms%22%3A%20false%7D%0A%20%20%20%20%20%20%20%20%20%20%20%20%29.addTo%28map_d5fb3a3096fb48f2b81f0c8c114be4ce%29%3B%0A%20%20%20%20%20%20%20%20%0A%20%20%20%20%0A%20%20%20%20%20%20%20%20%20%20%20%20var%20tile_layer_f98ab1c4545346b0b318a6752c767cdb%20%3D%20L.tileLayer%28%0A%20%20%20%20%20%20%20%20%20%20%20%20%20%20%20%20%22https%3A//earthengine.googleapis.com/v1alpha/projects/earthengine-legacy/maps/527b5d1ef5fb7c2e59cb52a829ec1e01-ccf49a21ff2940b456a3faa22aaef798/tiles/%7Bz%7D/%7Bx%7D/%7By%7D%22%2C%0A%20%20%20%20%20%20%20%20%20%20%20%20%20%20%20%20%7B%22attribution%22%3A%20%22Map%20Data%20%5Cu0026copy%3B%20%5Cu003ca%20href%3D%5C%22https%3A//earthengine.google.com/%5C%22%5Cu003eGoogle%20Earth%20Engine%5Cu003c/a%5Cu003e%22%2C%20%22detectRetina%22%3A%20false%2C%20%22maxNativeZoom%22%3A%2018%2C%20%22maxZoom%22%3A%2018%2C%20%22minZoom%22%3A%209%2C%20%22noWrap%22%3A%20false%2C%20%22opacity%22%3A%201%2C%20%22subdomains%22%3A%20%22abc%22%2C%20%22tms%22%3A%20false%7D%0A%20%20%20%20%20%20%20%20%20%20%20%20%29.addTo%28map_d5fb3a3096fb48f2b81f0c8c114be4ce%29%3B%0A%20%20%20%20%20%20%20%20%0A%20%20%20%20%0A%20%20%20%20%20%20%20%20%20%20%20%20var%20layer_control_e2b7e69ab069448eaa50ac21bd2dc989%20%3D%20%7B%0A%20%20%20%20%20%20%20%20%20%20%20%20%20%20%20%20base_layers%20%3A%20%7B%0A%20%20%20%20%20%20%20%20%20%20%20%20%20%20%20%20%20%20%20%20%22openstreetmap%22%20%3A%20tile_layer_1ea8250689cb4362af66d8a1977bcd8b%2C%0A%20%20%20%20%20%20%20%20%20%20%20%20%20%20%20%20%7D%2C%0A%20%20%20%20%20%20%20%20%20%20%20%20%20%20%20%20overlays%20%3A%20%20%7B%0A%20%20%20%20%20%20%20%20%20%20%20%20%20%20%20%20%20%20%20%20%22S2%20cloud-free%20mosaic%22%20%3A%20tile_layer_f98ab1c4545346b0b318a6752c767cdb%2C%0A%20%20%20%20%20%20%20%20%20%20%20%20%20%20%20%20%7D%2C%0A%20%20%20%20%20%20%20%20%20%20%20%20%7D%3B%0A%20%20%20%20%20%20%20%20%20%20%20%20L.control.layers%28%0A%20%20%20%20%20%20%20%20%20%20%20%20%20%20%20%20layer_control_e2b7e69ab069448eaa50ac21bd2dc989.base_layers%2C%0A%20%20%20%20%20%20%20%20%20%20%20%20%20%20%20%20layer_control_e2b7e69ab069448eaa50ac21bd2dc989.overlays%2C%0A%20%20%20%20%20%20%20%20%20%20%20%20%20%20%20%20%7B%22autoZIndex%22%3A%20true%2C%20%22collapsed%22%3A%20true%2C%20%22position%22%3A%20%22topright%22%7D%0A%20%20%20%20%20%20%20%20%20%20%20%20%29.addTo%28map_d5fb3a3096fb48f2b81f0c8c114be4ce%29%3B%0A%20%20%20%20%20%20%20%20%0A%3C/script%3E onload=\"this.contentDocument.open();this.contentDocument.write(    decodeURIComponent(this.getAttribute('data-html')));this.contentDocument.close();\" allowfullscreen webkitallowfullscreen mozallowfullscreen></iframe></div></div>"
      ],
      "text/plain": [
       "<folium.folium.Map at 0x13e82d880>"
      ]
     },
     "metadata": {},
     "output_type": "display_data"
    },
    {
     "name": "stdout",
     "output_type": "stream",
     "text": [
      "\n",
      " \n",
      "\n",
      "2019-09-01 - 2019-10-01\n"
     ]
    },
    {
     "data": {
      "text/html": [
       "<div style=\"width:100%;\"><div style=\"position:relative;width:100%;height:0;padding-bottom:60%;\"><span style=\"color:#565656\">Make this Notebook Trusted to load map: File -> Trust Notebook</span><iframe src=\"about:blank\" style=\"position:absolute;width:100%;height:100%;left:0;top:0;border:none !important;\" data-html=%3C%21DOCTYPE%20html%3E%0A%3Chead%3E%20%20%20%20%0A%20%20%20%20%3Cmeta%20http-equiv%3D%22content-type%22%20content%3D%22text/html%3B%20charset%3DUTF-8%22%20/%3E%0A%20%20%20%20%0A%20%20%20%20%20%20%20%20%3Cscript%3E%0A%20%20%20%20%20%20%20%20%20%20%20%20L_NO_TOUCH%20%3D%20false%3B%0A%20%20%20%20%20%20%20%20%20%20%20%20L_DISABLE_3D%20%3D%20false%3B%0A%20%20%20%20%20%20%20%20%3C/script%3E%0A%20%20%20%20%0A%20%20%20%20%3Cstyle%3Ehtml%2C%20body%20%7Bwidth%3A%20100%25%3Bheight%3A%20100%25%3Bmargin%3A%200%3Bpadding%3A%200%3B%7D%3C/style%3E%0A%20%20%20%20%3Cstyle%3E%23map%20%7Bposition%3Aabsolute%3Btop%3A0%3Bbottom%3A0%3Bright%3A0%3Bleft%3A0%3B%7D%3C/style%3E%0A%20%20%20%20%3Cscript%20src%3D%22https%3A//cdn.jsdelivr.net/npm/leaflet%401.6.0/dist/leaflet.js%22%3E%3C/script%3E%0A%20%20%20%20%3Cscript%20src%3D%22https%3A//code.jquery.com/jquery-1.12.4.min.js%22%3E%3C/script%3E%0A%20%20%20%20%3Cscript%20src%3D%22https%3A//maxcdn.bootstrapcdn.com/bootstrap/3.2.0/js/bootstrap.min.js%22%3E%3C/script%3E%0A%20%20%20%20%3Cscript%20src%3D%22https%3A//cdnjs.cloudflare.com/ajax/libs/Leaflet.awesome-markers/2.0.2/leaflet.awesome-markers.js%22%3E%3C/script%3E%0A%20%20%20%20%3Clink%20rel%3D%22stylesheet%22%20href%3D%22https%3A//cdn.jsdelivr.net/npm/leaflet%401.6.0/dist/leaflet.css%22/%3E%0A%20%20%20%20%3Clink%20rel%3D%22stylesheet%22%20href%3D%22https%3A//maxcdn.bootstrapcdn.com/bootstrap/3.2.0/css/bootstrap.min.css%22/%3E%0A%20%20%20%20%3Clink%20rel%3D%22stylesheet%22%20href%3D%22https%3A//maxcdn.bootstrapcdn.com/bootstrap/3.2.0/css/bootstrap-theme.min.css%22/%3E%0A%20%20%20%20%3Clink%20rel%3D%22stylesheet%22%20href%3D%22https%3A//maxcdn.bootstrapcdn.com/font-awesome/4.6.3/css/font-awesome.min.css%22/%3E%0A%20%20%20%20%3Clink%20rel%3D%22stylesheet%22%20href%3D%22https%3A//cdnjs.cloudflare.com/ajax/libs/Leaflet.awesome-markers/2.0.2/leaflet.awesome-markers.css%22/%3E%0A%20%20%20%20%3Clink%20rel%3D%22stylesheet%22%20href%3D%22https%3A//cdn.jsdelivr.net/gh/python-visualization/folium/folium/templates/leaflet.awesome.rotate.min.css%22/%3E%0A%20%20%20%20%0A%20%20%20%20%20%20%20%20%20%20%20%20%3Cmeta%20name%3D%22viewport%22%20content%3D%22width%3Ddevice-width%2C%0A%20%20%20%20%20%20%20%20%20%20%20%20%20%20%20%20initial-scale%3D1.0%2C%20maximum-scale%3D1.0%2C%20user-scalable%3Dno%22%20/%3E%0A%20%20%20%20%20%20%20%20%20%20%20%20%3Cstyle%3E%0A%20%20%20%20%20%20%20%20%20%20%20%20%20%20%20%20%23map_a0de8d94547f458aabe300a1e848e5ab%20%7B%0A%20%20%20%20%20%20%20%20%20%20%20%20%20%20%20%20%20%20%20%20position%3A%20relative%3B%0A%20%20%20%20%20%20%20%20%20%20%20%20%20%20%20%20%20%20%20%20width%3A%20100.0%25%3B%0A%20%20%20%20%20%20%20%20%20%20%20%20%20%20%20%20%20%20%20%20height%3A%20100.0%25%3B%0A%20%20%20%20%20%20%20%20%20%20%20%20%20%20%20%20%20%20%20%20left%3A%200.0%25%3B%0A%20%20%20%20%20%20%20%20%20%20%20%20%20%20%20%20%20%20%20%20top%3A%200.0%25%3B%0A%20%20%20%20%20%20%20%20%20%20%20%20%20%20%20%20%7D%0A%20%20%20%20%20%20%20%20%20%20%20%20%3C/style%3E%0A%20%20%20%20%20%20%20%20%0A%3C/head%3E%0A%3Cbody%3E%20%20%20%20%0A%20%20%20%20%0A%20%20%20%20%20%20%20%20%20%20%20%20%3Cdiv%20class%3D%22folium-map%22%20id%3D%22map_a0de8d94547f458aabe300a1e848e5ab%22%20%3E%3C/div%3E%0A%20%20%20%20%20%20%20%20%0A%3C/body%3E%0A%3Cscript%3E%20%20%20%20%0A%20%20%20%20%0A%20%20%20%20%20%20%20%20%20%20%20%20var%20map_a0de8d94547f458aabe300a1e848e5ab%20%3D%20L.map%28%0A%20%20%20%20%20%20%20%20%20%20%20%20%20%20%20%20%22map_a0de8d94547f458aabe300a1e848e5ab%22%2C%0A%20%20%20%20%20%20%20%20%20%20%20%20%20%20%20%20%7B%0A%20%20%20%20%20%20%20%20%20%20%20%20%20%20%20%20%20%20%20%20center%3A%20%5B-19.705570084543737%2C%2044.70292749999976%5D%2C%0A%20%20%20%20%20%20%20%20%20%20%20%20%20%20%20%20%20%20%20%20crs%3A%20L.CRS.EPSG3857%2C%0A%20%20%20%20%20%20%20%20%20%20%20%20%20%20%20%20%20%20%20%20zoom%3A%2010%2C%0A%20%20%20%20%20%20%20%20%20%20%20%20%20%20%20%20%20%20%20%20zoomControl%3A%20true%2C%0A%20%20%20%20%20%20%20%20%20%20%20%20%20%20%20%20%20%20%20%20preferCanvas%3A%20false%2C%0A%20%20%20%20%20%20%20%20%20%20%20%20%20%20%20%20%7D%0A%20%20%20%20%20%20%20%20%20%20%20%20%29%3B%0A%0A%20%20%20%20%20%20%20%20%20%20%20%20%0A%0A%20%20%20%20%20%20%20%20%0A%20%20%20%20%0A%20%20%20%20%20%20%20%20%20%20%20%20var%20tile_layer_87e911af7fb6422b9714f8a6079ccd2e%20%3D%20L.tileLayer%28%0A%20%20%20%20%20%20%20%20%20%20%20%20%20%20%20%20%22https%3A//%7Bs%7D.tile.openstreetmap.org/%7Bz%7D/%7Bx%7D/%7By%7D.png%22%2C%0A%20%20%20%20%20%20%20%20%20%20%20%20%20%20%20%20%7B%22attribution%22%3A%20%22Data%20by%20%5Cu0026copy%3B%20%5Cu003ca%20href%3D%5C%22http%3A//openstreetmap.org%5C%22%5Cu003eOpenStreetMap%5Cu003c/a%5Cu003e%2C%20under%20%5Cu003ca%20href%3D%5C%22http%3A//www.openstreetmap.org/copyright%5C%22%5Cu003eODbL%5Cu003c/a%5Cu003e.%22%2C%20%22detectRetina%22%3A%20false%2C%20%22maxNativeZoom%22%3A%2018%2C%20%22maxZoom%22%3A%2018%2C%20%22minZoom%22%3A%200%2C%20%22noWrap%22%3A%20false%2C%20%22opacity%22%3A%201%2C%20%22subdomains%22%3A%20%22abc%22%2C%20%22tms%22%3A%20false%7D%0A%20%20%20%20%20%20%20%20%20%20%20%20%29.addTo%28map_a0de8d94547f458aabe300a1e848e5ab%29%3B%0A%20%20%20%20%20%20%20%20%0A%20%20%20%20%0A%20%20%20%20%20%20%20%20%20%20%20%20var%20tile_layer_58befada6a624b83a1b13b08840098dd%20%3D%20L.tileLayer%28%0A%20%20%20%20%20%20%20%20%20%20%20%20%20%20%20%20%22https%3A//earthengine.googleapis.com/v1alpha/projects/earthengine-legacy/maps/c9d1872c4f909e3bc53d5278217d1b13-a9a5d73ca9d45b5795f832cf01b6510b/tiles/%7Bz%7D/%7Bx%7D/%7By%7D%22%2C%0A%20%20%20%20%20%20%20%20%20%20%20%20%20%20%20%20%7B%22attribution%22%3A%20%22Map%20Data%20%5Cu0026copy%3B%20%5Cu003ca%20href%3D%5C%22https%3A//earthengine.google.com/%5C%22%5Cu003eGoogle%20Earth%20Engine%5Cu003c/a%5Cu003e%22%2C%20%22detectRetina%22%3A%20false%2C%20%22maxNativeZoom%22%3A%2018%2C%20%22maxZoom%22%3A%2018%2C%20%22minZoom%22%3A%209%2C%20%22noWrap%22%3A%20false%2C%20%22opacity%22%3A%201%2C%20%22subdomains%22%3A%20%22abc%22%2C%20%22tms%22%3A%20false%7D%0A%20%20%20%20%20%20%20%20%20%20%20%20%29.addTo%28map_a0de8d94547f458aabe300a1e848e5ab%29%3B%0A%20%20%20%20%20%20%20%20%0A%20%20%20%20%0A%20%20%20%20%20%20%20%20%20%20%20%20var%20layer_control_bf57549ee81443508ac0a9c60fd7cd03%20%3D%20%7B%0A%20%20%20%20%20%20%20%20%20%20%20%20%20%20%20%20base_layers%20%3A%20%7B%0A%20%20%20%20%20%20%20%20%20%20%20%20%20%20%20%20%20%20%20%20%22openstreetmap%22%20%3A%20tile_layer_87e911af7fb6422b9714f8a6079ccd2e%2C%0A%20%20%20%20%20%20%20%20%20%20%20%20%20%20%20%20%7D%2C%0A%20%20%20%20%20%20%20%20%20%20%20%20%20%20%20%20overlays%20%3A%20%20%7B%0A%20%20%20%20%20%20%20%20%20%20%20%20%20%20%20%20%20%20%20%20%22S2%20cloud-free%20mosaic%22%20%3A%20tile_layer_58befada6a624b83a1b13b08840098dd%2C%0A%20%20%20%20%20%20%20%20%20%20%20%20%20%20%20%20%7D%2C%0A%20%20%20%20%20%20%20%20%20%20%20%20%7D%3B%0A%20%20%20%20%20%20%20%20%20%20%20%20L.control.layers%28%0A%20%20%20%20%20%20%20%20%20%20%20%20%20%20%20%20layer_control_bf57549ee81443508ac0a9c60fd7cd03.base_layers%2C%0A%20%20%20%20%20%20%20%20%20%20%20%20%20%20%20%20layer_control_bf57549ee81443508ac0a9c60fd7cd03.overlays%2C%0A%20%20%20%20%20%20%20%20%20%20%20%20%20%20%20%20%7B%22autoZIndex%22%3A%20true%2C%20%22collapsed%22%3A%20true%2C%20%22position%22%3A%20%22topright%22%7D%0A%20%20%20%20%20%20%20%20%20%20%20%20%29.addTo%28map_a0de8d94547f458aabe300a1e848e5ab%29%3B%0A%20%20%20%20%20%20%20%20%0A%3C/script%3E onload=\"this.contentDocument.open();this.contentDocument.write(    decodeURIComponent(this.getAttribute('data-html')));this.contentDocument.close();\" allowfullscreen webkitallowfullscreen mozallowfullscreen></iframe></div></div>"
      ],
      "text/plain": [
       "<folium.folium.Map at 0x13e98b2b0>"
      ]
     },
     "metadata": {},
     "output_type": "display_data"
    },
    {
     "name": "stdout",
     "output_type": "stream",
     "text": [
      "\n",
      " \n",
      "\n",
      "2019-10-01 - 2019-11-01\n"
     ]
    },
    {
     "data": {
      "text/html": [
       "<div style=\"width:100%;\"><div style=\"position:relative;width:100%;height:0;padding-bottom:60%;\"><span style=\"color:#565656\">Make this Notebook Trusted to load map: File -> Trust Notebook</span><iframe src=\"about:blank\" style=\"position:absolute;width:100%;height:100%;left:0;top:0;border:none !important;\" data-html=%3C%21DOCTYPE%20html%3E%0A%3Chead%3E%20%20%20%20%0A%20%20%20%20%3Cmeta%20http-equiv%3D%22content-type%22%20content%3D%22text/html%3B%20charset%3DUTF-8%22%20/%3E%0A%20%20%20%20%0A%20%20%20%20%20%20%20%20%3Cscript%3E%0A%20%20%20%20%20%20%20%20%20%20%20%20L_NO_TOUCH%20%3D%20false%3B%0A%20%20%20%20%20%20%20%20%20%20%20%20L_DISABLE_3D%20%3D%20false%3B%0A%20%20%20%20%20%20%20%20%3C/script%3E%0A%20%20%20%20%0A%20%20%20%20%3Cstyle%3Ehtml%2C%20body%20%7Bwidth%3A%20100%25%3Bheight%3A%20100%25%3Bmargin%3A%200%3Bpadding%3A%200%3B%7D%3C/style%3E%0A%20%20%20%20%3Cstyle%3E%23map%20%7Bposition%3Aabsolute%3Btop%3A0%3Bbottom%3A0%3Bright%3A0%3Bleft%3A0%3B%7D%3C/style%3E%0A%20%20%20%20%3Cscript%20src%3D%22https%3A//cdn.jsdelivr.net/npm/leaflet%401.6.0/dist/leaflet.js%22%3E%3C/script%3E%0A%20%20%20%20%3Cscript%20src%3D%22https%3A//code.jquery.com/jquery-1.12.4.min.js%22%3E%3C/script%3E%0A%20%20%20%20%3Cscript%20src%3D%22https%3A//maxcdn.bootstrapcdn.com/bootstrap/3.2.0/js/bootstrap.min.js%22%3E%3C/script%3E%0A%20%20%20%20%3Cscript%20src%3D%22https%3A//cdnjs.cloudflare.com/ajax/libs/Leaflet.awesome-markers/2.0.2/leaflet.awesome-markers.js%22%3E%3C/script%3E%0A%20%20%20%20%3Clink%20rel%3D%22stylesheet%22%20href%3D%22https%3A//cdn.jsdelivr.net/npm/leaflet%401.6.0/dist/leaflet.css%22/%3E%0A%20%20%20%20%3Clink%20rel%3D%22stylesheet%22%20href%3D%22https%3A//maxcdn.bootstrapcdn.com/bootstrap/3.2.0/css/bootstrap.min.css%22/%3E%0A%20%20%20%20%3Clink%20rel%3D%22stylesheet%22%20href%3D%22https%3A//maxcdn.bootstrapcdn.com/bootstrap/3.2.0/css/bootstrap-theme.min.css%22/%3E%0A%20%20%20%20%3Clink%20rel%3D%22stylesheet%22%20href%3D%22https%3A//maxcdn.bootstrapcdn.com/font-awesome/4.6.3/css/font-awesome.min.css%22/%3E%0A%20%20%20%20%3Clink%20rel%3D%22stylesheet%22%20href%3D%22https%3A//cdnjs.cloudflare.com/ajax/libs/Leaflet.awesome-markers/2.0.2/leaflet.awesome-markers.css%22/%3E%0A%20%20%20%20%3Clink%20rel%3D%22stylesheet%22%20href%3D%22https%3A//cdn.jsdelivr.net/gh/python-visualization/folium/folium/templates/leaflet.awesome.rotate.min.css%22/%3E%0A%20%20%20%20%0A%20%20%20%20%20%20%20%20%20%20%20%20%3Cmeta%20name%3D%22viewport%22%20content%3D%22width%3Ddevice-width%2C%0A%20%20%20%20%20%20%20%20%20%20%20%20%20%20%20%20initial-scale%3D1.0%2C%20maximum-scale%3D1.0%2C%20user-scalable%3Dno%22%20/%3E%0A%20%20%20%20%20%20%20%20%20%20%20%20%3Cstyle%3E%0A%20%20%20%20%20%20%20%20%20%20%20%20%20%20%20%20%23map_9e1c0538e36d4a1cad99466289468071%20%7B%0A%20%20%20%20%20%20%20%20%20%20%20%20%20%20%20%20%20%20%20%20position%3A%20relative%3B%0A%20%20%20%20%20%20%20%20%20%20%20%20%20%20%20%20%20%20%20%20width%3A%20100.0%25%3B%0A%20%20%20%20%20%20%20%20%20%20%20%20%20%20%20%20%20%20%20%20height%3A%20100.0%25%3B%0A%20%20%20%20%20%20%20%20%20%20%20%20%20%20%20%20%20%20%20%20left%3A%200.0%25%3B%0A%20%20%20%20%20%20%20%20%20%20%20%20%20%20%20%20%20%20%20%20top%3A%200.0%25%3B%0A%20%20%20%20%20%20%20%20%20%20%20%20%20%20%20%20%7D%0A%20%20%20%20%20%20%20%20%20%20%20%20%3C/style%3E%0A%20%20%20%20%20%20%20%20%0A%3C/head%3E%0A%3Cbody%3E%20%20%20%20%0A%20%20%20%20%0A%20%20%20%20%20%20%20%20%20%20%20%20%3Cdiv%20class%3D%22folium-map%22%20id%3D%22map_9e1c0538e36d4a1cad99466289468071%22%20%3E%3C/div%3E%0A%20%20%20%20%20%20%20%20%0A%3C/body%3E%0A%3Cscript%3E%20%20%20%20%0A%20%20%20%20%0A%20%20%20%20%20%20%20%20%20%20%20%20var%20map_9e1c0538e36d4a1cad99466289468071%20%3D%20L.map%28%0A%20%20%20%20%20%20%20%20%20%20%20%20%20%20%20%20%22map_9e1c0538e36d4a1cad99466289468071%22%2C%0A%20%20%20%20%20%20%20%20%20%20%20%20%20%20%20%20%7B%0A%20%20%20%20%20%20%20%20%20%20%20%20%20%20%20%20%20%20%20%20center%3A%20%5B-19.705570084543737%2C%2044.70292749999976%5D%2C%0A%20%20%20%20%20%20%20%20%20%20%20%20%20%20%20%20%20%20%20%20crs%3A%20L.CRS.EPSG3857%2C%0A%20%20%20%20%20%20%20%20%20%20%20%20%20%20%20%20%20%20%20%20zoom%3A%2010%2C%0A%20%20%20%20%20%20%20%20%20%20%20%20%20%20%20%20%20%20%20%20zoomControl%3A%20true%2C%0A%20%20%20%20%20%20%20%20%20%20%20%20%20%20%20%20%20%20%20%20preferCanvas%3A%20false%2C%0A%20%20%20%20%20%20%20%20%20%20%20%20%20%20%20%20%7D%0A%20%20%20%20%20%20%20%20%20%20%20%20%29%3B%0A%0A%20%20%20%20%20%20%20%20%20%20%20%20%0A%0A%20%20%20%20%20%20%20%20%0A%20%20%20%20%0A%20%20%20%20%20%20%20%20%20%20%20%20var%20tile_layer_3acd0733785d4f8d9a2c8915d42c2c94%20%3D%20L.tileLayer%28%0A%20%20%20%20%20%20%20%20%20%20%20%20%20%20%20%20%22https%3A//%7Bs%7D.tile.openstreetmap.org/%7Bz%7D/%7Bx%7D/%7By%7D.png%22%2C%0A%20%20%20%20%20%20%20%20%20%20%20%20%20%20%20%20%7B%22attribution%22%3A%20%22Data%20by%20%5Cu0026copy%3B%20%5Cu003ca%20href%3D%5C%22http%3A//openstreetmap.org%5C%22%5Cu003eOpenStreetMap%5Cu003c/a%5Cu003e%2C%20under%20%5Cu003ca%20href%3D%5C%22http%3A//www.openstreetmap.org/copyright%5C%22%5Cu003eODbL%5Cu003c/a%5Cu003e.%22%2C%20%22detectRetina%22%3A%20false%2C%20%22maxNativeZoom%22%3A%2018%2C%20%22maxZoom%22%3A%2018%2C%20%22minZoom%22%3A%200%2C%20%22noWrap%22%3A%20false%2C%20%22opacity%22%3A%201%2C%20%22subdomains%22%3A%20%22abc%22%2C%20%22tms%22%3A%20false%7D%0A%20%20%20%20%20%20%20%20%20%20%20%20%29.addTo%28map_9e1c0538e36d4a1cad99466289468071%29%3B%0A%20%20%20%20%20%20%20%20%0A%20%20%20%20%0A%20%20%20%20%20%20%20%20%20%20%20%20var%20tile_layer_71ec545e8f7f4bd09e567c75a8f1dc77%20%3D%20L.tileLayer%28%0A%20%20%20%20%20%20%20%20%20%20%20%20%20%20%20%20%22https%3A//earthengine.googleapis.com/v1alpha/projects/earthengine-legacy/maps/f53fa604f02d68f825752e457c6e836a-2e7d45b88d8613c907b7a264ca952802/tiles/%7Bz%7D/%7Bx%7D/%7By%7D%22%2C%0A%20%20%20%20%20%20%20%20%20%20%20%20%20%20%20%20%7B%22attribution%22%3A%20%22Map%20Data%20%5Cu0026copy%3B%20%5Cu003ca%20href%3D%5C%22https%3A//earthengine.google.com/%5C%22%5Cu003eGoogle%20Earth%20Engine%5Cu003c/a%5Cu003e%22%2C%20%22detectRetina%22%3A%20false%2C%20%22maxNativeZoom%22%3A%2018%2C%20%22maxZoom%22%3A%2018%2C%20%22minZoom%22%3A%209%2C%20%22noWrap%22%3A%20false%2C%20%22opacity%22%3A%201%2C%20%22subdomains%22%3A%20%22abc%22%2C%20%22tms%22%3A%20false%7D%0A%20%20%20%20%20%20%20%20%20%20%20%20%29.addTo%28map_9e1c0538e36d4a1cad99466289468071%29%3B%0A%20%20%20%20%20%20%20%20%0A%20%20%20%20%0A%20%20%20%20%20%20%20%20%20%20%20%20var%20layer_control_bbb049ea9ca047e68c66dacc65c0f7d3%20%3D%20%7B%0A%20%20%20%20%20%20%20%20%20%20%20%20%20%20%20%20base_layers%20%3A%20%7B%0A%20%20%20%20%20%20%20%20%20%20%20%20%20%20%20%20%20%20%20%20%22openstreetmap%22%20%3A%20tile_layer_3acd0733785d4f8d9a2c8915d42c2c94%2C%0A%20%20%20%20%20%20%20%20%20%20%20%20%20%20%20%20%7D%2C%0A%20%20%20%20%20%20%20%20%20%20%20%20%20%20%20%20overlays%20%3A%20%20%7B%0A%20%20%20%20%20%20%20%20%20%20%20%20%20%20%20%20%20%20%20%20%22S2%20cloud-free%20mosaic%22%20%3A%20tile_layer_71ec545e8f7f4bd09e567c75a8f1dc77%2C%0A%20%20%20%20%20%20%20%20%20%20%20%20%20%20%20%20%7D%2C%0A%20%20%20%20%20%20%20%20%20%20%20%20%7D%3B%0A%20%20%20%20%20%20%20%20%20%20%20%20L.control.layers%28%0A%20%20%20%20%20%20%20%20%20%20%20%20%20%20%20%20layer_control_bbb049ea9ca047e68c66dacc65c0f7d3.base_layers%2C%0A%20%20%20%20%20%20%20%20%20%20%20%20%20%20%20%20layer_control_bbb049ea9ca047e68c66dacc65c0f7d3.overlays%2C%0A%20%20%20%20%20%20%20%20%20%20%20%20%20%20%20%20%7B%22autoZIndex%22%3A%20true%2C%20%22collapsed%22%3A%20true%2C%20%22position%22%3A%20%22topright%22%7D%0A%20%20%20%20%20%20%20%20%20%20%20%20%29.addTo%28map_9e1c0538e36d4a1cad99466289468071%29%3B%0A%20%20%20%20%20%20%20%20%0A%3C/script%3E onload=\"this.contentDocument.open();this.contentDocument.write(    decodeURIComponent(this.getAttribute('data-html')));this.contentDocument.close();\" allowfullscreen webkitallowfullscreen mozallowfullscreen></iframe></div></div>"
      ],
      "text/plain": [
       "<folium.folium.Map at 0x13e994100>"
      ]
     },
     "metadata": {},
     "output_type": "display_data"
    },
    {
     "name": "stdout",
     "output_type": "stream",
     "text": [
      "\n",
      " \n",
      "\n",
      "2019-11-01 - 2019-12-01\n"
     ]
    },
    {
     "data": {
      "text/html": [
       "<div style=\"width:100%;\"><div style=\"position:relative;width:100%;height:0;padding-bottom:60%;\"><span style=\"color:#565656\">Make this Notebook Trusted to load map: File -> Trust Notebook</span><iframe src=\"about:blank\" style=\"position:absolute;width:100%;height:100%;left:0;top:0;border:none !important;\" data-html=%3C%21DOCTYPE%20html%3E%0A%3Chead%3E%20%20%20%20%0A%20%20%20%20%3Cmeta%20http-equiv%3D%22content-type%22%20content%3D%22text/html%3B%20charset%3DUTF-8%22%20/%3E%0A%20%20%20%20%0A%20%20%20%20%20%20%20%20%3Cscript%3E%0A%20%20%20%20%20%20%20%20%20%20%20%20L_NO_TOUCH%20%3D%20false%3B%0A%20%20%20%20%20%20%20%20%20%20%20%20L_DISABLE_3D%20%3D%20false%3B%0A%20%20%20%20%20%20%20%20%3C/script%3E%0A%20%20%20%20%0A%20%20%20%20%3Cstyle%3Ehtml%2C%20body%20%7Bwidth%3A%20100%25%3Bheight%3A%20100%25%3Bmargin%3A%200%3Bpadding%3A%200%3B%7D%3C/style%3E%0A%20%20%20%20%3Cstyle%3E%23map%20%7Bposition%3Aabsolute%3Btop%3A0%3Bbottom%3A0%3Bright%3A0%3Bleft%3A0%3B%7D%3C/style%3E%0A%20%20%20%20%3Cscript%20src%3D%22https%3A//cdn.jsdelivr.net/npm/leaflet%401.6.0/dist/leaflet.js%22%3E%3C/script%3E%0A%20%20%20%20%3Cscript%20src%3D%22https%3A//code.jquery.com/jquery-1.12.4.min.js%22%3E%3C/script%3E%0A%20%20%20%20%3Cscript%20src%3D%22https%3A//maxcdn.bootstrapcdn.com/bootstrap/3.2.0/js/bootstrap.min.js%22%3E%3C/script%3E%0A%20%20%20%20%3Cscript%20src%3D%22https%3A//cdnjs.cloudflare.com/ajax/libs/Leaflet.awesome-markers/2.0.2/leaflet.awesome-markers.js%22%3E%3C/script%3E%0A%20%20%20%20%3Clink%20rel%3D%22stylesheet%22%20href%3D%22https%3A//cdn.jsdelivr.net/npm/leaflet%401.6.0/dist/leaflet.css%22/%3E%0A%20%20%20%20%3Clink%20rel%3D%22stylesheet%22%20href%3D%22https%3A//maxcdn.bootstrapcdn.com/bootstrap/3.2.0/css/bootstrap.min.css%22/%3E%0A%20%20%20%20%3Clink%20rel%3D%22stylesheet%22%20href%3D%22https%3A//maxcdn.bootstrapcdn.com/bootstrap/3.2.0/css/bootstrap-theme.min.css%22/%3E%0A%20%20%20%20%3Clink%20rel%3D%22stylesheet%22%20href%3D%22https%3A//maxcdn.bootstrapcdn.com/font-awesome/4.6.3/css/font-awesome.min.css%22/%3E%0A%20%20%20%20%3Clink%20rel%3D%22stylesheet%22%20href%3D%22https%3A//cdnjs.cloudflare.com/ajax/libs/Leaflet.awesome-markers/2.0.2/leaflet.awesome-markers.css%22/%3E%0A%20%20%20%20%3Clink%20rel%3D%22stylesheet%22%20href%3D%22https%3A//cdn.jsdelivr.net/gh/python-visualization/folium/folium/templates/leaflet.awesome.rotate.min.css%22/%3E%0A%20%20%20%20%0A%20%20%20%20%20%20%20%20%20%20%20%20%3Cmeta%20name%3D%22viewport%22%20content%3D%22width%3Ddevice-width%2C%0A%20%20%20%20%20%20%20%20%20%20%20%20%20%20%20%20initial-scale%3D1.0%2C%20maximum-scale%3D1.0%2C%20user-scalable%3Dno%22%20/%3E%0A%20%20%20%20%20%20%20%20%20%20%20%20%3Cstyle%3E%0A%20%20%20%20%20%20%20%20%20%20%20%20%20%20%20%20%23map_e2d357265dd24a4d9206985a9c6eadf2%20%7B%0A%20%20%20%20%20%20%20%20%20%20%20%20%20%20%20%20%20%20%20%20position%3A%20relative%3B%0A%20%20%20%20%20%20%20%20%20%20%20%20%20%20%20%20%20%20%20%20width%3A%20100.0%25%3B%0A%20%20%20%20%20%20%20%20%20%20%20%20%20%20%20%20%20%20%20%20height%3A%20100.0%25%3B%0A%20%20%20%20%20%20%20%20%20%20%20%20%20%20%20%20%20%20%20%20left%3A%200.0%25%3B%0A%20%20%20%20%20%20%20%20%20%20%20%20%20%20%20%20%20%20%20%20top%3A%200.0%25%3B%0A%20%20%20%20%20%20%20%20%20%20%20%20%20%20%20%20%7D%0A%20%20%20%20%20%20%20%20%20%20%20%20%3C/style%3E%0A%20%20%20%20%20%20%20%20%0A%3C/head%3E%0A%3Cbody%3E%20%20%20%20%0A%20%20%20%20%0A%20%20%20%20%20%20%20%20%20%20%20%20%3Cdiv%20class%3D%22folium-map%22%20id%3D%22map_e2d357265dd24a4d9206985a9c6eadf2%22%20%3E%3C/div%3E%0A%20%20%20%20%20%20%20%20%0A%3C/body%3E%0A%3Cscript%3E%20%20%20%20%0A%20%20%20%20%0A%20%20%20%20%20%20%20%20%20%20%20%20var%20map_e2d357265dd24a4d9206985a9c6eadf2%20%3D%20L.map%28%0A%20%20%20%20%20%20%20%20%20%20%20%20%20%20%20%20%22map_e2d357265dd24a4d9206985a9c6eadf2%22%2C%0A%20%20%20%20%20%20%20%20%20%20%20%20%20%20%20%20%7B%0A%20%20%20%20%20%20%20%20%20%20%20%20%20%20%20%20%20%20%20%20center%3A%20%5B-19.705570084543737%2C%2044.70292749999976%5D%2C%0A%20%20%20%20%20%20%20%20%20%20%20%20%20%20%20%20%20%20%20%20crs%3A%20L.CRS.EPSG3857%2C%0A%20%20%20%20%20%20%20%20%20%20%20%20%20%20%20%20%20%20%20%20zoom%3A%2010%2C%0A%20%20%20%20%20%20%20%20%20%20%20%20%20%20%20%20%20%20%20%20zoomControl%3A%20true%2C%0A%20%20%20%20%20%20%20%20%20%20%20%20%20%20%20%20%20%20%20%20preferCanvas%3A%20false%2C%0A%20%20%20%20%20%20%20%20%20%20%20%20%20%20%20%20%7D%0A%20%20%20%20%20%20%20%20%20%20%20%20%29%3B%0A%0A%20%20%20%20%20%20%20%20%20%20%20%20%0A%0A%20%20%20%20%20%20%20%20%0A%20%20%20%20%0A%20%20%20%20%20%20%20%20%20%20%20%20var%20tile_layer_2ccce3896c964d4a9aa76f1e2e8114e2%20%3D%20L.tileLayer%28%0A%20%20%20%20%20%20%20%20%20%20%20%20%20%20%20%20%22https%3A//%7Bs%7D.tile.openstreetmap.org/%7Bz%7D/%7Bx%7D/%7By%7D.png%22%2C%0A%20%20%20%20%20%20%20%20%20%20%20%20%20%20%20%20%7B%22attribution%22%3A%20%22Data%20by%20%5Cu0026copy%3B%20%5Cu003ca%20href%3D%5C%22http%3A//openstreetmap.org%5C%22%5Cu003eOpenStreetMap%5Cu003c/a%5Cu003e%2C%20under%20%5Cu003ca%20href%3D%5C%22http%3A//www.openstreetmap.org/copyright%5C%22%5Cu003eODbL%5Cu003c/a%5Cu003e.%22%2C%20%22detectRetina%22%3A%20false%2C%20%22maxNativeZoom%22%3A%2018%2C%20%22maxZoom%22%3A%2018%2C%20%22minZoom%22%3A%200%2C%20%22noWrap%22%3A%20false%2C%20%22opacity%22%3A%201%2C%20%22subdomains%22%3A%20%22abc%22%2C%20%22tms%22%3A%20false%7D%0A%20%20%20%20%20%20%20%20%20%20%20%20%29.addTo%28map_e2d357265dd24a4d9206985a9c6eadf2%29%3B%0A%20%20%20%20%20%20%20%20%0A%20%20%20%20%0A%20%20%20%20%20%20%20%20%20%20%20%20var%20tile_layer_3caeaaf0012f47629dea0cc96cd4d5d2%20%3D%20L.tileLayer%28%0A%20%20%20%20%20%20%20%20%20%20%20%20%20%20%20%20%22https%3A//earthengine.googleapis.com/v1alpha/projects/earthengine-legacy/maps/d430ed3f3ff8a2a300eb021c123c01f8-fa7b1d3e52305a18a343f8c86c1d0a36/tiles/%7Bz%7D/%7Bx%7D/%7By%7D%22%2C%0A%20%20%20%20%20%20%20%20%20%20%20%20%20%20%20%20%7B%22attribution%22%3A%20%22Map%20Data%20%5Cu0026copy%3B%20%5Cu003ca%20href%3D%5C%22https%3A//earthengine.google.com/%5C%22%5Cu003eGoogle%20Earth%20Engine%5Cu003c/a%5Cu003e%22%2C%20%22detectRetina%22%3A%20false%2C%20%22maxNativeZoom%22%3A%2018%2C%20%22maxZoom%22%3A%2018%2C%20%22minZoom%22%3A%209%2C%20%22noWrap%22%3A%20false%2C%20%22opacity%22%3A%201%2C%20%22subdomains%22%3A%20%22abc%22%2C%20%22tms%22%3A%20false%7D%0A%20%20%20%20%20%20%20%20%20%20%20%20%29.addTo%28map_e2d357265dd24a4d9206985a9c6eadf2%29%3B%0A%20%20%20%20%20%20%20%20%0A%20%20%20%20%0A%20%20%20%20%20%20%20%20%20%20%20%20var%20layer_control_9e67a3010a744e92be4c6e99f283ba10%20%3D%20%7B%0A%20%20%20%20%20%20%20%20%20%20%20%20%20%20%20%20base_layers%20%3A%20%7B%0A%20%20%20%20%20%20%20%20%20%20%20%20%20%20%20%20%20%20%20%20%22openstreetmap%22%20%3A%20tile_layer_2ccce3896c964d4a9aa76f1e2e8114e2%2C%0A%20%20%20%20%20%20%20%20%20%20%20%20%20%20%20%20%7D%2C%0A%20%20%20%20%20%20%20%20%20%20%20%20%20%20%20%20overlays%20%3A%20%20%7B%0A%20%20%20%20%20%20%20%20%20%20%20%20%20%20%20%20%20%20%20%20%22S2%20cloud-free%20mosaic%22%20%3A%20tile_layer_3caeaaf0012f47629dea0cc96cd4d5d2%2C%0A%20%20%20%20%20%20%20%20%20%20%20%20%20%20%20%20%7D%2C%0A%20%20%20%20%20%20%20%20%20%20%20%20%7D%3B%0A%20%20%20%20%20%20%20%20%20%20%20%20L.control.layers%28%0A%20%20%20%20%20%20%20%20%20%20%20%20%20%20%20%20layer_control_9e67a3010a744e92be4c6e99f283ba10.base_layers%2C%0A%20%20%20%20%20%20%20%20%20%20%20%20%20%20%20%20layer_control_9e67a3010a744e92be4c6e99f283ba10.overlays%2C%0A%20%20%20%20%20%20%20%20%20%20%20%20%20%20%20%20%7B%22autoZIndex%22%3A%20true%2C%20%22collapsed%22%3A%20true%2C%20%22position%22%3A%20%22topright%22%7D%0A%20%20%20%20%20%20%20%20%20%20%20%20%29.addTo%28map_e2d357265dd24a4d9206985a9c6eadf2%29%3B%0A%20%20%20%20%20%20%20%20%0A%3C/script%3E onload=\"this.contentDocument.open();this.contentDocument.write(    decodeURIComponent(this.getAttribute('data-html')));this.contentDocument.close();\" allowfullscreen webkitallowfullscreen mozallowfullscreen></iframe></div></div>"
      ],
      "text/plain": [
       "<folium.folium.Map at 0x1351d4040>"
      ]
     },
     "metadata": {},
     "output_type": "display_data"
    },
    {
     "name": "stdout",
     "output_type": "stream",
     "text": [
      "\n",
      " \n",
      "\n",
      "2019-12-01 - 2020-01-01\n"
     ]
    },
    {
     "data": {
      "text/html": [
       "<div style=\"width:100%;\"><div style=\"position:relative;width:100%;height:0;padding-bottom:60%;\"><span style=\"color:#565656\">Make this Notebook Trusted to load map: File -> Trust Notebook</span><iframe src=\"about:blank\" style=\"position:absolute;width:100%;height:100%;left:0;top:0;border:none !important;\" data-html=%3C%21DOCTYPE%20html%3E%0A%3Chead%3E%20%20%20%20%0A%20%20%20%20%3Cmeta%20http-equiv%3D%22content-type%22%20content%3D%22text/html%3B%20charset%3DUTF-8%22%20/%3E%0A%20%20%20%20%0A%20%20%20%20%20%20%20%20%3Cscript%3E%0A%20%20%20%20%20%20%20%20%20%20%20%20L_NO_TOUCH%20%3D%20false%3B%0A%20%20%20%20%20%20%20%20%20%20%20%20L_DISABLE_3D%20%3D%20false%3B%0A%20%20%20%20%20%20%20%20%3C/script%3E%0A%20%20%20%20%0A%20%20%20%20%3Cstyle%3Ehtml%2C%20body%20%7Bwidth%3A%20100%25%3Bheight%3A%20100%25%3Bmargin%3A%200%3Bpadding%3A%200%3B%7D%3C/style%3E%0A%20%20%20%20%3Cstyle%3E%23map%20%7Bposition%3Aabsolute%3Btop%3A0%3Bbottom%3A0%3Bright%3A0%3Bleft%3A0%3B%7D%3C/style%3E%0A%20%20%20%20%3Cscript%20src%3D%22https%3A//cdn.jsdelivr.net/npm/leaflet%401.6.0/dist/leaflet.js%22%3E%3C/script%3E%0A%20%20%20%20%3Cscript%20src%3D%22https%3A//code.jquery.com/jquery-1.12.4.min.js%22%3E%3C/script%3E%0A%20%20%20%20%3Cscript%20src%3D%22https%3A//maxcdn.bootstrapcdn.com/bootstrap/3.2.0/js/bootstrap.min.js%22%3E%3C/script%3E%0A%20%20%20%20%3Cscript%20src%3D%22https%3A//cdnjs.cloudflare.com/ajax/libs/Leaflet.awesome-markers/2.0.2/leaflet.awesome-markers.js%22%3E%3C/script%3E%0A%20%20%20%20%3Clink%20rel%3D%22stylesheet%22%20href%3D%22https%3A//cdn.jsdelivr.net/npm/leaflet%401.6.0/dist/leaflet.css%22/%3E%0A%20%20%20%20%3Clink%20rel%3D%22stylesheet%22%20href%3D%22https%3A//maxcdn.bootstrapcdn.com/bootstrap/3.2.0/css/bootstrap.min.css%22/%3E%0A%20%20%20%20%3Clink%20rel%3D%22stylesheet%22%20href%3D%22https%3A//maxcdn.bootstrapcdn.com/bootstrap/3.2.0/css/bootstrap-theme.min.css%22/%3E%0A%20%20%20%20%3Clink%20rel%3D%22stylesheet%22%20href%3D%22https%3A//maxcdn.bootstrapcdn.com/font-awesome/4.6.3/css/font-awesome.min.css%22/%3E%0A%20%20%20%20%3Clink%20rel%3D%22stylesheet%22%20href%3D%22https%3A//cdnjs.cloudflare.com/ajax/libs/Leaflet.awesome-markers/2.0.2/leaflet.awesome-markers.css%22/%3E%0A%20%20%20%20%3Clink%20rel%3D%22stylesheet%22%20href%3D%22https%3A//cdn.jsdelivr.net/gh/python-visualization/folium/folium/templates/leaflet.awesome.rotate.min.css%22/%3E%0A%20%20%20%20%0A%20%20%20%20%20%20%20%20%20%20%20%20%3Cmeta%20name%3D%22viewport%22%20content%3D%22width%3Ddevice-width%2C%0A%20%20%20%20%20%20%20%20%20%20%20%20%20%20%20%20initial-scale%3D1.0%2C%20maximum-scale%3D1.0%2C%20user-scalable%3Dno%22%20/%3E%0A%20%20%20%20%20%20%20%20%20%20%20%20%3Cstyle%3E%0A%20%20%20%20%20%20%20%20%20%20%20%20%20%20%20%20%23map_c734fedf2feb40a6a1c3200a94c226af%20%7B%0A%20%20%20%20%20%20%20%20%20%20%20%20%20%20%20%20%20%20%20%20position%3A%20relative%3B%0A%20%20%20%20%20%20%20%20%20%20%20%20%20%20%20%20%20%20%20%20width%3A%20100.0%25%3B%0A%20%20%20%20%20%20%20%20%20%20%20%20%20%20%20%20%20%20%20%20height%3A%20100.0%25%3B%0A%20%20%20%20%20%20%20%20%20%20%20%20%20%20%20%20%20%20%20%20left%3A%200.0%25%3B%0A%20%20%20%20%20%20%20%20%20%20%20%20%20%20%20%20%20%20%20%20top%3A%200.0%25%3B%0A%20%20%20%20%20%20%20%20%20%20%20%20%20%20%20%20%7D%0A%20%20%20%20%20%20%20%20%20%20%20%20%3C/style%3E%0A%20%20%20%20%20%20%20%20%0A%3C/head%3E%0A%3Cbody%3E%20%20%20%20%0A%20%20%20%20%0A%20%20%20%20%20%20%20%20%20%20%20%20%3Cdiv%20class%3D%22folium-map%22%20id%3D%22map_c734fedf2feb40a6a1c3200a94c226af%22%20%3E%3C/div%3E%0A%20%20%20%20%20%20%20%20%0A%3C/body%3E%0A%3Cscript%3E%20%20%20%20%0A%20%20%20%20%0A%20%20%20%20%20%20%20%20%20%20%20%20var%20map_c734fedf2feb40a6a1c3200a94c226af%20%3D%20L.map%28%0A%20%20%20%20%20%20%20%20%20%20%20%20%20%20%20%20%22map_c734fedf2feb40a6a1c3200a94c226af%22%2C%0A%20%20%20%20%20%20%20%20%20%20%20%20%20%20%20%20%7B%0A%20%20%20%20%20%20%20%20%20%20%20%20%20%20%20%20%20%20%20%20center%3A%20%5B-19.705570084543737%2C%2044.70292749999976%5D%2C%0A%20%20%20%20%20%20%20%20%20%20%20%20%20%20%20%20%20%20%20%20crs%3A%20L.CRS.EPSG3857%2C%0A%20%20%20%20%20%20%20%20%20%20%20%20%20%20%20%20%20%20%20%20zoom%3A%2010%2C%0A%20%20%20%20%20%20%20%20%20%20%20%20%20%20%20%20%20%20%20%20zoomControl%3A%20true%2C%0A%20%20%20%20%20%20%20%20%20%20%20%20%20%20%20%20%20%20%20%20preferCanvas%3A%20false%2C%0A%20%20%20%20%20%20%20%20%20%20%20%20%20%20%20%20%7D%0A%20%20%20%20%20%20%20%20%20%20%20%20%29%3B%0A%0A%20%20%20%20%20%20%20%20%20%20%20%20%0A%0A%20%20%20%20%20%20%20%20%0A%20%20%20%20%0A%20%20%20%20%20%20%20%20%20%20%20%20var%20tile_layer_677ad86301e44e6cbcb3733ec0a823bf%20%3D%20L.tileLayer%28%0A%20%20%20%20%20%20%20%20%20%20%20%20%20%20%20%20%22https%3A//%7Bs%7D.tile.openstreetmap.org/%7Bz%7D/%7Bx%7D/%7By%7D.png%22%2C%0A%20%20%20%20%20%20%20%20%20%20%20%20%20%20%20%20%7B%22attribution%22%3A%20%22Data%20by%20%5Cu0026copy%3B%20%5Cu003ca%20href%3D%5C%22http%3A//openstreetmap.org%5C%22%5Cu003eOpenStreetMap%5Cu003c/a%5Cu003e%2C%20under%20%5Cu003ca%20href%3D%5C%22http%3A//www.openstreetmap.org/copyright%5C%22%5Cu003eODbL%5Cu003c/a%5Cu003e.%22%2C%20%22detectRetina%22%3A%20false%2C%20%22maxNativeZoom%22%3A%2018%2C%20%22maxZoom%22%3A%2018%2C%20%22minZoom%22%3A%200%2C%20%22noWrap%22%3A%20false%2C%20%22opacity%22%3A%201%2C%20%22subdomains%22%3A%20%22abc%22%2C%20%22tms%22%3A%20false%7D%0A%20%20%20%20%20%20%20%20%20%20%20%20%29.addTo%28map_c734fedf2feb40a6a1c3200a94c226af%29%3B%0A%20%20%20%20%20%20%20%20%0A%20%20%20%20%0A%20%20%20%20%20%20%20%20%20%20%20%20var%20tile_layer_aabc4724db984168a18ee9abaf7c2618%20%3D%20L.tileLayer%28%0A%20%20%20%20%20%20%20%20%20%20%20%20%20%20%20%20%22https%3A//earthengine.googleapis.com/v1alpha/projects/earthengine-legacy/maps/a74a457049e4943e850cc102851976fb-969e6cc74ba6b323628bc4f3871091cd/tiles/%7Bz%7D/%7Bx%7D/%7By%7D%22%2C%0A%20%20%20%20%20%20%20%20%20%20%20%20%20%20%20%20%7B%22attribution%22%3A%20%22Map%20Data%20%5Cu0026copy%3B%20%5Cu003ca%20href%3D%5C%22https%3A//earthengine.google.com/%5C%22%5Cu003eGoogle%20Earth%20Engine%5Cu003c/a%5Cu003e%22%2C%20%22detectRetina%22%3A%20false%2C%20%22maxNativeZoom%22%3A%2018%2C%20%22maxZoom%22%3A%2018%2C%20%22minZoom%22%3A%209%2C%20%22noWrap%22%3A%20false%2C%20%22opacity%22%3A%201%2C%20%22subdomains%22%3A%20%22abc%22%2C%20%22tms%22%3A%20false%7D%0A%20%20%20%20%20%20%20%20%20%20%20%20%29.addTo%28map_c734fedf2feb40a6a1c3200a94c226af%29%3B%0A%20%20%20%20%20%20%20%20%0A%20%20%20%20%0A%20%20%20%20%20%20%20%20%20%20%20%20var%20layer_control_1b3a0023fa2749ec91ae33f8c6d1c23c%20%3D%20%7B%0A%20%20%20%20%20%20%20%20%20%20%20%20%20%20%20%20base_layers%20%3A%20%7B%0A%20%20%20%20%20%20%20%20%20%20%20%20%20%20%20%20%20%20%20%20%22openstreetmap%22%20%3A%20tile_layer_677ad86301e44e6cbcb3733ec0a823bf%2C%0A%20%20%20%20%20%20%20%20%20%20%20%20%20%20%20%20%7D%2C%0A%20%20%20%20%20%20%20%20%20%20%20%20%20%20%20%20overlays%20%3A%20%20%7B%0A%20%20%20%20%20%20%20%20%20%20%20%20%20%20%20%20%20%20%20%20%22S2%20cloud-free%20mosaic%22%20%3A%20tile_layer_aabc4724db984168a18ee9abaf7c2618%2C%0A%20%20%20%20%20%20%20%20%20%20%20%20%20%20%20%20%7D%2C%0A%20%20%20%20%20%20%20%20%20%20%20%20%7D%3B%0A%20%20%20%20%20%20%20%20%20%20%20%20L.control.layers%28%0A%20%20%20%20%20%20%20%20%20%20%20%20%20%20%20%20layer_control_1b3a0023fa2749ec91ae33f8c6d1c23c.base_layers%2C%0A%20%20%20%20%20%20%20%20%20%20%20%20%20%20%20%20layer_control_1b3a0023fa2749ec91ae33f8c6d1c23c.overlays%2C%0A%20%20%20%20%20%20%20%20%20%20%20%20%20%20%20%20%7B%22autoZIndex%22%3A%20true%2C%20%22collapsed%22%3A%20true%2C%20%22position%22%3A%20%22topright%22%7D%0A%20%20%20%20%20%20%20%20%20%20%20%20%29.addTo%28map_c734fedf2feb40a6a1c3200a94c226af%29%3B%0A%20%20%20%20%20%20%20%20%0A%3C/script%3E onload=\"this.contentDocument.open();this.contentDocument.write(    decodeURIComponent(this.getAttribute('data-html')));this.contentDocument.close();\" allowfullscreen webkitallowfullscreen mozallowfullscreen></iframe></div></div>"
      ],
      "text/plain": [
       "<folium.folium.Map at 0x104989fa0>"
      ]
     },
     "metadata": {},
     "output_type": "display_data"
    },
    {
     "name": "stdout",
     "output_type": "stream",
     "text": [
      "\n",
      " \n",
      "\n"
     ]
    }
   ],
   "source": [
    "# 2019 monthly sentinel composite images with cloud masking\n",
    "\n",
    "for i in range(len(months2019)):\n",
    "  startDate, endDate = months2019[i][0], months2019[i][1]\n",
    "  s2_sr_collection = get_s2_sr_cld_col(subset, startDate, endDate)\n",
    "  s2_sr_median = s2_sr_collection.map(add_cld_shdw_mask\n",
    "                                ).map(apply_cld_shdw_mask\n",
    "                                ).median()\n",
    "\n",
    "  m = folium.Map(location=subsetCenter, zoom_start=10)\n",
    "  m.add_ee_layer(s2_sr_median,\n",
    "                {'bands': ['B4', 'B3', 'B2'], \n",
    "                 'min': 0, 'max': 2500, 'gamma': 1.1},\n",
    "                 'S2 cloud-free mosaic', True, 1, 9)\n",
    "\n",
    "  m.add_child(folium.LayerControl())\n",
    "  print(startDate + \" - \" + endDate)\n",
    "  display(m)\n",
    "  print(\"\\n \\n\")"
   ]
  },
  {
   "cell_type": "code",
   "execution_count": 12,
   "metadata": {
    "id": "wBcFPO8piY1O"
   },
   "outputs": [],
   "source": [
    "def get_s2_Modified(aoi, start_date, end_date):\n",
    "    # Import and filter S2 SR.\n",
    "    s2 = ee.ImageCollection('COPERNICUS/S2_SR'\n",
    "          ).filterBounds(aoi\n",
    "          ).filterDate(start_date, end_date)\n",
    "\n",
    "    s2_sr_col = s2.filter(ee.Filter.lte('CLOUDY_PIXEL_PERCENTAGE',\n",
    "                                         CLOUD_FILTER))\n",
    "\n",
    "    # Import and filter s2cloudless.\n",
    "    s2_cloudless_col = ee.ImageCollection('COPERNICUS/S2_CLOUD_PROBABILITY'\n",
    "                        ).filterBounds(aoi\n",
    "                        ).filterDate(start_date, end_date)\n",
    "\n",
    "    # Join the filtered s2cloudless collection to the SR collection by the 'system:index' property.\n",
    "    filtered_s2 = ee.ImageCollection(ee.Join.saveFirst('s2cloudless').apply(**{\n",
    "        'primary': s2_sr_col,\n",
    "        'secondary': s2_cloudless_col,\n",
    "        'condition': ee.Filter.equals(**{\n",
    "            'leftField': 'system:index',\n",
    "            'rightField': 'system:index'\n",
    "        })\n",
    "    }))\n",
    "\n",
    "    return filtered_s2, s2"
   ]
  },
  {
   "cell_type": "code",
   "execution_count": 13,
   "metadata": {
    "colab": {
     "base_uri": "https://localhost:8080/",
     "height": 1000
    },
    "id": "0zUB7hwriY8n",
    "outputId": "c7e5d492-f202-4af8-9b04-938370a13b99"
   },
   "outputs": [
    {
     "name": "stdout",
     "output_type": "stream",
     "text": [
      "2019-01-01 - 2019-02-01\n"
     ]
    },
    {
     "data": {
      "text/html": [
       "<div style=\"width:100%;\"><div style=\"position:relative;width:100%;height:0;padding-bottom:60%;\"><span style=\"color:#565656\">Make this Notebook Trusted to load map: File -> Trust Notebook</span><iframe src=\"about:blank\" style=\"position:absolute;width:100%;height:100%;left:0;top:0;border:none !important;\" data-html=%3C%21DOCTYPE%20html%3E%0A%3Chead%3E%20%20%20%20%0A%20%20%20%20%3Cmeta%20http-equiv%3D%22content-type%22%20content%3D%22text/html%3B%20charset%3DUTF-8%22%20/%3E%0A%20%20%20%20%0A%20%20%20%20%20%20%20%20%3Cscript%3E%0A%20%20%20%20%20%20%20%20%20%20%20%20L_NO_TOUCH%20%3D%20false%3B%0A%20%20%20%20%20%20%20%20%20%20%20%20L_DISABLE_3D%20%3D%20false%3B%0A%20%20%20%20%20%20%20%20%3C/script%3E%0A%20%20%20%20%0A%20%20%20%20%3Cstyle%3Ehtml%2C%20body%20%7Bwidth%3A%20100%25%3Bheight%3A%20100%25%3Bmargin%3A%200%3Bpadding%3A%200%3B%7D%3C/style%3E%0A%20%20%20%20%3Cstyle%3E%23map%20%7Bposition%3Aabsolute%3Btop%3A0%3Bbottom%3A0%3Bright%3A0%3Bleft%3A0%3B%7D%3C/style%3E%0A%20%20%20%20%3Cscript%20src%3D%22https%3A//cdn.jsdelivr.net/npm/leaflet%401.6.0/dist/leaflet.js%22%3E%3C/script%3E%0A%20%20%20%20%3Cscript%20src%3D%22https%3A//code.jquery.com/jquery-1.12.4.min.js%22%3E%3C/script%3E%0A%20%20%20%20%3Cscript%20src%3D%22https%3A//maxcdn.bootstrapcdn.com/bootstrap/3.2.0/js/bootstrap.min.js%22%3E%3C/script%3E%0A%20%20%20%20%3Cscript%20src%3D%22https%3A//cdnjs.cloudflare.com/ajax/libs/Leaflet.awesome-markers/2.0.2/leaflet.awesome-markers.js%22%3E%3C/script%3E%0A%20%20%20%20%3Clink%20rel%3D%22stylesheet%22%20href%3D%22https%3A//cdn.jsdelivr.net/npm/leaflet%401.6.0/dist/leaflet.css%22/%3E%0A%20%20%20%20%3Clink%20rel%3D%22stylesheet%22%20href%3D%22https%3A//maxcdn.bootstrapcdn.com/bootstrap/3.2.0/css/bootstrap.min.css%22/%3E%0A%20%20%20%20%3Clink%20rel%3D%22stylesheet%22%20href%3D%22https%3A//maxcdn.bootstrapcdn.com/bootstrap/3.2.0/css/bootstrap-theme.min.css%22/%3E%0A%20%20%20%20%3Clink%20rel%3D%22stylesheet%22%20href%3D%22https%3A//maxcdn.bootstrapcdn.com/font-awesome/4.6.3/css/font-awesome.min.css%22/%3E%0A%20%20%20%20%3Clink%20rel%3D%22stylesheet%22%20href%3D%22https%3A//cdnjs.cloudflare.com/ajax/libs/Leaflet.awesome-markers/2.0.2/leaflet.awesome-markers.css%22/%3E%0A%20%20%20%20%3Clink%20rel%3D%22stylesheet%22%20href%3D%22https%3A//cdn.jsdelivr.net/gh/python-visualization/folium/folium/templates/leaflet.awesome.rotate.min.css%22/%3E%0A%20%20%20%20%0A%20%20%20%20%20%20%20%20%20%20%20%20%3Cmeta%20name%3D%22viewport%22%20content%3D%22width%3Ddevice-width%2C%0A%20%20%20%20%20%20%20%20%20%20%20%20%20%20%20%20initial-scale%3D1.0%2C%20maximum-scale%3D1.0%2C%20user-scalable%3Dno%22%20/%3E%0A%20%20%20%20%20%20%20%20%20%20%20%20%3Cstyle%3E%0A%20%20%20%20%20%20%20%20%20%20%20%20%20%20%20%20%23map_52325e2b968f4e399f850289b01dc571%20%7B%0A%20%20%20%20%20%20%20%20%20%20%20%20%20%20%20%20%20%20%20%20position%3A%20relative%3B%0A%20%20%20%20%20%20%20%20%20%20%20%20%20%20%20%20%20%20%20%20width%3A%20100.0%25%3B%0A%20%20%20%20%20%20%20%20%20%20%20%20%20%20%20%20%20%20%20%20height%3A%20100.0%25%3B%0A%20%20%20%20%20%20%20%20%20%20%20%20%20%20%20%20%20%20%20%20left%3A%200.0%25%3B%0A%20%20%20%20%20%20%20%20%20%20%20%20%20%20%20%20%20%20%20%20top%3A%200.0%25%3B%0A%20%20%20%20%20%20%20%20%20%20%20%20%20%20%20%20%7D%0A%20%20%20%20%20%20%20%20%20%20%20%20%3C/style%3E%0A%20%20%20%20%20%20%20%20%0A%3C/head%3E%0A%3Cbody%3E%20%20%20%20%0A%20%20%20%20%0A%20%20%20%20%20%20%20%20%20%20%20%20%3Cdiv%20class%3D%22folium-map%22%20id%3D%22map_52325e2b968f4e399f850289b01dc571%22%20%3E%3C/div%3E%0A%20%20%20%20%20%20%20%20%0A%3C/body%3E%0A%3Cscript%3E%20%20%20%20%0A%20%20%20%20%0A%20%20%20%20%20%20%20%20%20%20%20%20var%20map_52325e2b968f4e399f850289b01dc571%20%3D%20L.map%28%0A%20%20%20%20%20%20%20%20%20%20%20%20%20%20%20%20%22map_52325e2b968f4e399f850289b01dc571%22%2C%0A%20%20%20%20%20%20%20%20%20%20%20%20%20%20%20%20%7B%0A%20%20%20%20%20%20%20%20%20%20%20%20%20%20%20%20%20%20%20%20center%3A%20%5B-19.705570084543737%2C%2044.70292749999976%5D%2C%0A%20%20%20%20%20%20%20%20%20%20%20%20%20%20%20%20%20%20%20%20crs%3A%20L.CRS.EPSG3857%2C%0A%20%20%20%20%20%20%20%20%20%20%20%20%20%20%20%20%20%20%20%20zoom%3A%2010%2C%0A%20%20%20%20%20%20%20%20%20%20%20%20%20%20%20%20%20%20%20%20zoomControl%3A%20true%2C%0A%20%20%20%20%20%20%20%20%20%20%20%20%20%20%20%20%20%20%20%20preferCanvas%3A%20false%2C%0A%20%20%20%20%20%20%20%20%20%20%20%20%20%20%20%20%7D%0A%20%20%20%20%20%20%20%20%20%20%20%20%29%3B%0A%0A%20%20%20%20%20%20%20%20%20%20%20%20%0A%0A%20%20%20%20%20%20%20%20%0A%20%20%20%20%0A%20%20%20%20%20%20%20%20%20%20%20%20var%20tile_layer_8bd3991d16d24782a66809db253478be%20%3D%20L.tileLayer%28%0A%20%20%20%20%20%20%20%20%20%20%20%20%20%20%20%20%22https%3A//%7Bs%7D.tile.openstreetmap.org/%7Bz%7D/%7Bx%7D/%7By%7D.png%22%2C%0A%20%20%20%20%20%20%20%20%20%20%20%20%20%20%20%20%7B%22attribution%22%3A%20%22Data%20by%20%5Cu0026copy%3B%20%5Cu003ca%20href%3D%5C%22http%3A//openstreetmap.org%5C%22%5Cu003eOpenStreetMap%5Cu003c/a%5Cu003e%2C%20under%20%5Cu003ca%20href%3D%5C%22http%3A//www.openstreetmap.org/copyright%5C%22%5Cu003eODbL%5Cu003c/a%5Cu003e.%22%2C%20%22detectRetina%22%3A%20false%2C%20%22maxNativeZoom%22%3A%2018%2C%20%22maxZoom%22%3A%2018%2C%20%22minZoom%22%3A%200%2C%20%22noWrap%22%3A%20false%2C%20%22opacity%22%3A%201%2C%20%22subdomains%22%3A%20%22abc%22%2C%20%22tms%22%3A%20false%7D%0A%20%20%20%20%20%20%20%20%20%20%20%20%29.addTo%28map_52325e2b968f4e399f850289b01dc571%29%3B%0A%20%20%20%20%20%20%20%20%0A%20%20%20%20%0A%20%20%20%20%20%20%20%20%20%20%20%20var%20tile_layer_f995c93207c940e4931e3dc61cbf2842%20%3D%20L.tileLayer%28%0A%20%20%20%20%20%20%20%20%20%20%20%20%20%20%20%20%22https%3A//earthengine.googleapis.com/v1alpha/projects/earthengine-legacy/maps/ce3818640e558dcabc5b9115276b5184-942a857db21ded001058ec77926a3e3e/tiles/%7Bz%7D/%7Bx%7D/%7By%7D%22%2C%0A%20%20%20%20%20%20%20%20%20%20%20%20%20%20%20%20%7B%22attribution%22%3A%20%22Map%20Data%20%5Cu0026copy%3B%20%5Cu003ca%20href%3D%5C%22https%3A//earthengine.google.com/%5C%22%5Cu003eGoogle%20Earth%20Engine%5Cu003c/a%5Cu003e%22%2C%20%22detectRetina%22%3A%20false%2C%20%22maxNativeZoom%22%3A%2018%2C%20%22maxZoom%22%3A%2018%2C%20%22minZoom%22%3A%200%2C%20%22noWrap%22%3A%20false%2C%20%22opacity%22%3A%201%2C%20%22subdomains%22%3A%20%22abc%22%2C%20%22tms%22%3A%20false%7D%0A%20%20%20%20%20%20%20%20%20%20%20%20%29.addTo%28map_52325e2b968f4e399f850289b01dc571%29%3B%0A%20%20%20%20%20%20%20%20%0A%20%20%20%20%0A%20%20%20%20%20%20%20%20%20%20%20%20var%20tile_layer_b4950f1ca68249af91ce57b566fcf242%20%3D%20L.tileLayer%28%0A%20%20%20%20%20%20%20%20%20%20%20%20%20%20%20%20%22https%3A//earthengine.googleapis.com/v1alpha/projects/earthengine-legacy/maps/95ab30a206bf9017f2b9bcc1a855310a-ee1bcdc542ce4f34a4ebc5b61fa09bd6/tiles/%7Bz%7D/%7Bx%7D/%7By%7D%22%2C%0A%20%20%20%20%20%20%20%20%20%20%20%20%20%20%20%20%7B%22attribution%22%3A%20%22Map%20Data%20%5Cu0026copy%3B%20%5Cu003ca%20href%3D%5C%22https%3A//earthengine.google.com/%5C%22%5Cu003eGoogle%20Earth%20Engine%5Cu003c/a%5Cu003e%22%2C%20%22detectRetina%22%3A%20false%2C%20%22maxNativeZoom%22%3A%2018%2C%20%22maxZoom%22%3A%2018%2C%20%22minZoom%22%3A%200%2C%20%22noWrap%22%3A%20false%2C%20%22opacity%22%3A%201%2C%20%22subdomains%22%3A%20%22abc%22%2C%20%22tms%22%3A%20false%7D%0A%20%20%20%20%20%20%20%20%20%20%20%20%29.addTo%28map_52325e2b968f4e399f850289b01dc571%29%3B%0A%20%20%20%20%20%20%20%20%0A%20%20%20%20%0A%20%20%20%20%20%20%20%20%20%20%20%20var%20tile_layer_d467bbb7082241d98a213b50dfd309de%20%3D%20L.tileLayer%28%0A%20%20%20%20%20%20%20%20%20%20%20%20%20%20%20%20%22https%3A//earthengine.googleapis.com/v1alpha/projects/earthengine-legacy/maps/3f593df20d301b310b412655e897626b-0a74e387c85d70c617f4038b6d3b1d82/tiles/%7Bz%7D/%7Bx%7D/%7By%7D%22%2C%0A%20%20%20%20%20%20%20%20%20%20%20%20%20%20%20%20%7B%22attribution%22%3A%20%22Map%20Data%20%5Cu0026copy%3B%20%5Cu003ca%20href%3D%5C%22https%3A//earthengine.google.com/%5C%22%5Cu003eGoogle%20Earth%20Engine%5Cu003c/a%5Cu003e%22%2C%20%22detectRetina%22%3A%20false%2C%20%22maxNativeZoom%22%3A%2018%2C%20%22maxZoom%22%3A%2018%2C%20%22minZoom%22%3A%200%2C%20%22noWrap%22%3A%20false%2C%20%22opacity%22%3A%201%2C%20%22subdomains%22%3A%20%22abc%22%2C%20%22tms%22%3A%20false%7D%0A%20%20%20%20%20%20%20%20%20%20%20%20%29.addTo%28map_52325e2b968f4e399f850289b01dc571%29%3B%0A%20%20%20%20%20%20%20%20%0A%20%20%20%20%0A%20%20%20%20%20%20%20%20%20%20%20%20var%20layer_control_77d8830ebca14614b28d0da2b995ff68%20%3D%20%7B%0A%20%20%20%20%20%20%20%20%20%20%20%20%20%20%20%20base_layers%20%3A%20%7B%0A%20%20%20%20%20%20%20%20%20%20%20%20%20%20%20%20%20%20%20%20%22openstreetmap%22%20%3A%20tile_layer_8bd3991d16d24782a66809db253478be%2C%0A%20%20%20%20%20%20%20%20%20%20%20%20%20%20%20%20%7D%2C%0A%20%20%20%20%20%20%20%20%20%20%20%20%20%20%20%20overlays%20%3A%20%20%7B%0A%20%20%20%20%20%20%20%20%20%20%20%20%20%20%20%20%20%20%20%20%22Masked%20NDVI%22%20%3A%20tile_layer_f995c93207c940e4931e3dc61cbf2842%2C%0A%20%20%20%20%20%20%20%20%20%20%20%20%20%20%20%20%20%20%20%20%22Unmasked%20NDVI%22%20%3A%20tile_layer_b4950f1ca68249af91ce57b566fcf242%2C%0A%20%20%20%20%20%20%20%20%20%20%20%20%20%20%20%20%20%20%20%20%22Normalized%20NDVI%20Difference%22%20%3A%20tile_layer_d467bbb7082241d98a213b50dfd309de%2C%0A%20%20%20%20%20%20%20%20%20%20%20%20%20%20%20%20%7D%2C%0A%20%20%20%20%20%20%20%20%20%20%20%20%7D%3B%0A%20%20%20%20%20%20%20%20%20%20%20%20L.control.layers%28%0A%20%20%20%20%20%20%20%20%20%20%20%20%20%20%20%20layer_control_77d8830ebca14614b28d0da2b995ff68.base_layers%2C%0A%20%20%20%20%20%20%20%20%20%20%20%20%20%20%20%20layer_control_77d8830ebca14614b28d0da2b995ff68.overlays%2C%0A%20%20%20%20%20%20%20%20%20%20%20%20%20%20%20%20%7B%22autoZIndex%22%3A%20true%2C%20%22collapsed%22%3A%20true%2C%20%22position%22%3A%20%22topright%22%7D%0A%20%20%20%20%20%20%20%20%20%20%20%20%29.addTo%28map_52325e2b968f4e399f850289b01dc571%29%3B%0A%20%20%20%20%20%20%20%20%0A%3C/script%3E onload=\"this.contentDocument.open();this.contentDocument.write(    decodeURIComponent(this.getAttribute('data-html')));this.contentDocument.close();\" allowfullscreen webkitallowfullscreen mozallowfullscreen></iframe></div></div>"
      ],
      "text/plain": [
       "<folium.folium.Map at 0x13e9699a0>"
      ]
     },
     "metadata": {},
     "output_type": "display_data"
    },
    {
     "name": "stdout",
     "output_type": "stream",
     "text": [
      "\n",
      " \n",
      "\n",
      "2019-02-01 - 2019-03-01\n"
     ]
    },
    {
     "data": {
      "text/html": [
       "<div style=\"width:100%;\"><div style=\"position:relative;width:100%;height:0;padding-bottom:60%;\"><span style=\"color:#565656\">Make this Notebook Trusted to load map: File -> Trust Notebook</span><iframe src=\"about:blank\" style=\"position:absolute;width:100%;height:100%;left:0;top:0;border:none !important;\" data-html=%3C%21DOCTYPE%20html%3E%0A%3Chead%3E%20%20%20%20%0A%20%20%20%20%3Cmeta%20http-equiv%3D%22content-type%22%20content%3D%22text/html%3B%20charset%3DUTF-8%22%20/%3E%0A%20%20%20%20%0A%20%20%20%20%20%20%20%20%3Cscript%3E%0A%20%20%20%20%20%20%20%20%20%20%20%20L_NO_TOUCH%20%3D%20false%3B%0A%20%20%20%20%20%20%20%20%20%20%20%20L_DISABLE_3D%20%3D%20false%3B%0A%20%20%20%20%20%20%20%20%3C/script%3E%0A%20%20%20%20%0A%20%20%20%20%3Cstyle%3Ehtml%2C%20body%20%7Bwidth%3A%20100%25%3Bheight%3A%20100%25%3Bmargin%3A%200%3Bpadding%3A%200%3B%7D%3C/style%3E%0A%20%20%20%20%3Cstyle%3E%23map%20%7Bposition%3Aabsolute%3Btop%3A0%3Bbottom%3A0%3Bright%3A0%3Bleft%3A0%3B%7D%3C/style%3E%0A%20%20%20%20%3Cscript%20src%3D%22https%3A//cdn.jsdelivr.net/npm/leaflet%401.6.0/dist/leaflet.js%22%3E%3C/script%3E%0A%20%20%20%20%3Cscript%20src%3D%22https%3A//code.jquery.com/jquery-1.12.4.min.js%22%3E%3C/script%3E%0A%20%20%20%20%3Cscript%20src%3D%22https%3A//maxcdn.bootstrapcdn.com/bootstrap/3.2.0/js/bootstrap.min.js%22%3E%3C/script%3E%0A%20%20%20%20%3Cscript%20src%3D%22https%3A//cdnjs.cloudflare.com/ajax/libs/Leaflet.awesome-markers/2.0.2/leaflet.awesome-markers.js%22%3E%3C/script%3E%0A%20%20%20%20%3Clink%20rel%3D%22stylesheet%22%20href%3D%22https%3A//cdn.jsdelivr.net/npm/leaflet%401.6.0/dist/leaflet.css%22/%3E%0A%20%20%20%20%3Clink%20rel%3D%22stylesheet%22%20href%3D%22https%3A//maxcdn.bootstrapcdn.com/bootstrap/3.2.0/css/bootstrap.min.css%22/%3E%0A%20%20%20%20%3Clink%20rel%3D%22stylesheet%22%20href%3D%22https%3A//maxcdn.bootstrapcdn.com/bootstrap/3.2.0/css/bootstrap-theme.min.css%22/%3E%0A%20%20%20%20%3Clink%20rel%3D%22stylesheet%22%20href%3D%22https%3A//maxcdn.bootstrapcdn.com/font-awesome/4.6.3/css/font-awesome.min.css%22/%3E%0A%20%20%20%20%3Clink%20rel%3D%22stylesheet%22%20href%3D%22https%3A//cdnjs.cloudflare.com/ajax/libs/Leaflet.awesome-markers/2.0.2/leaflet.awesome-markers.css%22/%3E%0A%20%20%20%20%3Clink%20rel%3D%22stylesheet%22%20href%3D%22https%3A//cdn.jsdelivr.net/gh/python-visualization/folium/folium/templates/leaflet.awesome.rotate.min.css%22/%3E%0A%20%20%20%20%0A%20%20%20%20%20%20%20%20%20%20%20%20%3Cmeta%20name%3D%22viewport%22%20content%3D%22width%3Ddevice-width%2C%0A%20%20%20%20%20%20%20%20%20%20%20%20%20%20%20%20initial-scale%3D1.0%2C%20maximum-scale%3D1.0%2C%20user-scalable%3Dno%22%20/%3E%0A%20%20%20%20%20%20%20%20%20%20%20%20%3Cstyle%3E%0A%20%20%20%20%20%20%20%20%20%20%20%20%20%20%20%20%23map_fb58883756844a4aa8e8827a0e11a947%20%7B%0A%20%20%20%20%20%20%20%20%20%20%20%20%20%20%20%20%20%20%20%20position%3A%20relative%3B%0A%20%20%20%20%20%20%20%20%20%20%20%20%20%20%20%20%20%20%20%20width%3A%20100.0%25%3B%0A%20%20%20%20%20%20%20%20%20%20%20%20%20%20%20%20%20%20%20%20height%3A%20100.0%25%3B%0A%20%20%20%20%20%20%20%20%20%20%20%20%20%20%20%20%20%20%20%20left%3A%200.0%25%3B%0A%20%20%20%20%20%20%20%20%20%20%20%20%20%20%20%20%20%20%20%20top%3A%200.0%25%3B%0A%20%20%20%20%20%20%20%20%20%20%20%20%20%20%20%20%7D%0A%20%20%20%20%20%20%20%20%20%20%20%20%3C/style%3E%0A%20%20%20%20%20%20%20%20%0A%3C/head%3E%0A%3Cbody%3E%20%20%20%20%0A%20%20%20%20%0A%20%20%20%20%20%20%20%20%20%20%20%20%3Cdiv%20class%3D%22folium-map%22%20id%3D%22map_fb58883756844a4aa8e8827a0e11a947%22%20%3E%3C/div%3E%0A%20%20%20%20%20%20%20%20%0A%3C/body%3E%0A%3Cscript%3E%20%20%20%20%0A%20%20%20%20%0A%20%20%20%20%20%20%20%20%20%20%20%20var%20map_fb58883756844a4aa8e8827a0e11a947%20%3D%20L.map%28%0A%20%20%20%20%20%20%20%20%20%20%20%20%20%20%20%20%22map_fb58883756844a4aa8e8827a0e11a947%22%2C%0A%20%20%20%20%20%20%20%20%20%20%20%20%20%20%20%20%7B%0A%20%20%20%20%20%20%20%20%20%20%20%20%20%20%20%20%20%20%20%20center%3A%20%5B-19.705570084543737%2C%2044.70292749999976%5D%2C%0A%20%20%20%20%20%20%20%20%20%20%20%20%20%20%20%20%20%20%20%20crs%3A%20L.CRS.EPSG3857%2C%0A%20%20%20%20%20%20%20%20%20%20%20%20%20%20%20%20%20%20%20%20zoom%3A%2010%2C%0A%20%20%20%20%20%20%20%20%20%20%20%20%20%20%20%20%20%20%20%20zoomControl%3A%20true%2C%0A%20%20%20%20%20%20%20%20%20%20%20%20%20%20%20%20%20%20%20%20preferCanvas%3A%20false%2C%0A%20%20%20%20%20%20%20%20%20%20%20%20%20%20%20%20%7D%0A%20%20%20%20%20%20%20%20%20%20%20%20%29%3B%0A%0A%20%20%20%20%20%20%20%20%20%20%20%20%0A%0A%20%20%20%20%20%20%20%20%0A%20%20%20%20%0A%20%20%20%20%20%20%20%20%20%20%20%20var%20tile_layer_1d1b6233d204474393a52b13ee389bc8%20%3D%20L.tileLayer%28%0A%20%20%20%20%20%20%20%20%20%20%20%20%20%20%20%20%22https%3A//%7Bs%7D.tile.openstreetmap.org/%7Bz%7D/%7Bx%7D/%7By%7D.png%22%2C%0A%20%20%20%20%20%20%20%20%20%20%20%20%20%20%20%20%7B%22attribution%22%3A%20%22Data%20by%20%5Cu0026copy%3B%20%5Cu003ca%20href%3D%5C%22http%3A//openstreetmap.org%5C%22%5Cu003eOpenStreetMap%5Cu003c/a%5Cu003e%2C%20under%20%5Cu003ca%20href%3D%5C%22http%3A//www.openstreetmap.org/copyright%5C%22%5Cu003eODbL%5Cu003c/a%5Cu003e.%22%2C%20%22detectRetina%22%3A%20false%2C%20%22maxNativeZoom%22%3A%2018%2C%20%22maxZoom%22%3A%2018%2C%20%22minZoom%22%3A%200%2C%20%22noWrap%22%3A%20false%2C%20%22opacity%22%3A%201%2C%20%22subdomains%22%3A%20%22abc%22%2C%20%22tms%22%3A%20false%7D%0A%20%20%20%20%20%20%20%20%20%20%20%20%29.addTo%28map_fb58883756844a4aa8e8827a0e11a947%29%3B%0A%20%20%20%20%20%20%20%20%0A%20%20%20%20%0A%20%20%20%20%20%20%20%20%20%20%20%20var%20tile_layer_8d899fb56f724ebeae70904097aaff93%20%3D%20L.tileLayer%28%0A%20%20%20%20%20%20%20%20%20%20%20%20%20%20%20%20%22https%3A//earthengine.googleapis.com/v1alpha/projects/earthengine-legacy/maps/bc0a222b96dce1c5250b7363724f20a1-d83a036f934abccbeab1a892a43061d4/tiles/%7Bz%7D/%7Bx%7D/%7By%7D%22%2C%0A%20%20%20%20%20%20%20%20%20%20%20%20%20%20%20%20%7B%22attribution%22%3A%20%22Map%20Data%20%5Cu0026copy%3B%20%5Cu003ca%20href%3D%5C%22https%3A//earthengine.google.com/%5C%22%5Cu003eGoogle%20Earth%20Engine%5Cu003c/a%5Cu003e%22%2C%20%22detectRetina%22%3A%20false%2C%20%22maxNativeZoom%22%3A%2018%2C%20%22maxZoom%22%3A%2018%2C%20%22minZoom%22%3A%200%2C%20%22noWrap%22%3A%20false%2C%20%22opacity%22%3A%201%2C%20%22subdomains%22%3A%20%22abc%22%2C%20%22tms%22%3A%20false%7D%0A%20%20%20%20%20%20%20%20%20%20%20%20%29.addTo%28map_fb58883756844a4aa8e8827a0e11a947%29%3B%0A%20%20%20%20%20%20%20%20%0A%20%20%20%20%0A%20%20%20%20%20%20%20%20%20%20%20%20var%20tile_layer_8b65bc92825249478ccb1e4107ac0139%20%3D%20L.tileLayer%28%0A%20%20%20%20%20%20%20%20%20%20%20%20%20%20%20%20%22https%3A//earthengine.googleapis.com/v1alpha/projects/earthengine-legacy/maps/e03ab971c5550fe21db18b27c619efa6-456c8cb7235e72863a5a025b991d2e46/tiles/%7Bz%7D/%7Bx%7D/%7By%7D%22%2C%0A%20%20%20%20%20%20%20%20%20%20%20%20%20%20%20%20%7B%22attribution%22%3A%20%22Map%20Data%20%5Cu0026copy%3B%20%5Cu003ca%20href%3D%5C%22https%3A//earthengine.google.com/%5C%22%5Cu003eGoogle%20Earth%20Engine%5Cu003c/a%5Cu003e%22%2C%20%22detectRetina%22%3A%20false%2C%20%22maxNativeZoom%22%3A%2018%2C%20%22maxZoom%22%3A%2018%2C%20%22minZoom%22%3A%200%2C%20%22noWrap%22%3A%20false%2C%20%22opacity%22%3A%201%2C%20%22subdomains%22%3A%20%22abc%22%2C%20%22tms%22%3A%20false%7D%0A%20%20%20%20%20%20%20%20%20%20%20%20%29.addTo%28map_fb58883756844a4aa8e8827a0e11a947%29%3B%0A%20%20%20%20%20%20%20%20%0A%20%20%20%20%0A%20%20%20%20%20%20%20%20%20%20%20%20var%20tile_layer_e7b7da3489f043cc839ba828793366e5%20%3D%20L.tileLayer%28%0A%20%20%20%20%20%20%20%20%20%20%20%20%20%20%20%20%22https%3A//earthengine.googleapis.com/v1alpha/projects/earthengine-legacy/maps/6d62b45062040e8b4d0827795e1ee7c6-b45aac5b4a618449a27a163a4d7a393e/tiles/%7Bz%7D/%7Bx%7D/%7By%7D%22%2C%0A%20%20%20%20%20%20%20%20%20%20%20%20%20%20%20%20%7B%22attribution%22%3A%20%22Map%20Data%20%5Cu0026copy%3B%20%5Cu003ca%20href%3D%5C%22https%3A//earthengine.google.com/%5C%22%5Cu003eGoogle%20Earth%20Engine%5Cu003c/a%5Cu003e%22%2C%20%22detectRetina%22%3A%20false%2C%20%22maxNativeZoom%22%3A%2018%2C%20%22maxZoom%22%3A%2018%2C%20%22minZoom%22%3A%200%2C%20%22noWrap%22%3A%20false%2C%20%22opacity%22%3A%201%2C%20%22subdomains%22%3A%20%22abc%22%2C%20%22tms%22%3A%20false%7D%0A%20%20%20%20%20%20%20%20%20%20%20%20%29.addTo%28map_fb58883756844a4aa8e8827a0e11a947%29%3B%0A%20%20%20%20%20%20%20%20%0A%20%20%20%20%0A%20%20%20%20%20%20%20%20%20%20%20%20var%20layer_control_f41ae4b0fddc466898c3c4fb2e98d405%20%3D%20%7B%0A%20%20%20%20%20%20%20%20%20%20%20%20%20%20%20%20base_layers%20%3A%20%7B%0A%20%20%20%20%20%20%20%20%20%20%20%20%20%20%20%20%20%20%20%20%22openstreetmap%22%20%3A%20tile_layer_1d1b6233d204474393a52b13ee389bc8%2C%0A%20%20%20%20%20%20%20%20%20%20%20%20%20%20%20%20%7D%2C%0A%20%20%20%20%20%20%20%20%20%20%20%20%20%20%20%20overlays%20%3A%20%20%7B%0A%20%20%20%20%20%20%20%20%20%20%20%20%20%20%20%20%20%20%20%20%22Masked%20NDVI%22%20%3A%20tile_layer_8d899fb56f724ebeae70904097aaff93%2C%0A%20%20%20%20%20%20%20%20%20%20%20%20%20%20%20%20%20%20%20%20%22Unmasked%20NDVI%22%20%3A%20tile_layer_8b65bc92825249478ccb1e4107ac0139%2C%0A%20%20%20%20%20%20%20%20%20%20%20%20%20%20%20%20%20%20%20%20%22Normalized%20NDVI%20Difference%22%20%3A%20tile_layer_e7b7da3489f043cc839ba828793366e5%2C%0A%20%20%20%20%20%20%20%20%20%20%20%20%20%20%20%20%7D%2C%0A%20%20%20%20%20%20%20%20%20%20%20%20%7D%3B%0A%20%20%20%20%20%20%20%20%20%20%20%20L.control.layers%28%0A%20%20%20%20%20%20%20%20%20%20%20%20%20%20%20%20layer_control_f41ae4b0fddc466898c3c4fb2e98d405.base_layers%2C%0A%20%20%20%20%20%20%20%20%20%20%20%20%20%20%20%20layer_control_f41ae4b0fddc466898c3c4fb2e98d405.overlays%2C%0A%20%20%20%20%20%20%20%20%20%20%20%20%20%20%20%20%7B%22autoZIndex%22%3A%20true%2C%20%22collapsed%22%3A%20true%2C%20%22position%22%3A%20%22topright%22%7D%0A%20%20%20%20%20%20%20%20%20%20%20%20%29.addTo%28map_fb58883756844a4aa8e8827a0e11a947%29%3B%0A%20%20%20%20%20%20%20%20%0A%3C/script%3E onload=\"this.contentDocument.open();this.contentDocument.write(    decodeURIComponent(this.getAttribute('data-html')));this.contentDocument.close();\" allowfullscreen webkitallowfullscreen mozallowfullscreen></iframe></div></div>"
      ],
      "text/plain": [
       "<folium.folium.Map at 0x13e937e20>"
      ]
     },
     "metadata": {},
     "output_type": "display_data"
    },
    {
     "name": "stdout",
     "output_type": "stream",
     "text": [
      "\n",
      " \n",
      "\n",
      "2019-03-01 - 2019-04-01\n"
     ]
    },
    {
     "data": {
      "text/html": [
       "<div style=\"width:100%;\"><div style=\"position:relative;width:100%;height:0;padding-bottom:60%;\"><span style=\"color:#565656\">Make this Notebook Trusted to load map: File -> Trust Notebook</span><iframe src=\"about:blank\" style=\"position:absolute;width:100%;height:100%;left:0;top:0;border:none !important;\" data-html=%3C%21DOCTYPE%20html%3E%0A%3Chead%3E%20%20%20%20%0A%20%20%20%20%3Cmeta%20http-equiv%3D%22content-type%22%20content%3D%22text/html%3B%20charset%3DUTF-8%22%20/%3E%0A%20%20%20%20%0A%20%20%20%20%20%20%20%20%3Cscript%3E%0A%20%20%20%20%20%20%20%20%20%20%20%20L_NO_TOUCH%20%3D%20false%3B%0A%20%20%20%20%20%20%20%20%20%20%20%20L_DISABLE_3D%20%3D%20false%3B%0A%20%20%20%20%20%20%20%20%3C/script%3E%0A%20%20%20%20%0A%20%20%20%20%3Cstyle%3Ehtml%2C%20body%20%7Bwidth%3A%20100%25%3Bheight%3A%20100%25%3Bmargin%3A%200%3Bpadding%3A%200%3B%7D%3C/style%3E%0A%20%20%20%20%3Cstyle%3E%23map%20%7Bposition%3Aabsolute%3Btop%3A0%3Bbottom%3A0%3Bright%3A0%3Bleft%3A0%3B%7D%3C/style%3E%0A%20%20%20%20%3Cscript%20src%3D%22https%3A//cdn.jsdelivr.net/npm/leaflet%401.6.0/dist/leaflet.js%22%3E%3C/script%3E%0A%20%20%20%20%3Cscript%20src%3D%22https%3A//code.jquery.com/jquery-1.12.4.min.js%22%3E%3C/script%3E%0A%20%20%20%20%3Cscript%20src%3D%22https%3A//maxcdn.bootstrapcdn.com/bootstrap/3.2.0/js/bootstrap.min.js%22%3E%3C/script%3E%0A%20%20%20%20%3Cscript%20src%3D%22https%3A//cdnjs.cloudflare.com/ajax/libs/Leaflet.awesome-markers/2.0.2/leaflet.awesome-markers.js%22%3E%3C/script%3E%0A%20%20%20%20%3Clink%20rel%3D%22stylesheet%22%20href%3D%22https%3A//cdn.jsdelivr.net/npm/leaflet%401.6.0/dist/leaflet.css%22/%3E%0A%20%20%20%20%3Clink%20rel%3D%22stylesheet%22%20href%3D%22https%3A//maxcdn.bootstrapcdn.com/bootstrap/3.2.0/css/bootstrap.min.css%22/%3E%0A%20%20%20%20%3Clink%20rel%3D%22stylesheet%22%20href%3D%22https%3A//maxcdn.bootstrapcdn.com/bootstrap/3.2.0/css/bootstrap-theme.min.css%22/%3E%0A%20%20%20%20%3Clink%20rel%3D%22stylesheet%22%20href%3D%22https%3A//maxcdn.bootstrapcdn.com/font-awesome/4.6.3/css/font-awesome.min.css%22/%3E%0A%20%20%20%20%3Clink%20rel%3D%22stylesheet%22%20href%3D%22https%3A//cdnjs.cloudflare.com/ajax/libs/Leaflet.awesome-markers/2.0.2/leaflet.awesome-markers.css%22/%3E%0A%20%20%20%20%3Clink%20rel%3D%22stylesheet%22%20href%3D%22https%3A//cdn.jsdelivr.net/gh/python-visualization/folium/folium/templates/leaflet.awesome.rotate.min.css%22/%3E%0A%20%20%20%20%0A%20%20%20%20%20%20%20%20%20%20%20%20%3Cmeta%20name%3D%22viewport%22%20content%3D%22width%3Ddevice-width%2C%0A%20%20%20%20%20%20%20%20%20%20%20%20%20%20%20%20initial-scale%3D1.0%2C%20maximum-scale%3D1.0%2C%20user-scalable%3Dno%22%20/%3E%0A%20%20%20%20%20%20%20%20%20%20%20%20%3Cstyle%3E%0A%20%20%20%20%20%20%20%20%20%20%20%20%20%20%20%20%23map_dfaf288b89af460b967bfea4be1291bf%20%7B%0A%20%20%20%20%20%20%20%20%20%20%20%20%20%20%20%20%20%20%20%20position%3A%20relative%3B%0A%20%20%20%20%20%20%20%20%20%20%20%20%20%20%20%20%20%20%20%20width%3A%20100.0%25%3B%0A%20%20%20%20%20%20%20%20%20%20%20%20%20%20%20%20%20%20%20%20height%3A%20100.0%25%3B%0A%20%20%20%20%20%20%20%20%20%20%20%20%20%20%20%20%20%20%20%20left%3A%200.0%25%3B%0A%20%20%20%20%20%20%20%20%20%20%20%20%20%20%20%20%20%20%20%20top%3A%200.0%25%3B%0A%20%20%20%20%20%20%20%20%20%20%20%20%20%20%20%20%7D%0A%20%20%20%20%20%20%20%20%20%20%20%20%3C/style%3E%0A%20%20%20%20%20%20%20%20%0A%3C/head%3E%0A%3Cbody%3E%20%20%20%20%0A%20%20%20%20%0A%20%20%20%20%20%20%20%20%20%20%20%20%3Cdiv%20class%3D%22folium-map%22%20id%3D%22map_dfaf288b89af460b967bfea4be1291bf%22%20%3E%3C/div%3E%0A%20%20%20%20%20%20%20%20%0A%3C/body%3E%0A%3Cscript%3E%20%20%20%20%0A%20%20%20%20%0A%20%20%20%20%20%20%20%20%20%20%20%20var%20map_dfaf288b89af460b967bfea4be1291bf%20%3D%20L.map%28%0A%20%20%20%20%20%20%20%20%20%20%20%20%20%20%20%20%22map_dfaf288b89af460b967bfea4be1291bf%22%2C%0A%20%20%20%20%20%20%20%20%20%20%20%20%20%20%20%20%7B%0A%20%20%20%20%20%20%20%20%20%20%20%20%20%20%20%20%20%20%20%20center%3A%20%5B-19.705570084543737%2C%2044.70292749999976%5D%2C%0A%20%20%20%20%20%20%20%20%20%20%20%20%20%20%20%20%20%20%20%20crs%3A%20L.CRS.EPSG3857%2C%0A%20%20%20%20%20%20%20%20%20%20%20%20%20%20%20%20%20%20%20%20zoom%3A%2010%2C%0A%20%20%20%20%20%20%20%20%20%20%20%20%20%20%20%20%20%20%20%20zoomControl%3A%20true%2C%0A%20%20%20%20%20%20%20%20%20%20%20%20%20%20%20%20%20%20%20%20preferCanvas%3A%20false%2C%0A%20%20%20%20%20%20%20%20%20%20%20%20%20%20%20%20%7D%0A%20%20%20%20%20%20%20%20%20%20%20%20%29%3B%0A%0A%20%20%20%20%20%20%20%20%20%20%20%20%0A%0A%20%20%20%20%20%20%20%20%0A%20%20%20%20%0A%20%20%20%20%20%20%20%20%20%20%20%20var%20tile_layer_3a59a97dda0a4076b9cc799ff97252de%20%3D%20L.tileLayer%28%0A%20%20%20%20%20%20%20%20%20%20%20%20%20%20%20%20%22https%3A//%7Bs%7D.tile.openstreetmap.org/%7Bz%7D/%7Bx%7D/%7By%7D.png%22%2C%0A%20%20%20%20%20%20%20%20%20%20%20%20%20%20%20%20%7B%22attribution%22%3A%20%22Data%20by%20%5Cu0026copy%3B%20%5Cu003ca%20href%3D%5C%22http%3A//openstreetmap.org%5C%22%5Cu003eOpenStreetMap%5Cu003c/a%5Cu003e%2C%20under%20%5Cu003ca%20href%3D%5C%22http%3A//www.openstreetmap.org/copyright%5C%22%5Cu003eODbL%5Cu003c/a%5Cu003e.%22%2C%20%22detectRetina%22%3A%20false%2C%20%22maxNativeZoom%22%3A%2018%2C%20%22maxZoom%22%3A%2018%2C%20%22minZoom%22%3A%200%2C%20%22noWrap%22%3A%20false%2C%20%22opacity%22%3A%201%2C%20%22subdomains%22%3A%20%22abc%22%2C%20%22tms%22%3A%20false%7D%0A%20%20%20%20%20%20%20%20%20%20%20%20%29.addTo%28map_dfaf288b89af460b967bfea4be1291bf%29%3B%0A%20%20%20%20%20%20%20%20%0A%20%20%20%20%0A%20%20%20%20%20%20%20%20%20%20%20%20var%20tile_layer_2def053cce1b4446b578e3ef8cf9273b%20%3D%20L.tileLayer%28%0A%20%20%20%20%20%20%20%20%20%20%20%20%20%20%20%20%22https%3A//earthengine.googleapis.com/v1alpha/projects/earthengine-legacy/maps/5cdb41da30bbd434efcd45a50777ea05-dfd396de7ae334d16c43ab8733ffd06f/tiles/%7Bz%7D/%7Bx%7D/%7By%7D%22%2C%0A%20%20%20%20%20%20%20%20%20%20%20%20%20%20%20%20%7B%22attribution%22%3A%20%22Map%20Data%20%5Cu0026copy%3B%20%5Cu003ca%20href%3D%5C%22https%3A//earthengine.google.com/%5C%22%5Cu003eGoogle%20Earth%20Engine%5Cu003c/a%5Cu003e%22%2C%20%22detectRetina%22%3A%20false%2C%20%22maxNativeZoom%22%3A%2018%2C%20%22maxZoom%22%3A%2018%2C%20%22minZoom%22%3A%200%2C%20%22noWrap%22%3A%20false%2C%20%22opacity%22%3A%201%2C%20%22subdomains%22%3A%20%22abc%22%2C%20%22tms%22%3A%20false%7D%0A%20%20%20%20%20%20%20%20%20%20%20%20%29.addTo%28map_dfaf288b89af460b967bfea4be1291bf%29%3B%0A%20%20%20%20%20%20%20%20%0A%20%20%20%20%0A%20%20%20%20%20%20%20%20%20%20%20%20var%20tile_layer_db8d05b987bb4e71b8e6e991fffbc629%20%3D%20L.tileLayer%28%0A%20%20%20%20%20%20%20%20%20%20%20%20%20%20%20%20%22https%3A//earthengine.googleapis.com/v1alpha/projects/earthengine-legacy/maps/a9b9dc385d22c2da6b0b787947a8b762-a3bdea1bc05b08214008c92e0ce863ab/tiles/%7Bz%7D/%7Bx%7D/%7By%7D%22%2C%0A%20%20%20%20%20%20%20%20%20%20%20%20%20%20%20%20%7B%22attribution%22%3A%20%22Map%20Data%20%5Cu0026copy%3B%20%5Cu003ca%20href%3D%5C%22https%3A//earthengine.google.com/%5C%22%5Cu003eGoogle%20Earth%20Engine%5Cu003c/a%5Cu003e%22%2C%20%22detectRetina%22%3A%20false%2C%20%22maxNativeZoom%22%3A%2018%2C%20%22maxZoom%22%3A%2018%2C%20%22minZoom%22%3A%200%2C%20%22noWrap%22%3A%20false%2C%20%22opacity%22%3A%201%2C%20%22subdomains%22%3A%20%22abc%22%2C%20%22tms%22%3A%20false%7D%0A%20%20%20%20%20%20%20%20%20%20%20%20%29.addTo%28map_dfaf288b89af460b967bfea4be1291bf%29%3B%0A%20%20%20%20%20%20%20%20%0A%20%20%20%20%0A%20%20%20%20%20%20%20%20%20%20%20%20var%20tile_layer_9f00390efc614c16aaf9c534c7d6673f%20%3D%20L.tileLayer%28%0A%20%20%20%20%20%20%20%20%20%20%20%20%20%20%20%20%22https%3A//earthengine.googleapis.com/v1alpha/projects/earthengine-legacy/maps/089c121e0a59b2d72d7197566c269ab9-2b0ae4deac007dabe263e5f8d062cfa0/tiles/%7Bz%7D/%7Bx%7D/%7By%7D%22%2C%0A%20%20%20%20%20%20%20%20%20%20%20%20%20%20%20%20%7B%22attribution%22%3A%20%22Map%20Data%20%5Cu0026copy%3B%20%5Cu003ca%20href%3D%5C%22https%3A//earthengine.google.com/%5C%22%5Cu003eGoogle%20Earth%20Engine%5Cu003c/a%5Cu003e%22%2C%20%22detectRetina%22%3A%20false%2C%20%22maxNativeZoom%22%3A%2018%2C%20%22maxZoom%22%3A%2018%2C%20%22minZoom%22%3A%200%2C%20%22noWrap%22%3A%20false%2C%20%22opacity%22%3A%201%2C%20%22subdomains%22%3A%20%22abc%22%2C%20%22tms%22%3A%20false%7D%0A%20%20%20%20%20%20%20%20%20%20%20%20%29.addTo%28map_dfaf288b89af460b967bfea4be1291bf%29%3B%0A%20%20%20%20%20%20%20%20%0A%20%20%20%20%0A%20%20%20%20%20%20%20%20%20%20%20%20var%20layer_control_d56ad4a1ce9f48ba80482d3809f0f775%20%3D%20%7B%0A%20%20%20%20%20%20%20%20%20%20%20%20%20%20%20%20base_layers%20%3A%20%7B%0A%20%20%20%20%20%20%20%20%20%20%20%20%20%20%20%20%20%20%20%20%22openstreetmap%22%20%3A%20tile_layer_3a59a97dda0a4076b9cc799ff97252de%2C%0A%20%20%20%20%20%20%20%20%20%20%20%20%20%20%20%20%7D%2C%0A%20%20%20%20%20%20%20%20%20%20%20%20%20%20%20%20overlays%20%3A%20%20%7B%0A%20%20%20%20%20%20%20%20%20%20%20%20%20%20%20%20%20%20%20%20%22Masked%20NDVI%22%20%3A%20tile_layer_2def053cce1b4446b578e3ef8cf9273b%2C%0A%20%20%20%20%20%20%20%20%20%20%20%20%20%20%20%20%20%20%20%20%22Unmasked%20NDVI%22%20%3A%20tile_layer_db8d05b987bb4e71b8e6e991fffbc629%2C%0A%20%20%20%20%20%20%20%20%20%20%20%20%20%20%20%20%20%20%20%20%22Normalized%20NDVI%20Difference%22%20%3A%20tile_layer_9f00390efc614c16aaf9c534c7d6673f%2C%0A%20%20%20%20%20%20%20%20%20%20%20%20%20%20%20%20%7D%2C%0A%20%20%20%20%20%20%20%20%20%20%20%20%7D%3B%0A%20%20%20%20%20%20%20%20%20%20%20%20L.control.layers%28%0A%20%20%20%20%20%20%20%20%20%20%20%20%20%20%20%20layer_control_d56ad4a1ce9f48ba80482d3809f0f775.base_layers%2C%0A%20%20%20%20%20%20%20%20%20%20%20%20%20%20%20%20layer_control_d56ad4a1ce9f48ba80482d3809f0f775.overlays%2C%0A%20%20%20%20%20%20%20%20%20%20%20%20%20%20%20%20%7B%22autoZIndex%22%3A%20true%2C%20%22collapsed%22%3A%20true%2C%20%22position%22%3A%20%22topright%22%7D%0A%20%20%20%20%20%20%20%20%20%20%20%20%29.addTo%28map_dfaf288b89af460b967bfea4be1291bf%29%3B%0A%20%20%20%20%20%20%20%20%0A%3C/script%3E onload=\"this.contentDocument.open();this.contentDocument.write(    decodeURIComponent(this.getAttribute('data-html')));this.contentDocument.close();\" allowfullscreen webkitallowfullscreen mozallowfullscreen></iframe></div></div>"
      ],
      "text/plain": [
       "<folium.folium.Map at 0x104989b20>"
      ]
     },
     "metadata": {},
     "output_type": "display_data"
    },
    {
     "name": "stdout",
     "output_type": "stream",
     "text": [
      "\n",
      " \n",
      "\n",
      "2019-04-01 - 2019-05-01\n"
     ]
    },
    {
     "data": {
      "text/html": [
       "<div style=\"width:100%;\"><div style=\"position:relative;width:100%;height:0;padding-bottom:60%;\"><span style=\"color:#565656\">Make this Notebook Trusted to load map: File -> Trust Notebook</span><iframe src=\"about:blank\" style=\"position:absolute;width:100%;height:100%;left:0;top:0;border:none !important;\" data-html=%3C%21DOCTYPE%20html%3E%0A%3Chead%3E%20%20%20%20%0A%20%20%20%20%3Cmeta%20http-equiv%3D%22content-type%22%20content%3D%22text/html%3B%20charset%3DUTF-8%22%20/%3E%0A%20%20%20%20%0A%20%20%20%20%20%20%20%20%3Cscript%3E%0A%20%20%20%20%20%20%20%20%20%20%20%20L_NO_TOUCH%20%3D%20false%3B%0A%20%20%20%20%20%20%20%20%20%20%20%20L_DISABLE_3D%20%3D%20false%3B%0A%20%20%20%20%20%20%20%20%3C/script%3E%0A%20%20%20%20%0A%20%20%20%20%3Cstyle%3Ehtml%2C%20body%20%7Bwidth%3A%20100%25%3Bheight%3A%20100%25%3Bmargin%3A%200%3Bpadding%3A%200%3B%7D%3C/style%3E%0A%20%20%20%20%3Cstyle%3E%23map%20%7Bposition%3Aabsolute%3Btop%3A0%3Bbottom%3A0%3Bright%3A0%3Bleft%3A0%3B%7D%3C/style%3E%0A%20%20%20%20%3Cscript%20src%3D%22https%3A//cdn.jsdelivr.net/npm/leaflet%401.6.0/dist/leaflet.js%22%3E%3C/script%3E%0A%20%20%20%20%3Cscript%20src%3D%22https%3A//code.jquery.com/jquery-1.12.4.min.js%22%3E%3C/script%3E%0A%20%20%20%20%3Cscript%20src%3D%22https%3A//maxcdn.bootstrapcdn.com/bootstrap/3.2.0/js/bootstrap.min.js%22%3E%3C/script%3E%0A%20%20%20%20%3Cscript%20src%3D%22https%3A//cdnjs.cloudflare.com/ajax/libs/Leaflet.awesome-markers/2.0.2/leaflet.awesome-markers.js%22%3E%3C/script%3E%0A%20%20%20%20%3Clink%20rel%3D%22stylesheet%22%20href%3D%22https%3A//cdn.jsdelivr.net/npm/leaflet%401.6.0/dist/leaflet.css%22/%3E%0A%20%20%20%20%3Clink%20rel%3D%22stylesheet%22%20href%3D%22https%3A//maxcdn.bootstrapcdn.com/bootstrap/3.2.0/css/bootstrap.min.css%22/%3E%0A%20%20%20%20%3Clink%20rel%3D%22stylesheet%22%20href%3D%22https%3A//maxcdn.bootstrapcdn.com/bootstrap/3.2.0/css/bootstrap-theme.min.css%22/%3E%0A%20%20%20%20%3Clink%20rel%3D%22stylesheet%22%20href%3D%22https%3A//maxcdn.bootstrapcdn.com/font-awesome/4.6.3/css/font-awesome.min.css%22/%3E%0A%20%20%20%20%3Clink%20rel%3D%22stylesheet%22%20href%3D%22https%3A//cdnjs.cloudflare.com/ajax/libs/Leaflet.awesome-markers/2.0.2/leaflet.awesome-markers.css%22/%3E%0A%20%20%20%20%3Clink%20rel%3D%22stylesheet%22%20href%3D%22https%3A//cdn.jsdelivr.net/gh/python-visualization/folium/folium/templates/leaflet.awesome.rotate.min.css%22/%3E%0A%20%20%20%20%0A%20%20%20%20%20%20%20%20%20%20%20%20%3Cmeta%20name%3D%22viewport%22%20content%3D%22width%3Ddevice-width%2C%0A%20%20%20%20%20%20%20%20%20%20%20%20%20%20%20%20initial-scale%3D1.0%2C%20maximum-scale%3D1.0%2C%20user-scalable%3Dno%22%20/%3E%0A%20%20%20%20%20%20%20%20%20%20%20%20%3Cstyle%3E%0A%20%20%20%20%20%20%20%20%20%20%20%20%20%20%20%20%23map_919024fa00404cacafe5ff30d96c4cf0%20%7B%0A%20%20%20%20%20%20%20%20%20%20%20%20%20%20%20%20%20%20%20%20position%3A%20relative%3B%0A%20%20%20%20%20%20%20%20%20%20%20%20%20%20%20%20%20%20%20%20width%3A%20100.0%25%3B%0A%20%20%20%20%20%20%20%20%20%20%20%20%20%20%20%20%20%20%20%20height%3A%20100.0%25%3B%0A%20%20%20%20%20%20%20%20%20%20%20%20%20%20%20%20%20%20%20%20left%3A%200.0%25%3B%0A%20%20%20%20%20%20%20%20%20%20%20%20%20%20%20%20%20%20%20%20top%3A%200.0%25%3B%0A%20%20%20%20%20%20%20%20%20%20%20%20%20%20%20%20%7D%0A%20%20%20%20%20%20%20%20%20%20%20%20%3C/style%3E%0A%20%20%20%20%20%20%20%20%0A%3C/head%3E%0A%3Cbody%3E%20%20%20%20%0A%20%20%20%20%0A%20%20%20%20%20%20%20%20%20%20%20%20%3Cdiv%20class%3D%22folium-map%22%20id%3D%22map_919024fa00404cacafe5ff30d96c4cf0%22%20%3E%3C/div%3E%0A%20%20%20%20%20%20%20%20%0A%3C/body%3E%0A%3Cscript%3E%20%20%20%20%0A%20%20%20%20%0A%20%20%20%20%20%20%20%20%20%20%20%20var%20map_919024fa00404cacafe5ff30d96c4cf0%20%3D%20L.map%28%0A%20%20%20%20%20%20%20%20%20%20%20%20%20%20%20%20%22map_919024fa00404cacafe5ff30d96c4cf0%22%2C%0A%20%20%20%20%20%20%20%20%20%20%20%20%20%20%20%20%7B%0A%20%20%20%20%20%20%20%20%20%20%20%20%20%20%20%20%20%20%20%20center%3A%20%5B-19.705570084543737%2C%2044.70292749999976%5D%2C%0A%20%20%20%20%20%20%20%20%20%20%20%20%20%20%20%20%20%20%20%20crs%3A%20L.CRS.EPSG3857%2C%0A%20%20%20%20%20%20%20%20%20%20%20%20%20%20%20%20%20%20%20%20zoom%3A%2010%2C%0A%20%20%20%20%20%20%20%20%20%20%20%20%20%20%20%20%20%20%20%20zoomControl%3A%20true%2C%0A%20%20%20%20%20%20%20%20%20%20%20%20%20%20%20%20%20%20%20%20preferCanvas%3A%20false%2C%0A%20%20%20%20%20%20%20%20%20%20%20%20%20%20%20%20%7D%0A%20%20%20%20%20%20%20%20%20%20%20%20%29%3B%0A%0A%20%20%20%20%20%20%20%20%20%20%20%20%0A%0A%20%20%20%20%20%20%20%20%0A%20%20%20%20%0A%20%20%20%20%20%20%20%20%20%20%20%20var%20tile_layer_b4bdf4a630c140298bfa98fb78d15b38%20%3D%20L.tileLayer%28%0A%20%20%20%20%20%20%20%20%20%20%20%20%20%20%20%20%22https%3A//%7Bs%7D.tile.openstreetmap.org/%7Bz%7D/%7Bx%7D/%7By%7D.png%22%2C%0A%20%20%20%20%20%20%20%20%20%20%20%20%20%20%20%20%7B%22attribution%22%3A%20%22Data%20by%20%5Cu0026copy%3B%20%5Cu003ca%20href%3D%5C%22http%3A//openstreetmap.org%5C%22%5Cu003eOpenStreetMap%5Cu003c/a%5Cu003e%2C%20under%20%5Cu003ca%20href%3D%5C%22http%3A//www.openstreetmap.org/copyright%5C%22%5Cu003eODbL%5Cu003c/a%5Cu003e.%22%2C%20%22detectRetina%22%3A%20false%2C%20%22maxNativeZoom%22%3A%2018%2C%20%22maxZoom%22%3A%2018%2C%20%22minZoom%22%3A%200%2C%20%22noWrap%22%3A%20false%2C%20%22opacity%22%3A%201%2C%20%22subdomains%22%3A%20%22abc%22%2C%20%22tms%22%3A%20false%7D%0A%20%20%20%20%20%20%20%20%20%20%20%20%29.addTo%28map_919024fa00404cacafe5ff30d96c4cf0%29%3B%0A%20%20%20%20%20%20%20%20%0A%20%20%20%20%0A%20%20%20%20%20%20%20%20%20%20%20%20var%20tile_layer_0c3ce424d4784546871bfe430493aa1a%20%3D%20L.tileLayer%28%0A%20%20%20%20%20%20%20%20%20%20%20%20%20%20%20%20%22https%3A//earthengine.googleapis.com/v1alpha/projects/earthengine-legacy/maps/f0a3eb71694634a0b1b039dcb3889f3e-fae6a5b567adb3f1cdbfeae05c2bc329/tiles/%7Bz%7D/%7Bx%7D/%7By%7D%22%2C%0A%20%20%20%20%20%20%20%20%20%20%20%20%20%20%20%20%7B%22attribution%22%3A%20%22Map%20Data%20%5Cu0026copy%3B%20%5Cu003ca%20href%3D%5C%22https%3A//earthengine.google.com/%5C%22%5Cu003eGoogle%20Earth%20Engine%5Cu003c/a%5Cu003e%22%2C%20%22detectRetina%22%3A%20false%2C%20%22maxNativeZoom%22%3A%2018%2C%20%22maxZoom%22%3A%2018%2C%20%22minZoom%22%3A%200%2C%20%22noWrap%22%3A%20false%2C%20%22opacity%22%3A%201%2C%20%22subdomains%22%3A%20%22abc%22%2C%20%22tms%22%3A%20false%7D%0A%20%20%20%20%20%20%20%20%20%20%20%20%29.addTo%28map_919024fa00404cacafe5ff30d96c4cf0%29%3B%0A%20%20%20%20%20%20%20%20%0A%20%20%20%20%0A%20%20%20%20%20%20%20%20%20%20%20%20var%20tile_layer_ec8545eadcdc45fc9446e0e50e3f5d73%20%3D%20L.tileLayer%28%0A%20%20%20%20%20%20%20%20%20%20%20%20%20%20%20%20%22https%3A//earthengine.googleapis.com/v1alpha/projects/earthengine-legacy/maps/bc28f865bd5b18cc5839eb032c882b36-4693244c94c442d1182b675884e063ee/tiles/%7Bz%7D/%7Bx%7D/%7By%7D%22%2C%0A%20%20%20%20%20%20%20%20%20%20%20%20%20%20%20%20%7B%22attribution%22%3A%20%22Map%20Data%20%5Cu0026copy%3B%20%5Cu003ca%20href%3D%5C%22https%3A//earthengine.google.com/%5C%22%5Cu003eGoogle%20Earth%20Engine%5Cu003c/a%5Cu003e%22%2C%20%22detectRetina%22%3A%20false%2C%20%22maxNativeZoom%22%3A%2018%2C%20%22maxZoom%22%3A%2018%2C%20%22minZoom%22%3A%200%2C%20%22noWrap%22%3A%20false%2C%20%22opacity%22%3A%201%2C%20%22subdomains%22%3A%20%22abc%22%2C%20%22tms%22%3A%20false%7D%0A%20%20%20%20%20%20%20%20%20%20%20%20%29.addTo%28map_919024fa00404cacafe5ff30d96c4cf0%29%3B%0A%20%20%20%20%20%20%20%20%0A%20%20%20%20%0A%20%20%20%20%20%20%20%20%20%20%20%20var%20tile_layer_ddc76ebef91b4a8ea9f667049de4eadc%20%3D%20L.tileLayer%28%0A%20%20%20%20%20%20%20%20%20%20%20%20%20%20%20%20%22https%3A//earthengine.googleapis.com/v1alpha/projects/earthengine-legacy/maps/36d7c88c57c9715df17b80bb6241a392-6e91a4ef5a4dbd711cb3dad5db4c7780/tiles/%7Bz%7D/%7Bx%7D/%7By%7D%22%2C%0A%20%20%20%20%20%20%20%20%20%20%20%20%20%20%20%20%7B%22attribution%22%3A%20%22Map%20Data%20%5Cu0026copy%3B%20%5Cu003ca%20href%3D%5C%22https%3A//earthengine.google.com/%5C%22%5Cu003eGoogle%20Earth%20Engine%5Cu003c/a%5Cu003e%22%2C%20%22detectRetina%22%3A%20false%2C%20%22maxNativeZoom%22%3A%2018%2C%20%22maxZoom%22%3A%2018%2C%20%22minZoom%22%3A%200%2C%20%22noWrap%22%3A%20false%2C%20%22opacity%22%3A%201%2C%20%22subdomains%22%3A%20%22abc%22%2C%20%22tms%22%3A%20false%7D%0A%20%20%20%20%20%20%20%20%20%20%20%20%29.addTo%28map_919024fa00404cacafe5ff30d96c4cf0%29%3B%0A%20%20%20%20%20%20%20%20%0A%20%20%20%20%0A%20%20%20%20%20%20%20%20%20%20%20%20var%20layer_control_dfe8e8684ad948c98137bcec0cd50c27%20%3D%20%7B%0A%20%20%20%20%20%20%20%20%20%20%20%20%20%20%20%20base_layers%20%3A%20%7B%0A%20%20%20%20%20%20%20%20%20%20%20%20%20%20%20%20%20%20%20%20%22openstreetmap%22%20%3A%20tile_layer_b4bdf4a630c140298bfa98fb78d15b38%2C%0A%20%20%20%20%20%20%20%20%20%20%20%20%20%20%20%20%7D%2C%0A%20%20%20%20%20%20%20%20%20%20%20%20%20%20%20%20overlays%20%3A%20%20%7B%0A%20%20%20%20%20%20%20%20%20%20%20%20%20%20%20%20%20%20%20%20%22Masked%20NDVI%22%20%3A%20tile_layer_0c3ce424d4784546871bfe430493aa1a%2C%0A%20%20%20%20%20%20%20%20%20%20%20%20%20%20%20%20%20%20%20%20%22Unmasked%20NDVI%22%20%3A%20tile_layer_ec8545eadcdc45fc9446e0e50e3f5d73%2C%0A%20%20%20%20%20%20%20%20%20%20%20%20%20%20%20%20%20%20%20%20%22Normalized%20NDVI%20Difference%22%20%3A%20tile_layer_ddc76ebef91b4a8ea9f667049de4eadc%2C%0A%20%20%20%20%20%20%20%20%20%20%20%20%20%20%20%20%7D%2C%0A%20%20%20%20%20%20%20%20%20%20%20%20%7D%3B%0A%20%20%20%20%20%20%20%20%20%20%20%20L.control.layers%28%0A%20%20%20%20%20%20%20%20%20%20%20%20%20%20%20%20layer_control_dfe8e8684ad948c98137bcec0cd50c27.base_layers%2C%0A%20%20%20%20%20%20%20%20%20%20%20%20%20%20%20%20layer_control_dfe8e8684ad948c98137bcec0cd50c27.overlays%2C%0A%20%20%20%20%20%20%20%20%20%20%20%20%20%20%20%20%7B%22autoZIndex%22%3A%20true%2C%20%22collapsed%22%3A%20true%2C%20%22position%22%3A%20%22topright%22%7D%0A%20%20%20%20%20%20%20%20%20%20%20%20%29.addTo%28map_919024fa00404cacafe5ff30d96c4cf0%29%3B%0A%20%20%20%20%20%20%20%20%0A%3C/script%3E onload=\"this.contentDocument.open();this.contentDocument.write(    decodeURIComponent(this.getAttribute('data-html')));this.contentDocument.close();\" allowfullscreen webkitallowfullscreen mozallowfullscreen></iframe></div></div>"
      ],
      "text/plain": [
       "<folium.folium.Map at 0x13e97c8b0>"
      ]
     },
     "metadata": {},
     "output_type": "display_data"
    },
    {
     "name": "stdout",
     "output_type": "stream",
     "text": [
      "\n",
      " \n",
      "\n",
      "2019-05-01 - 2019-06-01\n"
     ]
    },
    {
     "data": {
      "text/html": [
       "<div style=\"width:100%;\"><div style=\"position:relative;width:100%;height:0;padding-bottom:60%;\"><span style=\"color:#565656\">Make this Notebook Trusted to load map: File -> Trust Notebook</span><iframe src=\"about:blank\" style=\"position:absolute;width:100%;height:100%;left:0;top:0;border:none !important;\" data-html=%3C%21DOCTYPE%20html%3E%0A%3Chead%3E%20%20%20%20%0A%20%20%20%20%3Cmeta%20http-equiv%3D%22content-type%22%20content%3D%22text/html%3B%20charset%3DUTF-8%22%20/%3E%0A%20%20%20%20%0A%20%20%20%20%20%20%20%20%3Cscript%3E%0A%20%20%20%20%20%20%20%20%20%20%20%20L_NO_TOUCH%20%3D%20false%3B%0A%20%20%20%20%20%20%20%20%20%20%20%20L_DISABLE_3D%20%3D%20false%3B%0A%20%20%20%20%20%20%20%20%3C/script%3E%0A%20%20%20%20%0A%20%20%20%20%3Cstyle%3Ehtml%2C%20body%20%7Bwidth%3A%20100%25%3Bheight%3A%20100%25%3Bmargin%3A%200%3Bpadding%3A%200%3B%7D%3C/style%3E%0A%20%20%20%20%3Cstyle%3E%23map%20%7Bposition%3Aabsolute%3Btop%3A0%3Bbottom%3A0%3Bright%3A0%3Bleft%3A0%3B%7D%3C/style%3E%0A%20%20%20%20%3Cscript%20src%3D%22https%3A//cdn.jsdelivr.net/npm/leaflet%401.6.0/dist/leaflet.js%22%3E%3C/script%3E%0A%20%20%20%20%3Cscript%20src%3D%22https%3A//code.jquery.com/jquery-1.12.4.min.js%22%3E%3C/script%3E%0A%20%20%20%20%3Cscript%20src%3D%22https%3A//maxcdn.bootstrapcdn.com/bootstrap/3.2.0/js/bootstrap.min.js%22%3E%3C/script%3E%0A%20%20%20%20%3Cscript%20src%3D%22https%3A//cdnjs.cloudflare.com/ajax/libs/Leaflet.awesome-markers/2.0.2/leaflet.awesome-markers.js%22%3E%3C/script%3E%0A%20%20%20%20%3Clink%20rel%3D%22stylesheet%22%20href%3D%22https%3A//cdn.jsdelivr.net/npm/leaflet%401.6.0/dist/leaflet.css%22/%3E%0A%20%20%20%20%3Clink%20rel%3D%22stylesheet%22%20href%3D%22https%3A//maxcdn.bootstrapcdn.com/bootstrap/3.2.0/css/bootstrap.min.css%22/%3E%0A%20%20%20%20%3Clink%20rel%3D%22stylesheet%22%20href%3D%22https%3A//maxcdn.bootstrapcdn.com/bootstrap/3.2.0/css/bootstrap-theme.min.css%22/%3E%0A%20%20%20%20%3Clink%20rel%3D%22stylesheet%22%20href%3D%22https%3A//maxcdn.bootstrapcdn.com/font-awesome/4.6.3/css/font-awesome.min.css%22/%3E%0A%20%20%20%20%3Clink%20rel%3D%22stylesheet%22%20href%3D%22https%3A//cdnjs.cloudflare.com/ajax/libs/Leaflet.awesome-markers/2.0.2/leaflet.awesome-markers.css%22/%3E%0A%20%20%20%20%3Clink%20rel%3D%22stylesheet%22%20href%3D%22https%3A//cdn.jsdelivr.net/gh/python-visualization/folium/folium/templates/leaflet.awesome.rotate.min.css%22/%3E%0A%20%20%20%20%0A%20%20%20%20%20%20%20%20%20%20%20%20%3Cmeta%20name%3D%22viewport%22%20content%3D%22width%3Ddevice-width%2C%0A%20%20%20%20%20%20%20%20%20%20%20%20%20%20%20%20initial-scale%3D1.0%2C%20maximum-scale%3D1.0%2C%20user-scalable%3Dno%22%20/%3E%0A%20%20%20%20%20%20%20%20%20%20%20%20%3Cstyle%3E%0A%20%20%20%20%20%20%20%20%20%20%20%20%20%20%20%20%23map_53fed97ec5094800ad9b5fff968a3eef%20%7B%0A%20%20%20%20%20%20%20%20%20%20%20%20%20%20%20%20%20%20%20%20position%3A%20relative%3B%0A%20%20%20%20%20%20%20%20%20%20%20%20%20%20%20%20%20%20%20%20width%3A%20100.0%25%3B%0A%20%20%20%20%20%20%20%20%20%20%20%20%20%20%20%20%20%20%20%20height%3A%20100.0%25%3B%0A%20%20%20%20%20%20%20%20%20%20%20%20%20%20%20%20%20%20%20%20left%3A%200.0%25%3B%0A%20%20%20%20%20%20%20%20%20%20%20%20%20%20%20%20%20%20%20%20top%3A%200.0%25%3B%0A%20%20%20%20%20%20%20%20%20%20%20%20%20%20%20%20%7D%0A%20%20%20%20%20%20%20%20%20%20%20%20%3C/style%3E%0A%20%20%20%20%20%20%20%20%0A%3C/head%3E%0A%3Cbody%3E%20%20%20%20%0A%20%20%20%20%0A%20%20%20%20%20%20%20%20%20%20%20%20%3Cdiv%20class%3D%22folium-map%22%20id%3D%22map_53fed97ec5094800ad9b5fff968a3eef%22%20%3E%3C/div%3E%0A%20%20%20%20%20%20%20%20%0A%3C/body%3E%0A%3Cscript%3E%20%20%20%20%0A%20%20%20%20%0A%20%20%20%20%20%20%20%20%20%20%20%20var%20map_53fed97ec5094800ad9b5fff968a3eef%20%3D%20L.map%28%0A%20%20%20%20%20%20%20%20%20%20%20%20%20%20%20%20%22map_53fed97ec5094800ad9b5fff968a3eef%22%2C%0A%20%20%20%20%20%20%20%20%20%20%20%20%20%20%20%20%7B%0A%20%20%20%20%20%20%20%20%20%20%20%20%20%20%20%20%20%20%20%20center%3A%20%5B-19.705570084543737%2C%2044.70292749999976%5D%2C%0A%20%20%20%20%20%20%20%20%20%20%20%20%20%20%20%20%20%20%20%20crs%3A%20L.CRS.EPSG3857%2C%0A%20%20%20%20%20%20%20%20%20%20%20%20%20%20%20%20%20%20%20%20zoom%3A%2010%2C%0A%20%20%20%20%20%20%20%20%20%20%20%20%20%20%20%20%20%20%20%20zoomControl%3A%20true%2C%0A%20%20%20%20%20%20%20%20%20%20%20%20%20%20%20%20%20%20%20%20preferCanvas%3A%20false%2C%0A%20%20%20%20%20%20%20%20%20%20%20%20%20%20%20%20%7D%0A%20%20%20%20%20%20%20%20%20%20%20%20%29%3B%0A%0A%20%20%20%20%20%20%20%20%20%20%20%20%0A%0A%20%20%20%20%20%20%20%20%0A%20%20%20%20%0A%20%20%20%20%20%20%20%20%20%20%20%20var%20tile_layer_2cc9ccd53ee14418a6a9012b1a210b83%20%3D%20L.tileLayer%28%0A%20%20%20%20%20%20%20%20%20%20%20%20%20%20%20%20%22https%3A//%7Bs%7D.tile.openstreetmap.org/%7Bz%7D/%7Bx%7D/%7By%7D.png%22%2C%0A%20%20%20%20%20%20%20%20%20%20%20%20%20%20%20%20%7B%22attribution%22%3A%20%22Data%20by%20%5Cu0026copy%3B%20%5Cu003ca%20href%3D%5C%22http%3A//openstreetmap.org%5C%22%5Cu003eOpenStreetMap%5Cu003c/a%5Cu003e%2C%20under%20%5Cu003ca%20href%3D%5C%22http%3A//www.openstreetmap.org/copyright%5C%22%5Cu003eODbL%5Cu003c/a%5Cu003e.%22%2C%20%22detectRetina%22%3A%20false%2C%20%22maxNativeZoom%22%3A%2018%2C%20%22maxZoom%22%3A%2018%2C%20%22minZoom%22%3A%200%2C%20%22noWrap%22%3A%20false%2C%20%22opacity%22%3A%201%2C%20%22subdomains%22%3A%20%22abc%22%2C%20%22tms%22%3A%20false%7D%0A%20%20%20%20%20%20%20%20%20%20%20%20%29.addTo%28map_53fed97ec5094800ad9b5fff968a3eef%29%3B%0A%20%20%20%20%20%20%20%20%0A%20%20%20%20%0A%20%20%20%20%20%20%20%20%20%20%20%20var%20tile_layer_6340558260334cb5b48cabdbe06be016%20%3D%20L.tileLayer%28%0A%20%20%20%20%20%20%20%20%20%20%20%20%20%20%20%20%22https%3A//earthengine.googleapis.com/v1alpha/projects/earthengine-legacy/maps/c6e033c9918c78d89c38c3db6208b48c-fc528638fb9f5c878b9552cbc27b138b/tiles/%7Bz%7D/%7Bx%7D/%7By%7D%22%2C%0A%20%20%20%20%20%20%20%20%20%20%20%20%20%20%20%20%7B%22attribution%22%3A%20%22Map%20Data%20%5Cu0026copy%3B%20%5Cu003ca%20href%3D%5C%22https%3A//earthengine.google.com/%5C%22%5Cu003eGoogle%20Earth%20Engine%5Cu003c/a%5Cu003e%22%2C%20%22detectRetina%22%3A%20false%2C%20%22maxNativeZoom%22%3A%2018%2C%20%22maxZoom%22%3A%2018%2C%20%22minZoom%22%3A%200%2C%20%22noWrap%22%3A%20false%2C%20%22opacity%22%3A%201%2C%20%22subdomains%22%3A%20%22abc%22%2C%20%22tms%22%3A%20false%7D%0A%20%20%20%20%20%20%20%20%20%20%20%20%29.addTo%28map_53fed97ec5094800ad9b5fff968a3eef%29%3B%0A%20%20%20%20%20%20%20%20%0A%20%20%20%20%0A%20%20%20%20%20%20%20%20%20%20%20%20var%20tile_layer_36bcaa1670464674a4de1c04c75c885b%20%3D%20L.tileLayer%28%0A%20%20%20%20%20%20%20%20%20%20%20%20%20%20%20%20%22https%3A//earthengine.googleapis.com/v1alpha/projects/earthengine-legacy/maps/b59987fb59375ea338107b17d3b0557b-269d2a5504abbf01f10b599d98f5e503/tiles/%7Bz%7D/%7Bx%7D/%7By%7D%22%2C%0A%20%20%20%20%20%20%20%20%20%20%20%20%20%20%20%20%7B%22attribution%22%3A%20%22Map%20Data%20%5Cu0026copy%3B%20%5Cu003ca%20href%3D%5C%22https%3A//earthengine.google.com/%5C%22%5Cu003eGoogle%20Earth%20Engine%5Cu003c/a%5Cu003e%22%2C%20%22detectRetina%22%3A%20false%2C%20%22maxNativeZoom%22%3A%2018%2C%20%22maxZoom%22%3A%2018%2C%20%22minZoom%22%3A%200%2C%20%22noWrap%22%3A%20false%2C%20%22opacity%22%3A%201%2C%20%22subdomains%22%3A%20%22abc%22%2C%20%22tms%22%3A%20false%7D%0A%20%20%20%20%20%20%20%20%20%20%20%20%29.addTo%28map_53fed97ec5094800ad9b5fff968a3eef%29%3B%0A%20%20%20%20%20%20%20%20%0A%20%20%20%20%0A%20%20%20%20%20%20%20%20%20%20%20%20var%20tile_layer_658c668d81064bb9a37f107fb0787b10%20%3D%20L.tileLayer%28%0A%20%20%20%20%20%20%20%20%20%20%20%20%20%20%20%20%22https%3A//earthengine.googleapis.com/v1alpha/projects/earthengine-legacy/maps/a3457da8a342aff3c8e47abeed81ef4c-4c31d041bf2541ecde2e867e32d7287c/tiles/%7Bz%7D/%7Bx%7D/%7By%7D%22%2C%0A%20%20%20%20%20%20%20%20%20%20%20%20%20%20%20%20%7B%22attribution%22%3A%20%22Map%20Data%20%5Cu0026copy%3B%20%5Cu003ca%20href%3D%5C%22https%3A//earthengine.google.com/%5C%22%5Cu003eGoogle%20Earth%20Engine%5Cu003c/a%5Cu003e%22%2C%20%22detectRetina%22%3A%20false%2C%20%22maxNativeZoom%22%3A%2018%2C%20%22maxZoom%22%3A%2018%2C%20%22minZoom%22%3A%200%2C%20%22noWrap%22%3A%20false%2C%20%22opacity%22%3A%201%2C%20%22subdomains%22%3A%20%22abc%22%2C%20%22tms%22%3A%20false%7D%0A%20%20%20%20%20%20%20%20%20%20%20%20%29.addTo%28map_53fed97ec5094800ad9b5fff968a3eef%29%3B%0A%20%20%20%20%20%20%20%20%0A%20%20%20%20%0A%20%20%20%20%20%20%20%20%20%20%20%20var%20layer_control_d383e93594284cd1b9c5ef4debd49c3d%20%3D%20%7B%0A%20%20%20%20%20%20%20%20%20%20%20%20%20%20%20%20base_layers%20%3A%20%7B%0A%20%20%20%20%20%20%20%20%20%20%20%20%20%20%20%20%20%20%20%20%22openstreetmap%22%20%3A%20tile_layer_2cc9ccd53ee14418a6a9012b1a210b83%2C%0A%20%20%20%20%20%20%20%20%20%20%20%20%20%20%20%20%7D%2C%0A%20%20%20%20%20%20%20%20%20%20%20%20%20%20%20%20overlays%20%3A%20%20%7B%0A%20%20%20%20%20%20%20%20%20%20%20%20%20%20%20%20%20%20%20%20%22Masked%20NDVI%22%20%3A%20tile_layer_6340558260334cb5b48cabdbe06be016%2C%0A%20%20%20%20%20%20%20%20%20%20%20%20%20%20%20%20%20%20%20%20%22Unmasked%20NDVI%22%20%3A%20tile_layer_36bcaa1670464674a4de1c04c75c885b%2C%0A%20%20%20%20%20%20%20%20%20%20%20%20%20%20%20%20%20%20%20%20%22Normalized%20NDVI%20Difference%22%20%3A%20tile_layer_658c668d81064bb9a37f107fb0787b10%2C%0A%20%20%20%20%20%20%20%20%20%20%20%20%20%20%20%20%7D%2C%0A%20%20%20%20%20%20%20%20%20%20%20%20%7D%3B%0A%20%20%20%20%20%20%20%20%20%20%20%20L.control.layers%28%0A%20%20%20%20%20%20%20%20%20%20%20%20%20%20%20%20layer_control_d383e93594284cd1b9c5ef4debd49c3d.base_layers%2C%0A%20%20%20%20%20%20%20%20%20%20%20%20%20%20%20%20layer_control_d383e93594284cd1b9c5ef4debd49c3d.overlays%2C%0A%20%20%20%20%20%20%20%20%20%20%20%20%20%20%20%20%7B%22autoZIndex%22%3A%20true%2C%20%22collapsed%22%3A%20true%2C%20%22position%22%3A%20%22topright%22%7D%0A%20%20%20%20%20%20%20%20%20%20%20%20%29.addTo%28map_53fed97ec5094800ad9b5fff968a3eef%29%3B%0A%20%20%20%20%20%20%20%20%0A%3C/script%3E onload=\"this.contentDocument.open();this.contentDocument.write(    decodeURIComponent(this.getAttribute('data-html')));this.contentDocument.close();\" allowfullscreen webkitallowfullscreen mozallowfullscreen></iframe></div></div>"
      ],
      "text/plain": [
       "<folium.folium.Map at 0x13e95a070>"
      ]
     },
     "metadata": {},
     "output_type": "display_data"
    },
    {
     "name": "stdout",
     "output_type": "stream",
     "text": [
      "\n",
      " \n",
      "\n",
      "2019-06-01 - 2019-07-01\n"
     ]
    },
    {
     "data": {
      "text/html": [
       "<div style=\"width:100%;\"><div style=\"position:relative;width:100%;height:0;padding-bottom:60%;\"><span style=\"color:#565656\">Make this Notebook Trusted to load map: File -> Trust Notebook</span><iframe src=\"about:blank\" style=\"position:absolute;width:100%;height:100%;left:0;top:0;border:none !important;\" data-html=%3C%21DOCTYPE%20html%3E%0A%3Chead%3E%20%20%20%20%0A%20%20%20%20%3Cmeta%20http-equiv%3D%22content-type%22%20content%3D%22text/html%3B%20charset%3DUTF-8%22%20/%3E%0A%20%20%20%20%0A%20%20%20%20%20%20%20%20%3Cscript%3E%0A%20%20%20%20%20%20%20%20%20%20%20%20L_NO_TOUCH%20%3D%20false%3B%0A%20%20%20%20%20%20%20%20%20%20%20%20L_DISABLE_3D%20%3D%20false%3B%0A%20%20%20%20%20%20%20%20%3C/script%3E%0A%20%20%20%20%0A%20%20%20%20%3Cstyle%3Ehtml%2C%20body%20%7Bwidth%3A%20100%25%3Bheight%3A%20100%25%3Bmargin%3A%200%3Bpadding%3A%200%3B%7D%3C/style%3E%0A%20%20%20%20%3Cstyle%3E%23map%20%7Bposition%3Aabsolute%3Btop%3A0%3Bbottom%3A0%3Bright%3A0%3Bleft%3A0%3B%7D%3C/style%3E%0A%20%20%20%20%3Cscript%20src%3D%22https%3A//cdn.jsdelivr.net/npm/leaflet%401.6.0/dist/leaflet.js%22%3E%3C/script%3E%0A%20%20%20%20%3Cscript%20src%3D%22https%3A//code.jquery.com/jquery-1.12.4.min.js%22%3E%3C/script%3E%0A%20%20%20%20%3Cscript%20src%3D%22https%3A//maxcdn.bootstrapcdn.com/bootstrap/3.2.0/js/bootstrap.min.js%22%3E%3C/script%3E%0A%20%20%20%20%3Cscript%20src%3D%22https%3A//cdnjs.cloudflare.com/ajax/libs/Leaflet.awesome-markers/2.0.2/leaflet.awesome-markers.js%22%3E%3C/script%3E%0A%20%20%20%20%3Clink%20rel%3D%22stylesheet%22%20href%3D%22https%3A//cdn.jsdelivr.net/npm/leaflet%401.6.0/dist/leaflet.css%22/%3E%0A%20%20%20%20%3Clink%20rel%3D%22stylesheet%22%20href%3D%22https%3A//maxcdn.bootstrapcdn.com/bootstrap/3.2.0/css/bootstrap.min.css%22/%3E%0A%20%20%20%20%3Clink%20rel%3D%22stylesheet%22%20href%3D%22https%3A//maxcdn.bootstrapcdn.com/bootstrap/3.2.0/css/bootstrap-theme.min.css%22/%3E%0A%20%20%20%20%3Clink%20rel%3D%22stylesheet%22%20href%3D%22https%3A//maxcdn.bootstrapcdn.com/font-awesome/4.6.3/css/font-awesome.min.css%22/%3E%0A%20%20%20%20%3Clink%20rel%3D%22stylesheet%22%20href%3D%22https%3A//cdnjs.cloudflare.com/ajax/libs/Leaflet.awesome-markers/2.0.2/leaflet.awesome-markers.css%22/%3E%0A%20%20%20%20%3Clink%20rel%3D%22stylesheet%22%20href%3D%22https%3A//cdn.jsdelivr.net/gh/python-visualization/folium/folium/templates/leaflet.awesome.rotate.min.css%22/%3E%0A%20%20%20%20%0A%20%20%20%20%20%20%20%20%20%20%20%20%3Cmeta%20name%3D%22viewport%22%20content%3D%22width%3Ddevice-width%2C%0A%20%20%20%20%20%20%20%20%20%20%20%20%20%20%20%20initial-scale%3D1.0%2C%20maximum-scale%3D1.0%2C%20user-scalable%3Dno%22%20/%3E%0A%20%20%20%20%20%20%20%20%20%20%20%20%3Cstyle%3E%0A%20%20%20%20%20%20%20%20%20%20%20%20%20%20%20%20%23map_5f4aef2478304f7eae0eec130945f637%20%7B%0A%20%20%20%20%20%20%20%20%20%20%20%20%20%20%20%20%20%20%20%20position%3A%20relative%3B%0A%20%20%20%20%20%20%20%20%20%20%20%20%20%20%20%20%20%20%20%20width%3A%20100.0%25%3B%0A%20%20%20%20%20%20%20%20%20%20%20%20%20%20%20%20%20%20%20%20height%3A%20100.0%25%3B%0A%20%20%20%20%20%20%20%20%20%20%20%20%20%20%20%20%20%20%20%20left%3A%200.0%25%3B%0A%20%20%20%20%20%20%20%20%20%20%20%20%20%20%20%20%20%20%20%20top%3A%200.0%25%3B%0A%20%20%20%20%20%20%20%20%20%20%20%20%20%20%20%20%7D%0A%20%20%20%20%20%20%20%20%20%20%20%20%3C/style%3E%0A%20%20%20%20%20%20%20%20%0A%3C/head%3E%0A%3Cbody%3E%20%20%20%20%0A%20%20%20%20%0A%20%20%20%20%20%20%20%20%20%20%20%20%3Cdiv%20class%3D%22folium-map%22%20id%3D%22map_5f4aef2478304f7eae0eec130945f637%22%20%3E%3C/div%3E%0A%20%20%20%20%20%20%20%20%0A%3C/body%3E%0A%3Cscript%3E%20%20%20%20%0A%20%20%20%20%0A%20%20%20%20%20%20%20%20%20%20%20%20var%20map_5f4aef2478304f7eae0eec130945f637%20%3D%20L.map%28%0A%20%20%20%20%20%20%20%20%20%20%20%20%20%20%20%20%22map_5f4aef2478304f7eae0eec130945f637%22%2C%0A%20%20%20%20%20%20%20%20%20%20%20%20%20%20%20%20%7B%0A%20%20%20%20%20%20%20%20%20%20%20%20%20%20%20%20%20%20%20%20center%3A%20%5B-19.705570084543737%2C%2044.70292749999976%5D%2C%0A%20%20%20%20%20%20%20%20%20%20%20%20%20%20%20%20%20%20%20%20crs%3A%20L.CRS.EPSG3857%2C%0A%20%20%20%20%20%20%20%20%20%20%20%20%20%20%20%20%20%20%20%20zoom%3A%2010%2C%0A%20%20%20%20%20%20%20%20%20%20%20%20%20%20%20%20%20%20%20%20zoomControl%3A%20true%2C%0A%20%20%20%20%20%20%20%20%20%20%20%20%20%20%20%20%20%20%20%20preferCanvas%3A%20false%2C%0A%20%20%20%20%20%20%20%20%20%20%20%20%20%20%20%20%7D%0A%20%20%20%20%20%20%20%20%20%20%20%20%29%3B%0A%0A%20%20%20%20%20%20%20%20%20%20%20%20%0A%0A%20%20%20%20%20%20%20%20%0A%20%20%20%20%0A%20%20%20%20%20%20%20%20%20%20%20%20var%20tile_layer_d4b9ae959c57490aaaf4dfbfebda9408%20%3D%20L.tileLayer%28%0A%20%20%20%20%20%20%20%20%20%20%20%20%20%20%20%20%22https%3A//%7Bs%7D.tile.openstreetmap.org/%7Bz%7D/%7Bx%7D/%7By%7D.png%22%2C%0A%20%20%20%20%20%20%20%20%20%20%20%20%20%20%20%20%7B%22attribution%22%3A%20%22Data%20by%20%5Cu0026copy%3B%20%5Cu003ca%20href%3D%5C%22http%3A//openstreetmap.org%5C%22%5Cu003eOpenStreetMap%5Cu003c/a%5Cu003e%2C%20under%20%5Cu003ca%20href%3D%5C%22http%3A//www.openstreetmap.org/copyright%5C%22%5Cu003eODbL%5Cu003c/a%5Cu003e.%22%2C%20%22detectRetina%22%3A%20false%2C%20%22maxNativeZoom%22%3A%2018%2C%20%22maxZoom%22%3A%2018%2C%20%22minZoom%22%3A%200%2C%20%22noWrap%22%3A%20false%2C%20%22opacity%22%3A%201%2C%20%22subdomains%22%3A%20%22abc%22%2C%20%22tms%22%3A%20false%7D%0A%20%20%20%20%20%20%20%20%20%20%20%20%29.addTo%28map_5f4aef2478304f7eae0eec130945f637%29%3B%0A%20%20%20%20%20%20%20%20%0A%20%20%20%20%0A%20%20%20%20%20%20%20%20%20%20%20%20var%20tile_layer_bbf00ce11786483d9d852bbec93e19a0%20%3D%20L.tileLayer%28%0A%20%20%20%20%20%20%20%20%20%20%20%20%20%20%20%20%22https%3A//earthengine.googleapis.com/v1alpha/projects/earthengine-legacy/maps/db043556a995ad79457c8d565f316890-a26cf87c26a70122828f28365b8ff796/tiles/%7Bz%7D/%7Bx%7D/%7By%7D%22%2C%0A%20%20%20%20%20%20%20%20%20%20%20%20%20%20%20%20%7B%22attribution%22%3A%20%22Map%20Data%20%5Cu0026copy%3B%20%5Cu003ca%20href%3D%5C%22https%3A//earthengine.google.com/%5C%22%5Cu003eGoogle%20Earth%20Engine%5Cu003c/a%5Cu003e%22%2C%20%22detectRetina%22%3A%20false%2C%20%22maxNativeZoom%22%3A%2018%2C%20%22maxZoom%22%3A%2018%2C%20%22minZoom%22%3A%200%2C%20%22noWrap%22%3A%20false%2C%20%22opacity%22%3A%201%2C%20%22subdomains%22%3A%20%22abc%22%2C%20%22tms%22%3A%20false%7D%0A%20%20%20%20%20%20%20%20%20%20%20%20%29.addTo%28map_5f4aef2478304f7eae0eec130945f637%29%3B%0A%20%20%20%20%20%20%20%20%0A%20%20%20%20%0A%20%20%20%20%20%20%20%20%20%20%20%20var%20tile_layer_e1fdb2a2f79c4dfa86b5abef755dfc06%20%3D%20L.tileLayer%28%0A%20%20%20%20%20%20%20%20%20%20%20%20%20%20%20%20%22https%3A//earthengine.googleapis.com/v1alpha/projects/earthengine-legacy/maps/85f5f5db92a991d788cfb0f33e3c4720-3498c06efb4275e78466f58da3768c67/tiles/%7Bz%7D/%7Bx%7D/%7By%7D%22%2C%0A%20%20%20%20%20%20%20%20%20%20%20%20%20%20%20%20%7B%22attribution%22%3A%20%22Map%20Data%20%5Cu0026copy%3B%20%5Cu003ca%20href%3D%5C%22https%3A//earthengine.google.com/%5C%22%5Cu003eGoogle%20Earth%20Engine%5Cu003c/a%5Cu003e%22%2C%20%22detectRetina%22%3A%20false%2C%20%22maxNativeZoom%22%3A%2018%2C%20%22maxZoom%22%3A%2018%2C%20%22minZoom%22%3A%200%2C%20%22noWrap%22%3A%20false%2C%20%22opacity%22%3A%201%2C%20%22subdomains%22%3A%20%22abc%22%2C%20%22tms%22%3A%20false%7D%0A%20%20%20%20%20%20%20%20%20%20%20%20%29.addTo%28map_5f4aef2478304f7eae0eec130945f637%29%3B%0A%20%20%20%20%20%20%20%20%0A%20%20%20%20%0A%20%20%20%20%20%20%20%20%20%20%20%20var%20tile_layer_98e3811463674e7bb650418ff0f1c162%20%3D%20L.tileLayer%28%0A%20%20%20%20%20%20%20%20%20%20%20%20%20%20%20%20%22https%3A//earthengine.googleapis.com/v1alpha/projects/earthengine-legacy/maps/8f6593008f516fb3c342b0ae1beb6573-3bf4c2c17a4011c97e424a72fc975a52/tiles/%7Bz%7D/%7Bx%7D/%7By%7D%22%2C%0A%20%20%20%20%20%20%20%20%20%20%20%20%20%20%20%20%7B%22attribution%22%3A%20%22Map%20Data%20%5Cu0026copy%3B%20%5Cu003ca%20href%3D%5C%22https%3A//earthengine.google.com/%5C%22%5Cu003eGoogle%20Earth%20Engine%5Cu003c/a%5Cu003e%22%2C%20%22detectRetina%22%3A%20false%2C%20%22maxNativeZoom%22%3A%2018%2C%20%22maxZoom%22%3A%2018%2C%20%22minZoom%22%3A%200%2C%20%22noWrap%22%3A%20false%2C%20%22opacity%22%3A%201%2C%20%22subdomains%22%3A%20%22abc%22%2C%20%22tms%22%3A%20false%7D%0A%20%20%20%20%20%20%20%20%20%20%20%20%29.addTo%28map_5f4aef2478304f7eae0eec130945f637%29%3B%0A%20%20%20%20%20%20%20%20%0A%20%20%20%20%0A%20%20%20%20%20%20%20%20%20%20%20%20var%20layer_control_da940bc0c2fe4642a70c90d725726092%20%3D%20%7B%0A%20%20%20%20%20%20%20%20%20%20%20%20%20%20%20%20base_layers%20%3A%20%7B%0A%20%20%20%20%20%20%20%20%20%20%20%20%20%20%20%20%20%20%20%20%22openstreetmap%22%20%3A%20tile_layer_d4b9ae959c57490aaaf4dfbfebda9408%2C%0A%20%20%20%20%20%20%20%20%20%20%20%20%20%20%20%20%7D%2C%0A%20%20%20%20%20%20%20%20%20%20%20%20%20%20%20%20overlays%20%3A%20%20%7B%0A%20%20%20%20%20%20%20%20%20%20%20%20%20%20%20%20%20%20%20%20%22Masked%20NDVI%22%20%3A%20tile_layer_bbf00ce11786483d9d852bbec93e19a0%2C%0A%20%20%20%20%20%20%20%20%20%20%20%20%20%20%20%20%20%20%20%20%22Unmasked%20NDVI%22%20%3A%20tile_layer_e1fdb2a2f79c4dfa86b5abef755dfc06%2C%0A%20%20%20%20%20%20%20%20%20%20%20%20%20%20%20%20%20%20%20%20%22Normalized%20NDVI%20Difference%22%20%3A%20tile_layer_98e3811463674e7bb650418ff0f1c162%2C%0A%20%20%20%20%20%20%20%20%20%20%20%20%20%20%20%20%7D%2C%0A%20%20%20%20%20%20%20%20%20%20%20%20%7D%3B%0A%20%20%20%20%20%20%20%20%20%20%20%20L.control.layers%28%0A%20%20%20%20%20%20%20%20%20%20%20%20%20%20%20%20layer_control_da940bc0c2fe4642a70c90d725726092.base_layers%2C%0A%20%20%20%20%20%20%20%20%20%20%20%20%20%20%20%20layer_control_da940bc0c2fe4642a70c90d725726092.overlays%2C%0A%20%20%20%20%20%20%20%20%20%20%20%20%20%20%20%20%7B%22autoZIndex%22%3A%20true%2C%20%22collapsed%22%3A%20true%2C%20%22position%22%3A%20%22topright%22%7D%0A%20%20%20%20%20%20%20%20%20%20%20%20%29.addTo%28map_5f4aef2478304f7eae0eec130945f637%29%3B%0A%20%20%20%20%20%20%20%20%0A%3C/script%3E onload=\"this.contentDocument.open();this.contentDocument.write(    decodeURIComponent(this.getAttribute('data-html')));this.contentDocument.close();\" allowfullscreen webkitallowfullscreen mozallowfullscreen></iframe></div></div>"
      ],
      "text/plain": [
       "<folium.folium.Map at 0x13e937eb0>"
      ]
     },
     "metadata": {},
     "output_type": "display_data"
    },
    {
     "name": "stdout",
     "output_type": "stream",
     "text": [
      "\n",
      " \n",
      "\n",
      "2019-07-01 - 2019-08-01\n"
     ]
    },
    {
     "data": {
      "text/html": [
       "<div style=\"width:100%;\"><div style=\"position:relative;width:100%;height:0;padding-bottom:60%;\"><span style=\"color:#565656\">Make this Notebook Trusted to load map: File -> Trust Notebook</span><iframe src=\"about:blank\" style=\"position:absolute;width:100%;height:100%;left:0;top:0;border:none !important;\" data-html=%3C%21DOCTYPE%20html%3E%0A%3Chead%3E%20%20%20%20%0A%20%20%20%20%3Cmeta%20http-equiv%3D%22content-type%22%20content%3D%22text/html%3B%20charset%3DUTF-8%22%20/%3E%0A%20%20%20%20%0A%20%20%20%20%20%20%20%20%3Cscript%3E%0A%20%20%20%20%20%20%20%20%20%20%20%20L_NO_TOUCH%20%3D%20false%3B%0A%20%20%20%20%20%20%20%20%20%20%20%20L_DISABLE_3D%20%3D%20false%3B%0A%20%20%20%20%20%20%20%20%3C/script%3E%0A%20%20%20%20%0A%20%20%20%20%3Cstyle%3Ehtml%2C%20body%20%7Bwidth%3A%20100%25%3Bheight%3A%20100%25%3Bmargin%3A%200%3Bpadding%3A%200%3B%7D%3C/style%3E%0A%20%20%20%20%3Cstyle%3E%23map%20%7Bposition%3Aabsolute%3Btop%3A0%3Bbottom%3A0%3Bright%3A0%3Bleft%3A0%3B%7D%3C/style%3E%0A%20%20%20%20%3Cscript%20src%3D%22https%3A//cdn.jsdelivr.net/npm/leaflet%401.6.0/dist/leaflet.js%22%3E%3C/script%3E%0A%20%20%20%20%3Cscript%20src%3D%22https%3A//code.jquery.com/jquery-1.12.4.min.js%22%3E%3C/script%3E%0A%20%20%20%20%3Cscript%20src%3D%22https%3A//maxcdn.bootstrapcdn.com/bootstrap/3.2.0/js/bootstrap.min.js%22%3E%3C/script%3E%0A%20%20%20%20%3Cscript%20src%3D%22https%3A//cdnjs.cloudflare.com/ajax/libs/Leaflet.awesome-markers/2.0.2/leaflet.awesome-markers.js%22%3E%3C/script%3E%0A%20%20%20%20%3Clink%20rel%3D%22stylesheet%22%20href%3D%22https%3A//cdn.jsdelivr.net/npm/leaflet%401.6.0/dist/leaflet.css%22/%3E%0A%20%20%20%20%3Clink%20rel%3D%22stylesheet%22%20href%3D%22https%3A//maxcdn.bootstrapcdn.com/bootstrap/3.2.0/css/bootstrap.min.css%22/%3E%0A%20%20%20%20%3Clink%20rel%3D%22stylesheet%22%20href%3D%22https%3A//maxcdn.bootstrapcdn.com/bootstrap/3.2.0/css/bootstrap-theme.min.css%22/%3E%0A%20%20%20%20%3Clink%20rel%3D%22stylesheet%22%20href%3D%22https%3A//maxcdn.bootstrapcdn.com/font-awesome/4.6.3/css/font-awesome.min.css%22/%3E%0A%20%20%20%20%3Clink%20rel%3D%22stylesheet%22%20href%3D%22https%3A//cdnjs.cloudflare.com/ajax/libs/Leaflet.awesome-markers/2.0.2/leaflet.awesome-markers.css%22/%3E%0A%20%20%20%20%3Clink%20rel%3D%22stylesheet%22%20href%3D%22https%3A//cdn.jsdelivr.net/gh/python-visualization/folium/folium/templates/leaflet.awesome.rotate.min.css%22/%3E%0A%20%20%20%20%0A%20%20%20%20%20%20%20%20%20%20%20%20%3Cmeta%20name%3D%22viewport%22%20content%3D%22width%3Ddevice-width%2C%0A%20%20%20%20%20%20%20%20%20%20%20%20%20%20%20%20initial-scale%3D1.0%2C%20maximum-scale%3D1.0%2C%20user-scalable%3Dno%22%20/%3E%0A%20%20%20%20%20%20%20%20%20%20%20%20%3Cstyle%3E%0A%20%20%20%20%20%20%20%20%20%20%20%20%20%20%20%20%23map_9c7a9bdd2ef441ad870a1073766c1353%20%7B%0A%20%20%20%20%20%20%20%20%20%20%20%20%20%20%20%20%20%20%20%20position%3A%20relative%3B%0A%20%20%20%20%20%20%20%20%20%20%20%20%20%20%20%20%20%20%20%20width%3A%20100.0%25%3B%0A%20%20%20%20%20%20%20%20%20%20%20%20%20%20%20%20%20%20%20%20height%3A%20100.0%25%3B%0A%20%20%20%20%20%20%20%20%20%20%20%20%20%20%20%20%20%20%20%20left%3A%200.0%25%3B%0A%20%20%20%20%20%20%20%20%20%20%20%20%20%20%20%20%20%20%20%20top%3A%200.0%25%3B%0A%20%20%20%20%20%20%20%20%20%20%20%20%20%20%20%20%7D%0A%20%20%20%20%20%20%20%20%20%20%20%20%3C/style%3E%0A%20%20%20%20%20%20%20%20%0A%3C/head%3E%0A%3Cbody%3E%20%20%20%20%0A%20%20%20%20%0A%20%20%20%20%20%20%20%20%20%20%20%20%3Cdiv%20class%3D%22folium-map%22%20id%3D%22map_9c7a9bdd2ef441ad870a1073766c1353%22%20%3E%3C/div%3E%0A%20%20%20%20%20%20%20%20%0A%3C/body%3E%0A%3Cscript%3E%20%20%20%20%0A%20%20%20%20%0A%20%20%20%20%20%20%20%20%20%20%20%20var%20map_9c7a9bdd2ef441ad870a1073766c1353%20%3D%20L.map%28%0A%20%20%20%20%20%20%20%20%20%20%20%20%20%20%20%20%22map_9c7a9bdd2ef441ad870a1073766c1353%22%2C%0A%20%20%20%20%20%20%20%20%20%20%20%20%20%20%20%20%7B%0A%20%20%20%20%20%20%20%20%20%20%20%20%20%20%20%20%20%20%20%20center%3A%20%5B-19.705570084543737%2C%2044.70292749999976%5D%2C%0A%20%20%20%20%20%20%20%20%20%20%20%20%20%20%20%20%20%20%20%20crs%3A%20L.CRS.EPSG3857%2C%0A%20%20%20%20%20%20%20%20%20%20%20%20%20%20%20%20%20%20%20%20zoom%3A%2010%2C%0A%20%20%20%20%20%20%20%20%20%20%20%20%20%20%20%20%20%20%20%20zoomControl%3A%20true%2C%0A%20%20%20%20%20%20%20%20%20%20%20%20%20%20%20%20%20%20%20%20preferCanvas%3A%20false%2C%0A%20%20%20%20%20%20%20%20%20%20%20%20%20%20%20%20%7D%0A%20%20%20%20%20%20%20%20%20%20%20%20%29%3B%0A%0A%20%20%20%20%20%20%20%20%20%20%20%20%0A%0A%20%20%20%20%20%20%20%20%0A%20%20%20%20%0A%20%20%20%20%20%20%20%20%20%20%20%20var%20tile_layer_800aff64d942431794463cdbad6441a6%20%3D%20L.tileLayer%28%0A%20%20%20%20%20%20%20%20%20%20%20%20%20%20%20%20%22https%3A//%7Bs%7D.tile.openstreetmap.org/%7Bz%7D/%7Bx%7D/%7By%7D.png%22%2C%0A%20%20%20%20%20%20%20%20%20%20%20%20%20%20%20%20%7B%22attribution%22%3A%20%22Data%20by%20%5Cu0026copy%3B%20%5Cu003ca%20href%3D%5C%22http%3A//openstreetmap.org%5C%22%5Cu003eOpenStreetMap%5Cu003c/a%5Cu003e%2C%20under%20%5Cu003ca%20href%3D%5C%22http%3A//www.openstreetmap.org/copyright%5C%22%5Cu003eODbL%5Cu003c/a%5Cu003e.%22%2C%20%22detectRetina%22%3A%20false%2C%20%22maxNativeZoom%22%3A%2018%2C%20%22maxZoom%22%3A%2018%2C%20%22minZoom%22%3A%200%2C%20%22noWrap%22%3A%20false%2C%20%22opacity%22%3A%201%2C%20%22subdomains%22%3A%20%22abc%22%2C%20%22tms%22%3A%20false%7D%0A%20%20%20%20%20%20%20%20%20%20%20%20%29.addTo%28map_9c7a9bdd2ef441ad870a1073766c1353%29%3B%0A%20%20%20%20%20%20%20%20%0A%20%20%20%20%0A%20%20%20%20%20%20%20%20%20%20%20%20var%20tile_layer_1ddcec4f383a473ba8206fc6a2e37332%20%3D%20L.tileLayer%28%0A%20%20%20%20%20%20%20%20%20%20%20%20%20%20%20%20%22https%3A//earthengine.googleapis.com/v1alpha/projects/earthengine-legacy/maps/6d8e66ae8d428e56a15d47bc0ff96c18-dbd810f1c24bf23a28d0cd25227a8855/tiles/%7Bz%7D/%7Bx%7D/%7By%7D%22%2C%0A%20%20%20%20%20%20%20%20%20%20%20%20%20%20%20%20%7B%22attribution%22%3A%20%22Map%20Data%20%5Cu0026copy%3B%20%5Cu003ca%20href%3D%5C%22https%3A//earthengine.google.com/%5C%22%5Cu003eGoogle%20Earth%20Engine%5Cu003c/a%5Cu003e%22%2C%20%22detectRetina%22%3A%20false%2C%20%22maxNativeZoom%22%3A%2018%2C%20%22maxZoom%22%3A%2018%2C%20%22minZoom%22%3A%200%2C%20%22noWrap%22%3A%20false%2C%20%22opacity%22%3A%201%2C%20%22subdomains%22%3A%20%22abc%22%2C%20%22tms%22%3A%20false%7D%0A%20%20%20%20%20%20%20%20%20%20%20%20%29.addTo%28map_9c7a9bdd2ef441ad870a1073766c1353%29%3B%0A%20%20%20%20%20%20%20%20%0A%20%20%20%20%0A%20%20%20%20%20%20%20%20%20%20%20%20var%20tile_layer_79e23836029f40f1baaf14f58b1510c2%20%3D%20L.tileLayer%28%0A%20%20%20%20%20%20%20%20%20%20%20%20%20%20%20%20%22https%3A//earthengine.googleapis.com/v1alpha/projects/earthengine-legacy/maps/d86f37f3eccb8eaf6685ae9ed37fe287-bcc502b9c3591de5e6474dcd6b2fff95/tiles/%7Bz%7D/%7Bx%7D/%7By%7D%22%2C%0A%20%20%20%20%20%20%20%20%20%20%20%20%20%20%20%20%7B%22attribution%22%3A%20%22Map%20Data%20%5Cu0026copy%3B%20%5Cu003ca%20href%3D%5C%22https%3A//earthengine.google.com/%5C%22%5Cu003eGoogle%20Earth%20Engine%5Cu003c/a%5Cu003e%22%2C%20%22detectRetina%22%3A%20false%2C%20%22maxNativeZoom%22%3A%2018%2C%20%22maxZoom%22%3A%2018%2C%20%22minZoom%22%3A%200%2C%20%22noWrap%22%3A%20false%2C%20%22opacity%22%3A%201%2C%20%22subdomains%22%3A%20%22abc%22%2C%20%22tms%22%3A%20false%7D%0A%20%20%20%20%20%20%20%20%20%20%20%20%29.addTo%28map_9c7a9bdd2ef441ad870a1073766c1353%29%3B%0A%20%20%20%20%20%20%20%20%0A%20%20%20%20%0A%20%20%20%20%20%20%20%20%20%20%20%20var%20tile_layer_a144fb4c04a34928a49f4a4009de1a77%20%3D%20L.tileLayer%28%0A%20%20%20%20%20%20%20%20%20%20%20%20%20%20%20%20%22https%3A//earthengine.googleapis.com/v1alpha/projects/earthengine-legacy/maps/d06f3af1b95a69566460340a2b1d5884-7b2e0184bc1dc1e13f950faea91d172e/tiles/%7Bz%7D/%7Bx%7D/%7By%7D%22%2C%0A%20%20%20%20%20%20%20%20%20%20%20%20%20%20%20%20%7B%22attribution%22%3A%20%22Map%20Data%20%5Cu0026copy%3B%20%5Cu003ca%20href%3D%5C%22https%3A//earthengine.google.com/%5C%22%5Cu003eGoogle%20Earth%20Engine%5Cu003c/a%5Cu003e%22%2C%20%22detectRetina%22%3A%20false%2C%20%22maxNativeZoom%22%3A%2018%2C%20%22maxZoom%22%3A%2018%2C%20%22minZoom%22%3A%200%2C%20%22noWrap%22%3A%20false%2C%20%22opacity%22%3A%201%2C%20%22subdomains%22%3A%20%22abc%22%2C%20%22tms%22%3A%20false%7D%0A%20%20%20%20%20%20%20%20%20%20%20%20%29.addTo%28map_9c7a9bdd2ef441ad870a1073766c1353%29%3B%0A%20%20%20%20%20%20%20%20%0A%20%20%20%20%0A%20%20%20%20%20%20%20%20%20%20%20%20var%20layer_control_0042d629256841dd8e5c3710175b276e%20%3D%20%7B%0A%20%20%20%20%20%20%20%20%20%20%20%20%20%20%20%20base_layers%20%3A%20%7B%0A%20%20%20%20%20%20%20%20%20%20%20%20%20%20%20%20%20%20%20%20%22openstreetmap%22%20%3A%20tile_layer_800aff64d942431794463cdbad6441a6%2C%0A%20%20%20%20%20%20%20%20%20%20%20%20%20%20%20%20%7D%2C%0A%20%20%20%20%20%20%20%20%20%20%20%20%20%20%20%20overlays%20%3A%20%20%7B%0A%20%20%20%20%20%20%20%20%20%20%20%20%20%20%20%20%20%20%20%20%22Masked%20NDVI%22%20%3A%20tile_layer_1ddcec4f383a473ba8206fc6a2e37332%2C%0A%20%20%20%20%20%20%20%20%20%20%20%20%20%20%20%20%20%20%20%20%22Unmasked%20NDVI%22%20%3A%20tile_layer_79e23836029f40f1baaf14f58b1510c2%2C%0A%20%20%20%20%20%20%20%20%20%20%20%20%20%20%20%20%20%20%20%20%22Normalized%20NDVI%20Difference%22%20%3A%20tile_layer_a144fb4c04a34928a49f4a4009de1a77%2C%0A%20%20%20%20%20%20%20%20%20%20%20%20%20%20%20%20%7D%2C%0A%20%20%20%20%20%20%20%20%20%20%20%20%7D%3B%0A%20%20%20%20%20%20%20%20%20%20%20%20L.control.layers%28%0A%20%20%20%20%20%20%20%20%20%20%20%20%20%20%20%20layer_control_0042d629256841dd8e5c3710175b276e.base_layers%2C%0A%20%20%20%20%20%20%20%20%20%20%20%20%20%20%20%20layer_control_0042d629256841dd8e5c3710175b276e.overlays%2C%0A%20%20%20%20%20%20%20%20%20%20%20%20%20%20%20%20%7B%22autoZIndex%22%3A%20true%2C%20%22collapsed%22%3A%20true%2C%20%22position%22%3A%20%22topright%22%7D%0A%20%20%20%20%20%20%20%20%20%20%20%20%29.addTo%28map_9c7a9bdd2ef441ad870a1073766c1353%29%3B%0A%20%20%20%20%20%20%20%20%0A%3C/script%3E onload=\"this.contentDocument.open();this.contentDocument.write(    decodeURIComponent(this.getAttribute('data-html')));this.contentDocument.close();\" allowfullscreen webkitallowfullscreen mozallowfullscreen></iframe></div></div>"
      ],
      "text/plain": [
       "<folium.folium.Map at 0x13e95a550>"
      ]
     },
     "metadata": {},
     "output_type": "display_data"
    },
    {
     "name": "stdout",
     "output_type": "stream",
     "text": [
      "\n",
      " \n",
      "\n",
      "2019-08-01 - 2019-09-01\n"
     ]
    },
    {
     "data": {
      "text/html": [
       "<div style=\"width:100%;\"><div style=\"position:relative;width:100%;height:0;padding-bottom:60%;\"><span style=\"color:#565656\">Make this Notebook Trusted to load map: File -> Trust Notebook</span><iframe src=\"about:blank\" style=\"position:absolute;width:100%;height:100%;left:0;top:0;border:none !important;\" data-html=%3C%21DOCTYPE%20html%3E%0A%3Chead%3E%20%20%20%20%0A%20%20%20%20%3Cmeta%20http-equiv%3D%22content-type%22%20content%3D%22text/html%3B%20charset%3DUTF-8%22%20/%3E%0A%20%20%20%20%0A%20%20%20%20%20%20%20%20%3Cscript%3E%0A%20%20%20%20%20%20%20%20%20%20%20%20L_NO_TOUCH%20%3D%20false%3B%0A%20%20%20%20%20%20%20%20%20%20%20%20L_DISABLE_3D%20%3D%20false%3B%0A%20%20%20%20%20%20%20%20%3C/script%3E%0A%20%20%20%20%0A%20%20%20%20%3Cstyle%3Ehtml%2C%20body%20%7Bwidth%3A%20100%25%3Bheight%3A%20100%25%3Bmargin%3A%200%3Bpadding%3A%200%3B%7D%3C/style%3E%0A%20%20%20%20%3Cstyle%3E%23map%20%7Bposition%3Aabsolute%3Btop%3A0%3Bbottom%3A0%3Bright%3A0%3Bleft%3A0%3B%7D%3C/style%3E%0A%20%20%20%20%3Cscript%20src%3D%22https%3A//cdn.jsdelivr.net/npm/leaflet%401.6.0/dist/leaflet.js%22%3E%3C/script%3E%0A%20%20%20%20%3Cscript%20src%3D%22https%3A//code.jquery.com/jquery-1.12.4.min.js%22%3E%3C/script%3E%0A%20%20%20%20%3Cscript%20src%3D%22https%3A//maxcdn.bootstrapcdn.com/bootstrap/3.2.0/js/bootstrap.min.js%22%3E%3C/script%3E%0A%20%20%20%20%3Cscript%20src%3D%22https%3A//cdnjs.cloudflare.com/ajax/libs/Leaflet.awesome-markers/2.0.2/leaflet.awesome-markers.js%22%3E%3C/script%3E%0A%20%20%20%20%3Clink%20rel%3D%22stylesheet%22%20href%3D%22https%3A//cdn.jsdelivr.net/npm/leaflet%401.6.0/dist/leaflet.css%22/%3E%0A%20%20%20%20%3Clink%20rel%3D%22stylesheet%22%20href%3D%22https%3A//maxcdn.bootstrapcdn.com/bootstrap/3.2.0/css/bootstrap.min.css%22/%3E%0A%20%20%20%20%3Clink%20rel%3D%22stylesheet%22%20href%3D%22https%3A//maxcdn.bootstrapcdn.com/bootstrap/3.2.0/css/bootstrap-theme.min.css%22/%3E%0A%20%20%20%20%3Clink%20rel%3D%22stylesheet%22%20href%3D%22https%3A//maxcdn.bootstrapcdn.com/font-awesome/4.6.3/css/font-awesome.min.css%22/%3E%0A%20%20%20%20%3Clink%20rel%3D%22stylesheet%22%20href%3D%22https%3A//cdnjs.cloudflare.com/ajax/libs/Leaflet.awesome-markers/2.0.2/leaflet.awesome-markers.css%22/%3E%0A%20%20%20%20%3Clink%20rel%3D%22stylesheet%22%20href%3D%22https%3A//cdn.jsdelivr.net/gh/python-visualization/folium/folium/templates/leaflet.awesome.rotate.min.css%22/%3E%0A%20%20%20%20%0A%20%20%20%20%20%20%20%20%20%20%20%20%3Cmeta%20name%3D%22viewport%22%20content%3D%22width%3Ddevice-width%2C%0A%20%20%20%20%20%20%20%20%20%20%20%20%20%20%20%20initial-scale%3D1.0%2C%20maximum-scale%3D1.0%2C%20user-scalable%3Dno%22%20/%3E%0A%20%20%20%20%20%20%20%20%20%20%20%20%3Cstyle%3E%0A%20%20%20%20%20%20%20%20%20%20%20%20%20%20%20%20%23map_ee0b34ae85e543f2b36100eb82b20f30%20%7B%0A%20%20%20%20%20%20%20%20%20%20%20%20%20%20%20%20%20%20%20%20position%3A%20relative%3B%0A%20%20%20%20%20%20%20%20%20%20%20%20%20%20%20%20%20%20%20%20width%3A%20100.0%25%3B%0A%20%20%20%20%20%20%20%20%20%20%20%20%20%20%20%20%20%20%20%20height%3A%20100.0%25%3B%0A%20%20%20%20%20%20%20%20%20%20%20%20%20%20%20%20%20%20%20%20left%3A%200.0%25%3B%0A%20%20%20%20%20%20%20%20%20%20%20%20%20%20%20%20%20%20%20%20top%3A%200.0%25%3B%0A%20%20%20%20%20%20%20%20%20%20%20%20%20%20%20%20%7D%0A%20%20%20%20%20%20%20%20%20%20%20%20%3C/style%3E%0A%20%20%20%20%20%20%20%20%0A%3C/head%3E%0A%3Cbody%3E%20%20%20%20%0A%20%20%20%20%0A%20%20%20%20%20%20%20%20%20%20%20%20%3Cdiv%20class%3D%22folium-map%22%20id%3D%22map_ee0b34ae85e543f2b36100eb82b20f30%22%20%3E%3C/div%3E%0A%20%20%20%20%20%20%20%20%0A%3C/body%3E%0A%3Cscript%3E%20%20%20%20%0A%20%20%20%20%0A%20%20%20%20%20%20%20%20%20%20%20%20var%20map_ee0b34ae85e543f2b36100eb82b20f30%20%3D%20L.map%28%0A%20%20%20%20%20%20%20%20%20%20%20%20%20%20%20%20%22map_ee0b34ae85e543f2b36100eb82b20f30%22%2C%0A%20%20%20%20%20%20%20%20%20%20%20%20%20%20%20%20%7B%0A%20%20%20%20%20%20%20%20%20%20%20%20%20%20%20%20%20%20%20%20center%3A%20%5B-19.705570084543737%2C%2044.70292749999976%5D%2C%0A%20%20%20%20%20%20%20%20%20%20%20%20%20%20%20%20%20%20%20%20crs%3A%20L.CRS.EPSG3857%2C%0A%20%20%20%20%20%20%20%20%20%20%20%20%20%20%20%20%20%20%20%20zoom%3A%2010%2C%0A%20%20%20%20%20%20%20%20%20%20%20%20%20%20%20%20%20%20%20%20zoomControl%3A%20true%2C%0A%20%20%20%20%20%20%20%20%20%20%20%20%20%20%20%20%20%20%20%20preferCanvas%3A%20false%2C%0A%20%20%20%20%20%20%20%20%20%20%20%20%20%20%20%20%7D%0A%20%20%20%20%20%20%20%20%20%20%20%20%29%3B%0A%0A%20%20%20%20%20%20%20%20%20%20%20%20%0A%0A%20%20%20%20%20%20%20%20%0A%20%20%20%20%0A%20%20%20%20%20%20%20%20%20%20%20%20var%20tile_layer_a0442a6f28cd40bca636ad0fb21f4038%20%3D%20L.tileLayer%28%0A%20%20%20%20%20%20%20%20%20%20%20%20%20%20%20%20%22https%3A//%7Bs%7D.tile.openstreetmap.org/%7Bz%7D/%7Bx%7D/%7By%7D.png%22%2C%0A%20%20%20%20%20%20%20%20%20%20%20%20%20%20%20%20%7B%22attribution%22%3A%20%22Data%20by%20%5Cu0026copy%3B%20%5Cu003ca%20href%3D%5C%22http%3A//openstreetmap.org%5C%22%5Cu003eOpenStreetMap%5Cu003c/a%5Cu003e%2C%20under%20%5Cu003ca%20href%3D%5C%22http%3A//www.openstreetmap.org/copyright%5C%22%5Cu003eODbL%5Cu003c/a%5Cu003e.%22%2C%20%22detectRetina%22%3A%20false%2C%20%22maxNativeZoom%22%3A%2018%2C%20%22maxZoom%22%3A%2018%2C%20%22minZoom%22%3A%200%2C%20%22noWrap%22%3A%20false%2C%20%22opacity%22%3A%201%2C%20%22subdomains%22%3A%20%22abc%22%2C%20%22tms%22%3A%20false%7D%0A%20%20%20%20%20%20%20%20%20%20%20%20%29.addTo%28map_ee0b34ae85e543f2b36100eb82b20f30%29%3B%0A%20%20%20%20%20%20%20%20%0A%20%20%20%20%0A%20%20%20%20%20%20%20%20%20%20%20%20var%20tile_layer_ce8c42b7c6eb41329737e31ae498102b%20%3D%20L.tileLayer%28%0A%20%20%20%20%20%20%20%20%20%20%20%20%20%20%20%20%22https%3A//earthengine.googleapis.com/v1alpha/projects/earthengine-legacy/maps/00ceab85a4e1a3519292ae747103b253-e6fd37c9eea2ab1048375890d46edcc0/tiles/%7Bz%7D/%7Bx%7D/%7By%7D%22%2C%0A%20%20%20%20%20%20%20%20%20%20%20%20%20%20%20%20%7B%22attribution%22%3A%20%22Map%20Data%20%5Cu0026copy%3B%20%5Cu003ca%20href%3D%5C%22https%3A//earthengine.google.com/%5C%22%5Cu003eGoogle%20Earth%20Engine%5Cu003c/a%5Cu003e%22%2C%20%22detectRetina%22%3A%20false%2C%20%22maxNativeZoom%22%3A%2018%2C%20%22maxZoom%22%3A%2018%2C%20%22minZoom%22%3A%200%2C%20%22noWrap%22%3A%20false%2C%20%22opacity%22%3A%201%2C%20%22subdomains%22%3A%20%22abc%22%2C%20%22tms%22%3A%20false%7D%0A%20%20%20%20%20%20%20%20%20%20%20%20%29.addTo%28map_ee0b34ae85e543f2b36100eb82b20f30%29%3B%0A%20%20%20%20%20%20%20%20%0A%20%20%20%20%0A%20%20%20%20%20%20%20%20%20%20%20%20var%20tile_layer_de050e68f21d4f8d8c7a3a7ea9f5da42%20%3D%20L.tileLayer%28%0A%20%20%20%20%20%20%20%20%20%20%20%20%20%20%20%20%22https%3A//earthengine.googleapis.com/v1alpha/projects/earthengine-legacy/maps/a44e381da7fa64290ac0e3fe298d656c-ff10749c518a1c09572269c79220d9af/tiles/%7Bz%7D/%7Bx%7D/%7By%7D%22%2C%0A%20%20%20%20%20%20%20%20%20%20%20%20%20%20%20%20%7B%22attribution%22%3A%20%22Map%20Data%20%5Cu0026copy%3B%20%5Cu003ca%20href%3D%5C%22https%3A//earthengine.google.com/%5C%22%5Cu003eGoogle%20Earth%20Engine%5Cu003c/a%5Cu003e%22%2C%20%22detectRetina%22%3A%20false%2C%20%22maxNativeZoom%22%3A%2018%2C%20%22maxZoom%22%3A%2018%2C%20%22minZoom%22%3A%200%2C%20%22noWrap%22%3A%20false%2C%20%22opacity%22%3A%201%2C%20%22subdomains%22%3A%20%22abc%22%2C%20%22tms%22%3A%20false%7D%0A%20%20%20%20%20%20%20%20%20%20%20%20%29.addTo%28map_ee0b34ae85e543f2b36100eb82b20f30%29%3B%0A%20%20%20%20%20%20%20%20%0A%20%20%20%20%0A%20%20%20%20%20%20%20%20%20%20%20%20var%20tile_layer_72158998a55c4a4cb75e984a438a306f%20%3D%20L.tileLayer%28%0A%20%20%20%20%20%20%20%20%20%20%20%20%20%20%20%20%22https%3A//earthengine.googleapis.com/v1alpha/projects/earthengine-legacy/maps/c52057dc3f18c7ec484cdeacb97acb4d-0b16225c302a603015c31a8f1fe4486f/tiles/%7Bz%7D/%7Bx%7D/%7By%7D%22%2C%0A%20%20%20%20%20%20%20%20%20%20%20%20%20%20%20%20%7B%22attribution%22%3A%20%22Map%20Data%20%5Cu0026copy%3B%20%5Cu003ca%20href%3D%5C%22https%3A//earthengine.google.com/%5C%22%5Cu003eGoogle%20Earth%20Engine%5Cu003c/a%5Cu003e%22%2C%20%22detectRetina%22%3A%20false%2C%20%22maxNativeZoom%22%3A%2018%2C%20%22maxZoom%22%3A%2018%2C%20%22minZoom%22%3A%200%2C%20%22noWrap%22%3A%20false%2C%20%22opacity%22%3A%201%2C%20%22subdomains%22%3A%20%22abc%22%2C%20%22tms%22%3A%20false%7D%0A%20%20%20%20%20%20%20%20%20%20%20%20%29.addTo%28map_ee0b34ae85e543f2b36100eb82b20f30%29%3B%0A%20%20%20%20%20%20%20%20%0A%20%20%20%20%0A%20%20%20%20%20%20%20%20%20%20%20%20var%20layer_control_5681d20919604d93b2a385be2f9765de%20%3D%20%7B%0A%20%20%20%20%20%20%20%20%20%20%20%20%20%20%20%20base_layers%20%3A%20%7B%0A%20%20%20%20%20%20%20%20%20%20%20%20%20%20%20%20%20%20%20%20%22openstreetmap%22%20%3A%20tile_layer_a0442a6f28cd40bca636ad0fb21f4038%2C%0A%20%20%20%20%20%20%20%20%20%20%20%20%20%20%20%20%7D%2C%0A%20%20%20%20%20%20%20%20%20%20%20%20%20%20%20%20overlays%20%3A%20%20%7B%0A%20%20%20%20%20%20%20%20%20%20%20%20%20%20%20%20%20%20%20%20%22Masked%20NDVI%22%20%3A%20tile_layer_ce8c42b7c6eb41329737e31ae498102b%2C%0A%20%20%20%20%20%20%20%20%20%20%20%20%20%20%20%20%20%20%20%20%22Unmasked%20NDVI%22%20%3A%20tile_layer_de050e68f21d4f8d8c7a3a7ea9f5da42%2C%0A%20%20%20%20%20%20%20%20%20%20%20%20%20%20%20%20%20%20%20%20%22Normalized%20NDVI%20Difference%22%20%3A%20tile_layer_72158998a55c4a4cb75e984a438a306f%2C%0A%20%20%20%20%20%20%20%20%20%20%20%20%20%20%20%20%7D%2C%0A%20%20%20%20%20%20%20%20%20%20%20%20%7D%3B%0A%20%20%20%20%20%20%20%20%20%20%20%20L.control.layers%28%0A%20%20%20%20%20%20%20%20%20%20%20%20%20%20%20%20layer_control_5681d20919604d93b2a385be2f9765de.base_layers%2C%0A%20%20%20%20%20%20%20%20%20%20%20%20%20%20%20%20layer_control_5681d20919604d93b2a385be2f9765de.overlays%2C%0A%20%20%20%20%20%20%20%20%20%20%20%20%20%20%20%20%7B%22autoZIndex%22%3A%20true%2C%20%22collapsed%22%3A%20true%2C%20%22position%22%3A%20%22topright%22%7D%0A%20%20%20%20%20%20%20%20%20%20%20%20%29.addTo%28map_ee0b34ae85e543f2b36100eb82b20f30%29%3B%0A%20%20%20%20%20%20%20%20%0A%3C/script%3E onload=\"this.contentDocument.open();this.contentDocument.write(    decodeURIComponent(this.getAttribute('data-html')));this.contentDocument.close();\" allowfullscreen webkitallowfullscreen mozallowfullscreen></iframe></div></div>"
      ],
      "text/plain": [
       "<folium.folium.Map at 0x13e97cbb0>"
      ]
     },
     "metadata": {},
     "output_type": "display_data"
    },
    {
     "name": "stdout",
     "output_type": "stream",
     "text": [
      "\n",
      " \n",
      "\n",
      "2019-09-01 - 2019-10-01\n"
     ]
    },
    {
     "data": {
      "text/html": [
       "<div style=\"width:100%;\"><div style=\"position:relative;width:100%;height:0;padding-bottom:60%;\"><span style=\"color:#565656\">Make this Notebook Trusted to load map: File -> Trust Notebook</span><iframe src=\"about:blank\" style=\"position:absolute;width:100%;height:100%;left:0;top:0;border:none !important;\" data-html=%3C%21DOCTYPE%20html%3E%0A%3Chead%3E%20%20%20%20%0A%20%20%20%20%3Cmeta%20http-equiv%3D%22content-type%22%20content%3D%22text/html%3B%20charset%3DUTF-8%22%20/%3E%0A%20%20%20%20%0A%20%20%20%20%20%20%20%20%3Cscript%3E%0A%20%20%20%20%20%20%20%20%20%20%20%20L_NO_TOUCH%20%3D%20false%3B%0A%20%20%20%20%20%20%20%20%20%20%20%20L_DISABLE_3D%20%3D%20false%3B%0A%20%20%20%20%20%20%20%20%3C/script%3E%0A%20%20%20%20%0A%20%20%20%20%3Cstyle%3Ehtml%2C%20body%20%7Bwidth%3A%20100%25%3Bheight%3A%20100%25%3Bmargin%3A%200%3Bpadding%3A%200%3B%7D%3C/style%3E%0A%20%20%20%20%3Cstyle%3E%23map%20%7Bposition%3Aabsolute%3Btop%3A0%3Bbottom%3A0%3Bright%3A0%3Bleft%3A0%3B%7D%3C/style%3E%0A%20%20%20%20%3Cscript%20src%3D%22https%3A//cdn.jsdelivr.net/npm/leaflet%401.6.0/dist/leaflet.js%22%3E%3C/script%3E%0A%20%20%20%20%3Cscript%20src%3D%22https%3A//code.jquery.com/jquery-1.12.4.min.js%22%3E%3C/script%3E%0A%20%20%20%20%3Cscript%20src%3D%22https%3A//maxcdn.bootstrapcdn.com/bootstrap/3.2.0/js/bootstrap.min.js%22%3E%3C/script%3E%0A%20%20%20%20%3Cscript%20src%3D%22https%3A//cdnjs.cloudflare.com/ajax/libs/Leaflet.awesome-markers/2.0.2/leaflet.awesome-markers.js%22%3E%3C/script%3E%0A%20%20%20%20%3Clink%20rel%3D%22stylesheet%22%20href%3D%22https%3A//cdn.jsdelivr.net/npm/leaflet%401.6.0/dist/leaflet.css%22/%3E%0A%20%20%20%20%3Clink%20rel%3D%22stylesheet%22%20href%3D%22https%3A//maxcdn.bootstrapcdn.com/bootstrap/3.2.0/css/bootstrap.min.css%22/%3E%0A%20%20%20%20%3Clink%20rel%3D%22stylesheet%22%20href%3D%22https%3A//maxcdn.bootstrapcdn.com/bootstrap/3.2.0/css/bootstrap-theme.min.css%22/%3E%0A%20%20%20%20%3Clink%20rel%3D%22stylesheet%22%20href%3D%22https%3A//maxcdn.bootstrapcdn.com/font-awesome/4.6.3/css/font-awesome.min.css%22/%3E%0A%20%20%20%20%3Clink%20rel%3D%22stylesheet%22%20href%3D%22https%3A//cdnjs.cloudflare.com/ajax/libs/Leaflet.awesome-markers/2.0.2/leaflet.awesome-markers.css%22/%3E%0A%20%20%20%20%3Clink%20rel%3D%22stylesheet%22%20href%3D%22https%3A//cdn.jsdelivr.net/gh/python-visualization/folium/folium/templates/leaflet.awesome.rotate.min.css%22/%3E%0A%20%20%20%20%0A%20%20%20%20%20%20%20%20%20%20%20%20%3Cmeta%20name%3D%22viewport%22%20content%3D%22width%3Ddevice-width%2C%0A%20%20%20%20%20%20%20%20%20%20%20%20%20%20%20%20initial-scale%3D1.0%2C%20maximum-scale%3D1.0%2C%20user-scalable%3Dno%22%20/%3E%0A%20%20%20%20%20%20%20%20%20%20%20%20%3Cstyle%3E%0A%20%20%20%20%20%20%20%20%20%20%20%20%20%20%20%20%23map_89df20ea27e04fec9c859c32c91a8ac9%20%7B%0A%20%20%20%20%20%20%20%20%20%20%20%20%20%20%20%20%20%20%20%20position%3A%20relative%3B%0A%20%20%20%20%20%20%20%20%20%20%20%20%20%20%20%20%20%20%20%20width%3A%20100.0%25%3B%0A%20%20%20%20%20%20%20%20%20%20%20%20%20%20%20%20%20%20%20%20height%3A%20100.0%25%3B%0A%20%20%20%20%20%20%20%20%20%20%20%20%20%20%20%20%20%20%20%20left%3A%200.0%25%3B%0A%20%20%20%20%20%20%20%20%20%20%20%20%20%20%20%20%20%20%20%20top%3A%200.0%25%3B%0A%20%20%20%20%20%20%20%20%20%20%20%20%20%20%20%20%7D%0A%20%20%20%20%20%20%20%20%20%20%20%20%3C/style%3E%0A%20%20%20%20%20%20%20%20%0A%3C/head%3E%0A%3Cbody%3E%20%20%20%20%0A%20%20%20%20%0A%20%20%20%20%20%20%20%20%20%20%20%20%3Cdiv%20class%3D%22folium-map%22%20id%3D%22map_89df20ea27e04fec9c859c32c91a8ac9%22%20%3E%3C/div%3E%0A%20%20%20%20%20%20%20%20%0A%3C/body%3E%0A%3Cscript%3E%20%20%20%20%0A%20%20%20%20%0A%20%20%20%20%20%20%20%20%20%20%20%20var%20map_89df20ea27e04fec9c859c32c91a8ac9%20%3D%20L.map%28%0A%20%20%20%20%20%20%20%20%20%20%20%20%20%20%20%20%22map_89df20ea27e04fec9c859c32c91a8ac9%22%2C%0A%20%20%20%20%20%20%20%20%20%20%20%20%20%20%20%20%7B%0A%20%20%20%20%20%20%20%20%20%20%20%20%20%20%20%20%20%20%20%20center%3A%20%5B-19.705570084543737%2C%2044.70292749999976%5D%2C%0A%20%20%20%20%20%20%20%20%20%20%20%20%20%20%20%20%20%20%20%20crs%3A%20L.CRS.EPSG3857%2C%0A%20%20%20%20%20%20%20%20%20%20%20%20%20%20%20%20%20%20%20%20zoom%3A%2010%2C%0A%20%20%20%20%20%20%20%20%20%20%20%20%20%20%20%20%20%20%20%20zoomControl%3A%20true%2C%0A%20%20%20%20%20%20%20%20%20%20%20%20%20%20%20%20%20%20%20%20preferCanvas%3A%20false%2C%0A%20%20%20%20%20%20%20%20%20%20%20%20%20%20%20%20%7D%0A%20%20%20%20%20%20%20%20%20%20%20%20%29%3B%0A%0A%20%20%20%20%20%20%20%20%20%20%20%20%0A%0A%20%20%20%20%20%20%20%20%0A%20%20%20%20%0A%20%20%20%20%20%20%20%20%20%20%20%20var%20tile_layer_562a86087fc54da8ae9dae3b832ef42f%20%3D%20L.tileLayer%28%0A%20%20%20%20%20%20%20%20%20%20%20%20%20%20%20%20%22https%3A//%7Bs%7D.tile.openstreetmap.org/%7Bz%7D/%7Bx%7D/%7By%7D.png%22%2C%0A%20%20%20%20%20%20%20%20%20%20%20%20%20%20%20%20%7B%22attribution%22%3A%20%22Data%20by%20%5Cu0026copy%3B%20%5Cu003ca%20href%3D%5C%22http%3A//openstreetmap.org%5C%22%5Cu003eOpenStreetMap%5Cu003c/a%5Cu003e%2C%20under%20%5Cu003ca%20href%3D%5C%22http%3A//www.openstreetmap.org/copyright%5C%22%5Cu003eODbL%5Cu003c/a%5Cu003e.%22%2C%20%22detectRetina%22%3A%20false%2C%20%22maxNativeZoom%22%3A%2018%2C%20%22maxZoom%22%3A%2018%2C%20%22minZoom%22%3A%200%2C%20%22noWrap%22%3A%20false%2C%20%22opacity%22%3A%201%2C%20%22subdomains%22%3A%20%22abc%22%2C%20%22tms%22%3A%20false%7D%0A%20%20%20%20%20%20%20%20%20%20%20%20%29.addTo%28map_89df20ea27e04fec9c859c32c91a8ac9%29%3B%0A%20%20%20%20%20%20%20%20%0A%20%20%20%20%0A%20%20%20%20%20%20%20%20%20%20%20%20var%20tile_layer_c99ef09262bb4d8187c0884473ff7181%20%3D%20L.tileLayer%28%0A%20%20%20%20%20%20%20%20%20%20%20%20%20%20%20%20%22https%3A//earthengine.googleapis.com/v1alpha/projects/earthengine-legacy/maps/86aa90416c7fa884ddf514e07e2e80b9-8500abe0b3c0684415f0d82ab6d427f9/tiles/%7Bz%7D/%7Bx%7D/%7By%7D%22%2C%0A%20%20%20%20%20%20%20%20%20%20%20%20%20%20%20%20%7B%22attribution%22%3A%20%22Map%20Data%20%5Cu0026copy%3B%20%5Cu003ca%20href%3D%5C%22https%3A//earthengine.google.com/%5C%22%5Cu003eGoogle%20Earth%20Engine%5Cu003c/a%5Cu003e%22%2C%20%22detectRetina%22%3A%20false%2C%20%22maxNativeZoom%22%3A%2018%2C%20%22maxZoom%22%3A%2018%2C%20%22minZoom%22%3A%200%2C%20%22noWrap%22%3A%20false%2C%20%22opacity%22%3A%201%2C%20%22subdomains%22%3A%20%22abc%22%2C%20%22tms%22%3A%20false%7D%0A%20%20%20%20%20%20%20%20%20%20%20%20%29.addTo%28map_89df20ea27e04fec9c859c32c91a8ac9%29%3B%0A%20%20%20%20%20%20%20%20%0A%20%20%20%20%0A%20%20%20%20%20%20%20%20%20%20%20%20var%20tile_layer_8a6d9e1cfca4414eadb35f055a25511d%20%3D%20L.tileLayer%28%0A%20%20%20%20%20%20%20%20%20%20%20%20%20%20%20%20%22https%3A//earthengine.googleapis.com/v1alpha/projects/earthengine-legacy/maps/07cfbcbbc5ab0420be798101c3b9f6c3-a00d63ad1b0c80a74c2b3cf9ae47fce0/tiles/%7Bz%7D/%7Bx%7D/%7By%7D%22%2C%0A%20%20%20%20%20%20%20%20%20%20%20%20%20%20%20%20%7B%22attribution%22%3A%20%22Map%20Data%20%5Cu0026copy%3B%20%5Cu003ca%20href%3D%5C%22https%3A//earthengine.google.com/%5C%22%5Cu003eGoogle%20Earth%20Engine%5Cu003c/a%5Cu003e%22%2C%20%22detectRetina%22%3A%20false%2C%20%22maxNativeZoom%22%3A%2018%2C%20%22maxZoom%22%3A%2018%2C%20%22minZoom%22%3A%200%2C%20%22noWrap%22%3A%20false%2C%20%22opacity%22%3A%201%2C%20%22subdomains%22%3A%20%22abc%22%2C%20%22tms%22%3A%20false%7D%0A%20%20%20%20%20%20%20%20%20%20%20%20%29.addTo%28map_89df20ea27e04fec9c859c32c91a8ac9%29%3B%0A%20%20%20%20%20%20%20%20%0A%20%20%20%20%0A%20%20%20%20%20%20%20%20%20%20%20%20var%20tile_layer_73d3967832cf476d819b99d6ee59ba35%20%3D%20L.tileLayer%28%0A%20%20%20%20%20%20%20%20%20%20%20%20%20%20%20%20%22https%3A//earthengine.googleapis.com/v1alpha/projects/earthengine-legacy/maps/76769a94cf77cbcf14015b3dfc327b13-289725b9395339436507a504467a33b0/tiles/%7Bz%7D/%7Bx%7D/%7By%7D%22%2C%0A%20%20%20%20%20%20%20%20%20%20%20%20%20%20%20%20%7B%22attribution%22%3A%20%22Map%20Data%20%5Cu0026copy%3B%20%5Cu003ca%20href%3D%5C%22https%3A//earthengine.google.com/%5C%22%5Cu003eGoogle%20Earth%20Engine%5Cu003c/a%5Cu003e%22%2C%20%22detectRetina%22%3A%20false%2C%20%22maxNativeZoom%22%3A%2018%2C%20%22maxZoom%22%3A%2018%2C%20%22minZoom%22%3A%200%2C%20%22noWrap%22%3A%20false%2C%20%22opacity%22%3A%201%2C%20%22subdomains%22%3A%20%22abc%22%2C%20%22tms%22%3A%20false%7D%0A%20%20%20%20%20%20%20%20%20%20%20%20%29.addTo%28map_89df20ea27e04fec9c859c32c91a8ac9%29%3B%0A%20%20%20%20%20%20%20%20%0A%20%20%20%20%0A%20%20%20%20%20%20%20%20%20%20%20%20var%20layer_control_1b752245f1b649bd8048e1250777c006%20%3D%20%7B%0A%20%20%20%20%20%20%20%20%20%20%20%20%20%20%20%20base_layers%20%3A%20%7B%0A%20%20%20%20%20%20%20%20%20%20%20%20%20%20%20%20%20%20%20%20%22openstreetmap%22%20%3A%20tile_layer_562a86087fc54da8ae9dae3b832ef42f%2C%0A%20%20%20%20%20%20%20%20%20%20%20%20%20%20%20%20%7D%2C%0A%20%20%20%20%20%20%20%20%20%20%20%20%20%20%20%20overlays%20%3A%20%20%7B%0A%20%20%20%20%20%20%20%20%20%20%20%20%20%20%20%20%20%20%20%20%22Masked%20NDVI%22%20%3A%20tile_layer_c99ef09262bb4d8187c0884473ff7181%2C%0A%20%20%20%20%20%20%20%20%20%20%20%20%20%20%20%20%20%20%20%20%22Unmasked%20NDVI%22%20%3A%20tile_layer_8a6d9e1cfca4414eadb35f055a25511d%2C%0A%20%20%20%20%20%20%20%20%20%20%20%20%20%20%20%20%20%20%20%20%22Normalized%20NDVI%20Difference%22%20%3A%20tile_layer_73d3967832cf476d819b99d6ee59ba35%2C%0A%20%20%20%20%20%20%20%20%20%20%20%20%20%20%20%20%7D%2C%0A%20%20%20%20%20%20%20%20%20%20%20%20%7D%3B%0A%20%20%20%20%20%20%20%20%20%20%20%20L.control.layers%28%0A%20%20%20%20%20%20%20%20%20%20%20%20%20%20%20%20layer_control_1b752245f1b649bd8048e1250777c006.base_layers%2C%0A%20%20%20%20%20%20%20%20%20%20%20%20%20%20%20%20layer_control_1b752245f1b649bd8048e1250777c006.overlays%2C%0A%20%20%20%20%20%20%20%20%20%20%20%20%20%20%20%20%7B%22autoZIndex%22%3A%20true%2C%20%22collapsed%22%3A%20true%2C%20%22position%22%3A%20%22topright%22%7D%0A%20%20%20%20%20%20%20%20%20%20%20%20%29.addTo%28map_89df20ea27e04fec9c859c32c91a8ac9%29%3B%0A%20%20%20%20%20%20%20%20%0A%3C/script%3E onload=\"this.contentDocument.open();this.contentDocument.write(    decodeURIComponent(this.getAttribute('data-html')));this.contentDocument.close();\" allowfullscreen webkitallowfullscreen mozallowfullscreen></iframe></div></div>"
      ],
      "text/plain": [
       "<folium.folium.Map at 0x13e9694c0>"
      ]
     },
     "metadata": {},
     "output_type": "display_data"
    },
    {
     "name": "stdout",
     "output_type": "stream",
     "text": [
      "\n",
      " \n",
      "\n",
      "2019-10-01 - 2019-11-01\n"
     ]
    },
    {
     "data": {
      "text/html": [
       "<div style=\"width:100%;\"><div style=\"position:relative;width:100%;height:0;padding-bottom:60%;\"><span style=\"color:#565656\">Make this Notebook Trusted to load map: File -> Trust Notebook</span><iframe src=\"about:blank\" style=\"position:absolute;width:100%;height:100%;left:0;top:0;border:none !important;\" data-html=%3C%21DOCTYPE%20html%3E%0A%3Chead%3E%20%20%20%20%0A%20%20%20%20%3Cmeta%20http-equiv%3D%22content-type%22%20content%3D%22text/html%3B%20charset%3DUTF-8%22%20/%3E%0A%20%20%20%20%0A%20%20%20%20%20%20%20%20%3Cscript%3E%0A%20%20%20%20%20%20%20%20%20%20%20%20L_NO_TOUCH%20%3D%20false%3B%0A%20%20%20%20%20%20%20%20%20%20%20%20L_DISABLE_3D%20%3D%20false%3B%0A%20%20%20%20%20%20%20%20%3C/script%3E%0A%20%20%20%20%0A%20%20%20%20%3Cstyle%3Ehtml%2C%20body%20%7Bwidth%3A%20100%25%3Bheight%3A%20100%25%3Bmargin%3A%200%3Bpadding%3A%200%3B%7D%3C/style%3E%0A%20%20%20%20%3Cstyle%3E%23map%20%7Bposition%3Aabsolute%3Btop%3A0%3Bbottom%3A0%3Bright%3A0%3Bleft%3A0%3B%7D%3C/style%3E%0A%20%20%20%20%3Cscript%20src%3D%22https%3A//cdn.jsdelivr.net/npm/leaflet%401.6.0/dist/leaflet.js%22%3E%3C/script%3E%0A%20%20%20%20%3Cscript%20src%3D%22https%3A//code.jquery.com/jquery-1.12.4.min.js%22%3E%3C/script%3E%0A%20%20%20%20%3Cscript%20src%3D%22https%3A//maxcdn.bootstrapcdn.com/bootstrap/3.2.0/js/bootstrap.min.js%22%3E%3C/script%3E%0A%20%20%20%20%3Cscript%20src%3D%22https%3A//cdnjs.cloudflare.com/ajax/libs/Leaflet.awesome-markers/2.0.2/leaflet.awesome-markers.js%22%3E%3C/script%3E%0A%20%20%20%20%3Clink%20rel%3D%22stylesheet%22%20href%3D%22https%3A//cdn.jsdelivr.net/npm/leaflet%401.6.0/dist/leaflet.css%22/%3E%0A%20%20%20%20%3Clink%20rel%3D%22stylesheet%22%20href%3D%22https%3A//maxcdn.bootstrapcdn.com/bootstrap/3.2.0/css/bootstrap.min.css%22/%3E%0A%20%20%20%20%3Clink%20rel%3D%22stylesheet%22%20href%3D%22https%3A//maxcdn.bootstrapcdn.com/bootstrap/3.2.0/css/bootstrap-theme.min.css%22/%3E%0A%20%20%20%20%3Clink%20rel%3D%22stylesheet%22%20href%3D%22https%3A//maxcdn.bootstrapcdn.com/font-awesome/4.6.3/css/font-awesome.min.css%22/%3E%0A%20%20%20%20%3Clink%20rel%3D%22stylesheet%22%20href%3D%22https%3A//cdnjs.cloudflare.com/ajax/libs/Leaflet.awesome-markers/2.0.2/leaflet.awesome-markers.css%22/%3E%0A%20%20%20%20%3Clink%20rel%3D%22stylesheet%22%20href%3D%22https%3A//cdn.jsdelivr.net/gh/python-visualization/folium/folium/templates/leaflet.awesome.rotate.min.css%22/%3E%0A%20%20%20%20%0A%20%20%20%20%20%20%20%20%20%20%20%20%3Cmeta%20name%3D%22viewport%22%20content%3D%22width%3Ddevice-width%2C%0A%20%20%20%20%20%20%20%20%20%20%20%20%20%20%20%20initial-scale%3D1.0%2C%20maximum-scale%3D1.0%2C%20user-scalable%3Dno%22%20/%3E%0A%20%20%20%20%20%20%20%20%20%20%20%20%3Cstyle%3E%0A%20%20%20%20%20%20%20%20%20%20%20%20%20%20%20%20%23map_2a947c6c1c554f88b0020feec552708d%20%7B%0A%20%20%20%20%20%20%20%20%20%20%20%20%20%20%20%20%20%20%20%20position%3A%20relative%3B%0A%20%20%20%20%20%20%20%20%20%20%20%20%20%20%20%20%20%20%20%20width%3A%20100.0%25%3B%0A%20%20%20%20%20%20%20%20%20%20%20%20%20%20%20%20%20%20%20%20height%3A%20100.0%25%3B%0A%20%20%20%20%20%20%20%20%20%20%20%20%20%20%20%20%20%20%20%20left%3A%200.0%25%3B%0A%20%20%20%20%20%20%20%20%20%20%20%20%20%20%20%20%20%20%20%20top%3A%200.0%25%3B%0A%20%20%20%20%20%20%20%20%20%20%20%20%20%20%20%20%7D%0A%20%20%20%20%20%20%20%20%20%20%20%20%3C/style%3E%0A%20%20%20%20%20%20%20%20%0A%3C/head%3E%0A%3Cbody%3E%20%20%20%20%0A%20%20%20%20%0A%20%20%20%20%20%20%20%20%20%20%20%20%3Cdiv%20class%3D%22folium-map%22%20id%3D%22map_2a947c6c1c554f88b0020feec552708d%22%20%3E%3C/div%3E%0A%20%20%20%20%20%20%20%20%0A%3C/body%3E%0A%3Cscript%3E%20%20%20%20%0A%20%20%20%20%0A%20%20%20%20%20%20%20%20%20%20%20%20var%20map_2a947c6c1c554f88b0020feec552708d%20%3D%20L.map%28%0A%20%20%20%20%20%20%20%20%20%20%20%20%20%20%20%20%22map_2a947c6c1c554f88b0020feec552708d%22%2C%0A%20%20%20%20%20%20%20%20%20%20%20%20%20%20%20%20%7B%0A%20%20%20%20%20%20%20%20%20%20%20%20%20%20%20%20%20%20%20%20center%3A%20%5B-19.705570084543737%2C%2044.70292749999976%5D%2C%0A%20%20%20%20%20%20%20%20%20%20%20%20%20%20%20%20%20%20%20%20crs%3A%20L.CRS.EPSG3857%2C%0A%20%20%20%20%20%20%20%20%20%20%20%20%20%20%20%20%20%20%20%20zoom%3A%2010%2C%0A%20%20%20%20%20%20%20%20%20%20%20%20%20%20%20%20%20%20%20%20zoomControl%3A%20true%2C%0A%20%20%20%20%20%20%20%20%20%20%20%20%20%20%20%20%20%20%20%20preferCanvas%3A%20false%2C%0A%20%20%20%20%20%20%20%20%20%20%20%20%20%20%20%20%7D%0A%20%20%20%20%20%20%20%20%20%20%20%20%29%3B%0A%0A%20%20%20%20%20%20%20%20%20%20%20%20%0A%0A%20%20%20%20%20%20%20%20%0A%20%20%20%20%0A%20%20%20%20%20%20%20%20%20%20%20%20var%20tile_layer_e008d5937d2a4e498300ee6c08d7356e%20%3D%20L.tileLayer%28%0A%20%20%20%20%20%20%20%20%20%20%20%20%20%20%20%20%22https%3A//%7Bs%7D.tile.openstreetmap.org/%7Bz%7D/%7Bx%7D/%7By%7D.png%22%2C%0A%20%20%20%20%20%20%20%20%20%20%20%20%20%20%20%20%7B%22attribution%22%3A%20%22Data%20by%20%5Cu0026copy%3B%20%5Cu003ca%20href%3D%5C%22http%3A//openstreetmap.org%5C%22%5Cu003eOpenStreetMap%5Cu003c/a%5Cu003e%2C%20under%20%5Cu003ca%20href%3D%5C%22http%3A//www.openstreetmap.org/copyright%5C%22%5Cu003eODbL%5Cu003c/a%5Cu003e.%22%2C%20%22detectRetina%22%3A%20false%2C%20%22maxNativeZoom%22%3A%2018%2C%20%22maxZoom%22%3A%2018%2C%20%22minZoom%22%3A%200%2C%20%22noWrap%22%3A%20false%2C%20%22opacity%22%3A%201%2C%20%22subdomains%22%3A%20%22abc%22%2C%20%22tms%22%3A%20false%7D%0A%20%20%20%20%20%20%20%20%20%20%20%20%29.addTo%28map_2a947c6c1c554f88b0020feec552708d%29%3B%0A%20%20%20%20%20%20%20%20%0A%20%20%20%20%0A%20%20%20%20%20%20%20%20%20%20%20%20var%20tile_layer_3a909450dc794bf0b56121c8bdfbcdc7%20%3D%20L.tileLayer%28%0A%20%20%20%20%20%20%20%20%20%20%20%20%20%20%20%20%22https%3A//earthengine.googleapis.com/v1alpha/projects/earthengine-legacy/maps/7fb15824f6a7a1d1d419080db151998e-a49faf2f1b93f8200c71f84bc2c99adb/tiles/%7Bz%7D/%7Bx%7D/%7By%7D%22%2C%0A%20%20%20%20%20%20%20%20%20%20%20%20%20%20%20%20%7B%22attribution%22%3A%20%22Map%20Data%20%5Cu0026copy%3B%20%5Cu003ca%20href%3D%5C%22https%3A//earthengine.google.com/%5C%22%5Cu003eGoogle%20Earth%20Engine%5Cu003c/a%5Cu003e%22%2C%20%22detectRetina%22%3A%20false%2C%20%22maxNativeZoom%22%3A%2018%2C%20%22maxZoom%22%3A%2018%2C%20%22minZoom%22%3A%200%2C%20%22noWrap%22%3A%20false%2C%20%22opacity%22%3A%201%2C%20%22subdomains%22%3A%20%22abc%22%2C%20%22tms%22%3A%20false%7D%0A%20%20%20%20%20%20%20%20%20%20%20%20%29.addTo%28map_2a947c6c1c554f88b0020feec552708d%29%3B%0A%20%20%20%20%20%20%20%20%0A%20%20%20%20%0A%20%20%20%20%20%20%20%20%20%20%20%20var%20tile_layer_b9f2d7079d5049058af9931c56941943%20%3D%20L.tileLayer%28%0A%20%20%20%20%20%20%20%20%20%20%20%20%20%20%20%20%22https%3A//earthengine.googleapis.com/v1alpha/projects/earthengine-legacy/maps/5bcd5ba01a9d30ee7c9b50cf00b668c0-9ec0587b07a16bbe7a105d99b56c863f/tiles/%7Bz%7D/%7Bx%7D/%7By%7D%22%2C%0A%20%20%20%20%20%20%20%20%20%20%20%20%20%20%20%20%7B%22attribution%22%3A%20%22Map%20Data%20%5Cu0026copy%3B%20%5Cu003ca%20href%3D%5C%22https%3A//earthengine.google.com/%5C%22%5Cu003eGoogle%20Earth%20Engine%5Cu003c/a%5Cu003e%22%2C%20%22detectRetina%22%3A%20false%2C%20%22maxNativeZoom%22%3A%2018%2C%20%22maxZoom%22%3A%2018%2C%20%22minZoom%22%3A%200%2C%20%22noWrap%22%3A%20false%2C%20%22opacity%22%3A%201%2C%20%22subdomains%22%3A%20%22abc%22%2C%20%22tms%22%3A%20false%7D%0A%20%20%20%20%20%20%20%20%20%20%20%20%29.addTo%28map_2a947c6c1c554f88b0020feec552708d%29%3B%0A%20%20%20%20%20%20%20%20%0A%20%20%20%20%0A%20%20%20%20%20%20%20%20%20%20%20%20var%20tile_layer_8f938856d9b541168b8a7008d1aa17f1%20%3D%20L.tileLayer%28%0A%20%20%20%20%20%20%20%20%20%20%20%20%20%20%20%20%22https%3A//earthengine.googleapis.com/v1alpha/projects/earthengine-legacy/maps/caf521d4b78f5d516f33769f5150ba73-a30a25cd8ad4b5f263cf633efacbc6d4/tiles/%7Bz%7D/%7Bx%7D/%7By%7D%22%2C%0A%20%20%20%20%20%20%20%20%20%20%20%20%20%20%20%20%7B%22attribution%22%3A%20%22Map%20Data%20%5Cu0026copy%3B%20%5Cu003ca%20href%3D%5C%22https%3A//earthengine.google.com/%5C%22%5Cu003eGoogle%20Earth%20Engine%5Cu003c/a%5Cu003e%22%2C%20%22detectRetina%22%3A%20false%2C%20%22maxNativeZoom%22%3A%2018%2C%20%22maxZoom%22%3A%2018%2C%20%22minZoom%22%3A%200%2C%20%22noWrap%22%3A%20false%2C%20%22opacity%22%3A%201%2C%20%22subdomains%22%3A%20%22abc%22%2C%20%22tms%22%3A%20false%7D%0A%20%20%20%20%20%20%20%20%20%20%20%20%29.addTo%28map_2a947c6c1c554f88b0020feec552708d%29%3B%0A%20%20%20%20%20%20%20%20%0A%20%20%20%20%0A%20%20%20%20%20%20%20%20%20%20%20%20var%20layer_control_f17f13d6f2b64ed6baff929782b04778%20%3D%20%7B%0A%20%20%20%20%20%20%20%20%20%20%20%20%20%20%20%20base_layers%20%3A%20%7B%0A%20%20%20%20%20%20%20%20%20%20%20%20%20%20%20%20%20%20%20%20%22openstreetmap%22%20%3A%20tile_layer_e008d5937d2a4e498300ee6c08d7356e%2C%0A%20%20%20%20%20%20%20%20%20%20%20%20%20%20%20%20%7D%2C%0A%20%20%20%20%20%20%20%20%20%20%20%20%20%20%20%20overlays%20%3A%20%20%7B%0A%20%20%20%20%20%20%20%20%20%20%20%20%20%20%20%20%20%20%20%20%22Masked%20NDVI%22%20%3A%20tile_layer_3a909450dc794bf0b56121c8bdfbcdc7%2C%0A%20%20%20%20%20%20%20%20%20%20%20%20%20%20%20%20%20%20%20%20%22Unmasked%20NDVI%22%20%3A%20tile_layer_b9f2d7079d5049058af9931c56941943%2C%0A%20%20%20%20%20%20%20%20%20%20%20%20%20%20%20%20%20%20%20%20%22Normalized%20NDVI%20Difference%22%20%3A%20tile_layer_8f938856d9b541168b8a7008d1aa17f1%2C%0A%20%20%20%20%20%20%20%20%20%20%20%20%20%20%20%20%7D%2C%0A%20%20%20%20%20%20%20%20%20%20%20%20%7D%3B%0A%20%20%20%20%20%20%20%20%20%20%20%20L.control.layers%28%0A%20%20%20%20%20%20%20%20%20%20%20%20%20%20%20%20layer_control_f17f13d6f2b64ed6baff929782b04778.base_layers%2C%0A%20%20%20%20%20%20%20%20%20%20%20%20%20%20%20%20layer_control_f17f13d6f2b64ed6baff929782b04778.overlays%2C%0A%20%20%20%20%20%20%20%20%20%20%20%20%20%20%20%20%7B%22autoZIndex%22%3A%20true%2C%20%22collapsed%22%3A%20true%2C%20%22position%22%3A%20%22topright%22%7D%0A%20%20%20%20%20%20%20%20%20%20%20%20%29.addTo%28map_2a947c6c1c554f88b0020feec552708d%29%3B%0A%20%20%20%20%20%20%20%20%0A%3C/script%3E onload=\"this.contentDocument.open();this.contentDocument.write(    decodeURIComponent(this.getAttribute('data-html')));this.contentDocument.close();\" allowfullscreen webkitallowfullscreen mozallowfullscreen></iframe></div></div>"
      ],
      "text/plain": [
       "<folium.folium.Map at 0x13e9701f0>"
      ]
     },
     "metadata": {},
     "output_type": "display_data"
    },
    {
     "name": "stdout",
     "output_type": "stream",
     "text": [
      "\n",
      " \n",
      "\n",
      "2019-11-01 - 2019-12-01\n"
     ]
    },
    {
     "data": {
      "text/html": [
       "<div style=\"width:100%;\"><div style=\"position:relative;width:100%;height:0;padding-bottom:60%;\"><span style=\"color:#565656\">Make this Notebook Trusted to load map: File -> Trust Notebook</span><iframe src=\"about:blank\" style=\"position:absolute;width:100%;height:100%;left:0;top:0;border:none !important;\" data-html=%3C%21DOCTYPE%20html%3E%0A%3Chead%3E%20%20%20%20%0A%20%20%20%20%3Cmeta%20http-equiv%3D%22content-type%22%20content%3D%22text/html%3B%20charset%3DUTF-8%22%20/%3E%0A%20%20%20%20%0A%20%20%20%20%20%20%20%20%3Cscript%3E%0A%20%20%20%20%20%20%20%20%20%20%20%20L_NO_TOUCH%20%3D%20false%3B%0A%20%20%20%20%20%20%20%20%20%20%20%20L_DISABLE_3D%20%3D%20false%3B%0A%20%20%20%20%20%20%20%20%3C/script%3E%0A%20%20%20%20%0A%20%20%20%20%3Cstyle%3Ehtml%2C%20body%20%7Bwidth%3A%20100%25%3Bheight%3A%20100%25%3Bmargin%3A%200%3Bpadding%3A%200%3B%7D%3C/style%3E%0A%20%20%20%20%3Cstyle%3E%23map%20%7Bposition%3Aabsolute%3Btop%3A0%3Bbottom%3A0%3Bright%3A0%3Bleft%3A0%3B%7D%3C/style%3E%0A%20%20%20%20%3Cscript%20src%3D%22https%3A//cdn.jsdelivr.net/npm/leaflet%401.6.0/dist/leaflet.js%22%3E%3C/script%3E%0A%20%20%20%20%3Cscript%20src%3D%22https%3A//code.jquery.com/jquery-1.12.4.min.js%22%3E%3C/script%3E%0A%20%20%20%20%3Cscript%20src%3D%22https%3A//maxcdn.bootstrapcdn.com/bootstrap/3.2.0/js/bootstrap.min.js%22%3E%3C/script%3E%0A%20%20%20%20%3Cscript%20src%3D%22https%3A//cdnjs.cloudflare.com/ajax/libs/Leaflet.awesome-markers/2.0.2/leaflet.awesome-markers.js%22%3E%3C/script%3E%0A%20%20%20%20%3Clink%20rel%3D%22stylesheet%22%20href%3D%22https%3A//cdn.jsdelivr.net/npm/leaflet%401.6.0/dist/leaflet.css%22/%3E%0A%20%20%20%20%3Clink%20rel%3D%22stylesheet%22%20href%3D%22https%3A//maxcdn.bootstrapcdn.com/bootstrap/3.2.0/css/bootstrap.min.css%22/%3E%0A%20%20%20%20%3Clink%20rel%3D%22stylesheet%22%20href%3D%22https%3A//maxcdn.bootstrapcdn.com/bootstrap/3.2.0/css/bootstrap-theme.min.css%22/%3E%0A%20%20%20%20%3Clink%20rel%3D%22stylesheet%22%20href%3D%22https%3A//maxcdn.bootstrapcdn.com/font-awesome/4.6.3/css/font-awesome.min.css%22/%3E%0A%20%20%20%20%3Clink%20rel%3D%22stylesheet%22%20href%3D%22https%3A//cdnjs.cloudflare.com/ajax/libs/Leaflet.awesome-markers/2.0.2/leaflet.awesome-markers.css%22/%3E%0A%20%20%20%20%3Clink%20rel%3D%22stylesheet%22%20href%3D%22https%3A//cdn.jsdelivr.net/gh/python-visualization/folium/folium/templates/leaflet.awesome.rotate.min.css%22/%3E%0A%20%20%20%20%0A%20%20%20%20%20%20%20%20%20%20%20%20%3Cmeta%20name%3D%22viewport%22%20content%3D%22width%3Ddevice-width%2C%0A%20%20%20%20%20%20%20%20%20%20%20%20%20%20%20%20initial-scale%3D1.0%2C%20maximum-scale%3D1.0%2C%20user-scalable%3Dno%22%20/%3E%0A%20%20%20%20%20%20%20%20%20%20%20%20%3Cstyle%3E%0A%20%20%20%20%20%20%20%20%20%20%20%20%20%20%20%20%23map_08a90fda71704a7fb8783fc6bcbe7dc1%20%7B%0A%20%20%20%20%20%20%20%20%20%20%20%20%20%20%20%20%20%20%20%20position%3A%20relative%3B%0A%20%20%20%20%20%20%20%20%20%20%20%20%20%20%20%20%20%20%20%20width%3A%20100.0%25%3B%0A%20%20%20%20%20%20%20%20%20%20%20%20%20%20%20%20%20%20%20%20height%3A%20100.0%25%3B%0A%20%20%20%20%20%20%20%20%20%20%20%20%20%20%20%20%20%20%20%20left%3A%200.0%25%3B%0A%20%20%20%20%20%20%20%20%20%20%20%20%20%20%20%20%20%20%20%20top%3A%200.0%25%3B%0A%20%20%20%20%20%20%20%20%20%20%20%20%20%20%20%20%7D%0A%20%20%20%20%20%20%20%20%20%20%20%20%3C/style%3E%0A%20%20%20%20%20%20%20%20%0A%3C/head%3E%0A%3Cbody%3E%20%20%20%20%0A%20%20%20%20%0A%20%20%20%20%20%20%20%20%20%20%20%20%3Cdiv%20class%3D%22folium-map%22%20id%3D%22map_08a90fda71704a7fb8783fc6bcbe7dc1%22%20%3E%3C/div%3E%0A%20%20%20%20%20%20%20%20%0A%3C/body%3E%0A%3Cscript%3E%20%20%20%20%0A%20%20%20%20%0A%20%20%20%20%20%20%20%20%20%20%20%20var%20map_08a90fda71704a7fb8783fc6bcbe7dc1%20%3D%20L.map%28%0A%20%20%20%20%20%20%20%20%20%20%20%20%20%20%20%20%22map_08a90fda71704a7fb8783fc6bcbe7dc1%22%2C%0A%20%20%20%20%20%20%20%20%20%20%20%20%20%20%20%20%7B%0A%20%20%20%20%20%20%20%20%20%20%20%20%20%20%20%20%20%20%20%20center%3A%20%5B-19.705570084543737%2C%2044.70292749999976%5D%2C%0A%20%20%20%20%20%20%20%20%20%20%20%20%20%20%20%20%20%20%20%20crs%3A%20L.CRS.EPSG3857%2C%0A%20%20%20%20%20%20%20%20%20%20%20%20%20%20%20%20%20%20%20%20zoom%3A%2010%2C%0A%20%20%20%20%20%20%20%20%20%20%20%20%20%20%20%20%20%20%20%20zoomControl%3A%20true%2C%0A%20%20%20%20%20%20%20%20%20%20%20%20%20%20%20%20%20%20%20%20preferCanvas%3A%20false%2C%0A%20%20%20%20%20%20%20%20%20%20%20%20%20%20%20%20%7D%0A%20%20%20%20%20%20%20%20%20%20%20%20%29%3B%0A%0A%20%20%20%20%20%20%20%20%20%20%20%20%0A%0A%20%20%20%20%20%20%20%20%0A%20%20%20%20%0A%20%20%20%20%20%20%20%20%20%20%20%20var%20tile_layer_4de8312758c14bf9894cf5cd9e55081d%20%3D%20L.tileLayer%28%0A%20%20%20%20%20%20%20%20%20%20%20%20%20%20%20%20%22https%3A//%7Bs%7D.tile.openstreetmap.org/%7Bz%7D/%7Bx%7D/%7By%7D.png%22%2C%0A%20%20%20%20%20%20%20%20%20%20%20%20%20%20%20%20%7B%22attribution%22%3A%20%22Data%20by%20%5Cu0026copy%3B%20%5Cu003ca%20href%3D%5C%22http%3A//openstreetmap.org%5C%22%5Cu003eOpenStreetMap%5Cu003c/a%5Cu003e%2C%20under%20%5Cu003ca%20href%3D%5C%22http%3A//www.openstreetmap.org/copyright%5C%22%5Cu003eODbL%5Cu003c/a%5Cu003e.%22%2C%20%22detectRetina%22%3A%20false%2C%20%22maxNativeZoom%22%3A%2018%2C%20%22maxZoom%22%3A%2018%2C%20%22minZoom%22%3A%200%2C%20%22noWrap%22%3A%20false%2C%20%22opacity%22%3A%201%2C%20%22subdomains%22%3A%20%22abc%22%2C%20%22tms%22%3A%20false%7D%0A%20%20%20%20%20%20%20%20%20%20%20%20%29.addTo%28map_08a90fda71704a7fb8783fc6bcbe7dc1%29%3B%0A%20%20%20%20%20%20%20%20%0A%20%20%20%20%0A%20%20%20%20%20%20%20%20%20%20%20%20var%20tile_layer_650c1473a03d4c44980fdf6210d35fdd%20%3D%20L.tileLayer%28%0A%20%20%20%20%20%20%20%20%20%20%20%20%20%20%20%20%22https%3A//earthengine.googleapis.com/v1alpha/projects/earthengine-legacy/maps/a762bf5c814f6afe3593dc09e2fe6772-0192e2aba1c22ba21c6328cb1554c174/tiles/%7Bz%7D/%7Bx%7D/%7By%7D%22%2C%0A%20%20%20%20%20%20%20%20%20%20%20%20%20%20%20%20%7B%22attribution%22%3A%20%22Map%20Data%20%5Cu0026copy%3B%20%5Cu003ca%20href%3D%5C%22https%3A//earthengine.google.com/%5C%22%5Cu003eGoogle%20Earth%20Engine%5Cu003c/a%5Cu003e%22%2C%20%22detectRetina%22%3A%20false%2C%20%22maxNativeZoom%22%3A%2018%2C%20%22maxZoom%22%3A%2018%2C%20%22minZoom%22%3A%200%2C%20%22noWrap%22%3A%20false%2C%20%22opacity%22%3A%201%2C%20%22subdomains%22%3A%20%22abc%22%2C%20%22tms%22%3A%20false%7D%0A%20%20%20%20%20%20%20%20%20%20%20%20%29.addTo%28map_08a90fda71704a7fb8783fc6bcbe7dc1%29%3B%0A%20%20%20%20%20%20%20%20%0A%20%20%20%20%0A%20%20%20%20%20%20%20%20%20%20%20%20var%20tile_layer_2afa8568d94c4d28bdbb6152c352d71b%20%3D%20L.tileLayer%28%0A%20%20%20%20%20%20%20%20%20%20%20%20%20%20%20%20%22https%3A//earthengine.googleapis.com/v1alpha/projects/earthengine-legacy/maps/ba91c8145eed63bd7f961fea45023096-ce1e2a033f39c029998ede75e285749f/tiles/%7Bz%7D/%7Bx%7D/%7By%7D%22%2C%0A%20%20%20%20%20%20%20%20%20%20%20%20%20%20%20%20%7B%22attribution%22%3A%20%22Map%20Data%20%5Cu0026copy%3B%20%5Cu003ca%20href%3D%5C%22https%3A//earthengine.google.com/%5C%22%5Cu003eGoogle%20Earth%20Engine%5Cu003c/a%5Cu003e%22%2C%20%22detectRetina%22%3A%20false%2C%20%22maxNativeZoom%22%3A%2018%2C%20%22maxZoom%22%3A%2018%2C%20%22minZoom%22%3A%200%2C%20%22noWrap%22%3A%20false%2C%20%22opacity%22%3A%201%2C%20%22subdomains%22%3A%20%22abc%22%2C%20%22tms%22%3A%20false%7D%0A%20%20%20%20%20%20%20%20%20%20%20%20%29.addTo%28map_08a90fda71704a7fb8783fc6bcbe7dc1%29%3B%0A%20%20%20%20%20%20%20%20%0A%20%20%20%20%0A%20%20%20%20%20%20%20%20%20%20%20%20var%20tile_layer_254dca2d9b854faf90d3d0db50468e58%20%3D%20L.tileLayer%28%0A%20%20%20%20%20%20%20%20%20%20%20%20%20%20%20%20%22https%3A//earthengine.googleapis.com/v1alpha/projects/earthengine-legacy/maps/fcdd10fbd2bf65084a616555c7a31d17-1de27db74c2dddc1207fdfc2960315be/tiles/%7Bz%7D/%7Bx%7D/%7By%7D%22%2C%0A%20%20%20%20%20%20%20%20%20%20%20%20%20%20%20%20%7B%22attribution%22%3A%20%22Map%20Data%20%5Cu0026copy%3B%20%5Cu003ca%20href%3D%5C%22https%3A//earthengine.google.com/%5C%22%5Cu003eGoogle%20Earth%20Engine%5Cu003c/a%5Cu003e%22%2C%20%22detectRetina%22%3A%20false%2C%20%22maxNativeZoom%22%3A%2018%2C%20%22maxZoom%22%3A%2018%2C%20%22minZoom%22%3A%200%2C%20%22noWrap%22%3A%20false%2C%20%22opacity%22%3A%201%2C%20%22subdomains%22%3A%20%22abc%22%2C%20%22tms%22%3A%20false%7D%0A%20%20%20%20%20%20%20%20%20%20%20%20%29.addTo%28map_08a90fda71704a7fb8783fc6bcbe7dc1%29%3B%0A%20%20%20%20%20%20%20%20%0A%20%20%20%20%0A%20%20%20%20%20%20%20%20%20%20%20%20var%20layer_control_da086acec9eb47d0ad567799c2696d93%20%3D%20%7B%0A%20%20%20%20%20%20%20%20%20%20%20%20%20%20%20%20base_layers%20%3A%20%7B%0A%20%20%20%20%20%20%20%20%20%20%20%20%20%20%20%20%20%20%20%20%22openstreetmap%22%20%3A%20tile_layer_4de8312758c14bf9894cf5cd9e55081d%2C%0A%20%20%20%20%20%20%20%20%20%20%20%20%20%20%20%20%7D%2C%0A%20%20%20%20%20%20%20%20%20%20%20%20%20%20%20%20overlays%20%3A%20%20%7B%0A%20%20%20%20%20%20%20%20%20%20%20%20%20%20%20%20%20%20%20%20%22Masked%20NDVI%22%20%3A%20tile_layer_650c1473a03d4c44980fdf6210d35fdd%2C%0A%20%20%20%20%20%20%20%20%20%20%20%20%20%20%20%20%20%20%20%20%22Unmasked%20NDVI%22%20%3A%20tile_layer_2afa8568d94c4d28bdbb6152c352d71b%2C%0A%20%20%20%20%20%20%20%20%20%20%20%20%20%20%20%20%20%20%20%20%22Normalized%20NDVI%20Difference%22%20%3A%20tile_layer_254dca2d9b854faf90d3d0db50468e58%2C%0A%20%20%20%20%20%20%20%20%20%20%20%20%20%20%20%20%7D%2C%0A%20%20%20%20%20%20%20%20%20%20%20%20%7D%3B%0A%20%20%20%20%20%20%20%20%20%20%20%20L.control.layers%28%0A%20%20%20%20%20%20%20%20%20%20%20%20%20%20%20%20layer_control_da086acec9eb47d0ad567799c2696d93.base_layers%2C%0A%20%20%20%20%20%20%20%20%20%20%20%20%20%20%20%20layer_control_da086acec9eb47d0ad567799c2696d93.overlays%2C%0A%20%20%20%20%20%20%20%20%20%20%20%20%20%20%20%20%7B%22autoZIndex%22%3A%20true%2C%20%22collapsed%22%3A%20true%2C%20%22position%22%3A%20%22topright%22%7D%0A%20%20%20%20%20%20%20%20%20%20%20%20%29.addTo%28map_08a90fda71704a7fb8783fc6bcbe7dc1%29%3B%0A%20%20%20%20%20%20%20%20%0A%3C/script%3E onload=\"this.contentDocument.open();this.contentDocument.write(    decodeURIComponent(this.getAttribute('data-html')));this.contentDocument.close();\" allowfullscreen webkitallowfullscreen mozallowfullscreen></iframe></div></div>"
      ],
      "text/plain": [
       "<folium.folium.Map at 0x13e95bf10>"
      ]
     },
     "metadata": {},
     "output_type": "display_data"
    },
    {
     "name": "stdout",
     "output_type": "stream",
     "text": [
      "\n",
      " \n",
      "\n",
      "2019-12-01 - 2020-01-01\n"
     ]
    },
    {
     "data": {
      "text/html": [
       "<div style=\"width:100%;\"><div style=\"position:relative;width:100%;height:0;padding-bottom:60%;\"><span style=\"color:#565656\">Make this Notebook Trusted to load map: File -> Trust Notebook</span><iframe src=\"about:blank\" style=\"position:absolute;width:100%;height:100%;left:0;top:0;border:none !important;\" data-html=%3C%21DOCTYPE%20html%3E%0A%3Chead%3E%20%20%20%20%0A%20%20%20%20%3Cmeta%20http-equiv%3D%22content-type%22%20content%3D%22text/html%3B%20charset%3DUTF-8%22%20/%3E%0A%20%20%20%20%0A%20%20%20%20%20%20%20%20%3Cscript%3E%0A%20%20%20%20%20%20%20%20%20%20%20%20L_NO_TOUCH%20%3D%20false%3B%0A%20%20%20%20%20%20%20%20%20%20%20%20L_DISABLE_3D%20%3D%20false%3B%0A%20%20%20%20%20%20%20%20%3C/script%3E%0A%20%20%20%20%0A%20%20%20%20%3Cstyle%3Ehtml%2C%20body%20%7Bwidth%3A%20100%25%3Bheight%3A%20100%25%3Bmargin%3A%200%3Bpadding%3A%200%3B%7D%3C/style%3E%0A%20%20%20%20%3Cstyle%3E%23map%20%7Bposition%3Aabsolute%3Btop%3A0%3Bbottom%3A0%3Bright%3A0%3Bleft%3A0%3B%7D%3C/style%3E%0A%20%20%20%20%3Cscript%20src%3D%22https%3A//cdn.jsdelivr.net/npm/leaflet%401.6.0/dist/leaflet.js%22%3E%3C/script%3E%0A%20%20%20%20%3Cscript%20src%3D%22https%3A//code.jquery.com/jquery-1.12.4.min.js%22%3E%3C/script%3E%0A%20%20%20%20%3Cscript%20src%3D%22https%3A//maxcdn.bootstrapcdn.com/bootstrap/3.2.0/js/bootstrap.min.js%22%3E%3C/script%3E%0A%20%20%20%20%3Cscript%20src%3D%22https%3A//cdnjs.cloudflare.com/ajax/libs/Leaflet.awesome-markers/2.0.2/leaflet.awesome-markers.js%22%3E%3C/script%3E%0A%20%20%20%20%3Clink%20rel%3D%22stylesheet%22%20href%3D%22https%3A//cdn.jsdelivr.net/npm/leaflet%401.6.0/dist/leaflet.css%22/%3E%0A%20%20%20%20%3Clink%20rel%3D%22stylesheet%22%20href%3D%22https%3A//maxcdn.bootstrapcdn.com/bootstrap/3.2.0/css/bootstrap.min.css%22/%3E%0A%20%20%20%20%3Clink%20rel%3D%22stylesheet%22%20href%3D%22https%3A//maxcdn.bootstrapcdn.com/bootstrap/3.2.0/css/bootstrap-theme.min.css%22/%3E%0A%20%20%20%20%3Clink%20rel%3D%22stylesheet%22%20href%3D%22https%3A//maxcdn.bootstrapcdn.com/font-awesome/4.6.3/css/font-awesome.min.css%22/%3E%0A%20%20%20%20%3Clink%20rel%3D%22stylesheet%22%20href%3D%22https%3A//cdnjs.cloudflare.com/ajax/libs/Leaflet.awesome-markers/2.0.2/leaflet.awesome-markers.css%22/%3E%0A%20%20%20%20%3Clink%20rel%3D%22stylesheet%22%20href%3D%22https%3A//cdn.jsdelivr.net/gh/python-visualization/folium/folium/templates/leaflet.awesome.rotate.min.css%22/%3E%0A%20%20%20%20%0A%20%20%20%20%20%20%20%20%20%20%20%20%3Cmeta%20name%3D%22viewport%22%20content%3D%22width%3Ddevice-width%2C%0A%20%20%20%20%20%20%20%20%20%20%20%20%20%20%20%20initial-scale%3D1.0%2C%20maximum-scale%3D1.0%2C%20user-scalable%3Dno%22%20/%3E%0A%20%20%20%20%20%20%20%20%20%20%20%20%3Cstyle%3E%0A%20%20%20%20%20%20%20%20%20%20%20%20%20%20%20%20%23map_43f157d4bc3a48dcb977e6dfa6b19eb7%20%7B%0A%20%20%20%20%20%20%20%20%20%20%20%20%20%20%20%20%20%20%20%20position%3A%20relative%3B%0A%20%20%20%20%20%20%20%20%20%20%20%20%20%20%20%20%20%20%20%20width%3A%20100.0%25%3B%0A%20%20%20%20%20%20%20%20%20%20%20%20%20%20%20%20%20%20%20%20height%3A%20100.0%25%3B%0A%20%20%20%20%20%20%20%20%20%20%20%20%20%20%20%20%20%20%20%20left%3A%200.0%25%3B%0A%20%20%20%20%20%20%20%20%20%20%20%20%20%20%20%20%20%20%20%20top%3A%200.0%25%3B%0A%20%20%20%20%20%20%20%20%20%20%20%20%20%20%20%20%7D%0A%20%20%20%20%20%20%20%20%20%20%20%20%3C/style%3E%0A%20%20%20%20%20%20%20%20%0A%3C/head%3E%0A%3Cbody%3E%20%20%20%20%0A%20%20%20%20%0A%20%20%20%20%20%20%20%20%20%20%20%20%3Cdiv%20class%3D%22folium-map%22%20id%3D%22map_43f157d4bc3a48dcb977e6dfa6b19eb7%22%20%3E%3C/div%3E%0A%20%20%20%20%20%20%20%20%0A%3C/body%3E%0A%3Cscript%3E%20%20%20%20%0A%20%20%20%20%0A%20%20%20%20%20%20%20%20%20%20%20%20var%20map_43f157d4bc3a48dcb977e6dfa6b19eb7%20%3D%20L.map%28%0A%20%20%20%20%20%20%20%20%20%20%20%20%20%20%20%20%22map_43f157d4bc3a48dcb977e6dfa6b19eb7%22%2C%0A%20%20%20%20%20%20%20%20%20%20%20%20%20%20%20%20%7B%0A%20%20%20%20%20%20%20%20%20%20%20%20%20%20%20%20%20%20%20%20center%3A%20%5B-19.705570084543737%2C%2044.70292749999976%5D%2C%0A%20%20%20%20%20%20%20%20%20%20%20%20%20%20%20%20%20%20%20%20crs%3A%20L.CRS.EPSG3857%2C%0A%20%20%20%20%20%20%20%20%20%20%20%20%20%20%20%20%20%20%20%20zoom%3A%2010%2C%0A%20%20%20%20%20%20%20%20%20%20%20%20%20%20%20%20%20%20%20%20zoomControl%3A%20true%2C%0A%20%20%20%20%20%20%20%20%20%20%20%20%20%20%20%20%20%20%20%20preferCanvas%3A%20false%2C%0A%20%20%20%20%20%20%20%20%20%20%20%20%20%20%20%20%7D%0A%20%20%20%20%20%20%20%20%20%20%20%20%29%3B%0A%0A%20%20%20%20%20%20%20%20%20%20%20%20%0A%0A%20%20%20%20%20%20%20%20%0A%20%20%20%20%0A%20%20%20%20%20%20%20%20%20%20%20%20var%20tile_layer_9f7cf2ad42b6433b93dcf1d3e9bcc896%20%3D%20L.tileLayer%28%0A%20%20%20%20%20%20%20%20%20%20%20%20%20%20%20%20%22https%3A//%7Bs%7D.tile.openstreetmap.org/%7Bz%7D/%7Bx%7D/%7By%7D.png%22%2C%0A%20%20%20%20%20%20%20%20%20%20%20%20%20%20%20%20%7B%22attribution%22%3A%20%22Data%20by%20%5Cu0026copy%3B%20%5Cu003ca%20href%3D%5C%22http%3A//openstreetmap.org%5C%22%5Cu003eOpenStreetMap%5Cu003c/a%5Cu003e%2C%20under%20%5Cu003ca%20href%3D%5C%22http%3A//www.openstreetmap.org/copyright%5C%22%5Cu003eODbL%5Cu003c/a%5Cu003e.%22%2C%20%22detectRetina%22%3A%20false%2C%20%22maxNativeZoom%22%3A%2018%2C%20%22maxZoom%22%3A%2018%2C%20%22minZoom%22%3A%200%2C%20%22noWrap%22%3A%20false%2C%20%22opacity%22%3A%201%2C%20%22subdomains%22%3A%20%22abc%22%2C%20%22tms%22%3A%20false%7D%0A%20%20%20%20%20%20%20%20%20%20%20%20%29.addTo%28map_43f157d4bc3a48dcb977e6dfa6b19eb7%29%3B%0A%20%20%20%20%20%20%20%20%0A%20%20%20%20%0A%20%20%20%20%20%20%20%20%20%20%20%20var%20tile_layer_f56216ca7fda46f683da47c056f821cf%20%3D%20L.tileLayer%28%0A%20%20%20%20%20%20%20%20%20%20%20%20%20%20%20%20%22https%3A//earthengine.googleapis.com/v1alpha/projects/earthengine-legacy/maps/4cfd493eeb1d3319b69d0d63b8b1d61a-1c8e9d8e078e9eea2716ddbafc2045e8/tiles/%7Bz%7D/%7Bx%7D/%7By%7D%22%2C%0A%20%20%20%20%20%20%20%20%20%20%20%20%20%20%20%20%7B%22attribution%22%3A%20%22Map%20Data%20%5Cu0026copy%3B%20%5Cu003ca%20href%3D%5C%22https%3A//earthengine.google.com/%5C%22%5Cu003eGoogle%20Earth%20Engine%5Cu003c/a%5Cu003e%22%2C%20%22detectRetina%22%3A%20false%2C%20%22maxNativeZoom%22%3A%2018%2C%20%22maxZoom%22%3A%2018%2C%20%22minZoom%22%3A%200%2C%20%22noWrap%22%3A%20false%2C%20%22opacity%22%3A%201%2C%20%22subdomains%22%3A%20%22abc%22%2C%20%22tms%22%3A%20false%7D%0A%20%20%20%20%20%20%20%20%20%20%20%20%29.addTo%28map_43f157d4bc3a48dcb977e6dfa6b19eb7%29%3B%0A%20%20%20%20%20%20%20%20%0A%20%20%20%20%0A%20%20%20%20%20%20%20%20%20%20%20%20var%20tile_layer_ad68749c17674b93a00c48817f62cb6d%20%3D%20L.tileLayer%28%0A%20%20%20%20%20%20%20%20%20%20%20%20%20%20%20%20%22https%3A//earthengine.googleapis.com/v1alpha/projects/earthengine-legacy/maps/86fa538c232562bd26ae2745f08c01c7-770d41813c2abf5023428d67d5c5216d/tiles/%7Bz%7D/%7Bx%7D/%7By%7D%22%2C%0A%20%20%20%20%20%20%20%20%20%20%20%20%20%20%20%20%7B%22attribution%22%3A%20%22Map%20Data%20%5Cu0026copy%3B%20%5Cu003ca%20href%3D%5C%22https%3A//earthengine.google.com/%5C%22%5Cu003eGoogle%20Earth%20Engine%5Cu003c/a%5Cu003e%22%2C%20%22detectRetina%22%3A%20false%2C%20%22maxNativeZoom%22%3A%2018%2C%20%22maxZoom%22%3A%2018%2C%20%22minZoom%22%3A%200%2C%20%22noWrap%22%3A%20false%2C%20%22opacity%22%3A%201%2C%20%22subdomains%22%3A%20%22abc%22%2C%20%22tms%22%3A%20false%7D%0A%20%20%20%20%20%20%20%20%20%20%20%20%29.addTo%28map_43f157d4bc3a48dcb977e6dfa6b19eb7%29%3B%0A%20%20%20%20%20%20%20%20%0A%20%20%20%20%0A%20%20%20%20%20%20%20%20%20%20%20%20var%20tile_layer_7e8c7e425f0a424ab0d1600522b59243%20%3D%20L.tileLayer%28%0A%20%20%20%20%20%20%20%20%20%20%20%20%20%20%20%20%22https%3A//earthengine.googleapis.com/v1alpha/projects/earthengine-legacy/maps/9390dc270c7a444a4c236e151397f3eb-71a81b0b92c421cca629ddf8c55e27ac/tiles/%7Bz%7D/%7Bx%7D/%7By%7D%22%2C%0A%20%20%20%20%20%20%20%20%20%20%20%20%20%20%20%20%7B%22attribution%22%3A%20%22Map%20Data%20%5Cu0026copy%3B%20%5Cu003ca%20href%3D%5C%22https%3A//earthengine.google.com/%5C%22%5Cu003eGoogle%20Earth%20Engine%5Cu003c/a%5Cu003e%22%2C%20%22detectRetina%22%3A%20false%2C%20%22maxNativeZoom%22%3A%2018%2C%20%22maxZoom%22%3A%2018%2C%20%22minZoom%22%3A%200%2C%20%22noWrap%22%3A%20false%2C%20%22opacity%22%3A%201%2C%20%22subdomains%22%3A%20%22abc%22%2C%20%22tms%22%3A%20false%7D%0A%20%20%20%20%20%20%20%20%20%20%20%20%29.addTo%28map_43f157d4bc3a48dcb977e6dfa6b19eb7%29%3B%0A%20%20%20%20%20%20%20%20%0A%20%20%20%20%0A%20%20%20%20%20%20%20%20%20%20%20%20var%20layer_control_e7f550cb9d3a454394cd6c3f6ca49002%20%3D%20%7B%0A%20%20%20%20%20%20%20%20%20%20%20%20%20%20%20%20base_layers%20%3A%20%7B%0A%20%20%20%20%20%20%20%20%20%20%20%20%20%20%20%20%20%20%20%20%22openstreetmap%22%20%3A%20tile_layer_9f7cf2ad42b6433b93dcf1d3e9bcc896%2C%0A%20%20%20%20%20%20%20%20%20%20%20%20%20%20%20%20%7D%2C%0A%20%20%20%20%20%20%20%20%20%20%20%20%20%20%20%20overlays%20%3A%20%20%7B%0A%20%20%20%20%20%20%20%20%20%20%20%20%20%20%20%20%20%20%20%20%22Masked%20NDVI%22%20%3A%20tile_layer_f56216ca7fda46f683da47c056f821cf%2C%0A%20%20%20%20%20%20%20%20%20%20%20%20%20%20%20%20%20%20%20%20%22Unmasked%20NDVI%22%20%3A%20tile_layer_ad68749c17674b93a00c48817f62cb6d%2C%0A%20%20%20%20%20%20%20%20%20%20%20%20%20%20%20%20%20%20%20%20%22Normalized%20NDVI%20Difference%22%20%3A%20tile_layer_7e8c7e425f0a424ab0d1600522b59243%2C%0A%20%20%20%20%20%20%20%20%20%20%20%20%20%20%20%20%7D%2C%0A%20%20%20%20%20%20%20%20%20%20%20%20%7D%3B%0A%20%20%20%20%20%20%20%20%20%20%20%20L.control.layers%28%0A%20%20%20%20%20%20%20%20%20%20%20%20%20%20%20%20layer_control_e7f550cb9d3a454394cd6c3f6ca49002.base_layers%2C%0A%20%20%20%20%20%20%20%20%20%20%20%20%20%20%20%20layer_control_e7f550cb9d3a454394cd6c3f6ca49002.overlays%2C%0A%20%20%20%20%20%20%20%20%20%20%20%20%20%20%20%20%7B%22autoZIndex%22%3A%20true%2C%20%22collapsed%22%3A%20true%2C%20%22position%22%3A%20%22topright%22%7D%0A%20%20%20%20%20%20%20%20%20%20%20%20%29.addTo%28map_43f157d4bc3a48dcb977e6dfa6b19eb7%29%3B%0A%20%20%20%20%20%20%20%20%0A%3C/script%3E onload=\"this.contentDocument.open();this.contentDocument.write(    decodeURIComponent(this.getAttribute('data-html')));this.contentDocument.close();\" allowfullscreen webkitallowfullscreen mozallowfullscreen></iframe></div></div>"
      ],
      "text/plain": [
       "<folium.folium.Map at 0x13e953460>"
      ]
     },
     "metadata": {},
     "output_type": "display_data"
    },
    {
     "name": "stdout",
     "output_type": "stream",
     "text": [
      "\n",
      " \n",
      "\n"
     ]
    }
   ],
   "source": [
    "# layer 1: NDVI with cloud masking\n",
    "# layer 2: NDVI without cloud masking\n",
    "# layer 3: normalized difference between layers 1, 2\n",
    "\n",
    "\n",
    "for i in range(len(months2019)):\n",
    "  startDate, endDate = months2019[i][0], months2019[i][1]\n",
    "\n",
    "  s2_mask, s2_noMask = get_s2_Modified(subset, startDate, endDate)  \n",
    "  maskedNdvi = s2_mask.map(add_cld_shdw_mask\n",
    "                     ).map(apply_cld_shdw_mask\n",
    "                     ).median(\n",
    "                     ).normalizedDifference([\"B8\", \"B4\"])\n",
    "                  \n",
    "  unmaskedNdvi = s2_noMask.median().normalizedDifference([\"B8\", \"B4\"])\n",
    "\n",
    "  ndviDifference = (maskedNdvi.select(\"nd\").subtract(unmaskedNdvi.select(\"nd\"))).divide(maskedNdvi.select(\"nd\").add(unmaskedNdvi.select(\"nd\")))\n",
    "\n",
    "  m = folium.Map(location=subsetCenter, zoom_start=10)\n",
    "\n",
    "  m.add_ee_layer(maskedNdvi,\n",
    "                {\"bands\": [\"nd\"],\n",
    "                 \"palette\": [\"white\", \"green\"]\n",
    "               }, \"Masked NDVI\")\n",
    "\n",
    "  m.add_ee_layer(unmaskedNdvi,\n",
    "                {\"bands\": [\"nd\"],\n",
    "                 \"palette\": [\"white\", \"green\"]\n",
    "               }, \"Unmasked NDVI\")\n",
    "\n",
    "  m.add_ee_layer(ndviDifference,\n",
    "                {\"bands\": [\"nd\"],\n",
    "                 \"min\": -0.25, \"max\": 0.25,\n",
    "                 \"palette\": [\"red\", \"white\", \"green\"]\n",
    "               }, \"Normalized NDVI Difference\")\n",
    "\n",
    "  m.add_child(folium.LayerControl())\n",
    "\n",
    "  print(startDate + \" - \" + endDate)\n",
    "  display(m)\n",
    "  print(\"\\n \\n\")"
   ]
  },
  {
   "cell_type": "markdown",
   "metadata": {
    "id": "tpecYM5--jHi"
   },
   "source": [
    "## Feature Collections/Spatial Summaries"
   ]
  },
  {
   "cell_type": "code",
   "execution_count": 14,
   "metadata": {
    "id": "reFPf-mKiZSZ"
   },
   "outputs": [],
   "source": [
    "# Madagascar national parks\n",
    "feats = ee.FeatureCollection([ee.Feature(ee.Geometry.Rectangle(46.942241, -24.839532, 46.702881, -24.636228),\n",
    "                                         {\"name\": \"d'Andohahela\"}),\n",
    "                              ee.Feature(ee.Geometry.Rectangle(47.223358, -23.723450, 46.852087, -23.550140),\n",
    "                                         {\"name\": \"Midongy Betofaka\"}),\n",
    "                              ee.Feature(ee.Geometry.Rectangle(44.002508, -24.390880, 43.697637, -23.974152),\n",
    "                                         {\"name\": \"Tsimanampetsotsa\"}),\n",
    "                              ee.Feature(ee.Geometry.Rectangle(46.753229, -16.165182, 47.087402, -16.259739),\n",
    "                                         {\"name\": \"d'Ankarafantsika\"}),\n",
    "                              ee.Feature(ee.Geometry.Rectangle(50.497992, -15.882093, 49.815574, -15.183482),\n",
    "                                         {\"name\": \"Masoala\"}),\n",
    "                              ee.Feature(ee.Geometry.Rectangle(44.554812, -20.091821, 44.767227, -19.703976),\n",
    "                                         {\"name\": \"Alan'Ankirisa\"})])"
   ]
  },
  {
   "cell_type": "code",
   "execution_count": 15,
   "metadata": {
    "id": "N4lEQs4sifdB"
   },
   "outputs": [],
   "source": [
    "def ndviReducer(image, collection=feats):\n",
    "  \"\"\"\n",
    "  Reduces an image over multiple ee.Geometries and returns an ee.FeatureCollection with aggregated band statistics\n",
    "  \"\"\"\n",
    "  reducer = ee.Reducer.mean(\n",
    "                     ).combine(reducer2 = ee.Reducer.max(),\n",
    "                               sharedInputs = True\n",
    "                     ).combine(reducer2 = ee.Reducer.min(),\n",
    "                               sharedInputs = True)  \n",
    "  \n",
    "  return image.reduceRegions(collection = feats,\n",
    "                             reducer = reducer,\n",
    "                             scale = 10,\n",
    "                             tileScale = 3).getInfo()[\"features\"]\n",
    "\n",
    "def rangeFormatter(date):\n",
    "  \"\"\" \n",
    "  Improves formatting of an image's start and end dates\n",
    "  \"\"\"\n",
    "  return date[5:7] + \"/\" + date[2:4]\n",
    "\n",
    "\n",
    "formattedAxisDates = [rangeFormatter(i[0]) for i in dateRange]"
   ]
  },
  {
   "cell_type": "code",
   "execution_count": null,
   "metadata": {
    "id": "XzSilFabBymM"
   },
   "outputs": [],
   "source": [
    "### RUN ONCE ###\n",
    "\n",
    "# dfLst = []\n",
    "# for i in range(len(trainMonths)):\n",
    "#   start, end = trainMonths[i]\n",
    "#   sentinel = get_s2_sr_cld_col(madagascar, \n",
    "#                                start, end).map(add_cld_shdw_mask\n",
    "#                                          ).map(apply_cld_shdw_mask\n",
    "#                                          ).mosaic()\n",
    "#   yearsSinceEpoch = ee.Date(start[:-2]+\"15\").difference(ee.Date('1970-01-01'), 'year').getInfo()  # defined at middle of month\n",
    "#   ndvi = sentinel.normalizedDifference([\"B8\", \"B4\"]).rename(\"NDVI\")\n",
    "#   regionStats = ndviReducer(ndvi)\n",
    "#   dfLst += list(map(lambda x: [rangeFormatter(start), yearsSinceEpoch] + list(x[\"properties\"].values()),\n",
    "#                     regionStats))\n",
    "  \n",
    "# df = pd.DataFrame(dfLst)\n",
    "# df.columns = [\"Month\", \"Years Since Epoch (t)\", \"Max NDVI\", \"Mean NDVI\", \"Min NDVI\", \"Region\"]\n",
    "# df = df.round(3)\n",
    "# df\n",
    "# df.to_csv(\"/content/drive/MyDrive/Colab Notebooks/regionalNDVI.csv\", index=False)"
   ]
  },
  {
   "cell_type": "code",
   "execution_count": 17,
   "metadata": {
    "colab": {
     "base_uri": "https://localhost:8080/",
     "height": 423
    },
    "id": "CFOXDqoMifZ-",
    "outputId": "651425b0-9653-4467-a917-2a6f3221b6c9",
    "scrolled": true
   },
   "outputs": [
    {
     "data": {
      "text/html": [
       "<div>\n",
       "<style scoped>\n",
       "    .dataframe tbody tr th:only-of-type {\n",
       "        vertical-align: middle;\n",
       "    }\n",
       "\n",
       "    .dataframe tbody tr th {\n",
       "        vertical-align: top;\n",
       "    }\n",
       "\n",
       "    .dataframe thead th {\n",
       "        text-align: right;\n",
       "    }\n",
       "</style>\n",
       "<table border=\"1\" class=\"dataframe\">\n",
       "  <thead>\n",
       "    <tr style=\"text-align: right;\">\n",
       "      <th></th>\n",
       "      <th>Month</th>\n",
       "      <th>Years Since Epoch (t)</th>\n",
       "      <th>Max NDVI</th>\n",
       "      <th>Mean NDVI</th>\n",
       "      <th>Min NDVI</th>\n",
       "      <th>Region</th>\n",
       "    </tr>\n",
       "  </thead>\n",
       "  <tbody>\n",
       "    <tr>\n",
       "      <th>0</th>\n",
       "      <td>01/19</td>\n",
       "      <td>49.039</td>\n",
       "      <td>0.977</td>\n",
       "      <td>0.764</td>\n",
       "      <td>-0.472</td>\n",
       "      <td>d'Andohahela</td>\n",
       "    </tr>\n",
       "    <tr>\n",
       "      <th>1</th>\n",
       "      <td>01/19</td>\n",
       "      <td>49.039</td>\n",
       "      <td>0.999</td>\n",
       "      <td>0.791</td>\n",
       "      <td>-0.869</td>\n",
       "      <td>Midongy Betofaka</td>\n",
       "    </tr>\n",
       "    <tr>\n",
       "      <th>2</th>\n",
       "      <td>01/19</td>\n",
       "      <td>49.039</td>\n",
       "      <td>0.905</td>\n",
       "      <td>0.503</td>\n",
       "      <td>-0.861</td>\n",
       "      <td>Tsimanampetsotsa</td>\n",
       "    </tr>\n",
       "    <tr>\n",
       "      <th>3</th>\n",
       "      <td>01/19</td>\n",
       "      <td>49.039</td>\n",
       "      <td>0.999</td>\n",
       "      <td>0.737</td>\n",
       "      <td>-0.386</td>\n",
       "      <td>d'Ankarafantsika</td>\n",
       "    </tr>\n",
       "    <tr>\n",
       "      <th>4</th>\n",
       "      <td>01/19</td>\n",
       "      <td>49.039</td>\n",
       "      <td>1.000</td>\n",
       "      <td>0.550</td>\n",
       "      <td>-0.998</td>\n",
       "      <td>Masoala</td>\n",
       "    </tr>\n",
       "    <tr>\n",
       "      <th>...</th>\n",
       "      <td>...</td>\n",
       "      <td>...</td>\n",
       "      <td>...</td>\n",
       "      <td>...</td>\n",
       "      <td>...</td>\n",
       "      <td>...</td>\n",
       "    </tr>\n",
       "    <tr>\n",
       "      <th>199</th>\n",
       "      <td>10/21</td>\n",
       "      <td>51.788</td>\n",
       "      <td>0.914</td>\n",
       "      <td>0.701</td>\n",
       "      <td>-0.984</td>\n",
       "      <td>Midongy Betofaka</td>\n",
       "    </tr>\n",
       "    <tr>\n",
       "      <th>200</th>\n",
       "      <td>10/21</td>\n",
       "      <td>51.788</td>\n",
       "      <td>0.934</td>\n",
       "      <td>0.196</td>\n",
       "      <td>-0.999</td>\n",
       "      <td>Tsimanampetsotsa</td>\n",
       "    </tr>\n",
       "    <tr>\n",
       "      <th>201</th>\n",
       "      <td>10/21</td>\n",
       "      <td>51.788</td>\n",
       "      <td>0.954</td>\n",
       "      <td>0.448</td>\n",
       "      <td>-0.248</td>\n",
       "      <td>d'Ankarafantsika</td>\n",
       "    </tr>\n",
       "    <tr>\n",
       "      <th>202</th>\n",
       "      <td>10/21</td>\n",
       "      <td>51.788</td>\n",
       "      <td>0.995</td>\n",
       "      <td>0.587</td>\n",
       "      <td>-0.995</td>\n",
       "      <td>Masoala</td>\n",
       "    </tr>\n",
       "    <tr>\n",
       "      <th>203</th>\n",
       "      <td>10/21</td>\n",
       "      <td>51.788</td>\n",
       "      <td>0.869</td>\n",
       "      <td>0.283</td>\n",
       "      <td>-0.700</td>\n",
       "      <td>Alan'Ankirisa</td>\n",
       "    </tr>\n",
       "  </tbody>\n",
       "</table>\n",
       "<p>204 rows × 6 columns</p>\n",
       "</div>"
      ],
      "text/plain": [
       "     Month  Years Since Epoch (t)  Max NDVI  Mean NDVI  Min NDVI  \\\n",
       "0    01/19                 49.039     0.977      0.764    -0.472   \n",
       "1    01/19                 49.039     0.999      0.791    -0.869   \n",
       "2    01/19                 49.039     0.905      0.503    -0.861   \n",
       "3    01/19                 49.039     0.999      0.737    -0.386   \n",
       "4    01/19                 49.039     1.000      0.550    -0.998   \n",
       "..     ...                    ...       ...        ...       ...   \n",
       "199  10/21                 51.788     0.914      0.701    -0.984   \n",
       "200  10/21                 51.788     0.934      0.196    -0.999   \n",
       "201  10/21                 51.788     0.954      0.448    -0.248   \n",
       "202  10/21                 51.788     0.995      0.587    -0.995   \n",
       "203  10/21                 51.788     0.869      0.283    -0.700   \n",
       "\n",
       "               Region  \n",
       "0        d'Andohahela  \n",
       "1    Midongy Betofaka  \n",
       "2    Tsimanampetsotsa  \n",
       "3    d'Ankarafantsika  \n",
       "4             Masoala  \n",
       "..                ...  \n",
       "199  Midongy Betofaka  \n",
       "200  Tsimanampetsotsa  \n",
       "201  d'Ankarafantsika  \n",
       "202           Masoala  \n",
       "203     Alan'Ankirisa  \n",
       "\n",
       "[204 rows x 6 columns]"
      ]
     },
     "execution_count": 17,
     "metadata": {},
     "output_type": "execute_result"
    }
   ],
   "source": [
    "df = pd.read_csv(\"regionalNDVI.csv\")\n",
    "df"
   ]
  },
  {
   "cell_type": "code",
   "execution_count": 18,
   "metadata": {
    "colab": {
     "base_uri": "https://localhost:8080/",
     "height": 785
    },
    "id": "yv6sOLeRifN-",
    "outputId": "00e1411e-236a-4d46-e894-2ab652f875c6"
   },
   "outputs": [
    {
     "data": {
      "text/html": [
       "\n",
       "<div id=\"altair-viz-2378368f515844cbb9b364bae2b84b37\"></div>\n",
       "<script type=\"text/javascript\">\n",
       "  (function(spec, embedOpt){\n",
       "    let outputDiv = document.currentScript.previousElementSibling;\n",
       "    if (outputDiv.id !== \"altair-viz-2378368f515844cbb9b364bae2b84b37\") {\n",
       "      outputDiv = document.getElementById(\"altair-viz-2378368f515844cbb9b364bae2b84b37\");\n",
       "    }\n",
       "    const paths = {\n",
       "      \"vega\": \"https://cdn.jsdelivr.net/npm//vega@5?noext\",\n",
       "      \"vega-lib\": \"https://cdn.jsdelivr.net/npm//vega-lib?noext\",\n",
       "      \"vega-lite\": \"https://cdn.jsdelivr.net/npm//vega-lite@4.8.1?noext\",\n",
       "      \"vega-embed\": \"https://cdn.jsdelivr.net/npm//vega-embed@6?noext\",\n",
       "    };\n",
       "\n",
       "    function loadScript(lib) {\n",
       "      return new Promise(function(resolve, reject) {\n",
       "        var s = document.createElement('script');\n",
       "        s.src = paths[lib];\n",
       "        s.async = true;\n",
       "        s.onload = () => resolve(paths[lib]);\n",
       "        s.onerror = () => reject(`Error loading script: ${paths[lib]}`);\n",
       "        document.getElementsByTagName(\"head\")[0].appendChild(s);\n",
       "      });\n",
       "    }\n",
       "\n",
       "    function showError(err) {\n",
       "      outputDiv.innerHTML = `<div class=\"error\" style=\"color:red;\">${err}</div>`;\n",
       "      throw err;\n",
       "    }\n",
       "\n",
       "    function displayChart(vegaEmbed) {\n",
       "      vegaEmbed(outputDiv, spec, embedOpt)\n",
       "        .catch(err => showError(`Javascript Error: ${err.message}<br>This usually means there's a typo in your chart specification. See the javascript console for the full traceback.`));\n",
       "    }\n",
       "\n",
       "    if(typeof define === \"function\" && define.amd) {\n",
       "      requirejs.config({paths});\n",
       "      require([\"vega-embed\"], displayChart, err => showError(`Error loading script: ${err.message}`));\n",
       "    } else if (typeof vegaEmbed === \"function\") {\n",
       "      displayChart(vegaEmbed);\n",
       "    } else {\n",
       "      loadScript(\"vega\")\n",
       "        .then(() => loadScript(\"vega-lite\"))\n",
       "        .then(() => loadScript(\"vega-embed\"))\n",
       "        .catch(showError)\n",
       "        .then(() => displayChart(vegaEmbed));\n",
       "    }\n",
       "  })({\"config\": {\"view\": {\"continuousWidth\": 400, \"continuousHeight\": 300}}, \"data\": {\"name\": \"data-8b4080baa770fa3c077bf675e847ec9a\"}, \"facet\": {\"type\": \"nominal\", \"field\": \"Region\"}, \"spec\": {\"layer\": [{\"mark\": \"line\", \"encoding\": {\"color\": {\"type\": \"nominal\", \"field\": \"Region\"}, \"x\": {\"type\": \"ordinal\", \"field\": \"Month\", \"sort\": [\"01/19\", \"02/19\", \"03/19\", \"04/19\", \"05/19\", \"06/19\", \"07/19\", \"08/19\", \"09/19\", \"10/19\", \"11/19\", \"12/19\", \"01/20\", \"02/20\", \"03/20\", \"04/20\", \"05/20\", \"06/20\", \"07/20\", \"08/20\", \"09/20\", \"10/20\", \"11/20\", \"12/20\", \"01/21\", \"02/21\", \"03/21\", \"04/21\", \"05/21\", \"06/21\", \"07/21\", \"08/21\", \"09/21\", \"10/21\"]}, \"y\": {\"type\": \"quantitative\", \"field\": \"Mean NDVI\"}}}, {\"mark\": {\"type\": \"circle\", \"size\": 45}, \"encoding\": {\"color\": {\"type\": \"nominal\", \"field\": \"Region\"}, \"tooltip\": [{\"type\": \"nominal\", \"field\": \"Month\"}, {\"type\": \"nominal\", \"field\": \"Region\"}, {\"type\": \"quantitative\", \"field\": \"Mean NDVI\"}], \"x\": {\"type\": \"ordinal\", \"field\": \"Month\", \"sort\": [\"01/19\", \"02/19\", \"03/19\", \"04/19\", \"05/19\", \"06/19\", \"07/19\", \"08/19\", \"09/19\", \"10/19\", \"11/19\", \"12/19\", \"01/20\", \"02/20\", \"03/20\", \"04/20\", \"05/20\", \"06/20\", \"07/20\", \"08/20\", \"09/20\", \"10/20\", \"11/20\", \"12/20\", \"01/21\", \"02/21\", \"03/21\", \"04/21\", \"05/21\", \"06/21\", \"07/21\", \"08/21\", \"09/21\", \"10/21\"]}, \"y\": {\"type\": \"quantitative\", \"field\": \"Mean NDVI\"}}}], \"height\": 300, \"title\": \"Quarterly Mean NDVI in Madagascar\", \"width\": 300}, \"columns\": 3, \"$schema\": \"https://vega.github.io/schema/vega-lite/v4.8.1.json\", \"datasets\": {\"data-8b4080baa770fa3c077bf675e847ec9a\": [{\"Month\": \"01/19\", \"Years Since Epoch (t)\": 49.039, \"Max NDVI\": 0.977, \"Mean NDVI\": 0.764, \"Min NDVI\": -0.472, \"Region\": \"d'Andohahela\"}, {\"Month\": \"01/19\", \"Years Since Epoch (t)\": 49.039, \"Max NDVI\": 0.999, \"Mean NDVI\": 0.791, \"Min NDVI\": -0.869, \"Region\": \"Midongy Betofaka\"}, {\"Month\": \"01/19\", \"Years Since Epoch (t)\": 49.039, \"Max NDVI\": 0.905, \"Mean NDVI\": 0.503, \"Min NDVI\": -0.861, \"Region\": \"Tsimanampetsotsa\"}, {\"Month\": \"01/19\", \"Years Since Epoch (t)\": 49.039, \"Max NDVI\": 0.999, \"Mean NDVI\": 0.737, \"Min NDVI\": -0.386, \"Region\": \"d'Ankarafantsika\"}, {\"Month\": \"01/19\", \"Years Since Epoch (t)\": 49.039, \"Max NDVI\": 1.0, \"Mean NDVI\": 0.55, \"Min NDVI\": -0.998, \"Region\": \"Masoala\"}, {\"Month\": \"01/19\", \"Years Since Epoch (t)\": 49.039, \"Max NDVI\": 0.938, \"Mean NDVI\": 0.577, \"Min NDVI\": -0.89, \"Region\": \"Alan'Ankirisa\"}, {\"Month\": \"02/19\", \"Years Since Epoch (t)\": 49.124, \"Max NDVI\": 0.998, \"Mean NDVI\": 0.766, \"Min NDVI\": -0.673, \"Region\": \"d'Andohahela\"}, {\"Month\": \"02/19\", \"Years Since Epoch (t)\": 49.124, \"Max NDVI\": 0.997, \"Mean NDVI\": 0.774, \"Min NDVI\": -0.614, \"Region\": \"Midongy Betofaka\"}, {\"Month\": \"02/19\", \"Years Since Epoch (t)\": 49.124, \"Max NDVI\": 0.921, \"Mean NDVI\": 0.52, \"Min NDVI\": -0.999, \"Region\": \"Tsimanampetsotsa\"}, {\"Month\": \"02/19\", \"Years Since Epoch (t)\": 49.124, \"Max NDVI\": 0.985, \"Mean NDVI\": 0.77, \"Min NDVI\": -0.386, \"Region\": \"d'Ankarafantsika\"}, {\"Month\": \"02/19\", \"Years Since Epoch (t)\": 49.124, \"Max NDVI\": 0.977, \"Mean NDVI\": 0.469, \"Min NDVI\": -0.995, \"Region\": \"Masoala\"}, {\"Month\": \"02/19\", \"Years Since Epoch (t)\": 49.124, \"Max NDVI\": 0.965, \"Mean NDVI\": 0.638, \"Min NDVI\": -0.731, \"Region\": \"Alan'Ankirisa\"}, {\"Month\": \"03/19\", \"Years Since Epoch (t)\": 49.2, \"Max NDVI\": 0.999, \"Mean NDVI\": 0.803, \"Min NDVI\": -0.544, \"Region\": \"d'Andohahela\"}, {\"Month\": \"03/19\", \"Years Since Epoch (t)\": 49.2, \"Max NDVI\": 0.995, \"Mean NDVI\": 0.815, \"Min NDVI\": -0.996, \"Region\": \"Midongy Betofaka\"}, {\"Month\": \"03/19\", \"Years Since Epoch (t)\": 49.2, \"Max NDVI\": 0.92, \"Mean NDVI\": 0.516, \"Min NDVI\": -0.998, \"Region\": \"Tsimanampetsotsa\"}, {\"Month\": \"03/19\", \"Years Since Epoch (t)\": 49.2, \"Max NDVI\": 0.999, \"Mean NDVI\": 0.777, \"Min NDVI\": -0.663, \"Region\": \"d'Ankarafantsika\"}, {\"Month\": \"03/19\", \"Years Since Epoch (t)\": 49.2, \"Max NDVI\": 0.999, \"Mean NDVI\": 0.578, \"Min NDVI\": -0.994, \"Region\": \"Masoala\"}, {\"Month\": \"03/19\", \"Years Since Epoch (t)\": 49.2, \"Max NDVI\": 0.937, \"Mean NDVI\": 0.661, \"Min NDVI\": -0.636, \"Region\": \"Alan'Ankirisa\"}, {\"Month\": \"04/19\", \"Years Since Epoch (t)\": 49.285, \"Max NDVI\": 0.999, \"Mean NDVI\": 0.781, \"Min NDVI\": -0.543, \"Region\": \"d'Andohahela\"}, {\"Month\": \"04/19\", \"Years Since Epoch (t)\": 49.285, \"Max NDVI\": 0.996, \"Mean NDVI\": 0.825, \"Min NDVI\": -0.705, \"Region\": \"Midongy Betofaka\"}, {\"Month\": \"04/19\", \"Years Since Epoch (t)\": 49.285, \"Max NDVI\": 0.937, \"Mean NDVI\": 0.459, \"Min NDVI\": -0.891, \"Region\": \"Tsimanampetsotsa\"}, {\"Month\": \"04/19\", \"Years Since Epoch (t)\": 49.285, \"Max NDVI\": 0.999, \"Mean NDVI\": 0.768, \"Min NDVI\": -0.614, \"Region\": \"d'Ankarafantsika\"}, {\"Month\": \"04/19\", \"Years Since Epoch (t)\": 49.285, \"Max NDVI\": 0.999, \"Mean NDVI\": 0.451, \"Min NDVI\": -0.997, \"Region\": \"Masoala\"}, {\"Month\": \"04/19\", \"Years Since Epoch (t)\": 49.285, \"Max NDVI\": 0.958, \"Mean NDVI\": 0.582, \"Min NDVI\": -0.534, \"Region\": \"Alan'Ankirisa\"}, {\"Month\": \"05/19\", \"Years Since Epoch (t)\": 49.367, \"Max NDVI\": 1.0, \"Mean NDVI\": 0.797, \"Min NDVI\": -0.722, \"Region\": \"d'Andohahela\"}, {\"Month\": \"05/19\", \"Years Since Epoch (t)\": 49.367, \"Max NDVI\": 0.999, \"Mean NDVI\": 0.835, \"Min NDVI\": -0.98, \"Region\": \"Midongy Betofaka\"}, {\"Month\": \"05/19\", \"Years Since Epoch (t)\": 49.367, \"Max NDVI\": 0.925, \"Mean NDVI\": 0.436, \"Min NDVI\": -0.998, \"Region\": \"Tsimanampetsotsa\"}, {\"Month\": \"05/19\", \"Years Since Epoch (t)\": 49.367, \"Max NDVI\": 0.993, \"Mean NDVI\": 0.732, \"Min NDVI\": -0.499, \"Region\": \"d'Ankarafantsika\"}, {\"Month\": \"05/19\", \"Years Since Epoch (t)\": 49.367, \"Max NDVI\": 0.999, \"Mean NDVI\": 0.566, \"Min NDVI\": -0.994, \"Region\": \"Masoala\"}, {\"Month\": \"05/19\", \"Years Since Epoch (t)\": 49.367, \"Max NDVI\": 0.999, \"Mean NDVI\": 0.493, \"Min NDVI\": -0.601, \"Region\": \"Alan'Ankirisa\"}, {\"Month\": \"06/19\", \"Years Since Epoch (t)\": 49.452, \"Max NDVI\": 0.999, \"Mean NDVI\": 0.757, \"Min NDVI\": -0.951, \"Region\": \"d'Andohahela\"}, {\"Month\": \"06/19\", \"Years Since Epoch (t)\": 49.452, \"Max NDVI\": 0.999, \"Mean NDVI\": 0.813, \"Min NDVI\": -0.976, \"Region\": \"Midongy Betofaka\"}, {\"Month\": \"06/19\", \"Years Since Epoch (t)\": 49.452, \"Max NDVI\": 0.999, \"Mean NDVI\": 0.412, \"Min NDVI\": -0.999, \"Region\": \"Tsimanampetsotsa\"}, {\"Month\": \"06/19\", \"Years Since Epoch (t)\": 49.452, \"Max NDVI\": 0.999, \"Mean NDVI\": 0.677, \"Min NDVI\": -0.526, \"Region\": \"d'Ankarafantsika\"}, {\"Month\": \"06/19\", \"Years Since Epoch (t)\": 49.452, \"Max NDVI\": 1.0, \"Mean NDVI\": 0.443, \"Min NDVI\": -0.997, \"Region\": \"Masoala\"}, {\"Month\": \"06/19\", \"Years Since Epoch (t)\": 49.452, \"Max NDVI\": 0.959, \"Mean NDVI\": 0.477, \"Min NDVI\": -0.658, \"Region\": \"Alan'Ankirisa\"}, {\"Month\": \"07/19\", \"Years Since Epoch (t)\": 49.534, \"Max NDVI\": 0.999, \"Mean NDVI\": 0.771, \"Min NDVI\": -0.675, \"Region\": \"d'Andohahela\"}, {\"Month\": \"07/19\", \"Years Since Epoch (t)\": 49.534, \"Max NDVI\": 0.999, \"Mean NDVI\": 0.826, \"Min NDVI\": -0.99, \"Region\": \"Midongy Betofaka\"}, {\"Month\": \"07/19\", \"Years Since Epoch (t)\": 49.534, \"Max NDVI\": 1.0, \"Mean NDVI\": 0.403, \"Min NDVI\": -0.999, \"Region\": \"Tsimanampetsotsa\"}, {\"Month\": \"07/19\", \"Years Since Epoch (t)\": 49.534, \"Max NDVI\": 0.988, \"Mean NDVI\": 0.628, \"Min NDVI\": -0.345, \"Region\": \"d'Ankarafantsika\"}, {\"Month\": \"07/19\", \"Years Since Epoch (t)\": 49.534, \"Max NDVI\": 0.999, \"Mean NDVI\": 0.35, \"Min NDVI\": -0.996, \"Region\": \"Masoala\"}, {\"Month\": \"07/19\", \"Years Since Epoch (t)\": 49.534, \"Max NDVI\": 0.893, \"Mean NDVI\": 0.421, \"Min NDVI\": -0.639, \"Region\": \"Alan'Ankirisa\"}, {\"Month\": \"08/19\", \"Years Since Epoch (t)\": 49.619, \"Max NDVI\": 0.997, \"Mean NDVI\": 0.726, \"Min NDVI\": -0.521, \"Region\": \"d'Andohahela\"}, {\"Month\": \"08/19\", \"Years Since Epoch (t)\": 49.619, \"Max NDVI\": 0.962, \"Mean NDVI\": 0.778, \"Min NDVI\": -0.632, \"Region\": \"Midongy Betofaka\"}, {\"Month\": \"08/19\", \"Years Since Epoch (t)\": 49.619, \"Max NDVI\": 0.999, \"Mean NDVI\": 0.314, \"Min NDVI\": -0.999, \"Region\": \"Tsimanampetsotsa\"}, {\"Month\": \"08/19\", \"Years Since Epoch (t)\": 49.619, \"Max NDVI\": 0.994, \"Mean NDVI\": 0.574, \"Min NDVI\": -0.328, \"Region\": \"d'Ankarafantsika\"}, {\"Month\": \"08/19\", \"Years Since Epoch (t)\": 49.619, \"Max NDVI\": 0.973, \"Mean NDVI\": 0.439, \"Min NDVI\": -0.995, \"Region\": \"Masoala\"}, {\"Month\": \"08/19\", \"Years Since Epoch (t)\": 49.619, \"Max NDVI\": 0.916, \"Mean NDVI\": 0.376, \"Min NDVI\": -0.999, \"Region\": \"Alan'Ankirisa\"}, {\"Month\": \"09/19\", \"Years Since Epoch (t)\": 49.704, \"Max NDVI\": 0.948, \"Mean NDVI\": 0.71, \"Min NDVI\": -0.371, \"Region\": \"d'Andohahela\"}, {\"Month\": \"09/19\", \"Years Since Epoch (t)\": 49.704, \"Max NDVI\": 0.911, \"Mean NDVI\": 0.721, \"Min NDVI\": -0.648, \"Region\": \"Midongy Betofaka\"}, {\"Month\": \"09/19\", \"Years Since Epoch (t)\": 49.704, \"Max NDVI\": 0.911, \"Mean NDVI\": 0.271, \"Min NDVI\": -0.942, \"Region\": \"Tsimanampetsotsa\"}, {\"Month\": \"09/19\", \"Years Since Epoch (t)\": 49.704, \"Max NDVI\": 0.909, \"Mean NDVI\": 0.508, \"Min NDVI\": -0.32, \"Region\": \"d'Ankarafantsika\"}, {\"Month\": \"09/19\", \"Years Since Epoch (t)\": 49.704, \"Max NDVI\": 0.999, \"Mean NDVI\": 0.515, \"Min NDVI\": -0.997, \"Region\": \"Masoala\"}, {\"Month\": \"09/19\", \"Years Since Epoch (t)\": 49.704, \"Max NDVI\": 0.878, \"Mean NDVI\": 0.327, \"Min NDVI\": -0.657, \"Region\": \"Alan'Ankirisa\"}, {\"Month\": \"10/19\", \"Years Since Epoch (t)\": 49.786, \"Max NDVI\": 0.925, \"Mean NDVI\": 0.687, \"Min NDVI\": -0.453, \"Region\": \"d'Andohahela\"}, {\"Month\": \"10/19\", \"Years Since Epoch (t)\": 49.786, \"Max NDVI\": 0.919, \"Mean NDVI\": 0.738, \"Min NDVI\": -0.87, \"Region\": \"Midongy Betofaka\"}, {\"Month\": \"10/19\", \"Years Since Epoch (t)\": 49.786, \"Max NDVI\": 0.925, \"Mean NDVI\": 0.253, \"Min NDVI\": -0.999, \"Region\": \"Tsimanampetsotsa\"}, {\"Month\": \"10/19\", \"Years Since Epoch (t)\": 49.786, \"Max NDVI\": 0.877, \"Mean NDVI\": 0.489, \"Min NDVI\": -0.175, \"Region\": \"d'Ankarafantsika\"}, {\"Month\": \"10/19\", \"Years Since Epoch (t)\": 49.786, \"Max NDVI\": 0.999, \"Mean NDVI\": 0.477, \"Min NDVI\": -0.997, \"Region\": \"Masoala\"}, {\"Month\": \"10/19\", \"Years Since Epoch (t)\": 49.786, \"Max NDVI\": 0.863, \"Mean NDVI\": 0.257, \"Min NDVI\": -0.504, \"Region\": \"Alan'Ankirisa\"}, {\"Month\": \"11/19\", \"Years Since Epoch (t)\": 49.871, \"Max NDVI\": 0.933, \"Mean NDVI\": 0.704, \"Min NDVI\": -0.448, \"Region\": \"d'Andohahela\"}, {\"Month\": \"11/19\", \"Years Since Epoch (t)\": 49.871, \"Max NDVI\": 0.944, \"Mean NDVI\": 0.757, \"Min NDVI\": -0.974, \"Region\": \"Midongy Betofaka\"}, {\"Month\": \"11/19\", \"Years Since Epoch (t)\": 49.871, \"Max NDVI\": 0.921, \"Mean NDVI\": 0.359, \"Min NDVI\": -0.999, \"Region\": \"Tsimanampetsotsa\"}, {\"Month\": \"11/19\", \"Years Since Epoch (t)\": 49.871, \"Max NDVI\": 0.999, \"Mean NDVI\": 0.562, \"Min NDVI\": -0.345, \"Region\": \"d'Ankarafantsika\"}, {\"Month\": \"11/19\", \"Years Since Epoch (t)\": 49.871, \"Max NDVI\": 0.984, \"Mean NDVI\": 0.5, \"Min NDVI\": -0.998, \"Region\": \"Masoala\"}, {\"Month\": \"11/19\", \"Years Since Epoch (t)\": 49.871, \"Max NDVI\": 0.98, \"Mean NDVI\": 0.317, \"Min NDVI\": -0.513, \"Region\": \"Alan'Ankirisa\"}, {\"Month\": \"12/19\", \"Years Since Epoch (t)\": 49.953, \"Max NDVI\": 0.951, \"Mean NDVI\": 0.74, \"Min NDVI\": -0.491, \"Region\": \"d'Andohahela\"}, {\"Month\": \"12/19\", \"Years Since Epoch (t)\": 49.953, \"Max NDVI\": 0.999, \"Mean NDVI\": 0.735, \"Min NDVI\": -0.768, \"Region\": \"Midongy Betofaka\"}, {\"Month\": \"12/19\", \"Years Since Epoch (t)\": 49.953, \"Max NDVI\": 0.957, \"Mean NDVI\": 0.371, \"Min NDVI\": -0.999, \"Region\": \"Tsimanampetsotsa\"}, {\"Month\": \"12/19\", \"Years Since Epoch (t)\": 49.953, \"Max NDVI\": 0.962, \"Mean NDVI\": 0.705, \"Min NDVI\": -0.338, \"Region\": \"d'Ankarafantsika\"}, {\"Month\": \"12/19\", \"Years Since Epoch (t)\": 49.953, \"Max NDVI\": 1.0, \"Mean NDVI\": 0.474, \"Min NDVI\": -1.0, \"Region\": \"Masoala\"}, {\"Month\": \"12/19\", \"Years Since Epoch (t)\": 49.953, \"Max NDVI\": 0.943, \"Mean NDVI\": 0.506, \"Min NDVI\": -0.662, \"Region\": \"Alan'Ankirisa\"}, {\"Month\": \"01/20\", \"Years Since Epoch (t)\": 50.038, \"Max NDVI\": 0.945, \"Mean NDVI\": 0.709, \"Min NDVI\": -0.402, \"Region\": \"d'Andohahela\"}, {\"Month\": \"01/20\", \"Years Since Epoch (t)\": 50.038, \"Max NDVI\": 0.998, \"Mean NDVI\": 0.766, \"Min NDVI\": -0.56, \"Region\": \"Midongy Betofaka\"}, {\"Month\": \"01/20\", \"Years Since Epoch (t)\": 50.038, \"Max NDVI\": 0.925, \"Mean NDVI\": 0.379, \"Min NDVI\": -0.999, \"Region\": \"Tsimanampetsotsa\"}, {\"Month\": \"01/20\", \"Years Since Epoch (t)\": 50.038, \"Max NDVI\": 0.921, \"Mean NDVI\": 0.734, \"Min NDVI\": -0.373, \"Region\": \"d'Ankarafantsika\"}, {\"Month\": \"01/20\", \"Years Since Epoch (t)\": 50.038, \"Max NDVI\": 0.992, \"Mean NDVI\": 0.4, \"Min NDVI\": -0.997, \"Region\": \"Masoala\"}, {\"Month\": \"01/20\", \"Years Since Epoch (t)\": 50.038, \"Max NDVI\": 0.968, \"Mean NDVI\": 0.671, \"Min NDVI\": -0.803, \"Region\": \"Alan'Ankirisa\"}, {\"Month\": \"02/20\", \"Years Since Epoch (t)\": 50.123, \"Max NDVI\": 0.995, \"Mean NDVI\": 0.7, \"Min NDVI\": -0.984, \"Region\": \"d'Andohahela\"}, {\"Month\": \"02/20\", \"Years Since Epoch (t)\": 50.123, \"Max NDVI\": 0.972, \"Mean NDVI\": 0.78, \"Min NDVI\": -0.979, \"Region\": \"Midongy Betofaka\"}, {\"Month\": \"02/20\", \"Years Since Epoch (t)\": 50.123, \"Max NDVI\": 0.909, \"Mean NDVI\": 0.437, \"Min NDVI\": -0.999, \"Region\": \"Tsimanampetsotsa\"}, {\"Month\": \"02/20\", \"Years Since Epoch (t)\": 50.123, \"Max NDVI\": 0.998, \"Mean NDVI\": 0.804, \"Min NDVI\": -0.54, \"Region\": \"d'Ankarafantsika\"}, {\"Month\": \"02/20\", \"Years Since Epoch (t)\": 50.123, \"Max NDVI\": 0.999, \"Mean NDVI\": 0.549, \"Min NDVI\": -0.998, \"Region\": \"Masoala\"}, {\"Month\": \"02/20\", \"Years Since Epoch (t)\": 50.123, \"Max NDVI\": 0.999, \"Mean NDVI\": 0.698, \"Min NDVI\": -0.996, \"Region\": \"Alan'Ankirisa\"}, {\"Month\": \"03/20\", \"Years Since Epoch (t)\": 50.202, \"Max NDVI\": 0.965, \"Mean NDVI\": 0.719, \"Min NDVI\": -0.603, \"Region\": \"d'Andohahela\"}, {\"Month\": \"03/20\", \"Years Since Epoch (t)\": 50.202, \"Max NDVI\": 1.0, \"Mean NDVI\": 0.809, \"Min NDVI\": -0.996, \"Region\": \"Midongy Betofaka\"}, {\"Month\": \"03/20\", \"Years Since Epoch (t)\": 50.202, \"Max NDVI\": 0.884, \"Mean NDVI\": 0.394, \"Min NDVI\": -0.971, \"Region\": \"Tsimanampetsotsa\"}, {\"Month\": \"03/20\", \"Years Since Epoch (t)\": 50.202, \"Max NDVI\": 0.999, \"Mean NDVI\": 0.804, \"Min NDVI\": -0.68, \"Region\": \"d'Ankarafantsika\"}, {\"Month\": \"03/20\", \"Years Since Epoch (t)\": 50.202, \"Max NDVI\": 0.999, \"Mean NDVI\": 0.456, \"Min NDVI\": -0.998, \"Region\": \"Masoala\"}, {\"Month\": \"03/20\", \"Years Since Epoch (t)\": 50.202, \"Max NDVI\": 0.942, \"Mean NDVI\": 0.658, \"Min NDVI\": -0.784, \"Region\": \"Alan'Ankirisa\"}, {\"Month\": \"04/20\", \"Years Since Epoch (t)\": 50.287, \"Max NDVI\": 0.999, \"Mean NDVI\": 0.801, \"Min NDVI\": -0.58, \"Region\": \"d'Andohahela\"}, {\"Month\": \"04/20\", \"Years Since Epoch (t)\": 50.287, \"Max NDVI\": 0.999, \"Mean NDVI\": 0.788, \"Min NDVI\": -0.992, \"Region\": \"Midongy Betofaka\"}, {\"Month\": \"04/20\", \"Years Since Epoch (t)\": 50.287, \"Max NDVI\": 0.944, \"Mean NDVI\": 0.403, \"Min NDVI\": -0.986, \"Region\": \"Tsimanampetsotsa\"}, {\"Month\": \"04/20\", \"Years Since Epoch (t)\": 50.287, \"Max NDVI\": 0.955, \"Mean NDVI\": 0.759, \"Min NDVI\": -0.431, \"Region\": \"d'Ankarafantsika\"}, {\"Month\": \"04/20\", \"Years Since Epoch (t)\": 50.287, \"Max NDVI\": 0.998, \"Mean NDVI\": 0.349, \"Min NDVI\": -0.998, \"Region\": \"Masoala\"}, {\"Month\": \"04/20\", \"Years Since Epoch (t)\": 50.287, \"Max NDVI\": 0.924, \"Mean NDVI\": 0.599, \"Min NDVI\": -0.547, \"Region\": \"Alan'Ankirisa\"}, {\"Month\": \"05/20\", \"Years Since Epoch (t)\": 50.369, \"Max NDVI\": 0.999, \"Mean NDVI\": 0.778, \"Min NDVI\": -0.487, \"Region\": \"d'Andohahela\"}, {\"Month\": \"05/20\", \"Years Since Epoch (t)\": 50.369, \"Max NDVI\": 0.999, \"Mean NDVI\": 0.819, \"Min NDVI\": -0.866, \"Region\": \"Midongy Betofaka\"}, {\"Month\": \"05/20\", \"Years Since Epoch (t)\": 50.369, \"Max NDVI\": 0.999, \"Mean NDVI\": 0.394, \"Min NDVI\": -0.999, \"Region\": \"Tsimanampetsotsa\"}, {\"Month\": \"05/20\", \"Years Since Epoch (t)\": 50.369, \"Max NDVI\": 0.942, \"Mean NDVI\": 0.712, \"Min NDVI\": -0.458, \"Region\": \"d'Ankarafantsika\"}, {\"Month\": \"05/20\", \"Years Since Epoch (t)\": 50.369, \"Max NDVI\": 0.999, \"Mean NDVI\": 0.539, \"Min NDVI\": -0.997, \"Region\": \"Masoala\"}, {\"Month\": \"05/20\", \"Years Since Epoch (t)\": 50.369, \"Max NDVI\": 0.999, \"Mean NDVI\": 0.555, \"Min NDVI\": -0.732, \"Region\": \"Alan'Ankirisa\"}, {\"Month\": \"06/20\", \"Years Since Epoch (t)\": 50.454, \"Max NDVI\": 0.999, \"Mean NDVI\": 0.758, \"Min NDVI\": -0.48, \"Region\": \"d'Andohahela\"}, {\"Month\": \"06/20\", \"Years Since Epoch (t)\": 50.454, \"Max NDVI\": 0.999, \"Mean NDVI\": 0.801, \"Min NDVI\": -0.606, \"Region\": \"Midongy Betofaka\"}, {\"Month\": \"06/20\", \"Years Since Epoch (t)\": 50.454, \"Max NDVI\": 0.999, \"Mean NDVI\": 0.368, \"Min NDVI\": -0.999, \"Region\": \"Tsimanampetsotsa\"}, {\"Month\": \"06/20\", \"Years Since Epoch (t)\": 50.454, \"Max NDVI\": 0.982, \"Mean NDVI\": 0.677, \"Min NDVI\": -0.388, \"Region\": \"d'Ankarafantsika\"}, {\"Month\": \"06/20\", \"Years Since Epoch (t)\": 50.454, \"Max NDVI\": 0.998, \"Mean NDVI\": 0.45, \"Min NDVI\": -0.974, \"Region\": \"Masoala\"}, {\"Month\": \"06/20\", \"Years Since Epoch (t)\": 50.454, \"Max NDVI\": 0.94, \"Mean NDVI\": 0.502, \"Min NDVI\": -0.742, \"Region\": \"Alan'Ankirisa\"}, {\"Month\": \"07/20\", \"Years Since Epoch (t)\": 50.536, \"Max NDVI\": 0.999, \"Mean NDVI\": 0.744, \"Min NDVI\": -0.427, \"Region\": \"d'Andohahela\"}, {\"Month\": \"07/20\", \"Years Since Epoch (t)\": 50.536, \"Max NDVI\": 0.999, \"Mean NDVI\": 0.797, \"Min NDVI\": -0.92, \"Region\": \"Midongy Betofaka\"}, {\"Month\": \"07/20\", \"Years Since Epoch (t)\": 50.536, \"Max NDVI\": 0.999, \"Mean NDVI\": 0.318, \"Min NDVI\": -0.999, \"Region\": \"Tsimanampetsotsa\"}, {\"Month\": \"07/20\", \"Years Since Epoch (t)\": 50.536, \"Max NDVI\": 0.955, \"Mean NDVI\": 0.648, \"Min NDVI\": -0.387, \"Region\": \"d'Ankarafantsika\"}, {\"Month\": \"07/20\", \"Years Since Epoch (t)\": 50.536, \"Max NDVI\": 1.0, \"Mean NDVI\": 0.446, \"Min NDVI\": -0.992, \"Region\": \"Masoala\"}, {\"Month\": \"07/20\", \"Years Since Epoch (t)\": 50.536, \"Max NDVI\": 0.94, \"Mean NDVI\": 0.424, \"Min NDVI\": -0.999, \"Region\": \"Alan'Ankirisa\"}, {\"Month\": \"08/20\", \"Years Since Epoch (t)\": 50.621, \"Max NDVI\": 0.998, \"Mean NDVI\": 0.69, \"Min NDVI\": -0.405, \"Region\": \"d'Andohahela\"}, {\"Month\": \"08/20\", \"Years Since Epoch (t)\": 50.621, \"Max NDVI\": 0.999, \"Mean NDVI\": 0.765, \"Min NDVI\": -0.993, \"Region\": \"Midongy Betofaka\"}, {\"Month\": \"08/20\", \"Years Since Epoch (t)\": 50.621, \"Max NDVI\": 0.946, \"Mean NDVI\": 0.24, \"Min NDVI\": -0.999, \"Region\": \"Tsimanampetsotsa\"}, {\"Month\": \"08/20\", \"Years Since Epoch (t)\": 50.621, \"Max NDVI\": 0.956, \"Mean NDVI\": 0.579, \"Min NDVI\": -0.527, \"Region\": \"d'Ankarafantsika\"}, {\"Month\": \"08/20\", \"Years Since Epoch (t)\": 50.621, \"Max NDVI\": 0.999, \"Mean NDVI\": 0.294, \"Min NDVI\": -0.998, \"Region\": \"Masoala\"}, {\"Month\": \"08/20\", \"Years Since Epoch (t)\": 50.621, \"Max NDVI\": 0.894, \"Mean NDVI\": 0.358, \"Min NDVI\": -0.604, \"Region\": \"Alan'Ankirisa\"}, {\"Month\": \"09/20\", \"Years Since Epoch (t)\": 50.706, \"Max NDVI\": 0.932, \"Mean NDVI\": 0.671, \"Min NDVI\": -0.427, \"Region\": \"d'Andohahela\"}, {\"Month\": \"09/20\", \"Years Since Epoch (t)\": 50.706, \"Max NDVI\": 0.905, \"Mean NDVI\": 0.714, \"Min NDVI\": -0.855, \"Region\": \"Midongy Betofaka\"}, {\"Month\": \"09/20\", \"Years Since Epoch (t)\": 50.706, \"Max NDVI\": 0.916, \"Mean NDVI\": 0.225, \"Min NDVI\": -0.999, \"Region\": \"Tsimanampetsotsa\"}, {\"Month\": \"09/20\", \"Years Since Epoch (t)\": 50.706, \"Max NDVI\": 0.894, \"Mean NDVI\": 0.496, \"Min NDVI\": -0.24, \"Region\": \"d'Ankarafantsika\"}, {\"Month\": \"09/20\", \"Years Since Epoch (t)\": 50.706, \"Max NDVI\": 0.999, \"Mean NDVI\": 0.441, \"Min NDVI\": -0.998, \"Region\": \"Masoala\"}, {\"Month\": \"09/20\", \"Years Since Epoch (t)\": 50.706, \"Max NDVI\": 0.862, \"Mean NDVI\": 0.305, \"Min NDVI\": -0.587, \"Region\": \"Alan'Ankirisa\"}, {\"Month\": \"10/20\", \"Years Since Epoch (t)\": 50.788, \"Max NDVI\": 0.916, \"Mean NDVI\": 0.655, \"Min NDVI\": -0.378, \"Region\": \"d'Andohahela\"}, {\"Month\": \"10/20\", \"Years Since Epoch (t)\": 50.788, \"Max NDVI\": 0.915, \"Mean NDVI\": 0.729, \"Min NDVI\": -0.64, \"Region\": \"Midongy Betofaka\"}, {\"Month\": \"10/20\", \"Years Since Epoch (t)\": 50.788, \"Max NDVI\": 0.907, \"Mean NDVI\": 0.197, \"Min NDVI\": -0.999, \"Region\": \"Tsimanampetsotsa\"}, {\"Month\": \"10/20\", \"Years Since Epoch (t)\": 50.788, \"Max NDVI\": 0.998, \"Mean NDVI\": 0.646, \"Min NDVI\": -0.322, \"Region\": \"d'Ankarafantsika\"}, {\"Month\": \"10/20\", \"Years Since Epoch (t)\": 50.788, \"Max NDVI\": 0.996, \"Mean NDVI\": 0.51, \"Min NDVI\": -0.997, \"Region\": \"Masoala\"}, {\"Month\": \"10/20\", \"Years Since Epoch (t)\": 50.788, \"Max NDVI\": 0.873, \"Mean NDVI\": 0.306, \"Min NDVI\": -0.463, \"Region\": \"Alan'Ankirisa\"}, {\"Month\": \"11/20\", \"Years Since Epoch (t)\": 50.873, \"Max NDVI\": 0.939, \"Mean NDVI\": 0.673, \"Min NDVI\": -0.306, \"Region\": \"d'Andohahela\"}, {\"Month\": \"11/20\", \"Years Since Epoch (t)\": 50.873, \"Max NDVI\": 0.92, \"Mean NDVI\": 0.718, \"Min NDVI\": -0.979, \"Region\": \"Midongy Betofaka\"}, {\"Month\": \"11/20\", \"Years Since Epoch (t)\": 50.873, \"Max NDVI\": 0.916, \"Mean NDVI\": 0.193, \"Min NDVI\": -0.999, \"Region\": \"Tsimanampetsotsa\"}, {\"Month\": \"11/20\", \"Years Since Epoch (t)\": 50.873, \"Max NDVI\": 0.903, \"Mean NDVI\": 0.596, \"Min NDVI\": -0.282, \"Region\": \"d'Ankarafantsika\"}, {\"Month\": \"11/20\", \"Years Since Epoch (t)\": 50.873, \"Max NDVI\": 0.997, \"Mean NDVI\": 0.561, \"Min NDVI\": -0.998, \"Region\": \"Masoala\"}, {\"Month\": \"11/20\", \"Years Since Epoch (t)\": 50.873, \"Max NDVI\": 0.863, \"Mean NDVI\": 0.297, \"Min NDVI\": -0.433, \"Region\": \"Alan'Ankirisa\"}, {\"Month\": \"12/20\", \"Years Since Epoch (t)\": 50.955, \"Max NDVI\": 0.956, \"Mean NDVI\": 0.679, \"Min NDVI\": -0.269, \"Region\": \"d'Andohahela\"}, {\"Month\": \"12/20\", \"Years Since Epoch (t)\": 50.955, \"Max NDVI\": 0.929, \"Mean NDVI\": 0.727, \"Min NDVI\": -0.605, \"Region\": \"Midongy Betofaka\"}, {\"Month\": \"12/20\", \"Years Since Epoch (t)\": 50.955, \"Max NDVI\": 0.996, \"Mean NDVI\": 0.211, \"Min NDVI\": -0.999, \"Region\": \"Tsimanampetsotsa\"}, {\"Month\": \"12/20\", \"Years Since Epoch (t)\": 50.955, \"Max NDVI\": 0.999, \"Mean NDVI\": 0.686, \"Min NDVI\": -0.501, \"Region\": \"d'Ankarafantsika\"}, {\"Month\": \"12/20\", \"Years Since Epoch (t)\": 50.955, \"Max NDVI\": 0.996, \"Mean NDVI\": 0.491, \"Min NDVI\": -0.998, \"Region\": \"Masoala\"}, {\"Month\": \"12/20\", \"Years Since Epoch (t)\": 50.955, \"Max NDVI\": 0.982, \"Mean NDVI\": 0.425, \"Min NDVI\": -0.479, \"Region\": \"Alan'Ankirisa\"}, {\"Month\": \"01/21\", \"Years Since Epoch (t)\": 51.04, \"Max NDVI\": 0.989, \"Mean NDVI\": 0.696, \"Min NDVI\": -0.471, \"Region\": \"d'Andohahela\"}, {\"Month\": \"01/21\", \"Years Since Epoch (t)\": 51.04, \"Max NDVI\": 0.96, \"Mean NDVI\": 0.786, \"Min NDVI\": -0.65, \"Region\": \"Midongy Betofaka\"}, {\"Month\": \"01/21\", \"Years Since Epoch (t)\": 51.04, \"Max NDVI\": 0.964, \"Mean NDVI\": 0.257, \"Min NDVI\": -0.999, \"Region\": \"Tsimanampetsotsa\"}, {\"Month\": \"01/21\", \"Years Since Epoch (t)\": 51.04, \"Max NDVI\": 0.999, \"Mean NDVI\": 0.716, \"Min NDVI\": -0.513, \"Region\": \"d'Ankarafantsika\"}, {\"Month\": \"01/21\", \"Years Since Epoch (t)\": 51.04, \"Max NDVI\": 0.999, \"Mean NDVI\": 0.487, \"Min NDVI\": -0.996, \"Region\": \"Masoala\"}, {\"Month\": \"01/21\", \"Years Since Epoch (t)\": 51.04, \"Max NDVI\": 0.952, \"Mean NDVI\": 0.635, \"Min NDVI\": -0.824, \"Region\": \"Alan'Ankirisa\"}, {\"Month\": \"02/21\", \"Years Since Epoch (t)\": 51.125, \"Max NDVI\": 0.975, \"Mean NDVI\": 0.714, \"Min NDVI\": -0.435, \"Region\": \"d'Andohahela\"}, {\"Month\": \"02/21\", \"Years Since Epoch (t)\": 51.125, \"Max NDVI\": 0.999, \"Mean NDVI\": 0.782, \"Min NDVI\": -0.646, \"Region\": \"Midongy Betofaka\"}, {\"Month\": \"02/21\", \"Years Since Epoch (t)\": 51.125, \"Max NDVI\": 0.93, \"Mean NDVI\": 0.304, \"Min NDVI\": -0.999, \"Region\": \"Tsimanampetsotsa\"}, {\"Month\": \"02/21\", \"Years Since Epoch (t)\": 51.125, \"Max NDVI\": 0.999, \"Mean NDVI\": 0.707, \"Min NDVI\": -0.42, \"Region\": \"d'Ankarafantsika\"}, {\"Month\": \"02/21\", \"Years Since Epoch (t)\": 51.125, \"Max NDVI\": 0.999, \"Mean NDVI\": 0.422, \"Min NDVI\": -0.998, \"Region\": \"Masoala\"}, {\"Month\": \"02/21\", \"Years Since Epoch (t)\": 51.125, \"Max NDVI\": 0.931, \"Mean NDVI\": 0.711, \"Min NDVI\": -0.554, \"Region\": \"Alan'Ankirisa\"}, {\"Month\": \"03/21\", \"Years Since Epoch (t)\": 51.202, \"Max NDVI\": 0.999, \"Mean NDVI\": 0.762, \"Min NDVI\": -0.491, \"Region\": \"d'Andohahela\"}, {\"Month\": \"03/21\", \"Years Since Epoch (t)\": 51.202, \"Max NDVI\": 0.999, \"Mean NDVI\": 0.792, \"Min NDVI\": -0.995, \"Region\": \"Midongy Betofaka\"}, {\"Month\": \"03/21\", \"Years Since Epoch (t)\": 51.202, \"Max NDVI\": 0.901, \"Mean NDVI\": 0.425, \"Min NDVI\": -0.947, \"Region\": \"Tsimanampetsotsa\"}, {\"Month\": \"03/21\", \"Years Since Epoch (t)\": 51.202, \"Max NDVI\": 0.998, \"Mean NDVI\": 0.771, \"Min NDVI\": -0.511, \"Region\": \"d'Ankarafantsika\"}, {\"Month\": \"03/21\", \"Years Since Epoch (t)\": 51.202, \"Max NDVI\": 1.0, \"Mean NDVI\": 0.523, \"Min NDVI\": -0.997, \"Region\": \"Masoala\"}, {\"Month\": \"03/21\", \"Years Since Epoch (t)\": 51.202, \"Max NDVI\": 0.984, \"Mean NDVI\": 0.702, \"Min NDVI\": -0.768, \"Region\": \"Alan'Ankirisa\"}, {\"Month\": \"04/21\", \"Years Since Epoch (t)\": 51.286, \"Max NDVI\": 0.999, \"Mean NDVI\": 0.773, \"Min NDVI\": -0.507, \"Region\": \"d'Andohahela\"}, {\"Month\": \"04/21\", \"Years Since Epoch (t)\": 51.286, \"Max NDVI\": 0.998, \"Mean NDVI\": 0.815, \"Min NDVI\": -0.754, \"Region\": \"Midongy Betofaka\"}, {\"Month\": \"04/21\", \"Years Since Epoch (t)\": 51.286, \"Max NDVI\": 1.0, \"Mean NDVI\": 0.41, \"Min NDVI\": -0.999, \"Region\": \"Tsimanampetsotsa\"}, {\"Month\": \"04/21\", \"Years Since Epoch (t)\": 51.286, \"Max NDVI\": 0.962, \"Mean NDVI\": 0.749, \"Min NDVI\": -0.459, \"Region\": \"d'Ankarafantsika\"}, {\"Month\": \"04/21\", \"Years Since Epoch (t)\": 51.286, \"Max NDVI\": 0.999, \"Mean NDVI\": 0.531, \"Min NDVI\": -0.997, \"Region\": \"Masoala\"}, {\"Month\": \"04/21\", \"Years Since Epoch (t)\": 51.286, \"Max NDVI\": 0.927, \"Mean NDVI\": 0.62, \"Min NDVI\": -0.68, \"Region\": \"Alan'Ankirisa\"}, {\"Month\": \"05/21\", \"Years Since Epoch (t)\": 51.369, \"Max NDVI\": 0.999, \"Mean NDVI\": 0.751, \"Min NDVI\": -0.459, \"Region\": \"d'Andohahela\"}, {\"Month\": \"05/21\", \"Years Since Epoch (t)\": 51.369, \"Max NDVI\": 0.999, \"Mean NDVI\": 0.806, \"Min NDVI\": -0.991, \"Region\": \"Midongy Betofaka\"}, {\"Month\": \"05/21\", \"Years Since Epoch (t)\": 51.369, \"Max NDVI\": 1.0, \"Mean NDVI\": 0.405, \"Min NDVI\": -0.999, \"Region\": \"Tsimanampetsotsa\"}, {\"Month\": \"05/21\", \"Years Since Epoch (t)\": 51.369, \"Max NDVI\": 0.924, \"Mean NDVI\": 0.689, \"Min NDVI\": -0.501, \"Region\": \"d'Ankarafantsika\"}, {\"Month\": \"05/21\", \"Years Since Epoch (t)\": 51.369, \"Max NDVI\": 0.999, \"Mean NDVI\": 0.549, \"Min NDVI\": -0.997, \"Region\": \"Masoala\"}, {\"Month\": \"05/21\", \"Years Since Epoch (t)\": 51.369, \"Max NDVI\": 0.931, \"Mean NDVI\": 0.54, \"Min NDVI\": -0.614, \"Region\": \"Alan'Ankirisa\"}, {\"Month\": \"06/21\", \"Years Since Epoch (t)\": 51.453, \"Max NDVI\": 1.0, \"Mean NDVI\": 0.768, \"Min NDVI\": -0.958, \"Region\": \"d'Andohahela\"}, {\"Month\": \"06/21\", \"Years Since Epoch (t)\": 51.453, \"Max NDVI\": 1.0, \"Mean NDVI\": 0.815, \"Min NDVI\": -0.992, \"Region\": \"Midongy Betofaka\"}, {\"Month\": \"06/21\", \"Years Since Epoch (t)\": 51.453, \"Max NDVI\": 1.0, \"Mean NDVI\": 0.373, \"Min NDVI\": -0.999, \"Region\": \"Tsimanampetsotsa\"}, {\"Month\": \"06/21\", \"Years Since Epoch (t)\": 51.453, \"Max NDVI\": 0.949, \"Mean NDVI\": 0.664, \"Min NDVI\": -0.449, \"Region\": \"d'Ankarafantsika\"}, {\"Month\": \"06/21\", \"Years Since Epoch (t)\": 51.453, \"Max NDVI\": 1.0, \"Mean NDVI\": 0.368, \"Min NDVI\": -0.997, \"Region\": \"Masoala\"}, {\"Month\": \"06/21\", \"Years Since Epoch (t)\": 51.453, \"Max NDVI\": 0.931, \"Mean NDVI\": 0.489, \"Min NDVI\": -0.657, \"Region\": \"Alan'Ankirisa\"}, {\"Month\": \"07/21\", \"Years Since Epoch (t)\": 51.536, \"Max NDVI\": 1.0, \"Mean NDVI\": 0.758, \"Min NDVI\": -0.99, \"Region\": \"d'Andohahela\"}, {\"Month\": \"07/21\", \"Years Since Epoch (t)\": 51.536, \"Max NDVI\": 0.999, \"Mean NDVI\": 0.787, \"Min NDVI\": -0.98, \"Region\": \"Midongy Betofaka\"}, {\"Month\": \"07/21\", \"Years Since Epoch (t)\": 51.536, \"Max NDVI\": 1.0, \"Mean NDVI\": 0.321, \"Min NDVI\": -0.999, \"Region\": \"Tsimanampetsotsa\"}, {\"Month\": \"07/21\", \"Years Since Epoch (t)\": 51.536, \"Max NDVI\": 0.993, \"Mean NDVI\": 0.616, \"Min NDVI\": -0.311, \"Region\": \"d'Ankarafantsika\"}, {\"Month\": \"07/21\", \"Years Since Epoch (t)\": 51.536, \"Max NDVI\": 1.0, \"Mean NDVI\": 0.477, \"Min NDVI\": -0.998, \"Region\": \"Masoala\"}, {\"Month\": \"07/21\", \"Years Since Epoch (t)\": 51.536, \"Max NDVI\": 0.938, \"Mean NDVI\": 0.439, \"Min NDVI\": -0.998, \"Region\": \"Alan'Ankirisa\"}, {\"Month\": \"08/21\", \"Years Since Epoch (t)\": 51.62, \"Max NDVI\": 0.962, \"Mean NDVI\": 0.7, \"Min NDVI\": -0.4, \"Region\": \"d'Andohahela\"}, {\"Month\": \"08/21\", \"Years Since Epoch (t)\": 51.62, \"Max NDVI\": 0.99, \"Mean NDVI\": 0.752, \"Min NDVI\": -0.864, \"Region\": \"Midongy Betofaka\"}, {\"Month\": \"08/21\", \"Years Since Epoch (t)\": 51.62, \"Max NDVI\": 0.999, \"Mean NDVI\": 0.244, \"Min NDVI\": -0.999, \"Region\": \"Tsimanampetsotsa\"}, {\"Month\": \"08/21\", \"Years Since Epoch (t)\": 51.62, \"Max NDVI\": 0.946, \"Mean NDVI\": 0.54, \"Min NDVI\": -0.336, \"Region\": \"d'Ankarafantsika\"}, {\"Month\": \"08/21\", \"Years Since Epoch (t)\": 51.62, \"Max NDVI\": 0.999, \"Mean NDVI\": 0.481, \"Min NDVI\": -0.997, \"Region\": \"Masoala\"}, {\"Month\": \"08/21\", \"Years Since Epoch (t)\": 51.62, \"Max NDVI\": 0.884, \"Mean NDVI\": 0.343, \"Min NDVI\": -0.648, \"Region\": \"Alan'Ankirisa\"}, {\"Month\": \"09/21\", \"Years Since Epoch (t)\": 51.705, \"Max NDVI\": 0.938, \"Mean NDVI\": 0.68, \"Min NDVI\": -0.396, \"Region\": \"d'Andohahela\"}, {\"Month\": \"09/21\", \"Years Since Epoch (t)\": 51.705, \"Max NDVI\": 0.922, \"Mean NDVI\": 0.724, \"Min NDVI\": -0.924, \"Region\": \"Midongy Betofaka\"}, {\"Month\": \"09/21\", \"Years Since Epoch (t)\": 51.705, \"Max NDVI\": 0.926, \"Mean NDVI\": 0.209, \"Min NDVI\": -0.968, \"Region\": \"Tsimanampetsotsa\"}, {\"Month\": \"09/21\", \"Years Since Epoch (t)\": 51.705, \"Max NDVI\": 0.954, \"Mean NDVI\": 0.473, \"Min NDVI\": -0.357, \"Region\": \"d'Ankarafantsika\"}, {\"Month\": \"09/21\", \"Years Since Epoch (t)\": 51.705, \"Max NDVI\": 0.999, \"Mean NDVI\": 0.454, \"Min NDVI\": -0.997, \"Region\": \"Masoala\"}, {\"Month\": \"09/21\", \"Years Since Epoch (t)\": 51.705, \"Max NDVI\": 0.901, \"Mean NDVI\": 0.312, \"Min NDVI\": -0.734, \"Region\": \"Alan'Ankirisa\"}, {\"Month\": \"10/21\", \"Years Since Epoch (t)\": 51.788, \"Max NDVI\": 0.934, \"Mean NDVI\": 0.632, \"Min NDVI\": -0.252, \"Region\": \"d'Andohahela\"}, {\"Month\": \"10/21\", \"Years Since Epoch (t)\": 51.788, \"Max NDVI\": 0.914, \"Mean NDVI\": 0.701, \"Min NDVI\": -0.984, \"Region\": \"Midongy Betofaka\"}, {\"Month\": \"10/21\", \"Years Since Epoch (t)\": 51.788, \"Max NDVI\": 0.934, \"Mean NDVI\": 0.196, \"Min NDVI\": -0.999, \"Region\": \"Tsimanampetsotsa\"}, {\"Month\": \"10/21\", \"Years Since Epoch (t)\": 51.788, \"Max NDVI\": 0.954, \"Mean NDVI\": 0.448, \"Min NDVI\": -0.248, \"Region\": \"d'Ankarafantsika\"}, {\"Month\": \"10/21\", \"Years Since Epoch (t)\": 51.788, \"Max NDVI\": 0.995, \"Mean NDVI\": 0.587, \"Min NDVI\": -0.995, \"Region\": \"Masoala\"}, {\"Month\": \"10/21\", \"Years Since Epoch (t)\": 51.788, \"Max NDVI\": 0.869, \"Mean NDVI\": 0.283, \"Min NDVI\": -0.7, \"Region\": \"Alan'Ankirisa\"}]}}, {\"mode\": \"vega-lite\"});\n",
       "</script>"
      ],
      "text/plain": [
       "alt.FacetChart(...)"
      ]
     },
     "execution_count": 18,
     "metadata": {},
     "output_type": "execute_result"
    }
   ],
   "source": [
    "alt.layer(alt.Chart(df\n",
    "            ).mark_line(\n",
    "            ).encode(x=alt.X(\"Month:O\", sort=df[\"Month\"].unique()),\n",
    "                     y=\"Mean NDVI:Q\",\n",
    "                     color=\"Region:N\"), \n",
    "          alt.Chart(df\n",
    "            ).mark_circle(size=45\n",
    "            ).encode(x=alt.X(\"Month:O\", sort=df[\"Month\"].unique()),\n",
    "                     y=\"Mean NDVI:Q\",\n",
    "                     color=\"Region:N\",\n",
    "                     tooltip=[\"Month\", \"Region\", \"Mean NDVI\"])\n",
    "  ).properties(title=\"Quarterly Mean NDVI in Madagascar\",\n",
    "               height=300, width=300\n",
    "  ).facet(facet=\"Region:N\", columns=3)"
   ]
  },
  {
   "cell_type": "markdown",
   "metadata": {
    "id": "2tmQ-tL70PGh"
   },
   "source": [
    "## Trend Analysis"
   ]
  },
  {
   "cell_type": "code",
   "execution_count": 19,
   "metadata": {
    "id": "b-AQZ1mF81Ds"
   },
   "outputs": [],
   "source": [
    "def plotCharts(df_1, df_2, color, region):\n",
    "  \"\"\"\n",
    "  Returns two charts where the first displays observed mean ndvi and fitted values.\n",
    "  A vertical line at 11/21 seperates fitted values from predicted values.\n",
    "  The second chart displays detrended mean NDVI by plotting a model's residuals.\n",
    "\n",
    "  \"\"\"\n",
    "  plot_1 = alt.layer(alt.Chart(df_1).mark_line(color=color              # observed ndvi line chart\n",
    "                                   ).encode(x=alt.X(\"Month:O\",\n",
    "                                                     sort=formattedAxisDates),\n",
    "                                            y=\"Mean NDVI:Q\"),\n",
    "                     alt.Chart(df_1).mark_circle(size=50, color=color  # observed ndvi scatterplot\n",
    "                                   ).encode(x=alt.X(\"Month:O\",\n",
    "                                                     sort=formattedAxisDates),\n",
    "                                            y=\"Mean NDVI:Q\",\n",
    "                                            tooltip=[\"Month\", \"Region\", \"Mean NDVI\"]),\n",
    "                     alt.Chart(df_1).mark_line(color=\"red\"              # fitted ndvi line chart\n",
    "                                   ).encode(x=alt.X(\"Month:O\",\n",
    "                                                     sort=formattedAxisDates),\n",
    "                                            y=alt.Y(\"Fitted Mean NDVI:Q\", title=\"Mean NDVI\")),\n",
    "                     alt.Chart(df_1).mark_circle(size=50, color=\"red\"   # fitted ndvi scatterplot\n",
    "                                   ).encode(x=alt.X(\"Month:O\",\n",
    "                                                     sort=formattedAxisDates),\n",
    "                                            y=alt.Y(\"Fitted Mean NDVI:Q\", title=\"Mean NDVI\"),\n",
    "                                            tooltip=[\"Month\", \"Region\", \"Fitted Mean NDVI\", \"Residual\"]),\n",
    "                     alt.Chart(pd.DataFrame({'Month': ['11/21']})\n",
    "                       ).mark_rule().encode(x=alt.X(\"Month:O\",\n",
    "                                                     sort=formattedAxisDates)),\n",
    "                     alt.Chart(df_2).mark_line(color=\"red\"              # predicted ndvi line chart\n",
    "                                   ).encode(x=alt.X(\"Month:O\",\n",
    "                                                     sort=formattedAxisDates),\n",
    "                                            y=alt.Y(\"Predicted Mean NDVI:Q\", title=\"Mean NDVI\")),\n",
    "                     alt.Chart(df_2).mark_circle(size=50, color=\"red\"  # predicted ndvi scatterplot\n",
    "                                   ).encode(x=alt.X(\"Month:O\",\n",
    "                                                     sort=formattedAxisDates),\n",
    "                                            y=alt.Y(\"Predicted Mean NDVI:Q\", title=\"Mean NDVI\"),\n",
    "                                            tooltip=[\"Month\", \"Region\", \"Predicted Mean NDVI\"]))\n",
    "  \n",
    "  plot_2 = alt.layer(alt.Chart(df_1).mark_line(color=color\n",
    "                                   ).encode(x=alt.X(\"Month:O\",\n",
    "                                                     sort=df_1[\"Month\"].unique()),\n",
    "                                            y=\"Residual:Q\"),\n",
    "                     alt.Chart(df_1).mark_circle(size=50, color=color\n",
    "                                   ).encode(x=alt.X(\"Month:O\",\n",
    "                                                     sort=df_1[\"Month\"].unique()),\n",
    "                                            y=\"Residual:Q\",\n",
    "                                            tooltip=[\"Month\", \"Region\", \"Residual\"]))\n",
    "  \n",
    "  return alt.hconcat(plot_1.properties(title=\"{} Monthly Mean NDVI\".format(region),\n",
    "                                       height=250, width=400),\n",
    "                     plot_2.properties(title=\"{} Detrended Monthly Mean NDVI\".format(region),\n",
    "                                       height=250, width=400))"
   ]
  },
  {
   "cell_type": "code",
   "execution_count": 20,
   "metadata": {
    "colab": {
     "base_uri": "https://localhost:8080/",
     "height": 1000
    },
    "id": "3h4yz5awaiWb",
    "outputId": "7726ac7b-85dc-47b9-ab7b-71033272b5d6"
   },
   "outputs": [
    {
     "data": {
      "text/html": [
       "\n",
       "<div id=\"altair-viz-f44f64e774b8436491b53ea4e3435911\"></div>\n",
       "<script type=\"text/javascript\">\n",
       "  (function(spec, embedOpt){\n",
       "    let outputDiv = document.currentScript.previousElementSibling;\n",
       "    if (outputDiv.id !== \"altair-viz-f44f64e774b8436491b53ea4e3435911\") {\n",
       "      outputDiv = document.getElementById(\"altair-viz-f44f64e774b8436491b53ea4e3435911\");\n",
       "    }\n",
       "    const paths = {\n",
       "      \"vega\": \"https://cdn.jsdelivr.net/npm//vega@5?noext\",\n",
       "      \"vega-lib\": \"https://cdn.jsdelivr.net/npm//vega-lib?noext\",\n",
       "      \"vega-lite\": \"https://cdn.jsdelivr.net/npm//vega-lite@4.8.1?noext\",\n",
       "      \"vega-embed\": \"https://cdn.jsdelivr.net/npm//vega-embed@6?noext\",\n",
       "    };\n",
       "\n",
       "    function loadScript(lib) {\n",
       "      return new Promise(function(resolve, reject) {\n",
       "        var s = document.createElement('script');\n",
       "        s.src = paths[lib];\n",
       "        s.async = true;\n",
       "        s.onload = () => resolve(paths[lib]);\n",
       "        s.onerror = () => reject(`Error loading script: ${paths[lib]}`);\n",
       "        document.getElementsByTagName(\"head\")[0].appendChild(s);\n",
       "      });\n",
       "    }\n",
       "\n",
       "    function showError(err) {\n",
       "      outputDiv.innerHTML = `<div class=\"error\" style=\"color:red;\">${err}</div>`;\n",
       "      throw err;\n",
       "    }\n",
       "\n",
       "    function displayChart(vegaEmbed) {\n",
       "      vegaEmbed(outputDiv, spec, embedOpt)\n",
       "        .catch(err => showError(`Javascript Error: ${err.message}<br>This usually means there's a typo in your chart specification. See the javascript console for the full traceback.`));\n",
       "    }\n",
       "\n",
       "    if(typeof define === \"function\" && define.amd) {\n",
       "      requirejs.config({paths});\n",
       "      require([\"vega-embed\"], displayChart, err => showError(`Error loading script: ${err.message}`));\n",
       "    } else if (typeof vegaEmbed === \"function\") {\n",
       "      displayChart(vegaEmbed);\n",
       "    } else {\n",
       "      loadScript(\"vega\")\n",
       "        .then(() => loadScript(\"vega-lite\"))\n",
       "        .then(() => loadScript(\"vega-embed\"))\n",
       "        .catch(showError)\n",
       "        .then(() => displayChart(vegaEmbed));\n",
       "    }\n",
       "  })({\"config\": {\"view\": {\"continuousWidth\": 400, \"continuousHeight\": 300}}, \"vconcat\": [{\"hconcat\": [{\"layer\": [{\"data\": {\"name\": \"data-b124232c54d6063de72db85893def138\"}, \"mark\": {\"type\": \"line\", \"color\": \"#FFD13C\"}, \"encoding\": {\"x\": {\"type\": \"ordinal\", \"field\": \"Month\", \"sort\": [\"01/19\", \"02/19\", \"03/19\", \"04/19\", \"05/19\", \"06/19\", \"07/19\", \"08/19\", \"09/19\", \"10/19\", \"11/19\", \"12/19\", \"01/20\", \"02/20\", \"03/20\", \"04/20\", \"05/20\", \"06/20\", \"07/20\", \"08/20\", \"09/20\", \"10/20\", \"11/20\", \"12/20\", \"01/21\", \"02/21\", \"03/21\", \"04/21\", \"05/21\", \"06/21\", \"07/21\", \"08/21\", \"09/21\", \"10/21\", \"11/21\", \"12/21\", \"01/22\", \"02/22\", \"03/22\", \"04/22\", \"05/22\", \"06/22\", \"07/22\", \"08/22\", \"09/22\", \"10/22\", \"11/22\", \"12/22\"]}, \"y\": {\"type\": \"quantitative\", \"field\": \"Mean NDVI\"}}}, {\"data\": {\"name\": \"data-b124232c54d6063de72db85893def138\"}, \"mark\": {\"type\": \"circle\", \"color\": \"#FFD13C\", \"size\": 50}, \"encoding\": {\"tooltip\": [{\"type\": \"nominal\", \"field\": \"Month\"}, {\"type\": \"nominal\", \"field\": \"Region\"}, {\"type\": \"quantitative\", \"field\": \"Mean NDVI\"}], \"x\": {\"type\": \"ordinal\", \"field\": \"Month\", \"sort\": [\"01/19\", \"02/19\", \"03/19\", \"04/19\", \"05/19\", \"06/19\", \"07/19\", \"08/19\", \"09/19\", \"10/19\", \"11/19\", \"12/19\", \"01/20\", \"02/20\", \"03/20\", \"04/20\", \"05/20\", \"06/20\", \"07/20\", \"08/20\", \"09/20\", \"10/20\", \"11/20\", \"12/20\", \"01/21\", \"02/21\", \"03/21\", \"04/21\", \"05/21\", \"06/21\", \"07/21\", \"08/21\", \"09/21\", \"10/21\", \"11/21\", \"12/21\", \"01/22\", \"02/22\", \"03/22\", \"04/22\", \"05/22\", \"06/22\", \"07/22\", \"08/22\", \"09/22\", \"10/22\", \"11/22\", \"12/22\"]}, \"y\": {\"type\": \"quantitative\", \"field\": \"Mean NDVI\"}}}, {\"data\": {\"name\": \"data-b124232c54d6063de72db85893def138\"}, \"mark\": {\"type\": \"line\", \"color\": \"red\"}, \"encoding\": {\"x\": {\"type\": \"ordinal\", \"field\": \"Month\", \"sort\": [\"01/19\", \"02/19\", \"03/19\", \"04/19\", \"05/19\", \"06/19\", \"07/19\", \"08/19\", \"09/19\", \"10/19\", \"11/19\", \"12/19\", \"01/20\", \"02/20\", \"03/20\", \"04/20\", \"05/20\", \"06/20\", \"07/20\", \"08/20\", \"09/20\", \"10/20\", \"11/20\", \"12/20\", \"01/21\", \"02/21\", \"03/21\", \"04/21\", \"05/21\", \"06/21\", \"07/21\", \"08/21\", \"09/21\", \"10/21\", \"11/21\", \"12/21\", \"01/22\", \"02/22\", \"03/22\", \"04/22\", \"05/22\", \"06/22\", \"07/22\", \"08/22\", \"09/22\", \"10/22\", \"11/22\", \"12/22\"]}, \"y\": {\"type\": \"quantitative\", \"field\": \"Fitted Mean NDVI\", \"title\": \"Mean NDVI\"}}}, {\"data\": {\"name\": \"data-b124232c54d6063de72db85893def138\"}, \"mark\": {\"type\": \"circle\", \"color\": \"red\", \"size\": 50}, \"encoding\": {\"tooltip\": [{\"type\": \"nominal\", \"field\": \"Month\"}, {\"type\": \"nominal\", \"field\": \"Region\"}, {\"type\": \"quantitative\", \"field\": \"Fitted Mean NDVI\"}, {\"type\": \"quantitative\", \"field\": \"Residual\"}], \"x\": {\"type\": \"ordinal\", \"field\": \"Month\", \"sort\": [\"01/19\", \"02/19\", \"03/19\", \"04/19\", \"05/19\", \"06/19\", \"07/19\", \"08/19\", \"09/19\", \"10/19\", \"11/19\", \"12/19\", \"01/20\", \"02/20\", \"03/20\", \"04/20\", \"05/20\", \"06/20\", \"07/20\", \"08/20\", \"09/20\", \"10/20\", \"11/20\", \"12/20\", \"01/21\", \"02/21\", \"03/21\", \"04/21\", \"05/21\", \"06/21\", \"07/21\", \"08/21\", \"09/21\", \"10/21\", \"11/21\", \"12/21\", \"01/22\", \"02/22\", \"03/22\", \"04/22\", \"05/22\", \"06/22\", \"07/22\", \"08/22\", \"09/22\", \"10/22\", \"11/22\", \"12/22\"]}, \"y\": {\"type\": \"quantitative\", \"field\": \"Fitted Mean NDVI\", \"title\": \"Mean NDVI\"}}}, {\"data\": {\"name\": \"data-af17fb00603506eec0702e5630e096ed\"}, \"mark\": \"rule\", \"encoding\": {\"x\": {\"type\": \"ordinal\", \"field\": \"Month\", \"sort\": [\"01/19\", \"02/19\", \"03/19\", \"04/19\", \"05/19\", \"06/19\", \"07/19\", \"08/19\", \"09/19\", \"10/19\", \"11/19\", \"12/19\", \"01/20\", \"02/20\", \"03/20\", \"04/20\", \"05/20\", \"06/20\", \"07/20\", \"08/20\", \"09/20\", \"10/20\", \"11/20\", \"12/20\", \"01/21\", \"02/21\", \"03/21\", \"04/21\", \"05/21\", \"06/21\", \"07/21\", \"08/21\", \"09/21\", \"10/21\", \"11/21\", \"12/21\", \"01/22\", \"02/22\", \"03/22\", \"04/22\", \"05/22\", \"06/22\", \"07/22\", \"08/22\", \"09/22\", \"10/22\", \"11/22\", \"12/22\"]}}}, {\"data\": {\"name\": \"data-e731b9d66df6db3e9a48555d0c701a07\"}, \"mark\": {\"type\": \"line\", \"color\": \"red\"}, \"encoding\": {\"x\": {\"type\": \"ordinal\", \"field\": \"Month\", \"sort\": [\"01/19\", \"02/19\", \"03/19\", \"04/19\", \"05/19\", \"06/19\", \"07/19\", \"08/19\", \"09/19\", \"10/19\", \"11/19\", \"12/19\", \"01/20\", \"02/20\", \"03/20\", \"04/20\", \"05/20\", \"06/20\", \"07/20\", \"08/20\", \"09/20\", \"10/20\", \"11/20\", \"12/20\", \"01/21\", \"02/21\", \"03/21\", \"04/21\", \"05/21\", \"06/21\", \"07/21\", \"08/21\", \"09/21\", \"10/21\", \"11/21\", \"12/21\", \"01/22\", \"02/22\", \"03/22\", \"04/22\", \"05/22\", \"06/22\", \"07/22\", \"08/22\", \"09/22\", \"10/22\", \"11/22\", \"12/22\"]}, \"y\": {\"type\": \"quantitative\", \"field\": \"Predicted Mean NDVI\", \"title\": \"Mean NDVI\"}}}, {\"data\": {\"name\": \"data-e731b9d66df6db3e9a48555d0c701a07\"}, \"mark\": {\"type\": \"circle\", \"color\": \"red\", \"size\": 50}, \"encoding\": {\"tooltip\": [{\"type\": \"nominal\", \"field\": \"Month\"}, {\"type\": \"nominal\", \"field\": \"Region\"}, {\"type\": \"quantitative\", \"field\": \"Predicted Mean NDVI\"}], \"x\": {\"type\": \"ordinal\", \"field\": \"Month\", \"sort\": [\"01/19\", \"02/19\", \"03/19\", \"04/19\", \"05/19\", \"06/19\", \"07/19\", \"08/19\", \"09/19\", \"10/19\", \"11/19\", \"12/19\", \"01/20\", \"02/20\", \"03/20\", \"04/20\", \"05/20\", \"06/20\", \"07/20\", \"08/20\", \"09/20\", \"10/20\", \"11/20\", \"12/20\", \"01/21\", \"02/21\", \"03/21\", \"04/21\", \"05/21\", \"06/21\", \"07/21\", \"08/21\", \"09/21\", \"10/21\", \"11/21\", \"12/21\", \"01/22\", \"02/22\", \"03/22\", \"04/22\", \"05/22\", \"06/22\", \"07/22\", \"08/22\", \"09/22\", \"10/22\", \"11/22\", \"12/22\"]}, \"y\": {\"type\": \"quantitative\", \"field\": \"Predicted Mean NDVI\", \"title\": \"Mean NDVI\"}}}], \"height\": 250, \"title\": \"d'Andohahela Monthly Mean NDVI\", \"width\": 400}, {\"layer\": [{\"mark\": {\"type\": \"line\", \"color\": \"#FFD13C\"}, \"encoding\": {\"x\": {\"type\": \"ordinal\", \"field\": \"Month\", \"sort\": [\"01/19\", \"02/19\", \"03/19\", \"04/19\", \"05/19\", \"06/19\", \"07/19\", \"08/19\", \"09/19\", \"10/19\", \"11/19\", \"12/19\", \"01/20\", \"02/20\", \"03/20\", \"04/20\", \"05/20\", \"06/20\", \"07/20\", \"08/20\", \"09/20\", \"10/20\", \"11/20\", \"12/20\", \"01/21\", \"02/21\", \"03/21\", \"04/21\", \"05/21\", \"06/21\", \"07/21\", \"08/21\", \"09/21\", \"10/21\"]}, \"y\": {\"type\": \"quantitative\", \"field\": \"Residual\"}}}, {\"mark\": {\"type\": \"circle\", \"color\": \"#FFD13C\", \"size\": 50}, \"encoding\": {\"tooltip\": [{\"type\": \"nominal\", \"field\": \"Month\"}, {\"type\": \"nominal\", \"field\": \"Region\"}, {\"type\": \"quantitative\", \"field\": \"Residual\"}], \"x\": {\"type\": \"ordinal\", \"field\": \"Month\", \"sort\": [\"01/19\", \"02/19\", \"03/19\", \"04/19\", \"05/19\", \"06/19\", \"07/19\", \"08/19\", \"09/19\", \"10/19\", \"11/19\", \"12/19\", \"01/20\", \"02/20\", \"03/20\", \"04/20\", \"05/20\", \"06/20\", \"07/20\", \"08/20\", \"09/20\", \"10/20\", \"11/20\", \"12/20\", \"01/21\", \"02/21\", \"03/21\", \"04/21\", \"05/21\", \"06/21\", \"07/21\", \"08/21\", \"09/21\", \"10/21\"]}, \"y\": {\"type\": \"quantitative\", \"field\": \"Residual\"}}}], \"data\": {\"name\": \"data-b124232c54d6063de72db85893def138\"}, \"height\": 250, \"title\": \"d'Andohahela Detrended Monthly Mean NDVI\", \"width\": 400}]}, {\"hconcat\": [{\"layer\": [{\"data\": {\"name\": \"data-ce0a92ecc63b9043436c366976336457\"}, \"mark\": {\"type\": \"line\", \"color\": \"#61ECB6\"}, \"encoding\": {\"x\": {\"type\": \"ordinal\", \"field\": \"Month\", \"sort\": [\"01/19\", \"02/19\", \"03/19\", \"04/19\", \"05/19\", \"06/19\", \"07/19\", \"08/19\", \"09/19\", \"10/19\", \"11/19\", \"12/19\", \"01/20\", \"02/20\", \"03/20\", \"04/20\", \"05/20\", \"06/20\", \"07/20\", \"08/20\", \"09/20\", \"10/20\", \"11/20\", \"12/20\", \"01/21\", \"02/21\", \"03/21\", \"04/21\", \"05/21\", \"06/21\", \"07/21\", \"08/21\", \"09/21\", \"10/21\", \"11/21\", \"12/21\", \"01/22\", \"02/22\", \"03/22\", \"04/22\", \"05/22\", \"06/22\", \"07/22\", \"08/22\", \"09/22\", \"10/22\", \"11/22\", \"12/22\"]}, \"y\": {\"type\": \"quantitative\", \"field\": \"Mean NDVI\"}}}, {\"data\": {\"name\": \"data-ce0a92ecc63b9043436c366976336457\"}, \"mark\": {\"type\": \"circle\", \"color\": \"#61ECB6\", \"size\": 50}, \"encoding\": {\"tooltip\": [{\"type\": \"nominal\", \"field\": \"Month\"}, {\"type\": \"nominal\", \"field\": \"Region\"}, {\"type\": \"quantitative\", \"field\": \"Mean NDVI\"}], \"x\": {\"type\": \"ordinal\", \"field\": \"Month\", \"sort\": [\"01/19\", \"02/19\", \"03/19\", \"04/19\", \"05/19\", \"06/19\", \"07/19\", \"08/19\", \"09/19\", \"10/19\", \"11/19\", \"12/19\", \"01/20\", \"02/20\", \"03/20\", \"04/20\", \"05/20\", \"06/20\", \"07/20\", \"08/20\", \"09/20\", \"10/20\", \"11/20\", \"12/20\", \"01/21\", \"02/21\", \"03/21\", \"04/21\", \"05/21\", \"06/21\", \"07/21\", \"08/21\", \"09/21\", \"10/21\", \"11/21\", \"12/21\", \"01/22\", \"02/22\", \"03/22\", \"04/22\", \"05/22\", \"06/22\", \"07/22\", \"08/22\", \"09/22\", \"10/22\", \"11/22\", \"12/22\"]}, \"y\": {\"type\": \"quantitative\", \"field\": \"Mean NDVI\"}}}, {\"data\": {\"name\": \"data-ce0a92ecc63b9043436c366976336457\"}, \"mark\": {\"type\": \"line\", \"color\": \"red\"}, \"encoding\": {\"x\": {\"type\": \"ordinal\", \"field\": \"Month\", \"sort\": [\"01/19\", \"02/19\", \"03/19\", \"04/19\", \"05/19\", \"06/19\", \"07/19\", \"08/19\", \"09/19\", \"10/19\", \"11/19\", \"12/19\", \"01/20\", \"02/20\", \"03/20\", \"04/20\", \"05/20\", \"06/20\", \"07/20\", \"08/20\", \"09/20\", \"10/20\", \"11/20\", \"12/20\", \"01/21\", \"02/21\", \"03/21\", \"04/21\", \"05/21\", \"06/21\", \"07/21\", \"08/21\", \"09/21\", \"10/21\", \"11/21\", \"12/21\", \"01/22\", \"02/22\", \"03/22\", \"04/22\", \"05/22\", \"06/22\", \"07/22\", \"08/22\", \"09/22\", \"10/22\", \"11/22\", \"12/22\"]}, \"y\": {\"type\": \"quantitative\", \"field\": \"Fitted Mean NDVI\", \"title\": \"Mean NDVI\"}}}, {\"data\": {\"name\": \"data-ce0a92ecc63b9043436c366976336457\"}, \"mark\": {\"type\": \"circle\", \"color\": \"red\", \"size\": 50}, \"encoding\": {\"tooltip\": [{\"type\": \"nominal\", \"field\": \"Month\"}, {\"type\": \"nominal\", \"field\": \"Region\"}, {\"type\": \"quantitative\", \"field\": \"Fitted Mean NDVI\"}, {\"type\": \"quantitative\", \"field\": \"Residual\"}], \"x\": {\"type\": \"ordinal\", \"field\": \"Month\", \"sort\": [\"01/19\", \"02/19\", \"03/19\", \"04/19\", \"05/19\", \"06/19\", \"07/19\", \"08/19\", \"09/19\", \"10/19\", \"11/19\", \"12/19\", \"01/20\", \"02/20\", \"03/20\", \"04/20\", \"05/20\", \"06/20\", \"07/20\", \"08/20\", \"09/20\", \"10/20\", \"11/20\", \"12/20\", \"01/21\", \"02/21\", \"03/21\", \"04/21\", \"05/21\", \"06/21\", \"07/21\", \"08/21\", \"09/21\", \"10/21\", \"11/21\", \"12/21\", \"01/22\", \"02/22\", \"03/22\", \"04/22\", \"05/22\", \"06/22\", \"07/22\", \"08/22\", \"09/22\", \"10/22\", \"11/22\", \"12/22\"]}, \"y\": {\"type\": \"quantitative\", \"field\": \"Fitted Mean NDVI\", \"title\": \"Mean NDVI\"}}}, {\"data\": {\"name\": \"data-af17fb00603506eec0702e5630e096ed\"}, \"mark\": \"rule\", \"encoding\": {\"x\": {\"type\": \"ordinal\", \"field\": \"Month\", \"sort\": [\"01/19\", \"02/19\", \"03/19\", \"04/19\", \"05/19\", \"06/19\", \"07/19\", \"08/19\", \"09/19\", \"10/19\", \"11/19\", \"12/19\", \"01/20\", \"02/20\", \"03/20\", \"04/20\", \"05/20\", \"06/20\", \"07/20\", \"08/20\", \"09/20\", \"10/20\", \"11/20\", \"12/20\", \"01/21\", \"02/21\", \"03/21\", \"04/21\", \"05/21\", \"06/21\", \"07/21\", \"08/21\", \"09/21\", \"10/21\", \"11/21\", \"12/21\", \"01/22\", \"02/22\", \"03/22\", \"04/22\", \"05/22\", \"06/22\", \"07/22\", \"08/22\", \"09/22\", \"10/22\", \"11/22\", \"12/22\"]}}}, {\"data\": {\"name\": \"data-07625e840c56bb94031e6e34837afbc5\"}, \"mark\": {\"type\": \"line\", \"color\": \"red\"}, \"encoding\": {\"x\": {\"type\": \"ordinal\", \"field\": \"Month\", \"sort\": [\"01/19\", \"02/19\", \"03/19\", \"04/19\", \"05/19\", \"06/19\", \"07/19\", \"08/19\", \"09/19\", \"10/19\", \"11/19\", \"12/19\", \"01/20\", \"02/20\", \"03/20\", \"04/20\", \"05/20\", \"06/20\", \"07/20\", \"08/20\", \"09/20\", \"10/20\", \"11/20\", \"12/20\", \"01/21\", \"02/21\", \"03/21\", \"04/21\", \"05/21\", \"06/21\", \"07/21\", \"08/21\", \"09/21\", \"10/21\", \"11/21\", \"12/21\", \"01/22\", \"02/22\", \"03/22\", \"04/22\", \"05/22\", \"06/22\", \"07/22\", \"08/22\", \"09/22\", \"10/22\", \"11/22\", \"12/22\"]}, \"y\": {\"type\": \"quantitative\", \"field\": \"Predicted Mean NDVI\", \"title\": \"Mean NDVI\"}}}, {\"data\": {\"name\": \"data-07625e840c56bb94031e6e34837afbc5\"}, \"mark\": {\"type\": \"circle\", \"color\": \"red\", \"size\": 50}, \"encoding\": {\"tooltip\": [{\"type\": \"nominal\", \"field\": \"Month\"}, {\"type\": \"nominal\", \"field\": \"Region\"}, {\"type\": \"quantitative\", \"field\": \"Predicted Mean NDVI\"}], \"x\": {\"type\": \"ordinal\", \"field\": \"Month\", \"sort\": [\"01/19\", \"02/19\", \"03/19\", \"04/19\", \"05/19\", \"06/19\", \"07/19\", \"08/19\", \"09/19\", \"10/19\", \"11/19\", \"12/19\", \"01/20\", \"02/20\", \"03/20\", \"04/20\", \"05/20\", \"06/20\", \"07/20\", \"08/20\", \"09/20\", \"10/20\", \"11/20\", \"12/20\", \"01/21\", \"02/21\", \"03/21\", \"04/21\", \"05/21\", \"06/21\", \"07/21\", \"08/21\", \"09/21\", \"10/21\", \"11/21\", \"12/21\", \"01/22\", \"02/22\", \"03/22\", \"04/22\", \"05/22\", \"06/22\", \"07/22\", \"08/22\", \"09/22\", \"10/22\", \"11/22\", \"12/22\"]}, \"y\": {\"type\": \"quantitative\", \"field\": \"Predicted Mean NDVI\", \"title\": \"Mean NDVI\"}}}], \"height\": 250, \"title\": \"Midongy Betofaka Monthly Mean NDVI\", \"width\": 400}, {\"layer\": [{\"mark\": {\"type\": \"line\", \"color\": \"#61ECB6\"}, \"encoding\": {\"x\": {\"type\": \"ordinal\", \"field\": \"Month\", \"sort\": [\"01/19\", \"02/19\", \"03/19\", \"04/19\", \"05/19\", \"06/19\", \"07/19\", \"08/19\", \"09/19\", \"10/19\", \"11/19\", \"12/19\", \"01/20\", \"02/20\", \"03/20\", \"04/20\", \"05/20\", \"06/20\", \"07/20\", \"08/20\", \"09/20\", \"10/20\", \"11/20\", \"12/20\", \"01/21\", \"02/21\", \"03/21\", \"04/21\", \"05/21\", \"06/21\", \"07/21\", \"08/21\", \"09/21\", \"10/21\"]}, \"y\": {\"type\": \"quantitative\", \"field\": \"Residual\"}}}, {\"mark\": {\"type\": \"circle\", \"color\": \"#61ECB6\", \"size\": 50}, \"encoding\": {\"tooltip\": [{\"type\": \"nominal\", \"field\": \"Month\"}, {\"type\": \"nominal\", \"field\": \"Region\"}, {\"type\": \"quantitative\", \"field\": \"Residual\"}], \"x\": {\"type\": \"ordinal\", \"field\": \"Month\", \"sort\": [\"01/19\", \"02/19\", \"03/19\", \"04/19\", \"05/19\", \"06/19\", \"07/19\", \"08/19\", \"09/19\", \"10/19\", \"11/19\", \"12/19\", \"01/20\", \"02/20\", \"03/20\", \"04/20\", \"05/20\", \"06/20\", \"07/20\", \"08/20\", \"09/20\", \"10/20\", \"11/20\", \"12/20\", \"01/21\", \"02/21\", \"03/21\", \"04/21\", \"05/21\", \"06/21\", \"07/21\", \"08/21\", \"09/21\", \"10/21\"]}, \"y\": {\"type\": \"quantitative\", \"field\": \"Residual\"}}}], \"data\": {\"name\": \"data-ce0a92ecc63b9043436c366976336457\"}, \"height\": 250, \"title\": \"Midongy Betofaka Detrended Monthly Mean NDVI\", \"width\": 400}]}, {\"hconcat\": [{\"layer\": [{\"data\": {\"name\": \"data-987c710a6a6a6061ff3e26a4c3315c5e\"}, \"mark\": {\"type\": \"line\", \"color\": \"#2ca02c\"}, \"encoding\": {\"x\": {\"type\": \"ordinal\", \"field\": \"Month\", \"sort\": [\"01/19\", \"02/19\", \"03/19\", \"04/19\", \"05/19\", \"06/19\", \"07/19\", \"08/19\", \"09/19\", \"10/19\", \"11/19\", \"12/19\", \"01/20\", \"02/20\", \"03/20\", \"04/20\", \"05/20\", \"06/20\", \"07/20\", \"08/20\", \"09/20\", \"10/20\", \"11/20\", \"12/20\", \"01/21\", \"02/21\", \"03/21\", \"04/21\", \"05/21\", \"06/21\", \"07/21\", \"08/21\", \"09/21\", \"10/21\", \"11/21\", \"12/21\", \"01/22\", \"02/22\", \"03/22\", \"04/22\", \"05/22\", \"06/22\", \"07/22\", \"08/22\", \"09/22\", \"10/22\", \"11/22\", \"12/22\"]}, \"y\": {\"type\": \"quantitative\", \"field\": \"Mean NDVI\"}}}, {\"data\": {\"name\": \"data-987c710a6a6a6061ff3e26a4c3315c5e\"}, \"mark\": {\"type\": \"circle\", \"color\": \"#2ca02c\", \"size\": 50}, \"encoding\": {\"tooltip\": [{\"type\": \"nominal\", \"field\": \"Month\"}, {\"type\": \"nominal\", \"field\": \"Region\"}, {\"type\": \"quantitative\", \"field\": \"Mean NDVI\"}], \"x\": {\"type\": \"ordinal\", \"field\": \"Month\", \"sort\": [\"01/19\", \"02/19\", \"03/19\", \"04/19\", \"05/19\", \"06/19\", \"07/19\", \"08/19\", \"09/19\", \"10/19\", \"11/19\", \"12/19\", \"01/20\", \"02/20\", \"03/20\", \"04/20\", \"05/20\", \"06/20\", \"07/20\", \"08/20\", \"09/20\", \"10/20\", \"11/20\", \"12/20\", \"01/21\", \"02/21\", \"03/21\", \"04/21\", \"05/21\", \"06/21\", \"07/21\", \"08/21\", \"09/21\", \"10/21\", \"11/21\", \"12/21\", \"01/22\", \"02/22\", \"03/22\", \"04/22\", \"05/22\", \"06/22\", \"07/22\", \"08/22\", \"09/22\", \"10/22\", \"11/22\", \"12/22\"]}, \"y\": {\"type\": \"quantitative\", \"field\": \"Mean NDVI\"}}}, {\"data\": {\"name\": \"data-987c710a6a6a6061ff3e26a4c3315c5e\"}, \"mark\": {\"type\": \"line\", \"color\": \"red\"}, \"encoding\": {\"x\": {\"type\": \"ordinal\", \"field\": \"Month\", \"sort\": [\"01/19\", \"02/19\", \"03/19\", \"04/19\", \"05/19\", \"06/19\", \"07/19\", \"08/19\", \"09/19\", \"10/19\", \"11/19\", \"12/19\", \"01/20\", \"02/20\", \"03/20\", \"04/20\", \"05/20\", \"06/20\", \"07/20\", \"08/20\", \"09/20\", \"10/20\", \"11/20\", \"12/20\", \"01/21\", \"02/21\", \"03/21\", \"04/21\", \"05/21\", \"06/21\", \"07/21\", \"08/21\", \"09/21\", \"10/21\", \"11/21\", \"12/21\", \"01/22\", \"02/22\", \"03/22\", \"04/22\", \"05/22\", \"06/22\", \"07/22\", \"08/22\", \"09/22\", \"10/22\", \"11/22\", \"12/22\"]}, \"y\": {\"type\": \"quantitative\", \"field\": \"Fitted Mean NDVI\", \"title\": \"Mean NDVI\"}}}, {\"data\": {\"name\": \"data-987c710a6a6a6061ff3e26a4c3315c5e\"}, \"mark\": {\"type\": \"circle\", \"color\": \"red\", \"size\": 50}, \"encoding\": {\"tooltip\": [{\"type\": \"nominal\", \"field\": \"Month\"}, {\"type\": \"nominal\", \"field\": \"Region\"}, {\"type\": \"quantitative\", \"field\": \"Fitted Mean NDVI\"}, {\"type\": \"quantitative\", \"field\": \"Residual\"}], \"x\": {\"type\": \"ordinal\", \"field\": \"Month\", \"sort\": [\"01/19\", \"02/19\", \"03/19\", \"04/19\", \"05/19\", \"06/19\", \"07/19\", \"08/19\", \"09/19\", \"10/19\", \"11/19\", \"12/19\", \"01/20\", \"02/20\", \"03/20\", \"04/20\", \"05/20\", \"06/20\", \"07/20\", \"08/20\", \"09/20\", \"10/20\", \"11/20\", \"12/20\", \"01/21\", \"02/21\", \"03/21\", \"04/21\", \"05/21\", \"06/21\", \"07/21\", \"08/21\", \"09/21\", \"10/21\", \"11/21\", \"12/21\", \"01/22\", \"02/22\", \"03/22\", \"04/22\", \"05/22\", \"06/22\", \"07/22\", \"08/22\", \"09/22\", \"10/22\", \"11/22\", \"12/22\"]}, \"y\": {\"type\": \"quantitative\", \"field\": \"Fitted Mean NDVI\", \"title\": \"Mean NDVI\"}}}, {\"data\": {\"name\": \"data-af17fb00603506eec0702e5630e096ed\"}, \"mark\": \"rule\", \"encoding\": {\"x\": {\"type\": \"ordinal\", \"field\": \"Month\", \"sort\": [\"01/19\", \"02/19\", \"03/19\", \"04/19\", \"05/19\", \"06/19\", \"07/19\", \"08/19\", \"09/19\", \"10/19\", \"11/19\", \"12/19\", \"01/20\", \"02/20\", \"03/20\", \"04/20\", \"05/20\", \"06/20\", \"07/20\", \"08/20\", \"09/20\", \"10/20\", \"11/20\", \"12/20\", \"01/21\", \"02/21\", \"03/21\", \"04/21\", \"05/21\", \"06/21\", \"07/21\", \"08/21\", \"09/21\", \"10/21\", \"11/21\", \"12/21\", \"01/22\", \"02/22\", \"03/22\", \"04/22\", \"05/22\", \"06/22\", \"07/22\", \"08/22\", \"09/22\", \"10/22\", \"11/22\", \"12/22\"]}}}, {\"data\": {\"name\": \"data-6c402e904ae3e56e24f2f9fe906b2ce1\"}, \"mark\": {\"type\": \"line\", \"color\": \"red\"}, \"encoding\": {\"x\": {\"type\": \"ordinal\", \"field\": \"Month\", \"sort\": [\"01/19\", \"02/19\", \"03/19\", \"04/19\", \"05/19\", \"06/19\", \"07/19\", \"08/19\", \"09/19\", \"10/19\", \"11/19\", \"12/19\", \"01/20\", \"02/20\", \"03/20\", \"04/20\", \"05/20\", \"06/20\", \"07/20\", \"08/20\", \"09/20\", \"10/20\", \"11/20\", \"12/20\", \"01/21\", \"02/21\", \"03/21\", \"04/21\", \"05/21\", \"06/21\", \"07/21\", \"08/21\", \"09/21\", \"10/21\", \"11/21\", \"12/21\", \"01/22\", \"02/22\", \"03/22\", \"04/22\", \"05/22\", \"06/22\", \"07/22\", \"08/22\", \"09/22\", \"10/22\", \"11/22\", \"12/22\"]}, \"y\": {\"type\": \"quantitative\", \"field\": \"Predicted Mean NDVI\", \"title\": \"Mean NDVI\"}}}, {\"data\": {\"name\": \"data-6c402e904ae3e56e24f2f9fe906b2ce1\"}, \"mark\": {\"type\": \"circle\", \"color\": \"red\", \"size\": 50}, \"encoding\": {\"tooltip\": [{\"type\": \"nominal\", \"field\": \"Month\"}, {\"type\": \"nominal\", \"field\": \"Region\"}, {\"type\": \"quantitative\", \"field\": \"Predicted Mean NDVI\"}], \"x\": {\"type\": \"ordinal\", \"field\": \"Month\", \"sort\": [\"01/19\", \"02/19\", \"03/19\", \"04/19\", \"05/19\", \"06/19\", \"07/19\", \"08/19\", \"09/19\", \"10/19\", \"11/19\", \"12/19\", \"01/20\", \"02/20\", \"03/20\", \"04/20\", \"05/20\", \"06/20\", \"07/20\", \"08/20\", \"09/20\", \"10/20\", \"11/20\", \"12/20\", \"01/21\", \"02/21\", \"03/21\", \"04/21\", \"05/21\", \"06/21\", \"07/21\", \"08/21\", \"09/21\", \"10/21\", \"11/21\", \"12/21\", \"01/22\", \"02/22\", \"03/22\", \"04/22\", \"05/22\", \"06/22\", \"07/22\", \"08/22\", \"09/22\", \"10/22\", \"11/22\", \"12/22\"]}, \"y\": {\"type\": \"quantitative\", \"field\": \"Predicted Mean NDVI\", \"title\": \"Mean NDVI\"}}}], \"height\": 250, \"title\": \"Tsimanampetsotsa Monthly Mean NDVI\", \"width\": 400}, {\"layer\": [{\"mark\": {\"type\": \"line\", \"color\": \"#2ca02c\"}, \"encoding\": {\"x\": {\"type\": \"ordinal\", \"field\": \"Month\", \"sort\": [\"01/19\", \"02/19\", \"03/19\", \"04/19\", \"05/19\", \"06/19\", \"07/19\", \"08/19\", \"09/19\", \"10/19\", \"11/19\", \"12/19\", \"01/20\", \"02/20\", \"03/20\", \"04/20\", \"05/20\", \"06/20\", \"07/20\", \"08/20\", \"09/20\", \"10/20\", \"11/20\", \"12/20\", \"01/21\", \"02/21\", \"03/21\", \"04/21\", \"05/21\", \"06/21\", \"07/21\", \"08/21\", \"09/21\", \"10/21\"]}, \"y\": {\"type\": \"quantitative\", \"field\": \"Residual\"}}}, {\"mark\": {\"type\": \"circle\", \"color\": \"#2ca02c\", \"size\": 50}, \"encoding\": {\"tooltip\": [{\"type\": \"nominal\", \"field\": \"Month\"}, {\"type\": \"nominal\", \"field\": \"Region\"}, {\"type\": \"quantitative\", \"field\": \"Residual\"}], \"x\": {\"type\": \"ordinal\", \"field\": \"Month\", \"sort\": [\"01/19\", \"02/19\", \"03/19\", \"04/19\", \"05/19\", \"06/19\", \"07/19\", \"08/19\", \"09/19\", \"10/19\", \"11/19\", \"12/19\", \"01/20\", \"02/20\", \"03/20\", \"04/20\", \"05/20\", \"06/20\", \"07/20\", \"08/20\", \"09/20\", \"10/20\", \"11/20\", \"12/20\", \"01/21\", \"02/21\", \"03/21\", \"04/21\", \"05/21\", \"06/21\", \"07/21\", \"08/21\", \"09/21\", \"10/21\"]}, \"y\": {\"type\": \"quantitative\", \"field\": \"Residual\"}}}], \"data\": {\"name\": \"data-987c710a6a6a6061ff3e26a4c3315c5e\"}, \"height\": 250, \"title\": \"Tsimanampetsotsa Detrended Monthly Mean NDVI\", \"width\": 400}]}, {\"hconcat\": [{\"layer\": [{\"data\": {\"name\": \"data-3dbf636f6c7cc8c1b5a32bf997d1ed3c\"}, \"mark\": {\"type\": \"line\", \"color\": \"#9467bd\"}, \"encoding\": {\"x\": {\"type\": \"ordinal\", \"field\": \"Month\", \"sort\": [\"01/19\", \"02/19\", \"03/19\", \"04/19\", \"05/19\", \"06/19\", \"07/19\", \"08/19\", \"09/19\", \"10/19\", \"11/19\", \"12/19\", \"01/20\", \"02/20\", \"03/20\", \"04/20\", \"05/20\", \"06/20\", \"07/20\", \"08/20\", \"09/20\", \"10/20\", \"11/20\", \"12/20\", \"01/21\", \"02/21\", \"03/21\", \"04/21\", \"05/21\", \"06/21\", \"07/21\", \"08/21\", \"09/21\", \"10/21\", \"11/21\", \"12/21\", \"01/22\", \"02/22\", \"03/22\", \"04/22\", \"05/22\", \"06/22\", \"07/22\", \"08/22\", \"09/22\", \"10/22\", \"11/22\", \"12/22\"]}, \"y\": {\"type\": \"quantitative\", \"field\": \"Mean NDVI\"}}}, {\"data\": {\"name\": \"data-3dbf636f6c7cc8c1b5a32bf997d1ed3c\"}, \"mark\": {\"type\": \"circle\", \"color\": \"#9467bd\", \"size\": 50}, \"encoding\": {\"tooltip\": [{\"type\": \"nominal\", \"field\": \"Month\"}, {\"type\": \"nominal\", \"field\": \"Region\"}, {\"type\": \"quantitative\", \"field\": \"Mean NDVI\"}], \"x\": {\"type\": \"ordinal\", \"field\": \"Month\", \"sort\": [\"01/19\", \"02/19\", \"03/19\", \"04/19\", \"05/19\", \"06/19\", \"07/19\", \"08/19\", \"09/19\", \"10/19\", \"11/19\", \"12/19\", \"01/20\", \"02/20\", \"03/20\", \"04/20\", \"05/20\", \"06/20\", \"07/20\", \"08/20\", \"09/20\", \"10/20\", \"11/20\", \"12/20\", \"01/21\", \"02/21\", \"03/21\", \"04/21\", \"05/21\", \"06/21\", \"07/21\", \"08/21\", \"09/21\", \"10/21\", \"11/21\", \"12/21\", \"01/22\", \"02/22\", \"03/22\", \"04/22\", \"05/22\", \"06/22\", \"07/22\", \"08/22\", \"09/22\", \"10/22\", \"11/22\", \"12/22\"]}, \"y\": {\"type\": \"quantitative\", \"field\": \"Mean NDVI\"}}}, {\"data\": {\"name\": \"data-3dbf636f6c7cc8c1b5a32bf997d1ed3c\"}, \"mark\": {\"type\": \"line\", \"color\": \"red\"}, \"encoding\": {\"x\": {\"type\": \"ordinal\", \"field\": \"Month\", \"sort\": [\"01/19\", \"02/19\", \"03/19\", \"04/19\", \"05/19\", \"06/19\", \"07/19\", \"08/19\", \"09/19\", \"10/19\", \"11/19\", \"12/19\", \"01/20\", \"02/20\", \"03/20\", \"04/20\", \"05/20\", \"06/20\", \"07/20\", \"08/20\", \"09/20\", \"10/20\", \"11/20\", \"12/20\", \"01/21\", \"02/21\", \"03/21\", \"04/21\", \"05/21\", \"06/21\", \"07/21\", \"08/21\", \"09/21\", \"10/21\", \"11/21\", \"12/21\", \"01/22\", \"02/22\", \"03/22\", \"04/22\", \"05/22\", \"06/22\", \"07/22\", \"08/22\", \"09/22\", \"10/22\", \"11/22\", \"12/22\"]}, \"y\": {\"type\": \"quantitative\", \"field\": \"Fitted Mean NDVI\", \"title\": \"Mean NDVI\"}}}, {\"data\": {\"name\": \"data-3dbf636f6c7cc8c1b5a32bf997d1ed3c\"}, \"mark\": {\"type\": \"circle\", \"color\": \"red\", \"size\": 50}, \"encoding\": {\"tooltip\": [{\"type\": \"nominal\", \"field\": \"Month\"}, {\"type\": \"nominal\", \"field\": \"Region\"}, {\"type\": \"quantitative\", \"field\": \"Fitted Mean NDVI\"}, {\"type\": \"quantitative\", \"field\": \"Residual\"}], \"x\": {\"type\": \"ordinal\", \"field\": \"Month\", \"sort\": [\"01/19\", \"02/19\", \"03/19\", \"04/19\", \"05/19\", \"06/19\", \"07/19\", \"08/19\", \"09/19\", \"10/19\", \"11/19\", \"12/19\", \"01/20\", \"02/20\", \"03/20\", \"04/20\", \"05/20\", \"06/20\", \"07/20\", \"08/20\", \"09/20\", \"10/20\", \"11/20\", \"12/20\", \"01/21\", \"02/21\", \"03/21\", \"04/21\", \"05/21\", \"06/21\", \"07/21\", \"08/21\", \"09/21\", \"10/21\", \"11/21\", \"12/21\", \"01/22\", \"02/22\", \"03/22\", \"04/22\", \"05/22\", \"06/22\", \"07/22\", \"08/22\", \"09/22\", \"10/22\", \"11/22\", \"12/22\"]}, \"y\": {\"type\": \"quantitative\", \"field\": \"Fitted Mean NDVI\", \"title\": \"Mean NDVI\"}}}, {\"data\": {\"name\": \"data-af17fb00603506eec0702e5630e096ed\"}, \"mark\": \"rule\", \"encoding\": {\"x\": {\"type\": \"ordinal\", \"field\": \"Month\", \"sort\": [\"01/19\", \"02/19\", \"03/19\", \"04/19\", \"05/19\", \"06/19\", \"07/19\", \"08/19\", \"09/19\", \"10/19\", \"11/19\", \"12/19\", \"01/20\", \"02/20\", \"03/20\", \"04/20\", \"05/20\", \"06/20\", \"07/20\", \"08/20\", \"09/20\", \"10/20\", \"11/20\", \"12/20\", \"01/21\", \"02/21\", \"03/21\", \"04/21\", \"05/21\", \"06/21\", \"07/21\", \"08/21\", \"09/21\", \"10/21\", \"11/21\", \"12/21\", \"01/22\", \"02/22\", \"03/22\", \"04/22\", \"05/22\", \"06/22\", \"07/22\", \"08/22\", \"09/22\", \"10/22\", \"11/22\", \"12/22\"]}}}, {\"data\": {\"name\": \"data-a33f1d2524e9bf089cb43a8e67bfbba7\"}, \"mark\": {\"type\": \"line\", \"color\": \"red\"}, \"encoding\": {\"x\": {\"type\": \"ordinal\", \"field\": \"Month\", \"sort\": [\"01/19\", \"02/19\", \"03/19\", \"04/19\", \"05/19\", \"06/19\", \"07/19\", \"08/19\", \"09/19\", \"10/19\", \"11/19\", \"12/19\", \"01/20\", \"02/20\", \"03/20\", \"04/20\", \"05/20\", \"06/20\", \"07/20\", \"08/20\", \"09/20\", \"10/20\", \"11/20\", \"12/20\", \"01/21\", \"02/21\", \"03/21\", \"04/21\", \"05/21\", \"06/21\", \"07/21\", \"08/21\", \"09/21\", \"10/21\", \"11/21\", \"12/21\", \"01/22\", \"02/22\", \"03/22\", \"04/22\", \"05/22\", \"06/22\", \"07/22\", \"08/22\", \"09/22\", \"10/22\", \"11/22\", \"12/22\"]}, \"y\": {\"type\": \"quantitative\", \"field\": \"Predicted Mean NDVI\", \"title\": \"Mean NDVI\"}}}, {\"data\": {\"name\": \"data-a33f1d2524e9bf089cb43a8e67bfbba7\"}, \"mark\": {\"type\": \"circle\", \"color\": \"red\", \"size\": 50}, \"encoding\": {\"tooltip\": [{\"type\": \"nominal\", \"field\": \"Month\"}, {\"type\": \"nominal\", \"field\": \"Region\"}, {\"type\": \"quantitative\", \"field\": \"Predicted Mean NDVI\"}], \"x\": {\"type\": \"ordinal\", \"field\": \"Month\", \"sort\": [\"01/19\", \"02/19\", \"03/19\", \"04/19\", \"05/19\", \"06/19\", \"07/19\", \"08/19\", \"09/19\", \"10/19\", \"11/19\", \"12/19\", \"01/20\", \"02/20\", \"03/20\", \"04/20\", \"05/20\", \"06/20\", \"07/20\", \"08/20\", \"09/20\", \"10/20\", \"11/20\", \"12/20\", \"01/21\", \"02/21\", \"03/21\", \"04/21\", \"05/21\", \"06/21\", \"07/21\", \"08/21\", \"09/21\", \"10/21\", \"11/21\", \"12/21\", \"01/22\", \"02/22\", \"03/22\", \"04/22\", \"05/22\", \"06/22\", \"07/22\", \"08/22\", \"09/22\", \"10/22\", \"11/22\", \"12/22\"]}, \"y\": {\"type\": \"quantitative\", \"field\": \"Predicted Mean NDVI\", \"title\": \"Mean NDVI\"}}}], \"height\": 250, \"title\": \"d'Ankarafantsika Monthly Mean NDVI\", \"width\": 400}, {\"layer\": [{\"mark\": {\"type\": \"line\", \"color\": \"#9467bd\"}, \"encoding\": {\"x\": {\"type\": \"ordinal\", \"field\": \"Month\", \"sort\": [\"01/19\", \"02/19\", \"03/19\", \"04/19\", \"05/19\", \"06/19\", \"07/19\", \"08/19\", \"09/19\", \"10/19\", \"11/19\", \"12/19\", \"01/20\", \"02/20\", \"03/20\", \"04/20\", \"05/20\", \"06/20\", \"07/20\", \"08/20\", \"09/20\", \"10/20\", \"11/20\", \"12/20\", \"01/21\", \"02/21\", \"03/21\", \"04/21\", \"05/21\", \"06/21\", \"07/21\", \"08/21\", \"09/21\", \"10/21\"]}, \"y\": {\"type\": \"quantitative\", \"field\": \"Residual\"}}}, {\"mark\": {\"type\": \"circle\", \"color\": \"#9467bd\", \"size\": 50}, \"encoding\": {\"tooltip\": [{\"type\": \"nominal\", \"field\": \"Month\"}, {\"type\": \"nominal\", \"field\": \"Region\"}, {\"type\": \"quantitative\", \"field\": \"Residual\"}], \"x\": {\"type\": \"ordinal\", \"field\": \"Month\", \"sort\": [\"01/19\", \"02/19\", \"03/19\", \"04/19\", \"05/19\", \"06/19\", \"07/19\", \"08/19\", \"09/19\", \"10/19\", \"11/19\", \"12/19\", \"01/20\", \"02/20\", \"03/20\", \"04/20\", \"05/20\", \"06/20\", \"07/20\", \"08/20\", \"09/20\", \"10/20\", \"11/20\", \"12/20\", \"01/21\", \"02/21\", \"03/21\", \"04/21\", \"05/21\", \"06/21\", \"07/21\", \"08/21\", \"09/21\", \"10/21\"]}, \"y\": {\"type\": \"quantitative\", \"field\": \"Residual\"}}}], \"data\": {\"name\": \"data-3dbf636f6c7cc8c1b5a32bf997d1ed3c\"}, \"height\": 250, \"title\": \"d'Ankarafantsika Detrended Monthly Mean NDVI\", \"width\": 400}]}, {\"hconcat\": [{\"layer\": [{\"data\": {\"name\": \"data-d3eca1934bbeb9a5bdf112fb44ae1254\"}, \"mark\": {\"type\": \"line\", \"color\": \"#17becf\"}, \"encoding\": {\"x\": {\"type\": \"ordinal\", \"field\": \"Month\", \"sort\": [\"01/19\", \"02/19\", \"03/19\", \"04/19\", \"05/19\", \"06/19\", \"07/19\", \"08/19\", \"09/19\", \"10/19\", \"11/19\", \"12/19\", \"01/20\", \"02/20\", \"03/20\", \"04/20\", \"05/20\", \"06/20\", \"07/20\", \"08/20\", \"09/20\", \"10/20\", \"11/20\", \"12/20\", \"01/21\", \"02/21\", \"03/21\", \"04/21\", \"05/21\", \"06/21\", \"07/21\", \"08/21\", \"09/21\", \"10/21\", \"11/21\", \"12/21\", \"01/22\", \"02/22\", \"03/22\", \"04/22\", \"05/22\", \"06/22\", \"07/22\", \"08/22\", \"09/22\", \"10/22\", \"11/22\", \"12/22\"]}, \"y\": {\"type\": \"quantitative\", \"field\": \"Mean NDVI\"}}}, {\"data\": {\"name\": \"data-d3eca1934bbeb9a5bdf112fb44ae1254\"}, \"mark\": {\"type\": \"circle\", \"color\": \"#17becf\", \"size\": 50}, \"encoding\": {\"tooltip\": [{\"type\": \"nominal\", \"field\": \"Month\"}, {\"type\": \"nominal\", \"field\": \"Region\"}, {\"type\": \"quantitative\", \"field\": \"Mean NDVI\"}], \"x\": {\"type\": \"ordinal\", \"field\": \"Month\", \"sort\": [\"01/19\", \"02/19\", \"03/19\", \"04/19\", \"05/19\", \"06/19\", \"07/19\", \"08/19\", \"09/19\", \"10/19\", \"11/19\", \"12/19\", \"01/20\", \"02/20\", \"03/20\", \"04/20\", \"05/20\", \"06/20\", \"07/20\", \"08/20\", \"09/20\", \"10/20\", \"11/20\", \"12/20\", \"01/21\", \"02/21\", \"03/21\", \"04/21\", \"05/21\", \"06/21\", \"07/21\", \"08/21\", \"09/21\", \"10/21\", \"11/21\", \"12/21\", \"01/22\", \"02/22\", \"03/22\", \"04/22\", \"05/22\", \"06/22\", \"07/22\", \"08/22\", \"09/22\", \"10/22\", \"11/22\", \"12/22\"]}, \"y\": {\"type\": \"quantitative\", \"field\": \"Mean NDVI\"}}}, {\"data\": {\"name\": \"data-d3eca1934bbeb9a5bdf112fb44ae1254\"}, \"mark\": {\"type\": \"line\", \"color\": \"red\"}, \"encoding\": {\"x\": {\"type\": \"ordinal\", \"field\": \"Month\", \"sort\": [\"01/19\", \"02/19\", \"03/19\", \"04/19\", \"05/19\", \"06/19\", \"07/19\", \"08/19\", \"09/19\", \"10/19\", \"11/19\", \"12/19\", \"01/20\", \"02/20\", \"03/20\", \"04/20\", \"05/20\", \"06/20\", \"07/20\", \"08/20\", \"09/20\", \"10/20\", \"11/20\", \"12/20\", \"01/21\", \"02/21\", \"03/21\", \"04/21\", \"05/21\", \"06/21\", \"07/21\", \"08/21\", \"09/21\", \"10/21\", \"11/21\", \"12/21\", \"01/22\", \"02/22\", \"03/22\", \"04/22\", \"05/22\", \"06/22\", \"07/22\", \"08/22\", \"09/22\", \"10/22\", \"11/22\", \"12/22\"]}, \"y\": {\"type\": \"quantitative\", \"field\": \"Fitted Mean NDVI\", \"title\": \"Mean NDVI\"}}}, {\"data\": {\"name\": \"data-d3eca1934bbeb9a5bdf112fb44ae1254\"}, \"mark\": {\"type\": \"circle\", \"color\": \"red\", \"size\": 50}, \"encoding\": {\"tooltip\": [{\"type\": \"nominal\", \"field\": \"Month\"}, {\"type\": \"nominal\", \"field\": \"Region\"}, {\"type\": \"quantitative\", \"field\": \"Fitted Mean NDVI\"}, {\"type\": \"quantitative\", \"field\": \"Residual\"}], \"x\": {\"type\": \"ordinal\", \"field\": \"Month\", \"sort\": [\"01/19\", \"02/19\", \"03/19\", \"04/19\", \"05/19\", \"06/19\", \"07/19\", \"08/19\", \"09/19\", \"10/19\", \"11/19\", \"12/19\", \"01/20\", \"02/20\", \"03/20\", \"04/20\", \"05/20\", \"06/20\", \"07/20\", \"08/20\", \"09/20\", \"10/20\", \"11/20\", \"12/20\", \"01/21\", \"02/21\", \"03/21\", \"04/21\", \"05/21\", \"06/21\", \"07/21\", \"08/21\", \"09/21\", \"10/21\", \"11/21\", \"12/21\", \"01/22\", \"02/22\", \"03/22\", \"04/22\", \"05/22\", \"06/22\", \"07/22\", \"08/22\", \"09/22\", \"10/22\", \"11/22\", \"12/22\"]}, \"y\": {\"type\": \"quantitative\", \"field\": \"Fitted Mean NDVI\", \"title\": \"Mean NDVI\"}}}, {\"data\": {\"name\": \"data-af17fb00603506eec0702e5630e096ed\"}, \"mark\": \"rule\", \"encoding\": {\"x\": {\"type\": \"ordinal\", \"field\": \"Month\", \"sort\": [\"01/19\", \"02/19\", \"03/19\", \"04/19\", \"05/19\", \"06/19\", \"07/19\", \"08/19\", \"09/19\", \"10/19\", \"11/19\", \"12/19\", \"01/20\", \"02/20\", \"03/20\", \"04/20\", \"05/20\", \"06/20\", \"07/20\", \"08/20\", \"09/20\", \"10/20\", \"11/20\", \"12/20\", \"01/21\", \"02/21\", \"03/21\", \"04/21\", \"05/21\", \"06/21\", \"07/21\", \"08/21\", \"09/21\", \"10/21\", \"11/21\", \"12/21\", \"01/22\", \"02/22\", \"03/22\", \"04/22\", \"05/22\", \"06/22\", \"07/22\", \"08/22\", \"09/22\", \"10/22\", \"11/22\", \"12/22\"]}}}, {\"data\": {\"name\": \"data-fe6c4a64522f5e0ae1308b95edc04629\"}, \"mark\": {\"type\": \"line\", \"color\": \"red\"}, \"encoding\": {\"x\": {\"type\": \"ordinal\", \"field\": \"Month\", \"sort\": [\"01/19\", \"02/19\", \"03/19\", \"04/19\", \"05/19\", \"06/19\", \"07/19\", \"08/19\", \"09/19\", \"10/19\", \"11/19\", \"12/19\", \"01/20\", \"02/20\", \"03/20\", \"04/20\", \"05/20\", \"06/20\", \"07/20\", \"08/20\", \"09/20\", \"10/20\", \"11/20\", \"12/20\", \"01/21\", \"02/21\", \"03/21\", \"04/21\", \"05/21\", \"06/21\", \"07/21\", \"08/21\", \"09/21\", \"10/21\", \"11/21\", \"12/21\", \"01/22\", \"02/22\", \"03/22\", \"04/22\", \"05/22\", \"06/22\", \"07/22\", \"08/22\", \"09/22\", \"10/22\", \"11/22\", \"12/22\"]}, \"y\": {\"type\": \"quantitative\", \"field\": \"Predicted Mean NDVI\", \"title\": \"Mean NDVI\"}}}, {\"data\": {\"name\": \"data-fe6c4a64522f5e0ae1308b95edc04629\"}, \"mark\": {\"type\": \"circle\", \"color\": \"red\", \"size\": 50}, \"encoding\": {\"tooltip\": [{\"type\": \"nominal\", \"field\": \"Month\"}, {\"type\": \"nominal\", \"field\": \"Region\"}, {\"type\": \"quantitative\", \"field\": \"Predicted Mean NDVI\"}], \"x\": {\"type\": \"ordinal\", \"field\": \"Month\", \"sort\": [\"01/19\", \"02/19\", \"03/19\", \"04/19\", \"05/19\", \"06/19\", \"07/19\", \"08/19\", \"09/19\", \"10/19\", \"11/19\", \"12/19\", \"01/20\", \"02/20\", \"03/20\", \"04/20\", \"05/20\", \"06/20\", \"07/20\", \"08/20\", \"09/20\", \"10/20\", \"11/20\", \"12/20\", \"01/21\", \"02/21\", \"03/21\", \"04/21\", \"05/21\", \"06/21\", \"07/21\", \"08/21\", \"09/21\", \"10/21\", \"11/21\", \"12/21\", \"01/22\", \"02/22\", \"03/22\", \"04/22\", \"05/22\", \"06/22\", \"07/22\", \"08/22\", \"09/22\", \"10/22\", \"11/22\", \"12/22\"]}, \"y\": {\"type\": \"quantitative\", \"field\": \"Predicted Mean NDVI\", \"title\": \"Mean NDVI\"}}}], \"height\": 250, \"title\": \"Masoala Monthly Mean NDVI\", \"width\": 400}, {\"layer\": [{\"mark\": {\"type\": \"line\", \"color\": \"#17becf\"}, \"encoding\": {\"x\": {\"type\": \"ordinal\", \"field\": \"Month\", \"sort\": [\"01/19\", \"02/19\", \"03/19\", \"04/19\", \"05/19\", \"06/19\", \"07/19\", \"08/19\", \"09/19\", \"10/19\", \"11/19\", \"12/19\", \"01/20\", \"02/20\", \"03/20\", \"04/20\", \"05/20\", \"06/20\", \"07/20\", \"08/20\", \"09/20\", \"10/20\", \"11/20\", \"12/20\", \"01/21\", \"02/21\", \"03/21\", \"04/21\", \"05/21\", \"06/21\", \"07/21\", \"08/21\", \"09/21\", \"10/21\"]}, \"y\": {\"type\": \"quantitative\", \"field\": \"Residual\"}}}, {\"mark\": {\"type\": \"circle\", \"color\": \"#17becf\", \"size\": 50}, \"encoding\": {\"tooltip\": [{\"type\": \"nominal\", \"field\": \"Month\"}, {\"type\": \"nominal\", \"field\": \"Region\"}, {\"type\": \"quantitative\", \"field\": \"Residual\"}], \"x\": {\"type\": \"ordinal\", \"field\": \"Month\", \"sort\": [\"01/19\", \"02/19\", \"03/19\", \"04/19\", \"05/19\", \"06/19\", \"07/19\", \"08/19\", \"09/19\", \"10/19\", \"11/19\", \"12/19\", \"01/20\", \"02/20\", \"03/20\", \"04/20\", \"05/20\", \"06/20\", \"07/20\", \"08/20\", \"09/20\", \"10/20\", \"11/20\", \"12/20\", \"01/21\", \"02/21\", \"03/21\", \"04/21\", \"05/21\", \"06/21\", \"07/21\", \"08/21\", \"09/21\", \"10/21\"]}, \"y\": {\"type\": \"quantitative\", \"field\": \"Residual\"}}}], \"data\": {\"name\": \"data-d3eca1934bbeb9a5bdf112fb44ae1254\"}, \"height\": 250, \"title\": \"Masoala Detrended Monthly Mean NDVI\", \"width\": 400}]}, {\"hconcat\": [{\"layer\": [{\"data\": {\"name\": \"data-d2037e9ab11da11d3af8c4c6916c96ec\"}, \"mark\": {\"type\": \"line\", \"color\": \"#D159F2\"}, \"encoding\": {\"x\": {\"type\": \"ordinal\", \"field\": \"Month\", \"sort\": [\"01/19\", \"02/19\", \"03/19\", \"04/19\", \"05/19\", \"06/19\", \"07/19\", \"08/19\", \"09/19\", \"10/19\", \"11/19\", \"12/19\", \"01/20\", \"02/20\", \"03/20\", \"04/20\", \"05/20\", \"06/20\", \"07/20\", \"08/20\", \"09/20\", \"10/20\", \"11/20\", \"12/20\", \"01/21\", \"02/21\", \"03/21\", \"04/21\", \"05/21\", \"06/21\", \"07/21\", \"08/21\", \"09/21\", \"10/21\", \"11/21\", \"12/21\", \"01/22\", \"02/22\", \"03/22\", \"04/22\", \"05/22\", \"06/22\", \"07/22\", \"08/22\", \"09/22\", \"10/22\", \"11/22\", \"12/22\"]}, \"y\": {\"type\": \"quantitative\", \"field\": \"Mean NDVI\"}}}, {\"data\": {\"name\": \"data-d2037e9ab11da11d3af8c4c6916c96ec\"}, \"mark\": {\"type\": \"circle\", \"color\": \"#D159F2\", \"size\": 50}, \"encoding\": {\"tooltip\": [{\"type\": \"nominal\", \"field\": \"Month\"}, {\"type\": \"nominal\", \"field\": \"Region\"}, {\"type\": \"quantitative\", \"field\": \"Mean NDVI\"}], \"x\": {\"type\": \"ordinal\", \"field\": \"Month\", \"sort\": [\"01/19\", \"02/19\", \"03/19\", \"04/19\", \"05/19\", \"06/19\", \"07/19\", \"08/19\", \"09/19\", \"10/19\", \"11/19\", \"12/19\", \"01/20\", \"02/20\", \"03/20\", \"04/20\", \"05/20\", \"06/20\", \"07/20\", \"08/20\", \"09/20\", \"10/20\", \"11/20\", \"12/20\", \"01/21\", \"02/21\", \"03/21\", \"04/21\", \"05/21\", \"06/21\", \"07/21\", \"08/21\", \"09/21\", \"10/21\", \"11/21\", \"12/21\", \"01/22\", \"02/22\", \"03/22\", \"04/22\", \"05/22\", \"06/22\", \"07/22\", \"08/22\", \"09/22\", \"10/22\", \"11/22\", \"12/22\"]}, \"y\": {\"type\": \"quantitative\", \"field\": \"Mean NDVI\"}}}, {\"data\": {\"name\": \"data-d2037e9ab11da11d3af8c4c6916c96ec\"}, \"mark\": {\"type\": \"line\", \"color\": \"red\"}, \"encoding\": {\"x\": {\"type\": \"ordinal\", \"field\": \"Month\", \"sort\": [\"01/19\", \"02/19\", \"03/19\", \"04/19\", \"05/19\", \"06/19\", \"07/19\", \"08/19\", \"09/19\", \"10/19\", \"11/19\", \"12/19\", \"01/20\", \"02/20\", \"03/20\", \"04/20\", \"05/20\", \"06/20\", \"07/20\", \"08/20\", \"09/20\", \"10/20\", \"11/20\", \"12/20\", \"01/21\", \"02/21\", \"03/21\", \"04/21\", \"05/21\", \"06/21\", \"07/21\", \"08/21\", \"09/21\", \"10/21\", \"11/21\", \"12/21\", \"01/22\", \"02/22\", \"03/22\", \"04/22\", \"05/22\", \"06/22\", \"07/22\", \"08/22\", \"09/22\", \"10/22\", \"11/22\", \"12/22\"]}, \"y\": {\"type\": \"quantitative\", \"field\": \"Fitted Mean NDVI\", \"title\": \"Mean NDVI\"}}}, {\"data\": {\"name\": \"data-d2037e9ab11da11d3af8c4c6916c96ec\"}, \"mark\": {\"type\": \"circle\", \"color\": \"red\", \"size\": 50}, \"encoding\": {\"tooltip\": [{\"type\": \"nominal\", \"field\": \"Month\"}, {\"type\": \"nominal\", \"field\": \"Region\"}, {\"type\": \"quantitative\", \"field\": \"Fitted Mean NDVI\"}, {\"type\": \"quantitative\", \"field\": \"Residual\"}], \"x\": {\"type\": \"ordinal\", \"field\": \"Month\", \"sort\": [\"01/19\", \"02/19\", \"03/19\", \"04/19\", \"05/19\", \"06/19\", \"07/19\", \"08/19\", \"09/19\", \"10/19\", \"11/19\", \"12/19\", \"01/20\", \"02/20\", \"03/20\", \"04/20\", \"05/20\", \"06/20\", \"07/20\", \"08/20\", \"09/20\", \"10/20\", \"11/20\", \"12/20\", \"01/21\", \"02/21\", \"03/21\", \"04/21\", \"05/21\", \"06/21\", \"07/21\", \"08/21\", \"09/21\", \"10/21\", \"11/21\", \"12/21\", \"01/22\", \"02/22\", \"03/22\", \"04/22\", \"05/22\", \"06/22\", \"07/22\", \"08/22\", \"09/22\", \"10/22\", \"11/22\", \"12/22\"]}, \"y\": {\"type\": \"quantitative\", \"field\": \"Fitted Mean NDVI\", \"title\": \"Mean NDVI\"}}}, {\"data\": {\"name\": \"data-af17fb00603506eec0702e5630e096ed\"}, \"mark\": \"rule\", \"encoding\": {\"x\": {\"type\": \"ordinal\", \"field\": \"Month\", \"sort\": [\"01/19\", \"02/19\", \"03/19\", \"04/19\", \"05/19\", \"06/19\", \"07/19\", \"08/19\", \"09/19\", \"10/19\", \"11/19\", \"12/19\", \"01/20\", \"02/20\", \"03/20\", \"04/20\", \"05/20\", \"06/20\", \"07/20\", \"08/20\", \"09/20\", \"10/20\", \"11/20\", \"12/20\", \"01/21\", \"02/21\", \"03/21\", \"04/21\", \"05/21\", \"06/21\", \"07/21\", \"08/21\", \"09/21\", \"10/21\", \"11/21\", \"12/21\", \"01/22\", \"02/22\", \"03/22\", \"04/22\", \"05/22\", \"06/22\", \"07/22\", \"08/22\", \"09/22\", \"10/22\", \"11/22\", \"12/22\"]}}}, {\"data\": {\"name\": \"data-dbc0ba2d637ccbc6ba1366d8c84e82ba\"}, \"mark\": {\"type\": \"line\", \"color\": \"red\"}, \"encoding\": {\"x\": {\"type\": \"ordinal\", \"field\": \"Month\", \"sort\": [\"01/19\", \"02/19\", \"03/19\", \"04/19\", \"05/19\", \"06/19\", \"07/19\", \"08/19\", \"09/19\", \"10/19\", \"11/19\", \"12/19\", \"01/20\", \"02/20\", \"03/20\", \"04/20\", \"05/20\", \"06/20\", \"07/20\", \"08/20\", \"09/20\", \"10/20\", \"11/20\", \"12/20\", \"01/21\", \"02/21\", \"03/21\", \"04/21\", \"05/21\", \"06/21\", \"07/21\", \"08/21\", \"09/21\", \"10/21\", \"11/21\", \"12/21\", \"01/22\", \"02/22\", \"03/22\", \"04/22\", \"05/22\", \"06/22\", \"07/22\", \"08/22\", \"09/22\", \"10/22\", \"11/22\", \"12/22\"]}, \"y\": {\"type\": \"quantitative\", \"field\": \"Predicted Mean NDVI\", \"title\": \"Mean NDVI\"}}}, {\"data\": {\"name\": \"data-dbc0ba2d637ccbc6ba1366d8c84e82ba\"}, \"mark\": {\"type\": \"circle\", \"color\": \"red\", \"size\": 50}, \"encoding\": {\"tooltip\": [{\"type\": \"nominal\", \"field\": \"Month\"}, {\"type\": \"nominal\", \"field\": \"Region\"}, {\"type\": \"quantitative\", \"field\": \"Predicted Mean NDVI\"}], \"x\": {\"type\": \"ordinal\", \"field\": \"Month\", \"sort\": [\"01/19\", \"02/19\", \"03/19\", \"04/19\", \"05/19\", \"06/19\", \"07/19\", \"08/19\", \"09/19\", \"10/19\", \"11/19\", \"12/19\", \"01/20\", \"02/20\", \"03/20\", \"04/20\", \"05/20\", \"06/20\", \"07/20\", \"08/20\", \"09/20\", \"10/20\", \"11/20\", \"12/20\", \"01/21\", \"02/21\", \"03/21\", \"04/21\", \"05/21\", \"06/21\", \"07/21\", \"08/21\", \"09/21\", \"10/21\", \"11/21\", \"12/21\", \"01/22\", \"02/22\", \"03/22\", \"04/22\", \"05/22\", \"06/22\", \"07/22\", \"08/22\", \"09/22\", \"10/22\", \"11/22\", \"12/22\"]}, \"y\": {\"type\": \"quantitative\", \"field\": \"Predicted Mean NDVI\", \"title\": \"Mean NDVI\"}}}], \"height\": 250, \"title\": \"Alan'Ankirisa Monthly Mean NDVI\", \"width\": 400}, {\"layer\": [{\"mark\": {\"type\": \"line\", \"color\": \"#D159F2\"}, \"encoding\": {\"x\": {\"type\": \"ordinal\", \"field\": \"Month\", \"sort\": [\"01/19\", \"02/19\", \"03/19\", \"04/19\", \"05/19\", \"06/19\", \"07/19\", \"08/19\", \"09/19\", \"10/19\", \"11/19\", \"12/19\", \"01/20\", \"02/20\", \"03/20\", \"04/20\", \"05/20\", \"06/20\", \"07/20\", \"08/20\", \"09/20\", \"10/20\", \"11/20\", \"12/20\", \"01/21\", \"02/21\", \"03/21\", \"04/21\", \"05/21\", \"06/21\", \"07/21\", \"08/21\", \"09/21\", \"10/21\"]}, \"y\": {\"type\": \"quantitative\", \"field\": \"Residual\"}}}, {\"mark\": {\"type\": \"circle\", \"color\": \"#D159F2\", \"size\": 50}, \"encoding\": {\"tooltip\": [{\"type\": \"nominal\", \"field\": \"Month\"}, {\"type\": \"nominal\", \"field\": \"Region\"}, {\"type\": \"quantitative\", \"field\": \"Residual\"}], \"x\": {\"type\": \"ordinal\", \"field\": \"Month\", \"sort\": [\"01/19\", \"02/19\", \"03/19\", \"04/19\", \"05/19\", \"06/19\", \"07/19\", \"08/19\", \"09/19\", \"10/19\", \"11/19\", \"12/19\", \"01/20\", \"02/20\", \"03/20\", \"04/20\", \"05/20\", \"06/20\", \"07/20\", \"08/20\", \"09/20\", \"10/20\", \"11/20\", \"12/20\", \"01/21\", \"02/21\", \"03/21\", \"04/21\", \"05/21\", \"06/21\", \"07/21\", \"08/21\", \"09/21\", \"10/21\"]}, \"y\": {\"type\": \"quantitative\", \"field\": \"Residual\"}}}], \"data\": {\"name\": \"data-d2037e9ab11da11d3af8c4c6916c96ec\"}, \"height\": 250, \"title\": \"Alan'Ankirisa Detrended Monthly Mean NDVI\", \"width\": 400}]}], \"$schema\": \"https://vega.github.io/schema/vega-lite/v4.8.1.json\", \"datasets\": {\"data-b124232c54d6063de72db85893def138\": [{\"Month\": \"01/19\", \"Years Since Epoch (t)\": 49.039, \"Max NDVI\": 0.977, \"Mean NDVI\": 0.764, \"Min NDVI\": -0.472, \"Region\": \"d'Andohahela\", \"Fitted Mean NDVI\": 0.762, \"Residual\": 0.002}, {\"Month\": \"02/19\", \"Years Since Epoch (t)\": 49.124, \"Max NDVI\": 0.998, \"Mean NDVI\": 0.766, \"Min NDVI\": -0.673, \"Region\": \"d'Andohahela\", \"Fitted Mean NDVI\": 0.76, \"Residual\": 0.006}, {\"Month\": \"03/19\", \"Years Since Epoch (t)\": 49.2, \"Max NDVI\": 0.999, \"Mean NDVI\": 0.803, \"Min NDVI\": -0.544, \"Region\": \"d'Andohahela\", \"Fitted Mean NDVI\": 0.758, \"Residual\": 0.045}, {\"Month\": \"04/19\", \"Years Since Epoch (t)\": 49.285, \"Max NDVI\": 0.999, \"Mean NDVI\": 0.781, \"Min NDVI\": -0.543, \"Region\": \"d'Andohahela\", \"Fitted Mean NDVI\": 0.756, \"Residual\": 0.025}, {\"Month\": \"05/19\", \"Years Since Epoch (t)\": 49.367, \"Max NDVI\": 1.0, \"Mean NDVI\": 0.797, \"Min NDVI\": -0.722, \"Region\": \"d'Andohahela\", \"Fitted Mean NDVI\": 0.754, \"Residual\": 0.043}, {\"Month\": \"06/19\", \"Years Since Epoch (t)\": 49.452, \"Max NDVI\": 0.999, \"Mean NDVI\": 0.757, \"Min NDVI\": -0.951, \"Region\": \"d'Andohahela\", \"Fitted Mean NDVI\": 0.752, \"Residual\": 0.005}, {\"Month\": \"07/19\", \"Years Since Epoch (t)\": 49.534, \"Max NDVI\": 0.999, \"Mean NDVI\": 0.771, \"Min NDVI\": -0.675, \"Region\": \"d'Andohahela\", \"Fitted Mean NDVI\": 0.75, \"Residual\": 0.021}, {\"Month\": \"08/19\", \"Years Since Epoch (t)\": 49.619, \"Max NDVI\": 0.997, \"Mean NDVI\": 0.726, \"Min NDVI\": -0.521, \"Region\": \"d'Andohahela\", \"Fitted Mean NDVI\": 0.748, \"Residual\": -0.022}, {\"Month\": \"09/19\", \"Years Since Epoch (t)\": 49.704, \"Max NDVI\": 0.948, \"Mean NDVI\": 0.71, \"Min NDVI\": -0.371, \"Region\": \"d'Andohahela\", \"Fitted Mean NDVI\": 0.746, \"Residual\": -0.036}, {\"Month\": \"10/19\", \"Years Since Epoch (t)\": 49.786, \"Max NDVI\": 0.925, \"Mean NDVI\": 0.687, \"Min NDVI\": -0.453, \"Region\": \"d'Andohahela\", \"Fitted Mean NDVI\": 0.744, \"Residual\": -0.057}, {\"Month\": \"11/19\", \"Years Since Epoch (t)\": 49.871, \"Max NDVI\": 0.933, \"Mean NDVI\": 0.704, \"Min NDVI\": -0.448, \"Region\": \"d'Andohahela\", \"Fitted Mean NDVI\": 0.742, \"Residual\": -0.038}, {\"Month\": \"12/19\", \"Years Since Epoch (t)\": 49.953, \"Max NDVI\": 0.951, \"Mean NDVI\": 0.74, \"Min NDVI\": -0.491, \"Region\": \"d'Andohahela\", \"Fitted Mean NDVI\": 0.741, \"Residual\": -0.001}, {\"Month\": \"01/20\", \"Years Since Epoch (t)\": 50.038, \"Max NDVI\": 0.945, \"Mean NDVI\": 0.709, \"Min NDVI\": -0.402, \"Region\": \"d'Andohahela\", \"Fitted Mean NDVI\": 0.739, \"Residual\": -0.03}, {\"Month\": \"02/20\", \"Years Since Epoch (t)\": 50.123, \"Max NDVI\": 0.995, \"Mean NDVI\": 0.7, \"Min NDVI\": -0.984, \"Region\": \"d'Andohahela\", \"Fitted Mean NDVI\": 0.737, \"Residual\": -0.037}, {\"Month\": \"03/20\", \"Years Since Epoch (t)\": 50.202, \"Max NDVI\": 0.965, \"Mean NDVI\": 0.719, \"Min NDVI\": -0.603, \"Region\": \"d'Andohahela\", \"Fitted Mean NDVI\": 0.735, \"Residual\": -0.016}, {\"Month\": \"04/20\", \"Years Since Epoch (t)\": 50.287, \"Max NDVI\": 0.999, \"Mean NDVI\": 0.801, \"Min NDVI\": -0.58, \"Region\": \"d'Andohahela\", \"Fitted Mean NDVI\": 0.733, \"Residual\": 0.068}, {\"Month\": \"05/20\", \"Years Since Epoch (t)\": 50.369, \"Max NDVI\": 0.999, \"Mean NDVI\": 0.778, \"Min NDVI\": -0.487, \"Region\": \"d'Andohahela\", \"Fitted Mean NDVI\": 0.731, \"Residual\": 0.047}, {\"Month\": \"06/20\", \"Years Since Epoch (t)\": 50.454, \"Max NDVI\": 0.999, \"Mean NDVI\": 0.758, \"Min NDVI\": -0.48, \"Region\": \"d'Andohahela\", \"Fitted Mean NDVI\": 0.729, \"Residual\": 0.029}, {\"Month\": \"07/20\", \"Years Since Epoch (t)\": 50.536, \"Max NDVI\": 0.999, \"Mean NDVI\": 0.744, \"Min NDVI\": -0.427, \"Region\": \"d'Andohahela\", \"Fitted Mean NDVI\": 0.727, \"Residual\": 0.017}, {\"Month\": \"08/20\", \"Years Since Epoch (t)\": 50.621, \"Max NDVI\": 0.998, \"Mean NDVI\": 0.69, \"Min NDVI\": -0.405, \"Region\": \"d'Andohahela\", \"Fitted Mean NDVI\": 0.725, \"Residual\": -0.035}, {\"Month\": \"09/20\", \"Years Since Epoch (t)\": 50.706, \"Max NDVI\": 0.932, \"Mean NDVI\": 0.671, \"Min NDVI\": -0.427, \"Region\": \"d'Andohahela\", \"Fitted Mean NDVI\": 0.723, \"Residual\": -0.052}, {\"Month\": \"10/20\", \"Years Since Epoch (t)\": 50.788, \"Max NDVI\": 0.916, \"Mean NDVI\": 0.655, \"Min NDVI\": -0.378, \"Region\": \"d'Andohahela\", \"Fitted Mean NDVI\": 0.721, \"Residual\": -0.066}, {\"Month\": \"11/20\", \"Years Since Epoch (t)\": 50.873, \"Max NDVI\": 0.939, \"Mean NDVI\": 0.673, \"Min NDVI\": -0.306, \"Region\": \"d'Andohahela\", \"Fitted Mean NDVI\": 0.719, \"Residual\": -0.046}, {\"Month\": \"12/20\", \"Years Since Epoch (t)\": 50.955, \"Max NDVI\": 0.956, \"Mean NDVI\": 0.679, \"Min NDVI\": -0.269, \"Region\": \"d'Andohahela\", \"Fitted Mean NDVI\": 0.717, \"Residual\": -0.038}, {\"Month\": \"01/21\", \"Years Since Epoch (t)\": 51.04, \"Max NDVI\": 0.989, \"Mean NDVI\": 0.696, \"Min NDVI\": -0.471, \"Region\": \"d'Andohahela\", \"Fitted Mean NDVI\": 0.715, \"Residual\": -0.019}, {\"Month\": \"02/21\", \"Years Since Epoch (t)\": 51.125, \"Max NDVI\": 0.975, \"Mean NDVI\": 0.714, \"Min NDVI\": -0.435, \"Region\": \"d'Andohahela\", \"Fitted Mean NDVI\": 0.713, \"Residual\": 0.001}, {\"Month\": \"03/21\", \"Years Since Epoch (t)\": 51.202, \"Max NDVI\": 0.999, \"Mean NDVI\": 0.762, \"Min NDVI\": -0.491, \"Region\": \"d'Andohahela\", \"Fitted Mean NDVI\": 0.712, \"Residual\": 0.05}, {\"Month\": \"04/21\", \"Years Since Epoch (t)\": 51.286, \"Max NDVI\": 0.999, \"Mean NDVI\": 0.773, \"Min NDVI\": -0.507, \"Region\": \"d'Andohahela\", \"Fitted Mean NDVI\": 0.71, \"Residual\": 0.063}, {\"Month\": \"05/21\", \"Years Since Epoch (t)\": 51.369, \"Max NDVI\": 0.999, \"Mean NDVI\": 0.751, \"Min NDVI\": -0.459, \"Region\": \"d'Andohahela\", \"Fitted Mean NDVI\": 0.708, \"Residual\": 0.043}, {\"Month\": \"06/21\", \"Years Since Epoch (t)\": 51.453, \"Max NDVI\": 1.0, \"Mean NDVI\": 0.768, \"Min NDVI\": -0.958, \"Region\": \"d'Andohahela\", \"Fitted Mean NDVI\": 0.706, \"Residual\": 0.062}, {\"Month\": \"07/21\", \"Years Since Epoch (t)\": 51.536, \"Max NDVI\": 1.0, \"Mean NDVI\": 0.758, \"Min NDVI\": -0.99, \"Region\": \"d'Andohahela\", \"Fitted Mean NDVI\": 0.704, \"Residual\": 0.054}, {\"Month\": \"08/21\", \"Years Since Epoch (t)\": 51.62, \"Max NDVI\": 0.962, \"Mean NDVI\": 0.7, \"Min NDVI\": -0.4, \"Region\": \"d'Andohahela\", \"Fitted Mean NDVI\": 0.702, \"Residual\": -0.002}, {\"Month\": \"09/21\", \"Years Since Epoch (t)\": 51.705, \"Max NDVI\": 0.938, \"Mean NDVI\": 0.68, \"Min NDVI\": -0.396, \"Region\": \"d'Andohahela\", \"Fitted Mean NDVI\": 0.7, \"Residual\": -0.02}, {\"Month\": \"10/21\", \"Years Since Epoch (t)\": 51.788, \"Max NDVI\": 0.934, \"Mean NDVI\": 0.632, \"Min NDVI\": -0.252, \"Region\": \"d'Andohahela\", \"Fitted Mean NDVI\": 0.698, \"Residual\": -0.066}], \"data-af17fb00603506eec0702e5630e096ed\": [{\"Month\": \"11/21\"}], \"data-e731b9d66df6db3e9a48555d0c701a07\": [{\"Month\": \"11/21\", \"Region\": \"d'Andohahela\", \"Predicted Mean NDVI\": 0.696}, {\"Month\": \"12/21\", \"Region\": \"d'Andohahela\", \"Predicted Mean NDVI\": 0.694}, {\"Month\": \"01/22\", \"Region\": \"d'Andohahela\", \"Predicted Mean NDVI\": 0.692}, {\"Month\": \"02/22\", \"Region\": \"d'Andohahela\", \"Predicted Mean NDVI\": 0.69}, {\"Month\": \"03/22\", \"Region\": \"d'Andohahela\", \"Predicted Mean NDVI\": 0.688}, {\"Month\": \"04/22\", \"Region\": \"d'Andohahela\", \"Predicted Mean NDVI\": 0.686}, {\"Month\": \"05/22\", \"Region\": \"d'Andohahela\", \"Predicted Mean NDVI\": 0.684}, {\"Month\": \"06/22\", \"Region\": \"d'Andohahela\", \"Predicted Mean NDVI\": 0.682}, {\"Month\": \"07/22\", \"Region\": \"d'Andohahela\", \"Predicted Mean NDVI\": 0.681}, {\"Month\": \"08/22\", \"Region\": \"d'Andohahela\", \"Predicted Mean NDVI\": 0.679}, {\"Month\": \"09/22\", \"Region\": \"d'Andohahela\", \"Predicted Mean NDVI\": 0.677}, {\"Month\": \"10/22\", \"Region\": \"d'Andohahela\", \"Predicted Mean NDVI\": 0.675}, {\"Month\": \"11/22\", \"Region\": \"d'Andohahela\", \"Predicted Mean NDVI\": 0.673}, {\"Month\": \"12/22\", \"Region\": \"d'Andohahela\", \"Predicted Mean NDVI\": 0.671}], \"data-ce0a92ecc63b9043436c366976336457\": [{\"Month\": \"01/19\", \"Years Since Epoch (t)\": 49.039, \"Max NDVI\": 0.999, \"Mean NDVI\": 0.791, \"Min NDVI\": -0.869, \"Region\": \"Midongy Betofaka\", \"Fitted Mean NDVI\": 0.796, \"Residual\": -0.005}, {\"Month\": \"02/19\", \"Years Since Epoch (t)\": 49.124, \"Max NDVI\": 0.997, \"Mean NDVI\": 0.774, \"Min NDVI\": -0.614, \"Region\": \"Midongy Betofaka\", \"Fitted Mean NDVI\": 0.794, \"Residual\": -0.02}, {\"Month\": \"03/19\", \"Years Since Epoch (t)\": 49.2, \"Max NDVI\": 0.995, \"Mean NDVI\": 0.815, \"Min NDVI\": -0.996, \"Region\": \"Midongy Betofaka\", \"Fitted Mean NDVI\": 0.793, \"Residual\": 0.022}, {\"Month\": \"04/19\", \"Years Since Epoch (t)\": 49.285, \"Max NDVI\": 0.996, \"Mean NDVI\": 0.825, \"Min NDVI\": -0.705, \"Region\": \"Midongy Betofaka\", \"Fitted Mean NDVI\": 0.792, \"Residual\": 0.033}, {\"Month\": \"05/19\", \"Years Since Epoch (t)\": 49.367, \"Max NDVI\": 0.999, \"Mean NDVI\": 0.835, \"Min NDVI\": -0.98, \"Region\": \"Midongy Betofaka\", \"Fitted Mean NDVI\": 0.791, \"Residual\": 0.044}, {\"Month\": \"06/19\", \"Years Since Epoch (t)\": 49.452, \"Max NDVI\": 0.999, \"Mean NDVI\": 0.813, \"Min NDVI\": -0.976, \"Region\": \"Midongy Betofaka\", \"Fitted Mean NDVI\": 0.79, \"Residual\": 0.023}, {\"Month\": \"07/19\", \"Years Since Epoch (t)\": 49.534, \"Max NDVI\": 0.999, \"Mean NDVI\": 0.826, \"Min NDVI\": -0.99, \"Region\": \"Midongy Betofaka\", \"Fitted Mean NDVI\": 0.789, \"Residual\": 0.037}, {\"Month\": \"08/19\", \"Years Since Epoch (t)\": 49.619, \"Max NDVI\": 0.962, \"Mean NDVI\": 0.778, \"Min NDVI\": -0.632, \"Region\": \"Midongy Betofaka\", \"Fitted Mean NDVI\": 0.787, \"Residual\": -0.009}, {\"Month\": \"09/19\", \"Years Since Epoch (t)\": 49.704, \"Max NDVI\": 0.911, \"Mean NDVI\": 0.721, \"Min NDVI\": -0.648, \"Region\": \"Midongy Betofaka\", \"Fitted Mean NDVI\": 0.786, \"Residual\": -0.065}, {\"Month\": \"10/19\", \"Years Since Epoch (t)\": 49.786, \"Max NDVI\": 0.919, \"Mean NDVI\": 0.738, \"Min NDVI\": -0.87, \"Region\": \"Midongy Betofaka\", \"Fitted Mean NDVI\": 0.785, \"Residual\": -0.047}, {\"Month\": \"11/19\", \"Years Since Epoch (t)\": 49.871, \"Max NDVI\": 0.944, \"Mean NDVI\": 0.757, \"Min NDVI\": -0.974, \"Region\": \"Midongy Betofaka\", \"Fitted Mean NDVI\": 0.784, \"Residual\": -0.027}, {\"Month\": \"12/19\", \"Years Since Epoch (t)\": 49.953, \"Max NDVI\": 0.999, \"Mean NDVI\": 0.735, \"Min NDVI\": -0.768, \"Region\": \"Midongy Betofaka\", \"Fitted Mean NDVI\": 0.783, \"Residual\": -0.048}, {\"Month\": \"01/20\", \"Years Since Epoch (t)\": 50.038, \"Max NDVI\": 0.998, \"Mean NDVI\": 0.766, \"Min NDVI\": -0.56, \"Region\": \"Midongy Betofaka\", \"Fitted Mean NDVI\": 0.781, \"Residual\": -0.015}, {\"Month\": \"02/20\", \"Years Since Epoch (t)\": 50.123, \"Max NDVI\": 0.972, \"Mean NDVI\": 0.78, \"Min NDVI\": -0.979, \"Region\": \"Midongy Betofaka\", \"Fitted Mean NDVI\": 0.78, \"Residual\": -0.0}, {\"Month\": \"03/20\", \"Years Since Epoch (t)\": 50.202, \"Max NDVI\": 1.0, \"Mean NDVI\": 0.809, \"Min NDVI\": -0.996, \"Region\": \"Midongy Betofaka\", \"Fitted Mean NDVI\": 0.779, \"Residual\": 0.03}, {\"Month\": \"04/20\", \"Years Since Epoch (t)\": 50.287, \"Max NDVI\": 0.999, \"Mean NDVI\": 0.788, \"Min NDVI\": -0.992, \"Region\": \"Midongy Betofaka\", \"Fitted Mean NDVI\": 0.778, \"Residual\": 0.01}, {\"Month\": \"05/20\", \"Years Since Epoch (t)\": 50.369, \"Max NDVI\": 0.999, \"Mean NDVI\": 0.819, \"Min NDVI\": -0.866, \"Region\": \"Midongy Betofaka\", \"Fitted Mean NDVI\": 0.777, \"Residual\": 0.042}, {\"Month\": \"06/20\", \"Years Since Epoch (t)\": 50.454, \"Max NDVI\": 0.999, \"Mean NDVI\": 0.801, \"Min NDVI\": -0.606, \"Region\": \"Midongy Betofaka\", \"Fitted Mean NDVI\": 0.775, \"Residual\": 0.026}, {\"Month\": \"07/20\", \"Years Since Epoch (t)\": 50.536, \"Max NDVI\": 0.999, \"Mean NDVI\": 0.797, \"Min NDVI\": -0.92, \"Region\": \"Midongy Betofaka\", \"Fitted Mean NDVI\": 0.774, \"Residual\": 0.023}, {\"Month\": \"08/20\", \"Years Since Epoch (t)\": 50.621, \"Max NDVI\": 0.999, \"Mean NDVI\": 0.765, \"Min NDVI\": -0.993, \"Region\": \"Midongy Betofaka\", \"Fitted Mean NDVI\": 0.773, \"Residual\": -0.008}, {\"Month\": \"09/20\", \"Years Since Epoch (t)\": 50.706, \"Max NDVI\": 0.905, \"Mean NDVI\": 0.714, \"Min NDVI\": -0.855, \"Region\": \"Midongy Betofaka\", \"Fitted Mean NDVI\": 0.772, \"Residual\": -0.058}, {\"Month\": \"10/20\", \"Years Since Epoch (t)\": 50.788, \"Max NDVI\": 0.915, \"Mean NDVI\": 0.729, \"Min NDVI\": -0.64, \"Region\": \"Midongy Betofaka\", \"Fitted Mean NDVI\": 0.771, \"Residual\": -0.042}, {\"Month\": \"11/20\", \"Years Since Epoch (t)\": 50.873, \"Max NDVI\": 0.92, \"Mean NDVI\": 0.718, \"Min NDVI\": -0.979, \"Region\": \"Midongy Betofaka\", \"Fitted Mean NDVI\": 0.769, \"Residual\": -0.051}, {\"Month\": \"12/20\", \"Years Since Epoch (t)\": 50.955, \"Max NDVI\": 0.929, \"Mean NDVI\": 0.727, \"Min NDVI\": -0.605, \"Region\": \"Midongy Betofaka\", \"Fitted Mean NDVI\": 0.768, \"Residual\": -0.041}, {\"Month\": \"01/21\", \"Years Since Epoch (t)\": 51.04, \"Max NDVI\": 0.96, \"Mean NDVI\": 0.786, \"Min NDVI\": -0.65, \"Region\": \"Midongy Betofaka\", \"Fitted Mean NDVI\": 0.767, \"Residual\": 0.019}, {\"Month\": \"02/21\", \"Years Since Epoch (t)\": 51.125, \"Max NDVI\": 0.999, \"Mean NDVI\": 0.782, \"Min NDVI\": -0.646, \"Region\": \"Midongy Betofaka\", \"Fitted Mean NDVI\": 0.766, \"Residual\": 0.016}, {\"Month\": \"03/21\", \"Years Since Epoch (t)\": 51.202, \"Max NDVI\": 0.999, \"Mean NDVI\": 0.792, \"Min NDVI\": -0.995, \"Region\": \"Midongy Betofaka\", \"Fitted Mean NDVI\": 0.765, \"Residual\": 0.027}, {\"Month\": \"04/21\", \"Years Since Epoch (t)\": 51.286, \"Max NDVI\": 0.998, \"Mean NDVI\": 0.815, \"Min NDVI\": -0.754, \"Region\": \"Midongy Betofaka\", \"Fitted Mean NDVI\": 0.763, \"Residual\": 0.052}, {\"Month\": \"05/21\", \"Years Since Epoch (t)\": 51.369, \"Max NDVI\": 0.999, \"Mean NDVI\": 0.806, \"Min NDVI\": -0.991, \"Region\": \"Midongy Betofaka\", \"Fitted Mean NDVI\": 0.762, \"Residual\": 0.044}, {\"Month\": \"06/21\", \"Years Since Epoch (t)\": 51.453, \"Max NDVI\": 1.0, \"Mean NDVI\": 0.815, \"Min NDVI\": -0.992, \"Region\": \"Midongy Betofaka\", \"Fitted Mean NDVI\": 0.761, \"Residual\": 0.054}, {\"Month\": \"07/21\", \"Years Since Epoch (t)\": 51.536, \"Max NDVI\": 0.999, \"Mean NDVI\": 0.787, \"Min NDVI\": -0.98, \"Region\": \"Midongy Betofaka\", \"Fitted Mean NDVI\": 0.76, \"Residual\": 0.027}, {\"Month\": \"08/21\", \"Years Since Epoch (t)\": 51.62, \"Max NDVI\": 0.99, \"Mean NDVI\": 0.752, \"Min NDVI\": -0.864, \"Region\": \"Midongy Betofaka\", \"Fitted Mean NDVI\": 0.759, \"Residual\": -0.007}, {\"Month\": \"09/21\", \"Years Since Epoch (t)\": 51.705, \"Max NDVI\": 0.922, \"Mean NDVI\": 0.724, \"Min NDVI\": -0.924, \"Region\": \"Midongy Betofaka\", \"Fitted Mean NDVI\": 0.757, \"Residual\": -0.033}, {\"Month\": \"10/21\", \"Years Since Epoch (t)\": 51.788, \"Max NDVI\": 0.914, \"Mean NDVI\": 0.701, \"Min NDVI\": -0.984, \"Region\": \"Midongy Betofaka\", \"Fitted Mean NDVI\": 0.756, \"Residual\": -0.055}], \"data-07625e840c56bb94031e6e34837afbc5\": [{\"Month\": \"11/21\", \"Region\": \"Midongy Betofaka\", \"Predicted Mean NDVI\": 0.755}, {\"Month\": \"12/21\", \"Region\": \"Midongy Betofaka\", \"Predicted Mean NDVI\": 0.754}, {\"Month\": \"01/22\", \"Region\": \"Midongy Betofaka\", \"Predicted Mean NDVI\": 0.753}, {\"Month\": \"02/22\", \"Region\": \"Midongy Betofaka\", \"Predicted Mean NDVI\": 0.751}, {\"Month\": \"03/22\", \"Region\": \"Midongy Betofaka\", \"Predicted Mean NDVI\": 0.75}, {\"Month\": \"04/22\", \"Region\": \"Midongy Betofaka\", \"Predicted Mean NDVI\": 0.749}, {\"Month\": \"05/22\", \"Region\": \"Midongy Betofaka\", \"Predicted Mean NDVI\": 0.748}, {\"Month\": \"06/22\", \"Region\": \"Midongy Betofaka\", \"Predicted Mean NDVI\": 0.747}, {\"Month\": \"07/22\", \"Region\": \"Midongy Betofaka\", \"Predicted Mean NDVI\": 0.745}, {\"Month\": \"08/22\", \"Region\": \"Midongy Betofaka\", \"Predicted Mean NDVI\": 0.744}, {\"Month\": \"09/22\", \"Region\": \"Midongy Betofaka\", \"Predicted Mean NDVI\": 0.743}, {\"Month\": \"10/22\", \"Region\": \"Midongy Betofaka\", \"Predicted Mean NDVI\": 0.742}, {\"Month\": \"11/22\", \"Region\": \"Midongy Betofaka\", \"Predicted Mean NDVI\": 0.741}, {\"Month\": \"12/22\", \"Region\": \"Midongy Betofaka\", \"Predicted Mean NDVI\": 0.739}], \"data-987c710a6a6a6061ff3e26a4c3315c5e\": [{\"Month\": \"01/19\", \"Years Since Epoch (t)\": 49.039, \"Max NDVI\": 0.905, \"Mean NDVI\": 0.503, \"Min NDVI\": -0.861, \"Region\": \"Tsimanampetsotsa\", \"Fitted Mean NDVI\": 0.441, \"Residual\": 0.062}, {\"Month\": \"02/19\", \"Years Since Epoch (t)\": 49.124, \"Max NDVI\": 0.921, \"Mean NDVI\": 0.52, \"Min NDVI\": -0.999, \"Region\": \"Tsimanampetsotsa\", \"Fitted Mean NDVI\": 0.435, \"Residual\": 0.085}, {\"Month\": \"03/19\", \"Years Since Epoch (t)\": 49.2, \"Max NDVI\": 0.92, \"Mean NDVI\": 0.516, \"Min NDVI\": -0.998, \"Region\": \"Tsimanampetsotsa\", \"Fitted Mean NDVI\": 0.43, \"Residual\": 0.086}, {\"Month\": \"04/19\", \"Years Since Epoch (t)\": 49.285, \"Max NDVI\": 0.937, \"Mean NDVI\": 0.459, \"Min NDVI\": -0.891, \"Region\": \"Tsimanampetsotsa\", \"Fitted Mean NDVI\": 0.424, \"Residual\": 0.035}, {\"Month\": \"05/19\", \"Years Since Epoch (t)\": 49.367, \"Max NDVI\": 0.925, \"Mean NDVI\": 0.436, \"Min NDVI\": -0.998, \"Region\": \"Tsimanampetsotsa\", \"Fitted Mean NDVI\": 0.418, \"Residual\": 0.018}, {\"Month\": \"06/19\", \"Years Since Epoch (t)\": 49.452, \"Max NDVI\": 0.999, \"Mean NDVI\": 0.412, \"Min NDVI\": -0.999, \"Region\": \"Tsimanampetsotsa\", \"Fitted Mean NDVI\": 0.412, \"Residual\": -0.0}, {\"Month\": \"07/19\", \"Years Since Epoch (t)\": 49.534, \"Max NDVI\": 1.0, \"Mean NDVI\": 0.403, \"Min NDVI\": -0.999, \"Region\": \"Tsimanampetsotsa\", \"Fitted Mean NDVI\": 0.406, \"Residual\": -0.003}, {\"Month\": \"08/19\", \"Years Since Epoch (t)\": 49.619, \"Max NDVI\": 0.999, \"Mean NDVI\": 0.314, \"Min NDVI\": -0.999, \"Region\": \"Tsimanampetsotsa\", \"Fitted Mean NDVI\": 0.4, \"Residual\": -0.086}, {\"Month\": \"09/19\", \"Years Since Epoch (t)\": 49.704, \"Max NDVI\": 0.911, \"Mean NDVI\": 0.271, \"Min NDVI\": -0.942, \"Region\": \"Tsimanampetsotsa\", \"Fitted Mean NDVI\": 0.394, \"Residual\": -0.123}, {\"Month\": \"10/19\", \"Years Since Epoch (t)\": 49.786, \"Max NDVI\": 0.925, \"Mean NDVI\": 0.253, \"Min NDVI\": -0.999, \"Region\": \"Tsimanampetsotsa\", \"Fitted Mean NDVI\": 0.389, \"Residual\": -0.136}, {\"Month\": \"11/19\", \"Years Since Epoch (t)\": 49.871, \"Max NDVI\": 0.921, \"Mean NDVI\": 0.359, \"Min NDVI\": -0.999, \"Region\": \"Tsimanampetsotsa\", \"Fitted Mean NDVI\": 0.383, \"Residual\": -0.024}, {\"Month\": \"12/19\", \"Years Since Epoch (t)\": 49.953, \"Max NDVI\": 0.957, \"Mean NDVI\": 0.371, \"Min NDVI\": -0.999, \"Region\": \"Tsimanampetsotsa\", \"Fitted Mean NDVI\": 0.377, \"Residual\": -0.006}, {\"Month\": \"01/20\", \"Years Since Epoch (t)\": 50.038, \"Max NDVI\": 0.925, \"Mean NDVI\": 0.379, \"Min NDVI\": -0.999, \"Region\": \"Tsimanampetsotsa\", \"Fitted Mean NDVI\": 0.371, \"Residual\": 0.008}, {\"Month\": \"02/20\", \"Years Since Epoch (t)\": 50.123, \"Max NDVI\": 0.909, \"Mean NDVI\": 0.437, \"Min NDVI\": -0.999, \"Region\": \"Tsimanampetsotsa\", \"Fitted Mean NDVI\": 0.365, \"Residual\": 0.072}, {\"Month\": \"03/20\", \"Years Since Epoch (t)\": 50.202, \"Max NDVI\": 0.884, \"Mean NDVI\": 0.394, \"Min NDVI\": -0.971, \"Region\": \"Tsimanampetsotsa\", \"Fitted Mean NDVI\": 0.359, \"Residual\": 0.035}, {\"Month\": \"04/20\", \"Years Since Epoch (t)\": 50.287, \"Max NDVI\": 0.944, \"Mean NDVI\": 0.403, \"Min NDVI\": -0.986, \"Region\": \"Tsimanampetsotsa\", \"Fitted Mean NDVI\": 0.353, \"Residual\": 0.05}, {\"Month\": \"05/20\", \"Years Since Epoch (t)\": 50.369, \"Max NDVI\": 0.999, \"Mean NDVI\": 0.394, \"Min NDVI\": -0.999, \"Region\": \"Tsimanampetsotsa\", \"Fitted Mean NDVI\": 0.348, \"Residual\": 0.046}, {\"Month\": \"06/20\", \"Years Since Epoch (t)\": 50.454, \"Max NDVI\": 0.999, \"Mean NDVI\": 0.368, \"Min NDVI\": -0.999, \"Region\": \"Tsimanampetsotsa\", \"Fitted Mean NDVI\": 0.342, \"Residual\": 0.026}, {\"Month\": \"07/20\", \"Years Since Epoch (t)\": 50.536, \"Max NDVI\": 0.999, \"Mean NDVI\": 0.318, \"Min NDVI\": -0.999, \"Region\": \"Tsimanampetsotsa\", \"Fitted Mean NDVI\": 0.336, \"Residual\": -0.018}, {\"Month\": \"08/20\", \"Years Since Epoch (t)\": 50.621, \"Max NDVI\": 0.946, \"Mean NDVI\": 0.24, \"Min NDVI\": -0.999, \"Region\": \"Tsimanampetsotsa\", \"Fitted Mean NDVI\": 0.33, \"Residual\": -0.09}, {\"Month\": \"09/20\", \"Years Since Epoch (t)\": 50.706, \"Max NDVI\": 0.916, \"Mean NDVI\": 0.225, \"Min NDVI\": -0.999, \"Region\": \"Tsimanampetsotsa\", \"Fitted Mean NDVI\": 0.324, \"Residual\": -0.099}, {\"Month\": \"10/20\", \"Years Since Epoch (t)\": 50.788, \"Max NDVI\": 0.907, \"Mean NDVI\": 0.197, \"Min NDVI\": -0.999, \"Region\": \"Tsimanampetsotsa\", \"Fitted Mean NDVI\": 0.318, \"Residual\": -0.121}, {\"Month\": \"11/20\", \"Years Since Epoch (t)\": 50.873, \"Max NDVI\": 0.916, \"Mean NDVI\": 0.193, \"Min NDVI\": -0.999, \"Region\": \"Tsimanampetsotsa\", \"Fitted Mean NDVI\": 0.312, \"Residual\": -0.119}, {\"Month\": \"12/20\", \"Years Since Epoch (t)\": 50.955, \"Max NDVI\": 0.996, \"Mean NDVI\": 0.211, \"Min NDVI\": -0.999, \"Region\": \"Tsimanampetsotsa\", \"Fitted Mean NDVI\": 0.307, \"Residual\": -0.096}, {\"Month\": \"01/21\", \"Years Since Epoch (t)\": 51.04, \"Max NDVI\": 0.964, \"Mean NDVI\": 0.257, \"Min NDVI\": -0.999, \"Region\": \"Tsimanampetsotsa\", \"Fitted Mean NDVI\": 0.301, \"Residual\": -0.044}, {\"Month\": \"02/21\", \"Years Since Epoch (t)\": 51.125, \"Max NDVI\": 0.93, \"Mean NDVI\": 0.304, \"Min NDVI\": -0.999, \"Region\": \"Tsimanampetsotsa\", \"Fitted Mean NDVI\": 0.295, \"Residual\": 0.009}, {\"Month\": \"03/21\", \"Years Since Epoch (t)\": 51.202, \"Max NDVI\": 0.901, \"Mean NDVI\": 0.425, \"Min NDVI\": -0.947, \"Region\": \"Tsimanampetsotsa\", \"Fitted Mean NDVI\": 0.289, \"Residual\": 0.136}, {\"Month\": \"04/21\", \"Years Since Epoch (t)\": 51.286, \"Max NDVI\": 1.0, \"Mean NDVI\": 0.41, \"Min NDVI\": -0.999, \"Region\": \"Tsimanampetsotsa\", \"Fitted Mean NDVI\": 0.283, \"Residual\": 0.127}, {\"Month\": \"05/21\", \"Years Since Epoch (t)\": 51.369, \"Max NDVI\": 1.0, \"Mean NDVI\": 0.405, \"Min NDVI\": -0.999, \"Region\": \"Tsimanampetsotsa\", \"Fitted Mean NDVI\": 0.277, \"Residual\": 0.128}, {\"Month\": \"06/21\", \"Years Since Epoch (t)\": 51.453, \"Max NDVI\": 1.0, \"Mean NDVI\": 0.373, \"Min NDVI\": -0.999, \"Region\": \"Tsimanampetsotsa\", \"Fitted Mean NDVI\": 0.272, \"Residual\": 0.101}, {\"Month\": \"07/21\", \"Years Since Epoch (t)\": 51.536, \"Max NDVI\": 1.0, \"Mean NDVI\": 0.321, \"Min NDVI\": -0.999, \"Region\": \"Tsimanampetsotsa\", \"Fitted Mean NDVI\": 0.266, \"Residual\": 0.055}, {\"Month\": \"08/21\", \"Years Since Epoch (t)\": 51.62, \"Max NDVI\": 0.999, \"Mean NDVI\": 0.244, \"Min NDVI\": -0.999, \"Region\": \"Tsimanampetsotsa\", \"Fitted Mean NDVI\": 0.26, \"Residual\": -0.016}, {\"Month\": \"09/21\", \"Years Since Epoch (t)\": 51.705, \"Max NDVI\": 0.926, \"Mean NDVI\": 0.209, \"Min NDVI\": -0.968, \"Region\": \"Tsimanampetsotsa\", \"Fitted Mean NDVI\": 0.254, \"Residual\": -0.045}, {\"Month\": \"10/21\", \"Years Since Epoch (t)\": 51.788, \"Max NDVI\": 0.934, \"Mean NDVI\": 0.196, \"Min NDVI\": -0.999, \"Region\": \"Tsimanampetsotsa\", \"Fitted Mean NDVI\": 0.248, \"Residual\": -0.052}], \"data-6c402e904ae3e56e24f2f9fe906b2ce1\": [{\"Month\": \"11/21\", \"Region\": \"Tsimanampetsotsa\", \"Predicted Mean NDVI\": 0.242}, {\"Month\": \"12/21\", \"Region\": \"Tsimanampetsotsa\", \"Predicted Mean NDVI\": 0.236}, {\"Month\": \"01/22\", \"Region\": \"Tsimanampetsotsa\", \"Predicted Mean NDVI\": 0.23}, {\"Month\": \"02/22\", \"Region\": \"Tsimanampetsotsa\", \"Predicted Mean NDVI\": 0.224}, {\"Month\": \"03/22\", \"Region\": \"Tsimanampetsotsa\", \"Predicted Mean NDVI\": 0.219}, {\"Month\": \"04/22\", \"Region\": \"Tsimanampetsotsa\", \"Predicted Mean NDVI\": 0.213}, {\"Month\": \"05/22\", \"Region\": \"Tsimanampetsotsa\", \"Predicted Mean NDVI\": 0.207}, {\"Month\": \"06/22\", \"Region\": \"Tsimanampetsotsa\", \"Predicted Mean NDVI\": 0.201}, {\"Month\": \"07/22\", \"Region\": \"Tsimanampetsotsa\", \"Predicted Mean NDVI\": 0.196}, {\"Month\": \"08/22\", \"Region\": \"Tsimanampetsotsa\", \"Predicted Mean NDVI\": 0.19}, {\"Month\": \"09/22\", \"Region\": \"Tsimanampetsotsa\", \"Predicted Mean NDVI\": 0.184}, {\"Month\": \"10/22\", \"Region\": \"Tsimanampetsotsa\", \"Predicted Mean NDVI\": 0.178}, {\"Month\": \"11/22\", \"Region\": \"Tsimanampetsotsa\", \"Predicted Mean NDVI\": 0.172}, {\"Month\": \"12/22\", \"Region\": \"Tsimanampetsotsa\", \"Predicted Mean NDVI\": 0.166}], \"data-3dbf636f6c7cc8c1b5a32bf997d1ed3c\": [{\"Month\": \"01/19\", \"Years Since Epoch (t)\": 49.039, \"Max NDVI\": 0.999, \"Mean NDVI\": 0.737, \"Min NDVI\": -0.386, \"Region\": \"d'Ankarafantsika\", \"Fitted Mean NDVI\": 0.716, \"Residual\": 0.021}, {\"Month\": \"02/19\", \"Years Since Epoch (t)\": 49.124, \"Max NDVI\": 0.985, \"Mean NDVI\": 0.77, \"Min NDVI\": -0.386, \"Region\": \"d'Ankarafantsika\", \"Fitted Mean NDVI\": 0.712, \"Residual\": 0.058}, {\"Month\": \"03/19\", \"Years Since Epoch (t)\": 49.2, \"Max NDVI\": 0.999, \"Mean NDVI\": 0.777, \"Min NDVI\": -0.663, \"Region\": \"d'Ankarafantsika\", \"Fitted Mean NDVI\": 0.709, \"Residual\": 0.068}, {\"Month\": \"04/19\", \"Years Since Epoch (t)\": 49.285, \"Max NDVI\": 0.999, \"Mean NDVI\": 0.768, \"Min NDVI\": -0.614, \"Region\": \"d'Ankarafantsika\", \"Fitted Mean NDVI\": 0.706, \"Residual\": 0.062}, {\"Month\": \"05/19\", \"Years Since Epoch (t)\": 49.367, \"Max NDVI\": 0.993, \"Mean NDVI\": 0.732, \"Min NDVI\": -0.499, \"Region\": \"d'Ankarafantsika\", \"Fitted Mean NDVI\": 0.702, \"Residual\": 0.03}, {\"Month\": \"06/19\", \"Years Since Epoch (t)\": 49.452, \"Max NDVI\": 0.999, \"Mean NDVI\": 0.677, \"Min NDVI\": -0.526, \"Region\": \"d'Ankarafantsika\", \"Fitted Mean NDVI\": 0.699, \"Residual\": -0.022}, {\"Month\": \"07/19\", \"Years Since Epoch (t)\": 49.534, \"Max NDVI\": 0.988, \"Mean NDVI\": 0.628, \"Min NDVI\": -0.345, \"Region\": \"d'Ankarafantsika\", \"Fitted Mean NDVI\": 0.696, \"Residual\": -0.068}, {\"Month\": \"08/19\", \"Years Since Epoch (t)\": 49.619, \"Max NDVI\": 0.994, \"Mean NDVI\": 0.574, \"Min NDVI\": -0.328, \"Region\": \"d'Ankarafantsika\", \"Fitted Mean NDVI\": 0.692, \"Residual\": -0.118}, {\"Month\": \"09/19\", \"Years Since Epoch (t)\": 49.704, \"Max NDVI\": 0.909, \"Mean NDVI\": 0.508, \"Min NDVI\": -0.32, \"Region\": \"d'Ankarafantsika\", \"Fitted Mean NDVI\": 0.689, \"Residual\": -0.181}, {\"Month\": \"10/19\", \"Years Since Epoch (t)\": 49.786, \"Max NDVI\": 0.877, \"Mean NDVI\": 0.489, \"Min NDVI\": -0.175, \"Region\": \"d'Ankarafantsika\", \"Fitted Mean NDVI\": 0.685, \"Residual\": -0.196}, {\"Month\": \"11/19\", \"Years Since Epoch (t)\": 49.871, \"Max NDVI\": 0.999, \"Mean NDVI\": 0.562, \"Min NDVI\": -0.345, \"Region\": \"d'Ankarafantsika\", \"Fitted Mean NDVI\": 0.682, \"Residual\": -0.12}, {\"Month\": \"12/19\", \"Years Since Epoch (t)\": 49.953, \"Max NDVI\": 0.962, \"Mean NDVI\": 0.705, \"Min NDVI\": -0.338, \"Region\": \"d'Ankarafantsika\", \"Fitted Mean NDVI\": 0.679, \"Residual\": 0.026}, {\"Month\": \"01/20\", \"Years Since Epoch (t)\": 50.038, \"Max NDVI\": 0.921, \"Mean NDVI\": 0.734, \"Min NDVI\": -0.373, \"Region\": \"d'Ankarafantsika\", \"Fitted Mean NDVI\": 0.675, \"Residual\": 0.059}, {\"Month\": \"02/20\", \"Years Since Epoch (t)\": 50.123, \"Max NDVI\": 0.998, \"Mean NDVI\": 0.804, \"Min NDVI\": -0.54, \"Region\": \"d'Ankarafantsika\", \"Fitted Mean NDVI\": 0.672, \"Residual\": 0.132}, {\"Month\": \"03/20\", \"Years Since Epoch (t)\": 50.202, \"Max NDVI\": 0.999, \"Mean NDVI\": 0.804, \"Min NDVI\": -0.68, \"Region\": \"d'Ankarafantsika\", \"Fitted Mean NDVI\": 0.669, \"Residual\": 0.135}, {\"Month\": \"04/20\", \"Years Since Epoch (t)\": 50.287, \"Max NDVI\": 0.955, \"Mean NDVI\": 0.759, \"Min NDVI\": -0.431, \"Region\": \"d'Ankarafantsika\", \"Fitted Mean NDVI\": 0.665, \"Residual\": 0.094}, {\"Month\": \"05/20\", \"Years Since Epoch (t)\": 50.369, \"Max NDVI\": 0.942, \"Mean NDVI\": 0.712, \"Min NDVI\": -0.458, \"Region\": \"d'Ankarafantsika\", \"Fitted Mean NDVI\": 0.662, \"Residual\": 0.05}, {\"Month\": \"06/20\", \"Years Since Epoch (t)\": 50.454, \"Max NDVI\": 0.982, \"Mean NDVI\": 0.677, \"Min NDVI\": -0.388, \"Region\": \"d'Ankarafantsika\", \"Fitted Mean NDVI\": 0.658, \"Residual\": 0.019}, {\"Month\": \"07/20\", \"Years Since Epoch (t)\": 50.536, \"Max NDVI\": 0.955, \"Mean NDVI\": 0.648, \"Min NDVI\": -0.387, \"Region\": \"d'Ankarafantsika\", \"Fitted Mean NDVI\": 0.655, \"Residual\": -0.007}, {\"Month\": \"08/20\", \"Years Since Epoch (t)\": 50.621, \"Max NDVI\": 0.956, \"Mean NDVI\": 0.579, \"Min NDVI\": -0.527, \"Region\": \"d'Ankarafantsika\", \"Fitted Mean NDVI\": 0.652, \"Residual\": -0.073}, {\"Month\": \"09/20\", \"Years Since Epoch (t)\": 50.706, \"Max NDVI\": 0.894, \"Mean NDVI\": 0.496, \"Min NDVI\": -0.24, \"Region\": \"d'Ankarafantsika\", \"Fitted Mean NDVI\": 0.648, \"Residual\": -0.152}, {\"Month\": \"10/20\", \"Years Since Epoch (t)\": 50.788, \"Max NDVI\": 0.998, \"Mean NDVI\": 0.646, \"Min NDVI\": -0.322, \"Region\": \"d'Ankarafantsika\", \"Fitted Mean NDVI\": 0.645, \"Residual\": 0.001}, {\"Month\": \"11/20\", \"Years Since Epoch (t)\": 50.873, \"Max NDVI\": 0.903, \"Mean NDVI\": 0.596, \"Min NDVI\": -0.282, \"Region\": \"d'Ankarafantsika\", \"Fitted Mean NDVI\": 0.641, \"Residual\": -0.045}, {\"Month\": \"12/20\", \"Years Since Epoch (t)\": 50.955, \"Max NDVI\": 0.999, \"Mean NDVI\": 0.686, \"Min NDVI\": -0.501, \"Region\": \"d'Ankarafantsika\", \"Fitted Mean NDVI\": 0.638, \"Residual\": 0.048}, {\"Month\": \"01/21\", \"Years Since Epoch (t)\": 51.04, \"Max NDVI\": 0.999, \"Mean NDVI\": 0.716, \"Min NDVI\": -0.513, \"Region\": \"d'Ankarafantsika\", \"Fitted Mean NDVI\": 0.635, \"Residual\": 0.081}, {\"Month\": \"02/21\", \"Years Since Epoch (t)\": 51.125, \"Max NDVI\": 0.999, \"Mean NDVI\": 0.707, \"Min NDVI\": -0.42, \"Region\": \"d'Ankarafantsika\", \"Fitted Mean NDVI\": 0.631, \"Residual\": 0.076}, {\"Month\": \"03/21\", \"Years Since Epoch (t)\": 51.202, \"Max NDVI\": 0.998, \"Mean NDVI\": 0.771, \"Min NDVI\": -0.511, \"Region\": \"d'Ankarafantsika\", \"Fitted Mean NDVI\": 0.628, \"Residual\": 0.143}, {\"Month\": \"04/21\", \"Years Since Epoch (t)\": 51.286, \"Max NDVI\": 0.962, \"Mean NDVI\": 0.749, \"Min NDVI\": -0.459, \"Region\": \"d'Ankarafantsika\", \"Fitted Mean NDVI\": 0.625, \"Residual\": 0.124}, {\"Month\": \"05/21\", \"Years Since Epoch (t)\": 51.369, \"Max NDVI\": 0.924, \"Mean NDVI\": 0.689, \"Min NDVI\": -0.501, \"Region\": \"d'Ankarafantsika\", \"Fitted Mean NDVI\": 0.621, \"Residual\": 0.068}, {\"Month\": \"06/21\", \"Years Since Epoch (t)\": 51.453, \"Max NDVI\": 0.949, \"Mean NDVI\": 0.664, \"Min NDVI\": -0.449, \"Region\": \"d'Ankarafantsika\", \"Fitted Mean NDVI\": 0.618, \"Residual\": 0.046}, {\"Month\": \"07/21\", \"Years Since Epoch (t)\": 51.536, \"Max NDVI\": 0.993, \"Mean NDVI\": 0.616, \"Min NDVI\": -0.311, \"Region\": \"d'Ankarafantsika\", \"Fitted Mean NDVI\": 0.614, \"Residual\": 0.002}, {\"Month\": \"08/21\", \"Years Since Epoch (t)\": 51.62, \"Max NDVI\": 0.946, \"Mean NDVI\": 0.54, \"Min NDVI\": -0.336, \"Region\": \"d'Ankarafantsika\", \"Fitted Mean NDVI\": 0.611, \"Residual\": -0.071}, {\"Month\": \"09/21\", \"Years Since Epoch (t)\": 51.705, \"Max NDVI\": 0.954, \"Mean NDVI\": 0.473, \"Min NDVI\": -0.357, \"Region\": \"d'Ankarafantsika\", \"Fitted Mean NDVI\": 0.608, \"Residual\": -0.135}, {\"Month\": \"10/21\", \"Years Since Epoch (t)\": 51.788, \"Max NDVI\": 0.954, \"Mean NDVI\": 0.448, \"Min NDVI\": -0.248, \"Region\": \"d'Ankarafantsika\", \"Fitted Mean NDVI\": 0.604, \"Residual\": -0.156}], \"data-a33f1d2524e9bf089cb43a8e67bfbba7\": [{\"Month\": \"11/21\", \"Region\": \"d'Ankarafantsika\", \"Predicted Mean NDVI\": 0.601}, {\"Month\": \"12/21\", \"Region\": \"d'Ankarafantsika\", \"Predicted Mean NDVI\": 0.598}, {\"Month\": \"01/22\", \"Region\": \"d'Ankarafantsika\", \"Predicted Mean NDVI\": 0.594}, {\"Month\": \"02/22\", \"Region\": \"d'Ankarafantsika\", \"Predicted Mean NDVI\": 0.591}, {\"Month\": \"03/22\", \"Region\": \"d'Ankarafantsika\", \"Predicted Mean NDVI\": 0.588}, {\"Month\": \"04/22\", \"Region\": \"d'Ankarafantsika\", \"Predicted Mean NDVI\": 0.584}, {\"Month\": \"05/22\", \"Region\": \"d'Ankarafantsika\", \"Predicted Mean NDVI\": 0.581}, {\"Month\": \"06/22\", \"Region\": \"d'Ankarafantsika\", \"Predicted Mean NDVI\": 0.577}, {\"Month\": \"07/22\", \"Region\": \"d'Ankarafantsika\", \"Predicted Mean NDVI\": 0.574}, {\"Month\": \"08/22\", \"Region\": \"d'Ankarafantsika\", \"Predicted Mean NDVI\": 0.571}, {\"Month\": \"09/22\", \"Region\": \"d'Ankarafantsika\", \"Predicted Mean NDVI\": 0.567}, {\"Month\": \"10/22\", \"Region\": \"d'Ankarafantsika\", \"Predicted Mean NDVI\": 0.564}, {\"Month\": \"11/22\", \"Region\": \"d'Ankarafantsika\", \"Predicted Mean NDVI\": 0.56}, {\"Month\": \"12/22\", \"Region\": \"d'Ankarafantsika\", \"Predicted Mean NDVI\": 0.557}], \"data-d3eca1934bbeb9a5bdf112fb44ae1254\": [{\"Month\": \"01/19\", \"Years Since Epoch (t)\": 49.039, \"Max NDVI\": 1.0, \"Mean NDVI\": 0.55, \"Min NDVI\": -0.998, \"Region\": \"Masoala\", \"Fitted Mean NDVI\": 0.474, \"Residual\": 0.076}, {\"Month\": \"02/19\", \"Years Since Epoch (t)\": 49.124, \"Max NDVI\": 0.977, \"Mean NDVI\": 0.469, \"Min NDVI\": -0.995, \"Region\": \"Masoala\", \"Fitted Mean NDVI\": 0.474, \"Residual\": -0.005}, {\"Month\": \"03/19\", \"Years Since Epoch (t)\": 49.2, \"Max NDVI\": 0.999, \"Mean NDVI\": 0.578, \"Min NDVI\": -0.994, \"Region\": \"Masoala\", \"Fitted Mean NDVI\": 0.475, \"Residual\": 0.103}, {\"Month\": \"04/19\", \"Years Since Epoch (t)\": 49.285, \"Max NDVI\": 0.999, \"Mean NDVI\": 0.451, \"Min NDVI\": -0.997, \"Region\": \"Masoala\", \"Fitted Mean NDVI\": 0.475, \"Residual\": -0.024}, {\"Month\": \"05/19\", \"Years Since Epoch (t)\": 49.367, \"Max NDVI\": 0.999, \"Mean NDVI\": 0.566, \"Min NDVI\": -0.994, \"Region\": \"Masoala\", \"Fitted Mean NDVI\": 0.475, \"Residual\": 0.091}, {\"Month\": \"06/19\", \"Years Since Epoch (t)\": 49.452, \"Max NDVI\": 1.0, \"Mean NDVI\": 0.443, \"Min NDVI\": -0.997, \"Region\": \"Masoala\", \"Fitted Mean NDVI\": 0.475, \"Residual\": -0.032}, {\"Month\": \"07/19\", \"Years Since Epoch (t)\": 49.534, \"Max NDVI\": 0.999, \"Mean NDVI\": 0.35, \"Min NDVI\": -0.996, \"Region\": \"Masoala\", \"Fitted Mean NDVI\": 0.475, \"Residual\": -0.125}, {\"Month\": \"08/19\", \"Years Since Epoch (t)\": 49.619, \"Max NDVI\": 0.973, \"Mean NDVI\": 0.439, \"Min NDVI\": -0.995, \"Region\": \"Masoala\", \"Fitted Mean NDVI\": 0.475, \"Residual\": -0.036}, {\"Month\": \"09/19\", \"Years Since Epoch (t)\": 49.704, \"Max NDVI\": 0.999, \"Mean NDVI\": 0.515, \"Min NDVI\": -0.997, \"Region\": \"Masoala\", \"Fitted Mean NDVI\": 0.475, \"Residual\": 0.04}, {\"Month\": \"10/19\", \"Years Since Epoch (t)\": 49.786, \"Max NDVI\": 0.999, \"Mean NDVI\": 0.477, \"Min NDVI\": -0.997, \"Region\": \"Masoala\", \"Fitted Mean NDVI\": 0.475, \"Residual\": 0.002}, {\"Month\": \"11/19\", \"Years Since Epoch (t)\": 49.871, \"Max NDVI\": 0.984, \"Mean NDVI\": 0.5, \"Min NDVI\": -0.998, \"Region\": \"Masoala\", \"Fitted Mean NDVI\": 0.475, \"Residual\": 0.025}, {\"Month\": \"12/19\", \"Years Since Epoch (t)\": 49.953, \"Max NDVI\": 1.0, \"Mean NDVI\": 0.474, \"Min NDVI\": -1.0, \"Region\": \"Masoala\", \"Fitted Mean NDVI\": 0.475, \"Residual\": -0.001}, {\"Month\": \"01/20\", \"Years Since Epoch (t)\": 50.038, \"Max NDVI\": 0.992, \"Mean NDVI\": 0.4, \"Min NDVI\": -0.997, \"Region\": \"Masoala\", \"Fitted Mean NDVI\": 0.475, \"Residual\": -0.075}, {\"Month\": \"02/20\", \"Years Since Epoch (t)\": 50.123, \"Max NDVI\": 0.999, \"Mean NDVI\": 0.549, \"Min NDVI\": -0.998, \"Region\": \"Masoala\", \"Fitted Mean NDVI\": 0.475, \"Residual\": 0.074}, {\"Month\": \"03/20\", \"Years Since Epoch (t)\": 50.202, \"Max NDVI\": 0.999, \"Mean NDVI\": 0.456, \"Min NDVI\": -0.998, \"Region\": \"Masoala\", \"Fitted Mean NDVI\": 0.476, \"Residual\": -0.02}, {\"Month\": \"04/20\", \"Years Since Epoch (t)\": 50.287, \"Max NDVI\": 0.998, \"Mean NDVI\": 0.349, \"Min NDVI\": -0.998, \"Region\": \"Masoala\", \"Fitted Mean NDVI\": 0.476, \"Residual\": -0.127}, {\"Month\": \"05/20\", \"Years Since Epoch (t)\": 50.369, \"Max NDVI\": 0.999, \"Mean NDVI\": 0.539, \"Min NDVI\": -0.997, \"Region\": \"Masoala\", \"Fitted Mean NDVI\": 0.476, \"Residual\": 0.063}, {\"Month\": \"06/20\", \"Years Since Epoch (t)\": 50.454, \"Max NDVI\": 0.998, \"Mean NDVI\": 0.45, \"Min NDVI\": -0.974, \"Region\": \"Masoala\", \"Fitted Mean NDVI\": 0.476, \"Residual\": -0.026}, {\"Month\": \"07/20\", \"Years Since Epoch (t)\": 50.536, \"Max NDVI\": 1.0, \"Mean NDVI\": 0.446, \"Min NDVI\": -0.992, \"Region\": \"Masoala\", \"Fitted Mean NDVI\": 0.476, \"Residual\": -0.03}, {\"Month\": \"08/20\", \"Years Since Epoch (t)\": 50.621, \"Max NDVI\": 0.999, \"Mean NDVI\": 0.294, \"Min NDVI\": -0.998, \"Region\": \"Masoala\", \"Fitted Mean NDVI\": 0.476, \"Residual\": -0.182}, {\"Month\": \"09/20\", \"Years Since Epoch (t)\": 50.706, \"Max NDVI\": 0.999, \"Mean NDVI\": 0.441, \"Min NDVI\": -0.998, \"Region\": \"Masoala\", \"Fitted Mean NDVI\": 0.476, \"Residual\": -0.035}, {\"Month\": \"10/20\", \"Years Since Epoch (t)\": 50.788, \"Max NDVI\": 0.996, \"Mean NDVI\": 0.51, \"Min NDVI\": -0.997, \"Region\": \"Masoala\", \"Fitted Mean NDVI\": 0.476, \"Residual\": 0.034}, {\"Month\": \"11/20\", \"Years Since Epoch (t)\": 50.873, \"Max NDVI\": 0.997, \"Mean NDVI\": 0.561, \"Min NDVI\": -0.998, \"Region\": \"Masoala\", \"Fitted Mean NDVI\": 0.476, \"Residual\": 0.085}, {\"Month\": \"12/20\", \"Years Since Epoch (t)\": 50.955, \"Max NDVI\": 0.996, \"Mean NDVI\": 0.491, \"Min NDVI\": -0.998, \"Region\": \"Masoala\", \"Fitted Mean NDVI\": 0.476, \"Residual\": 0.015}, {\"Month\": \"01/21\", \"Years Since Epoch (t)\": 51.04, \"Max NDVI\": 0.999, \"Mean NDVI\": 0.487, \"Min NDVI\": -0.996, \"Region\": \"Masoala\", \"Fitted Mean NDVI\": 0.476, \"Residual\": 0.011}, {\"Month\": \"02/21\", \"Years Since Epoch (t)\": 51.125, \"Max NDVI\": 0.999, \"Mean NDVI\": 0.422, \"Min NDVI\": -0.998, \"Region\": \"Masoala\", \"Fitted Mean NDVI\": 0.477, \"Residual\": -0.055}, {\"Month\": \"03/21\", \"Years Since Epoch (t)\": 51.202, \"Max NDVI\": 1.0, \"Mean NDVI\": 0.523, \"Min NDVI\": -0.997, \"Region\": \"Masoala\", \"Fitted Mean NDVI\": 0.477, \"Residual\": 0.046}, {\"Month\": \"04/21\", \"Years Since Epoch (t)\": 51.286, \"Max NDVI\": 0.999, \"Mean NDVI\": 0.531, \"Min NDVI\": -0.997, \"Region\": \"Masoala\", \"Fitted Mean NDVI\": 0.477, \"Residual\": 0.054}, {\"Month\": \"05/21\", \"Years Since Epoch (t)\": 51.369, \"Max NDVI\": 0.999, \"Mean NDVI\": 0.549, \"Min NDVI\": -0.997, \"Region\": \"Masoala\", \"Fitted Mean NDVI\": 0.477, \"Residual\": 0.072}, {\"Month\": \"06/21\", \"Years Since Epoch (t)\": 51.453, \"Max NDVI\": 1.0, \"Mean NDVI\": 0.368, \"Min NDVI\": -0.997, \"Region\": \"Masoala\", \"Fitted Mean NDVI\": 0.477, \"Residual\": -0.109}, {\"Month\": \"07/21\", \"Years Since Epoch (t)\": 51.536, \"Max NDVI\": 1.0, \"Mean NDVI\": 0.477, \"Min NDVI\": -0.998, \"Region\": \"Masoala\", \"Fitted Mean NDVI\": 0.477, \"Residual\": 0.0}, {\"Month\": \"08/21\", \"Years Since Epoch (t)\": 51.62, \"Max NDVI\": 0.999, \"Mean NDVI\": 0.481, \"Min NDVI\": -0.997, \"Region\": \"Masoala\", \"Fitted Mean NDVI\": 0.477, \"Residual\": 0.004}, {\"Month\": \"09/21\", \"Years Since Epoch (t)\": 51.705, \"Max NDVI\": 0.999, \"Mean NDVI\": 0.454, \"Min NDVI\": -0.997, \"Region\": \"Masoala\", \"Fitted Mean NDVI\": 0.477, \"Residual\": -0.023}, {\"Month\": \"10/21\", \"Years Since Epoch (t)\": 51.788, \"Max NDVI\": 0.995, \"Mean NDVI\": 0.587, \"Min NDVI\": -0.995, \"Region\": \"Masoala\", \"Fitted Mean NDVI\": 0.477, \"Residual\": 0.11}], \"data-fe6c4a64522f5e0ae1308b95edc04629\": [{\"Month\": \"11/21\", \"Region\": \"Masoala\", \"Predicted Mean NDVI\": 0.477}, {\"Month\": \"12/21\", \"Region\": \"Masoala\", \"Predicted Mean NDVI\": 0.477}, {\"Month\": \"01/22\", \"Region\": \"Masoala\", \"Predicted Mean NDVI\": 0.477}, {\"Month\": \"02/22\", \"Region\": \"Masoala\", \"Predicted Mean NDVI\": 0.478}, {\"Month\": \"03/22\", \"Region\": \"Masoala\", \"Predicted Mean NDVI\": 0.478}, {\"Month\": \"04/22\", \"Region\": \"Masoala\", \"Predicted Mean NDVI\": 0.478}, {\"Month\": \"05/22\", \"Region\": \"Masoala\", \"Predicted Mean NDVI\": 0.478}, {\"Month\": \"06/22\", \"Region\": \"Masoala\", \"Predicted Mean NDVI\": 0.478}, {\"Month\": \"07/22\", \"Region\": \"Masoala\", \"Predicted Mean NDVI\": 0.478}, {\"Month\": \"08/22\", \"Region\": \"Masoala\", \"Predicted Mean NDVI\": 0.478}, {\"Month\": \"09/22\", \"Region\": \"Masoala\", \"Predicted Mean NDVI\": 0.478}, {\"Month\": \"10/22\", \"Region\": \"Masoala\", \"Predicted Mean NDVI\": 0.478}, {\"Month\": \"11/22\", \"Region\": \"Masoala\", \"Predicted Mean NDVI\": 0.478}, {\"Month\": \"12/22\", \"Region\": \"Masoala\", \"Predicted Mean NDVI\": 0.478}], \"data-d2037e9ab11da11d3af8c4c6916c96ec\": [{\"Month\": \"01/19\", \"Years Since Epoch (t)\": 49.039, \"Max NDVI\": 0.938, \"Mean NDVI\": 0.577, \"Min NDVI\": -0.89, \"Region\": \"Alan'Ankirisa\", \"Fitted Mean NDVI\": 0.531, \"Residual\": 0.046}, {\"Month\": \"02/19\", \"Years Since Epoch (t)\": 49.124, \"Max NDVI\": 0.965, \"Mean NDVI\": 0.638, \"Min NDVI\": -0.731, \"Region\": \"Alan'Ankirisa\", \"Fitted Mean NDVI\": 0.528, \"Residual\": 0.11}, {\"Month\": \"03/19\", \"Years Since Epoch (t)\": 49.2, \"Max NDVI\": 0.937, \"Mean NDVI\": 0.661, \"Min NDVI\": -0.636, \"Region\": \"Alan'Ankirisa\", \"Fitted Mean NDVI\": 0.525, \"Residual\": 0.136}, {\"Month\": \"04/19\", \"Years Since Epoch (t)\": 49.285, \"Max NDVI\": 0.958, \"Mean NDVI\": 0.582, \"Min NDVI\": -0.534, \"Region\": \"Alan'Ankirisa\", \"Fitted Mean NDVI\": 0.523, \"Residual\": 0.059}, {\"Month\": \"05/19\", \"Years Since Epoch (t)\": 49.367, \"Max NDVI\": 0.999, \"Mean NDVI\": 0.493, \"Min NDVI\": -0.601, \"Region\": \"Alan'Ankirisa\", \"Fitted Mean NDVI\": 0.52, \"Residual\": -0.027}, {\"Month\": \"06/19\", \"Years Since Epoch (t)\": 49.452, \"Max NDVI\": 0.959, \"Mean NDVI\": 0.477, \"Min NDVI\": -0.658, \"Region\": \"Alan'Ankirisa\", \"Fitted Mean NDVI\": 0.517, \"Residual\": -0.04}, {\"Month\": \"07/19\", \"Years Since Epoch (t)\": 49.534, \"Max NDVI\": 0.893, \"Mean NDVI\": 0.421, \"Min NDVI\": -0.639, \"Region\": \"Alan'Ankirisa\", \"Fitted Mean NDVI\": 0.514, \"Residual\": -0.093}, {\"Month\": \"08/19\", \"Years Since Epoch (t)\": 49.619, \"Max NDVI\": 0.916, \"Mean NDVI\": 0.376, \"Min NDVI\": -0.999, \"Region\": \"Alan'Ankirisa\", \"Fitted Mean NDVI\": 0.512, \"Residual\": -0.136}, {\"Month\": \"09/19\", \"Years Since Epoch (t)\": 49.704, \"Max NDVI\": 0.878, \"Mean NDVI\": 0.327, \"Min NDVI\": -0.657, \"Region\": \"Alan'Ankirisa\", \"Fitted Mean NDVI\": 0.509, \"Residual\": -0.182}, {\"Month\": \"10/19\", \"Years Since Epoch (t)\": 49.786, \"Max NDVI\": 0.863, \"Mean NDVI\": 0.257, \"Min NDVI\": -0.504, \"Region\": \"Alan'Ankirisa\", \"Fitted Mean NDVI\": 0.506, \"Residual\": -0.249}, {\"Month\": \"11/19\", \"Years Since Epoch (t)\": 49.871, \"Max NDVI\": 0.98, \"Mean NDVI\": 0.317, \"Min NDVI\": -0.513, \"Region\": \"Alan'Ankirisa\", \"Fitted Mean NDVI\": 0.503, \"Residual\": -0.186}, {\"Month\": \"12/19\", \"Years Since Epoch (t)\": 49.953, \"Max NDVI\": 0.943, \"Mean NDVI\": 0.506, \"Min NDVI\": -0.662, \"Region\": \"Alan'Ankirisa\", \"Fitted Mean NDVI\": 0.501, \"Residual\": 0.005}, {\"Month\": \"01/20\", \"Years Since Epoch (t)\": 50.038, \"Max NDVI\": 0.968, \"Mean NDVI\": 0.671, \"Min NDVI\": -0.803, \"Region\": \"Alan'Ankirisa\", \"Fitted Mean NDVI\": 0.498, \"Residual\": 0.173}, {\"Month\": \"02/20\", \"Years Since Epoch (t)\": 50.123, \"Max NDVI\": 0.999, \"Mean NDVI\": 0.698, \"Min NDVI\": -0.996, \"Region\": \"Alan'Ankirisa\", \"Fitted Mean NDVI\": 0.495, \"Residual\": 0.203}, {\"Month\": \"03/20\", \"Years Since Epoch (t)\": 50.202, \"Max NDVI\": 0.942, \"Mean NDVI\": 0.658, \"Min NDVI\": -0.784, \"Region\": \"Alan'Ankirisa\", \"Fitted Mean NDVI\": 0.492, \"Residual\": 0.166}, {\"Month\": \"04/20\", \"Years Since Epoch (t)\": 50.287, \"Max NDVI\": 0.924, \"Mean NDVI\": 0.599, \"Min NDVI\": -0.547, \"Region\": \"Alan'Ankirisa\", \"Fitted Mean NDVI\": 0.49, \"Residual\": 0.109}, {\"Month\": \"05/20\", \"Years Since Epoch (t)\": 50.369, \"Max NDVI\": 0.999, \"Mean NDVI\": 0.555, \"Min NDVI\": -0.732, \"Region\": \"Alan'Ankirisa\", \"Fitted Mean NDVI\": 0.487, \"Residual\": 0.068}, {\"Month\": \"06/20\", \"Years Since Epoch (t)\": 50.454, \"Max NDVI\": 0.94, \"Mean NDVI\": 0.502, \"Min NDVI\": -0.742, \"Region\": \"Alan'Ankirisa\", \"Fitted Mean NDVI\": 0.484, \"Residual\": 0.018}, {\"Month\": \"07/20\", \"Years Since Epoch (t)\": 50.536, \"Max NDVI\": 0.94, \"Mean NDVI\": 0.424, \"Min NDVI\": -0.999, \"Region\": \"Alan'Ankirisa\", \"Fitted Mean NDVI\": 0.481, \"Residual\": -0.057}, {\"Month\": \"08/20\", \"Years Since Epoch (t)\": 50.621, \"Max NDVI\": 0.894, \"Mean NDVI\": 0.358, \"Min NDVI\": -0.604, \"Region\": \"Alan'Ankirisa\", \"Fitted Mean NDVI\": 0.479, \"Residual\": -0.121}, {\"Month\": \"09/20\", \"Years Since Epoch (t)\": 50.706, \"Max NDVI\": 0.862, \"Mean NDVI\": 0.305, \"Min NDVI\": -0.587, \"Region\": \"Alan'Ankirisa\", \"Fitted Mean NDVI\": 0.476, \"Residual\": -0.171}, {\"Month\": \"10/20\", \"Years Since Epoch (t)\": 50.788, \"Max NDVI\": 0.873, \"Mean NDVI\": 0.306, \"Min NDVI\": -0.463, \"Region\": \"Alan'Ankirisa\", \"Fitted Mean NDVI\": 0.473, \"Residual\": -0.167}, {\"Month\": \"11/20\", \"Years Since Epoch (t)\": 50.873, \"Max NDVI\": 0.863, \"Mean NDVI\": 0.297, \"Min NDVI\": -0.433, \"Region\": \"Alan'Ankirisa\", \"Fitted Mean NDVI\": 0.47, \"Residual\": -0.173}, {\"Month\": \"12/20\", \"Years Since Epoch (t)\": 50.955, \"Max NDVI\": 0.982, \"Mean NDVI\": 0.425, \"Min NDVI\": -0.479, \"Region\": \"Alan'Ankirisa\", \"Fitted Mean NDVI\": 0.468, \"Residual\": -0.043}, {\"Month\": \"01/21\", \"Years Since Epoch (t)\": 51.04, \"Max NDVI\": 0.952, \"Mean NDVI\": 0.635, \"Min NDVI\": -0.824, \"Region\": \"Alan'Ankirisa\", \"Fitted Mean NDVI\": 0.465, \"Residual\": 0.17}, {\"Month\": \"02/21\", \"Years Since Epoch (t)\": 51.125, \"Max NDVI\": 0.931, \"Mean NDVI\": 0.711, \"Min NDVI\": -0.554, \"Region\": \"Alan'Ankirisa\", \"Fitted Mean NDVI\": 0.462, \"Residual\": 0.249}, {\"Month\": \"03/21\", \"Years Since Epoch (t)\": 51.202, \"Max NDVI\": 0.984, \"Mean NDVI\": 0.702, \"Min NDVI\": -0.768, \"Region\": \"Alan'Ankirisa\", \"Fitted Mean NDVI\": 0.459, \"Residual\": 0.243}, {\"Month\": \"04/21\", \"Years Since Epoch (t)\": 51.286, \"Max NDVI\": 0.927, \"Mean NDVI\": 0.62, \"Min NDVI\": -0.68, \"Region\": \"Alan'Ankirisa\", \"Fitted Mean NDVI\": 0.457, \"Residual\": 0.163}, {\"Month\": \"05/21\", \"Years Since Epoch (t)\": 51.369, \"Max NDVI\": 0.931, \"Mean NDVI\": 0.54, \"Min NDVI\": -0.614, \"Region\": \"Alan'Ankirisa\", \"Fitted Mean NDVI\": 0.454, \"Residual\": 0.086}, {\"Month\": \"06/21\", \"Years Since Epoch (t)\": 51.453, \"Max NDVI\": 0.931, \"Mean NDVI\": 0.489, \"Min NDVI\": -0.657, \"Region\": \"Alan'Ankirisa\", \"Fitted Mean NDVI\": 0.451, \"Residual\": 0.038}, {\"Month\": \"07/21\", \"Years Since Epoch (t)\": 51.536, \"Max NDVI\": 0.938, \"Mean NDVI\": 0.439, \"Min NDVI\": -0.998, \"Region\": \"Alan'Ankirisa\", \"Fitted Mean NDVI\": 0.448, \"Residual\": -0.009}, {\"Month\": \"08/21\", \"Years Since Epoch (t)\": 51.62, \"Max NDVI\": 0.884, \"Mean NDVI\": 0.343, \"Min NDVI\": -0.648, \"Region\": \"Alan'Ankirisa\", \"Fitted Mean NDVI\": 0.446, \"Residual\": -0.103}, {\"Month\": \"09/21\", \"Years Since Epoch (t)\": 51.705, \"Max NDVI\": 0.901, \"Mean NDVI\": 0.312, \"Min NDVI\": -0.734, \"Region\": \"Alan'Ankirisa\", \"Fitted Mean NDVI\": 0.443, \"Residual\": -0.131}, {\"Month\": \"10/21\", \"Years Since Epoch (t)\": 51.788, \"Max NDVI\": 0.869, \"Mean NDVI\": 0.283, \"Min NDVI\": -0.7, \"Region\": \"Alan'Ankirisa\", \"Fitted Mean NDVI\": 0.44, \"Residual\": -0.157}], \"data-dbc0ba2d637ccbc6ba1366d8c84e82ba\": [{\"Month\": \"11/21\", \"Region\": \"Alan'Ankirisa\", \"Predicted Mean NDVI\": 0.437}, {\"Month\": \"12/21\", \"Region\": \"Alan'Ankirisa\", \"Predicted Mean NDVI\": 0.435}, {\"Month\": \"01/22\", \"Region\": \"Alan'Ankirisa\", \"Predicted Mean NDVI\": 0.432}, {\"Month\": \"02/22\", \"Region\": \"Alan'Ankirisa\", \"Predicted Mean NDVI\": 0.429}, {\"Month\": \"03/22\", \"Region\": \"Alan'Ankirisa\", \"Predicted Mean NDVI\": 0.427}, {\"Month\": \"04/22\", \"Region\": \"Alan'Ankirisa\", \"Predicted Mean NDVI\": 0.424}, {\"Month\": \"05/22\", \"Region\": \"Alan'Ankirisa\", \"Predicted Mean NDVI\": 0.421}, {\"Month\": \"06/22\", \"Region\": \"Alan'Ankirisa\", \"Predicted Mean NDVI\": 0.418}, {\"Month\": \"07/22\", \"Region\": \"Alan'Ankirisa\", \"Predicted Mean NDVI\": 0.416}, {\"Month\": \"08/22\", \"Region\": \"Alan'Ankirisa\", \"Predicted Mean NDVI\": 0.413}, {\"Month\": \"09/22\", \"Region\": \"Alan'Ankirisa\", \"Predicted Mean NDVI\": 0.41}, {\"Month\": \"10/22\", \"Region\": \"Alan'Ankirisa\", \"Predicted Mean NDVI\": 0.407}, {\"Month\": \"11/22\", \"Region\": \"Alan'Ankirisa\", \"Predicted Mean NDVI\": 0.404}, {\"Month\": \"12/22\", \"Region\": \"Alan'Ankirisa\", \"Predicted Mean NDVI\": 0.402}]}}, {\"mode\": \"vega-lite\"});\n",
       "</script>"
      ],
      "text/plain": [
       "alt.VConcatChart(...)"
      ]
     },
     "execution_count": 20,
     "metadata": {},
     "output_type": "execute_result"
    }
   ],
   "source": [
    "# linear regression\n",
    "\n",
    "charts_1, mseLinearMod = [], dict()\n",
    "colors = [\"#FFD13C\", \"#61ECB6\", \"#2ca02c\", \"#9467bd\", \"#17becf\", \"#D159F2\"]\n",
    "\n",
    "for i in list(zip(df[\"Region\"].unique(), colors)):\n",
    "  dfSubset = df[df[\"Region\"] == i[0]]\n",
    "  trainFeatures, target = dfSubset[\"Years Since Epoch (t)\"].values.reshape(34,1), dfSubset[\"Mean NDVI\"].values.reshape(34,1)\n",
    "  predFeatures = np.reshape(futureMonths, (14, 1))\n",
    "\n",
    "  linearMod = LinearRegression().fit(trainFeatures, target)\n",
    "  dfSubset[\"Fitted Mean NDVI\"] = np.round(linearMod.predict(trainFeatures), 3)\n",
    "  dfSubset[\"Residual\"] = np.round(target - linearMod.predict(trainFeatures), 3)\n",
    "  mseLinearMod[i[0]] = np.mean(np.square(dfSubset[\"Residual\"]))\n",
    "\n",
    "  predDf = pd.DataFrame({\"Month\": formattedAxisDates[34:],\n",
    "                         \"Region\": [i[0]] * 14,\n",
    "                         \"Predicted Mean NDVI\": linearMod.predict(predFeatures).flatten()}).round(3)\n",
    "\n",
    "  charts_1.append(plotCharts(df_1=dfSubset, df_2=predDf,\n",
    "                             color=i[1], region=i[0]))\n",
    "\n",
    "alt.vconcat(*charts_1)"
   ]
  },
  {
   "cell_type": "code",
   "execution_count": 21,
   "metadata": {
    "colab": {
     "base_uri": "https://localhost:8080/",
     "height": 1000
    },
    "id": "nSz-4qo7W4GA",
    "outputId": "36619b59-248a-4e3c-8aab-ffeab7a520a5"
   },
   "outputs": [
    {
     "data": {
      "text/html": [
       "\n",
       "<div id=\"altair-viz-d5819ffeef8e4afe889286bd818c8e16\"></div>\n",
       "<script type=\"text/javascript\">\n",
       "  (function(spec, embedOpt){\n",
       "    let outputDiv = document.currentScript.previousElementSibling;\n",
       "    if (outputDiv.id !== \"altair-viz-d5819ffeef8e4afe889286bd818c8e16\") {\n",
       "      outputDiv = document.getElementById(\"altair-viz-d5819ffeef8e4afe889286bd818c8e16\");\n",
       "    }\n",
       "    const paths = {\n",
       "      \"vega\": \"https://cdn.jsdelivr.net/npm//vega@5?noext\",\n",
       "      \"vega-lib\": \"https://cdn.jsdelivr.net/npm//vega-lib?noext\",\n",
       "      \"vega-lite\": \"https://cdn.jsdelivr.net/npm//vega-lite@4.8.1?noext\",\n",
       "      \"vega-embed\": \"https://cdn.jsdelivr.net/npm//vega-embed@6?noext\",\n",
       "    };\n",
       "\n",
       "    function loadScript(lib) {\n",
       "      return new Promise(function(resolve, reject) {\n",
       "        var s = document.createElement('script');\n",
       "        s.src = paths[lib];\n",
       "        s.async = true;\n",
       "        s.onload = () => resolve(paths[lib]);\n",
       "        s.onerror = () => reject(`Error loading script: ${paths[lib]}`);\n",
       "        document.getElementsByTagName(\"head\")[0].appendChild(s);\n",
       "      });\n",
       "    }\n",
       "\n",
       "    function showError(err) {\n",
       "      outputDiv.innerHTML = `<div class=\"error\" style=\"color:red;\">${err}</div>`;\n",
       "      throw err;\n",
       "    }\n",
       "\n",
       "    function displayChart(vegaEmbed) {\n",
       "      vegaEmbed(outputDiv, spec, embedOpt)\n",
       "        .catch(err => showError(`Javascript Error: ${err.message}<br>This usually means there's a typo in your chart specification. See the javascript console for the full traceback.`));\n",
       "    }\n",
       "\n",
       "    if(typeof define === \"function\" && define.amd) {\n",
       "      requirejs.config({paths});\n",
       "      require([\"vega-embed\"], displayChart, err => showError(`Error loading script: ${err.message}`));\n",
       "    } else if (typeof vegaEmbed === \"function\") {\n",
       "      displayChart(vegaEmbed);\n",
       "    } else {\n",
       "      loadScript(\"vega\")\n",
       "        .then(() => loadScript(\"vega-lite\"))\n",
       "        .then(() => loadScript(\"vega-embed\"))\n",
       "        .catch(showError)\n",
       "        .then(() => displayChart(vegaEmbed));\n",
       "    }\n",
       "  })({\"config\": {\"view\": {\"continuousWidth\": 400, \"continuousHeight\": 300}}, \"vconcat\": [{\"hconcat\": [{\"layer\": [{\"data\": {\"name\": \"data-2371ec1942c2fc9d0e1642eef5afec80\"}, \"mark\": {\"type\": \"line\", \"color\": \"#FFD13C\"}, \"encoding\": {\"x\": {\"type\": \"ordinal\", \"field\": \"Month\", \"sort\": [\"01/19\", \"02/19\", \"03/19\", \"04/19\", \"05/19\", \"06/19\", \"07/19\", \"08/19\", \"09/19\", \"10/19\", \"11/19\", \"12/19\", \"01/20\", \"02/20\", \"03/20\", \"04/20\", \"05/20\", \"06/20\", \"07/20\", \"08/20\", \"09/20\", \"10/20\", \"11/20\", \"12/20\", \"01/21\", \"02/21\", \"03/21\", \"04/21\", \"05/21\", \"06/21\", \"07/21\", \"08/21\", \"09/21\", \"10/21\", \"11/21\", \"12/21\", \"01/22\", \"02/22\", \"03/22\", \"04/22\", \"05/22\", \"06/22\", \"07/22\", \"08/22\", \"09/22\", \"10/22\", \"11/22\", \"12/22\"]}, \"y\": {\"type\": \"quantitative\", \"field\": \"Mean NDVI\"}}}, {\"data\": {\"name\": \"data-2371ec1942c2fc9d0e1642eef5afec80\"}, \"mark\": {\"type\": \"circle\", \"color\": \"#FFD13C\", \"size\": 50}, \"encoding\": {\"tooltip\": [{\"type\": \"nominal\", \"field\": \"Month\"}, {\"type\": \"nominal\", \"field\": \"Region\"}, {\"type\": \"quantitative\", \"field\": \"Mean NDVI\"}], \"x\": {\"type\": \"ordinal\", \"field\": \"Month\", \"sort\": [\"01/19\", \"02/19\", \"03/19\", \"04/19\", \"05/19\", \"06/19\", \"07/19\", \"08/19\", \"09/19\", \"10/19\", \"11/19\", \"12/19\", \"01/20\", \"02/20\", \"03/20\", \"04/20\", \"05/20\", \"06/20\", \"07/20\", \"08/20\", \"09/20\", \"10/20\", \"11/20\", \"12/20\", \"01/21\", \"02/21\", \"03/21\", \"04/21\", \"05/21\", \"06/21\", \"07/21\", \"08/21\", \"09/21\", \"10/21\", \"11/21\", \"12/21\", \"01/22\", \"02/22\", \"03/22\", \"04/22\", \"05/22\", \"06/22\", \"07/22\", \"08/22\", \"09/22\", \"10/22\", \"11/22\", \"12/22\"]}, \"y\": {\"type\": \"quantitative\", \"field\": \"Mean NDVI\"}}}, {\"data\": {\"name\": \"data-2371ec1942c2fc9d0e1642eef5afec80\"}, \"mark\": {\"type\": \"line\", \"color\": \"red\"}, \"encoding\": {\"x\": {\"type\": \"ordinal\", \"field\": \"Month\", \"sort\": [\"01/19\", \"02/19\", \"03/19\", \"04/19\", \"05/19\", \"06/19\", \"07/19\", \"08/19\", \"09/19\", \"10/19\", \"11/19\", \"12/19\", \"01/20\", \"02/20\", \"03/20\", \"04/20\", \"05/20\", \"06/20\", \"07/20\", \"08/20\", \"09/20\", \"10/20\", \"11/20\", \"12/20\", \"01/21\", \"02/21\", \"03/21\", \"04/21\", \"05/21\", \"06/21\", \"07/21\", \"08/21\", \"09/21\", \"10/21\", \"11/21\", \"12/21\", \"01/22\", \"02/22\", \"03/22\", \"04/22\", \"05/22\", \"06/22\", \"07/22\", \"08/22\", \"09/22\", \"10/22\", \"11/22\", \"12/22\"]}, \"y\": {\"type\": \"quantitative\", \"field\": \"Fitted Mean NDVI\", \"title\": \"Mean NDVI\"}}}, {\"data\": {\"name\": \"data-2371ec1942c2fc9d0e1642eef5afec80\"}, \"mark\": {\"type\": \"circle\", \"color\": \"red\", \"size\": 50}, \"encoding\": {\"tooltip\": [{\"type\": \"nominal\", \"field\": \"Month\"}, {\"type\": \"nominal\", \"field\": \"Region\"}, {\"type\": \"quantitative\", \"field\": \"Fitted Mean NDVI\"}, {\"type\": \"quantitative\", \"field\": \"Residual\"}], \"x\": {\"type\": \"ordinal\", \"field\": \"Month\", \"sort\": [\"01/19\", \"02/19\", \"03/19\", \"04/19\", \"05/19\", \"06/19\", \"07/19\", \"08/19\", \"09/19\", \"10/19\", \"11/19\", \"12/19\", \"01/20\", \"02/20\", \"03/20\", \"04/20\", \"05/20\", \"06/20\", \"07/20\", \"08/20\", \"09/20\", \"10/20\", \"11/20\", \"12/20\", \"01/21\", \"02/21\", \"03/21\", \"04/21\", \"05/21\", \"06/21\", \"07/21\", \"08/21\", \"09/21\", \"10/21\", \"11/21\", \"12/21\", \"01/22\", \"02/22\", \"03/22\", \"04/22\", \"05/22\", \"06/22\", \"07/22\", \"08/22\", \"09/22\", \"10/22\", \"11/22\", \"12/22\"]}, \"y\": {\"type\": \"quantitative\", \"field\": \"Fitted Mean NDVI\", \"title\": \"Mean NDVI\"}}}, {\"data\": {\"name\": \"data-af17fb00603506eec0702e5630e096ed\"}, \"mark\": \"rule\", \"encoding\": {\"x\": {\"type\": \"ordinal\", \"field\": \"Month\", \"sort\": [\"01/19\", \"02/19\", \"03/19\", \"04/19\", \"05/19\", \"06/19\", \"07/19\", \"08/19\", \"09/19\", \"10/19\", \"11/19\", \"12/19\", \"01/20\", \"02/20\", \"03/20\", \"04/20\", \"05/20\", \"06/20\", \"07/20\", \"08/20\", \"09/20\", \"10/20\", \"11/20\", \"12/20\", \"01/21\", \"02/21\", \"03/21\", \"04/21\", \"05/21\", \"06/21\", \"07/21\", \"08/21\", \"09/21\", \"10/21\", \"11/21\", \"12/21\", \"01/22\", \"02/22\", \"03/22\", \"04/22\", \"05/22\", \"06/22\", \"07/22\", \"08/22\", \"09/22\", \"10/22\", \"11/22\", \"12/22\"]}}}, {\"data\": {\"name\": \"data-b0fff6dbddc827b21943abb1b03046a9\"}, \"mark\": {\"type\": \"line\", \"color\": \"red\"}, \"encoding\": {\"x\": {\"type\": \"ordinal\", \"field\": \"Month\", \"sort\": [\"01/19\", \"02/19\", \"03/19\", \"04/19\", \"05/19\", \"06/19\", \"07/19\", \"08/19\", \"09/19\", \"10/19\", \"11/19\", \"12/19\", \"01/20\", \"02/20\", \"03/20\", \"04/20\", \"05/20\", \"06/20\", \"07/20\", \"08/20\", \"09/20\", \"10/20\", \"11/20\", \"12/20\", \"01/21\", \"02/21\", \"03/21\", \"04/21\", \"05/21\", \"06/21\", \"07/21\", \"08/21\", \"09/21\", \"10/21\", \"11/21\", \"12/21\", \"01/22\", \"02/22\", \"03/22\", \"04/22\", \"05/22\", \"06/22\", \"07/22\", \"08/22\", \"09/22\", \"10/22\", \"11/22\", \"12/22\"]}, \"y\": {\"type\": \"quantitative\", \"field\": \"Predicted Mean NDVI\", \"title\": \"Mean NDVI\"}}}, {\"data\": {\"name\": \"data-b0fff6dbddc827b21943abb1b03046a9\"}, \"mark\": {\"type\": \"circle\", \"color\": \"red\", \"size\": 50}, \"encoding\": {\"tooltip\": [{\"type\": \"nominal\", \"field\": \"Month\"}, {\"type\": \"nominal\", \"field\": \"Region\"}, {\"type\": \"quantitative\", \"field\": \"Predicted Mean NDVI\"}], \"x\": {\"type\": \"ordinal\", \"field\": \"Month\", \"sort\": [\"01/19\", \"02/19\", \"03/19\", \"04/19\", \"05/19\", \"06/19\", \"07/19\", \"08/19\", \"09/19\", \"10/19\", \"11/19\", \"12/19\", \"01/20\", \"02/20\", \"03/20\", \"04/20\", \"05/20\", \"06/20\", \"07/20\", \"08/20\", \"09/20\", \"10/20\", \"11/20\", \"12/20\", \"01/21\", \"02/21\", \"03/21\", \"04/21\", \"05/21\", \"06/21\", \"07/21\", \"08/21\", \"09/21\", \"10/21\", \"11/21\", \"12/21\", \"01/22\", \"02/22\", \"03/22\", \"04/22\", \"05/22\", \"06/22\", \"07/22\", \"08/22\", \"09/22\", \"10/22\", \"11/22\", \"12/22\"]}, \"y\": {\"type\": \"quantitative\", \"field\": \"Predicted Mean NDVI\", \"title\": \"Mean NDVI\"}}}], \"height\": 250, \"title\": \"d'Andohahela Monthly Mean NDVI\", \"width\": 400}, {\"layer\": [{\"mark\": {\"type\": \"line\", \"color\": \"#FFD13C\"}, \"encoding\": {\"x\": {\"type\": \"ordinal\", \"field\": \"Month\", \"sort\": [\"01/19\", \"02/19\", \"03/19\", \"04/19\", \"05/19\", \"06/19\", \"07/19\", \"08/19\", \"09/19\", \"10/19\", \"11/19\", \"12/19\", \"01/20\", \"02/20\", \"03/20\", \"04/20\", \"05/20\", \"06/20\", \"07/20\", \"08/20\", \"09/20\", \"10/20\", \"11/20\", \"12/20\", \"01/21\", \"02/21\", \"03/21\", \"04/21\", \"05/21\", \"06/21\", \"07/21\", \"08/21\", \"09/21\", \"10/21\"]}, \"y\": {\"type\": \"quantitative\", \"field\": \"Residual\"}}}, {\"mark\": {\"type\": \"circle\", \"color\": \"#FFD13C\", \"size\": 50}, \"encoding\": {\"tooltip\": [{\"type\": \"nominal\", \"field\": \"Month\"}, {\"type\": \"nominal\", \"field\": \"Region\"}, {\"type\": \"quantitative\", \"field\": \"Residual\"}], \"x\": {\"type\": \"ordinal\", \"field\": \"Month\", \"sort\": [\"01/19\", \"02/19\", \"03/19\", \"04/19\", \"05/19\", \"06/19\", \"07/19\", \"08/19\", \"09/19\", \"10/19\", \"11/19\", \"12/19\", \"01/20\", \"02/20\", \"03/20\", \"04/20\", \"05/20\", \"06/20\", \"07/20\", \"08/20\", \"09/20\", \"10/20\", \"11/20\", \"12/20\", \"01/21\", \"02/21\", \"03/21\", \"04/21\", \"05/21\", \"06/21\", \"07/21\", \"08/21\", \"09/21\", \"10/21\"]}, \"y\": {\"type\": \"quantitative\", \"field\": \"Residual\"}}}], \"data\": {\"name\": \"data-2371ec1942c2fc9d0e1642eef5afec80\"}, \"height\": 250, \"title\": \"d'Andohahela Detrended Monthly Mean NDVI\", \"width\": 400}]}, {\"hconcat\": [{\"layer\": [{\"data\": {\"name\": \"data-7e849118305a3476d90c41f65eca46a1\"}, \"mark\": {\"type\": \"line\", \"color\": \"#61ECB6\"}, \"encoding\": {\"x\": {\"type\": \"ordinal\", \"field\": \"Month\", \"sort\": [\"01/19\", \"02/19\", \"03/19\", \"04/19\", \"05/19\", \"06/19\", \"07/19\", \"08/19\", \"09/19\", \"10/19\", \"11/19\", \"12/19\", \"01/20\", \"02/20\", \"03/20\", \"04/20\", \"05/20\", \"06/20\", \"07/20\", \"08/20\", \"09/20\", \"10/20\", \"11/20\", \"12/20\", \"01/21\", \"02/21\", \"03/21\", \"04/21\", \"05/21\", \"06/21\", \"07/21\", \"08/21\", \"09/21\", \"10/21\", \"11/21\", \"12/21\", \"01/22\", \"02/22\", \"03/22\", \"04/22\", \"05/22\", \"06/22\", \"07/22\", \"08/22\", \"09/22\", \"10/22\", \"11/22\", \"12/22\"]}, \"y\": {\"type\": \"quantitative\", \"field\": \"Mean NDVI\"}}}, {\"data\": {\"name\": \"data-7e849118305a3476d90c41f65eca46a1\"}, \"mark\": {\"type\": \"circle\", \"color\": \"#61ECB6\", \"size\": 50}, \"encoding\": {\"tooltip\": [{\"type\": \"nominal\", \"field\": \"Month\"}, {\"type\": \"nominal\", \"field\": \"Region\"}, {\"type\": \"quantitative\", \"field\": \"Mean NDVI\"}], \"x\": {\"type\": \"ordinal\", \"field\": \"Month\", \"sort\": [\"01/19\", \"02/19\", \"03/19\", \"04/19\", \"05/19\", \"06/19\", \"07/19\", \"08/19\", \"09/19\", \"10/19\", \"11/19\", \"12/19\", \"01/20\", \"02/20\", \"03/20\", \"04/20\", \"05/20\", \"06/20\", \"07/20\", \"08/20\", \"09/20\", \"10/20\", \"11/20\", \"12/20\", \"01/21\", \"02/21\", \"03/21\", \"04/21\", \"05/21\", \"06/21\", \"07/21\", \"08/21\", \"09/21\", \"10/21\", \"11/21\", \"12/21\", \"01/22\", \"02/22\", \"03/22\", \"04/22\", \"05/22\", \"06/22\", \"07/22\", \"08/22\", \"09/22\", \"10/22\", \"11/22\", \"12/22\"]}, \"y\": {\"type\": \"quantitative\", \"field\": \"Mean NDVI\"}}}, {\"data\": {\"name\": \"data-7e849118305a3476d90c41f65eca46a1\"}, \"mark\": {\"type\": \"line\", \"color\": \"red\"}, \"encoding\": {\"x\": {\"type\": \"ordinal\", \"field\": \"Month\", \"sort\": [\"01/19\", \"02/19\", \"03/19\", \"04/19\", \"05/19\", \"06/19\", \"07/19\", \"08/19\", \"09/19\", \"10/19\", \"11/19\", \"12/19\", \"01/20\", \"02/20\", \"03/20\", \"04/20\", \"05/20\", \"06/20\", \"07/20\", \"08/20\", \"09/20\", \"10/20\", \"11/20\", \"12/20\", \"01/21\", \"02/21\", \"03/21\", \"04/21\", \"05/21\", \"06/21\", \"07/21\", \"08/21\", \"09/21\", \"10/21\", \"11/21\", \"12/21\", \"01/22\", \"02/22\", \"03/22\", \"04/22\", \"05/22\", \"06/22\", \"07/22\", \"08/22\", \"09/22\", \"10/22\", \"11/22\", \"12/22\"]}, \"y\": {\"type\": \"quantitative\", \"field\": \"Fitted Mean NDVI\", \"title\": \"Mean NDVI\"}}}, {\"data\": {\"name\": \"data-7e849118305a3476d90c41f65eca46a1\"}, \"mark\": {\"type\": \"circle\", \"color\": \"red\", \"size\": 50}, \"encoding\": {\"tooltip\": [{\"type\": \"nominal\", \"field\": \"Month\"}, {\"type\": \"nominal\", \"field\": \"Region\"}, {\"type\": \"quantitative\", \"field\": \"Fitted Mean NDVI\"}, {\"type\": \"quantitative\", \"field\": \"Residual\"}], \"x\": {\"type\": \"ordinal\", \"field\": \"Month\", \"sort\": [\"01/19\", \"02/19\", \"03/19\", \"04/19\", \"05/19\", \"06/19\", \"07/19\", \"08/19\", \"09/19\", \"10/19\", \"11/19\", \"12/19\", \"01/20\", \"02/20\", \"03/20\", \"04/20\", \"05/20\", \"06/20\", \"07/20\", \"08/20\", \"09/20\", \"10/20\", \"11/20\", \"12/20\", \"01/21\", \"02/21\", \"03/21\", \"04/21\", \"05/21\", \"06/21\", \"07/21\", \"08/21\", \"09/21\", \"10/21\", \"11/21\", \"12/21\", \"01/22\", \"02/22\", \"03/22\", \"04/22\", \"05/22\", \"06/22\", \"07/22\", \"08/22\", \"09/22\", \"10/22\", \"11/22\", \"12/22\"]}, \"y\": {\"type\": \"quantitative\", \"field\": \"Fitted Mean NDVI\", \"title\": \"Mean NDVI\"}}}, {\"data\": {\"name\": \"data-af17fb00603506eec0702e5630e096ed\"}, \"mark\": \"rule\", \"encoding\": {\"x\": {\"type\": \"ordinal\", \"field\": \"Month\", \"sort\": [\"01/19\", \"02/19\", \"03/19\", \"04/19\", \"05/19\", \"06/19\", \"07/19\", \"08/19\", \"09/19\", \"10/19\", \"11/19\", \"12/19\", \"01/20\", \"02/20\", \"03/20\", \"04/20\", \"05/20\", \"06/20\", \"07/20\", \"08/20\", \"09/20\", \"10/20\", \"11/20\", \"12/20\", \"01/21\", \"02/21\", \"03/21\", \"04/21\", \"05/21\", \"06/21\", \"07/21\", \"08/21\", \"09/21\", \"10/21\", \"11/21\", \"12/21\", \"01/22\", \"02/22\", \"03/22\", \"04/22\", \"05/22\", \"06/22\", \"07/22\", \"08/22\", \"09/22\", \"10/22\", \"11/22\", \"12/22\"]}}}, {\"data\": {\"name\": \"data-e18beb9cdfd967a4497fef78071260ba\"}, \"mark\": {\"type\": \"line\", \"color\": \"red\"}, \"encoding\": {\"x\": {\"type\": \"ordinal\", \"field\": \"Month\", \"sort\": [\"01/19\", \"02/19\", \"03/19\", \"04/19\", \"05/19\", \"06/19\", \"07/19\", \"08/19\", \"09/19\", \"10/19\", \"11/19\", \"12/19\", \"01/20\", \"02/20\", \"03/20\", \"04/20\", \"05/20\", \"06/20\", \"07/20\", \"08/20\", \"09/20\", \"10/20\", \"11/20\", \"12/20\", \"01/21\", \"02/21\", \"03/21\", \"04/21\", \"05/21\", \"06/21\", \"07/21\", \"08/21\", \"09/21\", \"10/21\", \"11/21\", \"12/21\", \"01/22\", \"02/22\", \"03/22\", \"04/22\", \"05/22\", \"06/22\", \"07/22\", \"08/22\", \"09/22\", \"10/22\", \"11/22\", \"12/22\"]}, \"y\": {\"type\": \"quantitative\", \"field\": \"Predicted Mean NDVI\", \"title\": \"Mean NDVI\"}}}, {\"data\": {\"name\": \"data-e18beb9cdfd967a4497fef78071260ba\"}, \"mark\": {\"type\": \"circle\", \"color\": \"red\", \"size\": 50}, \"encoding\": {\"tooltip\": [{\"type\": \"nominal\", \"field\": \"Month\"}, {\"type\": \"nominal\", \"field\": \"Region\"}, {\"type\": \"quantitative\", \"field\": \"Predicted Mean NDVI\"}], \"x\": {\"type\": \"ordinal\", \"field\": \"Month\", \"sort\": [\"01/19\", \"02/19\", \"03/19\", \"04/19\", \"05/19\", \"06/19\", \"07/19\", \"08/19\", \"09/19\", \"10/19\", \"11/19\", \"12/19\", \"01/20\", \"02/20\", \"03/20\", \"04/20\", \"05/20\", \"06/20\", \"07/20\", \"08/20\", \"09/20\", \"10/20\", \"11/20\", \"12/20\", \"01/21\", \"02/21\", \"03/21\", \"04/21\", \"05/21\", \"06/21\", \"07/21\", \"08/21\", \"09/21\", \"10/21\", \"11/21\", \"12/21\", \"01/22\", \"02/22\", \"03/22\", \"04/22\", \"05/22\", \"06/22\", \"07/22\", \"08/22\", \"09/22\", \"10/22\", \"11/22\", \"12/22\"]}, \"y\": {\"type\": \"quantitative\", \"field\": \"Predicted Mean NDVI\", \"title\": \"Mean NDVI\"}}}], \"height\": 250, \"title\": \"Midongy Betofaka Monthly Mean NDVI\", \"width\": 400}, {\"layer\": [{\"mark\": {\"type\": \"line\", \"color\": \"#61ECB6\"}, \"encoding\": {\"x\": {\"type\": \"ordinal\", \"field\": \"Month\", \"sort\": [\"01/19\", \"02/19\", \"03/19\", \"04/19\", \"05/19\", \"06/19\", \"07/19\", \"08/19\", \"09/19\", \"10/19\", \"11/19\", \"12/19\", \"01/20\", \"02/20\", \"03/20\", \"04/20\", \"05/20\", \"06/20\", \"07/20\", \"08/20\", \"09/20\", \"10/20\", \"11/20\", \"12/20\", \"01/21\", \"02/21\", \"03/21\", \"04/21\", \"05/21\", \"06/21\", \"07/21\", \"08/21\", \"09/21\", \"10/21\"]}, \"y\": {\"type\": \"quantitative\", \"field\": \"Residual\"}}}, {\"mark\": {\"type\": \"circle\", \"color\": \"#61ECB6\", \"size\": 50}, \"encoding\": {\"tooltip\": [{\"type\": \"nominal\", \"field\": \"Month\"}, {\"type\": \"nominal\", \"field\": \"Region\"}, {\"type\": \"quantitative\", \"field\": \"Residual\"}], \"x\": {\"type\": \"ordinal\", \"field\": \"Month\", \"sort\": [\"01/19\", \"02/19\", \"03/19\", \"04/19\", \"05/19\", \"06/19\", \"07/19\", \"08/19\", \"09/19\", \"10/19\", \"11/19\", \"12/19\", \"01/20\", \"02/20\", \"03/20\", \"04/20\", \"05/20\", \"06/20\", \"07/20\", \"08/20\", \"09/20\", \"10/20\", \"11/20\", \"12/20\", \"01/21\", \"02/21\", \"03/21\", \"04/21\", \"05/21\", \"06/21\", \"07/21\", \"08/21\", \"09/21\", \"10/21\"]}, \"y\": {\"type\": \"quantitative\", \"field\": \"Residual\"}}}], \"data\": {\"name\": \"data-7e849118305a3476d90c41f65eca46a1\"}, \"height\": 250, \"title\": \"Midongy Betofaka Detrended Monthly Mean NDVI\", \"width\": 400}]}, {\"hconcat\": [{\"layer\": [{\"data\": {\"name\": \"data-f9000aff718105717a6f739c40b41bee\"}, \"mark\": {\"type\": \"line\", \"color\": \"#2ca02c\"}, \"encoding\": {\"x\": {\"type\": \"ordinal\", \"field\": \"Month\", \"sort\": [\"01/19\", \"02/19\", \"03/19\", \"04/19\", \"05/19\", \"06/19\", \"07/19\", \"08/19\", \"09/19\", \"10/19\", \"11/19\", \"12/19\", \"01/20\", \"02/20\", \"03/20\", \"04/20\", \"05/20\", \"06/20\", \"07/20\", \"08/20\", \"09/20\", \"10/20\", \"11/20\", \"12/20\", \"01/21\", \"02/21\", \"03/21\", \"04/21\", \"05/21\", \"06/21\", \"07/21\", \"08/21\", \"09/21\", \"10/21\", \"11/21\", \"12/21\", \"01/22\", \"02/22\", \"03/22\", \"04/22\", \"05/22\", \"06/22\", \"07/22\", \"08/22\", \"09/22\", \"10/22\", \"11/22\", \"12/22\"]}, \"y\": {\"type\": \"quantitative\", \"field\": \"Mean NDVI\"}}}, {\"data\": {\"name\": \"data-f9000aff718105717a6f739c40b41bee\"}, \"mark\": {\"type\": \"circle\", \"color\": \"#2ca02c\", \"size\": 50}, \"encoding\": {\"tooltip\": [{\"type\": \"nominal\", \"field\": \"Month\"}, {\"type\": \"nominal\", \"field\": \"Region\"}, {\"type\": \"quantitative\", \"field\": \"Mean NDVI\"}], \"x\": {\"type\": \"ordinal\", \"field\": \"Month\", \"sort\": [\"01/19\", \"02/19\", \"03/19\", \"04/19\", \"05/19\", \"06/19\", \"07/19\", \"08/19\", \"09/19\", \"10/19\", \"11/19\", \"12/19\", \"01/20\", \"02/20\", \"03/20\", \"04/20\", \"05/20\", \"06/20\", \"07/20\", \"08/20\", \"09/20\", \"10/20\", \"11/20\", \"12/20\", \"01/21\", \"02/21\", \"03/21\", \"04/21\", \"05/21\", \"06/21\", \"07/21\", \"08/21\", \"09/21\", \"10/21\", \"11/21\", \"12/21\", \"01/22\", \"02/22\", \"03/22\", \"04/22\", \"05/22\", \"06/22\", \"07/22\", \"08/22\", \"09/22\", \"10/22\", \"11/22\", \"12/22\"]}, \"y\": {\"type\": \"quantitative\", \"field\": \"Mean NDVI\"}}}, {\"data\": {\"name\": \"data-f9000aff718105717a6f739c40b41bee\"}, \"mark\": {\"type\": \"line\", \"color\": \"red\"}, \"encoding\": {\"x\": {\"type\": \"ordinal\", \"field\": \"Month\", \"sort\": [\"01/19\", \"02/19\", \"03/19\", \"04/19\", \"05/19\", \"06/19\", \"07/19\", \"08/19\", \"09/19\", \"10/19\", \"11/19\", \"12/19\", \"01/20\", \"02/20\", \"03/20\", \"04/20\", \"05/20\", \"06/20\", \"07/20\", \"08/20\", \"09/20\", \"10/20\", \"11/20\", \"12/20\", \"01/21\", \"02/21\", \"03/21\", \"04/21\", \"05/21\", \"06/21\", \"07/21\", \"08/21\", \"09/21\", \"10/21\", \"11/21\", \"12/21\", \"01/22\", \"02/22\", \"03/22\", \"04/22\", \"05/22\", \"06/22\", \"07/22\", \"08/22\", \"09/22\", \"10/22\", \"11/22\", \"12/22\"]}, \"y\": {\"type\": \"quantitative\", \"field\": \"Fitted Mean NDVI\", \"title\": \"Mean NDVI\"}}}, {\"data\": {\"name\": \"data-f9000aff718105717a6f739c40b41bee\"}, \"mark\": {\"type\": \"circle\", \"color\": \"red\", \"size\": 50}, \"encoding\": {\"tooltip\": [{\"type\": \"nominal\", \"field\": \"Month\"}, {\"type\": \"nominal\", \"field\": \"Region\"}, {\"type\": \"quantitative\", \"field\": \"Fitted Mean NDVI\"}, {\"type\": \"quantitative\", \"field\": \"Residual\"}], \"x\": {\"type\": \"ordinal\", \"field\": \"Month\", \"sort\": [\"01/19\", \"02/19\", \"03/19\", \"04/19\", \"05/19\", \"06/19\", \"07/19\", \"08/19\", \"09/19\", \"10/19\", \"11/19\", \"12/19\", \"01/20\", \"02/20\", \"03/20\", \"04/20\", \"05/20\", \"06/20\", \"07/20\", \"08/20\", \"09/20\", \"10/20\", \"11/20\", \"12/20\", \"01/21\", \"02/21\", \"03/21\", \"04/21\", \"05/21\", \"06/21\", \"07/21\", \"08/21\", \"09/21\", \"10/21\", \"11/21\", \"12/21\", \"01/22\", \"02/22\", \"03/22\", \"04/22\", \"05/22\", \"06/22\", \"07/22\", \"08/22\", \"09/22\", \"10/22\", \"11/22\", \"12/22\"]}, \"y\": {\"type\": \"quantitative\", \"field\": \"Fitted Mean NDVI\", \"title\": \"Mean NDVI\"}}}, {\"data\": {\"name\": \"data-af17fb00603506eec0702e5630e096ed\"}, \"mark\": \"rule\", \"encoding\": {\"x\": {\"type\": \"ordinal\", \"field\": \"Month\", \"sort\": [\"01/19\", \"02/19\", \"03/19\", \"04/19\", \"05/19\", \"06/19\", \"07/19\", \"08/19\", \"09/19\", \"10/19\", \"11/19\", \"12/19\", \"01/20\", \"02/20\", \"03/20\", \"04/20\", \"05/20\", \"06/20\", \"07/20\", \"08/20\", \"09/20\", \"10/20\", \"11/20\", \"12/20\", \"01/21\", \"02/21\", \"03/21\", \"04/21\", \"05/21\", \"06/21\", \"07/21\", \"08/21\", \"09/21\", \"10/21\", \"11/21\", \"12/21\", \"01/22\", \"02/22\", \"03/22\", \"04/22\", \"05/22\", \"06/22\", \"07/22\", \"08/22\", \"09/22\", \"10/22\", \"11/22\", \"12/22\"]}}}, {\"data\": {\"name\": \"data-1971b94c32969da57c2d40f7be7d4d23\"}, \"mark\": {\"type\": \"line\", \"color\": \"red\"}, \"encoding\": {\"x\": {\"type\": \"ordinal\", \"field\": \"Month\", \"sort\": [\"01/19\", \"02/19\", \"03/19\", \"04/19\", \"05/19\", \"06/19\", \"07/19\", \"08/19\", \"09/19\", \"10/19\", \"11/19\", \"12/19\", \"01/20\", \"02/20\", \"03/20\", \"04/20\", \"05/20\", \"06/20\", \"07/20\", \"08/20\", \"09/20\", \"10/20\", \"11/20\", \"12/20\", \"01/21\", \"02/21\", \"03/21\", \"04/21\", \"05/21\", \"06/21\", \"07/21\", \"08/21\", \"09/21\", \"10/21\", \"11/21\", \"12/21\", \"01/22\", \"02/22\", \"03/22\", \"04/22\", \"05/22\", \"06/22\", \"07/22\", \"08/22\", \"09/22\", \"10/22\", \"11/22\", \"12/22\"]}, \"y\": {\"type\": \"quantitative\", \"field\": \"Predicted Mean NDVI\", \"title\": \"Mean NDVI\"}}}, {\"data\": {\"name\": \"data-1971b94c32969da57c2d40f7be7d4d23\"}, \"mark\": {\"type\": \"circle\", \"color\": \"red\", \"size\": 50}, \"encoding\": {\"tooltip\": [{\"type\": \"nominal\", \"field\": \"Month\"}, {\"type\": \"nominal\", \"field\": \"Region\"}, {\"type\": \"quantitative\", \"field\": \"Predicted Mean NDVI\"}], \"x\": {\"type\": \"ordinal\", \"field\": \"Month\", \"sort\": [\"01/19\", \"02/19\", \"03/19\", \"04/19\", \"05/19\", \"06/19\", \"07/19\", \"08/19\", \"09/19\", \"10/19\", \"11/19\", \"12/19\", \"01/20\", \"02/20\", \"03/20\", \"04/20\", \"05/20\", \"06/20\", \"07/20\", \"08/20\", \"09/20\", \"10/20\", \"11/20\", \"12/20\", \"01/21\", \"02/21\", \"03/21\", \"04/21\", \"05/21\", \"06/21\", \"07/21\", \"08/21\", \"09/21\", \"10/21\", \"11/21\", \"12/21\", \"01/22\", \"02/22\", \"03/22\", \"04/22\", \"05/22\", \"06/22\", \"07/22\", \"08/22\", \"09/22\", \"10/22\", \"11/22\", \"12/22\"]}, \"y\": {\"type\": \"quantitative\", \"field\": \"Predicted Mean NDVI\", \"title\": \"Mean NDVI\"}}}], \"height\": 250, \"title\": \"Tsimanampetsotsa Monthly Mean NDVI\", \"width\": 400}, {\"layer\": [{\"mark\": {\"type\": \"line\", \"color\": \"#2ca02c\"}, \"encoding\": {\"x\": {\"type\": \"ordinal\", \"field\": \"Month\", \"sort\": [\"01/19\", \"02/19\", \"03/19\", \"04/19\", \"05/19\", \"06/19\", \"07/19\", \"08/19\", \"09/19\", \"10/19\", \"11/19\", \"12/19\", \"01/20\", \"02/20\", \"03/20\", \"04/20\", \"05/20\", \"06/20\", \"07/20\", \"08/20\", \"09/20\", \"10/20\", \"11/20\", \"12/20\", \"01/21\", \"02/21\", \"03/21\", \"04/21\", \"05/21\", \"06/21\", \"07/21\", \"08/21\", \"09/21\", \"10/21\"]}, \"y\": {\"type\": \"quantitative\", \"field\": \"Residual\"}}}, {\"mark\": {\"type\": \"circle\", \"color\": \"#2ca02c\", \"size\": 50}, \"encoding\": {\"tooltip\": [{\"type\": \"nominal\", \"field\": \"Month\"}, {\"type\": \"nominal\", \"field\": \"Region\"}, {\"type\": \"quantitative\", \"field\": \"Residual\"}], \"x\": {\"type\": \"ordinal\", \"field\": \"Month\", \"sort\": [\"01/19\", \"02/19\", \"03/19\", \"04/19\", \"05/19\", \"06/19\", \"07/19\", \"08/19\", \"09/19\", \"10/19\", \"11/19\", \"12/19\", \"01/20\", \"02/20\", \"03/20\", \"04/20\", \"05/20\", \"06/20\", \"07/20\", \"08/20\", \"09/20\", \"10/20\", \"11/20\", \"12/20\", \"01/21\", \"02/21\", \"03/21\", \"04/21\", \"05/21\", \"06/21\", \"07/21\", \"08/21\", \"09/21\", \"10/21\"]}, \"y\": {\"type\": \"quantitative\", \"field\": \"Residual\"}}}], \"data\": {\"name\": \"data-f9000aff718105717a6f739c40b41bee\"}, \"height\": 250, \"title\": \"Tsimanampetsotsa Detrended Monthly Mean NDVI\", \"width\": 400}]}, {\"hconcat\": [{\"layer\": [{\"data\": {\"name\": \"data-ffdbea83afc4e8b19fdde57e82980b83\"}, \"mark\": {\"type\": \"line\", \"color\": \"#9467bd\"}, \"encoding\": {\"x\": {\"type\": \"ordinal\", \"field\": \"Month\", \"sort\": [\"01/19\", \"02/19\", \"03/19\", \"04/19\", \"05/19\", \"06/19\", \"07/19\", \"08/19\", \"09/19\", \"10/19\", \"11/19\", \"12/19\", \"01/20\", \"02/20\", \"03/20\", \"04/20\", \"05/20\", \"06/20\", \"07/20\", \"08/20\", \"09/20\", \"10/20\", \"11/20\", \"12/20\", \"01/21\", \"02/21\", \"03/21\", \"04/21\", \"05/21\", \"06/21\", \"07/21\", \"08/21\", \"09/21\", \"10/21\", \"11/21\", \"12/21\", \"01/22\", \"02/22\", \"03/22\", \"04/22\", \"05/22\", \"06/22\", \"07/22\", \"08/22\", \"09/22\", \"10/22\", \"11/22\", \"12/22\"]}, \"y\": {\"type\": \"quantitative\", \"field\": \"Mean NDVI\"}}}, {\"data\": {\"name\": \"data-ffdbea83afc4e8b19fdde57e82980b83\"}, \"mark\": {\"type\": \"circle\", \"color\": \"#9467bd\", \"size\": 50}, \"encoding\": {\"tooltip\": [{\"type\": \"nominal\", \"field\": \"Month\"}, {\"type\": \"nominal\", \"field\": \"Region\"}, {\"type\": \"quantitative\", \"field\": \"Mean NDVI\"}], \"x\": {\"type\": \"ordinal\", \"field\": \"Month\", \"sort\": [\"01/19\", \"02/19\", \"03/19\", \"04/19\", \"05/19\", \"06/19\", \"07/19\", \"08/19\", \"09/19\", \"10/19\", \"11/19\", \"12/19\", \"01/20\", \"02/20\", \"03/20\", \"04/20\", \"05/20\", \"06/20\", \"07/20\", \"08/20\", \"09/20\", \"10/20\", \"11/20\", \"12/20\", \"01/21\", \"02/21\", \"03/21\", \"04/21\", \"05/21\", \"06/21\", \"07/21\", \"08/21\", \"09/21\", \"10/21\", \"11/21\", \"12/21\", \"01/22\", \"02/22\", \"03/22\", \"04/22\", \"05/22\", \"06/22\", \"07/22\", \"08/22\", \"09/22\", \"10/22\", \"11/22\", \"12/22\"]}, \"y\": {\"type\": \"quantitative\", \"field\": \"Mean NDVI\"}}}, {\"data\": {\"name\": \"data-ffdbea83afc4e8b19fdde57e82980b83\"}, \"mark\": {\"type\": \"line\", \"color\": \"red\"}, \"encoding\": {\"x\": {\"type\": \"ordinal\", \"field\": \"Month\", \"sort\": [\"01/19\", \"02/19\", \"03/19\", \"04/19\", \"05/19\", \"06/19\", \"07/19\", \"08/19\", \"09/19\", \"10/19\", \"11/19\", \"12/19\", \"01/20\", \"02/20\", \"03/20\", \"04/20\", \"05/20\", \"06/20\", \"07/20\", \"08/20\", \"09/20\", \"10/20\", \"11/20\", \"12/20\", \"01/21\", \"02/21\", \"03/21\", \"04/21\", \"05/21\", \"06/21\", \"07/21\", \"08/21\", \"09/21\", \"10/21\", \"11/21\", \"12/21\", \"01/22\", \"02/22\", \"03/22\", \"04/22\", \"05/22\", \"06/22\", \"07/22\", \"08/22\", \"09/22\", \"10/22\", \"11/22\", \"12/22\"]}, \"y\": {\"type\": \"quantitative\", \"field\": \"Fitted Mean NDVI\", \"title\": \"Mean NDVI\"}}}, {\"data\": {\"name\": \"data-ffdbea83afc4e8b19fdde57e82980b83\"}, \"mark\": {\"type\": \"circle\", \"color\": \"red\", \"size\": 50}, \"encoding\": {\"tooltip\": [{\"type\": \"nominal\", \"field\": \"Month\"}, {\"type\": \"nominal\", \"field\": \"Region\"}, {\"type\": \"quantitative\", \"field\": \"Fitted Mean NDVI\"}, {\"type\": \"quantitative\", \"field\": \"Residual\"}], \"x\": {\"type\": \"ordinal\", \"field\": \"Month\", \"sort\": [\"01/19\", \"02/19\", \"03/19\", \"04/19\", \"05/19\", \"06/19\", \"07/19\", \"08/19\", \"09/19\", \"10/19\", \"11/19\", \"12/19\", \"01/20\", \"02/20\", \"03/20\", \"04/20\", \"05/20\", \"06/20\", \"07/20\", \"08/20\", \"09/20\", \"10/20\", \"11/20\", \"12/20\", \"01/21\", \"02/21\", \"03/21\", \"04/21\", \"05/21\", \"06/21\", \"07/21\", \"08/21\", \"09/21\", \"10/21\", \"11/21\", \"12/21\", \"01/22\", \"02/22\", \"03/22\", \"04/22\", \"05/22\", \"06/22\", \"07/22\", \"08/22\", \"09/22\", \"10/22\", \"11/22\", \"12/22\"]}, \"y\": {\"type\": \"quantitative\", \"field\": \"Fitted Mean NDVI\", \"title\": \"Mean NDVI\"}}}, {\"data\": {\"name\": \"data-af17fb00603506eec0702e5630e096ed\"}, \"mark\": \"rule\", \"encoding\": {\"x\": {\"type\": \"ordinal\", \"field\": \"Month\", \"sort\": [\"01/19\", \"02/19\", \"03/19\", \"04/19\", \"05/19\", \"06/19\", \"07/19\", \"08/19\", \"09/19\", \"10/19\", \"11/19\", \"12/19\", \"01/20\", \"02/20\", \"03/20\", \"04/20\", \"05/20\", \"06/20\", \"07/20\", \"08/20\", \"09/20\", \"10/20\", \"11/20\", \"12/20\", \"01/21\", \"02/21\", \"03/21\", \"04/21\", \"05/21\", \"06/21\", \"07/21\", \"08/21\", \"09/21\", \"10/21\", \"11/21\", \"12/21\", \"01/22\", \"02/22\", \"03/22\", \"04/22\", \"05/22\", \"06/22\", \"07/22\", \"08/22\", \"09/22\", \"10/22\", \"11/22\", \"12/22\"]}}}, {\"data\": {\"name\": \"data-dd776f213aa6b9763be9ced67c440f17\"}, \"mark\": {\"type\": \"line\", \"color\": \"red\"}, \"encoding\": {\"x\": {\"type\": \"ordinal\", \"field\": \"Month\", \"sort\": [\"01/19\", \"02/19\", \"03/19\", \"04/19\", \"05/19\", \"06/19\", \"07/19\", \"08/19\", \"09/19\", \"10/19\", \"11/19\", \"12/19\", \"01/20\", \"02/20\", \"03/20\", \"04/20\", \"05/20\", \"06/20\", \"07/20\", \"08/20\", \"09/20\", \"10/20\", \"11/20\", \"12/20\", \"01/21\", \"02/21\", \"03/21\", \"04/21\", \"05/21\", \"06/21\", \"07/21\", \"08/21\", \"09/21\", \"10/21\", \"11/21\", \"12/21\", \"01/22\", \"02/22\", \"03/22\", \"04/22\", \"05/22\", \"06/22\", \"07/22\", \"08/22\", \"09/22\", \"10/22\", \"11/22\", \"12/22\"]}, \"y\": {\"type\": \"quantitative\", \"field\": \"Predicted Mean NDVI\", \"title\": \"Mean NDVI\"}}}, {\"data\": {\"name\": \"data-dd776f213aa6b9763be9ced67c440f17\"}, \"mark\": {\"type\": \"circle\", \"color\": \"red\", \"size\": 50}, \"encoding\": {\"tooltip\": [{\"type\": \"nominal\", \"field\": \"Month\"}, {\"type\": \"nominal\", \"field\": \"Region\"}, {\"type\": \"quantitative\", \"field\": \"Predicted Mean NDVI\"}], \"x\": {\"type\": \"ordinal\", \"field\": \"Month\", \"sort\": [\"01/19\", \"02/19\", \"03/19\", \"04/19\", \"05/19\", \"06/19\", \"07/19\", \"08/19\", \"09/19\", \"10/19\", \"11/19\", \"12/19\", \"01/20\", \"02/20\", \"03/20\", \"04/20\", \"05/20\", \"06/20\", \"07/20\", \"08/20\", \"09/20\", \"10/20\", \"11/20\", \"12/20\", \"01/21\", \"02/21\", \"03/21\", \"04/21\", \"05/21\", \"06/21\", \"07/21\", \"08/21\", \"09/21\", \"10/21\", \"11/21\", \"12/21\", \"01/22\", \"02/22\", \"03/22\", \"04/22\", \"05/22\", \"06/22\", \"07/22\", \"08/22\", \"09/22\", \"10/22\", \"11/22\", \"12/22\"]}, \"y\": {\"type\": \"quantitative\", \"field\": \"Predicted Mean NDVI\", \"title\": \"Mean NDVI\"}}}], \"height\": 250, \"title\": \"d'Ankarafantsika Monthly Mean NDVI\", \"width\": 400}, {\"layer\": [{\"mark\": {\"type\": \"line\", \"color\": \"#9467bd\"}, \"encoding\": {\"x\": {\"type\": \"ordinal\", \"field\": \"Month\", \"sort\": [\"01/19\", \"02/19\", \"03/19\", \"04/19\", \"05/19\", \"06/19\", \"07/19\", \"08/19\", \"09/19\", \"10/19\", \"11/19\", \"12/19\", \"01/20\", \"02/20\", \"03/20\", \"04/20\", \"05/20\", \"06/20\", \"07/20\", \"08/20\", \"09/20\", \"10/20\", \"11/20\", \"12/20\", \"01/21\", \"02/21\", \"03/21\", \"04/21\", \"05/21\", \"06/21\", \"07/21\", \"08/21\", \"09/21\", \"10/21\"]}, \"y\": {\"type\": \"quantitative\", \"field\": \"Residual\"}}}, {\"mark\": {\"type\": \"circle\", \"color\": \"#9467bd\", \"size\": 50}, \"encoding\": {\"tooltip\": [{\"type\": \"nominal\", \"field\": \"Month\"}, {\"type\": \"nominal\", \"field\": \"Region\"}, {\"type\": \"quantitative\", \"field\": \"Residual\"}], \"x\": {\"type\": \"ordinal\", \"field\": \"Month\", \"sort\": [\"01/19\", \"02/19\", \"03/19\", \"04/19\", \"05/19\", \"06/19\", \"07/19\", \"08/19\", \"09/19\", \"10/19\", \"11/19\", \"12/19\", \"01/20\", \"02/20\", \"03/20\", \"04/20\", \"05/20\", \"06/20\", \"07/20\", \"08/20\", \"09/20\", \"10/20\", \"11/20\", \"12/20\", \"01/21\", \"02/21\", \"03/21\", \"04/21\", \"05/21\", \"06/21\", \"07/21\", \"08/21\", \"09/21\", \"10/21\"]}, \"y\": {\"type\": \"quantitative\", \"field\": \"Residual\"}}}], \"data\": {\"name\": \"data-ffdbea83afc4e8b19fdde57e82980b83\"}, \"height\": 250, \"title\": \"d'Ankarafantsika Detrended Monthly Mean NDVI\", \"width\": 400}]}, {\"hconcat\": [{\"layer\": [{\"data\": {\"name\": \"data-913d645df6d7cb04fafa924542122ce3\"}, \"mark\": {\"type\": \"line\", \"color\": \"#17becf\"}, \"encoding\": {\"x\": {\"type\": \"ordinal\", \"field\": \"Month\", \"sort\": [\"01/19\", \"02/19\", \"03/19\", \"04/19\", \"05/19\", \"06/19\", \"07/19\", \"08/19\", \"09/19\", \"10/19\", \"11/19\", \"12/19\", \"01/20\", \"02/20\", \"03/20\", \"04/20\", \"05/20\", \"06/20\", \"07/20\", \"08/20\", \"09/20\", \"10/20\", \"11/20\", \"12/20\", \"01/21\", \"02/21\", \"03/21\", \"04/21\", \"05/21\", \"06/21\", \"07/21\", \"08/21\", \"09/21\", \"10/21\", \"11/21\", \"12/21\", \"01/22\", \"02/22\", \"03/22\", \"04/22\", \"05/22\", \"06/22\", \"07/22\", \"08/22\", \"09/22\", \"10/22\", \"11/22\", \"12/22\"]}, \"y\": {\"type\": \"quantitative\", \"field\": \"Mean NDVI\"}}}, {\"data\": {\"name\": \"data-913d645df6d7cb04fafa924542122ce3\"}, \"mark\": {\"type\": \"circle\", \"color\": \"#17becf\", \"size\": 50}, \"encoding\": {\"tooltip\": [{\"type\": \"nominal\", \"field\": \"Month\"}, {\"type\": \"nominal\", \"field\": \"Region\"}, {\"type\": \"quantitative\", \"field\": \"Mean NDVI\"}], \"x\": {\"type\": \"ordinal\", \"field\": \"Month\", \"sort\": [\"01/19\", \"02/19\", \"03/19\", \"04/19\", \"05/19\", \"06/19\", \"07/19\", \"08/19\", \"09/19\", \"10/19\", \"11/19\", \"12/19\", \"01/20\", \"02/20\", \"03/20\", \"04/20\", \"05/20\", \"06/20\", \"07/20\", \"08/20\", \"09/20\", \"10/20\", \"11/20\", \"12/20\", \"01/21\", \"02/21\", \"03/21\", \"04/21\", \"05/21\", \"06/21\", \"07/21\", \"08/21\", \"09/21\", \"10/21\", \"11/21\", \"12/21\", \"01/22\", \"02/22\", \"03/22\", \"04/22\", \"05/22\", \"06/22\", \"07/22\", \"08/22\", \"09/22\", \"10/22\", \"11/22\", \"12/22\"]}, \"y\": {\"type\": \"quantitative\", \"field\": \"Mean NDVI\"}}}, {\"data\": {\"name\": \"data-913d645df6d7cb04fafa924542122ce3\"}, \"mark\": {\"type\": \"line\", \"color\": \"red\"}, \"encoding\": {\"x\": {\"type\": \"ordinal\", \"field\": \"Month\", \"sort\": [\"01/19\", \"02/19\", \"03/19\", \"04/19\", \"05/19\", \"06/19\", \"07/19\", \"08/19\", \"09/19\", \"10/19\", \"11/19\", \"12/19\", \"01/20\", \"02/20\", \"03/20\", \"04/20\", \"05/20\", \"06/20\", \"07/20\", \"08/20\", \"09/20\", \"10/20\", \"11/20\", \"12/20\", \"01/21\", \"02/21\", \"03/21\", \"04/21\", \"05/21\", \"06/21\", \"07/21\", \"08/21\", \"09/21\", \"10/21\", \"11/21\", \"12/21\", \"01/22\", \"02/22\", \"03/22\", \"04/22\", \"05/22\", \"06/22\", \"07/22\", \"08/22\", \"09/22\", \"10/22\", \"11/22\", \"12/22\"]}, \"y\": {\"type\": \"quantitative\", \"field\": \"Fitted Mean NDVI\", \"title\": \"Mean NDVI\"}}}, {\"data\": {\"name\": \"data-913d645df6d7cb04fafa924542122ce3\"}, \"mark\": {\"type\": \"circle\", \"color\": \"red\", \"size\": 50}, \"encoding\": {\"tooltip\": [{\"type\": \"nominal\", \"field\": \"Month\"}, {\"type\": \"nominal\", \"field\": \"Region\"}, {\"type\": \"quantitative\", \"field\": \"Fitted Mean NDVI\"}, {\"type\": \"quantitative\", \"field\": \"Residual\"}], \"x\": {\"type\": \"ordinal\", \"field\": \"Month\", \"sort\": [\"01/19\", \"02/19\", \"03/19\", \"04/19\", \"05/19\", \"06/19\", \"07/19\", \"08/19\", \"09/19\", \"10/19\", \"11/19\", \"12/19\", \"01/20\", \"02/20\", \"03/20\", \"04/20\", \"05/20\", \"06/20\", \"07/20\", \"08/20\", \"09/20\", \"10/20\", \"11/20\", \"12/20\", \"01/21\", \"02/21\", \"03/21\", \"04/21\", \"05/21\", \"06/21\", \"07/21\", \"08/21\", \"09/21\", \"10/21\", \"11/21\", \"12/21\", \"01/22\", \"02/22\", \"03/22\", \"04/22\", \"05/22\", \"06/22\", \"07/22\", \"08/22\", \"09/22\", \"10/22\", \"11/22\", \"12/22\"]}, \"y\": {\"type\": \"quantitative\", \"field\": \"Fitted Mean NDVI\", \"title\": \"Mean NDVI\"}}}, {\"data\": {\"name\": \"data-af17fb00603506eec0702e5630e096ed\"}, \"mark\": \"rule\", \"encoding\": {\"x\": {\"type\": \"ordinal\", \"field\": \"Month\", \"sort\": [\"01/19\", \"02/19\", \"03/19\", \"04/19\", \"05/19\", \"06/19\", \"07/19\", \"08/19\", \"09/19\", \"10/19\", \"11/19\", \"12/19\", \"01/20\", \"02/20\", \"03/20\", \"04/20\", \"05/20\", \"06/20\", \"07/20\", \"08/20\", \"09/20\", \"10/20\", \"11/20\", \"12/20\", \"01/21\", \"02/21\", \"03/21\", \"04/21\", \"05/21\", \"06/21\", \"07/21\", \"08/21\", \"09/21\", \"10/21\", \"11/21\", \"12/21\", \"01/22\", \"02/22\", \"03/22\", \"04/22\", \"05/22\", \"06/22\", \"07/22\", \"08/22\", \"09/22\", \"10/22\", \"11/22\", \"12/22\"]}}}, {\"data\": {\"name\": \"data-579f69c590188c87ad94e04f14f605c0\"}, \"mark\": {\"type\": \"line\", \"color\": \"red\"}, \"encoding\": {\"x\": {\"type\": \"ordinal\", \"field\": \"Month\", \"sort\": [\"01/19\", \"02/19\", \"03/19\", \"04/19\", \"05/19\", \"06/19\", \"07/19\", \"08/19\", \"09/19\", \"10/19\", \"11/19\", \"12/19\", \"01/20\", \"02/20\", \"03/20\", \"04/20\", \"05/20\", \"06/20\", \"07/20\", \"08/20\", \"09/20\", \"10/20\", \"11/20\", \"12/20\", \"01/21\", \"02/21\", \"03/21\", \"04/21\", \"05/21\", \"06/21\", \"07/21\", \"08/21\", \"09/21\", \"10/21\", \"11/21\", \"12/21\", \"01/22\", \"02/22\", \"03/22\", \"04/22\", \"05/22\", \"06/22\", \"07/22\", \"08/22\", \"09/22\", \"10/22\", \"11/22\", \"12/22\"]}, \"y\": {\"type\": \"quantitative\", \"field\": \"Predicted Mean NDVI\", \"title\": \"Mean NDVI\"}}}, {\"data\": {\"name\": \"data-579f69c590188c87ad94e04f14f605c0\"}, \"mark\": {\"type\": \"circle\", \"color\": \"red\", \"size\": 50}, \"encoding\": {\"tooltip\": [{\"type\": \"nominal\", \"field\": \"Month\"}, {\"type\": \"nominal\", \"field\": \"Region\"}, {\"type\": \"quantitative\", \"field\": \"Predicted Mean NDVI\"}], \"x\": {\"type\": \"ordinal\", \"field\": \"Month\", \"sort\": [\"01/19\", \"02/19\", \"03/19\", \"04/19\", \"05/19\", \"06/19\", \"07/19\", \"08/19\", \"09/19\", \"10/19\", \"11/19\", \"12/19\", \"01/20\", \"02/20\", \"03/20\", \"04/20\", \"05/20\", \"06/20\", \"07/20\", \"08/20\", \"09/20\", \"10/20\", \"11/20\", \"12/20\", \"01/21\", \"02/21\", \"03/21\", \"04/21\", \"05/21\", \"06/21\", \"07/21\", \"08/21\", \"09/21\", \"10/21\", \"11/21\", \"12/21\", \"01/22\", \"02/22\", \"03/22\", \"04/22\", \"05/22\", \"06/22\", \"07/22\", \"08/22\", \"09/22\", \"10/22\", \"11/22\", \"12/22\"]}, \"y\": {\"type\": \"quantitative\", \"field\": \"Predicted Mean NDVI\", \"title\": \"Mean NDVI\"}}}], \"height\": 250, \"title\": \"Masoala Monthly Mean NDVI\", \"width\": 400}, {\"layer\": [{\"mark\": {\"type\": \"line\", \"color\": \"#17becf\"}, \"encoding\": {\"x\": {\"type\": \"ordinal\", \"field\": \"Month\", \"sort\": [\"01/19\", \"02/19\", \"03/19\", \"04/19\", \"05/19\", \"06/19\", \"07/19\", \"08/19\", \"09/19\", \"10/19\", \"11/19\", \"12/19\", \"01/20\", \"02/20\", \"03/20\", \"04/20\", \"05/20\", \"06/20\", \"07/20\", \"08/20\", \"09/20\", \"10/20\", \"11/20\", \"12/20\", \"01/21\", \"02/21\", \"03/21\", \"04/21\", \"05/21\", \"06/21\", \"07/21\", \"08/21\", \"09/21\", \"10/21\"]}, \"y\": {\"type\": \"quantitative\", \"field\": \"Residual\"}}}, {\"mark\": {\"type\": \"circle\", \"color\": \"#17becf\", \"size\": 50}, \"encoding\": {\"tooltip\": [{\"type\": \"nominal\", \"field\": \"Month\"}, {\"type\": \"nominal\", \"field\": \"Region\"}, {\"type\": \"quantitative\", \"field\": \"Residual\"}], \"x\": {\"type\": \"ordinal\", \"field\": \"Month\", \"sort\": [\"01/19\", \"02/19\", \"03/19\", \"04/19\", \"05/19\", \"06/19\", \"07/19\", \"08/19\", \"09/19\", \"10/19\", \"11/19\", \"12/19\", \"01/20\", \"02/20\", \"03/20\", \"04/20\", \"05/20\", \"06/20\", \"07/20\", \"08/20\", \"09/20\", \"10/20\", \"11/20\", \"12/20\", \"01/21\", \"02/21\", \"03/21\", \"04/21\", \"05/21\", \"06/21\", \"07/21\", \"08/21\", \"09/21\", \"10/21\"]}, \"y\": {\"type\": \"quantitative\", \"field\": \"Residual\"}}}], \"data\": {\"name\": \"data-913d645df6d7cb04fafa924542122ce3\"}, \"height\": 250, \"title\": \"Masoala Detrended Monthly Mean NDVI\", \"width\": 400}]}, {\"hconcat\": [{\"layer\": [{\"data\": {\"name\": \"data-3333cc86a4353d3e6fba7a857d549bfa\"}, \"mark\": {\"type\": \"line\", \"color\": \"#D159F2\"}, \"encoding\": {\"x\": {\"type\": \"ordinal\", \"field\": \"Month\", \"sort\": [\"01/19\", \"02/19\", \"03/19\", \"04/19\", \"05/19\", \"06/19\", \"07/19\", \"08/19\", \"09/19\", \"10/19\", \"11/19\", \"12/19\", \"01/20\", \"02/20\", \"03/20\", \"04/20\", \"05/20\", \"06/20\", \"07/20\", \"08/20\", \"09/20\", \"10/20\", \"11/20\", \"12/20\", \"01/21\", \"02/21\", \"03/21\", \"04/21\", \"05/21\", \"06/21\", \"07/21\", \"08/21\", \"09/21\", \"10/21\", \"11/21\", \"12/21\", \"01/22\", \"02/22\", \"03/22\", \"04/22\", \"05/22\", \"06/22\", \"07/22\", \"08/22\", \"09/22\", \"10/22\", \"11/22\", \"12/22\"]}, \"y\": {\"type\": \"quantitative\", \"field\": \"Mean NDVI\"}}}, {\"data\": {\"name\": \"data-3333cc86a4353d3e6fba7a857d549bfa\"}, \"mark\": {\"type\": \"circle\", \"color\": \"#D159F2\", \"size\": 50}, \"encoding\": {\"tooltip\": [{\"type\": \"nominal\", \"field\": \"Month\"}, {\"type\": \"nominal\", \"field\": \"Region\"}, {\"type\": \"quantitative\", \"field\": \"Mean NDVI\"}], \"x\": {\"type\": \"ordinal\", \"field\": \"Month\", \"sort\": [\"01/19\", \"02/19\", \"03/19\", \"04/19\", \"05/19\", \"06/19\", \"07/19\", \"08/19\", \"09/19\", \"10/19\", \"11/19\", \"12/19\", \"01/20\", \"02/20\", \"03/20\", \"04/20\", \"05/20\", \"06/20\", \"07/20\", \"08/20\", \"09/20\", \"10/20\", \"11/20\", \"12/20\", \"01/21\", \"02/21\", \"03/21\", \"04/21\", \"05/21\", \"06/21\", \"07/21\", \"08/21\", \"09/21\", \"10/21\", \"11/21\", \"12/21\", \"01/22\", \"02/22\", \"03/22\", \"04/22\", \"05/22\", \"06/22\", \"07/22\", \"08/22\", \"09/22\", \"10/22\", \"11/22\", \"12/22\"]}, \"y\": {\"type\": \"quantitative\", \"field\": \"Mean NDVI\"}}}, {\"data\": {\"name\": \"data-3333cc86a4353d3e6fba7a857d549bfa\"}, \"mark\": {\"type\": \"line\", \"color\": \"red\"}, \"encoding\": {\"x\": {\"type\": \"ordinal\", \"field\": \"Month\", \"sort\": [\"01/19\", \"02/19\", \"03/19\", \"04/19\", \"05/19\", \"06/19\", \"07/19\", \"08/19\", \"09/19\", \"10/19\", \"11/19\", \"12/19\", \"01/20\", \"02/20\", \"03/20\", \"04/20\", \"05/20\", \"06/20\", \"07/20\", \"08/20\", \"09/20\", \"10/20\", \"11/20\", \"12/20\", \"01/21\", \"02/21\", \"03/21\", \"04/21\", \"05/21\", \"06/21\", \"07/21\", \"08/21\", \"09/21\", \"10/21\", \"11/21\", \"12/21\", \"01/22\", \"02/22\", \"03/22\", \"04/22\", \"05/22\", \"06/22\", \"07/22\", \"08/22\", \"09/22\", \"10/22\", \"11/22\", \"12/22\"]}, \"y\": {\"type\": \"quantitative\", \"field\": \"Fitted Mean NDVI\", \"title\": \"Mean NDVI\"}}}, {\"data\": {\"name\": \"data-3333cc86a4353d3e6fba7a857d549bfa\"}, \"mark\": {\"type\": \"circle\", \"color\": \"red\", \"size\": 50}, \"encoding\": {\"tooltip\": [{\"type\": \"nominal\", \"field\": \"Month\"}, {\"type\": \"nominal\", \"field\": \"Region\"}, {\"type\": \"quantitative\", \"field\": \"Fitted Mean NDVI\"}, {\"type\": \"quantitative\", \"field\": \"Residual\"}], \"x\": {\"type\": \"ordinal\", \"field\": \"Month\", \"sort\": [\"01/19\", \"02/19\", \"03/19\", \"04/19\", \"05/19\", \"06/19\", \"07/19\", \"08/19\", \"09/19\", \"10/19\", \"11/19\", \"12/19\", \"01/20\", \"02/20\", \"03/20\", \"04/20\", \"05/20\", \"06/20\", \"07/20\", \"08/20\", \"09/20\", \"10/20\", \"11/20\", \"12/20\", \"01/21\", \"02/21\", \"03/21\", \"04/21\", \"05/21\", \"06/21\", \"07/21\", \"08/21\", \"09/21\", \"10/21\", \"11/21\", \"12/21\", \"01/22\", \"02/22\", \"03/22\", \"04/22\", \"05/22\", \"06/22\", \"07/22\", \"08/22\", \"09/22\", \"10/22\", \"11/22\", \"12/22\"]}, \"y\": {\"type\": \"quantitative\", \"field\": \"Fitted Mean NDVI\", \"title\": \"Mean NDVI\"}}}, {\"data\": {\"name\": \"data-af17fb00603506eec0702e5630e096ed\"}, \"mark\": \"rule\", \"encoding\": {\"x\": {\"type\": \"ordinal\", \"field\": \"Month\", \"sort\": [\"01/19\", \"02/19\", \"03/19\", \"04/19\", \"05/19\", \"06/19\", \"07/19\", \"08/19\", \"09/19\", \"10/19\", \"11/19\", \"12/19\", \"01/20\", \"02/20\", \"03/20\", \"04/20\", \"05/20\", \"06/20\", \"07/20\", \"08/20\", \"09/20\", \"10/20\", \"11/20\", \"12/20\", \"01/21\", \"02/21\", \"03/21\", \"04/21\", \"05/21\", \"06/21\", \"07/21\", \"08/21\", \"09/21\", \"10/21\", \"11/21\", \"12/21\", \"01/22\", \"02/22\", \"03/22\", \"04/22\", \"05/22\", \"06/22\", \"07/22\", \"08/22\", \"09/22\", \"10/22\", \"11/22\", \"12/22\"]}}}, {\"data\": {\"name\": \"data-94ab03db8efda0c7db69f59ba18d0205\"}, \"mark\": {\"type\": \"line\", \"color\": \"red\"}, \"encoding\": {\"x\": {\"type\": \"ordinal\", \"field\": \"Month\", \"sort\": [\"01/19\", \"02/19\", \"03/19\", \"04/19\", \"05/19\", \"06/19\", \"07/19\", \"08/19\", \"09/19\", \"10/19\", \"11/19\", \"12/19\", \"01/20\", \"02/20\", \"03/20\", \"04/20\", \"05/20\", \"06/20\", \"07/20\", \"08/20\", \"09/20\", \"10/20\", \"11/20\", \"12/20\", \"01/21\", \"02/21\", \"03/21\", \"04/21\", \"05/21\", \"06/21\", \"07/21\", \"08/21\", \"09/21\", \"10/21\", \"11/21\", \"12/21\", \"01/22\", \"02/22\", \"03/22\", \"04/22\", \"05/22\", \"06/22\", \"07/22\", \"08/22\", \"09/22\", \"10/22\", \"11/22\", \"12/22\"]}, \"y\": {\"type\": \"quantitative\", \"field\": \"Predicted Mean NDVI\", \"title\": \"Mean NDVI\"}}}, {\"data\": {\"name\": \"data-94ab03db8efda0c7db69f59ba18d0205\"}, \"mark\": {\"type\": \"circle\", \"color\": \"red\", \"size\": 50}, \"encoding\": {\"tooltip\": [{\"type\": \"nominal\", \"field\": \"Month\"}, {\"type\": \"nominal\", \"field\": \"Region\"}, {\"type\": \"quantitative\", \"field\": \"Predicted Mean NDVI\"}], \"x\": {\"type\": \"ordinal\", \"field\": \"Month\", \"sort\": [\"01/19\", \"02/19\", \"03/19\", \"04/19\", \"05/19\", \"06/19\", \"07/19\", \"08/19\", \"09/19\", \"10/19\", \"11/19\", \"12/19\", \"01/20\", \"02/20\", \"03/20\", \"04/20\", \"05/20\", \"06/20\", \"07/20\", \"08/20\", \"09/20\", \"10/20\", \"11/20\", \"12/20\", \"01/21\", \"02/21\", \"03/21\", \"04/21\", \"05/21\", \"06/21\", \"07/21\", \"08/21\", \"09/21\", \"10/21\", \"11/21\", \"12/21\", \"01/22\", \"02/22\", \"03/22\", \"04/22\", \"05/22\", \"06/22\", \"07/22\", \"08/22\", \"09/22\", \"10/22\", \"11/22\", \"12/22\"]}, \"y\": {\"type\": \"quantitative\", \"field\": \"Predicted Mean NDVI\", \"title\": \"Mean NDVI\"}}}], \"height\": 250, \"title\": \"Alan'Ankirisa Monthly Mean NDVI\", \"width\": 400}, {\"layer\": [{\"mark\": {\"type\": \"line\", \"color\": \"#D159F2\"}, \"encoding\": {\"x\": {\"type\": \"ordinal\", \"field\": \"Month\", \"sort\": [\"01/19\", \"02/19\", \"03/19\", \"04/19\", \"05/19\", \"06/19\", \"07/19\", \"08/19\", \"09/19\", \"10/19\", \"11/19\", \"12/19\", \"01/20\", \"02/20\", \"03/20\", \"04/20\", \"05/20\", \"06/20\", \"07/20\", \"08/20\", \"09/20\", \"10/20\", \"11/20\", \"12/20\", \"01/21\", \"02/21\", \"03/21\", \"04/21\", \"05/21\", \"06/21\", \"07/21\", \"08/21\", \"09/21\", \"10/21\"]}, \"y\": {\"type\": \"quantitative\", \"field\": \"Residual\"}}}, {\"mark\": {\"type\": \"circle\", \"color\": \"#D159F2\", \"size\": 50}, \"encoding\": {\"tooltip\": [{\"type\": \"nominal\", \"field\": \"Month\"}, {\"type\": \"nominal\", \"field\": \"Region\"}, {\"type\": \"quantitative\", \"field\": \"Residual\"}], \"x\": {\"type\": \"ordinal\", \"field\": \"Month\", \"sort\": [\"01/19\", \"02/19\", \"03/19\", \"04/19\", \"05/19\", \"06/19\", \"07/19\", \"08/19\", \"09/19\", \"10/19\", \"11/19\", \"12/19\", \"01/20\", \"02/20\", \"03/20\", \"04/20\", \"05/20\", \"06/20\", \"07/20\", \"08/20\", \"09/20\", \"10/20\", \"11/20\", \"12/20\", \"01/21\", \"02/21\", \"03/21\", \"04/21\", \"05/21\", \"06/21\", \"07/21\", \"08/21\", \"09/21\", \"10/21\"]}, \"y\": {\"type\": \"quantitative\", \"field\": \"Residual\"}}}], \"data\": {\"name\": \"data-3333cc86a4353d3e6fba7a857d549bfa\"}, \"height\": 250, \"title\": \"Alan'Ankirisa Detrended Monthly Mean NDVI\", \"width\": 400}]}], \"$schema\": \"https://vega.github.io/schema/vega-lite/v4.8.1.json\", \"datasets\": {\"data-2371ec1942c2fc9d0e1642eef5afec80\": [{\"Month\": \"01/19\", \"Years Since Epoch (t)\": 49.039, \"Max NDVI\": 0.977, \"Mean NDVI\": 0.764, \"Min NDVI\": -0.472, \"Region\": \"d'Andohahela\", \"cos\": 0.9701265964901047, \"sin\": 0.242599230795412, \"Fitted Mean NDVI\": 0.737, \"Residual\": 0.027}, {\"Month\": \"02/19\", \"Years Since Epoch (t)\": 49.124, \"Max NDVI\": 0.998, \"Mean NDVI\": 0.766, \"Min NDVI\": -0.673, \"Region\": \"d'Andohahela\", \"cos\": 0.7115356772092729, \"sin\": 0.7026499697988617, \"Fitted Mean NDVI\": 0.762, \"Residual\": 0.004}, {\"Month\": \"03/19\", \"Years Since Epoch (t)\": 49.2, \"Max NDVI\": 0.999, \"Mean NDVI\": 0.803, \"Min NDVI\": -0.544, \"Region\": \"d'Andohahela\", \"cos\": 0.3090169943749183, \"sin\": 0.9510565162951631, \"Fitted Mean NDVI\": 0.782, \"Residual\": 0.021}, {\"Month\": \"04/19\", \"Years Since Epoch (t)\": 49.285, \"Max NDVI\": 0.999, \"Mean NDVI\": 0.781, \"Min NDVI\": -0.543, \"Region\": \"d'Andohahela\", \"cos\": -0.21814324139652955, \"sin\": 0.9759167619387503, \"Fitted Mean NDVI\": 0.795, \"Residual\": -0.014}, {\"Month\": \"05/19\", \"Years Since Epoch (t)\": 49.367, \"Max NDVI\": 1.0, \"Mean NDVI\": 0.797, \"Min NDVI\": -0.722, \"Region\": \"d'Andohahela\", \"cos\": -0.6706855765366916, \"sin\": 0.741741772738765, \"Fitted Mean NDVI\": 0.796, \"Residual\": 0.001}, {\"Month\": \"06/19\", \"Years Since Epoch (t)\": 49.452, \"Max NDVI\": 0.999, \"Mean NDVI\": 0.757, \"Min NDVI\": -0.951, \"Region\": \"d'Andohahela\", \"cos\": -0.9548645447466354, \"sin\": 0.29704158157705907, \"Fitted Mean NDVI\": 0.783, \"Residual\": -0.026}, {\"Month\": \"07/19\", \"Years Since Epoch (t)\": 49.534, \"Max NDVI\": 0.999, \"Mean NDVI\": 0.771, \"Min NDVI\": -0.675, \"Region\": \"d'Andohahela\", \"cos\": -0.977268123568192, \"sin\": -0.21200710992206104, \"Fitted Mean NDVI\": 0.76, \"Residual\": 0.011}, {\"Month\": \"08/19\", \"Years Since Epoch (t)\": 49.619, \"Max NDVI\": 0.997, \"Mean NDVI\": 0.726, \"Min NDVI\": -0.521, \"Region\": \"d'Andohahela\", \"cos\": -0.7332553462225855, \"sin\": -0.6799533787223918, \"Fitted Mean NDVI\": 0.732, \"Residual\": -0.006}, {\"Month\": \"09/19\", \"Years Since Epoch (t)\": 49.704, \"Max NDVI\": 0.948, \"Mean NDVI\": 0.71, \"Min NDVI\": -0.371, \"Region\": \"d'Andohahela\", \"cos\": -0.28501926246999953, \"sin\": -0.958521789017369, \"Fitted Mean NDVI\": 0.707, \"Residual\": 0.003}, {\"Month\": \"10/19\", \"Years Since Epoch (t)\": 49.786, \"Max NDVI\": 0.925, \"Mean NDVI\": 0.687, \"Min NDVI\": -0.453, \"Region\": \"d'Andohahela\", \"cos\": 0.22427076094938847, \"sin\": -0.9745268727865755, \"Fitted Mean NDVI\": 0.691, \"Residual\": -0.004}, {\"Month\": \"11/19\", \"Years Since Epoch (t)\": 49.871, \"Max NDVI\": 0.933, \"Mean NDVI\": 0.704, \"Min NDVI\": -0.448, \"Region\": \"d'Andohahela\", \"cos\": 0.6891138083873632, \"sin\": -0.7246531301870326, \"Fitted Mean NDVI\": 0.687, \"Residual\": 0.017}, {\"Month\": \"12/19\", \"Years Since Epoch (t)\": 49.953, \"Max NDVI\": 0.951, \"Mean NDVI\": 0.74, \"Min NDVI\": -0.491, \"Region\": \"d'Andohahela\", \"cos\": 0.9567120515588292, \"sin\": -0.2910361668282762, \"Fitted Mean NDVI\": 0.697, \"Residual\": 0.043}, {\"Month\": \"01/20\", \"Years Since Epoch (t)\": 50.038, \"Max NDVI\": 0.945, \"Mean NDVI\": 0.709, \"Min NDVI\": -0.402, \"Region\": \"d'Andohahela\", \"cos\": 0.9716317329146854, \"sin\": 0.23649899702367763, \"Fitted Mean NDVI\": 0.718, \"Residual\": -0.009}, {\"Month\": \"02/20\", \"Years Since Epoch (t)\": 50.123, \"Max NDVI\": 0.995, \"Mean NDVI\": 0.7, \"Min NDVI\": -0.984, \"Region\": \"d'Andohahela\", \"cos\": 0.715936483021856, \"sin\": 0.6981654189934473, \"Fitted Mean NDVI\": 0.743, \"Residual\": -0.043}, {\"Month\": \"03/20\", \"Years Since Epoch (t)\": 50.202, \"Max NDVI\": 0.965, \"Mean NDVI\": 0.719, \"Min NDVI\": -0.603, \"Region\": \"d'Andohahela\", \"cos\": 0.29704158157707455, \"sin\": 0.9548645447466306, \"Fitted Mean NDVI\": 0.764, \"Residual\": -0.045}, {\"Month\": \"04/20\", \"Years Since Epoch (t)\": 50.287, \"Max NDVI\": 0.999, \"Mean NDVI\": 0.801, \"Min NDVI\": -0.58, \"Region\": \"d'Andohahela\", \"cos\": -0.23038942667656281, \"sin\": 0.9730985109821332, \"Fitted Mean NDVI\": 0.777, \"Residual\": 0.024}, {\"Month\": \"05/20\", \"Years Since Epoch (t)\": 50.369, \"Max NDVI\": 0.999, \"Mean NDVI\": 0.778, \"Min NDVI\": -0.487, \"Region\": \"d'Andohahela\", \"cos\": -0.6799533787224217, \"sin\": 0.7332553462225577, \"Fitted Mean NDVI\": 0.778, \"Residual\": 0.0}, {\"Month\": \"06/20\", \"Years Since Epoch (t)\": 50.454, \"Max NDVI\": 0.999, \"Mean NDVI\": 0.758, \"Min NDVI\": -0.48, \"Region\": \"d'Andohahela\", \"cos\": -0.9585217890173805, \"sin\": 0.28501926246996057, \"Fitted Mean NDVI\": 0.764, \"Residual\": -0.006}, {\"Month\": \"07/20\", \"Years Since Epoch (t)\": 50.536, \"Max NDVI\": 0.999, \"Mean NDVI\": 0.744, \"Min NDVI\": -0.427, \"Region\": \"d'Andohahela\", \"cos\": -0.9745268727865791, \"sin\": -0.2242707609493727, \"Fitted Mean NDVI\": 0.741, \"Residual\": 0.003}, {\"Month\": \"08/20\", \"Years Since Epoch (t)\": 50.621, \"Max NDVI\": 0.998, \"Mean NDVI\": 0.69, \"Min NDVI\": -0.405, \"Region\": \"d'Andohahela\", \"cos\": -0.7246531301870436, \"sin\": -0.6891138083873516, \"Fitted Mean NDVI\": 0.713, \"Residual\": -0.023}, {\"Month\": \"09/20\", \"Years Since Epoch (t)\": 50.706, \"Max NDVI\": 0.932, \"Mean NDVI\": 0.671, \"Min NDVI\": -0.427, \"Region\": \"d'Andohahela\", \"cos\": -0.2729519355173087, \"sin\": -0.9620276715860906, \"Fitted Mean NDVI\": 0.688, \"Residual\": -0.017}, {\"Month\": \"10/20\", \"Years Since Epoch (t)\": 50.788, \"Max NDVI\": 0.916, \"Mean NDVI\": 0.655, \"Min NDVI\": -0.378, \"Region\": \"d'Andohahela\", \"cos\": 0.23649899702371716, \"sin\": -0.9716317329146757, \"Fitted Mean NDVI\": 0.672, \"Residual\": -0.017}, {\"Month\": \"11/20\", \"Years Since Epoch (t)\": 50.873, \"Max NDVI\": 0.939, \"Mean NDVI\": 0.673, \"Min NDVI\": -0.306, \"Region\": \"d'Andohahela\", \"cos\": 0.6981654189934356, \"sin\": -0.7159364830218673, \"Fitted Mean NDVI\": 0.669, \"Residual\": 0.004}, {\"Month\": \"12/20\", \"Years Since Epoch (t)\": 50.955, \"Max NDVI\": 0.956, \"Mean NDVI\": 0.679, \"Min NDVI\": -0.269, \"Region\": \"d'Andohahela\", \"cos\": 0.9602936856769375, \"sin\": -0.2789911060392482, \"Fitted Mean NDVI\": 0.68, \"Residual\": -0.001}, {\"Month\": \"01/21\", \"Years Since Epoch (t)\": 51.04, \"Max NDVI\": 0.989, \"Mean NDVI\": 0.696, \"Min NDVI\": -0.471, \"Region\": \"d'Andohahela\", \"cos\": 0.9685831611286329, \"sin\": 0.2486898871648482, \"Fitted Mean NDVI\": 0.701, \"Residual\": -0.005}, {\"Month\": \"02/21\", \"Years Since Epoch (t)\": 51.125, \"Max NDVI\": 0.975, \"Mean NDVI\": 0.714, \"Min NDVI\": -0.435, \"Region\": \"d'Andohahela\", \"cos\": 0.7071067811865432, \"sin\": 0.7071067811865519, \"Fitted Mean NDVI\": 0.726, \"Residual\": -0.012}, {\"Month\": \"03/21\", \"Years Since Epoch (t)\": 51.202, \"Max NDVI\": 0.999, \"Mean NDVI\": 0.762, \"Min NDVI\": -0.491, \"Region\": \"d'Andohahela\", \"cos\": 0.29704158157704086, \"sin\": 0.9548645447466411, \"Fitted Mean NDVI\": 0.746, \"Residual\": 0.016}, {\"Month\": \"04/21\", \"Years Since Epoch (t)\": 51.286, \"Max NDVI\": 0.999, \"Mean NDVI\": 0.773, \"Min NDVI\": -0.507, \"Region\": \"d'Andohahela\", \"cos\": -0.22427076094935697, \"sin\": 0.9745268727865827, \"Fitted Mean NDVI\": 0.759, \"Residual\": 0.014}, {\"Month\": \"05/21\", \"Years Since Epoch (t)\": 51.369, \"Max NDVI\": 0.999, \"Mean NDVI\": 0.751, \"Min NDVI\": -0.459, \"Region\": \"d'Andohahela\", \"cos\": -0.6799533787224058, \"sin\": 0.7332553462225724, \"Fitted Mean NDVI\": 0.759, \"Residual\": -0.008}, {\"Month\": \"06/21\", \"Years Since Epoch (t)\": 51.453, \"Max NDVI\": 1.0, \"Mean NDVI\": 0.768, \"Min NDVI\": -0.958, \"Region\": \"d'Andohahela\", \"cos\": -0.9567120515588363, \"sin\": 0.29103616682825273, \"Fitted Mean NDVI\": 0.746, \"Residual\": 0.022}, {\"Month\": \"07/21\", \"Years Since Epoch (t)\": 51.536, \"Max NDVI\": 1.0, \"Mean NDVI\": 0.758, \"Min NDVI\": -0.99, \"Region\": \"d'Andohahela\", \"cos\": -0.9745268727865839, \"sin\": -0.22427076094935172, \"Fitted Mean NDVI\": 0.723, \"Residual\": 0.035}, {\"Month\": \"08/21\", \"Years Since Epoch (t)\": 51.62, \"Max NDVI\": 0.962, \"Mean NDVI\": 0.7, \"Min NDVI\": -0.4, \"Region\": \"d'Andohahela\", \"cos\": -0.7289686274214451, \"sin\": -0.684547105928653, \"Fitted Mean NDVI\": 0.695, \"Residual\": 0.005}, {\"Month\": \"09/21\", \"Years Since Epoch (t)\": 51.705, \"Max NDVI\": 0.938, \"Mean NDVI\": 0.68, \"Min NDVI\": -0.396, \"Region\": \"d'Andohahela\", \"cos\": -0.27899110603926375, \"sin\": -0.9602936856769331, \"Fitted Mean NDVI\": 0.67, \"Residual\": 0.01}, {\"Month\": \"10/21\", \"Years Since Epoch (t)\": 51.788, \"Max NDVI\": 0.934, \"Mean NDVI\": 0.632, \"Min NDVI\": -0.252, \"Region\": \"d'Andohahela\", \"cos\": 0.2364989970236962, \"sin\": -0.9716317329146809, \"Fitted Mean NDVI\": 0.654, \"Residual\": -0.022}], \"data-af17fb00603506eec0702e5630e096ed\": [{\"Month\": \"11/21\"}], \"data-b0fff6dbddc827b21943abb1b03046a9\": [{\"Month\": \"11/21\", \"Region\": \"d'Andohahela\", \"Predicted Mean NDVI\": 0.651}, {\"Month\": \"12/21\", \"Region\": \"d'Andohahela\", \"Predicted Mean NDVI\": 0.662}, {\"Month\": \"01/22\", \"Region\": \"d'Andohahela\", \"Predicted Mean NDVI\": 0.682}, {\"Month\": \"02/22\", \"Region\": \"d'Andohahela\", \"Predicted Mean NDVI\": 0.707}, {\"Month\": \"03/22\", \"Region\": \"d'Andohahela\", \"Predicted Mean NDVI\": 0.727}, {\"Month\": \"04/22\", \"Region\": \"d'Andohahela\", \"Predicted Mean NDVI\": 0.741}, {\"Month\": \"05/22\", \"Region\": \"d'Andohahela\", \"Predicted Mean NDVI\": 0.741}, {\"Month\": \"06/22\", \"Region\": \"d'Andohahela\", \"Predicted Mean NDVI\": 0.728}, {\"Month\": \"07/22\", \"Region\": \"d'Andohahela\", \"Predicted Mean NDVI\": 0.705}, {\"Month\": \"08/22\", \"Region\": \"d'Andohahela\", \"Predicted Mean NDVI\": 0.677}, {\"Month\": \"09/22\", \"Region\": \"d'Andohahela\", \"Predicted Mean NDVI\": 0.652}, {\"Month\": \"10/22\", \"Region\": \"d'Andohahela\", \"Predicted Mean NDVI\": 0.636}, {\"Month\": \"11/22\", \"Region\": \"d'Andohahela\", \"Predicted Mean NDVI\": 0.633}, {\"Month\": \"12/22\", \"Region\": \"d'Andohahela\", \"Predicted Mean NDVI\": 0.643}], \"data-7e849118305a3476d90c41f65eca46a1\": [{\"Month\": \"01/19\", \"Years Since Epoch (t)\": 49.039, \"Max NDVI\": 0.999, \"Mean NDVI\": 0.791, \"Min NDVI\": -0.869, \"Region\": \"Midongy Betofaka\", \"cos\": 0.9701265964901047, \"sin\": 0.242599230795412, \"Fitted Mean NDVI\": 0.772, \"Residual\": 0.019}, {\"Month\": \"02/19\", \"Years Since Epoch (t)\": 49.124, \"Max NDVI\": 0.997, \"Mean NDVI\": 0.774, \"Min NDVI\": -0.614, \"Region\": \"Midongy Betofaka\", \"cos\": 0.7115356772092729, \"sin\": 0.7026499697988617, \"Fitted Mean NDVI\": 0.796, \"Residual\": -0.022}, {\"Month\": \"03/19\", \"Years Since Epoch (t)\": 49.2, \"Max NDVI\": 0.995, \"Mean NDVI\": 0.815, \"Min NDVI\": -0.996, \"Region\": \"Midongy Betofaka\", \"cos\": 0.3090169943749183, \"sin\": 0.9510565162951631, \"Fitted Mean NDVI\": 0.816, \"Residual\": -0.001}, {\"Month\": \"04/19\", \"Years Since Epoch (t)\": 49.285, \"Max NDVI\": 0.996, \"Mean NDVI\": 0.825, \"Min NDVI\": -0.705, \"Region\": \"Midongy Betofaka\", \"cos\": -0.21814324139652955, \"sin\": 0.9759167619387503, \"Fitted Mean NDVI\": 0.829, \"Residual\": -0.004}, {\"Month\": \"05/19\", \"Years Since Epoch (t)\": 49.367, \"Max NDVI\": 0.999, \"Mean NDVI\": 0.835, \"Min NDVI\": -0.98, \"Region\": \"Midongy Betofaka\", \"cos\": -0.6706855765366916, \"sin\": 0.741741772738765, \"Fitted Mean NDVI\": 0.83, \"Residual\": 0.005}, {\"Month\": \"06/19\", \"Years Since Epoch (t)\": 49.452, \"Max NDVI\": 0.999, \"Mean NDVI\": 0.813, \"Min NDVI\": -0.976, \"Region\": \"Midongy Betofaka\", \"cos\": -0.9548645447466354, \"sin\": 0.29704158157705907, \"Fitted Mean NDVI\": 0.818, \"Residual\": -0.005}, {\"Month\": \"07/19\", \"Years Since Epoch (t)\": 49.534, \"Max NDVI\": 0.999, \"Mean NDVI\": 0.826, \"Min NDVI\": -0.99, \"Region\": \"Midongy Betofaka\", \"cos\": -0.977268123568192, \"sin\": -0.21200710992206104, \"Fitted Mean NDVI\": 0.797, \"Residual\": 0.029}, {\"Month\": \"08/19\", \"Years Since Epoch (t)\": 49.619, \"Max NDVI\": 0.962, \"Mean NDVI\": 0.778, \"Min NDVI\": -0.632, \"Region\": \"Midongy Betofaka\", \"cos\": -0.7332553462225855, \"sin\": -0.6799533787223918, \"Fitted Mean NDVI\": 0.772, \"Residual\": 0.006}, {\"Month\": \"09/19\", \"Years Since Epoch (t)\": 49.704, \"Max NDVI\": 0.911, \"Mean NDVI\": 0.721, \"Min NDVI\": -0.648, \"Region\": \"Midongy Betofaka\", \"cos\": -0.28501926246999953, \"sin\": -0.958521789017369, \"Fitted Mean NDVI\": 0.749, \"Residual\": -0.028}, {\"Month\": \"10/19\", \"Years Since Epoch (t)\": 49.786, \"Max NDVI\": 0.919, \"Mean NDVI\": 0.738, \"Min NDVI\": -0.87, \"Region\": \"Midongy Betofaka\", \"cos\": 0.22427076094938847, \"sin\": -0.9745268727865755, \"Fitted Mean NDVI\": 0.735, \"Residual\": 0.003}, {\"Month\": \"11/19\", \"Years Since Epoch (t)\": 49.871, \"Max NDVI\": 0.944, \"Mean NDVI\": 0.757, \"Min NDVI\": -0.974, \"Region\": \"Midongy Betofaka\", \"cos\": 0.6891138083873632, \"sin\": -0.7246531301870326, \"Fitted Mean NDVI\": 0.732, \"Residual\": 0.025}, {\"Month\": \"12/19\", \"Years Since Epoch (t)\": 49.953, \"Max NDVI\": 0.999, \"Mean NDVI\": 0.735, \"Min NDVI\": -0.768, \"Region\": \"Midongy Betofaka\", \"cos\": 0.9567120515588292, \"sin\": -0.2910361668282762, \"Fitted Mean NDVI\": 0.742, \"Residual\": -0.007}, {\"Month\": \"01/20\", \"Years Since Epoch (t)\": 50.038, \"Max NDVI\": 0.998, \"Mean NDVI\": 0.766, \"Min NDVI\": -0.56, \"Region\": \"Midongy Betofaka\", \"cos\": 0.9716317329146854, \"sin\": 0.23649899702367763, \"Fitted Mean NDVI\": 0.762, \"Residual\": 0.004}, {\"Month\": \"02/20\", \"Years Since Epoch (t)\": 50.123, \"Max NDVI\": 0.972, \"Mean NDVI\": 0.78, \"Min NDVI\": -0.979, \"Region\": \"Midongy Betofaka\", \"cos\": 0.715936483021856, \"sin\": 0.6981654189934473, \"Fitted Mean NDVI\": 0.787, \"Residual\": -0.007}, {\"Month\": \"03/20\", \"Years Since Epoch (t)\": 50.202, \"Max NDVI\": 1.0, \"Mean NDVI\": 0.809, \"Min NDVI\": -0.996, \"Region\": \"Midongy Betofaka\", \"cos\": 0.29704158157707455, \"sin\": 0.9548645447466306, \"Fitted Mean NDVI\": 0.806, \"Residual\": 0.003}, {\"Month\": \"04/20\", \"Years Since Epoch (t)\": 50.287, \"Max NDVI\": 0.999, \"Mean NDVI\": 0.788, \"Min NDVI\": -0.992, \"Region\": \"Midongy Betofaka\", \"cos\": -0.23038942667656281, \"sin\": 0.9730985109821332, \"Fitted Mean NDVI\": 0.819, \"Residual\": -0.031}, {\"Month\": \"05/20\", \"Years Since Epoch (t)\": 50.369, \"Max NDVI\": 0.999, \"Mean NDVI\": 0.819, \"Min NDVI\": -0.866, \"Region\": \"Midongy Betofaka\", \"cos\": -0.6799533787224217, \"sin\": 0.7332553462225577, \"Fitted Mean NDVI\": 0.82, \"Residual\": -0.001}, {\"Month\": \"06/20\", \"Years Since Epoch (t)\": 50.454, \"Max NDVI\": 0.999, \"Mean NDVI\": 0.801, \"Min NDVI\": -0.606, \"Region\": \"Midongy Betofaka\", \"cos\": -0.9585217890173805, \"sin\": 0.28501926246996057, \"Fitted Mean NDVI\": 0.808, \"Residual\": -0.007}, {\"Month\": \"07/20\", \"Years Since Epoch (t)\": 50.536, \"Max NDVI\": 0.999, \"Mean NDVI\": 0.797, \"Min NDVI\": -0.92, \"Region\": \"Midongy Betofaka\", \"cos\": -0.9745268727865791, \"sin\": -0.2242707609493727, \"Fitted Mean NDVI\": 0.787, \"Residual\": 0.01}, {\"Month\": \"08/20\", \"Years Since Epoch (t)\": 50.621, \"Max NDVI\": 0.999, \"Mean NDVI\": 0.765, \"Min NDVI\": -0.993, \"Region\": \"Midongy Betofaka\", \"cos\": -0.7246531301870436, \"sin\": -0.6891138083873516, \"Fitted Mean NDVI\": 0.762, \"Residual\": 0.003}, {\"Month\": \"09/20\", \"Years Since Epoch (t)\": 50.706, \"Max NDVI\": 0.905, \"Mean NDVI\": 0.714, \"Min NDVI\": -0.855, \"Region\": \"Midongy Betofaka\", \"cos\": -0.2729519355173087, \"sin\": -0.9620276715860906, \"Fitted Mean NDVI\": 0.739, \"Residual\": -0.025}, {\"Month\": \"10/20\", \"Years Since Epoch (t)\": 50.788, \"Max NDVI\": 0.915, \"Mean NDVI\": 0.729, \"Min NDVI\": -0.64, \"Region\": \"Midongy Betofaka\", \"cos\": 0.23649899702371716, \"sin\": -0.9716317329146757, \"Fitted Mean NDVI\": 0.725, \"Residual\": 0.004}, {\"Month\": \"11/20\", \"Years Since Epoch (t)\": 50.873, \"Max NDVI\": 0.92, \"Mean NDVI\": 0.718, \"Min NDVI\": -0.979, \"Region\": \"Midongy Betofaka\", \"cos\": 0.6981654189934356, \"sin\": -0.7159364830218673, \"Fitted Mean NDVI\": 0.723, \"Residual\": -0.005}, {\"Month\": \"12/20\", \"Years Since Epoch (t)\": 50.955, \"Max NDVI\": 0.929, \"Mean NDVI\": 0.727, \"Min NDVI\": -0.605, \"Region\": \"Midongy Betofaka\", \"cos\": 0.9602936856769375, \"sin\": -0.2789911060392482, \"Fitted Mean NDVI\": 0.733, \"Residual\": -0.006}, {\"Month\": \"01/21\", \"Years Since Epoch (t)\": 51.04, \"Max NDVI\": 0.96, \"Mean NDVI\": 0.786, \"Min NDVI\": -0.65, \"Region\": \"Midongy Betofaka\", \"cos\": 0.9685831611286329, \"sin\": 0.2486898871648482, \"Fitted Mean NDVI\": 0.753, \"Residual\": 0.033}, {\"Month\": \"02/21\", \"Years Since Epoch (t)\": 51.125, \"Max NDVI\": 0.999, \"Mean NDVI\": 0.782, \"Min NDVI\": -0.646, \"Region\": \"Midongy Betofaka\", \"cos\": 0.7071067811865432, \"sin\": 0.7071067811865519, \"Fitted Mean NDVI\": 0.777, \"Residual\": 0.005}, {\"Month\": \"03/21\", \"Years Since Epoch (t)\": 51.202, \"Max NDVI\": 0.999, \"Mean NDVI\": 0.792, \"Min NDVI\": -0.995, \"Region\": \"Midongy Betofaka\", \"cos\": 0.29704158157704086, \"sin\": 0.9548645447466411, \"Fitted Mean NDVI\": 0.797, \"Residual\": -0.005}, {\"Month\": \"04/21\", \"Years Since Epoch (t)\": 51.286, \"Max NDVI\": 0.998, \"Mean NDVI\": 0.815, \"Min NDVI\": -0.754, \"Region\": \"Midongy Betofaka\", \"cos\": -0.22427076094935697, \"sin\": 0.9745268727865827, \"Fitted Mean NDVI\": 0.81, \"Residual\": 0.005}, {\"Month\": \"05/21\", \"Years Since Epoch (t)\": 51.369, \"Max NDVI\": 0.999, \"Mean NDVI\": 0.806, \"Min NDVI\": -0.991, \"Region\": \"Midongy Betofaka\", \"cos\": -0.6799533787224058, \"sin\": 0.7332553462225724, \"Fitted Mean NDVI\": 0.811, \"Residual\": -0.005}, {\"Month\": \"06/21\", \"Years Since Epoch (t)\": 51.453, \"Max NDVI\": 1.0, \"Mean NDVI\": 0.815, \"Min NDVI\": -0.992, \"Region\": \"Midongy Betofaka\", \"cos\": -0.9567120515588363, \"sin\": 0.29103616682825273, \"Fitted Mean NDVI\": 0.799, \"Residual\": 0.016}, {\"Month\": \"07/21\", \"Years Since Epoch (t)\": 51.536, \"Max NDVI\": 0.999, \"Mean NDVI\": 0.787, \"Min NDVI\": -0.98, \"Region\": \"Midongy Betofaka\", \"cos\": -0.9745268727865839, \"sin\": -0.22427076094935172, \"Fitted Mean NDVI\": 0.778, \"Residual\": 0.009}, {\"Month\": \"08/21\", \"Years Since Epoch (t)\": 51.62, \"Max NDVI\": 0.99, \"Mean NDVI\": 0.752, \"Min NDVI\": -0.864, \"Region\": \"Midongy Betofaka\", \"cos\": -0.7289686274214451, \"sin\": -0.684547105928653, \"Fitted Mean NDVI\": 0.752, \"Residual\": -0.0}, {\"Month\": \"09/21\", \"Years Since Epoch (t)\": 51.705, \"Max NDVI\": 0.922, \"Mean NDVI\": 0.724, \"Min NDVI\": -0.924, \"Region\": \"Midongy Betofaka\", \"cos\": -0.27899110603926375, \"sin\": -0.9602936856769331, \"Fitted Mean NDVI\": 0.729, \"Residual\": -0.005}, {\"Month\": \"10/21\", \"Years Since Epoch (t)\": 51.788, \"Max NDVI\": 0.914, \"Mean NDVI\": 0.701, \"Min NDVI\": -0.984, \"Region\": \"Midongy Betofaka\", \"cos\": 0.2364989970236962, \"sin\": -0.9716317329146809, \"Fitted Mean NDVI\": 0.715, \"Residual\": -0.014}], \"data-e18beb9cdfd967a4497fef78071260ba\": [{\"Month\": \"11/21\", \"Region\": \"Midongy Betofaka\", \"Predicted Mean NDVI\": 0.713}, {\"Month\": \"12/21\", \"Region\": \"Midongy Betofaka\", \"Predicted Mean NDVI\": 0.724}, {\"Month\": \"01/22\", \"Region\": \"Midongy Betofaka\", \"Predicted Mean NDVI\": 0.744}, {\"Month\": \"02/22\", \"Region\": \"Midongy Betofaka\", \"Predicted Mean NDVI\": 0.768}, {\"Month\": \"03/22\", \"Region\": \"Midongy Betofaka\", \"Predicted Mean NDVI\": 0.787}, {\"Month\": \"04/22\", \"Region\": \"Midongy Betofaka\", \"Predicted Mean NDVI\": 0.8}, {\"Month\": \"05/22\", \"Region\": \"Midongy Betofaka\", \"Predicted Mean NDVI\": 0.801}, {\"Month\": \"06/22\", \"Region\": \"Midongy Betofaka\", \"Predicted Mean NDVI\": 0.789}, {\"Month\": \"07/22\", \"Region\": \"Midongy Betofaka\", \"Predicted Mean NDVI\": 0.768}, {\"Month\": \"08/22\", \"Region\": \"Midongy Betofaka\", \"Predicted Mean NDVI\": 0.743}, {\"Month\": \"09/22\", \"Region\": \"Midongy Betofaka\", \"Predicted Mean NDVI\": 0.72}, {\"Month\": \"10/22\", \"Region\": \"Midongy Betofaka\", \"Predicted Mean NDVI\": 0.706}, {\"Month\": \"11/22\", \"Region\": \"Midongy Betofaka\", \"Predicted Mean NDVI\": 0.704}, {\"Month\": \"12/22\", \"Region\": \"Midongy Betofaka\", \"Predicted Mean NDVI\": 0.714}], \"data-f9000aff718105717a6f739c40b41bee\": [{\"Month\": \"01/19\", \"Years Since Epoch (t)\": 49.039, \"Max NDVI\": 0.905, \"Mean NDVI\": 0.503, \"Min NDVI\": -0.861, \"Region\": \"Tsimanampetsotsa\", \"cos\": 0.9701265964901047, \"sin\": 0.242599230795412, \"Fitted Mean NDVI\": 0.426, \"Residual\": 0.077}, {\"Month\": \"02/19\", \"Years Since Epoch (t)\": 49.124, \"Max NDVI\": 0.921, \"Mean NDVI\": 0.52, \"Min NDVI\": -0.999, \"Region\": \"Tsimanampetsotsa\", \"cos\": 0.7115356772092729, \"sin\": 0.7026499697988617, \"Fitted Mean NDVI\": 0.468, \"Residual\": 0.052}, {\"Month\": \"03/19\", \"Years Since Epoch (t)\": 49.2, \"Max NDVI\": 0.92, \"Mean NDVI\": 0.516, \"Min NDVI\": -0.998, \"Region\": \"Tsimanampetsotsa\", \"cos\": 0.3090169943749183, \"sin\": 0.9510565162951631, \"Fitted Mean NDVI\": 0.492, \"Residual\": 0.024}, {\"Month\": \"04/19\", \"Years Since Epoch (t)\": 49.285, \"Max NDVI\": 0.937, \"Mean NDVI\": 0.459, \"Min NDVI\": -0.891, \"Region\": \"Tsimanampetsotsa\", \"cos\": -0.21814324139652955, \"sin\": 0.9759167619387503, \"Fitted Mean NDVI\": 0.496, \"Residual\": -0.037}, {\"Month\": \"05/19\", \"Years Since Epoch (t)\": 49.367, \"Max NDVI\": 0.925, \"Mean NDVI\": 0.436, \"Min NDVI\": -0.998, \"Region\": \"Tsimanampetsotsa\", \"cos\": -0.6706855765366916, \"sin\": 0.741741772738765, \"Fitted Mean NDVI\": 0.475, \"Residual\": -0.039}, {\"Month\": \"06/19\", \"Years Since Epoch (t)\": 49.452, \"Max NDVI\": 0.999, \"Mean NDVI\": 0.412, \"Min NDVI\": -0.999, \"Region\": \"Tsimanampetsotsa\", \"cos\": -0.9548645447466354, \"sin\": 0.29704158157705907, \"Fitted Mean NDVI\": 0.432, \"Residual\": -0.02}, {\"Month\": \"07/19\", \"Years Since Epoch (t)\": 49.534, \"Max NDVI\": 1.0, \"Mean NDVI\": 0.403, \"Min NDVI\": -0.999, \"Region\": \"Tsimanampetsotsa\", \"cos\": -0.977268123568192, \"sin\": -0.21200710992206104, \"Fitted Mean NDVI\": 0.38, \"Residual\": 0.023}, {\"Month\": \"08/19\", \"Years Since Epoch (t)\": 49.619, \"Max NDVI\": 0.999, \"Mean NDVI\": 0.314, \"Min NDVI\": -0.999, \"Region\": \"Tsimanampetsotsa\", \"cos\": -0.7332553462225855, \"sin\": -0.6799533787223918, \"Fitted Mean NDVI\": 0.328, \"Residual\": -0.014}, {\"Month\": \"09/19\", \"Years Since Epoch (t)\": 49.704, \"Max NDVI\": 0.911, \"Mean NDVI\": 0.271, \"Min NDVI\": -0.942, \"Region\": \"Tsimanampetsotsa\", \"cos\": -0.28501926246999953, \"sin\": -0.958521789017369, \"Fitted Mean NDVI\": 0.292, \"Residual\": -0.021}, {\"Month\": \"10/19\", \"Years Since Epoch (t)\": 49.786, \"Max NDVI\": 0.925, \"Mean NDVI\": 0.253, \"Min NDVI\": -0.999, \"Region\": \"Tsimanampetsotsa\", \"cos\": 0.22427076094938847, \"sin\": -0.9745268727865755, \"Fitted Mean NDVI\": 0.28, \"Residual\": -0.027}, {\"Month\": \"11/19\", \"Years Since Epoch (t)\": 49.871, \"Max NDVI\": 0.921, \"Mean NDVI\": 0.359, \"Min NDVI\": -0.999, \"Region\": \"Tsimanampetsotsa\", \"cos\": 0.6891138083873632, \"sin\": -0.7246531301870326, \"Fitted Mean NDVI\": 0.293, \"Residual\": 0.066}, {\"Month\": \"12/19\", \"Years Since Epoch (t)\": 49.953, \"Max NDVI\": 0.957, \"Mean NDVI\": 0.371, \"Min NDVI\": -0.999, \"Region\": \"Tsimanampetsotsa\", \"cos\": 0.9567120515588292, \"sin\": -0.2910361668282762, \"Fitted Mean NDVI\": 0.326, \"Residual\": 0.045}, {\"Month\": \"01/20\", \"Years Since Epoch (t)\": 50.038, \"Max NDVI\": 0.925, \"Mean NDVI\": 0.379, \"Min NDVI\": -0.999, \"Region\": \"Tsimanampetsotsa\", \"cos\": 0.9716317329146854, \"sin\": 0.23649899702367763, \"Fitted Mean NDVI\": 0.371, \"Residual\": 0.008}, {\"Month\": \"02/20\", \"Years Since Epoch (t)\": 50.123, \"Max NDVI\": 0.909, \"Mean NDVI\": 0.437, \"Min NDVI\": -0.999, \"Region\": \"Tsimanampetsotsa\", \"cos\": 0.715936483021856, \"sin\": 0.6981654189934473, \"Fitted Mean NDVI\": 0.413, \"Residual\": 0.024}, {\"Month\": \"03/20\", \"Years Since Epoch (t)\": 50.202, \"Max NDVI\": 0.884, \"Mean NDVI\": 0.394, \"Min NDVI\": -0.971, \"Region\": \"Tsimanampetsotsa\", \"cos\": 0.29704158157707455, \"sin\": 0.9548645447466306, \"Fitted Mean NDVI\": 0.439, \"Residual\": -0.045}, {\"Month\": \"04/20\", \"Years Since Epoch (t)\": 50.287, \"Max NDVI\": 0.944, \"Mean NDVI\": 0.403, \"Min NDVI\": -0.986, \"Region\": \"Tsimanampetsotsa\", \"cos\": -0.23038942667656281, \"sin\": 0.9730985109821332, \"Fitted Mean NDVI\": 0.442, \"Residual\": -0.039}, {\"Month\": \"05/20\", \"Years Since Epoch (t)\": 50.369, \"Max NDVI\": 0.999, \"Mean NDVI\": 0.394, \"Min NDVI\": -0.999, \"Region\": \"Tsimanampetsotsa\", \"cos\": -0.6799533787224217, \"sin\": 0.7332553462225577, \"Fitted Mean NDVI\": 0.421, \"Residual\": -0.027}, {\"Month\": \"06/20\", \"Years Since Epoch (t)\": 50.454, \"Max NDVI\": 0.999, \"Mean NDVI\": 0.368, \"Min NDVI\": -0.999, \"Region\": \"Tsimanampetsotsa\", \"cos\": -0.9585217890173805, \"sin\": 0.28501926246996057, \"Fitted Mean NDVI\": 0.377, \"Residual\": -0.009}, {\"Month\": \"07/20\", \"Years Since Epoch (t)\": 50.536, \"Max NDVI\": 0.999, \"Mean NDVI\": 0.318, \"Min NDVI\": -0.999, \"Region\": \"Tsimanampetsotsa\", \"cos\": -0.9745268727865791, \"sin\": -0.2242707609493727, \"Fitted Mean NDVI\": 0.325, \"Residual\": -0.007}, {\"Month\": \"08/20\", \"Years Since Epoch (t)\": 50.621, \"Max NDVI\": 0.946, \"Mean NDVI\": 0.24, \"Min NDVI\": -0.999, \"Region\": \"Tsimanampetsotsa\", \"cos\": -0.7246531301870436, \"sin\": -0.6891138083873516, \"Fitted Mean NDVI\": 0.274, \"Residual\": -0.034}, {\"Month\": \"09/20\", \"Years Since Epoch (t)\": 50.706, \"Max NDVI\": 0.916, \"Mean NDVI\": 0.225, \"Min NDVI\": -0.999, \"Region\": \"Tsimanampetsotsa\", \"cos\": -0.2729519355173087, \"sin\": -0.9620276715860906, \"Fitted Mean NDVI\": 0.238, \"Residual\": -0.013}, {\"Month\": \"10/20\", \"Years Since Epoch (t)\": 50.788, \"Max NDVI\": 0.907, \"Mean NDVI\": 0.197, \"Min NDVI\": -0.999, \"Region\": \"Tsimanampetsotsa\", \"cos\": 0.23649899702371716, \"sin\": -0.9716317329146757, \"Fitted Mean NDVI\": 0.226, \"Residual\": -0.029}, {\"Month\": \"11/20\", \"Years Since Epoch (t)\": 50.873, \"Max NDVI\": 0.916, \"Mean NDVI\": 0.193, \"Min NDVI\": -0.999, \"Region\": \"Tsimanampetsotsa\", \"cos\": 0.6981654189934356, \"sin\": -0.7159364830218673, \"Fitted Mean NDVI\": 0.24, \"Residual\": -0.047}, {\"Month\": \"12/20\", \"Years Since Epoch (t)\": 50.955, \"Max NDVI\": 0.996, \"Mean NDVI\": 0.211, \"Min NDVI\": -0.999, \"Region\": \"Tsimanampetsotsa\", \"cos\": 0.9602936856769375, \"sin\": -0.2789911060392482, \"Fitted Mean NDVI\": 0.274, \"Residual\": -0.063}, {\"Month\": \"01/21\", \"Years Since Epoch (t)\": 51.04, \"Max NDVI\": 0.964, \"Mean NDVI\": 0.257, \"Min NDVI\": -0.999, \"Region\": \"Tsimanampetsotsa\", \"cos\": 0.9685831611286329, \"sin\": 0.2486898871648482, \"Fitted Mean NDVI\": 0.319, \"Residual\": -0.062}, {\"Month\": \"02/21\", \"Years Since Epoch (t)\": 51.125, \"Max NDVI\": 0.93, \"Mean NDVI\": 0.304, \"Min NDVI\": -0.999, \"Region\": \"Tsimanampetsotsa\", \"cos\": 0.7071067811865432, \"sin\": 0.7071067811865519, \"Fitted Mean NDVI\": 0.361, \"Residual\": -0.057}, {\"Month\": \"03/21\", \"Years Since Epoch (t)\": 51.202, \"Max NDVI\": 0.901, \"Mean NDVI\": 0.425, \"Min NDVI\": -0.947, \"Region\": \"Tsimanampetsotsa\", \"cos\": 0.29704158157704086, \"sin\": 0.9548645447466411, \"Fitted Mean NDVI\": 0.385, \"Residual\": 0.04}, {\"Month\": \"04/21\", \"Years Since Epoch (t)\": 51.286, \"Max NDVI\": 1.0, \"Mean NDVI\": 0.41, \"Min NDVI\": -0.999, \"Region\": \"Tsimanampetsotsa\", \"cos\": -0.22427076094935697, \"sin\": 0.9745268727865827, \"Fitted Mean NDVI\": 0.389, \"Residual\": 0.021}, {\"Month\": \"05/21\", \"Years Since Epoch (t)\": 51.369, \"Max NDVI\": 1.0, \"Mean NDVI\": 0.405, \"Min NDVI\": -0.999, \"Region\": \"Tsimanampetsotsa\", \"cos\": -0.6799533787224058, \"sin\": 0.7332553462225724, \"Fitted Mean NDVI\": 0.367, \"Residual\": 0.038}, {\"Month\": \"06/21\", \"Years Since Epoch (t)\": 51.453, \"Max NDVI\": 1.0, \"Mean NDVI\": 0.373, \"Min NDVI\": -0.999, \"Region\": \"Tsimanampetsotsa\", \"cos\": -0.9567120515588363, \"sin\": 0.29103616682825273, \"Fitted Mean NDVI\": 0.324, \"Residual\": 0.049}, {\"Month\": \"07/21\", \"Years Since Epoch (t)\": 51.536, \"Max NDVI\": 1.0, \"Mean NDVI\": 0.321, \"Min NDVI\": -0.999, \"Region\": \"Tsimanampetsotsa\", \"cos\": -0.9745268727865839, \"sin\": -0.22427076094935172, \"Fitted Mean NDVI\": 0.271, \"Residual\": 0.05}, {\"Month\": \"08/21\", \"Years Since Epoch (t)\": 51.62, \"Max NDVI\": 0.999, \"Mean NDVI\": 0.244, \"Min NDVI\": -0.999, \"Region\": \"Tsimanampetsotsa\", \"cos\": -0.7289686274214451, \"sin\": -0.684547105928653, \"Fitted Mean NDVI\": 0.22, \"Residual\": 0.024}, {\"Month\": \"09/21\", \"Years Since Epoch (t)\": 51.705, \"Max NDVI\": 0.926, \"Mean NDVI\": 0.209, \"Min NDVI\": -0.968, \"Region\": \"Tsimanampetsotsa\", \"cos\": -0.27899110603926375, \"sin\": -0.9602936856769331, \"Fitted Mean NDVI\": 0.184, \"Residual\": 0.025}, {\"Month\": \"10/21\", \"Years Since Epoch (t)\": 51.788, \"Max NDVI\": 0.934, \"Mean NDVI\": 0.196, \"Min NDVI\": -0.999, \"Region\": \"Tsimanampetsotsa\", \"cos\": 0.2364989970236962, \"sin\": -0.9716317329146809, \"Fitted Mean NDVI\": 0.172, \"Residual\": 0.024}], \"data-1971b94c32969da57c2d40f7be7d4d23\": [{\"Month\": \"11/21\", \"Region\": \"Tsimanampetsotsa\", \"Predicted Mean NDVI\": 0.186}, {\"Month\": \"12/21\", \"Region\": \"Tsimanampetsotsa\", \"Predicted Mean NDVI\": 0.22}, {\"Month\": \"01/22\", \"Region\": \"Tsimanampetsotsa\", \"Predicted Mean NDVI\": 0.264}, {\"Month\": \"02/22\", \"Region\": \"Tsimanampetsotsa\", \"Predicted Mean NDVI\": 0.307}, {\"Month\": \"03/22\", \"Region\": \"Tsimanampetsotsa\", \"Predicted Mean NDVI\": 0.331}, {\"Month\": \"04/22\", \"Region\": \"Tsimanampetsotsa\", \"Predicted Mean NDVI\": 0.335}, {\"Month\": \"05/22\", \"Region\": \"Tsimanampetsotsa\", \"Predicted Mean NDVI\": 0.314}, {\"Month\": \"06/22\", \"Region\": \"Tsimanampetsotsa\", \"Predicted Mean NDVI\": 0.271}, {\"Month\": \"07/22\", \"Region\": \"Tsimanampetsotsa\", \"Predicted Mean NDVI\": 0.218}, {\"Month\": \"08/22\", \"Region\": \"Tsimanampetsotsa\", \"Predicted Mean NDVI\": 0.167}, {\"Month\": \"09/22\", \"Region\": \"Tsimanampetsotsa\", \"Predicted Mean NDVI\": 0.131}, {\"Month\": \"10/22\", \"Region\": \"Tsimanampetsotsa\", \"Predicted Mean NDVI\": 0.119}, {\"Month\": \"11/22\", \"Region\": \"Tsimanampetsotsa\", \"Predicted Mean NDVI\": 0.132}, {\"Month\": \"12/22\", \"Region\": \"Tsimanampetsotsa\", \"Predicted Mean NDVI\": 0.166}], \"data-ffdbea83afc4e8b19fdde57e82980b83\": [{\"Month\": \"01/19\", \"Years Since Epoch (t)\": 49.039, \"Max NDVI\": 0.999, \"Mean NDVI\": 0.737, \"Min NDVI\": -0.386, \"Region\": \"d'Ankarafantsika\", \"cos\": 0.9701265964901047, \"sin\": 0.242599230795412, \"Fitted Mean NDVI\": 0.734, \"Residual\": 0.003}, {\"Month\": \"02/19\", \"Years Since Epoch (t)\": 49.124, \"Max NDVI\": 0.985, \"Mean NDVI\": 0.77, \"Min NDVI\": -0.386, \"Region\": \"d'Ankarafantsika\", \"cos\": 0.7115356772092729, \"sin\": 0.7026499697988617, \"Fitted Mean NDVI\": 0.782, \"Residual\": -0.012}, {\"Month\": \"03/19\", \"Years Since Epoch (t)\": 49.2, \"Max NDVI\": 0.999, \"Mean NDVI\": 0.777, \"Min NDVI\": -0.663, \"Region\": \"d'Ankarafantsika\", \"cos\": 0.3090169943749183, \"sin\": 0.9510565162951631, \"Fitted Mean NDVI\": 0.799, \"Residual\": -0.022}, {\"Month\": \"04/19\", \"Years Since Epoch (t)\": 49.285, \"Max NDVI\": 0.999, \"Mean NDVI\": 0.768, \"Min NDVI\": -0.614, \"Region\": \"d'Ankarafantsika\", \"cos\": -0.21814324139652955, \"sin\": 0.9759167619387503, \"Fitted Mean NDVI\": 0.785, \"Residual\": -0.017}, {\"Month\": \"05/19\", \"Years Since Epoch (t)\": 49.367, \"Max NDVI\": 0.993, \"Mean NDVI\": 0.732, \"Min NDVI\": -0.499, \"Region\": \"d'Ankarafantsika\", \"cos\": -0.6706855765366916, \"sin\": 0.741741772738765, \"Fitted Mean NDVI\": 0.743, \"Residual\": -0.011}, {\"Month\": \"06/19\", \"Years Since Epoch (t)\": 49.452, \"Max NDVI\": 0.999, \"Mean NDVI\": 0.677, \"Min NDVI\": -0.526, \"Region\": \"d'Ankarafantsika\", \"cos\": -0.9548645447466354, \"sin\": 0.29704158157705907, \"Fitted Mean NDVI\": 0.679, \"Residual\": -0.002}, {\"Month\": \"07/19\", \"Years Since Epoch (t)\": 49.534, \"Max NDVI\": 0.988, \"Mean NDVI\": 0.628, \"Min NDVI\": -0.345, \"Region\": \"d'Ankarafantsika\", \"cos\": -0.977268123568192, \"sin\": -0.21200710992206104, \"Fitted Mean NDVI\": 0.615, \"Residual\": 0.013}, {\"Month\": \"08/19\", \"Years Since Epoch (t)\": 49.619, \"Max NDVI\": 0.994, \"Mean NDVI\": 0.574, \"Min NDVI\": -0.328, \"Region\": \"d'Ankarafantsika\", \"cos\": -0.7332553462225855, \"sin\": -0.6799533787223918, \"Fitted Mean NDVI\": 0.564, \"Residual\": 0.01}, {\"Month\": \"09/19\", \"Years Since Epoch (t)\": 49.704, \"Max NDVI\": 0.909, \"Mean NDVI\": 0.508, \"Min NDVI\": -0.32, \"Region\": \"d'Ankarafantsika\", \"cos\": -0.28501926246999953, \"sin\": -0.958521789017369, \"Fitted Mean NDVI\": 0.542, \"Residual\": -0.034}, {\"Month\": \"10/19\", \"Years Since Epoch (t)\": 49.786, \"Max NDVI\": 0.877, \"Mean NDVI\": 0.489, \"Min NDVI\": -0.175, \"Region\": \"d'Ankarafantsika\", \"cos\": 0.22427076094938847, \"sin\": -0.9745268727865755, \"Fitted Mean NDVI\": 0.554, \"Residual\": -0.065}, {\"Month\": \"11/19\", \"Years Since Epoch (t)\": 49.871, \"Max NDVI\": 0.999, \"Mean NDVI\": 0.562, \"Min NDVI\": -0.345, \"Region\": \"d'Ankarafantsika\", \"cos\": 0.6891138083873632, \"sin\": -0.7246531301870326, \"Fitted Mean NDVI\": 0.596, \"Residual\": -0.034}, {\"Month\": \"12/19\", \"Years Since Epoch (t)\": 49.953, \"Max NDVI\": 0.962, \"Mean NDVI\": 0.705, \"Min NDVI\": -0.338, \"Region\": \"d'Ankarafantsika\", \"cos\": 0.9567120515588292, \"sin\": -0.2910361668282762, \"Fitted Mean NDVI\": 0.656, \"Residual\": 0.049}, {\"Month\": \"01/20\", \"Years Since Epoch (t)\": 50.038, \"Max NDVI\": 0.921, \"Mean NDVI\": 0.734, \"Min NDVI\": -0.373, \"Region\": \"d'Ankarafantsika\", \"cos\": 0.9716317329146854, \"sin\": 0.23649899702367763, \"Fitted Mean NDVI\": 0.72, \"Residual\": 0.014}, {\"Month\": \"02/20\", \"Years Since Epoch (t)\": 50.123, \"Max NDVI\": 0.998, \"Mean NDVI\": 0.804, \"Min NDVI\": -0.54, \"Region\": \"d'Ankarafantsika\", \"cos\": 0.715936483021856, \"sin\": 0.6981654189934473, \"Fitted Mean NDVI\": 0.767, \"Residual\": 0.037}, {\"Month\": \"03/20\", \"Years Since Epoch (t)\": 50.202, \"Max NDVI\": 0.999, \"Mean NDVI\": 0.804, \"Min NDVI\": -0.68, \"Region\": \"d'Ankarafantsika\", \"cos\": 0.29704158157707455, \"sin\": 0.9548645447466306, \"Fitted Mean NDVI\": 0.785, \"Residual\": 0.019}, {\"Month\": \"04/20\", \"Years Since Epoch (t)\": 50.287, \"Max NDVI\": 0.955, \"Mean NDVI\": 0.759, \"Min NDVI\": -0.431, \"Region\": \"d'Ankarafantsika\", \"cos\": -0.23038942667656281, \"sin\": 0.9730985109821332, \"Fitted Mean NDVI\": 0.771, \"Residual\": -0.012}, {\"Month\": \"05/20\", \"Years Since Epoch (t)\": 50.369, \"Max NDVI\": 0.942, \"Mean NDVI\": 0.712, \"Min NDVI\": -0.458, \"Region\": \"d'Ankarafantsika\", \"cos\": -0.6799533787224217, \"sin\": 0.7332553462225577, \"Fitted Mean NDVI\": 0.727, \"Residual\": -0.015}, {\"Month\": \"06/20\", \"Years Since Epoch (t)\": 50.454, \"Max NDVI\": 0.982, \"Mean NDVI\": 0.677, \"Min NDVI\": -0.388, \"Region\": \"d'Ankarafantsika\", \"cos\": -0.9585217890173805, \"sin\": 0.28501926246996057, \"Fitted Mean NDVI\": 0.663, \"Residual\": 0.014}, {\"Month\": \"07/20\", \"Years Since Epoch (t)\": 50.536, \"Max NDVI\": 0.955, \"Mean NDVI\": 0.648, \"Min NDVI\": -0.387, \"Region\": \"d'Ankarafantsika\", \"cos\": -0.9745268727865791, \"sin\": -0.2242707609493727, \"Fitted Mean NDVI\": 0.6, \"Residual\": 0.048}, {\"Month\": \"08/20\", \"Years Since Epoch (t)\": 50.621, \"Max NDVI\": 0.956, \"Mean NDVI\": 0.579, \"Min NDVI\": -0.527, \"Region\": \"d'Ankarafantsika\", \"cos\": -0.7246531301870436, \"sin\": -0.6891138083873516, \"Fitted Mean NDVI\": 0.549, \"Residual\": 0.03}, {\"Month\": \"09/20\", \"Years Since Epoch (t)\": 50.706, \"Max NDVI\": 0.894, \"Mean NDVI\": 0.496, \"Min NDVI\": -0.24, \"Region\": \"d'Ankarafantsika\", \"cos\": -0.2729519355173087, \"sin\": -0.9620276715860906, \"Fitted Mean NDVI\": 0.528, \"Residual\": -0.032}, {\"Month\": \"10/20\", \"Years Since Epoch (t)\": 50.788, \"Max NDVI\": 0.998, \"Mean NDVI\": 0.646, \"Min NDVI\": -0.322, \"Region\": \"d'Ankarafantsika\", \"cos\": 0.23649899702371716, \"sin\": -0.9716317329146757, \"Fitted Mean NDVI\": 0.54, \"Residual\": 0.106}, {\"Month\": \"11/20\", \"Years Since Epoch (t)\": 50.873, \"Max NDVI\": 0.903, \"Mean NDVI\": 0.596, \"Min NDVI\": -0.282, \"Region\": \"d'Ankarafantsika\", \"cos\": 0.6981654189934356, \"sin\": -0.7159364830218673, \"Fitted Mean NDVI\": 0.584, \"Residual\": 0.012}, {\"Month\": \"12/20\", \"Years Since Epoch (t)\": 50.955, \"Max NDVI\": 0.999, \"Mean NDVI\": 0.686, \"Min NDVI\": -0.501, \"Region\": \"d'Ankarafantsika\", \"cos\": 0.9602936856769375, \"sin\": -0.2789911060392482, \"Fitted Mean NDVI\": 0.644, \"Residual\": 0.042}, {\"Month\": \"01/21\", \"Years Since Epoch (t)\": 51.04, \"Max NDVI\": 0.999, \"Mean NDVI\": 0.716, \"Min NDVI\": -0.513, \"Region\": \"d'Ankarafantsika\", \"cos\": 0.9685831611286329, \"sin\": 0.2486898871648482, \"Fitted Mean NDVI\": 0.707, \"Residual\": 0.009}, {\"Month\": \"02/21\", \"Years Since Epoch (t)\": 51.125, \"Max NDVI\": 0.999, \"Mean NDVI\": 0.707, \"Min NDVI\": -0.42, \"Region\": \"d'Ankarafantsika\", \"cos\": 0.7071067811865432, \"sin\": 0.7071067811865519, \"Fitted Mean NDVI\": 0.754, \"Residual\": -0.047}, {\"Month\": \"03/21\", \"Years Since Epoch (t)\": 51.202, \"Max NDVI\": 0.998, \"Mean NDVI\": 0.771, \"Min NDVI\": -0.511, \"Region\": \"d'Ankarafantsika\", \"cos\": 0.29704158157704086, \"sin\": 0.9548645447466411, \"Fitted Mean NDVI\": 0.771, \"Residual\": -0.0}, {\"Month\": \"04/21\", \"Years Since Epoch (t)\": 51.286, \"Max NDVI\": 0.962, \"Mean NDVI\": 0.749, \"Min NDVI\": -0.459, \"Region\": \"d'Ankarafantsika\", \"cos\": -0.22427076094935697, \"sin\": 0.9745268727865827, \"Fitted Mean NDVI\": 0.757, \"Residual\": -0.008}, {\"Month\": \"05/21\", \"Years Since Epoch (t)\": 51.369, \"Max NDVI\": 0.924, \"Mean NDVI\": 0.689, \"Min NDVI\": -0.501, \"Region\": \"d'Ankarafantsika\", \"cos\": -0.6799533787224058, \"sin\": 0.7332553462225724, \"Fitted Mean NDVI\": 0.713, \"Residual\": -0.024}, {\"Month\": \"06/21\", \"Years Since Epoch (t)\": 51.453, \"Max NDVI\": 0.949, \"Mean NDVI\": 0.664, \"Min NDVI\": -0.449, \"Region\": \"d'Ankarafantsika\", \"cos\": -0.9567120515588363, \"sin\": 0.29103616682825273, \"Fitted Mean NDVI\": 0.65, \"Residual\": 0.014}, {\"Month\": \"07/21\", \"Years Since Epoch (t)\": 51.536, \"Max NDVI\": 0.993, \"Mean NDVI\": 0.616, \"Min NDVI\": -0.311, \"Region\": \"d'Ankarafantsika\", \"cos\": -0.9745268727865839, \"sin\": -0.22427076094935172, \"Fitted Mean NDVI\": 0.586, \"Residual\": 0.03}, {\"Month\": \"08/21\", \"Years Since Epoch (t)\": 51.62, \"Max NDVI\": 0.946, \"Mean NDVI\": 0.54, \"Min NDVI\": -0.336, \"Region\": \"d'Ankarafantsika\", \"cos\": -0.7289686274214451, \"sin\": -0.684547105928653, \"Fitted Mean NDVI\": 0.536, \"Residual\": 0.004}, {\"Month\": \"09/21\", \"Years Since Epoch (t)\": 51.705, \"Max NDVI\": 0.954, \"Mean NDVI\": 0.473, \"Min NDVI\": -0.357, \"Region\": \"d'Ankarafantsika\", \"cos\": -0.27899110603926375, \"sin\": -0.9602936856769331, \"Fitted Mean NDVI\": 0.514, \"Residual\": -0.041}, {\"Month\": \"10/21\", \"Years Since Epoch (t)\": 51.788, \"Max NDVI\": 0.954, \"Mean NDVI\": 0.448, \"Min NDVI\": -0.248, \"Region\": \"d'Ankarafantsika\", \"cos\": 0.2364989970236962, \"sin\": -0.9716317329146809, \"Fitted Mean NDVI\": 0.526, \"Residual\": -0.078}], \"data-dd776f213aa6b9763be9ced67c440f17\": [{\"Month\": \"11/21\", \"Region\": \"d'Ankarafantsika\", \"Predicted Mean NDVI\": 0.569}, {\"Month\": \"12/21\", \"Region\": \"d'Ankarafantsika\", \"Predicted Mean NDVI\": 0.63}, {\"Month\": \"01/22\", \"Region\": \"d'Ankarafantsika\", \"Predicted Mean NDVI\": 0.692}, {\"Month\": \"02/22\", \"Region\": \"d'Ankarafantsika\", \"Predicted Mean NDVI\": 0.74}, {\"Month\": \"03/22\", \"Region\": \"d'Ankarafantsika\", \"Predicted Mean NDVI\": 0.757}, {\"Month\": \"04/22\", \"Region\": \"d'Ankarafantsika\", \"Predicted Mean NDVI\": 0.743}, {\"Month\": \"05/22\", \"Region\": \"d'Ankarafantsika\", \"Predicted Mean NDVI\": 0.7}, {\"Month\": \"06/22\", \"Region\": \"d'Ankarafantsika\", \"Predicted Mean NDVI\": 0.636}, {\"Month\": \"07/22\", \"Region\": \"d'Ankarafantsika\", \"Predicted Mean NDVI\": 0.572}, {\"Month\": \"08/22\", \"Region\": \"d'Ankarafantsika\", \"Predicted Mean NDVI\": 0.522}, {\"Month\": \"09/22\", \"Region\": \"d'Ankarafantsika\", \"Predicted Mean NDVI\": 0.5}, {\"Month\": \"10/22\", \"Region\": \"d'Ankarafantsika\", \"Predicted Mean NDVI\": 0.512}, {\"Month\": \"11/22\", \"Region\": \"d'Ankarafantsika\", \"Predicted Mean NDVI\": 0.555}, {\"Month\": \"12/22\", \"Region\": \"d'Ankarafantsika\", \"Predicted Mean NDVI\": 0.615}], \"data-913d645df6d7cb04fafa924542122ce3\": [{\"Month\": \"01/19\", \"Years Since Epoch (t)\": 49.039, \"Max NDVI\": 1.0, \"Mean NDVI\": 0.55, \"Min NDVI\": -0.998, \"Region\": \"Masoala\", \"cos\": 0.9701265964901047, \"sin\": 0.242599230795412, \"Fitted Mean NDVI\": 0.502, \"Residual\": 0.048}, {\"Month\": \"02/19\", \"Years Since Epoch (t)\": 49.124, \"Max NDVI\": 0.977, \"Mean NDVI\": 0.469, \"Min NDVI\": -0.995, \"Region\": \"Masoala\", \"cos\": 0.7115356772092729, \"sin\": 0.7026499697988617, \"Fitted Mean NDVI\": 0.497, \"Residual\": -0.028}, {\"Month\": \"03/19\", \"Years Since Epoch (t)\": 49.2, \"Max NDVI\": 0.999, \"Mean NDVI\": 0.578, \"Min NDVI\": -0.994, \"Region\": \"Masoala\", \"cos\": 0.3090169943749183, \"sin\": 0.9510565162951631, \"Fitted Mean NDVI\": 0.487, \"Residual\": 0.091}, {\"Month\": \"04/19\", \"Years Since Epoch (t)\": 49.285, \"Max NDVI\": 0.999, \"Mean NDVI\": 0.451, \"Min NDVI\": -0.997, \"Region\": \"Masoala\", \"cos\": -0.21814324139652955, \"sin\": 0.9759167619387503, \"Fitted Mean NDVI\": 0.47, \"Residual\": -0.019}, {\"Month\": \"05/19\", \"Years Since Epoch (t)\": 49.367, \"Max NDVI\": 0.999, \"Mean NDVI\": 0.566, \"Min NDVI\": -0.994, \"Region\": \"Masoala\", \"cos\": -0.6706855765366916, \"sin\": 0.741741772738765, \"Fitted Mean NDVI\": 0.455, \"Residual\": 0.111}, {\"Month\": \"06/19\", \"Years Since Epoch (t)\": 49.452, \"Max NDVI\": 1.0, \"Mean NDVI\": 0.443, \"Min NDVI\": -0.997, \"Region\": \"Masoala\", \"cos\": -0.9548645447466354, \"sin\": 0.29704158157705907, \"Fitted Mean NDVI\": 0.443, \"Residual\": 0.0}, {\"Month\": \"07/19\", \"Years Since Epoch (t)\": 49.534, \"Max NDVI\": 0.999, \"Mean NDVI\": 0.35, \"Min NDVI\": -0.996, \"Region\": \"Masoala\", \"cos\": -0.977268123568192, \"sin\": -0.21200710992206104, \"Fitted Mean NDVI\": 0.439, \"Residual\": -0.089}, {\"Month\": \"08/19\", \"Years Since Epoch (t)\": 49.619, \"Max NDVI\": 0.973, \"Mean NDVI\": 0.439, \"Min NDVI\": -0.995, \"Region\": \"Masoala\", \"cos\": -0.7332553462225855, \"sin\": -0.6799533787223918, \"Fitted Mean NDVI\": 0.443, \"Residual\": -0.004}, {\"Month\": \"09/19\", \"Years Since Epoch (t)\": 49.704, \"Max NDVI\": 0.999, \"Mean NDVI\": 0.515, \"Min NDVI\": -0.997, \"Region\": \"Masoala\", \"cos\": -0.28501926246999953, \"sin\": -0.958521789017369, \"Fitted Mean NDVI\": 0.456, \"Residual\": 0.059}, {\"Month\": \"10/19\", \"Years Since Epoch (t)\": 49.786, \"Max NDVI\": 0.999, \"Mean NDVI\": 0.477, \"Min NDVI\": -0.997, \"Region\": \"Masoala\", \"cos\": 0.22427076094938847, \"sin\": -0.9745268727865755, \"Fitted Mean NDVI\": 0.473, \"Residual\": 0.004}, {\"Month\": \"11/19\", \"Years Since Epoch (t)\": 49.871, \"Max NDVI\": 0.984, \"Mean NDVI\": 0.5, \"Min NDVI\": -0.998, \"Region\": \"Masoala\", \"cos\": 0.6891138083873632, \"sin\": -0.7246531301870326, \"Fitted Mean NDVI\": 0.49, \"Residual\": 0.01}, {\"Month\": \"12/19\", \"Years Since Epoch (t)\": 49.953, \"Max NDVI\": 1.0, \"Mean NDVI\": 0.474, \"Min NDVI\": -1.0, \"Region\": \"Masoala\", \"cos\": 0.9567120515588292, \"sin\": -0.2910361668282762, \"Fitted Mean NDVI\": 0.503, \"Residual\": -0.029}, {\"Month\": \"01/20\", \"Years Since Epoch (t)\": 50.038, \"Max NDVI\": 0.992, \"Mean NDVI\": 0.4, \"Min NDVI\": -0.997, \"Region\": \"Masoala\", \"cos\": 0.9716317329146854, \"sin\": 0.23649899702367763, \"Fitted Mean NDVI\": 0.508, \"Residual\": -0.108}, {\"Month\": \"02/20\", \"Years Since Epoch (t)\": 50.123, \"Max NDVI\": 0.999, \"Mean NDVI\": 0.549, \"Min NDVI\": -0.998, \"Region\": \"Masoala\", \"cos\": 0.715936483021856, \"sin\": 0.6981654189934473, \"Fitted Mean NDVI\": 0.504, \"Residual\": 0.045}, {\"Month\": \"03/20\", \"Years Since Epoch (t)\": 50.202, \"Max NDVI\": 0.999, \"Mean NDVI\": 0.456, \"Min NDVI\": -0.998, \"Region\": \"Masoala\", \"cos\": 0.29704158157707455, \"sin\": 0.9548645447466306, \"Fitted Mean NDVI\": 0.492, \"Residual\": -0.036}, {\"Month\": \"04/20\", \"Years Since Epoch (t)\": 50.287, \"Max NDVI\": 0.998, \"Mean NDVI\": 0.349, \"Min NDVI\": -0.998, \"Region\": \"Masoala\", \"cos\": -0.23038942667656281, \"sin\": 0.9730985109821332, \"Fitted Mean NDVI\": 0.476, \"Residual\": -0.127}, {\"Month\": \"05/20\", \"Years Since Epoch (t)\": 50.369, \"Max NDVI\": 0.999, \"Mean NDVI\": 0.539, \"Min NDVI\": -0.997, \"Region\": \"Masoala\", \"cos\": -0.6799533787224217, \"sin\": 0.7332553462225577, \"Fitted Mean NDVI\": 0.46, \"Residual\": 0.079}, {\"Month\": \"06/20\", \"Years Since Epoch (t)\": 50.454, \"Max NDVI\": 0.998, \"Mean NDVI\": 0.45, \"Min NDVI\": -0.974, \"Region\": \"Masoala\", \"cos\": -0.9585217890173805, \"sin\": 0.28501926246996057, \"Fitted Mean NDVI\": 0.449, \"Residual\": 0.001}, {\"Month\": \"07/20\", \"Years Since Epoch (t)\": 50.536, \"Max NDVI\": 1.0, \"Mean NDVI\": 0.446, \"Min NDVI\": -0.992, \"Region\": \"Masoala\", \"cos\": -0.9745268727865791, \"sin\": -0.2242707609493727, \"Fitted Mean NDVI\": 0.445, \"Residual\": 0.001}, {\"Month\": \"08/20\", \"Years Since Epoch (t)\": 50.621, \"Max NDVI\": 0.999, \"Mean NDVI\": 0.294, \"Min NDVI\": -0.998, \"Region\": \"Masoala\", \"cos\": -0.7246531301870436, \"sin\": -0.6891138083873516, \"Fitted Mean NDVI\": 0.45, \"Residual\": -0.156}, {\"Month\": \"09/20\", \"Years Since Epoch (t)\": 50.706, \"Max NDVI\": 0.999, \"Mean NDVI\": 0.441, \"Min NDVI\": -0.998, \"Region\": \"Masoala\", \"cos\": -0.2729519355173087, \"sin\": -0.9620276715860906, \"Fitted Mean NDVI\": 0.463, \"Residual\": -0.022}, {\"Month\": \"10/20\", \"Years Since Epoch (t)\": 50.788, \"Max NDVI\": 0.996, \"Mean NDVI\": 0.51, \"Min NDVI\": -0.997, \"Region\": \"Masoala\", \"cos\": 0.23649899702371716, \"sin\": -0.9716317329146757, \"Fitted Mean NDVI\": 0.48, \"Residual\": 0.03}, {\"Month\": \"11/20\", \"Years Since Epoch (t)\": 50.873, \"Max NDVI\": 0.997, \"Mean NDVI\": 0.561, \"Min NDVI\": -0.998, \"Region\": \"Masoala\", \"cos\": 0.6981654189934356, \"sin\": -0.7159364830218673, \"Fitted Mean NDVI\": 0.497, \"Residual\": 0.064}, {\"Month\": \"12/20\", \"Years Since Epoch (t)\": 50.955, \"Max NDVI\": 0.996, \"Mean NDVI\": 0.491, \"Min NDVI\": -0.998, \"Region\": \"Masoala\", \"cos\": 0.9602936856769375, \"sin\": -0.2789911060392482, \"Fitted Mean NDVI\": 0.509, \"Residual\": -0.018}, {\"Month\": \"01/21\", \"Years Since Epoch (t)\": 51.04, \"Max NDVI\": 0.999, \"Mean NDVI\": 0.487, \"Min NDVI\": -0.996, \"Region\": \"Masoala\", \"cos\": 0.9685831611286329, \"sin\": 0.2486898871648482, \"Fitted Mean NDVI\": 0.514, \"Residual\": -0.027}, {\"Month\": \"02/21\", \"Years Since Epoch (t)\": 51.125, \"Max NDVI\": 0.999, \"Mean NDVI\": 0.422, \"Min NDVI\": -0.998, \"Region\": \"Masoala\", \"cos\": 0.7071067811865432, \"sin\": 0.7071067811865519, \"Fitted Mean NDVI\": 0.509, \"Residual\": -0.087}, {\"Month\": \"03/21\", \"Years Since Epoch (t)\": 51.202, \"Max NDVI\": 1.0, \"Mean NDVI\": 0.523, \"Min NDVI\": -0.997, \"Region\": \"Masoala\", \"cos\": 0.29704158157704086, \"sin\": 0.9548645447466411, \"Fitted Mean NDVI\": 0.499, \"Residual\": 0.024}, {\"Month\": \"04/21\", \"Years Since Epoch (t)\": 51.286, \"Max NDVI\": 0.999, \"Mean NDVI\": 0.531, \"Min NDVI\": -0.997, \"Region\": \"Masoala\", \"cos\": -0.22427076094935697, \"sin\": 0.9745268727865827, \"Fitted Mean NDVI\": 0.482, \"Residual\": 0.049}, {\"Month\": \"05/21\", \"Years Since Epoch (t)\": 51.369, \"Max NDVI\": 0.999, \"Mean NDVI\": 0.549, \"Min NDVI\": -0.997, \"Region\": \"Masoala\", \"cos\": -0.6799533787224058, \"sin\": 0.7332553462225724, \"Fitted Mean NDVI\": 0.466, \"Residual\": 0.083}, {\"Month\": \"06/21\", \"Years Since Epoch (t)\": 51.453, \"Max NDVI\": 1.0, \"Mean NDVI\": 0.368, \"Min NDVI\": -0.997, \"Region\": \"Masoala\", \"cos\": -0.9567120515588363, \"sin\": 0.29103616682825273, \"Fitted Mean NDVI\": 0.455, \"Residual\": -0.087}, {\"Month\": \"07/21\", \"Years Since Epoch (t)\": 51.536, \"Max NDVI\": 1.0, \"Mean NDVI\": 0.477, \"Min NDVI\": -0.998, \"Region\": \"Masoala\", \"cos\": -0.9745268727865839, \"sin\": -0.22427076094935172, \"Fitted Mean NDVI\": 0.451, \"Residual\": 0.026}, {\"Month\": \"08/21\", \"Years Since Epoch (t)\": 51.62, \"Max NDVI\": 0.999, \"Mean NDVI\": 0.481, \"Min NDVI\": -0.997, \"Region\": \"Masoala\", \"cos\": -0.7289686274214451, \"sin\": -0.684547105928653, \"Fitted Mean NDVI\": 0.456, \"Residual\": 0.025}, {\"Month\": \"09/21\", \"Years Since Epoch (t)\": 51.705, \"Max NDVI\": 0.999, \"Mean NDVI\": 0.454, \"Min NDVI\": -0.997, \"Region\": \"Masoala\", \"cos\": -0.27899110603926375, \"sin\": -0.9602936856769331, \"Fitted Mean NDVI\": 0.469, \"Residual\": -0.015}, {\"Month\": \"10/21\", \"Years Since Epoch (t)\": 51.788, \"Max NDVI\": 0.995, \"Mean NDVI\": 0.587, \"Min NDVI\": -0.995, \"Region\": \"Masoala\", \"cos\": 0.2364989970236962, \"sin\": -0.9716317329146809, \"Fitted Mean NDVI\": 0.486, \"Residual\": 0.101}], \"data-579f69c590188c87ad94e04f14f605c0\": [{\"Month\": \"11/21\", \"Region\": \"Masoala\", \"Predicted Mean NDVI\": 0.503}, {\"Month\": \"12/21\", \"Region\": \"Masoala\", \"Predicted Mean NDVI\": 0.515}, {\"Month\": \"01/22\", \"Region\": \"Masoala\", \"Predicted Mean NDVI\": 0.52}, {\"Month\": \"02/22\", \"Region\": \"Masoala\", \"Predicted Mean NDVI\": 0.516}, {\"Month\": \"03/22\", \"Region\": \"Masoala\", \"Predicted Mean NDVI\": 0.505}, {\"Month\": \"04/22\", \"Region\": \"Masoala\", \"Predicted Mean NDVI\": 0.489}, {\"Month\": \"05/22\", \"Region\": \"Masoala\", \"Predicted Mean NDVI\": 0.473}, {\"Month\": \"06/22\", \"Region\": \"Masoala\", \"Predicted Mean NDVI\": 0.461}, {\"Month\": \"07/22\", \"Region\": \"Masoala\", \"Predicted Mean NDVI\": 0.457}, {\"Month\": \"08/22\", \"Region\": \"Masoala\", \"Predicted Mean NDVI\": 0.462}, {\"Month\": \"09/22\", \"Region\": \"Masoala\", \"Predicted Mean NDVI\": 0.475}, {\"Month\": \"10/22\", \"Region\": \"Masoala\", \"Predicted Mean NDVI\": 0.492}, {\"Month\": \"11/22\", \"Region\": \"Masoala\", \"Predicted Mean NDVI\": 0.509}, {\"Month\": \"12/22\", \"Region\": \"Masoala\", \"Predicted Mean NDVI\": 0.521}], \"data-3333cc86a4353d3e6fba7a857d549bfa\": [{\"Month\": \"01/19\", \"Years Since Epoch (t)\": 49.039, \"Max NDVI\": 0.938, \"Mean NDVI\": 0.577, \"Min NDVI\": -0.89, \"Region\": \"Alan'Ankirisa\", \"cos\": 0.9701265964901047, \"sin\": 0.242599230795412, \"Fitted Mean NDVI\": 0.565, \"Residual\": 0.012}, {\"Month\": \"02/19\", \"Years Since Epoch (t)\": 49.124, \"Max NDVI\": 0.965, \"Mean NDVI\": 0.638, \"Min NDVI\": -0.731, \"Region\": \"Alan'Ankirisa\", \"cos\": 0.7115356772092729, \"sin\": 0.7026499697988617, \"Fitted Mean NDVI\": 0.635, \"Residual\": 0.003}, {\"Month\": \"03/19\", \"Years Since Epoch (t)\": 49.2, \"Max NDVI\": 0.937, \"Mean NDVI\": 0.661, \"Min NDVI\": -0.636, \"Region\": \"Alan'Ankirisa\", \"cos\": 0.3090169943749183, \"sin\": 0.9510565162951631, \"Fitted Mean NDVI\": 0.66, \"Residual\": 0.001}, {\"Month\": \"04/19\", \"Years Since Epoch (t)\": 49.285, \"Max NDVI\": 0.958, \"Mean NDVI\": 0.582, \"Min NDVI\": -0.534, \"Region\": \"Alan'Ankirisa\", \"cos\": -0.21814324139652955, \"sin\": 0.9759167619387503, \"Fitted Mean NDVI\": 0.637, \"Residual\": -0.055}, {\"Month\": \"05/19\", \"Years Since Epoch (t)\": 49.367, \"Max NDVI\": 0.999, \"Mean NDVI\": 0.493, \"Min NDVI\": -0.601, \"Region\": \"Alan'Ankirisa\", \"cos\": -0.6706855765366916, \"sin\": 0.741741772738765, \"Fitted Mean NDVI\": 0.573, \"Residual\": -0.08}, {\"Month\": \"06/19\", \"Years Since Epoch (t)\": 49.452, \"Max NDVI\": 0.959, \"Mean NDVI\": 0.477, \"Min NDVI\": -0.658, \"Region\": \"Alan'Ankirisa\", \"cos\": -0.9548645447466354, \"sin\": 0.29704158157705907, \"Fitted Mean NDVI\": 0.479, \"Residual\": -0.002}, {\"Month\": \"07/19\", \"Years Since Epoch (t)\": 49.534, \"Max NDVI\": 0.893, \"Mean NDVI\": 0.421, \"Min NDVI\": -0.639, \"Region\": \"Alan'Ankirisa\", \"cos\": -0.977268123568192, \"sin\": -0.21200710992206104, \"Fitted Mean NDVI\": 0.387, \"Residual\": 0.034}, {\"Month\": \"08/19\", \"Years Since Epoch (t)\": 49.619, \"Max NDVI\": 0.916, \"Mean NDVI\": 0.376, \"Min NDVI\": -0.999, \"Region\": \"Alan'Ankirisa\", \"cos\": -0.7332553462225855, \"sin\": -0.6799533787223918, \"Fitted Mean NDVI\": 0.316, \"Residual\": 0.06}, {\"Month\": \"09/19\", \"Years Since Epoch (t)\": 49.704, \"Max NDVI\": 0.878, \"Mean NDVI\": 0.327, \"Min NDVI\": -0.657, \"Region\": \"Alan'Ankirisa\", \"cos\": -0.28501926246999953, \"sin\": -0.958521789017369, \"Fitted Mean NDVI\": 0.29, \"Residual\": 0.037}, {\"Month\": \"10/19\", \"Years Since Epoch (t)\": 49.786, \"Max NDVI\": 0.863, \"Mean NDVI\": 0.257, \"Min NDVI\": -0.504, \"Region\": \"Alan'Ankirisa\", \"cos\": 0.22427076094938847, \"sin\": -0.9745268727865755, \"Fitted Mean NDVI\": 0.314, \"Residual\": -0.057}, {\"Month\": \"11/19\", \"Years Since Epoch (t)\": 49.871, \"Max NDVI\": 0.98, \"Mean NDVI\": 0.317, \"Min NDVI\": -0.513, \"Region\": \"Alan'Ankirisa\", \"cos\": 0.6891138083873632, \"sin\": -0.7246531301870326, \"Fitted Mean NDVI\": 0.383, \"Residual\": -0.066}, {\"Month\": \"12/19\", \"Years Since Epoch (t)\": 49.953, \"Max NDVI\": 0.943, \"Mean NDVI\": 0.506, \"Min NDVI\": -0.662, \"Region\": \"Alan'Ankirisa\", \"cos\": 0.9567120515588292, \"sin\": -0.2910361668282762, \"Fitted Mean NDVI\": 0.475, \"Residual\": 0.031}, {\"Month\": \"01/20\", \"Years Since Epoch (t)\": 50.038, \"Max NDVI\": 0.968, \"Mean NDVI\": 0.671, \"Min NDVI\": -0.803, \"Region\": \"Alan'Ankirisa\", \"cos\": 0.9716317329146854, \"sin\": 0.23649899702367763, \"Fitted Mean NDVI\": 0.572, \"Residual\": 0.099}, {\"Month\": \"02/20\", \"Years Since Epoch (t)\": 50.123, \"Max NDVI\": 0.999, \"Mean NDVI\": 0.698, \"Min NDVI\": -0.996, \"Region\": \"Alan'Ankirisa\", \"cos\": 0.715936483021856, \"sin\": 0.6981654189934473, \"Fitted Mean NDVI\": 0.642, \"Residual\": 0.056}, {\"Month\": \"03/20\", \"Years Since Epoch (t)\": 50.202, \"Max NDVI\": 0.942, \"Mean NDVI\": 0.658, \"Min NDVI\": -0.784, \"Region\": \"Alan'Ankirisa\", \"cos\": 0.29704158157707455, \"sin\": 0.9548645447466306, \"Fitted Mean NDVI\": 0.667, \"Residual\": -0.009}, {\"Month\": \"04/20\", \"Years Since Epoch (t)\": 50.287, \"Max NDVI\": 0.924, \"Mean NDVI\": 0.599, \"Min NDVI\": -0.547, \"Region\": \"Alan'Ankirisa\", \"cos\": -0.23038942667656281, \"sin\": 0.9730985109821332, \"Fitted Mean NDVI\": 0.644, \"Residual\": -0.045}, {\"Month\": \"05/20\", \"Years Since Epoch (t)\": 50.369, \"Max NDVI\": 0.999, \"Mean NDVI\": 0.555, \"Min NDVI\": -0.732, \"Region\": \"Alan'Ankirisa\", \"cos\": -0.6799533787224217, \"sin\": 0.7332553462225577, \"Fitted Mean NDVI\": 0.578, \"Residual\": -0.023}, {\"Month\": \"06/20\", \"Years Since Epoch (t)\": 50.454, \"Max NDVI\": 0.94, \"Mean NDVI\": 0.502, \"Min NDVI\": -0.742, \"Region\": \"Alan'Ankirisa\", \"cos\": -0.9585217890173805, \"sin\": 0.28501926246996057, \"Fitted Mean NDVI\": 0.484, \"Residual\": 0.018}, {\"Month\": \"07/20\", \"Years Since Epoch (t)\": 50.536, \"Max NDVI\": 0.94, \"Mean NDVI\": 0.424, \"Min NDVI\": -0.999, \"Region\": \"Alan'Ankirisa\", \"cos\": -0.9745268727865791, \"sin\": -0.2242707609493727, \"Fitted Mean NDVI\": 0.392, \"Residual\": 0.032}, {\"Month\": \"08/20\", \"Years Since Epoch (t)\": 50.621, \"Max NDVI\": 0.894, \"Mean NDVI\": 0.358, \"Min NDVI\": -0.604, \"Region\": \"Alan'Ankirisa\", \"cos\": -0.7246531301870436, \"sin\": -0.6891138083873516, \"Fitted Mean NDVI\": 0.322, \"Residual\": 0.036}, {\"Month\": \"09/20\", \"Years Since Epoch (t)\": 50.706, \"Max NDVI\": 0.862, \"Mean NDVI\": 0.305, \"Min NDVI\": -0.587, \"Region\": \"Alan'Ankirisa\", \"cos\": -0.2729519355173087, \"sin\": -0.9620276715860906, \"Fitted Mean NDVI\": 0.297, \"Residual\": 0.008}, {\"Month\": \"10/20\", \"Years Since Epoch (t)\": 50.788, \"Max NDVI\": 0.873, \"Mean NDVI\": 0.306, \"Min NDVI\": -0.463, \"Region\": \"Alan'Ankirisa\", \"cos\": 0.23649899702371716, \"sin\": -0.9716317329146757, \"Fitted Mean NDVI\": 0.322, \"Residual\": -0.016}, {\"Month\": \"11/20\", \"Years Since Epoch (t)\": 50.873, \"Max NDVI\": 0.863, \"Mean NDVI\": 0.297, \"Min NDVI\": -0.433, \"Region\": \"Alan'Ankirisa\", \"cos\": 0.6981654189934356, \"sin\": -0.7159364830218673, \"Fitted Mean NDVI\": 0.392, \"Residual\": -0.095}, {\"Month\": \"12/20\", \"Years Since Epoch (t)\": 50.955, \"Max NDVI\": 0.982, \"Mean NDVI\": 0.425, \"Min NDVI\": -0.479, \"Region\": \"Alan'Ankirisa\", \"cos\": 0.9602936856769375, \"sin\": -0.2789911060392482, \"Fitted Mean NDVI\": 0.485, \"Residual\": -0.06}, {\"Month\": \"01/21\", \"Years Since Epoch (t)\": 51.04, \"Max NDVI\": 0.952, \"Mean NDVI\": 0.635, \"Min NDVI\": -0.824, \"Region\": \"Alan'Ankirisa\", \"cos\": 0.9685831611286329, \"sin\": 0.2486898871648482, \"Fitted Mean NDVI\": 0.581, \"Residual\": 0.054}, {\"Month\": \"02/21\", \"Years Since Epoch (t)\": 51.125, \"Max NDVI\": 0.931, \"Mean NDVI\": 0.711, \"Min NDVI\": -0.554, \"Region\": \"Alan'Ankirisa\", \"cos\": 0.7071067811865432, \"sin\": 0.7071067811865519, \"Fitted Mean NDVI\": 0.65, \"Residual\": 0.061}, {\"Month\": \"03/21\", \"Years Since Epoch (t)\": 51.202, \"Max NDVI\": 0.984, \"Mean NDVI\": 0.702, \"Min NDVI\": -0.768, \"Region\": \"Alan'Ankirisa\", \"cos\": 0.29704158157704086, \"sin\": 0.9548645447466411, \"Fitted Mean NDVI\": 0.674, \"Residual\": 0.028}, {\"Month\": \"04/21\", \"Years Since Epoch (t)\": 51.286, \"Max NDVI\": 0.927, \"Mean NDVI\": 0.62, \"Min NDVI\": -0.68, \"Region\": \"Alan'Ankirisa\", \"cos\": -0.22427076094935697, \"sin\": 0.9745268727865827, \"Fitted Mean NDVI\": 0.651, \"Residual\": -0.031}, {\"Month\": \"05/21\", \"Years Since Epoch (t)\": 51.369, \"Max NDVI\": 0.931, \"Mean NDVI\": 0.54, \"Min NDVI\": -0.614, \"Region\": \"Alan'Ankirisa\", \"cos\": -0.6799533787224058, \"sin\": 0.7332553462225724, \"Fitted Mean NDVI\": 0.585, \"Residual\": -0.045}, {\"Month\": \"06/21\", \"Years Since Epoch (t)\": 51.453, \"Max NDVI\": 0.931, \"Mean NDVI\": 0.489, \"Min NDVI\": -0.657, \"Region\": \"Alan'Ankirisa\", \"cos\": -0.9567120515588363, \"sin\": 0.29103616682825273, \"Fitted Mean NDVI\": 0.492, \"Residual\": -0.003}, {\"Month\": \"07/21\", \"Years Since Epoch (t)\": 51.536, \"Max NDVI\": 0.938, \"Mean NDVI\": 0.439, \"Min NDVI\": -0.998, \"Region\": \"Alan'Ankirisa\", \"cos\": -0.9745268727865839, \"sin\": -0.22427076094935172, \"Fitted Mean NDVI\": 0.399, \"Residual\": 0.04}, {\"Month\": \"08/21\", \"Years Since Epoch (t)\": 51.62, \"Max NDVI\": 0.884, \"Mean NDVI\": 0.343, \"Min NDVI\": -0.648, \"Region\": \"Alan'Ankirisa\", \"cos\": -0.7289686274214451, \"sin\": -0.684547105928653, \"Fitted Mean NDVI\": 0.33, \"Residual\": 0.013}, {\"Month\": \"09/21\", \"Years Since Epoch (t)\": 51.705, \"Max NDVI\": 0.901, \"Mean NDVI\": 0.312, \"Min NDVI\": -0.734, \"Region\": \"Alan'Ankirisa\", \"cos\": -0.27899110603926375, \"sin\": -0.9602936856769331, \"Fitted Mean NDVI\": 0.304, \"Residual\": 0.008}, {\"Month\": \"10/21\", \"Years Since Epoch (t)\": 51.788, \"Max NDVI\": 0.869, \"Mean NDVI\": 0.283, \"Min NDVI\": -0.7, \"Region\": \"Alan'Ankirisa\", \"cos\": 0.2364989970236962, \"sin\": -0.9716317329146809, \"Fitted Mean NDVI\": 0.329, \"Residual\": -0.046}], \"data-94ab03db8efda0c7db69f59ba18d0205\": [{\"Month\": \"11/21\", \"Region\": \"Alan'Ankirisa\", \"Predicted Mean NDVI\": 0.399}, {\"Month\": \"12/21\", \"Region\": \"Alan'Ankirisa\", \"Predicted Mean NDVI\": 0.492}, {\"Month\": \"01/22\", \"Region\": \"Alan'Ankirisa\", \"Predicted Mean NDVI\": 0.587}, {\"Month\": \"02/22\", \"Region\": \"Alan'Ankirisa\", \"Predicted Mean NDVI\": 0.657}, {\"Month\": \"03/22\", \"Region\": \"Alan'Ankirisa\", \"Predicted Mean NDVI\": 0.681}, {\"Month\": \"04/22\", \"Region\": \"Alan'Ankirisa\", \"Predicted Mean NDVI\": 0.659}, {\"Month\": \"05/22\", \"Region\": \"Alan'Ankirisa\", \"Predicted Mean NDVI\": 0.593}, {\"Month\": \"06/22\", \"Region\": \"Alan'Ankirisa\", \"Predicted Mean NDVI\": 0.499}, {\"Month\": \"07/22\", \"Region\": \"Alan'Ankirisa\", \"Predicted Mean NDVI\": 0.407}, {\"Month\": \"08/22\", \"Region\": \"Alan'Ankirisa\", \"Predicted Mean NDVI\": 0.337}, {\"Month\": \"09/22\", \"Region\": \"Alan'Ankirisa\", \"Predicted Mean NDVI\": 0.311}, {\"Month\": \"10/22\", \"Region\": \"Alan'Ankirisa\", \"Predicted Mean NDVI\": 0.336}, {\"Month\": \"11/22\", \"Region\": \"Alan'Ankirisa\", \"Predicted Mean NDVI\": 0.406}, {\"Month\": \"12/22\", \"Region\": \"Alan'Ankirisa\", \"Predicted Mean NDVI\": 0.498}]}}, {\"mode\": \"vega-lite\"});\n",
       "</script>"
      ],
      "text/plain": [
       "alt.VConcatChart(...)"
      ]
     },
     "execution_count": 21,
     "metadata": {},
     "output_type": "execute_result"
    }
   ],
   "source": [
    "# harmonic models\n",
    "\n",
    "charts_2, mseHarmonicMod = [], dict()\n",
    "\n",
    "for i in list(zip(df[\"Region\"].unique(), colors)):\n",
    "  dfSubset = df[df[\"Region\"] == i[0]]\n",
    "  timeRadiansTrain = dfSubset[\"Years Since Epoch (t)\"].values * 2 * math.pi\n",
    "  timeRadiansTest = np.array(futureMonths) * 2 * math.pi\n",
    "  dfSubset[[\"cos\", \"sin\"]] = [[math.cos(j), math.sin(j)] for j in timeRadiansTrain]\n",
    "  \n",
    "  trainFeatures, target = dfSubset[[\"Years Since Epoch (t)\", \"cos\", \"sin\"]].values, dfSubset[\"Mean NDVI\"].values.reshape(34, 1)\n",
    "  \n",
    "  predFeatures = []\n",
    "  for j in futureMonths:\n",
    "    timeRadians = j * 2 * math.pi\n",
    "    predFeatures.append([j, math.cos(timeRadians), math.sin(timeRadians)])\n",
    "\n",
    "  harmonicMod = LinearRegression().fit(trainFeatures, target)  \n",
    "  dfSubset[\"Fitted Mean NDVI\"] = np.round(harmonicMod.predict(trainFeatures), 3)\n",
    "  dfSubset[\"Residual\"] = np.round(target - harmonicMod.predict(trainFeatures), 3)\n",
    "  mseHarmonicMod[i[0]] = np.mean(np.square(dfSubset[\"Residual\"]))\n",
    "\n",
    "  predDf = pd.DataFrame({\"Month\": formattedAxisDates[34:],\n",
    "                         \"Region\": [i[0]] * 14,\n",
    "                         \"Predicted Mean NDVI\": harmonicMod.predict(predFeatures\n",
    "                                                          ).flatten()}\n",
    "            ).round(3)\n",
    "\n",
    "  charts_2.append(plotCharts(df_1=dfSubset, df_2=predDf, \n",
    "                             color=i[1], region=i[0]))\n",
    "\n",
    "alt.vconcat(*charts_2)"
   ]
  },
  {
   "cell_type": "code",
   "execution_count": 23,
   "metadata": {
    "colab": {
     "base_uri": "https://localhost:8080/",
     "height": 1000
    },
    "id": "LR27y2cb-HIw",
    "outputId": "a7efdc8c-15f5-4b8c-a3a6-dbd1cce3f29e"
   },
   "outputs": [
    {
     "data": {
      "text/html": [
       "\n",
       "<div id=\"altair-viz-1d47d1e4cb674c66b6d5c0cbe63d0ffc\"></div>\n",
       "<script type=\"text/javascript\">\n",
       "  (function(spec, embedOpt){\n",
       "    let outputDiv = document.currentScript.previousElementSibling;\n",
       "    if (outputDiv.id !== \"altair-viz-1d47d1e4cb674c66b6d5c0cbe63d0ffc\") {\n",
       "      outputDiv = document.getElementById(\"altair-viz-1d47d1e4cb674c66b6d5c0cbe63d0ffc\");\n",
       "    }\n",
       "    const paths = {\n",
       "      \"vega\": \"https://cdn.jsdelivr.net/npm//vega@5?noext\",\n",
       "      \"vega-lib\": \"https://cdn.jsdelivr.net/npm//vega-lib?noext\",\n",
       "      \"vega-lite\": \"https://cdn.jsdelivr.net/npm//vega-lite@4.8.1?noext\",\n",
       "      \"vega-embed\": \"https://cdn.jsdelivr.net/npm//vega-embed@6?noext\",\n",
       "    };\n",
       "\n",
       "    function loadScript(lib) {\n",
       "      return new Promise(function(resolve, reject) {\n",
       "        var s = document.createElement('script');\n",
       "        s.src = paths[lib];\n",
       "        s.async = true;\n",
       "        s.onload = () => resolve(paths[lib]);\n",
       "        s.onerror = () => reject(`Error loading script: ${paths[lib]}`);\n",
       "        document.getElementsByTagName(\"head\")[0].appendChild(s);\n",
       "      });\n",
       "    }\n",
       "\n",
       "    function showError(err) {\n",
       "      outputDiv.innerHTML = `<div class=\"error\" style=\"color:red;\">${err}</div>`;\n",
       "      throw err;\n",
       "    }\n",
       "\n",
       "    function displayChart(vegaEmbed) {\n",
       "      vegaEmbed(outputDiv, spec, embedOpt)\n",
       "        .catch(err => showError(`Javascript Error: ${err.message}<br>This usually means there's a typo in your chart specification. See the javascript console for the full traceback.`));\n",
       "    }\n",
       "\n",
       "    if(typeof define === \"function\" && define.amd) {\n",
       "      requirejs.config({paths});\n",
       "      require([\"vega-embed\"], displayChart, err => showError(`Error loading script: ${err.message}`));\n",
       "    } else if (typeof vegaEmbed === \"function\") {\n",
       "      displayChart(vegaEmbed);\n",
       "    } else {\n",
       "      loadScript(\"vega\")\n",
       "        .then(() => loadScript(\"vega-lite\"))\n",
       "        .then(() => loadScript(\"vega-embed\"))\n",
       "        .catch(showError)\n",
       "        .then(() => displayChart(vegaEmbed));\n",
       "    }\n",
       "  })({\"config\": {\"view\": {\"continuousWidth\": 400, \"continuousHeight\": 300}}, \"vconcat\": [{\"layer\": [{\"mark\": {\"type\": \"line\", \"color\": \"#FFD13C\"}, \"encoding\": {\"x\": {\"type\": \"ordinal\", \"field\": \"Month\", \"sort\": [\"01/19\", \"02/19\", \"03/19\", \"04/19\", \"05/19\", \"06/19\", \"07/19\", \"08/19\", \"09/19\", \"10/19\", \"11/19\", \"12/19\", \"01/20\", \"02/20\", \"03/20\", \"04/20\", \"05/20\", \"06/20\", \"07/20\", \"08/20\", \"09/20\", \"10/20\", \"11/20\", \"12/20\", \"01/21\", \"02/21\", \"03/21\", \"04/21\", \"05/21\", \"06/21\", \"07/21\", \"08/21\", \"09/21\", \"10/21\", \"11/21\", \"12/21\", \"01/22\", \"02/22\", \"03/22\", \"04/22\", \"05/22\", \"06/22\", \"07/22\", \"08/22\", \"09/22\", \"10/22\", \"11/22\", \"12/22\"]}, \"y\": {\"type\": \"quantitative\", \"field\": \"Mean NDVI (t)\"}}}, {\"mark\": {\"type\": \"circle\", \"color\": \"#FFD13C\", \"size\": 50}, \"encoding\": {\"tooltip\": [{\"type\": \"nominal\", \"field\": \"Month\"}, {\"type\": \"nominal\", \"field\": \"Region\"}, {\"type\": \"quantitative\", \"field\": \"Mean NDVI (t)\"}], \"x\": {\"type\": \"ordinal\", \"field\": \"Month\", \"sort\": [\"01/19\", \"02/19\", \"03/19\", \"04/19\", \"05/19\", \"06/19\", \"07/19\", \"08/19\", \"09/19\", \"10/19\", \"11/19\", \"12/19\", \"01/20\", \"02/20\", \"03/20\", \"04/20\", \"05/20\", \"06/20\", \"07/20\", \"08/20\", \"09/20\", \"10/20\", \"11/20\", \"12/20\", \"01/21\", \"02/21\", \"03/21\", \"04/21\", \"05/21\", \"06/21\", \"07/21\", \"08/21\", \"09/21\", \"10/21\", \"11/21\", \"12/21\", \"01/22\", \"02/22\", \"03/22\", \"04/22\", \"05/22\", \"06/22\", \"07/22\", \"08/22\", \"09/22\", \"10/22\", \"11/22\", \"12/22\"]}, \"y\": {\"type\": \"quantitative\", \"field\": \"Mean NDVI (t)\"}}}, {\"mark\": {\"type\": \"line\", \"color\": \"red\"}, \"encoding\": {\"x\": {\"type\": \"ordinal\", \"field\": \"Month\", \"sort\": [\"01/19\", \"02/19\", \"03/19\", \"04/19\", \"05/19\", \"06/19\", \"07/19\", \"08/19\", \"09/19\", \"10/19\", \"11/19\", \"12/19\", \"01/20\", \"02/20\", \"03/20\", \"04/20\", \"05/20\", \"06/20\", \"07/20\", \"08/20\", \"09/20\", \"10/20\", \"11/20\", \"12/20\", \"01/21\", \"02/21\", \"03/21\", \"04/21\", \"05/21\", \"06/21\", \"07/21\", \"08/21\", \"09/21\", \"10/21\", \"11/21\", \"12/21\", \"01/22\", \"02/22\", \"03/22\", \"04/22\", \"05/22\", \"06/22\", \"07/22\", \"08/22\", \"09/22\", \"10/22\", \"11/22\", \"12/22\"]}, \"y\": {\"type\": \"quantitative\", \"field\": \"Fitted Mean NDVI\"}}}, {\"mark\": {\"type\": \"circle\", \"color\": \"red\", \"size\": 50}, \"encoding\": {\"tooltip\": [{\"type\": \"nominal\", \"field\": \"Month\"}, {\"type\": \"nominal\", \"field\": \"Region\"}, {\"type\": \"quantitative\", \"field\": \"Fitted Mean NDVI\"}, {\"type\": \"quantitative\", \"field\": \"Residual\"}], \"x\": {\"type\": \"ordinal\", \"field\": \"Month\", \"sort\": [\"01/19\", \"02/19\", \"03/19\", \"04/19\", \"05/19\", \"06/19\", \"07/19\", \"08/19\", \"09/19\", \"10/19\", \"11/19\", \"12/19\", \"01/20\", \"02/20\", \"03/20\", \"04/20\", \"05/20\", \"06/20\", \"07/20\", \"08/20\", \"09/20\", \"10/20\", \"11/20\", \"12/20\", \"01/21\", \"02/21\", \"03/21\", \"04/21\", \"05/21\", \"06/21\", \"07/21\", \"08/21\", \"09/21\", \"10/21\", \"11/21\", \"12/21\", \"01/22\", \"02/22\", \"03/22\", \"04/22\", \"05/22\", \"06/22\", \"07/22\", \"08/22\", \"09/22\", \"10/22\", \"11/22\", \"12/22\"]}, \"y\": {\"type\": \"quantitative\", \"field\": \"Fitted Mean NDVI\"}}}], \"data\": {\"name\": \"data-3eafaf9f8bcb2b317d523fdf836f86e7\"}, \"height\": 300, \"title\": \"d'Andohahela Fitted Monthly Mean NDVI\", \"width\": 500}, {\"layer\": [{\"mark\": {\"type\": \"line\", \"color\": \"#61ECB6\"}, \"encoding\": {\"x\": {\"type\": \"ordinal\", \"field\": \"Month\", \"sort\": [\"01/19\", \"02/19\", \"03/19\", \"04/19\", \"05/19\", \"06/19\", \"07/19\", \"08/19\", \"09/19\", \"10/19\", \"11/19\", \"12/19\", \"01/20\", \"02/20\", \"03/20\", \"04/20\", \"05/20\", \"06/20\", \"07/20\", \"08/20\", \"09/20\", \"10/20\", \"11/20\", \"12/20\", \"01/21\", \"02/21\", \"03/21\", \"04/21\", \"05/21\", \"06/21\", \"07/21\", \"08/21\", \"09/21\", \"10/21\", \"11/21\", \"12/21\", \"01/22\", \"02/22\", \"03/22\", \"04/22\", \"05/22\", \"06/22\", \"07/22\", \"08/22\", \"09/22\", \"10/22\", \"11/22\", \"12/22\"]}, \"y\": {\"type\": \"quantitative\", \"field\": \"Mean NDVI (t)\"}}}, {\"mark\": {\"type\": \"circle\", \"color\": \"#61ECB6\", \"size\": 50}, \"encoding\": {\"tooltip\": [{\"type\": \"nominal\", \"field\": \"Month\"}, {\"type\": \"nominal\", \"field\": \"Region\"}, {\"type\": \"quantitative\", \"field\": \"Mean NDVI (t)\"}], \"x\": {\"type\": \"ordinal\", \"field\": \"Month\", \"sort\": [\"01/19\", \"02/19\", \"03/19\", \"04/19\", \"05/19\", \"06/19\", \"07/19\", \"08/19\", \"09/19\", \"10/19\", \"11/19\", \"12/19\", \"01/20\", \"02/20\", \"03/20\", \"04/20\", \"05/20\", \"06/20\", \"07/20\", \"08/20\", \"09/20\", \"10/20\", \"11/20\", \"12/20\", \"01/21\", \"02/21\", \"03/21\", \"04/21\", \"05/21\", \"06/21\", \"07/21\", \"08/21\", \"09/21\", \"10/21\", \"11/21\", \"12/21\", \"01/22\", \"02/22\", \"03/22\", \"04/22\", \"05/22\", \"06/22\", \"07/22\", \"08/22\", \"09/22\", \"10/22\", \"11/22\", \"12/22\"]}, \"y\": {\"type\": \"quantitative\", \"field\": \"Mean NDVI (t)\"}}}, {\"mark\": {\"type\": \"line\", \"color\": \"red\"}, \"encoding\": {\"x\": {\"type\": \"ordinal\", \"field\": \"Month\", \"sort\": [\"01/19\", \"02/19\", \"03/19\", \"04/19\", \"05/19\", \"06/19\", \"07/19\", \"08/19\", \"09/19\", \"10/19\", \"11/19\", \"12/19\", \"01/20\", \"02/20\", \"03/20\", \"04/20\", \"05/20\", \"06/20\", \"07/20\", \"08/20\", \"09/20\", \"10/20\", \"11/20\", \"12/20\", \"01/21\", \"02/21\", \"03/21\", \"04/21\", \"05/21\", \"06/21\", \"07/21\", \"08/21\", \"09/21\", \"10/21\", \"11/21\", \"12/21\", \"01/22\", \"02/22\", \"03/22\", \"04/22\", \"05/22\", \"06/22\", \"07/22\", \"08/22\", \"09/22\", \"10/22\", \"11/22\", \"12/22\"]}, \"y\": {\"type\": \"quantitative\", \"field\": \"Fitted Mean NDVI\"}}}, {\"mark\": {\"type\": \"circle\", \"color\": \"red\", \"size\": 50}, \"encoding\": {\"tooltip\": [{\"type\": \"nominal\", \"field\": \"Month\"}, {\"type\": \"nominal\", \"field\": \"Region\"}, {\"type\": \"quantitative\", \"field\": \"Fitted Mean NDVI\"}, {\"type\": \"quantitative\", \"field\": \"Residual\"}], \"x\": {\"type\": \"ordinal\", \"field\": \"Month\", \"sort\": [\"01/19\", \"02/19\", \"03/19\", \"04/19\", \"05/19\", \"06/19\", \"07/19\", \"08/19\", \"09/19\", \"10/19\", \"11/19\", \"12/19\", \"01/20\", \"02/20\", \"03/20\", \"04/20\", \"05/20\", \"06/20\", \"07/20\", \"08/20\", \"09/20\", \"10/20\", \"11/20\", \"12/20\", \"01/21\", \"02/21\", \"03/21\", \"04/21\", \"05/21\", \"06/21\", \"07/21\", \"08/21\", \"09/21\", \"10/21\", \"11/21\", \"12/21\", \"01/22\", \"02/22\", \"03/22\", \"04/22\", \"05/22\", \"06/22\", \"07/22\", \"08/22\", \"09/22\", \"10/22\", \"11/22\", \"12/22\"]}, \"y\": {\"type\": \"quantitative\", \"field\": \"Fitted Mean NDVI\"}}}], \"data\": {\"name\": \"data-71d20fc1457caab8a8fc86de55361b93\"}, \"height\": 300, \"title\": \"Midongy Betofaka Fitted Monthly Mean NDVI\", \"width\": 500}, {\"layer\": [{\"mark\": {\"type\": \"line\", \"color\": \"#2ca02c\"}, \"encoding\": {\"x\": {\"type\": \"ordinal\", \"field\": \"Month\", \"sort\": [\"01/19\", \"02/19\", \"03/19\", \"04/19\", \"05/19\", \"06/19\", \"07/19\", \"08/19\", \"09/19\", \"10/19\", \"11/19\", \"12/19\", \"01/20\", \"02/20\", \"03/20\", \"04/20\", \"05/20\", \"06/20\", \"07/20\", \"08/20\", \"09/20\", \"10/20\", \"11/20\", \"12/20\", \"01/21\", \"02/21\", \"03/21\", \"04/21\", \"05/21\", \"06/21\", \"07/21\", \"08/21\", \"09/21\", \"10/21\", \"11/21\", \"12/21\", \"01/22\", \"02/22\", \"03/22\", \"04/22\", \"05/22\", \"06/22\", \"07/22\", \"08/22\", \"09/22\", \"10/22\", \"11/22\", \"12/22\"]}, \"y\": {\"type\": \"quantitative\", \"field\": \"Mean NDVI (t)\"}}}, {\"mark\": {\"type\": \"circle\", \"color\": \"#2ca02c\", \"size\": 50}, \"encoding\": {\"tooltip\": [{\"type\": \"nominal\", \"field\": \"Month\"}, {\"type\": \"nominal\", \"field\": \"Region\"}, {\"type\": \"quantitative\", \"field\": \"Mean NDVI (t)\"}], \"x\": {\"type\": \"ordinal\", \"field\": \"Month\", \"sort\": [\"01/19\", \"02/19\", \"03/19\", \"04/19\", \"05/19\", \"06/19\", \"07/19\", \"08/19\", \"09/19\", \"10/19\", \"11/19\", \"12/19\", \"01/20\", \"02/20\", \"03/20\", \"04/20\", \"05/20\", \"06/20\", \"07/20\", \"08/20\", \"09/20\", \"10/20\", \"11/20\", \"12/20\", \"01/21\", \"02/21\", \"03/21\", \"04/21\", \"05/21\", \"06/21\", \"07/21\", \"08/21\", \"09/21\", \"10/21\", \"11/21\", \"12/21\", \"01/22\", \"02/22\", \"03/22\", \"04/22\", \"05/22\", \"06/22\", \"07/22\", \"08/22\", \"09/22\", \"10/22\", \"11/22\", \"12/22\"]}, \"y\": {\"type\": \"quantitative\", \"field\": \"Mean NDVI (t)\"}}}, {\"mark\": {\"type\": \"line\", \"color\": \"red\"}, \"encoding\": {\"x\": {\"type\": \"ordinal\", \"field\": \"Month\", \"sort\": [\"01/19\", \"02/19\", \"03/19\", \"04/19\", \"05/19\", \"06/19\", \"07/19\", \"08/19\", \"09/19\", \"10/19\", \"11/19\", \"12/19\", \"01/20\", \"02/20\", \"03/20\", \"04/20\", \"05/20\", \"06/20\", \"07/20\", \"08/20\", \"09/20\", \"10/20\", \"11/20\", \"12/20\", \"01/21\", \"02/21\", \"03/21\", \"04/21\", \"05/21\", \"06/21\", \"07/21\", \"08/21\", \"09/21\", \"10/21\", \"11/21\", \"12/21\", \"01/22\", \"02/22\", \"03/22\", \"04/22\", \"05/22\", \"06/22\", \"07/22\", \"08/22\", \"09/22\", \"10/22\", \"11/22\", \"12/22\"]}, \"y\": {\"type\": \"quantitative\", \"field\": \"Fitted Mean NDVI\"}}}, {\"mark\": {\"type\": \"circle\", \"color\": \"red\", \"size\": 50}, \"encoding\": {\"tooltip\": [{\"type\": \"nominal\", \"field\": \"Month\"}, {\"type\": \"nominal\", \"field\": \"Region\"}, {\"type\": \"quantitative\", \"field\": \"Fitted Mean NDVI\"}, {\"type\": \"quantitative\", \"field\": \"Residual\"}], \"x\": {\"type\": \"ordinal\", \"field\": \"Month\", \"sort\": [\"01/19\", \"02/19\", \"03/19\", \"04/19\", \"05/19\", \"06/19\", \"07/19\", \"08/19\", \"09/19\", \"10/19\", \"11/19\", \"12/19\", \"01/20\", \"02/20\", \"03/20\", \"04/20\", \"05/20\", \"06/20\", \"07/20\", \"08/20\", \"09/20\", \"10/20\", \"11/20\", \"12/20\", \"01/21\", \"02/21\", \"03/21\", \"04/21\", \"05/21\", \"06/21\", \"07/21\", \"08/21\", \"09/21\", \"10/21\", \"11/21\", \"12/21\", \"01/22\", \"02/22\", \"03/22\", \"04/22\", \"05/22\", \"06/22\", \"07/22\", \"08/22\", \"09/22\", \"10/22\", \"11/22\", \"12/22\"]}, \"y\": {\"type\": \"quantitative\", \"field\": \"Fitted Mean NDVI\"}}}], \"data\": {\"name\": \"data-514ce87b193aa3a65cc5502a4fcd66f3\"}, \"height\": 300, \"title\": \"Tsimanampetsotsa Fitted Monthly Mean NDVI\", \"width\": 500}, {\"layer\": [{\"mark\": {\"type\": \"line\", \"color\": \"#9467bd\"}, \"encoding\": {\"x\": {\"type\": \"ordinal\", \"field\": \"Month\", \"sort\": [\"01/19\", \"02/19\", \"03/19\", \"04/19\", \"05/19\", \"06/19\", \"07/19\", \"08/19\", \"09/19\", \"10/19\", \"11/19\", \"12/19\", \"01/20\", \"02/20\", \"03/20\", \"04/20\", \"05/20\", \"06/20\", \"07/20\", \"08/20\", \"09/20\", \"10/20\", \"11/20\", \"12/20\", \"01/21\", \"02/21\", \"03/21\", \"04/21\", \"05/21\", \"06/21\", \"07/21\", \"08/21\", \"09/21\", \"10/21\", \"11/21\", \"12/21\", \"01/22\", \"02/22\", \"03/22\", \"04/22\", \"05/22\", \"06/22\", \"07/22\", \"08/22\", \"09/22\", \"10/22\", \"11/22\", \"12/22\"]}, \"y\": {\"type\": \"quantitative\", \"field\": \"Mean NDVI (t)\"}}}, {\"mark\": {\"type\": \"circle\", \"color\": \"#9467bd\", \"size\": 50}, \"encoding\": {\"tooltip\": [{\"type\": \"nominal\", \"field\": \"Month\"}, {\"type\": \"nominal\", \"field\": \"Region\"}, {\"type\": \"quantitative\", \"field\": \"Mean NDVI (t)\"}], \"x\": {\"type\": \"ordinal\", \"field\": \"Month\", \"sort\": [\"01/19\", \"02/19\", \"03/19\", \"04/19\", \"05/19\", \"06/19\", \"07/19\", \"08/19\", \"09/19\", \"10/19\", \"11/19\", \"12/19\", \"01/20\", \"02/20\", \"03/20\", \"04/20\", \"05/20\", \"06/20\", \"07/20\", \"08/20\", \"09/20\", \"10/20\", \"11/20\", \"12/20\", \"01/21\", \"02/21\", \"03/21\", \"04/21\", \"05/21\", \"06/21\", \"07/21\", \"08/21\", \"09/21\", \"10/21\", \"11/21\", \"12/21\", \"01/22\", \"02/22\", \"03/22\", \"04/22\", \"05/22\", \"06/22\", \"07/22\", \"08/22\", \"09/22\", \"10/22\", \"11/22\", \"12/22\"]}, \"y\": {\"type\": \"quantitative\", \"field\": \"Mean NDVI (t)\"}}}, {\"mark\": {\"type\": \"line\", \"color\": \"red\"}, \"encoding\": {\"x\": {\"type\": \"ordinal\", \"field\": \"Month\", \"sort\": [\"01/19\", \"02/19\", \"03/19\", \"04/19\", \"05/19\", \"06/19\", \"07/19\", \"08/19\", \"09/19\", \"10/19\", \"11/19\", \"12/19\", \"01/20\", \"02/20\", \"03/20\", \"04/20\", \"05/20\", \"06/20\", \"07/20\", \"08/20\", \"09/20\", \"10/20\", \"11/20\", \"12/20\", \"01/21\", \"02/21\", \"03/21\", \"04/21\", \"05/21\", \"06/21\", \"07/21\", \"08/21\", \"09/21\", \"10/21\", \"11/21\", \"12/21\", \"01/22\", \"02/22\", \"03/22\", \"04/22\", \"05/22\", \"06/22\", \"07/22\", \"08/22\", \"09/22\", \"10/22\", \"11/22\", \"12/22\"]}, \"y\": {\"type\": \"quantitative\", \"field\": \"Fitted Mean NDVI\"}}}, {\"mark\": {\"type\": \"circle\", \"color\": \"red\", \"size\": 50}, \"encoding\": {\"tooltip\": [{\"type\": \"nominal\", \"field\": \"Month\"}, {\"type\": \"nominal\", \"field\": \"Region\"}, {\"type\": \"quantitative\", \"field\": \"Fitted Mean NDVI\"}, {\"type\": \"quantitative\", \"field\": \"Residual\"}], \"x\": {\"type\": \"ordinal\", \"field\": \"Month\", \"sort\": [\"01/19\", \"02/19\", \"03/19\", \"04/19\", \"05/19\", \"06/19\", \"07/19\", \"08/19\", \"09/19\", \"10/19\", \"11/19\", \"12/19\", \"01/20\", \"02/20\", \"03/20\", \"04/20\", \"05/20\", \"06/20\", \"07/20\", \"08/20\", \"09/20\", \"10/20\", \"11/20\", \"12/20\", \"01/21\", \"02/21\", \"03/21\", \"04/21\", \"05/21\", \"06/21\", \"07/21\", \"08/21\", \"09/21\", \"10/21\", \"11/21\", \"12/21\", \"01/22\", \"02/22\", \"03/22\", \"04/22\", \"05/22\", \"06/22\", \"07/22\", \"08/22\", \"09/22\", \"10/22\", \"11/22\", \"12/22\"]}, \"y\": {\"type\": \"quantitative\", \"field\": \"Fitted Mean NDVI\"}}}], \"data\": {\"name\": \"data-5e9feab12ff4251b08f549f9b897067e\"}, \"height\": 300, \"title\": \"d'Ankarafantsika Fitted Monthly Mean NDVI\", \"width\": 500}, {\"layer\": [{\"mark\": {\"type\": \"line\", \"color\": \"#17becf\"}, \"encoding\": {\"x\": {\"type\": \"ordinal\", \"field\": \"Month\", \"sort\": [\"01/19\", \"02/19\", \"03/19\", \"04/19\", \"05/19\", \"06/19\", \"07/19\", \"08/19\", \"09/19\", \"10/19\", \"11/19\", \"12/19\", \"01/20\", \"02/20\", \"03/20\", \"04/20\", \"05/20\", \"06/20\", \"07/20\", \"08/20\", \"09/20\", \"10/20\", \"11/20\", \"12/20\", \"01/21\", \"02/21\", \"03/21\", \"04/21\", \"05/21\", \"06/21\", \"07/21\", \"08/21\", \"09/21\", \"10/21\", \"11/21\", \"12/21\", \"01/22\", \"02/22\", \"03/22\", \"04/22\", \"05/22\", \"06/22\", \"07/22\", \"08/22\", \"09/22\", \"10/22\", \"11/22\", \"12/22\"]}, \"y\": {\"type\": \"quantitative\", \"field\": \"Mean NDVI (t)\"}}}, {\"mark\": {\"type\": \"circle\", \"color\": \"#17becf\", \"size\": 50}, \"encoding\": {\"tooltip\": [{\"type\": \"nominal\", \"field\": \"Month\"}, {\"type\": \"nominal\", \"field\": \"Region\"}, {\"type\": \"quantitative\", \"field\": \"Mean NDVI (t)\"}], \"x\": {\"type\": \"ordinal\", \"field\": \"Month\", \"sort\": [\"01/19\", \"02/19\", \"03/19\", \"04/19\", \"05/19\", \"06/19\", \"07/19\", \"08/19\", \"09/19\", \"10/19\", \"11/19\", \"12/19\", \"01/20\", \"02/20\", \"03/20\", \"04/20\", \"05/20\", \"06/20\", \"07/20\", \"08/20\", \"09/20\", \"10/20\", \"11/20\", \"12/20\", \"01/21\", \"02/21\", \"03/21\", \"04/21\", \"05/21\", \"06/21\", \"07/21\", \"08/21\", \"09/21\", \"10/21\", \"11/21\", \"12/21\", \"01/22\", \"02/22\", \"03/22\", \"04/22\", \"05/22\", \"06/22\", \"07/22\", \"08/22\", \"09/22\", \"10/22\", \"11/22\", \"12/22\"]}, \"y\": {\"type\": \"quantitative\", \"field\": \"Mean NDVI (t)\"}}}, {\"mark\": {\"type\": \"line\", \"color\": \"red\"}, \"encoding\": {\"x\": {\"type\": \"ordinal\", \"field\": \"Month\", \"sort\": [\"01/19\", \"02/19\", \"03/19\", \"04/19\", \"05/19\", \"06/19\", \"07/19\", \"08/19\", \"09/19\", \"10/19\", \"11/19\", \"12/19\", \"01/20\", \"02/20\", \"03/20\", \"04/20\", \"05/20\", \"06/20\", \"07/20\", \"08/20\", \"09/20\", \"10/20\", \"11/20\", \"12/20\", \"01/21\", \"02/21\", \"03/21\", \"04/21\", \"05/21\", \"06/21\", \"07/21\", \"08/21\", \"09/21\", \"10/21\", \"11/21\", \"12/21\", \"01/22\", \"02/22\", \"03/22\", \"04/22\", \"05/22\", \"06/22\", \"07/22\", \"08/22\", \"09/22\", \"10/22\", \"11/22\", \"12/22\"]}, \"y\": {\"type\": \"quantitative\", \"field\": \"Fitted Mean NDVI\"}}}, {\"mark\": {\"type\": \"circle\", \"color\": \"red\", \"size\": 50}, \"encoding\": {\"tooltip\": [{\"type\": \"nominal\", \"field\": \"Month\"}, {\"type\": \"nominal\", \"field\": \"Region\"}, {\"type\": \"quantitative\", \"field\": \"Fitted Mean NDVI\"}, {\"type\": \"quantitative\", \"field\": \"Residual\"}], \"x\": {\"type\": \"ordinal\", \"field\": \"Month\", \"sort\": [\"01/19\", \"02/19\", \"03/19\", \"04/19\", \"05/19\", \"06/19\", \"07/19\", \"08/19\", \"09/19\", \"10/19\", \"11/19\", \"12/19\", \"01/20\", \"02/20\", \"03/20\", \"04/20\", \"05/20\", \"06/20\", \"07/20\", \"08/20\", \"09/20\", \"10/20\", \"11/20\", \"12/20\", \"01/21\", \"02/21\", \"03/21\", \"04/21\", \"05/21\", \"06/21\", \"07/21\", \"08/21\", \"09/21\", \"10/21\", \"11/21\", \"12/21\", \"01/22\", \"02/22\", \"03/22\", \"04/22\", \"05/22\", \"06/22\", \"07/22\", \"08/22\", \"09/22\", \"10/22\", \"11/22\", \"12/22\"]}, \"y\": {\"type\": \"quantitative\", \"field\": \"Fitted Mean NDVI\"}}}], \"data\": {\"name\": \"data-646e9e7d6577ef3631d8a8c233520785\"}, \"height\": 300, \"title\": \"Masoala Fitted Monthly Mean NDVI\", \"width\": 500}, {\"layer\": [{\"mark\": {\"type\": \"line\", \"color\": \"#D159F2\"}, \"encoding\": {\"x\": {\"type\": \"ordinal\", \"field\": \"Month\", \"sort\": [\"01/19\", \"02/19\", \"03/19\", \"04/19\", \"05/19\", \"06/19\", \"07/19\", \"08/19\", \"09/19\", \"10/19\", \"11/19\", \"12/19\", \"01/20\", \"02/20\", \"03/20\", \"04/20\", \"05/20\", \"06/20\", \"07/20\", \"08/20\", \"09/20\", \"10/20\", \"11/20\", \"12/20\", \"01/21\", \"02/21\", \"03/21\", \"04/21\", \"05/21\", \"06/21\", \"07/21\", \"08/21\", \"09/21\", \"10/21\", \"11/21\", \"12/21\", \"01/22\", \"02/22\", \"03/22\", \"04/22\", \"05/22\", \"06/22\", \"07/22\", \"08/22\", \"09/22\", \"10/22\", \"11/22\", \"12/22\"]}, \"y\": {\"type\": \"quantitative\", \"field\": \"Mean NDVI (t)\"}}}, {\"mark\": {\"type\": \"circle\", \"color\": \"#D159F2\", \"size\": 50}, \"encoding\": {\"tooltip\": [{\"type\": \"nominal\", \"field\": \"Month\"}, {\"type\": \"nominal\", \"field\": \"Region\"}, {\"type\": \"quantitative\", \"field\": \"Mean NDVI (t)\"}], \"x\": {\"type\": \"ordinal\", \"field\": \"Month\", \"sort\": [\"01/19\", \"02/19\", \"03/19\", \"04/19\", \"05/19\", \"06/19\", \"07/19\", \"08/19\", \"09/19\", \"10/19\", \"11/19\", \"12/19\", \"01/20\", \"02/20\", \"03/20\", \"04/20\", \"05/20\", \"06/20\", \"07/20\", \"08/20\", \"09/20\", \"10/20\", \"11/20\", \"12/20\", \"01/21\", \"02/21\", \"03/21\", \"04/21\", \"05/21\", \"06/21\", \"07/21\", \"08/21\", \"09/21\", \"10/21\", \"11/21\", \"12/21\", \"01/22\", \"02/22\", \"03/22\", \"04/22\", \"05/22\", \"06/22\", \"07/22\", \"08/22\", \"09/22\", \"10/22\", \"11/22\", \"12/22\"]}, \"y\": {\"type\": \"quantitative\", \"field\": \"Mean NDVI (t)\"}}}, {\"mark\": {\"type\": \"line\", \"color\": \"red\"}, \"encoding\": {\"x\": {\"type\": \"ordinal\", \"field\": \"Month\", \"sort\": [\"01/19\", \"02/19\", \"03/19\", \"04/19\", \"05/19\", \"06/19\", \"07/19\", \"08/19\", \"09/19\", \"10/19\", \"11/19\", \"12/19\", \"01/20\", \"02/20\", \"03/20\", \"04/20\", \"05/20\", \"06/20\", \"07/20\", \"08/20\", \"09/20\", \"10/20\", \"11/20\", \"12/20\", \"01/21\", \"02/21\", \"03/21\", \"04/21\", \"05/21\", \"06/21\", \"07/21\", \"08/21\", \"09/21\", \"10/21\", \"11/21\", \"12/21\", \"01/22\", \"02/22\", \"03/22\", \"04/22\", \"05/22\", \"06/22\", \"07/22\", \"08/22\", \"09/22\", \"10/22\", \"11/22\", \"12/22\"]}, \"y\": {\"type\": \"quantitative\", \"field\": \"Fitted Mean NDVI\"}}}, {\"mark\": {\"type\": \"circle\", \"color\": \"red\", \"size\": 50}, \"encoding\": {\"tooltip\": [{\"type\": \"nominal\", \"field\": \"Month\"}, {\"type\": \"nominal\", \"field\": \"Region\"}, {\"type\": \"quantitative\", \"field\": \"Fitted Mean NDVI\"}, {\"type\": \"quantitative\", \"field\": \"Residual\"}], \"x\": {\"type\": \"ordinal\", \"field\": \"Month\", \"sort\": [\"01/19\", \"02/19\", \"03/19\", \"04/19\", \"05/19\", \"06/19\", \"07/19\", \"08/19\", \"09/19\", \"10/19\", \"11/19\", \"12/19\", \"01/20\", \"02/20\", \"03/20\", \"04/20\", \"05/20\", \"06/20\", \"07/20\", \"08/20\", \"09/20\", \"10/20\", \"11/20\", \"12/20\", \"01/21\", \"02/21\", \"03/21\", \"04/21\", \"05/21\", \"06/21\", \"07/21\", \"08/21\", \"09/21\", \"10/21\", \"11/21\", \"12/21\", \"01/22\", \"02/22\", \"03/22\", \"04/22\", \"05/22\", \"06/22\", \"07/22\", \"08/22\", \"09/22\", \"10/22\", \"11/22\", \"12/22\"]}, \"y\": {\"type\": \"quantitative\", \"field\": \"Fitted Mean NDVI\"}}}], \"data\": {\"name\": \"data-a80bb4de0925677bfeb3ef3643c0488b\"}, \"height\": 300, \"title\": \"Alan'Ankirisa Fitted Monthly Mean NDVI\", \"width\": 500}], \"$schema\": \"https://vega.github.io/schema/vega-lite/v4.8.1.json\", \"datasets\": {\"data-3eafaf9f8bcb2b317d523fdf836f86e7\": [{\"Month\": \"03/19\", \"Years Since Epoch (t)\": 49.2, \"Max NDVI\": 0.999, \"Mean NDVI (t)\": 0.803, \"Min NDVI\": -0.544, \"Region\": \"d'Andohahela\", \"Mean NDVI (t-1)\": 0.766, \"Mean NDVI (t-2)\": 0.764, \"Fitted Mean NDVI\": 0.754, \"Residual\": 0.049}, {\"Month\": \"04/19\", \"Years Since Epoch (t)\": 49.285, \"Max NDVI\": 0.999, \"Mean NDVI (t)\": 0.781, \"Min NDVI\": -0.543, \"Region\": \"d'Andohahela\", \"Mean NDVI (t-1)\": 0.803, \"Mean NDVI (t-2)\": 0.766, \"Fitted Mean NDVI\": 0.789, \"Residual\": -0.008}, {\"Month\": \"05/19\", \"Years Since Epoch (t)\": 49.367, \"Max NDVI\": 1.0, \"Mean NDVI (t)\": 0.797, \"Min NDVI\": -0.722, \"Region\": \"d'Andohahela\", \"Mean NDVI (t-1)\": 0.781, \"Mean NDVI (t-2)\": 0.803, \"Fitted Mean NDVI\": 0.759, \"Residual\": 0.038}, {\"Month\": \"06/19\", \"Years Since Epoch (t)\": 49.452, \"Max NDVI\": 0.999, \"Mean NDVI (t)\": 0.757, \"Min NDVI\": -0.951, \"Region\": \"d'Andohahela\", \"Mean NDVI (t-1)\": 0.797, \"Mean NDVI (t-2)\": 0.781, \"Fitted Mean NDVI\": 0.78, \"Residual\": -0.023}, {\"Month\": \"07/19\", \"Years Since Epoch (t)\": 49.534, \"Max NDVI\": 0.999, \"Mean NDVI (t)\": 0.771, \"Min NDVI\": -0.675, \"Region\": \"d'Andohahela\", \"Mean NDVI (t-1)\": 0.757, \"Mean NDVI (t-2)\": 0.797, \"Fitted Mean NDVI\": 0.737, \"Residual\": 0.034}, {\"Month\": \"08/19\", \"Years Since Epoch (t)\": 49.619, \"Max NDVI\": 0.997, \"Mean NDVI (t)\": 0.726, \"Min NDVI\": -0.521, \"Region\": \"d'Andohahela\", \"Mean NDVI (t-1)\": 0.771, \"Mean NDVI (t-2)\": 0.757, \"Fitted Mean NDVI\": 0.76, \"Residual\": -0.034}, {\"Month\": \"09/19\", \"Years Since Epoch (t)\": 49.704, \"Max NDVI\": 0.948, \"Mean NDVI (t)\": 0.71, \"Min NDVI\": -0.371, \"Region\": \"d'Andohahela\", \"Mean NDVI (t-1)\": 0.726, \"Mean NDVI (t-2)\": 0.771, \"Fitted Mean NDVI\": 0.713, \"Residual\": -0.003}, {\"Month\": \"10/19\", \"Years Since Epoch (t)\": 49.786, \"Max NDVI\": 0.925, \"Mean NDVI (t)\": 0.687, \"Min NDVI\": -0.453, \"Region\": \"d'Andohahela\", \"Mean NDVI (t-1)\": 0.71, \"Mean NDVI (t-2)\": 0.726, \"Fitted Mean NDVI\": 0.708, \"Residual\": -0.021}, {\"Month\": \"11/19\", \"Years Since Epoch (t)\": 49.871, \"Max NDVI\": 0.933, \"Mean NDVI (t)\": 0.704, \"Min NDVI\": -0.448, \"Region\": \"d'Andohahela\", \"Mean NDVI (t-1)\": 0.687, \"Mean NDVI (t-2)\": 0.71, \"Fitted Mean NDVI\": 0.69, \"Residual\": 0.014}, {\"Month\": \"12/19\", \"Years Since Epoch (t)\": 49.953, \"Max NDVI\": 0.951, \"Mean NDVI (t)\": 0.74, \"Min NDVI\": -0.491, \"Region\": \"d'Andohahela\", \"Mean NDVI (t-1)\": 0.704, \"Mean NDVI (t-2)\": 0.687, \"Fitted Mean NDVI\": 0.712, \"Residual\": 0.028}, {\"Month\": \"01/20\", \"Years Since Epoch (t)\": 50.038, \"Max NDVI\": 0.945, \"Mean NDVI (t)\": 0.709, \"Min NDVI\": -0.402, \"Region\": \"d'Andohahela\", \"Mean NDVI (t-1)\": 0.74, \"Mean NDVI (t-2)\": 0.704, \"Fitted Mean NDVI\": 0.743, \"Residual\": -0.034}, {\"Month\": \"02/20\", \"Years Since Epoch (t)\": 50.123, \"Max NDVI\": 0.995, \"Mean NDVI (t)\": 0.7, \"Min NDVI\": -0.984, \"Region\": \"d'Andohahela\", \"Mean NDVI (t-1)\": 0.709, \"Mean NDVI (t-2)\": 0.74, \"Fitted Mean NDVI\": 0.704, \"Residual\": -0.004}, {\"Month\": \"03/20\", \"Years Since Epoch (t)\": 50.202, \"Max NDVI\": 0.965, \"Mean NDVI (t)\": 0.719, \"Min NDVI\": -0.603, \"Region\": \"d'Andohahela\", \"Mean NDVI (t-1)\": 0.7, \"Mean NDVI (t-2)\": 0.709, \"Fitted Mean NDVI\": 0.703, \"Residual\": 0.016}, {\"Month\": \"04/20\", \"Years Since Epoch (t)\": 50.287, \"Max NDVI\": 0.999, \"Mean NDVI (t)\": 0.801, \"Min NDVI\": -0.58, \"Region\": \"d'Andohahela\", \"Mean NDVI (t-1)\": 0.719, \"Mean NDVI (t-2)\": 0.7, \"Fitted Mean NDVI\": 0.724, \"Residual\": 0.077}, {\"Month\": \"05/20\", \"Years Since Epoch (t)\": 50.369, \"Max NDVI\": 0.999, \"Mean NDVI (t)\": 0.778, \"Min NDVI\": -0.487, \"Region\": \"d'Andohahela\", \"Mean NDVI (t-1)\": 0.801, \"Mean NDVI (t-2)\": 0.719, \"Fitted Mean NDVI\": 0.799, \"Residual\": -0.021}, {\"Month\": \"06/20\", \"Years Since Epoch (t)\": 50.454, \"Max NDVI\": 0.999, \"Mean NDVI (t)\": 0.758, \"Min NDVI\": -0.48, \"Region\": \"d'Andohahela\", \"Mean NDVI (t-1)\": 0.778, \"Mean NDVI (t-2)\": 0.801, \"Fitted Mean NDVI\": 0.756, \"Residual\": 0.002}, {\"Month\": \"07/20\", \"Years Since Epoch (t)\": 50.536, \"Max NDVI\": 0.999, \"Mean NDVI (t)\": 0.744, \"Min NDVI\": -0.427, \"Region\": \"d'Andohahela\", \"Mean NDVI (t-1)\": 0.758, \"Mean NDVI (t-2)\": 0.778, \"Fitted Mean NDVI\": 0.742, \"Residual\": 0.002}, {\"Month\": \"08/20\", \"Years Since Epoch (t)\": 50.621, \"Max NDVI\": 0.998, \"Mean NDVI (t)\": 0.69, \"Min NDVI\": -0.405, \"Region\": \"d'Andohahela\", \"Mean NDVI (t-1)\": 0.744, \"Mean NDVI (t-2)\": 0.758, \"Fitted Mean NDVI\": 0.734, \"Residual\": -0.044}, {\"Month\": \"09/20\", \"Years Since Epoch (t)\": 50.706, \"Max NDVI\": 0.932, \"Mean NDVI (t)\": 0.671, \"Min NDVI\": -0.427, \"Region\": \"d'Andohahela\", \"Mean NDVI (t-1)\": 0.69, \"Mean NDVI (t-2)\": 0.744, \"Fitted Mean NDVI\": 0.684, \"Residual\": -0.013}, {\"Month\": \"10/20\", \"Years Since Epoch (t)\": 50.788, \"Max NDVI\": 0.916, \"Mean NDVI (t)\": 0.655, \"Min NDVI\": -0.378, \"Region\": \"d'Andohahela\", \"Mean NDVI (t-1)\": 0.671, \"Mean NDVI (t-2)\": 0.69, \"Fitted Mean NDVI\": 0.679, \"Residual\": -0.024}, {\"Month\": \"11/20\", \"Years Since Epoch (t)\": 50.873, \"Max NDVI\": 0.939, \"Mean NDVI (t)\": 0.673, \"Min NDVI\": -0.306, \"Region\": \"d'Andohahela\", \"Mean NDVI (t-1)\": 0.655, \"Mean NDVI (t-2)\": 0.671, \"Fitted Mean NDVI\": 0.668, \"Residual\": 0.005}, {\"Month\": \"12/20\", \"Years Since Epoch (t)\": 50.955, \"Max NDVI\": 0.956, \"Mean NDVI (t)\": 0.679, \"Min NDVI\": -0.269, \"Region\": \"d'Andohahela\", \"Mean NDVI (t-1)\": 0.673, \"Mean NDVI (t-2)\": 0.655, \"Fitted Mean NDVI\": 0.69, \"Residual\": -0.011}, {\"Month\": \"01/21\", \"Years Since Epoch (t)\": 51.04, \"Max NDVI\": 0.989, \"Mean NDVI (t)\": 0.696, \"Min NDVI\": -0.471, \"Region\": \"d'Andohahela\", \"Mean NDVI (t-1)\": 0.679, \"Mean NDVI (t-2)\": 0.673, \"Fitted Mean NDVI\": 0.691, \"Residual\": 0.005}, {\"Month\": \"02/21\", \"Years Since Epoch (t)\": 51.125, \"Max NDVI\": 0.975, \"Mean NDVI (t)\": 0.714, \"Min NDVI\": -0.435, \"Region\": \"d'Andohahela\", \"Mean NDVI (t-1)\": 0.696, \"Mean NDVI (t-2)\": 0.679, \"Fitted Mean NDVI\": 0.706, \"Residual\": 0.008}, {\"Month\": \"03/21\", \"Years Since Epoch (t)\": 51.202, \"Max NDVI\": 0.999, \"Mean NDVI (t)\": 0.762, \"Min NDVI\": -0.491, \"Region\": \"d'Andohahela\", \"Mean NDVI (t-1)\": 0.714, \"Mean NDVI (t-2)\": 0.696, \"Fitted Mean NDVI\": 0.72, \"Residual\": 0.042}, {\"Month\": \"04/21\", \"Years Since Epoch (t)\": 51.286, \"Max NDVI\": 0.999, \"Mean NDVI (t)\": 0.773, \"Min NDVI\": -0.507, \"Region\": \"d'Andohahela\", \"Mean NDVI (t-1)\": 0.762, \"Mean NDVI (t-2)\": 0.714, \"Fitted Mean NDVI\": 0.762, \"Residual\": 0.011}, {\"Month\": \"05/21\", \"Years Since Epoch (t)\": 51.369, \"Max NDVI\": 0.999, \"Mean NDVI (t)\": 0.751, \"Min NDVI\": -0.459, \"Region\": \"d'Andohahela\", \"Mean NDVI (t-1)\": 0.773, \"Mean NDVI (t-2)\": 0.762, \"Fitted Mean NDVI\": 0.761, \"Residual\": -0.01}, {\"Month\": \"06/21\", \"Years Since Epoch (t)\": 51.453, \"Max NDVI\": 1.0, \"Mean NDVI (t)\": 0.768, \"Min NDVI\": -0.958, \"Region\": \"d'Andohahela\", \"Mean NDVI (t-1)\": 0.751, \"Mean NDVI (t-2)\": 0.773, \"Fitted Mean NDVI\": 0.737, \"Residual\": 0.031}, {\"Month\": \"07/21\", \"Years Since Epoch (t)\": 51.536, \"Max NDVI\": 1.0, \"Mean NDVI (t)\": 0.758, \"Min NDVI\": -0.99, \"Region\": \"d'Andohahela\", \"Mean NDVI (t-1)\": 0.768, \"Mean NDVI (t-2)\": 0.751, \"Fitted Mean NDVI\": 0.759, \"Residual\": -0.001}, {\"Month\": \"08/21\", \"Years Since Epoch (t)\": 51.62, \"Max NDVI\": 0.962, \"Mean NDVI (t)\": 0.7, \"Min NDVI\": -0.4, \"Region\": \"d'Andohahela\", \"Mean NDVI (t-1)\": 0.758, \"Mean NDVI (t-2)\": 0.768, \"Fitted Mean NDVI\": 0.745, \"Residual\": -0.045}, {\"Month\": \"09/21\", \"Years Since Epoch (t)\": 51.705, \"Max NDVI\": 0.938, \"Mean NDVI (t)\": 0.68, \"Min NDVI\": -0.396, \"Region\": \"d'Andohahela\", \"Mean NDVI (t-1)\": 0.7, \"Mean NDVI (t-2)\": 0.758, \"Fitted Mean NDVI\": 0.691, \"Residual\": -0.011}, {\"Month\": \"10/21\", \"Years Since Epoch (t)\": 51.788, \"Max NDVI\": 0.934, \"Mean NDVI (t)\": 0.632, \"Min NDVI\": -0.252, \"Region\": \"d'Andohahela\", \"Mean NDVI (t-1)\": 0.68, \"Mean NDVI (t-2)\": 0.7, \"Fitted Mean NDVI\": 0.686, \"Residual\": -0.054}], \"data-71d20fc1457caab8a8fc86de55361b93\": [{\"Month\": \"03/19\", \"Years Since Epoch (t)\": 49.2, \"Max NDVI\": 0.995, \"Mean NDVI (t)\": 0.815, \"Min NDVI\": -0.996, \"Region\": \"Midongy Betofaka\", \"Mean NDVI (t-1)\": 0.774, \"Mean NDVI (t-2)\": 0.791, \"Fitted Mean NDVI\": 0.769, \"Residual\": 0.046}, {\"Month\": \"04/19\", \"Years Since Epoch (t)\": 49.285, \"Max NDVI\": 0.996, \"Mean NDVI (t)\": 0.825, \"Min NDVI\": -0.705, \"Region\": \"Midongy Betofaka\", \"Mean NDVI (t-1)\": 0.815, \"Mean NDVI (t-2)\": 0.774, \"Fitted Mean NDVI\": 0.812, \"Residual\": 0.013}, {\"Month\": \"05/19\", \"Years Since Epoch (t)\": 49.367, \"Max NDVI\": 0.999, \"Mean NDVI (t)\": 0.835, \"Min NDVI\": -0.98, \"Region\": \"Midongy Betofaka\", \"Mean NDVI (t-1)\": 0.825, \"Mean NDVI (t-2)\": 0.815, \"Fitted Mean NDVI\": 0.811, \"Residual\": 0.024}, {\"Month\": \"06/19\", \"Years Since Epoch (t)\": 49.452, \"Max NDVI\": 0.999, \"Mean NDVI (t)\": 0.813, \"Min NDVI\": -0.976, \"Region\": \"Midongy Betofaka\", \"Mean NDVI (t-1)\": 0.835, \"Mean NDVI (t-2)\": 0.825, \"Fitted Mean NDVI\": 0.818, \"Residual\": -0.005}, {\"Month\": \"07/19\", \"Years Since Epoch (t)\": 49.534, \"Max NDVI\": 0.999, \"Mean NDVI (t)\": 0.826, \"Min NDVI\": -0.99, \"Region\": \"Midongy Betofaka\", \"Mean NDVI (t-1)\": 0.813, \"Mean NDVI (t-2)\": 0.835, \"Fitted Mean NDVI\": 0.795, \"Residual\": 0.031}, {\"Month\": \"08/19\", \"Years Since Epoch (t)\": 49.619, \"Max NDVI\": 0.962, \"Mean NDVI (t)\": 0.778, \"Min NDVI\": -0.632, \"Region\": \"Midongy Betofaka\", \"Mean NDVI (t-1)\": 0.826, \"Mean NDVI (t-2)\": 0.813, \"Fitted Mean NDVI\": 0.813, \"Residual\": -0.035}, {\"Month\": \"09/19\", \"Years Since Epoch (t)\": 49.704, \"Max NDVI\": 0.911, \"Mean NDVI (t)\": 0.721, \"Min NDVI\": -0.648, \"Region\": \"Midongy Betofaka\", \"Mean NDVI (t-1)\": 0.778, \"Mean NDVI (t-2)\": 0.826, \"Fitted Mean NDVI\": 0.764, \"Residual\": -0.043}, {\"Month\": \"10/19\", \"Years Since Epoch (t)\": 49.786, \"Max NDVI\": 0.919, \"Mean NDVI (t)\": 0.738, \"Min NDVI\": -0.87, \"Region\": \"Midongy Betofaka\", \"Mean NDVI (t-1)\": 0.721, \"Mean NDVI (t-2)\": 0.778, \"Fitted Mean NDVI\": 0.722, \"Residual\": 0.016}, {\"Month\": \"11/19\", \"Years Since Epoch (t)\": 49.871, \"Max NDVI\": 0.944, \"Mean NDVI (t)\": 0.757, \"Min NDVI\": -0.974, \"Region\": \"Midongy Betofaka\", \"Mean NDVI (t-1)\": 0.738, \"Mean NDVI (t-2)\": 0.721, \"Fitted Mean NDVI\": 0.753, \"Residual\": 0.004}, {\"Month\": \"12/19\", \"Years Since Epoch (t)\": 49.953, \"Max NDVI\": 0.999, \"Mean NDVI (t)\": 0.735, \"Min NDVI\": -0.768, \"Region\": \"Midongy Betofaka\", \"Mean NDVI (t-1)\": 0.757, \"Mean NDVI (t-2)\": 0.738, \"Fitted Mean NDVI\": 0.766, \"Residual\": -0.031}, {\"Month\": \"01/20\", \"Years Since Epoch (t)\": 50.038, \"Max NDVI\": 0.998, \"Mean NDVI (t)\": 0.766, \"Min NDVI\": -0.56, \"Region\": \"Midongy Betofaka\", \"Mean NDVI (t-1)\": 0.735, \"Mean NDVI (t-2)\": 0.757, \"Fitted Mean NDVI\": 0.741, \"Residual\": 0.025}, {\"Month\": \"02/20\", \"Years Since Epoch (t)\": 50.123, \"Max NDVI\": 0.972, \"Mean NDVI (t)\": 0.78, \"Min NDVI\": -0.979, \"Region\": \"Midongy Betofaka\", \"Mean NDVI (t-1)\": 0.766, \"Mean NDVI (t-2)\": 0.735, \"Fitted Mean NDVI\": 0.776, \"Residual\": 0.004}, {\"Month\": \"03/20\", \"Years Since Epoch (t)\": 50.202, \"Max NDVI\": 1.0, \"Mean NDVI (t)\": 0.809, \"Min NDVI\": -0.996, \"Region\": \"Midongy Betofaka\", \"Mean NDVI (t-1)\": 0.78, \"Mean NDVI (t-2)\": 0.766, \"Fitted Mean NDVI\": 0.781, \"Residual\": 0.028}, {\"Month\": \"04/20\", \"Years Since Epoch (t)\": 50.287, \"Max NDVI\": 0.999, \"Mean NDVI (t)\": 0.788, \"Min NDVI\": -0.992, \"Region\": \"Midongy Betofaka\", \"Mean NDVI (t-1)\": 0.809, \"Mean NDVI (t-2)\": 0.78, \"Fitted Mean NDVI\": 0.805, \"Residual\": -0.017}, {\"Month\": \"05/20\", \"Years Since Epoch (t)\": 50.369, \"Max NDVI\": 0.999, \"Mean NDVI (t)\": 0.819, \"Min NDVI\": -0.866, \"Region\": \"Midongy Betofaka\", \"Mean NDVI (t-1)\": 0.788, \"Mean NDVI (t-2)\": 0.809, \"Fitted Mean NDVI\": 0.778, \"Residual\": 0.041}, {\"Month\": \"06/20\", \"Years Since Epoch (t)\": 50.454, \"Max NDVI\": 0.999, \"Mean NDVI (t)\": 0.801, \"Min NDVI\": -0.606, \"Region\": \"Midongy Betofaka\", \"Mean NDVI (t-1)\": 0.819, \"Mean NDVI (t-2)\": 0.788, \"Fitted Mean NDVI\": 0.812, \"Residual\": -0.011}, {\"Month\": \"07/20\", \"Years Since Epoch (t)\": 50.536, \"Max NDVI\": 0.999, \"Mean NDVI (t)\": 0.797, \"Min NDVI\": -0.92, \"Region\": \"Midongy Betofaka\", \"Mean NDVI (t-1)\": 0.801, \"Mean NDVI (t-2)\": 0.819, \"Fitted Mean NDVI\": 0.788, \"Residual\": 0.009}, {\"Month\": \"08/20\", \"Years Since Epoch (t)\": 50.621, \"Max NDVI\": 0.999, \"Mean NDVI (t)\": 0.765, \"Min NDVI\": -0.993, \"Region\": \"Midongy Betofaka\", \"Mean NDVI (t-1)\": 0.797, \"Mean NDVI (t-2)\": 0.801, \"Fitted Mean NDVI\": 0.788, \"Residual\": -0.023}, {\"Month\": \"09/20\", \"Years Since Epoch (t)\": 50.706, \"Max NDVI\": 0.905, \"Mean NDVI (t)\": 0.714, \"Min NDVI\": -0.855, \"Region\": \"Midongy Betofaka\", \"Mean NDVI (t-1)\": 0.765, \"Mean NDVI (t-2)\": 0.797, \"Fitted Mean NDVI\": 0.759, \"Residual\": -0.045}, {\"Month\": \"10/20\", \"Years Since Epoch (t)\": 50.788, \"Max NDVI\": 0.915, \"Mean NDVI (t)\": 0.729, \"Min NDVI\": -0.64, \"Region\": \"Midongy Betofaka\", \"Mean NDVI (t-1)\": 0.714, \"Mean NDVI (t-2)\": 0.765, \"Fitted Mean NDVI\": 0.719, \"Residual\": 0.01}, {\"Month\": \"11/20\", \"Years Since Epoch (t)\": 50.873, \"Max NDVI\": 0.92, \"Mean NDVI (t)\": 0.718, \"Min NDVI\": -0.979, \"Region\": \"Midongy Betofaka\", \"Mean NDVI (t-1)\": 0.729, \"Mean NDVI (t-2)\": 0.714, \"Fitted Mean NDVI\": 0.746, \"Residual\": -0.028}, {\"Month\": \"12/20\", \"Years Since Epoch (t)\": 50.955, \"Max NDVI\": 0.929, \"Mean NDVI (t)\": 0.727, \"Min NDVI\": -0.605, \"Region\": \"Midongy Betofaka\", \"Mean NDVI (t-1)\": 0.718, \"Mean NDVI (t-2)\": 0.729, \"Fitted Mean NDVI\": 0.732, \"Residual\": -0.005}, {\"Month\": \"01/21\", \"Years Since Epoch (t)\": 51.04, \"Max NDVI\": 0.96, \"Mean NDVI (t)\": 0.786, \"Min NDVI\": -0.65, \"Region\": \"Midongy Betofaka\", \"Mean NDVI (t-1)\": 0.727, \"Mean NDVI (t-2)\": 0.718, \"Fitted Mean NDVI\": 0.743, \"Residual\": 0.043}, {\"Month\": \"02/21\", \"Years Since Epoch (t)\": 51.125, \"Max NDVI\": 0.999, \"Mean NDVI (t)\": 0.782, \"Min NDVI\": -0.646, \"Region\": \"Midongy Betofaka\", \"Mean NDVI (t-1)\": 0.786, \"Mean NDVI (t-2)\": 0.727, \"Fitted Mean NDVI\": 0.796, \"Residual\": -0.014}, {\"Month\": \"03/21\", \"Years Since Epoch (t)\": 51.202, \"Max NDVI\": 0.999, \"Mean NDVI (t)\": 0.792, \"Min NDVI\": -0.995, \"Region\": \"Midongy Betofaka\", \"Mean NDVI (t-1)\": 0.782, \"Mean NDVI (t-2)\": 0.786, \"Fitted Mean NDVI\": 0.778, \"Residual\": 0.014}, {\"Month\": \"04/21\", \"Years Since Epoch (t)\": 51.286, \"Max NDVI\": 0.998, \"Mean NDVI (t)\": 0.815, \"Min NDVI\": -0.754, \"Region\": \"Midongy Betofaka\", \"Mean NDVI (t-1)\": 0.792, \"Mean NDVI (t-2)\": 0.782, \"Fitted Mean NDVI\": 0.788, \"Residual\": 0.027}, {\"Month\": \"05/21\", \"Years Since Epoch (t)\": 51.369, \"Max NDVI\": 0.999, \"Mean NDVI (t)\": 0.806, \"Min NDVI\": -0.991, \"Region\": \"Midongy Betofaka\", \"Mean NDVI (t-1)\": 0.815, \"Mean NDVI (t-2)\": 0.792, \"Fitted Mean NDVI\": 0.808, \"Residual\": -0.002}, {\"Month\": \"06/21\", \"Years Since Epoch (t)\": 51.453, \"Max NDVI\": 1.0, \"Mean NDVI (t)\": 0.815, \"Min NDVI\": -0.992, \"Region\": \"Midongy Betofaka\", \"Mean NDVI (t-1)\": 0.806, \"Mean NDVI (t-2)\": 0.815, \"Fitted Mean NDVI\": 0.793, \"Residual\": 0.022}, {\"Month\": \"07/21\", \"Years Since Epoch (t)\": 51.536, \"Max NDVI\": 0.999, \"Mean NDVI (t)\": 0.787, \"Min NDVI\": -0.98, \"Region\": \"Midongy Betofaka\", \"Mean NDVI (t-1)\": 0.815, \"Mean NDVI (t-2)\": 0.806, \"Fitted Mean NDVI\": 0.804, \"Residual\": -0.017}, {\"Month\": \"08/21\", \"Years Since Epoch (t)\": 51.62, \"Max NDVI\": 0.99, \"Mean NDVI (t)\": 0.752, \"Min NDVI\": -0.864, \"Region\": \"Midongy Betofaka\", \"Mean NDVI (t-1)\": 0.787, \"Mean NDVI (t-2)\": 0.815, \"Fitted Mean NDVI\": 0.775, \"Residual\": -0.023}, {\"Month\": \"09/21\", \"Years Since Epoch (t)\": 51.705, \"Max NDVI\": 0.922, \"Mean NDVI (t)\": 0.724, \"Min NDVI\": -0.924, \"Region\": \"Midongy Betofaka\", \"Mean NDVI (t-1)\": 0.752, \"Mean NDVI (t-2)\": 0.787, \"Fitted Mean NDVI\": 0.749, \"Residual\": -0.025}, {\"Month\": \"10/21\", \"Years Since Epoch (t)\": 51.788, \"Max NDVI\": 0.914, \"Mean NDVI (t)\": 0.701, \"Min NDVI\": -0.984, \"Region\": \"Midongy Betofaka\", \"Mean NDVI (t-1)\": 0.724, \"Mean NDVI (t-2)\": 0.752, \"Fitted Mean NDVI\": 0.732, \"Residual\": -0.031}], \"data-514ce87b193aa3a65cc5502a4fcd66f3\": [{\"Month\": \"03/19\", \"Years Since Epoch (t)\": 49.2, \"Max NDVI\": 0.92, \"Mean NDVI (t)\": 0.516, \"Min NDVI\": -0.998, \"Region\": \"Tsimanampetsotsa\", \"Mean NDVI (t-1)\": 0.52, \"Mean NDVI (t-2)\": 0.503, \"Fitted Mean NDVI\": 0.485, \"Residual\": 0.031}, {\"Month\": \"04/19\", \"Years Since Epoch (t)\": 49.285, \"Max NDVI\": 0.937, \"Mean NDVI (t)\": 0.459, \"Min NDVI\": -0.891, \"Region\": \"Tsimanampetsotsa\", \"Mean NDVI (t-1)\": 0.516, \"Mean NDVI (t-2)\": 0.52, \"Fitted Mean NDVI\": 0.473, \"Residual\": -0.014}, {\"Month\": \"05/19\", \"Years Since Epoch (t)\": 49.367, \"Max NDVI\": 0.925, \"Mean NDVI (t)\": 0.436, \"Min NDVI\": -0.998, \"Region\": \"Tsimanampetsotsa\", \"Mean NDVI (t-1)\": 0.459, \"Mean NDVI (t-2)\": 0.516, \"Fitted Mean NDVI\": 0.403, \"Residual\": 0.033}, {\"Month\": \"06/19\", \"Years Since Epoch (t)\": 49.452, \"Max NDVI\": 0.999, \"Mean NDVI (t)\": 0.412, \"Min NDVI\": -0.999, \"Region\": \"Tsimanampetsotsa\", \"Mean NDVI (t-1)\": 0.436, \"Mean NDVI (t-2)\": 0.459, \"Fitted Mean NDVI\": 0.401, \"Residual\": 0.011}, {\"Month\": \"07/19\", \"Years Since Epoch (t)\": 49.534, \"Max NDVI\": 1.0, \"Mean NDVI (t)\": 0.403, \"Min NDVI\": -0.999, \"Region\": \"Tsimanampetsotsa\", \"Mean NDVI (t-1)\": 0.412, \"Mean NDVI (t-2)\": 0.436, \"Fitted Mean NDVI\": 0.381, \"Residual\": 0.022}, {\"Month\": \"08/19\", \"Years Since Epoch (t)\": 49.619, \"Max NDVI\": 0.999, \"Mean NDVI (t)\": 0.314, \"Min NDVI\": -0.999, \"Region\": \"Tsimanampetsotsa\", \"Mean NDVI (t-1)\": 0.403, \"Mean NDVI (t-2)\": 0.412, \"Fitted Mean NDVI\": 0.381, \"Residual\": -0.067}, {\"Month\": \"09/19\", \"Years Since Epoch (t)\": 49.704, \"Max NDVI\": 0.911, \"Mean NDVI (t)\": 0.271, \"Min NDVI\": -0.942, \"Region\": \"Tsimanampetsotsa\", \"Mean NDVI (t-1)\": 0.314, \"Mean NDVI (t-2)\": 0.403, \"Fitted Mean NDVI\": 0.274, \"Residual\": -0.003}, {\"Month\": \"10/19\", \"Years Since Epoch (t)\": 49.786, \"Max NDVI\": 0.925, \"Mean NDVI (t)\": 0.253, \"Min NDVI\": -0.999, \"Region\": \"Tsimanampetsotsa\", \"Mean NDVI (t-1)\": 0.271, \"Mean NDVI (t-2)\": 0.314, \"Fitted Mean NDVI\": 0.261, \"Residual\": -0.008}, {\"Month\": \"11/19\", \"Years Since Epoch (t)\": 49.871, \"Max NDVI\": 0.921, \"Mean NDVI (t)\": 0.359, \"Min NDVI\": -0.999, \"Region\": \"Tsimanampetsotsa\", \"Mean NDVI (t-1)\": 0.253, \"Mean NDVI (t-2)\": 0.271, \"Fitted Mean NDVI\": 0.258, \"Residual\": 0.101}, {\"Month\": \"12/19\", \"Years Since Epoch (t)\": 49.953, \"Max NDVI\": 0.957, \"Mean NDVI (t)\": 0.371, \"Min NDVI\": -0.999, \"Region\": \"Tsimanampetsotsa\", \"Mean NDVI (t-1)\": 0.359, \"Mean NDVI (t-2)\": 0.253, \"Fitted Mean NDVI\": 0.398, \"Residual\": -0.027}, {\"Month\": \"01/20\", \"Years Since Epoch (t)\": 50.038, \"Max NDVI\": 0.925, \"Mean NDVI (t)\": 0.379, \"Min NDVI\": -0.999, \"Region\": \"Tsimanampetsotsa\", \"Mean NDVI (t-1)\": 0.371, \"Mean NDVI (t-2)\": 0.359, \"Fitted Mean NDVI\": 0.365, \"Residual\": 0.014}, {\"Month\": \"02/20\", \"Years Since Epoch (t)\": 50.123, \"Max NDVI\": 0.909, \"Mean NDVI (t)\": 0.437, \"Min NDVI\": -0.999, \"Region\": \"Tsimanampetsotsa\", \"Mean NDVI (t-1)\": 0.379, \"Mean NDVI (t-2)\": 0.371, \"Fitted Mean NDVI\": 0.369, \"Residual\": 0.068}, {\"Month\": \"03/20\", \"Years Since Epoch (t)\": 50.202, \"Max NDVI\": 0.884, \"Mean NDVI (t)\": 0.394, \"Min NDVI\": -0.971, \"Region\": \"Tsimanampetsotsa\", \"Mean NDVI (t-1)\": 0.437, \"Mean NDVI (t-2)\": 0.379, \"Fitted Mean NDVI\": 0.438, \"Residual\": -0.044}, {\"Month\": \"04/20\", \"Years Since Epoch (t)\": 50.287, \"Max NDVI\": 0.944, \"Mean NDVI (t)\": 0.403, \"Min NDVI\": -0.986, \"Region\": \"Tsimanampetsotsa\", \"Mean NDVI (t-1)\": 0.394, \"Mean NDVI (t-2)\": 0.437, \"Fitted Mean NDVI\": 0.358, \"Residual\": 0.045}, {\"Month\": \"05/20\", \"Years Since Epoch (t)\": 50.369, \"Max NDVI\": 0.999, \"Mean NDVI (t)\": 0.394, \"Min NDVI\": -0.999, \"Region\": \"Tsimanampetsotsa\", \"Mean NDVI (t-1)\": 0.403, \"Mean NDVI (t-2)\": 0.394, \"Fitted Mean NDVI\": 0.389, \"Residual\": 0.005}, {\"Month\": \"06/20\", \"Years Since Epoch (t)\": 50.454, \"Max NDVI\": 0.999, \"Mean NDVI (t)\": 0.368, \"Min NDVI\": -0.999, \"Region\": \"Tsimanampetsotsa\", \"Mean NDVI (t-1)\": 0.394, \"Mean NDVI (t-2)\": 0.403, \"Fitted Mean NDVI\": 0.374, \"Residual\": -0.006}, {\"Month\": \"07/20\", \"Years Since Epoch (t)\": 50.536, \"Max NDVI\": 0.999, \"Mean NDVI (t)\": 0.318, \"Min NDVI\": -0.999, \"Region\": \"Tsimanampetsotsa\", \"Mean NDVI (t-1)\": 0.368, \"Mean NDVI (t-2)\": 0.394, \"Fitted Mean NDVI\": 0.345, \"Residual\": -0.027}, {\"Month\": \"08/20\", \"Years Since Epoch (t)\": 50.621, \"Max NDVI\": 0.946, \"Mean NDVI (t)\": 0.24, \"Min NDVI\": -0.999, \"Region\": \"Tsimanampetsotsa\", \"Mean NDVI (t-1)\": 0.318, \"Mean NDVI (t-2)\": 0.368, \"Fitted Mean NDVI\": 0.295, \"Residual\": -0.055}, {\"Month\": \"09/20\", \"Years Since Epoch (t)\": 50.706, \"Max NDVI\": 0.916, \"Mean NDVI (t)\": 0.225, \"Min NDVI\": -0.999, \"Region\": \"Tsimanampetsotsa\", \"Mean NDVI (t-1)\": 0.24, \"Mean NDVI (t-2)\": 0.318, \"Fitted Mean NDVI\": 0.221, \"Residual\": 0.004}, {\"Month\": \"10/20\", \"Years Since Epoch (t)\": 50.788, \"Max NDVI\": 0.907, \"Mean NDVI (t)\": 0.197, \"Min NDVI\": -0.999, \"Region\": \"Tsimanampetsotsa\", \"Mean NDVI (t-1)\": 0.225, \"Mean NDVI (t-2)\": 0.24, \"Fitted Mean NDVI\": 0.237, \"Residual\": -0.04}, {\"Month\": \"11/20\", \"Years Since Epoch (t)\": 50.873, \"Max NDVI\": 0.916, \"Mean NDVI (t)\": 0.193, \"Min NDVI\": -0.999, \"Region\": \"Tsimanampetsotsa\", \"Mean NDVI (t-1)\": 0.197, \"Mean NDVI (t-2)\": 0.225, \"Fitted Mean NDVI\": 0.209, \"Residual\": -0.016}, {\"Month\": \"12/20\", \"Years Since Epoch (t)\": 50.955, \"Max NDVI\": 0.996, \"Mean NDVI (t)\": 0.211, \"Min NDVI\": -0.999, \"Region\": \"Tsimanampetsotsa\", \"Mean NDVI (t-1)\": 0.193, \"Mean NDVI (t-2)\": 0.197, \"Fitted Mean NDVI\": 0.217, \"Residual\": -0.006}, {\"Month\": \"01/21\", \"Years Since Epoch (t)\": 51.04, \"Max NDVI\": 0.964, \"Mean NDVI (t)\": 0.257, \"Min NDVI\": -0.999, \"Region\": \"Tsimanampetsotsa\", \"Mean NDVI (t-1)\": 0.211, \"Mean NDVI (t-2)\": 0.193, \"Fitted Mean NDVI\": 0.241, \"Residual\": 0.016}, {\"Month\": \"02/21\", \"Years Since Epoch (t)\": 51.125, \"Max NDVI\": 0.93, \"Mean NDVI (t)\": 0.304, \"Min NDVI\": -0.999, \"Region\": \"Tsimanampetsotsa\", \"Mean NDVI (t-1)\": 0.257, \"Mean NDVI (t-2)\": 0.211, \"Fitted Mean NDVI\": 0.29, \"Residual\": 0.014}, {\"Month\": \"03/21\", \"Years Since Epoch (t)\": 51.202, \"Max NDVI\": 0.901, \"Mean NDVI (t)\": 0.425, \"Min NDVI\": -0.947, \"Region\": \"Tsimanampetsotsa\", \"Mean NDVI (t-1)\": 0.304, \"Mean NDVI (t-2)\": 0.257, \"Fitted Mean NDVI\": 0.328, \"Residual\": 0.097}, {\"Month\": \"04/21\", \"Years Since Epoch (t)\": 51.286, \"Max NDVI\": 1.0, \"Mean NDVI (t)\": 0.41, \"Min NDVI\": -0.999, \"Region\": \"Tsimanampetsotsa\", \"Mean NDVI (t-1)\": 0.425, \"Mean NDVI (t-2)\": 0.304, \"Fitted Mean NDVI\": 0.457, \"Residual\": -0.047}, {\"Month\": \"05/21\", \"Years Since Epoch (t)\": 51.369, \"Max NDVI\": 1.0, \"Mean NDVI (t)\": 0.405, \"Min NDVI\": -0.999, \"Region\": \"Tsimanampetsotsa\", \"Mean NDVI (t-1)\": 0.41, \"Mean NDVI (t-2)\": 0.425, \"Fitted Mean NDVI\": 0.384, \"Residual\": 0.021}, {\"Month\": \"06/21\", \"Years Since Epoch (t)\": 51.453, \"Max NDVI\": 1.0, \"Mean NDVI (t)\": 0.373, \"Min NDVI\": -0.999, \"Region\": \"Tsimanampetsotsa\", \"Mean NDVI (t-1)\": 0.405, \"Mean NDVI (t-2)\": 0.41, \"Fitted Mean NDVI\": 0.384, \"Residual\": -0.011}, {\"Month\": \"07/21\", \"Years Since Epoch (t)\": 51.536, \"Max NDVI\": 1.0, \"Mean NDVI (t)\": 0.321, \"Min NDVI\": -0.999, \"Region\": \"Tsimanampetsotsa\", \"Mean NDVI (t-1)\": 0.373, \"Mean NDVI (t-2)\": 0.405, \"Fitted Mean NDVI\": 0.347, \"Residual\": -0.026}, {\"Month\": \"08/21\", \"Years Since Epoch (t)\": 51.62, \"Max NDVI\": 0.999, \"Mean NDVI (t)\": 0.244, \"Min NDVI\": -0.999, \"Region\": \"Tsimanampetsotsa\", \"Mean NDVI (t-1)\": 0.321, \"Mean NDVI (t-2)\": 0.373, \"Fitted Mean NDVI\": 0.296, \"Residual\": -0.052}, {\"Month\": \"09/21\", \"Years Since Epoch (t)\": 51.705, \"Max NDVI\": 0.926, \"Mean NDVI (t)\": 0.209, \"Min NDVI\": -0.968, \"Region\": \"Tsimanampetsotsa\", \"Mean NDVI (t-1)\": 0.244, \"Mean NDVI (t-2)\": 0.321, \"Fitted Mean NDVI\": 0.224, \"Residual\": -0.015}, {\"Month\": \"10/21\", \"Years Since Epoch (t)\": 51.788, \"Max NDVI\": 0.934, \"Mean NDVI (t)\": 0.196, \"Min NDVI\": -0.999, \"Region\": \"Tsimanampetsotsa\", \"Mean NDVI (t-1)\": 0.209, \"Mean NDVI (t-2)\": 0.244, \"Fitted Mean NDVI\": 0.215, \"Residual\": -0.019}], \"data-5e9feab12ff4251b08f549f9b897067e\": [{\"Month\": \"03/19\", \"Years Since Epoch (t)\": 49.2, \"Max NDVI\": 0.999, \"Mean NDVI (t)\": 0.777, \"Min NDVI\": -0.663, \"Region\": \"d'Ankarafantsika\", \"Mean NDVI (t-1)\": 0.77, \"Mean NDVI (t-2)\": 0.737, \"Fitted Mean NDVI\": 0.75, \"Residual\": 0.027}, {\"Month\": \"04/19\", \"Years Since Epoch (t)\": 49.285, \"Max NDVI\": 0.999, \"Mean NDVI (t)\": 0.768, \"Min NDVI\": -0.614, \"Region\": \"d'Ankarafantsika\", \"Mean NDVI (t-1)\": 0.777, \"Mean NDVI (t-2)\": 0.77, \"Fitted Mean NDVI\": 0.745, \"Residual\": 0.023}, {\"Month\": \"05/19\", \"Years Since Epoch (t)\": 49.367, \"Max NDVI\": 0.993, \"Mean NDVI (t)\": 0.732, \"Min NDVI\": -0.499, \"Region\": \"d'Ankarafantsika\", \"Mean NDVI (t-1)\": 0.768, \"Mean NDVI (t-2)\": 0.777, \"Fitted Mean NDVI\": 0.732, \"Residual\": 0.0}, {\"Month\": \"06/19\", \"Years Since Epoch (t)\": 49.452, \"Max NDVI\": 0.999, \"Mean NDVI (t)\": 0.677, \"Min NDVI\": -0.526, \"Region\": \"d'Ankarafantsika\", \"Mean NDVI (t-1)\": 0.732, \"Mean NDVI (t-2)\": 0.768, \"Fitted Mean NDVI\": 0.694, \"Residual\": -0.017}, {\"Month\": \"07/19\", \"Years Since Epoch (t)\": 49.534, \"Max NDVI\": 0.988, \"Mean NDVI (t)\": 0.628, \"Min NDVI\": -0.345, \"Region\": \"d'Ankarafantsika\", \"Mean NDVI (t-1)\": 0.677, \"Mean NDVI (t-2)\": 0.732, \"Fitted Mean NDVI\": 0.645, \"Residual\": -0.017}, {\"Month\": \"08/19\", \"Years Since Epoch (t)\": 49.619, \"Max NDVI\": 0.994, \"Mean NDVI (t)\": 0.574, \"Min NDVI\": -0.328, \"Region\": \"d'Ankarafantsika\", \"Mean NDVI (t-1)\": 0.628, \"Mean NDVI (t-2)\": 0.677, \"Fitted Mean NDVI\": 0.611, \"Residual\": -0.037}, {\"Month\": \"09/19\", \"Years Since Epoch (t)\": 49.704, \"Max NDVI\": 0.909, \"Mean NDVI (t)\": 0.508, \"Min NDVI\": -0.32, \"Region\": \"d'Ankarafantsika\", \"Mean NDVI (t-1)\": 0.574, \"Mean NDVI (t-2)\": 0.628, \"Fitted Mean NDVI\": 0.568, \"Residual\": -0.06}, {\"Month\": \"10/19\", \"Years Since Epoch (t)\": 49.786, \"Max NDVI\": 0.877, \"Mean NDVI (t)\": 0.489, \"Min NDVI\": -0.175, \"Region\": \"d'Ankarafantsika\", \"Mean NDVI (t-1)\": 0.508, \"Mean NDVI (t-2)\": 0.574, \"Fitted Mean NDVI\": 0.514, \"Residual\": -0.025}, {\"Month\": \"11/19\", \"Years Since Epoch (t)\": 49.871, \"Max NDVI\": 0.999, \"Mean NDVI (t)\": 0.562, \"Min NDVI\": -0.345, \"Region\": \"d'Ankarafantsika\", \"Mean NDVI (t-1)\": 0.489, \"Mean NDVI (t-2)\": 0.508, \"Fitted Mean NDVI\": 0.518, \"Residual\": 0.044}, {\"Month\": \"12/19\", \"Years Since Epoch (t)\": 49.953, \"Max NDVI\": 0.962, \"Mean NDVI (t)\": 0.705, \"Min NDVI\": -0.338, \"Region\": \"d'Ankarafantsika\", \"Mean NDVI (t-1)\": 0.562, \"Mean NDVI (t-2)\": 0.489, \"Fitted Mean NDVI\": 0.61, \"Residual\": 0.095}, {\"Month\": \"01/20\", \"Years Since Epoch (t)\": 50.038, \"Max NDVI\": 0.921, \"Mean NDVI (t)\": 0.734, \"Min NDVI\": -0.373, \"Region\": \"d'Ankarafantsika\", \"Mean NDVI (t-1)\": 0.705, \"Mean NDVI (t-2)\": 0.562, \"Fitted Mean NDVI\": 0.745, \"Residual\": -0.011}, {\"Month\": \"02/20\", \"Years Since Epoch (t)\": 50.123, \"Max NDVI\": 0.998, \"Mean NDVI (t)\": 0.804, \"Min NDVI\": -0.54, \"Region\": \"d'Ankarafantsika\", \"Mean NDVI (t-1)\": 0.734, \"Mean NDVI (t-2)\": 0.705, \"Fitted Mean NDVI\": 0.721, \"Residual\": 0.083}, {\"Month\": \"03/20\", \"Years Since Epoch (t)\": 50.202, \"Max NDVI\": 0.999, \"Mean NDVI (t)\": 0.804, \"Min NDVI\": -0.68, \"Region\": \"d'Ankarafantsika\", \"Mean NDVI (t-1)\": 0.804, \"Mean NDVI (t-2)\": 0.734, \"Fitted Mean NDVI\": 0.79, \"Residual\": 0.014}, {\"Month\": \"04/20\", \"Years Since Epoch (t)\": 50.287, \"Max NDVI\": 0.955, \"Mean NDVI (t)\": 0.759, \"Min NDVI\": -0.431, \"Region\": \"d'Ankarafantsika\", \"Mean NDVI (t-1)\": 0.804, \"Mean NDVI (t-2)\": 0.804, \"Fitted Mean NDVI\": 0.762, \"Residual\": -0.003}, {\"Month\": \"05/20\", \"Years Since Epoch (t)\": 50.369, \"Max NDVI\": 0.942, \"Mean NDVI (t)\": 0.712, \"Min NDVI\": -0.458, \"Region\": \"d'Ankarafantsika\", \"Mean NDVI (t-1)\": 0.759, \"Mean NDVI (t-2)\": 0.804, \"Fitted Mean NDVI\": 0.711, \"Residual\": 0.001}, {\"Month\": \"06/20\", \"Years Since Epoch (t)\": 50.454, \"Max NDVI\": 0.982, \"Mean NDVI (t)\": 0.677, \"Min NDVI\": -0.388, \"Region\": \"d'Ankarafantsika\", \"Mean NDVI (t-1)\": 0.712, \"Mean NDVI (t-2)\": 0.759, \"Fitted Mean NDVI\": 0.675, \"Residual\": 0.002}, {\"Month\": \"07/20\", \"Years Since Epoch (t)\": 50.536, \"Max NDVI\": 0.955, \"Mean NDVI (t)\": 0.648, \"Min NDVI\": -0.387, \"Region\": \"d'Ankarafantsika\", \"Mean NDVI (t-1)\": 0.677, \"Mean NDVI (t-2)\": 0.712, \"Fitted Mean NDVI\": 0.653, \"Residual\": -0.005}, {\"Month\": \"08/20\", \"Years Since Epoch (t)\": 50.621, \"Max NDVI\": 0.956, \"Mean NDVI (t)\": 0.579, \"Min NDVI\": -0.527, \"Region\": \"d'Ankarafantsika\", \"Mean NDVI (t-1)\": 0.648, \"Mean NDVI (t-2)\": 0.677, \"Fitted Mean NDVI\": 0.634, \"Residual\": -0.055}, {\"Month\": \"09/20\", \"Years Since Epoch (t)\": 50.706, \"Max NDVI\": 0.894, \"Mean NDVI (t)\": 0.496, \"Min NDVI\": -0.24, \"Region\": \"d'Ankarafantsika\", \"Mean NDVI (t-1)\": 0.579, \"Mean NDVI (t-2)\": 0.648, \"Fitted Mean NDVI\": 0.566, \"Residual\": -0.07}, {\"Month\": \"10/20\", \"Years Since Epoch (t)\": 50.788, \"Max NDVI\": 0.998, \"Mean NDVI (t)\": 0.646, \"Min NDVI\": -0.322, \"Region\": \"d'Ankarafantsika\", \"Mean NDVI (t-1)\": 0.496, \"Mean NDVI (t-2)\": 0.579, \"Fitted Mean NDVI\": 0.498, \"Residual\": 0.148}, {\"Month\": \"11/20\", \"Years Since Epoch (t)\": 50.873, \"Max NDVI\": 0.903, \"Mean NDVI (t)\": 0.596, \"Min NDVI\": -0.282, \"Region\": \"d'Ankarafantsika\", \"Mean NDVI (t-1)\": 0.646, \"Mean NDVI (t-2)\": 0.496, \"Fitted Mean NDVI\": 0.703, \"Residual\": -0.107}, {\"Month\": \"12/20\", \"Years Since Epoch (t)\": 50.955, \"Max NDVI\": 0.999, \"Mean NDVI (t)\": 0.686, \"Min NDVI\": -0.501, \"Region\": \"d'Ankarafantsika\", \"Mean NDVI (t-1)\": 0.596, \"Mean NDVI (t-2)\": 0.646, \"Fitted Mean NDVI\": 0.586, \"Residual\": 0.1}, {\"Month\": \"01/21\", \"Years Since Epoch (t)\": 51.04, \"Max NDVI\": 0.999, \"Mean NDVI (t)\": 0.716, \"Min NDVI\": -0.513, \"Region\": \"d'Ankarafantsika\", \"Mean NDVI (t-1)\": 0.686, \"Mean NDVI (t-2)\": 0.596, \"Fitted Mean NDVI\": 0.71, \"Residual\": 0.006}, {\"Month\": \"02/21\", \"Years Since Epoch (t)\": 51.125, \"Max NDVI\": 0.999, \"Mean NDVI (t)\": 0.707, \"Min NDVI\": -0.42, \"Region\": \"d'Ankarafantsika\", \"Mean NDVI (t-1)\": 0.716, \"Mean NDVI (t-2)\": 0.686, \"Fitted Mean NDVI\": 0.708, \"Residual\": -0.001}, {\"Month\": \"03/21\", \"Years Since Epoch (t)\": 51.202, \"Max NDVI\": 0.998, \"Mean NDVI (t)\": 0.771, \"Min NDVI\": -0.511, \"Region\": \"d'Ankarafantsika\", \"Mean NDVI (t-1)\": 0.707, \"Mean NDVI (t-2)\": 0.716, \"Fitted Mean NDVI\": 0.686, \"Residual\": 0.085}, {\"Month\": \"04/21\", \"Years Since Epoch (t)\": 51.286, \"Max NDVI\": 0.962, \"Mean NDVI (t)\": 0.749, \"Min NDVI\": -0.459, \"Region\": \"d'Ankarafantsika\", \"Mean NDVI (t-1)\": 0.771, \"Mean NDVI (t-2)\": 0.707, \"Fitted Mean NDVI\": 0.763, \"Residual\": -0.014}, {\"Month\": \"05/21\", \"Years Since Epoch (t)\": 51.369, \"Max NDVI\": 0.924, \"Mean NDVI (t)\": 0.689, \"Min NDVI\": -0.501, \"Region\": \"d'Ankarafantsika\", \"Mean NDVI (t-1)\": 0.749, \"Mean NDVI (t-2)\": 0.771, \"Fitted Mean NDVI\": 0.712, \"Residual\": -0.023}, {\"Month\": \"06/21\", \"Years Since Epoch (t)\": 51.453, \"Max NDVI\": 0.949, \"Mean NDVI (t)\": 0.664, \"Min NDVI\": -0.449, \"Region\": \"d'Ankarafantsika\", \"Mean NDVI (t-1)\": 0.689, \"Mean NDVI (t-2)\": 0.749, \"Fitted Mean NDVI\": 0.652, \"Residual\": 0.012}, {\"Month\": \"07/21\", \"Years Since Epoch (t)\": 51.536, \"Max NDVI\": 0.993, \"Mean NDVI (t)\": 0.616, \"Min NDVI\": -0.311, \"Region\": \"d'Ankarafantsika\", \"Mean NDVI (t-1)\": 0.664, \"Mean NDVI (t-2)\": 0.689, \"Fitted Mean NDVI\": 0.647, \"Residual\": -0.031}, {\"Month\": \"08/21\", \"Years Since Epoch (t)\": 51.62, \"Max NDVI\": 0.946, \"Mean NDVI (t)\": 0.54, \"Min NDVI\": -0.336, \"Region\": \"d'Ankarafantsika\", \"Mean NDVI (t-1)\": 0.616, \"Mean NDVI (t-2)\": 0.664, \"Fitted Mean NDVI\": 0.602, \"Residual\": -0.062}, {\"Month\": \"09/21\", \"Years Since Epoch (t)\": 51.705, \"Max NDVI\": 0.954, \"Mean NDVI (t)\": 0.473, \"Min NDVI\": -0.357, \"Region\": \"d'Ankarafantsika\", \"Mean NDVI (t-1)\": 0.54, \"Mean NDVI (t-2)\": 0.616, \"Fitted Mean NDVI\": 0.534, \"Residual\": -0.061}, {\"Month\": \"10/21\", \"Years Since Epoch (t)\": 51.788, \"Max NDVI\": 0.954, \"Mean NDVI (t)\": 0.448, \"Min NDVI\": -0.248, \"Region\": \"d'Ankarafantsika\", \"Mean NDVI (t-1)\": 0.473, \"Mean NDVI (t-2)\": 0.54, \"Fitted Mean NDVI\": 0.487, \"Residual\": -0.039}], \"data-646e9e7d6577ef3631d8a8c233520785\": [{\"Month\": \"03/19\", \"Years Since Epoch (t)\": 49.2, \"Max NDVI\": 0.999, \"Mean NDVI (t)\": 0.578, \"Min NDVI\": -0.994, \"Region\": \"Masoala\", \"Mean NDVI (t-1)\": 0.469, \"Mean NDVI (t-2)\": 0.55, \"Fitted Mean NDVI\": 0.466, \"Residual\": 0.112}, {\"Month\": \"04/19\", \"Years Since Epoch (t)\": 49.285, \"Max NDVI\": 0.999, \"Mean NDVI (t)\": 0.451, \"Min NDVI\": -0.997, \"Region\": \"Masoala\", \"Mean NDVI (t-1)\": 0.578, \"Mean NDVI (t-2)\": 0.469, \"Fitted Mean NDVI\": 0.468, \"Residual\": -0.017}, {\"Month\": \"05/19\", \"Years Since Epoch (t)\": 49.367, \"Max NDVI\": 0.999, \"Mean NDVI (t)\": 0.566, \"Min NDVI\": -0.994, \"Region\": \"Masoala\", \"Mean NDVI (t-1)\": 0.451, \"Mean NDVI (t-2)\": 0.578, \"Fitted Mean NDVI\": 0.465, \"Residual\": 0.101}, {\"Month\": \"06/19\", \"Years Since Epoch (t)\": 49.452, \"Max NDVI\": 1.0, \"Mean NDVI (t)\": 0.443, \"Min NDVI\": -0.997, \"Region\": \"Masoala\", \"Mean NDVI (t-1)\": 0.566, \"Mean NDVI (t-2)\": 0.451, \"Fitted Mean NDVI\": 0.471, \"Residual\": -0.028}, {\"Month\": \"07/19\", \"Years Since Epoch (t)\": 49.534, \"Max NDVI\": 0.999, \"Mean NDVI (t)\": 0.35, \"Min NDVI\": -0.996, \"Region\": \"Masoala\", \"Mean NDVI (t-1)\": 0.443, \"Mean NDVI (t-2)\": 0.566, \"Fitted Mean NDVI\": 0.466, \"Residual\": -0.116}, {\"Month\": \"08/19\", \"Years Since Epoch (t)\": 49.619, \"Max NDVI\": 0.973, \"Mean NDVI (t)\": 0.439, \"Min NDVI\": -0.995, \"Region\": \"Masoala\", \"Mean NDVI (t-1)\": 0.35, \"Mean NDVI (t-2)\": 0.443, \"Fitted Mean NDVI\": 0.483, \"Residual\": -0.044}, {\"Month\": \"09/19\", \"Years Since Epoch (t)\": 49.704, \"Max NDVI\": 0.999, \"Mean NDVI (t)\": 0.515, \"Min NDVI\": -0.997, \"Region\": \"Masoala\", \"Mean NDVI (t-1)\": 0.439, \"Mean NDVI (t-2)\": 0.35, \"Fitted Mean NDVI\": 0.487, \"Residual\": 0.028}, {\"Month\": \"10/19\", \"Years Since Epoch (t)\": 49.786, \"Max NDVI\": 0.999, \"Mean NDVI (t)\": 0.477, \"Min NDVI\": -0.997, \"Region\": \"Masoala\", \"Mean NDVI (t-1)\": 0.515, \"Mean NDVI (t-2)\": 0.439, \"Fitted Mean NDVI\": 0.475, \"Residual\": 0.002}, {\"Month\": \"11/19\", \"Years Since Epoch (t)\": 49.871, \"Max NDVI\": 0.984, \"Mean NDVI (t)\": 0.5, \"Min NDVI\": -0.998, \"Region\": \"Masoala\", \"Mean NDVI (t-1)\": 0.477, \"Mean NDVI (t-2)\": 0.515, \"Fitted Mean NDVI\": 0.469, \"Residual\": 0.031}, {\"Month\": \"12/19\", \"Years Since Epoch (t)\": 49.953, \"Max NDVI\": 1.0, \"Mean NDVI (t)\": 0.474, \"Min NDVI\": -1.0, \"Region\": \"Masoala\", \"Mean NDVI (t-1)\": 0.5, \"Mean NDVI (t-2)\": 0.477, \"Fitted Mean NDVI\": 0.472, \"Residual\": 0.002}, {\"Month\": \"01/20\", \"Years Since Epoch (t)\": 50.038, \"Max NDVI\": 0.992, \"Mean NDVI (t)\": 0.4, \"Min NDVI\": -0.997, \"Region\": \"Masoala\", \"Mean NDVI (t-1)\": 0.474, \"Mean NDVI (t-2)\": 0.5, \"Fitted Mean NDVI\": 0.471, \"Residual\": -0.071}, {\"Month\": \"02/20\", \"Years Since Epoch (t)\": 50.123, \"Max NDVI\": 0.999, \"Mean NDVI (t)\": 0.549, \"Min NDVI\": -0.998, \"Region\": \"Masoala\", \"Mean NDVI (t-1)\": 0.4, \"Mean NDVI (t-2)\": 0.474, \"Fitted Mean NDVI\": 0.477, \"Residual\": 0.072}, {\"Month\": \"03/20\", \"Years Since Epoch (t)\": 50.202, \"Max NDVI\": 0.999, \"Mean NDVI (t)\": 0.456, \"Min NDVI\": -0.998, \"Region\": \"Masoala\", \"Mean NDVI (t-1)\": 0.549, \"Mean NDVI (t-2)\": 0.4, \"Fitted Mean NDVI\": 0.477, \"Residual\": -0.021}, {\"Month\": \"04/20\", \"Years Since Epoch (t)\": 50.287, \"Max NDVI\": 0.998, \"Mean NDVI (t)\": 0.349, \"Min NDVI\": -0.998, \"Region\": \"Masoala\", \"Mean NDVI (t-1)\": 0.456, \"Mean NDVI (t-2)\": 0.549, \"Fitted Mean NDVI\": 0.467, \"Residual\": -0.118}, {\"Month\": \"05/20\", \"Years Since Epoch (t)\": 50.369, \"Max NDVI\": 0.999, \"Mean NDVI (t)\": 0.539, \"Min NDVI\": -0.997, \"Region\": \"Masoala\", \"Mean NDVI (t-1)\": 0.349, \"Mean NDVI (t-2)\": 0.456, \"Fitted Mean NDVI\": 0.482, \"Residual\": 0.057}, {\"Month\": \"06/20\", \"Years Since Epoch (t)\": 50.454, \"Max NDVI\": 0.998, \"Mean NDVI (t)\": 0.45, \"Min NDVI\": -0.974, \"Region\": \"Masoala\", \"Mean NDVI (t-1)\": 0.539, \"Mean NDVI (t-2)\": 0.349, \"Fitted Mean NDVI\": 0.482, \"Residual\": -0.032}, {\"Month\": \"07/20\", \"Years Since Epoch (t)\": 50.536, \"Max NDVI\": 1.0, \"Mean NDVI (t)\": 0.446, \"Min NDVI\": -0.992, \"Region\": \"Masoala\", \"Mean NDVI (t-1)\": 0.45, \"Mean NDVI (t-2)\": 0.539, \"Fitted Mean NDVI\": 0.468, \"Residual\": -0.022}, {\"Month\": \"08/20\", \"Years Since Epoch (t)\": 50.621, \"Max NDVI\": 0.999, \"Mean NDVI (t)\": 0.294, \"Min NDVI\": -0.998, \"Region\": \"Masoala\", \"Mean NDVI (t-1)\": 0.446, \"Mean NDVI (t-2)\": 0.45, \"Fitted Mean NDVI\": 0.477, \"Residual\": -0.183}, {\"Month\": \"09/20\", \"Years Since Epoch (t)\": 50.706, \"Max NDVI\": 0.999, \"Mean NDVI (t)\": 0.441, \"Min NDVI\": -0.998, \"Region\": \"Masoala\", \"Mean NDVI (t-1)\": 0.294, \"Mean NDVI (t-2)\": 0.446, \"Fitted Mean NDVI\": 0.485, \"Residual\": -0.044}, {\"Month\": \"10/20\", \"Years Since Epoch (t)\": 50.788, \"Max NDVI\": 0.996, \"Mean NDVI (t)\": 0.51, \"Min NDVI\": -0.997, \"Region\": \"Masoala\", \"Mean NDVI (t-1)\": 0.441, \"Mean NDVI (t-2)\": 0.294, \"Fitted Mean NDVI\": 0.492, \"Residual\": 0.018}, {\"Month\": \"11/20\", \"Years Since Epoch (t)\": 50.873, \"Max NDVI\": 0.997, \"Mean NDVI (t)\": 0.561, \"Min NDVI\": -0.998, \"Region\": \"Masoala\", \"Mean NDVI (t-1)\": 0.51, \"Mean NDVI (t-2)\": 0.441, \"Fitted Mean NDVI\": 0.475, \"Residual\": 0.086}, {\"Month\": \"12/20\", \"Years Since Epoch (t)\": 50.955, \"Max NDVI\": 0.996, \"Mean NDVI (t)\": 0.491, \"Min NDVI\": -0.998, \"Region\": \"Masoala\", \"Mean NDVI (t-1)\": 0.561, \"Mean NDVI (t-2)\": 0.51, \"Fitted Mean NDVI\": 0.465, \"Residual\": 0.026}, {\"Month\": \"01/21\", \"Years Since Epoch (t)\": 51.04, \"Max NDVI\": 0.999, \"Mean NDVI (t)\": 0.487, \"Min NDVI\": -0.996, \"Region\": \"Masoala\", \"Mean NDVI (t-1)\": 0.491, \"Mean NDVI (t-2)\": 0.561, \"Fitted Mean NDVI\": 0.464, \"Residual\": 0.023}, {\"Month\": \"02/21\", \"Years Since Epoch (t)\": 51.125, \"Max NDVI\": 0.999, \"Mean NDVI (t)\": 0.422, \"Min NDVI\": -0.998, \"Region\": \"Masoala\", \"Mean NDVI (t-1)\": 0.487, \"Mean NDVI (t-2)\": 0.491, \"Fitted Mean NDVI\": 0.471, \"Residual\": -0.049}, {\"Month\": \"03/21\", \"Years Since Epoch (t)\": 51.202, \"Max NDVI\": 1.0, \"Mean NDVI (t)\": 0.523, \"Min NDVI\": -0.997, \"Region\": \"Masoala\", \"Mean NDVI (t-1)\": 0.422, \"Mean NDVI (t-2)\": 0.487, \"Fitted Mean NDVI\": 0.475, \"Residual\": 0.048}, {\"Month\": \"04/21\", \"Years Since Epoch (t)\": 51.286, \"Max NDVI\": 0.999, \"Mean NDVI (t)\": 0.531, \"Min NDVI\": -0.997, \"Region\": \"Masoala\", \"Mean NDVI (t-1)\": 0.523, \"Mean NDVI (t-2)\": 0.422, \"Fitted Mean NDVI\": 0.476, \"Residual\": 0.055}, {\"Month\": \"05/21\", \"Years Since Epoch (t)\": 51.369, \"Max NDVI\": 0.999, \"Mean NDVI (t)\": 0.549, \"Min NDVI\": -0.997, \"Region\": \"Masoala\", \"Mean NDVI (t-1)\": 0.531, \"Mean NDVI (t-2)\": 0.523, \"Fitted Mean NDVI\": 0.466, \"Residual\": 0.083}, {\"Month\": \"06/21\", \"Years Since Epoch (t)\": 51.453, \"Max NDVI\": 1.0, \"Mean NDVI (t)\": 0.368, \"Min NDVI\": -0.997, \"Region\": \"Masoala\", \"Mean NDVI (t-1)\": 0.549, \"Mean NDVI (t-2)\": 0.531, \"Fitted Mean NDVI\": 0.464, \"Residual\": -0.096}, {\"Month\": \"07/21\", \"Years Since Epoch (t)\": 51.536, \"Max NDVI\": 1.0, \"Mean NDVI (t)\": 0.477, \"Min NDVI\": -0.998, \"Region\": \"Masoala\", \"Mean NDVI (t-1)\": 0.368, \"Mean NDVI (t-2)\": 0.549, \"Fitted Mean NDVI\": 0.472, \"Residual\": 0.005}, {\"Month\": \"08/21\", \"Years Since Epoch (t)\": 51.62, \"Max NDVI\": 0.999, \"Mean NDVI (t)\": 0.481, \"Min NDVI\": -0.997, \"Region\": \"Masoala\", \"Mean NDVI (t-1)\": 0.477, \"Mean NDVI (t-2)\": 0.368, \"Fitted Mean NDVI\": 0.483, \"Residual\": -0.002}, {\"Month\": \"09/21\", \"Years Since Epoch (t)\": 51.705, \"Max NDVI\": 0.999, \"Mean NDVI (t)\": 0.454, \"Min NDVI\": -0.997, \"Region\": \"Masoala\", \"Mean NDVI (t-1)\": 0.481, \"Mean NDVI (t-2)\": 0.477, \"Fitted Mean NDVI\": 0.473, \"Residual\": -0.019}, {\"Month\": \"10/21\", \"Years Since Epoch (t)\": 51.788, \"Max NDVI\": 0.995, \"Mean NDVI (t)\": 0.587, \"Min NDVI\": -0.995, \"Region\": \"Masoala\", \"Mean NDVI (t-1)\": 0.454, \"Mean NDVI (t-2)\": 0.481, \"Fitted Mean NDVI\": 0.474, \"Residual\": 0.113}], \"data-a80bb4de0925677bfeb3ef3643c0488b\": [{\"Month\": \"03/19\", \"Years Since Epoch (t)\": 49.2, \"Max NDVI\": 0.937, \"Mean NDVI (t)\": 0.661, \"Min NDVI\": -0.636, \"Region\": \"Alan'Ankirisa\", \"Mean NDVI (t-1)\": 0.638, \"Mean NDVI (t-2)\": 0.577, \"Fitted Mean NDVI\": 0.638, \"Residual\": 0.023}, {\"Month\": \"04/19\", \"Years Since Epoch (t)\": 49.285, \"Max NDVI\": 0.958, \"Mean NDVI (t)\": 0.582, \"Min NDVI\": -0.534, \"Region\": \"Alan'Ankirisa\", \"Mean NDVI (t-1)\": 0.661, \"Mean NDVI (t-2)\": 0.638, \"Fitted Mean NDVI\": 0.622, \"Residual\": -0.04}, {\"Month\": \"05/19\", \"Years Since Epoch (t)\": 49.367, \"Max NDVI\": 0.999, \"Mean NDVI (t)\": 0.493, \"Min NDVI\": -0.601, \"Region\": \"Alan'Ankirisa\", \"Mean NDVI (t-1)\": 0.582, \"Mean NDVI (t-2)\": 0.661, \"Fitted Mean NDVI\": 0.484, \"Residual\": 0.009}, {\"Month\": \"06/19\", \"Years Since Epoch (t)\": 49.452, \"Max NDVI\": 0.959, \"Mean NDVI (t)\": 0.477, \"Min NDVI\": -0.658, \"Region\": \"Alan'Ankirisa\", \"Mean NDVI (t-1)\": 0.493, \"Mean NDVI (t-2)\": 0.582, \"Fitted Mean NDVI\": 0.414, \"Residual\": 0.063}, {\"Month\": \"07/19\", \"Years Since Epoch (t)\": 49.534, \"Max NDVI\": 0.893, \"Mean NDVI (t)\": 0.421, \"Min NDVI\": -0.639, \"Region\": \"Alan'Ankirisa\", \"Mean NDVI (t-1)\": 0.477, \"Mean NDVI (t-2)\": 0.493, \"Fitted Mean NDVI\": 0.463, \"Residual\": -0.042}, {\"Month\": \"08/19\", \"Years Since Epoch (t)\": 49.619, \"Max NDVI\": 0.916, \"Mean NDVI (t)\": 0.376, \"Min NDVI\": -0.999, \"Region\": \"Alan'Ankirisa\", \"Mean NDVI (t-1)\": 0.421, \"Mean NDVI (t-2)\": 0.477, \"Fitted Mean NDVI\": 0.392, \"Residual\": -0.016}, {\"Month\": \"09/19\", \"Years Since Epoch (t)\": 49.704, \"Max NDVI\": 0.878, \"Mean NDVI (t)\": 0.327, \"Min NDVI\": -0.657, \"Region\": \"Alan'Ankirisa\", \"Mean NDVI (t-1)\": 0.376, \"Mean NDVI (t-2)\": 0.421, \"Fitted Mean NDVI\": 0.37, \"Residual\": -0.043}, {\"Month\": \"10/19\", \"Years Since Epoch (t)\": 49.786, \"Max NDVI\": 0.863, \"Mean NDVI (t)\": 0.257, \"Min NDVI\": -0.504, \"Region\": \"Alan'Ankirisa\", \"Mean NDVI (t-1)\": 0.327, \"Mean NDVI (t-2)\": 0.376, \"Fitted Mean NDVI\": 0.333, \"Residual\": -0.076}, {\"Month\": \"11/19\", \"Years Since Epoch (t)\": 49.871, \"Max NDVI\": 0.98, \"Mean NDVI (t)\": 0.317, \"Min NDVI\": -0.513, \"Region\": \"Alan'Ankirisa\", \"Mean NDVI (t-1)\": 0.257, \"Mean NDVI (t-2)\": 0.327, \"Fitted Mean NDVI\": 0.267, \"Residual\": 0.05}, {\"Month\": \"12/19\", \"Years Since Epoch (t)\": 49.953, \"Max NDVI\": 0.943, \"Mean NDVI (t)\": 0.506, \"Min NDVI\": -0.662, \"Region\": \"Alan'Ankirisa\", \"Mean NDVI (t-1)\": 0.317, \"Mean NDVI (t-2)\": 0.257, \"Fitted Mean NDVI\": 0.416, \"Residual\": 0.09}, {\"Month\": \"01/20\", \"Years Since Epoch (t)\": 50.038, \"Max NDVI\": 0.968, \"Mean NDVI (t)\": 0.671, \"Min NDVI\": -0.803, \"Region\": \"Alan'Ankirisa\", \"Mean NDVI (t-1)\": 0.506, \"Mean NDVI (t-2)\": 0.317, \"Fitted Mean NDVI\": 0.652, \"Residual\": 0.019}, {\"Month\": \"02/20\", \"Years Since Epoch (t)\": 50.123, \"Max NDVI\": 0.999, \"Mean NDVI (t)\": 0.698, \"Min NDVI\": -0.996, \"Region\": \"Alan'Ankirisa\", \"Mean NDVI (t-1)\": 0.671, \"Mean NDVI (t-2)\": 0.506, \"Fitted Mean NDVI\": 0.746, \"Residual\": -0.048}, {\"Month\": \"03/20\", \"Years Since Epoch (t)\": 50.202, \"Max NDVI\": 0.942, \"Mean NDVI (t)\": 0.658, \"Min NDVI\": -0.784, \"Region\": \"Alan'Ankirisa\", \"Mean NDVI (t-1)\": 0.698, \"Mean NDVI (t-2)\": 0.671, \"Fitted Mean NDVI\": 0.651, \"Residual\": 0.007}, {\"Month\": \"04/20\", \"Years Since Epoch (t)\": 50.287, \"Max NDVI\": 0.924, \"Mean NDVI (t)\": 0.599, \"Min NDVI\": -0.547, \"Region\": \"Alan'Ankirisa\", \"Mean NDVI (t-1)\": 0.658, \"Mean NDVI (t-2)\": 0.698, \"Fitted Mean NDVI\": 0.568, \"Residual\": 0.031}, {\"Month\": \"05/20\", \"Years Since Epoch (t)\": 50.369, \"Max NDVI\": 0.999, \"Mean NDVI (t)\": 0.555, \"Min NDVI\": -0.732, \"Region\": \"Alan'Ankirisa\", \"Mean NDVI (t-1)\": 0.599, \"Mean NDVI (t-2)\": 0.658, \"Fitted Mean NDVI\": 0.512, \"Residual\": 0.043}, {\"Month\": \"06/20\", \"Years Since Epoch (t)\": 50.454, \"Max NDVI\": 0.94, \"Mean NDVI (t)\": 0.502, \"Min NDVI\": -0.742, \"Region\": \"Alan'Ankirisa\", \"Mean NDVI (t-1)\": 0.555, \"Mean NDVI (t-2)\": 0.599, \"Fitted Mean NDVI\": 0.494, \"Residual\": 0.008}, {\"Month\": \"07/20\", \"Years Since Epoch (t)\": 50.536, \"Max NDVI\": 0.94, \"Mean NDVI (t)\": 0.424, \"Min NDVI\": -0.999, \"Region\": \"Alan'Ankirisa\", \"Mean NDVI (t-1)\": 0.502, \"Mean NDVI (t-2)\": 0.555, \"Fitted Mean NDVI\": 0.45, \"Residual\": -0.026}, {\"Month\": \"08/20\", \"Years Since Epoch (t)\": 50.621, \"Max NDVI\": 0.894, \"Mean NDVI (t)\": 0.358, \"Min NDVI\": -0.604, \"Region\": \"Alan'Ankirisa\", \"Mean NDVI (t-1)\": 0.424, \"Mean NDVI (t-2)\": 0.502, \"Fitted Mean NDVI\": 0.376, \"Residual\": -0.018}, {\"Month\": \"09/20\", \"Years Since Epoch (t)\": 50.706, \"Max NDVI\": 0.862, \"Mean NDVI (t)\": 0.305, \"Min NDVI\": -0.587, \"Region\": \"Alan'Ankirisa\", \"Mean NDVI (t-1)\": 0.358, \"Mean NDVI (t-2)\": 0.424, \"Fitted Mean NDVI\": 0.34, \"Residual\": -0.035}, {\"Month\": \"10/20\", \"Years Since Epoch (t)\": 50.788, \"Max NDVI\": 0.873, \"Mean NDVI (t)\": 0.306, \"Min NDVI\": -0.463, \"Region\": \"Alan'Ankirisa\", \"Mean NDVI (t-1)\": 0.305, \"Mean NDVI (t-2)\": 0.358, \"Fitted Mean NDVI\": 0.314, \"Residual\": -0.008}, {\"Month\": \"11/20\", \"Years Since Epoch (t)\": 50.873, \"Max NDVI\": 0.863, \"Mean NDVI (t)\": 0.297, \"Min NDVI\": -0.433, \"Region\": \"Alan'Ankirisa\", \"Mean NDVI (t-1)\": 0.306, \"Mean NDVI (t-2)\": 0.305, \"Fitted Mean NDVI\": 0.359, \"Residual\": -0.062}, {\"Month\": \"12/20\", \"Years Since Epoch (t)\": 50.955, \"Max NDVI\": 0.982, \"Mean NDVI (t)\": 0.425, \"Min NDVI\": -0.479, \"Region\": \"Alan'Ankirisa\", \"Mean NDVI (t-1)\": 0.297, \"Mean NDVI (t-2)\": 0.306, \"Fitted Mean NDVI\": 0.345, \"Residual\": 0.08}, {\"Month\": \"01/21\", \"Years Since Epoch (t)\": 51.04, \"Max NDVI\": 0.952, \"Mean NDVI (t)\": 0.635, \"Min NDVI\": -0.824, \"Region\": \"Alan'Ankirisa\", \"Mean NDVI (t-1)\": 0.425, \"Mean NDVI (t-2)\": 0.297, \"Fitted Mean NDVI\": 0.546, \"Residual\": 0.089}, {\"Month\": \"02/21\", \"Years Since Epoch (t)\": 51.125, \"Max NDVI\": 0.931, \"Mean NDVI (t)\": 0.711, \"Min NDVI\": -0.554, \"Region\": \"Alan'Ankirisa\", \"Mean NDVI (t-1)\": 0.635, \"Mean NDVI (t-2)\": 0.425, \"Fitted Mean NDVI\": 0.759, \"Residual\": -0.048}, {\"Month\": \"03/21\", \"Years Since Epoch (t)\": 51.202, \"Max NDVI\": 0.984, \"Mean NDVI (t)\": 0.702, \"Min NDVI\": -0.768, \"Region\": \"Alan'Ankirisa\", \"Mean NDVI (t-1)\": 0.711, \"Mean NDVI (t-2)\": 0.635, \"Fitted Mean NDVI\": 0.701, \"Residual\": 0.001}, {\"Month\": \"04/21\", \"Years Since Epoch (t)\": 51.286, \"Max NDVI\": 0.927, \"Mean NDVI (t)\": 0.62, \"Min NDVI\": -0.68, \"Region\": \"Alan'Ankirisa\", \"Mean NDVI (t-1)\": 0.702, \"Mean NDVI (t-2)\": 0.711, \"Fitted Mean NDVI\": 0.624, \"Residual\": -0.004}, {\"Month\": \"05/21\", \"Years Since Epoch (t)\": 51.369, \"Max NDVI\": 0.931, \"Mean NDVI (t)\": 0.54, \"Min NDVI\": -0.614, \"Region\": \"Alan'Ankirisa\", \"Mean NDVI (t-1)\": 0.62, \"Mean NDVI (t-2)\": 0.702, \"Fitted Mean NDVI\": 0.507, \"Residual\": 0.033}, {\"Month\": \"06/21\", \"Years Since Epoch (t)\": 51.453, \"Max NDVI\": 0.931, \"Mean NDVI (t)\": 0.489, \"Min NDVI\": -0.657, \"Region\": \"Alan'Ankirisa\", \"Mean NDVI (t-1)\": 0.54, \"Mean NDVI (t-2)\": 0.62, \"Fitted Mean NDVI\": 0.454, \"Residual\": 0.035}, {\"Month\": \"07/21\", \"Years Since Epoch (t)\": 51.536, \"Max NDVI\": 0.938, \"Mean NDVI (t)\": 0.439, \"Min NDVI\": -0.998, \"Region\": \"Alan'Ankirisa\", \"Mean NDVI (t-1)\": 0.489, \"Mean NDVI (t-2)\": 0.54, \"Fitted Mean NDVI\": 0.443, \"Residual\": -0.004}, {\"Month\": \"08/21\", \"Years Since Epoch (t)\": 51.62, \"Max NDVI\": 0.884, \"Mean NDVI (t)\": 0.343, \"Min NDVI\": -0.648, \"Region\": \"Alan'Ankirisa\", \"Mean NDVI (t-1)\": 0.439, \"Mean NDVI (t-2)\": 0.489, \"Fitted Mean NDVI\": 0.409, \"Residual\": -0.066}, {\"Month\": \"09/21\", \"Years Since Epoch (t)\": 51.705, \"Max NDVI\": 0.901, \"Mean NDVI (t)\": 0.312, \"Min NDVI\": -0.734, \"Region\": \"Alan'Ankirisa\", \"Mean NDVI (t-1)\": 0.343, \"Mean NDVI (t-2)\": 0.439, \"Fitted Mean NDVI\": 0.305, \"Residual\": 0.007}, {\"Month\": \"10/21\", \"Years Since Epoch (t)\": 51.788, \"Max NDVI\": 0.869, \"Mean NDVI (t)\": 0.283, \"Min NDVI\": -0.7, \"Region\": \"Alan'Ankirisa\", \"Mean NDVI (t-1)\": 0.312, \"Mean NDVI (t-2)\": 0.343, \"Fitted Mean NDVI\": 0.337, \"Residual\": -0.054}]}}, {\"mode\": \"vega-lite\"});\n",
       "</script>"
      ],
      "text/plain": [
       "alt.VConcatChart(...)"
      ]
     },
     "execution_count": 23,
     "metadata": {},
     "output_type": "execute_result"
    }
   ],
   "source": [
    "# AR(2) models\n",
    "\n",
    "charts_3, mseAR = [], dict()\n",
    "\n",
    "for i in list(zip(df[\"Region\"].unique(), colors)):\n",
    "  dfSubset = df[df[\"Region\"] == i[0]]\n",
    "\n",
    "  dfSubset[\"Mean NDVI (t-1)\"] = dfSubset[\"Mean NDVI\"].shift(1)\n",
    "  dfSubset[\"Mean NDVI (t-2)\"] = dfSubset[\"Mean NDVI\"].shift(2)\n",
    "  dfSubset = dfSubset.rename(columns={\"Mean NDVI\": \"Mean NDVI (t)\"}  # drop first two observations with NaN's\n",
    "                    ).iloc[2:,].reset_index(drop=True)\n",
    "\n",
    "  trainFeatures = dfSubset[[\"Mean NDVI (t-1)\", \"Mean NDVI (t-2)\"]].values\n",
    "  target = dfSubset[\"Mean NDVI (t)\"].values.reshape(len(dfSubset), 1)\n",
    "\n",
    "  ar_2 = LinearRegression().fit(trainFeatures, target)  # AR(2) model\n",
    "\n",
    "  dfSubset[\"Fitted Mean NDVI\"] = np.round(ar_2.predict(trainFeatures), 3)\n",
    "  dfSubset[\"Residual\"] = np.round(target - ar_2.predict(trainFeatures), 3)\n",
    "  mseAR[i[0]] = np.mean(np.square(dfSubset[\"Residual\"]))\n",
    "\n",
    "  chart = alt.layer(alt.Chart(dfSubset).mark_line(color=i[1]\n",
    "                                      ).encode(x=alt.X(\"Month:O\",\n",
    "                                                        sort=formattedAxisDates),\n",
    "                                               y=\"Mean NDVI (t)\"),\n",
    "                    alt.Chart(dfSubset).mark_circle(color=i[1], size=50\n",
    "                                      ).encode(x=alt.X(\"Month:O\",\n",
    "                                                        sort=formattedAxisDates),\n",
    "                                               y=\"Mean NDVI (t)\",\n",
    "                                               tooltip=[\"Month\", \"Region\", \"Mean NDVI (t)\"]),\n",
    "                    alt.Chart(dfSubset).mark_line(color=\"red\"\n",
    "                                      ).encode(x=alt.X(\"Month:O\",\n",
    "                                                        sort=formattedAxisDates),\n",
    "                                               y=\"Fitted Mean NDVI\"),\n",
    "                    alt.Chart(dfSubset).mark_circle(color=\"red\", size=50\n",
    "                                      ).encode(x=alt.X(\"Month:O\",\n",
    "                                                        sort=formattedAxisDates),\n",
    "                                               y=\"Fitted Mean NDVI\",\n",
    "                                               tooltip=[\"Month\", \"Region\", \"Fitted Mean NDVI\", \"Residual\"]))\n",
    "\n",
    "  charts_3.append(chart.properties(title=\"{} Fitted Monthly Mean NDVI\".format(i[0]),\n",
    "                                   height=300, width=500))\n",
    "\n",
    "alt.vconcat(*charts_3)"
   ]
  },
  {
   "cell_type": "code",
   "execution_count": 24,
   "metadata": {
    "colab": {
     "base_uri": "https://localhost:8080/",
     "height": 237
    },
    "id": "-gpsNXwz1dZ1",
    "outputId": "c1ea76e1-b5c9-4b69-e7d0-e02eda13e7db"
   },
   "outputs": [
    {
     "data": {
      "text/html": [
       "<div>\n",
       "<style scoped>\n",
       "    .dataframe tbody tr th:only-of-type {\n",
       "        vertical-align: middle;\n",
       "    }\n",
       "\n",
       "    .dataframe tbody tr th {\n",
       "        vertical-align: top;\n",
       "    }\n",
       "\n",
       "    .dataframe thead th {\n",
       "        text-align: right;\n",
       "    }\n",
       "</style>\n",
       "<table border=\"1\" class=\"dataframe\">\n",
       "  <thead>\n",
       "    <tr style=\"text-align: right;\">\n",
       "      <th></th>\n",
       "      <th>Regions</th>\n",
       "      <th>Linear MSE</th>\n",
       "      <th>Harmonic MSE</th>\n",
       "      <th>AR(2) MSE</th>\n",
       "    </tr>\n",
       "  </thead>\n",
       "  <tbody>\n",
       "    <tr>\n",
       "      <th>0</th>\n",
       "      <td>d'Andohahela</td>\n",
       "      <td>0.001589</td>\n",
       "      <td>0.000385</td>\n",
       "      <td>0.000841</td>\n",
       "    </tr>\n",
       "    <tr>\n",
       "      <th>1</th>\n",
       "      <td>Midongy Betofaka</td>\n",
       "      <td>0.001260</td>\n",
       "      <td>0.000203</td>\n",
       "      <td>0.000659</td>\n",
       "    </tr>\n",
       "    <tr>\n",
       "      <th>2</th>\n",
       "      <td>Tsimanampetsotsa</td>\n",
       "      <td>0.005909</td>\n",
       "      <td>0.001512</td>\n",
       "      <td>0.001545</td>\n",
       "    </tr>\n",
       "    <tr>\n",
       "      <th>3</th>\n",
       "      <td>d'Ankarafantsika</td>\n",
       "      <td>0.008959</td>\n",
       "      <td>0.001233</td>\n",
       "      <td>0.002972</td>\n",
       "    </tr>\n",
       "    <tr>\n",
       "      <th>4</th>\n",
       "      <td>Masoala</td>\n",
       "      <td>0.004690</td>\n",
       "      <td>0.004158</td>\n",
       "      <td>0.004739</td>\n",
       "    </tr>\n",
       "    <tr>\n",
       "      <th>5</th>\n",
       "      <td>Alan'Ankirisa</td>\n",
       "      <td>0.019282</td>\n",
       "      <td>0.002053</td>\n",
       "      <td>0.002014</td>\n",
       "    </tr>\n",
       "  </tbody>\n",
       "</table>\n",
       "</div>"
      ],
      "text/plain": [
       "            Regions  Linear MSE  Harmonic MSE  AR(2) MSE\n",
       "0      d'Andohahela    0.001589      0.000385   0.000841\n",
       "1  Midongy Betofaka    0.001260      0.000203   0.000659\n",
       "2  Tsimanampetsotsa    0.005909      0.001512   0.001545\n",
       "3  d'Ankarafantsika    0.008959      0.001233   0.002972\n",
       "4           Masoala    0.004690      0.004158   0.004739\n",
       "5     Alan'Ankirisa    0.019282      0.002053   0.002014"
      ]
     },
     "execution_count": 24,
     "metadata": {},
     "output_type": "execute_result"
    }
   ],
   "source": [
    "# MSE for training month\n",
    "pd.DataFrame({\"Regions\": mseLinearMod.keys(),\n",
    "              \"Linear MSE\": mseLinearMod.values(),\n",
    "              \"Harmonic MSE\": mseHarmonicMod.values(),\n",
    "              \"AR(2) MSE\": mseAR.values()})"
   ]
  },
  {
   "cell_type": "code",
   "execution_count": 25,
   "metadata": {
    "id": "90MyyOnDv9iB"
   },
   "outputs": [],
   "source": [
    "regionGeometries = {}\n",
    "\n",
    "for i in feats.getInfo()[\"features\"]:\n",
    "  regionGeometries[i[\"properties\"][\"name\"]] = ee.Geometry(i[\"geometry\"])"
   ]
  },
  {
   "cell_type": "code",
   "execution_count": 26,
   "metadata": {
    "colab": {
     "base_uri": "https://localhost:8080/",
     "height": 1000
    },
    "id": "k2moEUXrYRbC",
    "outputId": "b38989cc-f0c9-4b85-a8f5-352024231ba0"
   },
   "outputs": [
    {
     "name": "stdout",
     "output_type": "stream",
     "text": [
      "2019-01-01 - 2019-02-01\n"
     ]
    },
    {
     "data": {
      "text/html": [
       "<div style=\"width:100%;\"><div style=\"position:relative;width:100%;height:0;padding-bottom:60%;\"><span style=\"color:#565656\">Make this Notebook Trusted to load map: File -> Trust Notebook</span><iframe src=\"about:blank\" style=\"position:absolute;width:100%;height:100%;left:0;top:0;border:none !important;\" data-html=%3C%21DOCTYPE%20html%3E%0A%3Chead%3E%20%20%20%20%0A%20%20%20%20%3Cmeta%20http-equiv%3D%22content-type%22%20content%3D%22text/html%3B%20charset%3DUTF-8%22%20/%3E%0A%20%20%20%20%0A%20%20%20%20%20%20%20%20%3Cscript%3E%0A%20%20%20%20%20%20%20%20%20%20%20%20L_NO_TOUCH%20%3D%20false%3B%0A%20%20%20%20%20%20%20%20%20%20%20%20L_DISABLE_3D%20%3D%20false%3B%0A%20%20%20%20%20%20%20%20%3C/script%3E%0A%20%20%20%20%0A%20%20%20%20%3Cstyle%3Ehtml%2C%20body%20%7Bwidth%3A%20100%25%3Bheight%3A%20100%25%3Bmargin%3A%200%3Bpadding%3A%200%3B%7D%3C/style%3E%0A%20%20%20%20%3Cstyle%3E%23map%20%7Bposition%3Aabsolute%3Btop%3A0%3Bbottom%3A0%3Bright%3A0%3Bleft%3A0%3B%7D%3C/style%3E%0A%20%20%20%20%3Cscript%20src%3D%22https%3A//cdn.jsdelivr.net/npm/leaflet%401.6.0/dist/leaflet.js%22%3E%3C/script%3E%0A%20%20%20%20%3Cscript%20src%3D%22https%3A//code.jquery.com/jquery-1.12.4.min.js%22%3E%3C/script%3E%0A%20%20%20%20%3Cscript%20src%3D%22https%3A//maxcdn.bootstrapcdn.com/bootstrap/3.2.0/js/bootstrap.min.js%22%3E%3C/script%3E%0A%20%20%20%20%3Cscript%20src%3D%22https%3A//cdnjs.cloudflare.com/ajax/libs/Leaflet.awesome-markers/2.0.2/leaflet.awesome-markers.js%22%3E%3C/script%3E%0A%20%20%20%20%3Clink%20rel%3D%22stylesheet%22%20href%3D%22https%3A//cdn.jsdelivr.net/npm/leaflet%401.6.0/dist/leaflet.css%22/%3E%0A%20%20%20%20%3Clink%20rel%3D%22stylesheet%22%20href%3D%22https%3A//maxcdn.bootstrapcdn.com/bootstrap/3.2.0/css/bootstrap.min.css%22/%3E%0A%20%20%20%20%3Clink%20rel%3D%22stylesheet%22%20href%3D%22https%3A//maxcdn.bootstrapcdn.com/bootstrap/3.2.0/css/bootstrap-theme.min.css%22/%3E%0A%20%20%20%20%3Clink%20rel%3D%22stylesheet%22%20href%3D%22https%3A//maxcdn.bootstrapcdn.com/font-awesome/4.6.3/css/font-awesome.min.css%22/%3E%0A%20%20%20%20%3Clink%20rel%3D%22stylesheet%22%20href%3D%22https%3A//cdnjs.cloudflare.com/ajax/libs/Leaflet.awesome-markers/2.0.2/leaflet.awesome-markers.css%22/%3E%0A%20%20%20%20%3Clink%20rel%3D%22stylesheet%22%20href%3D%22https%3A//cdn.jsdelivr.net/gh/python-visualization/folium/folium/templates/leaflet.awesome.rotate.min.css%22/%3E%0A%20%20%20%20%0A%20%20%20%20%20%20%20%20%20%20%20%20%3Cmeta%20name%3D%22viewport%22%20content%3D%22width%3Ddevice-width%2C%0A%20%20%20%20%20%20%20%20%20%20%20%20%20%20%20%20initial-scale%3D1.0%2C%20maximum-scale%3D1.0%2C%20user-scalable%3Dno%22%20/%3E%0A%20%20%20%20%20%20%20%20%20%20%20%20%3Cstyle%3E%0A%20%20%20%20%20%20%20%20%20%20%20%20%20%20%20%20%23map_34c42715cbdf4ccc899a081bd9fb2afd%20%7B%0A%20%20%20%20%20%20%20%20%20%20%20%20%20%20%20%20%20%20%20%20position%3A%20relative%3B%0A%20%20%20%20%20%20%20%20%20%20%20%20%20%20%20%20%20%20%20%20width%3A%20100.0%25%3B%0A%20%20%20%20%20%20%20%20%20%20%20%20%20%20%20%20%20%20%20%20height%3A%20100.0%25%3B%0A%20%20%20%20%20%20%20%20%20%20%20%20%20%20%20%20%20%20%20%20left%3A%200.0%25%3B%0A%20%20%20%20%20%20%20%20%20%20%20%20%20%20%20%20%20%20%20%20top%3A%200.0%25%3B%0A%20%20%20%20%20%20%20%20%20%20%20%20%20%20%20%20%7D%0A%20%20%20%20%20%20%20%20%20%20%20%20%3C/style%3E%0A%20%20%20%20%20%20%20%20%0A%3C/head%3E%0A%3Cbody%3E%20%20%20%20%0A%20%20%20%20%0A%20%20%20%20%20%20%20%20%20%20%20%20%3Cdiv%20class%3D%22folium-map%22%20id%3D%22map_34c42715cbdf4ccc899a081bd9fb2afd%22%20%3E%3C/div%3E%0A%20%20%20%20%20%20%20%20%0A%3C/body%3E%0A%3Cscript%3E%20%20%20%20%0A%20%20%20%20%0A%20%20%20%20%20%20%20%20%20%20%20%20var%20map_34c42715cbdf4ccc899a081bd9fb2afd%20%3D%20L.map%28%0A%20%20%20%20%20%20%20%20%20%20%20%20%20%20%20%20%22map_34c42715cbdf4ccc899a081bd9fb2afd%22%2C%0A%20%20%20%20%20%20%20%20%20%20%20%20%20%20%20%20%7B%0A%20%20%20%20%20%20%20%20%20%20%20%20%20%20%20%20%20%20%20%20center%3A%20%5B-18.203199246622674%2C%2046.779785%5D%2C%0A%20%20%20%20%20%20%20%20%20%20%20%20%20%20%20%20%20%20%20%20crs%3A%20L.CRS.EPSG3857%2C%0A%20%20%20%20%20%20%20%20%20%20%20%20%20%20%20%20%20%20%20%20zoom%3A%205.6%2C%0A%20%20%20%20%20%20%20%20%20%20%20%20%20%20%20%20%20%20%20%20zoomControl%3A%20true%2C%0A%20%20%20%20%20%20%20%20%20%20%20%20%20%20%20%20%20%20%20%20preferCanvas%3A%20false%2C%0A%20%20%20%20%20%20%20%20%20%20%20%20%20%20%20%20%7D%0A%20%20%20%20%20%20%20%20%20%20%20%20%29%3B%0A%0A%20%20%20%20%20%20%20%20%20%20%20%20%0A%0A%20%20%20%20%20%20%20%20%0A%20%20%20%20%0A%20%20%20%20%20%20%20%20%20%20%20%20var%20tile_layer_72d64bce1f88438180514b5c568ae0b1%20%3D%20L.tileLayer%28%0A%20%20%20%20%20%20%20%20%20%20%20%20%20%20%20%20%22https%3A//%7Bs%7D.tile.openstreetmap.org/%7Bz%7D/%7Bx%7D/%7By%7D.png%22%2C%0A%20%20%20%20%20%20%20%20%20%20%20%20%20%20%20%20%7B%22attribution%22%3A%20%22Data%20by%20%5Cu0026copy%3B%20%5Cu003ca%20href%3D%5C%22http%3A//openstreetmap.org%5C%22%5Cu003eOpenStreetMap%5Cu003c/a%5Cu003e%2C%20under%20%5Cu003ca%20href%3D%5C%22http%3A//www.openstreetmap.org/copyright%5C%22%5Cu003eODbL%5Cu003c/a%5Cu003e.%22%2C%20%22detectRetina%22%3A%20false%2C%20%22maxNativeZoom%22%3A%2018%2C%20%22maxZoom%22%3A%2018%2C%20%22minZoom%22%3A%200%2C%20%22noWrap%22%3A%20false%2C%20%22opacity%22%3A%201%2C%20%22subdomains%22%3A%20%22abc%22%2C%20%22tms%22%3A%20false%7D%0A%20%20%20%20%20%20%20%20%20%20%20%20%29.addTo%28map_34c42715cbdf4ccc899a081bd9fb2afd%29%3B%0A%20%20%20%20%20%20%20%20%0A%20%20%20%20%0A%20%20%20%20%20%20%20%20%20%20%20%20var%20tile_layer_ce46023115a2449ca1144336dad88ecb%20%3D%20L.tileLayer%28%0A%20%20%20%20%20%20%20%20%20%20%20%20%20%20%20%20%22https%3A//earthengine.googleapis.com/v1alpha/projects/earthengine-legacy/maps/07ad7b5ed86be60502d226b940f1e269-e01b8839ef29bdf5c4149b18fa991953/tiles/%7Bz%7D/%7Bx%7D/%7By%7D%22%2C%0A%20%20%20%20%20%20%20%20%20%20%20%20%20%20%20%20%7B%22attribution%22%3A%20%22Map%20Data%20%5Cu0026copy%3B%20%5Cu003ca%20href%3D%5C%22https%3A//earthengine.google.com/%5C%22%5Cu003eGoogle%20Earth%20Engine%5Cu003c/a%5Cu003e%22%2C%20%22detectRetina%22%3A%20false%2C%20%22maxNativeZoom%22%3A%2018%2C%20%22maxZoom%22%3A%2018%2C%20%22minZoom%22%3A%200%2C%20%22noWrap%22%3A%20false%2C%20%22opacity%22%3A%201%2C%20%22subdomains%22%3A%20%22abc%22%2C%20%22tms%22%3A%20false%7D%0A%20%20%20%20%20%20%20%20%20%20%20%20%29.addTo%28map_34c42715cbdf4ccc899a081bd9fb2afd%29%3B%0A%20%20%20%20%20%20%20%20%0A%20%20%20%20%0A%20%20%20%20%20%20%20%20%20%20%20%20var%20tile_layer_928f040317564b46a4b26d77d065e1bf%20%3D%20L.tileLayer%28%0A%20%20%20%20%20%20%20%20%20%20%20%20%20%20%20%20%22https%3A//earthengine.googleapis.com/v1alpha/projects/earthengine-legacy/maps/f33d8220acc3d1c964e02621d57f7cce-0ca95889c9dfaf7c63480b7dfba037b2/tiles/%7Bz%7D/%7Bx%7D/%7By%7D%22%2C%0A%20%20%20%20%20%20%20%20%20%20%20%20%20%20%20%20%7B%22attribution%22%3A%20%22Map%20Data%20%5Cu0026copy%3B%20%5Cu003ca%20href%3D%5C%22https%3A//earthengine.google.com/%5C%22%5Cu003eGoogle%20Earth%20Engine%5Cu003c/a%5Cu003e%22%2C%20%22detectRetina%22%3A%20false%2C%20%22maxNativeZoom%22%3A%2018%2C%20%22maxZoom%22%3A%2018%2C%20%22minZoom%22%3A%200%2C%20%22noWrap%22%3A%20false%2C%20%22opacity%22%3A%201%2C%20%22subdomains%22%3A%20%22abc%22%2C%20%22tms%22%3A%20false%7D%0A%20%20%20%20%20%20%20%20%20%20%20%20%29.addTo%28map_34c42715cbdf4ccc899a081bd9fb2afd%29%3B%0A%20%20%20%20%20%20%20%20%0A%20%20%20%20%0A%20%20%20%20%20%20%20%20%20%20%20%20var%20tile_layer_627c3ae1511d47b59a1633bfaf6385a9%20%3D%20L.tileLayer%28%0A%20%20%20%20%20%20%20%20%20%20%20%20%20%20%20%20%22https%3A//earthengine.googleapis.com/v1alpha/projects/earthengine-legacy/maps/28c7491affb73a588cd74609e4b58d08-d89f1e6b7b03ba0ff964c6b24ef5b1a7/tiles/%7Bz%7D/%7Bx%7D/%7By%7D%22%2C%0A%20%20%20%20%20%20%20%20%20%20%20%20%20%20%20%20%7B%22attribution%22%3A%20%22Map%20Data%20%5Cu0026copy%3B%20%5Cu003ca%20href%3D%5C%22https%3A//earthengine.google.com/%5C%22%5Cu003eGoogle%20Earth%20Engine%5Cu003c/a%5Cu003e%22%2C%20%22detectRetina%22%3A%20false%2C%20%22maxNativeZoom%22%3A%2018%2C%20%22maxZoom%22%3A%2018%2C%20%22minZoom%22%3A%200%2C%20%22noWrap%22%3A%20false%2C%20%22opacity%22%3A%201%2C%20%22subdomains%22%3A%20%22abc%22%2C%20%22tms%22%3A%20false%7D%0A%20%20%20%20%20%20%20%20%20%20%20%20%29.addTo%28map_34c42715cbdf4ccc899a081bd9fb2afd%29%3B%0A%20%20%20%20%20%20%20%20%0A%20%20%20%20%0A%20%20%20%20%20%20%20%20%20%20%20%20var%20tile_layer_c833a47ee95d4b49b72a8c3a36d06412%20%3D%20L.tileLayer%28%0A%20%20%20%20%20%20%20%20%20%20%20%20%20%20%20%20%22https%3A//earthengine.googleapis.com/v1alpha/projects/earthengine-legacy/maps/3a6b77978c3179334321984f36782300-b6c40d73c3ae1e012b000c1714d4e613/tiles/%7Bz%7D/%7Bx%7D/%7By%7D%22%2C%0A%20%20%20%20%20%20%20%20%20%20%20%20%20%20%20%20%7B%22attribution%22%3A%20%22Map%20Data%20%5Cu0026copy%3B%20%5Cu003ca%20href%3D%5C%22https%3A//earthengine.google.com/%5C%22%5Cu003eGoogle%20Earth%20Engine%5Cu003c/a%5Cu003e%22%2C%20%22detectRetina%22%3A%20false%2C%20%22maxNativeZoom%22%3A%2018%2C%20%22maxZoom%22%3A%2018%2C%20%22minZoom%22%3A%200%2C%20%22noWrap%22%3A%20false%2C%20%22opacity%22%3A%201%2C%20%22subdomains%22%3A%20%22abc%22%2C%20%22tms%22%3A%20false%7D%0A%20%20%20%20%20%20%20%20%20%20%20%20%29.addTo%28map_34c42715cbdf4ccc899a081bd9fb2afd%29%3B%0A%20%20%20%20%20%20%20%20%0A%20%20%20%20%0A%20%20%20%20%20%20%20%20%20%20%20%20var%20tile_layer_9c7f8d31f3544742ba76f3ad3ea3ce4f%20%3D%20L.tileLayer%28%0A%20%20%20%20%20%20%20%20%20%20%20%20%20%20%20%20%22https%3A//earthengine.googleapis.com/v1alpha/projects/earthengine-legacy/maps/cf7fd5a7e3f686c8c776e7d6e8b0c8ea-e8b977644f7ac9b4918c15ceb665413c/tiles/%7Bz%7D/%7Bx%7D/%7By%7D%22%2C%0A%20%20%20%20%20%20%20%20%20%20%20%20%20%20%20%20%7B%22attribution%22%3A%20%22Map%20Data%20%5Cu0026copy%3B%20%5Cu003ca%20href%3D%5C%22https%3A//earthengine.google.com/%5C%22%5Cu003eGoogle%20Earth%20Engine%5Cu003c/a%5Cu003e%22%2C%20%22detectRetina%22%3A%20false%2C%20%22maxNativeZoom%22%3A%2018%2C%20%22maxZoom%22%3A%2018%2C%20%22minZoom%22%3A%200%2C%20%22noWrap%22%3A%20false%2C%20%22opacity%22%3A%201%2C%20%22subdomains%22%3A%20%22abc%22%2C%20%22tms%22%3A%20false%7D%0A%20%20%20%20%20%20%20%20%20%20%20%20%29.addTo%28map_34c42715cbdf4ccc899a081bd9fb2afd%29%3B%0A%20%20%20%20%20%20%20%20%0A%20%20%20%20%0A%20%20%20%20%20%20%20%20%20%20%20%20var%20tile_layer_94f833964cf8487aa40e8bd0827f1710%20%3D%20L.tileLayer%28%0A%20%20%20%20%20%20%20%20%20%20%20%20%20%20%20%20%22https%3A//earthengine.googleapis.com/v1alpha/projects/earthengine-legacy/maps/1b5acad23cb5a970eb627d77ff85cfd5-89f76abcc309689e3c366e9dd9ed652c/tiles/%7Bz%7D/%7Bx%7D/%7By%7D%22%2C%0A%20%20%20%20%20%20%20%20%20%20%20%20%20%20%20%20%7B%22attribution%22%3A%20%22Map%20Data%20%5Cu0026copy%3B%20%5Cu003ca%20href%3D%5C%22https%3A//earthengine.google.com/%5C%22%5Cu003eGoogle%20Earth%20Engine%5Cu003c/a%5Cu003e%22%2C%20%22detectRetina%22%3A%20false%2C%20%22maxNativeZoom%22%3A%2018%2C%20%22maxZoom%22%3A%2018%2C%20%22minZoom%22%3A%200%2C%20%22noWrap%22%3A%20false%2C%20%22opacity%22%3A%201%2C%20%22subdomains%22%3A%20%22abc%22%2C%20%22tms%22%3A%20false%7D%0A%20%20%20%20%20%20%20%20%20%20%20%20%29.addTo%28map_34c42715cbdf4ccc899a081bd9fb2afd%29%3B%0A%20%20%20%20%20%20%20%20%0A%20%20%20%20%0A%20%20%20%20%20%20%20%20%20%20%20%20var%20layer_control_ed19afd2f78d407889052ed93b5fa378%20%3D%20%7B%0A%20%20%20%20%20%20%20%20%20%20%20%20%20%20%20%20base_layers%20%3A%20%7B%0A%20%20%20%20%20%20%20%20%20%20%20%20%20%20%20%20%20%20%20%20%22openstreetmap%22%20%3A%20tile_layer_72d64bce1f88438180514b5c568ae0b1%2C%0A%20%20%20%20%20%20%20%20%20%20%20%20%20%20%20%20%7D%2C%0A%20%20%20%20%20%20%20%20%20%20%20%20%20%20%20%20overlays%20%3A%20%20%7B%0A%20%20%20%20%20%20%20%20%20%20%20%20%20%20%20%20%20%20%20%20%22d%5Cu0027Andohahela%20Fitted%20NDVI%22%20%3A%20tile_layer_ce46023115a2449ca1144336dad88ecb%2C%0A%20%20%20%20%20%20%20%20%20%20%20%20%20%20%20%20%20%20%20%20%22Midongy%20Betofaka%20Fitted%20NDVI%22%20%3A%20tile_layer_928f040317564b46a4b26d77d065e1bf%2C%0A%20%20%20%20%20%20%20%20%20%20%20%20%20%20%20%20%20%20%20%20%22Tsimanampetsotsa%20Fitted%20NDVI%22%20%3A%20tile_layer_627c3ae1511d47b59a1633bfaf6385a9%2C%0A%20%20%20%20%20%20%20%20%20%20%20%20%20%20%20%20%20%20%20%20%22d%5Cu0027Ankarafantsika%20Fitted%20NDVI%22%20%3A%20tile_layer_c833a47ee95d4b49b72a8c3a36d06412%2C%0A%20%20%20%20%20%20%20%20%20%20%20%20%20%20%20%20%20%20%20%20%22Masoala%20Fitted%20NDVI%22%20%3A%20tile_layer_9c7f8d31f3544742ba76f3ad3ea3ce4f%2C%0A%20%20%20%20%20%20%20%20%20%20%20%20%20%20%20%20%20%20%20%20%22Alan%5Cu0027Ankirisa%20Fitted%20NDVI%22%20%3A%20tile_layer_94f833964cf8487aa40e8bd0827f1710%2C%0A%20%20%20%20%20%20%20%20%20%20%20%20%20%20%20%20%7D%2C%0A%20%20%20%20%20%20%20%20%20%20%20%20%7D%3B%0A%20%20%20%20%20%20%20%20%20%20%20%20L.control.layers%28%0A%20%20%20%20%20%20%20%20%20%20%20%20%20%20%20%20layer_control_ed19afd2f78d407889052ed93b5fa378.base_layers%2C%0A%20%20%20%20%20%20%20%20%20%20%20%20%20%20%20%20layer_control_ed19afd2f78d407889052ed93b5fa378.overlays%2C%0A%20%20%20%20%20%20%20%20%20%20%20%20%20%20%20%20%7B%22autoZIndex%22%3A%20true%2C%20%22collapsed%22%3A%20true%2C%20%22position%22%3A%20%22topright%22%7D%0A%20%20%20%20%20%20%20%20%20%20%20%20%29.addTo%28map_34c42715cbdf4ccc899a081bd9fb2afd%29%3B%0A%20%20%20%20%20%20%20%20%0A%3C/script%3E onload=\"this.contentDocument.open();this.contentDocument.write(    decodeURIComponent(this.getAttribute('data-html')));this.contentDocument.close();\" allowfullscreen webkitallowfullscreen mozallowfullscreen></iframe></div></div>"
      ],
      "text/plain": [
       "<folium.folium.Map at 0x13e5015b0>"
      ]
     },
     "metadata": {},
     "output_type": "display_data"
    },
    {
     "name": "stdout",
     "output_type": "stream",
     "text": [
      "\n",
      " \n",
      "\n",
      "2019-02-01 - 2019-03-01\n"
     ]
    },
    {
     "data": {
      "text/html": [
       "<div style=\"width:100%;\"><div style=\"position:relative;width:100%;height:0;padding-bottom:60%;\"><span style=\"color:#565656\">Make this Notebook Trusted to load map: File -> Trust Notebook</span><iframe src=\"about:blank\" style=\"position:absolute;width:100%;height:100%;left:0;top:0;border:none !important;\" data-html=%3C%21DOCTYPE%20html%3E%0A%3Chead%3E%20%20%20%20%0A%20%20%20%20%3Cmeta%20http-equiv%3D%22content-type%22%20content%3D%22text/html%3B%20charset%3DUTF-8%22%20/%3E%0A%20%20%20%20%0A%20%20%20%20%20%20%20%20%3Cscript%3E%0A%20%20%20%20%20%20%20%20%20%20%20%20L_NO_TOUCH%20%3D%20false%3B%0A%20%20%20%20%20%20%20%20%20%20%20%20L_DISABLE_3D%20%3D%20false%3B%0A%20%20%20%20%20%20%20%20%3C/script%3E%0A%20%20%20%20%0A%20%20%20%20%3Cstyle%3Ehtml%2C%20body%20%7Bwidth%3A%20100%25%3Bheight%3A%20100%25%3Bmargin%3A%200%3Bpadding%3A%200%3B%7D%3C/style%3E%0A%20%20%20%20%3Cstyle%3E%23map%20%7Bposition%3Aabsolute%3Btop%3A0%3Bbottom%3A0%3Bright%3A0%3Bleft%3A0%3B%7D%3C/style%3E%0A%20%20%20%20%3Cscript%20src%3D%22https%3A//cdn.jsdelivr.net/npm/leaflet%401.6.0/dist/leaflet.js%22%3E%3C/script%3E%0A%20%20%20%20%3Cscript%20src%3D%22https%3A//code.jquery.com/jquery-1.12.4.min.js%22%3E%3C/script%3E%0A%20%20%20%20%3Cscript%20src%3D%22https%3A//maxcdn.bootstrapcdn.com/bootstrap/3.2.0/js/bootstrap.min.js%22%3E%3C/script%3E%0A%20%20%20%20%3Cscript%20src%3D%22https%3A//cdnjs.cloudflare.com/ajax/libs/Leaflet.awesome-markers/2.0.2/leaflet.awesome-markers.js%22%3E%3C/script%3E%0A%20%20%20%20%3Clink%20rel%3D%22stylesheet%22%20href%3D%22https%3A//cdn.jsdelivr.net/npm/leaflet%401.6.0/dist/leaflet.css%22/%3E%0A%20%20%20%20%3Clink%20rel%3D%22stylesheet%22%20href%3D%22https%3A//maxcdn.bootstrapcdn.com/bootstrap/3.2.0/css/bootstrap.min.css%22/%3E%0A%20%20%20%20%3Clink%20rel%3D%22stylesheet%22%20href%3D%22https%3A//maxcdn.bootstrapcdn.com/bootstrap/3.2.0/css/bootstrap-theme.min.css%22/%3E%0A%20%20%20%20%3Clink%20rel%3D%22stylesheet%22%20href%3D%22https%3A//maxcdn.bootstrapcdn.com/font-awesome/4.6.3/css/font-awesome.min.css%22/%3E%0A%20%20%20%20%3Clink%20rel%3D%22stylesheet%22%20href%3D%22https%3A//cdnjs.cloudflare.com/ajax/libs/Leaflet.awesome-markers/2.0.2/leaflet.awesome-markers.css%22/%3E%0A%20%20%20%20%3Clink%20rel%3D%22stylesheet%22%20href%3D%22https%3A//cdn.jsdelivr.net/gh/python-visualization/folium/folium/templates/leaflet.awesome.rotate.min.css%22/%3E%0A%20%20%20%20%0A%20%20%20%20%20%20%20%20%20%20%20%20%3Cmeta%20name%3D%22viewport%22%20content%3D%22width%3Ddevice-width%2C%0A%20%20%20%20%20%20%20%20%20%20%20%20%20%20%20%20initial-scale%3D1.0%2C%20maximum-scale%3D1.0%2C%20user-scalable%3Dno%22%20/%3E%0A%20%20%20%20%20%20%20%20%20%20%20%20%3Cstyle%3E%0A%20%20%20%20%20%20%20%20%20%20%20%20%20%20%20%20%23map_c23b8e65796b447dbf8630fa4cfecebb%20%7B%0A%20%20%20%20%20%20%20%20%20%20%20%20%20%20%20%20%20%20%20%20position%3A%20relative%3B%0A%20%20%20%20%20%20%20%20%20%20%20%20%20%20%20%20%20%20%20%20width%3A%20100.0%25%3B%0A%20%20%20%20%20%20%20%20%20%20%20%20%20%20%20%20%20%20%20%20height%3A%20100.0%25%3B%0A%20%20%20%20%20%20%20%20%20%20%20%20%20%20%20%20%20%20%20%20left%3A%200.0%25%3B%0A%20%20%20%20%20%20%20%20%20%20%20%20%20%20%20%20%20%20%20%20top%3A%200.0%25%3B%0A%20%20%20%20%20%20%20%20%20%20%20%20%20%20%20%20%7D%0A%20%20%20%20%20%20%20%20%20%20%20%20%3C/style%3E%0A%20%20%20%20%20%20%20%20%0A%3C/head%3E%0A%3Cbody%3E%20%20%20%20%0A%20%20%20%20%0A%20%20%20%20%20%20%20%20%20%20%20%20%3Cdiv%20class%3D%22folium-map%22%20id%3D%22map_c23b8e65796b447dbf8630fa4cfecebb%22%20%3E%3C/div%3E%0A%20%20%20%20%20%20%20%20%0A%3C/body%3E%0A%3Cscript%3E%20%20%20%20%0A%20%20%20%20%0A%20%20%20%20%20%20%20%20%20%20%20%20var%20map_c23b8e65796b447dbf8630fa4cfecebb%20%3D%20L.map%28%0A%20%20%20%20%20%20%20%20%20%20%20%20%20%20%20%20%22map_c23b8e65796b447dbf8630fa4cfecebb%22%2C%0A%20%20%20%20%20%20%20%20%20%20%20%20%20%20%20%20%7B%0A%20%20%20%20%20%20%20%20%20%20%20%20%20%20%20%20%20%20%20%20center%3A%20%5B-18.203199246622674%2C%2046.779785%5D%2C%0A%20%20%20%20%20%20%20%20%20%20%20%20%20%20%20%20%20%20%20%20crs%3A%20L.CRS.EPSG3857%2C%0A%20%20%20%20%20%20%20%20%20%20%20%20%20%20%20%20%20%20%20%20zoom%3A%205.6%2C%0A%20%20%20%20%20%20%20%20%20%20%20%20%20%20%20%20%20%20%20%20zoomControl%3A%20true%2C%0A%20%20%20%20%20%20%20%20%20%20%20%20%20%20%20%20%20%20%20%20preferCanvas%3A%20false%2C%0A%20%20%20%20%20%20%20%20%20%20%20%20%20%20%20%20%7D%0A%20%20%20%20%20%20%20%20%20%20%20%20%29%3B%0A%0A%20%20%20%20%20%20%20%20%20%20%20%20%0A%0A%20%20%20%20%20%20%20%20%0A%20%20%20%20%0A%20%20%20%20%20%20%20%20%20%20%20%20var%20tile_layer_1c5a5621e7644377b91922a1a8a79bd0%20%3D%20L.tileLayer%28%0A%20%20%20%20%20%20%20%20%20%20%20%20%20%20%20%20%22https%3A//%7Bs%7D.tile.openstreetmap.org/%7Bz%7D/%7Bx%7D/%7By%7D.png%22%2C%0A%20%20%20%20%20%20%20%20%20%20%20%20%20%20%20%20%7B%22attribution%22%3A%20%22Data%20by%20%5Cu0026copy%3B%20%5Cu003ca%20href%3D%5C%22http%3A//openstreetmap.org%5C%22%5Cu003eOpenStreetMap%5Cu003c/a%5Cu003e%2C%20under%20%5Cu003ca%20href%3D%5C%22http%3A//www.openstreetmap.org/copyright%5C%22%5Cu003eODbL%5Cu003c/a%5Cu003e.%22%2C%20%22detectRetina%22%3A%20false%2C%20%22maxNativeZoom%22%3A%2018%2C%20%22maxZoom%22%3A%2018%2C%20%22minZoom%22%3A%200%2C%20%22noWrap%22%3A%20false%2C%20%22opacity%22%3A%201%2C%20%22subdomains%22%3A%20%22abc%22%2C%20%22tms%22%3A%20false%7D%0A%20%20%20%20%20%20%20%20%20%20%20%20%29.addTo%28map_c23b8e65796b447dbf8630fa4cfecebb%29%3B%0A%20%20%20%20%20%20%20%20%0A%20%20%20%20%0A%20%20%20%20%20%20%20%20%20%20%20%20var%20tile_layer_a2a4772acd024f22b61fb4e3849bfabc%20%3D%20L.tileLayer%28%0A%20%20%20%20%20%20%20%20%20%20%20%20%20%20%20%20%22https%3A//earthengine.googleapis.com/v1alpha/projects/earthengine-legacy/maps/5b0127c88a0ca57760f2fbf9a46b0379-0b7237ea11ecebf8c79f3350ebf71acf/tiles/%7Bz%7D/%7Bx%7D/%7By%7D%22%2C%0A%20%20%20%20%20%20%20%20%20%20%20%20%20%20%20%20%7B%22attribution%22%3A%20%22Map%20Data%20%5Cu0026copy%3B%20%5Cu003ca%20href%3D%5C%22https%3A//earthengine.google.com/%5C%22%5Cu003eGoogle%20Earth%20Engine%5Cu003c/a%5Cu003e%22%2C%20%22detectRetina%22%3A%20false%2C%20%22maxNativeZoom%22%3A%2018%2C%20%22maxZoom%22%3A%2018%2C%20%22minZoom%22%3A%200%2C%20%22noWrap%22%3A%20false%2C%20%22opacity%22%3A%201%2C%20%22subdomains%22%3A%20%22abc%22%2C%20%22tms%22%3A%20false%7D%0A%20%20%20%20%20%20%20%20%20%20%20%20%29.addTo%28map_c23b8e65796b447dbf8630fa4cfecebb%29%3B%0A%20%20%20%20%20%20%20%20%0A%20%20%20%20%0A%20%20%20%20%20%20%20%20%20%20%20%20var%20tile_layer_01624315660d4f40a9db8fbfc550f48e%20%3D%20L.tileLayer%28%0A%20%20%20%20%20%20%20%20%20%20%20%20%20%20%20%20%22https%3A//earthengine.googleapis.com/v1alpha/projects/earthengine-legacy/maps/7d0b51f465611fe2313ac8e3b322d3a4-2ab457b8089b017a222a42cf911febca/tiles/%7Bz%7D/%7Bx%7D/%7By%7D%22%2C%0A%20%20%20%20%20%20%20%20%20%20%20%20%20%20%20%20%7B%22attribution%22%3A%20%22Map%20Data%20%5Cu0026copy%3B%20%5Cu003ca%20href%3D%5C%22https%3A//earthengine.google.com/%5C%22%5Cu003eGoogle%20Earth%20Engine%5Cu003c/a%5Cu003e%22%2C%20%22detectRetina%22%3A%20false%2C%20%22maxNativeZoom%22%3A%2018%2C%20%22maxZoom%22%3A%2018%2C%20%22minZoom%22%3A%200%2C%20%22noWrap%22%3A%20false%2C%20%22opacity%22%3A%201%2C%20%22subdomains%22%3A%20%22abc%22%2C%20%22tms%22%3A%20false%7D%0A%20%20%20%20%20%20%20%20%20%20%20%20%29.addTo%28map_c23b8e65796b447dbf8630fa4cfecebb%29%3B%0A%20%20%20%20%20%20%20%20%0A%20%20%20%20%0A%20%20%20%20%20%20%20%20%20%20%20%20var%20tile_layer_d87d19b652aa4f538a21d00aa03f4a4b%20%3D%20L.tileLayer%28%0A%20%20%20%20%20%20%20%20%20%20%20%20%20%20%20%20%22https%3A//earthengine.googleapis.com/v1alpha/projects/earthengine-legacy/maps/d477c91c6e5c4c5f86f0d886781d730a-1c584655f238a16851b04c98b93320b1/tiles/%7Bz%7D/%7Bx%7D/%7By%7D%22%2C%0A%20%20%20%20%20%20%20%20%20%20%20%20%20%20%20%20%7B%22attribution%22%3A%20%22Map%20Data%20%5Cu0026copy%3B%20%5Cu003ca%20href%3D%5C%22https%3A//earthengine.google.com/%5C%22%5Cu003eGoogle%20Earth%20Engine%5Cu003c/a%5Cu003e%22%2C%20%22detectRetina%22%3A%20false%2C%20%22maxNativeZoom%22%3A%2018%2C%20%22maxZoom%22%3A%2018%2C%20%22minZoom%22%3A%200%2C%20%22noWrap%22%3A%20false%2C%20%22opacity%22%3A%201%2C%20%22subdomains%22%3A%20%22abc%22%2C%20%22tms%22%3A%20false%7D%0A%20%20%20%20%20%20%20%20%20%20%20%20%29.addTo%28map_c23b8e65796b447dbf8630fa4cfecebb%29%3B%0A%20%20%20%20%20%20%20%20%0A%20%20%20%20%0A%20%20%20%20%20%20%20%20%20%20%20%20var%20tile_layer_42c210832a094f65b0b82cad29d586cb%20%3D%20L.tileLayer%28%0A%20%20%20%20%20%20%20%20%20%20%20%20%20%20%20%20%22https%3A//earthengine.googleapis.com/v1alpha/projects/earthengine-legacy/maps/77882e90b32a2584014def10feaaec73-9a4ebb4107c2ac22e007e6f1305cf94b/tiles/%7Bz%7D/%7Bx%7D/%7By%7D%22%2C%0A%20%20%20%20%20%20%20%20%20%20%20%20%20%20%20%20%7B%22attribution%22%3A%20%22Map%20Data%20%5Cu0026copy%3B%20%5Cu003ca%20href%3D%5C%22https%3A//earthengine.google.com/%5C%22%5Cu003eGoogle%20Earth%20Engine%5Cu003c/a%5Cu003e%22%2C%20%22detectRetina%22%3A%20false%2C%20%22maxNativeZoom%22%3A%2018%2C%20%22maxZoom%22%3A%2018%2C%20%22minZoom%22%3A%200%2C%20%22noWrap%22%3A%20false%2C%20%22opacity%22%3A%201%2C%20%22subdomains%22%3A%20%22abc%22%2C%20%22tms%22%3A%20false%7D%0A%20%20%20%20%20%20%20%20%20%20%20%20%29.addTo%28map_c23b8e65796b447dbf8630fa4cfecebb%29%3B%0A%20%20%20%20%20%20%20%20%0A%20%20%20%20%0A%20%20%20%20%20%20%20%20%20%20%20%20var%20tile_layer_33791a8ee1b641a88548b602eee5da6c%20%3D%20L.tileLayer%28%0A%20%20%20%20%20%20%20%20%20%20%20%20%20%20%20%20%22https%3A//earthengine.googleapis.com/v1alpha/projects/earthengine-legacy/maps/13282f458e4ffecea33f8e5d2e753a9b-a427bdb153d45a235204cd19b6998322/tiles/%7Bz%7D/%7Bx%7D/%7By%7D%22%2C%0A%20%20%20%20%20%20%20%20%20%20%20%20%20%20%20%20%7B%22attribution%22%3A%20%22Map%20Data%20%5Cu0026copy%3B%20%5Cu003ca%20href%3D%5C%22https%3A//earthengine.google.com/%5C%22%5Cu003eGoogle%20Earth%20Engine%5Cu003c/a%5Cu003e%22%2C%20%22detectRetina%22%3A%20false%2C%20%22maxNativeZoom%22%3A%2018%2C%20%22maxZoom%22%3A%2018%2C%20%22minZoom%22%3A%200%2C%20%22noWrap%22%3A%20false%2C%20%22opacity%22%3A%201%2C%20%22subdomains%22%3A%20%22abc%22%2C%20%22tms%22%3A%20false%7D%0A%20%20%20%20%20%20%20%20%20%20%20%20%29.addTo%28map_c23b8e65796b447dbf8630fa4cfecebb%29%3B%0A%20%20%20%20%20%20%20%20%0A%20%20%20%20%0A%20%20%20%20%20%20%20%20%20%20%20%20var%20tile_layer_70dc06d09f0547ac90d7f6418d5a8687%20%3D%20L.tileLayer%28%0A%20%20%20%20%20%20%20%20%20%20%20%20%20%20%20%20%22https%3A//earthengine.googleapis.com/v1alpha/projects/earthengine-legacy/maps/ac6413310ebf2cd33d7547da2073c70c-cbd5f418de29fad3b9939a13e14eb4b5/tiles/%7Bz%7D/%7Bx%7D/%7By%7D%22%2C%0A%20%20%20%20%20%20%20%20%20%20%20%20%20%20%20%20%7B%22attribution%22%3A%20%22Map%20Data%20%5Cu0026copy%3B%20%5Cu003ca%20href%3D%5C%22https%3A//earthengine.google.com/%5C%22%5Cu003eGoogle%20Earth%20Engine%5Cu003c/a%5Cu003e%22%2C%20%22detectRetina%22%3A%20false%2C%20%22maxNativeZoom%22%3A%2018%2C%20%22maxZoom%22%3A%2018%2C%20%22minZoom%22%3A%200%2C%20%22noWrap%22%3A%20false%2C%20%22opacity%22%3A%201%2C%20%22subdomains%22%3A%20%22abc%22%2C%20%22tms%22%3A%20false%7D%0A%20%20%20%20%20%20%20%20%20%20%20%20%29.addTo%28map_c23b8e65796b447dbf8630fa4cfecebb%29%3B%0A%20%20%20%20%20%20%20%20%0A%20%20%20%20%0A%20%20%20%20%20%20%20%20%20%20%20%20var%20layer_control_c4c126804ab64948b48ebfe1cb80ec30%20%3D%20%7B%0A%20%20%20%20%20%20%20%20%20%20%20%20%20%20%20%20base_layers%20%3A%20%7B%0A%20%20%20%20%20%20%20%20%20%20%20%20%20%20%20%20%20%20%20%20%22openstreetmap%22%20%3A%20tile_layer_1c5a5621e7644377b91922a1a8a79bd0%2C%0A%20%20%20%20%20%20%20%20%20%20%20%20%20%20%20%20%7D%2C%0A%20%20%20%20%20%20%20%20%20%20%20%20%20%20%20%20overlays%20%3A%20%20%7B%0A%20%20%20%20%20%20%20%20%20%20%20%20%20%20%20%20%20%20%20%20%22d%5Cu0027Andohahela%20Fitted%20NDVI%22%20%3A%20tile_layer_a2a4772acd024f22b61fb4e3849bfabc%2C%0A%20%20%20%20%20%20%20%20%20%20%20%20%20%20%20%20%20%20%20%20%22Midongy%20Betofaka%20Fitted%20NDVI%22%20%3A%20tile_layer_01624315660d4f40a9db8fbfc550f48e%2C%0A%20%20%20%20%20%20%20%20%20%20%20%20%20%20%20%20%20%20%20%20%22Tsimanampetsotsa%20Fitted%20NDVI%22%20%3A%20tile_layer_d87d19b652aa4f538a21d00aa03f4a4b%2C%0A%20%20%20%20%20%20%20%20%20%20%20%20%20%20%20%20%20%20%20%20%22d%5Cu0027Ankarafantsika%20Fitted%20NDVI%22%20%3A%20tile_layer_42c210832a094f65b0b82cad29d586cb%2C%0A%20%20%20%20%20%20%20%20%20%20%20%20%20%20%20%20%20%20%20%20%22Masoala%20Fitted%20NDVI%22%20%3A%20tile_layer_33791a8ee1b641a88548b602eee5da6c%2C%0A%20%20%20%20%20%20%20%20%20%20%20%20%20%20%20%20%20%20%20%20%22Alan%5Cu0027Ankirisa%20Fitted%20NDVI%22%20%3A%20tile_layer_70dc06d09f0547ac90d7f6418d5a8687%2C%0A%20%20%20%20%20%20%20%20%20%20%20%20%20%20%20%20%7D%2C%0A%20%20%20%20%20%20%20%20%20%20%20%20%7D%3B%0A%20%20%20%20%20%20%20%20%20%20%20%20L.control.layers%28%0A%20%20%20%20%20%20%20%20%20%20%20%20%20%20%20%20layer_control_c4c126804ab64948b48ebfe1cb80ec30.base_layers%2C%0A%20%20%20%20%20%20%20%20%20%20%20%20%20%20%20%20layer_control_c4c126804ab64948b48ebfe1cb80ec30.overlays%2C%0A%20%20%20%20%20%20%20%20%20%20%20%20%20%20%20%20%7B%22autoZIndex%22%3A%20true%2C%20%22collapsed%22%3A%20true%2C%20%22position%22%3A%20%22topright%22%7D%0A%20%20%20%20%20%20%20%20%20%20%20%20%29.addTo%28map_c23b8e65796b447dbf8630fa4cfecebb%29%3B%0A%20%20%20%20%20%20%20%20%0A%3C/script%3E onload=\"this.contentDocument.open();this.contentDocument.write(    decodeURIComponent(this.getAttribute('data-html')));this.contentDocument.close();\" allowfullscreen webkitallowfullscreen mozallowfullscreen></iframe></div></div>"
      ],
      "text/plain": [
       "<folium.folium.Map at 0x13e4fdf40>"
      ]
     },
     "metadata": {},
     "output_type": "display_data"
    },
    {
     "name": "stdout",
     "output_type": "stream",
     "text": [
      "\n",
      " \n",
      "\n",
      "2019-03-01 - 2019-04-01\n"
     ]
    },
    {
     "data": {
      "text/html": [
       "<div style=\"width:100%;\"><div style=\"position:relative;width:100%;height:0;padding-bottom:60%;\"><span style=\"color:#565656\">Make this Notebook Trusted to load map: File -> Trust Notebook</span><iframe src=\"about:blank\" style=\"position:absolute;width:100%;height:100%;left:0;top:0;border:none !important;\" data-html=%3C%21DOCTYPE%20html%3E%0A%3Chead%3E%20%20%20%20%0A%20%20%20%20%3Cmeta%20http-equiv%3D%22content-type%22%20content%3D%22text/html%3B%20charset%3DUTF-8%22%20/%3E%0A%20%20%20%20%0A%20%20%20%20%20%20%20%20%3Cscript%3E%0A%20%20%20%20%20%20%20%20%20%20%20%20L_NO_TOUCH%20%3D%20false%3B%0A%20%20%20%20%20%20%20%20%20%20%20%20L_DISABLE_3D%20%3D%20false%3B%0A%20%20%20%20%20%20%20%20%3C/script%3E%0A%20%20%20%20%0A%20%20%20%20%3Cstyle%3Ehtml%2C%20body%20%7Bwidth%3A%20100%25%3Bheight%3A%20100%25%3Bmargin%3A%200%3Bpadding%3A%200%3B%7D%3C/style%3E%0A%20%20%20%20%3Cstyle%3E%23map%20%7Bposition%3Aabsolute%3Btop%3A0%3Bbottom%3A0%3Bright%3A0%3Bleft%3A0%3B%7D%3C/style%3E%0A%20%20%20%20%3Cscript%20src%3D%22https%3A//cdn.jsdelivr.net/npm/leaflet%401.6.0/dist/leaflet.js%22%3E%3C/script%3E%0A%20%20%20%20%3Cscript%20src%3D%22https%3A//code.jquery.com/jquery-1.12.4.min.js%22%3E%3C/script%3E%0A%20%20%20%20%3Cscript%20src%3D%22https%3A//maxcdn.bootstrapcdn.com/bootstrap/3.2.0/js/bootstrap.min.js%22%3E%3C/script%3E%0A%20%20%20%20%3Cscript%20src%3D%22https%3A//cdnjs.cloudflare.com/ajax/libs/Leaflet.awesome-markers/2.0.2/leaflet.awesome-markers.js%22%3E%3C/script%3E%0A%20%20%20%20%3Clink%20rel%3D%22stylesheet%22%20href%3D%22https%3A//cdn.jsdelivr.net/npm/leaflet%401.6.0/dist/leaflet.css%22/%3E%0A%20%20%20%20%3Clink%20rel%3D%22stylesheet%22%20href%3D%22https%3A//maxcdn.bootstrapcdn.com/bootstrap/3.2.0/css/bootstrap.min.css%22/%3E%0A%20%20%20%20%3Clink%20rel%3D%22stylesheet%22%20href%3D%22https%3A//maxcdn.bootstrapcdn.com/bootstrap/3.2.0/css/bootstrap-theme.min.css%22/%3E%0A%20%20%20%20%3Clink%20rel%3D%22stylesheet%22%20href%3D%22https%3A//maxcdn.bootstrapcdn.com/font-awesome/4.6.3/css/font-awesome.min.css%22/%3E%0A%20%20%20%20%3Clink%20rel%3D%22stylesheet%22%20href%3D%22https%3A//cdnjs.cloudflare.com/ajax/libs/Leaflet.awesome-markers/2.0.2/leaflet.awesome-markers.css%22/%3E%0A%20%20%20%20%3Clink%20rel%3D%22stylesheet%22%20href%3D%22https%3A//cdn.jsdelivr.net/gh/python-visualization/folium/folium/templates/leaflet.awesome.rotate.min.css%22/%3E%0A%20%20%20%20%0A%20%20%20%20%20%20%20%20%20%20%20%20%3Cmeta%20name%3D%22viewport%22%20content%3D%22width%3Ddevice-width%2C%0A%20%20%20%20%20%20%20%20%20%20%20%20%20%20%20%20initial-scale%3D1.0%2C%20maximum-scale%3D1.0%2C%20user-scalable%3Dno%22%20/%3E%0A%20%20%20%20%20%20%20%20%20%20%20%20%3Cstyle%3E%0A%20%20%20%20%20%20%20%20%20%20%20%20%20%20%20%20%23map_9ae7864bbed74c8b9a6166f5be993a6f%20%7B%0A%20%20%20%20%20%20%20%20%20%20%20%20%20%20%20%20%20%20%20%20position%3A%20relative%3B%0A%20%20%20%20%20%20%20%20%20%20%20%20%20%20%20%20%20%20%20%20width%3A%20100.0%25%3B%0A%20%20%20%20%20%20%20%20%20%20%20%20%20%20%20%20%20%20%20%20height%3A%20100.0%25%3B%0A%20%20%20%20%20%20%20%20%20%20%20%20%20%20%20%20%20%20%20%20left%3A%200.0%25%3B%0A%20%20%20%20%20%20%20%20%20%20%20%20%20%20%20%20%20%20%20%20top%3A%200.0%25%3B%0A%20%20%20%20%20%20%20%20%20%20%20%20%20%20%20%20%7D%0A%20%20%20%20%20%20%20%20%20%20%20%20%3C/style%3E%0A%20%20%20%20%20%20%20%20%0A%3C/head%3E%0A%3Cbody%3E%20%20%20%20%0A%20%20%20%20%0A%20%20%20%20%20%20%20%20%20%20%20%20%3Cdiv%20class%3D%22folium-map%22%20id%3D%22map_9ae7864bbed74c8b9a6166f5be993a6f%22%20%3E%3C/div%3E%0A%20%20%20%20%20%20%20%20%0A%3C/body%3E%0A%3Cscript%3E%20%20%20%20%0A%20%20%20%20%0A%20%20%20%20%20%20%20%20%20%20%20%20var%20map_9ae7864bbed74c8b9a6166f5be993a6f%20%3D%20L.map%28%0A%20%20%20%20%20%20%20%20%20%20%20%20%20%20%20%20%22map_9ae7864bbed74c8b9a6166f5be993a6f%22%2C%0A%20%20%20%20%20%20%20%20%20%20%20%20%20%20%20%20%7B%0A%20%20%20%20%20%20%20%20%20%20%20%20%20%20%20%20%20%20%20%20center%3A%20%5B-18.203199246622674%2C%2046.779785%5D%2C%0A%20%20%20%20%20%20%20%20%20%20%20%20%20%20%20%20%20%20%20%20crs%3A%20L.CRS.EPSG3857%2C%0A%20%20%20%20%20%20%20%20%20%20%20%20%20%20%20%20%20%20%20%20zoom%3A%205.6%2C%0A%20%20%20%20%20%20%20%20%20%20%20%20%20%20%20%20%20%20%20%20zoomControl%3A%20true%2C%0A%20%20%20%20%20%20%20%20%20%20%20%20%20%20%20%20%20%20%20%20preferCanvas%3A%20false%2C%0A%20%20%20%20%20%20%20%20%20%20%20%20%20%20%20%20%7D%0A%20%20%20%20%20%20%20%20%20%20%20%20%29%3B%0A%0A%20%20%20%20%20%20%20%20%20%20%20%20%0A%0A%20%20%20%20%20%20%20%20%0A%20%20%20%20%0A%20%20%20%20%20%20%20%20%20%20%20%20var%20tile_layer_9c8ee131792741349e7dfb055229a2d3%20%3D%20L.tileLayer%28%0A%20%20%20%20%20%20%20%20%20%20%20%20%20%20%20%20%22https%3A//%7Bs%7D.tile.openstreetmap.org/%7Bz%7D/%7Bx%7D/%7By%7D.png%22%2C%0A%20%20%20%20%20%20%20%20%20%20%20%20%20%20%20%20%7B%22attribution%22%3A%20%22Data%20by%20%5Cu0026copy%3B%20%5Cu003ca%20href%3D%5C%22http%3A//openstreetmap.org%5C%22%5Cu003eOpenStreetMap%5Cu003c/a%5Cu003e%2C%20under%20%5Cu003ca%20href%3D%5C%22http%3A//www.openstreetmap.org/copyright%5C%22%5Cu003eODbL%5Cu003c/a%5Cu003e.%22%2C%20%22detectRetina%22%3A%20false%2C%20%22maxNativeZoom%22%3A%2018%2C%20%22maxZoom%22%3A%2018%2C%20%22minZoom%22%3A%200%2C%20%22noWrap%22%3A%20false%2C%20%22opacity%22%3A%201%2C%20%22subdomains%22%3A%20%22abc%22%2C%20%22tms%22%3A%20false%7D%0A%20%20%20%20%20%20%20%20%20%20%20%20%29.addTo%28map_9ae7864bbed74c8b9a6166f5be993a6f%29%3B%0A%20%20%20%20%20%20%20%20%0A%20%20%20%20%0A%20%20%20%20%20%20%20%20%20%20%20%20var%20tile_layer_5cb2187a61d14dd5a1956651f4aa7c88%20%3D%20L.tileLayer%28%0A%20%20%20%20%20%20%20%20%20%20%20%20%20%20%20%20%22https%3A//earthengine.googleapis.com/v1alpha/projects/earthengine-legacy/maps/1168b2e0ad42abfc8f370e579a73becb-787ca853787d43a1c0923065a59b4049/tiles/%7Bz%7D/%7Bx%7D/%7By%7D%22%2C%0A%20%20%20%20%20%20%20%20%20%20%20%20%20%20%20%20%7B%22attribution%22%3A%20%22Map%20Data%20%5Cu0026copy%3B%20%5Cu003ca%20href%3D%5C%22https%3A//earthengine.google.com/%5C%22%5Cu003eGoogle%20Earth%20Engine%5Cu003c/a%5Cu003e%22%2C%20%22detectRetina%22%3A%20false%2C%20%22maxNativeZoom%22%3A%2018%2C%20%22maxZoom%22%3A%2018%2C%20%22minZoom%22%3A%200%2C%20%22noWrap%22%3A%20false%2C%20%22opacity%22%3A%201%2C%20%22subdomains%22%3A%20%22abc%22%2C%20%22tms%22%3A%20false%7D%0A%20%20%20%20%20%20%20%20%20%20%20%20%29.addTo%28map_9ae7864bbed74c8b9a6166f5be993a6f%29%3B%0A%20%20%20%20%20%20%20%20%0A%20%20%20%20%0A%20%20%20%20%20%20%20%20%20%20%20%20var%20tile_layer_72d49985b51c48adbfabeead465108d6%20%3D%20L.tileLayer%28%0A%20%20%20%20%20%20%20%20%20%20%20%20%20%20%20%20%22https%3A//earthengine.googleapis.com/v1alpha/projects/earthengine-legacy/maps/eed2fbbaa2005083c0c790d6717dc4fd-b1e7c387e08566e03ef5b752f63b8b96/tiles/%7Bz%7D/%7Bx%7D/%7By%7D%22%2C%0A%20%20%20%20%20%20%20%20%20%20%20%20%20%20%20%20%7B%22attribution%22%3A%20%22Map%20Data%20%5Cu0026copy%3B%20%5Cu003ca%20href%3D%5C%22https%3A//earthengine.google.com/%5C%22%5Cu003eGoogle%20Earth%20Engine%5Cu003c/a%5Cu003e%22%2C%20%22detectRetina%22%3A%20false%2C%20%22maxNativeZoom%22%3A%2018%2C%20%22maxZoom%22%3A%2018%2C%20%22minZoom%22%3A%200%2C%20%22noWrap%22%3A%20false%2C%20%22opacity%22%3A%201%2C%20%22subdomains%22%3A%20%22abc%22%2C%20%22tms%22%3A%20false%7D%0A%20%20%20%20%20%20%20%20%20%20%20%20%29.addTo%28map_9ae7864bbed74c8b9a6166f5be993a6f%29%3B%0A%20%20%20%20%20%20%20%20%0A%20%20%20%20%0A%20%20%20%20%20%20%20%20%20%20%20%20var%20tile_layer_92aa669a083b4701b22899f9e4609112%20%3D%20L.tileLayer%28%0A%20%20%20%20%20%20%20%20%20%20%20%20%20%20%20%20%22https%3A//earthengine.googleapis.com/v1alpha/projects/earthengine-legacy/maps/ffdd7fecabb5c58f6ac9d71dfa025448-5b38ac2501b0a9bc926f79d80a2f3112/tiles/%7Bz%7D/%7Bx%7D/%7By%7D%22%2C%0A%20%20%20%20%20%20%20%20%20%20%20%20%20%20%20%20%7B%22attribution%22%3A%20%22Map%20Data%20%5Cu0026copy%3B%20%5Cu003ca%20href%3D%5C%22https%3A//earthengine.google.com/%5C%22%5Cu003eGoogle%20Earth%20Engine%5Cu003c/a%5Cu003e%22%2C%20%22detectRetina%22%3A%20false%2C%20%22maxNativeZoom%22%3A%2018%2C%20%22maxZoom%22%3A%2018%2C%20%22minZoom%22%3A%200%2C%20%22noWrap%22%3A%20false%2C%20%22opacity%22%3A%201%2C%20%22subdomains%22%3A%20%22abc%22%2C%20%22tms%22%3A%20false%7D%0A%20%20%20%20%20%20%20%20%20%20%20%20%29.addTo%28map_9ae7864bbed74c8b9a6166f5be993a6f%29%3B%0A%20%20%20%20%20%20%20%20%0A%20%20%20%20%0A%20%20%20%20%20%20%20%20%20%20%20%20var%20tile_layer_8cc75b29dca54cff8b07c916c46d6b44%20%3D%20L.tileLayer%28%0A%20%20%20%20%20%20%20%20%20%20%20%20%20%20%20%20%22https%3A//earthengine.googleapis.com/v1alpha/projects/earthengine-legacy/maps/579206e5ac485b3677b10de5e1c20811-69d529b8fd45df0cfdf5cd80c07f723e/tiles/%7Bz%7D/%7Bx%7D/%7By%7D%22%2C%0A%20%20%20%20%20%20%20%20%20%20%20%20%20%20%20%20%7B%22attribution%22%3A%20%22Map%20Data%20%5Cu0026copy%3B%20%5Cu003ca%20href%3D%5C%22https%3A//earthengine.google.com/%5C%22%5Cu003eGoogle%20Earth%20Engine%5Cu003c/a%5Cu003e%22%2C%20%22detectRetina%22%3A%20false%2C%20%22maxNativeZoom%22%3A%2018%2C%20%22maxZoom%22%3A%2018%2C%20%22minZoom%22%3A%200%2C%20%22noWrap%22%3A%20false%2C%20%22opacity%22%3A%201%2C%20%22subdomains%22%3A%20%22abc%22%2C%20%22tms%22%3A%20false%7D%0A%20%20%20%20%20%20%20%20%20%20%20%20%29.addTo%28map_9ae7864bbed74c8b9a6166f5be993a6f%29%3B%0A%20%20%20%20%20%20%20%20%0A%20%20%20%20%0A%20%20%20%20%20%20%20%20%20%20%20%20var%20tile_layer_605daab703664398b1fef0981e7c86fc%20%3D%20L.tileLayer%28%0A%20%20%20%20%20%20%20%20%20%20%20%20%20%20%20%20%22https%3A//earthengine.googleapis.com/v1alpha/projects/earthengine-legacy/maps/548e489e313c9492e14ff6c3192bfb26-1ab7457f4d23ea093ac1e38551fc99a1/tiles/%7Bz%7D/%7Bx%7D/%7By%7D%22%2C%0A%20%20%20%20%20%20%20%20%20%20%20%20%20%20%20%20%7B%22attribution%22%3A%20%22Map%20Data%20%5Cu0026copy%3B%20%5Cu003ca%20href%3D%5C%22https%3A//earthengine.google.com/%5C%22%5Cu003eGoogle%20Earth%20Engine%5Cu003c/a%5Cu003e%22%2C%20%22detectRetina%22%3A%20false%2C%20%22maxNativeZoom%22%3A%2018%2C%20%22maxZoom%22%3A%2018%2C%20%22minZoom%22%3A%200%2C%20%22noWrap%22%3A%20false%2C%20%22opacity%22%3A%201%2C%20%22subdomains%22%3A%20%22abc%22%2C%20%22tms%22%3A%20false%7D%0A%20%20%20%20%20%20%20%20%20%20%20%20%29.addTo%28map_9ae7864bbed74c8b9a6166f5be993a6f%29%3B%0A%20%20%20%20%20%20%20%20%0A%20%20%20%20%0A%20%20%20%20%20%20%20%20%20%20%20%20var%20tile_layer_f94682abbc7143fd8d99b8d0086c29ea%20%3D%20L.tileLayer%28%0A%20%20%20%20%20%20%20%20%20%20%20%20%20%20%20%20%22https%3A//earthengine.googleapis.com/v1alpha/projects/earthengine-legacy/maps/d937804bc4a7927281946737244495c0-262cc4a38c264278a4b40b53af47777d/tiles/%7Bz%7D/%7Bx%7D/%7By%7D%22%2C%0A%20%20%20%20%20%20%20%20%20%20%20%20%20%20%20%20%7B%22attribution%22%3A%20%22Map%20Data%20%5Cu0026copy%3B%20%5Cu003ca%20href%3D%5C%22https%3A//earthengine.google.com/%5C%22%5Cu003eGoogle%20Earth%20Engine%5Cu003c/a%5Cu003e%22%2C%20%22detectRetina%22%3A%20false%2C%20%22maxNativeZoom%22%3A%2018%2C%20%22maxZoom%22%3A%2018%2C%20%22minZoom%22%3A%200%2C%20%22noWrap%22%3A%20false%2C%20%22opacity%22%3A%201%2C%20%22subdomains%22%3A%20%22abc%22%2C%20%22tms%22%3A%20false%7D%0A%20%20%20%20%20%20%20%20%20%20%20%20%29.addTo%28map_9ae7864bbed74c8b9a6166f5be993a6f%29%3B%0A%20%20%20%20%20%20%20%20%0A%20%20%20%20%0A%20%20%20%20%20%20%20%20%20%20%20%20var%20layer_control_ae58f0c111a1473abc43b0c048dfe5a6%20%3D%20%7B%0A%20%20%20%20%20%20%20%20%20%20%20%20%20%20%20%20base_layers%20%3A%20%7B%0A%20%20%20%20%20%20%20%20%20%20%20%20%20%20%20%20%20%20%20%20%22openstreetmap%22%20%3A%20tile_layer_9c8ee131792741349e7dfb055229a2d3%2C%0A%20%20%20%20%20%20%20%20%20%20%20%20%20%20%20%20%7D%2C%0A%20%20%20%20%20%20%20%20%20%20%20%20%20%20%20%20overlays%20%3A%20%20%7B%0A%20%20%20%20%20%20%20%20%20%20%20%20%20%20%20%20%20%20%20%20%22d%5Cu0027Andohahela%20Fitted%20NDVI%22%20%3A%20tile_layer_5cb2187a61d14dd5a1956651f4aa7c88%2C%0A%20%20%20%20%20%20%20%20%20%20%20%20%20%20%20%20%20%20%20%20%22Midongy%20Betofaka%20Fitted%20NDVI%22%20%3A%20tile_layer_72d49985b51c48adbfabeead465108d6%2C%0A%20%20%20%20%20%20%20%20%20%20%20%20%20%20%20%20%20%20%20%20%22Tsimanampetsotsa%20Fitted%20NDVI%22%20%3A%20tile_layer_92aa669a083b4701b22899f9e4609112%2C%0A%20%20%20%20%20%20%20%20%20%20%20%20%20%20%20%20%20%20%20%20%22d%5Cu0027Ankarafantsika%20Fitted%20NDVI%22%20%3A%20tile_layer_8cc75b29dca54cff8b07c916c46d6b44%2C%0A%20%20%20%20%20%20%20%20%20%20%20%20%20%20%20%20%20%20%20%20%22Masoala%20Fitted%20NDVI%22%20%3A%20tile_layer_605daab703664398b1fef0981e7c86fc%2C%0A%20%20%20%20%20%20%20%20%20%20%20%20%20%20%20%20%20%20%20%20%22Alan%5Cu0027Ankirisa%20Fitted%20NDVI%22%20%3A%20tile_layer_f94682abbc7143fd8d99b8d0086c29ea%2C%0A%20%20%20%20%20%20%20%20%20%20%20%20%20%20%20%20%7D%2C%0A%20%20%20%20%20%20%20%20%20%20%20%20%7D%3B%0A%20%20%20%20%20%20%20%20%20%20%20%20L.control.layers%28%0A%20%20%20%20%20%20%20%20%20%20%20%20%20%20%20%20layer_control_ae58f0c111a1473abc43b0c048dfe5a6.base_layers%2C%0A%20%20%20%20%20%20%20%20%20%20%20%20%20%20%20%20layer_control_ae58f0c111a1473abc43b0c048dfe5a6.overlays%2C%0A%20%20%20%20%20%20%20%20%20%20%20%20%20%20%20%20%7B%22autoZIndex%22%3A%20true%2C%20%22collapsed%22%3A%20true%2C%20%22position%22%3A%20%22topright%22%7D%0A%20%20%20%20%20%20%20%20%20%20%20%20%29.addTo%28map_9ae7864bbed74c8b9a6166f5be993a6f%29%3B%0A%20%20%20%20%20%20%20%20%0A%3C/script%3E onload=\"this.contentDocument.open();this.contentDocument.write(    decodeURIComponent(this.getAttribute('data-html')));this.contentDocument.close();\" allowfullscreen webkitallowfullscreen mozallowfullscreen></iframe></div></div>"
      ],
      "text/plain": [
       "<folium.folium.Map at 0x13e51e460>"
      ]
     },
     "metadata": {},
     "output_type": "display_data"
    },
    {
     "name": "stdout",
     "output_type": "stream",
     "text": [
      "\n",
      " \n",
      "\n",
      "2019-04-01 - 2019-05-01\n"
     ]
    },
    {
     "data": {
      "text/html": [
       "<div style=\"width:100%;\"><div style=\"position:relative;width:100%;height:0;padding-bottom:60%;\"><span style=\"color:#565656\">Make this Notebook Trusted to load map: File -> Trust Notebook</span><iframe src=\"about:blank\" style=\"position:absolute;width:100%;height:100%;left:0;top:0;border:none !important;\" data-html=%3C%21DOCTYPE%20html%3E%0A%3Chead%3E%20%20%20%20%0A%20%20%20%20%3Cmeta%20http-equiv%3D%22content-type%22%20content%3D%22text/html%3B%20charset%3DUTF-8%22%20/%3E%0A%20%20%20%20%0A%20%20%20%20%20%20%20%20%3Cscript%3E%0A%20%20%20%20%20%20%20%20%20%20%20%20L_NO_TOUCH%20%3D%20false%3B%0A%20%20%20%20%20%20%20%20%20%20%20%20L_DISABLE_3D%20%3D%20false%3B%0A%20%20%20%20%20%20%20%20%3C/script%3E%0A%20%20%20%20%0A%20%20%20%20%3Cstyle%3Ehtml%2C%20body%20%7Bwidth%3A%20100%25%3Bheight%3A%20100%25%3Bmargin%3A%200%3Bpadding%3A%200%3B%7D%3C/style%3E%0A%20%20%20%20%3Cstyle%3E%23map%20%7Bposition%3Aabsolute%3Btop%3A0%3Bbottom%3A0%3Bright%3A0%3Bleft%3A0%3B%7D%3C/style%3E%0A%20%20%20%20%3Cscript%20src%3D%22https%3A//cdn.jsdelivr.net/npm/leaflet%401.6.0/dist/leaflet.js%22%3E%3C/script%3E%0A%20%20%20%20%3Cscript%20src%3D%22https%3A//code.jquery.com/jquery-1.12.4.min.js%22%3E%3C/script%3E%0A%20%20%20%20%3Cscript%20src%3D%22https%3A//maxcdn.bootstrapcdn.com/bootstrap/3.2.0/js/bootstrap.min.js%22%3E%3C/script%3E%0A%20%20%20%20%3Cscript%20src%3D%22https%3A//cdnjs.cloudflare.com/ajax/libs/Leaflet.awesome-markers/2.0.2/leaflet.awesome-markers.js%22%3E%3C/script%3E%0A%20%20%20%20%3Clink%20rel%3D%22stylesheet%22%20href%3D%22https%3A//cdn.jsdelivr.net/npm/leaflet%401.6.0/dist/leaflet.css%22/%3E%0A%20%20%20%20%3Clink%20rel%3D%22stylesheet%22%20href%3D%22https%3A//maxcdn.bootstrapcdn.com/bootstrap/3.2.0/css/bootstrap.min.css%22/%3E%0A%20%20%20%20%3Clink%20rel%3D%22stylesheet%22%20href%3D%22https%3A//maxcdn.bootstrapcdn.com/bootstrap/3.2.0/css/bootstrap-theme.min.css%22/%3E%0A%20%20%20%20%3Clink%20rel%3D%22stylesheet%22%20href%3D%22https%3A//maxcdn.bootstrapcdn.com/font-awesome/4.6.3/css/font-awesome.min.css%22/%3E%0A%20%20%20%20%3Clink%20rel%3D%22stylesheet%22%20href%3D%22https%3A//cdnjs.cloudflare.com/ajax/libs/Leaflet.awesome-markers/2.0.2/leaflet.awesome-markers.css%22/%3E%0A%20%20%20%20%3Clink%20rel%3D%22stylesheet%22%20href%3D%22https%3A//cdn.jsdelivr.net/gh/python-visualization/folium/folium/templates/leaflet.awesome.rotate.min.css%22/%3E%0A%20%20%20%20%0A%20%20%20%20%20%20%20%20%20%20%20%20%3Cmeta%20name%3D%22viewport%22%20content%3D%22width%3Ddevice-width%2C%0A%20%20%20%20%20%20%20%20%20%20%20%20%20%20%20%20initial-scale%3D1.0%2C%20maximum-scale%3D1.0%2C%20user-scalable%3Dno%22%20/%3E%0A%20%20%20%20%20%20%20%20%20%20%20%20%3Cstyle%3E%0A%20%20%20%20%20%20%20%20%20%20%20%20%20%20%20%20%23map_45bdaa85dcc149a19bc28ec7ed490d79%20%7B%0A%20%20%20%20%20%20%20%20%20%20%20%20%20%20%20%20%20%20%20%20position%3A%20relative%3B%0A%20%20%20%20%20%20%20%20%20%20%20%20%20%20%20%20%20%20%20%20width%3A%20100.0%25%3B%0A%20%20%20%20%20%20%20%20%20%20%20%20%20%20%20%20%20%20%20%20height%3A%20100.0%25%3B%0A%20%20%20%20%20%20%20%20%20%20%20%20%20%20%20%20%20%20%20%20left%3A%200.0%25%3B%0A%20%20%20%20%20%20%20%20%20%20%20%20%20%20%20%20%20%20%20%20top%3A%200.0%25%3B%0A%20%20%20%20%20%20%20%20%20%20%20%20%20%20%20%20%7D%0A%20%20%20%20%20%20%20%20%20%20%20%20%3C/style%3E%0A%20%20%20%20%20%20%20%20%0A%3C/head%3E%0A%3Cbody%3E%20%20%20%20%0A%20%20%20%20%0A%20%20%20%20%20%20%20%20%20%20%20%20%3Cdiv%20class%3D%22folium-map%22%20id%3D%22map_45bdaa85dcc149a19bc28ec7ed490d79%22%20%3E%3C/div%3E%0A%20%20%20%20%20%20%20%20%0A%3C/body%3E%0A%3Cscript%3E%20%20%20%20%0A%20%20%20%20%0A%20%20%20%20%20%20%20%20%20%20%20%20var%20map_45bdaa85dcc149a19bc28ec7ed490d79%20%3D%20L.map%28%0A%20%20%20%20%20%20%20%20%20%20%20%20%20%20%20%20%22map_45bdaa85dcc149a19bc28ec7ed490d79%22%2C%0A%20%20%20%20%20%20%20%20%20%20%20%20%20%20%20%20%7B%0A%20%20%20%20%20%20%20%20%20%20%20%20%20%20%20%20%20%20%20%20center%3A%20%5B-18.203199246622674%2C%2046.779785%5D%2C%0A%20%20%20%20%20%20%20%20%20%20%20%20%20%20%20%20%20%20%20%20crs%3A%20L.CRS.EPSG3857%2C%0A%20%20%20%20%20%20%20%20%20%20%20%20%20%20%20%20%20%20%20%20zoom%3A%205.6%2C%0A%20%20%20%20%20%20%20%20%20%20%20%20%20%20%20%20%20%20%20%20zoomControl%3A%20true%2C%0A%20%20%20%20%20%20%20%20%20%20%20%20%20%20%20%20%20%20%20%20preferCanvas%3A%20false%2C%0A%20%20%20%20%20%20%20%20%20%20%20%20%20%20%20%20%7D%0A%20%20%20%20%20%20%20%20%20%20%20%20%29%3B%0A%0A%20%20%20%20%20%20%20%20%20%20%20%20%0A%0A%20%20%20%20%20%20%20%20%0A%20%20%20%20%0A%20%20%20%20%20%20%20%20%20%20%20%20var%20tile_layer_b8bdb7e132484b3daed9686e6150d84f%20%3D%20L.tileLayer%28%0A%20%20%20%20%20%20%20%20%20%20%20%20%20%20%20%20%22https%3A//%7Bs%7D.tile.openstreetmap.org/%7Bz%7D/%7Bx%7D/%7By%7D.png%22%2C%0A%20%20%20%20%20%20%20%20%20%20%20%20%20%20%20%20%7B%22attribution%22%3A%20%22Data%20by%20%5Cu0026copy%3B%20%5Cu003ca%20href%3D%5C%22http%3A//openstreetmap.org%5C%22%5Cu003eOpenStreetMap%5Cu003c/a%5Cu003e%2C%20under%20%5Cu003ca%20href%3D%5C%22http%3A//www.openstreetmap.org/copyright%5C%22%5Cu003eODbL%5Cu003c/a%5Cu003e.%22%2C%20%22detectRetina%22%3A%20false%2C%20%22maxNativeZoom%22%3A%2018%2C%20%22maxZoom%22%3A%2018%2C%20%22minZoom%22%3A%200%2C%20%22noWrap%22%3A%20false%2C%20%22opacity%22%3A%201%2C%20%22subdomains%22%3A%20%22abc%22%2C%20%22tms%22%3A%20false%7D%0A%20%20%20%20%20%20%20%20%20%20%20%20%29.addTo%28map_45bdaa85dcc149a19bc28ec7ed490d79%29%3B%0A%20%20%20%20%20%20%20%20%0A%20%20%20%20%0A%20%20%20%20%20%20%20%20%20%20%20%20var%20tile_layer_88c72bdfe7f94c56b3b10bd030d04cf1%20%3D%20L.tileLayer%28%0A%20%20%20%20%20%20%20%20%20%20%20%20%20%20%20%20%22https%3A//earthengine.googleapis.com/v1alpha/projects/earthengine-legacy/maps/7e0312cc2da5d827bb74d2a3823a8125-73a0a25a21a36437d6541205dfb10b13/tiles/%7Bz%7D/%7Bx%7D/%7By%7D%22%2C%0A%20%20%20%20%20%20%20%20%20%20%20%20%20%20%20%20%7B%22attribution%22%3A%20%22Map%20Data%20%5Cu0026copy%3B%20%5Cu003ca%20href%3D%5C%22https%3A//earthengine.google.com/%5C%22%5Cu003eGoogle%20Earth%20Engine%5Cu003c/a%5Cu003e%22%2C%20%22detectRetina%22%3A%20false%2C%20%22maxNativeZoom%22%3A%2018%2C%20%22maxZoom%22%3A%2018%2C%20%22minZoom%22%3A%200%2C%20%22noWrap%22%3A%20false%2C%20%22opacity%22%3A%201%2C%20%22subdomains%22%3A%20%22abc%22%2C%20%22tms%22%3A%20false%7D%0A%20%20%20%20%20%20%20%20%20%20%20%20%29.addTo%28map_45bdaa85dcc149a19bc28ec7ed490d79%29%3B%0A%20%20%20%20%20%20%20%20%0A%20%20%20%20%0A%20%20%20%20%20%20%20%20%20%20%20%20var%20tile_layer_2fbcdfee581b46d9b7f0b72bd30cdfc9%20%3D%20L.tileLayer%28%0A%20%20%20%20%20%20%20%20%20%20%20%20%20%20%20%20%22https%3A//earthengine.googleapis.com/v1alpha/projects/earthengine-legacy/maps/8d17046a05c1c5b5d7746b627457ccd1-fd4f11027eab01f737b91593b12d0fee/tiles/%7Bz%7D/%7Bx%7D/%7By%7D%22%2C%0A%20%20%20%20%20%20%20%20%20%20%20%20%20%20%20%20%7B%22attribution%22%3A%20%22Map%20Data%20%5Cu0026copy%3B%20%5Cu003ca%20href%3D%5C%22https%3A//earthengine.google.com/%5C%22%5Cu003eGoogle%20Earth%20Engine%5Cu003c/a%5Cu003e%22%2C%20%22detectRetina%22%3A%20false%2C%20%22maxNativeZoom%22%3A%2018%2C%20%22maxZoom%22%3A%2018%2C%20%22minZoom%22%3A%200%2C%20%22noWrap%22%3A%20false%2C%20%22opacity%22%3A%201%2C%20%22subdomains%22%3A%20%22abc%22%2C%20%22tms%22%3A%20false%7D%0A%20%20%20%20%20%20%20%20%20%20%20%20%29.addTo%28map_45bdaa85dcc149a19bc28ec7ed490d79%29%3B%0A%20%20%20%20%20%20%20%20%0A%20%20%20%20%0A%20%20%20%20%20%20%20%20%20%20%20%20var%20tile_layer_262d820d653b42539c8d3e45f7922758%20%3D%20L.tileLayer%28%0A%20%20%20%20%20%20%20%20%20%20%20%20%20%20%20%20%22https%3A//earthengine.googleapis.com/v1alpha/projects/earthengine-legacy/maps/cd75496125e6841baf37850848d5b8a5-8e49980b9bfd22a38c7bed568f0e3cbf/tiles/%7Bz%7D/%7Bx%7D/%7By%7D%22%2C%0A%20%20%20%20%20%20%20%20%20%20%20%20%20%20%20%20%7B%22attribution%22%3A%20%22Map%20Data%20%5Cu0026copy%3B%20%5Cu003ca%20href%3D%5C%22https%3A//earthengine.google.com/%5C%22%5Cu003eGoogle%20Earth%20Engine%5Cu003c/a%5Cu003e%22%2C%20%22detectRetina%22%3A%20false%2C%20%22maxNativeZoom%22%3A%2018%2C%20%22maxZoom%22%3A%2018%2C%20%22minZoom%22%3A%200%2C%20%22noWrap%22%3A%20false%2C%20%22opacity%22%3A%201%2C%20%22subdomains%22%3A%20%22abc%22%2C%20%22tms%22%3A%20false%7D%0A%20%20%20%20%20%20%20%20%20%20%20%20%29.addTo%28map_45bdaa85dcc149a19bc28ec7ed490d79%29%3B%0A%20%20%20%20%20%20%20%20%0A%20%20%20%20%0A%20%20%20%20%20%20%20%20%20%20%20%20var%20tile_layer_7a8216cc94be4c3581c5699d331ad1c1%20%3D%20L.tileLayer%28%0A%20%20%20%20%20%20%20%20%20%20%20%20%20%20%20%20%22https%3A//earthengine.googleapis.com/v1alpha/projects/earthengine-legacy/maps/f4a9db2984111596ef11484f45640e68-da8084ce9a3726ae4fb7153f7e4d0b66/tiles/%7Bz%7D/%7Bx%7D/%7By%7D%22%2C%0A%20%20%20%20%20%20%20%20%20%20%20%20%20%20%20%20%7B%22attribution%22%3A%20%22Map%20Data%20%5Cu0026copy%3B%20%5Cu003ca%20href%3D%5C%22https%3A//earthengine.google.com/%5C%22%5Cu003eGoogle%20Earth%20Engine%5Cu003c/a%5Cu003e%22%2C%20%22detectRetina%22%3A%20false%2C%20%22maxNativeZoom%22%3A%2018%2C%20%22maxZoom%22%3A%2018%2C%20%22minZoom%22%3A%200%2C%20%22noWrap%22%3A%20false%2C%20%22opacity%22%3A%201%2C%20%22subdomains%22%3A%20%22abc%22%2C%20%22tms%22%3A%20false%7D%0A%20%20%20%20%20%20%20%20%20%20%20%20%29.addTo%28map_45bdaa85dcc149a19bc28ec7ed490d79%29%3B%0A%20%20%20%20%20%20%20%20%0A%20%20%20%20%0A%20%20%20%20%20%20%20%20%20%20%20%20var%20tile_layer_cb89ed8f6a2c405ca17c777bee74c482%20%3D%20L.tileLayer%28%0A%20%20%20%20%20%20%20%20%20%20%20%20%20%20%20%20%22https%3A//earthengine.googleapis.com/v1alpha/projects/earthengine-legacy/maps/69d574b7db9854336533dc4d366a5fad-d85651ff3b3420cfba4ab0b3c1a70452/tiles/%7Bz%7D/%7Bx%7D/%7By%7D%22%2C%0A%20%20%20%20%20%20%20%20%20%20%20%20%20%20%20%20%7B%22attribution%22%3A%20%22Map%20Data%20%5Cu0026copy%3B%20%5Cu003ca%20href%3D%5C%22https%3A//earthengine.google.com/%5C%22%5Cu003eGoogle%20Earth%20Engine%5Cu003c/a%5Cu003e%22%2C%20%22detectRetina%22%3A%20false%2C%20%22maxNativeZoom%22%3A%2018%2C%20%22maxZoom%22%3A%2018%2C%20%22minZoom%22%3A%200%2C%20%22noWrap%22%3A%20false%2C%20%22opacity%22%3A%201%2C%20%22subdomains%22%3A%20%22abc%22%2C%20%22tms%22%3A%20false%7D%0A%20%20%20%20%20%20%20%20%20%20%20%20%29.addTo%28map_45bdaa85dcc149a19bc28ec7ed490d79%29%3B%0A%20%20%20%20%20%20%20%20%0A%20%20%20%20%0A%20%20%20%20%20%20%20%20%20%20%20%20var%20tile_layer_1050c2d2c6eb49e5ad5b118c3953e9e4%20%3D%20L.tileLayer%28%0A%20%20%20%20%20%20%20%20%20%20%20%20%20%20%20%20%22https%3A//earthengine.googleapis.com/v1alpha/projects/earthengine-legacy/maps/b00f89bd591a9e2b2cfae1f3e01df604-6c622bf4386ceef15ec9c28619f4a670/tiles/%7Bz%7D/%7Bx%7D/%7By%7D%22%2C%0A%20%20%20%20%20%20%20%20%20%20%20%20%20%20%20%20%7B%22attribution%22%3A%20%22Map%20Data%20%5Cu0026copy%3B%20%5Cu003ca%20href%3D%5C%22https%3A//earthengine.google.com/%5C%22%5Cu003eGoogle%20Earth%20Engine%5Cu003c/a%5Cu003e%22%2C%20%22detectRetina%22%3A%20false%2C%20%22maxNativeZoom%22%3A%2018%2C%20%22maxZoom%22%3A%2018%2C%20%22minZoom%22%3A%200%2C%20%22noWrap%22%3A%20false%2C%20%22opacity%22%3A%201%2C%20%22subdomains%22%3A%20%22abc%22%2C%20%22tms%22%3A%20false%7D%0A%20%20%20%20%20%20%20%20%20%20%20%20%29.addTo%28map_45bdaa85dcc149a19bc28ec7ed490d79%29%3B%0A%20%20%20%20%20%20%20%20%0A%20%20%20%20%0A%20%20%20%20%20%20%20%20%20%20%20%20var%20layer_control_ec082a8afe494716ae37fe0959f2d230%20%3D%20%7B%0A%20%20%20%20%20%20%20%20%20%20%20%20%20%20%20%20base_layers%20%3A%20%7B%0A%20%20%20%20%20%20%20%20%20%20%20%20%20%20%20%20%20%20%20%20%22openstreetmap%22%20%3A%20tile_layer_b8bdb7e132484b3daed9686e6150d84f%2C%0A%20%20%20%20%20%20%20%20%20%20%20%20%20%20%20%20%7D%2C%0A%20%20%20%20%20%20%20%20%20%20%20%20%20%20%20%20overlays%20%3A%20%20%7B%0A%20%20%20%20%20%20%20%20%20%20%20%20%20%20%20%20%20%20%20%20%22d%5Cu0027Andohahela%20Fitted%20NDVI%22%20%3A%20tile_layer_88c72bdfe7f94c56b3b10bd030d04cf1%2C%0A%20%20%20%20%20%20%20%20%20%20%20%20%20%20%20%20%20%20%20%20%22Midongy%20Betofaka%20Fitted%20NDVI%22%20%3A%20tile_layer_2fbcdfee581b46d9b7f0b72bd30cdfc9%2C%0A%20%20%20%20%20%20%20%20%20%20%20%20%20%20%20%20%20%20%20%20%22Tsimanampetsotsa%20Fitted%20NDVI%22%20%3A%20tile_layer_262d820d653b42539c8d3e45f7922758%2C%0A%20%20%20%20%20%20%20%20%20%20%20%20%20%20%20%20%20%20%20%20%22d%5Cu0027Ankarafantsika%20Fitted%20NDVI%22%20%3A%20tile_layer_7a8216cc94be4c3581c5699d331ad1c1%2C%0A%20%20%20%20%20%20%20%20%20%20%20%20%20%20%20%20%20%20%20%20%22Masoala%20Fitted%20NDVI%22%20%3A%20tile_layer_cb89ed8f6a2c405ca17c777bee74c482%2C%0A%20%20%20%20%20%20%20%20%20%20%20%20%20%20%20%20%20%20%20%20%22Alan%5Cu0027Ankirisa%20Fitted%20NDVI%22%20%3A%20tile_layer_1050c2d2c6eb49e5ad5b118c3953e9e4%2C%0A%20%20%20%20%20%20%20%20%20%20%20%20%20%20%20%20%7D%2C%0A%20%20%20%20%20%20%20%20%20%20%20%20%7D%3B%0A%20%20%20%20%20%20%20%20%20%20%20%20L.control.layers%28%0A%20%20%20%20%20%20%20%20%20%20%20%20%20%20%20%20layer_control_ec082a8afe494716ae37fe0959f2d230.base_layers%2C%0A%20%20%20%20%20%20%20%20%20%20%20%20%20%20%20%20layer_control_ec082a8afe494716ae37fe0959f2d230.overlays%2C%0A%20%20%20%20%20%20%20%20%20%20%20%20%20%20%20%20%7B%22autoZIndex%22%3A%20true%2C%20%22collapsed%22%3A%20true%2C%20%22position%22%3A%20%22topright%22%7D%0A%20%20%20%20%20%20%20%20%20%20%20%20%29.addTo%28map_45bdaa85dcc149a19bc28ec7ed490d79%29%3B%0A%20%20%20%20%20%20%20%20%0A%3C/script%3E onload=\"this.contentDocument.open();this.contentDocument.write(    decodeURIComponent(this.getAttribute('data-html')));this.contentDocument.close();\" allowfullscreen webkitallowfullscreen mozallowfullscreen></iframe></div></div>"
      ],
      "text/plain": [
       "<folium.folium.Map at 0x13e4b1b80>"
      ]
     },
     "metadata": {},
     "output_type": "display_data"
    },
    {
     "name": "stdout",
     "output_type": "stream",
     "text": [
      "\n",
      " \n",
      "\n",
      "2019-05-01 - 2019-06-01\n"
     ]
    },
    {
     "data": {
      "text/html": [
       "<div style=\"width:100%;\"><div style=\"position:relative;width:100%;height:0;padding-bottom:60%;\"><span style=\"color:#565656\">Make this Notebook Trusted to load map: File -> Trust Notebook</span><iframe src=\"about:blank\" style=\"position:absolute;width:100%;height:100%;left:0;top:0;border:none !important;\" data-html=%3C%21DOCTYPE%20html%3E%0A%3Chead%3E%20%20%20%20%0A%20%20%20%20%3Cmeta%20http-equiv%3D%22content-type%22%20content%3D%22text/html%3B%20charset%3DUTF-8%22%20/%3E%0A%20%20%20%20%0A%20%20%20%20%20%20%20%20%3Cscript%3E%0A%20%20%20%20%20%20%20%20%20%20%20%20L_NO_TOUCH%20%3D%20false%3B%0A%20%20%20%20%20%20%20%20%20%20%20%20L_DISABLE_3D%20%3D%20false%3B%0A%20%20%20%20%20%20%20%20%3C/script%3E%0A%20%20%20%20%0A%20%20%20%20%3Cstyle%3Ehtml%2C%20body%20%7Bwidth%3A%20100%25%3Bheight%3A%20100%25%3Bmargin%3A%200%3Bpadding%3A%200%3B%7D%3C/style%3E%0A%20%20%20%20%3Cstyle%3E%23map%20%7Bposition%3Aabsolute%3Btop%3A0%3Bbottom%3A0%3Bright%3A0%3Bleft%3A0%3B%7D%3C/style%3E%0A%20%20%20%20%3Cscript%20src%3D%22https%3A//cdn.jsdelivr.net/npm/leaflet%401.6.0/dist/leaflet.js%22%3E%3C/script%3E%0A%20%20%20%20%3Cscript%20src%3D%22https%3A//code.jquery.com/jquery-1.12.4.min.js%22%3E%3C/script%3E%0A%20%20%20%20%3Cscript%20src%3D%22https%3A//maxcdn.bootstrapcdn.com/bootstrap/3.2.0/js/bootstrap.min.js%22%3E%3C/script%3E%0A%20%20%20%20%3Cscript%20src%3D%22https%3A//cdnjs.cloudflare.com/ajax/libs/Leaflet.awesome-markers/2.0.2/leaflet.awesome-markers.js%22%3E%3C/script%3E%0A%20%20%20%20%3Clink%20rel%3D%22stylesheet%22%20href%3D%22https%3A//cdn.jsdelivr.net/npm/leaflet%401.6.0/dist/leaflet.css%22/%3E%0A%20%20%20%20%3Clink%20rel%3D%22stylesheet%22%20href%3D%22https%3A//maxcdn.bootstrapcdn.com/bootstrap/3.2.0/css/bootstrap.min.css%22/%3E%0A%20%20%20%20%3Clink%20rel%3D%22stylesheet%22%20href%3D%22https%3A//maxcdn.bootstrapcdn.com/bootstrap/3.2.0/css/bootstrap-theme.min.css%22/%3E%0A%20%20%20%20%3Clink%20rel%3D%22stylesheet%22%20href%3D%22https%3A//maxcdn.bootstrapcdn.com/font-awesome/4.6.3/css/font-awesome.min.css%22/%3E%0A%20%20%20%20%3Clink%20rel%3D%22stylesheet%22%20href%3D%22https%3A//cdnjs.cloudflare.com/ajax/libs/Leaflet.awesome-markers/2.0.2/leaflet.awesome-markers.css%22/%3E%0A%20%20%20%20%3Clink%20rel%3D%22stylesheet%22%20href%3D%22https%3A//cdn.jsdelivr.net/gh/python-visualization/folium/folium/templates/leaflet.awesome.rotate.min.css%22/%3E%0A%20%20%20%20%0A%20%20%20%20%20%20%20%20%20%20%20%20%3Cmeta%20name%3D%22viewport%22%20content%3D%22width%3Ddevice-width%2C%0A%20%20%20%20%20%20%20%20%20%20%20%20%20%20%20%20initial-scale%3D1.0%2C%20maximum-scale%3D1.0%2C%20user-scalable%3Dno%22%20/%3E%0A%20%20%20%20%20%20%20%20%20%20%20%20%3Cstyle%3E%0A%20%20%20%20%20%20%20%20%20%20%20%20%20%20%20%20%23map_e9660063ef6142eba1f3703e3608ae8e%20%7B%0A%20%20%20%20%20%20%20%20%20%20%20%20%20%20%20%20%20%20%20%20position%3A%20relative%3B%0A%20%20%20%20%20%20%20%20%20%20%20%20%20%20%20%20%20%20%20%20width%3A%20100.0%25%3B%0A%20%20%20%20%20%20%20%20%20%20%20%20%20%20%20%20%20%20%20%20height%3A%20100.0%25%3B%0A%20%20%20%20%20%20%20%20%20%20%20%20%20%20%20%20%20%20%20%20left%3A%200.0%25%3B%0A%20%20%20%20%20%20%20%20%20%20%20%20%20%20%20%20%20%20%20%20top%3A%200.0%25%3B%0A%20%20%20%20%20%20%20%20%20%20%20%20%20%20%20%20%7D%0A%20%20%20%20%20%20%20%20%20%20%20%20%3C/style%3E%0A%20%20%20%20%20%20%20%20%0A%3C/head%3E%0A%3Cbody%3E%20%20%20%20%0A%20%20%20%20%0A%20%20%20%20%20%20%20%20%20%20%20%20%3Cdiv%20class%3D%22folium-map%22%20id%3D%22map_e9660063ef6142eba1f3703e3608ae8e%22%20%3E%3C/div%3E%0A%20%20%20%20%20%20%20%20%0A%3C/body%3E%0A%3Cscript%3E%20%20%20%20%0A%20%20%20%20%0A%20%20%20%20%20%20%20%20%20%20%20%20var%20map_e9660063ef6142eba1f3703e3608ae8e%20%3D%20L.map%28%0A%20%20%20%20%20%20%20%20%20%20%20%20%20%20%20%20%22map_e9660063ef6142eba1f3703e3608ae8e%22%2C%0A%20%20%20%20%20%20%20%20%20%20%20%20%20%20%20%20%7B%0A%20%20%20%20%20%20%20%20%20%20%20%20%20%20%20%20%20%20%20%20center%3A%20%5B-18.203199246622674%2C%2046.779785%5D%2C%0A%20%20%20%20%20%20%20%20%20%20%20%20%20%20%20%20%20%20%20%20crs%3A%20L.CRS.EPSG3857%2C%0A%20%20%20%20%20%20%20%20%20%20%20%20%20%20%20%20%20%20%20%20zoom%3A%205.6%2C%0A%20%20%20%20%20%20%20%20%20%20%20%20%20%20%20%20%20%20%20%20zoomControl%3A%20true%2C%0A%20%20%20%20%20%20%20%20%20%20%20%20%20%20%20%20%20%20%20%20preferCanvas%3A%20false%2C%0A%20%20%20%20%20%20%20%20%20%20%20%20%20%20%20%20%7D%0A%20%20%20%20%20%20%20%20%20%20%20%20%29%3B%0A%0A%20%20%20%20%20%20%20%20%20%20%20%20%0A%0A%20%20%20%20%20%20%20%20%0A%20%20%20%20%0A%20%20%20%20%20%20%20%20%20%20%20%20var%20tile_layer_47e9d6d99cbe427fb8735f8815e75ded%20%3D%20L.tileLayer%28%0A%20%20%20%20%20%20%20%20%20%20%20%20%20%20%20%20%22https%3A//%7Bs%7D.tile.openstreetmap.org/%7Bz%7D/%7Bx%7D/%7By%7D.png%22%2C%0A%20%20%20%20%20%20%20%20%20%20%20%20%20%20%20%20%7B%22attribution%22%3A%20%22Data%20by%20%5Cu0026copy%3B%20%5Cu003ca%20href%3D%5C%22http%3A//openstreetmap.org%5C%22%5Cu003eOpenStreetMap%5Cu003c/a%5Cu003e%2C%20under%20%5Cu003ca%20href%3D%5C%22http%3A//www.openstreetmap.org/copyright%5C%22%5Cu003eODbL%5Cu003c/a%5Cu003e.%22%2C%20%22detectRetina%22%3A%20false%2C%20%22maxNativeZoom%22%3A%2018%2C%20%22maxZoom%22%3A%2018%2C%20%22minZoom%22%3A%200%2C%20%22noWrap%22%3A%20false%2C%20%22opacity%22%3A%201%2C%20%22subdomains%22%3A%20%22abc%22%2C%20%22tms%22%3A%20false%7D%0A%20%20%20%20%20%20%20%20%20%20%20%20%29.addTo%28map_e9660063ef6142eba1f3703e3608ae8e%29%3B%0A%20%20%20%20%20%20%20%20%0A%20%20%20%20%0A%20%20%20%20%20%20%20%20%20%20%20%20var%20tile_layer_d754881103f44c32b2299b376c42f738%20%3D%20L.tileLayer%28%0A%20%20%20%20%20%20%20%20%20%20%20%20%20%20%20%20%22https%3A//earthengine.googleapis.com/v1alpha/projects/earthengine-legacy/maps/c15d783101313992de4a30654e52717c-40a687e3211a34e9134c30cf1f9c0818/tiles/%7Bz%7D/%7Bx%7D/%7By%7D%22%2C%0A%20%20%20%20%20%20%20%20%20%20%20%20%20%20%20%20%7B%22attribution%22%3A%20%22Map%20Data%20%5Cu0026copy%3B%20%5Cu003ca%20href%3D%5C%22https%3A//earthengine.google.com/%5C%22%5Cu003eGoogle%20Earth%20Engine%5Cu003c/a%5Cu003e%22%2C%20%22detectRetina%22%3A%20false%2C%20%22maxNativeZoom%22%3A%2018%2C%20%22maxZoom%22%3A%2018%2C%20%22minZoom%22%3A%200%2C%20%22noWrap%22%3A%20false%2C%20%22opacity%22%3A%201%2C%20%22subdomains%22%3A%20%22abc%22%2C%20%22tms%22%3A%20false%7D%0A%20%20%20%20%20%20%20%20%20%20%20%20%29.addTo%28map_e9660063ef6142eba1f3703e3608ae8e%29%3B%0A%20%20%20%20%20%20%20%20%0A%20%20%20%20%0A%20%20%20%20%20%20%20%20%20%20%20%20var%20tile_layer_cf845d662e9f415f9343977e63a48b63%20%3D%20L.tileLayer%28%0A%20%20%20%20%20%20%20%20%20%20%20%20%20%20%20%20%22https%3A//earthengine.googleapis.com/v1alpha/projects/earthengine-legacy/maps/67b985b680a67d00b25e5a969b682100-480f93d8e27379d458a7402d83c9cc09/tiles/%7Bz%7D/%7Bx%7D/%7By%7D%22%2C%0A%20%20%20%20%20%20%20%20%20%20%20%20%20%20%20%20%7B%22attribution%22%3A%20%22Map%20Data%20%5Cu0026copy%3B%20%5Cu003ca%20href%3D%5C%22https%3A//earthengine.google.com/%5C%22%5Cu003eGoogle%20Earth%20Engine%5Cu003c/a%5Cu003e%22%2C%20%22detectRetina%22%3A%20false%2C%20%22maxNativeZoom%22%3A%2018%2C%20%22maxZoom%22%3A%2018%2C%20%22minZoom%22%3A%200%2C%20%22noWrap%22%3A%20false%2C%20%22opacity%22%3A%201%2C%20%22subdomains%22%3A%20%22abc%22%2C%20%22tms%22%3A%20false%7D%0A%20%20%20%20%20%20%20%20%20%20%20%20%29.addTo%28map_e9660063ef6142eba1f3703e3608ae8e%29%3B%0A%20%20%20%20%20%20%20%20%0A%20%20%20%20%0A%20%20%20%20%20%20%20%20%20%20%20%20var%20tile_layer_9b73e7dad9434acf9d00b48cd9636732%20%3D%20L.tileLayer%28%0A%20%20%20%20%20%20%20%20%20%20%20%20%20%20%20%20%22https%3A//earthengine.googleapis.com/v1alpha/projects/earthengine-legacy/maps/c527776f88303cca9947ffd28d2b5245-f4c952f9b22b003b7e9df8acaf93e6e4/tiles/%7Bz%7D/%7Bx%7D/%7By%7D%22%2C%0A%20%20%20%20%20%20%20%20%20%20%20%20%20%20%20%20%7B%22attribution%22%3A%20%22Map%20Data%20%5Cu0026copy%3B%20%5Cu003ca%20href%3D%5C%22https%3A//earthengine.google.com/%5C%22%5Cu003eGoogle%20Earth%20Engine%5Cu003c/a%5Cu003e%22%2C%20%22detectRetina%22%3A%20false%2C%20%22maxNativeZoom%22%3A%2018%2C%20%22maxZoom%22%3A%2018%2C%20%22minZoom%22%3A%200%2C%20%22noWrap%22%3A%20false%2C%20%22opacity%22%3A%201%2C%20%22subdomains%22%3A%20%22abc%22%2C%20%22tms%22%3A%20false%7D%0A%20%20%20%20%20%20%20%20%20%20%20%20%29.addTo%28map_e9660063ef6142eba1f3703e3608ae8e%29%3B%0A%20%20%20%20%20%20%20%20%0A%20%20%20%20%0A%20%20%20%20%20%20%20%20%20%20%20%20var%20tile_layer_feb5db4fa60e4a16a7b12af4218b1ec4%20%3D%20L.tileLayer%28%0A%20%20%20%20%20%20%20%20%20%20%20%20%20%20%20%20%22https%3A//earthengine.googleapis.com/v1alpha/projects/earthengine-legacy/maps/d8a9402f575dcdeb1a8f915dbcf78af1-a3ea646d50f1c920f9ea7ff69d04b561/tiles/%7Bz%7D/%7Bx%7D/%7By%7D%22%2C%0A%20%20%20%20%20%20%20%20%20%20%20%20%20%20%20%20%7B%22attribution%22%3A%20%22Map%20Data%20%5Cu0026copy%3B%20%5Cu003ca%20href%3D%5C%22https%3A//earthengine.google.com/%5C%22%5Cu003eGoogle%20Earth%20Engine%5Cu003c/a%5Cu003e%22%2C%20%22detectRetina%22%3A%20false%2C%20%22maxNativeZoom%22%3A%2018%2C%20%22maxZoom%22%3A%2018%2C%20%22minZoom%22%3A%200%2C%20%22noWrap%22%3A%20false%2C%20%22opacity%22%3A%201%2C%20%22subdomains%22%3A%20%22abc%22%2C%20%22tms%22%3A%20false%7D%0A%20%20%20%20%20%20%20%20%20%20%20%20%29.addTo%28map_e9660063ef6142eba1f3703e3608ae8e%29%3B%0A%20%20%20%20%20%20%20%20%0A%20%20%20%20%0A%20%20%20%20%20%20%20%20%20%20%20%20var%20tile_layer_e39f1407b1fe446aa978b3d490b2c096%20%3D%20L.tileLayer%28%0A%20%20%20%20%20%20%20%20%20%20%20%20%20%20%20%20%22https%3A//earthengine.googleapis.com/v1alpha/projects/earthengine-legacy/maps/01fcc7452fd7d4075d1d9a90eb45639d-eea8b49d2c9a2c9e9e0f8f19911ece84/tiles/%7Bz%7D/%7Bx%7D/%7By%7D%22%2C%0A%20%20%20%20%20%20%20%20%20%20%20%20%20%20%20%20%7B%22attribution%22%3A%20%22Map%20Data%20%5Cu0026copy%3B%20%5Cu003ca%20href%3D%5C%22https%3A//earthengine.google.com/%5C%22%5Cu003eGoogle%20Earth%20Engine%5Cu003c/a%5Cu003e%22%2C%20%22detectRetina%22%3A%20false%2C%20%22maxNativeZoom%22%3A%2018%2C%20%22maxZoom%22%3A%2018%2C%20%22minZoom%22%3A%200%2C%20%22noWrap%22%3A%20false%2C%20%22opacity%22%3A%201%2C%20%22subdomains%22%3A%20%22abc%22%2C%20%22tms%22%3A%20false%7D%0A%20%20%20%20%20%20%20%20%20%20%20%20%29.addTo%28map_e9660063ef6142eba1f3703e3608ae8e%29%3B%0A%20%20%20%20%20%20%20%20%0A%20%20%20%20%0A%20%20%20%20%20%20%20%20%20%20%20%20var%20tile_layer_3e952e43a3c44d6591fa0827fea39afe%20%3D%20L.tileLayer%28%0A%20%20%20%20%20%20%20%20%20%20%20%20%20%20%20%20%22https%3A//earthengine.googleapis.com/v1alpha/projects/earthengine-legacy/maps/ab9513681ddb45cd019e86610c8d2f7c-75d2e2bf7cd8b261d562d2f868af1dab/tiles/%7Bz%7D/%7Bx%7D/%7By%7D%22%2C%0A%20%20%20%20%20%20%20%20%20%20%20%20%20%20%20%20%7B%22attribution%22%3A%20%22Map%20Data%20%5Cu0026copy%3B%20%5Cu003ca%20href%3D%5C%22https%3A//earthengine.google.com/%5C%22%5Cu003eGoogle%20Earth%20Engine%5Cu003c/a%5Cu003e%22%2C%20%22detectRetina%22%3A%20false%2C%20%22maxNativeZoom%22%3A%2018%2C%20%22maxZoom%22%3A%2018%2C%20%22minZoom%22%3A%200%2C%20%22noWrap%22%3A%20false%2C%20%22opacity%22%3A%201%2C%20%22subdomains%22%3A%20%22abc%22%2C%20%22tms%22%3A%20false%7D%0A%20%20%20%20%20%20%20%20%20%20%20%20%29.addTo%28map_e9660063ef6142eba1f3703e3608ae8e%29%3B%0A%20%20%20%20%20%20%20%20%0A%20%20%20%20%0A%20%20%20%20%20%20%20%20%20%20%20%20var%20layer_control_d746c863a5c8427480ec012d5a1ec277%20%3D%20%7B%0A%20%20%20%20%20%20%20%20%20%20%20%20%20%20%20%20base_layers%20%3A%20%7B%0A%20%20%20%20%20%20%20%20%20%20%20%20%20%20%20%20%20%20%20%20%22openstreetmap%22%20%3A%20tile_layer_47e9d6d99cbe427fb8735f8815e75ded%2C%0A%20%20%20%20%20%20%20%20%20%20%20%20%20%20%20%20%7D%2C%0A%20%20%20%20%20%20%20%20%20%20%20%20%20%20%20%20overlays%20%3A%20%20%7B%0A%20%20%20%20%20%20%20%20%20%20%20%20%20%20%20%20%20%20%20%20%22d%5Cu0027Andohahela%20Fitted%20NDVI%22%20%3A%20tile_layer_d754881103f44c32b2299b376c42f738%2C%0A%20%20%20%20%20%20%20%20%20%20%20%20%20%20%20%20%20%20%20%20%22Midongy%20Betofaka%20Fitted%20NDVI%22%20%3A%20tile_layer_cf845d662e9f415f9343977e63a48b63%2C%0A%20%20%20%20%20%20%20%20%20%20%20%20%20%20%20%20%20%20%20%20%22Tsimanampetsotsa%20Fitted%20NDVI%22%20%3A%20tile_layer_9b73e7dad9434acf9d00b48cd9636732%2C%0A%20%20%20%20%20%20%20%20%20%20%20%20%20%20%20%20%20%20%20%20%22d%5Cu0027Ankarafantsika%20Fitted%20NDVI%22%20%3A%20tile_layer_feb5db4fa60e4a16a7b12af4218b1ec4%2C%0A%20%20%20%20%20%20%20%20%20%20%20%20%20%20%20%20%20%20%20%20%22Masoala%20Fitted%20NDVI%22%20%3A%20tile_layer_e39f1407b1fe446aa978b3d490b2c096%2C%0A%20%20%20%20%20%20%20%20%20%20%20%20%20%20%20%20%20%20%20%20%22Alan%5Cu0027Ankirisa%20Fitted%20NDVI%22%20%3A%20tile_layer_3e952e43a3c44d6591fa0827fea39afe%2C%0A%20%20%20%20%20%20%20%20%20%20%20%20%20%20%20%20%7D%2C%0A%20%20%20%20%20%20%20%20%20%20%20%20%7D%3B%0A%20%20%20%20%20%20%20%20%20%20%20%20L.control.layers%28%0A%20%20%20%20%20%20%20%20%20%20%20%20%20%20%20%20layer_control_d746c863a5c8427480ec012d5a1ec277.base_layers%2C%0A%20%20%20%20%20%20%20%20%20%20%20%20%20%20%20%20layer_control_d746c863a5c8427480ec012d5a1ec277.overlays%2C%0A%20%20%20%20%20%20%20%20%20%20%20%20%20%20%20%20%7B%22autoZIndex%22%3A%20true%2C%20%22collapsed%22%3A%20true%2C%20%22position%22%3A%20%22topright%22%7D%0A%20%20%20%20%20%20%20%20%20%20%20%20%29.addTo%28map_e9660063ef6142eba1f3703e3608ae8e%29%3B%0A%20%20%20%20%20%20%20%20%0A%3C/script%3E onload=\"this.contentDocument.open();this.contentDocument.write(    decodeURIComponent(this.getAttribute('data-html')));this.contentDocument.close();\" allowfullscreen webkitallowfullscreen mozallowfullscreen></iframe></div></div>"
      ],
      "text/plain": [
       "<folium.folium.Map at 0x13e529460>"
      ]
     },
     "metadata": {},
     "output_type": "display_data"
    },
    {
     "name": "stdout",
     "output_type": "stream",
     "text": [
      "\n",
      " \n",
      "\n",
      "2019-06-01 - 2019-07-01\n"
     ]
    },
    {
     "data": {
      "text/html": [
       "<div style=\"width:100%;\"><div style=\"position:relative;width:100%;height:0;padding-bottom:60%;\"><span style=\"color:#565656\">Make this Notebook Trusted to load map: File -> Trust Notebook</span><iframe src=\"about:blank\" style=\"position:absolute;width:100%;height:100%;left:0;top:0;border:none !important;\" data-html=%3C%21DOCTYPE%20html%3E%0A%3Chead%3E%20%20%20%20%0A%20%20%20%20%3Cmeta%20http-equiv%3D%22content-type%22%20content%3D%22text/html%3B%20charset%3DUTF-8%22%20/%3E%0A%20%20%20%20%0A%20%20%20%20%20%20%20%20%3Cscript%3E%0A%20%20%20%20%20%20%20%20%20%20%20%20L_NO_TOUCH%20%3D%20false%3B%0A%20%20%20%20%20%20%20%20%20%20%20%20L_DISABLE_3D%20%3D%20false%3B%0A%20%20%20%20%20%20%20%20%3C/script%3E%0A%20%20%20%20%0A%20%20%20%20%3Cstyle%3Ehtml%2C%20body%20%7Bwidth%3A%20100%25%3Bheight%3A%20100%25%3Bmargin%3A%200%3Bpadding%3A%200%3B%7D%3C/style%3E%0A%20%20%20%20%3Cstyle%3E%23map%20%7Bposition%3Aabsolute%3Btop%3A0%3Bbottom%3A0%3Bright%3A0%3Bleft%3A0%3B%7D%3C/style%3E%0A%20%20%20%20%3Cscript%20src%3D%22https%3A//cdn.jsdelivr.net/npm/leaflet%401.6.0/dist/leaflet.js%22%3E%3C/script%3E%0A%20%20%20%20%3Cscript%20src%3D%22https%3A//code.jquery.com/jquery-1.12.4.min.js%22%3E%3C/script%3E%0A%20%20%20%20%3Cscript%20src%3D%22https%3A//maxcdn.bootstrapcdn.com/bootstrap/3.2.0/js/bootstrap.min.js%22%3E%3C/script%3E%0A%20%20%20%20%3Cscript%20src%3D%22https%3A//cdnjs.cloudflare.com/ajax/libs/Leaflet.awesome-markers/2.0.2/leaflet.awesome-markers.js%22%3E%3C/script%3E%0A%20%20%20%20%3Clink%20rel%3D%22stylesheet%22%20href%3D%22https%3A//cdn.jsdelivr.net/npm/leaflet%401.6.0/dist/leaflet.css%22/%3E%0A%20%20%20%20%3Clink%20rel%3D%22stylesheet%22%20href%3D%22https%3A//maxcdn.bootstrapcdn.com/bootstrap/3.2.0/css/bootstrap.min.css%22/%3E%0A%20%20%20%20%3Clink%20rel%3D%22stylesheet%22%20href%3D%22https%3A//maxcdn.bootstrapcdn.com/bootstrap/3.2.0/css/bootstrap-theme.min.css%22/%3E%0A%20%20%20%20%3Clink%20rel%3D%22stylesheet%22%20href%3D%22https%3A//maxcdn.bootstrapcdn.com/font-awesome/4.6.3/css/font-awesome.min.css%22/%3E%0A%20%20%20%20%3Clink%20rel%3D%22stylesheet%22%20href%3D%22https%3A//cdnjs.cloudflare.com/ajax/libs/Leaflet.awesome-markers/2.0.2/leaflet.awesome-markers.css%22/%3E%0A%20%20%20%20%3Clink%20rel%3D%22stylesheet%22%20href%3D%22https%3A//cdn.jsdelivr.net/gh/python-visualization/folium/folium/templates/leaflet.awesome.rotate.min.css%22/%3E%0A%20%20%20%20%0A%20%20%20%20%20%20%20%20%20%20%20%20%3Cmeta%20name%3D%22viewport%22%20content%3D%22width%3Ddevice-width%2C%0A%20%20%20%20%20%20%20%20%20%20%20%20%20%20%20%20initial-scale%3D1.0%2C%20maximum-scale%3D1.0%2C%20user-scalable%3Dno%22%20/%3E%0A%20%20%20%20%20%20%20%20%20%20%20%20%3Cstyle%3E%0A%20%20%20%20%20%20%20%20%20%20%20%20%20%20%20%20%23map_54c91db35514404ab5e23a0e3a76ed5c%20%7B%0A%20%20%20%20%20%20%20%20%20%20%20%20%20%20%20%20%20%20%20%20position%3A%20relative%3B%0A%20%20%20%20%20%20%20%20%20%20%20%20%20%20%20%20%20%20%20%20width%3A%20100.0%25%3B%0A%20%20%20%20%20%20%20%20%20%20%20%20%20%20%20%20%20%20%20%20height%3A%20100.0%25%3B%0A%20%20%20%20%20%20%20%20%20%20%20%20%20%20%20%20%20%20%20%20left%3A%200.0%25%3B%0A%20%20%20%20%20%20%20%20%20%20%20%20%20%20%20%20%20%20%20%20top%3A%200.0%25%3B%0A%20%20%20%20%20%20%20%20%20%20%20%20%20%20%20%20%7D%0A%20%20%20%20%20%20%20%20%20%20%20%20%3C/style%3E%0A%20%20%20%20%20%20%20%20%0A%3C/head%3E%0A%3Cbody%3E%20%20%20%20%0A%20%20%20%20%0A%20%20%20%20%20%20%20%20%20%20%20%20%3Cdiv%20class%3D%22folium-map%22%20id%3D%22map_54c91db35514404ab5e23a0e3a76ed5c%22%20%3E%3C/div%3E%0A%20%20%20%20%20%20%20%20%0A%3C/body%3E%0A%3Cscript%3E%20%20%20%20%0A%20%20%20%20%0A%20%20%20%20%20%20%20%20%20%20%20%20var%20map_54c91db35514404ab5e23a0e3a76ed5c%20%3D%20L.map%28%0A%20%20%20%20%20%20%20%20%20%20%20%20%20%20%20%20%22map_54c91db35514404ab5e23a0e3a76ed5c%22%2C%0A%20%20%20%20%20%20%20%20%20%20%20%20%20%20%20%20%7B%0A%20%20%20%20%20%20%20%20%20%20%20%20%20%20%20%20%20%20%20%20center%3A%20%5B-18.203199246622674%2C%2046.779785%5D%2C%0A%20%20%20%20%20%20%20%20%20%20%20%20%20%20%20%20%20%20%20%20crs%3A%20L.CRS.EPSG3857%2C%0A%20%20%20%20%20%20%20%20%20%20%20%20%20%20%20%20%20%20%20%20zoom%3A%205.6%2C%0A%20%20%20%20%20%20%20%20%20%20%20%20%20%20%20%20%20%20%20%20zoomControl%3A%20true%2C%0A%20%20%20%20%20%20%20%20%20%20%20%20%20%20%20%20%20%20%20%20preferCanvas%3A%20false%2C%0A%20%20%20%20%20%20%20%20%20%20%20%20%20%20%20%20%7D%0A%20%20%20%20%20%20%20%20%20%20%20%20%29%3B%0A%0A%20%20%20%20%20%20%20%20%20%20%20%20%0A%0A%20%20%20%20%20%20%20%20%0A%20%20%20%20%0A%20%20%20%20%20%20%20%20%20%20%20%20var%20tile_layer_a7e3b9a3b7704400bea12635bda64436%20%3D%20L.tileLayer%28%0A%20%20%20%20%20%20%20%20%20%20%20%20%20%20%20%20%22https%3A//%7Bs%7D.tile.openstreetmap.org/%7Bz%7D/%7Bx%7D/%7By%7D.png%22%2C%0A%20%20%20%20%20%20%20%20%20%20%20%20%20%20%20%20%7B%22attribution%22%3A%20%22Data%20by%20%5Cu0026copy%3B%20%5Cu003ca%20href%3D%5C%22http%3A//openstreetmap.org%5C%22%5Cu003eOpenStreetMap%5Cu003c/a%5Cu003e%2C%20under%20%5Cu003ca%20href%3D%5C%22http%3A//www.openstreetmap.org/copyright%5C%22%5Cu003eODbL%5Cu003c/a%5Cu003e.%22%2C%20%22detectRetina%22%3A%20false%2C%20%22maxNativeZoom%22%3A%2018%2C%20%22maxZoom%22%3A%2018%2C%20%22minZoom%22%3A%200%2C%20%22noWrap%22%3A%20false%2C%20%22opacity%22%3A%201%2C%20%22subdomains%22%3A%20%22abc%22%2C%20%22tms%22%3A%20false%7D%0A%20%20%20%20%20%20%20%20%20%20%20%20%29.addTo%28map_54c91db35514404ab5e23a0e3a76ed5c%29%3B%0A%20%20%20%20%20%20%20%20%0A%20%20%20%20%0A%20%20%20%20%20%20%20%20%20%20%20%20var%20tile_layer_4705cec46f0f429cb107e18df82db5cc%20%3D%20L.tileLayer%28%0A%20%20%20%20%20%20%20%20%20%20%20%20%20%20%20%20%22https%3A//earthengine.googleapis.com/v1alpha/projects/earthengine-legacy/maps/107b86717b88c74b1ef21e1b841cb2eb-85a3d2532981e78fab4682cbe52c7e57/tiles/%7Bz%7D/%7Bx%7D/%7By%7D%22%2C%0A%20%20%20%20%20%20%20%20%20%20%20%20%20%20%20%20%7B%22attribution%22%3A%20%22Map%20Data%20%5Cu0026copy%3B%20%5Cu003ca%20href%3D%5C%22https%3A//earthengine.google.com/%5C%22%5Cu003eGoogle%20Earth%20Engine%5Cu003c/a%5Cu003e%22%2C%20%22detectRetina%22%3A%20false%2C%20%22maxNativeZoom%22%3A%2018%2C%20%22maxZoom%22%3A%2018%2C%20%22minZoom%22%3A%200%2C%20%22noWrap%22%3A%20false%2C%20%22opacity%22%3A%201%2C%20%22subdomains%22%3A%20%22abc%22%2C%20%22tms%22%3A%20false%7D%0A%20%20%20%20%20%20%20%20%20%20%20%20%29.addTo%28map_54c91db35514404ab5e23a0e3a76ed5c%29%3B%0A%20%20%20%20%20%20%20%20%0A%20%20%20%20%0A%20%20%20%20%20%20%20%20%20%20%20%20var%20tile_layer_757172a41b7b4fa983f3b005314d34d3%20%3D%20L.tileLayer%28%0A%20%20%20%20%20%20%20%20%20%20%20%20%20%20%20%20%22https%3A//earthengine.googleapis.com/v1alpha/projects/earthengine-legacy/maps/70f493cdae2dfe805689e3768a3e972d-5103686393649c3432cefcf6bcba5540/tiles/%7Bz%7D/%7Bx%7D/%7By%7D%22%2C%0A%20%20%20%20%20%20%20%20%20%20%20%20%20%20%20%20%7B%22attribution%22%3A%20%22Map%20Data%20%5Cu0026copy%3B%20%5Cu003ca%20href%3D%5C%22https%3A//earthengine.google.com/%5C%22%5Cu003eGoogle%20Earth%20Engine%5Cu003c/a%5Cu003e%22%2C%20%22detectRetina%22%3A%20false%2C%20%22maxNativeZoom%22%3A%2018%2C%20%22maxZoom%22%3A%2018%2C%20%22minZoom%22%3A%200%2C%20%22noWrap%22%3A%20false%2C%20%22opacity%22%3A%201%2C%20%22subdomains%22%3A%20%22abc%22%2C%20%22tms%22%3A%20false%7D%0A%20%20%20%20%20%20%20%20%20%20%20%20%29.addTo%28map_54c91db35514404ab5e23a0e3a76ed5c%29%3B%0A%20%20%20%20%20%20%20%20%0A%20%20%20%20%0A%20%20%20%20%20%20%20%20%20%20%20%20var%20tile_layer_2abc002bde7f461ab7e190c419fdafab%20%3D%20L.tileLayer%28%0A%20%20%20%20%20%20%20%20%20%20%20%20%20%20%20%20%22https%3A//earthengine.googleapis.com/v1alpha/projects/earthengine-legacy/maps/da2bb73011c596ed5302d01c4e438caf-a3b75105c01a2425fa35befa0264a999/tiles/%7Bz%7D/%7Bx%7D/%7By%7D%22%2C%0A%20%20%20%20%20%20%20%20%20%20%20%20%20%20%20%20%7B%22attribution%22%3A%20%22Map%20Data%20%5Cu0026copy%3B%20%5Cu003ca%20href%3D%5C%22https%3A//earthengine.google.com/%5C%22%5Cu003eGoogle%20Earth%20Engine%5Cu003c/a%5Cu003e%22%2C%20%22detectRetina%22%3A%20false%2C%20%22maxNativeZoom%22%3A%2018%2C%20%22maxZoom%22%3A%2018%2C%20%22minZoom%22%3A%200%2C%20%22noWrap%22%3A%20false%2C%20%22opacity%22%3A%201%2C%20%22subdomains%22%3A%20%22abc%22%2C%20%22tms%22%3A%20false%7D%0A%20%20%20%20%20%20%20%20%20%20%20%20%29.addTo%28map_54c91db35514404ab5e23a0e3a76ed5c%29%3B%0A%20%20%20%20%20%20%20%20%0A%20%20%20%20%0A%20%20%20%20%20%20%20%20%20%20%20%20var%20tile_layer_abd9e8167af643358a98cb6b2477e94f%20%3D%20L.tileLayer%28%0A%20%20%20%20%20%20%20%20%20%20%20%20%20%20%20%20%22https%3A//earthengine.googleapis.com/v1alpha/projects/earthengine-legacy/maps/fcc717c293ac1faa83b9bbf9e752da24-d5e8aa6a6d3ed71fbcec3539d8b0301d/tiles/%7Bz%7D/%7Bx%7D/%7By%7D%22%2C%0A%20%20%20%20%20%20%20%20%20%20%20%20%20%20%20%20%7B%22attribution%22%3A%20%22Map%20Data%20%5Cu0026copy%3B%20%5Cu003ca%20href%3D%5C%22https%3A//earthengine.google.com/%5C%22%5Cu003eGoogle%20Earth%20Engine%5Cu003c/a%5Cu003e%22%2C%20%22detectRetina%22%3A%20false%2C%20%22maxNativeZoom%22%3A%2018%2C%20%22maxZoom%22%3A%2018%2C%20%22minZoom%22%3A%200%2C%20%22noWrap%22%3A%20false%2C%20%22opacity%22%3A%201%2C%20%22subdomains%22%3A%20%22abc%22%2C%20%22tms%22%3A%20false%7D%0A%20%20%20%20%20%20%20%20%20%20%20%20%29.addTo%28map_54c91db35514404ab5e23a0e3a76ed5c%29%3B%0A%20%20%20%20%20%20%20%20%0A%20%20%20%20%0A%20%20%20%20%20%20%20%20%20%20%20%20var%20tile_layer_e5ac230319b64ed78c7884acdc4de1e4%20%3D%20L.tileLayer%28%0A%20%20%20%20%20%20%20%20%20%20%20%20%20%20%20%20%22https%3A//earthengine.googleapis.com/v1alpha/projects/earthengine-legacy/maps/5c7c32a3234d49f8da13ee51e9f30491-e400a2665009dff6d8498fd142ca885e/tiles/%7Bz%7D/%7Bx%7D/%7By%7D%22%2C%0A%20%20%20%20%20%20%20%20%20%20%20%20%20%20%20%20%7B%22attribution%22%3A%20%22Map%20Data%20%5Cu0026copy%3B%20%5Cu003ca%20href%3D%5C%22https%3A//earthengine.google.com/%5C%22%5Cu003eGoogle%20Earth%20Engine%5Cu003c/a%5Cu003e%22%2C%20%22detectRetina%22%3A%20false%2C%20%22maxNativeZoom%22%3A%2018%2C%20%22maxZoom%22%3A%2018%2C%20%22minZoom%22%3A%200%2C%20%22noWrap%22%3A%20false%2C%20%22opacity%22%3A%201%2C%20%22subdomains%22%3A%20%22abc%22%2C%20%22tms%22%3A%20false%7D%0A%20%20%20%20%20%20%20%20%20%20%20%20%29.addTo%28map_54c91db35514404ab5e23a0e3a76ed5c%29%3B%0A%20%20%20%20%20%20%20%20%0A%20%20%20%20%0A%20%20%20%20%20%20%20%20%20%20%20%20var%20tile_layer_ef91000ea9e2438c9818d0715ef37258%20%3D%20L.tileLayer%28%0A%20%20%20%20%20%20%20%20%20%20%20%20%20%20%20%20%22https%3A//earthengine.googleapis.com/v1alpha/projects/earthengine-legacy/maps/51eb514b9c1d74838836791eef2e8468-2a4eb99adb6addcfc0c75ea0bc1518b6/tiles/%7Bz%7D/%7Bx%7D/%7By%7D%22%2C%0A%20%20%20%20%20%20%20%20%20%20%20%20%20%20%20%20%7B%22attribution%22%3A%20%22Map%20Data%20%5Cu0026copy%3B%20%5Cu003ca%20href%3D%5C%22https%3A//earthengine.google.com/%5C%22%5Cu003eGoogle%20Earth%20Engine%5Cu003c/a%5Cu003e%22%2C%20%22detectRetina%22%3A%20false%2C%20%22maxNativeZoom%22%3A%2018%2C%20%22maxZoom%22%3A%2018%2C%20%22minZoom%22%3A%200%2C%20%22noWrap%22%3A%20false%2C%20%22opacity%22%3A%201%2C%20%22subdomains%22%3A%20%22abc%22%2C%20%22tms%22%3A%20false%7D%0A%20%20%20%20%20%20%20%20%20%20%20%20%29.addTo%28map_54c91db35514404ab5e23a0e3a76ed5c%29%3B%0A%20%20%20%20%20%20%20%20%0A%20%20%20%20%0A%20%20%20%20%20%20%20%20%20%20%20%20var%20layer_control_cab71d9dad4a46bb9da09b756bba26ee%20%3D%20%7B%0A%20%20%20%20%20%20%20%20%20%20%20%20%20%20%20%20base_layers%20%3A%20%7B%0A%20%20%20%20%20%20%20%20%20%20%20%20%20%20%20%20%20%20%20%20%22openstreetmap%22%20%3A%20tile_layer_a7e3b9a3b7704400bea12635bda64436%2C%0A%20%20%20%20%20%20%20%20%20%20%20%20%20%20%20%20%7D%2C%0A%20%20%20%20%20%20%20%20%20%20%20%20%20%20%20%20overlays%20%3A%20%20%7B%0A%20%20%20%20%20%20%20%20%20%20%20%20%20%20%20%20%20%20%20%20%22d%5Cu0027Andohahela%20Fitted%20NDVI%22%20%3A%20tile_layer_4705cec46f0f429cb107e18df82db5cc%2C%0A%20%20%20%20%20%20%20%20%20%20%20%20%20%20%20%20%20%20%20%20%22Midongy%20Betofaka%20Fitted%20NDVI%22%20%3A%20tile_layer_757172a41b7b4fa983f3b005314d34d3%2C%0A%20%20%20%20%20%20%20%20%20%20%20%20%20%20%20%20%20%20%20%20%22Tsimanampetsotsa%20Fitted%20NDVI%22%20%3A%20tile_layer_2abc002bde7f461ab7e190c419fdafab%2C%0A%20%20%20%20%20%20%20%20%20%20%20%20%20%20%20%20%20%20%20%20%22d%5Cu0027Ankarafantsika%20Fitted%20NDVI%22%20%3A%20tile_layer_abd9e8167af643358a98cb6b2477e94f%2C%0A%20%20%20%20%20%20%20%20%20%20%20%20%20%20%20%20%20%20%20%20%22Masoala%20Fitted%20NDVI%22%20%3A%20tile_layer_e5ac230319b64ed78c7884acdc4de1e4%2C%0A%20%20%20%20%20%20%20%20%20%20%20%20%20%20%20%20%20%20%20%20%22Alan%5Cu0027Ankirisa%20Fitted%20NDVI%22%20%3A%20tile_layer_ef91000ea9e2438c9818d0715ef37258%2C%0A%20%20%20%20%20%20%20%20%20%20%20%20%20%20%20%20%7D%2C%0A%20%20%20%20%20%20%20%20%20%20%20%20%7D%3B%0A%20%20%20%20%20%20%20%20%20%20%20%20L.control.layers%28%0A%20%20%20%20%20%20%20%20%20%20%20%20%20%20%20%20layer_control_cab71d9dad4a46bb9da09b756bba26ee.base_layers%2C%0A%20%20%20%20%20%20%20%20%20%20%20%20%20%20%20%20layer_control_cab71d9dad4a46bb9da09b756bba26ee.overlays%2C%0A%20%20%20%20%20%20%20%20%20%20%20%20%20%20%20%20%7B%22autoZIndex%22%3A%20true%2C%20%22collapsed%22%3A%20true%2C%20%22position%22%3A%20%22topright%22%7D%0A%20%20%20%20%20%20%20%20%20%20%20%20%29.addTo%28map_54c91db35514404ab5e23a0e3a76ed5c%29%3B%0A%20%20%20%20%20%20%20%20%0A%3C/script%3E onload=\"this.contentDocument.open();this.contentDocument.write(    decodeURIComponent(this.getAttribute('data-html')));this.contentDocument.close();\" allowfullscreen webkitallowfullscreen mozallowfullscreen></iframe></div></div>"
      ],
      "text/plain": [
       "<folium.folium.Map at 0x13e57a1c0>"
      ]
     },
     "metadata": {},
     "output_type": "display_data"
    },
    {
     "name": "stdout",
     "output_type": "stream",
     "text": [
      "\n",
      " \n",
      "\n",
      "2019-07-01 - 2019-08-01\n"
     ]
    },
    {
     "data": {
      "text/html": [
       "<div style=\"width:100%;\"><div style=\"position:relative;width:100%;height:0;padding-bottom:60%;\"><span style=\"color:#565656\">Make this Notebook Trusted to load map: File -> Trust Notebook</span><iframe src=\"about:blank\" style=\"position:absolute;width:100%;height:100%;left:0;top:0;border:none !important;\" data-html=%3C%21DOCTYPE%20html%3E%0A%3Chead%3E%20%20%20%20%0A%20%20%20%20%3Cmeta%20http-equiv%3D%22content-type%22%20content%3D%22text/html%3B%20charset%3DUTF-8%22%20/%3E%0A%20%20%20%20%0A%20%20%20%20%20%20%20%20%3Cscript%3E%0A%20%20%20%20%20%20%20%20%20%20%20%20L_NO_TOUCH%20%3D%20false%3B%0A%20%20%20%20%20%20%20%20%20%20%20%20L_DISABLE_3D%20%3D%20false%3B%0A%20%20%20%20%20%20%20%20%3C/script%3E%0A%20%20%20%20%0A%20%20%20%20%3Cstyle%3Ehtml%2C%20body%20%7Bwidth%3A%20100%25%3Bheight%3A%20100%25%3Bmargin%3A%200%3Bpadding%3A%200%3B%7D%3C/style%3E%0A%20%20%20%20%3Cstyle%3E%23map%20%7Bposition%3Aabsolute%3Btop%3A0%3Bbottom%3A0%3Bright%3A0%3Bleft%3A0%3B%7D%3C/style%3E%0A%20%20%20%20%3Cscript%20src%3D%22https%3A//cdn.jsdelivr.net/npm/leaflet%401.6.0/dist/leaflet.js%22%3E%3C/script%3E%0A%20%20%20%20%3Cscript%20src%3D%22https%3A//code.jquery.com/jquery-1.12.4.min.js%22%3E%3C/script%3E%0A%20%20%20%20%3Cscript%20src%3D%22https%3A//maxcdn.bootstrapcdn.com/bootstrap/3.2.0/js/bootstrap.min.js%22%3E%3C/script%3E%0A%20%20%20%20%3Cscript%20src%3D%22https%3A//cdnjs.cloudflare.com/ajax/libs/Leaflet.awesome-markers/2.0.2/leaflet.awesome-markers.js%22%3E%3C/script%3E%0A%20%20%20%20%3Clink%20rel%3D%22stylesheet%22%20href%3D%22https%3A//cdn.jsdelivr.net/npm/leaflet%401.6.0/dist/leaflet.css%22/%3E%0A%20%20%20%20%3Clink%20rel%3D%22stylesheet%22%20href%3D%22https%3A//maxcdn.bootstrapcdn.com/bootstrap/3.2.0/css/bootstrap.min.css%22/%3E%0A%20%20%20%20%3Clink%20rel%3D%22stylesheet%22%20href%3D%22https%3A//maxcdn.bootstrapcdn.com/bootstrap/3.2.0/css/bootstrap-theme.min.css%22/%3E%0A%20%20%20%20%3Clink%20rel%3D%22stylesheet%22%20href%3D%22https%3A//maxcdn.bootstrapcdn.com/font-awesome/4.6.3/css/font-awesome.min.css%22/%3E%0A%20%20%20%20%3Clink%20rel%3D%22stylesheet%22%20href%3D%22https%3A//cdnjs.cloudflare.com/ajax/libs/Leaflet.awesome-markers/2.0.2/leaflet.awesome-markers.css%22/%3E%0A%20%20%20%20%3Clink%20rel%3D%22stylesheet%22%20href%3D%22https%3A//cdn.jsdelivr.net/gh/python-visualization/folium/folium/templates/leaflet.awesome.rotate.min.css%22/%3E%0A%20%20%20%20%0A%20%20%20%20%20%20%20%20%20%20%20%20%3Cmeta%20name%3D%22viewport%22%20content%3D%22width%3Ddevice-width%2C%0A%20%20%20%20%20%20%20%20%20%20%20%20%20%20%20%20initial-scale%3D1.0%2C%20maximum-scale%3D1.0%2C%20user-scalable%3Dno%22%20/%3E%0A%20%20%20%20%20%20%20%20%20%20%20%20%3Cstyle%3E%0A%20%20%20%20%20%20%20%20%20%20%20%20%20%20%20%20%23map_645e825c2cb747b6868d3842954df2d8%20%7B%0A%20%20%20%20%20%20%20%20%20%20%20%20%20%20%20%20%20%20%20%20position%3A%20relative%3B%0A%20%20%20%20%20%20%20%20%20%20%20%20%20%20%20%20%20%20%20%20width%3A%20100.0%25%3B%0A%20%20%20%20%20%20%20%20%20%20%20%20%20%20%20%20%20%20%20%20height%3A%20100.0%25%3B%0A%20%20%20%20%20%20%20%20%20%20%20%20%20%20%20%20%20%20%20%20left%3A%200.0%25%3B%0A%20%20%20%20%20%20%20%20%20%20%20%20%20%20%20%20%20%20%20%20top%3A%200.0%25%3B%0A%20%20%20%20%20%20%20%20%20%20%20%20%20%20%20%20%7D%0A%20%20%20%20%20%20%20%20%20%20%20%20%3C/style%3E%0A%20%20%20%20%20%20%20%20%0A%3C/head%3E%0A%3Cbody%3E%20%20%20%20%0A%20%20%20%20%0A%20%20%20%20%20%20%20%20%20%20%20%20%3Cdiv%20class%3D%22folium-map%22%20id%3D%22map_645e825c2cb747b6868d3842954df2d8%22%20%3E%3C/div%3E%0A%20%20%20%20%20%20%20%20%0A%3C/body%3E%0A%3Cscript%3E%20%20%20%20%0A%20%20%20%20%0A%20%20%20%20%20%20%20%20%20%20%20%20var%20map_645e825c2cb747b6868d3842954df2d8%20%3D%20L.map%28%0A%20%20%20%20%20%20%20%20%20%20%20%20%20%20%20%20%22map_645e825c2cb747b6868d3842954df2d8%22%2C%0A%20%20%20%20%20%20%20%20%20%20%20%20%20%20%20%20%7B%0A%20%20%20%20%20%20%20%20%20%20%20%20%20%20%20%20%20%20%20%20center%3A%20%5B-18.203199246622674%2C%2046.779785%5D%2C%0A%20%20%20%20%20%20%20%20%20%20%20%20%20%20%20%20%20%20%20%20crs%3A%20L.CRS.EPSG3857%2C%0A%20%20%20%20%20%20%20%20%20%20%20%20%20%20%20%20%20%20%20%20zoom%3A%205.6%2C%0A%20%20%20%20%20%20%20%20%20%20%20%20%20%20%20%20%20%20%20%20zoomControl%3A%20true%2C%0A%20%20%20%20%20%20%20%20%20%20%20%20%20%20%20%20%20%20%20%20preferCanvas%3A%20false%2C%0A%20%20%20%20%20%20%20%20%20%20%20%20%20%20%20%20%7D%0A%20%20%20%20%20%20%20%20%20%20%20%20%29%3B%0A%0A%20%20%20%20%20%20%20%20%20%20%20%20%0A%0A%20%20%20%20%20%20%20%20%0A%20%20%20%20%0A%20%20%20%20%20%20%20%20%20%20%20%20var%20tile_layer_959d7366df2d4000a60426e10316763d%20%3D%20L.tileLayer%28%0A%20%20%20%20%20%20%20%20%20%20%20%20%20%20%20%20%22https%3A//%7Bs%7D.tile.openstreetmap.org/%7Bz%7D/%7Bx%7D/%7By%7D.png%22%2C%0A%20%20%20%20%20%20%20%20%20%20%20%20%20%20%20%20%7B%22attribution%22%3A%20%22Data%20by%20%5Cu0026copy%3B%20%5Cu003ca%20href%3D%5C%22http%3A//openstreetmap.org%5C%22%5Cu003eOpenStreetMap%5Cu003c/a%5Cu003e%2C%20under%20%5Cu003ca%20href%3D%5C%22http%3A//www.openstreetmap.org/copyright%5C%22%5Cu003eODbL%5Cu003c/a%5Cu003e.%22%2C%20%22detectRetina%22%3A%20false%2C%20%22maxNativeZoom%22%3A%2018%2C%20%22maxZoom%22%3A%2018%2C%20%22minZoom%22%3A%200%2C%20%22noWrap%22%3A%20false%2C%20%22opacity%22%3A%201%2C%20%22subdomains%22%3A%20%22abc%22%2C%20%22tms%22%3A%20false%7D%0A%20%20%20%20%20%20%20%20%20%20%20%20%29.addTo%28map_645e825c2cb747b6868d3842954df2d8%29%3B%0A%20%20%20%20%20%20%20%20%0A%20%20%20%20%0A%20%20%20%20%20%20%20%20%20%20%20%20var%20tile_layer_47eedae97b8344108f91413de2a852ad%20%3D%20L.tileLayer%28%0A%20%20%20%20%20%20%20%20%20%20%20%20%20%20%20%20%22https%3A//earthengine.googleapis.com/v1alpha/projects/earthengine-legacy/maps/7382cb83a047814750a9f6becc292118-959da96e9943d1824a712a256f29befa/tiles/%7Bz%7D/%7Bx%7D/%7By%7D%22%2C%0A%20%20%20%20%20%20%20%20%20%20%20%20%20%20%20%20%7B%22attribution%22%3A%20%22Map%20Data%20%5Cu0026copy%3B%20%5Cu003ca%20href%3D%5C%22https%3A//earthengine.google.com/%5C%22%5Cu003eGoogle%20Earth%20Engine%5Cu003c/a%5Cu003e%22%2C%20%22detectRetina%22%3A%20false%2C%20%22maxNativeZoom%22%3A%2018%2C%20%22maxZoom%22%3A%2018%2C%20%22minZoom%22%3A%200%2C%20%22noWrap%22%3A%20false%2C%20%22opacity%22%3A%201%2C%20%22subdomains%22%3A%20%22abc%22%2C%20%22tms%22%3A%20false%7D%0A%20%20%20%20%20%20%20%20%20%20%20%20%29.addTo%28map_645e825c2cb747b6868d3842954df2d8%29%3B%0A%20%20%20%20%20%20%20%20%0A%20%20%20%20%0A%20%20%20%20%20%20%20%20%20%20%20%20var%20tile_layer_707e12de0b27477d9ae733b8838c0d5e%20%3D%20L.tileLayer%28%0A%20%20%20%20%20%20%20%20%20%20%20%20%20%20%20%20%22https%3A//earthengine.googleapis.com/v1alpha/projects/earthengine-legacy/maps/d40d9a9f4968b0dd5e34af7f6b559b04-555ebd555bea83e97f6ff58e730a60d7/tiles/%7Bz%7D/%7Bx%7D/%7By%7D%22%2C%0A%20%20%20%20%20%20%20%20%20%20%20%20%20%20%20%20%7B%22attribution%22%3A%20%22Map%20Data%20%5Cu0026copy%3B%20%5Cu003ca%20href%3D%5C%22https%3A//earthengine.google.com/%5C%22%5Cu003eGoogle%20Earth%20Engine%5Cu003c/a%5Cu003e%22%2C%20%22detectRetina%22%3A%20false%2C%20%22maxNativeZoom%22%3A%2018%2C%20%22maxZoom%22%3A%2018%2C%20%22minZoom%22%3A%200%2C%20%22noWrap%22%3A%20false%2C%20%22opacity%22%3A%201%2C%20%22subdomains%22%3A%20%22abc%22%2C%20%22tms%22%3A%20false%7D%0A%20%20%20%20%20%20%20%20%20%20%20%20%29.addTo%28map_645e825c2cb747b6868d3842954df2d8%29%3B%0A%20%20%20%20%20%20%20%20%0A%20%20%20%20%0A%20%20%20%20%20%20%20%20%20%20%20%20var%20tile_layer_c034ecc833914b78b41f9db4e4f57008%20%3D%20L.tileLayer%28%0A%20%20%20%20%20%20%20%20%20%20%20%20%20%20%20%20%22https%3A//earthengine.googleapis.com/v1alpha/projects/earthengine-legacy/maps/47f8023995944e5dcdfc7fcbb2e62ad6-09ee233c28b15f0c8d9ee4217cdb72fd/tiles/%7Bz%7D/%7Bx%7D/%7By%7D%22%2C%0A%20%20%20%20%20%20%20%20%20%20%20%20%20%20%20%20%7B%22attribution%22%3A%20%22Map%20Data%20%5Cu0026copy%3B%20%5Cu003ca%20href%3D%5C%22https%3A//earthengine.google.com/%5C%22%5Cu003eGoogle%20Earth%20Engine%5Cu003c/a%5Cu003e%22%2C%20%22detectRetina%22%3A%20false%2C%20%22maxNativeZoom%22%3A%2018%2C%20%22maxZoom%22%3A%2018%2C%20%22minZoom%22%3A%200%2C%20%22noWrap%22%3A%20false%2C%20%22opacity%22%3A%201%2C%20%22subdomains%22%3A%20%22abc%22%2C%20%22tms%22%3A%20false%7D%0A%20%20%20%20%20%20%20%20%20%20%20%20%29.addTo%28map_645e825c2cb747b6868d3842954df2d8%29%3B%0A%20%20%20%20%20%20%20%20%0A%20%20%20%20%0A%20%20%20%20%20%20%20%20%20%20%20%20var%20tile_layer_2a65b5d186b54f4ab2f2f9eed3c66911%20%3D%20L.tileLayer%28%0A%20%20%20%20%20%20%20%20%20%20%20%20%20%20%20%20%22https%3A//earthengine.googleapis.com/v1alpha/projects/earthengine-legacy/maps/da5996b19892efa1778f3953b79581a8-1db1e72ceba1051f502b4aafed8fd51c/tiles/%7Bz%7D/%7Bx%7D/%7By%7D%22%2C%0A%20%20%20%20%20%20%20%20%20%20%20%20%20%20%20%20%7B%22attribution%22%3A%20%22Map%20Data%20%5Cu0026copy%3B%20%5Cu003ca%20href%3D%5C%22https%3A//earthengine.google.com/%5C%22%5Cu003eGoogle%20Earth%20Engine%5Cu003c/a%5Cu003e%22%2C%20%22detectRetina%22%3A%20false%2C%20%22maxNativeZoom%22%3A%2018%2C%20%22maxZoom%22%3A%2018%2C%20%22minZoom%22%3A%200%2C%20%22noWrap%22%3A%20false%2C%20%22opacity%22%3A%201%2C%20%22subdomains%22%3A%20%22abc%22%2C%20%22tms%22%3A%20false%7D%0A%20%20%20%20%20%20%20%20%20%20%20%20%29.addTo%28map_645e825c2cb747b6868d3842954df2d8%29%3B%0A%20%20%20%20%20%20%20%20%0A%20%20%20%20%0A%20%20%20%20%20%20%20%20%20%20%20%20var%20tile_layer_df1e00ccc8784e989eecdf4c06a3900f%20%3D%20L.tileLayer%28%0A%20%20%20%20%20%20%20%20%20%20%20%20%20%20%20%20%22https%3A//earthengine.googleapis.com/v1alpha/projects/earthengine-legacy/maps/9a90ed8dcdaa9adf7295a40d31e040ac-9183fb0efa9cb476a5b150f5ec324e80/tiles/%7Bz%7D/%7Bx%7D/%7By%7D%22%2C%0A%20%20%20%20%20%20%20%20%20%20%20%20%20%20%20%20%7B%22attribution%22%3A%20%22Map%20Data%20%5Cu0026copy%3B%20%5Cu003ca%20href%3D%5C%22https%3A//earthengine.google.com/%5C%22%5Cu003eGoogle%20Earth%20Engine%5Cu003c/a%5Cu003e%22%2C%20%22detectRetina%22%3A%20false%2C%20%22maxNativeZoom%22%3A%2018%2C%20%22maxZoom%22%3A%2018%2C%20%22minZoom%22%3A%200%2C%20%22noWrap%22%3A%20false%2C%20%22opacity%22%3A%201%2C%20%22subdomains%22%3A%20%22abc%22%2C%20%22tms%22%3A%20false%7D%0A%20%20%20%20%20%20%20%20%20%20%20%20%29.addTo%28map_645e825c2cb747b6868d3842954df2d8%29%3B%0A%20%20%20%20%20%20%20%20%0A%20%20%20%20%0A%20%20%20%20%20%20%20%20%20%20%20%20var%20tile_layer_c6aff0b3a7e445f7b3a05ff20f708ce5%20%3D%20L.tileLayer%28%0A%20%20%20%20%20%20%20%20%20%20%20%20%20%20%20%20%22https%3A//earthengine.googleapis.com/v1alpha/projects/earthengine-legacy/maps/b5a1ee745bb7ef477aa12fc09d411c74-550a1b2a47c98095f33b4078cff96f0d/tiles/%7Bz%7D/%7Bx%7D/%7By%7D%22%2C%0A%20%20%20%20%20%20%20%20%20%20%20%20%20%20%20%20%7B%22attribution%22%3A%20%22Map%20Data%20%5Cu0026copy%3B%20%5Cu003ca%20href%3D%5C%22https%3A//earthengine.google.com/%5C%22%5Cu003eGoogle%20Earth%20Engine%5Cu003c/a%5Cu003e%22%2C%20%22detectRetina%22%3A%20false%2C%20%22maxNativeZoom%22%3A%2018%2C%20%22maxZoom%22%3A%2018%2C%20%22minZoom%22%3A%200%2C%20%22noWrap%22%3A%20false%2C%20%22opacity%22%3A%201%2C%20%22subdomains%22%3A%20%22abc%22%2C%20%22tms%22%3A%20false%7D%0A%20%20%20%20%20%20%20%20%20%20%20%20%29.addTo%28map_645e825c2cb747b6868d3842954df2d8%29%3B%0A%20%20%20%20%20%20%20%20%0A%20%20%20%20%0A%20%20%20%20%20%20%20%20%20%20%20%20var%20layer_control_c21dc63351b54e76ab6b93ebea6292c3%20%3D%20%7B%0A%20%20%20%20%20%20%20%20%20%20%20%20%20%20%20%20base_layers%20%3A%20%7B%0A%20%20%20%20%20%20%20%20%20%20%20%20%20%20%20%20%20%20%20%20%22openstreetmap%22%20%3A%20tile_layer_959d7366df2d4000a60426e10316763d%2C%0A%20%20%20%20%20%20%20%20%20%20%20%20%20%20%20%20%7D%2C%0A%20%20%20%20%20%20%20%20%20%20%20%20%20%20%20%20overlays%20%3A%20%20%7B%0A%20%20%20%20%20%20%20%20%20%20%20%20%20%20%20%20%20%20%20%20%22d%5Cu0027Andohahela%20Fitted%20NDVI%22%20%3A%20tile_layer_47eedae97b8344108f91413de2a852ad%2C%0A%20%20%20%20%20%20%20%20%20%20%20%20%20%20%20%20%20%20%20%20%22Midongy%20Betofaka%20Fitted%20NDVI%22%20%3A%20tile_layer_707e12de0b27477d9ae733b8838c0d5e%2C%0A%20%20%20%20%20%20%20%20%20%20%20%20%20%20%20%20%20%20%20%20%22Tsimanampetsotsa%20Fitted%20NDVI%22%20%3A%20tile_layer_c034ecc833914b78b41f9db4e4f57008%2C%0A%20%20%20%20%20%20%20%20%20%20%20%20%20%20%20%20%20%20%20%20%22d%5Cu0027Ankarafantsika%20Fitted%20NDVI%22%20%3A%20tile_layer_2a65b5d186b54f4ab2f2f9eed3c66911%2C%0A%20%20%20%20%20%20%20%20%20%20%20%20%20%20%20%20%20%20%20%20%22Masoala%20Fitted%20NDVI%22%20%3A%20tile_layer_df1e00ccc8784e989eecdf4c06a3900f%2C%0A%20%20%20%20%20%20%20%20%20%20%20%20%20%20%20%20%20%20%20%20%22Alan%5Cu0027Ankirisa%20Fitted%20NDVI%22%20%3A%20tile_layer_c6aff0b3a7e445f7b3a05ff20f708ce5%2C%0A%20%20%20%20%20%20%20%20%20%20%20%20%20%20%20%20%7D%2C%0A%20%20%20%20%20%20%20%20%20%20%20%20%7D%3B%0A%20%20%20%20%20%20%20%20%20%20%20%20L.control.layers%28%0A%20%20%20%20%20%20%20%20%20%20%20%20%20%20%20%20layer_control_c21dc63351b54e76ab6b93ebea6292c3.base_layers%2C%0A%20%20%20%20%20%20%20%20%20%20%20%20%20%20%20%20layer_control_c21dc63351b54e76ab6b93ebea6292c3.overlays%2C%0A%20%20%20%20%20%20%20%20%20%20%20%20%20%20%20%20%7B%22autoZIndex%22%3A%20true%2C%20%22collapsed%22%3A%20true%2C%20%22position%22%3A%20%22topright%22%7D%0A%20%20%20%20%20%20%20%20%20%20%20%20%29.addTo%28map_645e825c2cb747b6868d3842954df2d8%29%3B%0A%20%20%20%20%20%20%20%20%0A%3C/script%3E onload=\"this.contentDocument.open();this.contentDocument.write(    decodeURIComponent(this.getAttribute('data-html')));this.contentDocument.close();\" allowfullscreen webkitallowfullscreen mozallowfullscreen></iframe></div></div>"
      ],
      "text/plain": [
       "<folium.folium.Map at 0x13e57e100>"
      ]
     },
     "metadata": {},
     "output_type": "display_data"
    },
    {
     "name": "stdout",
     "output_type": "stream",
     "text": [
      "\n",
      " \n",
      "\n",
      "2019-08-01 - 2019-09-01\n"
     ]
    },
    {
     "data": {
      "text/html": [
       "<div style=\"width:100%;\"><div style=\"position:relative;width:100%;height:0;padding-bottom:60%;\"><span style=\"color:#565656\">Make this Notebook Trusted to load map: File -> Trust Notebook</span><iframe src=\"about:blank\" style=\"position:absolute;width:100%;height:100%;left:0;top:0;border:none !important;\" data-html=%3C%21DOCTYPE%20html%3E%0A%3Chead%3E%20%20%20%20%0A%20%20%20%20%3Cmeta%20http-equiv%3D%22content-type%22%20content%3D%22text/html%3B%20charset%3DUTF-8%22%20/%3E%0A%20%20%20%20%0A%20%20%20%20%20%20%20%20%3Cscript%3E%0A%20%20%20%20%20%20%20%20%20%20%20%20L_NO_TOUCH%20%3D%20false%3B%0A%20%20%20%20%20%20%20%20%20%20%20%20L_DISABLE_3D%20%3D%20false%3B%0A%20%20%20%20%20%20%20%20%3C/script%3E%0A%20%20%20%20%0A%20%20%20%20%3Cstyle%3Ehtml%2C%20body%20%7Bwidth%3A%20100%25%3Bheight%3A%20100%25%3Bmargin%3A%200%3Bpadding%3A%200%3B%7D%3C/style%3E%0A%20%20%20%20%3Cstyle%3E%23map%20%7Bposition%3Aabsolute%3Btop%3A0%3Bbottom%3A0%3Bright%3A0%3Bleft%3A0%3B%7D%3C/style%3E%0A%20%20%20%20%3Cscript%20src%3D%22https%3A//cdn.jsdelivr.net/npm/leaflet%401.6.0/dist/leaflet.js%22%3E%3C/script%3E%0A%20%20%20%20%3Cscript%20src%3D%22https%3A//code.jquery.com/jquery-1.12.4.min.js%22%3E%3C/script%3E%0A%20%20%20%20%3Cscript%20src%3D%22https%3A//maxcdn.bootstrapcdn.com/bootstrap/3.2.0/js/bootstrap.min.js%22%3E%3C/script%3E%0A%20%20%20%20%3Cscript%20src%3D%22https%3A//cdnjs.cloudflare.com/ajax/libs/Leaflet.awesome-markers/2.0.2/leaflet.awesome-markers.js%22%3E%3C/script%3E%0A%20%20%20%20%3Clink%20rel%3D%22stylesheet%22%20href%3D%22https%3A//cdn.jsdelivr.net/npm/leaflet%401.6.0/dist/leaflet.css%22/%3E%0A%20%20%20%20%3Clink%20rel%3D%22stylesheet%22%20href%3D%22https%3A//maxcdn.bootstrapcdn.com/bootstrap/3.2.0/css/bootstrap.min.css%22/%3E%0A%20%20%20%20%3Clink%20rel%3D%22stylesheet%22%20href%3D%22https%3A//maxcdn.bootstrapcdn.com/bootstrap/3.2.0/css/bootstrap-theme.min.css%22/%3E%0A%20%20%20%20%3Clink%20rel%3D%22stylesheet%22%20href%3D%22https%3A//maxcdn.bootstrapcdn.com/font-awesome/4.6.3/css/font-awesome.min.css%22/%3E%0A%20%20%20%20%3Clink%20rel%3D%22stylesheet%22%20href%3D%22https%3A//cdnjs.cloudflare.com/ajax/libs/Leaflet.awesome-markers/2.0.2/leaflet.awesome-markers.css%22/%3E%0A%20%20%20%20%3Clink%20rel%3D%22stylesheet%22%20href%3D%22https%3A//cdn.jsdelivr.net/gh/python-visualization/folium/folium/templates/leaflet.awesome.rotate.min.css%22/%3E%0A%20%20%20%20%0A%20%20%20%20%20%20%20%20%20%20%20%20%3Cmeta%20name%3D%22viewport%22%20content%3D%22width%3Ddevice-width%2C%0A%20%20%20%20%20%20%20%20%20%20%20%20%20%20%20%20initial-scale%3D1.0%2C%20maximum-scale%3D1.0%2C%20user-scalable%3Dno%22%20/%3E%0A%20%20%20%20%20%20%20%20%20%20%20%20%3Cstyle%3E%0A%20%20%20%20%20%20%20%20%20%20%20%20%20%20%20%20%23map_31b7973b99634d1da75247794e24719d%20%7B%0A%20%20%20%20%20%20%20%20%20%20%20%20%20%20%20%20%20%20%20%20position%3A%20relative%3B%0A%20%20%20%20%20%20%20%20%20%20%20%20%20%20%20%20%20%20%20%20width%3A%20100.0%25%3B%0A%20%20%20%20%20%20%20%20%20%20%20%20%20%20%20%20%20%20%20%20height%3A%20100.0%25%3B%0A%20%20%20%20%20%20%20%20%20%20%20%20%20%20%20%20%20%20%20%20left%3A%200.0%25%3B%0A%20%20%20%20%20%20%20%20%20%20%20%20%20%20%20%20%20%20%20%20top%3A%200.0%25%3B%0A%20%20%20%20%20%20%20%20%20%20%20%20%20%20%20%20%7D%0A%20%20%20%20%20%20%20%20%20%20%20%20%3C/style%3E%0A%20%20%20%20%20%20%20%20%0A%3C/head%3E%0A%3Cbody%3E%20%20%20%20%0A%20%20%20%20%0A%20%20%20%20%20%20%20%20%20%20%20%20%3Cdiv%20class%3D%22folium-map%22%20id%3D%22map_31b7973b99634d1da75247794e24719d%22%20%3E%3C/div%3E%0A%20%20%20%20%20%20%20%20%0A%3C/body%3E%0A%3Cscript%3E%20%20%20%20%0A%20%20%20%20%0A%20%20%20%20%20%20%20%20%20%20%20%20var%20map_31b7973b99634d1da75247794e24719d%20%3D%20L.map%28%0A%20%20%20%20%20%20%20%20%20%20%20%20%20%20%20%20%22map_31b7973b99634d1da75247794e24719d%22%2C%0A%20%20%20%20%20%20%20%20%20%20%20%20%20%20%20%20%7B%0A%20%20%20%20%20%20%20%20%20%20%20%20%20%20%20%20%20%20%20%20center%3A%20%5B-18.203199246622674%2C%2046.779785%5D%2C%0A%20%20%20%20%20%20%20%20%20%20%20%20%20%20%20%20%20%20%20%20crs%3A%20L.CRS.EPSG3857%2C%0A%20%20%20%20%20%20%20%20%20%20%20%20%20%20%20%20%20%20%20%20zoom%3A%205.6%2C%0A%20%20%20%20%20%20%20%20%20%20%20%20%20%20%20%20%20%20%20%20zoomControl%3A%20true%2C%0A%20%20%20%20%20%20%20%20%20%20%20%20%20%20%20%20%20%20%20%20preferCanvas%3A%20false%2C%0A%20%20%20%20%20%20%20%20%20%20%20%20%20%20%20%20%7D%0A%20%20%20%20%20%20%20%20%20%20%20%20%29%3B%0A%0A%20%20%20%20%20%20%20%20%20%20%20%20%0A%0A%20%20%20%20%20%20%20%20%0A%20%20%20%20%0A%20%20%20%20%20%20%20%20%20%20%20%20var%20tile_layer_61f0d757fd154ceb99ac939cc749dc61%20%3D%20L.tileLayer%28%0A%20%20%20%20%20%20%20%20%20%20%20%20%20%20%20%20%22https%3A//%7Bs%7D.tile.openstreetmap.org/%7Bz%7D/%7Bx%7D/%7By%7D.png%22%2C%0A%20%20%20%20%20%20%20%20%20%20%20%20%20%20%20%20%7B%22attribution%22%3A%20%22Data%20by%20%5Cu0026copy%3B%20%5Cu003ca%20href%3D%5C%22http%3A//openstreetmap.org%5C%22%5Cu003eOpenStreetMap%5Cu003c/a%5Cu003e%2C%20under%20%5Cu003ca%20href%3D%5C%22http%3A//www.openstreetmap.org/copyright%5C%22%5Cu003eODbL%5Cu003c/a%5Cu003e.%22%2C%20%22detectRetina%22%3A%20false%2C%20%22maxNativeZoom%22%3A%2018%2C%20%22maxZoom%22%3A%2018%2C%20%22minZoom%22%3A%200%2C%20%22noWrap%22%3A%20false%2C%20%22opacity%22%3A%201%2C%20%22subdomains%22%3A%20%22abc%22%2C%20%22tms%22%3A%20false%7D%0A%20%20%20%20%20%20%20%20%20%20%20%20%29.addTo%28map_31b7973b99634d1da75247794e24719d%29%3B%0A%20%20%20%20%20%20%20%20%0A%20%20%20%20%0A%20%20%20%20%20%20%20%20%20%20%20%20var%20tile_layer_8613cad3e9314c53b80c9b258b297d9f%20%3D%20L.tileLayer%28%0A%20%20%20%20%20%20%20%20%20%20%20%20%20%20%20%20%22https%3A//earthengine.googleapis.com/v1alpha/projects/earthengine-legacy/maps/35d447c00d05240f29360ca94379bcc1-f15d79cef048c77fbccb638085e77fd4/tiles/%7Bz%7D/%7Bx%7D/%7By%7D%22%2C%0A%20%20%20%20%20%20%20%20%20%20%20%20%20%20%20%20%7B%22attribution%22%3A%20%22Map%20Data%20%5Cu0026copy%3B%20%5Cu003ca%20href%3D%5C%22https%3A//earthengine.google.com/%5C%22%5Cu003eGoogle%20Earth%20Engine%5Cu003c/a%5Cu003e%22%2C%20%22detectRetina%22%3A%20false%2C%20%22maxNativeZoom%22%3A%2018%2C%20%22maxZoom%22%3A%2018%2C%20%22minZoom%22%3A%200%2C%20%22noWrap%22%3A%20false%2C%20%22opacity%22%3A%201%2C%20%22subdomains%22%3A%20%22abc%22%2C%20%22tms%22%3A%20false%7D%0A%20%20%20%20%20%20%20%20%20%20%20%20%29.addTo%28map_31b7973b99634d1da75247794e24719d%29%3B%0A%20%20%20%20%20%20%20%20%0A%20%20%20%20%0A%20%20%20%20%20%20%20%20%20%20%20%20var%20tile_layer_e7e8738f7a0d472ca75d665bedb9d872%20%3D%20L.tileLayer%28%0A%20%20%20%20%20%20%20%20%20%20%20%20%20%20%20%20%22https%3A//earthengine.googleapis.com/v1alpha/projects/earthengine-legacy/maps/5dd27007912ad99e4c6fcc43904b0236-6383008e16b0c883fec7cbe5c86a357b/tiles/%7Bz%7D/%7Bx%7D/%7By%7D%22%2C%0A%20%20%20%20%20%20%20%20%20%20%20%20%20%20%20%20%7B%22attribution%22%3A%20%22Map%20Data%20%5Cu0026copy%3B%20%5Cu003ca%20href%3D%5C%22https%3A//earthengine.google.com/%5C%22%5Cu003eGoogle%20Earth%20Engine%5Cu003c/a%5Cu003e%22%2C%20%22detectRetina%22%3A%20false%2C%20%22maxNativeZoom%22%3A%2018%2C%20%22maxZoom%22%3A%2018%2C%20%22minZoom%22%3A%200%2C%20%22noWrap%22%3A%20false%2C%20%22opacity%22%3A%201%2C%20%22subdomains%22%3A%20%22abc%22%2C%20%22tms%22%3A%20false%7D%0A%20%20%20%20%20%20%20%20%20%20%20%20%29.addTo%28map_31b7973b99634d1da75247794e24719d%29%3B%0A%20%20%20%20%20%20%20%20%0A%20%20%20%20%0A%20%20%20%20%20%20%20%20%20%20%20%20var%20tile_layer_26469d3abf6c45159ab34d420007b23c%20%3D%20L.tileLayer%28%0A%20%20%20%20%20%20%20%20%20%20%20%20%20%20%20%20%22https%3A//earthengine.googleapis.com/v1alpha/projects/earthengine-legacy/maps/35ec18e9def7dcaba2047b2b9a164b61-3fbbebae3b509543f9f0acdb8f164c2f/tiles/%7Bz%7D/%7Bx%7D/%7By%7D%22%2C%0A%20%20%20%20%20%20%20%20%20%20%20%20%20%20%20%20%7B%22attribution%22%3A%20%22Map%20Data%20%5Cu0026copy%3B%20%5Cu003ca%20href%3D%5C%22https%3A//earthengine.google.com/%5C%22%5Cu003eGoogle%20Earth%20Engine%5Cu003c/a%5Cu003e%22%2C%20%22detectRetina%22%3A%20false%2C%20%22maxNativeZoom%22%3A%2018%2C%20%22maxZoom%22%3A%2018%2C%20%22minZoom%22%3A%200%2C%20%22noWrap%22%3A%20false%2C%20%22opacity%22%3A%201%2C%20%22subdomains%22%3A%20%22abc%22%2C%20%22tms%22%3A%20false%7D%0A%20%20%20%20%20%20%20%20%20%20%20%20%29.addTo%28map_31b7973b99634d1da75247794e24719d%29%3B%0A%20%20%20%20%20%20%20%20%0A%20%20%20%20%0A%20%20%20%20%20%20%20%20%20%20%20%20var%20tile_layer_918fb5e3f744475489d3487a66f68b70%20%3D%20L.tileLayer%28%0A%20%20%20%20%20%20%20%20%20%20%20%20%20%20%20%20%22https%3A//earthengine.googleapis.com/v1alpha/projects/earthengine-legacy/maps/9e7e3ebe8c9dc4291837660981026bed-16c53f24f36259c49cf72caec1d7c6f8/tiles/%7Bz%7D/%7Bx%7D/%7By%7D%22%2C%0A%20%20%20%20%20%20%20%20%20%20%20%20%20%20%20%20%7B%22attribution%22%3A%20%22Map%20Data%20%5Cu0026copy%3B%20%5Cu003ca%20href%3D%5C%22https%3A//earthengine.google.com/%5C%22%5Cu003eGoogle%20Earth%20Engine%5Cu003c/a%5Cu003e%22%2C%20%22detectRetina%22%3A%20false%2C%20%22maxNativeZoom%22%3A%2018%2C%20%22maxZoom%22%3A%2018%2C%20%22minZoom%22%3A%200%2C%20%22noWrap%22%3A%20false%2C%20%22opacity%22%3A%201%2C%20%22subdomains%22%3A%20%22abc%22%2C%20%22tms%22%3A%20false%7D%0A%20%20%20%20%20%20%20%20%20%20%20%20%29.addTo%28map_31b7973b99634d1da75247794e24719d%29%3B%0A%20%20%20%20%20%20%20%20%0A%20%20%20%20%0A%20%20%20%20%20%20%20%20%20%20%20%20var%20tile_layer_ee4694253c7f405181c3dcae64f7cd03%20%3D%20L.tileLayer%28%0A%20%20%20%20%20%20%20%20%20%20%20%20%20%20%20%20%22https%3A//earthengine.googleapis.com/v1alpha/projects/earthengine-legacy/maps/ccd65c0c6ab487935ca035e06c493ec8-1b491edce3af0de01b8ea3a38af57f76/tiles/%7Bz%7D/%7Bx%7D/%7By%7D%22%2C%0A%20%20%20%20%20%20%20%20%20%20%20%20%20%20%20%20%7B%22attribution%22%3A%20%22Map%20Data%20%5Cu0026copy%3B%20%5Cu003ca%20href%3D%5C%22https%3A//earthengine.google.com/%5C%22%5Cu003eGoogle%20Earth%20Engine%5Cu003c/a%5Cu003e%22%2C%20%22detectRetina%22%3A%20false%2C%20%22maxNativeZoom%22%3A%2018%2C%20%22maxZoom%22%3A%2018%2C%20%22minZoom%22%3A%200%2C%20%22noWrap%22%3A%20false%2C%20%22opacity%22%3A%201%2C%20%22subdomains%22%3A%20%22abc%22%2C%20%22tms%22%3A%20false%7D%0A%20%20%20%20%20%20%20%20%20%20%20%20%29.addTo%28map_31b7973b99634d1da75247794e24719d%29%3B%0A%20%20%20%20%20%20%20%20%0A%20%20%20%20%0A%20%20%20%20%20%20%20%20%20%20%20%20var%20tile_layer_166622da47b44213bfc24cb4370ac13d%20%3D%20L.tileLayer%28%0A%20%20%20%20%20%20%20%20%20%20%20%20%20%20%20%20%22https%3A//earthengine.googleapis.com/v1alpha/projects/earthengine-legacy/maps/aad81ff6ff32175117b88d3653f7b9c6-ee0275498ef4f0eb04cf7c8fac418dad/tiles/%7Bz%7D/%7Bx%7D/%7By%7D%22%2C%0A%20%20%20%20%20%20%20%20%20%20%20%20%20%20%20%20%7B%22attribution%22%3A%20%22Map%20Data%20%5Cu0026copy%3B%20%5Cu003ca%20href%3D%5C%22https%3A//earthengine.google.com/%5C%22%5Cu003eGoogle%20Earth%20Engine%5Cu003c/a%5Cu003e%22%2C%20%22detectRetina%22%3A%20false%2C%20%22maxNativeZoom%22%3A%2018%2C%20%22maxZoom%22%3A%2018%2C%20%22minZoom%22%3A%200%2C%20%22noWrap%22%3A%20false%2C%20%22opacity%22%3A%201%2C%20%22subdomains%22%3A%20%22abc%22%2C%20%22tms%22%3A%20false%7D%0A%20%20%20%20%20%20%20%20%20%20%20%20%29.addTo%28map_31b7973b99634d1da75247794e24719d%29%3B%0A%20%20%20%20%20%20%20%20%0A%20%20%20%20%0A%20%20%20%20%20%20%20%20%20%20%20%20var%20layer_control_cb00ca19aed84b7f9844bc541c655e7e%20%3D%20%7B%0A%20%20%20%20%20%20%20%20%20%20%20%20%20%20%20%20base_layers%20%3A%20%7B%0A%20%20%20%20%20%20%20%20%20%20%20%20%20%20%20%20%20%20%20%20%22openstreetmap%22%20%3A%20tile_layer_61f0d757fd154ceb99ac939cc749dc61%2C%0A%20%20%20%20%20%20%20%20%20%20%20%20%20%20%20%20%7D%2C%0A%20%20%20%20%20%20%20%20%20%20%20%20%20%20%20%20overlays%20%3A%20%20%7B%0A%20%20%20%20%20%20%20%20%20%20%20%20%20%20%20%20%20%20%20%20%22d%5Cu0027Andohahela%20Fitted%20NDVI%22%20%3A%20tile_layer_8613cad3e9314c53b80c9b258b297d9f%2C%0A%20%20%20%20%20%20%20%20%20%20%20%20%20%20%20%20%20%20%20%20%22Midongy%20Betofaka%20Fitted%20NDVI%22%20%3A%20tile_layer_e7e8738f7a0d472ca75d665bedb9d872%2C%0A%20%20%20%20%20%20%20%20%20%20%20%20%20%20%20%20%20%20%20%20%22Tsimanampetsotsa%20Fitted%20NDVI%22%20%3A%20tile_layer_26469d3abf6c45159ab34d420007b23c%2C%0A%20%20%20%20%20%20%20%20%20%20%20%20%20%20%20%20%20%20%20%20%22d%5Cu0027Ankarafantsika%20Fitted%20NDVI%22%20%3A%20tile_layer_918fb5e3f744475489d3487a66f68b70%2C%0A%20%20%20%20%20%20%20%20%20%20%20%20%20%20%20%20%20%20%20%20%22Masoala%20Fitted%20NDVI%22%20%3A%20tile_layer_ee4694253c7f405181c3dcae64f7cd03%2C%0A%20%20%20%20%20%20%20%20%20%20%20%20%20%20%20%20%20%20%20%20%22Alan%5Cu0027Ankirisa%20Fitted%20NDVI%22%20%3A%20tile_layer_166622da47b44213bfc24cb4370ac13d%2C%0A%20%20%20%20%20%20%20%20%20%20%20%20%20%20%20%20%7D%2C%0A%20%20%20%20%20%20%20%20%20%20%20%20%7D%3B%0A%20%20%20%20%20%20%20%20%20%20%20%20L.control.layers%28%0A%20%20%20%20%20%20%20%20%20%20%20%20%20%20%20%20layer_control_cb00ca19aed84b7f9844bc541c655e7e.base_layers%2C%0A%20%20%20%20%20%20%20%20%20%20%20%20%20%20%20%20layer_control_cb00ca19aed84b7f9844bc541c655e7e.overlays%2C%0A%20%20%20%20%20%20%20%20%20%20%20%20%20%20%20%20%7B%22autoZIndex%22%3A%20true%2C%20%22collapsed%22%3A%20true%2C%20%22position%22%3A%20%22topright%22%7D%0A%20%20%20%20%20%20%20%20%20%20%20%20%29.addTo%28map_31b7973b99634d1da75247794e24719d%29%3B%0A%20%20%20%20%20%20%20%20%0A%3C/script%3E onload=\"this.contentDocument.open();this.contentDocument.write(    decodeURIComponent(this.getAttribute('data-html')));this.contentDocument.close();\" allowfullscreen webkitallowfullscreen mozallowfullscreen></iframe></div></div>"
      ],
      "text/plain": [
       "<folium.folium.Map at 0x13e596760>"
      ]
     },
     "metadata": {},
     "output_type": "display_data"
    },
    {
     "name": "stdout",
     "output_type": "stream",
     "text": [
      "\n",
      " \n",
      "\n",
      "2019-09-01 - 2019-10-01\n"
     ]
    },
    {
     "data": {
      "text/html": [
       "<div style=\"width:100%;\"><div style=\"position:relative;width:100%;height:0;padding-bottom:60%;\"><span style=\"color:#565656\">Make this Notebook Trusted to load map: File -> Trust Notebook</span><iframe src=\"about:blank\" style=\"position:absolute;width:100%;height:100%;left:0;top:0;border:none !important;\" data-html=%3C%21DOCTYPE%20html%3E%0A%3Chead%3E%20%20%20%20%0A%20%20%20%20%3Cmeta%20http-equiv%3D%22content-type%22%20content%3D%22text/html%3B%20charset%3DUTF-8%22%20/%3E%0A%20%20%20%20%0A%20%20%20%20%20%20%20%20%3Cscript%3E%0A%20%20%20%20%20%20%20%20%20%20%20%20L_NO_TOUCH%20%3D%20false%3B%0A%20%20%20%20%20%20%20%20%20%20%20%20L_DISABLE_3D%20%3D%20false%3B%0A%20%20%20%20%20%20%20%20%3C/script%3E%0A%20%20%20%20%0A%20%20%20%20%3Cstyle%3Ehtml%2C%20body%20%7Bwidth%3A%20100%25%3Bheight%3A%20100%25%3Bmargin%3A%200%3Bpadding%3A%200%3B%7D%3C/style%3E%0A%20%20%20%20%3Cstyle%3E%23map%20%7Bposition%3Aabsolute%3Btop%3A0%3Bbottom%3A0%3Bright%3A0%3Bleft%3A0%3B%7D%3C/style%3E%0A%20%20%20%20%3Cscript%20src%3D%22https%3A//cdn.jsdelivr.net/npm/leaflet%401.6.0/dist/leaflet.js%22%3E%3C/script%3E%0A%20%20%20%20%3Cscript%20src%3D%22https%3A//code.jquery.com/jquery-1.12.4.min.js%22%3E%3C/script%3E%0A%20%20%20%20%3Cscript%20src%3D%22https%3A//maxcdn.bootstrapcdn.com/bootstrap/3.2.0/js/bootstrap.min.js%22%3E%3C/script%3E%0A%20%20%20%20%3Cscript%20src%3D%22https%3A//cdnjs.cloudflare.com/ajax/libs/Leaflet.awesome-markers/2.0.2/leaflet.awesome-markers.js%22%3E%3C/script%3E%0A%20%20%20%20%3Clink%20rel%3D%22stylesheet%22%20href%3D%22https%3A//cdn.jsdelivr.net/npm/leaflet%401.6.0/dist/leaflet.css%22/%3E%0A%20%20%20%20%3Clink%20rel%3D%22stylesheet%22%20href%3D%22https%3A//maxcdn.bootstrapcdn.com/bootstrap/3.2.0/css/bootstrap.min.css%22/%3E%0A%20%20%20%20%3Clink%20rel%3D%22stylesheet%22%20href%3D%22https%3A//maxcdn.bootstrapcdn.com/bootstrap/3.2.0/css/bootstrap-theme.min.css%22/%3E%0A%20%20%20%20%3Clink%20rel%3D%22stylesheet%22%20href%3D%22https%3A//maxcdn.bootstrapcdn.com/font-awesome/4.6.3/css/font-awesome.min.css%22/%3E%0A%20%20%20%20%3Clink%20rel%3D%22stylesheet%22%20href%3D%22https%3A//cdnjs.cloudflare.com/ajax/libs/Leaflet.awesome-markers/2.0.2/leaflet.awesome-markers.css%22/%3E%0A%20%20%20%20%3Clink%20rel%3D%22stylesheet%22%20href%3D%22https%3A//cdn.jsdelivr.net/gh/python-visualization/folium/folium/templates/leaflet.awesome.rotate.min.css%22/%3E%0A%20%20%20%20%0A%20%20%20%20%20%20%20%20%20%20%20%20%3Cmeta%20name%3D%22viewport%22%20content%3D%22width%3Ddevice-width%2C%0A%20%20%20%20%20%20%20%20%20%20%20%20%20%20%20%20initial-scale%3D1.0%2C%20maximum-scale%3D1.0%2C%20user-scalable%3Dno%22%20/%3E%0A%20%20%20%20%20%20%20%20%20%20%20%20%3Cstyle%3E%0A%20%20%20%20%20%20%20%20%20%20%20%20%20%20%20%20%23map_e56acb2bc7b448099219b6b3cc253134%20%7B%0A%20%20%20%20%20%20%20%20%20%20%20%20%20%20%20%20%20%20%20%20position%3A%20relative%3B%0A%20%20%20%20%20%20%20%20%20%20%20%20%20%20%20%20%20%20%20%20width%3A%20100.0%25%3B%0A%20%20%20%20%20%20%20%20%20%20%20%20%20%20%20%20%20%20%20%20height%3A%20100.0%25%3B%0A%20%20%20%20%20%20%20%20%20%20%20%20%20%20%20%20%20%20%20%20left%3A%200.0%25%3B%0A%20%20%20%20%20%20%20%20%20%20%20%20%20%20%20%20%20%20%20%20top%3A%200.0%25%3B%0A%20%20%20%20%20%20%20%20%20%20%20%20%20%20%20%20%7D%0A%20%20%20%20%20%20%20%20%20%20%20%20%3C/style%3E%0A%20%20%20%20%20%20%20%20%0A%3C/head%3E%0A%3Cbody%3E%20%20%20%20%0A%20%20%20%20%0A%20%20%20%20%20%20%20%20%20%20%20%20%3Cdiv%20class%3D%22folium-map%22%20id%3D%22map_e56acb2bc7b448099219b6b3cc253134%22%20%3E%3C/div%3E%0A%20%20%20%20%20%20%20%20%0A%3C/body%3E%0A%3Cscript%3E%20%20%20%20%0A%20%20%20%20%0A%20%20%20%20%20%20%20%20%20%20%20%20var%20map_e56acb2bc7b448099219b6b3cc253134%20%3D%20L.map%28%0A%20%20%20%20%20%20%20%20%20%20%20%20%20%20%20%20%22map_e56acb2bc7b448099219b6b3cc253134%22%2C%0A%20%20%20%20%20%20%20%20%20%20%20%20%20%20%20%20%7B%0A%20%20%20%20%20%20%20%20%20%20%20%20%20%20%20%20%20%20%20%20center%3A%20%5B-18.203199246622674%2C%2046.779785%5D%2C%0A%20%20%20%20%20%20%20%20%20%20%20%20%20%20%20%20%20%20%20%20crs%3A%20L.CRS.EPSG3857%2C%0A%20%20%20%20%20%20%20%20%20%20%20%20%20%20%20%20%20%20%20%20zoom%3A%205.6%2C%0A%20%20%20%20%20%20%20%20%20%20%20%20%20%20%20%20%20%20%20%20zoomControl%3A%20true%2C%0A%20%20%20%20%20%20%20%20%20%20%20%20%20%20%20%20%20%20%20%20preferCanvas%3A%20false%2C%0A%20%20%20%20%20%20%20%20%20%20%20%20%20%20%20%20%7D%0A%20%20%20%20%20%20%20%20%20%20%20%20%29%3B%0A%0A%20%20%20%20%20%20%20%20%20%20%20%20%0A%0A%20%20%20%20%20%20%20%20%0A%20%20%20%20%0A%20%20%20%20%20%20%20%20%20%20%20%20var%20tile_layer_93cf15c122064ff091c87f7239f33093%20%3D%20L.tileLayer%28%0A%20%20%20%20%20%20%20%20%20%20%20%20%20%20%20%20%22https%3A//%7Bs%7D.tile.openstreetmap.org/%7Bz%7D/%7Bx%7D/%7By%7D.png%22%2C%0A%20%20%20%20%20%20%20%20%20%20%20%20%20%20%20%20%7B%22attribution%22%3A%20%22Data%20by%20%5Cu0026copy%3B%20%5Cu003ca%20href%3D%5C%22http%3A//openstreetmap.org%5C%22%5Cu003eOpenStreetMap%5Cu003c/a%5Cu003e%2C%20under%20%5Cu003ca%20href%3D%5C%22http%3A//www.openstreetmap.org/copyright%5C%22%5Cu003eODbL%5Cu003c/a%5Cu003e.%22%2C%20%22detectRetina%22%3A%20false%2C%20%22maxNativeZoom%22%3A%2018%2C%20%22maxZoom%22%3A%2018%2C%20%22minZoom%22%3A%200%2C%20%22noWrap%22%3A%20false%2C%20%22opacity%22%3A%201%2C%20%22subdomains%22%3A%20%22abc%22%2C%20%22tms%22%3A%20false%7D%0A%20%20%20%20%20%20%20%20%20%20%20%20%29.addTo%28map_e56acb2bc7b448099219b6b3cc253134%29%3B%0A%20%20%20%20%20%20%20%20%0A%20%20%20%20%0A%20%20%20%20%20%20%20%20%20%20%20%20var%20tile_layer_7e93acca927c4dabad2e20c0b2c4f8c2%20%3D%20L.tileLayer%28%0A%20%20%20%20%20%20%20%20%20%20%20%20%20%20%20%20%22https%3A//earthengine.googleapis.com/v1alpha/projects/earthengine-legacy/maps/863a2282332b39f617190f8fe88166d9-cfed106bb77cdc6e59ffa2bb45f71281/tiles/%7Bz%7D/%7Bx%7D/%7By%7D%22%2C%0A%20%20%20%20%20%20%20%20%20%20%20%20%20%20%20%20%7B%22attribution%22%3A%20%22Map%20Data%20%5Cu0026copy%3B%20%5Cu003ca%20href%3D%5C%22https%3A//earthengine.google.com/%5C%22%5Cu003eGoogle%20Earth%20Engine%5Cu003c/a%5Cu003e%22%2C%20%22detectRetina%22%3A%20false%2C%20%22maxNativeZoom%22%3A%2018%2C%20%22maxZoom%22%3A%2018%2C%20%22minZoom%22%3A%200%2C%20%22noWrap%22%3A%20false%2C%20%22opacity%22%3A%201%2C%20%22subdomains%22%3A%20%22abc%22%2C%20%22tms%22%3A%20false%7D%0A%20%20%20%20%20%20%20%20%20%20%20%20%29.addTo%28map_e56acb2bc7b448099219b6b3cc253134%29%3B%0A%20%20%20%20%20%20%20%20%0A%20%20%20%20%0A%20%20%20%20%20%20%20%20%20%20%20%20var%20tile_layer_918af1b13da241d6ac743ad324fa0613%20%3D%20L.tileLayer%28%0A%20%20%20%20%20%20%20%20%20%20%20%20%20%20%20%20%22https%3A//earthengine.googleapis.com/v1alpha/projects/earthengine-legacy/maps/e0900dc5859fd9c32c392fb518e07806-c3217299febfd11f64c2ed67ecfbbe6f/tiles/%7Bz%7D/%7Bx%7D/%7By%7D%22%2C%0A%20%20%20%20%20%20%20%20%20%20%20%20%20%20%20%20%7B%22attribution%22%3A%20%22Map%20Data%20%5Cu0026copy%3B%20%5Cu003ca%20href%3D%5C%22https%3A//earthengine.google.com/%5C%22%5Cu003eGoogle%20Earth%20Engine%5Cu003c/a%5Cu003e%22%2C%20%22detectRetina%22%3A%20false%2C%20%22maxNativeZoom%22%3A%2018%2C%20%22maxZoom%22%3A%2018%2C%20%22minZoom%22%3A%200%2C%20%22noWrap%22%3A%20false%2C%20%22opacity%22%3A%201%2C%20%22subdomains%22%3A%20%22abc%22%2C%20%22tms%22%3A%20false%7D%0A%20%20%20%20%20%20%20%20%20%20%20%20%29.addTo%28map_e56acb2bc7b448099219b6b3cc253134%29%3B%0A%20%20%20%20%20%20%20%20%0A%20%20%20%20%0A%20%20%20%20%20%20%20%20%20%20%20%20var%20tile_layer_62e9ffe2784d4d02b6d44453adf85a6d%20%3D%20L.tileLayer%28%0A%20%20%20%20%20%20%20%20%20%20%20%20%20%20%20%20%22https%3A//earthengine.googleapis.com/v1alpha/projects/earthengine-legacy/maps/87e8de1e29e9b6d20a47ee9610b386ce-ad516ec9743155ef6cb8f20af705fec2/tiles/%7Bz%7D/%7Bx%7D/%7By%7D%22%2C%0A%20%20%20%20%20%20%20%20%20%20%20%20%20%20%20%20%7B%22attribution%22%3A%20%22Map%20Data%20%5Cu0026copy%3B%20%5Cu003ca%20href%3D%5C%22https%3A//earthengine.google.com/%5C%22%5Cu003eGoogle%20Earth%20Engine%5Cu003c/a%5Cu003e%22%2C%20%22detectRetina%22%3A%20false%2C%20%22maxNativeZoom%22%3A%2018%2C%20%22maxZoom%22%3A%2018%2C%20%22minZoom%22%3A%200%2C%20%22noWrap%22%3A%20false%2C%20%22opacity%22%3A%201%2C%20%22subdomains%22%3A%20%22abc%22%2C%20%22tms%22%3A%20false%7D%0A%20%20%20%20%20%20%20%20%20%20%20%20%29.addTo%28map_e56acb2bc7b448099219b6b3cc253134%29%3B%0A%20%20%20%20%20%20%20%20%0A%20%20%20%20%0A%20%20%20%20%20%20%20%20%20%20%20%20var%20tile_layer_04418115214f4a558371c6102b494f46%20%3D%20L.tileLayer%28%0A%20%20%20%20%20%20%20%20%20%20%20%20%20%20%20%20%22https%3A//earthengine.googleapis.com/v1alpha/projects/earthengine-legacy/maps/d03a936a86d52aca6ad1c6d58c53e134-cdbb44fb6917b3fa8f0b96e494633a5c/tiles/%7Bz%7D/%7Bx%7D/%7By%7D%22%2C%0A%20%20%20%20%20%20%20%20%20%20%20%20%20%20%20%20%7B%22attribution%22%3A%20%22Map%20Data%20%5Cu0026copy%3B%20%5Cu003ca%20href%3D%5C%22https%3A//earthengine.google.com/%5C%22%5Cu003eGoogle%20Earth%20Engine%5Cu003c/a%5Cu003e%22%2C%20%22detectRetina%22%3A%20false%2C%20%22maxNativeZoom%22%3A%2018%2C%20%22maxZoom%22%3A%2018%2C%20%22minZoom%22%3A%200%2C%20%22noWrap%22%3A%20false%2C%20%22opacity%22%3A%201%2C%20%22subdomains%22%3A%20%22abc%22%2C%20%22tms%22%3A%20false%7D%0A%20%20%20%20%20%20%20%20%20%20%20%20%29.addTo%28map_e56acb2bc7b448099219b6b3cc253134%29%3B%0A%20%20%20%20%20%20%20%20%0A%20%20%20%20%0A%20%20%20%20%20%20%20%20%20%20%20%20var%20tile_layer_de1743caba0f4992b5e647e1b693e8a2%20%3D%20L.tileLayer%28%0A%20%20%20%20%20%20%20%20%20%20%20%20%20%20%20%20%22https%3A//earthengine.googleapis.com/v1alpha/projects/earthengine-legacy/maps/bd0a6966f95a742324fd5ff422d94c19-4e88d85fb5f26dae7c7e5ef5eedd0cdf/tiles/%7Bz%7D/%7Bx%7D/%7By%7D%22%2C%0A%20%20%20%20%20%20%20%20%20%20%20%20%20%20%20%20%7B%22attribution%22%3A%20%22Map%20Data%20%5Cu0026copy%3B%20%5Cu003ca%20href%3D%5C%22https%3A//earthengine.google.com/%5C%22%5Cu003eGoogle%20Earth%20Engine%5Cu003c/a%5Cu003e%22%2C%20%22detectRetina%22%3A%20false%2C%20%22maxNativeZoom%22%3A%2018%2C%20%22maxZoom%22%3A%2018%2C%20%22minZoom%22%3A%200%2C%20%22noWrap%22%3A%20false%2C%20%22opacity%22%3A%201%2C%20%22subdomains%22%3A%20%22abc%22%2C%20%22tms%22%3A%20false%7D%0A%20%20%20%20%20%20%20%20%20%20%20%20%29.addTo%28map_e56acb2bc7b448099219b6b3cc253134%29%3B%0A%20%20%20%20%20%20%20%20%0A%20%20%20%20%0A%20%20%20%20%20%20%20%20%20%20%20%20var%20tile_layer_adf5cb09fc1e43d5b610259a344346df%20%3D%20L.tileLayer%28%0A%20%20%20%20%20%20%20%20%20%20%20%20%20%20%20%20%22https%3A//earthengine.googleapis.com/v1alpha/projects/earthengine-legacy/maps/76874eabe8668a77bfbdacd7d6e9b87a-f5bda5db7806842f1c459e76c59fa585/tiles/%7Bz%7D/%7Bx%7D/%7By%7D%22%2C%0A%20%20%20%20%20%20%20%20%20%20%20%20%20%20%20%20%7B%22attribution%22%3A%20%22Map%20Data%20%5Cu0026copy%3B%20%5Cu003ca%20href%3D%5C%22https%3A//earthengine.google.com/%5C%22%5Cu003eGoogle%20Earth%20Engine%5Cu003c/a%5Cu003e%22%2C%20%22detectRetina%22%3A%20false%2C%20%22maxNativeZoom%22%3A%2018%2C%20%22maxZoom%22%3A%2018%2C%20%22minZoom%22%3A%200%2C%20%22noWrap%22%3A%20false%2C%20%22opacity%22%3A%201%2C%20%22subdomains%22%3A%20%22abc%22%2C%20%22tms%22%3A%20false%7D%0A%20%20%20%20%20%20%20%20%20%20%20%20%29.addTo%28map_e56acb2bc7b448099219b6b3cc253134%29%3B%0A%20%20%20%20%20%20%20%20%0A%20%20%20%20%0A%20%20%20%20%20%20%20%20%20%20%20%20var%20layer_control_d65950044dbd451f842dee7a92dec2c2%20%3D%20%7B%0A%20%20%20%20%20%20%20%20%20%20%20%20%20%20%20%20base_layers%20%3A%20%7B%0A%20%20%20%20%20%20%20%20%20%20%20%20%20%20%20%20%20%20%20%20%22openstreetmap%22%20%3A%20tile_layer_93cf15c122064ff091c87f7239f33093%2C%0A%20%20%20%20%20%20%20%20%20%20%20%20%20%20%20%20%7D%2C%0A%20%20%20%20%20%20%20%20%20%20%20%20%20%20%20%20overlays%20%3A%20%20%7B%0A%20%20%20%20%20%20%20%20%20%20%20%20%20%20%20%20%20%20%20%20%22d%5Cu0027Andohahela%20Fitted%20NDVI%22%20%3A%20tile_layer_7e93acca927c4dabad2e20c0b2c4f8c2%2C%0A%20%20%20%20%20%20%20%20%20%20%20%20%20%20%20%20%20%20%20%20%22Midongy%20Betofaka%20Fitted%20NDVI%22%20%3A%20tile_layer_918af1b13da241d6ac743ad324fa0613%2C%0A%20%20%20%20%20%20%20%20%20%20%20%20%20%20%20%20%20%20%20%20%22Tsimanampetsotsa%20Fitted%20NDVI%22%20%3A%20tile_layer_62e9ffe2784d4d02b6d44453adf85a6d%2C%0A%20%20%20%20%20%20%20%20%20%20%20%20%20%20%20%20%20%20%20%20%22d%5Cu0027Ankarafantsika%20Fitted%20NDVI%22%20%3A%20tile_layer_04418115214f4a558371c6102b494f46%2C%0A%20%20%20%20%20%20%20%20%20%20%20%20%20%20%20%20%20%20%20%20%22Masoala%20Fitted%20NDVI%22%20%3A%20tile_layer_de1743caba0f4992b5e647e1b693e8a2%2C%0A%20%20%20%20%20%20%20%20%20%20%20%20%20%20%20%20%20%20%20%20%22Alan%5Cu0027Ankirisa%20Fitted%20NDVI%22%20%3A%20tile_layer_adf5cb09fc1e43d5b610259a344346df%2C%0A%20%20%20%20%20%20%20%20%20%20%20%20%20%20%20%20%7D%2C%0A%20%20%20%20%20%20%20%20%20%20%20%20%7D%3B%0A%20%20%20%20%20%20%20%20%20%20%20%20L.control.layers%28%0A%20%20%20%20%20%20%20%20%20%20%20%20%20%20%20%20layer_control_d65950044dbd451f842dee7a92dec2c2.base_layers%2C%0A%20%20%20%20%20%20%20%20%20%20%20%20%20%20%20%20layer_control_d65950044dbd451f842dee7a92dec2c2.overlays%2C%0A%20%20%20%20%20%20%20%20%20%20%20%20%20%20%20%20%7B%22autoZIndex%22%3A%20true%2C%20%22collapsed%22%3A%20true%2C%20%22position%22%3A%20%22topright%22%7D%0A%20%20%20%20%20%20%20%20%20%20%20%20%29.addTo%28map_e56acb2bc7b448099219b6b3cc253134%29%3B%0A%20%20%20%20%20%20%20%20%0A%3C/script%3E onload=\"this.contentDocument.open();this.contentDocument.write(    decodeURIComponent(this.getAttribute('data-html')));this.contentDocument.close();\" allowfullscreen webkitallowfullscreen mozallowfullscreen></iframe></div></div>"
      ],
      "text/plain": [
       "<folium.folium.Map at 0x13e5a9f40>"
      ]
     },
     "metadata": {},
     "output_type": "display_data"
    },
    {
     "name": "stdout",
     "output_type": "stream",
     "text": [
      "\n",
      " \n",
      "\n",
      "2019-10-01 - 2019-11-01\n"
     ]
    },
    {
     "data": {
      "text/html": [
       "<div style=\"width:100%;\"><div style=\"position:relative;width:100%;height:0;padding-bottom:60%;\"><span style=\"color:#565656\">Make this Notebook Trusted to load map: File -> Trust Notebook</span><iframe src=\"about:blank\" style=\"position:absolute;width:100%;height:100%;left:0;top:0;border:none !important;\" data-html=%3C%21DOCTYPE%20html%3E%0A%3Chead%3E%20%20%20%20%0A%20%20%20%20%3Cmeta%20http-equiv%3D%22content-type%22%20content%3D%22text/html%3B%20charset%3DUTF-8%22%20/%3E%0A%20%20%20%20%0A%20%20%20%20%20%20%20%20%3Cscript%3E%0A%20%20%20%20%20%20%20%20%20%20%20%20L_NO_TOUCH%20%3D%20false%3B%0A%20%20%20%20%20%20%20%20%20%20%20%20L_DISABLE_3D%20%3D%20false%3B%0A%20%20%20%20%20%20%20%20%3C/script%3E%0A%20%20%20%20%0A%20%20%20%20%3Cstyle%3Ehtml%2C%20body%20%7Bwidth%3A%20100%25%3Bheight%3A%20100%25%3Bmargin%3A%200%3Bpadding%3A%200%3B%7D%3C/style%3E%0A%20%20%20%20%3Cstyle%3E%23map%20%7Bposition%3Aabsolute%3Btop%3A0%3Bbottom%3A0%3Bright%3A0%3Bleft%3A0%3B%7D%3C/style%3E%0A%20%20%20%20%3Cscript%20src%3D%22https%3A//cdn.jsdelivr.net/npm/leaflet%401.6.0/dist/leaflet.js%22%3E%3C/script%3E%0A%20%20%20%20%3Cscript%20src%3D%22https%3A//code.jquery.com/jquery-1.12.4.min.js%22%3E%3C/script%3E%0A%20%20%20%20%3Cscript%20src%3D%22https%3A//maxcdn.bootstrapcdn.com/bootstrap/3.2.0/js/bootstrap.min.js%22%3E%3C/script%3E%0A%20%20%20%20%3Cscript%20src%3D%22https%3A//cdnjs.cloudflare.com/ajax/libs/Leaflet.awesome-markers/2.0.2/leaflet.awesome-markers.js%22%3E%3C/script%3E%0A%20%20%20%20%3Clink%20rel%3D%22stylesheet%22%20href%3D%22https%3A//cdn.jsdelivr.net/npm/leaflet%401.6.0/dist/leaflet.css%22/%3E%0A%20%20%20%20%3Clink%20rel%3D%22stylesheet%22%20href%3D%22https%3A//maxcdn.bootstrapcdn.com/bootstrap/3.2.0/css/bootstrap.min.css%22/%3E%0A%20%20%20%20%3Clink%20rel%3D%22stylesheet%22%20href%3D%22https%3A//maxcdn.bootstrapcdn.com/bootstrap/3.2.0/css/bootstrap-theme.min.css%22/%3E%0A%20%20%20%20%3Clink%20rel%3D%22stylesheet%22%20href%3D%22https%3A//maxcdn.bootstrapcdn.com/font-awesome/4.6.3/css/font-awesome.min.css%22/%3E%0A%20%20%20%20%3Clink%20rel%3D%22stylesheet%22%20href%3D%22https%3A//cdnjs.cloudflare.com/ajax/libs/Leaflet.awesome-markers/2.0.2/leaflet.awesome-markers.css%22/%3E%0A%20%20%20%20%3Clink%20rel%3D%22stylesheet%22%20href%3D%22https%3A//cdn.jsdelivr.net/gh/python-visualization/folium/folium/templates/leaflet.awesome.rotate.min.css%22/%3E%0A%20%20%20%20%0A%20%20%20%20%20%20%20%20%20%20%20%20%3Cmeta%20name%3D%22viewport%22%20content%3D%22width%3Ddevice-width%2C%0A%20%20%20%20%20%20%20%20%20%20%20%20%20%20%20%20initial-scale%3D1.0%2C%20maximum-scale%3D1.0%2C%20user-scalable%3Dno%22%20/%3E%0A%20%20%20%20%20%20%20%20%20%20%20%20%3Cstyle%3E%0A%20%20%20%20%20%20%20%20%20%20%20%20%20%20%20%20%23map_4bf1d4c801c14581bacf4a3503821972%20%7B%0A%20%20%20%20%20%20%20%20%20%20%20%20%20%20%20%20%20%20%20%20position%3A%20relative%3B%0A%20%20%20%20%20%20%20%20%20%20%20%20%20%20%20%20%20%20%20%20width%3A%20100.0%25%3B%0A%20%20%20%20%20%20%20%20%20%20%20%20%20%20%20%20%20%20%20%20height%3A%20100.0%25%3B%0A%20%20%20%20%20%20%20%20%20%20%20%20%20%20%20%20%20%20%20%20left%3A%200.0%25%3B%0A%20%20%20%20%20%20%20%20%20%20%20%20%20%20%20%20%20%20%20%20top%3A%200.0%25%3B%0A%20%20%20%20%20%20%20%20%20%20%20%20%20%20%20%20%7D%0A%20%20%20%20%20%20%20%20%20%20%20%20%3C/style%3E%0A%20%20%20%20%20%20%20%20%0A%3C/head%3E%0A%3Cbody%3E%20%20%20%20%0A%20%20%20%20%0A%20%20%20%20%20%20%20%20%20%20%20%20%3Cdiv%20class%3D%22folium-map%22%20id%3D%22map_4bf1d4c801c14581bacf4a3503821972%22%20%3E%3C/div%3E%0A%20%20%20%20%20%20%20%20%0A%3C/body%3E%0A%3Cscript%3E%20%20%20%20%0A%20%20%20%20%0A%20%20%20%20%20%20%20%20%20%20%20%20var%20map_4bf1d4c801c14581bacf4a3503821972%20%3D%20L.map%28%0A%20%20%20%20%20%20%20%20%20%20%20%20%20%20%20%20%22map_4bf1d4c801c14581bacf4a3503821972%22%2C%0A%20%20%20%20%20%20%20%20%20%20%20%20%20%20%20%20%7B%0A%20%20%20%20%20%20%20%20%20%20%20%20%20%20%20%20%20%20%20%20center%3A%20%5B-18.203199246622674%2C%2046.779785%5D%2C%0A%20%20%20%20%20%20%20%20%20%20%20%20%20%20%20%20%20%20%20%20crs%3A%20L.CRS.EPSG3857%2C%0A%20%20%20%20%20%20%20%20%20%20%20%20%20%20%20%20%20%20%20%20zoom%3A%205.6%2C%0A%20%20%20%20%20%20%20%20%20%20%20%20%20%20%20%20%20%20%20%20zoomControl%3A%20true%2C%0A%20%20%20%20%20%20%20%20%20%20%20%20%20%20%20%20%20%20%20%20preferCanvas%3A%20false%2C%0A%20%20%20%20%20%20%20%20%20%20%20%20%20%20%20%20%7D%0A%20%20%20%20%20%20%20%20%20%20%20%20%29%3B%0A%0A%20%20%20%20%20%20%20%20%20%20%20%20%0A%0A%20%20%20%20%20%20%20%20%0A%20%20%20%20%0A%20%20%20%20%20%20%20%20%20%20%20%20var%20tile_layer_31dfff6212c7491b969a21f318ffecdf%20%3D%20L.tileLayer%28%0A%20%20%20%20%20%20%20%20%20%20%20%20%20%20%20%20%22https%3A//%7Bs%7D.tile.openstreetmap.org/%7Bz%7D/%7Bx%7D/%7By%7D.png%22%2C%0A%20%20%20%20%20%20%20%20%20%20%20%20%20%20%20%20%7B%22attribution%22%3A%20%22Data%20by%20%5Cu0026copy%3B%20%5Cu003ca%20href%3D%5C%22http%3A//openstreetmap.org%5C%22%5Cu003eOpenStreetMap%5Cu003c/a%5Cu003e%2C%20under%20%5Cu003ca%20href%3D%5C%22http%3A//www.openstreetmap.org/copyright%5C%22%5Cu003eODbL%5Cu003c/a%5Cu003e.%22%2C%20%22detectRetina%22%3A%20false%2C%20%22maxNativeZoom%22%3A%2018%2C%20%22maxZoom%22%3A%2018%2C%20%22minZoom%22%3A%200%2C%20%22noWrap%22%3A%20false%2C%20%22opacity%22%3A%201%2C%20%22subdomains%22%3A%20%22abc%22%2C%20%22tms%22%3A%20false%7D%0A%20%20%20%20%20%20%20%20%20%20%20%20%29.addTo%28map_4bf1d4c801c14581bacf4a3503821972%29%3B%0A%20%20%20%20%20%20%20%20%0A%20%20%20%20%0A%20%20%20%20%20%20%20%20%20%20%20%20var%20tile_layer_15495359a9324f48aada7d10134dbaf0%20%3D%20L.tileLayer%28%0A%20%20%20%20%20%20%20%20%20%20%20%20%20%20%20%20%22https%3A//earthengine.googleapis.com/v1alpha/projects/earthengine-legacy/maps/2485b6d7fa55e3e7922261903355a08a-0431f67f116748cbfaf4b6c3fb53aaca/tiles/%7Bz%7D/%7Bx%7D/%7By%7D%22%2C%0A%20%20%20%20%20%20%20%20%20%20%20%20%20%20%20%20%7B%22attribution%22%3A%20%22Map%20Data%20%5Cu0026copy%3B%20%5Cu003ca%20href%3D%5C%22https%3A//earthengine.google.com/%5C%22%5Cu003eGoogle%20Earth%20Engine%5Cu003c/a%5Cu003e%22%2C%20%22detectRetina%22%3A%20false%2C%20%22maxNativeZoom%22%3A%2018%2C%20%22maxZoom%22%3A%2018%2C%20%22minZoom%22%3A%200%2C%20%22noWrap%22%3A%20false%2C%20%22opacity%22%3A%201%2C%20%22subdomains%22%3A%20%22abc%22%2C%20%22tms%22%3A%20false%7D%0A%20%20%20%20%20%20%20%20%20%20%20%20%29.addTo%28map_4bf1d4c801c14581bacf4a3503821972%29%3B%0A%20%20%20%20%20%20%20%20%0A%20%20%20%20%0A%20%20%20%20%20%20%20%20%20%20%20%20var%20tile_layer_64120aa61b674452bfda57320842c831%20%3D%20L.tileLayer%28%0A%20%20%20%20%20%20%20%20%20%20%20%20%20%20%20%20%22https%3A//earthengine.googleapis.com/v1alpha/projects/earthengine-legacy/maps/9b8a847b44d825d62c23b3efe82608ae-c63251036749ebb0ddbeab27d2d04e64/tiles/%7Bz%7D/%7Bx%7D/%7By%7D%22%2C%0A%20%20%20%20%20%20%20%20%20%20%20%20%20%20%20%20%7B%22attribution%22%3A%20%22Map%20Data%20%5Cu0026copy%3B%20%5Cu003ca%20href%3D%5C%22https%3A//earthengine.google.com/%5C%22%5Cu003eGoogle%20Earth%20Engine%5Cu003c/a%5Cu003e%22%2C%20%22detectRetina%22%3A%20false%2C%20%22maxNativeZoom%22%3A%2018%2C%20%22maxZoom%22%3A%2018%2C%20%22minZoom%22%3A%200%2C%20%22noWrap%22%3A%20false%2C%20%22opacity%22%3A%201%2C%20%22subdomains%22%3A%20%22abc%22%2C%20%22tms%22%3A%20false%7D%0A%20%20%20%20%20%20%20%20%20%20%20%20%29.addTo%28map_4bf1d4c801c14581bacf4a3503821972%29%3B%0A%20%20%20%20%20%20%20%20%0A%20%20%20%20%0A%20%20%20%20%20%20%20%20%20%20%20%20var%20tile_layer_d7c2e69054614550b8865627c320f433%20%3D%20L.tileLayer%28%0A%20%20%20%20%20%20%20%20%20%20%20%20%20%20%20%20%22https%3A//earthengine.googleapis.com/v1alpha/projects/earthengine-legacy/maps/f0b337774d34f5820b248be4e8d00269-7882155414fd33373911497379333683/tiles/%7Bz%7D/%7Bx%7D/%7By%7D%22%2C%0A%20%20%20%20%20%20%20%20%20%20%20%20%20%20%20%20%7B%22attribution%22%3A%20%22Map%20Data%20%5Cu0026copy%3B%20%5Cu003ca%20href%3D%5C%22https%3A//earthengine.google.com/%5C%22%5Cu003eGoogle%20Earth%20Engine%5Cu003c/a%5Cu003e%22%2C%20%22detectRetina%22%3A%20false%2C%20%22maxNativeZoom%22%3A%2018%2C%20%22maxZoom%22%3A%2018%2C%20%22minZoom%22%3A%200%2C%20%22noWrap%22%3A%20false%2C%20%22opacity%22%3A%201%2C%20%22subdomains%22%3A%20%22abc%22%2C%20%22tms%22%3A%20false%7D%0A%20%20%20%20%20%20%20%20%20%20%20%20%29.addTo%28map_4bf1d4c801c14581bacf4a3503821972%29%3B%0A%20%20%20%20%20%20%20%20%0A%20%20%20%20%0A%20%20%20%20%20%20%20%20%20%20%20%20var%20tile_layer_28391798902142c599817f4f36320b03%20%3D%20L.tileLayer%28%0A%20%20%20%20%20%20%20%20%20%20%20%20%20%20%20%20%22https%3A//earthengine.googleapis.com/v1alpha/projects/earthengine-legacy/maps/6b0a8563cf2547ced66532908adaaea6-b4587186c56b0811641bee19f7981847/tiles/%7Bz%7D/%7Bx%7D/%7By%7D%22%2C%0A%20%20%20%20%20%20%20%20%20%20%20%20%20%20%20%20%7B%22attribution%22%3A%20%22Map%20Data%20%5Cu0026copy%3B%20%5Cu003ca%20href%3D%5C%22https%3A//earthengine.google.com/%5C%22%5Cu003eGoogle%20Earth%20Engine%5Cu003c/a%5Cu003e%22%2C%20%22detectRetina%22%3A%20false%2C%20%22maxNativeZoom%22%3A%2018%2C%20%22maxZoom%22%3A%2018%2C%20%22minZoom%22%3A%200%2C%20%22noWrap%22%3A%20false%2C%20%22opacity%22%3A%201%2C%20%22subdomains%22%3A%20%22abc%22%2C%20%22tms%22%3A%20false%7D%0A%20%20%20%20%20%20%20%20%20%20%20%20%29.addTo%28map_4bf1d4c801c14581bacf4a3503821972%29%3B%0A%20%20%20%20%20%20%20%20%0A%20%20%20%20%0A%20%20%20%20%20%20%20%20%20%20%20%20var%20tile_layer_e61948f1571c4b1786d1fc4173919dda%20%3D%20L.tileLayer%28%0A%20%20%20%20%20%20%20%20%20%20%20%20%20%20%20%20%22https%3A//earthengine.googleapis.com/v1alpha/projects/earthengine-legacy/maps/9ef556e60dd8274b99b6beb3dc01e54c-c7a3bad302694851ec20c2427e75a6d6/tiles/%7Bz%7D/%7Bx%7D/%7By%7D%22%2C%0A%20%20%20%20%20%20%20%20%20%20%20%20%20%20%20%20%7B%22attribution%22%3A%20%22Map%20Data%20%5Cu0026copy%3B%20%5Cu003ca%20href%3D%5C%22https%3A//earthengine.google.com/%5C%22%5Cu003eGoogle%20Earth%20Engine%5Cu003c/a%5Cu003e%22%2C%20%22detectRetina%22%3A%20false%2C%20%22maxNativeZoom%22%3A%2018%2C%20%22maxZoom%22%3A%2018%2C%20%22minZoom%22%3A%200%2C%20%22noWrap%22%3A%20false%2C%20%22opacity%22%3A%201%2C%20%22subdomains%22%3A%20%22abc%22%2C%20%22tms%22%3A%20false%7D%0A%20%20%20%20%20%20%20%20%20%20%20%20%29.addTo%28map_4bf1d4c801c14581bacf4a3503821972%29%3B%0A%20%20%20%20%20%20%20%20%0A%20%20%20%20%0A%20%20%20%20%20%20%20%20%20%20%20%20var%20tile_layer_84cdfb949ec54ae1a57cc99857870700%20%3D%20L.tileLayer%28%0A%20%20%20%20%20%20%20%20%20%20%20%20%20%20%20%20%22https%3A//earthengine.googleapis.com/v1alpha/projects/earthengine-legacy/maps/c8b129e77b9f409be4293ac86fd6df86-7a474340465aa6de0367726d426d8ae3/tiles/%7Bz%7D/%7Bx%7D/%7By%7D%22%2C%0A%20%20%20%20%20%20%20%20%20%20%20%20%20%20%20%20%7B%22attribution%22%3A%20%22Map%20Data%20%5Cu0026copy%3B%20%5Cu003ca%20href%3D%5C%22https%3A//earthengine.google.com/%5C%22%5Cu003eGoogle%20Earth%20Engine%5Cu003c/a%5Cu003e%22%2C%20%22detectRetina%22%3A%20false%2C%20%22maxNativeZoom%22%3A%2018%2C%20%22maxZoom%22%3A%2018%2C%20%22minZoom%22%3A%200%2C%20%22noWrap%22%3A%20false%2C%20%22opacity%22%3A%201%2C%20%22subdomains%22%3A%20%22abc%22%2C%20%22tms%22%3A%20false%7D%0A%20%20%20%20%20%20%20%20%20%20%20%20%29.addTo%28map_4bf1d4c801c14581bacf4a3503821972%29%3B%0A%20%20%20%20%20%20%20%20%0A%20%20%20%20%0A%20%20%20%20%20%20%20%20%20%20%20%20var%20layer_control_f13be04f278948b1be9233827736d539%20%3D%20%7B%0A%20%20%20%20%20%20%20%20%20%20%20%20%20%20%20%20base_layers%20%3A%20%7B%0A%20%20%20%20%20%20%20%20%20%20%20%20%20%20%20%20%20%20%20%20%22openstreetmap%22%20%3A%20tile_layer_31dfff6212c7491b969a21f318ffecdf%2C%0A%20%20%20%20%20%20%20%20%20%20%20%20%20%20%20%20%7D%2C%0A%20%20%20%20%20%20%20%20%20%20%20%20%20%20%20%20overlays%20%3A%20%20%7B%0A%20%20%20%20%20%20%20%20%20%20%20%20%20%20%20%20%20%20%20%20%22d%5Cu0027Andohahela%20Fitted%20NDVI%22%20%3A%20tile_layer_15495359a9324f48aada7d10134dbaf0%2C%0A%20%20%20%20%20%20%20%20%20%20%20%20%20%20%20%20%20%20%20%20%22Midongy%20Betofaka%20Fitted%20NDVI%22%20%3A%20tile_layer_64120aa61b674452bfda57320842c831%2C%0A%20%20%20%20%20%20%20%20%20%20%20%20%20%20%20%20%20%20%20%20%22Tsimanampetsotsa%20Fitted%20NDVI%22%20%3A%20tile_layer_d7c2e69054614550b8865627c320f433%2C%0A%20%20%20%20%20%20%20%20%20%20%20%20%20%20%20%20%20%20%20%20%22d%5Cu0027Ankarafantsika%20Fitted%20NDVI%22%20%3A%20tile_layer_28391798902142c599817f4f36320b03%2C%0A%20%20%20%20%20%20%20%20%20%20%20%20%20%20%20%20%20%20%20%20%22Masoala%20Fitted%20NDVI%22%20%3A%20tile_layer_e61948f1571c4b1786d1fc4173919dda%2C%0A%20%20%20%20%20%20%20%20%20%20%20%20%20%20%20%20%20%20%20%20%22Alan%5Cu0027Ankirisa%20Fitted%20NDVI%22%20%3A%20tile_layer_84cdfb949ec54ae1a57cc99857870700%2C%0A%20%20%20%20%20%20%20%20%20%20%20%20%20%20%20%20%7D%2C%0A%20%20%20%20%20%20%20%20%20%20%20%20%7D%3B%0A%20%20%20%20%20%20%20%20%20%20%20%20L.control.layers%28%0A%20%20%20%20%20%20%20%20%20%20%20%20%20%20%20%20layer_control_f13be04f278948b1be9233827736d539.base_layers%2C%0A%20%20%20%20%20%20%20%20%20%20%20%20%20%20%20%20layer_control_f13be04f278948b1be9233827736d539.overlays%2C%0A%20%20%20%20%20%20%20%20%20%20%20%20%20%20%20%20%7B%22autoZIndex%22%3A%20true%2C%20%22collapsed%22%3A%20true%2C%20%22position%22%3A%20%22topright%22%7D%0A%20%20%20%20%20%20%20%20%20%20%20%20%29.addTo%28map_4bf1d4c801c14581bacf4a3503821972%29%3B%0A%20%20%20%20%20%20%20%20%0A%3C/script%3E onload=\"this.contentDocument.open();this.contentDocument.write(    decodeURIComponent(this.getAttribute('data-html')));this.contentDocument.close();\" allowfullscreen webkitallowfullscreen mozallowfullscreen></iframe></div></div>"
      ],
      "text/plain": [
       "<folium.folium.Map at 0x13e51e0d0>"
      ]
     },
     "metadata": {},
     "output_type": "display_data"
    },
    {
     "name": "stdout",
     "output_type": "stream",
     "text": [
      "\n",
      " \n",
      "\n",
      "2019-11-01 - 2019-12-01\n"
     ]
    },
    {
     "data": {
      "text/html": [
       "<div style=\"width:100%;\"><div style=\"position:relative;width:100%;height:0;padding-bottom:60%;\"><span style=\"color:#565656\">Make this Notebook Trusted to load map: File -> Trust Notebook</span><iframe src=\"about:blank\" style=\"position:absolute;width:100%;height:100%;left:0;top:0;border:none !important;\" data-html=%3C%21DOCTYPE%20html%3E%0A%3Chead%3E%20%20%20%20%0A%20%20%20%20%3Cmeta%20http-equiv%3D%22content-type%22%20content%3D%22text/html%3B%20charset%3DUTF-8%22%20/%3E%0A%20%20%20%20%0A%20%20%20%20%20%20%20%20%3Cscript%3E%0A%20%20%20%20%20%20%20%20%20%20%20%20L_NO_TOUCH%20%3D%20false%3B%0A%20%20%20%20%20%20%20%20%20%20%20%20L_DISABLE_3D%20%3D%20false%3B%0A%20%20%20%20%20%20%20%20%3C/script%3E%0A%20%20%20%20%0A%20%20%20%20%3Cstyle%3Ehtml%2C%20body%20%7Bwidth%3A%20100%25%3Bheight%3A%20100%25%3Bmargin%3A%200%3Bpadding%3A%200%3B%7D%3C/style%3E%0A%20%20%20%20%3Cstyle%3E%23map%20%7Bposition%3Aabsolute%3Btop%3A0%3Bbottom%3A0%3Bright%3A0%3Bleft%3A0%3B%7D%3C/style%3E%0A%20%20%20%20%3Cscript%20src%3D%22https%3A//cdn.jsdelivr.net/npm/leaflet%401.6.0/dist/leaflet.js%22%3E%3C/script%3E%0A%20%20%20%20%3Cscript%20src%3D%22https%3A//code.jquery.com/jquery-1.12.4.min.js%22%3E%3C/script%3E%0A%20%20%20%20%3Cscript%20src%3D%22https%3A//maxcdn.bootstrapcdn.com/bootstrap/3.2.0/js/bootstrap.min.js%22%3E%3C/script%3E%0A%20%20%20%20%3Cscript%20src%3D%22https%3A//cdnjs.cloudflare.com/ajax/libs/Leaflet.awesome-markers/2.0.2/leaflet.awesome-markers.js%22%3E%3C/script%3E%0A%20%20%20%20%3Clink%20rel%3D%22stylesheet%22%20href%3D%22https%3A//cdn.jsdelivr.net/npm/leaflet%401.6.0/dist/leaflet.css%22/%3E%0A%20%20%20%20%3Clink%20rel%3D%22stylesheet%22%20href%3D%22https%3A//maxcdn.bootstrapcdn.com/bootstrap/3.2.0/css/bootstrap.min.css%22/%3E%0A%20%20%20%20%3Clink%20rel%3D%22stylesheet%22%20href%3D%22https%3A//maxcdn.bootstrapcdn.com/bootstrap/3.2.0/css/bootstrap-theme.min.css%22/%3E%0A%20%20%20%20%3Clink%20rel%3D%22stylesheet%22%20href%3D%22https%3A//maxcdn.bootstrapcdn.com/font-awesome/4.6.3/css/font-awesome.min.css%22/%3E%0A%20%20%20%20%3Clink%20rel%3D%22stylesheet%22%20href%3D%22https%3A//cdnjs.cloudflare.com/ajax/libs/Leaflet.awesome-markers/2.0.2/leaflet.awesome-markers.css%22/%3E%0A%20%20%20%20%3Clink%20rel%3D%22stylesheet%22%20href%3D%22https%3A//cdn.jsdelivr.net/gh/python-visualization/folium/folium/templates/leaflet.awesome.rotate.min.css%22/%3E%0A%20%20%20%20%0A%20%20%20%20%20%20%20%20%20%20%20%20%3Cmeta%20name%3D%22viewport%22%20content%3D%22width%3Ddevice-width%2C%0A%20%20%20%20%20%20%20%20%20%20%20%20%20%20%20%20initial-scale%3D1.0%2C%20maximum-scale%3D1.0%2C%20user-scalable%3Dno%22%20/%3E%0A%20%20%20%20%20%20%20%20%20%20%20%20%3Cstyle%3E%0A%20%20%20%20%20%20%20%20%20%20%20%20%20%20%20%20%23map_8189feaef3db4b498e3c11061f657560%20%7B%0A%20%20%20%20%20%20%20%20%20%20%20%20%20%20%20%20%20%20%20%20position%3A%20relative%3B%0A%20%20%20%20%20%20%20%20%20%20%20%20%20%20%20%20%20%20%20%20width%3A%20100.0%25%3B%0A%20%20%20%20%20%20%20%20%20%20%20%20%20%20%20%20%20%20%20%20height%3A%20100.0%25%3B%0A%20%20%20%20%20%20%20%20%20%20%20%20%20%20%20%20%20%20%20%20left%3A%200.0%25%3B%0A%20%20%20%20%20%20%20%20%20%20%20%20%20%20%20%20%20%20%20%20top%3A%200.0%25%3B%0A%20%20%20%20%20%20%20%20%20%20%20%20%20%20%20%20%7D%0A%20%20%20%20%20%20%20%20%20%20%20%20%3C/style%3E%0A%20%20%20%20%20%20%20%20%0A%3C/head%3E%0A%3Cbody%3E%20%20%20%20%0A%20%20%20%20%0A%20%20%20%20%20%20%20%20%20%20%20%20%3Cdiv%20class%3D%22folium-map%22%20id%3D%22map_8189feaef3db4b498e3c11061f657560%22%20%3E%3C/div%3E%0A%20%20%20%20%20%20%20%20%0A%3C/body%3E%0A%3Cscript%3E%20%20%20%20%0A%20%20%20%20%0A%20%20%20%20%20%20%20%20%20%20%20%20var%20map_8189feaef3db4b498e3c11061f657560%20%3D%20L.map%28%0A%20%20%20%20%20%20%20%20%20%20%20%20%20%20%20%20%22map_8189feaef3db4b498e3c11061f657560%22%2C%0A%20%20%20%20%20%20%20%20%20%20%20%20%20%20%20%20%7B%0A%20%20%20%20%20%20%20%20%20%20%20%20%20%20%20%20%20%20%20%20center%3A%20%5B-18.203199246622674%2C%2046.779785%5D%2C%0A%20%20%20%20%20%20%20%20%20%20%20%20%20%20%20%20%20%20%20%20crs%3A%20L.CRS.EPSG3857%2C%0A%20%20%20%20%20%20%20%20%20%20%20%20%20%20%20%20%20%20%20%20zoom%3A%205.6%2C%0A%20%20%20%20%20%20%20%20%20%20%20%20%20%20%20%20%20%20%20%20zoomControl%3A%20true%2C%0A%20%20%20%20%20%20%20%20%20%20%20%20%20%20%20%20%20%20%20%20preferCanvas%3A%20false%2C%0A%20%20%20%20%20%20%20%20%20%20%20%20%20%20%20%20%7D%0A%20%20%20%20%20%20%20%20%20%20%20%20%29%3B%0A%0A%20%20%20%20%20%20%20%20%20%20%20%20%0A%0A%20%20%20%20%20%20%20%20%0A%20%20%20%20%0A%20%20%20%20%20%20%20%20%20%20%20%20var%20tile_layer_f3eb374449db4e84b9fbf3e8b1fbf442%20%3D%20L.tileLayer%28%0A%20%20%20%20%20%20%20%20%20%20%20%20%20%20%20%20%22https%3A//%7Bs%7D.tile.openstreetmap.org/%7Bz%7D/%7Bx%7D/%7By%7D.png%22%2C%0A%20%20%20%20%20%20%20%20%20%20%20%20%20%20%20%20%7B%22attribution%22%3A%20%22Data%20by%20%5Cu0026copy%3B%20%5Cu003ca%20href%3D%5C%22http%3A//openstreetmap.org%5C%22%5Cu003eOpenStreetMap%5Cu003c/a%5Cu003e%2C%20under%20%5Cu003ca%20href%3D%5C%22http%3A//www.openstreetmap.org/copyright%5C%22%5Cu003eODbL%5Cu003c/a%5Cu003e.%22%2C%20%22detectRetina%22%3A%20false%2C%20%22maxNativeZoom%22%3A%2018%2C%20%22maxZoom%22%3A%2018%2C%20%22minZoom%22%3A%200%2C%20%22noWrap%22%3A%20false%2C%20%22opacity%22%3A%201%2C%20%22subdomains%22%3A%20%22abc%22%2C%20%22tms%22%3A%20false%7D%0A%20%20%20%20%20%20%20%20%20%20%20%20%29.addTo%28map_8189feaef3db4b498e3c11061f657560%29%3B%0A%20%20%20%20%20%20%20%20%0A%20%20%20%20%0A%20%20%20%20%20%20%20%20%20%20%20%20var%20tile_layer_18b14db785184adb8da15dd8a54b6e36%20%3D%20L.tileLayer%28%0A%20%20%20%20%20%20%20%20%20%20%20%20%20%20%20%20%22https%3A//earthengine.googleapis.com/v1alpha/projects/earthengine-legacy/maps/e5c1508c7c2b225005bc2739e4372ed8-1d2b91c004fde201e0fe92f4a429c61e/tiles/%7Bz%7D/%7Bx%7D/%7By%7D%22%2C%0A%20%20%20%20%20%20%20%20%20%20%20%20%20%20%20%20%7B%22attribution%22%3A%20%22Map%20Data%20%5Cu0026copy%3B%20%5Cu003ca%20href%3D%5C%22https%3A//earthengine.google.com/%5C%22%5Cu003eGoogle%20Earth%20Engine%5Cu003c/a%5Cu003e%22%2C%20%22detectRetina%22%3A%20false%2C%20%22maxNativeZoom%22%3A%2018%2C%20%22maxZoom%22%3A%2018%2C%20%22minZoom%22%3A%200%2C%20%22noWrap%22%3A%20false%2C%20%22opacity%22%3A%201%2C%20%22subdomains%22%3A%20%22abc%22%2C%20%22tms%22%3A%20false%7D%0A%20%20%20%20%20%20%20%20%20%20%20%20%29.addTo%28map_8189feaef3db4b498e3c11061f657560%29%3B%0A%20%20%20%20%20%20%20%20%0A%20%20%20%20%0A%20%20%20%20%20%20%20%20%20%20%20%20var%20tile_layer_527bd3096fb7497b8a63be3a7e7297c1%20%3D%20L.tileLayer%28%0A%20%20%20%20%20%20%20%20%20%20%20%20%20%20%20%20%22https%3A//earthengine.googleapis.com/v1alpha/projects/earthengine-legacy/maps/4442253493475612b29ff36530471ce9-212a3539e78df4e746b9b545d8240331/tiles/%7Bz%7D/%7Bx%7D/%7By%7D%22%2C%0A%20%20%20%20%20%20%20%20%20%20%20%20%20%20%20%20%7B%22attribution%22%3A%20%22Map%20Data%20%5Cu0026copy%3B%20%5Cu003ca%20href%3D%5C%22https%3A//earthengine.google.com/%5C%22%5Cu003eGoogle%20Earth%20Engine%5Cu003c/a%5Cu003e%22%2C%20%22detectRetina%22%3A%20false%2C%20%22maxNativeZoom%22%3A%2018%2C%20%22maxZoom%22%3A%2018%2C%20%22minZoom%22%3A%200%2C%20%22noWrap%22%3A%20false%2C%20%22opacity%22%3A%201%2C%20%22subdomains%22%3A%20%22abc%22%2C%20%22tms%22%3A%20false%7D%0A%20%20%20%20%20%20%20%20%20%20%20%20%29.addTo%28map_8189feaef3db4b498e3c11061f657560%29%3B%0A%20%20%20%20%20%20%20%20%0A%20%20%20%20%0A%20%20%20%20%20%20%20%20%20%20%20%20var%20tile_layer_535425c5ff49468aaf11ceb07300e5e1%20%3D%20L.tileLayer%28%0A%20%20%20%20%20%20%20%20%20%20%20%20%20%20%20%20%22https%3A//earthengine.googleapis.com/v1alpha/projects/earthengine-legacy/maps/45ae66155aa9c2df948efc1ad73410af-1e76c538fe29f9cdb59f7007315fa174/tiles/%7Bz%7D/%7Bx%7D/%7By%7D%22%2C%0A%20%20%20%20%20%20%20%20%20%20%20%20%20%20%20%20%7B%22attribution%22%3A%20%22Map%20Data%20%5Cu0026copy%3B%20%5Cu003ca%20href%3D%5C%22https%3A//earthengine.google.com/%5C%22%5Cu003eGoogle%20Earth%20Engine%5Cu003c/a%5Cu003e%22%2C%20%22detectRetina%22%3A%20false%2C%20%22maxNativeZoom%22%3A%2018%2C%20%22maxZoom%22%3A%2018%2C%20%22minZoom%22%3A%200%2C%20%22noWrap%22%3A%20false%2C%20%22opacity%22%3A%201%2C%20%22subdomains%22%3A%20%22abc%22%2C%20%22tms%22%3A%20false%7D%0A%20%20%20%20%20%20%20%20%20%20%20%20%29.addTo%28map_8189feaef3db4b498e3c11061f657560%29%3B%0A%20%20%20%20%20%20%20%20%0A%20%20%20%20%0A%20%20%20%20%20%20%20%20%20%20%20%20var%20tile_layer_50f1cca5c50b426e9b9f389ae8c92b8e%20%3D%20L.tileLayer%28%0A%20%20%20%20%20%20%20%20%20%20%20%20%20%20%20%20%22https%3A//earthengine.googleapis.com/v1alpha/projects/earthengine-legacy/maps/c448e0ee1fae88d71466d66fbc389fd9-fd672aaf3383874863aff0f8424da68b/tiles/%7Bz%7D/%7Bx%7D/%7By%7D%22%2C%0A%20%20%20%20%20%20%20%20%20%20%20%20%20%20%20%20%7B%22attribution%22%3A%20%22Map%20Data%20%5Cu0026copy%3B%20%5Cu003ca%20href%3D%5C%22https%3A//earthengine.google.com/%5C%22%5Cu003eGoogle%20Earth%20Engine%5Cu003c/a%5Cu003e%22%2C%20%22detectRetina%22%3A%20false%2C%20%22maxNativeZoom%22%3A%2018%2C%20%22maxZoom%22%3A%2018%2C%20%22minZoom%22%3A%200%2C%20%22noWrap%22%3A%20false%2C%20%22opacity%22%3A%201%2C%20%22subdomains%22%3A%20%22abc%22%2C%20%22tms%22%3A%20false%7D%0A%20%20%20%20%20%20%20%20%20%20%20%20%29.addTo%28map_8189feaef3db4b498e3c11061f657560%29%3B%0A%20%20%20%20%20%20%20%20%0A%20%20%20%20%0A%20%20%20%20%20%20%20%20%20%20%20%20var%20tile_layer_68553a8ef31f4bf0a23248beb7b93211%20%3D%20L.tileLayer%28%0A%20%20%20%20%20%20%20%20%20%20%20%20%20%20%20%20%22https%3A//earthengine.googleapis.com/v1alpha/projects/earthengine-legacy/maps/d50e8c64c7afdde15e6507f51be6fd2e-4a6c357e7f4e33cb6dfc07cd1e11272c/tiles/%7Bz%7D/%7Bx%7D/%7By%7D%22%2C%0A%20%20%20%20%20%20%20%20%20%20%20%20%20%20%20%20%7B%22attribution%22%3A%20%22Map%20Data%20%5Cu0026copy%3B%20%5Cu003ca%20href%3D%5C%22https%3A//earthengine.google.com/%5C%22%5Cu003eGoogle%20Earth%20Engine%5Cu003c/a%5Cu003e%22%2C%20%22detectRetina%22%3A%20false%2C%20%22maxNativeZoom%22%3A%2018%2C%20%22maxZoom%22%3A%2018%2C%20%22minZoom%22%3A%200%2C%20%22noWrap%22%3A%20false%2C%20%22opacity%22%3A%201%2C%20%22subdomains%22%3A%20%22abc%22%2C%20%22tms%22%3A%20false%7D%0A%20%20%20%20%20%20%20%20%20%20%20%20%29.addTo%28map_8189feaef3db4b498e3c11061f657560%29%3B%0A%20%20%20%20%20%20%20%20%0A%20%20%20%20%0A%20%20%20%20%20%20%20%20%20%20%20%20var%20tile_layer_cfb8368ae9d041d38173cd2cba99f5ea%20%3D%20L.tileLayer%28%0A%20%20%20%20%20%20%20%20%20%20%20%20%20%20%20%20%22https%3A//earthengine.googleapis.com/v1alpha/projects/earthengine-legacy/maps/386ff39db22d94dfd0190a672927272e-f0d115f97e4a387b0991bfa0ada1977a/tiles/%7Bz%7D/%7Bx%7D/%7By%7D%22%2C%0A%20%20%20%20%20%20%20%20%20%20%20%20%20%20%20%20%7B%22attribution%22%3A%20%22Map%20Data%20%5Cu0026copy%3B%20%5Cu003ca%20href%3D%5C%22https%3A//earthengine.google.com/%5C%22%5Cu003eGoogle%20Earth%20Engine%5Cu003c/a%5Cu003e%22%2C%20%22detectRetina%22%3A%20false%2C%20%22maxNativeZoom%22%3A%2018%2C%20%22maxZoom%22%3A%2018%2C%20%22minZoom%22%3A%200%2C%20%22noWrap%22%3A%20false%2C%20%22opacity%22%3A%201%2C%20%22subdomains%22%3A%20%22abc%22%2C%20%22tms%22%3A%20false%7D%0A%20%20%20%20%20%20%20%20%20%20%20%20%29.addTo%28map_8189feaef3db4b498e3c11061f657560%29%3B%0A%20%20%20%20%20%20%20%20%0A%20%20%20%20%0A%20%20%20%20%20%20%20%20%20%20%20%20var%20layer_control_06947a261a9447f78ae163b097e9e206%20%3D%20%7B%0A%20%20%20%20%20%20%20%20%20%20%20%20%20%20%20%20base_layers%20%3A%20%7B%0A%20%20%20%20%20%20%20%20%20%20%20%20%20%20%20%20%20%20%20%20%22openstreetmap%22%20%3A%20tile_layer_f3eb374449db4e84b9fbf3e8b1fbf442%2C%0A%20%20%20%20%20%20%20%20%20%20%20%20%20%20%20%20%7D%2C%0A%20%20%20%20%20%20%20%20%20%20%20%20%20%20%20%20overlays%20%3A%20%20%7B%0A%20%20%20%20%20%20%20%20%20%20%20%20%20%20%20%20%20%20%20%20%22d%5Cu0027Andohahela%20Fitted%20NDVI%22%20%3A%20tile_layer_18b14db785184adb8da15dd8a54b6e36%2C%0A%20%20%20%20%20%20%20%20%20%20%20%20%20%20%20%20%20%20%20%20%22Midongy%20Betofaka%20Fitted%20NDVI%22%20%3A%20tile_layer_527bd3096fb7497b8a63be3a7e7297c1%2C%0A%20%20%20%20%20%20%20%20%20%20%20%20%20%20%20%20%20%20%20%20%22Tsimanampetsotsa%20Fitted%20NDVI%22%20%3A%20tile_layer_535425c5ff49468aaf11ceb07300e5e1%2C%0A%20%20%20%20%20%20%20%20%20%20%20%20%20%20%20%20%20%20%20%20%22d%5Cu0027Ankarafantsika%20Fitted%20NDVI%22%20%3A%20tile_layer_50f1cca5c50b426e9b9f389ae8c92b8e%2C%0A%20%20%20%20%20%20%20%20%20%20%20%20%20%20%20%20%20%20%20%20%22Masoala%20Fitted%20NDVI%22%20%3A%20tile_layer_68553a8ef31f4bf0a23248beb7b93211%2C%0A%20%20%20%20%20%20%20%20%20%20%20%20%20%20%20%20%20%20%20%20%22Alan%5Cu0027Ankirisa%20Fitted%20NDVI%22%20%3A%20tile_layer_cfb8368ae9d041d38173cd2cba99f5ea%2C%0A%20%20%20%20%20%20%20%20%20%20%20%20%20%20%20%20%7D%2C%0A%20%20%20%20%20%20%20%20%20%20%20%20%7D%3B%0A%20%20%20%20%20%20%20%20%20%20%20%20L.control.layers%28%0A%20%20%20%20%20%20%20%20%20%20%20%20%20%20%20%20layer_control_06947a261a9447f78ae163b097e9e206.base_layers%2C%0A%20%20%20%20%20%20%20%20%20%20%20%20%20%20%20%20layer_control_06947a261a9447f78ae163b097e9e206.overlays%2C%0A%20%20%20%20%20%20%20%20%20%20%20%20%20%20%20%20%7B%22autoZIndex%22%3A%20true%2C%20%22collapsed%22%3A%20true%2C%20%22position%22%3A%20%22topright%22%7D%0A%20%20%20%20%20%20%20%20%20%20%20%20%29.addTo%28map_8189feaef3db4b498e3c11061f657560%29%3B%0A%20%20%20%20%20%20%20%20%0A%3C/script%3E onload=\"this.contentDocument.open();this.contentDocument.write(    decodeURIComponent(this.getAttribute('data-html')));this.contentDocument.close();\" allowfullscreen webkitallowfullscreen mozallowfullscreen></iframe></div></div>"
      ],
      "text/plain": [
       "<folium.folium.Map at 0x13e51e190>"
      ]
     },
     "metadata": {},
     "output_type": "display_data"
    },
    {
     "name": "stdout",
     "output_type": "stream",
     "text": [
      "\n",
      " \n",
      "\n",
      "2019-12-01 - 2020-01-01\n"
     ]
    },
    {
     "data": {
      "text/html": [
       "<div style=\"width:100%;\"><div style=\"position:relative;width:100%;height:0;padding-bottom:60%;\"><span style=\"color:#565656\">Make this Notebook Trusted to load map: File -> Trust Notebook</span><iframe src=\"about:blank\" style=\"position:absolute;width:100%;height:100%;left:0;top:0;border:none !important;\" data-html=%3C%21DOCTYPE%20html%3E%0A%3Chead%3E%20%20%20%20%0A%20%20%20%20%3Cmeta%20http-equiv%3D%22content-type%22%20content%3D%22text/html%3B%20charset%3DUTF-8%22%20/%3E%0A%20%20%20%20%0A%20%20%20%20%20%20%20%20%3Cscript%3E%0A%20%20%20%20%20%20%20%20%20%20%20%20L_NO_TOUCH%20%3D%20false%3B%0A%20%20%20%20%20%20%20%20%20%20%20%20L_DISABLE_3D%20%3D%20false%3B%0A%20%20%20%20%20%20%20%20%3C/script%3E%0A%20%20%20%20%0A%20%20%20%20%3Cstyle%3Ehtml%2C%20body%20%7Bwidth%3A%20100%25%3Bheight%3A%20100%25%3Bmargin%3A%200%3Bpadding%3A%200%3B%7D%3C/style%3E%0A%20%20%20%20%3Cstyle%3E%23map%20%7Bposition%3Aabsolute%3Btop%3A0%3Bbottom%3A0%3Bright%3A0%3Bleft%3A0%3B%7D%3C/style%3E%0A%20%20%20%20%3Cscript%20src%3D%22https%3A//cdn.jsdelivr.net/npm/leaflet%401.6.0/dist/leaflet.js%22%3E%3C/script%3E%0A%20%20%20%20%3Cscript%20src%3D%22https%3A//code.jquery.com/jquery-1.12.4.min.js%22%3E%3C/script%3E%0A%20%20%20%20%3Cscript%20src%3D%22https%3A//maxcdn.bootstrapcdn.com/bootstrap/3.2.0/js/bootstrap.min.js%22%3E%3C/script%3E%0A%20%20%20%20%3Cscript%20src%3D%22https%3A//cdnjs.cloudflare.com/ajax/libs/Leaflet.awesome-markers/2.0.2/leaflet.awesome-markers.js%22%3E%3C/script%3E%0A%20%20%20%20%3Clink%20rel%3D%22stylesheet%22%20href%3D%22https%3A//cdn.jsdelivr.net/npm/leaflet%401.6.0/dist/leaflet.css%22/%3E%0A%20%20%20%20%3Clink%20rel%3D%22stylesheet%22%20href%3D%22https%3A//maxcdn.bootstrapcdn.com/bootstrap/3.2.0/css/bootstrap.min.css%22/%3E%0A%20%20%20%20%3Clink%20rel%3D%22stylesheet%22%20href%3D%22https%3A//maxcdn.bootstrapcdn.com/bootstrap/3.2.0/css/bootstrap-theme.min.css%22/%3E%0A%20%20%20%20%3Clink%20rel%3D%22stylesheet%22%20href%3D%22https%3A//maxcdn.bootstrapcdn.com/font-awesome/4.6.3/css/font-awesome.min.css%22/%3E%0A%20%20%20%20%3Clink%20rel%3D%22stylesheet%22%20href%3D%22https%3A//cdnjs.cloudflare.com/ajax/libs/Leaflet.awesome-markers/2.0.2/leaflet.awesome-markers.css%22/%3E%0A%20%20%20%20%3Clink%20rel%3D%22stylesheet%22%20href%3D%22https%3A//cdn.jsdelivr.net/gh/python-visualization/folium/folium/templates/leaflet.awesome.rotate.min.css%22/%3E%0A%20%20%20%20%0A%20%20%20%20%20%20%20%20%20%20%20%20%3Cmeta%20name%3D%22viewport%22%20content%3D%22width%3Ddevice-width%2C%0A%20%20%20%20%20%20%20%20%20%20%20%20%20%20%20%20initial-scale%3D1.0%2C%20maximum-scale%3D1.0%2C%20user-scalable%3Dno%22%20/%3E%0A%20%20%20%20%20%20%20%20%20%20%20%20%3Cstyle%3E%0A%20%20%20%20%20%20%20%20%20%20%20%20%20%20%20%20%23map_278bd998c92847ce91ac0aff086b49f1%20%7B%0A%20%20%20%20%20%20%20%20%20%20%20%20%20%20%20%20%20%20%20%20position%3A%20relative%3B%0A%20%20%20%20%20%20%20%20%20%20%20%20%20%20%20%20%20%20%20%20width%3A%20100.0%25%3B%0A%20%20%20%20%20%20%20%20%20%20%20%20%20%20%20%20%20%20%20%20height%3A%20100.0%25%3B%0A%20%20%20%20%20%20%20%20%20%20%20%20%20%20%20%20%20%20%20%20left%3A%200.0%25%3B%0A%20%20%20%20%20%20%20%20%20%20%20%20%20%20%20%20%20%20%20%20top%3A%200.0%25%3B%0A%20%20%20%20%20%20%20%20%20%20%20%20%20%20%20%20%7D%0A%20%20%20%20%20%20%20%20%20%20%20%20%3C/style%3E%0A%20%20%20%20%20%20%20%20%0A%3C/head%3E%0A%3Cbody%3E%20%20%20%20%0A%20%20%20%20%0A%20%20%20%20%20%20%20%20%20%20%20%20%3Cdiv%20class%3D%22folium-map%22%20id%3D%22map_278bd998c92847ce91ac0aff086b49f1%22%20%3E%3C/div%3E%0A%20%20%20%20%20%20%20%20%0A%3C/body%3E%0A%3Cscript%3E%20%20%20%20%0A%20%20%20%20%0A%20%20%20%20%20%20%20%20%20%20%20%20var%20map_278bd998c92847ce91ac0aff086b49f1%20%3D%20L.map%28%0A%20%20%20%20%20%20%20%20%20%20%20%20%20%20%20%20%22map_278bd998c92847ce91ac0aff086b49f1%22%2C%0A%20%20%20%20%20%20%20%20%20%20%20%20%20%20%20%20%7B%0A%20%20%20%20%20%20%20%20%20%20%20%20%20%20%20%20%20%20%20%20center%3A%20%5B-18.203199246622674%2C%2046.779785%5D%2C%0A%20%20%20%20%20%20%20%20%20%20%20%20%20%20%20%20%20%20%20%20crs%3A%20L.CRS.EPSG3857%2C%0A%20%20%20%20%20%20%20%20%20%20%20%20%20%20%20%20%20%20%20%20zoom%3A%205.6%2C%0A%20%20%20%20%20%20%20%20%20%20%20%20%20%20%20%20%20%20%20%20zoomControl%3A%20true%2C%0A%20%20%20%20%20%20%20%20%20%20%20%20%20%20%20%20%20%20%20%20preferCanvas%3A%20false%2C%0A%20%20%20%20%20%20%20%20%20%20%20%20%20%20%20%20%7D%0A%20%20%20%20%20%20%20%20%20%20%20%20%29%3B%0A%0A%20%20%20%20%20%20%20%20%20%20%20%20%0A%0A%20%20%20%20%20%20%20%20%0A%20%20%20%20%0A%20%20%20%20%20%20%20%20%20%20%20%20var%20tile_layer_a9a5039e9bc54f1b960b20f0b7cf8d8c%20%3D%20L.tileLayer%28%0A%20%20%20%20%20%20%20%20%20%20%20%20%20%20%20%20%22https%3A//%7Bs%7D.tile.openstreetmap.org/%7Bz%7D/%7Bx%7D/%7By%7D.png%22%2C%0A%20%20%20%20%20%20%20%20%20%20%20%20%20%20%20%20%7B%22attribution%22%3A%20%22Data%20by%20%5Cu0026copy%3B%20%5Cu003ca%20href%3D%5C%22http%3A//openstreetmap.org%5C%22%5Cu003eOpenStreetMap%5Cu003c/a%5Cu003e%2C%20under%20%5Cu003ca%20href%3D%5C%22http%3A//www.openstreetmap.org/copyright%5C%22%5Cu003eODbL%5Cu003c/a%5Cu003e.%22%2C%20%22detectRetina%22%3A%20false%2C%20%22maxNativeZoom%22%3A%2018%2C%20%22maxZoom%22%3A%2018%2C%20%22minZoom%22%3A%200%2C%20%22noWrap%22%3A%20false%2C%20%22opacity%22%3A%201%2C%20%22subdomains%22%3A%20%22abc%22%2C%20%22tms%22%3A%20false%7D%0A%20%20%20%20%20%20%20%20%20%20%20%20%29.addTo%28map_278bd998c92847ce91ac0aff086b49f1%29%3B%0A%20%20%20%20%20%20%20%20%0A%20%20%20%20%0A%20%20%20%20%20%20%20%20%20%20%20%20var%20tile_layer_6f4ceb00dc9c4e6ca172697cf931ce68%20%3D%20L.tileLayer%28%0A%20%20%20%20%20%20%20%20%20%20%20%20%20%20%20%20%22https%3A//earthengine.googleapis.com/v1alpha/projects/earthengine-legacy/maps/66741a73fdff8e56bd14c1bb743b8764-a0b66aa70cebb5f3f2b2bbe8c2c17465/tiles/%7Bz%7D/%7Bx%7D/%7By%7D%22%2C%0A%20%20%20%20%20%20%20%20%20%20%20%20%20%20%20%20%7B%22attribution%22%3A%20%22Map%20Data%20%5Cu0026copy%3B%20%5Cu003ca%20href%3D%5C%22https%3A//earthengine.google.com/%5C%22%5Cu003eGoogle%20Earth%20Engine%5Cu003c/a%5Cu003e%22%2C%20%22detectRetina%22%3A%20false%2C%20%22maxNativeZoom%22%3A%2018%2C%20%22maxZoom%22%3A%2018%2C%20%22minZoom%22%3A%200%2C%20%22noWrap%22%3A%20false%2C%20%22opacity%22%3A%201%2C%20%22subdomains%22%3A%20%22abc%22%2C%20%22tms%22%3A%20false%7D%0A%20%20%20%20%20%20%20%20%20%20%20%20%29.addTo%28map_278bd998c92847ce91ac0aff086b49f1%29%3B%0A%20%20%20%20%20%20%20%20%0A%20%20%20%20%0A%20%20%20%20%20%20%20%20%20%20%20%20var%20tile_layer_7f3c62b5dfab4721addd91dd13cc5234%20%3D%20L.tileLayer%28%0A%20%20%20%20%20%20%20%20%20%20%20%20%20%20%20%20%22https%3A//earthengine.googleapis.com/v1alpha/projects/earthengine-legacy/maps/6f5e13f1b33b78c2cde468fa9c502f7e-45b0eb2a768039563979c393a26e1b28/tiles/%7Bz%7D/%7Bx%7D/%7By%7D%22%2C%0A%20%20%20%20%20%20%20%20%20%20%20%20%20%20%20%20%7B%22attribution%22%3A%20%22Map%20Data%20%5Cu0026copy%3B%20%5Cu003ca%20href%3D%5C%22https%3A//earthengine.google.com/%5C%22%5Cu003eGoogle%20Earth%20Engine%5Cu003c/a%5Cu003e%22%2C%20%22detectRetina%22%3A%20false%2C%20%22maxNativeZoom%22%3A%2018%2C%20%22maxZoom%22%3A%2018%2C%20%22minZoom%22%3A%200%2C%20%22noWrap%22%3A%20false%2C%20%22opacity%22%3A%201%2C%20%22subdomains%22%3A%20%22abc%22%2C%20%22tms%22%3A%20false%7D%0A%20%20%20%20%20%20%20%20%20%20%20%20%29.addTo%28map_278bd998c92847ce91ac0aff086b49f1%29%3B%0A%20%20%20%20%20%20%20%20%0A%20%20%20%20%0A%20%20%20%20%20%20%20%20%20%20%20%20var%20tile_layer_524e328efb374d6896350c17d5e920c3%20%3D%20L.tileLayer%28%0A%20%20%20%20%20%20%20%20%20%20%20%20%20%20%20%20%22https%3A//earthengine.googleapis.com/v1alpha/projects/earthengine-legacy/maps/de96f1c6b0866197d2be06db6fa927e5-e1f6b9db41fcfa65951d94f9e9e3a608/tiles/%7Bz%7D/%7Bx%7D/%7By%7D%22%2C%0A%20%20%20%20%20%20%20%20%20%20%20%20%20%20%20%20%7B%22attribution%22%3A%20%22Map%20Data%20%5Cu0026copy%3B%20%5Cu003ca%20href%3D%5C%22https%3A//earthengine.google.com/%5C%22%5Cu003eGoogle%20Earth%20Engine%5Cu003c/a%5Cu003e%22%2C%20%22detectRetina%22%3A%20false%2C%20%22maxNativeZoom%22%3A%2018%2C%20%22maxZoom%22%3A%2018%2C%20%22minZoom%22%3A%200%2C%20%22noWrap%22%3A%20false%2C%20%22opacity%22%3A%201%2C%20%22subdomains%22%3A%20%22abc%22%2C%20%22tms%22%3A%20false%7D%0A%20%20%20%20%20%20%20%20%20%20%20%20%29.addTo%28map_278bd998c92847ce91ac0aff086b49f1%29%3B%0A%20%20%20%20%20%20%20%20%0A%20%20%20%20%0A%20%20%20%20%20%20%20%20%20%20%20%20var%20tile_layer_2baabcf4bf904dde8b7cf2b1f948d80c%20%3D%20L.tileLayer%28%0A%20%20%20%20%20%20%20%20%20%20%20%20%20%20%20%20%22https%3A//earthengine.googleapis.com/v1alpha/projects/earthengine-legacy/maps/6ba57a7e3d64250ae87d6e0191b7c194-831c479a0ce0c6e80a0361c0451a80b9/tiles/%7Bz%7D/%7Bx%7D/%7By%7D%22%2C%0A%20%20%20%20%20%20%20%20%20%20%20%20%20%20%20%20%7B%22attribution%22%3A%20%22Map%20Data%20%5Cu0026copy%3B%20%5Cu003ca%20href%3D%5C%22https%3A//earthengine.google.com/%5C%22%5Cu003eGoogle%20Earth%20Engine%5Cu003c/a%5Cu003e%22%2C%20%22detectRetina%22%3A%20false%2C%20%22maxNativeZoom%22%3A%2018%2C%20%22maxZoom%22%3A%2018%2C%20%22minZoom%22%3A%200%2C%20%22noWrap%22%3A%20false%2C%20%22opacity%22%3A%201%2C%20%22subdomains%22%3A%20%22abc%22%2C%20%22tms%22%3A%20false%7D%0A%20%20%20%20%20%20%20%20%20%20%20%20%29.addTo%28map_278bd998c92847ce91ac0aff086b49f1%29%3B%0A%20%20%20%20%20%20%20%20%0A%20%20%20%20%0A%20%20%20%20%20%20%20%20%20%20%20%20var%20tile_layer_3ff1c8a1893046cd901c6640678e2ed3%20%3D%20L.tileLayer%28%0A%20%20%20%20%20%20%20%20%20%20%20%20%20%20%20%20%22https%3A//earthengine.googleapis.com/v1alpha/projects/earthengine-legacy/maps/c92a9453899ac13a2639426e1376db75-c98709433d3df2f1514d6f93c584f93b/tiles/%7Bz%7D/%7Bx%7D/%7By%7D%22%2C%0A%20%20%20%20%20%20%20%20%20%20%20%20%20%20%20%20%7B%22attribution%22%3A%20%22Map%20Data%20%5Cu0026copy%3B%20%5Cu003ca%20href%3D%5C%22https%3A//earthengine.google.com/%5C%22%5Cu003eGoogle%20Earth%20Engine%5Cu003c/a%5Cu003e%22%2C%20%22detectRetina%22%3A%20false%2C%20%22maxNativeZoom%22%3A%2018%2C%20%22maxZoom%22%3A%2018%2C%20%22minZoom%22%3A%200%2C%20%22noWrap%22%3A%20false%2C%20%22opacity%22%3A%201%2C%20%22subdomains%22%3A%20%22abc%22%2C%20%22tms%22%3A%20false%7D%0A%20%20%20%20%20%20%20%20%20%20%20%20%29.addTo%28map_278bd998c92847ce91ac0aff086b49f1%29%3B%0A%20%20%20%20%20%20%20%20%0A%20%20%20%20%0A%20%20%20%20%20%20%20%20%20%20%20%20var%20tile_layer_e5d0f44fa11e49bdbd1985caf949f40e%20%3D%20L.tileLayer%28%0A%20%20%20%20%20%20%20%20%20%20%20%20%20%20%20%20%22https%3A//earthengine.googleapis.com/v1alpha/projects/earthengine-legacy/maps/568f97be74884a4adf7ff2e7481e5e7a-7bafb69df107d6074c8c40e60156f490/tiles/%7Bz%7D/%7Bx%7D/%7By%7D%22%2C%0A%20%20%20%20%20%20%20%20%20%20%20%20%20%20%20%20%7B%22attribution%22%3A%20%22Map%20Data%20%5Cu0026copy%3B%20%5Cu003ca%20href%3D%5C%22https%3A//earthengine.google.com/%5C%22%5Cu003eGoogle%20Earth%20Engine%5Cu003c/a%5Cu003e%22%2C%20%22detectRetina%22%3A%20false%2C%20%22maxNativeZoom%22%3A%2018%2C%20%22maxZoom%22%3A%2018%2C%20%22minZoom%22%3A%200%2C%20%22noWrap%22%3A%20false%2C%20%22opacity%22%3A%201%2C%20%22subdomains%22%3A%20%22abc%22%2C%20%22tms%22%3A%20false%7D%0A%20%20%20%20%20%20%20%20%20%20%20%20%29.addTo%28map_278bd998c92847ce91ac0aff086b49f1%29%3B%0A%20%20%20%20%20%20%20%20%0A%20%20%20%20%0A%20%20%20%20%20%20%20%20%20%20%20%20var%20layer_control_813fcddf327f40f5a13e932629ca575e%20%3D%20%7B%0A%20%20%20%20%20%20%20%20%20%20%20%20%20%20%20%20base_layers%20%3A%20%7B%0A%20%20%20%20%20%20%20%20%20%20%20%20%20%20%20%20%20%20%20%20%22openstreetmap%22%20%3A%20tile_layer_a9a5039e9bc54f1b960b20f0b7cf8d8c%2C%0A%20%20%20%20%20%20%20%20%20%20%20%20%20%20%20%20%7D%2C%0A%20%20%20%20%20%20%20%20%20%20%20%20%20%20%20%20overlays%20%3A%20%20%7B%0A%20%20%20%20%20%20%20%20%20%20%20%20%20%20%20%20%20%20%20%20%22d%5Cu0027Andohahela%20Fitted%20NDVI%22%20%3A%20tile_layer_6f4ceb00dc9c4e6ca172697cf931ce68%2C%0A%20%20%20%20%20%20%20%20%20%20%20%20%20%20%20%20%20%20%20%20%22Midongy%20Betofaka%20Fitted%20NDVI%22%20%3A%20tile_layer_7f3c62b5dfab4721addd91dd13cc5234%2C%0A%20%20%20%20%20%20%20%20%20%20%20%20%20%20%20%20%20%20%20%20%22Tsimanampetsotsa%20Fitted%20NDVI%22%20%3A%20tile_layer_524e328efb374d6896350c17d5e920c3%2C%0A%20%20%20%20%20%20%20%20%20%20%20%20%20%20%20%20%20%20%20%20%22d%5Cu0027Ankarafantsika%20Fitted%20NDVI%22%20%3A%20tile_layer_2baabcf4bf904dde8b7cf2b1f948d80c%2C%0A%20%20%20%20%20%20%20%20%20%20%20%20%20%20%20%20%20%20%20%20%22Masoala%20Fitted%20NDVI%22%20%3A%20tile_layer_3ff1c8a1893046cd901c6640678e2ed3%2C%0A%20%20%20%20%20%20%20%20%20%20%20%20%20%20%20%20%20%20%20%20%22Alan%5Cu0027Ankirisa%20Fitted%20NDVI%22%20%3A%20tile_layer_e5d0f44fa11e49bdbd1985caf949f40e%2C%0A%20%20%20%20%20%20%20%20%20%20%20%20%20%20%20%20%7D%2C%0A%20%20%20%20%20%20%20%20%20%20%20%20%7D%3B%0A%20%20%20%20%20%20%20%20%20%20%20%20L.control.layers%28%0A%20%20%20%20%20%20%20%20%20%20%20%20%20%20%20%20layer_control_813fcddf327f40f5a13e932629ca575e.base_layers%2C%0A%20%20%20%20%20%20%20%20%20%20%20%20%20%20%20%20layer_control_813fcddf327f40f5a13e932629ca575e.overlays%2C%0A%20%20%20%20%20%20%20%20%20%20%20%20%20%20%20%20%7B%22autoZIndex%22%3A%20true%2C%20%22collapsed%22%3A%20true%2C%20%22position%22%3A%20%22topright%22%7D%0A%20%20%20%20%20%20%20%20%20%20%20%20%29.addTo%28map_278bd998c92847ce91ac0aff086b49f1%29%3B%0A%20%20%20%20%20%20%20%20%0A%3C/script%3E onload=\"this.contentDocument.open();this.contentDocument.write(    decodeURIComponent(this.getAttribute('data-html')));this.contentDocument.close();\" allowfullscreen webkitallowfullscreen mozallowfullscreen></iframe></div></div>"
      ],
      "text/plain": [
       "<folium.folium.Map at 0x13e51e040>"
      ]
     },
     "metadata": {},
     "output_type": "display_data"
    },
    {
     "name": "stdout",
     "output_type": "stream",
     "text": [
      "\n",
      " \n",
      "\n"
     ]
    }
   ],
   "source": [
    "# Each layer in a map represents the fitted ndvi of a national park's region that\n",
    "# is calculated by fitting a robust linear regression\n",
    "\n",
    "for i in range(len(months2019)):\n",
    "  start, end = trainMonths[i]\n",
    "  bandNames = [['constant', 'time'], [\"NDVI\"]]\n",
    "  m = folium.Map(location=madagascarCenter, zoom_start=5.6)\n",
    "\n",
    "  for region, geometry in regionGeometries.items():     # returns a plot with each park as a layer\n",
    "    collection = ee.ImageCollection(\"COPERNICUS/S2_SR\"\n",
    "                  ).filterBounds(geometry\n",
    "                  ).filterDate(start, end\n",
    "                  ).map(lambda x: x.addBands(x.metadata('system:time_start').divide(1e18).rename(\"t\"))\n",
    "                  ).map(lambda x: x.addBands(ee.Image(1).rename(\"constant\"))\n",
    "                  ).map(lambda x: x.addBands(x.normalizedDifference([\"B8\", \"B4\"]).rename(\"NDVI\"))\n",
    "                  ).map(lambda x: x.select([\"constant\", \"t\", \"NDVI\"]))\n",
    "    \n",
    "    # each region has its own fitted model for every month\n",
    "    robustLinearMod = collection.reduce(ee.Reducer.robustLinearRegression(numX = 2, numY = 1))\n",
    "    robustFittedImage = robustLinearMod.select(['coefficients']\n",
    "                                      ).arrayFlatten(bandNames)\n",
    "\n",
    "    m.add_ee_layer(robustFittedImage, {\"bands\": [\"time_NDVI\"],\n",
    "                                       \"palette\": [\"white\", \"green\"]},\n",
    "                                      \"{} Fitted NDVI\".format(region))\n",
    "    \n",
    "  m.add_child(folium.LayerControl())\n",
    "  print(start + \" - \" + end)\n",
    "  display(m)\n",
    "  print(\"\\n \\n\")"
   ]
  },
  {
   "cell_type": "markdown",
   "metadata": {
    "id": "my8gxXbn1_WE"
   },
   "source": [
    "### Appendix\n",
    "extra code"
   ]
  },
  {
   "cell_type": "code",
   "execution_count": null,
   "metadata": {
    "id": "fhHcKZPU2Dr5"
   },
   "outputs": [],
   "source": [
    "# # 2019 monthly NDVI, EVI\n",
    "# monthlyVI = monthlyMosaic.map(lambda x: calcVI(ee.Image(x)))\n",
    "# for i in range(1):\n",
    "#   image = ee.Image(monthlyVI.get(i))\n",
    "#   m = folium.Map(location=madagascarCenter, zoom_start=5.6)\n",
    "#   m.add_ee_layer(image, {\"bands\": [\"NDVI\"], \n",
    "#                          \"min\": -0.2, \"max\": 1,\n",
    "#                          \"palette\": [\"white\", \"green\"]},\n",
    "#                  \"NDVI\")\n",
    "\n",
    "#   m.add_ee_layer(image, {\"bands\": [\"EVI\"], \n",
    "#                          \"min\": -0.2, \"max\": 1,\n",
    "#                          \"palette\": [\"white\", \"green\"]},\n",
    "#                  \"EVI\")\n",
    "  \n",
    "#   m.add_child(folium.LayerControl())\n",
    "  \n",
    "#   print(\"{}/19\".format(i+1) + \"\\n\")\n",
    "#   display(m)\n",
    "#   print(\"\\n\")"
   ]
  },
  {
   "cell_type": "code",
   "execution_count": null,
   "metadata": {
    "id": "md8KoRjy2D6l"
   },
   "outputs": [],
   "source": [
    "# # 2019 monthly sentinel composite images with cloud masking\n",
    "# maskedImages = ee.List([])\n",
    "# for i in range(len(months2019)):\n",
    "#   startDate, endDate = months2019[i][0], months2019[i][1]\n",
    "#   s2_sr_collection = get_s2_sr_cld_col(subset, startDate, endDate)\n",
    "#   maskedImages = maskedImages.add(s2_sr_collection.map(add_cld_shdw_mask\n",
    "#                                 ).map(apply_cld_shdw_mask\n",
    "#                                 ).median())\n",
    "\n",
    "# gifParams_2 = {\n",
    "#   'dimensions': 1000,\n",
    "#   'framesPerSecond': 1,\n",
    "#   \"region\": madagascar,\n",
    "#   \"min\": 0, \"max\": 2500,\n",
    "#   \"gamma\": 1.1\n",
    "# }\n",
    "\n",
    "# maskedURL = ee.ImageCollection(maskedImages).select(\"B4\", \"B3\", \"B2\").getVideoThumbURL(gifParams_2)\n",
    "# urllib.request.urlretrieve(maskedURL, \"/content/drive/MyDrive/Colab Notebooks/madagascarMaskedImages_2019.gif\")"
   ]
  },
  {
   "cell_type": "code",
   "execution_count": null,
   "metadata": {
    "id": "zNbfkOYFGp2I"
   },
   "outputs": [],
   "source": [
    "# 2019 monthly composite sentinel images with cloud masking and kernel reducer\n",
    "\n",
    "# for i in range(len(months2019)):\n",
    "#   startDate, endDate = months2019[i][0], months2019[i][1]\n",
    "#   s2_sr_collection = get_s2_sr_cld_col(subset, startDate, endDate)\n",
    "#   demo = s2_sr_collection.map(add_cld_shdw_mask\n",
    "#                         ).map(apply_cld_shdw_mask\n",
    "#                         ).map(lambda x: x.reduceNeighborhood(reducer = ee.Reducer.mean(),\n",
    "#                                                              kernel = ee.Kernel.circle(3))\n",
    "#                         ).median()\n",
    "\n",
    "#   m = folium.Map(location=subsetCenter, zoom_start=10)\n",
    "\n",
    "#   m.add_ee_layer(demo,\n",
    "#                 {'bands': ['B4_mean', 'B3_mean', 'B2_mean'],\n",
    "#                  \"min\": -100, \"max\": 2500, \"gamma\": 1.1},\n",
    "#                 #  'gamma': [1.1, 1.3, 0.9]},\n",
    "#                  'S2 cloud-free mosaic', True, 1, 9)\n",
    "\n",
    "#   m.add_child(folium.LayerControl())\n",
    "#   print(startDate + \" - \" + endDate)\n",
    "#   display(m)\n",
    "#   print(\"\\n \\n\")"
   ]
  },
  {
   "cell_type": "markdown",
   "metadata": {
    "id": "47mrRia_xZ2T"
   },
   "source": [
    "### extra code"
   ]
  },
  {
   "cell_type": "code",
   "execution_count": null,
   "metadata": {
    "colab": {
     "base_uri": "https://localhost:8080/",
     "height": 34
    },
    "id": "xaDfua6gW4Sd",
    "outputId": "51da2f8b-9560-49d8-abf9-08bca47324ec"
   },
   "outputs": [
    {
     "name": "stdout",
     "output_type": "stream",
     "text": [
      "Installing geemap ...\n"
     ]
    }
   ],
   "source": [
    "# import subprocess\n",
    "\n",
    "# try:\n",
    "#     import geemap\n",
    "# except ImportError:\n",
    "#     print('Installing geemap ...')\n",
    "#     subprocess.check_call([\"python\", '-m', 'pip', 'install', 'geemap'])\n",
    "# import geemap\n"
   ]
  },
  {
   "cell_type": "code",
   "execution_count": null,
   "metadata": {
    "colab": {
     "base_uri": "https://localhost:8080/",
     "height": 621,
     "referenced_widgets": [
      "7fc3f4b956614c3aa63ec75bc7823e70",
      "5f77dd90b829466695bee82c0799a008",
      "4c8f672aa2f84c5ca9055f671204929d",
      "ae522718af2340fc85091339b710c08d",
      "27cb42eff5574197ab594dd29681ac6a",
      "f89eadc5d002483b91f558e62ffe4956",
      "cbf7e9232f7a4cbd9e79c3b3adbeea38",
      "9c6ffed184884399b115ec2fdb7724cf",
      "703d0883fac449ed99575fec170d2b5f",
      "db01cbb6936b4c69a25b261e2b1aee16",
      "801db9db76754e43998b176526ca0624",
      "f38d3a6de8a141669a8c573a13030a73",
      "10a224b90e154bad940b4ca465a46acb",
      "95b449a7d5f84b4994993ec3fcdde704",
      "2e0c2a8c8760486ab96e55aaa114c972",
      "e1662d0099234f50bafb983749014101",
      "894b1f7301614e0ea7cd567dd15686d2",
      "b1237493aefb46e5a2fefa5ad7f804fc",
      "91a89bcc20ba4a85bb14ba2ffb76bd91",
      "79999e39fbc24c37a4741354e3c12fe7",
      "8b30a88bf11c4eeb83df852bfc519667",
      "32d14590388e466581bebb8377b72011",
      "a55d1c8224514e9b916a0e1e9a0b298b",
      "030b80182326479984817b983f938a59",
      "e060267649884d4caa1061ae92785adc",
      "692427dbf23d47edb5ca2e2861f22329"
     ]
    },
    "id": "JjG2ERIWFxd6",
    "outputId": "7eb47846-9b4d-45d5-cf14-f32e1fc5b457"
   },
   "outputs": [
    {
     "data": {
      "application/vnd.jupyter.widget-view+json": {
       "model_id": "7fc3f4b956614c3aa63ec75bc7823e70",
       "version_major": 2,
       "version_minor": 0
      },
      "text/plain": [
       "Map(center=[40, -100], controls=(WidgetControl(options=['position', 'transparent_bg'], widget=HBox(children=(T…"
      ]
     },
     "metadata": {
      "application/vnd.jupyter.widget-view+json": {
       "colab": {
        "custom_widget_manager": {
         "url": "https://ssl.gstatic.com/colaboratory-static/widgets/colab-cdn-widget-manager/e680a8b83b2ea152/manager.min.js"
        }
       }
      }
     },
     "output_type": "display_data"
    }
   ],
   "source": [
    "# Map = geemap.Map(center=[40,-100], zoom=4)\n",
    "# Map"
   ]
  },
  {
   "cell_type": "code",
   "execution_count": null,
   "metadata": {
    "id": "AiMvHAKhW4U9"
   },
   "outputs": [],
   "source": [
    "# Add Earth Engine dataset\n",
    "# # Input imagery is a cloud-free Landsat 8 composite.\n",
    "# l8 = ee.ImageCollection('LANDSAT/LC08/C01/T1')\n",
    "\n",
    "# image = ee.Algorithms.Landsat.simpleComposite(**{\n",
    "#   'collection': l8.filterDate('2018-01-01', '2018-12-31'),\n",
    "#   'asFloat': True\n",
    "# })\n",
    "\n",
    "# # Use these bands for prediction.\n",
    "# bands = ['B2', 'B3', 'B4', 'B5', 'B6', 'B7', 'B10', 'B11']\n",
    "\n",
    "# # Load training points. The numeric property 'class' stores known labels.\n",
    "# points = ee.FeatureCollection('GOOGLE/EE/DEMOS/demo_landcover_labels')\n",
    "\n",
    "# # This property of the table stores the land cover labels.\n",
    "# label = 'landcover'\n",
    "\n",
    "# # Overlay the points on the imagery to get training.\n",
    "# training = image.select(bands).sampleRegions(**{\n",
    "#   'collection': points,\n",
    "#   'properties': [label],\n",
    "#   'scale': 30\n",
    "# })\n",
    "\n",
    "# # Train a CART classifier with default parameters.\n",
    "# trained = ee.Classifier.smileCart().train(training, label, bands)\n",
    "\n",
    "# # Classify the image with the same bands used for training.\n",
    "# classified = image.select(bands).classify(trained)\n",
    "\n",
    "# # Display the inputs and the results.\n",
    "# Map.centerObject(points, 11)\n",
    "# Map.addLayer(image, {'bands': ['B4', 'B3', 'B2'], 'max': 0.4}, 'image')\n",
    "# Map.addLayer(classified,\n",
    "#              {'min': 0, 'max': 2, 'palette': ['red', 'green', 'blue']},\n",
    "#              'classification')"
   ]
  },
  {
   "cell_type": "code",
   "execution_count": null,
   "metadata": {
    "colab": {
     "base_uri": "https://localhost:8080/",
     "height": 621,
     "referenced_widgets": [
      "eff9814426cd4fed832f5f8799a1faee",
      "ca18df0b2e8d4af28fb2d81801733ae1",
      "ca25ac7902c04ba6a29768a6b9fb2ab3",
      "bcdf6e7ad24b427ea2533d3ff436653d",
      "9d685508e1024f2ebe18c569a63b0fe5",
      "7adca48dbacf4be49948e185d4be966d",
      "8a1811cd62f5469bab8e513ffdcadf82",
      "e147f21f46c046f3aa77a7001c0f168b",
      "3dbbff44cee74c09a29874f35522c8fc",
      "add3fa8bfcaa49cd98d3b80edfc21cfc",
      "cc3eea50de4849caadae6e473ed75a6b",
      "a86d9afca100440d8930d19ca9fc4c7f",
      "56b1ae46c4b342c0b0ec798b9d3f3f8e",
      "4092c0e5daab4f0dba638aa54004e3be",
      "ffe16703dea749fbb7f894869ddf5c85",
      "de3a08ec70d4429597bfd609bd45e5f5",
      "c655010128254e2b875860193ff9911b",
      "1d4b6e38743f434aa6fb82fe79d26d0f",
      "2616a6d85dd24147bb07b2a4023752f6",
      "fb115c37e1764f8d9e6b830e82639b51",
      "77c870da07824b2897afa0aa1cbbc9bb",
      "b63f030fc17a4115a09eb8c208de3db6",
      "b433a7ca09504f59bcacefe67fa3a9dd",
      "5f3431c238c647479ec39a0a7113d9a6",
      "a07c027dbf1142c18c31757774ddc9aa"
     ]
    },
    "id": "BKZRrVsozyn2",
    "outputId": "281835d3-8f07-4dcb-8d59-5935e82913f9"
   },
   "outputs": [
    {
     "data": {
      "application/vnd.jupyter.widget-view+json": {
       "model_id": "eff9814426cd4fed832f5f8799a1faee",
       "version_major": 2,
       "version_minor": 0
      },
      "text/plain": [
       "Map(center=[40, -100], controls=(WidgetControl(options=['position', 'transparent_bg'], widget=HBox(children=(T…"
      ]
     },
     "metadata": {
      "application/vnd.jupyter.widget-view+json": {
       "colab": {
        "custom_widget_manager": {
         "url": "https://ssl.gstatic.com/colaboratory-static/widgets/colab-cdn-widget-manager/e680a8b83b2ea152/manager.min.js"
        }
       }
      }
     },
     "output_type": "display_data"
    }
   ],
   "source": [
    "# Map = geemap.Map(center=[40,-100], zoom=4)\n",
    "# Map"
   ]
  },
  {
   "cell_type": "code",
   "execution_count": 27,
   "metadata": {
    "colab": {
     "base_uri": "https://localhost:8080/",
     "height": 72
    },
    "id": "_c05z6KO7YIq",
    "outputId": "4c7db467-3432-4675-8cce-66351d8d73d3"
   },
   "outputs": [],
   "source": [
    "# # Add Earth Engine dataset\n",
    "# # This function adds a time band to the image.\n",
    "\n",
    "# def createTimeBand(image):\n",
    "#     return image.addBands(image.metadata('system:time_start').divide(1e18))\n",
    "\n",
    "# # createTimeBand = function(image) {\n",
    "# #   # Scale milliseconds by a large constant.\n",
    "# #   return image.addBands(image.metadata('system:time_start').divide(1e18))\n",
    "# # }\n",
    "\n",
    "# # This function adds a constant band to the image.\n",
    "# def createConstantBand(image):\n",
    "#     return ee.Image(1).addBands(image)\n",
    "# # createConstantBand = function(image) {\n",
    "# #   return ee.Image(1).addBands(image)\n",
    "# # }\n",
    "\n",
    "# # Load the input image 'collection': projected climate data.\n",
    "# collection = ee.ImageCollection('NASA/NEX-DCP30_ENSEMBLE_STATS') \\\n",
    "#   .filterDate(ee.Date('2006-01-01'), ee.Date('2099-01-01')) \\\n",
    "#   .filter(ee.Filter.eq('scenario', 'rcp85')) \\\n",
    "#   .map(createTimeBand) \\\n",
    "#   .map(createConstantBand) \\\n",
    "#   .select(['constant', 'system:time_start', 'pr_mean', 'tasmax_mean'])\n",
    "\n",
    "# # Compute ordinary least squares regression coefficients.\n",
    "# linearRegression = collection.reduce(\n",
    "#   ee.Reducer.linearRegression(**{\n",
    "#     'numX': 2,\n",
    "#     'numY': 2\n",
    "# }))\n",
    "\n",
    "# # Compute robust linear regression coefficients.\n",
    "# robustLinearRegression = collection.reduce(\n",
    "#   ee.Reducer.robustLinearRegression(**{\n",
    "#     'numX': 2,\n",
    "#     'numY': 2\n",
    "# }))\n",
    "\n",
    "# # The results are array images that must be flattened for display.\n",
    "# # These lists label the information along each axis of the arrays.\n",
    "# bandNames = [['constant', 'time'], # 0-axis variation.\n",
    "#                  ['precip', 'temp']] # 1-axis variation.\n",
    "\n",
    "# # Flatten the array images to get multi-band images according to the labels.\n",
    "# lrImage = linearRegression.select(['coefficients']).arrayFlatten(bandNames)\n",
    "# rlrImage = robustLinearRegression.select(['coefficients']).arrayFlatten(bandNames)\n",
    "\n",
    "# # Display the OLS results.\n",
    "# Map.setCenter(-100.11, 40.38, 5)\n",
    "# Map.addLayer(lrImage,\n",
    "#   {'min': 0, 'max': [-0.9, 8e-5, 1], 'bands': ['time_precip', 'constant_precip', 'time_precip']}, 'OLS')\n",
    "\n",
    "# # Compare the results at a specific point:\n",
    "# print('OLS estimates:', lrImage.reduceRegion(**{\n",
    "#   'reducer': ee.Reducer.first(),\n",
    "#   'geometry': ee.Geometry.Point([-96.0, 41.0]),\n",
    "#   'scale': 1000\n",
    "# }).getInfo())\n",
    "\n",
    "# print('Robust estimates:', rlrImage.reduceRegion(**{\n",
    "#   'reducer': ee.Reducer.first(),\n",
    "#   'geometry': ee.Geometry.Point([-96.0, 41.0]),\n",
    "#   'scale': 1000\n",
    "# }).getInfo())"
   ]
  },
  {
   "cell_type": "code",
   "execution_count": 28,
   "metadata": {
    "colab": {
     "base_uri": "https://localhost:8080/",
     "height": 621,
     "referenced_widgets": [
      "3a4c57264ad741a8aa41a533f4f24114",
      "b754450c0d96472fbedc8eeae7f05a27",
      "8742ee1d25ee48fd971a42c93d1e4e52",
      "940e40d01d644e90993fd4a9105a7eae",
      "c019b9908b724dc1bfb08dcf254642e2",
      "46e0a61ec18546a4a384fdb3c343f4df",
      "394fee2a2b984093b3ecd938a9f12879",
      "fd0a95bfbf9649079e32c8f76e4853ed",
      "5ff096a8c86c46098051c19fc84498fd",
      "48bc6fad92f64758a65357f4fbf91a3b",
      "4c41a5cea3ad4d1184b13a435a85c84e",
      "38833b1cec3242bb964ad76fd12d691d",
      "56b1ae46c4b342c0b0ec798b9d3f3f8e",
      "dec06adb1eb8481e9fb82a5829d23163",
      "2ec044c38a8543839c5e580f00c18a13",
      "d63a3dca0c5e47e49642b479f7283bb6",
      "5949cb0ba3de4ec0a1725beff8d1e7ce",
      "afc1312a90794e908887c9169508fb5c",
      "70303c8f6ebf4729b8d4aae4c88a3349",
      "9a03f0470ec54b63bc32cb85f51a543c",
      "47aa463f94784c82a45bfec41773ece7",
      "5874c863d04e416085f17345abfed36b",
      "9f959697872549dd8b1b0b71276550ce",
      "89eb7cc3f1e147f893e1443776cc4a15",
      "f907ee76fdb54bb49c6d7e2bfc10921f",
      "635af4adf1b840d5af324d5c5bf0f6d7"
     ]
    },
    "id": "cp7NwsqQKqDt",
    "outputId": "3bf5127c-cfc4-4957-c955-3c1afe52d63c"
   },
   "outputs": [],
   "source": [
    "# Map = geemap.Map(center=[40,-100], zoom=4)\n",
    "# Map"
   ]
  },
  {
   "cell_type": "code",
   "execution_count": 29,
   "metadata": {
    "colab": {
     "base_uri": "https://localhost:8080/",
     "height": 54
    },
    "id": "rBwiGgCx7YLn",
    "outputId": "23f9bd43-1e15-447e-d64d-5eb621c22a10"
   },
   "outputs": [],
   "source": [
    "\n",
    "\n",
    "# # Add Earth Engine dataset\n",
    "# # Load input imagery: Landsat 7 5-year composite.\n",
    "# image = ee.Image('LANDSAT/LE7_TOA_5YEAR/2008_2012')\n",
    "# # print(image.getInfo())\n",
    "\n",
    "# # Load an input region: Sierra Nevada.\n",
    "# region = ee.Feature(ee.FeatureCollection('EPA/Ecoregions/2013/L3') \\\n",
    "#   .filter(ee.Filter.eq('us_l3name', 'Sierra Nevada')) \\\n",
    "#   .first())\n",
    "\n",
    "# # Reduce the region. The region parameter is the Feature geometry.\n",
    "# meanDictionary = image.reduceRegion(**{\n",
    "#   'reducer': ee.Reducer.mean(),\n",
    "#   'geometry': region.geometry(),\n",
    "#   'scale': 30,\n",
    "#   'maxPixels': 1e9\n",
    "# })\n",
    "\n",
    "# # The result is a Dictionary.  Print it.\n",
    "# Map.centerObject(region, 9)\n",
    "# Map.addLayer(image, {'bands': ['B4', 'B3', 'B2']}, 'Landsat-7')\n",
    "# Map.addLayer(ee.Image().paint(region, 1, 3), {'palette': 'green'}, 'Mean Image')\n",
    "# print(meanDictionary.getInfo())"
   ]
  },
  {
   "cell_type": "code",
   "execution_count": null,
   "metadata": {},
   "outputs": [],
   "source": []
  }
 ],
 "metadata": {
  "colab": {
   "collapsed_sections": [],
   "name": "dsc180EE.ipynb",
   "provenance": []
  },
  "kernelspec": {
   "display_name": "Python 3",
   "language": "python",
   "name": "python3"
  },
  "language_info": {
   "codemirror_mode": {
    "name": "ipython",
    "version": 3
   },
   "file_extension": ".py",
   "mimetype": "text/x-python",
   "name": "python",
   "nbconvert_exporter": "python",
   "pygments_lexer": "ipython3",
   "version": "3.9.2"
  },
  "widgets": {
   "application/vnd.jupyter.widget-state+json": {
    "030b80182326479984817b983f938a59": {
     "model_module": "@jupyter-widgets/controls",
     "model_module_version": "1.5.0",
     "model_name": "DescriptionStyleModel",
     "state": {
      "_model_module": "@jupyter-widgets/controls",
      "_model_module_version": "1.5.0",
      "_model_name": "DescriptionStyleModel",
      "_view_count": null,
      "_view_module": "@jupyter-widgets/base",
      "_view_module_version": "1.2.0",
      "_view_name": "StyleView",
      "description_width": ""
     }
    },
    "10a224b90e154bad940b4ca465a46acb": {
     "model_module": "jupyter-leaflet",
     "model_module_version": "^0.14.0",
     "model_name": "LeafletTileLayerModel",
     "state": {
      "_model_module": "jupyter-leaflet",
      "_model_module_version": "^0.14.0",
      "_model_name": "LeafletTileLayerModel",
      "_view_count": null,
      "_view_module": "jupyter-leaflet",
      "_view_module_version": "^0.14.0",
      "_view_name": "LeafletTileLayerView",
      "attribution": "Google",
      "base": false,
      "bottom": true,
      "detect_retina": false,
      "loading": false,
      "max_native_zoom": 18,
      "max_zoom": 24,
      "min_native_zoom": 0,
      "min_zoom": 0,
      "name": "Google Maps",
      "no_wrap": false,
      "opacity": 1,
      "options": [
       "attribution",
       "detect_retina",
       "max_native_zoom",
       "max_zoom",
       "min_native_zoom",
       "min_zoom",
       "no_wrap",
       "tile_size",
       "tms"
      ],
      "popup": null,
      "popup_max_height": null,
      "popup_max_width": 300,
      "popup_min_width": 50,
      "show_loading": false,
      "tile_size": 256,
      "tms": false,
      "url": "https://mt1.google.com/vt/lyrs=m&x={x}&y={y}&z={z}",
      "visible": true
     }
    },
    "1d4b6e38743f434aa6fb82fe79d26d0f": {
     "model_module": "@jupyter-widgets/controls",
     "model_module_version": "1.5.0",
     "model_name": "ToggleButtonModel",
     "state": {
      "_dom_classes": [],
      "_model_module": "@jupyter-widgets/controls",
      "_model_module_version": "1.5.0",
      "_model_name": "ToggleButtonModel",
      "_view_count": null,
      "_view_module": "@jupyter-widgets/controls",
      "_view_module_version": "1.5.0",
      "_view_name": "ToggleButtonView",
      "button_style": "",
      "description": "",
      "description_tooltip": null,
      "disabled": false,
      "icon": "globe",
      "layout": "IPY_MODEL_b63f030fc17a4115a09eb8c208de3db6",
      "style": "IPY_MODEL_b433a7ca09504f59bcacefe67fa3a9dd",
      "tooltip": "Search location/data",
      "value": false
     }
    },
    "2616a6d85dd24147bb07b2a4023752f6": {
     "model_module": "@jupyter-widgets/base",
     "model_module_version": "1.2.0",
     "model_name": "LayoutModel",
     "state": {
      "_model_module": "@jupyter-widgets/base",
      "_model_module_version": "1.2.0",
      "_model_name": "LayoutModel",
      "_view_count": null,
      "_view_module": "@jupyter-widgets/base",
      "_view_module_version": "1.2.0",
      "_view_name": "LayoutView",
      "align_content": null,
      "align_items": null,
      "align_self": null,
      "border": null,
      "bottom": null,
      "display": null,
      "flex": null,
      "flex_flow": null,
      "grid_area": null,
      "grid_auto_columns": null,
      "grid_auto_flow": null,
      "grid_auto_rows": null,
      "grid_column": null,
      "grid_gap": null,
      "grid_row": null,
      "grid_template_areas": null,
      "grid_template_columns": null,
      "grid_template_rows": null,
      "height": null,
      "justify_content": null,
      "justify_items": null,
      "left": null,
      "margin": null,
      "max_height": null,
      "max_width": null,
      "min_height": null,
      "min_width": null,
      "object_fit": null,
      "object_position": null,
      "order": null,
      "overflow": null,
      "overflow_x": null,
      "overflow_y": null,
      "padding": null,
      "right": null,
      "top": null,
      "visibility": null,
      "width": null
     }
    },
    "27cb42eff5574197ab594dd29681ac6a": {
     "model_module": "jupyter-leaflet",
     "model_module_version": "^0.14.0",
     "model_name": "LeafletFullScreenControlModel",
     "state": {
      "_model_module": "jupyter-leaflet",
      "_model_module_version": "^0.14.0",
      "_model_name": "LeafletFullScreenControlModel",
      "_view_count": null,
      "_view_module": "jupyter-leaflet",
      "_view_module_version": "^0.14.0",
      "_view_name": "LeafletFullScreenControlView",
      "options": [
       "position"
      ],
      "position": "topleft"
     }
    },
    "2e0c2a8c8760486ab96e55aaa114c972": {
     "model_module": "jupyter-leaflet",
     "model_module_version": "^0.14.0",
     "model_name": "LeafletTileLayerModel",
     "state": {
      "_model_module": "jupyter-leaflet",
      "_model_module_version": "^0.14.0",
      "_model_name": "LeafletTileLayerModel",
      "_view_count": null,
      "_view_module": "jupyter-leaflet",
      "_view_module_version": "^0.14.0",
      "_view_name": "LeafletTileLayerView",
      "attribution": "Google Earth Engine",
      "base": false,
      "bottom": true,
      "detect_retina": false,
      "loading": false,
      "max_native_zoom": 18,
      "max_zoom": 24,
      "min_native_zoom": 0,
      "min_zoom": 0,
      "name": "classification",
      "no_wrap": false,
      "opacity": 1,
      "options": [
       "attribution",
       "detect_retina",
       "max_native_zoom",
       "max_zoom",
       "min_native_zoom",
       "min_zoom",
       "no_wrap",
       "tile_size",
       "tms"
      ],
      "popup": null,
      "popup_max_height": null,
      "popup_max_width": 300,
      "popup_min_width": 50,
      "show_loading": false,
      "tile_size": 256,
      "tms": false,
      "url": "https://earthengine.googleapis.com/v1alpha/projects/earthengine-legacy/maps/0b926ecc2c37f5f6de32c65899b4548f-225dd06709fcf7717f2980de84fe6d48/tiles/{z}/{x}/{y}",
      "visible": true
     }
    },
    "2ec044c38a8543839c5e580f00c18a13": {
     "model_module": "jupyter-leaflet",
     "model_module_version": "^0.14.0",
     "model_name": "LeafletTileLayerModel",
     "state": {
      "_model_module": "jupyter-leaflet",
      "_model_module_version": "^0.14.0",
      "_model_name": "LeafletTileLayerModel",
      "_view_count": null,
      "_view_module": "jupyter-leaflet",
      "_view_module_version": "^0.14.0",
      "_view_name": "LeafletTileLayerView",
      "attribution": "Google Earth Engine",
      "base": false,
      "bottom": true,
      "detect_retina": false,
      "loading": false,
      "max_native_zoom": 18,
      "max_zoom": 24,
      "min_native_zoom": 0,
      "min_zoom": 0,
      "name": "Mean Image",
      "no_wrap": false,
      "opacity": 1,
      "options": [
       "attribution",
       "detect_retina",
       "max_native_zoom",
       "max_zoom",
       "min_native_zoom",
       "min_zoom",
       "no_wrap",
       "tile_size",
       "tms"
      ],
      "popup": null,
      "popup_max_height": null,
      "popup_max_width": 300,
      "popup_min_width": 50,
      "show_loading": false,
      "tile_size": 256,
      "tms": false,
      "url": "https://earthengine.googleapis.com/v1alpha/projects/earthengine-legacy/maps/6d9d60d6d5ff2af7b8162cc05ff327a8-aeda7a9b17310f6a80d20e0bc20f0fcb/tiles/{z}/{x}/{y}",
      "visible": true
     }
    },
    "32d14590388e466581bebb8377b72011": {
     "model_module": "@jupyter-widgets/base",
     "model_module_version": "1.2.0",
     "model_name": "LayoutModel",
     "state": {
      "_model_module": "@jupyter-widgets/base",
      "_model_module_version": "1.2.0",
      "_model_name": "LayoutModel",
      "_view_count": null,
      "_view_module": "@jupyter-widgets/base",
      "_view_module_version": "1.2.0",
      "_view_name": "LayoutView",
      "align_content": null,
      "align_items": null,
      "align_self": null,
      "border": null,
      "bottom": null,
      "display": null,
      "flex": null,
      "flex_flow": null,
      "grid_area": null,
      "grid_auto_columns": null,
      "grid_auto_flow": null,
      "grid_auto_rows": null,
      "grid_column": null,
      "grid_gap": null,
      "grid_row": null,
      "grid_template_areas": null,
      "grid_template_columns": null,
      "grid_template_rows": null,
      "height": null,
      "justify_content": null,
      "justify_items": null,
      "left": null,
      "margin": null,
      "max_height": null,
      "max_width": null,
      "min_height": null,
      "min_width": null,
      "object_fit": null,
      "object_position": null,
      "order": null,
      "overflow": null,
      "overflow_x": null,
      "overflow_y": null,
      "padding": null,
      "right": null,
      "top": null,
      "visibility": null,
      "width": null
     }
    },
    "38833b1cec3242bb964ad76fd12d691d": {
     "model_module": "jupyter-leaflet",
     "model_module_version": "^0.14.0",
     "model_name": "LeafletTileLayerModel",
     "state": {
      "_model_module": "jupyter-leaflet",
      "_model_module_version": "^0.14.0",
      "_model_name": "LeafletTileLayerModel",
      "_view_count": null,
      "_view_module": "jupyter-leaflet",
      "_view_module_version": "^0.14.0",
      "_view_name": "LeafletTileLayerView",
      "attribution": "Map data (c) <a href=\"https://openstreetmap.org\">OpenStreetMap</a> contributors",
      "base": true,
      "bottom": true,
      "detect_retina": false,
      "loading": false,
      "max_native_zoom": 18,
      "max_zoom": 19,
      "min_native_zoom": 0,
      "min_zoom": 1,
      "name": "",
      "no_wrap": false,
      "opacity": 1,
      "options": [
       "attribution",
       "detect_retina",
       "max_native_zoom",
       "max_zoom",
       "min_native_zoom",
       "min_zoom",
       "no_wrap",
       "tile_size",
       "tms"
      ],
      "popup": null,
      "popup_max_height": null,
      "popup_max_width": 300,
      "popup_min_width": 50,
      "show_loading": false,
      "tile_size": 256,
      "tms": false,
      "url": "https://{s}.tile.openstreetmap.org/{z}/{x}/{y}.png",
      "visible": true
     }
    },
    "394fee2a2b984093b3ecd938a9f12879": {
     "model_module": "jupyter-leaflet",
     "model_module_version": "^0.14.0",
     "model_name": "LeafletAttributionControlModel",
     "state": {
      "_model_module": "jupyter-leaflet",
      "_model_module_version": "^0.14.0",
      "_model_name": "LeafletAttributionControlModel",
      "_view_count": null,
      "_view_module": "jupyter-leaflet",
      "_view_module_version": "^0.14.0",
      "_view_name": "LeafletAttributionControlView",
      "options": [
       "position",
       "prefix"
      ],
      "position": "bottomright",
      "prefix": "ipyleaflet"
     }
    },
    "3a4c57264ad741a8aa41a533f4f24114": {
     "model_module": "jupyter-leaflet",
     "model_module_version": "^0.14.0",
     "model_name": "LeafletMapModel",
     "state": {
      "_dom_classes": [],
      "_dragging": false,
      "_model_module": "jupyter-leaflet",
      "_model_module_version": "^0.14.0",
      "_model_name": "LeafletMapModel",
      "_view_count": null,
      "_view_module": "jupyter-leaflet",
      "_view_module_version": "^0.14.0",
      "_view_name": "LeafletMapView",
      "bottom": 50870,
      "bounce_at_zoom_limits": true,
      "box_zoom": true,
      "center": [
       37.974369452311166,
       -119.64163774091024
      ],
      "close_popup_on_click": true,
      "controls": [
       "IPY_MODEL_b754450c0d96472fbedc8eeae7f05a27",
       "IPY_MODEL_8742ee1d25ee48fd971a42c93d1e4e52",
       "IPY_MODEL_940e40d01d644e90993fd4a9105a7eae",
       "IPY_MODEL_c019b9908b724dc1bfb08dcf254642e2",
       "IPY_MODEL_46e0a61ec18546a4a384fdb3c343f4df",
       "IPY_MODEL_394fee2a2b984093b3ecd938a9f12879",
       "IPY_MODEL_fd0a95bfbf9649079e32c8f76e4853ed",
       "IPY_MODEL_5ff096a8c86c46098051c19fc84498fd"
      ],
      "crs": {
       "custom": false,
       "name": "EPSG3857"
      },
      "default_style": "IPY_MODEL_48bc6fad92f64758a65357f4fbf91a3b",
      "double_click_zoom": true,
      "dragging": true,
      "dragging_style": "IPY_MODEL_4c41a5cea3ad4d1184b13a435a85c84e",
      "east": -117.94647216796876,
      "fullscreen": false,
      "inertia": true,
      "inertia_deceleration": 3000,
      "inertia_max_speed": 1500,
      "interpolation": "bilinear",
      "keyboard": true,
      "keyboard_pan_offset": 80,
      "keyboard_zoom_offset": 1,
      "layers": [
       "IPY_MODEL_38833b1cec3242bb964ad76fd12d691d",
       "IPY_MODEL_56b1ae46c4b342c0b0ec798b9d3f3f8e",
       "IPY_MODEL_dec06adb1eb8481e9fb82a5829d23163",
       "IPY_MODEL_2ec044c38a8543839c5e580f00c18a13"
      ],
      "layout": "IPY_MODEL_d63a3dca0c5e47e49642b479f7283bb6",
      "left": 21358,
      "max_zoom": 24,
      "min_zoom": 1,
      "modisdate": "yesterday",
      "north": 38.62116234642254,
      "options": [
       "bounce_at_zoom_limits",
       "box_zoom",
       "center",
       "close_popup_on_click",
       "double_click_zoom",
       "dragging",
       "fullscreen",
       "inertia",
       "inertia_deceleration",
       "inertia_max_speed",
       "interpolation",
       "keyboard",
       "keyboard_pan_offset",
       "keyboard_zoom_offset",
       "max_zoom",
       "min_zoom",
       "scroll_wheel_zoom",
       "tap",
       "tap_tolerance",
       "touch_zoom",
       "world_copy_jump",
       "zoom",
       "zoom_animation_threshold",
       "zoom_delta",
       "zoom_snap",
       "zoom_start"
      ],
      "right": 22593,
      "scroll_wheel_zoom": true,
      "south": 37.322120359451766,
      "style": "IPY_MODEL_48bc6fad92f64758a65357f4fbf91a3b",
      "tap": true,
      "tap_tolerance": 15,
      "top": 50270,
      "touch_zoom": true,
      "west": -121.33850097656251,
      "window_url": "https://qzh1kly8xj-496ff2e9c6d22116-0-colab.googleusercontent.com/outputframe.html?vrz=colab-20211119-060052-RC02_411328912",
      "world_copy_jump": false,
      "zoom": 9,
      "zoom_animation_threshold": 4,
      "zoom_delta": 1,
      "zoom_snap": 1,
      "zoom_start": 12
     }
    },
    "3dbbff44cee74c09a29874f35522c8fc": {
     "model_module": "jupyter-leaflet",
     "model_module_version": "^0.14.0",
     "model_name": "LeafletWidgetControlModel",
     "state": {
      "_model_module": "jupyter-leaflet",
      "_model_module_version": "^0.14.0",
      "_model_name": "LeafletWidgetControlModel",
      "_view_count": null,
      "_view_module": "jupyter-leaflet",
      "_view_module_version": "^0.14.0",
      "_view_name": "LeafletWidgetControlView",
      "max_height": null,
      "max_width": null,
      "min_height": null,
      "min_width": null,
      "options": [
       "position",
       "transparent_bg"
      ],
      "position": "topright",
      "transparent_bg": false,
      "widget": "IPY_MODEL_c655010128254e2b875860193ff9911b"
     }
    },
    "4092c0e5daab4f0dba638aa54004e3be": {
     "model_module": "jupyter-leaflet",
     "model_module_version": "^0.14.0",
     "model_name": "LeafletTileLayerModel",
     "state": {
      "_model_module": "jupyter-leaflet",
      "_model_module_version": "^0.14.0",
      "_model_name": "LeafletTileLayerModel",
      "_view_count": null,
      "_view_module": "jupyter-leaflet",
      "_view_module_version": "^0.14.0",
      "_view_name": "LeafletTileLayerView",
      "attribution": "Google Earth Engine",
      "base": false,
      "bottom": true,
      "detect_retina": false,
      "loading": false,
      "max_native_zoom": 18,
      "max_zoom": 24,
      "min_native_zoom": 0,
      "min_zoom": 0,
      "name": "OLS",
      "no_wrap": false,
      "opacity": 1,
      "options": [
       "attribution",
       "detect_retina",
       "max_native_zoom",
       "max_zoom",
       "min_native_zoom",
       "min_zoom",
       "no_wrap",
       "tile_size",
       "tms"
      ],
      "popup": null,
      "popup_max_height": null,
      "popup_max_width": 300,
      "popup_min_width": 50,
      "show_loading": false,
      "tile_size": 256,
      "tms": false,
      "url": "https://earthengine.googleapis.com/v1alpha/projects/earthengine-legacy/maps/05bef5d6d4fe326cc96cb1416c1506a2-1e1d2da2a1881fdf0041e3f5a82e3eee/tiles/{z}/{x}/{y}",
      "visible": true
     }
    },
    "46e0a61ec18546a4a384fdb3c343f4df": {
     "model_module": "jupyter-leaflet",
     "model_module_version": "^0.14.0",
     "model_name": "LeafletMeasureControlModel",
     "state": {
      "_custom_units": {},
      "_model_module": "jupyter-leaflet",
      "_model_module_version": "^0.14.0",
      "_model_name": "LeafletMeasureControlModel",
      "_view_count": null,
      "_view_module": "jupyter-leaflet",
      "_view_module_version": "^0.14.0",
      "_view_name": "LeafletMeasureControlView",
      "active_color": "orange",
      "capture_z_index": 10000,
      "completed_color": "#C8F2BE",
      "options": [
       "active_color",
       "capture_z_index",
       "completed_color",
       "popup_options",
       "position",
       "primary_area_unit",
       "primary_length_unit",
       "secondary_area_unit",
       "secondary_length_unit"
      ],
      "popup_options": {
       "autoPanPadding": [
        10,
        10
       ],
       "className": "leaflet-measure-resultpopup"
      },
      "position": "bottomleft",
      "primary_area_unit": "acres",
      "primary_length_unit": "kilometers",
      "secondary_area_unit": null,
      "secondary_length_unit": null
     }
    },
    "47aa463f94784c82a45bfec41773ece7": {
     "model_module": "@jupyter-widgets/controls",
     "model_module_version": "1.5.0",
     "model_name": "ToggleButtonModel",
     "state": {
      "_dom_classes": [],
      "_model_module": "@jupyter-widgets/controls",
      "_model_module_version": "1.5.0",
      "_model_name": "ToggleButtonModel",
      "_view_count": null,
      "_view_module": "@jupyter-widgets/controls",
      "_view_module_version": "1.5.0",
      "_view_name": "ToggleButtonView",
      "button_style": "",
      "description": "",
      "description_tooltip": null,
      "disabled": false,
      "icon": "wrench",
      "layout": "IPY_MODEL_f907ee76fdb54bb49c6d7e2bfc10921f",
      "style": "IPY_MODEL_635af4adf1b840d5af324d5c5bf0f6d7",
      "tooltip": "Toolbar",
      "value": false
     }
    },
    "48bc6fad92f64758a65357f4fbf91a3b": {
     "model_module": "jupyter-leaflet",
     "model_module_version": "^0.14.0",
     "model_name": "LeafletMapStyleModel",
     "state": {
      "_model_module": "jupyter-leaflet",
      "_model_module_version": "^0.14.0",
      "_model_name": "LeafletMapStyleModel",
      "_view_count": null,
      "_view_module": "@jupyter-widgets/base",
      "_view_module_version": "1.2.0",
      "_view_name": "StyleView",
      "cursor": "grab"
     }
    },
    "4c41a5cea3ad4d1184b13a435a85c84e": {
     "model_module": "jupyter-leaflet",
     "model_module_version": "^0.14.0",
     "model_name": "LeafletMapStyleModel",
     "state": {
      "_model_module": "jupyter-leaflet",
      "_model_module_version": "^0.14.0",
      "_model_name": "LeafletMapStyleModel",
      "_view_count": null,
      "_view_module": "@jupyter-widgets/base",
      "_view_module_version": "1.2.0",
      "_view_name": "StyleView",
      "cursor": "move"
     }
    },
    "4c8f672aa2f84c5ca9055f671204929d": {
     "model_module": "jupyter-leaflet",
     "model_module_version": "^0.14.0",
     "model_name": "LeafletZoomControlModel",
     "state": {
      "_model_module": "jupyter-leaflet",
      "_model_module_version": "^0.14.0",
      "_model_name": "LeafletZoomControlModel",
      "_view_count": null,
      "_view_module": "jupyter-leaflet",
      "_view_module_version": "^0.14.0",
      "_view_name": "LeafletZoomControlView",
      "options": [
       "position",
       "zoom_in_text",
       "zoom_in_title",
       "zoom_out_text",
       "zoom_out_title"
      ],
      "position": "topleft",
      "zoom_in_text": "+",
      "zoom_in_title": "Zoom in",
      "zoom_out_text": "-",
      "zoom_out_title": "Zoom out"
     }
    },
    "56b1ae46c4b342c0b0ec798b9d3f3f8e": {
     "model_module": "jupyter-leaflet",
     "model_module_version": "^0.14.0",
     "model_name": "LeafletTileLayerModel",
     "state": {
      "_model_module": "jupyter-leaflet",
      "_model_module_version": "^0.14.0",
      "_model_name": "LeafletTileLayerModel",
      "_view_count": null,
      "_view_module": "jupyter-leaflet",
      "_view_module_version": "^0.14.0",
      "_view_name": "LeafletTileLayerView",
      "attribution": "Google",
      "base": false,
      "bottom": true,
      "detect_retina": false,
      "loading": false,
      "max_native_zoom": 18,
      "max_zoom": 24,
      "min_native_zoom": 0,
      "min_zoom": 0,
      "name": "Google Maps",
      "no_wrap": false,
      "opacity": 1,
      "options": [
       "attribution",
       "detect_retina",
       "max_native_zoom",
       "max_zoom",
       "min_native_zoom",
       "min_zoom",
       "no_wrap",
       "tile_size",
       "tms"
      ],
      "popup": null,
      "popup_max_height": null,
      "popup_max_width": 300,
      "popup_min_width": 50,
      "show_loading": false,
      "tile_size": 256,
      "tms": false,
      "url": "https://mt1.google.com/vt/lyrs=m&x={x}&y={y}&z={z}",
      "visible": true
     }
    },
    "5874c863d04e416085f17345abfed36b": {
     "model_module": "@jupyter-widgets/base",
     "model_module_version": "1.2.0",
     "model_name": "LayoutModel",
     "state": {
      "_model_module": "@jupyter-widgets/base",
      "_model_module_version": "1.2.0",
      "_model_name": "LayoutModel",
      "_view_count": null,
      "_view_module": "@jupyter-widgets/base",
      "_view_module_version": "1.2.0",
      "_view_name": "LayoutView",
      "align_content": null,
      "align_items": null,
      "align_self": null,
      "border": null,
      "bottom": null,
      "display": null,
      "flex": null,
      "flex_flow": null,
      "grid_area": null,
      "grid_auto_columns": null,
      "grid_auto_flow": null,
      "grid_auto_rows": null,
      "grid_column": null,
      "grid_gap": null,
      "grid_row": null,
      "grid_template_areas": null,
      "grid_template_columns": null,
      "grid_template_rows": null,
      "height": null,
      "justify_content": null,
      "justify_items": null,
      "left": null,
      "margin": null,
      "max_height": null,
      "max_width": null,
      "min_height": null,
      "min_width": null,
      "object_fit": null,
      "object_position": null,
      "order": null,
      "overflow": null,
      "overflow_x": null,
      "overflow_y": null,
      "padding": null,
      "right": null,
      "top": null,
      "visibility": null,
      "width": null
     }
    },
    "5949cb0ba3de4ec0a1725beff8d1e7ce": {
     "model_module": "@jupyter-widgets/controls",
     "model_module_version": "1.5.0",
     "model_name": "HBoxModel",
     "state": {
      "_dom_classes": [],
      "_model_module": "@jupyter-widgets/controls",
      "_model_module_version": "1.5.0",
      "_model_name": "HBoxModel",
      "_view_count": null,
      "_view_module": "@jupyter-widgets/controls",
      "_view_module_version": "1.5.0",
      "_view_name": "HBoxView",
      "box_style": "",
      "children": [
       "IPY_MODEL_70303c8f6ebf4729b8d4aae4c88a3349"
      ],
      "layout": "IPY_MODEL_9a03f0470ec54b63bc32cb85f51a543c"
     }
    },
    "5f3431c238c647479ec39a0a7113d9a6": {
     "model_module": "@jupyter-widgets/base",
     "model_module_version": "1.2.0",
     "model_name": "LayoutModel",
     "state": {
      "_model_module": "@jupyter-widgets/base",
      "_model_module_version": "1.2.0",
      "_model_name": "LayoutModel",
      "_view_count": null,
      "_view_module": "@jupyter-widgets/base",
      "_view_module_version": "1.2.0",
      "_view_name": "LayoutView",
      "align_content": null,
      "align_items": null,
      "align_self": null,
      "border": null,
      "bottom": null,
      "display": null,
      "flex": null,
      "flex_flow": null,
      "grid_area": null,
      "grid_auto_columns": null,
      "grid_auto_flow": null,
      "grid_auto_rows": null,
      "grid_column": null,
      "grid_gap": null,
      "grid_row": null,
      "grid_template_areas": null,
      "grid_template_columns": null,
      "grid_template_rows": null,
      "height": "28px",
      "justify_content": null,
      "justify_items": null,
      "left": null,
      "margin": null,
      "max_height": null,
      "max_width": null,
      "min_height": null,
      "min_width": null,
      "object_fit": null,
      "object_position": null,
      "order": null,
      "overflow": null,
      "overflow_x": null,
      "overflow_y": null,
      "padding": "0px 0px 0px 4px",
      "right": null,
      "top": null,
      "visibility": null,
      "width": "28px"
     }
    },
    "5f77dd90b829466695bee82c0799a008": {
     "model_module": "jupyter-leaflet",
     "model_module_version": "^0.14.0",
     "model_name": "LeafletWidgetControlModel",
     "state": {
      "_model_module": "jupyter-leaflet",
      "_model_module_version": "^0.14.0",
      "_model_name": "LeafletWidgetControlModel",
      "_view_count": null,
      "_view_module": "jupyter-leaflet",
      "_view_module_version": "^0.14.0",
      "_view_name": "LeafletWidgetControlView",
      "max_height": null,
      "max_width": null,
      "min_height": null,
      "min_width": null,
      "options": [
       "position",
       "transparent_bg"
      ],
      "position": "topleft",
      "transparent_bg": false,
      "widget": "IPY_MODEL_894b1f7301614e0ea7cd567dd15686d2"
     }
    },
    "5ff096a8c86c46098051c19fc84498fd": {
     "model_module": "jupyter-leaflet",
     "model_module_version": "^0.14.0",
     "model_name": "LeafletWidgetControlModel",
     "state": {
      "_model_module": "jupyter-leaflet",
      "_model_module_version": "^0.14.0",
      "_model_name": "LeafletWidgetControlModel",
      "_view_count": null,
      "_view_module": "jupyter-leaflet",
      "_view_module_version": "^0.14.0",
      "_view_name": "LeafletWidgetControlView",
      "max_height": null,
      "max_width": null,
      "min_height": null,
      "min_width": null,
      "options": [
       "position",
       "transparent_bg"
      ],
      "position": "topright",
      "transparent_bg": false,
      "widget": "IPY_MODEL_afc1312a90794e908887c9169508fb5c"
     }
    },
    "635af4adf1b840d5af324d5c5bf0f6d7": {
     "model_module": "@jupyter-widgets/controls",
     "model_module_version": "1.5.0",
     "model_name": "DescriptionStyleModel",
     "state": {
      "_model_module": "@jupyter-widgets/controls",
      "_model_module_version": "1.5.0",
      "_model_name": "DescriptionStyleModel",
      "_view_count": null,
      "_view_module": "@jupyter-widgets/base",
      "_view_module_version": "1.2.0",
      "_view_name": "StyleView",
      "description_width": ""
     }
    },
    "692427dbf23d47edb5ca2e2861f22329": {
     "model_module": "@jupyter-widgets/controls",
     "model_module_version": "1.5.0",
     "model_name": "DescriptionStyleModel",
     "state": {
      "_model_module": "@jupyter-widgets/controls",
      "_model_module_version": "1.5.0",
      "_model_name": "DescriptionStyleModel",
      "_view_count": null,
      "_view_module": "@jupyter-widgets/base",
      "_view_module_version": "1.2.0",
      "_view_name": "StyleView",
      "description_width": ""
     }
    },
    "70303c8f6ebf4729b8d4aae4c88a3349": {
     "model_module": "@jupyter-widgets/controls",
     "model_module_version": "1.5.0",
     "model_name": "ToggleButtonModel",
     "state": {
      "_dom_classes": [],
      "_model_module": "@jupyter-widgets/controls",
      "_model_module_version": "1.5.0",
      "_model_name": "ToggleButtonModel",
      "_view_count": null,
      "_view_module": "@jupyter-widgets/controls",
      "_view_module_version": "1.5.0",
      "_view_name": "ToggleButtonView",
      "button_style": "",
      "description": "",
      "description_tooltip": null,
      "disabled": false,
      "icon": "globe",
      "layout": "IPY_MODEL_9f959697872549dd8b1b0b71276550ce",
      "style": "IPY_MODEL_89eb7cc3f1e147f893e1443776cc4a15",
      "tooltip": "Search location/data",
      "value": false
     }
    },
    "703d0883fac449ed99575fec170d2b5f": {
     "model_module": "jupyter-leaflet",
     "model_module_version": "^0.14.0",
     "model_name": "LeafletWidgetControlModel",
     "state": {
      "_model_module": "jupyter-leaflet",
      "_model_module_version": "^0.14.0",
      "_model_name": "LeafletWidgetControlModel",
      "_view_count": null,
      "_view_module": "jupyter-leaflet",
      "_view_module_version": "^0.14.0",
      "_view_name": "LeafletWidgetControlView",
      "max_height": null,
      "max_width": null,
      "min_height": null,
      "min_width": null,
      "options": [
       "position",
       "transparent_bg"
      ],
      "position": "topright",
      "transparent_bg": false,
      "widget": "IPY_MODEL_b1237493aefb46e5a2fefa5ad7f804fc"
     }
    },
    "77c870da07824b2897afa0aa1cbbc9bb": {
     "model_module": "@jupyter-widgets/base",
     "model_module_version": "1.2.0",
     "model_name": "LayoutModel",
     "state": {
      "_model_module": "@jupyter-widgets/base",
      "_model_module_version": "1.2.0",
      "_model_name": "LayoutModel",
      "_view_count": null,
      "_view_module": "@jupyter-widgets/base",
      "_view_module_version": "1.2.0",
      "_view_name": "LayoutView",
      "align_content": null,
      "align_items": null,
      "align_self": null,
      "border": null,
      "bottom": null,
      "display": null,
      "flex": null,
      "flex_flow": null,
      "grid_area": null,
      "grid_auto_columns": null,
      "grid_auto_flow": null,
      "grid_auto_rows": null,
      "grid_column": null,
      "grid_gap": null,
      "grid_row": null,
      "grid_template_areas": null,
      "grid_template_columns": null,
      "grid_template_rows": null,
      "height": null,
      "justify_content": null,
      "justify_items": null,
      "left": null,
      "margin": null,
      "max_height": null,
      "max_width": null,
      "min_height": null,
      "min_width": null,
      "object_fit": null,
      "object_position": null,
      "order": null,
      "overflow": null,
      "overflow_x": null,
      "overflow_y": null,
      "padding": null,
      "right": null,
      "top": null,
      "visibility": null,
      "width": null
     }
    },
    "79999e39fbc24c37a4741354e3c12fe7": {
     "model_module": "@jupyter-widgets/base",
     "model_module_version": "1.2.0",
     "model_name": "LayoutModel",
     "state": {
      "_model_module": "@jupyter-widgets/base",
      "_model_module_version": "1.2.0",
      "_model_name": "LayoutModel",
      "_view_count": null,
      "_view_module": "@jupyter-widgets/base",
      "_view_module_version": "1.2.0",
      "_view_name": "LayoutView",
      "align_content": null,
      "align_items": null,
      "align_self": null,
      "border": null,
      "bottom": null,
      "display": null,
      "flex": null,
      "flex_flow": null,
      "grid_area": null,
      "grid_auto_columns": null,
      "grid_auto_flow": null,
      "grid_auto_rows": null,
      "grid_column": null,
      "grid_gap": null,
      "grid_row": null,
      "grid_template_areas": null,
      "grid_template_columns": null,
      "grid_template_rows": null,
      "height": null,
      "justify_content": null,
      "justify_items": null,
      "left": null,
      "margin": null,
      "max_height": null,
      "max_width": null,
      "min_height": null,
      "min_width": null,
      "object_fit": null,
      "object_position": null,
      "order": null,
      "overflow": null,
      "overflow_x": null,
      "overflow_y": null,
      "padding": null,
      "right": null,
      "top": null,
      "visibility": null,
      "width": null
     }
    },
    "7adca48dbacf4be49948e185d4be966d": {
     "model_module": "jupyter-leaflet",
     "model_module_version": "^0.14.0",
     "model_name": "LeafletMeasureControlModel",
     "state": {
      "_custom_units": {},
      "_model_module": "jupyter-leaflet",
      "_model_module_version": "^0.14.0",
      "_model_name": "LeafletMeasureControlModel",
      "_view_count": null,
      "_view_module": "jupyter-leaflet",
      "_view_module_version": "^0.14.0",
      "_view_name": "LeafletMeasureControlView",
      "active_color": "orange",
      "capture_z_index": 10000,
      "completed_color": "#C8F2BE",
      "options": [
       "active_color",
       "capture_z_index",
       "completed_color",
       "popup_options",
       "position",
       "primary_area_unit",
       "primary_length_unit",
       "secondary_area_unit",
       "secondary_length_unit"
      ],
      "popup_options": {
       "autoPanPadding": [
        10,
        10
       ],
       "className": "leaflet-measure-resultpopup"
      },
      "position": "bottomleft",
      "primary_area_unit": "acres",
      "primary_length_unit": "kilometers",
      "secondary_area_unit": null,
      "secondary_length_unit": null
     }
    },
    "7fc3f4b956614c3aa63ec75bc7823e70": {
     "model_module": "jupyter-leaflet",
     "model_module_version": "^0.14.0",
     "model_name": "LeafletMapModel",
     "state": {
      "_dom_classes": [],
      "_dragging": false,
      "_model_module": "jupyter-leaflet",
      "_model_module_version": "^0.14.0",
      "_model_name": "LeafletMapModel",
      "_view_count": null,
      "_view_module": "jupyter-leaflet",
      "_view_module_version": "^0.14.0",
      "_view_name": "LeafletMapView",
      "bottom": 202970,
      "bounce_at_zoom_limits": true,
      "box_zoom": true,
      "center": [
       37.763115548102924,
       -122.3756790161133
      ],
      "close_popup_on_click": true,
      "controls": [
       "IPY_MODEL_5f77dd90b829466695bee82c0799a008",
       "IPY_MODEL_4c8f672aa2f84c5ca9055f671204929d",
       "IPY_MODEL_ae522718af2340fc85091339b710c08d",
       "IPY_MODEL_27cb42eff5574197ab594dd29681ac6a",
       "IPY_MODEL_f89eadc5d002483b91f558e62ffe4956",
       "IPY_MODEL_cbf7e9232f7a4cbd9e79c3b3adbeea38",
       "IPY_MODEL_9c6ffed184884399b115ec2fdb7724cf",
       "IPY_MODEL_703d0883fac449ed99575fec170d2b5f"
      ],
      "crs": {
       "custom": false,
       "name": "EPSG3857"
      },
      "default_style": "IPY_MODEL_db01cbb6936b4c69a25b261e2b1aee16",
      "double_click_zoom": true,
      "dragging": true,
      "dragging_style": "IPY_MODEL_801db9db76754e43998b176526ca0624",
      "east": -121.95167541503908,
      "fullscreen": false,
      "inertia": true,
      "inertia_deceleration": 3000,
      "inertia_max_speed": 1500,
      "interpolation": "bilinear",
      "keyboard": true,
      "keyboard_pan_offset": 80,
      "keyboard_zoom_offset": 1,
      "layers": [
       "IPY_MODEL_f38d3a6de8a141669a8c573a13030a73",
       "IPY_MODEL_10a224b90e154bad940b4ca465a46acb",
       "IPY_MODEL_95b449a7d5f84b4994993ec3fcdde704",
       "IPY_MODEL_2e0c2a8c8760486ab96e55aaa114c972"
      ],
      "layout": "IPY_MODEL_e1662d0099234f50bafb983749014101",
      "left": 83304,
      "max_zoom": 24,
      "min_zoom": 1,
      "modisdate": "yesterday",
      "north": 37.92578434712103,
      "options": [
       "bounce_at_zoom_limits",
       "box_zoom",
       "center",
       "close_popup_on_click",
       "double_click_zoom",
       "dragging",
       "fullscreen",
       "inertia",
       "inertia_deceleration",
       "inertia_max_speed",
       "interpolation",
       "keyboard",
       "keyboard_pan_offset",
       "keyboard_zoom_offset",
       "max_zoom",
       "min_zoom",
       "scroll_wheel_zoom",
       "tap",
       "tap_tolerance",
       "touch_zoom",
       "world_copy_jump",
       "zoom",
       "zoom_animation_threshold",
       "zoom_delta",
       "zoom_snap",
       "zoom_start"
      ],
      "right": 84539,
      "scroll_wheel_zoom": true,
      "south": 37.6000882015635,
      "style": "IPY_MODEL_db01cbb6936b4c69a25b261e2b1aee16",
      "tap": true,
      "tap_tolerance": 15,
      "top": 202370,
      "touch_zoom": true,
      "west": -122.79968261718751,
      "window_url": "https://qzh1kly8xj-496ff2e9c6d22116-0-colab.googleusercontent.com/outputframe.html?vrz=colab-20211119-060052-RC02_411328912",
      "world_copy_jump": false,
      "zoom": 11,
      "zoom_animation_threshold": 4,
      "zoom_delta": 1,
      "zoom_snap": 1,
      "zoom_start": 12
     }
    },
    "801db9db76754e43998b176526ca0624": {
     "model_module": "jupyter-leaflet",
     "model_module_version": "^0.14.0",
     "model_name": "LeafletMapStyleModel",
     "state": {
      "_model_module": "jupyter-leaflet",
      "_model_module_version": "^0.14.0",
      "_model_name": "LeafletMapStyleModel",
      "_view_count": null,
      "_view_module": "@jupyter-widgets/base",
      "_view_module_version": "1.2.0",
      "_view_name": "StyleView",
      "cursor": "move"
     }
    },
    "8742ee1d25ee48fd971a42c93d1e4e52": {
     "model_module": "jupyter-leaflet",
     "model_module_version": "^0.14.0",
     "model_name": "LeafletZoomControlModel",
     "state": {
      "_model_module": "jupyter-leaflet",
      "_model_module_version": "^0.14.0",
      "_model_name": "LeafletZoomControlModel",
      "_view_count": null,
      "_view_module": "jupyter-leaflet",
      "_view_module_version": "^0.14.0",
      "_view_name": "LeafletZoomControlView",
      "options": [
       "position",
       "zoom_in_text",
       "zoom_in_title",
       "zoom_out_text",
       "zoom_out_title"
      ],
      "position": "topleft",
      "zoom_in_text": "+",
      "zoom_in_title": "Zoom in",
      "zoom_out_text": "-",
      "zoom_out_title": "Zoom out"
     }
    },
    "894b1f7301614e0ea7cd567dd15686d2": {
     "model_module": "@jupyter-widgets/controls",
     "model_module_version": "1.5.0",
     "model_name": "HBoxModel",
     "state": {
      "_dom_classes": [],
      "_model_module": "@jupyter-widgets/controls",
      "_model_module_version": "1.5.0",
      "_model_name": "HBoxModel",
      "_view_count": null,
      "_view_module": "@jupyter-widgets/controls",
      "_view_module_version": "1.5.0",
      "_view_name": "HBoxView",
      "box_style": "",
      "children": [
       "IPY_MODEL_91a89bcc20ba4a85bb14ba2ffb76bd91"
      ],
      "layout": "IPY_MODEL_79999e39fbc24c37a4741354e3c12fe7"
     }
    },
    "89eb7cc3f1e147f893e1443776cc4a15": {
     "model_module": "@jupyter-widgets/controls",
     "model_module_version": "1.5.0",
     "model_name": "DescriptionStyleModel",
     "state": {
      "_model_module": "@jupyter-widgets/controls",
      "_model_module_version": "1.5.0",
      "_model_name": "DescriptionStyleModel",
      "_view_count": null,
      "_view_module": "@jupyter-widgets/base",
      "_view_module_version": "1.2.0",
      "_view_name": "StyleView",
      "description_width": ""
     }
    },
    "8a1811cd62f5469bab8e513ffdcadf82": {
     "model_module": "jupyter-leaflet",
     "model_module_version": "^0.14.0",
     "model_name": "LeafletAttributionControlModel",
     "state": {
      "_model_module": "jupyter-leaflet",
      "_model_module_version": "^0.14.0",
      "_model_name": "LeafletAttributionControlModel",
      "_view_count": null,
      "_view_module": "jupyter-leaflet",
      "_view_module_version": "^0.14.0",
      "_view_name": "LeafletAttributionControlView",
      "options": [
       "position",
       "prefix"
      ],
      "position": "bottomright",
      "prefix": "ipyleaflet"
     }
    },
    "8b30a88bf11c4eeb83df852bfc519667": {
     "model_module": "@jupyter-widgets/controls",
     "model_module_version": "1.5.0",
     "model_name": "ToggleButtonModel",
     "state": {
      "_dom_classes": [],
      "_model_module": "@jupyter-widgets/controls",
      "_model_module_version": "1.5.0",
      "_model_name": "ToggleButtonModel",
      "_view_count": null,
      "_view_module": "@jupyter-widgets/controls",
      "_view_module_version": "1.5.0",
      "_view_name": "ToggleButtonView",
      "button_style": "",
      "description": "",
      "description_tooltip": null,
      "disabled": false,
      "icon": "wrench",
      "layout": "IPY_MODEL_e060267649884d4caa1061ae92785adc",
      "style": "IPY_MODEL_692427dbf23d47edb5ca2e2861f22329",
      "tooltip": "Toolbar",
      "value": false
     }
    },
    "91a89bcc20ba4a85bb14ba2ffb76bd91": {
     "model_module": "@jupyter-widgets/controls",
     "model_module_version": "1.5.0",
     "model_name": "ToggleButtonModel",
     "state": {
      "_dom_classes": [],
      "_model_module": "@jupyter-widgets/controls",
      "_model_module_version": "1.5.0",
      "_model_name": "ToggleButtonModel",
      "_view_count": null,
      "_view_module": "@jupyter-widgets/controls",
      "_view_module_version": "1.5.0",
      "_view_name": "ToggleButtonView",
      "button_style": "",
      "description": "",
      "description_tooltip": null,
      "disabled": false,
      "icon": "globe",
      "layout": "IPY_MODEL_a55d1c8224514e9b916a0e1e9a0b298b",
      "style": "IPY_MODEL_030b80182326479984817b983f938a59",
      "tooltip": "Search location/data",
      "value": false
     }
    },
    "940e40d01d644e90993fd4a9105a7eae": {
     "model_module": "jupyter-leaflet",
     "model_module_version": "^0.14.0",
     "model_name": "LeafletScaleControlModel",
     "state": {
      "_model_module": "jupyter-leaflet",
      "_model_module_version": "^0.14.0",
      "_model_name": "LeafletScaleControlModel",
      "_view_count": null,
      "_view_module": "jupyter-leaflet",
      "_view_module_version": "^0.14.0",
      "_view_name": "LeafletScaleControlView",
      "imperial": true,
      "max_width": 100,
      "metric": true,
      "options": [
       "imperial",
       "max_width",
       "metric",
       "position",
       "update_when_idle"
      ],
      "position": "bottomleft",
      "update_when_idle": false
     }
    },
    "95b449a7d5f84b4994993ec3fcdde704": {
     "model_module": "jupyter-leaflet",
     "model_module_version": "^0.14.0",
     "model_name": "LeafletTileLayerModel",
     "state": {
      "_model_module": "jupyter-leaflet",
      "_model_module_version": "^0.14.0",
      "_model_name": "LeafletTileLayerModel",
      "_view_count": null,
      "_view_module": "jupyter-leaflet",
      "_view_module_version": "^0.14.0",
      "_view_name": "LeafletTileLayerView",
      "attribution": "Google Earth Engine",
      "base": false,
      "bottom": true,
      "detect_retina": false,
      "loading": false,
      "max_native_zoom": 18,
      "max_zoom": 24,
      "min_native_zoom": 0,
      "min_zoom": 0,
      "name": "image",
      "no_wrap": false,
      "opacity": 1,
      "options": [
       "attribution",
       "detect_retina",
       "max_native_zoom",
       "max_zoom",
       "min_native_zoom",
       "min_zoom",
       "no_wrap",
       "tile_size",
       "tms"
      ],
      "popup": null,
      "popup_max_height": null,
      "popup_max_width": 300,
      "popup_min_width": 50,
      "show_loading": false,
      "tile_size": 256,
      "tms": false,
      "url": "https://earthengine.googleapis.com/v1alpha/projects/earthengine-legacy/maps/7223afa6a5fb3513be0711f0f5df7ca6-9c218a47e6483e71202f959c121bf937/tiles/{z}/{x}/{y}",
      "visible": true
     }
    },
    "9a03f0470ec54b63bc32cb85f51a543c": {
     "model_module": "@jupyter-widgets/base",
     "model_module_version": "1.2.0",
     "model_name": "LayoutModel",
     "state": {
      "_model_module": "@jupyter-widgets/base",
      "_model_module_version": "1.2.0",
      "_model_name": "LayoutModel",
      "_view_count": null,
      "_view_module": "@jupyter-widgets/base",
      "_view_module_version": "1.2.0",
      "_view_name": "LayoutView",
      "align_content": null,
      "align_items": null,
      "align_self": null,
      "border": null,
      "bottom": null,
      "display": null,
      "flex": null,
      "flex_flow": null,
      "grid_area": null,
      "grid_auto_columns": null,
      "grid_auto_flow": null,
      "grid_auto_rows": null,
      "grid_column": null,
      "grid_gap": null,
      "grid_row": null,
      "grid_template_areas": null,
      "grid_template_columns": null,
      "grid_template_rows": null,
      "height": null,
      "justify_content": null,
      "justify_items": null,
      "left": null,
      "margin": null,
      "max_height": null,
      "max_width": null,
      "min_height": null,
      "min_width": null,
      "object_fit": null,
      "object_position": null,
      "order": null,
      "overflow": null,
      "overflow_x": null,
      "overflow_y": null,
      "padding": null,
      "right": null,
      "top": null,
      "visibility": null,
      "width": null
     }
    },
    "9c6ffed184884399b115ec2fdb7724cf": {
     "model_module": "jupyter-leaflet",
     "model_module_version": "^0.14.0",
     "model_name": "LeafletDrawControlModel",
     "state": {
      "_model_module": "jupyter-leaflet",
      "_model_module_version": "^0.14.0",
      "_model_name": "LeafletDrawControlModel",
      "_view_count": null,
      "_view_module": "jupyter-leaflet",
      "_view_module_version": "^0.14.0",
      "_view_name": "LeafletDrawControlView",
      "circle": {
       "shapeOptions": {
        "color": "#3388ff"
       }
      },
      "circlemarker": {},
      "data": [],
      "edit": true,
      "marker": {
       "shapeOptions": {
        "color": "#3388ff"
       }
      },
      "options": [
       "position"
      ],
      "polygon": {
       "shapeOptions": {}
      },
      "polyline": {
       "shapeOptions": {}
      },
      "position": "topleft",
      "rectangle": {
       "shapeOptions": {
        "color": "#3388ff"
       }
      },
      "remove": true
     }
    },
    "9d685508e1024f2ebe18c569a63b0fe5": {
     "model_module": "jupyter-leaflet",
     "model_module_version": "^0.14.0",
     "model_name": "LeafletFullScreenControlModel",
     "state": {
      "_model_module": "jupyter-leaflet",
      "_model_module_version": "^0.14.0",
      "_model_name": "LeafletFullScreenControlModel",
      "_view_count": null,
      "_view_module": "jupyter-leaflet",
      "_view_module_version": "^0.14.0",
      "_view_name": "LeafletFullScreenControlView",
      "options": [
       "position"
      ],
      "position": "topleft"
     }
    },
    "9f959697872549dd8b1b0b71276550ce": {
     "model_module": "@jupyter-widgets/base",
     "model_module_version": "1.2.0",
     "model_name": "LayoutModel",
     "state": {
      "_model_module": "@jupyter-widgets/base",
      "_model_module_version": "1.2.0",
      "_model_name": "LayoutModel",
      "_view_count": null,
      "_view_module": "@jupyter-widgets/base",
      "_view_module_version": "1.2.0",
      "_view_name": "LayoutView",
      "align_content": null,
      "align_items": null,
      "align_self": null,
      "border": null,
      "bottom": null,
      "display": null,
      "flex": null,
      "flex_flow": null,
      "grid_area": null,
      "grid_auto_columns": null,
      "grid_auto_flow": null,
      "grid_auto_rows": null,
      "grid_column": null,
      "grid_gap": null,
      "grid_row": null,
      "grid_template_areas": null,
      "grid_template_columns": null,
      "grid_template_rows": null,
      "height": "28px",
      "justify_content": null,
      "justify_items": null,
      "left": null,
      "margin": null,
      "max_height": null,
      "max_width": null,
      "min_height": null,
      "min_width": null,
      "object_fit": null,
      "object_position": null,
      "order": null,
      "overflow": null,
      "overflow_x": null,
      "overflow_y": null,
      "padding": "0px 0px 0px 4px",
      "right": null,
      "top": null,
      "visibility": null,
      "width": "28px"
     }
    },
    "a07c027dbf1142c18c31757774ddc9aa": {
     "model_module": "@jupyter-widgets/controls",
     "model_module_version": "1.5.0",
     "model_name": "DescriptionStyleModel",
     "state": {
      "_model_module": "@jupyter-widgets/controls",
      "_model_module_version": "1.5.0",
      "_model_name": "DescriptionStyleModel",
      "_view_count": null,
      "_view_module": "@jupyter-widgets/base",
      "_view_module_version": "1.2.0",
      "_view_name": "StyleView",
      "description_width": ""
     }
    },
    "a55d1c8224514e9b916a0e1e9a0b298b": {
     "model_module": "@jupyter-widgets/base",
     "model_module_version": "1.2.0",
     "model_name": "LayoutModel",
     "state": {
      "_model_module": "@jupyter-widgets/base",
      "_model_module_version": "1.2.0",
      "_model_name": "LayoutModel",
      "_view_count": null,
      "_view_module": "@jupyter-widgets/base",
      "_view_module_version": "1.2.0",
      "_view_name": "LayoutView",
      "align_content": null,
      "align_items": null,
      "align_self": null,
      "border": null,
      "bottom": null,
      "display": null,
      "flex": null,
      "flex_flow": null,
      "grid_area": null,
      "grid_auto_columns": null,
      "grid_auto_flow": null,
      "grid_auto_rows": null,
      "grid_column": null,
      "grid_gap": null,
      "grid_row": null,
      "grid_template_areas": null,
      "grid_template_columns": null,
      "grid_template_rows": null,
      "height": "28px",
      "justify_content": null,
      "justify_items": null,
      "left": null,
      "margin": null,
      "max_height": null,
      "max_width": null,
      "min_height": null,
      "min_width": null,
      "object_fit": null,
      "object_position": null,
      "order": null,
      "overflow": null,
      "overflow_x": null,
      "overflow_y": null,
      "padding": "0px 0px 0px 4px",
      "right": null,
      "top": null,
      "visibility": null,
      "width": "28px"
     }
    },
    "a86d9afca100440d8930d19ca9fc4c7f": {
     "model_module": "jupyter-leaflet",
     "model_module_version": "^0.14.0",
     "model_name": "LeafletTileLayerModel",
     "state": {
      "_model_module": "jupyter-leaflet",
      "_model_module_version": "^0.14.0",
      "_model_name": "LeafletTileLayerModel",
      "_view_count": null,
      "_view_module": "jupyter-leaflet",
      "_view_module_version": "^0.14.0",
      "_view_name": "LeafletTileLayerView",
      "attribution": "Map data (c) <a href=\"https://openstreetmap.org\">OpenStreetMap</a> contributors",
      "base": true,
      "bottom": true,
      "detect_retina": false,
      "loading": false,
      "max_native_zoom": 18,
      "max_zoom": 19,
      "min_native_zoom": 0,
      "min_zoom": 1,
      "name": "",
      "no_wrap": false,
      "opacity": 1,
      "options": [
       "attribution",
       "detect_retina",
       "max_native_zoom",
       "max_zoom",
       "min_native_zoom",
       "min_zoom",
       "no_wrap",
       "tile_size",
       "tms"
      ],
      "popup": null,
      "popup_max_height": null,
      "popup_max_width": 300,
      "popup_min_width": 50,
      "show_loading": false,
      "tile_size": 256,
      "tms": false,
      "url": "https://{s}.tile.openstreetmap.org/{z}/{x}/{y}.png",
      "visible": true
     }
    },
    "add3fa8bfcaa49cd98d3b80edfc21cfc": {
     "model_module": "jupyter-leaflet",
     "model_module_version": "^0.14.0",
     "model_name": "LeafletMapStyleModel",
     "state": {
      "_model_module": "jupyter-leaflet",
      "_model_module_version": "^0.14.0",
      "_model_name": "LeafletMapStyleModel",
      "_view_count": null,
      "_view_module": "@jupyter-widgets/base",
      "_view_module_version": "1.2.0",
      "_view_name": "StyleView",
      "cursor": "grab"
     }
    },
    "ae522718af2340fc85091339b710c08d": {
     "model_module": "jupyter-leaflet",
     "model_module_version": "^0.14.0",
     "model_name": "LeafletScaleControlModel",
     "state": {
      "_model_module": "jupyter-leaflet",
      "_model_module_version": "^0.14.0",
      "_model_name": "LeafletScaleControlModel",
      "_view_count": null,
      "_view_module": "jupyter-leaflet",
      "_view_module_version": "^0.14.0",
      "_view_name": "LeafletScaleControlView",
      "imperial": true,
      "max_width": 100,
      "metric": true,
      "options": [
       "imperial",
       "max_width",
       "metric",
       "position",
       "update_when_idle"
      ],
      "position": "bottomleft",
      "update_when_idle": false
     }
    },
    "afc1312a90794e908887c9169508fb5c": {
     "model_module": "@jupyter-widgets/controls",
     "model_module_version": "1.5.0",
     "model_name": "VBoxModel",
     "state": {
      "_dom_classes": [],
      "_model_module": "@jupyter-widgets/controls",
      "_model_module_version": "1.5.0",
      "_model_name": "VBoxModel",
      "_view_count": null,
      "_view_module": "@jupyter-widgets/controls",
      "_view_module_version": "1.5.0",
      "_view_name": "VBoxView",
      "box_style": "",
      "children": [
       "IPY_MODEL_47aa463f94784c82a45bfec41773ece7"
      ],
      "layout": "IPY_MODEL_5874c863d04e416085f17345abfed36b"
     }
    },
    "b1237493aefb46e5a2fefa5ad7f804fc": {
     "model_module": "@jupyter-widgets/controls",
     "model_module_version": "1.5.0",
     "model_name": "VBoxModel",
     "state": {
      "_dom_classes": [],
      "_model_module": "@jupyter-widgets/controls",
      "_model_module_version": "1.5.0",
      "_model_name": "VBoxModel",
      "_view_count": null,
      "_view_module": "@jupyter-widgets/controls",
      "_view_module_version": "1.5.0",
      "_view_name": "VBoxView",
      "box_style": "",
      "children": [
       "IPY_MODEL_8b30a88bf11c4eeb83df852bfc519667"
      ],
      "layout": "IPY_MODEL_32d14590388e466581bebb8377b72011"
     }
    },
    "b433a7ca09504f59bcacefe67fa3a9dd": {
     "model_module": "@jupyter-widgets/controls",
     "model_module_version": "1.5.0",
     "model_name": "DescriptionStyleModel",
     "state": {
      "_model_module": "@jupyter-widgets/controls",
      "_model_module_version": "1.5.0",
      "_model_name": "DescriptionStyleModel",
      "_view_count": null,
      "_view_module": "@jupyter-widgets/base",
      "_view_module_version": "1.2.0",
      "_view_name": "StyleView",
      "description_width": ""
     }
    },
    "b63f030fc17a4115a09eb8c208de3db6": {
     "model_module": "@jupyter-widgets/base",
     "model_module_version": "1.2.0",
     "model_name": "LayoutModel",
     "state": {
      "_model_module": "@jupyter-widgets/base",
      "_model_module_version": "1.2.0",
      "_model_name": "LayoutModel",
      "_view_count": null,
      "_view_module": "@jupyter-widgets/base",
      "_view_module_version": "1.2.0",
      "_view_name": "LayoutView",
      "align_content": null,
      "align_items": null,
      "align_self": null,
      "border": null,
      "bottom": null,
      "display": null,
      "flex": null,
      "flex_flow": null,
      "grid_area": null,
      "grid_auto_columns": null,
      "grid_auto_flow": null,
      "grid_auto_rows": null,
      "grid_column": null,
      "grid_gap": null,
      "grid_row": null,
      "grid_template_areas": null,
      "grid_template_columns": null,
      "grid_template_rows": null,
      "height": "28px",
      "justify_content": null,
      "justify_items": null,
      "left": null,
      "margin": null,
      "max_height": null,
      "max_width": null,
      "min_height": null,
      "min_width": null,
      "object_fit": null,
      "object_position": null,
      "order": null,
      "overflow": null,
      "overflow_x": null,
      "overflow_y": null,
      "padding": "0px 0px 0px 4px",
      "right": null,
      "top": null,
      "visibility": null,
      "width": "28px"
     }
    },
    "b754450c0d96472fbedc8eeae7f05a27": {
     "model_module": "jupyter-leaflet",
     "model_module_version": "^0.14.0",
     "model_name": "LeafletWidgetControlModel",
     "state": {
      "_model_module": "jupyter-leaflet",
      "_model_module_version": "^0.14.0",
      "_model_name": "LeafletWidgetControlModel",
      "_view_count": null,
      "_view_module": "jupyter-leaflet",
      "_view_module_version": "^0.14.0",
      "_view_name": "LeafletWidgetControlView",
      "max_height": null,
      "max_width": null,
      "min_height": null,
      "min_width": null,
      "options": [
       "position",
       "transparent_bg"
      ],
      "position": "topleft",
      "transparent_bg": false,
      "widget": "IPY_MODEL_5949cb0ba3de4ec0a1725beff8d1e7ce"
     }
    },
    "bcdf6e7ad24b427ea2533d3ff436653d": {
     "model_module": "jupyter-leaflet",
     "model_module_version": "^0.14.0",
     "model_name": "LeafletScaleControlModel",
     "state": {
      "_model_module": "jupyter-leaflet",
      "_model_module_version": "^0.14.0",
      "_model_name": "LeafletScaleControlModel",
      "_view_count": null,
      "_view_module": "jupyter-leaflet",
      "_view_module_version": "^0.14.0",
      "_view_name": "LeafletScaleControlView",
      "imperial": true,
      "max_width": 100,
      "metric": true,
      "options": [
       "imperial",
       "max_width",
       "metric",
       "position",
       "update_when_idle"
      ],
      "position": "bottomleft",
      "update_when_idle": false
     }
    },
    "c019b9908b724dc1bfb08dcf254642e2": {
     "model_module": "jupyter-leaflet",
     "model_module_version": "^0.14.0",
     "model_name": "LeafletFullScreenControlModel",
     "state": {
      "_model_module": "jupyter-leaflet",
      "_model_module_version": "^0.14.0",
      "_model_name": "LeafletFullScreenControlModel",
      "_view_count": null,
      "_view_module": "jupyter-leaflet",
      "_view_module_version": "^0.14.0",
      "_view_name": "LeafletFullScreenControlView",
      "options": [
       "position"
      ],
      "position": "topleft"
     }
    },
    "c655010128254e2b875860193ff9911b": {
     "model_module": "@jupyter-widgets/controls",
     "model_module_version": "1.5.0",
     "model_name": "VBoxModel",
     "state": {
      "_dom_classes": [],
      "_model_module": "@jupyter-widgets/controls",
      "_model_module_version": "1.5.0",
      "_model_name": "VBoxModel",
      "_view_count": null,
      "_view_module": "@jupyter-widgets/controls",
      "_view_module_version": "1.5.0",
      "_view_name": "VBoxView",
      "box_style": "",
      "children": [
       "IPY_MODEL_fb115c37e1764f8d9e6b830e82639b51"
      ],
      "layout": "IPY_MODEL_77c870da07824b2897afa0aa1cbbc9bb"
     }
    },
    "ca18df0b2e8d4af28fb2d81801733ae1": {
     "model_module": "jupyter-leaflet",
     "model_module_version": "^0.14.0",
     "model_name": "LeafletWidgetControlModel",
     "state": {
      "_model_module": "jupyter-leaflet",
      "_model_module_version": "^0.14.0",
      "_model_name": "LeafletWidgetControlModel",
      "_view_count": null,
      "_view_module": "jupyter-leaflet",
      "_view_module_version": "^0.14.0",
      "_view_name": "LeafletWidgetControlView",
      "max_height": null,
      "max_width": null,
      "min_height": null,
      "min_width": null,
      "options": [
       "position",
       "transparent_bg"
      ],
      "position": "topleft",
      "transparent_bg": false,
      "widget": "IPY_MODEL_de3a08ec70d4429597bfd609bd45e5f5"
     }
    },
    "ca25ac7902c04ba6a29768a6b9fb2ab3": {
     "model_module": "jupyter-leaflet",
     "model_module_version": "^0.14.0",
     "model_name": "LeafletZoomControlModel",
     "state": {
      "_model_module": "jupyter-leaflet",
      "_model_module_version": "^0.14.0",
      "_model_name": "LeafletZoomControlModel",
      "_view_count": null,
      "_view_module": "jupyter-leaflet",
      "_view_module_version": "^0.14.0",
      "_view_name": "LeafletZoomControlView",
      "options": [
       "position",
       "zoom_in_text",
       "zoom_in_title",
       "zoom_out_text",
       "zoom_out_title"
      ],
      "position": "topleft",
      "zoom_in_text": "+",
      "zoom_in_title": "Zoom in",
      "zoom_out_text": "-",
      "zoom_out_title": "Zoom out"
     }
    },
    "cbf7e9232f7a4cbd9e79c3b3adbeea38": {
     "model_module": "jupyter-leaflet",
     "model_module_version": "^0.14.0",
     "model_name": "LeafletAttributionControlModel",
     "state": {
      "_model_module": "jupyter-leaflet",
      "_model_module_version": "^0.14.0",
      "_model_name": "LeafletAttributionControlModel",
      "_view_count": null,
      "_view_module": "jupyter-leaflet",
      "_view_module_version": "^0.14.0",
      "_view_name": "LeafletAttributionControlView",
      "options": [
       "position",
       "prefix"
      ],
      "position": "bottomright",
      "prefix": "ipyleaflet"
     }
    },
    "cc3eea50de4849caadae6e473ed75a6b": {
     "model_module": "jupyter-leaflet",
     "model_module_version": "^0.14.0",
     "model_name": "LeafletMapStyleModel",
     "state": {
      "_model_module": "jupyter-leaflet",
      "_model_module_version": "^0.14.0",
      "_model_name": "LeafletMapStyleModel",
      "_view_count": null,
      "_view_module": "@jupyter-widgets/base",
      "_view_module_version": "1.2.0",
      "_view_name": "StyleView",
      "cursor": "move"
     }
    },
    "d63a3dca0c5e47e49642b479f7283bb6": {
     "model_module": "@jupyter-widgets/base",
     "model_module_version": "1.2.0",
     "model_name": "LayoutModel",
     "state": {
      "_model_module": "@jupyter-widgets/base",
      "_model_module_version": "1.2.0",
      "_model_name": "LayoutModel",
      "_view_count": null,
      "_view_module": "@jupyter-widgets/base",
      "_view_module_version": "1.2.0",
      "_view_name": "LayoutView",
      "align_content": null,
      "align_items": null,
      "align_self": null,
      "border": null,
      "bottom": null,
      "display": null,
      "flex": null,
      "flex_flow": null,
      "grid_area": null,
      "grid_auto_columns": null,
      "grid_auto_flow": null,
      "grid_auto_rows": null,
      "grid_column": null,
      "grid_gap": null,
      "grid_row": null,
      "grid_template_areas": null,
      "grid_template_columns": null,
      "grid_template_rows": null,
      "height": "600px",
      "justify_content": null,
      "justify_items": null,
      "left": null,
      "margin": null,
      "max_height": null,
      "max_width": null,
      "min_height": null,
      "min_width": null,
      "object_fit": null,
      "object_position": null,
      "order": null,
      "overflow": null,
      "overflow_x": null,
      "overflow_y": null,
      "padding": null,
      "right": null,
      "top": null,
      "visibility": null,
      "width": null
     }
    },
    "db01cbb6936b4c69a25b261e2b1aee16": {
     "model_module": "jupyter-leaflet",
     "model_module_version": "^0.14.0",
     "model_name": "LeafletMapStyleModel",
     "state": {
      "_model_module": "jupyter-leaflet",
      "_model_module_version": "^0.14.0",
      "_model_name": "LeafletMapStyleModel",
      "_view_count": null,
      "_view_module": "@jupyter-widgets/base",
      "_view_module_version": "1.2.0",
      "_view_name": "StyleView",
      "cursor": "grab"
     }
    },
    "de3a08ec70d4429597bfd609bd45e5f5": {
     "model_module": "@jupyter-widgets/controls",
     "model_module_version": "1.5.0",
     "model_name": "HBoxModel",
     "state": {
      "_dom_classes": [],
      "_model_module": "@jupyter-widgets/controls",
      "_model_module_version": "1.5.0",
      "_model_name": "HBoxModel",
      "_view_count": null,
      "_view_module": "@jupyter-widgets/controls",
      "_view_module_version": "1.5.0",
      "_view_name": "HBoxView",
      "box_style": "",
      "children": [
       "IPY_MODEL_1d4b6e38743f434aa6fb82fe79d26d0f"
      ],
      "layout": "IPY_MODEL_2616a6d85dd24147bb07b2a4023752f6"
     }
    },
    "dec06adb1eb8481e9fb82a5829d23163": {
     "model_module": "jupyter-leaflet",
     "model_module_version": "^0.14.0",
     "model_name": "LeafletTileLayerModel",
     "state": {
      "_model_module": "jupyter-leaflet",
      "_model_module_version": "^0.14.0",
      "_model_name": "LeafletTileLayerModel",
      "_view_count": null,
      "_view_module": "jupyter-leaflet",
      "_view_module_version": "^0.14.0",
      "_view_name": "LeafletTileLayerView",
      "attribution": "Google Earth Engine",
      "base": false,
      "bottom": true,
      "detect_retina": false,
      "loading": false,
      "max_native_zoom": 18,
      "max_zoom": 24,
      "min_native_zoom": 0,
      "min_zoom": 0,
      "name": "Landsat-7",
      "no_wrap": false,
      "opacity": 1,
      "options": [
       "attribution",
       "detect_retina",
       "max_native_zoom",
       "max_zoom",
       "min_native_zoom",
       "min_zoom",
       "no_wrap",
       "tile_size",
       "tms"
      ],
      "popup": null,
      "popup_max_height": null,
      "popup_max_width": 300,
      "popup_min_width": 50,
      "show_loading": false,
      "tile_size": 256,
      "tms": false,
      "url": "https://earthengine.googleapis.com/v1alpha/projects/earthengine-legacy/maps/625e9c2cea409ab3bf4f0917eb87e6a1-9b6867e21bdfb6bf5154aeda0c87c7e3/tiles/{z}/{x}/{y}",
      "visible": true
     }
    },
    "e060267649884d4caa1061ae92785adc": {
     "model_module": "@jupyter-widgets/base",
     "model_module_version": "1.2.0",
     "model_name": "LayoutModel",
     "state": {
      "_model_module": "@jupyter-widgets/base",
      "_model_module_version": "1.2.0",
      "_model_name": "LayoutModel",
      "_view_count": null,
      "_view_module": "@jupyter-widgets/base",
      "_view_module_version": "1.2.0",
      "_view_name": "LayoutView",
      "align_content": null,
      "align_items": null,
      "align_self": null,
      "border": null,
      "bottom": null,
      "display": null,
      "flex": null,
      "flex_flow": null,
      "grid_area": null,
      "grid_auto_columns": null,
      "grid_auto_flow": null,
      "grid_auto_rows": null,
      "grid_column": null,
      "grid_gap": null,
      "grid_row": null,
      "grid_template_areas": null,
      "grid_template_columns": null,
      "grid_template_rows": null,
      "height": "28px",
      "justify_content": null,
      "justify_items": null,
      "left": null,
      "margin": null,
      "max_height": null,
      "max_width": null,
      "min_height": null,
      "min_width": null,
      "object_fit": null,
      "object_position": null,
      "order": null,
      "overflow": null,
      "overflow_x": null,
      "overflow_y": null,
      "padding": "0px 0px 0px 4px",
      "right": null,
      "top": null,
      "visibility": null,
      "width": "28px"
     }
    },
    "e147f21f46c046f3aa77a7001c0f168b": {
     "model_module": "jupyter-leaflet",
     "model_module_version": "^0.14.0",
     "model_name": "LeafletDrawControlModel",
     "state": {
      "_model_module": "jupyter-leaflet",
      "_model_module_version": "^0.14.0",
      "_model_name": "LeafletDrawControlModel",
      "_view_count": null,
      "_view_module": "jupyter-leaflet",
      "_view_module_version": "^0.14.0",
      "_view_name": "LeafletDrawControlView",
      "circle": {
       "shapeOptions": {
        "color": "#3388ff"
       }
      },
      "circlemarker": {},
      "data": [],
      "edit": true,
      "marker": {
       "shapeOptions": {
        "color": "#3388ff"
       }
      },
      "options": [
       "position"
      ],
      "polygon": {
       "shapeOptions": {}
      },
      "polyline": {
       "shapeOptions": {}
      },
      "position": "topleft",
      "rectangle": {
       "shapeOptions": {
        "color": "#3388ff"
       }
      },
      "remove": true
     }
    },
    "e1662d0099234f50bafb983749014101": {
     "model_module": "@jupyter-widgets/base",
     "model_module_version": "1.2.0",
     "model_name": "LayoutModel",
     "state": {
      "_model_module": "@jupyter-widgets/base",
      "_model_module_version": "1.2.0",
      "_model_name": "LayoutModel",
      "_view_count": null,
      "_view_module": "@jupyter-widgets/base",
      "_view_module_version": "1.2.0",
      "_view_name": "LayoutView",
      "align_content": null,
      "align_items": null,
      "align_self": null,
      "border": null,
      "bottom": null,
      "display": null,
      "flex": null,
      "flex_flow": null,
      "grid_area": null,
      "grid_auto_columns": null,
      "grid_auto_flow": null,
      "grid_auto_rows": null,
      "grid_column": null,
      "grid_gap": null,
      "grid_row": null,
      "grid_template_areas": null,
      "grid_template_columns": null,
      "grid_template_rows": null,
      "height": "600px",
      "justify_content": null,
      "justify_items": null,
      "left": null,
      "margin": null,
      "max_height": null,
      "max_width": null,
      "min_height": null,
      "min_width": null,
      "object_fit": null,
      "object_position": null,
      "order": null,
      "overflow": null,
      "overflow_x": null,
      "overflow_y": null,
      "padding": null,
      "right": null,
      "top": null,
      "visibility": null,
      "width": null
     }
    },
    "eff9814426cd4fed832f5f8799a1faee": {
     "model_module": "jupyter-leaflet",
     "model_module_version": "^0.14.0",
     "model_name": "LeafletMapModel",
     "state": {
      "_dom_classes": [],
      "_dragging": false,
      "_model_module": "jupyter-leaflet",
      "_model_module_version": "^0.14.0",
      "_model_name": "LeafletMapModel",
      "_view_count": null,
      "_view_module": "jupyter-leaflet",
      "_view_module_version": "^0.14.0",
      "_view_name": "LeafletMapView",
      "bottom": 3390,
      "bounce_at_zoom_limits": true,
      "box_zoom": true,
      "center": [
       40.38,
       -100.11
      ],
      "close_popup_on_click": true,
      "controls": [
       "IPY_MODEL_ca18df0b2e8d4af28fb2d81801733ae1",
       "IPY_MODEL_ca25ac7902c04ba6a29768a6b9fb2ab3",
       "IPY_MODEL_bcdf6e7ad24b427ea2533d3ff436653d",
       "IPY_MODEL_9d685508e1024f2ebe18c569a63b0fe5",
       "IPY_MODEL_7adca48dbacf4be49948e185d4be966d",
       "IPY_MODEL_8a1811cd62f5469bab8e513ffdcadf82",
       "IPY_MODEL_e147f21f46c046f3aa77a7001c0f168b",
       "IPY_MODEL_3dbbff44cee74c09a29874f35522c8fc"
      ],
      "crs": {
       "custom": false,
       "name": "EPSG3857"
      },
      "default_style": "IPY_MODEL_add3fa8bfcaa49cd98d3b80edfc21cfc",
      "double_click_zoom": true,
      "dragging": true,
      "dragging_style": "IPY_MODEL_cc3eea50de4849caadae6e473ed75a6b",
      "east": -72.99316406250001,
      "fullscreen": false,
      "inertia": true,
      "inertia_deceleration": 3000,
      "inertia_max_speed": 1500,
      "interpolation": "bilinear",
      "keyboard": true,
      "keyboard_pan_offset": 80,
      "keyboard_zoom_offset": 1,
      "layers": [
       "IPY_MODEL_a86d9afca100440d8930d19ca9fc4c7f",
       "IPY_MODEL_56b1ae46c4b342c0b0ec798b9d3f3f8e",
       "IPY_MODEL_4092c0e5daab4f0dba638aa54004e3be"
      ],
      "layout": "IPY_MODEL_ffe16703dea749fbb7f894869ddf5c85",
      "left": 1200,
      "max_zoom": 24,
      "min_zoom": 1,
      "modisdate": "yesterday",
      "north": 49.66762782262194,
      "options": [
       "bounce_at_zoom_limits",
       "box_zoom",
       "center",
       "close_popup_on_click",
       "double_click_zoom",
       "dragging",
       "fullscreen",
       "inertia",
       "inertia_deceleration",
       "inertia_max_speed",
       "interpolation",
       "keyboard",
       "keyboard_pan_offset",
       "keyboard_zoom_offset",
       "max_zoom",
       "min_zoom",
       "scroll_wheel_zoom",
       "tap",
       "tap_tolerance",
       "touch_zoom",
       "world_copy_jump",
       "zoom",
       "zoom_animation_threshold",
       "zoom_delta",
       "zoom_snap",
       "zoom_start"
      ],
      "right": 2435,
      "scroll_wheel_zoom": true,
      "south": 29.611670115197406,
      "style": "IPY_MODEL_add3fa8bfcaa49cd98d3b80edfc21cfc",
      "tap": true,
      "tap_tolerance": 15,
      "top": 2790,
      "touch_zoom": true,
      "west": -127.26562500000001,
      "window_url": "https://qzh1kly8xj-496ff2e9c6d22116-0-colab.googleusercontent.com/outputframe.html?vrz=colab-20211119-060052-RC02_411328912",
      "world_copy_jump": false,
      "zoom": 5,
      "zoom_animation_threshold": 4,
      "zoom_delta": 1,
      "zoom_snap": 1,
      "zoom_start": 12
     }
    },
    "f38d3a6de8a141669a8c573a13030a73": {
     "model_module": "jupyter-leaflet",
     "model_module_version": "^0.14.0",
     "model_name": "LeafletTileLayerModel",
     "state": {
      "_model_module": "jupyter-leaflet",
      "_model_module_version": "^0.14.0",
      "_model_name": "LeafletTileLayerModel",
      "_view_count": null,
      "_view_module": "jupyter-leaflet",
      "_view_module_version": "^0.14.0",
      "_view_name": "LeafletTileLayerView",
      "attribution": "Map data (c) <a href=\"https://openstreetmap.org\">OpenStreetMap</a> contributors",
      "base": true,
      "bottom": true,
      "detect_retina": false,
      "loading": false,
      "max_native_zoom": 18,
      "max_zoom": 19,
      "min_native_zoom": 0,
      "min_zoom": 1,
      "name": "",
      "no_wrap": false,
      "opacity": 1,
      "options": [
       "attribution",
       "detect_retina",
       "max_native_zoom",
       "max_zoom",
       "min_native_zoom",
       "min_zoom",
       "no_wrap",
       "tile_size",
       "tms"
      ],
      "popup": null,
      "popup_max_height": null,
      "popup_max_width": 300,
      "popup_min_width": 50,
      "show_loading": false,
      "tile_size": 256,
      "tms": false,
      "url": "https://{s}.tile.openstreetmap.org/{z}/{x}/{y}.png",
      "visible": true
     }
    },
    "f89eadc5d002483b91f558e62ffe4956": {
     "model_module": "jupyter-leaflet",
     "model_module_version": "^0.14.0",
     "model_name": "LeafletMeasureControlModel",
     "state": {
      "_custom_units": {},
      "_model_module": "jupyter-leaflet",
      "_model_module_version": "^0.14.0",
      "_model_name": "LeafletMeasureControlModel",
      "_view_count": null,
      "_view_module": "jupyter-leaflet",
      "_view_module_version": "^0.14.0",
      "_view_name": "LeafletMeasureControlView",
      "active_color": "orange",
      "capture_z_index": 10000,
      "completed_color": "#C8F2BE",
      "options": [
       "active_color",
       "capture_z_index",
       "completed_color",
       "popup_options",
       "position",
       "primary_area_unit",
       "primary_length_unit",
       "secondary_area_unit",
       "secondary_length_unit"
      ],
      "popup_options": {
       "autoPanPadding": [
        10,
        10
       ],
       "className": "leaflet-measure-resultpopup"
      },
      "position": "bottomleft",
      "primary_area_unit": "acres",
      "primary_length_unit": "kilometers",
      "secondary_area_unit": null,
      "secondary_length_unit": null
     }
    },
    "f907ee76fdb54bb49c6d7e2bfc10921f": {
     "model_module": "@jupyter-widgets/base",
     "model_module_version": "1.2.0",
     "model_name": "LayoutModel",
     "state": {
      "_model_module": "@jupyter-widgets/base",
      "_model_module_version": "1.2.0",
      "_model_name": "LayoutModel",
      "_view_count": null,
      "_view_module": "@jupyter-widgets/base",
      "_view_module_version": "1.2.0",
      "_view_name": "LayoutView",
      "align_content": null,
      "align_items": null,
      "align_self": null,
      "border": null,
      "bottom": null,
      "display": null,
      "flex": null,
      "flex_flow": null,
      "grid_area": null,
      "grid_auto_columns": null,
      "grid_auto_flow": null,
      "grid_auto_rows": null,
      "grid_column": null,
      "grid_gap": null,
      "grid_row": null,
      "grid_template_areas": null,
      "grid_template_columns": null,
      "grid_template_rows": null,
      "height": "28px",
      "justify_content": null,
      "justify_items": null,
      "left": null,
      "margin": null,
      "max_height": null,
      "max_width": null,
      "min_height": null,
      "min_width": null,
      "object_fit": null,
      "object_position": null,
      "order": null,
      "overflow": null,
      "overflow_x": null,
      "overflow_y": null,
      "padding": "0px 0px 0px 4px",
      "right": null,
      "top": null,
      "visibility": null,
      "width": "28px"
     }
    },
    "fb115c37e1764f8d9e6b830e82639b51": {
     "model_module": "@jupyter-widgets/controls",
     "model_module_version": "1.5.0",
     "model_name": "ToggleButtonModel",
     "state": {
      "_dom_classes": [],
      "_model_module": "@jupyter-widgets/controls",
      "_model_module_version": "1.5.0",
      "_model_name": "ToggleButtonModel",
      "_view_count": null,
      "_view_module": "@jupyter-widgets/controls",
      "_view_module_version": "1.5.0",
      "_view_name": "ToggleButtonView",
      "button_style": "",
      "description": "",
      "description_tooltip": null,
      "disabled": false,
      "icon": "wrench",
      "layout": "IPY_MODEL_5f3431c238c647479ec39a0a7113d9a6",
      "style": "IPY_MODEL_a07c027dbf1142c18c31757774ddc9aa",
      "tooltip": "Toolbar",
      "value": false
     }
    },
    "fd0a95bfbf9649079e32c8f76e4853ed": {
     "model_module": "jupyter-leaflet",
     "model_module_version": "^0.14.0",
     "model_name": "LeafletDrawControlModel",
     "state": {
      "_model_module": "jupyter-leaflet",
      "_model_module_version": "^0.14.0",
      "_model_name": "LeafletDrawControlModel",
      "_view_count": null,
      "_view_module": "jupyter-leaflet",
      "_view_module_version": "^0.14.0",
      "_view_name": "LeafletDrawControlView",
      "circle": {
       "shapeOptions": {
        "color": "#3388ff"
       }
      },
      "circlemarker": {},
      "data": [],
      "edit": true,
      "marker": {
       "shapeOptions": {
        "color": "#3388ff"
       }
      },
      "options": [
       "position"
      ],
      "polygon": {
       "shapeOptions": {}
      },
      "polyline": {
       "shapeOptions": {}
      },
      "position": "topleft",
      "rectangle": {
       "shapeOptions": {
        "color": "#3388ff"
       }
      },
      "remove": true
     }
    },
    "ffe16703dea749fbb7f894869ddf5c85": {
     "model_module": "@jupyter-widgets/base",
     "model_module_version": "1.2.0",
     "model_name": "LayoutModel",
     "state": {
      "_model_module": "@jupyter-widgets/base",
      "_model_module_version": "1.2.0",
      "_model_name": "LayoutModel",
      "_view_count": null,
      "_view_module": "@jupyter-widgets/base",
      "_view_module_version": "1.2.0",
      "_view_name": "LayoutView",
      "align_content": null,
      "align_items": null,
      "align_self": null,
      "border": null,
      "bottom": null,
      "display": null,
      "flex": null,
      "flex_flow": null,
      "grid_area": null,
      "grid_auto_columns": null,
      "grid_auto_flow": null,
      "grid_auto_rows": null,
      "grid_column": null,
      "grid_gap": null,
      "grid_row": null,
      "grid_template_areas": null,
      "grid_template_columns": null,
      "grid_template_rows": null,
      "height": "600px",
      "justify_content": null,
      "justify_items": null,
      "left": null,
      "margin": null,
      "max_height": null,
      "max_width": null,
      "min_height": null,
      "min_width": null,
      "object_fit": null,
      "object_position": null,
      "order": null,
      "overflow": null,
      "overflow_x": null,
      "overflow_y": null,
      "padding": null,
      "right": null,
      "top": null,
      "visibility": null,
      "width": null
     }
    }
   }
  }
 },
 "nbformat": 4,
 "nbformat_minor": 1
}
